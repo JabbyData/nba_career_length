{
 "cells": [
  {
   "cell_type": "code",
   "execution_count": 54,
   "id": "943abe53",
   "metadata": {},
   "outputs": [],
   "source": [
    "# Dependencies\n",
    "\n",
    "# Data Manip\n",
    "import pandas as pd\n",
    "\n",
    "# Linear Algebra\n",
    "import numpy as np\n",
    "\n",
    "# Machine Learning\n",
    "from sklearn.preprocessing import RobustScaler\n",
    "from sklearn.model_selection import StratifiedKFold, train_test_split\n",
    "from models.svc import SVEstimator\n",
    "from models.dummy import DummyEstimator\n",
    "from sklearn.decomposition import PCA\n",
    "\n",
    "# Optimization\n",
    "import optuna\n",
    "from optuna.storages import RDBStorage\n",
    "from functools import partial\n",
    "\n",
    "# System & Files\n",
    "import os\n",
    "import json\n",
    "\n",
    "# Visualization\n",
    "import plotly.graph_objects as go\n",
    "from plotly.subplots import make_subplots\n",
    "from tabulate import tabulate\n",
    "\n",
    "seed = 42\n",
    "np.random.seed(seed)"
   ]
  },
  {
   "cell_type": "code",
   "execution_count": 55,
   "id": "4cebb9ce",
   "metadata": {},
   "outputs": [],
   "source": [
    "# Data collection\n",
    "data_path = \"data/nba_filtered_capped.csv\"\n",
    "df = pd.read_csv(data_path)\n",
    "df = df.drop(columns=\"Name\")"
   ]
  },
  {
   "cell_type": "code",
   "execution_count": 56,
   "id": "190a7507",
   "metadata": {},
   "outputs": [],
   "source": [
    "# Train / Test split\n",
    "target = \"TARGET_5Yrs\"\n",
    "\n",
    "X = df.drop(columns=[target]).values\n",
    "y = df[target].values\n",
    "\n",
    "test_size=0.2\n",
    "X_train, X_test, y_train, y_test = train_test_split(X,y,stratify=y,test_size=test_size,shuffle=True,random_state=seed)\n",
    "\n",
    "# Cross Validation Splitter\n",
    "n_splits = 4 # to get same number of samples within validation fold as in test set\n",
    "splitter = StratifiedKFold(n_splits=n_splits, shuffle=True, random_state=seed) # Keeps same class proportions across sets"
   ]
  },
  {
   "cell_type": "code",
   "execution_count": 57,
   "id": "0fdc110e",
   "metadata": {},
   "outputs": [
    {
     "name": "stderr",
     "output_type": "stream",
     "text": [
      "[I 2025-10-03 13:02:34,123] A new study created in RDB with name: svc_TARGET_5Yrs\n"
     ]
    },
    {
     "name": "stdout",
     "output_type": "stream",
     "text": [
      "Deleted existing study: svc_TARGET_5Yrs\n",
      "Optimizing svc_TARGET_5Yrs...\n"
     ]
    },
    {
     "name": "stderr",
     "output_type": "stream",
     "text": [
      "[I 2025-10-03 13:02:35,054] Trial 10 finished with value: 0.7641551919002667 and parameters: {'C': 0.12109073642673224}. Best is trial 0 with value: 0.7641551919002667.\n",
      "[I 2025-10-03 13:02:35,061] Trial 0 finished with value: 0.7641551919002667 and parameters: {'C': 0.12301491654589806}. Best is trial 0 with value: 0.7641551919002667.\n",
      "[I 2025-10-03 13:02:35,061] Trial 2 finished with value: 0.7699514543769498 and parameters: {'C': 0.2907070839321375}. Best is trial 2 with value: 0.7699514543769498.\n",
      "[I 2025-10-03 13:02:35,086] Trial 6 finished with value: 0.7666021406217158 and parameters: {'C': 0.2151690414848115}. Best is trial 2 with value: 0.7699514543769498.\n",
      "[I 2025-10-03 13:02:35,120] Trial 1 finished with value: 0.7641551919002667 and parameters: {'C': 0.12070165791841357}. Best is trial 2 with value: 0.7699514543769498.\n",
      "[I 2025-10-03 13:02:35,148] Trial 12 finished with value: 0.7689148415832968 and parameters: {'C': 0.3805116532401764}. Best is trial 2 with value: 0.7699514543769498.\n",
      "[I 2025-10-03 13:02:35,150] Trial 7 finished with value: 0.7648095769594556 and parameters: {'C': 0.10640649706682064}. Best is trial 2 with value: 0.7699514543769498.\n",
      "[I 2025-10-03 13:02:35,195] Trial 13 finished with value: 0.7641551919002667 and parameters: {'C': 0.12040395883828679}. Best is trial 2 with value: 0.7699514543769498.\n",
      "[I 2025-10-03 13:02:35,239] Trial 17 finished with value: 0.7699514543769498 and parameters: {'C': 0.31466867886757777}. Best is trial 2 with value: 0.7699514543769498.\n",
      "[I 2025-10-03 13:02:35,310] Trial 22 finished with value: 0.7641551919002667 and parameters: {'C': 0.11679255185111166}. Best is trial 2 with value: 0.7699514543769498.\n",
      "[I 2025-10-03 13:02:35,317] Trial 11 finished with value: 0.7689148415832968 and parameters: {'C': 0.3459148309464114}. Best is trial 2 with value: 0.7699514543769498.\n",
      "[I 2025-10-03 13:02:35,338] Trial 3 finished with value: 0.7630484923748924 and parameters: {'C': 0.13044665328680075}. Best is trial 2 with value: 0.7699514543769498.\n",
      "[I 2025-10-03 13:02:35,349] Trial 18 finished with value: 0.7667558400136225 and parameters: {'C': 0.1420151939132805}. Best is trial 2 with value: 0.7699514543769498.\n",
      "[I 2025-10-03 13:02:35,358] Trial 8 finished with value: 0.7667558400136225 and parameters: {'C': 0.14193318760012624}. Best is trial 2 with value: 0.7699514543769498.\n",
      "[I 2025-10-03 13:02:35,399] Trial 23 finished with value: 0.7661476380011086 and parameters: {'C': 0.18662179871176215}. Best is trial 2 with value: 0.7699514543769498.\n",
      "[I 2025-10-03 13:02:35,405] Trial 20 finished with value: 0.7649310224953743 and parameters: {'C': 0.1339010591750683}. Best is trial 2 with value: 0.7699514543769498.\n",
      "[I 2025-10-03 13:02:35,419] Trial 14 finished with value: 0.7656116873751853 and parameters: {'C': 0.15398959089662978}. Best is trial 2 with value: 0.7699514543769498.\n",
      "[I 2025-10-03 13:02:35,428] Trial 9 finished with value: 0.7666021406217158 and parameters: {'C': 0.2148586124851147}. Best is trial 2 with value: 0.7699514543769498.\n",
      "[I 2025-10-03 13:02:35,455] Trial 4 finished with value: 0.7689148415832968 and parameters: {'C': 0.46440365986659266}. Best is trial 2 with value: 0.7699514543769498.\n",
      "[I 2025-10-03 13:02:35,515] Trial 15 finished with value: 0.7699514543769498 and parameters: {'C': 0.47421471753466854}. Best is trial 2 with value: 0.7699514543769498.\n",
      "[I 2025-10-03 13:02:35,599] Trial 21 finished with value: 0.7672999114915755 and parameters: {'C': 0.18816697214293332}. Best is trial 2 with value: 0.7699514543769498.\n",
      "[I 2025-10-03 13:02:35,633] Trial 16 finished with value: 0.7689148415832968 and parameters: {'C': 0.3568448172439228}. Best is trial 2 with value: 0.7699514543769498.\n",
      "[I 2025-10-03 13:02:35,769] Trial 19 finished with value: 0.7689834411491798 and parameters: {'C': 0.5488778202799331}. Best is trial 2 with value: 0.7699514543769498.\n",
      "[I 2025-10-03 13:02:36,010] Trial 5 finished with value: 0.7678230136780658 and parameters: {'C': 0.6212164059886052}. Best is trial 2 with value: 0.7699514543769498.\n",
      "[I 2025-10-03 13:02:36,041] Trial 24 finished with value: 0.7678230136780658 and parameters: {'C': 0.6218116690391412}. Best is trial 2 with value: 0.7699514543769498.\n",
      "[I 2025-10-03 13:02:36,347] Trial 26 finished with value: 0.7691283368377163 and parameters: {'C': 0.8042917240582415}. Best is trial 2 with value: 0.7699514543769498.\n",
      "[I 2025-10-03 13:02:36,541] Trial 29 finished with value: 0.7670981183212886 and parameters: {'C': 0.8496895570307331}. Best is trial 2 with value: 0.7699514543769498.\n",
      "[I 2025-10-03 13:02:36,553] Trial 25 finished with value: 0.77139660123793 and parameters: {'C': 0.7611389280430197}. Best is trial 25 with value: 0.77139660123793.\n",
      "[I 2025-10-03 13:02:36,597] Trial 33 finished with value: 0.7720589954222524 and parameters: {'C': 0.7161221742351076}. Best is trial 33 with value: 0.7720589954222524.\n",
      "[I 2025-10-03 13:02:36,684] Trial 36 finished with value: 0.7687991808864829 and parameters: {'C': 0.2628454106050915}. Best is trial 33 with value: 0.7720589954222524.\n",
      "[I 2025-10-03 13:02:36,688] Trial 37 finished with value: 0.7720589954222524 and parameters: {'C': 0.7538352255416341}. Best is trial 33 with value: 0.7720589954222524.\n",
      "[I 2025-10-03 13:02:36,792] Trial 28 finished with value: 0.7709067219317856 and parameters: {'C': 0.7869775130995679}. Best is trial 33 with value: 0.7720589954222524.\n",
      "[I 2025-10-03 13:02:36,850] Trial 31 finished with value: 0.7659954130176102 and parameters: {'C': 0.9068711371965027}. Best is trial 33 with value: 0.7720589954222524.\n",
      "[I 2025-10-03 13:02:36,859] Trial 44 finished with value: 0.7687991808864829 and parameters: {'C': 0.2820639504920357}. Best is trial 33 with value: 0.7720589954222524.\n",
      "[I 2025-10-03 13:02:36,868] Trial 27 finished with value: 0.77139660123793 and parameters: {'C': 0.7948208554573897}. Best is trial 33 with value: 0.7720589954222524.\n",
      "[I 2025-10-03 13:02:36,873] Trial 39 finished with value: 0.7709067219317856 and parameters: {'C': 0.6957081130857897}. Best is trial 33 with value: 0.7720589954222524.\n",
      "[I 2025-10-03 13:02:36,901] Trial 34 finished with value: 0.77139660123793 and parameters: {'C': 0.7815216196429013}. Best is trial 33 with value: 0.7720589954222524.\n",
      "[I 2025-10-03 13:02:36,914] Trial 35 finished with value: 0.7670981183212886 and parameters: {'C': 0.8600243855905162}. Best is trial 33 with value: 0.7720589954222524.\n",
      "[I 2025-10-03 13:02:37,069] Trial 43 finished with value: 0.7689276918444223 and parameters: {'C': 0.833048621492076}. Best is trial 33 with value: 0.7720589954222524.\n",
      "[I 2025-10-03 13:02:37,072] Trial 32 finished with value: 0.7670963095444843 and parameters: {'C': 0.9471749093505145}. Best is trial 33 with value: 0.7720589954222524.\n",
      "[I 2025-10-03 13:02:37,117] Trial 48 finished with value: 0.7676387534153688 and parameters: {'C': 0.2725277592492337}. Best is trial 33 with value: 0.7720589954222524.\n",
      "[I 2025-10-03 13:02:37,124] Trial 47 finished with value: 0.7687991808864829 and parameters: {'C': 0.2771444427849518}. Best is trial 33 with value: 0.7720589954222524.\n",
      "[I 2025-10-03 13:02:37,135] Trial 30 finished with value: 0.7670963095444843 and parameters: {'C': 0.963763113187871}. Best is trial 33 with value: 0.7720589954222524.\n",
      "[I 2025-10-03 13:02:37,141] Trial 38 finished with value: 0.7670963095444843 and parameters: {'C': 0.9464074504389856}. Best is trial 33 with value: 0.7720589954222524.\n",
      "[I 2025-10-03 13:02:37,154] Trial 45 finished with value: 0.7659954130176102 and parameters: {'C': 0.8739234190997074}. Best is trial 33 with value: 0.7720589954222524.\n",
      "[I 2025-10-03 13:02:37,190] Trial 40 finished with value: 0.7673424979646897 and parameters: {'C': 0.8163268060316186}. Best is trial 33 with value: 0.7720589954222524.\n",
      "[I 2025-10-03 13:02:37,263] Trial 42 finished with value: 0.7670981183212886 and parameters: {'C': 0.8635923303265506}. Best is trial 33 with value: 0.7720589954222524.\n",
      "[I 2025-10-03 13:02:37,319] Trial 46 finished with value: 0.7670963095444843 and parameters: {'C': 0.9648473553852054}. Best is trial 33 with value: 0.7720589954222524.\n",
      "[I 2025-10-03 13:02:37,567] Trial 41 finished with value: 0.7670963095444843 and parameters: {'C': 0.9799684166235056}. Best is trial 33 with value: 0.7720589954222524.\n",
      "[I 2025-10-03 13:02:37,647] Trial 52 finished with value: 0.7720589954222524 and parameters: {'C': 0.7249785954054425}. Best is trial 33 with value: 0.7720589954222524.\n",
      "[I 2025-10-03 13:02:37,650] Trial 50 finished with value: 0.7677812518906367 and parameters: {'C': 0.9276540121192983}. Best is trial 33 with value: 0.7720589954222524.\n",
      "[I 2025-10-03 13:02:37,975] Trial 55 finished with value: 0.7709067219317856 and parameters: {'C': 0.7064180727246265}. Best is trial 33 with value: 0.7720589954222524.\n",
      "[I 2025-10-03 13:02:38,015] Trial 53 finished with value: 0.7670963095444843 and parameters: {'C': 0.9705930335387177}. Best is trial 33 with value: 0.7720589954222524.\n",
      "[I 2025-10-03 13:02:38,019] Trial 49 finished with value: 0.7709067219317856 and parameters: {'C': 0.6895267566233344}. Best is trial 33 with value: 0.7720589954222524.\n",
      "[I 2025-10-03 13:02:38,056] Trial 51 finished with value: 0.7709067219317856 and parameters: {'C': 0.7333383084922555}. Best is trial 33 with value: 0.7720589954222524.\n",
      "[I 2025-10-03 13:02:38,153] Trial 54 finished with value: 0.7709067219317856 and parameters: {'C': 0.6811760435094659}. Best is trial 33 with value: 0.7720589954222524.\n",
      "[I 2025-10-03 13:02:38,186] Trial 56 finished with value: 0.7702443277474631 and parameters: {'C': 0.6785531442583013}. Best is trial 33 with value: 0.7720589954222524.\n",
      "[I 2025-10-03 13:02:38,201] Trial 59 finished with value: 0.7709067219317856 and parameters: {'C': 0.6923746153330427}. Best is trial 33 with value: 0.7720589954222524.\n",
      "[I 2025-10-03 13:02:38,209] Trial 60 finished with value: 0.7709067219317856 and parameters: {'C': 0.6837031039376147}. Best is trial 33 with value: 0.7720589954222524.\n",
      "[I 2025-10-03 13:02:38,275] Trial 57 finished with value: 0.7709994428939898 and parameters: {'C': 0.7211452117453959}. Best is trial 33 with value: 0.7720589954222524.\n",
      "[I 2025-10-03 13:02:38,281] Trial 58 finished with value: 0.7709067219317856 and parameters: {'C': 0.6957750037965247}. Best is trial 33 with value: 0.7720589954222524.\n",
      "[I 2025-10-03 13:02:38,315] Trial 63 finished with value: 0.7709067219317856 and parameters: {'C': 0.692771419224883}. Best is trial 33 with value: 0.7720589954222524.\n",
      "[I 2025-10-03 13:02:38,335] Trial 66 finished with value: 0.7702443277474631 and parameters: {'C': 0.67331375566344}. Best is trial 33 with value: 0.7720589954222524.\n",
      "[I 2025-10-03 13:02:38,365] Trial 64 finished with value: 0.7709067219317856 and parameters: {'C': 0.7031303273330183}. Best is trial 33 with value: 0.7720589954222524.\n",
      "[I 2025-10-03 13:02:38,478] Trial 61 finished with value: 0.7709067219317856 and parameters: {'C': 0.7142553854713618}. Best is trial 33 with value: 0.7720589954222524.\n",
      "[I 2025-10-03 13:02:38,492] Trial 62 finished with value: 0.7709067219317856 and parameters: {'C': 0.70718548458474}. Best is trial 33 with value: 0.7720589954222524.\n",
      "[I 2025-10-03 13:02:38,499] Trial 67 finished with value: 0.7709067219317856 and parameters: {'C': 0.6950327334152169}. Best is trial 33 with value: 0.7720589954222524.\n",
      "[I 2025-10-03 13:02:38,523] Trial 70 finished with value: 0.7691825840007511 and parameters: {'C': 0.7021045810464082}. Best is trial 33 with value: 0.7720589954222524.\n",
      "[I 2025-10-03 13:02:38,528] Trial 68 finished with value: 0.7720589954222524 and parameters: {'C': 0.7037340560229501}. Best is trial 33 with value: 0.7720589954222524.\n",
      "[I 2025-10-03 13:02:38,604] Trial 72 finished with value: 0.7678230136780658 and parameters: {'C': 0.5639357100996476}. Best is trial 33 with value: 0.7720589954222524.\n",
      "[I 2025-10-03 13:02:38,614] Trial 69 finished with value: 0.7702443277474631 and parameters: {'C': 0.6750886965560937}. Best is trial 33 with value: 0.7720589954222524.\n",
      "[I 2025-10-03 13:02:38,769] Trial 71 finished with value: 0.7698471694035229 and parameters: {'C': 0.6839280279467652}. Best is trial 33 with value: 0.7720589954222524.\n",
      "[I 2025-10-03 13:02:38,920] Trial 65 finished with value: 0.7720589954222524 and parameters: {'C': 0.7193578855136791}. Best is trial 33 with value: 0.7720589954222524.\n",
      "[I 2025-10-03 13:02:38,973] Trial 76 finished with value: 0.7689834411491798 and parameters: {'C': 0.5603965555588544}. Best is trial 33 with value: 0.7720589954222524.\n",
      "[I 2025-10-03 13:02:38,979] Trial 73 finished with value: 0.7720589954222524 and parameters: {'C': 0.7059419276778021}. Best is trial 33 with value: 0.7720589954222524.\n",
      "[I 2025-10-03 13:02:39,009] Trial 75 finished with value: 0.7689834411491798 and parameters: {'C': 0.55995089765347}. Best is trial 33 with value: 0.7720589954222524.\n",
      "[I 2025-10-03 13:02:39,046] Trial 74 finished with value: 0.7678230136780658 and parameters: {'C': 0.5776199423479664}. Best is trial 33 with value: 0.7720589954222524.\n",
      "[I 2025-10-03 13:02:39,321] Trial 80 finished with value: 0.7678230136780658 and parameters: {'C': 0.5446282694717625}. Best is trial 33 with value: 0.7720589954222524.\n",
      "[I 2025-10-03 13:02:39,487] Trial 81 finished with value: 0.7678230136780658 and parameters: {'C': 0.5966310912419507}. Best is trial 33 with value: 0.7720589954222524.\n",
      "[I 2025-10-03 13:02:39,529] Trial 79 finished with value: 0.7678230136780658 and parameters: {'C': 0.559921883321408}. Best is trial 33 with value: 0.7720589954222524.\n",
      "[I 2025-10-03 13:02:39,543] Trial 85 finished with value: 0.7678230136780658 and parameters: {'C': 0.599927753042778}. Best is trial 33 with value: 0.7720589954222524.\n",
      "[I 2025-10-03 13:02:39,545] Trial 82 finished with value: 0.7678230136780658 and parameters: {'C': 0.6100882542449482}. Best is trial 33 with value: 0.7720589954222524.\n",
      "[I 2025-10-03 13:02:39,593] Trial 77 finished with value: 0.7678230136780658 and parameters: {'C': 0.581989174180748}. Best is trial 33 with value: 0.7720589954222524.\n",
      "[I 2025-10-03 13:02:39,608] Trial 83 finished with value: 0.766670740187599 and parameters: {'C': 0.5694093821495936}. Best is trial 33 with value: 0.7720589954222524.\n",
      "[I 2025-10-03 13:02:39,719] Trial 89 finished with value: 0.7678230136780658 and parameters: {'C': 0.5990556941254805}. Best is trial 33 with value: 0.7720589954222524.\n",
      "[I 2025-10-03 13:02:39,736] Trial 87 finished with value: 0.7699514543769498 and parameters: {'C': 0.48085784384301855}. Best is trial 33 with value: 0.7720589954222524.\n",
      "[I 2025-10-03 13:02:39,745] Trial 92 finished with value: 0.7709994428939898 and parameters: {'C': 0.49816593882863996}. Best is trial 33 with value: 0.7720589954222524.\n",
      "[I 2025-10-03 13:02:39,753] Trial 78 finished with value: 0.7678230136780658 and parameters: {'C': 0.588725704718625}. Best is trial 33 with value: 0.7720589954222524.\n",
      "[I 2025-10-03 13:02:39,762] Trial 84 finished with value: 0.768502470576802 and parameters: {'C': 0.6000566884286359}. Best is trial 33 with value: 0.7720589954222524.\n",
      "[I 2025-10-03 13:02:39,782] Trial 90 finished with value: 0.7699514543769498 and parameters: {'C': 0.4875922943120203}. Best is trial 33 with value: 0.7720589954222524.\n",
      "[I 2025-10-03 13:02:39,844] Trial 86 finished with value: 0.7689148415832968 and parameters: {'C': 0.4483766588069561}. Best is trial 33 with value: 0.7720589954222524.\n",
      "[I 2025-10-03 13:02:39,859] Trial 95 finished with value: 0.7709994428939898 and parameters: {'C': 0.5035597084213698}. Best is trial 33 with value: 0.7720589954222524.\n",
      "[I 2025-10-03 13:02:39,911] Trial 94 finished with value: 0.7689148415832968 and parameters: {'C': 0.44621582313385383}. Best is trial 33 with value: 0.7720589954222524.\n",
      "[I 2025-10-03 13:02:39,972] Trial 91 finished with value: 0.7678230136780658 and parameters: {'C': 0.6271790533999396}. Best is trial 33 with value: 0.7720589954222524.\n",
      "[I 2025-10-03 13:02:40,108] Trial 98 finished with value: 0.7699514543769498 and parameters: {'C': 0.4830434043615039}. Best is trial 33 with value: 0.7720589954222524.\n",
      "[I 2025-10-03 13:02:40,114] Trial 96 finished with value: 0.7678230136780658 and parameters: {'C': 0.6115059333390762}. Best is trial 33 with value: 0.7720589954222524.\n",
      "[I 2025-10-03 13:02:40,168] Trial 99 finished with value: 0.7709994428939898 and parameters: {'C': 0.49330997674459787}. Best is trial 33 with value: 0.7720589954222524.\n",
      "[I 2025-10-03 13:02:40,276] Trial 93 finished with value: 0.7699514543769498 and parameters: {'C': 0.4791557581017695}. Best is trial 33 with value: 0.7720589954222524.\n",
      "[I 2025-10-03 13:02:40,316] Trial 88 finished with value: 0.77139660123793 and parameters: {'C': 0.7691485554036269}. Best is trial 33 with value: 0.7720589954222524.\n",
      "[I 2025-10-03 13:02:40,522] Trial 101 finished with value: 0.7702443277474631 and parameters: {'C': 0.7764439281743074}. Best is trial 33 with value: 0.7720589954222524.\n",
      "[I 2025-10-03 13:02:40,534] Trial 97 finished with value: 0.77139660123793 and parameters: {'C': 0.7738215316231248}. Best is trial 33 with value: 0.7720589954222524.\n",
      "[I 2025-10-03 13:02:40,785] Trial 106 finished with value: 0.7691283368377163 and parameters: {'C': 0.7760157110861952}. Best is trial 33 with value: 0.7720589954222524.\n",
      "[I 2025-10-03 13:02:40,797] Trial 103 finished with value: 0.7702443277474631 and parameters: {'C': 0.7801557146942691}. Best is trial 33 with value: 0.7720589954222524.\n",
      "[I 2025-10-03 13:02:40,814] Trial 100 finished with value: 0.7720589954222524 and parameters: {'C': 0.7678085334869263}. Best is trial 33 with value: 0.7720589954222524.\n",
      "[I 2025-10-03 13:02:40,906] Trial 102 finished with value: 0.7698402992088273 and parameters: {'C': 0.7704207456304145}. Best is trial 33 with value: 0.7720589954222524.\n",
      "[I 2025-10-03 13:02:41,003] Trial 108 finished with value: 0.77139660123793 and parameters: {'C': 0.7609463022709059}. Best is trial 33 with value: 0.7720589954222524.\n",
      "[I 2025-10-03 13:02:41,017] Trial 109 finished with value: 0.7702443277474631 and parameters: {'C': 0.7658336807595184}. Best is trial 33 with value: 0.7720589954222524.\n",
      "[I 2025-10-03 13:02:41,028] Trial 105 finished with value: 0.77139660123793 and parameters: {'C': 0.7809306860118972}. Best is trial 33 with value: 0.7720589954222524.\n",
      "[I 2025-10-03 13:02:41,036] Trial 107 finished with value: 0.7709067219317856 and parameters: {'C': 0.7611562839091528}. Best is trial 33 with value: 0.7720589954222524.\n",
      "[I 2025-10-03 13:02:41,050] Trial 104 finished with value: 0.77139660123793 and parameters: {'C': 0.7604741475057574}. Best is trial 33 with value: 0.7720589954222524.\n",
      "[I 2025-10-03 13:02:41,182] Trial 110 finished with value: 0.7709067219317856 and parameters: {'C': 0.7539852417547771}. Best is trial 33 with value: 0.7720589954222524.\n",
      "[I 2025-10-03 13:02:41,189] Trial 114 finished with value: 0.7702443277474631 and parameters: {'C': 0.7920507245300134}. Best is trial 33 with value: 0.7720589954222524.\n",
      "[I 2025-10-03 13:02:41,200] Trial 117 finished with value: 0.7702443277474631 and parameters: {'C': 0.7561382027116604}. Best is trial 33 with value: 0.7720589954222524.\n",
      "[I 2025-10-03 13:02:41,290] Trial 116 finished with value: 0.7691779050245048 and parameters: {'C': 0.7726583009549809}. Best is trial 33 with value: 0.7720589954222524.\n",
      "[I 2025-10-03 13:02:41,292] Trial 113 finished with value: 0.7698402992088273 and parameters: {'C': 0.7736515708314167}. Best is trial 33 with value: 0.7720589954222524.\n",
      "[I 2025-10-03 13:02:41,303] Trial 111 finished with value: 0.7709067219317856 and parameters: {'C': 0.7661955498232547}. Best is trial 33 with value: 0.7720589954222524.\n",
      "[I 2025-10-03 13:02:41,356] Trial 115 finished with value: 0.7702443277474631 and parameters: {'C': 0.7541972064608321}. Best is trial 33 with value: 0.7720589954222524.\n",
      "[I 2025-10-03 13:02:41,435] Trial 118 finished with value: 0.77139660123793 and parameters: {'C': 0.7668757411603583}. Best is trial 33 with value: 0.7720589954222524.\n",
      "[I 2025-10-03 13:02:41,471] Trial 119 finished with value: 0.7702443277474631 and parameters: {'C': 0.7730924081143855}. Best is trial 33 with value: 0.7720589954222524.\n",
      "[I 2025-10-03 13:02:41,488] Trial 120 finished with value: 0.7698402992088273 and parameters: {'C': 0.7692698786887993}. Best is trial 33 with value: 0.7720589954222524.\n",
      "[I 2025-10-03 13:02:41,611] Trial 112 finished with value: 0.7702443277474631 and parameters: {'C': 0.7965450245288865}. Best is trial 33 with value: 0.7720589954222524.\n",
      "[I 2025-10-03 13:02:41,617] Trial 121 finished with value: 0.7720589954222524 and parameters: {'C': 0.7483052002752363}. Best is trial 33 with value: 0.7720589954222524.\n",
      "[I 2025-10-03 13:02:41,718] Trial 123 finished with value: 0.7673501970863351 and parameters: {'C': 0.6437493016585601}. Best is trial 33 with value: 0.7720589954222524.\n",
      "[I 2025-10-03 13:02:41,764] Trial 124 finished with value: 0.7670981183212886 and parameters: {'C': 0.9027789433249558}. Best is trial 33 with value: 0.7720589954222524.\n",
      "[I 2025-10-03 13:02:41,767] Trial 125 finished with value: 0.7673501970863351 and parameters: {'C': 0.6454499782147706}. Best is trial 33 with value: 0.7720589954222524.\n",
      "[I 2025-10-03 13:02:41,777] Trial 122 finished with value: 0.7720589954222524 and parameters: {'C': 0.7454303281760206}. Best is trial 33 with value: 0.7720589954222524.\n",
      "[I 2025-10-03 13:02:42,351] Trial 126 finished with value: 0.7670981183212886 and parameters: {'C': 0.8918453586463609}. Best is trial 33 with value: 0.7720589954222524.\n",
      "[I 2025-10-03 13:02:42,400] Trial 128 finished with value: 0.7670981183212886 and parameters: {'C': 0.8922028196088093}. Best is trial 33 with value: 0.7720589954222524.\n",
      "[I 2025-10-03 13:02:42,410] Trial 136 finished with value: 0.767831167658713 and parameters: {'C': 0.6522855858572347}. Best is trial 33 with value: 0.7720589954222524.\n",
      "[I 2025-10-03 13:02:42,516] Trial 131 finished with value: 0.7670981183212886 and parameters: {'C': 0.9012325636353803}. Best is trial 33 with value: 0.7720589954222524.\n",
      "[I 2025-10-03 13:02:42,519] Trial 130 finished with value: 0.7670981183212886 and parameters: {'C': 0.8964566926750968}. Best is trial 33 with value: 0.7720589954222524.\n",
      "[I 2025-10-03 13:02:42,552] Trial 135 finished with value: 0.7673501970863351 and parameters: {'C': 0.6412006914018067}. Best is trial 33 with value: 0.7720589954222524.\n",
      "[I 2025-10-03 13:02:42,559] Trial 132 finished with value: 0.7670981183212886 and parameters: {'C': 0.8913370211887136}. Best is trial 33 with value: 0.7720589954222524.\n",
      "[I 2025-10-03 13:02:42,590] Trial 137 finished with value: 0.766670740187599 and parameters: {'C': 0.6463561372625092}. Best is trial 33 with value: 0.7720589954222524.\n",
      "[I 2025-10-03 13:02:42,594] Trial 127 finished with value: 0.7670981183212886 and parameters: {'C': 0.8917478098417203}. Best is trial 33 with value: 0.7720589954222524.\n",
      "[I 2025-10-03 13:02:42,618] Trial 134 finished with value: 0.7670981183212886 and parameters: {'C': 0.9006092726592569}. Best is trial 33 with value: 0.7720589954222524.\n",
      "[I 2025-10-03 13:02:42,643] Trial 129 finished with value: 0.7677754183539555 and parameters: {'C': 0.8303565444160875}. Best is trial 33 with value: 0.7720589954222524.\n",
      "[I 2025-10-03 13:02:42,676] Trial 138 finished with value: 0.7670981183212886 and parameters: {'C': 0.8701077916006936}. Best is trial 33 with value: 0.7720589954222524.\n",
      "[I 2025-10-03 13:02:42,718] Trial 140 finished with value: 0.7659954130176102 and parameters: {'C': 0.8780360874429611}. Best is trial 33 with value: 0.7720589954222524.\n",
      "[I 2025-10-03 13:02:42,727] Trial 139 finished with value: 0.7670981183212886 and parameters: {'C': 0.8434244533849738}. Best is trial 33 with value: 0.7720589954222524.\n",
      "[I 2025-10-03 13:02:42,794] Trial 133 finished with value: 0.7670981183212886 and parameters: {'C': 0.8958457729529516}. Best is trial 33 with value: 0.7720589954222524.\n",
      "[I 2025-10-03 13:02:42,954] Trial 146 finished with value: 0.7677754183539555 and parameters: {'C': 0.8368006113591305}. Best is trial 33 with value: 0.7720589954222524.\n",
      "[I 2025-10-03 13:02:42,981] Trial 141 finished with value: 0.7670981183212886 and parameters: {'C': 0.8422821647199776}. Best is trial 33 with value: 0.7720589954222524.\n",
      "[I 2025-10-03 13:02:42,994] Trial 144 finished with value: 0.7684452032683681 and parameters: {'C': 0.8344807713076329}. Best is trial 33 with value: 0.7720589954222524.\n",
      "[I 2025-10-03 13:02:43,028] Trial 142 finished with value: 0.7677754183539555 and parameters: {'C': 0.837217792967043}. Best is trial 33 with value: 0.7720589954222524.\n",
      "[I 2025-10-03 13:02:43,031] Trial 147 finished with value: 0.7666727130502771 and parameters: {'C': 0.834083524918154}. Best is trial 33 with value: 0.7720589954222524.\n",
      "[I 2025-10-03 13:02:43,156] Trial 143 finished with value: 0.7666727130502771 and parameters: {'C': 0.833378989937564}. Best is trial 33 with value: 0.7720589954222524.\n",
      "[I 2025-10-03 13:02:43,227] Trial 149 finished with value: 0.7670981183212886 and parameters: {'C': 0.8404195779635008}. Best is trial 33 with value: 0.7720589954222524.\n",
      "[I 2025-10-03 13:02:43,523] Trial 145 finished with value: 0.7677754183539555 and parameters: {'C': 0.8332604321119266}. Best is trial 33 with value: 0.7720589954222524.\n",
      "[I 2025-10-03 13:02:43,625] Trial 152 finished with value: 0.7720589954222524 and parameters: {'C': 0.7251151714512754}. Best is trial 33 with value: 0.7720589954222524.\n",
      "[I 2025-10-03 13:02:43,632] Trial 151 finished with value: 0.7684452032683681 and parameters: {'C': 0.8270890414661383}. Best is trial 33 with value: 0.7720589954222524.\n",
      "[I 2025-10-03 13:02:43,649] Trial 148 finished with value: 0.7670981183212886 and parameters: {'C': 0.8418677930505855}. Best is trial 33 with value: 0.7720589954222524.\n",
      "[I 2025-10-03 13:02:43,651] Trial 150 finished with value: 0.7684452032683681 and parameters: {'C': 0.8144595358988272}. Best is trial 33 with value: 0.7720589954222524.\n",
      "[I 2025-10-03 13:02:43,699] Trial 154 finished with value: 0.7720589954222524 and parameters: {'C': 0.7204726553924523}. Best is trial 33 with value: 0.7720589954222524.\n",
      "[I 2025-10-03 13:02:43,724] Trial 159 finished with value: 0.7720589954222524 and parameters: {'C': 0.7285604391757569}. Best is trial 33 with value: 0.7720589954222524.\n",
      "[I 2025-10-03 13:02:43,852] Trial 160 finished with value: 0.7720589954222524 and parameters: {'C': 0.7288118669041312}. Best is trial 33 with value: 0.7720589954222524.\n",
      "[I 2025-10-03 13:02:43,853] Trial 155 finished with value: 0.7709067219317856 and parameters: {'C': 0.727946225052079}. Best is trial 33 with value: 0.7720589954222524.\n",
      "[I 2025-10-03 13:02:43,883] Trial 153 finished with value: 0.7709994428939898 and parameters: {'C': 0.7224652031693267}. Best is trial 33 with value: 0.7720589954222524.\n",
      "[I 2025-10-03 13:02:43,892] Trial 156 finished with value: 0.7673424979646897 and parameters: {'C': 0.8172253236037463}. Best is trial 33 with value: 0.7720589954222524.\n",
      "[I 2025-10-03 13:02:43,940] Trial 161 finished with value: 0.7720589954222524 and parameters: {'C': 0.7280991580214448}. Best is trial 33 with value: 0.7720589954222524.\n",
      "[I 2025-10-03 13:02:43,981] Trial 158 finished with value: 0.7720589954222524 and parameters: {'C': 0.7207778165166178}. Best is trial 33 with value: 0.7720589954222524.\n",
      "[I 2025-10-03 13:02:44,041] Trial 157 finished with value: 0.7697907310220388 and parameters: {'C': 0.7317157463788515}. Best is trial 33 with value: 0.7720589954222524.\n",
      "[I 2025-10-03 13:02:44,053] Trial 162 finished with value: 0.7720589954222524 and parameters: {'C': 0.7308878998828339}. Best is trial 33 with value: 0.7720589954222524.\n",
      "[I 2025-10-03 13:02:44,091] Trial 165 finished with value: 0.7697907310220388 and parameters: {'C': 0.7315174642652795}. Best is trial 33 with value: 0.7720589954222524.\n",
      "[I 2025-10-03 13:02:44,120] Trial 167 finished with value: 0.7709430045125056 and parameters: {'C': 0.731172537989848}. Best is trial 33 with value: 0.7720589954222524.\n",
      "[I 2025-10-03 13:02:44,184] Trial 163 finished with value: 0.7720589954222524 and parameters: {'C': 0.7251615043037574}. Best is trial 33 with value: 0.7720589954222524.\n",
      "[I 2025-10-03 13:02:44,241] Trial 171 finished with value: 0.7720589954222524 and parameters: {'C': 0.71511694929528}. Best is trial 33 with value: 0.7720589954222524.\n",
      "[I 2025-10-03 13:02:44,278] Trial 168 finished with value: 0.7720589954222524 and parameters: {'C': 0.7312048567078001}. Best is trial 33 with value: 0.7720589954222524.\n",
      "[I 2025-10-03 13:02:44,287] Trial 164 finished with value: 0.7720589954222524 and parameters: {'C': 0.7272059897391573}. Best is trial 33 with value: 0.7720589954222524.\n",
      "[I 2025-10-03 13:02:44,292] Trial 166 finished with value: 0.7709067219317856 and parameters: {'C': 0.7246489872646166}. Best is trial 33 with value: 0.7720589954222524.\n",
      "[I 2025-10-03 13:02:44,371] Trial 170 finished with value: 0.7709067219317856 and parameters: {'C': 0.7073713959456891}. Best is trial 33 with value: 0.7720589954222524.\n",
      "[I 2025-10-03 13:02:44,744] Trial 172 finished with value: 0.7709067219317856 and parameters: {'C': 0.7272770382111468}. Best is trial 33 with value: 0.7720589954222524.\n",
      "[I 2025-10-03 13:02:44,755] Trial 169 finished with value: 0.7720589954222524 and parameters: {'C': 0.7273856025856853}. Best is trial 33 with value: 0.7720589954222524.\n",
      "[I 2025-10-03 13:02:44,778] Trial 173 finished with value: 0.7709067219317856 and parameters: {'C': 0.7207228987114689}. Best is trial 33 with value: 0.7720589954222524.\n",
      "[I 2025-10-03 13:02:44,943] Trial 175 finished with value: 0.7691825840007511 and parameters: {'C': 0.6694321981569679}. Best is trial 33 with value: 0.7720589954222524.\n",
      "[I 2025-10-03 13:02:44,975] Trial 180 finished with value: 0.7695745428330505 and parameters: {'C': 0.6691416734060777}. Best is trial 33 with value: 0.7720589954222524.\n",
      "[I 2025-10-03 13:02:44,977] Trial 174 finished with value: 0.7702443277474631 and parameters: {'C': 0.686408569747324}. Best is trial 33 with value: 0.7720589954222524.\n",
      "[I 2025-10-03 13:02:45,113] Trial 181 finished with value: 0.7685106245574492 and parameters: {'C': 0.6653206063445934}. Best is trial 33 with value: 0.7720589954222524.\n",
      "[I 2025-10-03 13:02:45,155] Trial 177 finished with value: 0.7685106245574492 and parameters: {'C': 0.666108239322135}. Best is trial 33 with value: 0.7720589954222524.\n",
      "[I 2025-10-03 13:02:45,172] Trial 186 finished with value: 0.7698471694035229 and parameters: {'C': 0.6661361692579333}. Best is trial 33 with value: 0.7720589954222524.\n",
      "[I 2025-10-03 13:02:45,181] Trial 178 finished with value: 0.767831167658713 and parameters: {'C': 0.6630615267474784}. Best is trial 33 with value: 0.7720589954222524.\n",
      "[I 2025-10-03 13:02:45,216] Trial 185 finished with value: 0.7709067219317856 and parameters: {'C': 0.6811595832856886}. Best is trial 33 with value: 0.7720589954222524.\n",
      "[I 2025-10-03 13:02:45,263] Trial 183 finished with value: 0.7702443277474631 and parameters: {'C': 0.6689633281802411}. Best is trial 33 with value: 0.7720589954222524.\n",
      "[I 2025-10-03 13:02:45,345] Trial 182 finished with value: 0.7691825840007511 and parameters: {'C': 0.6710777030703495}. Best is trial 33 with value: 0.7720589954222524.\n",
      "[I 2025-10-03 13:02:45,349] Trial 179 finished with value: 0.7698471694035229 and parameters: {'C': 0.6704498436690208}. Best is trial 33 with value: 0.7720589954222524.\n",
      "[I 2025-10-03 13:02:45,352] Trial 184 finished with value: 0.7691825840007511 and parameters: {'C': 0.6662836965701964}. Best is trial 33 with value: 0.7720589954222524.\n",
      "[I 2025-10-03 13:02:45,357] Trial 176 finished with value: 0.7685106245574492 and parameters: {'C': 0.6637784080700827}. Best is trial 33 with value: 0.7720589954222524.\n",
      "[I 2025-10-03 13:02:45,365] Trial 187 finished with value: 0.767831167658713 and parameters: {'C': 0.6642416946510059}. Best is trial 33 with value: 0.7720589954222524.\n",
      "[I 2025-10-03 13:02:45,376] Trial 190 finished with value: 0.7691825840007511 and parameters: {'C': 0.6726034838355752}. Best is trial 33 with value: 0.7720589954222524.\n",
      "[I 2025-10-03 13:02:45,384] Trial 189 finished with value: 0.7698471694035229 and parameters: {'C': 0.6655092090803277}. Best is trial 33 with value: 0.7720589954222524.\n",
      "[I 2025-10-03 13:02:45,482] Trial 188 finished with value: 0.767831167658713 and parameters: {'C': 0.6572598987633478}. Best is trial 33 with value: 0.7720589954222524.\n",
      "[I 2025-10-03 13:02:45,488] Trial 192 finished with value: 0.7709067219317856 and parameters: {'C': 0.6681098512184896}. Best is trial 33 with value: 0.7720589954222524.\n",
      "[I 2025-10-03 13:02:45,502] Trial 191 finished with value: 0.7709067219317856 and parameters: {'C': 0.6683403064832022}. Best is trial 33 with value: 0.7720589954222524.\n",
      "[I 2025-10-03 13:02:45,593] Trial 193 finished with value: 0.7685106245574492 and parameters: {'C': 0.6633869535208291}. Best is trial 33 with value: 0.7720589954222524.\n",
      "[I 2025-10-03 13:02:45,601] Trial 197 finished with value: 0.7699514543769498 and parameters: {'C': 0.39833848451927173}. Best is trial 33 with value: 0.7720589954222524.\n",
      "[I 2025-10-03 13:02:45,671] Trial 194 finished with value: 0.767831167658713 and parameters: {'C': 0.6625075705337766}. Best is trial 33 with value: 0.7720589954222524.\n",
      "[I 2025-10-03 13:02:45,679] Trial 199 finished with value: 0.7689148415832968 and parameters: {'C': 0.3831523910576063}. Best is trial 33 with value: 0.7720589954222524.\n",
      "[I 2025-10-03 13:02:45,685] Trial 195 finished with value: 0.766670740187599 and parameters: {'C': 0.6314280580858636}. Best is trial 33 with value: 0.7720589954222524.\n",
      "[I 2025-10-03 13:02:45,737] Trial 198 finished with value: 0.766670740187599 and parameters: {'C': 0.6322816434900481}. Best is trial 33 with value: 0.7720589954222524.\n",
      "[I 2025-10-03 13:02:45,753] Trial 196 finished with value: 0.7685106245574492 and parameters: {'C': 0.6665294512704985}. Best is trial 33 with value: 0.7720589954222524.\n",
      "[I 2025-10-03 13:02:45,877] A new study created in RDB with name: svc_pca_TARGET_5Yrs\n"
     ]
    },
    {
     "name": "stdout",
     "output_type": "stream",
     "text": [
      "Best value for svc_TARGET_5Yrs: 0.7720589954222524\n",
      "Deleted existing study: svc_pca_TARGET_5Yrs\n",
      "Optimizing svc_pca_TARGET_5Yrs...\n"
     ]
    },
    {
     "name": "stderr",
     "output_type": "stream",
     "text": [
      "[I 2025-10-03 13:02:46,602] Trial 1 finished with value: 0.7584469379791685 and parameters: {'C': 0.14461567630170524}. Best is trial 1 with value: 0.7584469379791685.\n",
      "[I 2025-10-03 13:02:46,720] Trial 0 finished with value: 0.7590669562048207 and parameters: {'C': 0.21231497311440478}. Best is trial 0 with value: 0.7590669562048207.\n",
      "[I 2025-10-03 13:02:46,838] Trial 9 finished with value: 0.7590669562048207 and parameters: {'C': 0.25357557040471473}. Best is trial 0 with value: 0.7590669562048207.\n",
      "[I 2025-10-03 13:02:46,839] Trial 11 finished with value: 0.7590669562048207 and parameters: {'C': 0.47936322968769757}. Best is trial 0 with value: 0.7590669562048207.\n",
      "[I 2025-10-03 13:02:46,841] Trial 5 finished with value: 0.7584469379791685 and parameters: {'C': 0.6343364599593587}. Best is trial 0 with value: 0.7590669562048207.\n",
      "[I 2025-10-03 13:02:46,855] Trial 4 finished with value: 0.7590669562048207 and parameters: {'C': 0.9948976619986968}. Best is trial 0 with value: 0.7590669562048207.\n",
      "[I 2025-10-03 13:02:47,024] Trial 6 finished with value: 0.7584469379791685 and parameters: {'C': 0.6897358481318806}. Best is trial 0 with value: 0.7590669562048207.\n",
      "[I 2025-10-03 13:02:47,027] Trial 15 finished with value: 0.7584469379791685 and parameters: {'C': 0.41328763147231595}. Best is trial 0 with value: 0.7590669562048207.\n",
      "[I 2025-10-03 13:02:47,114] Trial 3 finished with value: 0.7590669562048207 and parameters: {'C': 0.8063312171651699}. Best is trial 0 with value: 0.7590669562048207.\n",
      "[I 2025-10-03 13:02:47,144] Trial 16 finished with value: 0.7584469379791685 and parameters: {'C': 0.16214958414589087}. Best is trial 0 with value: 0.7590669562048207.\n",
      "[I 2025-10-03 13:02:47,177] Trial 8 finished with value: 0.7590669562048207 and parameters: {'C': 0.13311723943619838}. Best is trial 0 with value: 0.7590669562048207.\n",
      "[I 2025-10-03 13:02:47,202] Trial 12 finished with value: 0.7584469379791685 and parameters: {'C': 0.4244107634021403}. Best is trial 0 with value: 0.7590669562048207.\n",
      "[I 2025-10-03 13:02:47,257] Trial 17 finished with value: 0.7590669562048207 and parameters: {'C': 0.49823525529023166}. Best is trial 0 with value: 0.7590669562048207.\n",
      "[I 2025-10-03 13:02:47,284] Trial 19 finished with value: 0.7590669562048207 and parameters: {'C': 0.29967387364222237}. Best is trial 0 with value: 0.7590669562048207.\n",
      "[I 2025-10-03 13:02:47,292] Trial 18 finished with value: 0.7584469379791685 and parameters: {'C': 0.8811735305283163}. Best is trial 0 with value: 0.7590669562048207.\n",
      "[I 2025-10-03 13:02:47,303] Trial 14 finished with value: 0.7590669562048207 and parameters: {'C': 0.20405069387458868}. Best is trial 0 with value: 0.7590669562048207.\n",
      "[I 2025-10-03 13:02:47,309] Trial 10 finished with value: 0.7590669562048207 and parameters: {'C': 0.8282336862590269}. Best is trial 0 with value: 0.7590669562048207.\n",
      "[I 2025-10-03 13:02:47,354] Trial 20 finished with value: 0.7590669562048207 and parameters: {'C': 0.12126367529171421}. Best is trial 0 with value: 0.7590669562048207.\n",
      "[I 2025-10-03 13:02:47,380] Trial 2 finished with value: 0.7590669562048207 and parameters: {'C': 0.2655976470183988}. Best is trial 0 with value: 0.7590669562048207.\n",
      "[I 2025-10-03 13:02:47,390] Trial 21 finished with value: 0.7584469379791685 and parameters: {'C': 0.16157345333564052}. Best is trial 0 with value: 0.7590669562048207.\n",
      "[I 2025-10-03 13:02:47,437] Trial 7 finished with value: 0.7590669562048207 and parameters: {'C': 0.5454696402266805}. Best is trial 0 with value: 0.7590669562048207.\n",
      "[I 2025-10-03 13:02:47,460] Trial 22 finished with value: 0.7590669562048207 and parameters: {'C': 0.1684101276360144}. Best is trial 0 with value: 0.7590669562048207.\n",
      "[I 2025-10-03 13:02:47,468] Trial 13 finished with value: 0.7590669562048207 and parameters: {'C': 0.9030202661177745}. Best is trial 0 with value: 0.7590669562048207.\n",
      "[I 2025-10-03 13:02:47,560] Trial 23 finished with value: 0.7584469379791685 and parameters: {'C': 0.9303166843343392}. Best is trial 0 with value: 0.7590669562048207.\n",
      "[I 2025-10-03 13:02:47,743] Trial 24 finished with value: 0.7590669562048207 and parameters: {'C': 0.10124357511101624}. Best is trial 0 with value: 0.7590669562048207.\n",
      "[I 2025-10-03 13:02:48,055] Trial 25 finished with value: 0.7590669562048207 and parameters: {'C': 0.24728202820186448}. Best is trial 0 with value: 0.7590669562048207.\n",
      "[I 2025-10-03 13:02:48,104] Trial 30 finished with value: 0.7584469379791685 and parameters: {'C': 0.24459228926951423}. Best is trial 0 with value: 0.7590669562048207.\n",
      "[I 2025-10-03 13:02:48,111] Trial 27 finished with value: 0.7584469379791685 and parameters: {'C': 0.22058518944085767}. Best is trial 0 with value: 0.7590669562048207.\n",
      "[I 2025-10-03 13:02:48,280] Trial 26 finished with value: 0.7584469379791685 and parameters: {'C': 0.222625361347016}. Best is trial 0 with value: 0.7590669562048207.\n",
      "[I 2025-10-03 13:02:48,280] Trial 32 finished with value: 0.7574664440409282 and parameters: {'C': 0.2293472424212129}. Best is trial 0 with value: 0.7590669562048207.\n",
      "[I 2025-10-03 13:02:48,291] Trial 29 finished with value: 0.7584469379791685 and parameters: {'C': 0.22877484610361923}. Best is trial 0 with value: 0.7590669562048207.\n",
      "[I 2025-10-03 13:02:48,303] Trial 36 finished with value: 0.7590669562048207 and parameters: {'C': 0.2256522466997531}. Best is trial 0 with value: 0.7590669562048207.\n",
      "[I 2025-10-03 13:02:48,332] Trial 39 finished with value: 0.7574664440409282 and parameters: {'C': 0.22958221668258194}. Best is trial 0 with value: 0.7590669562048207.\n",
      "[I 2025-10-03 13:02:48,338] Trial 35 finished with value: 0.7584469379791685 and parameters: {'C': 0.22613515315037697}. Best is trial 0 with value: 0.7590669562048207.\n",
      "[I 2025-10-03 13:02:48,341] Trial 28 finished with value: 0.7590669562048207 and parameters: {'C': 0.24654110653930125}. Best is trial 0 with value: 0.7590669562048207.\n",
      "[I 2025-10-03 13:02:48,352] Trial 40 finished with value: 0.7590669562048207 and parameters: {'C': 0.22117501955215946}. Best is trial 0 with value: 0.7590669562048207.\n",
      "[I 2025-10-03 13:02:48,373] Trial 34 finished with value: 0.7584469379791685 and parameters: {'C': 0.24659558767357456}. Best is trial 0 with value: 0.7590669562048207.\n",
      "[I 2025-10-03 13:02:48,377] Trial 37 finished with value: 0.7590669562048207 and parameters: {'C': 0.23469618548706833}. Best is trial 0 with value: 0.7590669562048207.\n",
      "[I 2025-10-03 13:02:48,384] Trial 38 finished with value: 0.7574664440409282 and parameters: {'C': 0.2208798813496688}. Best is trial 0 with value: 0.7590669562048207.\n",
      "[I 2025-10-03 13:02:48,392] Trial 31 finished with value: 0.7584469379791685 and parameters: {'C': 0.26514690606905184}. Best is trial 0 with value: 0.7590669562048207.\n",
      "[I 2025-10-03 13:02:48,437] Trial 42 finished with value: 0.7574664440409282 and parameters: {'C': 0.2368160447234736}. Best is trial 0 with value: 0.7590669562048207.\n",
      "[I 2025-10-03 13:02:48,577] Trial 45 finished with value: 0.7584469379791685 and parameters: {'C': 0.33224509784915723}. Best is trial 0 with value: 0.7590669562048207.\n",
      "[I 2025-10-03 13:02:48,607] Trial 33 finished with value: 0.7590669562048207 and parameters: {'C': 0.32270149476778803}. Best is trial 0 with value: 0.7590669562048207.\n",
      "[I 2025-10-03 13:02:48,615] Trial 44 finished with value: 0.7584469379791685 and parameters: {'C': 0.34006769687104665}. Best is trial 0 with value: 0.7590669562048207.\n",
      "[I 2025-10-03 13:02:48,707] Trial 47 finished with value: 0.7590669562048207 and parameters: {'C': 0.38739536860680185}. Best is trial 0 with value: 0.7590669562048207.\n",
      "[I 2025-10-03 13:02:48,791] Trial 41 finished with value: 0.7584469379791685 and parameters: {'C': 0.2427908661237387}. Best is trial 0 with value: 0.7590669562048207.\n",
      "[I 2025-10-03 13:02:49,199] Trial 50 finished with value: 0.7590669562048207 and parameters: {'C': 0.722191711584214}. Best is trial 0 with value: 0.7590669562048207.\n",
      "[I 2025-10-03 13:02:49,239] Trial 46 finished with value: 0.7584469379791685 and parameters: {'C': 0.6927110708998633}. Best is trial 0 with value: 0.7590669562048207.\n",
      "[I 2025-10-03 13:02:49,266] Trial 56 finished with value: 0.7584469379791685 and parameters: {'C': 0.6510143605625835}. Best is trial 0 with value: 0.7590669562048207.\n",
      "[I 2025-10-03 13:02:49,303] Trial 48 finished with value: 0.7584469379791685 and parameters: {'C': 0.7242036184975585}. Best is trial 0 with value: 0.7590669562048207.\n",
      "[I 2025-10-03 13:02:49,355] Trial 49 finished with value: 0.7574664440409282 and parameters: {'C': 0.6920097995853629}. Best is trial 0 with value: 0.7590669562048207.\n",
      "[I 2025-10-03 13:02:49,388] Trial 54 finished with value: 0.7590669562048207 and parameters: {'C': 0.7377116035560595}. Best is trial 0 with value: 0.7590669562048207.\n",
      "[I 2025-10-03 13:02:49,397] Trial 59 finished with value: 0.7574664440409282 and parameters: {'C': 0.6674255314395514}. Best is trial 0 with value: 0.7590669562048207.\n",
      "[I 2025-10-03 13:02:49,410] Trial 51 finished with value: 0.7584469379791685 and parameters: {'C': 0.7236587842072405}. Best is trial 0 with value: 0.7590669562048207.\n",
      "[I 2025-10-03 13:02:49,434] Trial 43 finished with value: 0.7590669562048207 and parameters: {'C': 0.6878458660641902}. Best is trial 0 with value: 0.7590669562048207.\n",
      "[I 2025-10-03 13:02:49,493] Trial 60 finished with value: 0.7590669562048207 and parameters: {'C': 0.7009118557017858}. Best is trial 0 with value: 0.7590669562048207.\n",
      "[I 2025-10-03 13:02:49,603] Trial 57 finished with value: 0.7590669562048207 and parameters: {'C': 0.7026271207371368}. Best is trial 0 with value: 0.7590669562048207.\n",
      "[I 2025-10-03 13:02:49,607] Trial 52 finished with value: 0.7584469379791685 and parameters: {'C': 0.7282193232989641}. Best is trial 0 with value: 0.7590669562048207.\n",
      "[I 2025-10-03 13:02:49,639] Trial 53 finished with value: 0.7590669562048207 and parameters: {'C': 0.7326028926542164}. Best is trial 0 with value: 0.7590669562048207.\n",
      "[I 2025-10-03 13:02:49,641] Trial 58 finished with value: 0.7584469379791685 and parameters: {'C': 0.7165578467997338}. Best is trial 0 with value: 0.7590669562048207.\n",
      "[I 2025-10-03 13:02:49,694] Trial 62 finished with value: 0.7584469379791685 and parameters: {'C': 0.7026648012145628}. Best is trial 0 with value: 0.7590669562048207.\n",
      "[I 2025-10-03 13:02:49,709] Trial 55 finished with value: 0.7584469379791685 and parameters: {'C': 0.74468883236308}. Best is trial 0 with value: 0.7590669562048207.\n",
      "[I 2025-10-03 13:02:49,798] Trial 66 finished with value: 0.7584469379791685 and parameters: {'C': 0.7221394808246909}. Best is trial 0 with value: 0.7590669562048207.\n",
      "[I 2025-10-03 13:02:49,816] Trial 65 finished with value: 0.7590669562048207 and parameters: {'C': 0.6689557333723686}. Best is trial 0 with value: 0.7590669562048207.\n",
      "[I 2025-10-03 13:02:49,822] Trial 61 finished with value: 0.7584469379791685 and parameters: {'C': 0.7430397449360139}. Best is trial 0 with value: 0.7590669562048207.\n",
      "[I 2025-10-03 13:02:49,867] Trial 63 finished with value: 0.7584469379791685 and parameters: {'C': 0.5687291071782232}. Best is trial 0 with value: 0.7590669562048207.\n",
      "[I 2025-10-03 13:02:49,947] Trial 67 finished with value: 0.7590669562048207 and parameters: {'C': 0.5294566381409371}. Best is trial 0 with value: 0.7590669562048207.\n",
      "[I 2025-10-03 13:02:50,021] Trial 70 finished with value: 0.7590669562048207 and parameters: {'C': 0.5196969554040658}. Best is trial 0 with value: 0.7590669562048207.\n",
      "[I 2025-10-03 13:02:50,074] Trial 64 finished with value: 0.7584469379791685 and parameters: {'C': 0.7211297565434945}. Best is trial 0 with value: 0.7590669562048207.\n",
      "[I 2025-10-03 13:02:50,335] Trial 74 finished with value: 0.7584469379791685 and parameters: {'C': 0.5375916575720417}. Best is trial 0 with value: 0.7590669562048207.\n",
      "[I 2025-10-03 13:02:50,336] Trial 68 finished with value: 0.7590669562048207 and parameters: {'C': 0.6046581407455258}. Best is trial 0 with value: 0.7590669562048207.\n",
      "[I 2025-10-03 13:02:50,377] Trial 71 finished with value: 0.7590669562048207 and parameters: {'C': 0.18794296242554215}. Best is trial 0 with value: 0.7590669562048207.\n",
      "[I 2025-10-03 13:02:50,390] Trial 69 finished with value: 0.7590669562048207 and parameters: {'C': 0.8313286525643987}. Best is trial 0 with value: 0.7590669562048207.\n",
      "[I 2025-10-03 13:02:50,427] Trial 81 finished with value: 0.7590669562048207 and parameters: {'C': 0.19067890616174235}. Best is trial 0 with value: 0.7590669562048207.\n",
      "[I 2025-10-03 13:02:50,434] Trial 76 finished with value: 0.7584469379791685 and parameters: {'C': 0.9902166517037481}. Best is trial 0 with value: 0.7590669562048207.\n",
      "[I 2025-10-03 13:02:50,461] Trial 84 finished with value: 0.7590669562048207 and parameters: {'C': 0.18271633709844484}. Best is trial 0 with value: 0.7590669562048207.\n",
      "[I 2025-10-03 13:02:50,469] Trial 80 finished with value: 0.7590669562048207 and parameters: {'C': 0.1907905473059614}. Best is trial 0 with value: 0.7590669562048207.\n",
      "[I 2025-10-03 13:02:50,497] Trial 72 finished with value: 0.7590669562048207 and parameters: {'C': 0.565258267225143}. Best is trial 0 with value: 0.7590669562048207.\n",
      "[I 2025-10-03 13:02:50,534] Trial 85 finished with value: 0.7590669562048207 and parameters: {'C': 0.2890603498705102}. Best is trial 0 with value: 0.7590669562048207.\n",
      "[I 2025-10-03 13:02:50,585] Trial 87 finished with value: 0.7574664440409282 and parameters: {'C': 0.18924192374293278}. Best is trial 0 with value: 0.7590669562048207.\n",
      "[I 2025-10-03 13:02:50,651] Trial 78 finished with value: 0.7584469379791685 and parameters: {'C': 0.9938368263500658}. Best is trial 0 with value: 0.7590669562048207.\n",
      "[I 2025-10-03 13:02:50,684] Trial 77 finished with value: 0.7590669562048207 and parameters: {'C': 0.9933877286827}. Best is trial 0 with value: 0.7590669562048207.\n",
      "[I 2025-10-03 13:02:50,702] Trial 75 finished with value: 0.7590669562048207 and parameters: {'C': 0.19194000088804855}. Best is trial 0 with value: 0.7590669562048207.\n",
      "[I 2025-10-03 13:02:50,730] Trial 86 finished with value: 0.7590669562048207 and parameters: {'C': 0.19636602982446555}. Best is trial 0 with value: 0.7590669562048207.\n",
      "[I 2025-10-03 13:02:50,741] Trial 73 finished with value: 0.7584469379791685 and parameters: {'C': 0.9898095362695817}. Best is trial 0 with value: 0.7590669562048207.\n",
      "[I 2025-10-03 13:02:50,893] Trial 83 finished with value: 0.7584469379791685 and parameters: {'C': 0.9947215040058517}. Best is trial 0 with value: 0.7590669562048207.\n",
      "[I 2025-10-03 13:02:51,008] Trial 79 finished with value: 0.7590669562048207 and parameters: {'C': 0.9916931456455462}. Best is trial 0 with value: 0.7590669562048207.\n",
      "[I 2025-10-03 13:02:51,070] Trial 93 finished with value: 0.7574664440409282 and parameters: {'C': 0.13583647371428867}. Best is trial 0 with value: 0.7590669562048207.\n",
      "[I 2025-10-03 13:02:51,088] Trial 82 finished with value: 0.7584469379791685 and parameters: {'C': 0.14083222941308707}. Best is trial 0 with value: 0.7590669562048207.\n",
      "[I 2025-10-03 13:02:51,091] Trial 91 finished with value: 0.7590669562048207 and parameters: {'C': 0.14431889576592963}. Best is trial 0 with value: 0.7590669562048207.\n",
      "[I 2025-10-03 13:02:51,113] Trial 95 finished with value: 0.7590669562048207 and parameters: {'C': 0.14163952680493144}. Best is trial 0 with value: 0.7590669562048207.\n",
      "[I 2025-10-03 13:02:51,215] Trial 92 finished with value: 0.7590669562048207 and parameters: {'C': 0.13004878748606558}. Best is trial 0 with value: 0.7590669562048207.\n",
      "[I 2025-10-03 13:02:51,226] Trial 90 finished with value: 0.7574664440409282 and parameters: {'C': 0.13007623637347923}. Best is trial 0 with value: 0.7590669562048207.\n",
      "[I 2025-10-03 13:02:51,245] Trial 89 finished with value: 0.7590669562048207 and parameters: {'C': 0.8268253058025019}. Best is trial 0 with value: 0.7590669562048207.\n",
      "[I 2025-10-03 13:02:51,274] Trial 96 finished with value: 0.7590669562048207 and parameters: {'C': 0.14831858864127326}. Best is trial 0 with value: 0.7590669562048207.\n",
      "[I 2025-10-03 13:02:51,281] Trial 97 finished with value: 0.7590669562048207 and parameters: {'C': 0.13419693688458398}. Best is trial 0 with value: 0.7590669562048207.\n",
      "[I 2025-10-03 13:02:51,320] Trial 94 finished with value: 0.7584469379791685 and parameters: {'C': 0.14237021180884465}. Best is trial 0 with value: 0.7590669562048207.\n",
      "[I 2025-10-03 13:02:51,339] Trial 102 finished with value: 0.7584469379791685 and parameters: {'C': 0.1417871338764441}. Best is trial 0 with value: 0.7590669562048207.\n",
      "[I 2025-10-03 13:02:51,379] Trial 98 finished with value: 0.7584469379791685 and parameters: {'C': 0.1283849901258129}. Best is trial 0 with value: 0.7590669562048207.\n",
      "[I 2025-10-03 13:02:51,433] Trial 88 finished with value: 0.7574664440409282 and parameters: {'C': 0.4399614586793836}. Best is trial 0 with value: 0.7590669562048207.\n",
      "[I 2025-10-03 13:02:51,520] Trial 99 finished with value: 0.7574664440409282 and parameters: {'C': 0.47071092809968945}. Best is trial 0 with value: 0.7590669562048207.\n",
      "[I 2025-10-03 13:02:51,746] Trial 107 finished with value: 0.7590669562048207 and parameters: {'C': 0.2649677861489058}. Best is trial 0 with value: 0.7590669562048207.\n",
      "[I 2025-10-03 13:02:51,801] Trial 100 finished with value: 0.7584469379791685 and parameters: {'C': 0.8685876443388636}. Best is trial 0 with value: 0.7590669562048207.\n",
      "[I 2025-10-03 13:02:51,803] Trial 103 finished with value: 0.7584469379791685 and parameters: {'C': 0.809786400427631}. Best is trial 0 with value: 0.7590669562048207.\n",
      "[I 2025-10-03 13:02:51,826] Trial 109 finished with value: 0.7584469379791685 and parameters: {'C': 0.27306034316760164}. Best is trial 0 with value: 0.7590669562048207.\n",
      "[I 2025-10-03 13:02:51,842] Trial 110 finished with value: 0.7590669562048207 and parameters: {'C': 0.10627215144655135}. Best is trial 0 with value: 0.7590669562048207.\n",
      "[I 2025-10-03 13:02:52,089] Trial 108 finished with value: 0.7590669562048207 and parameters: {'C': 0.2648847870759514}. Best is trial 0 with value: 0.7590669562048207.\n",
      "[I 2025-10-03 13:02:52,163] Trial 112 finished with value: 0.7574664440409282 and parameters: {'C': 0.2612725250167594}. Best is trial 0 with value: 0.7590669562048207.\n",
      "[I 2025-10-03 13:02:52,169] Trial 106 finished with value: 0.7584469379791685 and parameters: {'C': 0.8890454172561875}. Best is trial 0 with value: 0.7590669562048207.\n",
      "[I 2025-10-03 13:02:52,179] Trial 115 finished with value: 0.7574664440409282 and parameters: {'C': 0.26989035649684234}. Best is trial 0 with value: 0.7590669562048207.\n",
      "[I 2025-10-03 13:02:52,190] Trial 104 finished with value: 0.7584469379791685 and parameters: {'C': 0.8937391217395874}. Best is trial 0 with value: 0.7590669562048207.\n",
      "[I 2025-10-03 13:02:52,210] Trial 111 finished with value: 0.7590669562048207 and parameters: {'C': 0.4305935213490916}. Best is trial 0 with value: 0.7590669562048207.\n",
      "[I 2025-10-03 13:02:52,263] Trial 114 finished with value: 0.7584469379791685 and parameters: {'C': 0.3797272711001123}. Best is trial 0 with value: 0.7590669562048207.\n",
      "[I 2025-10-03 13:02:52,394] Trial 120 finished with value: 0.7574664440409282 and parameters: {'C': 0.35778093315963017}. Best is trial 0 with value: 0.7590669562048207.\n",
      "[I 2025-10-03 13:02:52,413] Trial 101 finished with value: 0.7584469379791685 and parameters: {'C': 0.10872551871681826}. Best is trial 0 with value: 0.7590669562048207.\n",
      "[I 2025-10-03 13:02:52,418] Trial 105 finished with value: 0.7584469379791685 and parameters: {'C': 0.45409195639078537}. Best is trial 0 with value: 0.7590669562048207.\n",
      "[I 2025-10-03 13:02:52,423] Trial 113 finished with value: 0.7584469379791685 and parameters: {'C': 0.1085786448971447}. Best is trial 0 with value: 0.7590669562048207.\n",
      "[I 2025-10-03 13:02:52,427] Trial 118 finished with value: 0.7574664440409282 and parameters: {'C': 0.20595090609512326}. Best is trial 0 with value: 0.7590669562048207.\n",
      "[I 2025-10-03 13:02:52,431] Trial 121 finished with value: 0.7584469379791685 and parameters: {'C': 0.3929795020787028}. Best is trial 0 with value: 0.7590669562048207.\n",
      "[I 2025-10-03 13:02:52,526] Trial 119 finished with value: 0.7584469379791685 and parameters: {'C': 0.9080332423588878}. Best is trial 0 with value: 0.7590669562048207.\n",
      "[I 2025-10-03 13:02:52,574] Trial 122 finished with value: 0.7590669562048207 and parameters: {'C': 0.370888934346239}. Best is trial 0 with value: 0.7590669562048207.\n",
      "[I 2025-10-03 13:02:52,631] Trial 123 finished with value: 0.7590669562048207 and parameters: {'C': 0.2115383187145333}. Best is trial 0 with value: 0.7590669562048207.\n",
      "[I 2025-10-03 13:02:52,644] Trial 125 finished with value: 0.7574664440409282 and parameters: {'C': 0.357984764295682}. Best is trial 0 with value: 0.7590669562048207.\n",
      "[I 2025-10-03 13:02:52,724] Trial 116 finished with value: 0.7584469379791685 and parameters: {'C': 0.9136332539250023}. Best is trial 0 with value: 0.7590669562048207.\n",
      "[I 2025-10-03 13:02:52,746] Trial 124 finished with value: 0.7590669562048207 and parameters: {'C': 0.2068366330273543}. Best is trial 0 with value: 0.7590669562048207.\n",
      "[I 2025-10-03 13:02:52,789] Trial 129 finished with value: 0.7574664440409282 and parameters: {'C': 0.20518548855814808}. Best is trial 0 with value: 0.7590669562048207.\n",
      "[I 2025-10-03 13:02:52,841] Trial 117 finished with value: 0.7590669562048207 and parameters: {'C': 0.21195396392759805}. Best is trial 0 with value: 0.7590669562048207.\n",
      "[I 2025-10-03 13:02:52,967] Trial 127 finished with value: 0.7584469379791685 and parameters: {'C': 0.31234216301171264}. Best is trial 0 with value: 0.7590669562048207.\n",
      "[I 2025-10-03 13:02:53,063] Trial 130 finished with value: 0.7590669562048207 and parameters: {'C': 0.3144831713795847}. Best is trial 0 with value: 0.7590669562048207.\n",
      "[I 2025-10-03 13:02:53,106] Trial 126 finished with value: 0.7584469379791685 and parameters: {'C': 0.47676870594116255}. Best is trial 0 with value: 0.7590669562048207.\n",
      "[I 2025-10-03 13:02:53,150] Trial 128 finished with value: 0.7590669562048207 and parameters: {'C': 0.7806078685879352}. Best is trial 0 with value: 0.7590669562048207.\n",
      "[I 2025-10-03 13:02:53,191] Trial 131 finished with value: 0.7590669562048207 and parameters: {'C': 0.4980208970340206}. Best is trial 0 with value: 0.7590669562048207.\n",
      "[I 2025-10-03 13:02:53,242] Trial 137 finished with value: 0.7584469379791685 and parameters: {'C': 0.30805104633844965}. Best is trial 0 with value: 0.7590669562048207.\n",
      "[I 2025-10-03 13:02:53,257] Trial 132 finished with value: 0.7574664440409282 and parameters: {'C': 0.30434976879256226}. Best is trial 0 with value: 0.7590669562048207.\n",
      "[I 2025-10-03 13:02:53,302] Trial 134 finished with value: 0.7584469379791685 and parameters: {'C': 0.28793361405131235}. Best is trial 0 with value: 0.7590669562048207.\n",
      "[I 2025-10-03 13:02:53,433] Trial 141 finished with value: 0.7574664440409282 and parameters: {'C': 0.28913262777289833}. Best is trial 0 with value: 0.7590669562048207.\n",
      "[I 2025-10-03 13:02:53,453] Trial 135 finished with value: 0.7590669562048207 and parameters: {'C': 0.2878899928982206}. Best is trial 0 with value: 0.7590669562048207.\n",
      "[I 2025-10-03 13:02:53,490] Trial 143 finished with value: 0.7590669562048207 and parameters: {'C': 0.17147581976729}. Best is trial 0 with value: 0.7590669562048207.\n",
      "[I 2025-10-03 13:02:53,546] Trial 144 finished with value: 0.7574664440409282 and parameters: {'C': 0.3004197168972831}. Best is trial 0 with value: 0.7590669562048207.\n",
      "[I 2025-10-03 13:02:53,578] Trial 145 finished with value: 0.7574664440409282 and parameters: {'C': 0.3081357208255414}. Best is trial 0 with value: 0.7590669562048207.\n",
      "[I 2025-10-03 13:02:53,595] Trial 146 finished with value: 0.7584469379791685 and parameters: {'C': 0.11601765202699854}. Best is trial 0 with value: 0.7590669562048207.\n",
      "[I 2025-10-03 13:02:53,603] Trial 142 finished with value: 0.7590669562048207 and parameters: {'C': 0.3051493103579332}. Best is trial 0 with value: 0.7590669562048207.\n",
      "[I 2025-10-03 13:02:53,614] Trial 133 finished with value: 0.7590669562048207 and parameters: {'C': 0.2927545193116171}. Best is trial 0 with value: 0.7590669562048207.\n",
      "[I 2025-10-03 13:02:53,621] Trial 140 finished with value: 0.7590669562048207 and parameters: {'C': 0.11863109970265441}. Best is trial 0 with value: 0.7590669562048207.\n",
      "[I 2025-10-03 13:02:53,659] Trial 147 finished with value: 0.7590669562048207 and parameters: {'C': 0.15964741672705504}. Best is trial 0 with value: 0.7590669562048207.\n",
      "[I 2025-10-03 13:02:53,677] Trial 138 finished with value: 0.7574664440409282 and parameters: {'C': 0.7783444379044553}. Best is trial 0 with value: 0.7590669562048207.\n",
      "[I 2025-10-03 13:02:53,731] Trial 148 finished with value: 0.7590669562048207 and parameters: {'C': 0.12250659523271792}. Best is trial 0 with value: 0.7590669562048207.\n",
      "[I 2025-10-03 13:02:53,780] Trial 136 finished with value: 0.7584469379791685 and parameters: {'C': 0.7857120521264583}. Best is trial 0 with value: 0.7590669562048207.\n",
      "[I 2025-10-03 13:02:53,782] Trial 151 finished with value: 0.7584469379791685 and parameters: {'C': 0.17835367610752573}. Best is trial 0 with value: 0.7590669562048207.\n",
      "[I 2025-10-03 13:02:53,830] Trial 149 finished with value: 0.7584469379791685 and parameters: {'C': 0.11482638980692694}. Best is trial 0 with value: 0.7590669562048207.\n",
      "[I 2025-10-03 13:02:53,925] Trial 139 finished with value: 0.7584469379791685 and parameters: {'C': 0.15435915498093422}. Best is trial 0 with value: 0.7590669562048207.\n",
      "[I 2025-10-03 13:02:54,125] Trial 156 finished with value: 0.7590669562048207 and parameters: {'C': 0.2420251484543479}. Best is trial 0 with value: 0.7590669562048207.\n",
      "[I 2025-10-03 13:02:54,352] Trial 158 finished with value: 0.7590669562048207 and parameters: {'C': 0.23489747360984317}. Best is trial 0 with value: 0.7590669562048207.\n",
      "[I 2025-10-03 13:02:54,369] Trial 155 finished with value: 0.7584469379791685 and parameters: {'C': 0.9456777939369275}. Best is trial 0 with value: 0.7590669562048207.\n",
      "[I 2025-10-03 13:02:54,424] Trial 152 finished with value: 0.7584469379791685 and parameters: {'C': 0.24163941219079862}. Best is trial 0 with value: 0.7590669562048207.\n",
      "[I 2025-10-03 13:02:54,474] Trial 154 finished with value: 0.7584469379791685 and parameters: {'C': 0.849110715302072}. Best is trial 0 with value: 0.7590669562048207.\n",
      "[I 2025-10-03 13:02:54,527] Trial 161 finished with value: 0.7590669562048207 and parameters: {'C': 0.6034972423064245}. Best is trial 0 with value: 0.7590669562048207.\n",
      "[I 2025-10-03 13:02:54,533] Trial 150 finished with value: 0.7590669562048207 and parameters: {'C': 0.6014673317214468}. Best is trial 0 with value: 0.7590669562048207.\n",
      "[I 2025-10-03 13:02:54,560] Trial 166 finished with value: 0.7590669562048207 and parameters: {'C': 0.10113597261885482}. Best is trial 0 with value: 0.7590669562048207.\n",
      "[I 2025-10-03 13:02:54,581] Trial 153 finished with value: 0.7584469379791685 and parameters: {'C': 0.600193045853821}. Best is trial 0 with value: 0.7590669562048207.\n",
      "[I 2025-10-03 13:02:54,609] Trial 164 finished with value: 0.7590669562048207 and parameters: {'C': 0.24093175801735486}. Best is trial 0 with value: 0.7590669562048207.\n",
      "[I 2025-10-03 13:02:54,620] Trial 157 finished with value: 0.7590669562048207 and parameters: {'C': 0.2520920578341178}. Best is trial 0 with value: 0.7590669562048207.\n",
      "[I 2025-10-03 13:02:54,645] Trial 162 finished with value: 0.7584469379791685 and parameters: {'C': 0.9434292291944025}. Best is trial 0 with value: 0.7590669562048207.\n",
      "[I 2025-10-03 13:02:54,668] Trial 167 finished with value: 0.7590669562048207 and parameters: {'C': 0.25109494234679086}. Best is trial 0 with value: 0.7590669562048207.\n",
      "[I 2025-10-03 13:02:54,725] Trial 159 finished with value: 0.7584469379791685 and parameters: {'C': 0.10096050090970766}. Best is trial 0 with value: 0.7590669562048207.\n",
      "[I 2025-10-03 13:02:54,734] Trial 160 finished with value: 0.7590669562048207 and parameters: {'C': 0.24070434708559263}. Best is trial 0 with value: 0.7590669562048207.\n",
      "[I 2025-10-03 13:02:54,741] Trial 165 finished with value: 0.7590669562048207 and parameters: {'C': 0.10149501315652998}. Best is trial 0 with value: 0.7590669562048207.\n",
      "[I 2025-10-03 13:02:54,796] Trial 169 finished with value: 0.7590669562048207 and parameters: {'C': 0.10039353783555723}. Best is trial 0 with value: 0.7590669562048207.\n",
      "[I 2025-10-03 13:02:54,810] Trial 170 finished with value: 0.7590669562048207 and parameters: {'C': 0.10237589701393951}. Best is trial 0 with value: 0.7590669562048207.\n",
      "[I 2025-10-03 13:02:54,811] Trial 163 finished with value: 0.7590669562048207 and parameters: {'C': 0.1005230407740274}. Best is trial 0 with value: 0.7590669562048207.\n",
      "[I 2025-10-03 13:02:54,836] Trial 172 finished with value: 0.7590669562048207 and parameters: {'C': 0.10105820922632631}. Best is trial 0 with value: 0.7590669562048207.\n",
      "[I 2025-10-03 13:02:54,978] Trial 174 finished with value: 0.7584469379791685 and parameters: {'C': 0.4103869420595281}. Best is trial 0 with value: 0.7590669562048207.\n",
      "[I 2025-10-03 13:02:55,065] Trial 175 finished with value: 0.7590669562048207 and parameters: {'C': 0.41185669426976274}. Best is trial 0 with value: 0.7590669562048207.\n",
      "[I 2025-10-03 13:02:55,103] Trial 168 finished with value: 0.7590669562048207 and parameters: {'C': 0.5520047352087245}. Best is trial 0 with value: 0.7590669562048207.\n",
      "[I 2025-10-03 13:02:55,169] Trial 171 finished with value: 0.7584469379791685 and parameters: {'C': 0.95561452792839}. Best is trial 0 with value: 0.7590669562048207.\n",
      "[I 2025-10-03 13:02:55,361] Trial 177 finished with value: 0.7590669562048207 and parameters: {'C': 0.1687988408262185}. Best is trial 0 with value: 0.7590669562048207.\n",
      "[I 2025-10-03 13:02:55,364] Trial 176 finished with value: 0.7590669562048207 and parameters: {'C': 0.21971827607846872}. Best is trial 0 with value: 0.7590669562048207.\n",
      "[I 2025-10-03 13:02:55,388] Trial 180 finished with value: 0.7584469379791685 and parameters: {'C': 0.33638081153299343}. Best is trial 0 with value: 0.7590669562048207.\n",
      "[I 2025-10-03 13:02:55,440] Trial 179 finished with value: 0.7590669562048207 and parameters: {'C': 0.21832760235819348}. Best is trial 0 with value: 0.7590669562048207.\n",
      "[I 2025-10-03 13:02:55,467] Trial 181 finished with value: 0.7590669562048207 and parameters: {'C': 0.21829189901732304}. Best is trial 0 with value: 0.7590669562048207.\n",
      "[I 2025-10-03 13:02:55,536] Trial 173 finished with value: 0.7590669562048207 and parameters: {'C': 0.22847445174057313}. Best is trial 0 with value: 0.7590669562048207.\n",
      "[I 2025-10-03 13:02:55,537] Trial 182 finished with value: 0.7590669562048207 and parameters: {'C': 0.33725501080905573}. Best is trial 0 with value: 0.7590669562048207.\n",
      "[I 2025-10-03 13:02:55,616] Trial 185 finished with value: 0.7590669562048207 and parameters: {'C': 0.21975376102313895}. Best is trial 0 with value: 0.7590669562048207.\n",
      "[I 2025-10-03 13:02:55,618] Trial 184 finished with value: 0.7584469379791685 and parameters: {'C': 0.2249949888242427}. Best is trial 0 with value: 0.7590669562048207.\n",
      "[I 2025-10-03 13:02:55,623] Trial 191 finished with value: 0.7590669562048207 and parameters: {'C': 0.2238497830277358}. Best is trial 0 with value: 0.7590669562048207.\n",
      "[I 2025-10-03 13:02:55,667] Trial 183 finished with value: 0.7590669562048207 and parameters: {'C': 0.2787340636819674}. Best is trial 0 with value: 0.7590669562048207.\n",
      "[I 2025-10-03 13:02:55,778] Trial 190 finished with value: 0.7590669562048207 and parameters: {'C': 0.22134278515332304}. Best is trial 0 with value: 0.7590669562048207.\n",
      "[I 2025-10-03 13:02:55,827] Trial 188 finished with value: 0.7590669562048207 and parameters: {'C': 0.33496920411466913}. Best is trial 0 with value: 0.7590669562048207.\n",
      "[I 2025-10-03 13:02:55,830] Trial 189 finished with value: 0.7590669562048207 and parameters: {'C': 0.2749659804351692}. Best is trial 0 with value: 0.7590669562048207.\n",
      "[I 2025-10-03 13:02:55,874] Trial 193 finished with value: 0.7590669562048207 and parameters: {'C': 0.22920833926600215}. Best is trial 0 with value: 0.7590669562048207.\n",
      "[I 2025-10-03 13:02:55,884] Trial 187 finished with value: 0.7590669562048207 and parameters: {'C': 0.2782508221337082}. Best is trial 0 with value: 0.7590669562048207.\n",
      "[I 2025-10-03 13:02:55,889] Trial 194 finished with value: 0.7574664440409282 and parameters: {'C': 0.27967441309550195}. Best is trial 0 with value: 0.7590669562048207.\n",
      "[I 2025-10-03 13:02:55,910] Trial 186 finished with value: 0.7590669562048207 and parameters: {'C': 0.2749045265648829}. Best is trial 0 with value: 0.7590669562048207.\n",
      "[I 2025-10-03 13:02:55,979] Trial 195 finished with value: 0.7590669562048207 and parameters: {'C': 0.27960572814403806}. Best is trial 0 with value: 0.7590669562048207.\n",
      "[I 2025-10-03 13:02:56,023] Trial 178 finished with value: 0.7584469379791685 and parameters: {'C': 0.26090899410002566}. Best is trial 0 with value: 0.7590669562048207.\n",
      "[I 2025-10-03 13:02:56,030] Trial 197 finished with value: 0.7574664440409282 and parameters: {'C': 0.27692881349870796}. Best is trial 0 with value: 0.7590669562048207.\n",
      "[I 2025-10-03 13:02:56,046] Trial 192 finished with value: 0.7584469379791685 and parameters: {'C': 0.26043369446088527}. Best is trial 0 with value: 0.7590669562048207.\n",
      "[I 2025-10-03 13:02:56,082] Trial 199 finished with value: 0.7584469379791685 and parameters: {'C': 0.25597191071218145}. Best is trial 0 with value: 0.7590669562048207.\n",
      "[I 2025-10-03 13:02:56,088] Trial 198 finished with value: 0.7574664440409282 and parameters: {'C': 0.25683925522686074}. Best is trial 0 with value: 0.7590669562048207.\n",
      "[I 2025-10-03 13:02:56,110] Trial 196 finished with value: 0.7590669562048207 and parameters: {'C': 0.5146235458988814}. Best is trial 0 with value: 0.7590669562048207.\n"
     ]
    },
    {
     "name": "stdout",
     "output_type": "stream",
     "text": [
      "Best value for svc_pca_TARGET_5Yrs: 0.7590669562048207\n"
     ]
    }
   ],
   "source": [
    "# Fine-tuning\n",
    "\n",
    "beta = 0.5\n",
    "n_components = 0.99\n",
    "scaler_type = \"robust\"\n",
    "n_trials = 200\n",
    "\n",
    "args = {\n",
    "    \"svc\": {\n",
    "        \"model\": \"svc\",\n",
    "        \"kernel\": \"linear\", # best empirical kernel\n",
    "        \"C_min\": 0.1,\n",
    "        \"C_max\": 1,\n",
    "        # \"gamma_min\": 1e-4,\n",
    "        # \"gamma_max\": 10,\n",
    "        # \"degree_min\": 1,\n",
    "        # \"degree_max\": 3,\n",
    "        # \"coef0_min\": -10,\n",
    "        # \"coef0_max\": 10,\n",
    "        \"class_weight\": \"balanced\",\n",
    "        \"random_state\": seed,\n",
    "        \"beta\": beta,\n",
    "        \"n_trials\": n_trials,\n",
    "        \"cv_folds\": n_splits,\n",
    "        \"scaler_type\": scaler_type,\n",
    "        \"pca_level\": None,\n",
    "    },\n",
    "    \"svc_pca\": {\n",
    "        \"model\": \"svc_pca\",\n",
    "        \"kernel\": \"linear\",\n",
    "        \"C_min\": 0.1,\n",
    "        \"C_max\": 1,\n",
    "        # \"gamma_min\": 1e-4,\n",
    "        # \"gamma_max\": 10,\n",
    "        # \"degree_min\": 1,\n",
    "        # \"degree_max\": 3,\n",
    "        # \"coef0_min\": -10,\n",
    "        # \"coef0_max\": 10,\n",
    "        \"class_weight\": \"balanced\",\n",
    "        \"random_state\": seed,\n",
    "        \"beta\": beta,\n",
    "        \"n_trials\": n_trials,\n",
    "        \"cv_folds\": n_splits,\n",
    "        \"scaler_type\": scaler_type,\n",
    "        \"pca_level\": n_components,\n",
    "    }\n",
    "}\n",
    "\n",
    "\n",
    "def objective(trial, args: dict, X_train: np.array, y_train: np.array):\n",
    "    model_name = args[\"model\"]\n",
    "    if model_name in [\"svc\",\"svc_pca\"]:\n",
    "        h_params = args.copy()\n",
    "        # h_params[\"kernel\"] = trial.suggest_categorical(\"kernel\", [\"linear\", \"rbf\", \"sigmoid\"])\n",
    "        h_params[\"kernel\"] = args[\"kernel\"] # best empirical kernel\n",
    "        h_params[\"C\"] = trial.suggest_float(\"C\", args[\"C_min\"], args[\"C_max\"], log=True)\n",
    "        if args[\"scaler_type\"] == \"robust\":\n",
    "            h_params[\"scaler\"] = RobustScaler()\n",
    "        if args[\"pca_level\"] is not None:\n",
    "            h_params[\"pca\"] = PCA(n_components=args[\"pca_level\"],random_state=h_params[\"random_state\"])\n",
    "        else:\n",
    "            h_params[\"pca\"] = None\n",
    "\n",
    "    else:\n",
    "        raise NotImplementedError(f\"Objective function not developped for model {model_name}\")\n",
    "    \n",
    "    return cv_score(model_name, h_params, X_train, y_train)\n",
    "\n",
    "def cv_score(model_name: str, h_params: dict, X_train: np.array, y_train: np.array):\n",
    "    if model_name in [\"svc\",\"svc_pca\"]:\n",
    "        model = SVEstimator(h_params)\n",
    "        score = model.cross_validate(X_train, y_train)\n",
    "        return score\n",
    "    else:\n",
    "        raise NotImplementedError(f\"Scoring function not developped for model {model_name}\")\n",
    "\n",
    "\n",
    "storage_url = \"sqlite:///db.sqlite3\"\n",
    "storage = RDBStorage(url=storage_url)\n",
    "\n",
    "# Run optimization for both SVC configurations\n",
    "for config_name, config_args in args.items():\n",
    "    study_name = config_args[\"model\"] + \"_\" + target\n",
    "    \n",
    "    # Delete existing study if it exists\n",
    "    studies = storage.get_all_studies()\n",
    "    if any(s.study_name == study_name for s in studies):\n",
    "        optuna.delete_study(study_name=study_name, storage=storage_url)\n",
    "        print(f\"Deleted existing study: {study_name}\")\n",
    "    \n",
    "    # Create new study\n",
    "    study = optuna.create_study(\n",
    "        storage=storage_url,\n",
    "        study_name=study_name,\n",
    "        direction=\"maximize\",\n",
    "        sampler=optuna.samplers.TPESampler(seed=seed)\n",
    "    )\n",
    "    \n",
    "    # Create partial objective function with current configuration\n",
    "    objective_partial = partial(\n",
    "        objective,\n",
    "        args=config_args,\n",
    "        X_train=X_train,\n",
    "        y_train=y_train,\n",
    "    )\n",
    "    \n",
    "    # Run optimization\n",
    "    print(f\"Optimizing {study_name}...\")\n",
    "    study.optimize(objective_partial, n_trials=config_args[\"n_trials\"], n_jobs=-1)\n",
    "    print(f\"Best value for {study_name}: {study.best_value}\")"
   ]
  },
  {
   "cell_type": "code",
   "execution_count": 58,
   "id": "789e3145",
   "metadata": {},
   "outputs": [
    {
     "name": "stdout",
     "output_type": "stream",
     "text": [
      "svc\n",
      "Best CV score: 0.7721\n",
      "svc_pca\n",
      "Best CV score: 0.7591\n"
     ]
    }
   ],
   "source": [
    "# Best models details\n",
    "best_configs = {}\n",
    "\n",
    "study_names = [\"svc_TARGET_5Yrs\", \"svc_pca_TARGET_5Yrs\"]\n",
    "\n",
    "for study_name in study_names:\n",
    "    name = \"_\".join(study_name.split(\"_\")[:-2])\n",
    "    print(name)\n",
    "    study = optuna.load_study(study_name=study_name, storage=storage_url)\n",
    "    best_configs[name] = study.best_params\n",
    "    cv_score = study.best_value\n",
    "    print(f\"Best CV score: {cv_score:.4f}\")"
   ]
  },
  {
   "cell_type": "code",
   "execution_count": 59,
   "id": "4de0bb3b",
   "metadata": {},
   "outputs": [
    {
     "name": "stdout",
     "output_type": "stream",
     "text": [
      "Dummy CV Score: 0.6750\n",
      "SVC CV Score: 0.7721\n",
      "SVC+PCA CV Score: 0.7591\n"
     ]
    },
    {
     "data": {
      "application/vnd.plotly.v1+json": {
       "config": {
        "plotlyServerURL": "https://plot.ly"
       },
       "data": [
        {
         "legendgroup": "Dummy",
         "line": {
          "color": "red"
         },
         "mode": "lines+markers",
         "name": "Dummy",
         "showlegend": true,
         "type": "scatter",
         "x": [
          1,
          2,
          3,
          4
         ],
         "xaxis": "x",
         "y": [
          0.6243523316062176,
          0.6243523316062176,
          0.6248382923673997,
          0.6235446313065977
         ],
         "yaxis": "y"
        },
        {
         "legendgroup": "Dummy",
         "line": {
          "color": "red"
         },
         "mode": "lines+markers",
         "name": "Dummy Train Recall",
         "showlegend": false,
         "type": "scatter",
         "x": [
          1,
          2,
          3,
          4
         ],
         "xaxis": "x2",
         "y": [
          1,
          1,
          1,
          1
         ],
         "yaxis": "y2"
        },
        {
         "legendgroup": "Dummy",
         "line": {
          "color": "red"
         },
         "mode": "lines+markers",
         "name": "Dummy Train F0.5",
         "showlegend": false,
         "type": "scatter",
         "x": [
          1,
          2,
          3,
          4
         ],
         "xaxis": "x3",
         "y": [
          0.6750700280112045,
          0.6750700280112045,
          0.6755244755244755,
          0.6743144935646335
         ],
         "yaxis": "y3"
        },
        {
         "legendgroup": "Dummy",
         "line": {
          "color": "red"
         },
         "mode": "lines+markers",
         "name": "Dummy Valid Precision",
         "showlegend": false,
         "type": "scatter",
         "x": [
          1,
          2,
          3,
          4
         ],
         "xaxis": "x4",
         "y": [
          0.624031007751938,
          0.624031007751938,
          0.622568093385214,
          0.6264591439688716
         ],
         "yaxis": "y4"
        },
        {
         "legendgroup": "Dummy",
         "line": {
          "color": "red"
         },
         "mode": "lines+markers",
         "name": "Dummy Valid Recall",
         "showlegend": false,
         "type": "scatter",
         "x": [
          1,
          2,
          3,
          4
         ],
         "xaxis": "x5",
         "y": [
          1,
          1,
          1,
          1
         ],
         "yaxis": "y5"
        },
        {
         "legendgroup": "Dummy",
         "line": {
          "color": "red"
         },
         "mode": "lines+markers",
         "name": "Dummy Valid F0.5",
         "showlegend": false,
         "type": "scatter",
         "x": [
          1,
          2,
          3,
          4
         ],
         "xaxis": "x6",
         "y": [
          0.6747694886839899,
          0.6747694886839899,
          0.6734006734006734,
          0.6770395290159799
         ],
         "yaxis": "y6"
        },
        {
         "legendgroup": "SVC",
         "line": {
          "color": "blue"
         },
         "mode": "lines+markers",
         "name": "SVC",
         "showlegend": true,
         "type": "scatter",
         "x": [
          1,
          2,
          3,
          4
         ],
         "xaxis": "x",
         "y": [
          0.7901234567901234,
          0.8196286472148541,
          0.8224543080939948,
          0.7994987468671679
         ],
         "yaxis": "y"
        },
        {
         "legendgroup": "SVC",
         "line": {
          "color": "blue"
         },
         "mode": "lines+markers",
         "name": "SVC Train Recall",
         "showlegend": false,
         "type": "scatter",
         "x": [
          1,
          2,
          3,
          4
         ],
         "xaxis": "x2",
         "y": [
          0.6639004149377593,
          0.6410788381742739,
          0.6521739130434783,
          0.6618257261410788
         ],
         "yaxis": "y2"
        },
        {
         "legendgroup": "SVC",
         "line": {
          "color": "blue"
         },
         "mode": "lines+markers",
         "name": "SVC Train F0.5",
         "showlegend": false,
         "type": "scatter",
         "x": [
          1,
          2,
          3,
          4
         ],
         "xaxis": "x3",
         "y": [
          0.7611798287345385,
          0.7763819095477387,
          0.7816377171215881,
          0.7675649663137633
         ],
         "yaxis": "y3"
        },
        {
         "legendgroup": "SVC",
         "line": {
          "color": "blue"
         },
         "mode": "lines+markers",
         "name": "SVC Valid Precision",
         "showlegend": false,
         "type": "scatter",
         "x": [
          1,
          2,
          3,
          4
         ],
         "xaxis": "x4",
         "y": [
          0.7943262411347518,
          0.8294573643410853,
          0.7857142857142857,
          0.8203125
         ],
         "yaxis": "y4"
        },
        {
         "legendgroup": "SVC",
         "line": {
          "color": "blue"
         },
         "mode": "lines+markers",
         "name": "SVC Valid Recall",
         "showlegend": false,
         "type": "scatter",
         "x": [
          1,
          2,
          3,
          4
         ],
         "xaxis": "x5",
         "y": [
          0.6956521739130435,
          0.6645962732919255,
          0.61875,
          0.6521739130434783
         ],
         "yaxis": "y5"
        },
        {
         "legendgroup": "SVC",
         "line": {
          "color": "blue"
         },
         "mode": "lines+markers",
         "name": "SVC Valid F0.5",
         "showlegend": false,
         "type": "scatter",
         "x": [
          1,
          2,
          3,
          4
         ],
         "xaxis": "x6",
         "y": [
          0.7724137931034483,
          0.7902511078286558,
          0.7454819277108434,
          0.7800891530460624
         ],
         "yaxis": "y6"
        },
        {
         "legendgroup": "SVC+PCA",
         "line": {
          "color": "green"
         },
         "mode": "lines+markers",
         "name": "SVC+PCA",
         "showlegend": true,
         "type": "scatter",
         "x": [
          1,
          2,
          3,
          4
         ],
         "xaxis": "x",
         "y": [
          0.78125,
          0.7811764705882352,
          0.7918660287081339,
          0.7828162291169452
         ],
         "yaxis": "y"
        },
        {
         "legendgroup": "SVC+PCA",
         "line": {
          "color": "green"
         },
         "mode": "lines+markers",
         "name": "SVC+PCA Train Recall",
         "showlegend": false,
         "type": "scatter",
         "x": [
          1,
          2,
          3,
          4
         ],
         "xaxis": "x2",
         "y": [
          0.6742738589211619,
          0.6887966804979253,
          0.6853002070393375,
          0.6804979253112033
         ],
         "yaxis": "y2"
        },
        {
         "legendgroup": "SVC+PCA",
         "line": {
          "color": "green"
         },
         "mode": "lines+markers",
         "name": "SVC+PCA Train F0.5",
         "showlegend": false,
         "type": "scatter",
         "x": [
          1,
          2,
          3,
          4
         ],
         "xaxis": "x3",
         "y": [
          0.7572227399813607,
          0.7607699358386801,
          0.7679814385150812,
          0.7599629286376274
         ],
         "yaxis": "y3"
        },
        {
         "legendgroup": "SVC+PCA",
         "line": {
          "color": "green"
         },
         "mode": "lines+markers",
         "name": "SVC+PCA Valid Precision",
         "showlegend": false,
         "type": "scatter",
         "x": [
          1,
          2,
          3,
          4
         ],
         "xaxis": "x4",
         "y": [
          0.7741935483870968,
          0.7916666666666666,
          0.7596899224806202,
          0.7928571428571428
         ],
         "yaxis": "y4"
        },
        {
         "legendgroup": "SVC+PCA",
         "line": {
          "color": "green"
         },
         "mode": "lines+markers",
         "name": "SVC+PCA Valid Recall",
         "showlegend": false,
         "type": "scatter",
         "x": [
          1,
          2,
          3,
          4
         ],
         "xaxis": "x5",
         "y": [
          0.7453416149068323,
          0.7080745341614907,
          0.6125,
          0.6894409937888198
         ],
         "yaxis": "y5"
        },
        {
         "legendgroup": "SVC+PCA",
         "line": {
          "color": "green"
         },
         "mode": "lines+markers",
         "name": "SVC+PCA Valid F0.5",
         "showlegend": false,
         "type": "scatter",
         "x": [
          1,
          2,
          3,
          4
         ],
         "xaxis": "x6",
         "y": [
          0.7682458386683739,
          0.7734056987788331,
          0.7248520710059172,
          0.7697642163661581
         ],
         "yaxis": "y6"
        }
       ],
       "layout": {
        "annotations": [
         {
          "font": {
           "size": 16
          },
          "showarrow": false,
          "text": "Precision",
          "x": 0.1411111111111111,
          "xanchor": "center",
          "xref": "paper",
          "y": 1,
          "yanchor": "bottom",
          "yref": "paper"
         },
         {
          "font": {
           "size": 16
          },
          "showarrow": false,
          "text": "Recall",
          "x": 0.49,
          "xanchor": "center",
          "xref": "paper",
          "y": 1,
          "yanchor": "bottom",
          "yref": "paper"
         },
         {
          "font": {
           "size": 16
          },
          "showarrow": false,
          "text": "F0.5 Score",
          "x": 0.8388888888888888,
          "xanchor": "center",
          "xref": "paper",
          "y": 1,
          "yanchor": "bottom",
          "yref": "paper"
         },
         {
          "font": {
           "size": 16
          },
          "showarrow": false,
          "text": "Train",
          "textangle": 90,
          "x": 0.98,
          "xanchor": "left",
          "xref": "paper",
          "y": 0.775,
          "yanchor": "middle",
          "yref": "paper"
         },
         {
          "font": {
           "size": 16
          },
          "showarrow": false,
          "text": "Validation",
          "textangle": 90,
          "x": 0.98,
          "xanchor": "left",
          "xref": "paper",
          "y": 0.225,
          "yanchor": "middle",
          "yref": "paper"
         }
        ],
        "height": 600,
        "template": {
         "data": {
          "bar": [
           {
            "error_x": {
             "color": "#2a3f5f"
            },
            "error_y": {
             "color": "#2a3f5f"
            },
            "marker": {
             "line": {
              "color": "#E5ECF6",
              "width": 0.5
             },
             "pattern": {
              "fillmode": "overlay",
              "size": 10,
              "solidity": 0.2
             }
            },
            "type": "bar"
           }
          ],
          "barpolar": [
           {
            "marker": {
             "line": {
              "color": "#E5ECF6",
              "width": 0.5
             },
             "pattern": {
              "fillmode": "overlay",
              "size": 10,
              "solidity": 0.2
             }
            },
            "type": "barpolar"
           }
          ],
          "carpet": [
           {
            "aaxis": {
             "endlinecolor": "#2a3f5f",
             "gridcolor": "white",
             "linecolor": "white",
             "minorgridcolor": "white",
             "startlinecolor": "#2a3f5f"
            },
            "baxis": {
             "endlinecolor": "#2a3f5f",
             "gridcolor": "white",
             "linecolor": "white",
             "minorgridcolor": "white",
             "startlinecolor": "#2a3f5f"
            },
            "type": "carpet"
           }
          ],
          "choropleth": [
           {
            "colorbar": {
             "outlinewidth": 0,
             "ticks": ""
            },
            "type": "choropleth"
           }
          ],
          "contour": [
           {
            "colorbar": {
             "outlinewidth": 0,
             "ticks": ""
            },
            "colorscale": [
             [
              0,
              "#0d0887"
             ],
             [
              0.1111111111111111,
              "#46039f"
             ],
             [
              0.2222222222222222,
              "#7201a8"
             ],
             [
              0.3333333333333333,
              "#9c179e"
             ],
             [
              0.4444444444444444,
              "#bd3786"
             ],
             [
              0.5555555555555556,
              "#d8576b"
             ],
             [
              0.6666666666666666,
              "#ed7953"
             ],
             [
              0.7777777777777778,
              "#fb9f3a"
             ],
             [
              0.8888888888888888,
              "#fdca26"
             ],
             [
              1,
              "#f0f921"
             ]
            ],
            "type": "contour"
           }
          ],
          "contourcarpet": [
           {
            "colorbar": {
             "outlinewidth": 0,
             "ticks": ""
            },
            "type": "contourcarpet"
           }
          ],
          "heatmap": [
           {
            "colorbar": {
             "outlinewidth": 0,
             "ticks": ""
            },
            "colorscale": [
             [
              0,
              "#0d0887"
             ],
             [
              0.1111111111111111,
              "#46039f"
             ],
             [
              0.2222222222222222,
              "#7201a8"
             ],
             [
              0.3333333333333333,
              "#9c179e"
             ],
             [
              0.4444444444444444,
              "#bd3786"
             ],
             [
              0.5555555555555556,
              "#d8576b"
             ],
             [
              0.6666666666666666,
              "#ed7953"
             ],
             [
              0.7777777777777778,
              "#fb9f3a"
             ],
             [
              0.8888888888888888,
              "#fdca26"
             ],
             [
              1,
              "#f0f921"
             ]
            ],
            "type": "heatmap"
           }
          ],
          "histogram": [
           {
            "marker": {
             "pattern": {
              "fillmode": "overlay",
              "size": 10,
              "solidity": 0.2
             }
            },
            "type": "histogram"
           }
          ],
          "histogram2d": [
           {
            "colorbar": {
             "outlinewidth": 0,
             "ticks": ""
            },
            "colorscale": [
             [
              0,
              "#0d0887"
             ],
             [
              0.1111111111111111,
              "#46039f"
             ],
             [
              0.2222222222222222,
              "#7201a8"
             ],
             [
              0.3333333333333333,
              "#9c179e"
             ],
             [
              0.4444444444444444,
              "#bd3786"
             ],
             [
              0.5555555555555556,
              "#d8576b"
             ],
             [
              0.6666666666666666,
              "#ed7953"
             ],
             [
              0.7777777777777778,
              "#fb9f3a"
             ],
             [
              0.8888888888888888,
              "#fdca26"
             ],
             [
              1,
              "#f0f921"
             ]
            ],
            "type": "histogram2d"
           }
          ],
          "histogram2dcontour": [
           {
            "colorbar": {
             "outlinewidth": 0,
             "ticks": ""
            },
            "colorscale": [
             [
              0,
              "#0d0887"
             ],
             [
              0.1111111111111111,
              "#46039f"
             ],
             [
              0.2222222222222222,
              "#7201a8"
             ],
             [
              0.3333333333333333,
              "#9c179e"
             ],
             [
              0.4444444444444444,
              "#bd3786"
             ],
             [
              0.5555555555555556,
              "#d8576b"
             ],
             [
              0.6666666666666666,
              "#ed7953"
             ],
             [
              0.7777777777777778,
              "#fb9f3a"
             ],
             [
              0.8888888888888888,
              "#fdca26"
             ],
             [
              1,
              "#f0f921"
             ]
            ],
            "type": "histogram2dcontour"
           }
          ],
          "mesh3d": [
           {
            "colorbar": {
             "outlinewidth": 0,
             "ticks": ""
            },
            "type": "mesh3d"
           }
          ],
          "parcoords": [
           {
            "line": {
             "colorbar": {
              "outlinewidth": 0,
              "ticks": ""
             }
            },
            "type": "parcoords"
           }
          ],
          "pie": [
           {
            "automargin": true,
            "type": "pie"
           }
          ],
          "scatter": [
           {
            "fillpattern": {
             "fillmode": "overlay",
             "size": 10,
             "solidity": 0.2
            },
            "type": "scatter"
           }
          ],
          "scatter3d": [
           {
            "line": {
             "colorbar": {
              "outlinewidth": 0,
              "ticks": ""
             }
            },
            "marker": {
             "colorbar": {
              "outlinewidth": 0,
              "ticks": ""
             }
            },
            "type": "scatter3d"
           }
          ],
          "scattercarpet": [
           {
            "marker": {
             "colorbar": {
              "outlinewidth": 0,
              "ticks": ""
             }
            },
            "type": "scattercarpet"
           }
          ],
          "scattergeo": [
           {
            "marker": {
             "colorbar": {
              "outlinewidth": 0,
              "ticks": ""
             }
            },
            "type": "scattergeo"
           }
          ],
          "scattergl": [
           {
            "marker": {
             "colorbar": {
              "outlinewidth": 0,
              "ticks": ""
             }
            },
            "type": "scattergl"
           }
          ],
          "scattermap": [
           {
            "marker": {
             "colorbar": {
              "outlinewidth": 0,
              "ticks": ""
             }
            },
            "type": "scattermap"
           }
          ],
          "scattermapbox": [
           {
            "marker": {
             "colorbar": {
              "outlinewidth": 0,
              "ticks": ""
             }
            },
            "type": "scattermapbox"
           }
          ],
          "scatterpolar": [
           {
            "marker": {
             "colorbar": {
              "outlinewidth": 0,
              "ticks": ""
             }
            },
            "type": "scatterpolar"
           }
          ],
          "scatterpolargl": [
           {
            "marker": {
             "colorbar": {
              "outlinewidth": 0,
              "ticks": ""
             }
            },
            "type": "scatterpolargl"
           }
          ],
          "scatterternary": [
           {
            "marker": {
             "colorbar": {
              "outlinewidth": 0,
              "ticks": ""
             }
            },
            "type": "scatterternary"
           }
          ],
          "surface": [
           {
            "colorbar": {
             "outlinewidth": 0,
             "ticks": ""
            },
            "colorscale": [
             [
              0,
              "#0d0887"
             ],
             [
              0.1111111111111111,
              "#46039f"
             ],
             [
              0.2222222222222222,
              "#7201a8"
             ],
             [
              0.3333333333333333,
              "#9c179e"
             ],
             [
              0.4444444444444444,
              "#bd3786"
             ],
             [
              0.5555555555555556,
              "#d8576b"
             ],
             [
              0.6666666666666666,
              "#ed7953"
             ],
             [
              0.7777777777777778,
              "#fb9f3a"
             ],
             [
              0.8888888888888888,
              "#fdca26"
             ],
             [
              1,
              "#f0f921"
             ]
            ],
            "type": "surface"
           }
          ],
          "table": [
           {
            "cells": {
             "fill": {
              "color": "#EBF0F8"
             },
             "line": {
              "color": "white"
             }
            },
            "header": {
             "fill": {
              "color": "#C8D4E3"
             },
             "line": {
              "color": "white"
             }
            },
            "type": "table"
           }
          ]
         },
         "layout": {
          "annotationdefaults": {
           "arrowcolor": "#2a3f5f",
           "arrowhead": 0,
           "arrowwidth": 1
          },
          "autotypenumbers": "strict",
          "coloraxis": {
           "colorbar": {
            "outlinewidth": 0,
            "ticks": ""
           }
          },
          "colorscale": {
           "diverging": [
            [
             0,
             "#8e0152"
            ],
            [
             0.1,
             "#c51b7d"
            ],
            [
             0.2,
             "#de77ae"
            ],
            [
             0.3,
             "#f1b6da"
            ],
            [
             0.4,
             "#fde0ef"
            ],
            [
             0.5,
             "#f7f7f7"
            ],
            [
             0.6,
             "#e6f5d0"
            ],
            [
             0.7,
             "#b8e186"
            ],
            [
             0.8,
             "#7fbc41"
            ],
            [
             0.9,
             "#4d9221"
            ],
            [
             1,
             "#276419"
            ]
           ],
           "sequential": [
            [
             0,
             "#0d0887"
            ],
            [
             0.1111111111111111,
             "#46039f"
            ],
            [
             0.2222222222222222,
             "#7201a8"
            ],
            [
             0.3333333333333333,
             "#9c179e"
            ],
            [
             0.4444444444444444,
             "#bd3786"
            ],
            [
             0.5555555555555556,
             "#d8576b"
            ],
            [
             0.6666666666666666,
             "#ed7953"
            ],
            [
             0.7777777777777778,
             "#fb9f3a"
            ],
            [
             0.8888888888888888,
             "#fdca26"
            ],
            [
             1,
             "#f0f921"
            ]
           ],
           "sequentialminus": [
            [
             0,
             "#0d0887"
            ],
            [
             0.1111111111111111,
             "#46039f"
            ],
            [
             0.2222222222222222,
             "#7201a8"
            ],
            [
             0.3333333333333333,
             "#9c179e"
            ],
            [
             0.4444444444444444,
             "#bd3786"
            ],
            [
             0.5555555555555556,
             "#d8576b"
            ],
            [
             0.6666666666666666,
             "#ed7953"
            ],
            [
             0.7777777777777778,
             "#fb9f3a"
            ],
            [
             0.8888888888888888,
             "#fdca26"
            ],
            [
             1,
             "#f0f921"
            ]
           ]
          },
          "colorway": [
           "#636efa",
           "#EF553B",
           "#00cc96",
           "#ab63fa",
           "#FFA15A",
           "#19d3f3",
           "#FF6692",
           "#B6E880",
           "#FF97FF",
           "#FECB52"
          ],
          "font": {
           "color": "#2a3f5f"
          },
          "geo": {
           "bgcolor": "white",
           "lakecolor": "white",
           "landcolor": "#E5ECF6",
           "showlakes": true,
           "showland": true,
           "subunitcolor": "white"
          },
          "hoverlabel": {
           "align": "left"
          },
          "hovermode": "closest",
          "mapbox": {
           "style": "light"
          },
          "paper_bgcolor": "white",
          "plot_bgcolor": "#E5ECF6",
          "polar": {
           "angularaxis": {
            "gridcolor": "white",
            "linecolor": "white",
            "ticks": ""
           },
           "bgcolor": "#E5ECF6",
           "radialaxis": {
            "gridcolor": "white",
            "linecolor": "white",
            "ticks": ""
           }
          },
          "scene": {
           "xaxis": {
            "backgroundcolor": "#E5ECF6",
            "gridcolor": "white",
            "gridwidth": 2,
            "linecolor": "white",
            "showbackground": true,
            "ticks": "",
            "zerolinecolor": "white"
           },
           "yaxis": {
            "backgroundcolor": "#E5ECF6",
            "gridcolor": "white",
            "gridwidth": 2,
            "linecolor": "white",
            "showbackground": true,
            "ticks": "",
            "zerolinecolor": "white"
           },
           "zaxis": {
            "backgroundcolor": "#E5ECF6",
            "gridcolor": "white",
            "gridwidth": 2,
            "linecolor": "white",
            "showbackground": true,
            "ticks": "",
            "zerolinecolor": "white"
           }
          },
          "shapedefaults": {
           "line": {
            "color": "#2a3f5f"
           }
          },
          "ternary": {
           "aaxis": {
            "gridcolor": "white",
            "linecolor": "white",
            "ticks": ""
           },
           "baxis": {
            "gridcolor": "white",
            "linecolor": "white",
            "ticks": ""
           },
           "bgcolor": "#E5ECF6",
           "caxis": {
            "gridcolor": "white",
            "linecolor": "white",
            "ticks": ""
           }
          },
          "title": {
           "x": 0.05
          },
          "xaxis": {
           "automargin": true,
           "gridcolor": "white",
           "linecolor": "white",
           "ticks": "",
           "title": {
            "standoff": 15
           },
           "zerolinecolor": "white",
           "zerolinewidth": 2
          },
          "yaxis": {
           "automargin": true,
           "gridcolor": "white",
           "linecolor": "white",
           "ticks": "",
           "title": {
            "standoff": 15
           },
           "zerolinecolor": "white",
           "zerolinewidth": 2
          }
         }
        },
        "title": {
         "text": "Cross-Validation Metrics Across Folds"
        },
        "width": 1500,
        "xaxis": {
         "anchor": "y",
         "domain": [
          0,
          0.2822222222222222
         ],
         "title": {
          "text": "Fold"
         }
        },
        "xaxis2": {
         "anchor": "y2",
         "domain": [
          0.34888888888888886,
          0.6311111111111111
         ],
         "title": {
          "text": "Fold"
         }
        },
        "xaxis3": {
         "anchor": "y3",
         "domain": [
          0.6977777777777777,
          0.98
         ],
         "title": {
          "text": "Fold"
         }
        },
        "xaxis4": {
         "anchor": "y4",
         "domain": [
          0,
          0.2822222222222222
         ],
         "title": {
          "text": "Fold"
         }
        },
        "xaxis5": {
         "anchor": "y5",
         "domain": [
          0.34888888888888886,
          0.6311111111111111
         ],
         "title": {
          "text": "Fold"
         }
        },
        "xaxis6": {
         "anchor": "y6",
         "domain": [
          0.6977777777777777,
          0.98
         ],
         "title": {
          "text": "Fold"
         }
        },
        "yaxis": {
         "anchor": "x",
         "domain": [
          0.55,
          1
         ],
         "title": {
          "text": "Score"
         }
        },
        "yaxis2": {
         "anchor": "x2",
         "domain": [
          0.55,
          1
         ],
         "title": {
          "text": "Score"
         }
        },
        "yaxis3": {
         "anchor": "x3",
         "domain": [
          0.55,
          1
         ],
         "title": {
          "text": "Score"
         }
        },
        "yaxis4": {
         "anchor": "x4",
         "domain": [
          0,
          0.45
         ],
         "title": {
          "text": "Score"
         }
        },
        "yaxis5": {
         "anchor": "x5",
         "domain": [
          0,
          0.45
         ],
         "title": {
          "text": "Score"
         }
        },
        "yaxis6": {
         "anchor": "x6",
         "domain": [
          0,
          0.45
         ],
         "title": {
          "text": "Score"
         }
        }
       }
      }
     },
     "metadata": {},
     "output_type": "display_data"
    }
   ],
   "source": [
    "# Instantiate estimators and cross validate\n",
    "dummy_params = {\n",
    "    \"strategy\": \"most_frequent\",\n",
    "    \"random_state\": seed,\n",
    "    \"cv_folds\": n_splits,\n",
    "    \"beta\": beta,\n",
    "}\n",
    "dummy = DummyEstimator(dummy_params)\n",
    "dummy_score = dummy.cross_validate(X_train, y_train)\n",
    "\n",
    "# SVC without PCA\n",
    "svc_params = best_configs['svc']\n",
    "svc_params.update({\n",
    "    \"kernel\": args['svc'][\"kernel\"],\n",
    "    \"class_weight\": args['svc'][\"class_weight\"],\n",
    "    \"random_state\": seed,\n",
    "    \"cv_folds\": n_splits,\n",
    "    \"beta\": beta,\n",
    "    \"pca\": None,\n",
    "})\n",
    "if args[\"svc\"][\"scaler_type\"] == \"robust\":\n",
    "    svc_params[\"scaler\"] = RobustScaler() \n",
    "\n",
    "svc = SVEstimator(svc_params)\n",
    "svc_score = svc.cross_validate(X_train, y_train)\n",
    "\n",
    "# SVC with PCA\n",
    "svc_pca_params = best_configs['svc_pca']\n",
    "svc_pca_params.update({\n",
    "    \"kernel\": args['svc_pca'][\"kernel\"],\n",
    "    \"class_weight\": args['svc_pca'][\"class_weight\"],\n",
    "    \"random_state\": seed,\n",
    "    \"cv_folds\": n_splits,\n",
    "    \"beta\": beta,\n",
    "})\n",
    "if args[\"svc_pca\"][\"scaler_type\"] == \"robust\":\n",
    "    svc_pca_params[\"scaler\"] = RobustScaler()\n",
    "\n",
    "if args[\"svc_pca\"][\"pca_level\"] is not None:\n",
    "    svc_pca_params[\"pca\"] = PCA(n_components=args[\"svc_pca\"][\"pca_level\"], random_state=args[\"svc_pca\"][\"random_state\"])\n",
    "\n",
    "svc_pca = SVEstimator(svc_pca_params)\n",
    "svc_pca_score = svc_pca.cross_validate(X_train, y_train)\n",
    "\n",
    "print(f\"Dummy CV Score: {dummy_score:.4f}\")\n",
    "print(f\"SVC CV Score: {svc_score:.4f}\")\n",
    "print(f\"SVC+PCA CV Score: {svc_pca_score:.4f}\")\n",
    "\n",
    "# Create metrics visualization across folds\n",
    "fig = make_subplots(\n",
    "    rows=2, cols=3,\n",
    "    subplot_titles=('Precision', 'Recall', f'F{beta} Score'),\n",
    "    row_titles=['Train', 'Validation'],\n",
    "    vertical_spacing=0.1\n",
    ")\n",
    "\n",
    "models = {'Dummy': dummy, 'SVC': svc, 'SVC+PCA': svc_pca}\n",
    "colors = {'Dummy': 'red', 'SVC': 'blue', 'SVC+PCA': 'green'}\n",
    "\n",
    "for model_name, model in models.items():\n",
    "    color = colors[model_name]\n",
    "    \n",
    "    # Train metrics\n",
    "    fig.add_trace(\n",
    "        go.Scatter(x=list(range(1, n_splits+1)), \n",
    "                  y=model.cv_scores['train']['precision'],\n",
    "                  mode='lines+markers', \n",
    "                  name=f'{model_name}',\n",
    "                  line=dict(color=color),\n",
    "                  legendgroup=model_name,\n",
    "                  showlegend=True),\n",
    "        row=1, col=1\n",
    "    )\n",
    "    \n",
    "    fig.add_trace(\n",
    "        go.Scatter(x=list(range(1, n_splits+1)), \n",
    "                  y=model.cv_scores['train']['recall'],\n",
    "                  mode='lines+markers', \n",
    "                  name=f'{model_name} Train Recall',\n",
    "                  line=dict(color=color),\n",
    "                  legendgroup=model_name,\n",
    "                  showlegend=False),\n",
    "        row=1, col=2\n",
    "    )\n",
    "    \n",
    "    fig.add_trace(\n",
    "        go.Scatter(x=list(range(1, n_splits+1)), \n",
    "                  y=model.cv_scores['train'][f'F{beta}'],\n",
    "                  mode='lines+markers', \n",
    "                  name=f'{model_name} Train F{beta}',\n",
    "                  line=dict(color=color),\n",
    "                  legendgroup=model_name,\n",
    "                  showlegend=False),\n",
    "        row=1, col=3\n",
    "    )\n",
    "    \n",
    "    # Validation metrics\n",
    "    fig.add_trace(\n",
    "        go.Scatter(x=list(range(1, n_splits+1)), \n",
    "                  y=model.cv_scores['valid']['precision'],\n",
    "                  mode='lines+markers', \n",
    "                  name=f'{model_name} Valid Precision',\n",
    "                  line=dict(color=color),\n",
    "                  legendgroup=model_name,\n",
    "                  showlegend=False),\n",
    "        row=2, col=1\n",
    "    )\n",
    "    \n",
    "    fig.add_trace(\n",
    "        go.Scatter(x=list(range(1, n_splits+1)), \n",
    "                  y=model.cv_scores['valid']['recall'],\n",
    "                  mode='lines+markers', \n",
    "                  name=f'{model_name} Valid Recall',\n",
    "                  line=dict(color=color),\n",
    "                  legendgroup=model_name,\n",
    "                  showlegend=False),\n",
    "        row=2, col=2\n",
    "    )\n",
    "    \n",
    "    fig.add_trace(\n",
    "        go.Scatter(x=list(range(1, n_splits+1)), \n",
    "                  y=model.cv_scores['valid'][f'F{beta}'],\n",
    "                  mode='lines+markers', \n",
    "                  name=f'{model_name} Valid F{beta}',\n",
    "                  line=dict(color=color),\n",
    "                  legendgroup=model_name,\n",
    "                  showlegend=False),\n",
    "        row=2, col=3\n",
    "    )\n",
    "\n",
    "fig.update_xaxes(title_text=\"Fold\")\n",
    "fig.update_yaxes(title_text=\"Score\")\n",
    "fig.update_layout(height=600, width=1500, title=\"Cross-Validation Metrics Across Folds\")\n",
    "fig.show()"
   ]
  },
  {
   "cell_type": "markdown",
   "id": "1fd695f9",
   "metadata": {},
   "source": [
    "0) Small differnece in metrics compared to OPTUNA experiment \n",
    "1) SVC models are outperforming dummy classifier !\n",
    "2) No over-fitting : metrics consistent across folds + small gaps between train and validation scores.\n",
    "3) PCA is helping to improve model to focus on recall but not on precision : not really useful in our setting (beta < 1)"
   ]
  },
  {
   "cell_type": "code",
   "execution_count": 60,
   "id": "e592a277",
   "metadata": {},
   "outputs": [
    {
     "name": "stdout",
     "output_type": "stream",
     "text": [
      "Best configuration saved to: models/params/svc.json\n"
     ]
    }
   ],
   "source": [
    "# Saving best configs\n",
    "best_config = svc_params.copy()\n",
    "best_config.pop(\"scaler\")\n",
    "best_config[\"scaler_type\"] = args[\"svc\"][\"scaler_type\"]\n",
    "best_config.pop(\"pca\")\n",
    "best_config[\"pca_level\"] = args[\"svc\"][\"pca_level\"]\n",
    "\n",
    "save_config_path = os.path.join(\"models\",\"params\",\"svc.json\")\n",
    "os.makedirs(os.path.dirname(save_config_path), exist_ok=True)\n",
    "with open(save_config_path, 'w') as f:\n",
    "    json.dump(best_config, f, indent=4)\n",
    "\n",
    "print(f\"Best configuration saved to: {save_config_path}\")\n"
   ]
  },
  {
   "cell_type": "code",
   "execution_count": 61,
   "id": "f277fb1b",
   "metadata": {},
   "outputs": [
    {
     "name": "stdout",
     "output_type": "stream",
     "text": [
      "Evaluating on test set\n",
      "Evaluating on test set\n",
      "Evaluating on test set\n",
      "Test Set Results:\n",
      "| Model   |   Precision |   Recall |   F0.5 Score |\n",
      "|---------|-------------|----------|--------------|\n",
      "| Dummy   |      0.624  |   1      |       0.6748 |\n",
      "| SVC     |      0.8369 |   0.7329 |       0.8138 |\n",
      "| SVC+PCA |      0.844  |   0.7391 |       0.8207 |\n"
     ]
    }
   ],
   "source": [
    "# Test results\n",
    "\n",
    "dummy.fit(X_train,y_train)\n",
    "svc.fit(X_train,y_train)\n",
    "svc_pca.fit(X_train,y_train)\n",
    "\n",
    "dummy_test_scores = dummy.evaluate(X_test,y_test)\n",
    "svc_test_scores = svc.evaluate(X_test,y_test)\n",
    "svc_pca_test_scores = svc_pca.evaluate(X_test, y_test)\n",
    "\n",
    "# Display test results in a table\n",
    "results_data = [\n",
    "    ['Model', 'Precision', 'Recall', f'F{beta} Score'],\n",
    "    ['Dummy', f\"{dummy_test_scores['precision']:.4f}\", f\"{dummy_test_scores['recall']:.4f}\", f\"{dummy_test_scores[f'F{beta}']:.4f}\"],\n",
    "    ['SVC', f\"{svc_test_scores['precision']:.4f}\", f\"{svc_test_scores['recall']:.4f}\", f\"{svc_test_scores[f'F{beta}']:.4f}\"],\n",
    "    ['SVC+PCA', f\"{svc_pca_test_scores['precision']:.4f}\", f\"{svc_pca_test_scores['recall']:.4f}\", f\"{svc_pca_test_scores[f'F{beta}']:.4f}\"]\n",
    "]\n",
    "\n",
    "print(\"Test Set Results:\")\n",
    "print(tabulate(results_data, headers='firstrow', tablefmt='github'))"
   ]
  },
  {
   "cell_type": "markdown",
   "id": "98decc81",
   "metadata": {},
   "source": [
    "Good generalization properties :\n",
    "1) Models are still outperforming dummy classifier\n",
    "2) Scores are a bit higher than during training (especially for SVC+PCA) which might indicate some fold dependency."
   ]
  }
 ],
 "metadata": {
  "kernelspec": {
   "display_name": "ml",
   "language": "python",
   "name": "python3"
  },
  "language_info": {
   "codemirror_mode": {
    "name": "ipython",
    "version": 3
   },
   "file_extension": ".py",
   "mimetype": "text/x-python",
   "name": "python",
   "nbconvert_exporter": "python",
   "pygments_lexer": "ipython3",
   "version": "3.11.13"
  }
 },
 "nbformat": 4,
 "nbformat_minor": 5
}
