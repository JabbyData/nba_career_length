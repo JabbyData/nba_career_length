{
 "cells": [
  {
   "cell_type": "code",
   "execution_count": 1,
   "id": "943abe53",
   "metadata": {},
   "outputs": [
    {
     "name": "stderr",
     "output_type": "stream",
     "text": [
      "/home/jabby/miniconda3/envs/nba/lib/python3.11/site-packages/tqdm/auto.py:21: TqdmWarning: IProgress not found. Please update jupyter and ipywidgets. See https://ipywidgets.readthedocs.io/en/stable/user_install.html\n",
      "  from .autonotebook import tqdm as notebook_tqdm\n"
     ]
    }
   ],
   "source": [
    "# Dependencies\n",
    "\n",
    "# Data Manip\n",
    "import pandas as pd\n",
    "\n",
    "# Linear Algebra\n",
    "import numpy as np\n",
    "\n",
    "# Machine Learning\n",
    "from sklearn.preprocessing import RobustScaler\n",
    "from sklearn.model_selection import StratifiedKFold, train_test_split\n",
    "from models.svc import SVEstimator\n",
    "from models.dummy import DummyEstimator\n",
    "from sklearn.decomposition import PCA\n",
    "\n",
    "# Optimization\n",
    "import optuna\n",
    "from optuna.storages import RDBStorage\n",
    "from functools import partial\n",
    "\n",
    "# System & Files\n",
    "import os\n",
    "import json\n",
    "\n",
    "# Visualization\n",
    "import plotly.graph_objects as go\n",
    "from plotly.subplots import make_subplots\n",
    "from tabulate import tabulate\n",
    "\n",
    "seed = 42\n",
    "np.random.seed(seed)"
   ]
  },
  {
   "cell_type": "code",
   "execution_count": 2,
   "id": "4cebb9ce",
   "metadata": {},
   "outputs": [],
   "source": [
    "# Data collection\n",
    "data_path = \"data/nba_filtered_capped.csv\"\n",
    "df = pd.read_csv(data_path)\n",
    "df = df.loc[:, ~(df.columns.str.contains(\"capped\"))]"
   ]
  },
  {
   "cell_type": "code",
   "execution_count": 3,
   "id": "190a7507",
   "metadata": {},
   "outputs": [],
   "source": [
    "# Train / Test split\n",
    "target = \"TARGET_5Yrs\"\n",
    "\n",
    "X = df.drop(columns=[target]).values\n",
    "y = df[target].values\n",
    "\n",
    "test_size=0.2\n",
    "X_train, X_test, y_train, y_test = train_test_split(X,y,stratify=y,test_size=test_size,shuffle=True,random_state=seed)\n",
    "\n",
    "# Cross Validation Splitter\n",
    "n_splits = 4 # to get same number of samples within validation fold as in test set\n",
    "splitter = StratifiedKFold(n_splits=n_splits, shuffle=True, random_state=seed) # Keeps same class proportions across sets"
   ]
  },
  {
   "cell_type": "code",
   "execution_count": 4,
   "id": "0fdc110e",
   "metadata": {},
   "outputs": [
    {
     "name": "stderr",
     "output_type": "stream",
     "text": [
      "[I 2025-10-16 09:43:45,847] A new study created in RDB with name: svc_TARGET_5Yrs\n"
     ]
    },
    {
     "name": "stdout",
     "output_type": "stream",
     "text": [
      "Optimizing svc_TARGET_5Yrs...\n"
     ]
    },
    {
     "name": "stderr",
     "output_type": "stream",
     "text": [
      "[I 2025-10-16 09:43:46,066] Trial 0 finished with value: 0.7666021406217158 and parameters: {'C': 0.23688639503640782}. Best is trial 0 with value: 0.7666021406217158.\n",
      "[I 2025-10-16 09:43:46,638] Trial 1 finished with value: 0.7670981183212886 and parameters: {'C': 0.8927180304353626}. Best is trial 1 with value: 0.7670981183212886.\n",
      "[I 2025-10-16 09:43:47,079] Trial 2 finished with value: 0.7689834411491798 and parameters: {'C': 0.5395030966670228}. Best is trial 2 with value: 0.7689834411491798.\n",
      "[I 2025-10-16 09:43:47,356] Trial 3 finished with value: 0.7689148415832968 and parameters: {'C': 0.3968793330444371}. Best is trial 2 with value: 0.7689834411491798.\n",
      "[I 2025-10-16 09:43:47,516] Trial 4 finished with value: 0.7667558400136225 and parameters: {'C': 0.1432249371823025}. Best is trial 2 with value: 0.7689834411491798.\n",
      "[I 2025-10-16 09:43:47,678] Trial 5 finished with value: 0.7667558400136225 and parameters: {'C': 0.14321698289111517}. Best is trial 2 with value: 0.7689834411491798.\n",
      "[I 2025-10-16 09:43:47,816] Trial 6 finished with value: 0.7641551919002667 and parameters: {'C': 0.1143098387631322}. Best is trial 2 with value: 0.7689834411491798.\n",
      "[I 2025-10-16 09:43:48,289] Trial 7 finished with value: 0.7709067219317856 and parameters: {'C': 0.7348118405270447}. Best is trial 7 with value: 0.7709067219317856.\n",
      "[I 2025-10-16 09:43:48,564] Trial 8 finished with value: 0.7699514543769498 and parameters: {'C': 0.3991305878561679}. Best is trial 7 with value: 0.7709067219317856.\n",
      "[I 2025-10-16 09:43:48,913] Trial 9 finished with value: 0.7709994428939898 and parameters: {'C': 0.5105903209394755}. Best is trial 9 with value: 0.7709994428939898.\n",
      "[I 2025-10-16 09:43:49,133] Trial 10 finished with value: 0.766522762505622 and parameters: {'C': 0.20480725405025005}. Best is trial 9 with value: 0.7709994428939898.\n",
      "[I 2025-10-16 09:43:49,677] Trial 11 finished with value: 0.7684452032683681 and parameters: {'C': 0.8180642680665676}. Best is trial 9 with value: 0.7709994428939898.\n",
      "[I 2025-10-16 09:43:50,083] Trial 12 finished with value: 0.7678230136780658 and parameters: {'C': 0.5974233239099757}. Best is trial 9 with value: 0.7709994428939898.\n",
      "[I 2025-10-16 09:43:50,479] Trial 13 finished with value: 0.7678230136780658 and parameters: {'C': 0.6097024028763356}. Best is trial 9 with value: 0.7709994428939898.\n",
      "[I 2025-10-16 09:43:51,093] Trial 14 finished with value: 0.766413175975136 and parameters: {'C': 0.9693038921733459}. Best is trial 9 with value: 0.7709994428939898.\n",
      "[I 2025-10-16 09:43:51,362] Trial 15 finished with value: 0.7689148415832968 and parameters: {'C': 0.3972506522713482}. Best is trial 9 with value: 0.7709994428939898.\n",
      "[I 2025-10-16 09:43:51,851] Trial 16 finished with value: 0.7709067219317856 and parameters: {'C': 0.7241705949410665}. Best is trial 9 with value: 0.7709994428939898.\n",
      "[I 2025-10-16 09:43:52,104] Trial 17 finished with value: 0.7699514543769498 and parameters: {'C': 0.297389377592824}. Best is trial 9 with value: 0.7709994428939898.\n",
      "[I 2025-10-16 09:43:52,439] Trial 18 finished with value: 0.7709994428939898 and parameters: {'C': 0.49578733996713453}. Best is trial 9 with value: 0.7709994428939898.\n",
      "[I 2025-10-16 09:43:52,746] Trial 19 finished with value: 0.7699514543769498 and parameters: {'C': 0.47208229999052587}. Best is trial 9 with value: 0.7709994428939898.\n",
      "[I 2025-10-16 09:43:53,001] Trial 20 finished with value: 0.7687991808864829 and parameters: {'C': 0.263405049741347}. Best is trial 9 with value: 0.7709994428939898.\n",
      "[I 2025-10-16 09:43:53,412] Trial 21 finished with value: 0.7691825840007511 and parameters: {'C': 0.6640549620397683}. Best is trial 9 with value: 0.7709994428939898.\n",
      "[I 2025-10-16 09:43:53,727] Trial 22 finished with value: 0.7699514543769498 and parameters: {'C': 0.47968312678431}. Best is trial 9 with value: 0.7709994428939898.\n",
      "[I 2025-10-16 09:43:54,182] Trial 23 finished with value: 0.7709067219317856 and parameters: {'C': 0.7208082402267273}. Best is trial 9 with value: 0.7709994428939898.\n",
      "[I 2025-10-16 09:43:54,524] Trial 24 finished with value: 0.7709994428939898 and parameters: {'C': 0.5116947398766055}. Best is trial 9 with value: 0.7709994428939898.\n",
      "[I 2025-10-16 09:43:54,787] Trial 25 finished with value: 0.7689148415832968 and parameters: {'C': 0.35430648093949385}. Best is trial 9 with value: 0.7709994428939898.\n",
      "[I 2025-10-16 09:43:55,098] Trial 26 finished with value: 0.7709994428939898 and parameters: {'C': 0.4896552590776567}. Best is trial 9 with value: 0.7709994428939898.\n",
      "[I 2025-10-16 09:43:55,417] Trial 27 finished with value: 0.7689148415832968 and parameters: {'C': 0.3245250787969452}. Best is trial 9 with value: 0.7709994428939898.\n",
      "[I 2025-10-16 09:43:55,809] Trial 28 finished with value: 0.7689834411491798 and parameters: {'C': 0.5405281860935577}. Best is trial 9 with value: 0.7709994428939898.\n",
      "[I 2025-10-16 09:43:56,019] Trial 29 finished with value: 0.7676387534153688 and parameters: {'C': 0.23292968953289234}. Best is trial 9 with value: 0.7709994428939898.\n",
      "[I 2025-10-16 09:43:56,316] Trial 30 finished with value: 0.7689148415832968 and parameters: {'C': 0.4449963917712035}. Best is trial 9 with value: 0.7709994428939898.\n",
      "[I 2025-10-16 09:43:56,646] Trial 31 finished with value: 0.769174430020104 and parameters: {'C': 0.5194900133044082}. Best is trial 9 with value: 0.7709994428939898.\n",
      "[I 2025-10-16 09:43:57,032] Trial 32 finished with value: 0.7678230136780658 and parameters: {'C': 0.591104333499563}. Best is trial 9 with value: 0.7709994428939898.\n",
      "[I 2025-10-16 09:43:57,332] Trial 33 finished with value: 0.7689148415832968 and parameters: {'C': 0.4494498090216282}. Best is trial 9 with value: 0.7709994428939898.\n",
      "[I 2025-10-16 09:43:57,864] Trial 34 finished with value: 0.7677754183539555 and parameters: {'C': 0.8346128401967837}. Best is trial 9 with value: 0.7709994428939898.\n",
      "[I 2025-10-16 09:43:58,111] Trial 35 finished with value: 0.7689148415832968 and parameters: {'C': 0.34855671068939986}. Best is trial 9 with value: 0.7709994428939898.\n",
      "[I 2025-10-16 09:43:58,469] Trial 36 finished with value: 0.7689834411491798 and parameters: {'C': 0.5292761682137782}. Best is trial 9 with value: 0.7709994428939898.\n",
      "[I 2025-10-16 09:43:58,748] Trial 37 finished with value: 0.7689148415832968 and parameters: {'C': 0.3936986239868845}. Best is trial 9 with value: 0.7709994428939898.\n",
      "[I 2025-10-16 09:43:58,991] Trial 38 finished with value: 0.7699514543769498 and parameters: {'C': 0.2956617817670771}. Best is trial 9 with value: 0.7709994428939898.\n",
      "[I 2025-10-16 09:43:59,183] Trial 39 finished with value: 0.7661476380011086 and parameters: {'C': 0.18873899585011608}. Best is trial 9 with value: 0.7709994428939898.\n",
      "[I 2025-10-16 09:43:59,592] Trial 40 finished with value: 0.767831167658713 and parameters: {'C': 0.6484774834976968}. Best is trial 9 with value: 0.7709994428939898.\n",
      "[I 2025-10-16 09:44:00,055] Trial 41 finished with value: 0.7691779050245048 and parameters: {'C': 0.7854373341373725}. Best is trial 9 with value: 0.7709994428939898.\n",
      "[I 2025-10-16 09:44:00,499] Trial 42 finished with value: 0.7720589954222524 and parameters: {'C': 0.7281143040125758}. Best is trial 42 with value: 0.7720589954222524.\n",
      "[I 2025-10-16 09:44:01,100] Trial 43 finished with value: 0.7677812518906367 and parameters: {'C': 0.966255696998768}. Best is trial 42 with value: 0.7720589954222524.\n",
      "[I 2025-10-16 09:44:01,448] Trial 44 finished with value: 0.767831167658713 and parameters: {'C': 0.5511184707252534}. Best is trial 42 with value: 0.7720589954222524.\n",
      "[I 2025-10-16 09:44:01,858] Trial 45 finished with value: 0.767831167658713 and parameters: {'C': 0.650779327275338}. Best is trial 42 with value: 0.7720589954222524.\n",
      "[I 2025-10-16 09:44:02,148] Trial 46 finished with value: 0.7699514543769498 and parameters: {'C': 0.42125622890119074}. Best is trial 42 with value: 0.7720589954222524.\n",
      "[I 2025-10-16 09:44:02,466] Trial 47 finished with value: 0.770334857491218 and parameters: {'C': 0.5184384386728172}. Best is trial 42 with value: 0.7720589954222524.\n",
      "[I 2025-10-16 09:44:03,030] Trial 48 finished with value: 0.7670981183212886 and parameters: {'C': 0.8784836521055739}. Best is trial 42 with value: 0.7720589954222524.\n",
      "[I 2025-10-16 09:44:03,344] Trial 49 finished with value: 0.7709994428939898 and parameters: {'C': 0.4856161084885661}. Best is trial 42 with value: 0.7720589954222524.\n",
      "[I 2025-10-16 09:44:03,725] Trial 50 finished with value: 0.7678230136780658 and parameters: {'C': 0.5851633716042687}. Best is trial 42 with value: 0.7720589954222524.\n",
      "[I 2025-10-16 09:44:03,997] Trial 51 finished with value: 0.7689148415832968 and parameters: {'C': 0.3712202168222358}. Best is trial 42 with value: 0.7720589954222524.\n",
      "[I 2025-10-16 09:44:04,314] Trial 52 finished with value: 0.7699514543769498 and parameters: {'C': 0.4802110259620922}. Best is trial 42 with value: 0.7720589954222524.\n",
      "[I 2025-10-16 09:44:04,597] Trial 53 finished with value: 0.7689148415832968 and parameters: {'C': 0.42612830136880814}. Best is trial 42 with value: 0.7720589954222524.\n",
      "[I 2025-10-16 09:44:05,078] Trial 54 finished with value: 0.7709067219317856 and parameters: {'C': 0.6910904684828432}. Best is trial 42 with value: 0.7720589954222524.\n",
      "[I 2025-10-16 09:44:05,379] Trial 55 finished with value: 0.7709994428939898 and parameters: {'C': 0.4898398613409718}. Best is trial 42 with value: 0.7720589954222524.\n",
      "[I 2025-10-16 09:44:05,856] Trial 56 finished with value: 0.7709067219317856 and parameters: {'C': 0.770341324872323}. Best is trial 42 with value: 0.7720589954222524.\n",
      "[I 2025-10-16 09:44:06,236] Trial 57 finished with value: 0.766670740187599 and parameters: {'C': 0.5906006881741973}. Best is trial 42 with value: 0.7720589954222524.\n",
      "[I 2025-10-16 09:44:06,370] Trial 58 finished with value: 0.7648095769594556 and parameters: {'C': 0.10256263953376905}. Best is trial 42 with value: 0.7720589954222524.\n",
      "[I 2025-10-16 09:44:06,781] Trial 59 finished with value: 0.7673501970863351 and parameters: {'C': 0.6443625254041746}. Best is trial 42 with value: 0.7720589954222524.\n",
      "[I 2025-10-16 09:44:07,065] Trial 60 finished with value: 0.7689148415832968 and parameters: {'C': 0.381669586731964}. Best is trial 42 with value: 0.7720589954222524.\n",
      "[I 2025-10-16 09:44:07,414] Trial 61 finished with value: 0.7709994428939898 and parameters: {'C': 0.4988864906790727}. Best is trial 42 with value: 0.7720589954222524.\n",
      "[I 2025-10-16 09:44:07,710] Trial 62 finished with value: 0.7689148415832968 and parameters: {'C': 0.44606645246642623}. Best is trial 42 with value: 0.7720589954222524.\n",
      "[I 2025-10-16 09:44:08,046] Trial 63 finished with value: 0.7689834411491798 and parameters: {'C': 0.5587596041206244}. Best is trial 42 with value: 0.7720589954222524.\n",
      "[I 2025-10-16 09:44:08,353] Trial 64 finished with value: 0.7699514543769498 and parameters: {'C': 0.4771019538053688}. Best is trial 42 with value: 0.7720589954222524.\n",
      "[I 2025-10-16 09:44:08,627] Trial 65 finished with value: 0.7699514543769498 and parameters: {'C': 0.4172110458494808}. Best is trial 42 with value: 0.7720589954222524.\n",
      "[I 2025-10-16 09:44:08,892] Trial 66 finished with value: 0.7699514543769498 and parameters: {'C': 0.33689451093806033}. Best is trial 42 with value: 0.7720589954222524.\n",
      "[I 2025-10-16 09:44:09,138] Trial 67 finished with value: 0.7699514543769498 and parameters: {'C': 0.3025844520538071}. Best is trial 42 with value: 0.7720589954222524.\n",
      "[I 2025-10-16 09:44:09,451] Trial 68 finished with value: 0.7709994428939898 and parameters: {'C': 0.5064944465964409}. Best is trial 42 with value: 0.7720589954222524.\n",
      "[I 2025-10-16 09:44:09,927] Trial 69 finished with value: 0.7720589954222524 and parameters: {'C': 0.7238521608456797}. Best is trial 42 with value: 0.7720589954222524.\n",
      "[I 2025-10-16 09:44:10,377] Trial 70 finished with value: 0.7709067219317856 and parameters: {'C': 0.7069391105194314}. Best is trial 42 with value: 0.7720589954222524.\n",
      "[I 2025-10-16 09:44:10,795] Trial 71 finished with value: 0.7678230136780658 and parameters: {'C': 0.6184978739518234}. Best is trial 42 with value: 0.7720589954222524.\n",
      "[I 2025-10-16 09:44:11,249] Trial 72 finished with value: 0.77139660123793 and parameters: {'C': 0.7590754148889619}. Best is trial 42 with value: 0.7720589954222524.\n",
      "[I 2025-10-16 09:44:11,702] Trial 73 finished with value: 0.7709067219317856 and parameters: {'C': 0.7588263398257411}. Best is trial 42 with value: 0.7720589954222524.\n",
      "[I 2025-10-16 09:44:12,228] Trial 74 finished with value: 0.7670981183212886 and parameters: {'C': 0.908128668716229}. Best is trial 42 with value: 0.7720589954222524.\n",
      "[I 2025-10-16 09:44:12,749] Trial 75 finished with value: 0.7684452032683681 and parameters: {'C': 0.8265905528125352}. Best is trial 42 with value: 0.7720589954222524.\n",
      "[I 2025-10-16 09:44:13,185] Trial 76 finished with value: 0.7709067219317856 and parameters: {'C': 0.6877849102311219}. Best is trial 42 with value: 0.7720589954222524.\n",
      "[I 2025-10-16 09:44:13,535] Trial 77 finished with value: 0.7689834411491798 and parameters: {'C': 0.5427419575888367}. Best is trial 42 with value: 0.7720589954222524.\n",
      "[I 2025-10-16 09:44:14,198] Trial 78 finished with value: 0.766413175975136 and parameters: {'C': 0.9962014462073683}. Best is trial 42 with value: 0.7720589954222524.\n",
      "[I 2025-10-16 09:44:14,743] Trial 79 finished with value: 0.7682503918117555 and parameters: {'C': 0.8945490919882243}. Best is trial 42 with value: 0.7720589954222524.\n",
      "[I 2025-10-16 09:44:15,109] Trial 80 finished with value: 0.7678230136780658 and parameters: {'C': 0.5708776750228718}. Best is trial 42 with value: 0.7720589954222524.\n",
      "[I 2025-10-16 09:44:15,422] Trial 81 finished with value: 0.7689148415832968 and parameters: {'C': 0.4521336936521768}. Best is trial 42 with value: 0.7720589954222524.\n",
      "[I 2025-10-16 09:44:15,837] Trial 82 finished with value: 0.766670740187599 and parameters: {'C': 0.6258023895748774}. Best is trial 42 with value: 0.7720589954222524.\n",
      "[I 2025-10-16 09:44:16,141] Trial 83 finished with value: 0.7709994428939898 and parameters: {'C': 0.49173007904067473}. Best is trial 42 with value: 0.7720589954222524.\n",
      "[I 2025-10-16 09:44:16,441] Trial 84 finished with value: 0.7689148415832968 and parameters: {'C': 0.4029438898667564}. Best is trial 42 with value: 0.7720589954222524.\n",
      "[I 2025-10-16 09:44:16,883] Trial 85 finished with value: 0.7709067219317856 and parameters: {'C': 0.7302694730539698}. Best is trial 42 with value: 0.7720589954222524.\n",
      "[I 2025-10-16 09:44:17,063] Trial 86 finished with value: 0.7660778975288696 and parameters: {'C': 0.17569141230210092}. Best is trial 42 with value: 0.7720589954222524.\n",
      "[I 2025-10-16 09:44:17,352] Trial 87 finished with value: 0.7699514543769498 and parameters: {'C': 0.45757251494364654}. Best is trial 42 with value: 0.7720589954222524.\n",
      "[I 2025-10-16 09:44:17,822] Trial 88 finished with value: 0.7680256315340379 and parameters: {'C': 0.7990259391155928}. Best is trial 42 with value: 0.7720589954222524.\n",
      "[I 2025-10-16 09:44:18,212] Trial 89 finished with value: 0.7702443277474631 and parameters: {'C': 0.6740838109933702}. Best is trial 42 with value: 0.7720589954222524.\n",
      "[I 2025-10-16 09:44:18,474] Trial 90 finished with value: 0.7689148415832968 and parameters: {'C': 0.3597071263720686}. Best is trial 42 with value: 0.7720589954222524.\n",
      "[I 2025-10-16 09:44:18,802] Trial 91 finished with value: 0.7709994428939898 and parameters: {'C': 0.49906413950874956}. Best is trial 42 with value: 0.7720589954222524.\n",
      "[I 2025-10-16 09:44:19,135] Trial 92 finished with value: 0.7689834411491798 and parameters: {'C': 0.5183427873397796}. Best is trial 42 with value: 0.7720589954222524.\n",
      "[I 2025-10-16 09:44:19,472] Trial 93 finished with value: 0.7678230136780658 and parameters: {'C': 0.5672605157591519}. Best is trial 42 with value: 0.7720589954222524.\n",
      "[I 2025-10-16 09:44:19,764] Trial 94 finished with value: 0.7689148415832968 and parameters: {'C': 0.43115274679717147}. Best is trial 42 with value: 0.7720589954222524.\n",
      "[I 2025-10-16 09:44:20,145] Trial 95 finished with value: 0.7678230136780658 and parameters: {'C': 0.6013519227243214}. Best is trial 42 with value: 0.7720589954222524.\n",
      "[I 2025-10-16 09:44:20,448] Trial 96 finished with value: 0.7699514543769498 and parameters: {'C': 0.46960345209740245}. Best is trial 42 with value: 0.7720589954222524.\n",
      "[I 2025-10-16 09:44:20,790] Trial 97 finished with value: 0.7678230136780658 and parameters: {'C': 0.5385126788354754}. Best is trial 42 with value: 0.7720589954222524.\n",
      "[I 2025-10-16 09:44:21,306] Trial 98 finished with value: 0.7670981183212886 and parameters: {'C': 0.8635172258202791}. Best is trial 42 with value: 0.7720589954222524.\n",
      "[I 2025-10-16 09:44:21,781] Trial 99 finished with value: 0.7720589954222524 and parameters: {'C': 0.7487202780264846}. Best is trial 42 with value: 0.7720589954222524.\n",
      "[I 2025-10-16 09:44:22,229] Trial 100 finished with value: 0.7709067219317856 and parameters: {'C': 0.7435539270657932}. Best is trial 42 with value: 0.7720589954222524.\n",
      "[I 2025-10-16 09:44:22,697] Trial 101 finished with value: 0.767831167658713 and parameters: {'C': 0.6543463517432543}. Best is trial 42 with value: 0.7720589954222524.\n",
      "[I 2025-10-16 09:44:23,245] Trial 102 finished with value: 0.7670963095444843 and parameters: {'C': 0.947215202937582}. Best is trial 42 with value: 0.7720589954222524.\n",
      "[I 2025-10-16 09:44:23,571] Trial 103 finished with value: 0.7709994428939898 and parameters: {'C': 0.5007484907951323}. Best is trial 42 with value: 0.7720589954222524.\n",
      "[I 2025-10-16 09:44:23,860] Trial 104 finished with value: 0.7699514543769498 and parameters: {'C': 0.40885099894084453}. Best is trial 42 with value: 0.7720589954222524.\n",
      "[I 2025-10-16 09:44:24,254] Trial 105 finished with value: 0.7678230136780658 and parameters: {'C': 0.6238115875352997}. Best is trial 42 with value: 0.7720589954222524.\n",
      "[I 2025-10-16 09:44:24,756] Trial 106 finished with value: 0.7677754183539555 and parameters: {'C': 0.8319399260649241}. Best is trial 42 with value: 0.7720589954222524.\n",
      "[I 2025-10-16 09:44:25,202] Trial 107 finished with value: 0.7709067219317856 and parameters: {'C': 0.7039791340570609}. Best is trial 42 with value: 0.7720589954222524.\n",
      "[I 2025-10-16 09:44:25,457] Trial 108 finished with value: 0.7689148415832968 and parameters: {'C': 0.38398678469039155}. Best is trial 42 with value: 0.7720589954222524.\n",
      "[I 2025-10-16 09:44:25,665] Trial 109 finished with value: 0.7666021406217158 and parameters: {'C': 0.24073215771765594}. Best is trial 42 with value: 0.7720589954222524.\n",
      "[I 2025-10-16 09:44:26,017] Trial 110 finished with value: 0.7689834411491798 and parameters: {'C': 0.5263491920268684}. Best is trial 42 with value: 0.7720589954222524.\n",
      "[I 2025-10-16 09:44:26,343] Trial 111 finished with value: 0.770334857491218 and parameters: {'C': 0.5142251753976184}. Best is trial 42 with value: 0.7720589954222524.\n",
      "[I 2025-10-16 09:44:26,608] Trial 112 finished with value: 0.7689148415832968 and parameters: {'C': 0.43291424651534227}. Best is trial 42 with value: 0.7720589954222524.\n",
      "[I 2025-10-16 09:44:26,975] Trial 113 finished with value: 0.7678230136780658 and parameters: {'C': 0.5824659557020451}. Best is trial 42 with value: 0.7720589954222524.\n",
      "[I 2025-10-16 09:44:27,252] Trial 114 finished with value: 0.7699514543769498 and parameters: {'C': 0.4694387196779422}. Best is trial 42 with value: 0.7720589954222524.\n",
      "[I 2025-10-16 09:44:27,550] Trial 115 finished with value: 0.7709994428939898 and parameters: {'C': 0.4918361629008067}. Best is trial 42 with value: 0.7720589954222524.\n",
      "[I 2025-10-16 09:44:28,019] Trial 116 finished with value: 0.7702443277474631 and parameters: {'C': 0.7884599445049537}. Best is trial 42 with value: 0.7720589954222524.\n",
      "[I 2025-10-16 09:44:28,316] Trial 117 finished with value: 0.7689148415832968 and parameters: {'C': 0.4592501237576756}. Best is trial 42 with value: 0.7720589954222524.\n",
      "[I 2025-10-16 09:44:28,659] Trial 118 finished with value: 0.7689834411491798 and parameters: {'C': 0.5488684000293212}. Best is trial 42 with value: 0.7720589954222524.\n",
      "[I 2025-10-16 09:44:29,039] Trial 119 finished with value: 0.7678230136780658 and parameters: {'C': 0.6182940598487893}. Best is trial 42 with value: 0.7720589954222524.\n",
      "[I 2025-10-16 09:44:29,532] Trial 120 finished with value: 0.7720589954222524 and parameters: {'C': 0.7527007366478662}. Best is trial 42 with value: 0.7720589954222524.\n",
      "[I 2025-10-16 09:44:30,045] Trial 121 finished with value: 0.7720589954222524 and parameters: {'C': 0.7544618911193028}. Best is trial 42 with value: 0.7720589954222524.\n",
      "[I 2025-10-16 09:44:30,533] Trial 122 finished with value: 0.7697907310220388 and parameters: {'C': 0.7419583960191276}. Best is trial 42 with value: 0.7720589954222524.\n",
      "[I 2025-10-16 09:44:31,060] Trial 123 finished with value: 0.77139660123793 and parameters: {'C': 0.7765667285208745}. Best is trial 42 with value: 0.7720589954222524.\n",
      "[I 2025-10-16 09:44:31,557] Trial 124 finished with value: 0.7720589954222524 and parameters: {'C': 0.7666146325149211}. Best is trial 42 with value: 0.7720589954222524.\n",
      "[I 2025-10-16 09:44:32,066] Trial 125 finished with value: 0.7670981183212886 and parameters: {'C': 0.8659999131222272}. Best is trial 42 with value: 0.7720589954222524.\n",
      "[I 2025-10-16 09:44:32,565] Trial 126 finished with value: 0.7702443277474631 and parameters: {'C': 0.7955954291698901}. Best is trial 42 with value: 0.7720589954222524.\n",
      "[I 2025-10-16 09:44:33,015] Trial 127 finished with value: 0.7709067219317856 and parameters: {'C': 0.7180618490257048}. Best is trial 42 with value: 0.7720589954222524.\n",
      "[I 2025-10-16 09:44:33,470] Trial 128 finished with value: 0.7720589954222524 and parameters: {'C': 0.7663105040346769}. Best is trial 42 with value: 0.7720589954222524.\n",
      "[I 2025-10-16 09:44:33,921] Trial 129 finished with value: 0.7720589954222524 and parameters: {'C': 0.7696540609411757}. Best is trial 42 with value: 0.7720589954222524.\n",
      "[I 2025-10-16 09:44:34,496] Trial 130 finished with value: 0.766413175975136 and parameters: {'C': 0.9328431295419062}. Best is trial 42 with value: 0.7720589954222524.\n",
      "[I 2025-10-16 09:44:34,959] Trial 131 finished with value: 0.7670981183212886 and parameters: {'C': 0.839883529977893}. Best is trial 42 with value: 0.7720589954222524.\n",
      "[I 2025-10-16 09:44:35,401] Trial 132 finished with value: 0.7720589954222524 and parameters: {'C': 0.7598427705343932}. Best is trial 42 with value: 0.7720589954222524.\n",
      "[I 2025-10-16 09:44:35,866] Trial 133 finished with value: 0.7680256315340379 and parameters: {'C': 0.7759807876865651}. Best is trial 42 with value: 0.7720589954222524.\n",
      "[I 2025-10-16 09:44:36,372] Trial 134 finished with value: 0.77139660123793 and parameters: {'C': 0.763574863247781}. Best is trial 42 with value: 0.7720589954222524.\n",
      "[I 2025-10-16 09:44:36,779] Trial 135 finished with value: 0.7709067219317856 and parameters: {'C': 0.6828868448402715}. Best is trial 42 with value: 0.7720589954222524.\n",
      "[I 2025-10-16 09:44:37,242] Trial 136 finished with value: 0.7720589954222524 and parameters: {'C': 0.7574352931580174}. Best is trial 42 with value: 0.7720589954222524.\n",
      "[I 2025-10-16 09:44:37,685] Trial 137 finished with value: 0.7697907310220388 and parameters: {'C': 0.7529495585306871}. Best is trial 42 with value: 0.7720589954222524.\n",
      "[I 2025-10-16 09:44:38,177] Trial 138 finished with value: 0.7702443277474631 and parameters: {'C': 0.8069605942963579}. Best is trial 42 with value: 0.7720589954222524.\n",
      "[I 2025-10-16 09:44:38,685] Trial 139 finished with value: 0.7720589954222524 and parameters: {'C': 0.7654947806273632}. Best is trial 42 with value: 0.7720589954222524.\n",
      "[I 2025-10-16 09:44:39,113] Trial 140 finished with value: 0.7709067219317856 and parameters: {'C': 0.7154150182195043}. Best is trial 42 with value: 0.7720589954222524.\n",
      "[I 2025-10-16 09:44:39,579] Trial 141 finished with value: 0.7709067219317856 and parameters: {'C': 0.7627711126162281}. Best is trial 42 with value: 0.7720589954222524.\n",
      "[I 2025-10-16 09:44:40,073] Trial 142 finished with value: 0.7670981183212886 and parameters: {'C': 0.8618558820579613}. Best is trial 42 with value: 0.7720589954222524.\n",
      "[I 2025-10-16 09:44:40,482] Trial 143 finished with value: 0.7691825840007511 and parameters: {'C': 0.6664258391404982}. Best is trial 42 with value: 0.7720589954222524.\n",
      "[I 2025-10-16 09:44:40,985] Trial 144 finished with value: 0.7691283368377163 and parameters: {'C': 0.8130606124425002}. Best is trial 42 with value: 0.7720589954222524.\n",
      "[I 2025-10-16 09:44:41,450] Trial 145 finished with value: 0.7709067219317856 and parameters: {'C': 0.7254227043081951}. Best is trial 42 with value: 0.7720589954222524.\n",
      "[I 2025-10-16 09:44:41,989] Trial 146 finished with value: 0.7659954130176102 and parameters: {'C': 0.8956918134522096}. Best is trial 42 with value: 0.7720589954222524.\n",
      "[I 2025-10-16 09:44:42,479] Trial 147 finished with value: 0.7686880257183605 and parameters: {'C': 0.768254227568566}. Best is trial 42 with value: 0.7720589954222524.\n",
      "[I 2025-10-16 09:44:42,886] Trial 148 finished with value: 0.7709067219317856 and parameters: {'C': 0.6894164947888203}. Best is trial 42 with value: 0.7720589954222524.\n",
      "[I 2025-10-16 09:44:43,428] Trial 149 finished with value: 0.7670981183212886 and parameters: {'C': 0.840331314965619}. Best is trial 42 with value: 0.7720589954222524.\n",
      "[I 2025-10-16 09:44:43,866] Trial 150 finished with value: 0.7709067219317856 and parameters: {'C': 0.7412568109508886}. Best is trial 42 with value: 0.7720589954222524.\n",
      "[I 2025-10-16 09:44:44,246] Trial 151 finished with value: 0.7673501970863351 and parameters: {'C': 0.647987162175518}. Best is trial 42 with value: 0.7720589954222524.\n",
      "[I 2025-10-16 09:44:44,747] Trial 152 finished with value: 0.7680256315340379 and parameters: {'C': 0.8055862808642328}. Best is trial 42 with value: 0.7720589954222524.\n",
      "[I 2025-10-16 09:44:45,181] Trial 153 finished with value: 0.7709067219317856 and parameters: {'C': 0.7026728997822264}. Best is trial 42 with value: 0.7720589954222524.\n",
      "[I 2025-10-16 09:44:45,634] Trial 154 finished with value: 0.7702443277474631 and parameters: {'C': 0.7710422085806155}. Best is trial 42 with value: 0.7720589954222524.\n",
      "[I 2025-10-16 09:44:46,200] Trial 155 finished with value: 0.7670981183212886 and parameters: {'C': 0.9172624661052212}. Best is trial 42 with value: 0.7720589954222524.\n",
      "[I 2025-10-16 09:44:46,641] Trial 156 finished with value: 0.7709067219317856 and parameters: {'C': 0.7334130623439562}. Best is trial 42 with value: 0.7720589954222524.\n",
      "[I 2025-10-16 09:44:47,069] Trial 157 finished with value: 0.7698471694035229 and parameters: {'C': 0.6828220798380678}. Best is trial 42 with value: 0.7720589954222524.\n",
      "[I 2025-10-16 09:44:47,635] Trial 158 finished with value: 0.7695974767588349 and parameters: {'C': 0.8322386178201302}. Best is trial 42 with value: 0.7720589954222524.\n",
      "[I 2025-10-16 09:44:48,138] Trial 159 finished with value: 0.77139660123793 and parameters: {'C': 0.7867377577019496}. Best is trial 42 with value: 0.7720589954222524.\n",
      "[I 2025-10-16 09:44:48,579] Trial 160 finished with value: 0.7680256315340379 and parameters: {'C': 0.7907262237887794}. Best is trial 42 with value: 0.7720589954222524.\n",
      "[I 2025-10-16 09:44:49,076] Trial 161 finished with value: 0.7720589954222524 and parameters: {'C': 0.7601323973598446}. Best is trial 42 with value: 0.7720589954222524.\n",
      "[I 2025-10-16 09:44:49,527] Trial 162 finished with value: 0.7720589954222524 and parameters: {'C': 0.7493232220676513}. Best is trial 42 with value: 0.7720589954222524.\n",
      "[I 2025-10-16 09:44:49,968] Trial 163 finished with value: 0.77139660123793 and parameters: {'C': 0.7568529057418568}. Best is trial 42 with value: 0.7720589954222524.\n",
      "[I 2025-10-16 09:44:50,428] Trial 164 finished with value: 0.7709067219317856 and parameters: {'C': 0.7170673881628803}. Best is trial 42 with value: 0.7720589954222524.\n",
      "[I 2025-10-16 09:44:50,949] Trial 165 finished with value: 0.7659954130176102 and parameters: {'C': 0.8701302670858766}. Best is trial 42 with value: 0.7720589954222524.\n",
      "[I 2025-10-16 09:44:51,446] Trial 166 finished with value: 0.7702443277474631 and parameters: {'C': 0.7917815542591499}. Best is trial 42 with value: 0.7720589954222524.\n",
      "[I 2025-10-16 09:44:51,882] Trial 167 finished with value: 0.7709067219317856 and parameters: {'C': 0.7478261873652641}. Best is trial 42 with value: 0.7720589954222524.\n",
      "[I 2025-10-16 09:44:52,031] Trial 168 finished with value: 0.7667558400136225 and parameters: {'C': 0.1461592155233904}. Best is trial 42 with value: 0.7720589954222524.\n",
      "[I 2025-10-16 09:44:52,566] Trial 169 finished with value: 0.7677754183539555 and parameters: {'C': 0.8377634228312927}. Best is trial 42 with value: 0.7720589954222524.\n",
      "[I 2025-10-16 09:44:52,982] Trial 170 finished with value: 0.7709067219317856 and parameters: {'C': 0.6707505415917789}. Best is trial 42 with value: 0.7720589954222524.\n",
      "[I 2025-10-16 09:44:53,475] Trial 171 finished with value: 0.7709067219317856 and parameters: {'C': 0.7489100080777222}. Best is trial 42 with value: 0.7720589954222524.\n",
      "[I 2025-10-16 09:44:53,900] Trial 172 finished with value: 0.7709067219317856 and parameters: {'C': 0.7092762486806425}. Best is trial 42 with value: 0.7720589954222524.\n",
      "[I 2025-10-16 09:44:54,381] Trial 173 finished with value: 0.77139660123793 and parameters: {'C': 0.7769534513999844}. Best is trial 42 with value: 0.7720589954222524.\n",
      "[I 2025-10-16 09:44:54,875] Trial 174 finished with value: 0.7702443277474631 and parameters: {'C': 0.8041078443774143}. Best is trial 42 with value: 0.7720589954222524.\n",
      "[I 2025-10-16 09:44:55,327] Trial 175 finished with value: 0.7720589954222524 and parameters: {'C': 0.7614863115175634}. Best is trial 42 with value: 0.7720589954222524.\n",
      "[I 2025-10-16 09:44:55,727] Trial 176 finished with value: 0.7709067219317856 and parameters: {'C': 0.7060831507336376}. Best is trial 42 with value: 0.7720589954222524.\n",
      "[I 2025-10-16 09:44:56,229] Trial 177 finished with value: 0.7670981183212886 and parameters: {'C': 0.8542980500905629}. Best is trial 42 with value: 0.7720589954222524.\n",
      "[I 2025-10-16 09:44:56,643] Trial 178 finished with value: 0.767831167658713 and parameters: {'C': 0.6522588125452674}. Best is trial 42 with value: 0.7720589954222524.\n",
      "[I 2025-10-16 09:44:57,125] Trial 179 finished with value: 0.7697907310220388 and parameters: {'C': 0.7354672635827159}. Best is trial 42 with value: 0.7720589954222524.\n",
      "[I 2025-10-16 09:44:57,617] Trial 180 finished with value: 0.7702443277474631 and parameters: {'C': 0.8095172644436143}. Best is trial 42 with value: 0.7720589954222524.\n",
      "[I 2025-10-16 09:44:58,058] Trial 181 finished with value: 0.7691779050245048 and parameters: {'C': 0.7664506169175724}. Best is trial 42 with value: 0.7720589954222524.\n",
      "[I 2025-10-16 09:44:58,543] Trial 182 finished with value: 0.7709067219317856 and parameters: {'C': 0.7473507039040251}. Best is trial 42 with value: 0.7720589954222524.\n",
      "[I 2025-10-16 09:44:59,022] Trial 183 finished with value: 0.77139660123793 and parameters: {'C': 0.7802485633613512}. Best is trial 42 with value: 0.7720589954222524.\n",
      "[I 2025-10-16 09:44:59,440] Trial 184 finished with value: 0.7698471694035229 and parameters: {'C': 0.6842549881327997}. Best is trial 42 with value: 0.7720589954222524.\n",
      "[I 2025-10-16 09:44:59,906] Trial 185 finished with value: 0.7684452032683681 and parameters: {'C': 0.8184914224822678}. Best is trial 42 with value: 0.7720589954222524.\n",
      "[I 2025-10-16 09:45:00,382] Trial 186 finished with value: 0.7709067219317856 and parameters: {'C': 0.7109858053102959}. Best is trial 42 with value: 0.7720589954222524.\n",
      "[I 2025-10-16 09:45:00,849] Trial 187 finished with value: 0.7720589954222524 and parameters: {'C': 0.7599712114609548}. Best is trial 42 with value: 0.7720589954222524.\n",
      "[I 2025-10-16 09:45:01,390] Trial 188 finished with value: 0.7670981183212886 and parameters: {'C': 0.8648372654234107}. Best is trial 42 with value: 0.7720589954222524.\n",
      "[I 2025-10-16 09:45:01,857] Trial 189 finished with value: 0.7702443277474631 and parameters: {'C': 0.7746970860103917}. Best is trial 42 with value: 0.7720589954222524.\n",
      "[I 2025-10-16 09:45:02,430] Trial 190 finished with value: 0.7659954130176102 and parameters: {'C': 0.9087195025203977}. Best is trial 42 with value: 0.7720589954222524.\n",
      "[I 2025-10-16 09:45:02,883] Trial 191 finished with value: 0.7709067219317856 and parameters: {'C': 0.7350078128619632}. Best is trial 42 with value: 0.7720589954222524.\n",
      "[I 2025-10-16 09:45:03,336] Trial 192 finished with value: 0.7720589954222524 and parameters: {'C': 0.7699163560235336}. Best is trial 42 with value: 0.7720589954222524.\n",
      "[I 2025-10-16 09:45:03,866] Trial 193 finished with value: 0.7702443277474631 and parameters: {'C': 0.8075746377316044}. Best is trial 42 with value: 0.7720589954222524.\n",
      "[I 2025-10-16 09:45:04,301] Trial 194 finished with value: 0.7709067219317856 and parameters: {'C': 0.7298185270199031}. Best is trial 42 with value: 0.7720589954222524.\n",
      "[I 2025-10-16 09:45:04,742] Trial 195 finished with value: 0.7709067219317856 and parameters: {'C': 0.6898262537336395}. Best is trial 42 with value: 0.7720589954222524.\n",
      "[I 2025-10-16 09:45:05,213] Trial 196 finished with value: 0.77139660123793 and parameters: {'C': 0.7719277938947928}. Best is trial 42 with value: 0.7720589954222524.\n",
      "[I 2025-10-16 09:45:05,777] Trial 197 finished with value: 0.7678249865407439 and parameters: {'C': 0.8327740570954384}. Best is trial 42 with value: 0.7720589954222524.\n",
      "[I 2025-10-16 09:45:06,279] Trial 198 finished with value: 0.7709067219317856 and parameters: {'C': 0.7282616930357111}. Best is trial 42 with value: 0.7720589954222524.\n",
      "[I 2025-10-16 09:45:06,776] Trial 199 finished with value: 0.7680256315340379 and parameters: {'C': 0.7985103287740696}. Best is trial 42 with value: 0.7720589954222524.\n",
      "[I 2025-10-16 09:45:06,791] A new study created in RDB with name: svc_pca_TARGET_5Yrs\n",
      "[I 2025-10-16 09:45:06,940] Trial 0 finished with value: 0.7590669562048207 and parameters: {'C': 0.23688639503640782}. Best is trial 0 with value: 0.7590669562048207.\n"
     ]
    },
    {
     "name": "stdout",
     "output_type": "stream",
     "text": [
      "Best value for svc_TARGET_5Yrs: 0.7720589954222524\n",
      "Optimizing svc_pca_TARGET_5Yrs...\n"
     ]
    },
    {
     "name": "stderr",
     "output_type": "stream",
     "text": [
      "[I 2025-10-16 09:45:07,317] Trial 1 finished with value: 0.7574664440409282 and parameters: {'C': 0.8927180304353626}. Best is trial 0 with value: 0.7590669562048207.\n",
      "[I 2025-10-16 09:45:07,563] Trial 2 finished with value: 0.7584469379791685 and parameters: {'C': 0.5395030966670228}. Best is trial 0 with value: 0.7590669562048207.\n",
      "[I 2025-10-16 09:45:07,768] Trial 3 finished with value: 0.7590669562048207 and parameters: {'C': 0.3968793330444371}. Best is trial 0 with value: 0.7590669562048207.\n",
      "[I 2025-10-16 09:45:07,883] Trial 4 finished with value: 0.7584469379791685 and parameters: {'C': 0.1432249371823025}. Best is trial 0 with value: 0.7590669562048207.\n",
      "[I 2025-10-16 09:45:08,003] Trial 5 finished with value: 0.7590669562048207 and parameters: {'C': 0.14321698289111517}. Best is trial 0 with value: 0.7590669562048207.\n",
      "[I 2025-10-16 09:45:08,106] Trial 6 finished with value: 0.7590669562048207 and parameters: {'C': 0.1143098387631322}. Best is trial 0 with value: 0.7590669562048207.\n",
      "[I 2025-10-16 09:45:08,399] Trial 7 finished with value: 0.7584469379791685 and parameters: {'C': 0.7348118405270447}. Best is trial 0 with value: 0.7590669562048207.\n",
      "[I 2025-10-16 09:45:08,585] Trial 8 finished with value: 0.7590669562048207 and parameters: {'C': 0.3991305878561679}. Best is trial 0 with value: 0.7590669562048207.\n",
      "[I 2025-10-16 09:45:08,813] Trial 9 finished with value: 0.7584469379791685 and parameters: {'C': 0.5105903209394755}. Best is trial 0 with value: 0.7590669562048207.\n",
      "[I 2025-10-16 09:45:08,955] Trial 10 finished with value: 0.7590669562048207 and parameters: {'C': 0.2368517675450849}. Best is trial 0 with value: 0.7590669562048207.\n",
      "[I 2025-10-16 09:45:09,102] Trial 11 finished with value: 0.7574664440409282 and parameters: {'C': 0.24548131081326147}. Best is trial 0 with value: 0.7590669562048207.\n",
      "[I 2025-10-16 09:45:09,270] Trial 12 finished with value: 0.7590669562048207 and parameters: {'C': 0.28879716046014414}. Best is trial 0 with value: 0.7590669562048207.\n",
      "[I 2025-10-16 09:45:09,391] Trial 13 finished with value: 0.7590669562048207 and parameters: {'C': 0.1776745936406407}. Best is trial 0 with value: 0.7590669562048207.\n",
      "[I 2025-10-16 09:45:09,573] Trial 14 finished with value: 0.7590669562048207 and parameters: {'C': 0.36780115666777663}. Best is trial 0 with value: 0.7590669562048207.\n",
      "[I 2025-10-16 09:45:09,714] Trial 15 finished with value: 0.7584469379791685 and parameters: {'C': 0.20480553520425882}. Best is trial 0 with value: 0.7590669562048207.\n",
      "[I 2025-10-16 09:45:09,937] Trial 16 finished with value: 0.7574664440409282 and parameters: {'C': 0.47840368568237973}. Best is trial 0 with value: 0.7590669562048207.\n",
      "[I 2025-10-16 09:45:10,111] Trial 17 finished with value: 0.7590669562048207 and parameters: {'C': 0.3280050473660846}. Best is trial 0 with value: 0.7590669562048207.\n",
      "[I 2025-10-16 09:45:10,358] Trial 18 finished with value: 0.7584469379791685 and parameters: {'C': 0.6076165873131542}. Best is trial 0 with value: 0.7590669562048207.\n",
      "[I 2025-10-16 09:45:10,522] Trial 19 finished with value: 0.7584469379791685 and parameters: {'C': 0.2818976437169862}. Best is trial 0 with value: 0.7590669562048207.\n",
      "[I 2025-10-16 09:45:10,716] Trial 20 finished with value: 0.7590669562048207 and parameters: {'C': 0.3996842237859325}. Best is trial 0 with value: 0.7590669562048207.\n",
      "[I 2025-10-16 09:45:10,815] Trial 21 finished with value: 0.7590669562048207 and parameters: {'C': 0.10354715506818599}. Best is trial 0 with value: 0.7590669562048207.\n",
      "[I 2025-10-16 09:45:10,934] Trial 22 finished with value: 0.7590669562048207 and parameters: {'C': 0.15636388012563227}. Best is trial 0 with value: 0.7590669562048207.\n",
      "[I 2025-10-16 09:45:11,041] Trial 23 finished with value: 0.7584469379791685 and parameters: {'C': 0.13512469674527622}. Best is trial 0 with value: 0.7590669562048207.\n",
      "[I 2025-10-16 09:45:11,178] Trial 24 finished with value: 0.7584469379791685 and parameters: {'C': 0.19539955369906079}. Best is trial 0 with value: 0.7590669562048207.\n",
      "[I 2025-10-16 09:45:11,315] Trial 25 finished with value: 0.7584469379791685 and parameters: {'C': 0.22652080223607998}. Best is trial 0 with value: 0.7590669562048207.\n",
      "[I 2025-10-16 09:45:11,443] Trial 26 finished with value: 0.7574664440409282 and parameters: {'C': 0.16996438847797377}. Best is trial 0 with value: 0.7590669562048207.\n",
      "[I 2025-10-16 09:45:11,550] Trial 27 finished with value: 0.7590669562048207 and parameters: {'C': 0.12569420264215547}. Best is trial 0 with value: 0.7590669562048207.\n",
      "[I 2025-10-16 09:45:11,720] Trial 28 finished with value: 0.7590669562048207 and parameters: {'C': 0.32381859281476133}. Best is trial 0 with value: 0.7590669562048207.\n",
      "[I 2025-10-16 09:45:12,024] Trial 29 finished with value: 0.7590669562048207 and parameters: {'C': 0.7832714650068624}. Best is trial 0 with value: 0.7590669562048207.\n",
      "[I 2025-10-16 09:45:12,167] Trial 30 finished with value: 0.7590669562048207 and parameters: {'C': 0.2557760411553927}. Best is trial 0 with value: 0.7590669562048207.\n",
      "[I 2025-10-16 09:45:12,269] Trial 31 finished with value: 0.7590669562048207 and parameters: {'C': 0.10262524117256103}. Best is trial 0 with value: 0.7590669562048207.\n",
      "[I 2025-10-16 09:45:12,376] Trial 32 finished with value: 0.7590669562048207 and parameters: {'C': 0.12038467427758569}. Best is trial 0 with value: 0.7590669562048207.\n",
      "[I 2025-10-16 09:45:12,498] Trial 33 finished with value: 0.7590669562048207 and parameters: {'C': 0.1635445092376284}. Best is trial 0 with value: 0.7590669562048207.\n",
      "[I 2025-10-16 09:45:12,606] Trial 34 finished with value: 0.7584469379791685 and parameters: {'C': 0.11586824768104705}. Best is trial 0 with value: 0.7590669562048207.\n",
      "[I 2025-10-16 09:45:12,724] Trial 35 finished with value: 0.7590669562048207 and parameters: {'C': 0.1466170360249195}. Best is trial 0 with value: 0.7590669562048207.\n",
      "[I 2025-10-16 09:45:12,924] Trial 36 finished with value: 0.7590669562048207 and parameters: {'C': 0.44323095021663106}. Best is trial 0 with value: 0.7590669562048207.\n",
      "[I 2025-10-16 09:45:13,291] Trial 37 finished with value: 0.7584469379791685 and parameters: {'C': 0.9908696623768997}. Best is trial 0 with value: 0.7590669562048207.\n",
      "[I 2025-10-16 09:45:13,400] Trial 38 finished with value: 0.7584469379791685 and parameters: {'C': 0.13846405657410563}. Best is trial 0 with value: 0.7590669562048207.\n",
      "[I 2025-10-16 09:45:13,637] Trial 39 finished with value: 0.7584469379791685 and parameters: {'C': 0.5880163648379224}. Best is trial 0 with value: 0.7590669562048207.\n",
      "[I 2025-10-16 09:45:13,777] Trial 40 finished with value: 0.7590669562048207 and parameters: {'C': 0.21440819491208182}. Best is trial 0 with value: 0.7590669562048207.\n",
      "[I 2025-10-16 09:45:13,956] Trial 41 finished with value: 0.7590669562048207 and parameters: {'C': 0.3711223779715758}. Best is trial 0 with value: 0.7590669562048207.\n",
      "[I 2025-10-16 09:45:14,155] Trial 42 finished with value: 0.7584469379791685 and parameters: {'C': 0.4283663564033643}. Best is trial 0 with value: 0.7590669562048207.\n",
      "[I 2025-10-16 09:45:14,328] Trial 43 finished with value: 0.7584469379791685 and parameters: {'C': 0.29179567592841454}. Best is trial 0 with value: 0.7590669562048207.\n",
      "[I 2025-10-16 09:45:14,564] Trial 44 finished with value: 0.7590669562048207 and parameters: {'C': 0.5288181276789972}. Best is trial 0 with value: 0.7590669562048207.\n",
      "[I 2025-10-16 09:45:14,762] Trial 45 finished with value: 0.7584469379791685 and parameters: {'C': 0.3857134309542719}. Best is trial 0 with value: 0.7590669562048207.\n",
      "[I 2025-10-16 09:45:14,887] Trial 46 finished with value: 0.7590669562048207 and parameters: {'C': 0.19016553736637745}. Best is trial 0 with value: 0.7590669562048207.\n",
      "[I 2025-10-16 09:45:15,062] Trial 47 finished with value: 0.7590669562048207 and parameters: {'C': 0.35037324387718255}. Best is trial 0 with value: 0.7590669562048207.\n",
      "[I 2025-10-16 09:45:15,275] Trial 48 finished with value: 0.7584469379791685 and parameters: {'C': 0.482728379051776}. Best is trial 0 with value: 0.7590669562048207.\n",
      "[I 2025-10-16 09:45:15,511] Trial 49 finished with value: 0.7584469379791685 and parameters: {'C': 0.591250591130044}. Best is trial 0 with value: 0.7590669562048207.\n",
      "[I 2025-10-16 09:45:15,661] Trial 50 finished with value: 0.7590669562048207 and parameters: {'C': 0.26534999433376333}. Best is trial 0 with value: 0.7590669562048207.\n",
      "[I 2025-10-16 09:45:15,804] Trial 51 finished with value: 0.7584469379791685 and parameters: {'C': 0.23488709483749243}. Best is trial 0 with value: 0.7590669562048207.\n",
      "[I 2025-10-16 09:45:15,972] Trial 52 finished with value: 0.7584469379791685 and parameters: {'C': 0.30007438914301227}. Best is trial 0 with value: 0.7590669562048207.\n",
      "[I 2025-10-16 09:45:16,106] Trial 53 finished with value: 0.7574664440409282 and parameters: {'C': 0.1865038827632658}. Best is trial 0 with value: 0.7590669562048207.\n",
      "[I 2025-10-16 09:45:16,314] Trial 54 finished with value: 0.7584469379791685 and parameters: {'C': 0.4109591093212177}. Best is trial 0 with value: 0.7590669562048207.\n",
      "[I 2025-10-16 09:45:16,511] Trial 55 finished with value: 0.7584469379791685 and parameters: {'C': 0.34611038839338343}. Best is trial 0 with value: 0.7590669562048207.\n",
      "[I 2025-10-16 09:45:16,614] Trial 56 finished with value: 0.7590669562048207 and parameters: {'C': 0.11146623257708228}. Best is trial 0 with value: 0.7590669562048207.\n",
      "[I 2025-10-16 09:45:16,727] Trial 57 finished with value: 0.7584469379791685 and parameters: {'C': 0.12992493434769523}. Best is trial 0 with value: 0.7590669562048207.\n",
      "[I 2025-10-16 09:45:16,887] Trial 58 finished with value: 0.7590669562048207 and parameters: {'C': 0.2725839860453495}. Best is trial 0 with value: 0.7590669562048207.\n",
      "[I 2025-10-16 09:45:17,002] Trial 59 finished with value: 0.7574664440409282 and parameters: {'C': 0.14927184045119313}. Best is trial 0 with value: 0.7590669562048207.\n",
      "[I 2025-10-16 09:45:17,138] Trial 60 finished with value: 0.7584469379791685 and parameters: {'C': 0.2104963647516487}. Best is trial 0 with value: 0.7590669562048207.\n",
      "[I 2025-10-16 09:45:17,296] Trial 61 finished with value: 0.7590669562048207 and parameters: {'C': 0.3109091776023922}. Best is trial 0 with value: 0.7590669562048207.\n",
      "[I 2025-10-16 09:45:17,442] Trial 62 finished with value: 0.7584469379791685 and parameters: {'C': 0.24855755408230154}. Best is trial 0 with value: 0.7590669562048207.\n",
      "[I 2025-10-16 09:45:17,568] Trial 63 finished with value: 0.7590669562048207 and parameters: {'C': 0.17433563890110892}. Best is trial 0 with value: 0.7590669562048207.\n",
      "[I 2025-10-16 09:45:17,733] Trial 64 finished with value: 0.7590669562048207 and parameters: {'C': 0.33348227413889486}. Best is trial 0 with value: 0.7590669562048207.\n",
      "[I 2025-10-16 09:45:17,870] Trial 65 finished with value: 0.7590669562048207 and parameters: {'C': 0.2273124234983767}. Best is trial 0 with value: 0.7590669562048207.\n",
      "[I 2025-10-16 09:45:18,066] Trial 66 finished with value: 0.7590669562048207 and parameters: {'C': 0.4526919655985574}. Best is trial 0 with value: 0.7590669562048207.\n",
      "[I 2025-10-16 09:45:18,339] Trial 67 finished with value: 0.7584469379791685 and parameters: {'C': 0.6856031665656739}. Best is trial 0 with value: 0.7590669562048207.\n",
      "[I 2025-10-16 09:45:18,442] Trial 68 finished with value: 0.7590669562048207 and parameters: {'C': 0.10751838878938837}. Best is trial 0 with value: 0.7590669562048207.\n",
      "[I 2025-10-16 09:45:18,546] Trial 69 finished with value: 0.7574664440409282 and parameters: {'C': 0.1224471679774255}. Best is trial 0 with value: 0.7590669562048207.\n",
      "[I 2025-10-16 09:45:18,648] Trial 70 finished with value: 0.7590669562048207 and parameters: {'C': 0.10007575640011641}. Best is trial 0 with value: 0.7590669562048207.\n",
      "[I 2025-10-16 09:45:18,767] Trial 71 finished with value: 0.7590669562048207 and parameters: {'C': 0.16499521114178375}. Best is trial 0 with value: 0.7590669562048207.\n",
      "[I 2025-10-16 09:45:18,895] Trial 72 finished with value: 0.7590669562048207 and parameters: {'C': 0.1805428476505613}. Best is trial 0 with value: 0.7590669562048207.\n",
      "[I 2025-10-16 09:45:19,026] Trial 73 finished with value: 0.7584469379791685 and parameters: {'C': 0.20174871490389107}. Best is trial 0 with value: 0.7590669562048207.\n",
      "[I 2025-10-16 09:45:19,190] Trial 74 finished with value: 0.7584469379791685 and parameters: {'C': 0.27873563964236636}. Best is trial 0 with value: 0.7590669562048207.\n",
      "[I 2025-10-16 09:45:19,298] Trial 75 finished with value: 0.7590669562048207 and parameters: {'C': 0.1355807749017334}. Best is trial 0 with value: 0.7590669562048207.\n",
      "[I 2025-10-16 09:45:19,481] Trial 76 finished with value: 0.7590669562048207 and parameters: {'C': 0.3699089867606823}. Best is trial 0 with value: 0.7590669562048207.\n",
      "[I 2025-10-16 09:45:19,595] Trial 77 finished with value: 0.7584469379791685 and parameters: {'C': 0.14830614043278495}. Best is trial 0 with value: 0.7590669562048207.\n",
      "[I 2025-10-16 09:45:19,715] Trial 78 finished with value: 0.7590669562048207 and parameters: {'C': 0.1573902265080696}. Best is trial 0 with value: 0.7590669562048207.\n",
      "[I 2025-10-16 09:45:19,861] Trial 79 finished with value: 0.7590669562048207 and parameters: {'C': 0.24572257275583412}. Best is trial 0 with value: 0.7590669562048207.\n",
      "[I 2025-10-16 09:45:20,030] Trial 80 finished with value: 0.7590669562048207 and parameters: {'C': 0.3171544738686249}. Best is trial 0 with value: 0.7590669562048207.\n",
      "[I 2025-10-16 09:45:20,223] Trial 81 finished with value: 0.7590669562048207 and parameters: {'C': 0.40504616373893043}. Best is trial 0 with value: 0.7590669562048207.\n",
      "[I 2025-10-16 09:45:20,406] Trial 82 finished with value: 0.7590669562048207 and parameters: {'C': 0.3631088468066833}. Best is trial 0 with value: 0.7590669562048207.\n",
      "[I 2025-10-16 09:45:20,619] Trial 83 finished with value: 0.7574664440409282 and parameters: {'C': 0.47541374913008566}. Best is trial 0 with value: 0.7590669562048207.\n",
      "[I 2025-10-16 09:45:20,764] Trial 84 finished with value: 0.7590669562048207 and parameters: {'C': 0.21993623005166685}. Best is trial 0 with value: 0.7590669562048207.\n",
      "[I 2025-10-16 09:45:20,923] Trial 85 finished with value: 0.7590669562048207 and parameters: {'C': 0.288393992146831}. Best is trial 0 with value: 0.7590669562048207.\n",
      "[I 2025-10-16 09:45:21,067] Trial 86 finished with value: 0.7590669562048207 and parameters: {'C': 0.25869946010794137}. Best is trial 0 with value: 0.7590669562048207.\n",
      "[I 2025-10-16 09:45:21,254] Trial 87 finished with value: 0.7590669562048207 and parameters: {'C': 0.3868296941056596}. Best is trial 0 with value: 0.7590669562048207.\n",
      "[I 2025-10-16 09:45:21,360] Trial 88 finished with value: 0.7574664440409282 and parameters: {'C': 0.11514929662615096}. Best is trial 0 with value: 0.7590669562048207.\n",
      "[I 2025-10-16 09:45:21,518] Trial 89 finished with value: 0.7590669562048207 and parameters: {'C': 0.30398254485039333}. Best is trial 0 with value: 0.7590669562048207.\n",
      "[I 2025-10-16 09:45:21,664] Trial 90 finished with value: 0.7590669562048207 and parameters: {'C': 0.2361582647961899}. Best is trial 0 with value: 0.7590669562048207.\n",
      "[I 2025-10-16 09:45:21,858] Trial 91 finished with value: 0.7574664440409282 and parameters: {'C': 0.36036313817155274}. Best is trial 0 with value: 0.7590669562048207.\n",
      "[I 2025-10-16 09:45:22,067] Trial 92 finished with value: 0.7590669562048207 and parameters: {'C': 0.4214280617343133}. Best is trial 0 with value: 0.7590669562048207.\n",
      "[I 2025-10-16 09:45:22,243] Trial 93 finished with value: 0.7584469379791685 and parameters: {'C': 0.32697601059838516}. Best is trial 0 with value: 0.7590669562048207.\n",
      "[I 2025-10-16 09:45:22,419] Trial 94 finished with value: 0.7590669562048207 and parameters: {'C': 0.3433626496426749}. Best is trial 0 with value: 0.7590669562048207.\n",
      "[I 2025-10-16 09:45:22,611] Trial 95 finished with value: 0.7584469379791685 and parameters: {'C': 0.3862976926175099}. Best is trial 0 with value: 0.7590669562048207.\n",
      "[I 2025-10-16 09:45:22,719] Trial 96 finished with value: 0.7590669562048207 and parameters: {'C': 0.12999409715192897}. Best is trial 0 with value: 0.7590669562048207.\n",
      "[I 2025-10-16 09:45:22,934] Trial 97 finished with value: 0.7590669562048207 and parameters: {'C': 0.5092575928236842}. Best is trial 0 with value: 0.7590669562048207.\n",
      "[I 2025-10-16 09:45:23,076] Trial 98 finished with value: 0.7590669562048207 and parameters: {'C': 0.20121907371289122}. Best is trial 0 with value: 0.7590669562048207.\n",
      "[I 2025-10-16 09:45:23,284] Trial 99 finished with value: 0.7590669562048207 and parameters: {'C': 0.45312653814018194}. Best is trial 0 with value: 0.7590669562048207.\n",
      "[I 2025-10-16 09:45:23,448] Trial 100 finished with value: 0.7590669562048207 and parameters: {'C': 0.2768711748123527}. Best is trial 0 with value: 0.7590669562048207.\n",
      "[I 2025-10-16 09:45:23,638] Trial 101 finished with value: 0.7584469379791685 and parameters: {'C': 0.39929466742221065}. Best is trial 0 with value: 0.7590669562048207.\n",
      "[I 2025-10-16 09:45:23,845] Trial 102 finished with value: 0.7584469379791685 and parameters: {'C': 0.4266994840034048}. Best is trial 0 with value: 0.7590669562048207.\n",
      "[I 2025-10-16 09:45:24,016] Trial 103 finished with value: 0.7584469379791685 and parameters: {'C': 0.32842838930803836}. Best is trial 0 with value: 0.7590669562048207.\n",
      "[I 2025-10-16 09:45:24,191] Trial 104 finished with value: 0.7584469379791685 and parameters: {'C': 0.3013538851797972}. Best is trial 0 with value: 0.7590669562048207.\n",
      "[I 2025-10-16 09:45:24,368] Trial 105 finished with value: 0.7590669562048207 and parameters: {'C': 0.34355648647590425}. Best is trial 0 with value: 0.7590669562048207.\n",
      "[I 2025-10-16 09:45:24,551] Trial 106 finished with value: 0.7590669562048207 and parameters: {'C': 0.3765696774284365}. Best is trial 0 with value: 0.7590669562048207.\n",
      "[I 2025-10-16 09:45:24,687] Trial 107 finished with value: 0.7584469379791685 and parameters: {'C': 0.1737127786193888}. Best is trial 0 with value: 0.7590669562048207.\n",
      "[I 2025-10-16 09:45:24,804] Trial 108 finished with value: 0.7590669562048207 and parameters: {'C': 0.14166184913156132}. Best is trial 0 with value: 0.7590669562048207.\n",
      "[I 2025-10-16 09:45:24,960] Trial 109 finished with value: 0.7574664440409282 and parameters: {'C': 0.26145132421479733}. Best is trial 0 with value: 0.7590669562048207.\n",
      "[I 2025-10-16 09:45:25,085] Trial 110 finished with value: 0.7590669562048207 and parameters: {'C': 0.1576812063733128}. Best is trial 0 with value: 0.7590669562048207.\n",
      "[I 2025-10-16 09:45:25,185] Trial 111 finished with value: 0.7590669562048207 and parameters: {'C': 0.10445990044474925}. Best is trial 0 with value: 0.7590669562048207.\n",
      "[I 2025-10-16 09:45:25,287] Trial 112 finished with value: 0.7584469379791685 and parameters: {'C': 0.11053076973011745}. Best is trial 0 with value: 0.7590669562048207.\n",
      "[I 2025-10-16 09:45:25,393] Trial 113 finished with value: 0.7590669562048207 and parameters: {'C': 0.11848337430712925}. Best is trial 0 with value: 0.7590669562048207.\n",
      "[I 2025-10-16 09:45:25,504] Trial 114 finished with value: 0.7590669562048207 and parameters: {'C': 0.13004694074180753}. Best is trial 0 with value: 0.7590669562048207.\n",
      "[I 2025-10-16 09:45:25,700] Trial 115 finished with value: 0.7584469379791685 and parameters: {'C': 0.35532310654128896}. Best is trial 0 with value: 0.7590669562048207.\n",
      "[I 2025-10-16 09:45:25,836] Trial 116 finished with value: 0.7590669562048207 and parameters: {'C': 0.19251389349984516}. Best is trial 0 with value: 0.7590669562048207.\n",
      "[I 2025-10-16 09:45:25,943] Trial 117 finished with value: 0.7584469379791685 and parameters: {'C': 0.12415885838001157}. Best is trial 0 with value: 0.7590669562048207.\n",
      "[I 2025-10-16 09:45:26,135] Trial 118 finished with value: 0.7590669562048207 and parameters: {'C': 0.3993735688229073}. Best is trial 0 with value: 0.7590669562048207.\n",
      "[I 2025-10-16 09:45:26,283] Trial 119 finished with value: 0.7590669562048207 and parameters: {'C': 0.2321740194012591}. Best is trial 0 with value: 0.7590669562048207.\n",
      "[I 2025-10-16 09:45:26,489] Trial 120 finished with value: 0.7590669562048207 and parameters: {'C': 0.43921046630233446}. Best is trial 0 with value: 0.7590669562048207.\n",
      "[I 2025-10-16 09:45:26,618] Trial 121 finished with value: 0.7574664440409282 and parameters: {'C': 0.18404214536223115}. Best is trial 0 with value: 0.7590669562048207.\n",
      "[I 2025-10-16 09:45:26,736] Trial 122 finished with value: 0.7590669562048207 and parameters: {'C': 0.15112586179807702}. Best is trial 0 with value: 0.7590669562048207.\n",
      "[I 2025-10-16 09:45:26,836] Trial 123 finished with value: 0.7590669562048207 and parameters: {'C': 0.10567532771986098}. Best is trial 0 with value: 0.7590669562048207.\n",
      "[I 2025-10-16 09:45:26,941] Trial 124 finished with value: 0.7590669562048207 and parameters: {'C': 0.11401159789931338}. Best is trial 0 with value: 0.7590669562048207.\n",
      "[I 2025-10-16 09:45:27,067] Trial 125 finished with value: 0.7590669562048207 and parameters: {'C': 0.1692649855442386}. Best is trial 0 with value: 0.7590669562048207.\n",
      "[I 2025-10-16 09:45:27,188] Trial 126 finished with value: 0.7584469379791685 and parameters: {'C': 0.1575948551831016}. Best is trial 0 with value: 0.7590669562048207.\n",
      "[I 2025-10-16 09:45:27,325] Trial 127 finished with value: 0.7584469379791685 and parameters: {'C': 0.21535315091878374}. Best is trial 0 with value: 0.7590669562048207.\n",
      "[I 2025-10-16 09:45:27,497] Trial 128 finished with value: 0.7584469379791685 and parameters: {'C': 0.31299842008398066}. Best is trial 0 with value: 0.7590669562048207.\n",
      "[I 2025-10-16 09:45:27,707] Trial 129 finished with value: 0.7590669562048207 and parameters: {'C': 0.4601530281641244}. Best is trial 0 with value: 0.7590669562048207.\n",
      "[I 2025-10-16 09:45:27,880] Trial 130 finished with value: 0.7590669562048207 and parameters: {'C': 0.2885630380999794}. Best is trial 0 with value: 0.7590669562048207.\n",
      "[I 2025-10-16 09:45:27,993] Trial 131 finished with value: 0.7590669562048207 and parameters: {'C': 0.13412527030300728}. Best is trial 0 with value: 0.7590669562048207.\n",
      "[I 2025-10-16 09:45:28,103] Trial 132 finished with value: 0.7590669562048207 and parameters: {'C': 0.12126267501512611}. Best is trial 0 with value: 0.7590669562048207.\n",
      "[I 2025-10-16 09:45:28,216] Trial 133 finished with value: 0.7590669562048207 and parameters: {'C': 0.12521246257020258}. Best is trial 0 with value: 0.7590669562048207.\n",
      "[I 2025-10-16 09:45:28,338] Trial 134 finished with value: 0.7590669562048207 and parameters: {'C': 0.1434964566109118}. Best is trial 0 with value: 0.7590669562048207.\n",
      "[I 2025-10-16 09:45:28,444] Trial 135 finished with value: 0.7590669562048207 and parameters: {'C': 0.10893056453026498}. Best is trial 0 with value: 0.7590669562048207.\n",
      "[I 2025-10-16 09:45:28,551] Trial 136 finished with value: 0.7574664440409282 and parameters: {'C': 0.10046734418168651}. Best is trial 0 with value: 0.7590669562048207.\n",
      "[I 2025-10-16 09:45:28,761] Trial 137 finished with value: 0.7590669562048207 and parameters: {'C': 0.41984141893232885}. Best is trial 0 with value: 0.7590669562048207.\n",
      "[I 2025-10-16 09:45:28,954] Trial 138 finished with value: 0.7590669562048207 and parameters: {'C': 0.37140475319284677}. Best is trial 0 with value: 0.7590669562048207.\n",
      "[I 2025-10-16 09:45:29,132] Trial 139 finished with value: 0.7574664440409282 and parameters: {'C': 0.33392205380231}. Best is trial 0 with value: 0.7590669562048207.\n",
      "[I 2025-10-16 09:45:29,250] Trial 140 finished with value: 0.7590669562048207 and parameters: {'C': 0.13570650369658485}. Best is trial 0 with value: 0.7590669562048207.\n",
      "[I 2025-10-16 09:45:29,444] Trial 141 finished with value: 0.7574664440409282 and parameters: {'C': 0.38888276508886643}. Best is trial 0 with value: 0.7590669562048207.\n",
      "[I 2025-10-16 09:45:29,604] Trial 142 finished with value: 0.7574664440409282 and parameters: {'C': 0.2693084020106832}. Best is trial 0 with value: 0.7590669562048207.\n",
      "[I 2025-10-16 09:45:29,781] Trial 143 finished with value: 0.7584469379791685 and parameters: {'C': 0.3165018346117532}. Best is trial 0 with value: 0.7590669562048207.\n",
      "[I 2025-10-16 09:45:29,963] Trial 144 finished with value: 0.7584469379791685 and parameters: {'C': 0.3561055882455354}. Best is trial 0 with value: 0.7590669562048207.\n",
      "[I 2025-10-16 09:45:30,152] Trial 145 finished with value: 0.7584469379791685 and parameters: {'C': 0.33718892251772875}. Best is trial 0 with value: 0.7590669562048207.\n",
      "[I 2025-10-16 09:45:30,309] Trial 146 finished with value: 0.7590669562048207 and parameters: {'C': 0.250511157248526}. Best is trial 0 with value: 0.7590669562048207.\n",
      "[I 2025-10-16 09:45:30,537] Trial 147 finished with value: 0.7590669562048207 and parameters: {'C': 0.49149287821290416}. Best is trial 0 with value: 0.7590669562048207.\n",
      "[I 2025-10-16 09:45:30,708] Trial 148 finished with value: 0.7574664440409282 and parameters: {'C': 0.32157060825285205}. Best is trial 0 with value: 0.7590669562048207.\n",
      "[I 2025-10-16 09:45:30,815] Trial 149 finished with value: 0.7574664440409282 and parameters: {'C': 0.1158467668738722}. Best is trial 0 with value: 0.7590669562048207.\n",
      "[I 2025-10-16 09:45:31,017] Trial 150 finished with value: 0.7590669562048207 and parameters: {'C': 0.4047835523367515}. Best is trial 0 with value: 0.7590669562048207.\n",
      "[I 2025-10-16 09:45:31,362] Trial 151 finished with value: 0.7584469379791685 and parameters: {'C': 0.8789404909223933}. Best is trial 0 with value: 0.7590669562048207.\n",
      "[I 2025-10-16 09:45:31,664] Trial 152 finished with value: 0.7590669562048207 and parameters: {'C': 0.7640331362740588}. Best is trial 0 with value: 0.7590669562048207.\n",
      "[I 2025-10-16 09:45:31,916] Trial 153 finished with value: 0.7584469379791685 and parameters: {'C': 0.5616916832824215}. Best is trial 0 with value: 0.7590669562048207.\n",
      "[I 2025-10-16 09:45:32,186] Trial 154 finished with value: 0.7590669562048207 and parameters: {'C': 0.6197491318837438}. Best is trial 0 with value: 0.7590669562048207.\n",
      "[I 2025-10-16 09:45:32,345] Trial 155 finished with value: 0.7574664440409282 and parameters: {'C': 0.20719619768713393}. Best is trial 0 with value: 0.7590669562048207.\n",
      "[I 2025-10-16 09:45:32,517] Trial 156 finished with value: 0.7590669562048207 and parameters: {'C': 0.2984718969196983}. Best is trial 0 with value: 0.7590669562048207.\n",
      "[I 2025-10-16 09:45:32,640] Trial 157 finished with value: 0.7574664440409282 and parameters: {'C': 0.1528026612838669}. Best is trial 0 with value: 0.7590669562048207.\n",
      "[I 2025-10-16 09:45:33,002] Trial 158 finished with value: 0.7584469379791685 and parameters: {'C': 0.9275158542829767}. Best is trial 0 with value: 0.7590669562048207.\n",
      "[I 2025-10-16 09:45:33,135] Trial 159 finished with value: 0.7590669562048207 and parameters: {'C': 0.17743233407516712}. Best is trial 0 with value: 0.7590669562048207.\n",
      "[I 2025-10-16 09:45:33,250] Trial 160 finished with value: 0.7584469379791685 and parameters: {'C': 0.1282828268286614}. Best is trial 0 with value: 0.7590669562048207.\n",
      "[I 2025-10-16 09:45:33,403] Trial 161 finished with value: 0.7574664440409282 and parameters: {'C': 0.24202757383780255}. Best is trial 0 with value: 0.7590669562048207.\n",
      "[I 2025-10-16 09:45:33,561] Trial 162 finished with value: 0.7590669562048207 and parameters: {'C': 0.2615951983948593}. Best is trial 0 with value: 0.7590669562048207.\n",
      "[I 2025-10-16 09:45:33,726] Trial 163 finished with value: 0.7584469379791685 and parameters: {'C': 0.28213677665109993}. Best is trial 0 with value: 0.7590669562048207.\n",
      "[I 2025-10-16 09:45:33,871] Trial 164 finished with value: 0.7574664440409282 and parameters: {'C': 0.23110948616445098}. Best is trial 0 with value: 0.7590669562048207.\n",
      "[I 2025-10-16 09:45:33,994] Trial 165 finished with value: 0.7590669562048207 and parameters: {'C': 0.16281294597232931}. Best is trial 0 with value: 0.7590669562048207.\n",
      "[I 2025-10-16 09:45:34,144] Trial 166 finished with value: 0.7590669562048207 and parameters: {'C': 0.2557914505394715}. Best is trial 0 with value: 0.7590669562048207.\n",
      "[I 2025-10-16 09:45:34,480] Trial 167 finished with value: 0.7584469379791685 and parameters: {'C': 0.7845872349699926}. Best is trial 0 with value: 0.7590669562048207.\n",
      "[I 2025-10-16 09:45:34,594] Trial 168 finished with value: 0.7574664440409282 and parameters: {'C': 0.1411421204352886}. Best is trial 0 with value: 0.7590669562048207.\n",
      "[I 2025-10-16 09:45:34,757] Trial 169 finished with value: 0.7584469379791685 and parameters: {'C': 0.279272346068529}. Best is trial 0 with value: 0.7590669562048207.\n",
      "[I 2025-10-16 09:45:34,867] Trial 170 finished with value: 0.7590669562048207 and parameters: {'C': 0.11120567231422072}. Best is trial 0 with value: 0.7590669562048207.\n",
      "[I 2025-10-16 09:45:34,968] Trial 171 finished with value: 0.7584469379791685 and parameters: {'C': 0.10311223908726826}. Best is trial 0 with value: 0.7590669562048207.\n",
      "[I 2025-10-16 09:45:35,071] Trial 172 finished with value: 0.7590669562048207 and parameters: {'C': 0.1062900263908297}. Best is trial 0 with value: 0.7590669562048207.\n",
      "[I 2025-10-16 09:45:35,173] Trial 173 finished with value: 0.7590669562048207 and parameters: {'C': 0.10015784664759986}. Best is trial 0 with value: 0.7590669562048207.\n",
      "[I 2025-10-16 09:45:35,279] Trial 174 finished with value: 0.7584469379791685 and parameters: {'C': 0.11648202516316986}. Best is trial 0 with value: 0.7590669562048207.\n",
      "[I 2025-10-16 09:45:35,471] Trial 175 finished with value: 0.7590669562048207 and parameters: {'C': 0.3730827892210096}. Best is trial 0 with value: 0.7590669562048207.\n",
      "[I 2025-10-16 09:45:35,760] Trial 176 finished with value: 0.7590669562048207 and parameters: {'C': 0.6709049812584275}. Best is trial 0 with value: 0.7590669562048207.\n",
      "[I 2025-10-16 09:45:35,944] Trial 177 finished with value: 0.7574664440409282 and parameters: {'C': 0.3010515167390316}. Best is trial 0 with value: 0.7590669562048207.\n",
      "[I 2025-10-16 09:45:36,059] Trial 178 finished with value: 0.7590669562048207 and parameters: {'C': 0.11898158453745492}. Best is trial 0 with value: 0.7590669562048207.\n",
      "[I 2025-10-16 09:45:36,199] Trial 179 finished with value: 0.7590669562048207 and parameters: {'C': 0.21938887638066723}. Best is trial 0 with value: 0.7590669562048207.\n",
      "[I 2025-10-16 09:45:36,400] Trial 180 finished with value: 0.7574664440409282 and parameters: {'C': 0.35019252081103064}. Best is trial 0 with value: 0.7590669562048207.\n",
      "[I 2025-10-16 09:45:36,513] Trial 181 finished with value: 0.7574664440409282 and parameters: {'C': 0.1107803516666033}. Best is trial 0 with value: 0.7590669562048207.\n",
      "[I 2025-10-16 09:45:36,624] Trial 182 finished with value: 0.7590669562048207 and parameters: {'C': 0.1277969868798384}. Best is trial 0 with value: 0.7590669562048207.\n",
      "[I 2025-10-16 09:45:36,740] Trial 183 finished with value: 0.7590669562048207 and parameters: {'C': 0.1240822648751408}. Best is trial 0 with value: 0.7590669562048207.\n",
      "[I 2025-10-16 09:45:36,903] Trial 184 finished with value: 0.7574664440409282 and parameters: {'C': 0.23952718871855258}. Best is trial 0 with value: 0.7590669562048207.\n",
      "[I 2025-10-16 09:45:37,005] Trial 185 finished with value: 0.7584469379791685 and parameters: {'C': 0.11508129320178566}. Best is trial 0 with value: 0.7590669562048207.\n",
      "[I 2025-10-16 09:45:37,122] Trial 186 finished with value: 0.7590669562048207 and parameters: {'C': 0.14636438242363864}. Best is trial 0 with value: 0.7590669562048207.\n",
      "[I 2025-10-16 09:45:37,225] Trial 187 finished with value: 0.7590669562048207 and parameters: {'C': 0.10618287986415051}. Best is trial 0 with value: 0.7590669562048207.\n",
      "[I 2025-10-16 09:45:37,339] Trial 188 finished with value: 0.7590669562048207 and parameters: {'C': 0.13514699855745627}. Best is trial 0 with value: 0.7590669562048207.\n",
      "[I 2025-10-16 09:45:37,528] Trial 189 finished with value: 0.7590669562048207 and parameters: {'C': 0.388880972036969}. Best is trial 0 with value: 0.7590669562048207.\n",
      "[I 2025-10-16 09:45:37,713] Trial 190 finished with value: 0.7590669562048207 and parameters: {'C': 0.3256379261994986}. Best is trial 0 with value: 0.7590669562048207.\n",
      "[I 2025-10-16 09:45:37,846] Trial 191 finished with value: 0.7574664440409282 and parameters: {'C': 0.16800487118575355}. Best is trial 0 with value: 0.7590669562048207.\n",
      "[I 2025-10-16 09:45:37,980] Trial 192 finished with value: 0.7590669562048207 and parameters: {'C': 0.18531948406004525}. Best is trial 0 with value: 0.7590669562048207.\n",
      "[I 2025-10-16 09:45:38,099] Trial 193 finished with value: 0.7590669562048207 and parameters: {'C': 0.1583568642076202}. Best is trial 0 with value: 0.7590669562048207.\n",
      "[I 2025-10-16 09:45:38,216] Trial 194 finished with value: 0.7590669562048207 and parameters: {'C': 0.15344091064401408}. Best is trial 0 with value: 0.7590669562048207.\n",
      "[I 2025-10-16 09:45:38,382] Trial 195 finished with value: 0.7584469379791685 and parameters: {'C': 0.291188329391297}. Best is trial 0 with value: 0.7590669562048207.\n",
      "[I 2025-10-16 09:45:38,522] Trial 196 finished with value: 0.7584469379791685 and parameters: {'C': 0.1996201282441791}. Best is trial 0 with value: 0.7590669562048207.\n",
      "[I 2025-10-16 09:45:38,630] Trial 197 finished with value: 0.7574664440409282 and parameters: {'C': 0.12023607628463605}. Best is trial 0 with value: 0.7590669562048207.\n",
      "[I 2025-10-16 09:45:38,836] Trial 198 finished with value: 0.7590669562048207 and parameters: {'C': 0.4223955337005546}. Best is trial 0 with value: 0.7590669562048207.\n",
      "[I 2025-10-16 09:45:39,014] Trial 199 finished with value: 0.7590669562048207 and parameters: {'C': 0.3114846860339583}. Best is trial 0 with value: 0.7590669562048207.\n"
     ]
    },
    {
     "name": "stdout",
     "output_type": "stream",
     "text": [
      "Best value for svc_pca_TARGET_5Yrs: 0.7590669562048207\n"
     ]
    }
   ],
   "source": [
    "# Fine-tuning\n",
    "\n",
    "beta = 0.5\n",
    "n_components = 0.99\n",
    "scaler_type = \"robust\"\n",
    "n_trials = 200\n",
    "\n",
    "args = {\n",
    "    \"svc\": {\n",
    "        \"model\": \"svc\",\n",
    "        \"kernel\": \"linear\", # best empirical kernel (performances + convergence. Ex polynomial kernel with degree >= 3 does not converge (very long time per trial))\n",
    "        \"C_min\": 0.1,\n",
    "        \"C_max\": 1,\n",
    "        # \"gamma_min\": 1e-4,\n",
    "        # \"gamma_max\": 10,\n",
    "        # \"degree_min\": 1,\n",
    "        # \"degree_max\": 3,\n",
    "        # \"coef0_min\": -10,\n",
    "        # \"coef0_max\": 10,\n",
    "        \"class_weight\": \"balanced\",\n",
    "        \"random_state\": seed,\n",
    "        \"beta\": beta,\n",
    "        \"n_trials\": n_trials,\n",
    "        \"cv_folds\": n_splits,\n",
    "        \"scaler_type\": scaler_type,\n",
    "        \"pca_level\": None,\n",
    "    },\n",
    "    \"svc_pca\": {\n",
    "        \"model\": \"svc_pca\",\n",
    "        \"kernel\": \"linear\",\n",
    "        \"C_min\": 0.1,\n",
    "        \"C_max\": 1,\n",
    "        # \"gamma_min\": 1e-4,\n",
    "        # \"gamma_max\": 10,\n",
    "        # \"degree_min\": 1,\n",
    "        # \"degree_max\": 3,\n",
    "        # \"coef0_min\": -10,\n",
    "        # \"coef0_max\": 10,\n",
    "        \"class_weight\": \"balanced\",\n",
    "        \"random_state\": seed,\n",
    "        \"beta\": beta,\n",
    "        \"n_trials\": n_trials,\n",
    "        \"cv_folds\": n_splits,\n",
    "        \"scaler_type\": scaler_type,\n",
    "        \"pca_level\": n_components,\n",
    "    }\n",
    "}\n",
    "\n",
    "\n",
    "def objective(trial, args: dict, X_train: np.array, y_train: np.array):\n",
    "    model_name = args[\"model\"]\n",
    "    if model_name in [\"svc\",\"svc_pca\"]:\n",
    "        h_params = args.copy()\n",
    "        h_params[\"kernel\"] = args[\"kernel\"] # best empirical kernel\n",
    "        h_params[\"C\"] = trial.suggest_float(\"C\", args[\"C_min\"], args[\"C_max\"], log=True)\n",
    "        if args[\"scaler_type\"] == \"robust\":\n",
    "            h_params[\"scaler\"] = RobustScaler()\n",
    "        if args[\"pca_level\"] is not None:\n",
    "            h_params[\"pca\"] = PCA(n_components=args[\"pca_level\"],random_state=h_params[\"random_state\"])\n",
    "        else:\n",
    "            h_params[\"pca\"] = None\n",
    "\n",
    "    else:\n",
    "        raise NotImplementedError(f\"Objective function not developped for model {model_name}\")\n",
    "    \n",
    "    return cv_score(model_name, h_params, X_train, y_train)\n",
    "\n",
    "def cv_score(model_name: str, h_params: dict, X_train: np.array, y_train: np.array):\n",
    "    if model_name in [\"svc\",\"svc_pca\"]:\n",
    "        model = SVEstimator(h_params)\n",
    "        score = model.cross_validate(X_train, y_train)\n",
    "        return score\n",
    "    else:\n",
    "        raise NotImplementedError(f\"Scoring function not developped for model {model_name}\")\n",
    "\n",
    "\n",
    "storage_url = \"sqlite:///db.sqlite3\"\n",
    "storage = RDBStorage(url=storage_url)\n",
    "\n",
    "# Run optimization for both SVC configurations\n",
    "for config_name, config_args in args.items():\n",
    "    study_name = config_args[\"model\"] + \"_\" + target\n",
    "    \n",
    "    # Delete existing study if it exists\n",
    "    studies = storage.get_all_studies()\n",
    "    if any(s.study_name == study_name for s in studies):\n",
    "        optuna.delete_study(study_name=study_name, storage=storage_url)\n",
    "        print(f\"Deleted existing study: {study_name}\")\n",
    "    \n",
    "    # Create new study\n",
    "    study = optuna.create_study(\n",
    "        storage=storage_url,\n",
    "        study_name=study_name,\n",
    "        direction=\"maximize\",\n",
    "        sampler=optuna.samplers.TPESampler(seed=seed)\n",
    "    )\n",
    "    \n",
    "    # Create partial objective function with current configuration\n",
    "    objective_partial = partial(\n",
    "        objective,\n",
    "        args=config_args,\n",
    "        X_train=X_train,\n",
    "        y_train=y_train,\n",
    "    )\n",
    "    \n",
    "    # Run optimization\n",
    "    print(f\"Optimizing {study_name}...\")\n",
    "    study.optimize(objective_partial, n_trials=config_args[\"n_trials\"], n_jobs=1)\n",
    "    print(f\"Best value for {study_name}: {study.best_value}\")"
   ]
  },
  {
   "cell_type": "markdown",
   "id": "046121a0",
   "metadata": {},
   "source": [
    "1) **Polynomial kernel** is to **complex** to use on my machine (very long trial time when degre >= 3).\n",
    "2) **Linear kernel** is giving best fine-tuning scores (in particular better than polynomial with degree = 2) among remaining kernels (which aligns with the results obtained with logistic regression : linear models seem to work well on our dataset). <br>\n",
    "Commented \"args\" parts in refer to parameters that may be used with other kernels (rbf, sigmoid, polynoimial ...)"
   ]
  },
  {
   "cell_type": "code",
   "execution_count": 5,
   "id": "789e3145",
   "metadata": {},
   "outputs": [
    {
     "name": "stdout",
     "output_type": "stream",
     "text": [
      "svc\n",
      "Best CV score: 0.7721\n",
      "svc_pca\n",
      "Best CV score: 0.7591\n"
     ]
    }
   ],
   "source": [
    "# Best models details\n",
    "best_configs = {}\n",
    "\n",
    "study_names = [\"svc_TARGET_5Yrs\", \"svc_pca_TARGET_5Yrs\"]\n",
    "\n",
    "for study_name in study_names:\n",
    "    name = \"_\".join(study_name.split(\"_\")[:-2])\n",
    "    print(name)\n",
    "    study = optuna.load_study(study_name=study_name, storage=storage_url)\n",
    "    best_configs[name] = study.best_params\n",
    "    cv_score = study.best_value\n",
    "    print(f\"Best CV score: {cv_score:.4f}\")"
   ]
  },
  {
   "cell_type": "code",
   "execution_count": 6,
   "id": "4de0bb3b",
   "metadata": {},
   "outputs": [
    {
     "name": "stdout",
     "output_type": "stream",
     "text": [
      "Dummy CV Score: 0.6750\n",
      "SVC CV Score: 0.7721\n",
      "SVC+PCA CV Score: 0.7591\n"
     ]
    },
    {
     "data": {
      "application/vnd.plotly.v1+json": {
       "config": {
        "plotlyServerURL": "https://plot.ly"
       },
       "data": [
        {
         "legendgroup": "Dummy",
         "line": {
          "color": "red"
         },
         "mode": "lines+markers",
         "name": "Dummy",
         "showlegend": true,
         "type": "scatter",
         "x": [
          1,
          2,
          3,
          4
         ],
         "xaxis": "x",
         "y": [
          0.6243523316062176,
          0.6243523316062176,
          0.6248382923673997,
          0.6235446313065977
         ],
         "yaxis": "y"
        },
        {
         "legendgroup": "Dummy",
         "line": {
          "color": "red"
         },
         "mode": "lines+markers",
         "name": "Dummy Train Recall",
         "showlegend": false,
         "type": "scatter",
         "x": [
          1,
          2,
          3,
          4
         ],
         "xaxis": "x2",
         "y": [
          1,
          1,
          1,
          1
         ],
         "yaxis": "y2"
        },
        {
         "legendgroup": "Dummy",
         "line": {
          "color": "red"
         },
         "mode": "lines+markers",
         "name": "Dummy Train F0.5",
         "showlegend": false,
         "type": "scatter",
         "x": [
          1,
          2,
          3,
          4
         ],
         "xaxis": "x3",
         "y": [
          0.6750700280112045,
          0.6750700280112045,
          0.6755244755244755,
          0.6743144935646335
         ],
         "yaxis": "y3"
        },
        {
         "legendgroup": "Dummy",
         "line": {
          "color": "red"
         },
         "mode": "lines+markers",
         "name": "Dummy Valid Precision",
         "showlegend": false,
         "type": "scatter",
         "x": [
          1,
          2,
          3,
          4
         ],
         "xaxis": "x4",
         "y": [
          0.624031007751938,
          0.624031007751938,
          0.622568093385214,
          0.6264591439688716
         ],
         "yaxis": "y4"
        },
        {
         "legendgroup": "Dummy",
         "line": {
          "color": "red"
         },
         "mode": "lines+markers",
         "name": "Dummy Valid Recall",
         "showlegend": false,
         "type": "scatter",
         "x": [
          1,
          2,
          3,
          4
         ],
         "xaxis": "x5",
         "y": [
          1,
          1,
          1,
          1
         ],
         "yaxis": "y5"
        },
        {
         "legendgroup": "Dummy",
         "line": {
          "color": "red"
         },
         "mode": "lines+markers",
         "name": "Dummy Valid F0.5",
         "showlegend": false,
         "type": "scatter",
         "x": [
          1,
          2,
          3,
          4
         ],
         "xaxis": "x6",
         "y": [
          0.6747694886839899,
          0.6747694886839899,
          0.6734006734006734,
          0.6770395290159799
         ],
         "yaxis": "y6"
        },
        {
         "legendgroup": "SVC",
         "line": {
          "color": "blue"
         },
         "mode": "lines+markers",
         "name": "SVC",
         "showlegend": true,
         "type": "scatter",
         "x": [
          1,
          2,
          3,
          4
         ],
         "xaxis": "x",
         "y": [
          0.7901234567901234,
          0.8196286472148541,
          0.8203125,
          0.7994987468671679
         ],
         "yaxis": "y"
        },
        {
         "legendgroup": "SVC",
         "line": {
          "color": "blue"
         },
         "mode": "lines+markers",
         "name": "SVC Train Recall",
         "showlegend": false,
         "type": "scatter",
         "x": [
          1,
          2,
          3,
          4
         ],
         "xaxis": "x2",
         "y": [
          0.6639004149377593,
          0.6410788381742739,
          0.6521739130434783,
          0.6618257261410788
         ],
         "yaxis": "y2"
        },
        {
         "legendgroup": "SVC",
         "line": {
          "color": "blue"
         },
         "mode": "lines+markers",
         "name": "SVC Train F0.5",
         "showlegend": false,
         "type": "scatter",
         "x": [
          1,
          2,
          3,
          4
         ],
         "xaxis": "x3",
         "y": [
          0.7611798287345385,
          0.7763819095477387,
          0.7800891530460624,
          0.7675649663137633
         ],
         "yaxis": "y3"
        },
        {
         "legendgroup": "SVC",
         "line": {
          "color": "blue"
         },
         "mode": "lines+markers",
         "name": "SVC Valid Precision",
         "showlegend": false,
         "type": "scatter",
         "x": [
          1,
          2,
          3,
          4
         ],
         "xaxis": "x4",
         "y": [
          0.7943262411347518,
          0.8294573643410853,
          0.7857142857142857,
          0.8203125
         ],
         "yaxis": "y4"
        },
        {
         "legendgroup": "SVC",
         "line": {
          "color": "blue"
         },
         "mode": "lines+markers",
         "name": "SVC Valid Recall",
         "showlegend": false,
         "type": "scatter",
         "x": [
          1,
          2,
          3,
          4
         ],
         "xaxis": "x5",
         "y": [
          0.6956521739130435,
          0.6645962732919255,
          0.61875,
          0.6521739130434783
         ],
         "yaxis": "y5"
        },
        {
         "legendgroup": "SVC",
         "line": {
          "color": "blue"
         },
         "mode": "lines+markers",
         "name": "SVC Valid F0.5",
         "showlegend": false,
         "type": "scatter",
         "x": [
          1,
          2,
          3,
          4
         ],
         "xaxis": "x6",
         "y": [
          0.7724137931034483,
          0.7902511078286558,
          0.7454819277108434,
          0.7800891530460624
         ],
         "yaxis": "y6"
        },
        {
         "legendgroup": "SVC+PCA",
         "line": {
          "color": "green"
         },
         "mode": "lines+markers",
         "name": "SVC+PCA",
         "showlegend": true,
         "type": "scatter",
         "x": [
          1,
          2,
          3,
          4
         ],
         "xaxis": "x",
         "y": [
          0.78125,
          0.7811764705882352,
          0.7918660287081339,
          0.7828162291169452
         ],
         "yaxis": "y"
        },
        {
         "legendgroup": "SVC+PCA",
         "line": {
          "color": "green"
         },
         "mode": "lines+markers",
         "name": "SVC+PCA Train Recall",
         "showlegend": false,
         "type": "scatter",
         "x": [
          1,
          2,
          3,
          4
         ],
         "xaxis": "x2",
         "y": [
          0.6742738589211619,
          0.6887966804979253,
          0.6853002070393375,
          0.6804979253112033
         ],
         "yaxis": "y2"
        },
        {
         "legendgroup": "SVC+PCA",
         "line": {
          "color": "green"
         },
         "mode": "lines+markers",
         "name": "SVC+PCA Train F0.5",
         "showlegend": false,
         "type": "scatter",
         "x": [
          1,
          2,
          3,
          4
         ],
         "xaxis": "x3",
         "y": [
          0.7572227399813607,
          0.7607699358386801,
          0.7679814385150812,
          0.7599629286376274
         ],
         "yaxis": "y3"
        },
        {
         "legendgroup": "SVC+PCA",
         "line": {
          "color": "green"
         },
         "mode": "lines+markers",
         "name": "SVC+PCA Valid Precision",
         "showlegend": false,
         "type": "scatter",
         "x": [
          1,
          2,
          3,
          4
         ],
         "xaxis": "x4",
         "y": [
          0.7741935483870968,
          0.7916666666666666,
          0.7596899224806202,
          0.7928571428571428
         ],
         "yaxis": "y4"
        },
        {
         "legendgroup": "SVC+PCA",
         "line": {
          "color": "green"
         },
         "mode": "lines+markers",
         "name": "SVC+PCA Valid Recall",
         "showlegend": false,
         "type": "scatter",
         "x": [
          1,
          2,
          3,
          4
         ],
         "xaxis": "x5",
         "y": [
          0.7453416149068323,
          0.7080745341614907,
          0.6125,
          0.6894409937888198
         ],
         "yaxis": "y5"
        },
        {
         "legendgroup": "SVC+PCA",
         "line": {
          "color": "green"
         },
         "mode": "lines+markers",
         "name": "SVC+PCA Valid F0.5",
         "showlegend": false,
         "type": "scatter",
         "x": [
          1,
          2,
          3,
          4
         ],
         "xaxis": "x6",
         "y": [
          0.7682458386683739,
          0.7734056987788331,
          0.7248520710059172,
          0.7697642163661581
         ],
         "yaxis": "y6"
        }
       ],
       "layout": {
        "annotations": [
         {
          "font": {
           "size": 16
          },
          "showarrow": false,
          "text": "Precision",
          "x": 0.1411111111111111,
          "xanchor": "center",
          "xref": "paper",
          "y": 1,
          "yanchor": "bottom",
          "yref": "paper"
         },
         {
          "font": {
           "size": 16
          },
          "showarrow": false,
          "text": "Recall",
          "x": 0.49,
          "xanchor": "center",
          "xref": "paper",
          "y": 1,
          "yanchor": "bottom",
          "yref": "paper"
         },
         {
          "font": {
           "size": 16
          },
          "showarrow": false,
          "text": "F0.5 Score",
          "x": 0.8388888888888888,
          "xanchor": "center",
          "xref": "paper",
          "y": 1,
          "yanchor": "bottom",
          "yref": "paper"
         },
         {
          "font": {
           "size": 16
          },
          "showarrow": false,
          "text": "Train",
          "textangle": 90,
          "x": 0.98,
          "xanchor": "left",
          "xref": "paper",
          "y": 0.775,
          "yanchor": "middle",
          "yref": "paper"
         },
         {
          "font": {
           "size": 16
          },
          "showarrow": false,
          "text": "Validation",
          "textangle": 90,
          "x": 0.98,
          "xanchor": "left",
          "xref": "paper",
          "y": 0.225,
          "yanchor": "middle",
          "yref": "paper"
         }
        ],
        "height": 600,
        "template": {
         "data": {
          "bar": [
           {
            "error_x": {
             "color": "#2a3f5f"
            },
            "error_y": {
             "color": "#2a3f5f"
            },
            "marker": {
             "line": {
              "color": "#E5ECF6",
              "width": 0.5
             },
             "pattern": {
              "fillmode": "overlay",
              "size": 10,
              "solidity": 0.2
             }
            },
            "type": "bar"
           }
          ],
          "barpolar": [
           {
            "marker": {
             "line": {
              "color": "#E5ECF6",
              "width": 0.5
             },
             "pattern": {
              "fillmode": "overlay",
              "size": 10,
              "solidity": 0.2
             }
            },
            "type": "barpolar"
           }
          ],
          "carpet": [
           {
            "aaxis": {
             "endlinecolor": "#2a3f5f",
             "gridcolor": "white",
             "linecolor": "white",
             "minorgridcolor": "white",
             "startlinecolor": "#2a3f5f"
            },
            "baxis": {
             "endlinecolor": "#2a3f5f",
             "gridcolor": "white",
             "linecolor": "white",
             "minorgridcolor": "white",
             "startlinecolor": "#2a3f5f"
            },
            "type": "carpet"
           }
          ],
          "choropleth": [
           {
            "colorbar": {
             "outlinewidth": 0,
             "ticks": ""
            },
            "type": "choropleth"
           }
          ],
          "contour": [
           {
            "colorbar": {
             "outlinewidth": 0,
             "ticks": ""
            },
            "colorscale": [
             [
              0,
              "#0d0887"
             ],
             [
              0.1111111111111111,
              "#46039f"
             ],
             [
              0.2222222222222222,
              "#7201a8"
             ],
             [
              0.3333333333333333,
              "#9c179e"
             ],
             [
              0.4444444444444444,
              "#bd3786"
             ],
             [
              0.5555555555555556,
              "#d8576b"
             ],
             [
              0.6666666666666666,
              "#ed7953"
             ],
             [
              0.7777777777777778,
              "#fb9f3a"
             ],
             [
              0.8888888888888888,
              "#fdca26"
             ],
             [
              1,
              "#f0f921"
             ]
            ],
            "type": "contour"
           }
          ],
          "contourcarpet": [
           {
            "colorbar": {
             "outlinewidth": 0,
             "ticks": ""
            },
            "type": "contourcarpet"
           }
          ],
          "heatmap": [
           {
            "colorbar": {
             "outlinewidth": 0,
             "ticks": ""
            },
            "colorscale": [
             [
              0,
              "#0d0887"
             ],
             [
              0.1111111111111111,
              "#46039f"
             ],
             [
              0.2222222222222222,
              "#7201a8"
             ],
             [
              0.3333333333333333,
              "#9c179e"
             ],
             [
              0.4444444444444444,
              "#bd3786"
             ],
             [
              0.5555555555555556,
              "#d8576b"
             ],
             [
              0.6666666666666666,
              "#ed7953"
             ],
             [
              0.7777777777777778,
              "#fb9f3a"
             ],
             [
              0.8888888888888888,
              "#fdca26"
             ],
             [
              1,
              "#f0f921"
             ]
            ],
            "type": "heatmap"
           }
          ],
          "histogram": [
           {
            "marker": {
             "pattern": {
              "fillmode": "overlay",
              "size": 10,
              "solidity": 0.2
             }
            },
            "type": "histogram"
           }
          ],
          "histogram2d": [
           {
            "colorbar": {
             "outlinewidth": 0,
             "ticks": ""
            },
            "colorscale": [
             [
              0,
              "#0d0887"
             ],
             [
              0.1111111111111111,
              "#46039f"
             ],
             [
              0.2222222222222222,
              "#7201a8"
             ],
             [
              0.3333333333333333,
              "#9c179e"
             ],
             [
              0.4444444444444444,
              "#bd3786"
             ],
             [
              0.5555555555555556,
              "#d8576b"
             ],
             [
              0.6666666666666666,
              "#ed7953"
             ],
             [
              0.7777777777777778,
              "#fb9f3a"
             ],
             [
              0.8888888888888888,
              "#fdca26"
             ],
             [
              1,
              "#f0f921"
             ]
            ],
            "type": "histogram2d"
           }
          ],
          "histogram2dcontour": [
           {
            "colorbar": {
             "outlinewidth": 0,
             "ticks": ""
            },
            "colorscale": [
             [
              0,
              "#0d0887"
             ],
             [
              0.1111111111111111,
              "#46039f"
             ],
             [
              0.2222222222222222,
              "#7201a8"
             ],
             [
              0.3333333333333333,
              "#9c179e"
             ],
             [
              0.4444444444444444,
              "#bd3786"
             ],
             [
              0.5555555555555556,
              "#d8576b"
             ],
             [
              0.6666666666666666,
              "#ed7953"
             ],
             [
              0.7777777777777778,
              "#fb9f3a"
             ],
             [
              0.8888888888888888,
              "#fdca26"
             ],
             [
              1,
              "#f0f921"
             ]
            ],
            "type": "histogram2dcontour"
           }
          ],
          "mesh3d": [
           {
            "colorbar": {
             "outlinewidth": 0,
             "ticks": ""
            },
            "type": "mesh3d"
           }
          ],
          "parcoords": [
           {
            "line": {
             "colorbar": {
              "outlinewidth": 0,
              "ticks": ""
             }
            },
            "type": "parcoords"
           }
          ],
          "pie": [
           {
            "automargin": true,
            "type": "pie"
           }
          ],
          "scatter": [
           {
            "fillpattern": {
             "fillmode": "overlay",
             "size": 10,
             "solidity": 0.2
            },
            "type": "scatter"
           }
          ],
          "scatter3d": [
           {
            "line": {
             "colorbar": {
              "outlinewidth": 0,
              "ticks": ""
             }
            },
            "marker": {
             "colorbar": {
              "outlinewidth": 0,
              "ticks": ""
             }
            },
            "type": "scatter3d"
           }
          ],
          "scattercarpet": [
           {
            "marker": {
             "colorbar": {
              "outlinewidth": 0,
              "ticks": ""
             }
            },
            "type": "scattercarpet"
           }
          ],
          "scattergeo": [
           {
            "marker": {
             "colorbar": {
              "outlinewidth": 0,
              "ticks": ""
             }
            },
            "type": "scattergeo"
           }
          ],
          "scattergl": [
           {
            "marker": {
             "colorbar": {
              "outlinewidth": 0,
              "ticks": ""
             }
            },
            "type": "scattergl"
           }
          ],
          "scattermap": [
           {
            "marker": {
             "colorbar": {
              "outlinewidth": 0,
              "ticks": ""
             }
            },
            "type": "scattermap"
           }
          ],
          "scattermapbox": [
           {
            "marker": {
             "colorbar": {
              "outlinewidth": 0,
              "ticks": ""
             }
            },
            "type": "scattermapbox"
           }
          ],
          "scatterpolar": [
           {
            "marker": {
             "colorbar": {
              "outlinewidth": 0,
              "ticks": ""
             }
            },
            "type": "scatterpolar"
           }
          ],
          "scatterpolargl": [
           {
            "marker": {
             "colorbar": {
              "outlinewidth": 0,
              "ticks": ""
             }
            },
            "type": "scatterpolargl"
           }
          ],
          "scatterternary": [
           {
            "marker": {
             "colorbar": {
              "outlinewidth": 0,
              "ticks": ""
             }
            },
            "type": "scatterternary"
           }
          ],
          "surface": [
           {
            "colorbar": {
             "outlinewidth": 0,
             "ticks": ""
            },
            "colorscale": [
             [
              0,
              "#0d0887"
             ],
             [
              0.1111111111111111,
              "#46039f"
             ],
             [
              0.2222222222222222,
              "#7201a8"
             ],
             [
              0.3333333333333333,
              "#9c179e"
             ],
             [
              0.4444444444444444,
              "#bd3786"
             ],
             [
              0.5555555555555556,
              "#d8576b"
             ],
             [
              0.6666666666666666,
              "#ed7953"
             ],
             [
              0.7777777777777778,
              "#fb9f3a"
             ],
             [
              0.8888888888888888,
              "#fdca26"
             ],
             [
              1,
              "#f0f921"
             ]
            ],
            "type": "surface"
           }
          ],
          "table": [
           {
            "cells": {
             "fill": {
              "color": "#EBF0F8"
             },
             "line": {
              "color": "white"
             }
            },
            "header": {
             "fill": {
              "color": "#C8D4E3"
             },
             "line": {
              "color": "white"
             }
            },
            "type": "table"
           }
          ]
         },
         "layout": {
          "annotationdefaults": {
           "arrowcolor": "#2a3f5f",
           "arrowhead": 0,
           "arrowwidth": 1
          },
          "autotypenumbers": "strict",
          "coloraxis": {
           "colorbar": {
            "outlinewidth": 0,
            "ticks": ""
           }
          },
          "colorscale": {
           "diverging": [
            [
             0,
             "#8e0152"
            ],
            [
             0.1,
             "#c51b7d"
            ],
            [
             0.2,
             "#de77ae"
            ],
            [
             0.3,
             "#f1b6da"
            ],
            [
             0.4,
             "#fde0ef"
            ],
            [
             0.5,
             "#f7f7f7"
            ],
            [
             0.6,
             "#e6f5d0"
            ],
            [
             0.7,
             "#b8e186"
            ],
            [
             0.8,
             "#7fbc41"
            ],
            [
             0.9,
             "#4d9221"
            ],
            [
             1,
             "#276419"
            ]
           ],
           "sequential": [
            [
             0,
             "#0d0887"
            ],
            [
             0.1111111111111111,
             "#46039f"
            ],
            [
             0.2222222222222222,
             "#7201a8"
            ],
            [
             0.3333333333333333,
             "#9c179e"
            ],
            [
             0.4444444444444444,
             "#bd3786"
            ],
            [
             0.5555555555555556,
             "#d8576b"
            ],
            [
             0.6666666666666666,
             "#ed7953"
            ],
            [
             0.7777777777777778,
             "#fb9f3a"
            ],
            [
             0.8888888888888888,
             "#fdca26"
            ],
            [
             1,
             "#f0f921"
            ]
           ],
           "sequentialminus": [
            [
             0,
             "#0d0887"
            ],
            [
             0.1111111111111111,
             "#46039f"
            ],
            [
             0.2222222222222222,
             "#7201a8"
            ],
            [
             0.3333333333333333,
             "#9c179e"
            ],
            [
             0.4444444444444444,
             "#bd3786"
            ],
            [
             0.5555555555555556,
             "#d8576b"
            ],
            [
             0.6666666666666666,
             "#ed7953"
            ],
            [
             0.7777777777777778,
             "#fb9f3a"
            ],
            [
             0.8888888888888888,
             "#fdca26"
            ],
            [
             1,
             "#f0f921"
            ]
           ]
          },
          "colorway": [
           "#636efa",
           "#EF553B",
           "#00cc96",
           "#ab63fa",
           "#FFA15A",
           "#19d3f3",
           "#FF6692",
           "#B6E880",
           "#FF97FF",
           "#FECB52"
          ],
          "font": {
           "color": "#2a3f5f"
          },
          "geo": {
           "bgcolor": "white",
           "lakecolor": "white",
           "landcolor": "#E5ECF6",
           "showlakes": true,
           "showland": true,
           "subunitcolor": "white"
          },
          "hoverlabel": {
           "align": "left"
          },
          "hovermode": "closest",
          "mapbox": {
           "style": "light"
          },
          "paper_bgcolor": "white",
          "plot_bgcolor": "#E5ECF6",
          "polar": {
           "angularaxis": {
            "gridcolor": "white",
            "linecolor": "white",
            "ticks": ""
           },
           "bgcolor": "#E5ECF6",
           "radialaxis": {
            "gridcolor": "white",
            "linecolor": "white",
            "ticks": ""
           }
          },
          "scene": {
           "xaxis": {
            "backgroundcolor": "#E5ECF6",
            "gridcolor": "white",
            "gridwidth": 2,
            "linecolor": "white",
            "showbackground": true,
            "ticks": "",
            "zerolinecolor": "white"
           },
           "yaxis": {
            "backgroundcolor": "#E5ECF6",
            "gridcolor": "white",
            "gridwidth": 2,
            "linecolor": "white",
            "showbackground": true,
            "ticks": "",
            "zerolinecolor": "white"
           },
           "zaxis": {
            "backgroundcolor": "#E5ECF6",
            "gridcolor": "white",
            "gridwidth": 2,
            "linecolor": "white",
            "showbackground": true,
            "ticks": "",
            "zerolinecolor": "white"
           }
          },
          "shapedefaults": {
           "line": {
            "color": "#2a3f5f"
           }
          },
          "ternary": {
           "aaxis": {
            "gridcolor": "white",
            "linecolor": "white",
            "ticks": ""
           },
           "baxis": {
            "gridcolor": "white",
            "linecolor": "white",
            "ticks": ""
           },
           "bgcolor": "#E5ECF6",
           "caxis": {
            "gridcolor": "white",
            "linecolor": "white",
            "ticks": ""
           }
          },
          "title": {
           "x": 0.05
          },
          "xaxis": {
           "automargin": true,
           "gridcolor": "white",
           "linecolor": "white",
           "ticks": "",
           "title": {
            "standoff": 15
           },
           "zerolinecolor": "white",
           "zerolinewidth": 2
          },
          "yaxis": {
           "automargin": true,
           "gridcolor": "white",
           "linecolor": "white",
           "ticks": "",
           "title": {
            "standoff": 15
           },
           "zerolinecolor": "white",
           "zerolinewidth": 2
          }
         }
        },
        "title": {
         "text": "Cross-Validation Metrics Across Folds"
        },
        "width": 1500,
        "xaxis": {
         "anchor": "y",
         "domain": [
          0,
          0.2822222222222222
         ],
         "title": {
          "text": "Fold"
         }
        },
        "xaxis2": {
         "anchor": "y2",
         "domain": [
          0.34888888888888886,
          0.6311111111111111
         ],
         "title": {
          "text": "Fold"
         }
        },
        "xaxis3": {
         "anchor": "y3",
         "domain": [
          0.6977777777777777,
          0.98
         ],
         "title": {
          "text": "Fold"
         }
        },
        "xaxis4": {
         "anchor": "y4",
         "domain": [
          0,
          0.2822222222222222
         ],
         "title": {
          "text": "Fold"
         }
        },
        "xaxis5": {
         "anchor": "y5",
         "domain": [
          0.34888888888888886,
          0.6311111111111111
         ],
         "title": {
          "text": "Fold"
         }
        },
        "xaxis6": {
         "anchor": "y6",
         "domain": [
          0.6977777777777777,
          0.98
         ],
         "title": {
          "text": "Fold"
         }
        },
        "yaxis": {
         "anchor": "x",
         "domain": [
          0.55,
          1
         ],
         "title": {
          "text": "Score"
         }
        },
        "yaxis2": {
         "anchor": "x2",
         "domain": [
          0.55,
          1
         ],
         "title": {
          "text": "Score"
         }
        },
        "yaxis3": {
         "anchor": "x3",
         "domain": [
          0.55,
          1
         ],
         "title": {
          "text": "Score"
         }
        },
        "yaxis4": {
         "anchor": "x4",
         "domain": [
          0,
          0.45
         ],
         "title": {
          "text": "Score"
         }
        },
        "yaxis5": {
         "anchor": "x5",
         "domain": [
          0,
          0.45
         ],
         "title": {
          "text": "Score"
         }
        },
        "yaxis6": {
         "anchor": "x6",
         "domain": [
          0,
          0.45
         ],
         "title": {
          "text": "Score"
         }
        }
       }
      }
     },
     "metadata": {},
     "output_type": "display_data"
    }
   ],
   "source": [
    "# Instantiate estimators and cross validate\n",
    "dummy_params = {\n",
    "    \"strategy\": \"most_frequent\",\n",
    "    \"random_state\": seed,\n",
    "    \"cv_folds\": n_splits,\n",
    "    \"beta\": beta,\n",
    "}\n",
    "dummy = DummyEstimator(dummy_params)\n",
    "dummy_score = dummy.cross_validate(X_train, y_train)\n",
    "\n",
    "# SVC without PCA\n",
    "svc_params = best_configs['svc']\n",
    "svc_params.update({\n",
    "    \"kernel\": args['svc'][\"kernel\"],\n",
    "    \"class_weight\": args['svc'][\"class_weight\"],\n",
    "    \"random_state\": seed,\n",
    "    \"cv_folds\": n_splits,\n",
    "    \"beta\": beta,\n",
    "    \"pca\": None,\n",
    "})\n",
    "if args[\"svc\"][\"scaler_type\"] == \"robust\":\n",
    "    svc_params[\"scaler\"] = RobustScaler() \n",
    "\n",
    "svc = SVEstimator(svc_params)\n",
    "svc_score = svc.cross_validate(X_train, y_train)\n",
    "\n",
    "# SVC with PCA\n",
    "svc_pca_params = best_configs['svc_pca']\n",
    "svc_pca_params.update({\n",
    "    \"kernel\": args['svc_pca'][\"kernel\"],\n",
    "    \"class_weight\": args['svc_pca'][\"class_weight\"],\n",
    "    \"random_state\": seed,\n",
    "    \"cv_folds\": n_splits,\n",
    "    \"beta\": beta,\n",
    "})\n",
    "if args[\"svc_pca\"][\"scaler_type\"] == \"robust\":\n",
    "    svc_pca_params[\"scaler\"] = RobustScaler()\n",
    "\n",
    "if args[\"svc_pca\"][\"pca_level\"] is not None:\n",
    "    svc_pca_params[\"pca\"] = PCA(n_components=args[\"svc_pca\"][\"pca_level\"], random_state=args[\"svc_pca\"][\"random_state\"])\n",
    "\n",
    "svc_pca = SVEstimator(svc_pca_params)\n",
    "svc_pca_score = svc_pca.cross_validate(X_train, y_train)\n",
    "\n",
    "print(f\"Dummy CV Score: {dummy_score:.4f}\")\n",
    "print(f\"SVC CV Score: {svc_score:.4f}\")\n",
    "print(f\"SVC+PCA CV Score: {svc_pca_score:.4f}\")\n",
    "\n",
    "# Create metrics visualization across folds\n",
    "fig = make_subplots(\n",
    "    rows=2, cols=3,\n",
    "    subplot_titles=('Precision', 'Recall', f'F{beta} Score'),\n",
    "    row_titles=['Train', 'Validation'],\n",
    "    vertical_spacing=0.1\n",
    ")\n",
    "\n",
    "models = {'Dummy': dummy, 'SVC': svc, 'SVC+PCA': svc_pca}\n",
    "colors = {'Dummy': 'red', 'SVC': 'blue', 'SVC+PCA': 'green'}\n",
    "\n",
    "for model_name, model in models.items():\n",
    "    color = colors[model_name]\n",
    "    \n",
    "    # Train metrics\n",
    "    fig.add_trace(\n",
    "        go.Scatter(x=list(range(1, n_splits+1)), \n",
    "                  y=model.cv_scores['train']['precision'],\n",
    "                  mode='lines+markers', \n",
    "                  name=f'{model_name}',\n",
    "                  line=dict(color=color),\n",
    "                  legendgroup=model_name,\n",
    "                  showlegend=True),\n",
    "        row=1, col=1\n",
    "    )\n",
    "    \n",
    "    fig.add_trace(\n",
    "        go.Scatter(x=list(range(1, n_splits+1)), \n",
    "                  y=model.cv_scores['train']['recall'],\n",
    "                  mode='lines+markers', \n",
    "                  name=f'{model_name} Train Recall',\n",
    "                  line=dict(color=color),\n",
    "                  legendgroup=model_name,\n",
    "                  showlegend=False),\n",
    "        row=1, col=2\n",
    "    )\n",
    "    \n",
    "    fig.add_trace(\n",
    "        go.Scatter(x=list(range(1, n_splits+1)), \n",
    "                  y=model.cv_scores['train'][f'F{beta}'],\n",
    "                  mode='lines+markers', \n",
    "                  name=f'{model_name} Train F{beta}',\n",
    "                  line=dict(color=color),\n",
    "                  legendgroup=model_name,\n",
    "                  showlegend=False),\n",
    "        row=1, col=3\n",
    "    )\n",
    "    \n",
    "    # Validation metrics\n",
    "    fig.add_trace(\n",
    "        go.Scatter(x=list(range(1, n_splits+1)), \n",
    "                  y=model.cv_scores['valid']['precision'],\n",
    "                  mode='lines+markers', \n",
    "                  name=f'{model_name} Valid Precision',\n",
    "                  line=dict(color=color),\n",
    "                  legendgroup=model_name,\n",
    "                  showlegend=False),\n",
    "        row=2, col=1\n",
    "    )\n",
    "    \n",
    "    fig.add_trace(\n",
    "        go.Scatter(x=list(range(1, n_splits+1)), \n",
    "                  y=model.cv_scores['valid']['recall'],\n",
    "                  mode='lines+markers', \n",
    "                  name=f'{model_name} Valid Recall',\n",
    "                  line=dict(color=color),\n",
    "                  legendgroup=model_name,\n",
    "                  showlegend=False),\n",
    "        row=2, col=2\n",
    "    )\n",
    "    \n",
    "    fig.add_trace(\n",
    "        go.Scatter(x=list(range(1, n_splits+1)), \n",
    "                  y=model.cv_scores['valid'][f'F{beta}'],\n",
    "                  mode='lines+markers', \n",
    "                  name=f'{model_name} Valid F{beta}',\n",
    "                  line=dict(color=color),\n",
    "                  legendgroup=model_name,\n",
    "                  showlegend=False),\n",
    "        row=2, col=3\n",
    "    )\n",
    "\n",
    "fig.update_xaxes(title_text=\"Fold\")\n",
    "fig.update_yaxes(title_text=\"Score\")\n",
    "fig.update_layout(height=600, width=1500, title=\"Cross-Validation Metrics Across Folds\")\n",
    "fig.show()"
   ]
  },
  {
   "cell_type": "markdown",
   "id": "1fd695f9",
   "metadata": {},
   "source": [
    "1) SVC models are outperforming dummy classifier !\n",
    "2) No over-fitting : metrics consistent across folds + small gaps between train and validation scores.\n",
    "3) PCA is helping to improve model to focus on recall but not on precision : not really useful in our setting (beta < 1)"
   ]
  },
  {
   "cell_type": "code",
   "execution_count": 7,
   "id": "e592a277",
   "metadata": {},
   "outputs": [
    {
     "name": "stdout",
     "output_type": "stream",
     "text": [
      "Best configuration saved to: models/params/svc.json\n"
     ]
    }
   ],
   "source": [
    "# Saving best configs\n",
    "best_config = svc_params.copy()\n",
    "best_config.pop(\"scaler\")\n",
    "best_config[\"scaler_type\"] = args[\"svc\"][\"scaler_type\"]\n",
    "best_config.pop(\"pca\")\n",
    "best_config[\"pca_level\"] = args[\"svc\"][\"pca_level\"]\n",
    "\n",
    "save_config_path = os.path.join(\"models\",\"params\",\"svc.json\")\n",
    "os.makedirs(os.path.dirname(save_config_path), exist_ok=True)\n",
    "with open(save_config_path, 'w') as f:\n",
    "    json.dump(best_config, f, indent=4)\n",
    "\n",
    "print(f\"Best configuration saved to: {save_config_path}\")\n"
   ]
  },
  {
   "cell_type": "code",
   "execution_count": 8,
   "id": "f277fb1b",
   "metadata": {},
   "outputs": [
    {
     "name": "stdout",
     "output_type": "stream",
     "text": [
      "Test Set Results:\n",
      "| Model   |   Precision |   Recall |   F0.5 Score |\n",
      "|---------|-------------|----------|--------------|\n",
      "| Dummy   |      0.624  |   1      |       0.6748 |\n",
      "| SVC     |      0.8369 |   0.7329 |       0.8138 |\n",
      "| SVC+PCA |      0.8429 |   0.7329 |       0.8183 |\n"
     ]
    }
   ],
   "source": [
    "# Test results\n",
    "\n",
    "dummy.fit(X_train,y_train)\n",
    "svc.fit(X_train,y_train)\n",
    "svc_pca.fit(X_train,y_train)\n",
    "\n",
    "dummy_test_scores = dummy.evaluate(X_test,y_test)\n",
    "svc_test_scores = svc.evaluate(X_test,y_test)\n",
    "svc_pca_test_scores = svc_pca.evaluate(X_test, y_test)\n",
    "\n",
    "# Display test results in a table\n",
    "results_data = [\n",
    "    ['Model', 'Precision', 'Recall', f'F{beta} Score'],\n",
    "    ['Dummy', f\"{dummy_test_scores['precision']:.4f}\", f\"{dummy_test_scores['recall']:.4f}\", f\"{dummy_test_scores[f'F{beta}']:.4f}\"],\n",
    "    ['SVC', f\"{svc_test_scores['precision']:.4f}\", f\"{svc_test_scores['recall']:.4f}\", f\"{svc_test_scores[f'F{beta}']:.4f}\"],\n",
    "    ['SVC+PCA', f\"{svc_pca_test_scores['precision']:.4f}\", f\"{svc_pca_test_scores['recall']:.4f}\", f\"{svc_pca_test_scores[f'F{beta}']:.4f}\"]\n",
    "]\n",
    "\n",
    "print(\"Test Set Results:\")\n",
    "print(tabulate(results_data, headers='firstrow', tablefmt='github'))"
   ]
  },
  {
   "cell_type": "markdown",
   "id": "98decc81",
   "metadata": {},
   "source": [
    "Good generalization properties :\n",
    "1) Models are still outperforming dummy classifier\n",
    "2) Scores are a bit higher than during training (especially for SVC+PCA) which might indicate some fold dependency."
   ]
  }
 ],
 "metadata": {
  "kernelspec": {
   "display_name": "nba",
   "language": "python",
   "name": "python3"
  },
  "language_info": {
   "codemirror_mode": {
    "name": "ipython",
    "version": 3
   },
   "file_extension": ".py",
   "mimetype": "text/x-python",
   "name": "python",
   "nbconvert_exporter": "python",
   "pygments_lexer": "ipython3",
   "version": "3.11.13"
  }
 },
 "nbformat": 4,
 "nbformat_minor": 5
}
