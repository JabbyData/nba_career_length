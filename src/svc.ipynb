{
 "cells": [
  {
   "cell_type": "code",
   "execution_count": 9,
   "id": "943abe53",
   "metadata": {},
   "outputs": [],
   "source": [
    "# Dependencies\n",
    "\n",
    "# Data Manip\n",
    "import pandas as pd\n",
    "\n",
    "# Linear Algebra\n",
    "import numpy as np\n",
    "\n",
    "# Machine Learning\n",
    "from sklearn.preprocessing import RobustScaler\n",
    "from sklearn.model_selection import StratifiedKFold, train_test_split\n",
    "from models.svc import SVEstimator\n",
    "from models.dummy import DummyEstimator\n",
    "from sklearn.decomposition import PCA\n",
    "\n",
    "# Optimization\n",
    "import optuna\n",
    "from optuna.storages import RDBStorage\n",
    "from functools import partial\n",
    "\n",
    "# System & Files\n",
    "import os\n",
    "import json\n",
    "\n",
    "# Visualization\n",
    "import plotly.graph_objects as go\n",
    "from plotly.subplots import make_subplots\n",
    "from tabulate import tabulate\n",
    "\n",
    "seed = 42\n",
    "np.random.seed(seed)"
   ]
  },
  {
   "cell_type": "code",
   "execution_count": 10,
   "id": "4cebb9ce",
   "metadata": {},
   "outputs": [],
   "source": [
    "# Data collection\n",
    "data_path = \"data/nba_filtered_capped.csv\"\n",
    "df = pd.read_csv(data_path)\n",
    "df = df.loc[:, ~(df.columns.str.contains(\"capped\"))]"
   ]
  },
  {
   "cell_type": "code",
   "execution_count": 11,
   "id": "190a7507",
   "metadata": {},
   "outputs": [],
   "source": [
    "# Train / Test split\n",
    "target = \"TARGET_5Yrs\"\n",
    "\n",
    "X = df.drop(columns=[target]).values\n",
    "y = df[target].values\n",
    "\n",
    "test_size=0.2\n",
    "X_train, X_test, y_train, y_test = train_test_split(X,y,stratify=y,test_size=test_size,shuffle=True,random_state=seed)\n",
    "\n",
    "# Cross Validation Splitter\n",
    "n_splits = 4 # to get same number of samples within validation fold as in test set\n",
    "splitter = StratifiedKFold(n_splits=n_splits, shuffle=True, random_state=seed) # Keeps same class proportions across sets"
   ]
  },
  {
   "cell_type": "code",
   "execution_count": null,
   "id": "0fdc110e",
   "metadata": {},
   "outputs": [
    {
     "name": "stderr",
     "output_type": "stream",
     "text": [
      "[I 2025-10-06 09:58:23,269] A new study created in RDB with name: svc_TARGET_5Yrs\n"
     ]
    },
    {
     "name": "stdout",
     "output_type": "stream",
     "text": [
      "Deleted existing study: svc_TARGET_5Yrs\n",
      "Optimizing svc_TARGET_5Yrs...\n"
     ]
    },
    {
     "name": "stderr",
     "output_type": "stream",
     "text": [
      "[I 2025-10-06 09:58:23,486] Trial 0 finished with value: 0.7666021406217158 and parameters: {'C': 0.23688639503640782}. Best is trial 0 with value: 0.7666021406217158.\n",
      "[I 2025-10-06 09:58:24,036] Trial 1 finished with value: 0.7670981183212886 and parameters: {'C': 0.8927180304353626}. Best is trial 1 with value: 0.7670981183212886.\n",
      "[I 2025-10-06 09:58:24,399] Trial 2 finished with value: 0.7689834411491798 and parameters: {'C': 0.5395030966670228}. Best is trial 2 with value: 0.7689834411491798.\n",
      "[I 2025-10-06 09:58:24,672] Trial 3 finished with value: 0.7689148415832968 and parameters: {'C': 0.3968793330444371}. Best is trial 2 with value: 0.7689834411491798.\n",
      "[I 2025-10-06 09:58:24,828] Trial 4 finished with value: 0.7667558400136225 and parameters: {'C': 0.1432249371823025}. Best is trial 2 with value: 0.7689834411491798.\n",
      "[I 2025-10-06 09:58:24,980] Trial 5 finished with value: 0.7667558400136225 and parameters: {'C': 0.14321698289111517}. Best is trial 2 with value: 0.7689834411491798.\n",
      "[I 2025-10-06 09:58:25,113] Trial 6 finished with value: 0.7641551919002667 and parameters: {'C': 0.1143098387631322}. Best is trial 2 with value: 0.7689834411491798.\n",
      "[I 2025-10-06 09:58:25,565] Trial 7 finished with value: 0.7709067219317856 and parameters: {'C': 0.7348118405270447}. Best is trial 7 with value: 0.7709067219317856.\n",
      "[I 2025-10-06 09:58:25,833] Trial 8 finished with value: 0.7699514543769498 and parameters: {'C': 0.3991305878561679}. Best is trial 7 with value: 0.7709067219317856.\n",
      "[I 2025-10-06 09:58:26,173] Trial 9 finished with value: 0.7709994428939898 and parameters: {'C': 0.5105903209394755}. Best is trial 9 with value: 0.7709994428939898.\n",
      "[I 2025-10-06 09:58:26,365] Trial 10 finished with value: 0.766522762505622 and parameters: {'C': 0.20480725405025005}. Best is trial 9 with value: 0.7709994428939898.\n",
      "[I 2025-10-06 09:58:26,857] Trial 11 finished with value: 0.7684452032683681 and parameters: {'C': 0.8180642680665676}. Best is trial 9 with value: 0.7709994428939898.\n",
      "[I 2025-10-06 09:58:27,241] Trial 12 finished with value: 0.7678230136780658 and parameters: {'C': 0.5974233239099757}. Best is trial 9 with value: 0.7709994428939898.\n",
      "[I 2025-10-06 09:58:27,606] Trial 13 finished with value: 0.7678230136780658 and parameters: {'C': 0.6097024028763356}. Best is trial 9 with value: 0.7709994428939898.\n",
      "[I 2025-10-06 09:58:28,175] Trial 14 finished with value: 0.766413175975136 and parameters: {'C': 0.9693038921733459}. Best is trial 9 with value: 0.7709994428939898.\n",
      "[I 2025-10-06 09:58:28,429] Trial 15 finished with value: 0.7689148415832968 and parameters: {'C': 0.3972506522713482}. Best is trial 9 with value: 0.7709994428939898.\n",
      "[I 2025-10-06 09:58:28,895] Trial 16 finished with value: 0.7709067219317856 and parameters: {'C': 0.7241705949410665}. Best is trial 9 with value: 0.7709994428939898.\n",
      "[I 2025-10-06 09:58:29,136] Trial 17 finished with value: 0.7699514543769498 and parameters: {'C': 0.297389377592824}. Best is trial 9 with value: 0.7709994428939898.\n",
      "[I 2025-10-06 09:58:29,450] Trial 18 finished with value: 0.7709994428939898 and parameters: {'C': 0.49578733996713453}. Best is trial 9 with value: 0.7709994428939898.\n",
      "[I 2025-10-06 09:58:29,744] Trial 19 finished with value: 0.7699514543769498 and parameters: {'C': 0.47208229999052587}. Best is trial 9 with value: 0.7709994428939898.\n",
      "[I 2025-10-06 09:58:29,783] A new study created in RDB with name: svc_pca_TARGET_5Yrs\n",
      "[I 2025-10-06 09:58:29,936] Trial 0 finished with value: 0.7590669562048207 and parameters: {'C': 0.23688639503640782}. Best is trial 0 with value: 0.7590669562048207.\n"
     ]
    },
    {
     "name": "stdout",
     "output_type": "stream",
     "text": [
      "Best value for svc_TARGET_5Yrs: 0.7709994428939898\n",
      "Deleted existing study: svc_pca_TARGET_5Yrs\n",
      "Optimizing svc_pca_TARGET_5Yrs...\n"
     ]
    },
    {
     "name": "stderr",
     "output_type": "stream",
     "text": [
      "[I 2025-10-06 09:58:30,310] Trial 1 finished with value: 0.7574664440409282 and parameters: {'C': 0.8927180304353626}. Best is trial 0 with value: 0.7590669562048207.\n",
      "[I 2025-10-06 09:58:30,560] Trial 2 finished with value: 0.7584469379791685 and parameters: {'C': 0.5395030966670228}. Best is trial 0 with value: 0.7590669562048207.\n",
      "[I 2025-10-06 09:58:30,768] Trial 3 finished with value: 0.7590669562048207 and parameters: {'C': 0.3968793330444371}. Best is trial 0 with value: 0.7590669562048207.\n",
      "[I 2025-10-06 09:58:30,956] Trial 4 finished with value: 0.7584469379791685 and parameters: {'C': 0.1432249371823025}. Best is trial 0 with value: 0.7590669562048207.\n",
      "[I 2025-10-06 09:58:31,079] Trial 5 finished with value: 0.7590669562048207 and parameters: {'C': 0.14321698289111517}. Best is trial 0 with value: 0.7590669562048207.\n",
      "[I 2025-10-06 09:58:31,188] Trial 6 finished with value: 0.7590669562048207 and parameters: {'C': 0.1143098387631322}. Best is trial 0 with value: 0.7590669562048207.\n",
      "[I 2025-10-06 09:58:31,481] Trial 7 finished with value: 0.7584469379791685 and parameters: {'C': 0.7348118405270447}. Best is trial 0 with value: 0.7590669562048207.\n",
      "[I 2025-10-06 09:58:31,669] Trial 8 finished with value: 0.7590669562048207 and parameters: {'C': 0.3991305878561679}. Best is trial 0 with value: 0.7590669562048207.\n",
      "[I 2025-10-06 09:58:31,902] Trial 9 finished with value: 0.7584469379791685 and parameters: {'C': 0.5105903209394755}. Best is trial 0 with value: 0.7590669562048207.\n",
      "[I 2025-10-06 09:58:32,046] Trial 10 finished with value: 0.7590669562048207 and parameters: {'C': 0.2368517675450849}. Best is trial 0 with value: 0.7590669562048207.\n",
      "[I 2025-10-06 09:58:32,195] Trial 11 finished with value: 0.7574664440409282 and parameters: {'C': 0.24548131081326147}. Best is trial 0 with value: 0.7590669562048207.\n",
      "[I 2025-10-06 09:58:32,364] Trial 12 finished with value: 0.7590669562048207 and parameters: {'C': 0.28879716046014414}. Best is trial 0 with value: 0.7590669562048207.\n",
      "[I 2025-10-06 09:58:32,487] Trial 13 finished with value: 0.7590669562048207 and parameters: {'C': 0.1776745936406407}. Best is trial 0 with value: 0.7590669562048207.\n",
      "[I 2025-10-06 09:58:32,673] Trial 14 finished with value: 0.7590669562048207 and parameters: {'C': 0.36780115666777663}. Best is trial 0 with value: 0.7590669562048207.\n",
      "[I 2025-10-06 09:58:32,817] Trial 15 finished with value: 0.7584469379791685 and parameters: {'C': 0.20480553520425882}. Best is trial 0 with value: 0.7590669562048207.\n",
      "[I 2025-10-06 09:58:33,038] Trial 16 finished with value: 0.7574664440409282 and parameters: {'C': 0.47840368568237973}. Best is trial 0 with value: 0.7590669562048207.\n",
      "[I 2025-10-06 09:58:33,212] Trial 17 finished with value: 0.7590669562048207 and parameters: {'C': 0.3280050473660846}. Best is trial 0 with value: 0.7590669562048207.\n",
      "[I 2025-10-06 09:58:33,461] Trial 18 finished with value: 0.7584469379791685 and parameters: {'C': 0.6076165873131542}. Best is trial 0 with value: 0.7590669562048207.\n",
      "[I 2025-10-06 09:58:33,622] Trial 19 finished with value: 0.7584469379791685 and parameters: {'C': 0.2818976437169862}. Best is trial 0 with value: 0.7590669562048207.\n"
     ]
    },
    {
     "name": "stdout",
     "output_type": "stream",
     "text": [
      "Best value for svc_pca_TARGET_5Yrs: 0.7590669562048207\n"
     ]
    }
   ],
   "source": [
    "# Fine-tuning\n",
    "\n",
    "beta = 0.5\n",
    "n_components = 0.99\n",
    "scaler_type = \"robust\"\n",
    "n_trials = 200\n",
    "\n",
    "args = {\n",
    "    \"svc\": {\n",
    "        \"model\": \"svc\",\n",
    "        \"kernel\": \"linear\", # best empirical kernel (performances + convergence. Ex polynomial kernel with degree >= 3 does not converge (very long time per trial))\n",
    "        \"C_min\": 0.1,\n",
    "        \"C_max\": 1,\n",
    "        # \"gamma_min\": 1e-4,\n",
    "        # \"gamma_max\": 10,\n",
    "        # \"degree_min\": 1,\n",
    "        # \"degree_max\": 3,\n",
    "        # \"coef0_min\": -10,\n",
    "        # \"coef0_max\": 10,\n",
    "        \"class_weight\": \"balanced\",\n",
    "        \"random_state\": seed,\n",
    "        \"beta\": beta,\n",
    "        \"n_trials\": n_trials,\n",
    "        \"cv_folds\": n_splits,\n",
    "        \"scaler_type\": scaler_type,\n",
    "        \"pca_level\": None,\n",
    "    },\n",
    "    \"svc_pca\": {\n",
    "        \"model\": \"svc_pca\",\n",
    "        \"kernel\": \"linear\",\n",
    "        \"C_min\": 0.1,\n",
    "        \"C_max\": 1,\n",
    "        # \"gamma_min\": 1e-4,\n",
    "        # \"gamma_max\": 10,\n",
    "        # \"degree_min\": 1,\n",
    "        # \"degree_max\": 3,\n",
    "        # \"coef0_min\": -10,\n",
    "        # \"coef0_max\": 10,\n",
    "        \"class_weight\": \"balanced\",\n",
    "        \"random_state\": seed,\n",
    "        \"beta\": beta,\n",
    "        \"n_trials\": n_trials,\n",
    "        \"cv_folds\": n_splits,\n",
    "        \"scaler_type\": scaler_type,\n",
    "        \"pca_level\": n_components,\n",
    "    }\n",
    "}\n",
    "\n",
    "\n",
    "def objective(trial, args: dict, X_train: np.array, y_train: np.array):\n",
    "    model_name = args[\"model\"]\n",
    "    if model_name in [\"svc\",\"svc_pca\"]:\n",
    "        h_params = args.copy()\n",
    "        # h_params[\"kernel\"] = trial.suggest_categorical(\"kernel\", [\"linear\", \"rbf\", \"sigmoid\"])\n",
    "        h_params[\"kernel\"] = args[\"kernel\"] # best empirical kernel\n",
    "        h_params[\"C\"] = trial.suggest_float(\"C\", args[\"C_min\"], args[\"C_max\"], log=True)\n",
    "        if args[\"scaler_type\"] == \"robust\":\n",
    "            h_params[\"scaler\"] = RobustScaler()\n",
    "        if args[\"pca_level\"] is not None:\n",
    "            h_params[\"pca\"] = PCA(n_components=args[\"pca_level\"],random_state=h_params[\"random_state\"])\n",
    "        else:\n",
    "            h_params[\"pca\"] = None\n",
    "\n",
    "    else:\n",
    "        raise NotImplementedError(f\"Objective function not developped for model {model_name}\")\n",
    "    \n",
    "    return cv_score(model_name, h_params, X_train, y_train)\n",
    "\n",
    "def cv_score(model_name: str, h_params: dict, X_train: np.array, y_train: np.array):\n",
    "    if model_name in [\"svc\",\"svc_pca\"]:\n",
    "        model = SVEstimator(h_params)\n",
    "        score = model.cross_validate(X_train, y_train)\n",
    "        return score\n",
    "    else:\n",
    "        raise NotImplementedError(f\"Scoring function not developped for model {model_name}\")\n",
    "\n",
    "\n",
    "storage_url = \"sqlite:///db.sqlite3\"\n",
    "storage = RDBStorage(url=storage_url)\n",
    "\n",
    "# Run optimization for both SVC configurations\n",
    "for config_name, config_args in args.items():\n",
    "    study_name = config_args[\"model\"] + \"_\" + target\n",
    "    \n",
    "    # Delete existing study if it exists\n",
    "    studies = storage.get_all_studies()\n",
    "    if any(s.study_name == study_name for s in studies):\n",
    "        optuna.delete_study(study_name=study_name, storage=storage_url)\n",
    "        print(f\"Deleted existing study: {study_name}\")\n",
    "    \n",
    "    # Create new study\n",
    "    study = optuna.create_study(\n",
    "        storage=storage_url,\n",
    "        study_name=study_name,\n",
    "        direction=\"maximize\",\n",
    "        sampler=optuna.samplers.TPESampler(seed=seed)\n",
    "    )\n",
    "    \n",
    "    # Create partial objective function with current configuration\n",
    "    objective_partial = partial(\n",
    "        objective,\n",
    "        args=config_args,\n",
    "        X_train=X_train,\n",
    "        y_train=y_train,\n",
    "    )\n",
    "    \n",
    "    # Run optimization\n",
    "    print(f\"Optimizing {study_name}...\")\n",
    "    study.optimize(objective_partial, n_trials=config_args[\"n_trials\"], n_jobs=1)\n",
    "    print(f\"Best value for {study_name}: {study.best_value}\")"
   ]
  },
  {
   "cell_type": "code",
   "execution_count": 13,
   "id": "789e3145",
   "metadata": {},
   "outputs": [
    {
     "name": "stdout",
     "output_type": "stream",
     "text": [
      "svc\n",
      "Best CV score: 0.7710\n",
      "svc_pca\n",
      "Best CV score: 0.7591\n"
     ]
    }
   ],
   "source": [
    "# Best models details\n",
    "best_configs = {}\n",
    "\n",
    "study_names = [\"svc_TARGET_5Yrs\", \"svc_pca_TARGET_5Yrs\"]\n",
    "\n",
    "for study_name in study_names:\n",
    "    name = \"_\".join(study_name.split(\"_\")[:-2])\n",
    "    print(name)\n",
    "    study = optuna.load_study(study_name=study_name, storage=storage_url)\n",
    "    best_configs[name] = study.best_params\n",
    "    cv_score = study.best_value\n",
    "    print(f\"Best CV score: {cv_score:.4f}\")"
   ]
  },
  {
   "cell_type": "code",
   "execution_count": 14,
   "id": "4de0bb3b",
   "metadata": {},
   "outputs": [
    {
     "name": "stdout",
     "output_type": "stream",
     "text": [
      "Dummy CV Score: 0.6750\n",
      "SVC CV Score: 0.7710\n",
      "SVC+PCA CV Score: 0.7591\n"
     ]
    },
    {
     "data": {
      "application/vnd.plotly.v1+json": {
       "config": {
        "plotlyServerURL": "https://plot.ly"
       },
       "data": [
        {
         "legendgroup": "Dummy",
         "line": {
          "color": "red"
         },
         "mode": "lines+markers",
         "name": "Dummy",
         "showlegend": true,
         "type": "scatter",
         "x": [
          1,
          2,
          3,
          4
         ],
         "xaxis": "x",
         "y": [
          0.6243523316062176,
          0.6243523316062176,
          0.6248382923673997,
          0.6235446313065977
         ],
         "yaxis": "y"
        },
        {
         "legendgroup": "Dummy",
         "line": {
          "color": "red"
         },
         "mode": "lines+markers",
         "name": "Dummy Train Recall",
         "showlegend": false,
         "type": "scatter",
         "x": [
          1,
          2,
          3,
          4
         ],
         "xaxis": "x2",
         "y": [
          1,
          1,
          1,
          1
         ],
         "yaxis": "y2"
        },
        {
         "legendgroup": "Dummy",
         "line": {
          "color": "red"
         },
         "mode": "lines+markers",
         "name": "Dummy Train F0.5",
         "showlegend": false,
         "type": "scatter",
         "x": [
          1,
          2,
          3,
          4
         ],
         "xaxis": "x3",
         "y": [
          0.6750700280112045,
          0.6750700280112045,
          0.6755244755244755,
          0.6743144935646335
         ],
         "yaxis": "y3"
        },
        {
         "legendgroup": "Dummy",
         "line": {
          "color": "red"
         },
         "mode": "lines+markers",
         "name": "Dummy Valid Precision",
         "showlegend": false,
         "type": "scatter",
         "x": [
          1,
          2,
          3,
          4
         ],
         "xaxis": "x4",
         "y": [
          0.624031007751938,
          0.624031007751938,
          0.622568093385214,
          0.6264591439688716
         ],
         "yaxis": "y4"
        },
        {
         "legendgroup": "Dummy",
         "line": {
          "color": "red"
         },
         "mode": "lines+markers",
         "name": "Dummy Valid Recall",
         "showlegend": false,
         "type": "scatter",
         "x": [
          1,
          2,
          3,
          4
         ],
         "xaxis": "x5",
         "y": [
          1,
          1,
          1,
          1
         ],
         "yaxis": "y5"
        },
        {
         "legendgroup": "Dummy",
         "line": {
          "color": "red"
         },
         "mode": "lines+markers",
         "name": "Dummy Valid F0.5",
         "showlegend": false,
         "type": "scatter",
         "x": [
          1,
          2,
          3,
          4
         ],
         "xaxis": "x6",
         "y": [
          0.6747694886839899,
          0.6747694886839899,
          0.6734006734006734,
          0.6770395290159799
         ],
         "yaxis": "y6"
        },
        {
         "legendgroup": "SVC",
         "line": {
          "color": "blue"
         },
         "mode": "lines+markers",
         "name": "SVC",
         "showlegend": true,
         "type": "scatter",
         "x": [
          1,
          2,
          3,
          4
         ],
         "xaxis": "x",
         "y": [
          0.7935323383084577,
          0.8131578947368421,
          0.8249336870026526,
          0.7994987468671679
         ],
         "yaxis": "y"
        },
        {
         "legendgroup": "SVC",
         "line": {
          "color": "blue"
         },
         "mode": "lines+markers",
         "name": "SVC Train Recall",
         "showlegend": false,
         "type": "scatter",
         "x": [
          1,
          2,
          3,
          4
         ],
         "xaxis": "x2",
         "y": [
          0.6618257261410788,
          0.6410788381742739,
          0.6438923395445134,
          0.6618257261410788
         ],
         "yaxis": "y2"
        },
        {
         "legendgroup": "SVC",
         "line": {
          "color": "blue"
         },
         "mode": "lines+markers",
         "name": "SVC Train F0.5",
         "showlegend": false,
         "type": "scatter",
         "x": [
          1,
          2,
          3,
          4
         ],
         "xaxis": "x3",
         "y": [
          0.7631578947368421,
          0.7717282717282717,
          0.7810145655449523,
          0.7675649663137633
         ],
         "yaxis": "y3"
        },
        {
         "legendgroup": "SVC",
         "line": {
          "color": "blue"
         },
         "mode": "lines+markers",
         "name": "SVC Valid Precision",
         "showlegend": false,
         "type": "scatter",
         "x": [
          1,
          2,
          3,
          4
         ],
         "xaxis": "x4",
         "y": [
          0.7887323943661971,
          0.8294573643410853,
          0.7857142857142857,
          0.8203125
         ],
         "yaxis": "y4"
        },
        {
         "legendgroup": "SVC",
         "line": {
          "color": "blue"
         },
         "mode": "lines+markers",
         "name": "SVC Valid Recall",
         "showlegend": false,
         "type": "scatter",
         "x": [
          1,
          2,
          3,
          4
         ],
         "xaxis": "x5",
         "y": [
          0.6956521739130435,
          0.6645962732919255,
          0.61875,
          0.6521739130434783
         ],
         "yaxis": "y5"
        },
        {
         "legendgroup": "SVC",
         "line": {
          "color": "blue"
         },
         "mode": "lines+markers",
         "name": "SVC Valid F0.5",
         "showlegend": false,
         "type": "scatter",
         "x": [
          1,
          2,
          3,
          4
         ],
         "xaxis": "x6",
         "y": [
          0.7681755829903978,
          0.7902511078286558,
          0.7454819277108434,
          0.7800891530460624
         ],
         "yaxis": "y6"
        },
        {
         "legendgroup": "SVC+PCA",
         "line": {
          "color": "green"
         },
         "mode": "lines+markers",
         "name": "SVC+PCA",
         "showlegend": true,
         "type": "scatter",
         "x": [
          1,
          2,
          3,
          4
         ],
         "xaxis": "x",
         "y": [
          0.78125,
          0.7811764705882352,
          0.7918660287081339,
          0.7828162291169452
         ],
         "yaxis": "y"
        },
        {
         "legendgroup": "SVC+PCA",
         "line": {
          "color": "green"
         },
         "mode": "lines+markers",
         "name": "SVC+PCA Train Recall",
         "showlegend": false,
         "type": "scatter",
         "x": [
          1,
          2,
          3,
          4
         ],
         "xaxis": "x2",
         "y": [
          0.6742738589211619,
          0.6887966804979253,
          0.6853002070393375,
          0.6804979253112033
         ],
         "yaxis": "y2"
        },
        {
         "legendgroup": "SVC+PCA",
         "line": {
          "color": "green"
         },
         "mode": "lines+markers",
         "name": "SVC+PCA Train F0.5",
         "showlegend": false,
         "type": "scatter",
         "x": [
          1,
          2,
          3,
          4
         ],
         "xaxis": "x3",
         "y": [
          0.7572227399813607,
          0.7607699358386801,
          0.7679814385150812,
          0.7599629286376274
         ],
         "yaxis": "y3"
        },
        {
         "legendgroup": "SVC+PCA",
         "line": {
          "color": "green"
         },
         "mode": "lines+markers",
         "name": "SVC+PCA Valid Precision",
         "showlegend": false,
         "type": "scatter",
         "x": [
          1,
          2,
          3,
          4
         ],
         "xaxis": "x4",
         "y": [
          0.7741935483870968,
          0.7916666666666666,
          0.7596899224806202,
          0.7928571428571428
         ],
         "yaxis": "y4"
        },
        {
         "legendgroup": "SVC+PCA",
         "line": {
          "color": "green"
         },
         "mode": "lines+markers",
         "name": "SVC+PCA Valid Recall",
         "showlegend": false,
         "type": "scatter",
         "x": [
          1,
          2,
          3,
          4
         ],
         "xaxis": "x5",
         "y": [
          0.7453416149068323,
          0.7080745341614907,
          0.6125,
          0.6894409937888198
         ],
         "yaxis": "y5"
        },
        {
         "legendgroup": "SVC+PCA",
         "line": {
          "color": "green"
         },
         "mode": "lines+markers",
         "name": "SVC+PCA Valid F0.5",
         "showlegend": false,
         "type": "scatter",
         "x": [
          1,
          2,
          3,
          4
         ],
         "xaxis": "x6",
         "y": [
          0.7682458386683739,
          0.7734056987788331,
          0.7248520710059172,
          0.7697642163661581
         ],
         "yaxis": "y6"
        }
       ],
       "layout": {
        "annotations": [
         {
          "font": {
           "size": 16
          },
          "showarrow": false,
          "text": "Precision",
          "x": 0.1411111111111111,
          "xanchor": "center",
          "xref": "paper",
          "y": 1,
          "yanchor": "bottom",
          "yref": "paper"
         },
         {
          "font": {
           "size": 16
          },
          "showarrow": false,
          "text": "Recall",
          "x": 0.49,
          "xanchor": "center",
          "xref": "paper",
          "y": 1,
          "yanchor": "bottom",
          "yref": "paper"
         },
         {
          "font": {
           "size": 16
          },
          "showarrow": false,
          "text": "F0.5 Score",
          "x": 0.8388888888888888,
          "xanchor": "center",
          "xref": "paper",
          "y": 1,
          "yanchor": "bottom",
          "yref": "paper"
         },
         {
          "font": {
           "size": 16
          },
          "showarrow": false,
          "text": "Train",
          "textangle": 90,
          "x": 0.98,
          "xanchor": "left",
          "xref": "paper",
          "y": 0.775,
          "yanchor": "middle",
          "yref": "paper"
         },
         {
          "font": {
           "size": 16
          },
          "showarrow": false,
          "text": "Validation",
          "textangle": 90,
          "x": 0.98,
          "xanchor": "left",
          "xref": "paper",
          "y": 0.225,
          "yanchor": "middle",
          "yref": "paper"
         }
        ],
        "height": 600,
        "template": {
         "data": {
          "bar": [
           {
            "error_x": {
             "color": "#2a3f5f"
            },
            "error_y": {
             "color": "#2a3f5f"
            },
            "marker": {
             "line": {
              "color": "#E5ECF6",
              "width": 0.5
             },
             "pattern": {
              "fillmode": "overlay",
              "size": 10,
              "solidity": 0.2
             }
            },
            "type": "bar"
           }
          ],
          "barpolar": [
           {
            "marker": {
             "line": {
              "color": "#E5ECF6",
              "width": 0.5
             },
             "pattern": {
              "fillmode": "overlay",
              "size": 10,
              "solidity": 0.2
             }
            },
            "type": "barpolar"
           }
          ],
          "carpet": [
           {
            "aaxis": {
             "endlinecolor": "#2a3f5f",
             "gridcolor": "white",
             "linecolor": "white",
             "minorgridcolor": "white",
             "startlinecolor": "#2a3f5f"
            },
            "baxis": {
             "endlinecolor": "#2a3f5f",
             "gridcolor": "white",
             "linecolor": "white",
             "minorgridcolor": "white",
             "startlinecolor": "#2a3f5f"
            },
            "type": "carpet"
           }
          ],
          "choropleth": [
           {
            "colorbar": {
             "outlinewidth": 0,
             "ticks": ""
            },
            "type": "choropleth"
           }
          ],
          "contour": [
           {
            "colorbar": {
             "outlinewidth": 0,
             "ticks": ""
            },
            "colorscale": [
             [
              0,
              "#0d0887"
             ],
             [
              0.1111111111111111,
              "#46039f"
             ],
             [
              0.2222222222222222,
              "#7201a8"
             ],
             [
              0.3333333333333333,
              "#9c179e"
             ],
             [
              0.4444444444444444,
              "#bd3786"
             ],
             [
              0.5555555555555556,
              "#d8576b"
             ],
             [
              0.6666666666666666,
              "#ed7953"
             ],
             [
              0.7777777777777778,
              "#fb9f3a"
             ],
             [
              0.8888888888888888,
              "#fdca26"
             ],
             [
              1,
              "#f0f921"
             ]
            ],
            "type": "contour"
           }
          ],
          "contourcarpet": [
           {
            "colorbar": {
             "outlinewidth": 0,
             "ticks": ""
            },
            "type": "contourcarpet"
           }
          ],
          "heatmap": [
           {
            "colorbar": {
             "outlinewidth": 0,
             "ticks": ""
            },
            "colorscale": [
             [
              0,
              "#0d0887"
             ],
             [
              0.1111111111111111,
              "#46039f"
             ],
             [
              0.2222222222222222,
              "#7201a8"
             ],
             [
              0.3333333333333333,
              "#9c179e"
             ],
             [
              0.4444444444444444,
              "#bd3786"
             ],
             [
              0.5555555555555556,
              "#d8576b"
             ],
             [
              0.6666666666666666,
              "#ed7953"
             ],
             [
              0.7777777777777778,
              "#fb9f3a"
             ],
             [
              0.8888888888888888,
              "#fdca26"
             ],
             [
              1,
              "#f0f921"
             ]
            ],
            "type": "heatmap"
           }
          ],
          "histogram": [
           {
            "marker": {
             "pattern": {
              "fillmode": "overlay",
              "size": 10,
              "solidity": 0.2
             }
            },
            "type": "histogram"
           }
          ],
          "histogram2d": [
           {
            "colorbar": {
             "outlinewidth": 0,
             "ticks": ""
            },
            "colorscale": [
             [
              0,
              "#0d0887"
             ],
             [
              0.1111111111111111,
              "#46039f"
             ],
             [
              0.2222222222222222,
              "#7201a8"
             ],
             [
              0.3333333333333333,
              "#9c179e"
             ],
             [
              0.4444444444444444,
              "#bd3786"
             ],
             [
              0.5555555555555556,
              "#d8576b"
             ],
             [
              0.6666666666666666,
              "#ed7953"
             ],
             [
              0.7777777777777778,
              "#fb9f3a"
             ],
             [
              0.8888888888888888,
              "#fdca26"
             ],
             [
              1,
              "#f0f921"
             ]
            ],
            "type": "histogram2d"
           }
          ],
          "histogram2dcontour": [
           {
            "colorbar": {
             "outlinewidth": 0,
             "ticks": ""
            },
            "colorscale": [
             [
              0,
              "#0d0887"
             ],
             [
              0.1111111111111111,
              "#46039f"
             ],
             [
              0.2222222222222222,
              "#7201a8"
             ],
             [
              0.3333333333333333,
              "#9c179e"
             ],
             [
              0.4444444444444444,
              "#bd3786"
             ],
             [
              0.5555555555555556,
              "#d8576b"
             ],
             [
              0.6666666666666666,
              "#ed7953"
             ],
             [
              0.7777777777777778,
              "#fb9f3a"
             ],
             [
              0.8888888888888888,
              "#fdca26"
             ],
             [
              1,
              "#f0f921"
             ]
            ],
            "type": "histogram2dcontour"
           }
          ],
          "mesh3d": [
           {
            "colorbar": {
             "outlinewidth": 0,
             "ticks": ""
            },
            "type": "mesh3d"
           }
          ],
          "parcoords": [
           {
            "line": {
             "colorbar": {
              "outlinewidth": 0,
              "ticks": ""
             }
            },
            "type": "parcoords"
           }
          ],
          "pie": [
           {
            "automargin": true,
            "type": "pie"
           }
          ],
          "scatter": [
           {
            "fillpattern": {
             "fillmode": "overlay",
             "size": 10,
             "solidity": 0.2
            },
            "type": "scatter"
           }
          ],
          "scatter3d": [
           {
            "line": {
             "colorbar": {
              "outlinewidth": 0,
              "ticks": ""
             }
            },
            "marker": {
             "colorbar": {
              "outlinewidth": 0,
              "ticks": ""
             }
            },
            "type": "scatter3d"
           }
          ],
          "scattercarpet": [
           {
            "marker": {
             "colorbar": {
              "outlinewidth": 0,
              "ticks": ""
             }
            },
            "type": "scattercarpet"
           }
          ],
          "scattergeo": [
           {
            "marker": {
             "colorbar": {
              "outlinewidth": 0,
              "ticks": ""
             }
            },
            "type": "scattergeo"
           }
          ],
          "scattergl": [
           {
            "marker": {
             "colorbar": {
              "outlinewidth": 0,
              "ticks": ""
             }
            },
            "type": "scattergl"
           }
          ],
          "scattermap": [
           {
            "marker": {
             "colorbar": {
              "outlinewidth": 0,
              "ticks": ""
             }
            },
            "type": "scattermap"
           }
          ],
          "scattermapbox": [
           {
            "marker": {
             "colorbar": {
              "outlinewidth": 0,
              "ticks": ""
             }
            },
            "type": "scattermapbox"
           }
          ],
          "scatterpolar": [
           {
            "marker": {
             "colorbar": {
              "outlinewidth": 0,
              "ticks": ""
             }
            },
            "type": "scatterpolar"
           }
          ],
          "scatterpolargl": [
           {
            "marker": {
             "colorbar": {
              "outlinewidth": 0,
              "ticks": ""
             }
            },
            "type": "scatterpolargl"
           }
          ],
          "scatterternary": [
           {
            "marker": {
             "colorbar": {
              "outlinewidth": 0,
              "ticks": ""
             }
            },
            "type": "scatterternary"
           }
          ],
          "surface": [
           {
            "colorbar": {
             "outlinewidth": 0,
             "ticks": ""
            },
            "colorscale": [
             [
              0,
              "#0d0887"
             ],
             [
              0.1111111111111111,
              "#46039f"
             ],
             [
              0.2222222222222222,
              "#7201a8"
             ],
             [
              0.3333333333333333,
              "#9c179e"
             ],
             [
              0.4444444444444444,
              "#bd3786"
             ],
             [
              0.5555555555555556,
              "#d8576b"
             ],
             [
              0.6666666666666666,
              "#ed7953"
             ],
             [
              0.7777777777777778,
              "#fb9f3a"
             ],
             [
              0.8888888888888888,
              "#fdca26"
             ],
             [
              1,
              "#f0f921"
             ]
            ],
            "type": "surface"
           }
          ],
          "table": [
           {
            "cells": {
             "fill": {
              "color": "#EBF0F8"
             },
             "line": {
              "color": "white"
             }
            },
            "header": {
             "fill": {
              "color": "#C8D4E3"
             },
             "line": {
              "color": "white"
             }
            },
            "type": "table"
           }
          ]
         },
         "layout": {
          "annotationdefaults": {
           "arrowcolor": "#2a3f5f",
           "arrowhead": 0,
           "arrowwidth": 1
          },
          "autotypenumbers": "strict",
          "coloraxis": {
           "colorbar": {
            "outlinewidth": 0,
            "ticks": ""
           }
          },
          "colorscale": {
           "diverging": [
            [
             0,
             "#8e0152"
            ],
            [
             0.1,
             "#c51b7d"
            ],
            [
             0.2,
             "#de77ae"
            ],
            [
             0.3,
             "#f1b6da"
            ],
            [
             0.4,
             "#fde0ef"
            ],
            [
             0.5,
             "#f7f7f7"
            ],
            [
             0.6,
             "#e6f5d0"
            ],
            [
             0.7,
             "#b8e186"
            ],
            [
             0.8,
             "#7fbc41"
            ],
            [
             0.9,
             "#4d9221"
            ],
            [
             1,
             "#276419"
            ]
           ],
           "sequential": [
            [
             0,
             "#0d0887"
            ],
            [
             0.1111111111111111,
             "#46039f"
            ],
            [
             0.2222222222222222,
             "#7201a8"
            ],
            [
             0.3333333333333333,
             "#9c179e"
            ],
            [
             0.4444444444444444,
             "#bd3786"
            ],
            [
             0.5555555555555556,
             "#d8576b"
            ],
            [
             0.6666666666666666,
             "#ed7953"
            ],
            [
             0.7777777777777778,
             "#fb9f3a"
            ],
            [
             0.8888888888888888,
             "#fdca26"
            ],
            [
             1,
             "#f0f921"
            ]
           ],
           "sequentialminus": [
            [
             0,
             "#0d0887"
            ],
            [
             0.1111111111111111,
             "#46039f"
            ],
            [
             0.2222222222222222,
             "#7201a8"
            ],
            [
             0.3333333333333333,
             "#9c179e"
            ],
            [
             0.4444444444444444,
             "#bd3786"
            ],
            [
             0.5555555555555556,
             "#d8576b"
            ],
            [
             0.6666666666666666,
             "#ed7953"
            ],
            [
             0.7777777777777778,
             "#fb9f3a"
            ],
            [
             0.8888888888888888,
             "#fdca26"
            ],
            [
             1,
             "#f0f921"
            ]
           ]
          },
          "colorway": [
           "#636efa",
           "#EF553B",
           "#00cc96",
           "#ab63fa",
           "#FFA15A",
           "#19d3f3",
           "#FF6692",
           "#B6E880",
           "#FF97FF",
           "#FECB52"
          ],
          "font": {
           "color": "#2a3f5f"
          },
          "geo": {
           "bgcolor": "white",
           "lakecolor": "white",
           "landcolor": "#E5ECF6",
           "showlakes": true,
           "showland": true,
           "subunitcolor": "white"
          },
          "hoverlabel": {
           "align": "left"
          },
          "hovermode": "closest",
          "mapbox": {
           "style": "light"
          },
          "paper_bgcolor": "white",
          "plot_bgcolor": "#E5ECF6",
          "polar": {
           "angularaxis": {
            "gridcolor": "white",
            "linecolor": "white",
            "ticks": ""
           },
           "bgcolor": "#E5ECF6",
           "radialaxis": {
            "gridcolor": "white",
            "linecolor": "white",
            "ticks": ""
           }
          },
          "scene": {
           "xaxis": {
            "backgroundcolor": "#E5ECF6",
            "gridcolor": "white",
            "gridwidth": 2,
            "linecolor": "white",
            "showbackground": true,
            "ticks": "",
            "zerolinecolor": "white"
           },
           "yaxis": {
            "backgroundcolor": "#E5ECF6",
            "gridcolor": "white",
            "gridwidth": 2,
            "linecolor": "white",
            "showbackground": true,
            "ticks": "",
            "zerolinecolor": "white"
           },
           "zaxis": {
            "backgroundcolor": "#E5ECF6",
            "gridcolor": "white",
            "gridwidth": 2,
            "linecolor": "white",
            "showbackground": true,
            "ticks": "",
            "zerolinecolor": "white"
           }
          },
          "shapedefaults": {
           "line": {
            "color": "#2a3f5f"
           }
          },
          "ternary": {
           "aaxis": {
            "gridcolor": "white",
            "linecolor": "white",
            "ticks": ""
           },
           "baxis": {
            "gridcolor": "white",
            "linecolor": "white",
            "ticks": ""
           },
           "bgcolor": "#E5ECF6",
           "caxis": {
            "gridcolor": "white",
            "linecolor": "white",
            "ticks": ""
           }
          },
          "title": {
           "x": 0.05
          },
          "xaxis": {
           "automargin": true,
           "gridcolor": "white",
           "linecolor": "white",
           "ticks": "",
           "title": {
            "standoff": 15
           },
           "zerolinecolor": "white",
           "zerolinewidth": 2
          },
          "yaxis": {
           "automargin": true,
           "gridcolor": "white",
           "linecolor": "white",
           "ticks": "",
           "title": {
            "standoff": 15
           },
           "zerolinecolor": "white",
           "zerolinewidth": 2
          }
         }
        },
        "title": {
         "text": "Cross-Validation Metrics Across Folds"
        },
        "width": 1500,
        "xaxis": {
         "anchor": "y",
         "domain": [
          0,
          0.2822222222222222
         ],
         "title": {
          "text": "Fold"
         }
        },
        "xaxis2": {
         "anchor": "y2",
         "domain": [
          0.34888888888888886,
          0.6311111111111111
         ],
         "title": {
          "text": "Fold"
         }
        },
        "xaxis3": {
         "anchor": "y3",
         "domain": [
          0.6977777777777777,
          0.98
         ],
         "title": {
          "text": "Fold"
         }
        },
        "xaxis4": {
         "anchor": "y4",
         "domain": [
          0,
          0.2822222222222222
         ],
         "title": {
          "text": "Fold"
         }
        },
        "xaxis5": {
         "anchor": "y5",
         "domain": [
          0.34888888888888886,
          0.6311111111111111
         ],
         "title": {
          "text": "Fold"
         }
        },
        "xaxis6": {
         "anchor": "y6",
         "domain": [
          0.6977777777777777,
          0.98
         ],
         "title": {
          "text": "Fold"
         }
        },
        "yaxis": {
         "anchor": "x",
         "domain": [
          0.55,
          1
         ],
         "title": {
          "text": "Score"
         }
        },
        "yaxis2": {
         "anchor": "x2",
         "domain": [
          0.55,
          1
         ],
         "title": {
          "text": "Score"
         }
        },
        "yaxis3": {
         "anchor": "x3",
         "domain": [
          0.55,
          1
         ],
         "title": {
          "text": "Score"
         }
        },
        "yaxis4": {
         "anchor": "x4",
         "domain": [
          0,
          0.45
         ],
         "title": {
          "text": "Score"
         }
        },
        "yaxis5": {
         "anchor": "x5",
         "domain": [
          0,
          0.45
         ],
         "title": {
          "text": "Score"
         }
        },
        "yaxis6": {
         "anchor": "x6",
         "domain": [
          0,
          0.45
         ],
         "title": {
          "text": "Score"
         }
        }
       }
      }
     },
     "metadata": {},
     "output_type": "display_data"
    }
   ],
   "source": [
    "# Instantiate estimators and cross validate\n",
    "dummy_params = {\n",
    "    \"strategy\": \"most_frequent\",\n",
    "    \"random_state\": seed,\n",
    "    \"cv_folds\": n_splits,\n",
    "    \"beta\": beta,\n",
    "}\n",
    "dummy = DummyEstimator(dummy_params)\n",
    "dummy_score = dummy.cross_validate(X_train, y_train)\n",
    "\n",
    "# SVC without PCA\n",
    "svc_params = best_configs['svc']\n",
    "svc_params.update({\n",
    "    \"kernel\": args['svc'][\"kernel\"],\n",
    "    \"class_weight\": args['svc'][\"class_weight\"],\n",
    "    \"random_state\": seed,\n",
    "    \"cv_folds\": n_splits,\n",
    "    \"beta\": beta,\n",
    "    \"pca\": None,\n",
    "})\n",
    "if args[\"svc\"][\"scaler_type\"] == \"robust\":\n",
    "    svc_params[\"scaler\"] = RobustScaler() \n",
    "\n",
    "svc = SVEstimator(svc_params)\n",
    "svc_score = svc.cross_validate(X_train, y_train)\n",
    "\n",
    "# SVC with PCA\n",
    "svc_pca_params = best_configs['svc_pca']\n",
    "svc_pca_params.update({\n",
    "    \"kernel\": args['svc_pca'][\"kernel\"],\n",
    "    \"class_weight\": args['svc_pca'][\"class_weight\"],\n",
    "    \"random_state\": seed,\n",
    "    \"cv_folds\": n_splits,\n",
    "    \"beta\": beta,\n",
    "})\n",
    "if args[\"svc_pca\"][\"scaler_type\"] == \"robust\":\n",
    "    svc_pca_params[\"scaler\"] = RobustScaler()\n",
    "\n",
    "if args[\"svc_pca\"][\"pca_level\"] is not None:\n",
    "    svc_pca_params[\"pca\"] = PCA(n_components=args[\"svc_pca\"][\"pca_level\"], random_state=args[\"svc_pca\"][\"random_state\"])\n",
    "\n",
    "svc_pca = SVEstimator(svc_pca_params)\n",
    "svc_pca_score = svc_pca.cross_validate(X_train, y_train)\n",
    "\n",
    "print(f\"Dummy CV Score: {dummy_score:.4f}\")\n",
    "print(f\"SVC CV Score: {svc_score:.4f}\")\n",
    "print(f\"SVC+PCA CV Score: {svc_pca_score:.4f}\")\n",
    "\n",
    "# Create metrics visualization across folds\n",
    "fig = make_subplots(\n",
    "    rows=2, cols=3,\n",
    "    subplot_titles=('Precision', 'Recall', f'F{beta} Score'),\n",
    "    row_titles=['Train', 'Validation'],\n",
    "    vertical_spacing=0.1\n",
    ")\n",
    "\n",
    "models = {'Dummy': dummy, 'SVC': svc, 'SVC+PCA': svc_pca}\n",
    "colors = {'Dummy': 'red', 'SVC': 'blue', 'SVC+PCA': 'green'}\n",
    "\n",
    "for model_name, model in models.items():\n",
    "    color = colors[model_name]\n",
    "    \n",
    "    # Train metrics\n",
    "    fig.add_trace(\n",
    "        go.Scatter(x=list(range(1, n_splits+1)), \n",
    "                  y=model.cv_scores['train']['precision'],\n",
    "                  mode='lines+markers', \n",
    "                  name=f'{model_name}',\n",
    "                  line=dict(color=color),\n",
    "                  legendgroup=model_name,\n",
    "                  showlegend=True),\n",
    "        row=1, col=1\n",
    "    )\n",
    "    \n",
    "    fig.add_trace(\n",
    "        go.Scatter(x=list(range(1, n_splits+1)), \n",
    "                  y=model.cv_scores['train']['recall'],\n",
    "                  mode='lines+markers', \n",
    "                  name=f'{model_name} Train Recall',\n",
    "                  line=dict(color=color),\n",
    "                  legendgroup=model_name,\n",
    "                  showlegend=False),\n",
    "        row=1, col=2\n",
    "    )\n",
    "    \n",
    "    fig.add_trace(\n",
    "        go.Scatter(x=list(range(1, n_splits+1)), \n",
    "                  y=model.cv_scores['train'][f'F{beta}'],\n",
    "                  mode='lines+markers', \n",
    "                  name=f'{model_name} Train F{beta}',\n",
    "                  line=dict(color=color),\n",
    "                  legendgroup=model_name,\n",
    "                  showlegend=False),\n",
    "        row=1, col=3\n",
    "    )\n",
    "    \n",
    "    # Validation metrics\n",
    "    fig.add_trace(\n",
    "        go.Scatter(x=list(range(1, n_splits+1)), \n",
    "                  y=model.cv_scores['valid']['precision'],\n",
    "                  mode='lines+markers', \n",
    "                  name=f'{model_name} Valid Precision',\n",
    "                  line=dict(color=color),\n",
    "                  legendgroup=model_name,\n",
    "                  showlegend=False),\n",
    "        row=2, col=1\n",
    "    )\n",
    "    \n",
    "    fig.add_trace(\n",
    "        go.Scatter(x=list(range(1, n_splits+1)), \n",
    "                  y=model.cv_scores['valid']['recall'],\n",
    "                  mode='lines+markers', \n",
    "                  name=f'{model_name} Valid Recall',\n",
    "                  line=dict(color=color),\n",
    "                  legendgroup=model_name,\n",
    "                  showlegend=False),\n",
    "        row=2, col=2\n",
    "    )\n",
    "    \n",
    "    fig.add_trace(\n",
    "        go.Scatter(x=list(range(1, n_splits+1)), \n",
    "                  y=model.cv_scores['valid'][f'F{beta}'],\n",
    "                  mode='lines+markers', \n",
    "                  name=f'{model_name} Valid F{beta}',\n",
    "                  line=dict(color=color),\n",
    "                  legendgroup=model_name,\n",
    "                  showlegend=False),\n",
    "        row=2, col=3\n",
    "    )\n",
    "\n",
    "fig.update_xaxes(title_text=\"Fold\")\n",
    "fig.update_yaxes(title_text=\"Score\")\n",
    "fig.update_layout(height=600, width=1500, title=\"Cross-Validation Metrics Across Folds\")\n",
    "fig.show()"
   ]
  },
  {
   "cell_type": "markdown",
   "id": "1fd695f9",
   "metadata": {},
   "source": [
    "0) Small differnece in metrics compared to OPTUNA experiment \n",
    "1) SVC models are outperforming dummy classifier !\n",
    "2) No over-fitting : metrics consistent across folds + small gaps between train and validation scores.\n",
    "3) PCA is helping to improve model to focus on recall but not on precision : not really useful in our setting (beta < 1)"
   ]
  },
  {
   "cell_type": "code",
   "execution_count": 15,
   "id": "e592a277",
   "metadata": {},
   "outputs": [
    {
     "name": "stdout",
     "output_type": "stream",
     "text": [
      "Best configuration saved to: models/params/svc.json\n"
     ]
    }
   ],
   "source": [
    "# Saving best configs\n",
    "best_config = svc_params.copy()\n",
    "best_config.pop(\"scaler\")\n",
    "best_config[\"scaler_type\"] = args[\"svc\"][\"scaler_type\"]\n",
    "best_config.pop(\"pca\")\n",
    "best_config[\"pca_level\"] = args[\"svc\"][\"pca_level\"]\n",
    "\n",
    "save_config_path = os.path.join(\"models\",\"params\",\"svc.json\")\n",
    "os.makedirs(os.path.dirname(save_config_path), exist_ok=True)\n",
    "with open(save_config_path, 'w') as f:\n",
    "    json.dump(best_config, f, indent=4)\n",
    "\n",
    "print(f\"Best configuration saved to: {save_config_path}\")\n"
   ]
  },
  {
   "cell_type": "code",
   "execution_count": 16,
   "id": "f277fb1b",
   "metadata": {},
   "outputs": [
    {
     "name": "stdout",
     "output_type": "stream",
     "text": [
      "Test Set Results:\n",
      "| Model   |   Precision |   Recall |   F0.5 Score |\n",
      "|---------|-------------|----------|--------------|\n",
      "| Dummy   |      0.624  |   1      |       0.6748 |\n",
      "| SVC     |      0.8369 |   0.7329 |       0.8138 |\n",
      "| SVC+PCA |      0.8429 |   0.7329 |       0.8183 |\n"
     ]
    }
   ],
   "source": [
    "# Test results\n",
    "\n",
    "dummy.fit(X_train,y_train)\n",
    "svc.fit(X_train,y_train)\n",
    "svc_pca.fit(X_train,y_train)\n",
    "\n",
    "dummy_test_scores = dummy.evaluate(X_test,y_test)\n",
    "svc_test_scores = svc.evaluate(X_test,y_test)\n",
    "svc_pca_test_scores = svc_pca.evaluate(X_test, y_test)\n",
    "\n",
    "# Display test results in a table\n",
    "results_data = [\n",
    "    ['Model', 'Precision', 'Recall', f'F{beta} Score'],\n",
    "    ['Dummy', f\"{dummy_test_scores['precision']:.4f}\", f\"{dummy_test_scores['recall']:.4f}\", f\"{dummy_test_scores[f'F{beta}']:.4f}\"],\n",
    "    ['SVC', f\"{svc_test_scores['precision']:.4f}\", f\"{svc_test_scores['recall']:.4f}\", f\"{svc_test_scores[f'F{beta}']:.4f}\"],\n",
    "    ['SVC+PCA', f\"{svc_pca_test_scores['precision']:.4f}\", f\"{svc_pca_test_scores['recall']:.4f}\", f\"{svc_pca_test_scores[f'F{beta}']:.4f}\"]\n",
    "]\n",
    "\n",
    "print(\"Test Set Results:\")\n",
    "print(tabulate(results_data, headers='firstrow', tablefmt='github'))"
   ]
  },
  {
   "cell_type": "markdown",
   "id": "98decc81",
   "metadata": {},
   "source": [
    "Good generalization properties :\n",
    "1) Models are still outperforming dummy classifier\n",
    "2) Scores are a bit higher than during training (especially for SVC+PCA) which might indicate some fold dependency."
   ]
  }
 ],
 "metadata": {
  "kernelspec": {
   "display_name": "ml",
   "language": "python",
   "name": "python3"
  },
  "language_info": {
   "codemirror_mode": {
    "name": "ipython",
    "version": 3
   },
   "file_extension": ".py",
   "mimetype": "text/x-python",
   "name": "python",
   "nbconvert_exporter": "python",
   "pygments_lexer": "ipython3",
   "version": "3.11.13"
  }
 },
 "nbformat": 4,
 "nbformat_minor": 5
}
