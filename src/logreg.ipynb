{
 "cells": [
  {
   "cell_type": "code",
   "execution_count": 1,
   "id": "fd4ed865",
   "metadata": {},
   "outputs": [
    {
     "name": "stderr",
     "output_type": "stream",
     "text": [
      "/home/jabby/miniconda3/envs/nba/lib/python3.11/site-packages/tqdm/auto.py:21: TqdmWarning: IProgress not found. Please update jupyter and ipywidgets. See https://ipywidgets.readthedocs.io/en/stable/user_install.html\n",
      "  from .autonotebook import tqdm as notebook_tqdm\n"
     ]
    }
   ],
   "source": [
    "# Dependencies\n",
    "\n",
    "# Data Manip\n",
    "import pandas as pd\n",
    "\n",
    "# Linear Algebra\n",
    "import numpy as np\n",
    "\n",
    "# Machine Learning\n",
    "from sklearn.preprocessing import RobustScaler\n",
    "from sklearn.model_selection import train_test_split\n",
    "from models.lr import LREstimator\n",
    "from models.dummy import DummyEstimator\n",
    "from sklearn.decomposition import PCA\n",
    "\n",
    "# Optimization\n",
    "import optuna\n",
    "from optuna.storages import RDBStorage\n",
    "from functools import partial\n",
    "\n",
    "# Visualization\n",
    "import plotly.graph_objects as go\n",
    "from plotly.subplots import make_subplots\n",
    "from tabulate import tabulate\n",
    "\n",
    "# System & Files\n",
    "import os\n",
    "import json\n",
    "\n",
    "seed = 42\n",
    "np.random.seed(seed)\n",
    "import random\n",
    "random.seed(seed)"
   ]
  },
  {
   "cell_type": "code",
   "execution_count": 2,
   "id": "e668273c",
   "metadata": {},
   "outputs": [],
   "source": [
    "# Data collection\n",
    "\n",
    "data_path = \"data/nba_filtered_capped.csv\"\n",
    "df = pd.read_csv(data_path)\n",
    "df = df.loc[:, ~(df.columns.str.contains(\"capped\"))]"
   ]
  },
  {
   "cell_type": "code",
   "execution_count": 3,
   "id": "bd18fa2b",
   "metadata": {},
   "outputs": [],
   "source": [
    "# Train / Test split\n",
    "target = \"TARGET_5Yrs\"\n",
    "\n",
    "X = df.drop(columns=[target]).values\n",
    "y = df[target].values\n",
    "\n",
    "test_size=0.2\n",
    "X_train, X_test, y_train, y_test = train_test_split(X,y,stratify=y,test_size=test_size,shuffle=True,random_state=seed)\n",
    "\n",
    "# Cross Validation Splitter\n",
    "n_splits = 4 # to get same number of samples within validation fold as in test set"
   ]
  },
  {
   "cell_type": "code",
   "execution_count": 4,
   "id": "1d78efdb",
   "metadata": {},
   "outputs": [],
   "source": [
    "# Model\n",
    "max_iter = 10000\n",
    "cv_folds = 4\n",
    "beta = 0.5 # precision twice as important as recall\n",
    "n_trials = 100\n",
    "cap_factor = 1.5\n",
    "scaler_type = \"robust\"\n",
    "pca_level = 0.99\n",
    "\n",
    "params = {\n",
    "    \"dummy\":{\n",
    "        \"model\": \"dummy\",\n",
    "        \"cv_folds\": cv_folds,\n",
    "        \"random_state\": seed,\n",
    "        \"strategy\": \"most_frequent\",\n",
    "        \"beta\": beta,\n",
    "    },\n",
    "    \"base\": {\n",
    "        \"model\": \"lr\",\n",
    "        \"penalty\": None,\n",
    "        \"random_state\": seed,\n",
    "        \"cv_folds\": cv_folds,\n",
    "        \"class_weight\": \"balanced\",\n",
    "        \"n_jobs\": -1,\n",
    "        \"max_iter\": max_iter,\n",
    "        \"scaler_type\": scaler_type,\n",
    "        \"pca_level\": None,\n",
    "        \"beta\": beta,\n",
    "        \"cap_factor\": cap_factor,\n",
    "    },\n",
    "    \"l1\": {\n",
    "        \"model\": \"lr_l1\",\n",
    "        \"penalty\": \"l1\", \n",
    "        \"random_state\": seed,\n",
    "        \"cv_folds\": cv_folds,\n",
    "        \"solver\": \"liblinear\",\n",
    "        \"class_weight\": \"balanced\",\n",
    "        \"max_iter\": max_iter,\n",
    "        \"scaler_type\": scaler_type,\n",
    "        \"pca_level\": None,\n",
    "        \"beta\": beta,\n",
    "        \"c_min\": 1e-1,\n",
    "        \"c_max\": 1,\n",
    "        \"n_trials\": n_trials,\n",
    "        \"cap_factor\": cap_factor,\n",
    "    },\n",
    "    \"l2\": {\n",
    "        \"model\": \"lr_l2\",\n",
    "        \"penalty\": \"l2\", \n",
    "        \"random_state\": seed,\n",
    "        \"cv_folds\": cv_folds,\n",
    "        \"solver\": \"liblinear\",\n",
    "        \"class_weight\": \"balanced\",\n",
    "        \"max_iter\": max_iter,\n",
    "        \"scaler_type\": scaler_type,\n",
    "        \"pca_level\": None,\n",
    "        \"beta\": beta,\n",
    "        \"c_min\": 1e-2,\n",
    "        \"c_max\": 1,\n",
    "        \"n_trials\": n_trials,\n",
    "        \"cap_factor\": cap_factor,\n",
    "    },\n",
    "    \"base_pca\": {\n",
    "        \"model\": \"lr_pca\",\n",
    "        \"penalty\": None,\n",
    "        \"random_state\": seed,\n",
    "        \"cv_folds\": cv_folds,\n",
    "        \"class_weight\": \"balanced\",\n",
    "        \"n_jobs\": -1,\n",
    "        \"max_iter\": max_iter,\n",
    "        \"scaler_type\": scaler_type,\n",
    "        \"pca_level\": pca_level,\n",
    "        \"beta\": beta,\n",
    "        \"cap_factor\": cap_factor,\n",
    "    },\n",
    "    \"l1_pca\": {\n",
    "        \"model\": \"lr_l1_pca\",\n",
    "        \"penalty\": \"l1\", \n",
    "        \"random_state\": seed,\n",
    "        \"cv_folds\": cv_folds,\n",
    "        \"solver\": \"liblinear\",\n",
    "        \"class_weight\": \"balanced\",\n",
    "        \"max_iter\": max_iter,\n",
    "        \"scaler_type\": scaler_type,\n",
    "        \"pca_level\": pca_level,\n",
    "        \"beta\": beta,\n",
    "        \"c_min\": 1e-2,\n",
    "        \"c_max\": 1,\n",
    "        \"n_trials\": n_trials,\n",
    "        \"cap_factor\": cap_factor,\n",
    "    },\n",
    "    \"l2_pca\": {\n",
    "        \"model\": \"lr_l2_pca\",\n",
    "        \"penalty\": \"l2\", \n",
    "        \"random_state\": seed,\n",
    "        \"cv_folds\": cv_folds,\n",
    "        \"solver\": \"liblinear\",\n",
    "        \"class_weight\": \"balanced\",\n",
    "        \"max_iter\": max_iter,\n",
    "        \"scaler_type\": scaler_type,\n",
    "        \"pca_level\": pca_level,\n",
    "        \"beta\": beta,\n",
    "        \"c_min\": 1e-2,\n",
    "        \"c_max\": 1,\n",
    "        \"n_trials\": n_trials,\n",
    "        \"cap_factor\": cap_factor,\n",
    "    }\n",
    "\n",
    "}"
   ]
  },
  {
   "cell_type": "code",
   "execution_count": 5,
   "id": "a7920091",
   "metadata": {},
   "outputs": [
    {
     "name": "stderr",
     "output_type": "stream",
     "text": [
      "[I 2025-10-16 10:21:15,289] A new study created in RDB with name: lr_l1_TARGET_5Yrs\n",
      "[I 2025-10-16 10:21:15,336] Trial 0 finished with value: 0.7715905921025441 and parameters: {'C': 0.23688639503640782}. Best is trial 0 with value: 0.7715905921025441.\n",
      "[I 2025-10-16 10:21:15,378] Trial 1 finished with value: 0.7648870014074804 and parameters: {'C': 0.8927180304353626}. Best is trial 0 with value: 0.7715905921025441.\n",
      "[I 2025-10-16 10:21:15,418] Trial 2 finished with value: 0.7696336299926714 and parameters: {'C': 0.5395030966670228}. Best is trial 0 with value: 0.7715905921025441.\n",
      "[I 2025-10-16 10:21:15,457] Trial 3 finished with value: 0.7738985474011544 and parameters: {'C': 0.3968793330444371}. Best is trial 3 with value: 0.7738985474011544.\n"
     ]
    },
    {
     "name": "stdout",
     "output_type": "stream",
     "text": [
      "Deleted existing study: lr_l1_TARGET_5Yrs\n",
      "Optimizing lr_l1_TARGET_5Yrs...\n"
     ]
    },
    {
     "name": "stderr",
     "output_type": "stream",
     "text": [
      "[I 2025-10-16 10:21:15,497] Trial 4 finished with value: 0.7666146584550485 and parameters: {'C': 0.1432249371823025}. Best is trial 3 with value: 0.7738985474011544.\n",
      "[I 2025-10-16 10:21:15,536] Trial 5 finished with value: 0.7666146584550485 and parameters: {'C': 0.14321698289111517}. Best is trial 3 with value: 0.7738985474011544.\n",
      "[I 2025-10-16 10:21:15,574] Trial 6 finished with value: 0.7635313650659294 and parameters: {'C': 0.1143098387631322}. Best is trial 3 with value: 0.7738985474011544.\n",
      "[I 2025-10-16 10:21:15,613] Trial 7 finished with value: 0.768538971895039 and parameters: {'C': 0.7348118405270447}. Best is trial 3 with value: 0.7738985474011544.\n",
      "[I 2025-10-16 10:21:15,651] Trial 8 finished with value: 0.7738985474011544 and parameters: {'C': 0.3991305878561679}. Best is trial 3 with value: 0.7738985474011544.\n",
      "[I 2025-10-16 10:21:15,691] Trial 9 finished with value: 0.7709612304867863 and parameters: {'C': 0.5105903209394755}. Best is trial 3 with value: 0.7738985474011544.\n",
      "[I 2025-10-16 10:21:15,733] Trial 10 finished with value: 0.7729934469467612 and parameters: {'C': 0.26598081181385436}. Best is trial 3 with value: 0.7738985474011544.\n",
      "[I 2025-10-16 10:21:15,772] Trial 11 finished with value: 0.7738985474011544 and parameters: {'C': 0.38073240591753676}. Best is trial 3 with value: 0.7738985474011544.\n",
      "[I 2025-10-16 10:21:15,813] Trial 12 finished with value: 0.7738985474011544 and parameters: {'C': 0.38957653667244213}. Best is trial 3 with value: 0.7738985474011544.\n",
      "[I 2025-10-16 10:21:15,853] Trial 13 finished with value: 0.7702777386129696 and parameters: {'C': 0.21157219980577147}. Best is trial 3 with value: 0.7738985474011544.\n",
      "[I 2025-10-16 10:21:15,896] Trial 14 finished with value: 0.7703038984035535 and parameters: {'C': 0.5463478087335408}. Best is trial 3 with value: 0.7738985474011544.\n",
      "[I 2025-10-16 10:21:15,936] Trial 15 finished with value: 0.7727342801321764 and parameters: {'C': 0.32464925172887593}. Best is trial 3 with value: 0.7738985474011544.\n",
      "[I 2025-10-16 10:21:15,977] Trial 16 finished with value: 0.7709612304867863 and parameters: {'C': 0.44900730319953336}. Best is trial 3 with value: 0.7738985474011544.\n",
      "[I 2025-10-16 10:21:16,020] Trial 17 finished with value: 0.7705264569364477 and parameters: {'C': 0.6911953146920227}. Best is trial 3 with value: 0.7738985474011544.\n",
      "[I 2025-10-16 10:21:16,060] Trial 18 finished with value: 0.7723411142048762 and parameters: {'C': 0.29719392935570205}. Best is trial 3 with value: 0.7738985474011544.\n",
      "[I 2025-10-16 10:21:16,100] Trial 19 finished with value: 0.7702777386129696 and parameters: {'C': 0.20092051631560984}. Best is trial 3 with value: 0.7738985474011544.\n",
      "[I 2025-10-16 10:21:16,141] Trial 20 finished with value: 0.7705264569364477 and parameters: {'C': 0.6771324736559827}. Best is trial 3 with value: 0.7738985474011544.\n",
      "[I 2025-10-16 10:21:16,181] Trial 21 finished with value: 0.7733844769960525 and parameters: {'C': 0.3618467954115584}. Best is trial 3 with value: 0.7738985474011544.\n",
      "[I 2025-10-16 10:21:16,220] Trial 22 finished with value: 0.7738985474011544 and parameters: {'C': 0.3853084317775668}. Best is trial 3 with value: 0.7738985474011544.\n",
      "[I 2025-10-16 10:21:16,262] Trial 23 finished with value: 0.7716114273506625 and parameters: {'C': 0.4444519824694235}. Best is trial 3 with value: 0.7738985474011544.\n",
      "[I 2025-10-16 10:21:16,303] Trial 24 finished with value: 0.7723411142048762 and parameters: {'C': 0.2969709762513825}. Best is trial 3 with value: 0.7738985474011544.\n",
      "[I 2025-10-16 10:21:16,344] Trial 25 finished with value: 0.7709612304867863 and parameters: {'C': 0.4536258977817131}. Best is trial 3 with value: 0.7738985474011544.\n",
      "[I 2025-10-16 10:21:16,389] Trial 26 finished with value: 0.7709612304867863 and parameters: {'C': 0.6081557393430563}. Best is trial 3 with value: 0.7738985474011544.\n",
      "[I 2025-10-16 10:21:16,431] Trial 27 finished with value: 0.7648802530483916 and parameters: {'C': 0.9758955570080083}. Best is trial 3 with value: 0.7738985474011544.\n",
      "[I 2025-10-16 10:21:16,471] Trial 28 finished with value: 0.7727342801321764 and parameters: {'C': 0.34148458880915117}. Best is trial 3 with value: 0.7738985474011544.\n",
      "[I 2025-10-16 10:21:16,511] Trial 29 finished with value: 0.7715905921025441 and parameters: {'C': 0.24411485271580183}. Best is trial 3 with value: 0.7738985474011544.\n",
      "[I 2025-10-16 10:21:16,553] Trial 30 finished with value: 0.7727243258442025 and parameters: {'C': 0.41106776051424515}. Best is trial 3 with value: 0.7738985474011544.\n",
      "[I 2025-10-16 10:21:16,593] Trial 31 finished with value: 0.7727243258442025 and parameters: {'C': 0.41058230643000104}. Best is trial 3 with value: 0.7738985474011544.\n",
      "[I 2025-10-16 10:21:16,635] Trial 32 finished with value: 0.7729934469467612 and parameters: {'C': 0.2789123490045486}. Best is trial 3 with value: 0.7738985474011544.\n",
      "[I 2025-10-16 10:21:16,675] Trial 33 finished with value: 0.7709612304867863 and parameters: {'C': 0.49771693631251007}. Best is trial 3 with value: 0.7738985474011544.\n",
      "[I 2025-10-16 10:21:16,714] Trial 34 finished with value: 0.7727342801321764 and parameters: {'C': 0.33991880568745203}. Best is trial 3 with value: 0.7738985474011544.\n",
      "[I 2025-10-16 10:21:16,755] Trial 35 finished with value: 0.7703038984035535 and parameters: {'C': 0.5825415176073544}. Best is trial 3 with value: 0.7738985474011544.\n",
      "[I 2025-10-16 10:21:16,794] Trial 36 finished with value: 0.7709300713548545 and parameters: {'C': 0.1985634088012573}. Best is trial 3 with value: 0.7738985474011544.\n",
      "[I 2025-10-16 10:21:16,834] Trial 37 finished with value: 0.7662316693904297 and parameters: {'C': 0.8080844605739121}. Best is trial 3 with value: 0.7738985474011544.\n",
      "[I 2025-10-16 10:21:16,874] Trial 38 finished with value: 0.7738985474011544 and parameters: {'C': 0.3782823522566741}. Best is trial 3 with value: 0.7738985474011544.\n",
      "[I 2025-10-16 10:21:16,913] Trial 39 finished with value: 0.7715905921025441 and parameters: {'C': 0.24328644990187262}. Best is trial 3 with value: 0.7738985474011544.\n",
      "[I 2025-10-16 10:21:16,952] Trial 40 finished with value: 0.7709612304867863 and parameters: {'C': 0.497935336805089}. Best is trial 3 with value: 0.7738985474011544.\n",
      "[I 2025-10-16 10:21:16,991] Trial 41 finished with value: 0.7738985474011544 and parameters: {'C': 0.3929586584318089}. Best is trial 3 with value: 0.7738985474011544.\n",
      "[I 2025-10-16 10:21:17,026] Trial 42 finished with value: 0.7733844769960525 and parameters: {'C': 0.36562810982858723}. Best is trial 3 with value: 0.7738985474011544.\n",
      "[I 2025-10-16 10:21:17,062] Trial 43 finished with value: 0.7709612304867863 and parameters: {'C': 0.4546323180376299}. Best is trial 3 with value: 0.7738985474011544.\n",
      "[I 2025-10-16 10:21:17,097] Trial 44 finished with value: 0.7716884118671515 and parameters: {'C': 0.31411262604254475}. Best is trial 3 with value: 0.7738985474011544.\n",
      "[I 2025-10-16 10:21:17,132] Trial 45 finished with value: 0.7729934469467612 and parameters: {'C': 0.2701365565657903}. Best is trial 3 with value: 0.7738985474011544.\n",
      "[I 2025-10-16 10:21:17,168] Trial 46 finished with value: 0.7703038984035535 and parameters: {'C': 0.5551977733827451}. Best is trial 3 with value: 0.7738985474011544.\n",
      "[I 2025-10-16 10:21:17,204] Trial 47 finished with value: 0.7709612304867863 and parameters: {'C': 0.4901408942528677}. Best is trial 3 with value: 0.7738985474011544.\n",
      "[I 2025-10-16 10:21:17,239] Trial 48 finished with value: 0.769080958928819 and parameters: {'C': 0.15320034361563054}. Best is trial 3 with value: 0.7738985474011544.\n",
      "[I 2025-10-16 10:21:17,275] Trial 49 finished with value: 0.7727243258442025 and parameters: {'C': 0.4070589780545501}. Best is trial 3 with value: 0.7738985474011544.\n",
      "[I 2025-10-16 10:21:17,315] Trial 50 finished with value: 0.7709612304867863 and parameters: {'C': 0.634859318839131}. Best is trial 3 with value: 0.7738985474011544.\n",
      "[I 2025-10-16 10:21:17,352] Trial 51 finished with value: 0.7738985474011544 and parameters: {'C': 0.3740507910630334}. Best is trial 3 with value: 0.7738985474011544.\n",
      "[I 2025-10-16 10:21:17,389] Trial 52 finished with value: 0.7716884118671515 and parameters: {'C': 0.305710387964472}. Best is trial 3 with value: 0.7738985474011544.\n",
      "[I 2025-10-16 10:21:17,425] Trial 53 finished with value: 0.7727342801321764 and parameters: {'C': 0.3459301100830945}. Best is trial 3 with value: 0.7738985474011544.\n",
      "[I 2025-10-16 10:21:17,461] Trial 54 finished with value: 0.7738985474011544 and parameters: {'C': 0.39676600820532276}. Best is trial 3 with value: 0.7738985474011544.\n",
      "[I 2025-10-16 10:21:17,498] Trial 55 finished with value: 0.7716114273506625 and parameters: {'C': 0.43746567237350037}. Best is trial 3 with value: 0.7738985474011544.\n",
      "[I 2025-10-16 10:21:17,536] Trial 56 finished with value: 0.7702909620759042 and parameters: {'C': 0.5294852847324248}. Best is trial 3 with value: 0.7738985474011544.\n",
      "[I 2025-10-16 10:21:17,573] Trial 57 finished with value: 0.7727342801321764 and parameters: {'C': 0.32595623180178324}. Best is trial 3 with value: 0.7738985474011544.\n",
      "[I 2025-10-16 10:21:17,610] Trial 58 finished with value: 0.7653512158313731 and parameters: {'C': 0.10256263953376905}. Best is trial 3 with value: 0.7738985474011544.\n",
      "[I 2025-10-16 10:21:17,647] Trial 59 finished with value: 0.7738985474011544 and parameters: {'C': 0.3774283956426939}. Best is trial 3 with value: 0.7738985474011544.\n",
      "[I 2025-10-16 10:21:17,685] Trial 60 finished with value: 0.7727342801321764 and parameters: {'C': 0.35249743783989734}. Best is trial 3 with value: 0.7738985474011544.\n",
      "[I 2025-10-16 10:21:17,723] Trial 61 finished with value: 0.7709612304867863 and parameters: {'C': 0.46739448164412684}. Best is trial 3 with value: 0.7738985474011544.\n",
      "[I 2025-10-16 10:21:17,761] Trial 62 finished with value: 0.7727243258442025 and parameters: {'C': 0.40727124483491217}. Best is trial 3 with value: 0.7738985474011544.\n",
      "[I 2025-10-16 10:21:17,798] Trial 63 finished with value: 0.7723411142048762 and parameters: {'C': 0.28632320058096355}. Best is trial 3 with value: 0.7738985474011544.\n",
      "[I 2025-10-16 10:21:17,836] Trial 64 finished with value: 0.7716114273506625 and parameters: {'C': 0.4312809091221305}. Best is trial 3 with value: 0.7738985474011544.\n",
      "[I 2025-10-16 10:21:17,874] Trial 65 finished with value: 0.7738985474011544 and parameters: {'C': 0.39354578576635774}. Best is trial 3 with value: 0.7738985474011544.\n",
      "[I 2025-10-16 10:21:17,913] Trial 66 finished with value: 0.7727342801321764 and parameters: {'C': 0.3280231911118134}. Best is trial 3 with value: 0.7738985474011544.\n",
      "[I 2025-10-16 10:21:17,949] Trial 67 finished with value: 0.7722429248444291 and parameters: {'C': 0.25574230102699574}. Best is trial 3 with value: 0.7738985474011544.\n",
      "[I 2025-10-16 10:21:17,985] Trial 68 finished with value: 0.7745586985530044 and parameters: {'C': 0.36798692784874004}. Best is trial 68 with value: 0.7745586985530044.\n",
      "[I 2025-10-16 10:21:18,022] Trial 69 finished with value: 0.7733844769960525 and parameters: {'C': 0.361427135437722}. Best is trial 68 with value: 0.7745586985530044.\n",
      "[I 2025-10-16 10:21:18,059] Trial 70 finished with value: 0.7716114273506625 and parameters: {'C': 0.43022067989330665}. Best is trial 68 with value: 0.7745586985530044.\n",
      "[I 2025-10-16 10:21:18,094] Trial 71 finished with value: 0.7738985474011544 and parameters: {'C': 0.3810475840813791}. Best is trial 68 with value: 0.7745586985530044.\n",
      "[I 2025-10-16 10:21:18,131] Trial 72 finished with value: 0.7709612304867863 and parameters: {'C': 0.4755063599771393}. Best is trial 68 with value: 0.7745586985530044.\n",
      "[I 2025-10-16 10:21:18,167] Trial 73 finished with value: 0.7727342801321764 and parameters: {'C': 0.3324554919379033}. Best is trial 68 with value: 0.7745586985530044.\n",
      "[I 2025-10-16 10:21:18,203] Trial 74 finished with value: 0.7702777386129696 and parameters: {'C': 0.22150567234990484}. Best is trial 68 with value: 0.7745586985530044.\n",
      "[I 2025-10-16 10:21:18,241] Trial 75 finished with value: 0.7716884118671515 and parameters: {'C': 0.31006527262834044}. Best is trial 68 with value: 0.7745586985530044.\n",
      "[I 2025-10-16 10:21:18,278] Trial 76 finished with value: 0.7702909620759042 and parameters: {'C': 0.5209296175459627}. Best is trial 68 with value: 0.7745586985530044.\n",
      "[I 2025-10-16 10:21:18,314] Trial 77 finished with value: 0.7716114273506625 and parameters: {'C': 0.4231349646013266}. Best is trial 68 with value: 0.7745586985530044.\n",
      "[I 2025-10-16 10:21:18,350] Trial 78 finished with value: 0.7738985474011544 and parameters: {'C': 0.38875758490301515}. Best is trial 68 with value: 0.7745586985530044.\n",
      "[I 2025-10-16 10:21:18,389] Trial 79 finished with value: 0.7709612304867863 and parameters: {'C': 0.4665184361541813}. Best is trial 68 with value: 0.7745586985530044.\n",
      "[I 2025-10-16 10:21:18,428] Trial 80 finished with value: 0.7723411142048762 and parameters: {'C': 0.29512545338084323}. Best is trial 68 with value: 0.7745586985530044.\n",
      "[I 2025-10-16 10:21:18,466] Trial 81 finished with value: 0.7745586985530044 and parameters: {'C': 0.3693904176853445}. Best is trial 68 with value: 0.7745586985530044.\n",
      "[I 2025-10-16 10:21:18,505] Trial 82 finished with value: 0.7727342801321764 and parameters: {'C': 0.35338925292348744}. Best is trial 68 with value: 0.7745586985530044.\n",
      "[I 2025-10-16 10:21:18,541] Trial 83 finished with value: 0.7738985474011544 and parameters: {'C': 0.3806818399073311}. Best is trial 68 with value: 0.7745586985530044.\n",
      "[I 2025-10-16 10:21:18,578] Trial 84 finished with value: 0.7727342801321764 and parameters: {'C': 0.34501646445142453}. Best is trial 68 with value: 0.7745586985530044.\n",
      "[I 2025-10-16 10:21:18,619] Trial 85 finished with value: 0.7716114273506625 and parameters: {'C': 0.4254795741002379}. Best is trial 68 with value: 0.7745586985530044.\n",
      "[I 2025-10-16 10:21:18,658] Trial 86 finished with value: 0.7709612304867863 and parameters: {'C': 0.4498893160275039}. Best is trial 68 with value: 0.7745586985530044.\n",
      "[I 2025-10-16 10:21:18,699] Trial 87 finished with value: 0.7703038984035535 and parameters: {'C': 0.5611697263895145}. Best is trial 68 with value: 0.7745586985530044.\n",
      "[I 2025-10-16 10:21:18,735] Trial 88 finished with value: 0.7716884118671515 and parameters: {'C': 0.32060966746542435}. Best is trial 68 with value: 0.7745586985530044.\n",
      "[I 2025-10-16 10:21:18,772] Trial 89 finished with value: 0.7733844769960525 and parameters: {'C': 0.36298348591631185}. Best is trial 68 with value: 0.7745586985530044.\n",
      "[I 2025-10-16 10:21:18,808] Trial 90 finished with value: 0.7733844769960525 and parameters: {'C': 0.4049385028520405}. Best is trial 68 with value: 0.7745586985530044.\n",
      "[I 2025-10-16 10:21:18,845] Trial 91 finished with value: 0.7738985474011544 and parameters: {'C': 0.38935555881664713}. Best is trial 68 with value: 0.7745586985530044.\n",
      "[I 2025-10-16 10:21:18,883] Trial 92 finished with value: 0.7738985474011544 and parameters: {'C': 0.37761245707160557}. Best is trial 68 with value: 0.7745586985530044.\n",
      "[I 2025-10-16 10:21:18,921] Trial 93 finished with value: 0.7733844769960525 and parameters: {'C': 0.3655498220620273}. Best is trial 68 with value: 0.7745586985530044.\n",
      "[I 2025-10-16 10:21:18,960] Trial 94 finished with value: 0.7727342801321764 and parameters: {'C': 0.3436055560577948}. Best is trial 68 with value: 0.7745586985530044.\n",
      "[I 2025-10-16 10:21:18,997] Trial 95 finished with value: 0.7709612304867863 and parameters: {'C': 0.493620596038644}. Best is trial 68 with value: 0.7745586985530044.\n",
      "[I 2025-10-16 10:21:19,033] Trial 96 finished with value: 0.7727243258442025 and parameters: {'C': 0.4104381848774014}. Best is trial 68 with value: 0.7745586985530044.\n",
      "[I 2025-10-16 10:21:19,069] Trial 97 finished with value: 0.7716884118671515 and parameters: {'C': 0.30389644545792155}. Best is trial 68 with value: 0.7745586985530044.\n",
      "[I 2025-10-16 10:21:19,106] Trial 98 finished with value: 0.7729934469467612 and parameters: {'C': 0.2784661398938745}. Best is trial 68 with value: 0.7745586985530044.\n",
      "[I 2025-10-16 10:21:19,143] Trial 99 finished with value: 0.7716114273506625 and parameters: {'C': 0.4399762916470591}. Best is trial 68 with value: 0.7745586985530044.\n",
      "[I 2025-10-16 10:21:19,221] A new study created in RDB with name: lr_l2_TARGET_5Yrs\n",
      "[I 2025-10-16 10:21:19,263] Trial 0 finished with value: 0.7733450007333068 and parameters: {'C': 0.05611516415334506}. Best is trial 0 with value: 0.7733450007333068.\n",
      "[I 2025-10-16 10:21:19,299] Trial 1 finished with value: 0.762387132132006 and parameters: {'C': 0.7969454818643931}. Best is trial 0 with value: 0.7733450007333068.\n",
      "[I 2025-10-16 10:21:19,334] Trial 2 finished with value: 0.7641583838270215 and parameters: {'C': 0.29106359131330695}. Best is trial 0 with value: 0.7733450007333068.\n"
     ]
    },
    {
     "name": "stdout",
     "output_type": "stream",
     "text": [
      "Best value for lr_l1_TARGET_5Yrs: 0.7745586985530044\n",
      "Deleted existing study: lr_l2_TARGET_5Yrs\n",
      "Optimizing lr_l2_TARGET_5Yrs...\n"
     ]
    },
    {
     "name": "stderr",
     "output_type": "stream",
     "text": [
      "[I 2025-10-16 10:21:19,372] Trial 3 finished with value: 0.768983502547754 and parameters: {'C': 0.15751320499779725}. Best is trial 0 with value: 0.7733450007333068.\n",
      "[I 2025-10-16 10:21:19,408] Trial 4 finished with value: 0.7641177664773184 and parameters: {'C': 0.020513382630874502}. Best is trial 0 with value: 0.7733450007333068.\n",
      "[I 2025-10-16 10:21:19,444] Trial 5 finished with value: 0.7641177664773184 and parameters: {'C': 0.020511104188433976}. Best is trial 0 with value: 0.7733450007333068.\n",
      "[I 2025-10-16 10:21:19,481] Trial 6 finished with value: 0.7650543114236775 and parameters: {'C': 0.01306673923805328}. Best is trial 0 with value: 0.7733450007333068.\n",
      "[I 2025-10-16 10:21:19,518] Trial 7 finished with value: 0.7620172697079102 and parameters: {'C': 0.5399484409787431}. Best is trial 0 with value: 0.7733450007333068.\n",
      "[I 2025-10-16 10:21:19,554] Trial 8 finished with value: 0.768983502547754 and parameters: {'C': 0.15930522616241014}. Best is trial 0 with value: 0.7733450007333068.\n",
      "[I 2025-10-16 10:21:19,591] Trial 9 finished with value: 0.7648184967571104 and parameters: {'C': 0.2607024758370766}. Best is trial 0 with value: 0.7733450007333068.\n",
      "[I 2025-10-16 10:21:19,628] Trial 10 finished with value: 0.7733450007333068 and parameters: {'C': 0.05609875978923094}. Best is trial 0 with value: 0.7733450007333068.\n",
      "[I 2025-10-16 10:21:19,664] Trial 11 finished with value: 0.7733450007333068 and parameters: {'C': 0.05686536606827127}. Best is trial 0 with value: 0.7733450007333068.\n",
      "[I 2025-10-16 10:21:19,701] Trial 12 finished with value: 0.7693923085812844 and parameters: {'C': 0.050395092091595636}. Best is trial 0 with value: 0.7733450007333068.\n",
      "[I 2025-10-16 10:21:19,738] Trial 13 finished with value: 0.7753489357358556 and parameters: {'C': 0.06329443279587914}. Best is trial 13 with value: 0.7753489357358556.\n",
      "[I 2025-10-16 10:21:19,775] Trial 14 finished with value: 0.7712023847230284 and parameters: {'C': 0.08798385880193951}. Best is trial 13 with value: 0.7753489357358556.\n",
      "[I 2025-10-16 10:21:19,812] Trial 15 finished with value: 0.7701466775463326 and parameters: {'C': 0.03991440375258355}. Best is trial 13 with value: 0.7753489357358556.\n",
      "[I 2025-10-16 10:21:19,848] Trial 16 finished with value: 0.7682618521565087 and parameters: {'C': 0.03242551761422177}. Best is trial 13 with value: 0.7753489357358556.\n",
      "[I 2025-10-16 10:21:19,884] Trial 17 finished with value: 0.7719104711266319 and parameters: {'C': 0.1137339279270796}. Best is trial 13 with value: 0.7753489357358556.\n",
      "[I 2025-10-16 10:21:19,920] Trial 18 finished with value: 0.7712023847230284 and parameters: {'C': 0.09756377654499405}. Best is trial 13 with value: 0.7753489357358556.\n",
      "[I 2025-10-16 10:21:19,956] Trial 19 finished with value: 0.7631599710671618 and parameters: {'C': 0.010625600049713463}. Best is trial 13 with value: 0.7753489357358556.\n",
      "[I 2025-10-16 10:21:19,995] Trial 20 finished with value: 0.7658494847346979 and parameters: {'C': 0.023573087089162434}. Best is trial 13 with value: 0.7753489357358556.\n",
      "[I 2025-10-16 10:21:20,034] Trial 21 finished with value: 0.7741455293880052 and parameters: {'C': 0.06526147217439893}. Best is trial 13 with value: 0.7753489357358556.\n",
      "[I 2025-10-16 10:21:20,080] Trial 22 finished with value: 0.7718653615923524 and parameters: {'C': 0.07782009160851608}. Best is trial 13 with value: 0.7753489357358556.\n",
      "[I 2025-10-16 10:21:20,117] Trial 23 finished with value: 0.7682618521565087 and parameters: {'C': 0.03180372509904114}. Best is trial 13 with value: 0.7753489357358556.\n",
      "[I 2025-10-16 10:21:20,154] Trial 24 finished with value: 0.768983502547754 and parameters: {'C': 0.14779901644808757}. Best is trial 13 with value: 0.7753489357358556.\n",
      "[I 2025-10-16 10:21:20,191] Trial 25 finished with value: 0.7737949847011574 and parameters: {'C': 0.07198183060214867}. Best is trial 13 with value: 0.7753489357358556.\n",
      "[I 2025-10-16 10:21:20,228] Trial 26 finished with value: 0.7648184967571104 and parameters: {'C': 0.24688098174938594}. Best is trial 13 with value: 0.7753489357358556.\n",
      "[I 2025-10-16 10:21:20,265] Trial 27 finished with value: 0.7737949847011574 and parameters: {'C': 0.07351241465024955}. Best is trial 13 with value: 0.7753489357358556.\n",
      "[I 2025-10-16 10:21:20,304] Trial 28 finished with value: 0.7707995064716758 and parameters: {'C': 0.03921404457391721}. Best is trial 13 with value: 0.7753489357358556.\n",
      "[I 2025-10-16 10:21:20,343] Trial 29 finished with value: 0.7730090614503353 and parameters: {'C': 0.11882986980414617}. Best is trial 13 with value: 0.7753489357358556.\n",
      "[I 2025-10-16 10:21:20,380] Trial 30 finished with value: 0.7737949847011574 and parameters: {'C': 0.07130913447156836}. Best is trial 13 with value: 0.7753489357358556.\n",
      "[I 2025-10-16 10:21:20,418] Trial 31 finished with value: 0.7737949847011574 and parameters: {'C': 0.06878265222110143}. Best is trial 13 with value: 0.7753489357358556.\n",
      "[I 2025-10-16 10:21:20,454] Trial 32 finished with value: 0.7693923085812844 and parameters: {'C': 0.042241056345153453}. Best is trial 13 with value: 0.7753489357358556.\n",
      "[I 2025-10-16 10:21:20,491] Trial 33 finished with value: 0.7666614922545177 and parameters: {'C': 0.20200513082957802}. Best is trial 13 with value: 0.7753489357358556.\n",
      "[I 2025-10-16 10:21:20,527] Trial 34 finished with value: 0.7723009750467318 and parameters: {'C': 0.12353471639398629}. Best is trial 13 with value: 0.7753489357358556.\n",
      "[I 2025-10-16 10:21:20,566] Trial 35 finished with value: 0.763575269707558 and parameters: {'C': 0.371569499261221}. Best is trial 13 with value: 0.7753489357358556.\n",
      "[I 2025-10-16 10:21:20,604] Trial 36 finished with value: 0.7671515079498046 and parameters: {'C': 0.028013278620393017}. Best is trial 13 with value: 0.7753489357358556.\n",
      "[I 2025-10-16 10:21:20,641] Trial 37 finished with value: 0.762387132132006 and parameters: {'C': 0.9818226878189111}. Best is trial 13 with value: 0.7753489357358556.\n",
      "[I 2025-10-16 10:21:20,677] Trial 38 finished with value: 0.7753489357358556 and parameters: {'C': 0.06284716109506419}. Best is trial 13 with value: 0.7753489357358556.\n",
      "[I 2025-10-16 10:21:20,712] Trial 39 finished with value: 0.7647143624259618 and parameters: {'C': 0.016189228611797658}. Best is trial 13 with value: 0.7753489357358556.\n",
      "[I 2025-10-16 10:21:20,749] Trial 40 finished with value: 0.7693923085812844 and parameters: {'C': 0.048881243728165415}. Best is trial 13 with value: 0.7753489357358556.\n",
      "[I 2025-10-16 10:21:20,786] Trial 41 finished with value: 0.7737949847011574 and parameters: {'C': 0.0718910331373148}. Best is trial 13 with value: 0.7753489357358556.\n",
      "[I 2025-10-16 10:21:20,824] Trial 42 finished with value: 0.7753489357358556 and parameters: {'C': 0.06007500407880653}. Best is trial 13 with value: 0.7753489357358556.\n",
      "[I 2025-10-16 10:21:20,861] Trial 43 finished with value: 0.7739906655552168 and parameters: {'C': 0.05803344527137863}. Best is trial 13 with value: 0.7753489357358556.\n",
      "[I 2025-10-16 10:21:20,901] Trial 44 finished with value: 0.7753489357358556 and parameters: {'C': 0.05992351732651612}. Best is trial 13 with value: 0.7753489357358556.\n",
      "[I 2025-10-16 10:21:20,940] Trial 45 finished with value: 0.7712023847230284 and parameters: {'C': 0.10016824896068965}. Best is trial 13 with value: 0.7753489357358556.\n",
      "[I 2025-10-16 10:21:20,977] Trial 46 finished with value: 0.7693923085812844 and parameters: {'C': 0.04460987578527577}. Best is trial 13 with value: 0.7753489357358556.\n",
      "[I 2025-10-16 10:21:21,014] Trial 47 finished with value: 0.7707737713031422 and parameters: {'C': 0.0351129721660153}. Best is trial 13 with value: 0.7753489357358556.\n",
      "[I 2025-10-16 10:21:21,053] Trial 48 finished with value: 0.7733450007333068 and parameters: {'C': 0.05630514353785689}. Best is trial 13 with value: 0.7753489357358556.\n",
      "[I 2025-10-16 10:21:21,089] Trial 49 finished with value: 0.7659598997034036 and parameters: {'C': 0.02465233025381011}. Best is trial 13 with value: 0.7753489357358556.\n",
      "[I 2025-10-16 10:21:21,125] Trial 50 finished with value: 0.7697500417584893 and parameters: {'C': 0.16126651489820965}. Best is trial 13 with value: 0.7753489357358556.\n",
      "[I 2025-10-16 10:21:21,162] Trial 51 finished with value: 0.7733450007333068 and parameters: {'C': 0.05737022172385689}. Best is trial 13 with value: 0.7753489357358556.\n",
      "[I 2025-10-16 10:21:21,201] Trial 52 finished with value: 0.7712023847230284 and parameters: {'C': 0.08675135919570214}. Best is trial 13 with value: 0.7753489357358556.\n",
      "[I 2025-10-16 10:21:21,240] Trial 53 finished with value: 0.7753489357358556 and parameters: {'C': 0.06305004409804933}. Best is trial 13 with value: 0.7753489357358556.\n",
      "[I 2025-10-16 10:21:21,276] Trial 54 finished with value: 0.7712023847230284 and parameters: {'C': 0.0974741760481068}. Best is trial 13 with value: 0.7753489357358556.\n",
      "[I 2025-10-16 10:21:21,313] Trial 55 finished with value: 0.7747103177332844 and parameters: {'C': 0.06165438850176502}. Best is trial 13 with value: 0.7753489357358556.\n",
      "[I 2025-10-16 10:21:21,350] Trial 56 finished with value: 0.7701466775463326 and parameters: {'C': 0.04002091591388059}. Best is trial 13 with value: 0.7753489357358556.\n",
      "[I 2025-10-16 10:21:21,386] Trial 57 finished with value: 0.7693923085812844 and parameters: {'C': 0.048934736890301846}. Best is trial 13 with value: 0.7753489357358556.\n",
      "[I 2025-10-16 10:21:21,423] Trial 58 finished with value: 0.7712023847230284 and parameters: {'C': 0.08238260122451667}. Best is trial 13 with value: 0.7753489357358556.\n",
      "[I 2025-10-16 10:21:21,460] Trial 59 finished with value: 0.7707951110351101 and parameters: {'C': 0.13286813269389622}. Best is trial 13 with value: 0.7753489357358556.\n",
      "[I 2025-10-16 10:21:21,497] Trial 60 finished with value: 0.7753489357358556 and parameters: {'C': 0.0636593506463845}. Best is trial 13 with value: 0.7753489357358556.\n",
      "[I 2025-10-16 10:21:21,537] Trial 61 finished with value: 0.7747103177332844 and parameters: {'C': 0.06172857656796844}. Best is trial 13 with value: 0.7753489357358556.\n",
      "[I 2025-10-16 10:21:21,573] Trial 62 finished with value: 0.7693923085812844 and parameters: {'C': 0.04980412714391185}. Best is trial 13 with value: 0.7753489357358556.\n",
      "[I 2025-10-16 10:21:21,610] Trial 63 finished with value: 0.7712023847230284 and parameters: {'C': 0.10089768854419755}. Best is trial 13 with value: 0.7753489357358556.\n",
      "[I 2025-10-16 10:21:21,648] Trial 64 finished with value: 0.7712023847230284 and parameters: {'C': 0.08488810170175869}. Best is trial 13 with value: 0.7753489357358556.\n",
      "[I 2025-10-16 10:21:21,683] Trial 65 finished with value: 0.7707737713031422 and parameters: {'C': 0.034843746402994855}. Best is trial 13 with value: 0.7753489357358556.\n",
      "[I 2025-10-16 10:21:21,721] Trial 66 finished with value: 0.7753489357358556 and parameters: {'C': 0.06237823882340884}. Best is trial 13 with value: 0.7753489357358556.\n",
      "[I 2025-10-16 10:21:21,758] Trial 67 finished with value: 0.7693923085812844 and parameters: {'C': 0.04627345936712964}. Best is trial 13 with value: 0.7753489357358556.\n",
      "[I 2025-10-16 10:21:21,796] Trial 68 finished with value: 0.7693923085812844 and parameters: {'C': 0.052278374354835414}. Best is trial 13 with value: 0.7753489357358556.\n",
      "[I 2025-10-16 10:21:21,833] Trial 69 finished with value: 0.7712023847230284 and parameters: {'C': 0.10766071937007406}. Best is trial 13 with value: 0.7753489357358556.\n",
      "[I 2025-10-16 10:21:21,869] Trial 70 finished with value: 0.7671515079498046 and parameters: {'C': 0.02750904793803158}. Best is trial 13 with value: 0.7753489357358556.\n",
      "[I 2025-10-16 10:21:21,906] Trial 71 finished with value: 0.7753489357358556 and parameters: {'C': 0.06302279682138999}. Best is trial 13 with value: 0.7753489357358556.\n",
      "[I 2025-10-16 10:21:21,941] Trial 72 finished with value: 0.7741455293880052 and parameters: {'C': 0.06512871928459857}. Best is trial 13 with value: 0.7753489357358556.\n",
      "[I 2025-10-16 10:21:21,977] Trial 73 finished with value: 0.7718653615923524 and parameters: {'C': 0.07697727817958512}. Best is trial 13 with value: 0.7753489357358556.\n",
      "[I 2025-10-16 10:21:22,013] Trial 74 finished with value: 0.7712023847230284 and parameters: {'C': 0.0861495883408267}. Best is trial 13 with value: 0.7753489357358556.\n",
      "[I 2025-10-16 10:21:22,050] Trial 75 finished with value: 0.7753489357358556 and parameters: {'C': 0.06348809610237574}. Best is trial 13 with value: 0.7753489357358556.\n",
      "[I 2025-10-16 10:21:22,085] Trial 76 finished with value: 0.7715281402681905 and parameters: {'C': 0.03793505193931199}. Best is trial 13 with value: 0.7753489357358556.\n",
      "[I 2025-10-16 10:21:22,122] Trial 77 finished with value: 0.7693923085812844 and parameters: {'C': 0.043399397733026666}. Best is trial 13 with value: 0.7753489357358556.\n",
      "[I 2025-10-16 10:21:22,159] Trial 78 finished with value: 0.7718726228867445 and parameters: {'C': 0.05408785829898177}. Best is trial 13 with value: 0.7753489357358556.\n",
      "[I 2025-10-16 10:21:22,199] Trial 79 finished with value: 0.7737949847011574 and parameters: {'C': 0.07038670762668763}. Best is trial 13 with value: 0.7753489357358556.\n",
      "[I 2025-10-16 10:21:22,236] Trial 80 finished with value: 0.7682618521565087 and parameters: {'C': 0.03131659911460986}. Best is trial 13 with value: 0.7753489357358556.\n",
      "[I 2025-10-16 10:21:22,275] Trial 81 finished with value: 0.7741455293880052 and parameters: {'C': 0.06421826835670283}. Best is trial 13 with value: 0.7753489357358556.\n",
      "[I 2025-10-16 10:21:22,312] Trial 82 finished with value: 0.7705544096801263 and parameters: {'C': 0.09349664210920142}. Best is trial 13 with value: 0.7753489357358556.\n",
      "[I 2025-10-16 10:21:22,350] Trial 83 finished with value: 0.7718653615923524 and parameters: {'C': 0.07668096617425306}. Best is trial 13 with value: 0.7753489357358556.\n",
      "[I 2025-10-16 10:21:22,388] Trial 84 finished with value: 0.7733450007333068 and parameters: {'C': 0.054291557082185866}. Best is trial 13 with value: 0.7753489357358556.\n",
      "[I 2025-10-16 10:21:22,426] Trial 85 finished with value: 0.7753489357358556 and parameters: {'C': 0.06193906937259158}. Best is trial 13 with value: 0.7753489357358556.\n",
      "[I 2025-10-16 10:21:22,463] Trial 86 finished with value: 0.7693923085812844 and parameters: {'C': 0.04655731880799081}. Best is trial 13 with value: 0.7753489357358556.\n",
      "[I 2025-10-16 10:21:22,500] Trial 87 finished with value: 0.7737949847011574 and parameters: {'C': 0.07022745622155908}. Best is trial 13 with value: 0.7753489357358556.\n",
      "[I 2025-10-16 10:21:22,537] Trial 88 finished with value: 0.7712023847230284 and parameters: {'C': 0.10844702168903075}. Best is trial 13 with value: 0.7753489357358556.\n",
      "[I 2025-10-16 10:21:22,574] Trial 89 finished with value: 0.7718653615923524 and parameters: {'C': 0.07901786342762002}. Best is trial 13 with value: 0.7753489357358556.\n",
      "[I 2025-10-16 10:21:22,612] Trial 90 finished with value: 0.7627677918102422 and parameters: {'C': 0.5560094986576639}. Best is trial 13 with value: 0.7753489357358556.\n",
      "[I 2025-10-16 10:21:22,649] Trial 91 finished with value: 0.7753489357358556 and parameters: {'C': 0.06282713002769534}. Best is trial 13 with value: 0.7753489357358556.\n",
      "[I 2025-10-16 10:21:22,685] Trial 92 finished with value: 0.7733450007333068 and parameters: {'C': 0.05766627901297978}. Best is trial 13 with value: 0.7753489357358556.\n",
      "[I 2025-10-16 10:21:22,722] Trial 93 finished with value: 0.7693923085812844 and parameters: {'C': 0.042658054762021766}. Best is trial 13 with value: 0.7753489357358556.\n",
      "[I 2025-10-16 10:21:22,758] Trial 94 finished with value: 0.7693923085812844 and parameters: {'C': 0.05031066625667183}. Best is trial 13 with value: 0.7753489357358556.\n",
      "[I 2025-10-16 10:21:22,796] Trial 95 finished with value: 0.7748593639089261 and parameters: {'C': 0.06613644475520926}. Best is trial 13 with value: 0.7753489357358556.\n",
      "[I 2025-10-16 10:21:22,832] Trial 96 finished with value: 0.7712023847230284 and parameters: {'C': 0.09302438105579572}. Best is trial 13 with value: 0.7753489357358556.\n",
      "[I 2025-10-16 10:21:22,868] Trial 97 finished with value: 0.7715281402681905 and parameters: {'C': 0.03721228611220863}. Best is trial 13 with value: 0.7753489357358556.\n",
      "[I 2025-10-16 10:21:22,906] Trial 98 finished with value: 0.7753489357358556 and parameters: {'C': 0.059618762650391316}. Best is trial 13 with value: 0.7753489357358556.\n",
      "[I 2025-10-16 10:21:22,943] Trial 99 finished with value: 0.7718653615923524 and parameters: {'C': 0.07819847132646889}. Best is trial 13 with value: 0.7753489357358556.\n",
      "[I 2025-10-16 10:21:23,016] A new study created in RDB with name: lr_l1_pca_TARGET_5Yrs\n",
      "[I 2025-10-16 10:21:23,060] Trial 0 finished with value: 0.7510075342222436 and parameters: {'C': 0.05611516415334506}. Best is trial 0 with value: 0.7510075342222436.\n",
      "[I 2025-10-16 10:21:23,099] Trial 1 finished with value: 0.7734236459795032 and parameters: {'C': 0.7969454818643931}. Best is trial 1 with value: 0.7734236459795032.\n",
      "[I 2025-10-16 10:21:23,136] Trial 2 finished with value: 0.7731530755772343 and parameters: {'C': 0.29106359131330695}. Best is trial 1 with value: 0.7734236459795032.\n"
     ]
    },
    {
     "name": "stdout",
     "output_type": "stream",
     "text": [
      "Best value for lr_l2_TARGET_5Yrs: 0.7753489357358556\n",
      "Deleted existing study: lr_l1_pca_TARGET_5Yrs\n",
      "Optimizing lr_l1_pca_TARGET_5Yrs...\n"
     ]
    },
    {
     "name": "stderr",
     "output_type": "stream",
     "text": [
      "[I 2025-10-16 10:21:23,176] Trial 3 finished with value: 0.7727019797545804 and parameters: {'C': 0.15751320499779725}. Best is trial 1 with value: 0.7734236459795032.\n",
      "[I 2025-10-16 10:21:23,215] Trial 4 finished with value: 0.748206590399019 and parameters: {'C': 0.020513382630874502}. Best is trial 1 with value: 0.7734236459795032.\n",
      "[I 2025-10-16 10:21:23,255] Trial 5 finished with value: 0.748206590399019 and parameters: {'C': 0.020511104188433976}. Best is trial 1 with value: 0.7734236459795032.\n",
      "[I 2025-10-16 10:21:23,291] Trial 6 finished with value: 0.737289624135473 and parameters: {'C': 0.01306673923805328}. Best is trial 1 with value: 0.7734236459795032.\n",
      "[I 2025-10-16 10:21:23,327] Trial 7 finished with value: 0.7739991485871003 and parameters: {'C': 0.5399484409787431}. Best is trial 7 with value: 0.7739991485871003.\n",
      "[I 2025-10-16 10:21:23,364] Trial 8 finished with value: 0.7727019797545804 and parameters: {'C': 0.15930522616241014}. Best is trial 7 with value: 0.7739991485871003.\n",
      "[I 2025-10-16 10:21:23,402] Trial 9 finished with value: 0.7738663672471644 and parameters: {'C': 0.2607024758370766}. Best is trial 7 with value: 0.7739991485871003.\n",
      "[I 2025-10-16 10:21:23,440] Trial 10 finished with value: 0.7716860153998304 and parameters: {'C': 0.907173173011734}. Best is trial 7 with value: 0.7739991485871003.\n",
      "[I 2025-10-16 10:21:23,477] Trial 11 finished with value: 0.7759087075958152 and parameters: {'C': 0.3439731982949687}. Best is trial 11 with value: 0.7759087075958152.\n",
      "[I 2025-10-16 10:21:23,515] Trial 12 finished with value: 0.7729005582633969 and parameters: {'C': 0.556147057091079}. Best is trial 11 with value: 0.7759087075958152.\n",
      "[I 2025-10-16 10:21:23,552] Trial 13 finished with value: 0.7753867686004166 and parameters: {'C': 0.39787691145444587}. Best is trial 11 with value: 0.7759087075958152.\n",
      "[I 2025-10-16 10:21:23,589] Trial 14 finished with value: 0.7524836968134905 and parameters: {'C': 0.06228997444898857}. Best is trial 11 with value: 0.7759087075958152.\n",
      "[I 2025-10-16 10:21:23,627] Trial 15 finished with value: 0.7752485564439653 and parameters: {'C': 0.3229324668928742}. Best is trial 11 with value: 0.7759087075958152.\n",
      "[I 2025-10-16 10:21:23,665] Trial 16 finished with value: 0.7676284606810619 and parameters: {'C': 0.11303148750354612}. Best is trial 11 with value: 0.7759087075958152.\n",
      "[I 2025-10-16 10:21:23,702] Trial 17 finished with value: 0.7746815735290681 and parameters: {'C': 0.4448716892729857}. Best is trial 11 with value: 0.7759087075958152.\n",
      "[I 2025-10-16 10:21:23,740] Trial 18 finished with value: 0.7737267616301651 and parameters: {'C': 0.17937722033317488}. Best is trial 11 with value: 0.7759087075958152.\n",
      "[I 2025-10-16 10:21:23,777] Trial 19 finished with value: 0.7543499248873047 and parameters: {'C': 0.0689270755616014}. Best is trial 11 with value: 0.7759087075958152.\n",
      "[I 2025-10-16 10:21:23,813] Trial 20 finished with value: 0.7757933200462682 and parameters: {'C': 0.3634022417785783}. Best is trial 11 with value: 0.7759087075958152.\n",
      "[I 2025-10-16 10:21:23,849] Trial 21 finished with value: 0.7751476552243581 and parameters: {'C': 0.3717024654766903}. Best is trial 11 with value: 0.7759087075958152.\n",
      "[I 2025-10-16 10:21:23,890] Trial 22 finished with value: 0.7721500361610648 and parameters: {'C': 0.6681367213835414}. Best is trial 11 with value: 0.7759087075958152.\n",
      "[I 2025-10-16 10:21:23,930] Trial 23 finished with value: 0.7731996252714888 and parameters: {'C': 0.22881441061053204}. Best is trial 11 with value: 0.7759087075958152.\n",
      "[I 2025-10-16 10:21:23,967] Trial 24 finished with value: 0.764272477782938 and parameters: {'C': 0.09200102360207904}. Best is trial 11 with value: 0.7759087075958152.\n",
      "[I 2025-10-16 10:21:24,004] Trial 25 finished with value: 0.7747266174485666 and parameters: {'C': 0.39479190670293623}. Best is trial 11 with value: 0.7759087075958152.\n",
      "[I 2025-10-16 10:21:24,042] Trial 26 finished with value: 0.7710308902874894 and parameters: {'C': 0.9478123997205629}. Best is trial 11 with value: 0.7759087075958152.\n",
      "[I 2025-10-16 10:21:24,080] Trial 27 finished with value: 0.7728627910557219 and parameters: {'C': 0.203513179033482}. Best is trial 11 with value: 0.7759087075958152.\n",
      "[I 2025-10-16 10:21:24,118] Trial 28 finished with value: 0.7660477366339348 and parameters: {'C': 0.1115648752768589}. Best is trial 11 with value: 0.7759087075958152.\n",
      "[I 2025-10-16 10:21:24,155] Trial 29 finished with value: 0.7515444735086985 and parameters: {'C': 0.04551112586040717}. Best is trial 11 with value: 0.7759087075958152.\n",
      "[I 2025-10-16 10:21:24,192] Trial 30 finished with value: 0.7739991485871003 and parameters: {'C': 0.49663869041168485}. Best is trial 11 with value: 0.7759087075958152.\n",
      "[I 2025-10-16 10:21:24,229] Trial 31 finished with value: 0.7759087075958152 and parameters: {'C': 0.34077593955909635}. Best is trial 11 with value: 0.7759087075958152.\n",
      "[I 2025-10-16 10:21:24,266] Trial 32 finished with value: 0.7721500361610648 and parameters: {'C': 0.6773478109762875}. Best is trial 11 with value: 0.7759087075958152.\n",
      "[I 2025-10-16 10:21:24,302] Trial 33 finished with value: 0.7745463763642023 and parameters: {'C': 0.32087932980256123}. Best is trial 11 with value: 0.7759087075958152.\n",
      "[I 2025-10-16 10:21:24,339] Trial 34 finished with value: 0.7720650004569177 and parameters: {'C': 0.25253710106474514}. Best is trial 11 with value: 0.7759087075958152.\n",
      "[I 2025-10-16 10:21:24,375] Trial 35 finished with value: 0.7728467476826828 and parameters: {'C': 0.7077976628542751}. Best is trial 11 with value: 0.7759087075958152.\n",
      "[I 2025-10-16 10:21:24,414] Trial 36 finished with value: 0.7687721234767537 and parameters: {'C': 0.13376309939650036}. Best is trial 11 with value: 0.7759087075958152.\n",
      "[I 2025-10-16 10:21:24,452] Trial 37 finished with value: 0.7747266174485666 and parameters: {'C': 0.37866531225624467}. Best is trial 11 with value: 0.7759087075958152.\n",
      "[I 2025-10-16 10:21:24,488] Trial 38 finished with value: 0.7731530755772343 and parameters: {'C': 0.2925703067523526}. Best is trial 11 with value: 0.7759087075958152.\n",
      "[I 2025-10-16 10:21:24,524] Trial 39 finished with value: 0.7527486321847177 and parameters: {'C': 0.03730291443465804}. Best is trial 11 with value: 0.7759087075958152.\n",
      "[I 2025-10-16 10:21:24,562] Trial 40 finished with value: 0.7750774769129621 and parameters: {'C': 0.19774827096614597}. Best is trial 11 with value: 0.7759087075958152.\n",
      "[I 2025-10-16 10:21:24,602] Trial 41 finished with value: 0.7759087075958152 and parameters: {'C': 0.3377915413424529}. Best is trial 11 with value: 0.7759087075958152.\n",
      "[I 2025-10-16 10:21:24,641] Trial 42 finished with value: 0.7729005582633969 and parameters: {'C': 0.5764646339918122}. Best is trial 11 with value: 0.7759087075958152.\n",
      "[I 2025-10-16 10:21:24,679] Trial 43 finished with value: 0.7753867686004166 and parameters: {'C': 0.43712827227571927}. Best is trial 11 with value: 0.7759087075958152.\n",
      "[I 2025-10-16 10:21:24,717] Trial 44 finished with value: 0.7716692176851859 and parameters: {'C': 0.14858476069091853}. Best is trial 11 with value: 0.7759087075958152.\n",
      "[I 2025-10-16 10:21:24,754] Trial 45 finished with value: 0.7745463763642023 and parameters: {'C': 0.31408966761294865}. Best is trial 11 with value: 0.7759087075958152.\n",
      "[I 2025-10-16 10:21:24,790] Trial 46 finished with value: 0.7739991485871003 and parameters: {'C': 0.5276791825669138}. Best is trial 11 with value: 0.7759087075958152.\n",
      "[I 2025-10-16 10:21:24,827] Trial 47 finished with value: 0.7724799730934212 and parameters: {'C': 0.23243004562572375}. Best is trial 11 with value: 0.7759087075958152.\n",
      "[I 2025-10-16 10:21:24,865] Trial 48 finished with value: 0.7734236459795032 and parameters: {'C': 0.7854709372178811}. Best is trial 11 with value: 0.7759087075958152.\n",
      "[I 2025-10-16 10:21:24,903] Trial 49 finished with value: 0.7727858536065384 and parameters: {'C': 0.27470503420646397}. Best is trial 11 with value: 0.7759087075958152.\n",
      "[I 2025-10-16 10:21:24,941] Trial 50 finished with value: 0.7751476552243581 and parameters: {'C': 0.35725637884819816}. Best is trial 11 with value: 0.7759087075958152.\n",
      "[I 2025-10-16 10:21:24,978] Trial 51 finished with value: 0.7753867686004166 and parameters: {'C': 0.4323234848924469}. Best is trial 11 with value: 0.7759087075958152.\n",
      "[I 2025-10-16 10:21:25,016] Trial 52 finished with value: 0.7732939535157518 and parameters: {'C': 0.4613181640126754}. Best is trial 11 with value: 0.7759087075958152.\n",
      "[I 2025-10-16 10:21:25,054] Trial 53 finished with value: 0.7729005582633969 and parameters: {'C': 0.5913393629300085}. Best is trial 11 with value: 0.7759087075958152.\n",
      "[I 2025-10-16 10:21:25,092] Trial 54 finished with value: 0.7730714918766256 and parameters: {'C': 0.17377162919120698}. Best is trial 11 with value: 0.7759087075958152.\n",
      "[I 2025-10-16 10:21:25,131] Trial 55 finished with value: 0.7753867686004166 and parameters: {'C': 0.407615154691796}. Best is trial 11 with value: 0.7759087075958152.\n",
      "[I 2025-10-16 10:21:25,170] Trial 56 finished with value: 0.7759087075958152 and parameters: {'C': 0.34345154981500353}. Best is trial 11 with value: 0.7759087075958152.\n",
      "[I 2025-10-16 10:21:25,208] Trial 57 finished with value: 0.7743175890867267 and parameters: {'C': 0.21522042944957942}. Best is trial 11 with value: 0.7759087075958152.\n",
      "[I 2025-10-16 10:21:25,246] Trial 58 finished with value: 0.737289624135473 and parameters: {'C': 0.010519095028133847}. Best is trial 11 with value: 0.7759087075958152.\n",
      "[I 2025-10-16 10:21:25,283] Trial 59 finished with value: 0.7727858536065384 and parameters: {'C': 0.26870244337862564}. Best is trial 11 with value: 0.7759087075958152.\n",
      "[I 2025-10-16 10:21:25,320] Trial 60 finished with value: 0.7751476552243581 and parameters: {'C': 0.35232352780473913}. Best is trial 11 with value: 0.7759087075958152.\n",
      "[I 2025-10-16 10:21:25,357] Trial 61 finished with value: 0.7739991485871003 and parameters: {'C': 0.47866429002336447}. Best is trial 11 with value: 0.7759087075958152.\n",
      "[I 2025-10-16 10:21:25,394] Trial 62 finished with value: 0.7734236459795032 and parameters: {'C': 0.8099522355017237}. Best is trial 11 with value: 0.7759087075958152.\n",
      "[I 2025-10-16 10:21:25,432] Trial 63 finished with value: 0.7759087075958152 and parameters: {'C': 0.3299653135396465}. Best is trial 11 with value: 0.7759087075958152.\n",
      "[I 2025-10-16 10:21:25,471] Trial 64 finished with value: 0.7759087075958152 and parameters: {'C': 0.32920712425426024}. Best is trial 11 with value: 0.7759087075958152.\n",
      "[I 2025-10-16 10:21:25,508] Trial 65 finished with value: 0.7731530755772343 and parameters: {'C': 0.29686632881037117}. Best is trial 11 with value: 0.7759087075958152.\n",
      "[I 2025-10-16 10:21:25,545] Trial 66 finished with value: 0.7720650004569177 and parameters: {'C': 0.24340347872315551}. Best is trial 11 with value: 0.7759087075958152.\n",
      "[I 2025-10-16 10:21:25,582] Trial 67 finished with value: 0.7759087075958152 and parameters: {'C': 0.3396865713840471}. Best is trial 11 with value: 0.7759087075958152.\n",
      "[I 2025-10-16 10:21:25,618] Trial 68 finished with value: 0.748516019317008 and parameters: {'C': 0.021914805291808667}. Best is trial 11 with value: 0.7759087075958152.\n",
      "[I 2025-10-16 10:21:25,655] Trial 69 finished with value: 0.7759087075958152 and parameters: {'C': 0.33588756488833627}. Best is trial 11 with value: 0.7759087075958152.\n",
      "[I 2025-10-16 10:21:25,691] Trial 70 finished with value: 0.7729005582633969 and parameters: {'C': 0.6143984728321551}. Best is trial 11 with value: 0.7759087075958152.\n",
      "[I 2025-10-16 10:21:25,729] Trial 71 finished with value: 0.7759087075958152 and parameters: {'C': 0.3267992335398057}. Best is trial 11 with value: 0.7759087075958152.\n",
      "[I 2025-10-16 10:21:25,765] Trial 72 finished with value: 0.7727858536065384 and parameters: {'C': 0.26816949538537627}. Best is trial 11 with value: 0.7759087075958152.\n",
      "[I 2025-10-16 10:21:25,801] Trial 73 finished with value: 0.7737267616301651 and parameters: {'C': 0.17794715841889497}. Best is trial 11 with value: 0.7759087075958152.\n",
      "[I 2025-10-16 10:21:25,840] Trial 74 finished with value: 0.7747266174485666 and parameters: {'C': 0.3851365006492301}. Best is trial 11 with value: 0.7759087075958152.\n",
      "[I 2025-10-16 10:21:25,880] Trial 75 finished with value: 0.7739991485871003 and parameters: {'C': 0.5165019707889595}. Best is trial 11 with value: 0.7759087075958152.\n",
      "[I 2025-10-16 10:21:25,919] Trial 76 finished with value: 0.7759087075958152 and parameters: {'C': 0.3353629261249133}. Best is trial 11 with value: 0.7759087075958152.\n",
      "[I 2025-10-16 10:21:25,956] Trial 77 finished with value: 0.7735824432337894 and parameters: {'C': 0.20577182645546604}. Best is trial 11 with value: 0.7759087075958152.\n",
      "[I 2025-10-16 10:21:25,994] Trial 78 finished with value: 0.7731530755772343 and parameters: {'C': 0.2890317641755105}. Best is trial 11 with value: 0.7759087075958152.\n",
      "[I 2025-10-16 10:21:26,031] Trial 79 finished with value: 0.7724799730934212 and parameters: {'C': 0.232798549925922}. Best is trial 11 with value: 0.7759087075958152.\n",
      "[I 2025-10-16 10:21:26,068] Trial 80 finished with value: 0.7709989492743038 and parameters: {'C': 0.14438635639963004}. Best is trial 11 with value: 0.7759087075958152.\n",
      "[I 2025-10-16 10:21:26,108] Trial 81 finished with value: 0.7752485564439653 and parameters: {'C': 0.3228732675280065}. Best is trial 11 with value: 0.7759087075958152.\n",
      "[I 2025-10-16 10:21:26,148] Trial 82 finished with value: 0.7753867686004166 and parameters: {'C': 0.4067091419986343}. Best is trial 11 with value: 0.7759087075958152.\n",
      "[I 2025-10-16 10:21:26,187] Trial 83 finished with value: 0.7759087075958152 and parameters: {'C': 0.33442679009255927}. Best is trial 11 with value: 0.7759087075958152.\n",
      "[I 2025-10-16 10:21:26,227] Trial 84 finished with value: 0.7746815735290681 and parameters: {'C': 0.44489563572926694}. Best is trial 11 with value: 0.7759087075958152.\n",
      "[I 2025-10-16 10:21:26,265] Trial 85 finished with value: 0.7591860212238095 and parameters: {'C': 0.08317109470638641}. Best is trial 11 with value: 0.7759087075958152.\n",
      "[I 2025-10-16 10:21:26,304] Trial 86 finished with value: 0.7738035165229996 and parameters: {'C': 0.2991500507372052}. Best is trial 11 with value: 0.7759087075958152.\n",
      "[I 2025-10-16 10:21:26,341] Trial 87 finished with value: 0.7727846526349853 and parameters: {'C': 0.257752444930107}. Best is trial 11 with value: 0.7759087075958152.\n",
      "[I 2025-10-16 10:21:26,379] Trial 88 finished with value: 0.7757933200462682 and parameters: {'C': 0.36331197563508966}. Best is trial 11 with value: 0.7759087075958152.\n",
      "[I 2025-10-16 10:21:26,416] Trial 89 finished with value: 0.7739991485871003 and parameters: {'C': 0.5016293422538507}. Best is trial 11 with value: 0.7759087075958152.\n",
      "[I 2025-10-16 10:21:26,453] Trial 90 finished with value: 0.7750774769129621 and parameters: {'C': 0.19498473915392903}. Best is trial 11 with value: 0.7759087075958152.\n",
      "[I 2025-10-16 10:21:26,490] Trial 91 finished with value: 0.7751476552243581 and parameters: {'C': 0.3528286645185349}. Best is trial 11 with value: 0.7759087075958152.\n",
      "[I 2025-10-16 10:21:26,527] Trial 92 finished with value: 0.7745463763642023 and parameters: {'C': 0.3119407751191452}. Best is trial 11 with value: 0.7759087075958152.\n",
      "[I 2025-10-16 10:21:26,564] Trial 93 finished with value: 0.7753867686004166 and parameters: {'C': 0.40638902060405546}. Best is trial 11 with value: 0.7759087075958152.\n",
      "[I 2025-10-16 10:21:26,601] Trial 94 finished with value: 0.7731996252714888 and parameters: {'C': 0.2250193940735043}. Best is trial 11 with value: 0.7759087075958152.\n",
      "[I 2025-10-16 10:21:26,637] Trial 95 finished with value: 0.7759087075958152 and parameters: {'C': 0.3393772124864087}. Best is trial 11 with value: 0.7759087075958152.\n",
      "[I 2025-10-16 10:21:26,673] Trial 96 finished with value: 0.7727858536065384 and parameters: {'C': 0.27403886307154024}. Best is trial 11 with value: 0.7759087075958152.\n",
      "[I 2025-10-16 10:21:26,710] Trial 97 finished with value: 0.7739991485871003 and parameters: {'C': 0.47438773143819757}. Best is trial 11 with value: 0.7759087075958152.\n",
      "[I 2025-10-16 10:21:26,748] Trial 98 finished with value: 0.7729005582633969 and parameters: {'C': 0.645911851698581}. Best is trial 11 with value: 0.7759087075958152.\n",
      "[I 2025-10-16 10:21:26,785] Trial 99 finished with value: 0.7753867686004166 and parameters: {'C': 0.4249772697348208}. Best is trial 11 with value: 0.7759087075958152.\n",
      "[I 2025-10-16 10:21:26,919] A new study created in RDB with name: lr_l2_pca_TARGET_5Yrs\n",
      "[I 2025-10-16 10:21:26,961] Trial 0 finished with value: 0.7724443675856325 and parameters: {'C': 0.05611516415334506}. Best is trial 0 with value: 0.7724443675856325.\n"
     ]
    },
    {
     "name": "stdout",
     "output_type": "stream",
     "text": [
      "Best value for lr_l1_pca_TARGET_5Yrs: 0.7759087075958152\n",
      "Deleted existing study: lr_l2_pca_TARGET_5Yrs\n",
      "Optimizing lr_l2_pca_TARGET_5Yrs...\n"
     ]
    },
    {
     "name": "stderr",
     "output_type": "stream",
     "text": [
      "[I 2025-10-16 10:21:27,001] Trial 1 finished with value: 0.7703570234491854 and parameters: {'C': 0.7969454818643931}. Best is trial 0 with value: 0.7724443675856325.\n",
      "[I 2025-10-16 10:21:27,042] Trial 2 finished with value: 0.7690048108946078 and parameters: {'C': 0.29106359131330695}. Best is trial 0 with value: 0.7724443675856325.\n",
      "[I 2025-10-16 10:21:27,083] Trial 3 finished with value: 0.7726461229563969 and parameters: {'C': 0.15751320499779725}. Best is trial 3 with value: 0.7726461229563969.\n",
      "[I 2025-10-16 10:21:27,120] Trial 4 finished with value: 0.7665003635515295 and parameters: {'C': 0.020513382630874502}. Best is trial 3 with value: 0.7726461229563969.\n",
      "[I 2025-10-16 10:21:27,156] Trial 5 finished with value: 0.7665003635515295 and parameters: {'C': 0.020511104188433976}. Best is trial 3 with value: 0.7726461229563969.\n",
      "[I 2025-10-16 10:21:27,193] Trial 6 finished with value: 0.7638839705916523 and parameters: {'C': 0.01306673923805328}. Best is trial 3 with value: 0.7726461229563969.\n",
      "[I 2025-10-16 10:21:27,231] Trial 7 finished with value: 0.769041640765557 and parameters: {'C': 0.5399484409787431}. Best is trial 3 with value: 0.7726461229563969.\n",
      "[I 2025-10-16 10:21:27,268] Trial 8 finished with value: 0.7726461229563969 and parameters: {'C': 0.15930522616241014}. Best is trial 3 with value: 0.7726461229563969.\n",
      "[I 2025-10-16 10:21:27,307] Trial 9 finished with value: 0.7700816469544756 and parameters: {'C': 0.2607024758370766}. Best is trial 3 with value: 0.7726461229563969.\n",
      "[I 2025-10-16 10:21:27,345] Trial 10 finished with value: 0.7745755292550132 and parameters: {'C': 0.07074579225315701}. Best is trial 10 with value: 0.7745755292550132.\n",
      "[I 2025-10-16 10:21:27,382] Trial 11 finished with value: 0.7738468954584985 and parameters: {'C': 0.0688740673457406}. Best is trial 10 with value: 0.7745755292550132.\n",
      "[I 2025-10-16 10:21:27,419] Trial 12 finished with value: 0.7724443675856325 and parameters: {'C': 0.05797165444515652}. Best is trial 10 with value: 0.7745755292550132.\n",
      "[I 2025-10-16 10:21:27,458] Trial 13 finished with value: 0.7718103459382566 and parameters: {'C': 0.05324921902604457}. Best is trial 10 with value: 0.7745755292550132.\n",
      "[I 2025-10-16 10:21:27,497] Trial 14 finished with value: 0.7738208610381411 and parameters: {'C': 0.09182620899189928}. Best is trial 10 with value: 0.7745755292550132.\n",
      "[I 2025-10-16 10:21:27,535] Trial 15 finished with value: 0.770480840823941 and parameters: {'C': 0.03991440375258355}. Best is trial 10 with value: 0.7745755292550132.\n",
      "[I 2025-10-16 10:21:27,574] Trial 16 finished with value: 0.7734231474442584 and parameters: {'C': 0.09902338727859848}. Best is trial 10 with value: 0.7745755292550132.\n",
      "[I 2025-10-16 10:21:27,612] Trial 17 finished with value: 0.7648954193646912 and parameters: {'C': 0.029587245840133888}. Best is trial 10 with value: 0.7745755292550132.\n",
      "[I 2025-10-16 10:21:27,651] Trial 18 finished with value: 0.7726461229563969 and parameters: {'C': 0.16192469924677264}. Best is trial 10 with value: 0.7745755292550132.\n",
      "[I 2025-10-16 10:21:27,691] Trial 19 finished with value: 0.7625045652568017 and parameters: {'C': 0.010625600049713463}. Best is trial 10 with value: 0.7745755292550132.\n",
      "[I 2025-10-16 10:21:27,729] Trial 20 finished with value: 0.7745434947519239 and parameters: {'C': 0.09419530948428205}. Best is trial 10 with value: 0.7745755292550132.\n",
      "[I 2025-10-16 10:21:27,767] Trial 21 finished with value: 0.774454882685517 and parameters: {'C': 0.08098391842332733}. Best is trial 10 with value: 0.7745755292550132.\n",
      "[I 2025-10-16 10:21:27,806] Trial 22 finished with value: 0.7734960405726752 and parameters: {'C': 0.11293566773822397}. Best is trial 10 with value: 0.7745755292550132.\n",
      "[I 2025-10-16 10:21:27,845] Trial 23 finished with value: 0.7678453191865853 and parameters: {'C': 0.035146403570484284}. Best is trial 10 with value: 0.7745755292550132.\n",
      "[I 2025-10-16 10:21:27,882] Trial 24 finished with value: 0.7733691413714475 and parameters: {'C': 0.07749067025978279}. Best is trial 10 with value: 0.7745755292550132.\n",
      "[I 2025-10-16 10:21:27,921] Trial 25 finished with value: 0.7700816469544756 and parameters: {'C': 0.2703105725165261}. Best is trial 10 with value: 0.7745755292550132.\n",
      "[I 2025-10-16 10:21:27,960] Trial 26 finished with value: 0.7734960405726752 and parameters: {'C': 0.11800989855887888}. Best is trial 10 with value: 0.7745755292550132.\n",
      "[I 2025-10-16 10:21:27,997] Trial 27 finished with value: 0.7698280118985978 and parameters: {'C': 0.04277974927854649}. Best is trial 10 with value: 0.7745755292550132.\n",
      "[I 2025-10-16 10:21:28,036] Trial 28 finished with value: 0.7726461229563969 and parameters: {'C': 0.18854450614269705}. Best is trial 10 with value: 0.7745755292550132.\n",
      "[I 2025-10-16 10:21:28,074] Trial 29 finished with value: 0.7663258375182752 and parameters: {'C': 0.026837575004752555}. Best is trial 10 with value: 0.7745755292550132.\n",
      "[I 2025-10-16 10:21:28,113] Trial 30 finished with value: 0.7705214295028504 and parameters: {'C': 0.05071833704063839}. Best is trial 10 with value: 0.7745755292550132.\n",
      "[I 2025-10-16 10:21:28,150] Trial 31 finished with value: 0.7745755292550132 and parameters: {'C': 0.07029356062785509}. Best is trial 10 with value: 0.7745755292550132.\n",
      "[I 2025-10-16 10:21:28,187] Trial 32 finished with value: 0.7738468954584985 and parameters: {'C': 0.06925408954231654}. Best is trial 10 with value: 0.7745755292550132.\n",
      "[I 2025-10-16 10:21:28,224] Trial 33 finished with value: 0.774454882685517 and parameters: {'C': 0.08067273572308746}. Best is trial 10 with value: 0.7745755292550132.\n",
      "[I 2025-10-16 10:21:28,261] Trial 34 finished with value: 0.7730182479175213 and parameters: {'C': 0.1274304735326392}. Best is trial 10 with value: 0.7745755292550132.\n",
      "[I 2025-10-16 10:21:28,299] Trial 35 finished with value: 0.7694359903632604 and parameters: {'C': 0.41606924445643123}. Best is trial 10 with value: 0.7745755292550132.\n",
      "[I 2025-10-16 10:21:28,337] Trial 36 finished with value: 0.7738468954584985 and parameters: {'C': 0.060566263241378905}. Best is trial 10 with value: 0.7745755292550132.\n",
      "[I 2025-10-16 10:21:28,375] Trial 37 finished with value: 0.7710098523745286 and parameters: {'C': 0.9818226878189111}. Best is trial 10 with value: 0.7745755292550132.\n",
      "[I 2025-10-16 10:21:28,414] Trial 38 finished with value: 0.7725787344234131 and parameters: {'C': 0.20046179107204462}. Best is trial 10 with value: 0.7745755292550132.\n",
      "[I 2025-10-16 10:21:28,452] Trial 39 finished with value: 0.7639301673762978 and parameters: {'C': 0.019418975960219423}. Best is trial 10 with value: 0.7745755292550132.\n",
      "[I 2025-10-16 10:21:28,492] Trial 40 finished with value: 0.773717866920185 and parameters: {'C': 0.13448552784581094}. Best is trial 10 with value: 0.7745755292550132.\n",
      "[I 2025-10-16 10:21:28,530] Trial 41 finished with value: 0.774454882685517 and parameters: {'C': 0.08460532257616171}. Best is trial 10 with value: 0.7745755292550132.\n",
      "[I 2025-10-16 10:21:28,568] Trial 42 finished with value: 0.7745434947519239 and parameters: {'C': 0.09320727069298265}. Best is trial 10 with value: 0.7745755292550132.\n",
      "[I 2025-10-16 10:21:28,606] Trial 43 finished with value: 0.7734960405726752 and parameters: {'C': 0.1025715504684943}. Best is trial 10 with value: 0.7745755292550132.\n",
      "[I 2025-10-16 10:21:28,646] Trial 44 finished with value: 0.7738468954584985 and parameters: {'C': 0.06672660425480254}. Best is trial 10 with value: 0.7745755292550132.\n",
      "[I 2025-10-16 10:21:28,685] Trial 45 finished with value: 0.7690993781020832 and parameters: {'C': 0.04448031748265297}. Best is trial 10 with value: 0.7745755292550132.\n",
      "[I 2025-10-16 10:21:28,722] Trial 46 finished with value: 0.7725787344234131 and parameters: {'C': 0.21638582690183708}. Best is trial 10 with value: 0.7745755292550132.\n",
      "[I 2025-10-16 10:21:28,760] Trial 47 finished with value: 0.7726461229563969 and parameters: {'C': 0.15128002493660014}. Best is trial 10 with value: 0.7745755292550132.\n",
      "[I 2025-10-16 10:21:28,797] Trial 48 finished with value: 0.7738208610381411 and parameters: {'C': 0.0899874685598571}. Best is trial 10 with value: 0.7745755292550132.\n",
      "[I 2025-10-16 10:21:28,834] Trial 49 finished with value: 0.7711694045457524 and parameters: {'C': 0.05276689117365796}. Best is trial 10 with value: 0.7745755292550132.\n",
      "[I 2025-10-16 10:21:28,870] Trial 50 finished with value: 0.7648954193646912 and parameters: {'C': 0.0290943792649657}. Best is trial 10 with value: 0.7745755292550132.\n",
      "[I 2025-10-16 10:21:28,907] Trial 51 finished with value: 0.774454882685517 and parameters: {'C': 0.08276762857758584}. Best is trial 10 with value: 0.7745755292550132.\n",
      "[I 2025-10-16 10:21:28,943] Trial 52 finished with value: 0.7745755292550132 and parameters: {'C': 0.07319268188422369}. Best is trial 10 with value: 0.7745755292550132.\n",
      "[I 2025-10-16 10:21:28,979] Trial 53 finished with value: 0.7734960405726752 and parameters: {'C': 0.1054314306195537}. Best is trial 10 with value: 0.7745755292550132.\n",
      "[I 2025-10-16 10:21:29,016] Trial 54 finished with value: 0.7738468954584985 and parameters: {'C': 0.0681345990845702}. Best is trial 10 with value: 0.7745755292550132.\n",
      "[I 2025-10-16 10:21:29,054] Trial 55 finished with value: 0.7705214295028504 and parameters: {'C': 0.05060558139078553}. Best is trial 10 with value: 0.7745755292550132.\n",
      "[I 2025-10-16 10:21:29,091] Trial 56 finished with value: 0.7685054321166742 and parameters: {'C': 0.035248511121455835}. Best is trial 10 with value: 0.7745755292550132.\n",
      "[I 2025-10-16 10:21:29,128] Trial 57 finished with value: 0.7730944014784503 and parameters: {'C': 0.05886190590938121}. Best is trial 10 with value: 0.7745755292550132.\n",
      "[I 2025-10-16 10:21:29,165] Trial 58 finished with value: 0.773717866920185 and parameters: {'C': 0.13918012538160543}. Best is trial 10 with value: 0.7745755292550132.\n",
      "[I 2025-10-16 10:21:29,203] Trial 59 finished with value: 0.7745755292550132 and parameters: {'C': 0.07323033636086164}. Best is trial 10 with value: 0.7745755292550132.\n",
      "[I 2025-10-16 10:21:29,240] Trial 60 finished with value: 0.7734231474442584 and parameters: {'C': 0.09895864850803247}. Best is trial 10 with value: 0.7745755292550132.\n",
      "[I 2025-10-16 10:21:29,279] Trial 61 finished with value: 0.774454882685517 and parameters: {'C': 0.08005999404585365}. Best is trial 10 with value: 0.7745755292550132.\n",
      "[I 2025-10-16 10:21:29,316] Trial 62 finished with value: 0.7734960405726752 and parameters: {'C': 0.11418845592674343}. Best is trial 10 with value: 0.7745755292550132.\n",
      "[I 2025-10-16 10:21:29,355] Trial 63 finished with value: 0.7745755292550132 and parameters: {'C': 0.07102915477498202}. Best is trial 10 with value: 0.7745755292550132.\n",
      "[I 2025-10-16 10:21:29,392] Trial 64 finished with value: 0.7745755292550132 and parameters: {'C': 0.07018967459085834}. Best is trial 10 with value: 0.7745755292550132.\n",
      "[I 2025-10-16 10:21:29,429] Trial 65 finished with value: 0.7680280690963918 and parameters: {'C': 0.04751699787226004}. Best is trial 10 with value: 0.7745755292550132.\n",
      "[I 2025-10-16 10:21:29,466] Trial 66 finished with value: 0.7738468954584985 and parameters: {'C': 0.06877355060518234}. Best is trial 10 with value: 0.7745755292550132.\n",
      "[I 2025-10-16 10:21:29,503] Trial 67 finished with value: 0.770480840823941 and parameters: {'C': 0.03991245623666251}. Best is trial 10 with value: 0.7745755292550132.\n",
      "[I 2025-10-16 10:21:29,540] Trial 68 finished with value: 0.7738468954584985 and parameters: {'C': 0.060713534941310966}. Best is trial 10 with value: 0.7745755292550132.\n",
      "[I 2025-10-16 10:21:29,577] Trial 69 finished with value: 0.7724443675856325 and parameters: {'C': 0.05796191545195801}. Best is trial 10 with value: 0.7745755292550132.\n",
      "[I 2025-10-16 10:21:29,614] Trial 70 finished with value: 0.7745755292550132 and parameters: {'C': 0.07235680997990719}. Best is trial 10 with value: 0.7745755292550132.\n",
      "[I 2025-10-16 10:21:29,651] Trial 71 finished with value: 0.7745755292550132 and parameters: {'C': 0.07542600901410607}. Best is trial 10 with value: 0.7745755292550132.\n",
      "[I 2025-10-16 10:21:29,687] Trial 72 finished with value: 0.7745755292550132 and parameters: {'C': 0.07486153404502534}. Best is trial 10 with value: 0.7745755292550132.\n",
      "[I 2025-10-16 10:21:29,724] Trial 73 finished with value: 0.768398240705405 and parameters: {'C': 0.03669248496472578}. Best is trial 10 with value: 0.7745755292550132.\n",
      "[I 2025-10-16 10:21:29,760] Trial 74 finished with value: 0.7745755292550132 and parameters: {'C': 0.06990172194546682}. Best is trial 10 with value: 0.7745755292550132.\n",
      "[I 2025-10-16 10:21:29,797] Trial 75 finished with value: 0.7738468954584985 and parameters: {'C': 0.0627014232585983}. Best is trial 10 with value: 0.7745755292550132.\n",
      "[I 2025-10-16 10:21:29,833] Trial 76 finished with value: 0.7723101615139177 and parameters: {'C': 0.12006748978489616}. Best is trial 10 with value: 0.7745755292550132.\n",
      "[I 2025-10-16 10:21:29,870] Trial 77 finished with value: 0.7690993781020832 and parameters: {'C': 0.04543855016874284}. Best is trial 10 with value: 0.7745755292550132.\n",
      "[I 2025-10-16 10:21:29,906] Trial 78 finished with value: 0.7745755292550132 and parameters: {'C': 0.07593738386363319}. Best is trial 10 with value: 0.7745755292550132.\n",
      "[I 2025-10-16 10:21:29,942] Trial 79 finished with value: 0.7724443675856325 and parameters: {'C': 0.05463743923600426}. Best is trial 10 with value: 0.7745755292550132.\n",
      "[I 2025-10-16 10:21:29,979] Trial 80 finished with value: 0.774454882685517 and parameters: {'C': 0.085609159905534}. Best is trial 10 with value: 0.7745755292550132.\n",
      "[I 2025-10-16 10:21:30,015] Trial 81 finished with value: 0.7745755292550132 and parameters: {'C': 0.07449100181853266}. Best is trial 10 with value: 0.7745755292550132.\n",
      "[I 2025-10-16 10:21:30,051] Trial 82 finished with value: 0.7734231474442584 and parameters: {'C': 0.10023446347195449}. Best is trial 10 with value: 0.7745755292550132.\n",
      "[I 2025-10-16 10:21:30,088] Trial 83 finished with value: 0.7745755292550132 and parameters: {'C': 0.07515139127341576}. Best is trial 10 with value: 0.7745755292550132.\n",
      "[I 2025-10-16 10:21:30,124] Trial 84 finished with value: 0.7745434947519239 and parameters: {'C': 0.09221663337627485}. Best is trial 10 with value: 0.7745755292550132.\n",
      "[I 2025-10-16 10:21:30,160] Trial 85 finished with value: 0.7718103459382566 and parameters: {'C': 0.05384141304371131}. Best is trial 10 with value: 0.7745755292550132.\n",
      "[I 2025-10-16 10:21:30,197] Trial 86 finished with value: 0.7738468954584985 and parameters: {'C': 0.06275462103102487}. Best is trial 10 with value: 0.7745755292550132.\n",
      "[I 2025-10-16 10:21:30,233] Trial 87 finished with value: 0.7734960405726752 and parameters: {'C': 0.10871207476704733}. Best is trial 10 with value: 0.7745755292550132.\n",
      "[I 2025-10-16 10:21:30,270] Trial 88 finished with value: 0.7726461229563969 and parameters: {'C': 0.17379472920276193}. Best is trial 10 with value: 0.7745755292550132.\n",
      "[I 2025-10-16 10:21:30,307] Trial 89 finished with value: 0.774454882685517 and parameters: {'C': 0.08575914869231217}. Best is trial 10 with value: 0.7745755292550132.\n",
      "[I 2025-10-16 10:21:30,343] Trial 90 finished with value: 0.7698280118985978 and parameters: {'C': 0.04161264258685551}. Best is trial 10 with value: 0.7745755292550132.\n",
      "[I 2025-10-16 10:21:30,379] Trial 91 finished with value: 0.7733691413714475 and parameters: {'C': 0.07654570179701253}. Best is trial 10 with value: 0.7745755292550132.\n",
      "[I 2025-10-16 10:21:30,416] Trial 92 finished with value: 0.7738468954584985 and parameters: {'C': 0.06507960834903467}. Best is trial 10 with value: 0.7745755292550132.\n",
      "[I 2025-10-16 10:21:30,454] Trial 93 finished with value: 0.7680280690963918 and parameters: {'C': 0.04771232115388291}. Best is trial 10 with value: 0.7745755292550132.\n",
      "[I 2025-10-16 10:21:30,492] Trial 94 finished with value: 0.7724443675856325 and parameters: {'C': 0.05605917441445458}. Best is trial 10 with value: 0.7745755292550132.\n",
      "[I 2025-10-16 10:21:30,530] Trial 95 finished with value: 0.7745755292550132 and parameters: {'C': 0.0723762040931534}. Best is trial 10 with value: 0.7745755292550132.\n",
      "[I 2025-10-16 10:21:30,569] Trial 96 finished with value: 0.7738208610381411 and parameters: {'C': 0.09077456138010097}. Best is trial 10 with value: 0.7745755292550132.\n",
      "[I 2025-10-16 10:21:30,606] Trial 97 finished with value: 0.7745755292550132 and parameters: {'C': 0.07388069476969197}. Best is trial 10 with value: 0.7745755292550132.\n",
      "[I 2025-10-16 10:21:30,644] Trial 98 finished with value: 0.7738468954584985 and parameters: {'C': 0.06649212981232429}. Best is trial 10 with value: 0.7745755292550132.\n",
      "[I 2025-10-16 10:21:30,681] Trial 99 finished with value: 0.773717866920185 and parameters: {'C': 0.1317792259068749}. Best is trial 10 with value: 0.7745755292550132.\n"
     ]
    },
    {
     "name": "stdout",
     "output_type": "stream",
     "text": [
      "Best value for lr_l2_pca_TARGET_5Yrs: 0.7745755292550132\n"
     ]
    }
   ],
   "source": [
    "# HP fine-tuning\n",
    "def objective(trial, args: dict, X_train: np.array, y_train: np.array):\n",
    "    model_name = args[\"model\"]\n",
    "    if \"lr\" in model_name:\n",
    "        h_params = args.copy()\n",
    "        h_params[\"C\"] = trial.suggest_float(\"C\", args[\"c_min\"], args[\"c_max\"], log=True)\n",
    "        if args[\"scaler_type\"] == \"robust\":\n",
    "            h_params[\"scaler\"] = RobustScaler()\n",
    "        if args[\"pca_level\"] is not None:\n",
    "            h_params[\"pca\"] = PCA(n_components=args[\"pca_level\"], random_state=args[\"random_state\"])\n",
    "        else:\n",
    "            h_params[\"pca\"] = None\n",
    "            \n",
    "    else:\n",
    "        raise NotImplementedError(f\"Objective function not developped for model {model_name}\")\n",
    "    \n",
    "    return cv_score(model_name, h_params, X_train, y_train)\n",
    "\n",
    "def cv_score(model_name: str, h_params: dict, X_train: np.array, y_train: np.array):\n",
    "    if \"lr\" in model_name:\n",
    "        model = LREstimator(h_params)\n",
    "        score = model.cross_validate(X_train, y_train)\n",
    "        return score\n",
    "    else:\n",
    "        raise NotImplementedError(f\"Scoring function not developped for model {model_name}\")\n",
    "\n",
    "\n",
    "storage_url = \"sqlite:///db.sqlite3\"\n",
    "storage = RDBStorage(url=storage_url)\n",
    "\n",
    "for config_name, config_args in params.items():\n",
    "    study_name = config_args[\"model\"] + \"_\" + target\n",
    "    if \"c_min\" in config_args.keys(): # only treat models with regularization\n",
    "        studies = storage.get_all_studies()\n",
    "        if any(s.study_name == study_name for s in studies):\n",
    "            optuna.delete_study(study_name=study_name, storage=storage_url)\n",
    "            print(f\"Deleted existing study: {study_name}\")\n",
    "        \n",
    "        study = optuna.create_study(\n",
    "            storage=storage_url,\n",
    "            study_name=study_name,\n",
    "            direction=\"maximize\",\n",
    "            sampler=optuna.samplers.TPESampler(seed=seed)\n",
    "        )\n",
    "        \n",
    "        objective_partial = partial(\n",
    "            objective,\n",
    "            args=config_args,\n",
    "            X_train=X_train,\n",
    "            y_train=y_train,\n",
    "        )\n",
    "    \n",
    "        print(f\"Optimizing {study_name}...\")\n",
    "        study.optimize(objective_partial, n_trials=config_args[\"n_trials\"], n_jobs=1) # n_jobs = 1 to ensure reproducibility\n",
    "        print(f\"Best value for {study_name}: {study.best_value}\")"
   ]
  },
  {
   "cell_type": "code",
   "execution_count": 6,
   "id": "d6c4fc03",
   "metadata": {},
   "outputs": [],
   "source": [
    "# Training Pipeline\n",
    "\n",
    "for key in [\"l1\", \"l2\", \"l1_pca\", \"l2_pca\"]:\n",
    "    study_name = params[key][\"model\"] + \"_\" + target\n",
    "    study = optuna.load_study(study_name=study_name, storage=storage_url)\n",
    "    best_C = study.best_params[\"C\"]\n",
    "    params[key][\"C\"] = best_C\n",
    "    \n",
    "    # Ensure fresh scaler and PCA instances\n",
    "    if params[key][\"scaler_type\"] == \"robust\":\n",
    "        params[key][\"scaler\"] = RobustScaler()\n",
    "    if params[key][\"pca_level\"] is not None:\n",
    "        params[key][\"pca\"] = PCA(n_components=params[key][\"pca_level\"], random_state=seed)\n",
    "    else:\n",
    "        params[key][\"pca\"] = None\n",
    "\n",
    "# Also ensure fresh instances for non-optimized models\n",
    "for key in [\"dummy\", \"base\", \"base_pca\"]:\n",
    "    params[key] = params[key].copy()\n",
    "    if \"scaler_type\" in params[key] and params[key][\"scaler_type\"] == \"robust\":\n",
    "        params[key][\"scaler\"] = RobustScaler()\n",
    "    if \"pca_level\" in params[key] and params[key][\"pca_level\"] is not None:\n",
    "        params[key][\"pca\"] = PCA(n_components=params[key][\"pca_level\"], random_state=seed)\n",
    "    else:\n",
    "        params[key][\"pca\"] = None\n",
    "\n",
    "dummy = DummyEstimator(params[\"dummy\"])\n",
    "lr = LREstimator(params[\"base\"])\n",
    "lr_pca = LREstimator(params[\"base_pca\"])\n",
    "lr_l1 = LREstimator(params[\"l1\"])\n",
    "lr_l1_pca = LREstimator(params[\"l1_pca\"])\n",
    "lr_l2 = LREstimator(params[\"l2\"])\n",
    "lr_l2_pca = LREstimator(params[\"l2_pca\"])"
   ]
  },
  {
   "cell_type": "code",
   "execution_count": 7,
   "id": "0abd6528",
   "metadata": {},
   "outputs": [],
   "source": [
    "# Fine tuning\n",
    "for model in [dummy, lr, lr_pca, lr_l1, lr_l1_pca, lr_l2, lr_l2_pca]:\n",
    "    model.cross_validate(X_train, y_train)"
   ]
  },
  {
   "cell_type": "code",
   "execution_count": 8,
   "id": "84419493",
   "metadata": {},
   "outputs": [
    {
     "data": {
      "application/vnd.plotly.v1+json": {
       "config": {
        "plotlyServerURL": "https://plot.ly"
       },
       "data": [
        {
         "legendgroup": "Dummy",
         "line": {
          "color": "red",
          "dash": "solid"
         },
         "mode": "lines+markers",
         "name": "Dummy",
         "showlegend": true,
         "type": "scatter",
         "xaxis": "x",
         "y": [
          0.6243523316062176,
          0.6243523316062176,
          0.6248382923673997,
          0.6235446313065977
         ],
         "yaxis": "y"
        },
        {
         "legendgroup": "Base",
         "line": {
          "color": "blue",
          "dash": "solid"
         },
         "mode": "lines+markers",
         "name": "Base",
         "showlegend": true,
         "type": "scatter",
         "xaxis": "x",
         "y": [
          0.794044665012407,
          0.8071979434447301,
          0.8181818181818182,
          0.7951219512195122
         ],
         "yaxis": "y"
        },
        {
         "legendgroup": "L1",
         "line": {
          "color": "orange",
          "dash": "solid"
         },
         "mode": "lines+markers",
         "name": "L1",
         "showlegend": true,
         "type": "scatter",
         "xaxis": "x",
         "y": [
          0.7950617283950617,
          0.800498753117207,
          0.8109452736318408,
          0.7879518072289157
         ],
         "yaxis": "y"
        },
        {
         "legendgroup": "L2",
         "line": {
          "color": "green",
          "dash": "solid"
         },
         "mode": "lines+markers",
         "name": "L2",
         "showlegend": true,
         "type": "scatter",
         "xaxis": "x",
         "y": [
          0.8070175438596491,
          0.7965260545905707,
          0.8109452736318408,
          0.7834549878345499
         ],
         "yaxis": "y"
        },
        {
         "legendgroup": "Base (PCA)",
         "line": {
          "color": "blue",
          "dash": "dash"
         },
         "mode": "lines+markers",
         "name": "Base (PCA)",
         "showlegend": true,
         "type": "scatter",
         "xaxis": "x",
         "y": [
          0.7941176470588235,
          0.8014888337468983,
          0.8054187192118226,
          0.7869249394673123
         ],
         "yaxis": "y"
        },
        {
         "legendgroup": "L1 (PCA)",
         "line": {
          "color": "orange",
          "dash": "dash"
         },
         "mode": "lines+markers",
         "name": "L1 (PCA)",
         "showlegend": true,
         "type": "scatter",
         "xaxis": "x",
         "y": [
          0.8115577889447236,
          0.805,
          0.8147208121827412,
          0.784841075794621
         ],
         "yaxis": "y"
        },
        {
         "legendgroup": "L2 (PCA)",
         "line": {
          "color": "green",
          "dash": "dash"
         },
         "mode": "lines+markers",
         "name": "L2 (PCA)",
         "showlegend": true,
         "type": "scatter",
         "xaxis": "x",
         "y": [
          0.8106060606060606,
          0.7980049875311721,
          0.8095238095238095,
          0.7872860635696821
         ],
         "yaxis": "y"
        },
        {
         "legendgroup": "Dummy",
         "line": {
          "color": "red",
          "dash": "solid"
         },
         "mode": "lines+markers",
         "name": "Dummy",
         "showlegend": false,
         "type": "scatter",
         "xaxis": "x2",
         "y": [
          1,
          1,
          1,
          1
         ],
         "yaxis": "y2"
        },
        {
         "legendgroup": "Base",
         "line": {
          "color": "blue",
          "dash": "solid"
         },
         "mode": "lines+markers",
         "name": "Base",
         "showlegend": false,
         "type": "scatter",
         "xaxis": "x2",
         "y": [
          0.6639004149377593,
          0.6514522821576764,
          0.6708074534161491,
          0.6763485477178424
         ],
         "yaxis": "y2"
        },
        {
         "legendgroup": "L1",
         "line": {
          "color": "orange",
          "dash": "solid"
         },
         "mode": "lines+markers",
         "name": "L1",
         "showlegend": false,
         "type": "scatter",
         "xaxis": "x2",
         "y": [
          0.6680497925311203,
          0.6659751037344398,
          0.6749482401656315,
          0.6784232365145229
         ],
         "yaxis": "y2"
        },
        {
         "legendgroup": "L2",
         "line": {
          "color": "green",
          "dash": "solid"
         },
         "mode": "lines+markers",
         "name": "L2",
         "showlegend": false,
         "type": "scatter",
         "xaxis": "x2",
         "y": [
          0.6680497925311203,
          0.6659751037344398,
          0.6749482401656315,
          0.6680497925311203
         ],
         "yaxis": "y2"
        },
        {
         "legendgroup": "Base (PCA)",
         "line": {
          "color": "blue",
          "dash": "dash"
         },
         "mode": "lines+markers",
         "name": "Base (PCA)",
         "showlegend": false,
         "type": "scatter",
         "xaxis": "x2",
         "y": [
          0.6721991701244814,
          0.6701244813278008,
          0.6770186335403726,
          0.6742738589211619
         ],
         "yaxis": "y2"
        },
        {
         "legendgroup": "L1 (PCA)",
         "line": {
          "color": "orange",
          "dash": "dash"
         },
         "mode": "lines+markers",
         "name": "L1 (PCA)",
         "showlegend": false,
         "type": "scatter",
         "xaxis": "x2",
         "y": [
          0.6701244813278008,
          0.6680497925311203,
          0.6645962732919255,
          0.6659751037344398
         ],
         "yaxis": "y2"
        },
        {
         "legendgroup": "L2 (PCA)",
         "line": {
          "color": "green",
          "dash": "dash"
         },
         "mode": "lines+markers",
         "name": "L2 (PCA)",
         "showlegend": false,
         "type": "scatter",
         "xaxis": "x2",
         "y": [
          0.6659751037344398,
          0.6639004149377593,
          0.6687370600414079,
          0.6680497925311203
         ],
         "yaxis": "y2"
        },
        {
         "legendgroup": "Dummy",
         "line": {
          "color": "red",
          "dash": "solid"
         },
         "mode": "lines+markers",
         "name": "Dummy",
         "showlegend": false,
         "type": "scatter",
         "xaxis": "x3",
         "y": [
          0.6750700280112045,
          0.6750700280112045,
          0.6755244755244755,
          0.6743144935646335
         ],
         "yaxis": "y3"
        },
        {
         "legendgroup": "Base",
         "line": {
          "color": "blue",
          "dash": "solid"
         },
         "mode": "lines+markers",
         "name": "Base",
         "showlegend": false,
         "type": "scatter",
         "xaxis": "x3",
         "y": [
          0.7640878701050621,
          0.7703631010794897,
          0.783744557329463,
          0.7681432610744581
         ],
         "yaxis": "y3"
        },
        {
         "legendgroup": "L1",
         "line": {
          "color": "orange",
          "dash": "solid"
         },
         "mode": "lines+markers",
         "name": "L1",
         "showlegend": false,
         "type": "scatter",
         "xaxis": "x3",
         "y": [
          0.7659372026641293,
          0.7694151486097794,
          0.779531324725012,
          0.7633053221288515
         ],
         "yaxis": "y3"
        },
        {
         "legendgroup": "L2",
         "line": {
          "color": "green",
          "dash": "solid"
         },
         "mode": "lines+markers",
         "name": "L2",
         "showlegend": false,
         "type": "scatter",
         "xaxis": "x3",
         "y": [
          0.7747834456207893,
          0.7664756446991404,
          0.779531324725012,
          0.7572906867356538
         ],
         "yaxis": "y3"
        },
        {
         "legendgroup": "Base (PCA)",
         "line": {
          "color": "blue",
          "dash": "dash"
         },
         "mode": "lines+markers",
         "name": "Base (PCA)",
         "showlegend": false,
         "type": "scatter",
         "xaxis": "x3",
         "y": [
          0.7663197729422895,
          0.771251193887297,
          0.775984812529663,
          0.7614807872539832
         ],
         "yaxis": "y3"
        },
        {
         "legendgroup": "L1 (PCA)",
         "line": {
          "color": "orange",
          "dash": "dash"
         },
         "mode": "lines+markers",
         "name": "L1 (PCA)",
         "showlegend": false,
         "type": "scatter",
         "xaxis": "x3",
         "y": [
          0.7786885245901639,
          0.7732949087415946,
          0.779504613890238,
          0.7577903682719547
         ],
         "yaxis": "y3"
        },
        {
         "legendgroup": "L2 (PCA)",
         "line": {
          "color": "green",
          "dash": "dash"
         },
         "mode": "lines+markers",
         "name": "L2 (PCA)",
         "showlegend": false,
         "type": "scatter",
         "xaxis": "x3",
         "y": [
          0.776863504356244,
          0.7670182166826462,
          0.7768157768157768,
          0.7601510859301227
         ],
         "yaxis": "y3"
        },
        {
         "legendgroup": "Dummy",
         "line": {
          "color": "red",
          "dash": "solid"
         },
         "mode": "lines+markers",
         "name": "Dummy",
         "showlegend": false,
         "type": "scatter",
         "xaxis": "x4",
         "y": [
          0.624031007751938,
          0.624031007751938,
          0.622568093385214,
          0.6264591439688716
         ],
         "yaxis": "y4"
        },
        {
         "legendgroup": "Base",
         "line": {
          "color": "blue",
          "dash": "solid"
         },
         "mode": "lines+markers",
         "name": "Base",
         "showlegend": false,
         "type": "scatter",
         "xaxis": "x4",
         "y": [
          0.7913669064748201,
          0.8102189781021898,
          0.7716535433070866,
          0.813953488372093
         ],
         "yaxis": "y4"
        },
        {
         "legendgroup": "L1",
         "line": {
          "color": "orange",
          "dash": "solid"
         },
         "mode": "lines+markers",
         "name": "L1",
         "showlegend": false,
         "type": "scatter",
         "xaxis": "x4",
         "y": [
          0.7916666666666666,
          0.8161764705882353,
          0.7769230769230769,
          0.8359375
         ],
         "yaxis": "y4"
        },
        {
         "legendgroup": "L2",
         "line": {
          "color": "green",
          "dash": "solid"
         },
         "mode": "lines+markers",
         "name": "L2",
         "showlegend": false,
         "type": "scatter",
         "xaxis": "x4",
         "y": [
          0.8041958041958042,
          0.8175182481751825,
          0.7727272727272727,
          0.8360655737704918
         ],
         "yaxis": "y4"
        },
        {
         "legendgroup": "Base (PCA)",
         "line": {
          "color": "blue",
          "dash": "dash"
         },
         "mode": "lines+markers",
         "name": "Base (PCA)",
         "showlegend": false,
         "type": "scatter",
         "xaxis": "x4",
         "y": [
          0.7887323943661971,
          0.8129496402877698,
          0.7651515151515151,
          0.8153846153846154
         ],
         "yaxis": "y4"
        },
        {
         "legendgroup": "L1 (PCA)",
         "line": {
          "color": "orange",
          "dash": "dash"
         },
         "mode": "lines+markers",
         "name": "L1 (PCA)",
         "showlegend": false,
         "type": "scatter",
         "xaxis": "x4",
         "y": [
          0.8014184397163121,
          0.8161764705882353,
          0.7786259541984732,
          0.8387096774193549
         ],
         "yaxis": "y4"
        },
        {
         "legendgroup": "L2 (PCA)",
         "line": {
          "color": "green",
          "dash": "dash"
         },
         "mode": "lines+markers",
         "name": "L2 (PCA)",
         "showlegend": false,
         "type": "scatter",
         "xaxis": "x4",
         "y": [
          0.8,
          0.8235294117647058,
          0.7709923664122137,
          0.8347107438016529
         ],
         "yaxis": "y4"
        },
        {
         "legendgroup": "Dummy",
         "line": {
          "color": "red",
          "dash": "solid"
         },
         "mode": "lines+markers",
         "name": "Dummy",
         "showlegend": false,
         "type": "scatter",
         "xaxis": "x5",
         "y": [
          1,
          1,
          1,
          1
         ],
         "yaxis": "y5"
        },
        {
         "legendgroup": "Base",
         "line": {
          "color": "blue",
          "dash": "solid"
         },
         "mode": "lines+markers",
         "name": "Base",
         "showlegend": false,
         "type": "scatter",
         "xaxis": "x5",
         "y": [
          0.6832298136645962,
          0.6894409937888198,
          0.6125,
          0.6521739130434783
         ],
         "yaxis": "y5"
        },
        {
         "legendgroup": "L1",
         "line": {
          "color": "orange",
          "dash": "solid"
         },
         "mode": "lines+markers",
         "name": "L1",
         "showlegend": false,
         "type": "scatter",
         "xaxis": "x5",
         "y": [
          0.7080745341614907,
          0.6894409937888198,
          0.63125,
          0.6645962732919255
         ],
         "yaxis": "y5"
        },
        {
         "legendgroup": "L2",
         "line": {
          "color": "green",
          "dash": "solid"
         },
         "mode": "lines+markers",
         "name": "L2",
         "showlegend": false,
         "type": "scatter",
         "xaxis": "x5",
         "y": [
          0.7142857142857143,
          0.6956521739130435,
          0.6375,
          0.6335403726708074
         ],
         "yaxis": "y5"
        },
        {
         "legendgroup": "Base (PCA)",
         "line": {
          "color": "blue",
          "dash": "dash"
         },
         "mode": "lines+markers",
         "name": "Base (PCA)",
         "showlegend": false,
         "type": "scatter",
         "xaxis": "x5",
         "y": [
          0.6956521739130435,
          0.7018633540372671,
          0.63125,
          0.6583850931677019
         ],
         "yaxis": "y5"
        },
        {
         "legendgroup": "L1 (PCA)",
         "line": {
          "color": "orange",
          "dash": "dash"
         },
         "mode": "lines+markers",
         "name": "L1 (PCA)",
         "showlegend": false,
         "type": "scatter",
         "xaxis": "x5",
         "y": [
          0.7018633540372671,
          0.6894409937888198,
          0.6375,
          0.6459627329192547
         ],
         "yaxis": "y5"
        },
        {
         "legendgroup": "L2 (PCA)",
         "line": {
          "color": "green",
          "dash": "dash"
         },
         "mode": "lines+markers",
         "name": "L2 (PCA)",
         "showlegend": false,
         "type": "scatter",
         "xaxis": "x5",
         "y": [
          0.7204968944099379,
          0.6956521739130435,
          0.63125,
          0.6273291925465838
         ],
         "yaxis": "y5"
        },
        {
         "legendgroup": "Dummy",
         "line": {
          "color": "red",
          "dash": "solid"
         },
         "mode": "lines+markers",
         "name": "Dummy",
         "showlegend": false,
         "type": "scatter",
         "xaxis": "x6",
         "y": [
          0.6747694886839899,
          0.6747694886839899,
          0.6734006734006734,
          0.6770395290159799
         ],
         "yaxis": "y6"
        },
        {
         "legendgroup": "Base",
         "line": {
          "color": "blue",
          "dash": "solid"
         },
         "mode": "lines+markers",
         "name": "Base",
         "showlegend": false,
         "type": "scatter",
         "xaxis": "x6",
         "y": [
          0.7670850767085077,
          0.7827926657263752,
          0.7335329341317365,
          0.7754800590841949
         ],
         "yaxis": "y6"
        },
        {
         "legendgroup": "L1",
         "line": {
          "color": "orange",
          "dash": "solid"
         },
         "mode": "lines+markers",
         "name": "L1",
         "showlegend": false,
         "type": "scatter",
         "xaxis": "x6",
         "y": [
          0.7734056987788331,
          0.7872340425531915,
          0.7426470588235294,
          0.7949479940564635
         ],
         "yaxis": "y6"
        },
        {
         "legendgroup": "L2",
         "line": {
          "color": "green",
          "dash": "solid"
         },
         "mode": "lines+markers",
         "name": "L2",
         "showlegend": false,
         "type": "scatter",
         "xaxis": "x6",
         "y": [
          0.7844474761255116,
          0.7898448519040903,
          0.7412790697674418,
          0.785824345146379
         ],
         "yaxis": "y6"
        },
        {
         "legendgroup": "Base (PCA)",
         "line": {
          "color": "blue",
          "dash": "dash"
         },
         "mode": "lines+markers",
         "name": "Base (PCA)",
         "showlegend": false,
         "type": "scatter",
         "xaxis": "x6",
         "y": [
          0.7681755829903978,
          0.7880055788005579,
          0.7340116279069767,
          0.7782672540381792
         ],
         "yaxis": "y6"
        },
        {
         "legendgroup": "L1 (PCA)",
         "line": {
          "color": "orange",
          "dash": "dash"
         },
         "mode": "lines+markers",
         "name": "L1 (PCA)",
         "showlegend": false,
         "type": "scatter",
         "xaxis": "x6",
         "y": [
          0.7793103448275862,
          0.7872340425531915,
          0.7456140350877193,
          0.791476407914764
         ],
         "yaxis": "y6"
        },
        {
         "legendgroup": "L2 (PCA)",
         "line": {
          "color": "green",
          "dash": "dash"
         },
         "mode": "lines+markers",
         "name": "L2 (PCA)",
         "showlegend": false,
         "type": "scatter",
         "xaxis": "x6",
         "y": [
          0.7827260458839406,
          0.7943262411347518,
          0.7383040935672515,
          0.7829457364341085
         ],
         "yaxis": "y6"
        }
       ],
       "layout": {
        "annotations": [
         {
          "font": {
           "size": 16
          },
          "showarrow": false,
          "text": "Train Precision",
          "x": 0.14444444444444446,
          "xanchor": "center",
          "xref": "paper",
          "y": 1,
          "yanchor": "bottom",
          "yref": "paper"
         },
         {
          "font": {
           "size": 16
          },
          "showarrow": false,
          "text": "Train Recall",
          "x": 0.5,
          "xanchor": "center",
          "xref": "paper",
          "y": 1,
          "yanchor": "bottom",
          "yref": "paper"
         },
         {
          "font": {
           "size": 16
          },
          "showarrow": false,
          "text": "Train F0.5",
          "x": 0.8555555555555556,
          "xanchor": "center",
          "xref": "paper",
          "y": 1,
          "yanchor": "bottom",
          "yref": "paper"
         },
         {
          "font": {
           "size": 16
          },
          "showarrow": false,
          "text": "Valid Precision",
          "x": 0.14444444444444446,
          "xanchor": "center",
          "xref": "paper",
          "y": 0.375,
          "yanchor": "bottom",
          "yref": "paper"
         },
         {
          "font": {
           "size": 16
          },
          "showarrow": false,
          "text": "Valid Recall",
          "x": 0.5,
          "xanchor": "center",
          "xref": "paper",
          "y": 0.375,
          "yanchor": "bottom",
          "yref": "paper"
         },
         {
          "font": {
           "size": 16
          },
          "showarrow": false,
          "text": "Valid F0.5",
          "x": 0.8555555555555556,
          "xanchor": "center",
          "xref": "paper",
          "y": 0.375,
          "yanchor": "bottom",
          "yref": "paper"
         }
        ],
        "height": 700,
        "legend": {
         "title": {
          "text": "Model"
         }
        },
        "template": {
         "data": {
          "bar": [
           {
            "error_x": {
             "color": "#2a3f5f"
            },
            "error_y": {
             "color": "#2a3f5f"
            },
            "marker": {
             "line": {
              "color": "#E5ECF6",
              "width": 0.5
             },
             "pattern": {
              "fillmode": "overlay",
              "size": 10,
              "solidity": 0.2
             }
            },
            "type": "bar"
           }
          ],
          "barpolar": [
           {
            "marker": {
             "line": {
              "color": "#E5ECF6",
              "width": 0.5
             },
             "pattern": {
              "fillmode": "overlay",
              "size": 10,
              "solidity": 0.2
             }
            },
            "type": "barpolar"
           }
          ],
          "carpet": [
           {
            "aaxis": {
             "endlinecolor": "#2a3f5f",
             "gridcolor": "white",
             "linecolor": "white",
             "minorgridcolor": "white",
             "startlinecolor": "#2a3f5f"
            },
            "baxis": {
             "endlinecolor": "#2a3f5f",
             "gridcolor": "white",
             "linecolor": "white",
             "minorgridcolor": "white",
             "startlinecolor": "#2a3f5f"
            },
            "type": "carpet"
           }
          ],
          "choropleth": [
           {
            "colorbar": {
             "outlinewidth": 0,
             "ticks": ""
            },
            "type": "choropleth"
           }
          ],
          "contour": [
           {
            "colorbar": {
             "outlinewidth": 0,
             "ticks": ""
            },
            "colorscale": [
             [
              0,
              "#0d0887"
             ],
             [
              0.1111111111111111,
              "#46039f"
             ],
             [
              0.2222222222222222,
              "#7201a8"
             ],
             [
              0.3333333333333333,
              "#9c179e"
             ],
             [
              0.4444444444444444,
              "#bd3786"
             ],
             [
              0.5555555555555556,
              "#d8576b"
             ],
             [
              0.6666666666666666,
              "#ed7953"
             ],
             [
              0.7777777777777778,
              "#fb9f3a"
             ],
             [
              0.8888888888888888,
              "#fdca26"
             ],
             [
              1,
              "#f0f921"
             ]
            ],
            "type": "contour"
           }
          ],
          "contourcarpet": [
           {
            "colorbar": {
             "outlinewidth": 0,
             "ticks": ""
            },
            "type": "contourcarpet"
           }
          ],
          "heatmap": [
           {
            "colorbar": {
             "outlinewidth": 0,
             "ticks": ""
            },
            "colorscale": [
             [
              0,
              "#0d0887"
             ],
             [
              0.1111111111111111,
              "#46039f"
             ],
             [
              0.2222222222222222,
              "#7201a8"
             ],
             [
              0.3333333333333333,
              "#9c179e"
             ],
             [
              0.4444444444444444,
              "#bd3786"
             ],
             [
              0.5555555555555556,
              "#d8576b"
             ],
             [
              0.6666666666666666,
              "#ed7953"
             ],
             [
              0.7777777777777778,
              "#fb9f3a"
             ],
             [
              0.8888888888888888,
              "#fdca26"
             ],
             [
              1,
              "#f0f921"
             ]
            ],
            "type": "heatmap"
           }
          ],
          "histogram": [
           {
            "marker": {
             "pattern": {
              "fillmode": "overlay",
              "size": 10,
              "solidity": 0.2
             }
            },
            "type": "histogram"
           }
          ],
          "histogram2d": [
           {
            "colorbar": {
             "outlinewidth": 0,
             "ticks": ""
            },
            "colorscale": [
             [
              0,
              "#0d0887"
             ],
             [
              0.1111111111111111,
              "#46039f"
             ],
             [
              0.2222222222222222,
              "#7201a8"
             ],
             [
              0.3333333333333333,
              "#9c179e"
             ],
             [
              0.4444444444444444,
              "#bd3786"
             ],
             [
              0.5555555555555556,
              "#d8576b"
             ],
             [
              0.6666666666666666,
              "#ed7953"
             ],
             [
              0.7777777777777778,
              "#fb9f3a"
             ],
             [
              0.8888888888888888,
              "#fdca26"
             ],
             [
              1,
              "#f0f921"
             ]
            ],
            "type": "histogram2d"
           }
          ],
          "histogram2dcontour": [
           {
            "colorbar": {
             "outlinewidth": 0,
             "ticks": ""
            },
            "colorscale": [
             [
              0,
              "#0d0887"
             ],
             [
              0.1111111111111111,
              "#46039f"
             ],
             [
              0.2222222222222222,
              "#7201a8"
             ],
             [
              0.3333333333333333,
              "#9c179e"
             ],
             [
              0.4444444444444444,
              "#bd3786"
             ],
             [
              0.5555555555555556,
              "#d8576b"
             ],
             [
              0.6666666666666666,
              "#ed7953"
             ],
             [
              0.7777777777777778,
              "#fb9f3a"
             ],
             [
              0.8888888888888888,
              "#fdca26"
             ],
             [
              1,
              "#f0f921"
             ]
            ],
            "type": "histogram2dcontour"
           }
          ],
          "mesh3d": [
           {
            "colorbar": {
             "outlinewidth": 0,
             "ticks": ""
            },
            "type": "mesh3d"
           }
          ],
          "parcoords": [
           {
            "line": {
             "colorbar": {
              "outlinewidth": 0,
              "ticks": ""
             }
            },
            "type": "parcoords"
           }
          ],
          "pie": [
           {
            "automargin": true,
            "type": "pie"
           }
          ],
          "scatter": [
           {
            "fillpattern": {
             "fillmode": "overlay",
             "size": 10,
             "solidity": 0.2
            },
            "type": "scatter"
           }
          ],
          "scatter3d": [
           {
            "line": {
             "colorbar": {
              "outlinewidth": 0,
              "ticks": ""
             }
            },
            "marker": {
             "colorbar": {
              "outlinewidth": 0,
              "ticks": ""
             }
            },
            "type": "scatter3d"
           }
          ],
          "scattercarpet": [
           {
            "marker": {
             "colorbar": {
              "outlinewidth": 0,
              "ticks": ""
             }
            },
            "type": "scattercarpet"
           }
          ],
          "scattergeo": [
           {
            "marker": {
             "colorbar": {
              "outlinewidth": 0,
              "ticks": ""
             }
            },
            "type": "scattergeo"
           }
          ],
          "scattergl": [
           {
            "marker": {
             "colorbar": {
              "outlinewidth": 0,
              "ticks": ""
             }
            },
            "type": "scattergl"
           }
          ],
          "scattermap": [
           {
            "marker": {
             "colorbar": {
              "outlinewidth": 0,
              "ticks": ""
             }
            },
            "type": "scattermap"
           }
          ],
          "scattermapbox": [
           {
            "marker": {
             "colorbar": {
              "outlinewidth": 0,
              "ticks": ""
             }
            },
            "type": "scattermapbox"
           }
          ],
          "scatterpolar": [
           {
            "marker": {
             "colorbar": {
              "outlinewidth": 0,
              "ticks": ""
             }
            },
            "type": "scatterpolar"
           }
          ],
          "scatterpolargl": [
           {
            "marker": {
             "colorbar": {
              "outlinewidth": 0,
              "ticks": ""
             }
            },
            "type": "scatterpolargl"
           }
          ],
          "scatterternary": [
           {
            "marker": {
             "colorbar": {
              "outlinewidth": 0,
              "ticks": ""
             }
            },
            "type": "scatterternary"
           }
          ],
          "surface": [
           {
            "colorbar": {
             "outlinewidth": 0,
             "ticks": ""
            },
            "colorscale": [
             [
              0,
              "#0d0887"
             ],
             [
              0.1111111111111111,
              "#46039f"
             ],
             [
              0.2222222222222222,
              "#7201a8"
             ],
             [
              0.3333333333333333,
              "#9c179e"
             ],
             [
              0.4444444444444444,
              "#bd3786"
             ],
             [
              0.5555555555555556,
              "#d8576b"
             ],
             [
              0.6666666666666666,
              "#ed7953"
             ],
             [
              0.7777777777777778,
              "#fb9f3a"
             ],
             [
              0.8888888888888888,
              "#fdca26"
             ],
             [
              1,
              "#f0f921"
             ]
            ],
            "type": "surface"
           }
          ],
          "table": [
           {
            "cells": {
             "fill": {
              "color": "#EBF0F8"
             },
             "line": {
              "color": "white"
             }
            },
            "header": {
             "fill": {
              "color": "#C8D4E3"
             },
             "line": {
              "color": "white"
             }
            },
            "type": "table"
           }
          ]
         },
         "layout": {
          "annotationdefaults": {
           "arrowcolor": "#2a3f5f",
           "arrowhead": 0,
           "arrowwidth": 1
          },
          "autotypenumbers": "strict",
          "coloraxis": {
           "colorbar": {
            "outlinewidth": 0,
            "ticks": ""
           }
          },
          "colorscale": {
           "diverging": [
            [
             0,
             "#8e0152"
            ],
            [
             0.1,
             "#c51b7d"
            ],
            [
             0.2,
             "#de77ae"
            ],
            [
             0.3,
             "#f1b6da"
            ],
            [
             0.4,
             "#fde0ef"
            ],
            [
             0.5,
             "#f7f7f7"
            ],
            [
             0.6,
             "#e6f5d0"
            ],
            [
             0.7,
             "#b8e186"
            ],
            [
             0.8,
             "#7fbc41"
            ],
            [
             0.9,
             "#4d9221"
            ],
            [
             1,
             "#276419"
            ]
           ],
           "sequential": [
            [
             0,
             "#0d0887"
            ],
            [
             0.1111111111111111,
             "#46039f"
            ],
            [
             0.2222222222222222,
             "#7201a8"
            ],
            [
             0.3333333333333333,
             "#9c179e"
            ],
            [
             0.4444444444444444,
             "#bd3786"
            ],
            [
             0.5555555555555556,
             "#d8576b"
            ],
            [
             0.6666666666666666,
             "#ed7953"
            ],
            [
             0.7777777777777778,
             "#fb9f3a"
            ],
            [
             0.8888888888888888,
             "#fdca26"
            ],
            [
             1,
             "#f0f921"
            ]
           ],
           "sequentialminus": [
            [
             0,
             "#0d0887"
            ],
            [
             0.1111111111111111,
             "#46039f"
            ],
            [
             0.2222222222222222,
             "#7201a8"
            ],
            [
             0.3333333333333333,
             "#9c179e"
            ],
            [
             0.4444444444444444,
             "#bd3786"
            ],
            [
             0.5555555555555556,
             "#d8576b"
            ],
            [
             0.6666666666666666,
             "#ed7953"
            ],
            [
             0.7777777777777778,
             "#fb9f3a"
            ],
            [
             0.8888888888888888,
             "#fdca26"
            ],
            [
             1,
             "#f0f921"
            ]
           ]
          },
          "colorway": [
           "#636efa",
           "#EF553B",
           "#00cc96",
           "#ab63fa",
           "#FFA15A",
           "#19d3f3",
           "#FF6692",
           "#B6E880",
           "#FF97FF",
           "#FECB52"
          ],
          "font": {
           "color": "#2a3f5f"
          },
          "geo": {
           "bgcolor": "white",
           "lakecolor": "white",
           "landcolor": "#E5ECF6",
           "showlakes": true,
           "showland": true,
           "subunitcolor": "white"
          },
          "hoverlabel": {
           "align": "left"
          },
          "hovermode": "closest",
          "mapbox": {
           "style": "light"
          },
          "paper_bgcolor": "white",
          "plot_bgcolor": "#E5ECF6",
          "polar": {
           "angularaxis": {
            "gridcolor": "white",
            "linecolor": "white",
            "ticks": ""
           },
           "bgcolor": "#E5ECF6",
           "radialaxis": {
            "gridcolor": "white",
            "linecolor": "white",
            "ticks": ""
           }
          },
          "scene": {
           "xaxis": {
            "backgroundcolor": "#E5ECF6",
            "gridcolor": "white",
            "gridwidth": 2,
            "linecolor": "white",
            "showbackground": true,
            "ticks": "",
            "zerolinecolor": "white"
           },
           "yaxis": {
            "backgroundcolor": "#E5ECF6",
            "gridcolor": "white",
            "gridwidth": 2,
            "linecolor": "white",
            "showbackground": true,
            "ticks": "",
            "zerolinecolor": "white"
           },
           "zaxis": {
            "backgroundcolor": "#E5ECF6",
            "gridcolor": "white",
            "gridwidth": 2,
            "linecolor": "white",
            "showbackground": true,
            "ticks": "",
            "zerolinecolor": "white"
           }
          },
          "shapedefaults": {
           "line": {
            "color": "#2a3f5f"
           }
          },
          "ternary": {
           "aaxis": {
            "gridcolor": "white",
            "linecolor": "white",
            "ticks": ""
           },
           "baxis": {
            "gridcolor": "white",
            "linecolor": "white",
            "ticks": ""
           },
           "bgcolor": "#E5ECF6",
           "caxis": {
            "gridcolor": "white",
            "linecolor": "white",
            "ticks": ""
           }
          },
          "title": {
           "x": 0.05
          },
          "xaxis": {
           "automargin": true,
           "gridcolor": "white",
           "linecolor": "white",
           "ticks": "",
           "title": {
            "standoff": 15
           },
           "zerolinecolor": "white",
           "zerolinewidth": 2
          },
          "yaxis": {
           "automargin": true,
           "gridcolor": "white",
           "linecolor": "white",
           "ticks": "",
           "title": {
            "standoff": 15
           },
           "zerolinecolor": "white",
           "zerolinewidth": 2
          }
         }
        },
        "title": {
         "text": "Cross-Validation Metrics for All Models"
        },
        "width": 1500,
        "xaxis": {
         "anchor": "y",
         "domain": [
          0,
          0.2888888888888889
         ]
        },
        "xaxis2": {
         "anchor": "y2",
         "domain": [
          0.35555555555555557,
          0.6444444444444445
         ]
        },
        "xaxis3": {
         "anchor": "y3",
         "domain": [
          0.7111111111111111,
          1
         ]
        },
        "xaxis4": {
         "anchor": "y4",
         "domain": [
          0,
          0.2888888888888889
         ]
        },
        "xaxis5": {
         "anchor": "y5",
         "domain": [
          0.35555555555555557,
          0.6444444444444445
         ]
        },
        "xaxis6": {
         "anchor": "y6",
         "domain": [
          0.7111111111111111,
          1
         ]
        },
        "yaxis": {
         "anchor": "x",
         "domain": [
          0.625,
          1
         ]
        },
        "yaxis2": {
         "anchor": "x2",
         "domain": [
          0.625,
          1
         ]
        },
        "yaxis3": {
         "anchor": "x3",
         "domain": [
          0.625,
          1
         ]
        },
        "yaxis4": {
         "anchor": "x4",
         "domain": [
          0,
          0.375
         ]
        },
        "yaxis5": {
         "anchor": "x5",
         "domain": [
          0,
          0.375
         ]
        },
        "yaxis6": {
         "anchor": "x6",
         "domain": [
          0,
          0.375
         ]
        }
       }
      }
     },
     "metadata": {},
     "output_type": "display_data"
    }
   ],
   "source": [
    "fig = make_subplots(\n",
    "    rows=2, cols=3,\n",
    "    subplot_titles=[\n",
    "        \"Train Precision\", \"Train Recall\", f\"Train F{beta}\",\n",
    "        \"Valid Precision\", \"Valid Recall\", f\"Valid F{beta}\"\n",
    "    ]\n",
    ")\n",
    "\n",
    "model_names = [\n",
    "    (\"dummy\", \"Dummy\"),\n",
    "    (\"lr\", \"Base\"),\n",
    "    (\"lr_l1\", \"L1\"),\n",
    "    (\"lr_l2\", \"L2\"),\n",
    "    (\"lr_pca\", \"Base (PCA)\"),\n",
    "    (\"lr_l1_pca\", \"L1 (PCA)\"),\n",
    "    (\"lr_l2_pca\", \"L2 (PCA)\")\n",
    "]\n",
    "\n",
    "# Unique color per model\n",
    "model_colors = {\n",
    "    \"Dummy\": \"red\",\n",
    "    \"Base\": \"blue\",\n",
    "    \"L1\": \"orange\",\n",
    "    \"L2\": \"green\",\n",
    "    \"Base (PCA)\": \"blue\",\n",
    "    \"L1 (PCA)\": \"orange\",\n",
    "    \"L2 (PCA)\": \"green\"\n",
    "}\n",
    "\n",
    "metrics = [\"precision\", \"recall\", f\"F{beta}\"]\n",
    "scenarios = [\"train\", \"valid\"]\n",
    "\n",
    "for row, scenario in enumerate(scenarios, start=1):\n",
    "    for col, metric in enumerate(metrics, start=1):\n",
    "        for model_var, model_label in model_names:\n",
    "            model = globals()[model_var]\n",
    "            y_vals = model.cv_scores[scenario][metric]\n",
    "            is_pca = \"PCA\" in model_label\n",
    "            fig.add_trace(\n",
    "                go.Scatter(\n",
    "                    y=y_vals,\n",
    "                    mode=\"lines+markers\",\n",
    "                    name=model_label,\n",
    "                    legendgroup=model_label,\n",
    "                    line=dict(\n",
    "                        dash=\"dash\" if is_pca else \"solid\",\n",
    "                        color=model_colors[model_label]\n",
    "                    ),\n",
    "                    showlegend=(row == 1 and col == 1)\n",
    "                ),\n",
    "                row=row, col=col\n",
    "            )\n",
    "\n",
    "fig.update_layout(\n",
    "    height=700, width=1500,\n",
    "    title_text=\"Cross-Validation Metrics for All Models\",\n",
    "    legend_title_text=\"Model\"\n",
    ")\n",
    "fig.show()"
   ]
  },
  {
   "cell_type": "code",
   "execution_count": 9,
   "id": "2c0272d5",
   "metadata": {},
   "outputs": [
    {
     "name": "stdout",
     "output_type": "stream",
     "text": [
      "| Model     |   Train Precision |   Train Recall |   Train F0.5 |   Valid Precision |   Valid Recall |   Valid F0.5 |\n",
      "|-----------|-------------------|----------------|--------------|-------------------|----------------|--------------|\n",
      "| dummy     |            0.6243 |         1.0000 |       0.6750 |            0.6243 |         1.0000 |       0.6750 |\n",
      "| lr        |            0.8036 |         0.6656 |       0.7716 |            0.7968 |         0.6593 |       0.7647 |\n",
      "| lr_pca    |            0.7970 |         0.6734 |       0.7688 |            0.7956 |         0.6718 |       0.7671 |\n",
      "| lr_l1     |            0.7986 |         0.6718 |       0.7695 |            0.8052 |         0.6733 |       0.7746 |\n",
      "| lr_l1_pca |            0.8040 |         0.6672 |       0.7723 |            0.8087 |         0.6687 |       0.7759 |\n",
      "| lr_l2     |            0.7995 |         0.6693 |       0.7695 |            0.8076 |         0.6702 |       0.7753 |\n",
      "| lr_l2_pca |            0.8014 |         0.6667 |       0.7702 |            0.8073 |         0.6687 |       0.7746 |\n"
     ]
    }
   ],
   "source": [
    "# Mettrics comparison\n",
    "results = []\n",
    "\n",
    "for model in [dummy, lr, lr_pca, lr_l1, lr_l1_pca, lr_l2, lr_l2_pca]:\n",
    "    row = [model.name]\n",
    "    for scenario in scenarios:\n",
    "        for metric in metrics:\n",
    "            avg = np.mean(model.cv_scores[scenario][metric])\n",
    "            row.append(avg)\n",
    "    results.append(row)\n",
    "\n",
    "headers = [\"Model\"] + [f\"{scenario.capitalize()} {metric.capitalize()}\" for scenario in scenarios for metric in metrics]\n",
    "print(tabulate(results, headers=headers, tablefmt=\"github\", floatfmt=\".4f\"))"
   ]
  },
  {
   "cell_type": "markdown",
   "id": "dd9a6b4d",
   "metadata": {},
   "source": [
    "1) Model generalize very well (metrics across train / valid folds are close) <br>\n",
    "2) All LR models outperform dummy classifier. <br>\n",
    "3) PCA seems to improving both precision and recall (especially during validation) : denoising the data helps the model focusing on relevant patterns !\n",
    "4) Best model seems to be L1 + PCA : improves the learning process in the sens of the given metric (focusing more on improving precision than recall compared to other models) + best score on validation set + stable metrics across folds.\n",
    "5) Usage of cap labels improve metrics for L2 (slightly better Fbeta score than previous model) but deteriorates the ones of models using PCA : the later are struggling to build relations between features that are not part of the same space (indeed PCA is applied only to non-categorical features and the output is combined with capping labels). <br>\n",
    "However PCA is a very useful component to focus on important information (future work may include new features) and lead to more resilient solution. Therefore I am choosing to stick to using L1+PCA without capping labels. <br>\n",
    "I am also leaving in comments code related to adding capping values within [lr.py](models/lr.py) as an example on how to possibly integrate them within model sensitive to outliers."
   ]
  },
  {
   "cell_type": "code",
   "execution_count": 10,
   "id": "1486b42c",
   "metadata": {},
   "outputs": [
    {
     "name": "stdout",
     "output_type": "stream",
     "text": [
      "Best configuration saved to: models/params/lr.json\n"
     ]
    }
   ],
   "source": [
    "# Saving best configs\n",
    "lr_config = params[\"l1_pca\"]\n",
    "lr_config.pop(\"model\")\n",
    "lr_config.pop(\"c_min\")\n",
    "lr_config.pop(\"c_max\")\n",
    "lr_config.pop(\"n_trials\")\n",
    "lr_config.pop(\"scaler\")\n",
    "lr_config.pop(\"pca\")\n",
    "\n",
    "save_config_path = os.path.join(\"models\",\"params\",\"lr.json\")\n",
    "os.makedirs(os.path.dirname(save_config_path), exist_ok=True)\n",
    "with open(save_config_path, 'w') as f:\n",
    "    json.dump(lr_config, f, indent=4)\n",
    "\n",
    "print(f\"Best configuration saved to: {save_config_path}\")"
   ]
  },
  {
   "cell_type": "code",
   "execution_count": 11,
   "id": "ab6f5422",
   "metadata": {},
   "outputs": [
    {
     "data": {
      "application/vnd.plotly.v1+json": {
       "config": {
        "plotlyServerURL": "https://plot.ly"
       },
       "data": [
        {
         "text": [
          "0.454",
          "-0.227",
          "0.075",
          "-0.428",
          "-0.034",
          "0.391",
          "0.323",
          "0.412",
          "0.064",
          "0.083",
          "-0.047",
          "-0.308"
         ],
         "textposition": "auto",
         "type": "bar",
         "x": [
          0,
          1,
          2,
          3,
          4,
          5,
          6,
          7,
          8,
          9,
          10,
          11
         ],
         "y": {
          "bdata": "oaMIMycL3T+l6ZPuaR7NPxXRozBgOLM/JknUH09j2z+7bdKc7JehP/psarTvCdk/4Mumcemx1D+avDsNoF3aP+TeG2qaVrA/rwLHZwxXtT/SWDEfrTuoPzW7lq1WsdM/",
          "dtype": "f8"
         }
        }
       ],
       "layout": {
        "height": 500,
        "template": {
         "data": {
          "bar": [
           {
            "error_x": {
             "color": "#2a3f5f"
            },
            "error_y": {
             "color": "#2a3f5f"
            },
            "marker": {
             "line": {
              "color": "#E5ECF6",
              "width": 0.5
             },
             "pattern": {
              "fillmode": "overlay",
              "size": 10,
              "solidity": 0.2
             }
            },
            "type": "bar"
           }
          ],
          "barpolar": [
           {
            "marker": {
             "line": {
              "color": "#E5ECF6",
              "width": 0.5
             },
             "pattern": {
              "fillmode": "overlay",
              "size": 10,
              "solidity": 0.2
             }
            },
            "type": "barpolar"
           }
          ],
          "carpet": [
           {
            "aaxis": {
             "endlinecolor": "#2a3f5f",
             "gridcolor": "white",
             "linecolor": "white",
             "minorgridcolor": "white",
             "startlinecolor": "#2a3f5f"
            },
            "baxis": {
             "endlinecolor": "#2a3f5f",
             "gridcolor": "white",
             "linecolor": "white",
             "minorgridcolor": "white",
             "startlinecolor": "#2a3f5f"
            },
            "type": "carpet"
           }
          ],
          "choropleth": [
           {
            "colorbar": {
             "outlinewidth": 0,
             "ticks": ""
            },
            "type": "choropleth"
           }
          ],
          "contour": [
           {
            "colorbar": {
             "outlinewidth": 0,
             "ticks": ""
            },
            "colorscale": [
             [
              0,
              "#0d0887"
             ],
             [
              0.1111111111111111,
              "#46039f"
             ],
             [
              0.2222222222222222,
              "#7201a8"
             ],
             [
              0.3333333333333333,
              "#9c179e"
             ],
             [
              0.4444444444444444,
              "#bd3786"
             ],
             [
              0.5555555555555556,
              "#d8576b"
             ],
             [
              0.6666666666666666,
              "#ed7953"
             ],
             [
              0.7777777777777778,
              "#fb9f3a"
             ],
             [
              0.8888888888888888,
              "#fdca26"
             ],
             [
              1,
              "#f0f921"
             ]
            ],
            "type": "contour"
           }
          ],
          "contourcarpet": [
           {
            "colorbar": {
             "outlinewidth": 0,
             "ticks": ""
            },
            "type": "contourcarpet"
           }
          ],
          "heatmap": [
           {
            "colorbar": {
             "outlinewidth": 0,
             "ticks": ""
            },
            "colorscale": [
             [
              0,
              "#0d0887"
             ],
             [
              0.1111111111111111,
              "#46039f"
             ],
             [
              0.2222222222222222,
              "#7201a8"
             ],
             [
              0.3333333333333333,
              "#9c179e"
             ],
             [
              0.4444444444444444,
              "#bd3786"
             ],
             [
              0.5555555555555556,
              "#d8576b"
             ],
             [
              0.6666666666666666,
              "#ed7953"
             ],
             [
              0.7777777777777778,
              "#fb9f3a"
             ],
             [
              0.8888888888888888,
              "#fdca26"
             ],
             [
              1,
              "#f0f921"
             ]
            ],
            "type": "heatmap"
           }
          ],
          "histogram": [
           {
            "marker": {
             "pattern": {
              "fillmode": "overlay",
              "size": 10,
              "solidity": 0.2
             }
            },
            "type": "histogram"
           }
          ],
          "histogram2d": [
           {
            "colorbar": {
             "outlinewidth": 0,
             "ticks": ""
            },
            "colorscale": [
             [
              0,
              "#0d0887"
             ],
             [
              0.1111111111111111,
              "#46039f"
             ],
             [
              0.2222222222222222,
              "#7201a8"
             ],
             [
              0.3333333333333333,
              "#9c179e"
             ],
             [
              0.4444444444444444,
              "#bd3786"
             ],
             [
              0.5555555555555556,
              "#d8576b"
             ],
             [
              0.6666666666666666,
              "#ed7953"
             ],
             [
              0.7777777777777778,
              "#fb9f3a"
             ],
             [
              0.8888888888888888,
              "#fdca26"
             ],
             [
              1,
              "#f0f921"
             ]
            ],
            "type": "histogram2d"
           }
          ],
          "histogram2dcontour": [
           {
            "colorbar": {
             "outlinewidth": 0,
             "ticks": ""
            },
            "colorscale": [
             [
              0,
              "#0d0887"
             ],
             [
              0.1111111111111111,
              "#46039f"
             ],
             [
              0.2222222222222222,
              "#7201a8"
             ],
             [
              0.3333333333333333,
              "#9c179e"
             ],
             [
              0.4444444444444444,
              "#bd3786"
             ],
             [
              0.5555555555555556,
              "#d8576b"
             ],
             [
              0.6666666666666666,
              "#ed7953"
             ],
             [
              0.7777777777777778,
              "#fb9f3a"
             ],
             [
              0.8888888888888888,
              "#fdca26"
             ],
             [
              1,
              "#f0f921"
             ]
            ],
            "type": "histogram2dcontour"
           }
          ],
          "mesh3d": [
           {
            "colorbar": {
             "outlinewidth": 0,
             "ticks": ""
            },
            "type": "mesh3d"
           }
          ],
          "parcoords": [
           {
            "line": {
             "colorbar": {
              "outlinewidth": 0,
              "ticks": ""
             }
            },
            "type": "parcoords"
           }
          ],
          "pie": [
           {
            "automargin": true,
            "type": "pie"
           }
          ],
          "scatter": [
           {
            "fillpattern": {
             "fillmode": "overlay",
             "size": 10,
             "solidity": 0.2
            },
            "type": "scatter"
           }
          ],
          "scatter3d": [
           {
            "line": {
             "colorbar": {
              "outlinewidth": 0,
              "ticks": ""
             }
            },
            "marker": {
             "colorbar": {
              "outlinewidth": 0,
              "ticks": ""
             }
            },
            "type": "scatter3d"
           }
          ],
          "scattercarpet": [
           {
            "marker": {
             "colorbar": {
              "outlinewidth": 0,
              "ticks": ""
             }
            },
            "type": "scattercarpet"
           }
          ],
          "scattergeo": [
           {
            "marker": {
             "colorbar": {
              "outlinewidth": 0,
              "ticks": ""
             }
            },
            "type": "scattergeo"
           }
          ],
          "scattergl": [
           {
            "marker": {
             "colorbar": {
              "outlinewidth": 0,
              "ticks": ""
             }
            },
            "type": "scattergl"
           }
          ],
          "scattermap": [
           {
            "marker": {
             "colorbar": {
              "outlinewidth": 0,
              "ticks": ""
             }
            },
            "type": "scattermap"
           }
          ],
          "scattermapbox": [
           {
            "marker": {
             "colorbar": {
              "outlinewidth": 0,
              "ticks": ""
             }
            },
            "type": "scattermapbox"
           }
          ],
          "scatterpolar": [
           {
            "marker": {
             "colorbar": {
              "outlinewidth": 0,
              "ticks": ""
             }
            },
            "type": "scatterpolar"
           }
          ],
          "scatterpolargl": [
           {
            "marker": {
             "colorbar": {
              "outlinewidth": 0,
              "ticks": ""
             }
            },
            "type": "scatterpolargl"
           }
          ],
          "scatterternary": [
           {
            "marker": {
             "colorbar": {
              "outlinewidth": 0,
              "ticks": ""
             }
            },
            "type": "scatterternary"
           }
          ],
          "surface": [
           {
            "colorbar": {
             "outlinewidth": 0,
             "ticks": ""
            },
            "colorscale": [
             [
              0,
              "#0d0887"
             ],
             [
              0.1111111111111111,
              "#46039f"
             ],
             [
              0.2222222222222222,
              "#7201a8"
             ],
             [
              0.3333333333333333,
              "#9c179e"
             ],
             [
              0.4444444444444444,
              "#bd3786"
             ],
             [
              0.5555555555555556,
              "#d8576b"
             ],
             [
              0.6666666666666666,
              "#ed7953"
             ],
             [
              0.7777777777777778,
              "#fb9f3a"
             ],
             [
              0.8888888888888888,
              "#fdca26"
             ],
             [
              1,
              "#f0f921"
             ]
            ],
            "type": "surface"
           }
          ],
          "table": [
           {
            "cells": {
             "fill": {
              "color": "#EBF0F8"
             },
             "line": {
              "color": "white"
             }
            },
            "header": {
             "fill": {
              "color": "#C8D4E3"
             },
             "line": {
              "color": "white"
             }
            },
            "type": "table"
           }
          ]
         },
         "layout": {
          "annotationdefaults": {
           "arrowcolor": "#2a3f5f",
           "arrowhead": 0,
           "arrowwidth": 1
          },
          "autotypenumbers": "strict",
          "coloraxis": {
           "colorbar": {
            "outlinewidth": 0,
            "ticks": ""
           }
          },
          "colorscale": {
           "diverging": [
            [
             0,
             "#8e0152"
            ],
            [
             0.1,
             "#c51b7d"
            ],
            [
             0.2,
             "#de77ae"
            ],
            [
             0.3,
             "#f1b6da"
            ],
            [
             0.4,
             "#fde0ef"
            ],
            [
             0.5,
             "#f7f7f7"
            ],
            [
             0.6,
             "#e6f5d0"
            ],
            [
             0.7,
             "#b8e186"
            ],
            [
             0.8,
             "#7fbc41"
            ],
            [
             0.9,
             "#4d9221"
            ],
            [
             1,
             "#276419"
            ]
           ],
           "sequential": [
            [
             0,
             "#0d0887"
            ],
            [
             0.1111111111111111,
             "#46039f"
            ],
            [
             0.2222222222222222,
             "#7201a8"
            ],
            [
             0.3333333333333333,
             "#9c179e"
            ],
            [
             0.4444444444444444,
             "#bd3786"
            ],
            [
             0.5555555555555556,
             "#d8576b"
            ],
            [
             0.6666666666666666,
             "#ed7953"
            ],
            [
             0.7777777777777778,
             "#fb9f3a"
            ],
            [
             0.8888888888888888,
             "#fdca26"
            ],
            [
             1,
             "#f0f921"
            ]
           ],
           "sequentialminus": [
            [
             0,
             "#0d0887"
            ],
            [
             0.1111111111111111,
             "#46039f"
            ],
            [
             0.2222222222222222,
             "#7201a8"
            ],
            [
             0.3333333333333333,
             "#9c179e"
            ],
            [
             0.4444444444444444,
             "#bd3786"
            ],
            [
             0.5555555555555556,
             "#d8576b"
            ],
            [
             0.6666666666666666,
             "#ed7953"
            ],
            [
             0.7777777777777778,
             "#fb9f3a"
            ],
            [
             0.8888888888888888,
             "#fdca26"
            ],
            [
             1,
             "#f0f921"
            ]
           ]
          },
          "colorway": [
           "#636efa",
           "#EF553B",
           "#00cc96",
           "#ab63fa",
           "#FFA15A",
           "#19d3f3",
           "#FF6692",
           "#B6E880",
           "#FF97FF",
           "#FECB52"
          ],
          "font": {
           "color": "#2a3f5f"
          },
          "geo": {
           "bgcolor": "white",
           "lakecolor": "white",
           "landcolor": "#E5ECF6",
           "showlakes": true,
           "showland": true,
           "subunitcolor": "white"
          },
          "hoverlabel": {
           "align": "left"
          },
          "hovermode": "closest",
          "mapbox": {
           "style": "light"
          },
          "paper_bgcolor": "white",
          "plot_bgcolor": "#E5ECF6",
          "polar": {
           "angularaxis": {
            "gridcolor": "white",
            "linecolor": "white",
            "ticks": ""
           },
           "bgcolor": "#E5ECF6",
           "radialaxis": {
            "gridcolor": "white",
            "linecolor": "white",
            "ticks": ""
           }
          },
          "scene": {
           "xaxis": {
            "backgroundcolor": "#E5ECF6",
            "gridcolor": "white",
            "gridwidth": 2,
            "linecolor": "white",
            "showbackground": true,
            "ticks": "",
            "zerolinecolor": "white"
           },
           "yaxis": {
            "backgroundcolor": "#E5ECF6",
            "gridcolor": "white",
            "gridwidth": 2,
            "linecolor": "white",
            "showbackground": true,
            "ticks": "",
            "zerolinecolor": "white"
           },
           "zaxis": {
            "backgroundcolor": "#E5ECF6",
            "gridcolor": "white",
            "gridwidth": 2,
            "linecolor": "white",
            "showbackground": true,
            "ticks": "",
            "zerolinecolor": "white"
           }
          },
          "shapedefaults": {
           "line": {
            "color": "#2a3f5f"
           }
          },
          "ternary": {
           "aaxis": {
            "gridcolor": "white",
            "linecolor": "white",
            "ticks": ""
           },
           "baxis": {
            "gridcolor": "white",
            "linecolor": "white",
            "ticks": ""
           },
           "bgcolor": "#E5ECF6",
           "caxis": {
            "gridcolor": "white",
            "linecolor": "white",
            "ticks": ""
           }
          },
          "title": {
           "x": 0.05
          },
          "xaxis": {
           "automargin": true,
           "gridcolor": "white",
           "linecolor": "white",
           "ticks": "",
           "title": {
            "standoff": 15
           },
           "zerolinecolor": "white",
           "zerolinewidth": 2
          },
          "yaxis": {
           "automargin": true,
           "gridcolor": "white",
           "linecolor": "white",
           "ticks": "",
           "title": {
            "standoff": 15
           },
           "zerolinecolor": "white",
           "zerolinewidth": 2
          }
         }
        },
        "title": {
         "text": "L1 + PCA Model Coefficients"
        },
        "width": 800,
        "xaxis": {
         "title": {
          "text": "Principal Component Index"
         }
        },
        "yaxis": {
         "title": {
          "text": "Coefficient Value"
         }
        }
       }
      }
     },
     "metadata": {},
     "output_type": "display_data"
    }
   ],
   "source": [
    "# Get coefficients from the L1+PCA model\n",
    "coefs = lr_l1_pca.classifier.coef_[0]\n",
    "\n",
    "# Create a bar plot to visualize coefficients\n",
    "fig = go.Figure(data=go.Bar(\n",
    "    x=list(range(len(coefs))),\n",
    "    y=np.abs(coefs),\n",
    "    text=[f'{coef:.3f}' for coef in coefs],\n",
    "    textposition='auto'\n",
    "))\n",
    "\n",
    "fig.update_layout(\n",
    "    title=\"L1 + PCA Model Coefficients\",\n",
    "    xaxis_title=\"Principal Component Index\",\n",
    "    yaxis_title=\"Coefficient Value\",\n",
    "    height=500,\n",
    "    width=800\n",
    ")\n",
    "\n",
    "fig.show()"
   ]
  },
  {
   "cell_type": "markdown",
   "id": "9f70850d",
   "metadata": {},
   "source": [
    "L1 + PCA semble être un modèle très intéressant pour notre approche : il permet d'affiner encore plus les résultats de recherche en ne sélectionnant que les axes utiles. <br> En particulier toutes les variables d'origine (filtrées) ont une contribution significative à ce sous-set de composantes principales. <br>\n",
    "Un point intéressant pourrait être de ne pas sélectionner les axes dont le coefficiant associé est en dessous d'un certain threshold. Le modèle présenté ici est cependant satisfaisant pour décider de le mettre en production."
   ]
  },
  {
   "cell_type": "code",
   "execution_count": 12,
   "id": "75c6a659",
   "metadata": {},
   "outputs": [
    {
     "name": "stdout",
     "output_type": "stream",
     "text": [
      "\n",
      "Test Set Performance:\n",
      "| Model     |   Precision |   Recall |   F0.5-Score |\n",
      "|-----------|-------------|----------|--------------|\n",
      "| dummy     |      0.6240 |   1.0000 |       0.6748 |\n",
      "| lr        |      0.8345 |   0.7205 |       0.8089 |\n",
      "| lr_pca    |      0.8264 |   0.7391 |       0.8073 |\n",
      "| lr_l1     |      0.8264 |   0.7391 |       0.8073 |\n",
      "| lr_l1_pca |      0.8333 |   0.7453 |       0.8141 |\n",
      "| lr_l2     |      0.8169 |   0.7205 |       0.7956 |\n",
      "| lr_l2_pca |      0.8227 |   0.7205 |       0.8000 |\n"
     ]
    }
   ],
   "source": [
    "# Fit all models and evaluate on test set\n",
    "test_results = []\n",
    "\n",
    "for model in [dummy, lr, lr_pca, lr_l1, lr_l1_pca, lr_l2, lr_l2_pca]:\n",
    "    model.fit(X_train, y_train)\n",
    "    test_metrics = model.evaluate(X_test, y_test)\n",
    "    \n",
    "    row = [model.name, test_metrics[\"precision\"], test_metrics[\"recall\"], test_metrics[f\"F{beta}\"]]\n",
    "    test_results.append(row)\n",
    "\n",
    "# Display results\n",
    "test_headers = [\"Model\", \"Precision\", \"Recall\", f\"F{beta}-Score\"]\n",
    "print(\"\\nTest Set Performance:\")\n",
    "print(tabulate(test_results, headers=test_headers, tablefmt=\"github\", floatfmt=\".4f\"))"
   ]
  },
  {
   "cell_type": "markdown",
   "id": "6f5b6489",
   "metadata": {},
   "source": [
    "Good generalization property (very close from metrics obtained with cross validation validation set, plus higher) ! <br>\n",
    "L1 + PCA gives best scores (very little margin) on test set !"
   ]
  }
 ],
 "metadata": {
  "kernelspec": {
   "display_name": "nba",
   "language": "python",
   "name": "python3"
  },
  "language_info": {
   "codemirror_mode": {
    "name": "ipython",
    "version": 3
   },
   "file_extension": ".py",
   "mimetype": "text/x-python",
   "name": "python",
   "nbconvert_exporter": "python",
   "pygments_lexer": "ipython3",
   "version": "3.11.13"
  }
 },
 "nbformat": 4,
 "nbformat_minor": 5
}
