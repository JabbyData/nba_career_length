{
 "cells": [
  {
   "cell_type": "code",
   "execution_count": 111,
   "id": "fd4ed865",
   "metadata": {},
   "outputs": [],
   "source": [
    "# Dependencies\n",
    "\n",
    "# Data Manip\n",
    "import pandas as pd\n",
    "\n",
    "# Linear Algebra\n",
    "import numpy as np\n",
    "\n",
    "# Machine Learning\n",
    "from sklearn.preprocessing import RobustScaler\n",
    "from sklearn.model_selection import train_test_split\n",
    "from models.lr import LREstimator\n",
    "from models.dummy import DummyEstimator\n",
    "from sklearn.decomposition import PCA\n",
    "\n",
    "# Optimization\n",
    "import optuna\n",
    "from optuna.storages import RDBStorage\n",
    "from functools import partial\n",
    "\n",
    "# Visualization\n",
    "import plotly.graph_objects as go\n",
    "from plotly.subplots import make_subplots\n",
    "from tabulate import tabulate\n",
    "\n",
    "# System & Files\n",
    "import os\n",
    "import json\n",
    "\n",
    "seed = 42\n",
    "np.random.seed(seed)\n",
    "import random\n",
    "random.seed(seed)"
   ]
  },
  {
   "cell_type": "code",
   "execution_count": 112,
   "id": "e668273c",
   "metadata": {},
   "outputs": [],
   "source": [
    "# Data collection\n",
    "\n",
    "data_path = \"data/nba_filtered_capped.csv\"\n",
    "df = pd.read_csv(data_path)\n",
    "df = df.loc[:, ~(df.columns.str.contains(\"capped\") | (df.columns == \"Name\"))]"
   ]
  },
  {
   "cell_type": "code",
   "execution_count": 113,
   "id": "bd18fa2b",
   "metadata": {},
   "outputs": [],
   "source": [
    "# Train / Test split\n",
    "target = \"TARGET_5Yrs\"\n",
    "\n",
    "X = df.drop(columns=[target]).values\n",
    "y = df[target].values\n",
    "\n",
    "test_size=0.2\n",
    "X_train, X_test, y_train, y_test = train_test_split(X,y,stratify=y,test_size=test_size,shuffle=True,random_state=seed)\n",
    "\n",
    "# Cross Validation Splitter\n",
    "n_splits = 4 # to get same number of samples within validation fold as in test set"
   ]
  },
  {
   "cell_type": "code",
   "execution_count": 114,
   "id": "1d78efdb",
   "metadata": {},
   "outputs": [],
   "source": [
    "# Model\n",
    "max_iter = 10000\n",
    "n_components = 0.99\n",
    "cv_folds = 4\n",
    "beta = 0.5 # precision twice as important as recall\n",
    "n_trials = 100\n",
    "cap_factor = 1.5\n",
    "scaler_type = \"robust\"\n",
    "pca_level = 0.99\n",
    "\n",
    "params = {\n",
    "    \"dummy\":{\n",
    "        \"model\": \"dummy\",\n",
    "        \"cv_folds\": cv_folds,\n",
    "        \"random_state\": seed,\n",
    "        \"strategy\": \"most_frequent\",\n",
    "        \"beta\": beta,\n",
    "    },\n",
    "    \"base\": {\n",
    "        \"model\": \"lr\",\n",
    "        \"penalty\": None,\n",
    "        \"random_state\": seed,\n",
    "        \"cv_folds\": cv_folds,\n",
    "        \"class_weight\": \"balanced\",\n",
    "        \"n_jobs\": -1,\n",
    "        \"max_iter\": max_iter,\n",
    "        \"scaler_type\": scaler_type,\n",
    "        \"pca_level\": None,\n",
    "        \"beta\": beta,\n",
    "        \"cap_factor\": cap_factor,\n",
    "    },\n",
    "    \"l1\": {\n",
    "        \"model\": \"lr_l1\",\n",
    "        \"penalty\": \"l1\", \n",
    "        \"random_state\": seed,\n",
    "        \"cv_folds\": cv_folds,\n",
    "        \"solver\": \"liblinear\",\n",
    "        \"class_weight\": \"balanced\",\n",
    "        \"max_iter\": max_iter,\n",
    "        \"scaler_type\": scaler_type,\n",
    "        \"pca_level\": None,\n",
    "        \"beta\": beta,\n",
    "        \"c_min\": 1e-1,\n",
    "        \"c_max\": 1,\n",
    "        \"n_trials\": n_trials,\n",
    "        \"cap_factor\": cap_factor,\n",
    "    },\n",
    "    \"l2\": {\n",
    "        \"model\": \"lr_l2\",\n",
    "        \"penalty\": \"l2\", \n",
    "        \"random_state\": seed,\n",
    "        \"cv_folds\": cv_folds,\n",
    "        \"solver\": \"liblinear\",\n",
    "        \"class_weight\": \"balanced\",\n",
    "        \"max_iter\": max_iter,\n",
    "        \"scaler_type\": scaler_type,\n",
    "        \"pca_level\": None,\n",
    "        \"beta\": beta,\n",
    "        \"c_min\": 1e-2,\n",
    "        \"c_max\": 1,\n",
    "        \"n_trials\": n_trials,\n",
    "        \"cap_factor\": cap_factor,\n",
    "    },\n",
    "    \"base_pca\": {\n",
    "        \"model\": \"lr_pca\",\n",
    "        \"penalty\": None,\n",
    "        \"random_state\": seed,\n",
    "        \"cv_folds\": cv_folds,\n",
    "        \"class_weight\": \"balanced\",\n",
    "        \"n_jobs\": -1,\n",
    "        \"max_iter\": max_iter,\n",
    "        \"scaler_type\": scaler_type,\n",
    "        \"pca_level\": pca_level,\n",
    "        \"beta\": beta,\n",
    "        \"cap_factor\": cap_factor,\n",
    "    },\n",
    "    \"l1_pca\": {\n",
    "        \"model\": \"lr_l1_pca\",\n",
    "        \"penalty\": \"l1\", \n",
    "        \"random_state\": seed,\n",
    "        \"cv_folds\": cv_folds,\n",
    "        \"solver\": \"liblinear\",\n",
    "        \"class_weight\": \"balanced\",\n",
    "        \"max_iter\": max_iter,\n",
    "        \"scaler_type\": scaler_type,\n",
    "        \"pca_level\": pca_level,\n",
    "        \"beta\": beta,\n",
    "        \"c_min\": 1e-2,\n",
    "        \"c_max\": 1,\n",
    "        \"n_trials\": n_trials,\n",
    "        \"cap_factor\": cap_factor,\n",
    "    },\n",
    "    \"l2_pca\": {\n",
    "        \"model\": \"lr_l2_pca\",\n",
    "        \"penalty\": \"l2\", \n",
    "        \"random_state\": seed,\n",
    "        \"cv_folds\": cv_folds,\n",
    "        \"solver\": \"liblinear\",\n",
    "        \"class_weight\": \"balanced\",\n",
    "        \"max_iter\": max_iter,\n",
    "        \"scaler_type\": scaler_type,\n",
    "        \"pca_level\": pca_level,\n",
    "        \"beta\": beta,\n",
    "        \"c_min\": 1e-2,\n",
    "        \"c_max\": 1,\n",
    "        \"n_trials\": n_trials,\n",
    "        \"cap_factor\": cap_factor,\n",
    "    }\n",
    "\n",
    "}"
   ]
  },
  {
   "cell_type": "code",
   "execution_count": 115,
   "id": "a7920091",
   "metadata": {},
   "outputs": [
    {
     "name": "stderr",
     "output_type": "stream",
     "text": [
      "[I 2025-10-06 10:46:57,631] A new study created in RDB with name: lr_l1_TARGET_5Yrs\n",
      "[I 2025-10-06 10:46:57,684] Trial 0 finished with value: 0.7715905921025441 and parameters: {'C': 0.23688639503640782}. Best is trial 0 with value: 0.7715905921025441.\n",
      "[I 2025-10-06 10:46:57,735] Trial 1 finished with value: 0.7648870014074804 and parameters: {'C': 0.8927180304353626}. Best is trial 0 with value: 0.7715905921025441.\n",
      "[I 2025-10-06 10:46:57,779] Trial 2 finished with value: 0.7696336299926714 and parameters: {'C': 0.5395030966670228}. Best is trial 0 with value: 0.7715905921025441.\n"
     ]
    },
    {
     "name": "stdout",
     "output_type": "stream",
     "text": [
      "Deleted existing study: lr_l1_TARGET_5Yrs\n",
      "Optimizing lr_l1_TARGET_5Yrs...\n"
     ]
    },
    {
     "name": "stderr",
     "output_type": "stream",
     "text": [
      "[I 2025-10-06 10:46:57,819] Trial 3 finished with value: 0.7738985474011544 and parameters: {'C': 0.3968793330444371}. Best is trial 3 with value: 0.7738985474011544.\n",
      "[I 2025-10-06 10:46:57,858] Trial 4 finished with value: 0.7666146584550485 and parameters: {'C': 0.1432249371823025}. Best is trial 3 with value: 0.7738985474011544.\n",
      "[I 2025-10-06 10:46:57,896] Trial 5 finished with value: 0.7666146584550485 and parameters: {'C': 0.14321698289111517}. Best is trial 3 with value: 0.7738985474011544.\n",
      "[I 2025-10-06 10:46:57,935] Trial 6 finished with value: 0.7635313650659294 and parameters: {'C': 0.1143098387631322}. Best is trial 3 with value: 0.7738985474011544.\n",
      "[I 2025-10-06 10:46:57,975] Trial 7 finished with value: 0.768538971895039 and parameters: {'C': 0.7348118405270447}. Best is trial 3 with value: 0.7738985474011544.\n",
      "[I 2025-10-06 10:46:58,014] Trial 8 finished with value: 0.7738985474011544 and parameters: {'C': 0.3991305878561679}. Best is trial 3 with value: 0.7738985474011544.\n",
      "[I 2025-10-06 10:46:58,053] Trial 9 finished with value: 0.7709612304867863 and parameters: {'C': 0.5105903209394755}. Best is trial 3 with value: 0.7738985474011544.\n",
      "[I 2025-10-06 10:46:58,093] Trial 10 finished with value: 0.7729934469467612 and parameters: {'C': 0.26598081181385436}. Best is trial 3 with value: 0.7738985474011544.\n",
      "[I 2025-10-06 10:46:58,134] Trial 11 finished with value: 0.7738985474011544 and parameters: {'C': 0.38073240591753676}. Best is trial 3 with value: 0.7738985474011544.\n",
      "[I 2025-10-06 10:46:58,174] Trial 12 finished with value: 0.7738985474011544 and parameters: {'C': 0.38957653667244213}. Best is trial 3 with value: 0.7738985474011544.\n",
      "[I 2025-10-06 10:46:58,214] Trial 13 finished with value: 0.7702777386129696 and parameters: {'C': 0.21157219980577147}. Best is trial 3 with value: 0.7738985474011544.\n",
      "[I 2025-10-06 10:46:58,255] Trial 14 finished with value: 0.7703038984035535 and parameters: {'C': 0.5463478087335408}. Best is trial 3 with value: 0.7738985474011544.\n",
      "[I 2025-10-06 10:46:58,294] Trial 15 finished with value: 0.7727342801321764 and parameters: {'C': 0.32464925172887593}. Best is trial 3 with value: 0.7738985474011544.\n",
      "[I 2025-10-06 10:46:58,334] Trial 16 finished with value: 0.7716114273506625 and parameters: {'C': 0.44900730319953336}. Best is trial 3 with value: 0.7738985474011544.\n",
      "[I 2025-10-06 10:46:58,374] Trial 17 finished with value: 0.7705264569364477 and parameters: {'C': 0.6911953146920227}. Best is trial 3 with value: 0.7738985474011544.\n",
      "[I 2025-10-06 10:46:58,413] Trial 18 finished with value: 0.7723411142048762 and parameters: {'C': 0.29719392935570205}. Best is trial 3 with value: 0.7738985474011544.\n",
      "[I 2025-10-06 10:46:58,452] Trial 19 finished with value: 0.7702777386129696 and parameters: {'C': 0.20092051631560984}. Best is trial 3 with value: 0.7738985474011544.\n",
      "[I 2025-10-06 10:46:58,491] Trial 20 finished with value: 0.7705264569364477 and parameters: {'C': 0.6771324736559827}. Best is trial 3 with value: 0.7738985474011544.\n",
      "[I 2025-10-06 10:46:58,527] Trial 21 finished with value: 0.7745586985530044 and parameters: {'C': 0.3618467954115584}. Best is trial 21 with value: 0.7745586985530044.\n",
      "[I 2025-10-06 10:46:58,563] Trial 22 finished with value: 0.7745586985530044 and parameters: {'C': 0.3609485374513596}. Best is trial 21 with value: 0.7745586985530044.\n",
      "[I 2025-10-06 10:46:58,598] Trial 23 finished with value: 0.7727342801321764 and parameters: {'C': 0.3317616556481224}. Best is trial 21 with value: 0.7745586985530044.\n",
      "[I 2025-10-06 10:46:58,634] Trial 24 finished with value: 0.7709612304867863 and parameters: {'C': 0.4732096776114496}. Best is trial 21 with value: 0.7745586985530044.\n",
      "[I 2025-10-06 10:46:58,671] Trial 25 finished with value: 0.7729934469467612 and parameters: {'C': 0.26410261740477187}. Best is trial 21 with value: 0.7745586985530044.\n",
      "[I 2025-10-06 10:46:58,707] Trial 26 finished with value: 0.7745586985530044 and parameters: {'C': 0.3619629579143316}. Best is trial 21 with value: 0.7745586985530044.\n",
      "[I 2025-10-06 10:46:58,744] Trial 27 finished with value: 0.7709300713548545 and parameters: {'C': 0.1812241717202301}. Best is trial 21 with value: 0.7745586985530044.\n",
      "[I 2025-10-06 10:46:58,781] Trial 28 finished with value: 0.7727342801321764 and parameters: {'C': 0.3286289257236611}. Best is trial 21 with value: 0.7745586985530044.\n",
      "[I 2025-10-06 10:46:58,817] Trial 29 finished with value: 0.7715905921025441 and parameters: {'C': 0.24411485271580183}. Best is trial 21 with value: 0.7745586985530044.\n",
      "[I 2025-10-06 10:46:58,854] Trial 30 finished with value: 0.7709612304867863 and parameters: {'C': 0.5955183092451348}. Best is trial 21 with value: 0.7745586985530044.\n",
      "[I 2025-10-06 10:46:58,891] Trial 31 finished with value: 0.7727243258442025 and parameters: {'C': 0.41058230643000104}. Best is trial 21 with value: 0.7745586985530044.\n",
      "[I 2025-10-06 10:46:58,930] Trial 32 finished with value: 0.7723411142048762 and parameters: {'C': 0.29424237604224057}. Best is trial 21 with value: 0.7745586985530044.\n",
      "[I 2025-10-06 10:46:58,968] Trial 33 finished with value: 0.7745586985530044 and parameters: {'C': 0.35866162525346323}. Best is trial 21 with value: 0.7745586985530044.\n",
      "[I 2025-10-06 10:46:59,008] Trial 34 finished with value: 0.7738985474011544 and parameters: {'C': 0.37254849759541464}. Best is trial 21 with value: 0.7745586985530044.\n",
      "[I 2025-10-06 10:46:59,048] Trial 35 finished with value: 0.7709612304867863 and parameters: {'C': 0.47510935137175964}. Best is trial 21 with value: 0.7745586985530044.\n",
      "[I 2025-10-06 10:46:59,085] Trial 36 finished with value: 0.7727342801321764 and parameters: {'C': 0.3514592704531748}. Best is trial 21 with value: 0.7745586985530044.\n",
      "[I 2025-10-06 10:46:59,122] Trial 37 finished with value: 0.7642075445087443 and parameters: {'C': 0.9908696623768997}. Best is trial 21 with value: 0.7745586985530044.\n",
      "[I 2025-10-06 10:46:59,158] Trial 38 finished with value: 0.7729934469467612 and parameters: {'C': 0.28189883093604196}. Best is trial 21 with value: 0.7745586985530044.\n",
      "[I 2025-10-06 10:46:59,193] Trial 39 finished with value: 0.7715905921025441 and parameters: {'C': 0.2314531470609103}. Best is trial 21 with value: 0.7745586985530044.\n",
      "[I 2025-10-06 10:46:59,230] Trial 40 finished with value: 0.7716114273506625 and parameters: {'C': 0.4352474760368723}. Best is trial 21 with value: 0.7745586985530044.\n",
      "[I 2025-10-06 10:46:59,270] Trial 41 finished with value: 0.7703038984035535 and parameters: {'C': 0.5917005945461549}. Best is trial 21 with value: 0.7745586985530044.\n",
      "[I 2025-10-06 10:46:59,307] Trial 42 finished with value: 0.7727342801321764 and parameters: {'C': 0.3467225563733642}. Best is trial 21 with value: 0.7745586985530044.\n",
      "[I 2025-10-06 10:46:59,344] Trial 43 finished with value: 0.7727243258442025 and parameters: {'C': 0.4174017177025548}. Best is trial 21 with value: 0.7745586985530044.\n",
      "[I 2025-10-06 10:46:59,381] Trial 44 finished with value: 0.7702909620759042 and parameters: {'C': 0.5163078604087902}. Best is trial 21 with value: 0.7745586985530044.\n",
      "[I 2025-10-06 10:46:59,417] Trial 45 finished with value: 0.7745586985530044 and parameters: {'C': 0.36452282135985}. Best is trial 21 with value: 0.7745586985530044.\n",
      "[I 2025-10-06 10:46:59,451] Trial 46 finished with value: 0.7716884118671515 and parameters: {'C': 0.30809191889290455}. Best is trial 21 with value: 0.7745586985530044.\n",
      "[I 2025-10-06 10:46:59,487] Trial 47 finished with value: 0.7729934469467612 and parameters: {'C': 0.263398369810558}. Best is trial 21 with value: 0.7745586985530044.\n",
      "[I 2025-10-06 10:46:59,522] Trial 48 finished with value: 0.7738985474011544 and parameters: {'C': 0.3744723541545344}. Best is trial 21 with value: 0.7745586985530044.\n",
      "[I 2025-10-06 10:46:59,557] Trial 49 finished with value: 0.769080958928819 and parameters: {'C': 0.16234145278950393}. Best is trial 21 with value: 0.7745586985530044.\n",
      "[I 2025-10-06 10:46:59,592] Trial 50 finished with value: 0.7715905921025441 and parameters: {'C': 0.23008058109599072}. Best is trial 21 with value: 0.7745586985530044.\n",
      "[I 2025-10-06 10:46:59,627] Trial 51 finished with value: 0.7738985474011544 and parameters: {'C': 0.37312704570790567}. Best is trial 21 with value: 0.7745586985530044.\n",
      "[I 2025-10-06 10:46:59,663] Trial 52 finished with value: 0.7709612304867863 and parameters: {'C': 0.4640227282460408}. Best is trial 21 with value: 0.7745586985530044.\n",
      "[I 2025-10-06 10:46:59,701] Trial 53 finished with value: 0.7716114273506625 and parameters: {'C': 0.422424253525245}. Best is trial 21 with value: 0.7745586985530044.\n",
      "[I 2025-10-06 10:46:59,737] Trial 54 finished with value: 0.7727342801321764 and parameters: {'C': 0.35163830477374375}. Best is trial 21 with value: 0.7745586985530044.\n",
      "[I 2025-10-06 10:46:59,775] Trial 55 finished with value: 0.7703038984035535 and parameters: {'C': 0.5585932483682918}. Best is trial 21 with value: 0.7745586985530044.\n",
      "[I 2025-10-06 10:46:59,814] Trial 56 finished with value: 0.7738985474011544 and parameters: {'C': 0.39008723813627455}. Best is trial 21 with value: 0.7745586985530044.\n",
      "[I 2025-10-06 10:46:59,853] Trial 57 finished with value: 0.7716884118671515 and parameters: {'C': 0.3182129523979778}. Best is trial 21 with value: 0.7745586985530044.\n",
      "[I 2025-10-06 10:46:59,891] Trial 58 finished with value: 0.7653512158313731 and parameters: {'C': 0.10256263953376905}. Best is trial 21 with value: 0.7745586985530044.\n",
      "[I 2025-10-06 10:46:59,928] Trial 59 finished with value: 0.7709612304867863 and parameters: {'C': 0.5045510913312603}. Best is trial 21 with value: 0.7745586985530044.\n",
      "[I 2025-10-06 10:46:59,964] Trial 60 finished with value: 0.7729934469467612 and parameters: {'C': 0.2825038947222908}. Best is trial 21 with value: 0.7745586985530044.\n",
      "[I 2025-10-06 10:47:00,000] Trial 61 finished with value: 0.7738985474011544 and parameters: {'C': 0.4020057406017094}. Best is trial 21 with value: 0.7745586985530044.\n",
      "[I 2025-10-06 10:47:00,038] Trial 62 finished with value: 0.7727342801321764 and parameters: {'C': 0.3290267697324576}. Best is trial 21 with value: 0.7745586985530044.\n",
      "[I 2025-10-06 10:47:00,075] Trial 63 finished with value: 0.7716114273506625 and parameters: {'C': 0.4481333676873442}. Best is trial 21 with value: 0.7745586985530044.\n",
      "[I 2025-10-06 10:47:00,111] Trial 64 finished with value: 0.7727342801321764 and parameters: {'C': 0.3467386573986211}. Best is trial 21 with value: 0.7745586985530044.\n",
      "[I 2025-10-06 10:47:00,148] Trial 65 finished with value: 0.7723411142048762 and parameters: {'C': 0.2971295005916091}. Best is trial 21 with value: 0.7745586985530044.\n",
      "[I 2025-10-06 10:47:00,185] Trial 66 finished with value: 0.7709612304867863 and parameters: {'C': 0.4967704347500607}. Best is trial 21 with value: 0.7745586985530044.\n",
      "[I 2025-10-06 10:47:00,221] Trial 67 finished with value: 0.7745586985530044 and parameters: {'C': 0.36209897728318047}. Best is trial 21 with value: 0.7745586985530044.\n",
      "[I 2025-10-06 10:47:00,257] Trial 68 finished with value: 0.7745586985530044 and parameters: {'C': 0.35840422691713975}. Best is trial 21 with value: 0.7745586985530044.\n",
      "[I 2025-10-06 10:47:00,295] Trial 69 finished with value: 0.7745586985530044 and parameters: {'C': 0.3603756322616688}. Best is trial 21 with value: 0.7745586985530044.\n",
      "[I 2025-10-06 10:47:00,332] Trial 70 finished with value: 0.7716884118671515 and parameters: {'C': 0.317389249327138}. Best is trial 21 with value: 0.7745586985530044.\n",
      "[I 2025-10-06 10:47:00,370] Trial 71 finished with value: 0.7745586985530044 and parameters: {'C': 0.3610657532300321}. Best is trial 21 with value: 0.7745586985530044.\n",
      "[I 2025-10-06 10:47:00,406] Trial 72 finished with value: 0.7738985474011544 and parameters: {'C': 0.3994785627751628}. Best is trial 21 with value: 0.7745586985530044.\n",
      "[I 2025-10-06 10:47:00,443] Trial 73 finished with value: 0.7729934469467612 and parameters: {'C': 0.26008888199846475}. Best is trial 21 with value: 0.7745586985530044.\n",
      "[I 2025-10-06 10:47:00,479] Trial 74 finished with value: 0.7727342801321764 and parameters: {'C': 0.34675994041096386}. Best is trial 21 with value: 0.7745586985530044.\n",
      "[I 2025-10-06 10:47:00,516] Trial 75 finished with value: 0.7716114273506625 and parameters: {'C': 0.4306364187081227}. Best is trial 21 with value: 0.7745586985530044.\n",
      "[I 2025-10-06 10:47:00,552] Trial 76 finished with value: 0.7729934469467612 and parameters: {'C': 0.28535725498543374}. Best is trial 21 with value: 0.7745586985530044.\n",
      "[I 2025-10-06 10:47:00,588] Trial 77 finished with value: 0.7738985474011544 and parameters: {'C': 0.38487588551622537}. Best is trial 21 with value: 0.7745586985530044.\n",
      "[I 2025-10-06 10:47:00,628] Trial 78 finished with value: 0.7716884118671515 and parameters: {'C': 0.3051705085641812}. Best is trial 21 with value: 0.7745586985530044.\n",
      "[I 2025-10-06 10:47:00,776] Trial 79 finished with value: 0.7727342801321764 and parameters: {'C': 0.3370008258720663}. Best is trial 21 with value: 0.7745586985530044.\n",
      "[I 2025-10-06 10:47:00,812] Trial 80 finished with value: 0.7738985474011544 and parameters: {'C': 0.374184289441627}. Best is trial 21 with value: 0.7745586985530044.\n",
      "[I 2025-10-06 10:47:00,847] Trial 81 finished with value: 0.7745586985530044 and parameters: {'C': 0.36365130019613406}. Best is trial 21 with value: 0.7745586985530044.\n",
      "[I 2025-10-06 10:47:00,883] Trial 82 finished with value: 0.7727243258442025 and parameters: {'C': 0.41243220471498215}. Best is trial 21 with value: 0.7745586985530044.\n",
      "[I 2025-10-06 10:47:00,918] Trial 83 finished with value: 0.7745586985530044 and parameters: {'C': 0.3580312482578085}. Best is trial 21 with value: 0.7745586985530044.\n",
      "[I 2025-10-06 10:47:00,958] Trial 84 finished with value: 0.7727342801321764 and parameters: {'C': 0.32896532923864513}. Best is trial 21 with value: 0.7745586985530044.\n",
      "[I 2025-10-06 10:47:00,995] Trial 85 finished with value: 0.7709612304867863 and parameters: {'C': 0.4585124360037073}. Best is trial 21 with value: 0.7745586985530044.\n",
      "[I 2025-10-06 10:47:01,031] Trial 86 finished with value: 0.7715905921025441 and parameters: {'C': 0.24416423682752578}. Best is trial 21 with value: 0.7745586985530044.\n",
      "[I 2025-10-06 10:47:01,067] Trial 87 finished with value: 0.7716884118671515 and parameters: {'C': 0.3135076307749746}. Best is trial 21 with value: 0.7745586985530044.\n",
      "[I 2025-10-06 10:47:01,103] Trial 88 finished with value: 0.7738985474011544 and parameters: {'C': 0.39332447806946386}. Best is trial 21 with value: 0.7745586985530044.\n",
      "[I 2025-10-06 10:47:01,143] Trial 89 finished with value: 0.7716114273506625 and parameters: {'C': 0.4377323794187845}. Best is trial 21 with value: 0.7745586985530044.\n",
      "[I 2025-10-06 10:47:01,182] Trial 90 finished with value: 0.7729934469467612 and parameters: {'C': 0.27880629710606036}. Best is trial 21 with value: 0.7745586985530044.\n",
      "[I 2025-10-06 10:47:01,218] Trial 91 finished with value: 0.7745586985530044 and parameters: {'C': 0.37016102222296043}. Best is trial 21 with value: 0.7745586985530044.\n",
      "[I 2025-10-06 10:47:01,256] Trial 92 finished with value: 0.7745586985530044 and parameters: {'C': 0.36612092809984664}. Best is trial 21 with value: 0.7745586985530044.\n",
      "[I 2025-10-06 10:47:01,295] Trial 93 finished with value: 0.7727342801321764 and parameters: {'C': 0.3379856238025001}. Best is trial 21 with value: 0.7745586985530044.\n",
      "[I 2025-10-06 10:47:01,333] Trial 94 finished with value: 0.7727243258442025 and parameters: {'C': 0.4140574208184037}. Best is trial 21 with value: 0.7745586985530044.\n",
      "[I 2025-10-06 10:47:01,370] Trial 95 finished with value: 0.7745586985530044 and parameters: {'C': 0.358452241366932}. Best is trial 21 with value: 0.7745586985530044.\n",
      "[I 2025-10-06 10:47:01,407] Trial 96 finished with value: 0.7716884118671515 and parameters: {'C': 0.3021161857380279}. Best is trial 21 with value: 0.7745586985530044.\n",
      "[I 2025-10-06 10:47:01,446] Trial 97 finished with value: 0.7738985474011544 and parameters: {'C': 0.3863336876563891}. Best is trial 21 with value: 0.7745586985530044.\n",
      "[I 2025-10-06 10:47:01,483] Trial 98 finished with value: 0.7727342801321764 and parameters: {'C': 0.33442389438736037}. Best is trial 21 with value: 0.7745586985530044.\n",
      "[I 2025-10-06 10:47:01,519] Trial 99 finished with value: 0.7709612304867863 and parameters: {'C': 0.48300140910598455}. Best is trial 21 with value: 0.7745586985530044.\n",
      "[I 2025-10-06 10:47:01,595] A new study created in RDB with name: lr_l2_TARGET_5Yrs\n",
      "[I 2025-10-06 10:47:01,637] Trial 0 finished with value: 0.7740646529113744 and parameters: {'C': 0.05611516415334506}. Best is trial 0 with value: 0.7740646529113744.\n",
      "[I 2025-10-06 10:47:01,675] Trial 1 finished with value: 0.762387132132006 and parameters: {'C': 0.7969454818643931}. Best is trial 0 with value: 0.7740646529113744.\n",
      "[I 2025-10-06 10:47:01,711] Trial 2 finished with value: 0.7641583838270215 and parameters: {'C': 0.29106359131330695}. Best is trial 0 with value: 0.7740646529113744.\n"
     ]
    },
    {
     "name": "stdout",
     "output_type": "stream",
     "text": [
      "Best value for lr_l1_TARGET_5Yrs: 0.7745586985530044\n",
      "Deleted existing study: lr_l2_TARGET_5Yrs\n",
      "Optimizing lr_l2_TARGET_5Yrs...\n"
     ]
    },
    {
     "name": "stderr",
     "output_type": "stream",
     "text": [
      "[I 2025-10-06 10:47:01,749] Trial 3 finished with value: 0.7697500417584893 and parameters: {'C': 0.15751320499779725}. Best is trial 0 with value: 0.7740646529113744.\n",
      "[I 2025-10-06 10:47:01,784] Trial 4 finished with value: 0.7641177664773184 and parameters: {'C': 0.020513382630874502}. Best is trial 0 with value: 0.7740646529113744.\n",
      "[I 2025-10-06 10:47:01,822] Trial 5 finished with value: 0.7641177664773184 and parameters: {'C': 0.020511104188433976}. Best is trial 0 with value: 0.7740646529113744.\n",
      "[I 2025-10-06 10:47:01,862] Trial 6 finished with value: 0.7650543114236775 and parameters: {'C': 0.01306673923805328}. Best is trial 0 with value: 0.7740646529113744.\n",
      "[I 2025-10-06 10:47:01,904] Trial 7 finished with value: 0.7627677918102422 and parameters: {'C': 0.5399484409787431}. Best is trial 0 with value: 0.7740646529113744.\n",
      "[I 2025-10-06 10:47:01,940] Trial 8 finished with value: 0.7697500417584893 and parameters: {'C': 0.15930522616241014}. Best is trial 0 with value: 0.7740646529113744.\n",
      "[I 2025-10-06 10:47:01,979] Trial 9 finished with value: 0.7648184967571104 and parameters: {'C': 0.2607024758370766}. Best is trial 0 with value: 0.7740646529113744.\n",
      "[I 2025-10-06 10:47:02,016] Trial 10 finished with value: 0.7740646529113744 and parameters: {'C': 0.05609875978923094}. Best is trial 0 with value: 0.7740646529113744.\n",
      "[I 2025-10-06 10:47:02,053] Trial 11 finished with value: 0.7740646529113744 and parameters: {'C': 0.05686536606827127}. Best is trial 0 with value: 0.7740646529113744.\n",
      "[I 2025-10-06 10:47:02,090] Trial 12 finished with value: 0.7693923085812844 and parameters: {'C': 0.050395092091595636}. Best is trial 0 with value: 0.7740646529113744.\n",
      "[I 2025-10-06 10:47:02,126] Trial 13 finished with value: 0.7748593639089261 and parameters: {'C': 0.06329443279587914}. Best is trial 13 with value: 0.7748593639089261.\n",
      "[I 2025-10-06 10:47:02,162] Trial 14 finished with value: 0.7712023847230284 and parameters: {'C': 0.08798385880193951}. Best is trial 13 with value: 0.7748593639089261.\n",
      "[I 2025-10-06 10:47:02,197] Trial 15 finished with value: 0.7701466775463326 and parameters: {'C': 0.03991440375258355}. Best is trial 13 with value: 0.7748593639089261.\n",
      "[I 2025-10-06 10:47:02,234] Trial 16 finished with value: 0.7682618521565087 and parameters: {'C': 0.03242551761422177}. Best is trial 13 with value: 0.7748593639089261.\n",
      "[I 2025-10-06 10:47:02,271] Trial 17 finished with value: 0.7719104711266319 and parameters: {'C': 0.1137339279270796}. Best is trial 13 with value: 0.7748593639089261.\n",
      "[I 2025-10-06 10:47:02,307] Trial 18 finished with value: 0.7705544096801263 and parameters: {'C': 0.09756377654499405}. Best is trial 13 with value: 0.7748593639089261.\n",
      "[I 2025-10-06 10:47:02,343] Trial 19 finished with value: 0.7631599710671618 and parameters: {'C': 0.010625600049713463}. Best is trial 13 with value: 0.7748593639089261.\n",
      "[I 2025-10-06 10:47:02,382] Trial 20 finished with value: 0.7658494847346979 and parameters: {'C': 0.023573087089162434}. Best is trial 13 with value: 0.7748593639089261.\n",
      "[I 2025-10-06 10:47:02,420] Trial 21 finished with value: 0.7748593639089261 and parameters: {'C': 0.06526147217439893}. Best is trial 13 with value: 0.7748593639089261.\n",
      "[I 2025-10-06 10:47:02,457] Trial 22 finished with value: 0.7737949847011574 and parameters: {'C': 0.07782009160851608}. Best is trial 13 with value: 0.7748593639089261.\n",
      "[I 2025-10-06 10:47:02,493] Trial 23 finished with value: 0.7682618521565087 and parameters: {'C': 0.03180372509904114}. Best is trial 13 with value: 0.7748593639089261.\n",
      "[I 2025-10-06 10:47:02,529] Trial 24 finished with value: 0.7697500417584893 and parameters: {'C': 0.14779901644808757}. Best is trial 13 with value: 0.7748593639089261.\n",
      "[I 2025-10-06 10:47:02,565] Trial 25 finished with value: 0.7737949847011574 and parameters: {'C': 0.07198183060214867}. Best is trial 13 with value: 0.7748593639089261.\n",
      "[I 2025-10-06 10:47:02,605] Trial 26 finished with value: 0.765908834761892 and parameters: {'C': 0.23986924842478294}. Best is trial 13 with value: 0.7748593639089261.\n",
      "[I 2025-10-06 10:47:02,642] Trial 27 finished with value: 0.7693923085812844 and parameters: {'C': 0.047941695575251145}. Best is trial 13 with value: 0.7748593639089261.\n",
      "[I 2025-10-06 10:47:02,682] Trial 28 finished with value: 0.7682618521565087 and parameters: {'C': 0.031336421615156956}. Best is trial 13 with value: 0.7748593639089261.\n",
      "[I 2025-10-06 10:47:02,719] Trial 29 finished with value: 0.7641501734787425 and parameters: {'C': 0.6135141878939964}. Best is trial 13 with value: 0.7748593639089261.\n",
      "[I 2025-10-06 10:47:02,755] Trial 30 finished with value: 0.7723009750467318 and parameters: {'C': 0.11693080981636868}. Best is trial 13 with value: 0.7748593639089261.\n",
      "[I 2025-10-06 10:47:02,791] Trial 31 finished with value: 0.7760597713481889 and parameters: {'C': 0.06121468996814845}. Best is trial 31 with value: 0.7760597713481889.\n",
      "[I 2025-10-06 10:47:02,826] Trial 32 finished with value: 0.7748593639089261 and parameters: {'C': 0.06534353957210266}. Best is trial 31 with value: 0.7760597713481889.\n",
      "[I 2025-10-06 10:47:02,865] Trial 33 finished with value: 0.7748593639089261 and parameters: {'C': 0.06527152277242615}. Best is trial 31 with value: 0.7760597713481889.\n",
      "[I 2025-10-06 10:47:02,908] Trial 34 finished with value: 0.7693923085812844 and parameters: {'C': 0.04293824367684956}. Best is trial 31 with value: 0.7760597713481889.\n",
      "[I 2025-10-06 10:47:02,947] Trial 35 finished with value: 0.7701398412815706 and parameters: {'C': 0.1425992582877585}. Best is trial 31 with value: 0.7760597713481889.\n",
      "[I 2025-10-06 10:47:02,983] Trial 36 finished with value: 0.7737949847011574 and parameters: {'C': 0.07489787730545559}. Best is trial 31 with value: 0.7760597713481889.\n",
      "[I 2025-10-06 10:47:03,020] Trial 37 finished with value: 0.7698016857182508 and parameters: {'C': 0.19480005358814756}. Best is trial 31 with value: 0.7760597713481889.\n",
      "[I 2025-10-06 10:47:03,055] Trial 38 finished with value: 0.7651867792960119 and parameters: {'C': 0.021999246042774027}. Best is trial 31 with value: 0.7760597713481889.\n",
      "[I 2025-10-06 10:47:03,093] Trial 39 finished with value: 0.763575269707558 and parameters: {'C': 0.34617982086645943}. Best is trial 31 with value: 0.7760597713481889.\n",
      "[I 2025-10-06 10:47:03,129] Trial 40 finished with value: 0.762387132132006 and parameters: {'C': 0.9970682275036435}. Best is trial 31 with value: 0.7760597713481889.\n",
      "[I 2025-10-06 10:47:03,164] Trial 41 finished with value: 0.7748593639089261 and parameters: {'C': 0.06395486404300725}. Best is trial 31 with value: 0.7760597713481889.\n",
      "[I 2025-10-06 10:47:03,200] Trial 42 finished with value: 0.7705544096801263 and parameters: {'C': 0.09616227086911046}. Best is trial 31 with value: 0.7760597713481889.\n",
      "[I 2025-10-06 10:47:03,235] Trial 43 finished with value: 0.7715281402681905 and parameters: {'C': 0.0377491881893548}. Best is trial 31 with value: 0.7760597713481889.\n",
      "[I 2025-10-06 10:47:03,271] Trial 44 finished with value: 0.7748593639089261 and parameters: {'C': 0.06337411963587615}. Best is trial 31 with value: 0.7760597713481889.\n",
      "[I 2025-10-06 10:47:03,306] Trial 45 finished with value: 0.7640592373136208 and parameters: {'C': 0.016747586670819922}. Best is trial 31 with value: 0.7760597713481889.\n",
      "[I 2025-10-06 10:47:03,343] Trial 46 finished with value: 0.7723009750467318 and parameters: {'C': 0.12362332330094199}. Best is trial 31 with value: 0.7760597713481889.\n",
      "[I 2025-10-06 10:47:03,379] Trial 47 finished with value: 0.7693923085812844 and parameters: {'C': 0.05208358158762761}. Best is trial 31 with value: 0.7760597713481889.\n",
      "[I 2025-10-06 10:47:03,415] Trial 48 finished with value: 0.7712023847230284 and parameters: {'C': 0.08368552037432431}. Best is trial 31 with value: 0.7760597713481889.\n",
      "[I 2025-10-06 10:47:03,450] Trial 49 finished with value: 0.7664913950197156 and parameters: {'C': 0.026354747293806734}. Best is trial 31 with value: 0.7760597713481889.\n",
      "[I 2025-10-06 10:47:03,486] Trial 50 finished with value: 0.7748593639089261 and parameters: {'C': 0.0652534255152902}. Best is trial 31 with value: 0.7760597713481889.\n",
      "[I 2025-10-06 10:47:03,522] Trial 51 finished with value: 0.7753489357358556 and parameters: {'C': 0.06078770548417768}. Best is trial 31 with value: 0.7760597713481889.\n",
      "[I 2025-10-06 10:47:03,557] Trial 52 finished with value: 0.7740646529113744 and parameters: {'C': 0.057270323041771626}. Best is trial 31 with value: 0.7760597713481889.\n",
      "[I 2025-10-06 10:47:03,595] Trial 53 finished with value: 0.7693923085812844 and parameters: {'C': 0.044037548062912414}. Best is trial 31 with value: 0.7760597713481889.\n",
      "[I 2025-10-06 10:47:03,630] Trial 54 finished with value: 0.7715281402681905 and parameters: {'C': 0.038041339182396404}. Best is trial 31 with value: 0.7760597713481889.\n",
      "[I 2025-10-06 10:47:03,666] Trial 55 finished with value: 0.7712023847230284 and parameters: {'C': 0.10364892659080144}. Best is trial 31 with value: 0.7760597713481889.\n",
      "[I 2025-10-06 10:47:03,701] Trial 56 finished with value: 0.7737949847011574 and parameters: {'C': 0.07878975966272184}. Best is trial 31 with value: 0.7760597713481889.\n",
      "[I 2025-10-06 10:47:03,738] Trial 57 finished with value: 0.7711959337778679 and parameters: {'C': 0.053341021760642586}. Best is trial 31 with value: 0.7760597713481889.\n",
      "[I 2025-10-06 10:47:03,775] Trial 58 finished with value: 0.7705544096801263 and parameters: {'C': 0.09645316737045362}. Best is trial 31 with value: 0.7760597713481889.\n",
      "[I 2025-10-06 10:47:03,815] Trial 59 finished with value: 0.7737949847011574 and parameters: {'C': 0.06901701558474715}. Best is trial 31 with value: 0.7760597713481889.\n",
      "[I 2025-10-06 10:47:03,853] Trial 60 finished with value: 0.7684369060978434 and parameters: {'C': 0.1802144678352981}. Best is trial 31 with value: 0.7760597713481889.\n",
      "[I 2025-10-06 10:47:03,890] Trial 61 finished with value: 0.7748593639089261 and parameters: {'C': 0.06390193031248172}. Best is trial 31 with value: 0.7760597713481889.\n",
      "[I 2025-10-06 10:47:03,926] Trial 62 finished with value: 0.7693923085812844 and parameters: {'C': 0.046123755200202066}. Best is trial 31 with value: 0.7760597713481889.\n",
      "[I 2025-10-06 10:47:03,963] Trial 63 finished with value: 0.7753489357358556 and parameters: {'C': 0.06116062592791525}. Best is trial 31 with value: 0.7760597713481889.\n",
      "[I 2025-10-06 10:47:04,000] Trial 64 finished with value: 0.7712023847230284 and parameters: {'C': 0.08740787217477249}. Best is trial 31 with value: 0.7760597713481889.\n",
      "[I 2025-10-06 10:47:04,035] Trial 65 finished with value: 0.7707737713031422 and parameters: {'C': 0.0349264711955251}. Best is trial 31 with value: 0.7760597713481889.\n",
      "[I 2025-10-06 10:47:04,071] Trial 66 finished with value: 0.769016221121557 and parameters: {'C': 0.028317963695527838}. Best is trial 31 with value: 0.7760597713481889.\n",
      "[I 2025-10-06 10:47:04,108] Trial 67 finished with value: 0.7740646529113744 and parameters: {'C': 0.057726210138528654}. Best is trial 31 with value: 0.7760597713481889.\n",
      "[I 2025-10-06 10:47:04,143] Trial 68 finished with value: 0.7707951110351101 and parameters: {'C': 0.1327900665643668}. Best is trial 31 with value: 0.7760597713481889.\n",
      "[I 2025-10-06 10:47:04,179] Trial 69 finished with value: 0.7712023847230284 and parameters: {'C': 0.10766071937007406}. Best is trial 31 with value: 0.7760597713481889.\n",
      "[I 2025-10-06 10:47:04,215] Trial 70 finished with value: 0.7693923085812844 and parameters: {'C': 0.04870526099572438}. Best is trial 31 with value: 0.7760597713481889.\n",
      "[I 2025-10-06 10:47:04,250] Trial 71 finished with value: 0.7760597713481889 and parameters: {'C': 0.06251534521402202}. Best is trial 31 with value: 0.7760597713481889.\n",
      "[I 2025-10-06 10:47:04,287] Trial 72 finished with value: 0.7737949847011574 and parameters: {'C': 0.07523793703151062}. Best is trial 31 with value: 0.7760597713481889.\n",
      "[I 2025-10-06 10:47:04,322] Trial 73 finished with value: 0.7740646529113744 and parameters: {'C': 0.0561653814488922}. Best is trial 31 with value: 0.7760597713481889.\n",
      "[I 2025-10-06 10:47:04,357] Trial 74 finished with value: 0.7693923085812844 and parameters: {'C': 0.042486373411059916}. Best is trial 31 with value: 0.7760597713481889.\n",
      "[I 2025-10-06 10:47:04,392] Trial 75 finished with value: 0.7712023847230284 and parameters: {'C': 0.08829896356602784}. Best is trial 31 with value: 0.7760597713481889.\n",
      "[I 2025-10-06 10:47:04,427] Trial 76 finished with value: 0.7737949847011574 and parameters: {'C': 0.0742809269493893}. Best is trial 31 with value: 0.7760597713481889.\n",
      "[I 2025-10-06 10:47:04,463] Trial 77 finished with value: 0.7753489357358556 and parameters: {'C': 0.059172654323127336}. Best is trial 31 with value: 0.7760597713481889.\n",
      "[I 2025-10-06 10:47:04,498] Trial 78 finished with value: 0.7693923085812844 and parameters: {'C': 0.04778066500605452}. Best is trial 31 with value: 0.7760597713481889.\n",
      "[I 2025-10-06 10:47:04,533] Trial 79 finished with value: 0.7753489357358556 and parameters: {'C': 0.05898535675525274}. Best is trial 31 with value: 0.7760597713481889.\n",
      "[I 2025-10-06 10:47:04,568] Trial 80 finished with value: 0.7715281402681905 and parameters: {'C': 0.03568360668162514}. Best is trial 31 with value: 0.7760597713481889.\n",
      "[I 2025-10-06 10:47:04,603] Trial 81 finished with value: 0.7753489357358556 and parameters: {'C': 0.05956276273502947}. Best is trial 31 with value: 0.7760597713481889.\n",
      "[I 2025-10-06 10:47:04,637] Trial 82 finished with value: 0.7733450007333068 and parameters: {'C': 0.05439879555694331}. Best is trial 31 with value: 0.7760597713481889.\n",
      "[I 2025-10-06 10:47:04,673] Trial 83 finished with value: 0.7701466775463326 and parameters: {'C': 0.040785863716482657}. Best is trial 31 with value: 0.7760597713481889.\n",
      "[I 2025-10-06 10:47:04,708] Trial 84 finished with value: 0.7753489357358556 and parameters: {'C': 0.06012961881836757}. Best is trial 31 with value: 0.7760597713481889.\n",
      "[I 2025-10-06 10:47:04,744] Trial 85 finished with value: 0.7753489357358556 and parameters: {'C': 0.05908539154270337}. Best is trial 31 with value: 0.7760597713481889.\n",
      "[I 2025-10-06 10:47:04,780] Trial 86 finished with value: 0.7712023847230284 and parameters: {'C': 0.08401423299356538}. Best is trial 31 with value: 0.7760597713481889.\n",
      "[I 2025-10-06 10:47:04,816] Trial 87 finished with value: 0.7747103177332844 and parameters: {'C': 0.05832356577117315}. Best is trial 31 with value: 0.7760597713481889.\n",
      "[I 2025-10-06 10:47:04,851] Trial 88 finished with value: 0.7693923085812844 and parameters: {'C': 0.05001391011741568}. Best is trial 31 with value: 0.7760597713481889.\n",
      "[I 2025-10-06 10:47:04,886] Trial 89 finished with value: 0.7737949847011574 and parameters: {'C': 0.07206974630773749}. Best is trial 31 with value: 0.7760597713481889.\n",
      "[I 2025-10-06 10:47:04,922] Trial 90 finished with value: 0.7682618521565087 and parameters: {'C': 0.03212242040710355}. Best is trial 31 with value: 0.7760597713481889.\n",
      "[I 2025-10-06 10:47:04,957] Trial 91 finished with value: 0.7748593639089261 and parameters: {'C': 0.06357247555143647}. Best is trial 31 with value: 0.7760597713481889.\n",
      "[I 2025-10-06 10:47:04,993] Trial 92 finished with value: 0.7693923085812844 and parameters: {'C': 0.04475859140552357}. Best is trial 31 with value: 0.7760597713481889.\n",
      "[I 2025-10-06 10:47:05,029] Trial 93 finished with value: 0.7705544096801263 and parameters: {'C': 0.095517763948703}. Best is trial 31 with value: 0.7760597713481889.\n",
      "[I 2025-10-06 10:47:05,065] Trial 94 finished with value: 0.7737949847011574 and parameters: {'C': 0.07969891999600456}. Best is trial 31 with value: 0.7760597713481889.\n",
      "[I 2025-10-06 10:47:05,101] Trial 95 finished with value: 0.7753489357358556 and parameters: {'C': 0.059001216558185465}. Best is trial 31 with value: 0.7760597713481889.\n",
      "[I 2025-10-06 10:47:05,138] Trial 96 finished with value: 0.7753489357358556 and parameters: {'C': 0.059913314136909465}. Best is trial 31 with value: 0.7760597713481889.\n",
      "[I 2025-10-06 10:47:05,174] Trial 97 finished with value: 0.7693923085812844 and parameters: {'C': 0.050484677428919045}. Best is trial 31 with value: 0.7760597713481889.\n",
      "[I 2025-10-06 10:47:05,209] Trial 98 finished with value: 0.7737949847011574 and parameters: {'C': 0.06963965831741778}. Best is trial 31 with value: 0.7760597713481889.\n",
      "[I 2025-10-06 10:47:05,245] Trial 99 finished with value: 0.7701466775463326 and parameters: {'C': 0.03972248718504635}. Best is trial 31 with value: 0.7760597713481889.\n",
      "[I 2025-10-06 10:47:05,318] A new study created in RDB with name: lr_l1_pca_TARGET_5Yrs\n",
      "[I 2025-10-06 10:47:05,359] Trial 0 finished with value: 0.7534431548865532 and parameters: {'C': 0.05611516415334506}. Best is trial 0 with value: 0.7534431548865532.\n",
      "[I 2025-10-06 10:47:05,394] Trial 1 finished with value: 0.7748633001870691 and parameters: {'C': 0.7969454818643931}. Best is trial 1 with value: 0.7748633001870691.\n",
      "[I 2025-10-06 10:47:05,429] Trial 2 finished with value: 0.7731530755772343 and parameters: {'C': 0.29106359131330695}. Best is trial 1 with value: 0.7748633001870691.\n"
     ]
    },
    {
     "name": "stdout",
     "output_type": "stream",
     "text": [
      "Best value for lr_l2_TARGET_5Yrs: 0.7760597713481889\n",
      "Deleted existing study: lr_l1_pca_TARGET_5Yrs\n",
      "Optimizing lr_l1_pca_TARGET_5Yrs...\n"
     ]
    },
    {
     "name": "stderr",
     "output_type": "stream",
     "text": [
      "[I 2025-10-06 10:47:05,464] Trial 3 finished with value: 0.7727019797545804 and parameters: {'C': 0.15751320499779725}. Best is trial 1 with value: 0.7748633001870691.\n",
      "[I 2025-10-06 10:47:05,499] Trial 4 finished with value: 0.748206590399019 and parameters: {'C': 0.020513382630874502}. Best is trial 1 with value: 0.7748633001870691.\n",
      "[I 2025-10-06 10:47:05,535] Trial 5 finished with value: 0.748206590399019 and parameters: {'C': 0.020511104188433976}. Best is trial 1 with value: 0.7748633001870691.\n",
      "[I 2025-10-06 10:47:05,571] Trial 6 finished with value: 0.737289624135473 and parameters: {'C': 0.01306673923805328}. Best is trial 1 with value: 0.7748633001870691.\n",
      "[I 2025-10-06 10:47:05,606] Trial 7 finished with value: 0.7729005582633969 and parameters: {'C': 0.5399484409787431}. Best is trial 1 with value: 0.7748633001870691.\n",
      "[I 2025-10-06 10:47:05,643] Trial 8 finished with value: 0.7727019797545804 and parameters: {'C': 0.15930522616241014}. Best is trial 1 with value: 0.7748633001870691.\n",
      "[I 2025-10-06 10:47:05,680] Trial 9 finished with value: 0.7734549210458674 and parameters: {'C': 0.2607024758370766}. Best is trial 1 with value: 0.7748633001870691.\n",
      "[I 2025-10-06 10:47:05,716] Trial 10 finished with value: 0.7734558682549024 and parameters: {'C': 0.9098916702684726}. Best is trial 1 with value: 0.7748633001870691.\n",
      "[I 2025-10-06 10:47:05,752] Trial 11 finished with value: 0.7735351278258658 and parameters: {'C': 0.7340472227986772}. Best is trial 1 with value: 0.7748633001870691.\n",
      "[I 2025-10-06 10:47:05,789] Trial 12 finished with value: 0.7734558682549024 and parameters: {'C': 0.9080804302758683}. Best is trial 1 with value: 0.7748633001870691.\n",
      "[I 2025-10-06 10:47:05,826] Trial 13 finished with value: 0.7739419285586538 and parameters: {'C': 0.44480554216573287}. Best is trial 1 with value: 0.7748633001870691.\n",
      "[I 2025-10-06 10:47:05,862] Trial 14 finished with value: 0.7740214223772182 and parameters: {'C': 0.3840505914472765}. Best is trial 1 with value: 0.7748633001870691.\n",
      "[I 2025-10-06 10:47:05,899] Trial 15 finished with value: 0.752430720046318 and parameters: {'C': 0.04872311972287135}. Best is trial 1 with value: 0.7748633001870691.\n",
      "[I 2025-10-06 10:47:05,936] Trial 16 finished with value: 0.7759087075958152 and parameters: {'C': 0.34371228744382665}. Best is trial 16 with value: 0.7759087075958152.\n",
      "[I 2025-10-06 10:47:05,972] Trial 17 finished with value: 0.7730071094520975 and parameters: {'C': 0.17707899738129187}. Best is trial 16 with value: 0.7759087075958152.\n",
      "[I 2025-10-06 10:47:06,007] Trial 18 finished with value: 0.7569702996485359 and parameters: {'C': 0.07913173200175776}. Best is trial 16 with value: 0.7759087075958152.\n",
      "[I 2025-10-06 10:47:06,042] Trial 19 finished with value: 0.7739991485871003 and parameters: {'C': 0.49148106012782794}. Best is trial 16 with value: 0.7759087075958152.\n",
      "[I 2025-10-06 10:47:06,078] Trial 20 finished with value: 0.7727858536065384 and parameters: {'C': 0.27337623894788765}. Best is trial 16 with value: 0.7759087075958152.\n",
      "[I 2025-10-06 10:47:06,113] Trial 21 finished with value: 0.7746815735290681 and parameters: {'C': 0.40881050237260697}. Best is trial 16 with value: 0.7759087075958152.\n",
      "[I 2025-10-06 10:47:06,150] Trial 22 finished with value: 0.7721500361610648 and parameters: {'C': 0.6499325856238943}. Best is trial 16 with value: 0.7759087075958152.\n",
      "[I 2025-10-06 10:47:06,186] Trial 23 finished with value: 0.7744424601530097 and parameters: {'C': 0.3625300945985796}. Best is trial 16 with value: 0.7759087075958152.\n",
      "[I 2025-10-06 10:47:06,222] Trial 24 finished with value: 0.7724799730934212 and parameters: {'C': 0.21061006483989247}. Best is trial 16 with value: 0.7759087075958152.\n",
      "[I 2025-10-06 10:47:06,258] Trial 25 finished with value: 0.7692241242865949 and parameters: {'C': 0.12265361147832389}. Best is trial 16 with value: 0.7759087075958152.\n",
      "[I 2025-10-06 10:47:06,294] Trial 26 finished with value: 0.7721500361610648 and parameters: {'C': 0.6655461344312157}. Best is trial 16 with value: 0.7759087075958152.\n",
      "[I 2025-10-06 10:47:06,331] Trial 27 finished with value: 0.7728007431425615 and parameters: {'C': 0.9887960850232808}. Best is trial 16 with value: 0.7759087075958152.\n",
      "[I 2025-10-06 10:47:06,368] Trial 28 finished with value: 0.765658554958042 and parameters: {'C': 0.10426192100233808}. Best is trial 16 with value: 0.7759087075958152.\n",
      "[I 2025-10-06 10:47:06,405] Trial 29 finished with value: 0.751431002791385 and parameters: {'C': 0.05959206131645762}. Best is trial 16 with value: 0.7759087075958152.\n",
      "[I 2025-10-06 10:47:06,444] Trial 30 finished with value: 0.7759087075958152 and parameters: {'C': 0.33418628413250234}. Best is trial 16 with value: 0.7759087075958152.\n",
      "[I 2025-10-06 10:47:06,481] Trial 31 finished with value: 0.7740214223772182 and parameters: {'C': 0.3816555624863518}. Best is trial 16 with value: 0.7759087075958152.\n",
      "[I 2025-10-06 10:47:06,517] Trial 32 finished with value: 0.7752485564439653 and parameters: {'C': 0.3147452399857007}. Best is trial 16 with value: 0.7759087075958152.\n",
      "[I 2025-10-06 10:47:06,552] Trial 33 finished with value: 0.7731996252714888 and parameters: {'C': 0.2257543441890585}. Best is trial 16 with value: 0.7759087075958152.\n",
      "[I 2025-10-06 10:47:06,588] Trial 34 finished with value: 0.7738861947122813 and parameters: {'C': 0.27813924654946126}. Best is trial 16 with value: 0.7759087075958152.\n",
      "[I 2025-10-06 10:47:06,624] Trial 35 finished with value: 0.7729005582633969 and parameters: {'C': 0.6160173717924147}. Best is trial 16 with value: 0.7759087075958152.\n",
      "[I 2025-10-06 10:47:06,660] Trial 36 finished with value: 0.7759087075958152 and parameters: {'C': 0.3294522123927726}. Best is trial 16 with value: 0.7759087075958152.\n",
      "[I 2025-10-06 10:47:06,696] Trial 37 finished with value: 0.768535463343585 and parameters: {'C': 0.12898731606336317}. Best is trial 16 with value: 0.7759087075958152.\n",
      "[I 2025-10-06 10:47:06,732] Trial 38 finished with value: 0.7752485564439653 and parameters: {'C': 0.3150149576087844}. Best is trial 16 with value: 0.7759087075958152.\n",
      "[I 2025-10-06 10:47:06,767] Trial 39 finished with value: 0.7724799730934212 and parameters: {'C': 0.20975457910271625}. Best is trial 16 with value: 0.7759087075958152.\n",
      "[I 2025-10-06 10:47:06,803] Trial 40 finished with value: 0.7739991485871003 and parameters: {'C': 0.5339037562131419}. Best is trial 16 with value: 0.7759087075958152.\n",
      "[I 2025-10-06 10:47:06,838] Trial 41 finished with value: 0.776329430708636 and parameters: {'C': 0.31025914247214437}. Best is trial 41 with value: 0.776329430708636.\n",
      "[I 2025-10-06 10:47:06,873] Trial 42 finished with value: 0.775627250628873 and parameters: {'C': 0.3091485999360252}. Best is trial 41 with value: 0.776329430708636.\n",
      "[I 2025-10-06 10:47:06,909] Trial 43 finished with value: 0.7730071094520975 and parameters: {'C': 0.17695606476270603}. Best is trial 41 with value: 0.776329430708636.\n",
      "[I 2025-10-06 10:47:06,945] Trial 44 finished with value: 0.7731579346854899 and parameters: {'C': 0.23793537960598538}. Best is trial 41 with value: 0.776329430708636.\n",
      "[I 2025-10-06 10:47:06,981] Trial 45 finished with value: 0.7759087075958152 and parameters: {'C': 0.326043525169723}. Best is trial 41 with value: 0.776329430708636.\n",
      "[I 2025-10-06 10:47:07,018] Trial 46 finished with value: 0.7732939535157518 and parameters: {'C': 0.4645304634146393}. Best is trial 41 with value: 0.776329430708636.\n",
      "[I 2025-10-06 10:47:07,056] Trial 47 finished with value: 0.7504434310619744 and parameters: {'C': 0.029592002423530696}. Best is trial 41 with value: 0.776329430708636.\n",
      "[I 2025-10-06 10:47:07,093] Trial 48 finished with value: 0.768535463343585 and parameters: {'C': 0.12702910315070387}. Best is trial 41 with value: 0.776329430708636.\n",
      "[I 2025-10-06 10:47:07,133] Trial 49 finished with value: 0.7727019797545804 and parameters: {'C': 0.16284910575160802}. Best is trial 41 with value: 0.776329430708636.\n",
      "[I 2025-10-06 10:47:07,170] Trial 50 finished with value: 0.7748633001870691 and parameters: {'C': 0.7811832893324471}. Best is trial 41 with value: 0.776329430708636.\n",
      "[I 2025-10-06 10:47:07,208] Trial 51 finished with value: 0.7759087075958152 and parameters: {'C': 0.3349633711627865}. Best is trial 41 with value: 0.776329430708636.\n",
      "[I 2025-10-06 10:47:07,246] Trial 52 finished with value: 0.7745463763642023 and parameters: {'C': 0.34707963384680396}. Best is trial 41 with value: 0.776329430708636.\n",
      "[I 2025-10-06 10:47:07,283] Trial 53 finished with value: 0.7729005582633969 and parameters: {'C': 0.5533849429094897}. Best is trial 41 with value: 0.776329430708636.\n",
      "[I 2025-10-06 10:47:07,320] Trial 54 finished with value: 0.7732939535157518 and parameters: {'C': 0.4555215343322006}. Best is trial 41 with value: 0.776329430708636.\n",
      "[I 2025-10-06 10:47:07,358] Trial 55 finished with value: 0.7731579346854899 and parameters: {'C': 0.24201965532747127}. Best is trial 41 with value: 0.776329430708636.\n",
      "[I 2025-10-06 10:47:07,396] Trial 56 finished with value: 0.7746815735290681 and parameters: {'C': 0.41204346559951344}. Best is trial 41 with value: 0.776329430708636.\n",
      "[I 2025-10-06 10:47:07,432] Trial 57 finished with value: 0.7757971290910297 and parameters: {'C': 0.19713389988532742}. Best is trial 41 with value: 0.776329430708636.\n",
      "[I 2025-10-06 10:47:07,469] Trial 58 finished with value: 0.737289624135473 and parameters: {'C': 0.010519095028133847}. Best is trial 41 with value: 0.776329430708636.\n",
      "[I 2025-10-06 10:47:07,507] Trial 59 finished with value: 0.7738861947122813 and parameters: {'C': 0.26852023928093754}. Best is trial 41 with value: 0.776329430708636.\n",
      "[I 2025-10-06 10:47:07,545] Trial 60 finished with value: 0.7745463763642023 and parameters: {'C': 0.3484689136761251}. Best is trial 41 with value: 0.776329430708636.\n",
      "[I 2025-10-06 10:47:07,583] Trial 61 finished with value: 0.7744074265099761 and parameters: {'C': 0.18268019082538178}. Best is trial 41 with value: 0.776329430708636.\n",
      "[I 2025-10-06 10:47:07,620] Trial 62 finished with value: 0.7724799730934212 and parameters: {'C': 0.21492804678182362}. Best is trial 41 with value: 0.776329430708636.\n",
      "[I 2025-10-06 10:47:07,658] Trial 63 finished with value: 0.7738035165229996 and parameters: {'C': 0.3009769656675923}. Best is trial 41 with value: 0.776329430708636.\n",
      "[I 2025-10-06 10:47:07,694] Trial 64 finished with value: 0.7702345279526536 and parameters: {'C': 0.1409982921145746}. Best is trial 41 with value: 0.776329430708636.\n",
      "[I 2025-10-06 10:47:07,731] Trial 65 finished with value: 0.7746815735290681 and parameters: {'C': 0.40893765373446206}. Best is trial 41 with value: 0.776329430708636.\n",
      "[I 2025-10-06 10:47:07,770] Trial 66 finished with value: 0.7744074265099761 and parameters: {'C': 0.19054631317389326}. Best is trial 41 with value: 0.776329430708636.\n",
      "[I 2025-10-06 10:47:07,807] Trial 67 finished with value: 0.7739991485871003 and parameters: {'C': 0.5089601544019113}. Best is trial 41 with value: 0.776329430708636.\n",
      "[I 2025-10-06 10:47:07,843] Trial 68 finished with value: 0.7638725251054724 and parameters: {'C': 0.09235601339150847}. Best is trial 41 with value: 0.776329430708636.\n",
      "[I 2025-10-06 10:47:07,879] Trial 69 finished with value: 0.7720650004569177 and parameters: {'C': 0.25402027534351024}. Best is trial 41 with value: 0.776329430708636.\n",
      "[I 2025-10-06 10:47:07,915] Trial 70 finished with value: 0.7759087075958152 and parameters: {'C': 0.33571099406685734}. Best is trial 41 with value: 0.776329430708636.\n",
      "[I 2025-10-06 10:47:07,951] Trial 71 finished with value: 0.7759087075958152 and parameters: {'C': 0.34023757249664394}. Best is trial 41 with value: 0.776329430708636.\n",
      "[I 2025-10-06 10:47:07,987] Trial 72 finished with value: 0.7744424601530097 and parameters: {'C': 0.3613483788395005}. Best is trial 41 with value: 0.776329430708636.\n",
      "[I 2025-10-06 10:47:08,023] Trial 73 finished with value: 0.7759087075958152 and parameters: {'C': 0.32706704360338973}. Best is trial 41 with value: 0.776329430708636.\n",
      "[I 2025-10-06 10:47:08,058] Trial 74 finished with value: 0.7729005582633969 and parameters: {'C': 0.6138319064566485}. Best is trial 41 with value: 0.776329430708636.\n",
      "[I 2025-10-06 10:47:08,094] Trial 75 finished with value: 0.7731530755772343 and parameters: {'C': 0.2812179934042808}. Best is trial 41 with value: 0.776329430708636.\n",
      "[I 2025-10-06 10:47:08,129] Trial 76 finished with value: 0.7746815735290681 and parameters: {'C': 0.4260025635018307}. Best is trial 41 with value: 0.776329430708636.\n",
      "[I 2025-10-06 10:47:08,166] Trial 77 finished with value: 0.7729005582633969 and parameters: {'C': 0.5775159911503482}. Best is trial 41 with value: 0.776329430708636.\n",
      "[I 2025-10-06 10:47:08,202] Trial 78 finished with value: 0.7748633001870691 and parameters: {'C': 0.7392353816666629}. Best is trial 41 with value: 0.776329430708636.\n",
      "[I 2025-10-06 10:47:08,237] Trial 79 finished with value: 0.7732939535157518 and parameters: {'C': 0.46958010695367286}. Best is trial 41 with value: 0.776329430708636.\n",
      "[I 2025-10-06 10:47:08,272] Trial 80 finished with value: 0.7750881249749197 and parameters: {'C': 0.3695276524313686}. Best is trial 41 with value: 0.776329430708636.\n",
      "[I 2025-10-06 10:47:08,307] Trial 81 finished with value: 0.7752485564439653 and parameters: {'C': 0.3226326026232485}. Best is trial 41 with value: 0.776329430708636.\n",
      "[I 2025-10-06 10:47:08,343] Trial 82 finished with value: 0.7731579346854899 and parameters: {'C': 0.2428118109160202}. Best is trial 41 with value: 0.776329430708636.\n",
      "[I 2025-10-06 10:47:08,378] Trial 83 finished with value: 0.7759087075958152 and parameters: {'C': 0.32806718955264025}. Best is trial 41 with value: 0.776329430708636.\n",
      "[I 2025-10-06 10:47:08,415] Trial 84 finished with value: 0.7731530755772343 and parameters: {'C': 0.2848823226217296}. Best is trial 41 with value: 0.776329430708636.\n",
      "[I 2025-10-06 10:47:08,452] Trial 85 finished with value: 0.7740214223772182 and parameters: {'C': 0.381689143741749}. Best is trial 41 with value: 0.776329430708636.\n",
      "[I 2025-10-06 10:47:08,489] Trial 86 finished with value: 0.7739991485871003 and parameters: {'C': 0.48681949277577774}. Best is trial 41 with value: 0.776329430708636.\n",
      "[I 2025-10-06 10:47:08,526] Trial 87 finished with value: 0.7731996252714888 and parameters: {'C': 0.22635529726472176}. Best is trial 41 with value: 0.776329430708636.\n",
      "[I 2025-10-06 10:47:08,562] Trial 88 finished with value: 0.7746815735290681 and parameters: {'C': 0.42284006138362584}. Best is trial 41 with value: 0.776329430708636.\n",
      "[I 2025-10-06 10:47:08,598] Trial 89 finished with value: 0.7734549210458674 and parameters: {'C': 0.2624565383786659}. Best is trial 41 with value: 0.776329430708636.\n",
      "[I 2025-10-06 10:47:08,634] Trial 90 finished with value: 0.7731530755772343 and parameters: {'C': 0.296940488353706}. Best is trial 41 with value: 0.776329430708636.\n",
      "[I 2025-10-06 10:47:08,670] Trial 91 finished with value: 0.7759087075958152 and parameters: {'C': 0.3441972718305091}. Best is trial 41 with value: 0.776329430708636.\n",
      "[I 2025-10-06 10:47:08,706] Trial 92 finished with value: 0.7752485564439653 and parameters: {'C': 0.310819115503091}. Best is trial 41 with value: 0.776329430708636.\n",
      "[I 2025-10-06 10:47:08,741] Trial 93 finished with value: 0.7740214223772182 and parameters: {'C': 0.3907308413033462}. Best is trial 41 with value: 0.776329430708636.\n",
      "[I 2025-10-06 10:47:08,777] Trial 94 finished with value: 0.7502806911243272 and parameters: {'C': 0.040000091672701715}. Best is trial 41 with value: 0.776329430708636.\n",
      "[I 2025-10-06 10:47:08,813] Trial 95 finished with value: 0.7759087075958152 and parameters: {'C': 0.3354414035657765}. Best is trial 41 with value: 0.776329430708636.\n",
      "[I 2025-10-06 10:47:08,848] Trial 96 finished with value: 0.7739991485871003 and parameters: {'C': 0.5165372991307493}. Best is trial 41 with value: 0.776329430708636.\n",
      "[I 2025-10-06 10:47:08,884] Trial 97 finished with value: 0.7734549210458674 and parameters: {'C': 0.2572582373392364}. Best is trial 41 with value: 0.776329430708636.\n",
      "[I 2025-10-06 10:47:08,920] Trial 98 finished with value: 0.7721500361610648 and parameters: {'C': 0.6643067157556181}. Best is trial 41 with value: 0.776329430708636.\n",
      "[I 2025-10-06 10:47:08,957] Trial 99 finished with value: 0.7732939535157518 and parameters: {'C': 0.45252009837851825}. Best is trial 41 with value: 0.776329430708636.\n",
      "[I 2025-10-06 10:47:09,031] A new study created in RDB with name: lr_l2_pca_TARGET_5Yrs\n",
      "[I 2025-10-06 10:47:09,081] Trial 0 finished with value: 0.7724443675856325 and parameters: {'C': 0.05611516415334506}. Best is trial 0 with value: 0.7724443675856325.\n",
      "[I 2025-10-06 10:47:09,118] Trial 1 finished with value: 0.7703570234491854 and parameters: {'C': 0.7969454818643931}. Best is trial 0 with value: 0.7724443675856325.\n",
      "[I 2025-10-06 10:47:09,155] Trial 2 finished with value: 0.7690048108946078 and parameters: {'C': 0.29106359131330695}. Best is trial 0 with value: 0.7724443675856325.\n"
     ]
    },
    {
     "name": "stdout",
     "output_type": "stream",
     "text": [
      "Best value for lr_l1_pca_TARGET_5Yrs: 0.776329430708636\n",
      "Deleted existing study: lr_l2_pca_TARGET_5Yrs\n",
      "Optimizing lr_l2_pca_TARGET_5Yrs...\n"
     ]
    },
    {
     "name": "stderr",
     "output_type": "stream",
     "text": [
      "[I 2025-10-06 10:47:09,192] Trial 3 finished with value: 0.7726461229563969 and parameters: {'C': 0.15751320499779725}. Best is trial 3 with value: 0.7726461229563969.\n",
      "[I 2025-10-06 10:47:09,230] Trial 4 finished with value: 0.7665003635515295 and parameters: {'C': 0.020513382630874502}. Best is trial 3 with value: 0.7726461229563969.\n",
      "[I 2025-10-06 10:47:09,266] Trial 5 finished with value: 0.7665003635515295 and parameters: {'C': 0.020511104188433976}. Best is trial 3 with value: 0.7726461229563969.\n",
      "[I 2025-10-06 10:47:09,302] Trial 6 finished with value: 0.7638839705916523 and parameters: {'C': 0.01306673923805328}. Best is trial 3 with value: 0.7726461229563969.\n",
      "[I 2025-10-06 10:47:09,339] Trial 7 finished with value: 0.769041640765557 and parameters: {'C': 0.5399484409787431}. Best is trial 3 with value: 0.7726461229563969.\n",
      "[I 2025-10-06 10:47:09,376] Trial 8 finished with value: 0.7726461229563969 and parameters: {'C': 0.15930522616241014}. Best is trial 3 with value: 0.7726461229563969.\n",
      "[I 2025-10-06 10:47:09,413] Trial 9 finished with value: 0.7700816469544756 and parameters: {'C': 0.2607024758370766}. Best is trial 3 with value: 0.7726461229563969.\n",
      "[I 2025-10-06 10:47:09,451] Trial 10 finished with value: 0.7745755292550132 and parameters: {'C': 0.07074579225315701}. Best is trial 10 with value: 0.7745755292550132.\n",
      "[I 2025-10-06 10:47:09,490] Trial 11 finished with value: 0.7745755292550132 and parameters: {'C': 0.0688740673457406}. Best is trial 10 with value: 0.7745755292550132.\n",
      "[I 2025-10-06 10:47:09,526] Trial 12 finished with value: 0.7724443675856325 and parameters: {'C': 0.05797165444515652}. Best is trial 10 with value: 0.7745755292550132.\n",
      "[I 2025-10-06 10:47:09,563] Trial 13 finished with value: 0.7718103459382566 and parameters: {'C': 0.05324921902604457}. Best is trial 10 with value: 0.7745755292550132.\n",
      "[I 2025-10-06 10:47:09,600] Trial 14 finished with value: 0.7745434947519239 and parameters: {'C': 0.09182620899189928}. Best is trial 10 with value: 0.7745755292550132.\n",
      "[I 2025-10-06 10:47:09,636] Trial 15 finished with value: 0.770480840823941 and parameters: {'C': 0.03991440375258355}. Best is trial 10 with value: 0.7745755292550132.\n",
      "[I 2025-10-06 10:47:09,672] Trial 16 finished with value: 0.7741369819651793 and parameters: {'C': 0.09902338727859848}. Best is trial 10 with value: 0.7745755292550132.\n",
      "[I 2025-10-06 10:47:09,710] Trial 17 finished with value: 0.7648954193646912 and parameters: {'C': 0.029587245840133888}. Best is trial 10 with value: 0.7745755292550132.\n",
      "[I 2025-10-06 10:47:09,746] Trial 18 finished with value: 0.7726461229563969 and parameters: {'C': 0.16192469924677264}. Best is trial 10 with value: 0.7745755292550132.\n",
      "[I 2025-10-06 10:47:09,782] Trial 19 finished with value: 0.7625045652568017 and parameters: {'C': 0.010625600049713463}. Best is trial 10 with value: 0.7745755292550132.\n",
      "[I 2025-10-06 10:47:09,818] Trial 20 finished with value: 0.7745434947519239 and parameters: {'C': 0.09419530948428205}. Best is trial 10 with value: 0.7745755292550132.\n",
      "[I 2025-10-06 10:47:09,854] Trial 21 finished with value: 0.774454882685517 and parameters: {'C': 0.0798891280226458}. Best is trial 10 with value: 0.7745755292550132.\n",
      "[I 2025-10-06 10:47:09,895] Trial 22 finished with value: 0.7678453191865853 and parameters: {'C': 0.03385231897380264}. Best is trial 10 with value: 0.7745755292550132.\n",
      "[I 2025-10-06 10:47:09,937] Trial 23 finished with value: 0.7742012356440237 and parameters: {'C': 0.12769760765194685}. Best is trial 10 with value: 0.7745755292550132.\n",
      "[I 2025-10-06 10:47:09,983] Trial 24 finished with value: 0.7700816469544756 and parameters: {'C': 0.2664962301710005}. Best is trial 10 with value: 0.7745755292550132.\n",
      "[I 2025-10-06 10:47:10,019] Trial 25 finished with value: 0.774454882685517 and parameters: {'C': 0.08229172706623335}. Best is trial 10 with value: 0.7745755292550132.\n",
      "[I 2025-10-06 10:47:10,055] Trial 26 finished with value: 0.7738468954584985 and parameters: {'C': 0.06437107856727159}. Best is trial 10 with value: 0.7745755292550132.\n",
      "[I 2025-10-06 10:47:10,091] Trial 27 finished with value: 0.7690993781020832 and parameters: {'C': 0.044425842211200516}. Best is trial 10 with value: 0.7745755292550132.\n",
      "[I 2025-10-06 10:47:10,128] Trial 28 finished with value: 0.7661027604572218 and parameters: {'C': 0.022857226258148348}. Best is trial 10 with value: 0.7745755292550132.\n",
      "[I 2025-10-06 10:47:10,164] Trial 29 finished with value: 0.7742012356440237 and parameters: {'C': 0.12506621573210813}. Best is trial 10 with value: 0.7745755292550132.\n",
      "[I 2025-10-06 10:47:10,202] Trial 30 finished with value: 0.7725787344234131 and parameters: {'C': 0.2023048619894483}. Best is trial 10 with value: 0.7745755292550132.\n",
      "[I 2025-10-06 10:47:10,239] Trial 31 finished with value: 0.7733691413714475 and parameters: {'C': 0.07668553026603629}. Best is trial 10 with value: 0.7745755292550132.\n",
      "[I 2025-10-06 10:47:10,275] Trial 32 finished with value: 0.7734231474442584 and parameters: {'C': 0.09535926969234769}. Best is trial 10 with value: 0.7745755292550132.\n",
      "[I 2025-10-06 10:47:10,311] Trial 33 finished with value: 0.7696799193999989 and parameters: {'C': 0.3792749263052179}. Best is trial 10 with value: 0.7745755292550132.\n",
      "[I 2025-10-06 10:47:10,347] Trial 34 finished with value: 0.7698663043905095 and parameters: {'C': 0.049575472370886456}. Best is trial 10 with value: 0.7745755292550132.\n",
      "[I 2025-10-06 10:47:10,383] Trial 35 finished with value: 0.7742012356440237 and parameters: {'C': 0.12387042691276118}. Best is trial 10 with value: 0.7745755292550132.\n",
      "[I 2025-10-06 10:47:10,419] Trial 36 finished with value: 0.7745755292550132 and parameters: {'C': 0.06853700156334125}. Best is trial 10 with value: 0.7745755292550132.\n",
      "[I 2025-10-06 10:47:10,454] Trial 37 finished with value: 0.7703570234491854 and parameters: {'C': 0.9818226878189111}. Best is trial 10 with value: 0.7745755292550132.\n",
      "[I 2025-10-06 10:47:10,490] Trial 38 finished with value: 0.7738468954584985 and parameters: {'C': 0.0650693690353821}. Best is trial 10 with value: 0.7745755292550132.\n",
      "[I 2025-10-06 10:47:10,525] Trial 39 finished with value: 0.7656240531612059 and parameters: {'C': 0.030547949765293778}. Best is trial 10 with value: 0.7745755292550132.\n",
      "[I 2025-10-06 10:47:10,561] Trial 40 finished with value: 0.7738468954584985 and parameters: {'C': 0.06523982086974896}. Best is trial 10 with value: 0.7745755292550132.\n",
      "[I 2025-10-06 10:47:10,597] Trial 41 finished with value: 0.7734960405726752 and parameters: {'C': 0.11326689214383633}. Best is trial 10 with value: 0.7745755292550132.\n",
      "[I 2025-10-06 10:47:10,633] Trial 42 finished with value: 0.7733292565257451 and parameters: {'C': 0.1932770807875665}. Best is trial 10 with value: 0.7745755292550132.\n",
      "[I 2025-10-06 10:47:10,668] Trial 43 finished with value: 0.774454882685517 and parameters: {'C': 0.08678996250352015}. Best is trial 10 with value: 0.7745755292550132.\n",
      "[I 2025-10-06 10:47:10,704] Trial 44 finished with value: 0.7691705170715727 and parameters: {'C': 0.03822791898949733}. Best is trial 10 with value: 0.7745755292550132.\n",
      "[I 2025-10-06 10:47:10,739] Trial 45 finished with value: 0.7745755292550132 and parameters: {'C': 0.07004629019310814}. Best is trial 10 with value: 0.7745755292550132.\n",
      "[I 2025-10-06 10:47:10,774] Trial 46 finished with value: 0.7705214295028504 and parameters: {'C': 0.052035789016090545}. Best is trial 10 with value: 0.7745755292550132.\n",
      "[I 2025-10-06 10:47:10,810] Trial 47 finished with value: 0.7624460720712857 and parameters: {'C': 0.016176503729329984}. Best is trial 10 with value: 0.7745755292550132.\n",
      "[I 2025-10-06 10:47:10,846] Trial 48 finished with value: 0.7661027604572218 and parameters: {'C': 0.02347034528394727}. Best is trial 10 with value: 0.7745755292550132.\n",
      "[I 2025-10-06 10:47:10,882] Trial 49 finished with value: 0.7733013927099364 and parameters: {'C': 0.1476690750613446}. Best is trial 10 with value: 0.7745755292550132.\n",
      "[I 2025-10-06 10:47:10,917] Trial 50 finished with value: 0.7745755292550132 and parameters: {'C': 0.07287362922202684}. Best is trial 10 with value: 0.7745755292550132.\n",
      "[I 2025-10-06 10:47:10,953] Trial 51 finished with value: 0.7745755292550132 and parameters: {'C': 0.06950544581722316}. Best is trial 10 with value: 0.7745755292550132.\n",
      "[I 2025-10-06 10:47:10,989] Trial 52 finished with value: 0.7745755292550132 and parameters: {'C': 0.07014776838111483}. Best is trial 10 with value: 0.7745755292550132.\n",
      "[I 2025-10-06 10:47:11,025] Trial 53 finished with value: 0.7690993781020832 and parameters: {'C': 0.045098012567952074}. Best is trial 10 with value: 0.7745755292550132.\n",
      "[I 2025-10-06 10:47:11,060] Trial 54 finished with value: 0.7724443675856325 and parameters: {'C': 0.05705624920350781}. Best is trial 10 with value: 0.7745755292550132.\n",
      "[I 2025-10-06 10:47:11,096] Trial 55 finished with value: 0.7734960405726752 and parameters: {'C': 0.1055788680899526}. Best is trial 10 with value: 0.7745755292550132.\n",
      "[I 2025-10-06 10:47:11,131] Trial 56 finished with value: 0.7678453191865853 and parameters: {'C': 0.035125250378043815}. Best is trial 10 with value: 0.7745755292550132.\n",
      "[I 2025-10-06 10:47:11,167] Trial 57 finished with value: 0.7745755292550132 and parameters: {'C': 0.07423261212609206}. Best is trial 10 with value: 0.7745755292550132.\n",
      "[I 2025-10-06 10:47:11,203] Trial 58 finished with value: 0.7724443675856325 and parameters: {'C': 0.055945834482125055}. Best is trial 10 with value: 0.7745755292550132.\n",
      "[I 2025-10-06 10:47:11,238] Trial 59 finished with value: 0.770480840823941 and parameters: {'C': 0.0405925028765152}. Best is trial 10 with value: 0.7745755292550132.\n",
      "[I 2025-10-06 10:47:11,274] Trial 60 finished with value: 0.7733013927099364 and parameters: {'C': 0.14693626073219093}. Best is trial 10 with value: 0.7745755292550132.\n",
      "[I 2025-10-06 10:47:11,310] Trial 61 finished with value: 0.7745755292550132 and parameters: {'C': 0.06988104895868369}. Best is trial 10 with value: 0.7745755292550132.\n",
      "[I 2025-10-06 10:47:11,345] Trial 62 finished with value: 0.774454882685517 and parameters: {'C': 0.08719432193270209}. Best is trial 10 with value: 0.7745755292550132.\n",
      "[I 2025-10-06 10:47:11,381] Trial 63 finished with value: 0.7738468954584985 and parameters: {'C': 0.06256823208635759}. Best is trial 10 with value: 0.7745755292550132.\n",
      "[I 2025-10-06 10:47:11,416] Trial 64 finished with value: 0.7734960405726752 and parameters: {'C': 0.10335263595530463}. Best is trial 10 with value: 0.7745755292550132.\n",
      "[I 2025-10-06 10:47:11,452] Trial 65 finished with value: 0.7680280690963918 and parameters: {'C': 0.04547575033265184}. Best is trial 10 with value: 0.7745755292550132.\n",
      "[I 2025-10-06 10:47:11,487] Trial 66 finished with value: 0.7745755292550132 and parameters: {'C': 0.06873250497497581}. Best is trial 10 with value: 0.7745755292550132.\n",
      "[I 2025-10-06 10:47:11,523] Trial 67 finished with value: 0.774454882685517 and parameters: {'C': 0.07859747283144705}. Best is trial 10 with value: 0.7745755292550132.\n",
      "[I 2025-10-06 10:47:11,559] Trial 68 finished with value: 0.7705214295028504 and parameters: {'C': 0.049824347225227446}. Best is trial 10 with value: 0.7745755292550132.\n",
      "[I 2025-10-06 10:47:11,595] Trial 69 finished with value: 0.7724443675856325 and parameters: {'C': 0.056514277876352124}. Best is trial 10 with value: 0.7745755292550132.\n",
      "[I 2025-10-06 10:47:11,630] Trial 70 finished with value: 0.7734960405726752 and parameters: {'C': 0.11772063339995675}. Best is trial 10 with value: 0.7745755292550132.\n",
      "[I 2025-10-06 10:47:11,666] Trial 71 finished with value: 0.7745755292550132 and parameters: {'C': 0.0753809790828812}. Best is trial 10 with value: 0.7745755292550132.\n",
      "[I 2025-10-06 10:47:11,702] Trial 72 finished with value: 0.7745434947519239 and parameters: {'C': 0.09121658617883975}. Best is trial 10 with value: 0.7745755292550132.\n",
      "[I 2025-10-06 10:47:11,738] Trial 73 finished with value: 0.774454882685517 and parameters: {'C': 0.07917185987120919}. Best is trial 10 with value: 0.7745755292550132.\n",
      "[I 2025-10-06 10:47:11,774] Trial 74 finished with value: 0.7745755292550132 and parameters: {'C': 0.06879577571781212}. Best is trial 10 with value: 0.7745755292550132.\n",
      "[I 2025-10-06 10:47:11,809] Trial 75 finished with value: 0.7734960405726752 and parameters: {'C': 0.10127286408388154}. Best is trial 10 with value: 0.7745755292550132.\n",
      "[I 2025-10-06 10:47:11,845] Trial 76 finished with value: 0.7738468954584985 and parameters: {'C': 0.06076008519840619}. Best is trial 10 with value: 0.7745755292550132.\n",
      "[I 2025-10-06 10:47:11,881] Trial 77 finished with value: 0.7745755292550132 and parameters: {'C': 0.07354605010278846}. Best is trial 10 with value: 0.7745755292550132.\n",
      "[I 2025-10-06 10:47:11,917] Trial 78 finished with value: 0.773717866920185 and parameters: {'C': 0.13456767778878476}. Best is trial 10 with value: 0.7745755292550132.\n",
      "[I 2025-10-06 10:47:11,953] Trial 79 finished with value: 0.7680280690963918 and parameters: {'C': 0.04734855660960507}. Best is trial 10 with value: 0.7745755292550132.\n",
      "[I 2025-10-06 10:47:11,989] Trial 80 finished with value: 0.774454882685517 and parameters: {'C': 0.0847746587919841}. Best is trial 10 with value: 0.7745755292550132.\n",
      "[I 2025-10-06 10:47:12,025] Trial 81 finished with value: 0.7745755292550132 and parameters: {'C': 0.0722168215109989}. Best is trial 10 with value: 0.7745755292550132.\n",
      "[I 2025-10-06 10:47:12,061] Trial 82 finished with value: 0.7730944014784503 and parameters: {'C': 0.06002986701254457}. Best is trial 10 with value: 0.7745755292550132.\n",
      "[I 2025-10-06 10:47:12,097] Trial 83 finished with value: 0.7705214295028504 and parameters: {'C': 0.05158769273963935}. Best is trial 10 with value: 0.7745755292550132.\n",
      "[I 2025-10-06 10:47:12,133] Trial 84 finished with value: 0.7734960405726752 and parameters: {'C': 0.110170026202074}. Best is trial 10 with value: 0.7745755292550132.\n",
      "[I 2025-10-06 10:47:12,169] Trial 85 finished with value: 0.770480840823941 and parameters: {'C': 0.040032350492557815}. Best is trial 10 with value: 0.7745755292550132.\n",
      "[I 2025-10-06 10:47:12,205] Trial 86 finished with value: 0.7739025533594196 and parameters: {'C': 0.09299521384468634}. Best is trial 10 with value: 0.7745755292550132.\n",
      "[I 2025-10-06 10:47:12,241] Trial 87 finished with value: 0.7738468954584985 and parameters: {'C': 0.06479896906422945}. Best is trial 10 with value: 0.7745755292550132.\n",
      "[I 2025-10-06 10:47:12,277] Trial 88 finished with value: 0.774454882685517 and parameters: {'C': 0.08292571863620254}. Best is trial 10 with value: 0.7745755292550132.\n",
      "[I 2025-10-06 10:47:12,313] Trial 89 finished with value: 0.7648954193646912 and parameters: {'C': 0.0287283823678824}. Best is trial 10 with value: 0.7745755292550132.\n",
      "[I 2025-10-06 10:47:12,348] Trial 90 finished with value: 0.769041640765557 and parameters: {'C': 0.5560094986576639}. Best is trial 10 with value: 0.7745755292550132.\n",
      "[I 2025-10-06 10:47:12,385] Trial 91 finished with value: 0.7745755292550132 and parameters: {'C': 0.071676745700667}. Best is trial 10 with value: 0.7745755292550132.\n",
      "[I 2025-10-06 10:47:12,420] Trial 92 finished with value: 0.7724443675856325 and parameters: {'C': 0.05477073592693103}. Best is trial 10 with value: 0.7745755292550132.\n",
      "[I 2025-10-06 10:47:12,456] Trial 93 finished with value: 0.7738468954584985 and parameters: {'C': 0.06559135660674933}. Best is trial 10 with value: 0.7745755292550132.\n",
      "[I 2025-10-06 10:47:12,492] Trial 94 finished with value: 0.7734231474442584 and parameters: {'C': 0.09799526377129862}. Best is trial 10 with value: 0.7745755292550132.\n",
      "[I 2025-10-06 10:47:12,528] Trial 95 finished with value: 0.7745755292550132 and parameters: {'C': 0.07016657265842466}. Best is trial 10 with value: 0.7745755292550132.\n",
      "[I 2025-10-06 10:47:12,565] Trial 96 finished with value: 0.7690993781020832 and parameters: {'C': 0.04393483278615861}. Best is trial 10 with value: 0.7745755292550132.\n",
      "[I 2025-10-06 10:47:12,601] Trial 97 finished with value: 0.7730944014784503 and parameters: {'C': 0.05834507700717346}. Best is trial 10 with value: 0.7745755292550132.\n",
      "[I 2025-10-06 10:47:12,637] Trial 98 finished with value: 0.774454882685517 and parameters: {'C': 0.08086961472785544}. Best is trial 10 with value: 0.7745755292550132.\n",
      "[I 2025-10-06 10:47:12,673] Trial 99 finished with value: 0.7745434947519239 and parameters: {'C': 0.08977968639305742}. Best is trial 10 with value: 0.7745755292550132.\n"
     ]
    },
    {
     "name": "stdout",
     "output_type": "stream",
     "text": [
      "Best value for lr_l2_pca_TARGET_5Yrs: 0.7745755292550132\n"
     ]
    }
   ],
   "source": [
    "# HP fine-tuning\n",
    "def objective(trial, args: dict, X_train: np.array, y_train: np.array):\n",
    "    model_name = args[\"model\"]\n",
    "    if \"lr\" in model_name:\n",
    "        h_params = args.copy()\n",
    "        h_params[\"C\"] = trial.suggest_float(\"C\", args[\"c_min\"], args[\"c_max\"], log=True)\n",
    "        # Ensure fresh scaler and PCA instances for each trial  \n",
    "        if args[\"scaler_type\"] == \"robust\":\n",
    "            h_params[\"scaler\"] = RobustScaler()\n",
    "        if args[\"pca_level\"] is not None:\n",
    "            h_params[\"pca\"] = PCA(n_components=args[\"pca_level\"], random_state=args[\"random_state\"])\n",
    "        else:\n",
    "            h_params[\"pca\"] = None\n",
    "            \n",
    "    else:\n",
    "        raise NotImplementedError(f\"Objective function not developped for model {model_name}\")\n",
    "    \n",
    "    return cv_score(model_name, h_params, X_train, y_train)\n",
    "\n",
    "def cv_score(model_name: str, h_params: dict, X_train: np.array, y_train: np.array):\n",
    "    if \"lr\" in model_name:\n",
    "        model = LREstimator(h_params)\n",
    "        score = model.cross_validate(X_train, y_train)\n",
    "        return score\n",
    "    else:\n",
    "        raise NotImplementedError(f\"Scoring function not developped for model {model_name}\")\n",
    "\n",
    "\n",
    "storage_url = \"sqlite:///db.sqlite3\"\n",
    "storage = RDBStorage(url=storage_url)\n",
    "\n",
    "for config_name, config_args in params.items():\n",
    "    study_name = config_args[\"model\"] + \"_\" + target\n",
    "    if \"c_min\" in config_args.keys(): # only treat regularized models\n",
    "        studies = storage.get_all_studies()\n",
    "        if any(s.study_name == study_name for s in studies):\n",
    "            optuna.delete_study(study_name=study_name, storage=storage_url)\n",
    "            print(f\"Deleted existing study: {study_name}\")\n",
    "        \n",
    "        study = optuna.create_study(\n",
    "            storage=storage_url,\n",
    "            study_name=study_name,\n",
    "            direction=\"maximize\",\n",
    "            sampler=optuna.samplers.TPESampler(seed=seed)\n",
    "        )\n",
    "        \n",
    "        objective_partial = partial(\n",
    "            objective,\n",
    "            args=config_args,\n",
    "            X_train=X_train,\n",
    "            y_train=y_train,\n",
    "        )\n",
    "    \n",
    "        print(f\"Optimizing {study_name}...\")\n",
    "        study.optimize(objective_partial, n_trials=config_args[\"n_trials\"], n_jobs=1) # n_jobs = 1 to ensure reproducibility\n",
    "        print(f\"Best value for {study_name}: {study.best_value}\")"
   ]
  },
  {
   "cell_type": "code",
   "execution_count": 116,
   "id": "d6c4fc03",
   "metadata": {},
   "outputs": [],
   "source": [
    "# Training Pipeline\n",
    "\n",
    "for key in [\"l1\", \"l2\", \"l1_pca\", \"l2_pca\"]:\n",
    "    study_name = params[key][\"model\"] + \"_\" + target\n",
    "    study = optuna.load_study(study_name=study_name, storage=storage_url)\n",
    "    best_C = study.best_params[\"C\"]\n",
    "    params[key][\"C\"] = best_C\n",
    "    \n",
    "    # Ensure fresh scaler and PCA instances\n",
    "    if params[key][\"scaler_type\"] == \"robust\":\n",
    "        params[key][\"scaler\"] = RobustScaler()\n",
    "    if params[key][\"pca_level\"] is not None:\n",
    "        params[key][\"pca\"] = PCA(n_components=params[key][\"pca_level\"], random_state=seed)\n",
    "    else:\n",
    "        params[key][\"pca\"] = None\n",
    "\n",
    "# Also ensure fresh instances for non-optimized models\n",
    "for key in [\"dummy\", \"base\", \"base_pca\"]:\n",
    "    params[key] = params[key].copy()\n",
    "    if \"scaler_type\" in params[key] and params[key][\"scaler_type\"] == \"robust\":\n",
    "        params[key][\"scaler\"] = RobustScaler()\n",
    "    if \"pca_level\" in params[key] and params[key][\"pca_level\"] is not None:\n",
    "        params[key][\"pca\"] = PCA(n_components=n_components, random_state=seed)\n",
    "    else:\n",
    "        params[key][\"pca\"] = None\n",
    "\n",
    "dummy = DummyEstimator(params[\"dummy\"])\n",
    "lr = LREstimator(params[\"base\"])\n",
    "lr_pca = LREstimator(params[\"base_pca\"])\n",
    "lr_l1 = LREstimator(params[\"l1\"])\n",
    "lr_l1_pca = LREstimator(params[\"l1_pca\"])\n",
    "lr_l2 = LREstimator(params[\"l2\"])\n",
    "lr_l2_pca = LREstimator(params[\"l2_pca\"])"
   ]
  },
  {
   "cell_type": "code",
   "execution_count": 117,
   "id": "0abd6528",
   "metadata": {},
   "outputs": [],
   "source": [
    "# Fine tuning\n",
    "for model in [dummy, lr, lr_pca, lr_l1, lr_l1_pca, lr_l2, lr_l2_pca]:\n",
    "    model.cross_validate(X_train, y_train)"
   ]
  },
  {
   "cell_type": "code",
   "execution_count": 118,
   "id": "84419493",
   "metadata": {},
   "outputs": [
    {
     "data": {
      "application/vnd.plotly.v1+json": {
       "config": {
        "plotlyServerURL": "https://plot.ly"
       },
       "data": [
        {
         "legendgroup": "Dummy",
         "line": {
          "color": "red",
          "dash": "solid"
         },
         "mode": "lines+markers",
         "name": "Dummy",
         "showlegend": true,
         "type": "scatter",
         "xaxis": "x",
         "y": [
          0.6243523316062176,
          0.6243523316062176,
          0.6248382923673997,
          0.6235446313065977
         ],
         "yaxis": "y"
        },
        {
         "legendgroup": "Base",
         "line": {
          "color": "blue",
          "dash": "solid"
         },
         "mode": "lines+markers",
         "name": "Base",
         "showlegend": true,
         "type": "scatter",
         "xaxis": "x",
         "y": [
          0.794044665012407,
          0.8071979434447301,
          0.8177215189873418,
          0.7951219512195122
         ],
         "yaxis": "y"
        },
        {
         "legendgroup": "L1",
         "line": {
          "color": "orange",
          "dash": "solid"
         },
         "mode": "lines+markers",
         "name": "L1",
         "showlegend": true,
         "type": "scatter",
         "xaxis": "x",
         "y": [
          0.7950617283950617,
          0.800498753117207,
          0.8109452736318408,
          0.7879518072289157
         ],
         "yaxis": "y"
        },
        {
         "legendgroup": "L2",
         "line": {
          "color": "green",
          "dash": "solid"
         },
         "mode": "lines+markers",
         "name": "L2",
         "showlegend": true,
         "type": "scatter",
         "xaxis": "x",
         "y": [
          0.8065326633165829,
          0.7965260545905707,
          0.8125,
          0.7839805825242718
         ],
         "yaxis": "y"
        },
        {
         "legendgroup": "Base (PCA)",
         "line": {
          "color": "blue",
          "dash": "dash"
         },
         "mode": "lines+markers",
         "name": "Base (PCA)",
         "showlegend": true,
         "type": "scatter",
         "xaxis": "x",
         "y": [
          0.7941176470588235,
          0.8014888337468983,
          0.8054187192118226,
          0.7869249394673123
         ],
         "yaxis": "y"
        },
        {
         "legendgroup": "L1 (PCA)",
         "line": {
          "color": "orange",
          "dash": "dash"
         },
         "mode": "lines+markers",
         "name": "L1 (PCA)",
         "showlegend": true,
         "type": "scatter",
         "xaxis": "x",
         "y": [
          0.8110831234256927,
          0.8055555555555556,
          0.8188775510204082,
          0.78239608801956
         ],
         "yaxis": "y"
        },
        {
         "legendgroup": "L2 (PCA)",
         "line": {
          "color": "green",
          "dash": "dash"
         },
         "mode": "lines+markers",
         "name": "L2 (PCA)",
         "showlegend": true,
         "type": "scatter",
         "xaxis": "x",
         "y": [
          0.8110831234256927,
          0.7980049875311721,
          0.8095238095238095,
          0.7878048780487805
         ],
         "yaxis": "y"
        },
        {
         "legendgroup": "Dummy",
         "line": {
          "color": "red",
          "dash": "solid"
         },
         "mode": "lines+markers",
         "name": "Dummy",
         "showlegend": false,
         "type": "scatter",
         "xaxis": "x2",
         "y": [
          1,
          1,
          1,
          1
         ],
         "yaxis": "y2"
        },
        {
         "legendgroup": "Base",
         "line": {
          "color": "blue",
          "dash": "solid"
         },
         "mode": "lines+markers",
         "name": "Base",
         "showlegend": false,
         "type": "scatter",
         "xaxis": "x2",
         "y": [
          0.6639004149377593,
          0.6514522821576764,
          0.6687370600414079,
          0.6763485477178424
         ],
         "yaxis": "y2"
        },
        {
         "legendgroup": "L1",
         "line": {
          "color": "orange",
          "dash": "solid"
         },
         "mode": "lines+markers",
         "name": "L1",
         "showlegend": false,
         "type": "scatter",
         "xaxis": "x2",
         "y": [
          0.6680497925311203,
          0.6659751037344398,
          0.6749482401656315,
          0.6784232365145229
         ],
         "yaxis": "y2"
        },
        {
         "legendgroup": "L2",
         "line": {
          "color": "green",
          "dash": "solid"
         },
         "mode": "lines+markers",
         "name": "L2",
         "showlegend": false,
         "type": "scatter",
         "xaxis": "x2",
         "y": [
          0.6659751037344398,
          0.6659751037344398,
          0.6728778467908902,
          0.6701244813278008
         ],
         "yaxis": "y2"
        },
        {
         "legendgroup": "Base (PCA)",
         "line": {
          "color": "blue",
          "dash": "dash"
         },
         "mode": "lines+markers",
         "name": "Base (PCA)",
         "showlegend": false,
         "type": "scatter",
         "xaxis": "x2",
         "y": [
          0.6721991701244814,
          0.6701244813278008,
          0.6770186335403726,
          0.6742738589211619
         ],
         "yaxis": "y2"
        },
        {
         "legendgroup": "L1 (PCA)",
         "line": {
          "color": "orange",
          "dash": "dash"
         },
         "mode": "lines+markers",
         "name": "L1 (PCA)",
         "showlegend": false,
         "type": "scatter",
         "xaxis": "x2",
         "y": [
          0.6680497925311203,
          0.6618257261410788,
          0.6645962732919255,
          0.6639004149377593
         ],
         "yaxis": "y2"
        },
        {
         "legendgroup": "L2 (PCA)",
         "line": {
          "color": "green",
          "dash": "dash"
         },
         "mode": "lines+markers",
         "name": "L2 (PCA)",
         "showlegend": false,
         "type": "scatter",
         "xaxis": "x2",
         "y": [
          0.6680497925311203,
          0.6639004149377593,
          0.6687370600414079,
          0.6701244813278008
         ],
         "yaxis": "y2"
        },
        {
         "legendgroup": "Dummy",
         "line": {
          "color": "red",
          "dash": "solid"
         },
         "mode": "lines+markers",
         "name": "Dummy",
         "showlegend": false,
         "type": "scatter",
         "xaxis": "x3",
         "y": [
          0.6750700280112045,
          0.6750700280112045,
          0.6755244755244755,
          0.6743144935646335
         ],
         "yaxis": "y3"
        },
        {
         "legendgroup": "Base",
         "line": {
          "color": "blue",
          "dash": "solid"
         },
         "mode": "lines+markers",
         "name": "Base",
         "showlegend": false,
         "type": "scatter",
         "xaxis": "x3",
         "y": [
          0.7640878701050621,
          0.7703631010794897,
          0.7828405235094522,
          0.7681432610744581
         ],
         "yaxis": "y3"
        },
        {
         "legendgroup": "L1",
         "line": {
          "color": "orange",
          "dash": "solid"
         },
         "mode": "lines+markers",
         "name": "L1",
         "showlegend": false,
         "type": "scatter",
         "xaxis": "x3",
         "y": [
          0.7659372026641293,
          0.7694151486097794,
          0.779531324725012,
          0.7633053221288515
         ],
         "yaxis": "y3"
        },
        {
         "legendgroup": "L2",
         "line": {
          "color": "green",
          "dash": "solid"
         },
         "mode": "lines+markers",
         "name": "L2",
         "showlegend": false,
         "type": "scatter",
         "xaxis": "x3",
         "y": [
          0.7738669238187078,
          0.7664756446991404,
          0.7801248199711954,
          0.7582159624413145
         ],
         "yaxis": "y3"
        },
        {
         "legendgroup": "Base (PCA)",
         "line": {
          "color": "blue",
          "dash": "dash"
         },
         "mode": "lines+markers",
         "name": "Base (PCA)",
         "showlegend": false,
         "type": "scatter",
         "xaxis": "x3",
         "y": [
          0.7663197729422895,
          0.771251193887297,
          0.775984812529663,
          0.7614807872539832
         ],
         "yaxis": "y3"
        },
        {
         "legendgroup": "L1 (PCA)",
         "line": {
          "color": "orange",
          "dash": "dash"
         },
         "mode": "lines+markers",
         "name": "L1 (PCA)",
         "showlegend": false,
         "type": "scatter",
         "xaxis": "x3",
         "y": [
          0.7777777777777778,
          0.7720232333010648,
          0.7825450999512433,
          0.7554296506137866
         ],
         "yaxis": "y3"
        },
        {
         "legendgroup": "L2 (PCA)",
         "line": {
          "color": "green",
          "dash": "dash"
         },
         "mode": "lines+markers",
         "name": "L2 (PCA)",
         "showlegend": false,
         "type": "scatter",
         "xaxis": "x3",
         "y": [
          0.7777777777777778,
          0.7670182166826462,
          0.7768157768157768,
          0.7610744580584354
         ],
         "yaxis": "y3"
        },
        {
         "legendgroup": "Dummy",
         "line": {
          "color": "red",
          "dash": "solid"
         },
         "mode": "lines+markers",
         "name": "Dummy",
         "showlegend": false,
         "type": "scatter",
         "xaxis": "x4",
         "y": [
          0.624031007751938,
          0.624031007751938,
          0.622568093385214,
          0.6264591439688716
         ],
         "yaxis": "y4"
        },
        {
         "legendgroup": "Base",
         "line": {
          "color": "blue",
          "dash": "solid"
         },
         "mode": "lines+markers",
         "name": "Base",
         "showlegend": false,
         "type": "scatter",
         "xaxis": "x4",
         "y": [
          0.7913669064748201,
          0.8102189781021898,
          0.7716535433070866,
          0.8125
         ],
         "yaxis": "y4"
        },
        {
         "legendgroup": "L1",
         "line": {
          "color": "orange",
          "dash": "solid"
         },
         "mode": "lines+markers",
         "name": "L1",
         "showlegend": false,
         "type": "scatter",
         "xaxis": "x4",
         "y": [
          0.7916666666666666,
          0.8161764705882353,
          0.7769230769230769,
          0.8359375
         ],
         "yaxis": "y4"
        },
        {
         "legendgroup": "L2",
         "line": {
          "color": "green",
          "dash": "solid"
         },
         "mode": "lines+markers",
         "name": "L2",
         "showlegend": false,
         "type": "scatter",
         "xaxis": "x4",
         "y": [
          0.8041958041958042,
          0.8175182481751825,
          0.7727272727272727,
          0.8373983739837398
         ],
         "yaxis": "y4"
        },
        {
         "legendgroup": "Base (PCA)",
         "line": {
          "color": "blue",
          "dash": "dash"
         },
         "mode": "lines+markers",
         "name": "Base (PCA)",
         "showlegend": false,
         "type": "scatter",
         "xaxis": "x4",
         "y": [
          0.7887323943661971,
          0.8129496402877698,
          0.7651515151515151,
          0.8153846153846154
         ],
         "yaxis": "y4"
        },
        {
         "legendgroup": "L1 (PCA)",
         "line": {
          "color": "orange",
          "dash": "dash"
         },
         "mode": "lines+markers",
         "name": "L1 (PCA)",
         "showlegend": false,
         "type": "scatter",
         "xaxis": "x4",
         "y": [
          0.8071428571428572,
          0.8148148148148148,
          0.7786259541984732,
          0.8387096774193549
         ],
         "yaxis": "y4"
        },
        {
         "legendgroup": "L2 (PCA)",
         "line": {
          "color": "green",
          "dash": "dash"
         },
         "mode": "lines+markers",
         "name": "L2 (PCA)",
         "showlegend": false,
         "type": "scatter",
         "xaxis": "x4",
         "y": [
          0.8,
          0.8235294117647058,
          0.7709923664122137,
          0.8347107438016529
         ],
         "yaxis": "y4"
        },
        {
         "legendgroup": "Dummy",
         "line": {
          "color": "red",
          "dash": "solid"
         },
         "mode": "lines+markers",
         "name": "Dummy",
         "showlegend": false,
         "type": "scatter",
         "xaxis": "x5",
         "y": [
          1,
          1,
          1,
          1
         ],
         "yaxis": "y5"
        },
        {
         "legendgroup": "Base",
         "line": {
          "color": "blue",
          "dash": "solid"
         },
         "mode": "lines+markers",
         "name": "Base",
         "showlegend": false,
         "type": "scatter",
         "xaxis": "x5",
         "y": [
          0.6832298136645962,
          0.6894409937888198,
          0.6125,
          0.6459627329192547
         ],
         "yaxis": "y5"
        },
        {
         "legendgroup": "L1",
         "line": {
          "color": "orange",
          "dash": "solid"
         },
         "mode": "lines+markers",
         "name": "L1",
         "showlegend": false,
         "type": "scatter",
         "xaxis": "x5",
         "y": [
          0.7080745341614907,
          0.6894409937888198,
          0.63125,
          0.6645962732919255
         ],
         "yaxis": "y5"
        },
        {
         "legendgroup": "L2",
         "line": {
          "color": "green",
          "dash": "solid"
         },
         "mode": "lines+markers",
         "name": "L2",
         "showlegend": false,
         "type": "scatter",
         "xaxis": "x5",
         "y": [
          0.7142857142857143,
          0.6956521739130435,
          0.6375,
          0.639751552795031
         ],
         "yaxis": "y5"
        },
        {
         "legendgroup": "Base (PCA)",
         "line": {
          "color": "blue",
          "dash": "dash"
         },
         "mode": "lines+markers",
         "name": "Base (PCA)",
         "showlegend": false,
         "type": "scatter",
         "xaxis": "x5",
         "y": [
          0.6956521739130435,
          0.7018633540372671,
          0.63125,
          0.6583850931677019
         ],
         "yaxis": "y5"
        },
        {
         "legendgroup": "L1 (PCA)",
         "line": {
          "color": "orange",
          "dash": "dash"
         },
         "mode": "lines+markers",
         "name": "L1 (PCA)",
         "showlegend": false,
         "type": "scatter",
         "xaxis": "x5",
         "y": [
          0.7018633540372671,
          0.6832298136645962,
          0.6375,
          0.6459627329192547
         ],
         "yaxis": "y5"
        },
        {
         "legendgroup": "L2 (PCA)",
         "line": {
          "color": "green",
          "dash": "dash"
         },
         "mode": "lines+markers",
         "name": "L2 (PCA)",
         "showlegend": false,
         "type": "scatter",
         "xaxis": "x5",
         "y": [
          0.7204968944099379,
          0.6956521739130435,
          0.63125,
          0.6273291925465838
         ],
         "yaxis": "y5"
        },
        {
         "legendgroup": "Dummy",
         "line": {
          "color": "red",
          "dash": "solid"
         },
         "mode": "lines+markers",
         "name": "Dummy",
         "showlegend": false,
         "type": "scatter",
         "xaxis": "x6",
         "y": [
          0.6747694886839899,
          0.6747694886839899,
          0.6734006734006734,
          0.6770395290159799
         ],
         "yaxis": "y6"
        },
        {
         "legendgroup": "Base",
         "line": {
          "color": "blue",
          "dash": "solid"
         },
         "mode": "lines+markers",
         "name": "Base",
         "showlegend": false,
         "type": "scatter",
         "xaxis": "x6",
         "y": [
          0.7670850767085077,
          0.7827926657263752,
          0.7335329341317365,
          0.7726597325408618
         ],
         "yaxis": "y6"
        },
        {
         "legendgroup": "L1",
         "line": {
          "color": "orange",
          "dash": "solid"
         },
         "mode": "lines+markers",
         "name": "L1",
         "showlegend": false,
         "type": "scatter",
         "xaxis": "x6",
         "y": [
          0.7734056987788331,
          0.7872340425531915,
          0.7426470588235294,
          0.7949479940564635
         ],
         "yaxis": "y6"
        },
        {
         "legendgroup": "L2",
         "line": {
          "color": "green",
          "dash": "solid"
         },
         "mode": "lines+markers",
         "name": "L2",
         "showlegend": false,
         "type": "scatter",
         "xaxis": "x6",
         "y": [
          0.7844474761255116,
          0.7898448519040903,
          0.7412790697674418,
          0.7886676875957122
         ],
         "yaxis": "y6"
        },
        {
         "legendgroup": "Base (PCA)",
         "line": {
          "color": "blue",
          "dash": "dash"
         },
         "mode": "lines+markers",
         "name": "Base (PCA)",
         "showlegend": false,
         "type": "scatter",
         "xaxis": "x6",
         "y": [
          0.7681755829903978,
          0.7880055788005579,
          0.7340116279069767,
          0.7782672540381792
         ],
         "yaxis": "y6"
        },
        {
         "legendgroup": "L1 (PCA)",
         "line": {
          "color": "orange",
          "dash": "dash"
         },
         "mode": "lines+markers",
         "name": "L1 (PCA)",
         "showlegend": false,
         "type": "scatter",
         "xaxis": "x6",
         "y": [
          0.7836338418862691,
          0.7845934379457917,
          0.7456140350877193,
          0.791476407914764
         ],
         "yaxis": "y6"
        },
        {
         "legendgroup": "L2 (PCA)",
         "line": {
          "color": "green",
          "dash": "dash"
         },
         "mode": "lines+markers",
         "name": "L2 (PCA)",
         "showlegend": false,
         "type": "scatter",
         "xaxis": "x6",
         "y": [
          0.7827260458839406,
          0.7943262411347518,
          0.7383040935672515,
          0.7829457364341085
         ],
         "yaxis": "y6"
        }
       ],
       "layout": {
        "annotations": [
         {
          "font": {
           "size": 16
          },
          "showarrow": false,
          "text": "Train Precision",
          "x": 0.14444444444444446,
          "xanchor": "center",
          "xref": "paper",
          "y": 1,
          "yanchor": "bottom",
          "yref": "paper"
         },
         {
          "font": {
           "size": 16
          },
          "showarrow": false,
          "text": "Train Recall",
          "x": 0.5,
          "xanchor": "center",
          "xref": "paper",
          "y": 1,
          "yanchor": "bottom",
          "yref": "paper"
         },
         {
          "font": {
           "size": 16
          },
          "showarrow": false,
          "text": "Train F0.5",
          "x": 0.8555555555555556,
          "xanchor": "center",
          "xref": "paper",
          "y": 1,
          "yanchor": "bottom",
          "yref": "paper"
         },
         {
          "font": {
           "size": 16
          },
          "showarrow": false,
          "text": "Valid Precision",
          "x": 0.14444444444444446,
          "xanchor": "center",
          "xref": "paper",
          "y": 0.375,
          "yanchor": "bottom",
          "yref": "paper"
         },
         {
          "font": {
           "size": 16
          },
          "showarrow": false,
          "text": "Valid Recall",
          "x": 0.5,
          "xanchor": "center",
          "xref": "paper",
          "y": 0.375,
          "yanchor": "bottom",
          "yref": "paper"
         },
         {
          "font": {
           "size": 16
          },
          "showarrow": false,
          "text": "Valid F0.5",
          "x": 0.8555555555555556,
          "xanchor": "center",
          "xref": "paper",
          "y": 0.375,
          "yanchor": "bottom",
          "yref": "paper"
         }
        ],
        "height": 700,
        "legend": {
         "title": {
          "text": "Model"
         }
        },
        "template": {
         "data": {
          "bar": [
           {
            "error_x": {
             "color": "#2a3f5f"
            },
            "error_y": {
             "color": "#2a3f5f"
            },
            "marker": {
             "line": {
              "color": "#E5ECF6",
              "width": 0.5
             },
             "pattern": {
              "fillmode": "overlay",
              "size": 10,
              "solidity": 0.2
             }
            },
            "type": "bar"
           }
          ],
          "barpolar": [
           {
            "marker": {
             "line": {
              "color": "#E5ECF6",
              "width": 0.5
             },
             "pattern": {
              "fillmode": "overlay",
              "size": 10,
              "solidity": 0.2
             }
            },
            "type": "barpolar"
           }
          ],
          "carpet": [
           {
            "aaxis": {
             "endlinecolor": "#2a3f5f",
             "gridcolor": "white",
             "linecolor": "white",
             "minorgridcolor": "white",
             "startlinecolor": "#2a3f5f"
            },
            "baxis": {
             "endlinecolor": "#2a3f5f",
             "gridcolor": "white",
             "linecolor": "white",
             "minorgridcolor": "white",
             "startlinecolor": "#2a3f5f"
            },
            "type": "carpet"
           }
          ],
          "choropleth": [
           {
            "colorbar": {
             "outlinewidth": 0,
             "ticks": ""
            },
            "type": "choropleth"
           }
          ],
          "contour": [
           {
            "colorbar": {
             "outlinewidth": 0,
             "ticks": ""
            },
            "colorscale": [
             [
              0,
              "#0d0887"
             ],
             [
              0.1111111111111111,
              "#46039f"
             ],
             [
              0.2222222222222222,
              "#7201a8"
             ],
             [
              0.3333333333333333,
              "#9c179e"
             ],
             [
              0.4444444444444444,
              "#bd3786"
             ],
             [
              0.5555555555555556,
              "#d8576b"
             ],
             [
              0.6666666666666666,
              "#ed7953"
             ],
             [
              0.7777777777777778,
              "#fb9f3a"
             ],
             [
              0.8888888888888888,
              "#fdca26"
             ],
             [
              1,
              "#f0f921"
             ]
            ],
            "type": "contour"
           }
          ],
          "contourcarpet": [
           {
            "colorbar": {
             "outlinewidth": 0,
             "ticks": ""
            },
            "type": "contourcarpet"
           }
          ],
          "heatmap": [
           {
            "colorbar": {
             "outlinewidth": 0,
             "ticks": ""
            },
            "colorscale": [
             [
              0,
              "#0d0887"
             ],
             [
              0.1111111111111111,
              "#46039f"
             ],
             [
              0.2222222222222222,
              "#7201a8"
             ],
             [
              0.3333333333333333,
              "#9c179e"
             ],
             [
              0.4444444444444444,
              "#bd3786"
             ],
             [
              0.5555555555555556,
              "#d8576b"
             ],
             [
              0.6666666666666666,
              "#ed7953"
             ],
             [
              0.7777777777777778,
              "#fb9f3a"
             ],
             [
              0.8888888888888888,
              "#fdca26"
             ],
             [
              1,
              "#f0f921"
             ]
            ],
            "type": "heatmap"
           }
          ],
          "histogram": [
           {
            "marker": {
             "pattern": {
              "fillmode": "overlay",
              "size": 10,
              "solidity": 0.2
             }
            },
            "type": "histogram"
           }
          ],
          "histogram2d": [
           {
            "colorbar": {
             "outlinewidth": 0,
             "ticks": ""
            },
            "colorscale": [
             [
              0,
              "#0d0887"
             ],
             [
              0.1111111111111111,
              "#46039f"
             ],
             [
              0.2222222222222222,
              "#7201a8"
             ],
             [
              0.3333333333333333,
              "#9c179e"
             ],
             [
              0.4444444444444444,
              "#bd3786"
             ],
             [
              0.5555555555555556,
              "#d8576b"
             ],
             [
              0.6666666666666666,
              "#ed7953"
             ],
             [
              0.7777777777777778,
              "#fb9f3a"
             ],
             [
              0.8888888888888888,
              "#fdca26"
             ],
             [
              1,
              "#f0f921"
             ]
            ],
            "type": "histogram2d"
           }
          ],
          "histogram2dcontour": [
           {
            "colorbar": {
             "outlinewidth": 0,
             "ticks": ""
            },
            "colorscale": [
             [
              0,
              "#0d0887"
             ],
             [
              0.1111111111111111,
              "#46039f"
             ],
             [
              0.2222222222222222,
              "#7201a8"
             ],
             [
              0.3333333333333333,
              "#9c179e"
             ],
             [
              0.4444444444444444,
              "#bd3786"
             ],
             [
              0.5555555555555556,
              "#d8576b"
             ],
             [
              0.6666666666666666,
              "#ed7953"
             ],
             [
              0.7777777777777778,
              "#fb9f3a"
             ],
             [
              0.8888888888888888,
              "#fdca26"
             ],
             [
              1,
              "#f0f921"
             ]
            ],
            "type": "histogram2dcontour"
           }
          ],
          "mesh3d": [
           {
            "colorbar": {
             "outlinewidth": 0,
             "ticks": ""
            },
            "type": "mesh3d"
           }
          ],
          "parcoords": [
           {
            "line": {
             "colorbar": {
              "outlinewidth": 0,
              "ticks": ""
             }
            },
            "type": "parcoords"
           }
          ],
          "pie": [
           {
            "automargin": true,
            "type": "pie"
           }
          ],
          "scatter": [
           {
            "fillpattern": {
             "fillmode": "overlay",
             "size": 10,
             "solidity": 0.2
            },
            "type": "scatter"
           }
          ],
          "scatter3d": [
           {
            "line": {
             "colorbar": {
              "outlinewidth": 0,
              "ticks": ""
             }
            },
            "marker": {
             "colorbar": {
              "outlinewidth": 0,
              "ticks": ""
             }
            },
            "type": "scatter3d"
           }
          ],
          "scattercarpet": [
           {
            "marker": {
             "colorbar": {
              "outlinewidth": 0,
              "ticks": ""
             }
            },
            "type": "scattercarpet"
           }
          ],
          "scattergeo": [
           {
            "marker": {
             "colorbar": {
              "outlinewidth": 0,
              "ticks": ""
             }
            },
            "type": "scattergeo"
           }
          ],
          "scattergl": [
           {
            "marker": {
             "colorbar": {
              "outlinewidth": 0,
              "ticks": ""
             }
            },
            "type": "scattergl"
           }
          ],
          "scattermap": [
           {
            "marker": {
             "colorbar": {
              "outlinewidth": 0,
              "ticks": ""
             }
            },
            "type": "scattermap"
           }
          ],
          "scattermapbox": [
           {
            "marker": {
             "colorbar": {
              "outlinewidth": 0,
              "ticks": ""
             }
            },
            "type": "scattermapbox"
           }
          ],
          "scatterpolar": [
           {
            "marker": {
             "colorbar": {
              "outlinewidth": 0,
              "ticks": ""
             }
            },
            "type": "scatterpolar"
           }
          ],
          "scatterpolargl": [
           {
            "marker": {
             "colorbar": {
              "outlinewidth": 0,
              "ticks": ""
             }
            },
            "type": "scatterpolargl"
           }
          ],
          "scatterternary": [
           {
            "marker": {
             "colorbar": {
              "outlinewidth": 0,
              "ticks": ""
             }
            },
            "type": "scatterternary"
           }
          ],
          "surface": [
           {
            "colorbar": {
             "outlinewidth": 0,
             "ticks": ""
            },
            "colorscale": [
             [
              0,
              "#0d0887"
             ],
             [
              0.1111111111111111,
              "#46039f"
             ],
             [
              0.2222222222222222,
              "#7201a8"
             ],
             [
              0.3333333333333333,
              "#9c179e"
             ],
             [
              0.4444444444444444,
              "#bd3786"
             ],
             [
              0.5555555555555556,
              "#d8576b"
             ],
             [
              0.6666666666666666,
              "#ed7953"
             ],
             [
              0.7777777777777778,
              "#fb9f3a"
             ],
             [
              0.8888888888888888,
              "#fdca26"
             ],
             [
              1,
              "#f0f921"
             ]
            ],
            "type": "surface"
           }
          ],
          "table": [
           {
            "cells": {
             "fill": {
              "color": "#EBF0F8"
             },
             "line": {
              "color": "white"
             }
            },
            "header": {
             "fill": {
              "color": "#C8D4E3"
             },
             "line": {
              "color": "white"
             }
            },
            "type": "table"
           }
          ]
         },
         "layout": {
          "annotationdefaults": {
           "arrowcolor": "#2a3f5f",
           "arrowhead": 0,
           "arrowwidth": 1
          },
          "autotypenumbers": "strict",
          "coloraxis": {
           "colorbar": {
            "outlinewidth": 0,
            "ticks": ""
           }
          },
          "colorscale": {
           "diverging": [
            [
             0,
             "#8e0152"
            ],
            [
             0.1,
             "#c51b7d"
            ],
            [
             0.2,
             "#de77ae"
            ],
            [
             0.3,
             "#f1b6da"
            ],
            [
             0.4,
             "#fde0ef"
            ],
            [
             0.5,
             "#f7f7f7"
            ],
            [
             0.6,
             "#e6f5d0"
            ],
            [
             0.7,
             "#b8e186"
            ],
            [
             0.8,
             "#7fbc41"
            ],
            [
             0.9,
             "#4d9221"
            ],
            [
             1,
             "#276419"
            ]
           ],
           "sequential": [
            [
             0,
             "#0d0887"
            ],
            [
             0.1111111111111111,
             "#46039f"
            ],
            [
             0.2222222222222222,
             "#7201a8"
            ],
            [
             0.3333333333333333,
             "#9c179e"
            ],
            [
             0.4444444444444444,
             "#bd3786"
            ],
            [
             0.5555555555555556,
             "#d8576b"
            ],
            [
             0.6666666666666666,
             "#ed7953"
            ],
            [
             0.7777777777777778,
             "#fb9f3a"
            ],
            [
             0.8888888888888888,
             "#fdca26"
            ],
            [
             1,
             "#f0f921"
            ]
           ],
           "sequentialminus": [
            [
             0,
             "#0d0887"
            ],
            [
             0.1111111111111111,
             "#46039f"
            ],
            [
             0.2222222222222222,
             "#7201a8"
            ],
            [
             0.3333333333333333,
             "#9c179e"
            ],
            [
             0.4444444444444444,
             "#bd3786"
            ],
            [
             0.5555555555555556,
             "#d8576b"
            ],
            [
             0.6666666666666666,
             "#ed7953"
            ],
            [
             0.7777777777777778,
             "#fb9f3a"
            ],
            [
             0.8888888888888888,
             "#fdca26"
            ],
            [
             1,
             "#f0f921"
            ]
           ]
          },
          "colorway": [
           "#636efa",
           "#EF553B",
           "#00cc96",
           "#ab63fa",
           "#FFA15A",
           "#19d3f3",
           "#FF6692",
           "#B6E880",
           "#FF97FF",
           "#FECB52"
          ],
          "font": {
           "color": "#2a3f5f"
          },
          "geo": {
           "bgcolor": "white",
           "lakecolor": "white",
           "landcolor": "#E5ECF6",
           "showlakes": true,
           "showland": true,
           "subunitcolor": "white"
          },
          "hoverlabel": {
           "align": "left"
          },
          "hovermode": "closest",
          "mapbox": {
           "style": "light"
          },
          "paper_bgcolor": "white",
          "plot_bgcolor": "#E5ECF6",
          "polar": {
           "angularaxis": {
            "gridcolor": "white",
            "linecolor": "white",
            "ticks": ""
           },
           "bgcolor": "#E5ECF6",
           "radialaxis": {
            "gridcolor": "white",
            "linecolor": "white",
            "ticks": ""
           }
          },
          "scene": {
           "xaxis": {
            "backgroundcolor": "#E5ECF6",
            "gridcolor": "white",
            "gridwidth": 2,
            "linecolor": "white",
            "showbackground": true,
            "ticks": "",
            "zerolinecolor": "white"
           },
           "yaxis": {
            "backgroundcolor": "#E5ECF6",
            "gridcolor": "white",
            "gridwidth": 2,
            "linecolor": "white",
            "showbackground": true,
            "ticks": "",
            "zerolinecolor": "white"
           },
           "zaxis": {
            "backgroundcolor": "#E5ECF6",
            "gridcolor": "white",
            "gridwidth": 2,
            "linecolor": "white",
            "showbackground": true,
            "ticks": "",
            "zerolinecolor": "white"
           }
          },
          "shapedefaults": {
           "line": {
            "color": "#2a3f5f"
           }
          },
          "ternary": {
           "aaxis": {
            "gridcolor": "white",
            "linecolor": "white",
            "ticks": ""
           },
           "baxis": {
            "gridcolor": "white",
            "linecolor": "white",
            "ticks": ""
           },
           "bgcolor": "#E5ECF6",
           "caxis": {
            "gridcolor": "white",
            "linecolor": "white",
            "ticks": ""
           }
          },
          "title": {
           "x": 0.05
          },
          "xaxis": {
           "automargin": true,
           "gridcolor": "white",
           "linecolor": "white",
           "ticks": "",
           "title": {
            "standoff": 15
           },
           "zerolinecolor": "white",
           "zerolinewidth": 2
          },
          "yaxis": {
           "automargin": true,
           "gridcolor": "white",
           "linecolor": "white",
           "ticks": "",
           "title": {
            "standoff": 15
           },
           "zerolinecolor": "white",
           "zerolinewidth": 2
          }
         }
        },
        "title": {
         "text": "Cross-Validation Metrics for All Models"
        },
        "width": 1500,
        "xaxis": {
         "anchor": "y",
         "domain": [
          0,
          0.2888888888888889
         ]
        },
        "xaxis2": {
         "anchor": "y2",
         "domain": [
          0.35555555555555557,
          0.6444444444444445
         ]
        },
        "xaxis3": {
         "anchor": "y3",
         "domain": [
          0.7111111111111111,
          1
         ]
        },
        "xaxis4": {
         "anchor": "y4",
         "domain": [
          0,
          0.2888888888888889
         ]
        },
        "xaxis5": {
         "anchor": "y5",
         "domain": [
          0.35555555555555557,
          0.6444444444444445
         ]
        },
        "xaxis6": {
         "anchor": "y6",
         "domain": [
          0.7111111111111111,
          1
         ]
        },
        "yaxis": {
         "anchor": "x",
         "domain": [
          0.625,
          1
         ]
        },
        "yaxis2": {
         "anchor": "x2",
         "domain": [
          0.625,
          1
         ]
        },
        "yaxis3": {
         "anchor": "x3",
         "domain": [
          0.625,
          1
         ]
        },
        "yaxis4": {
         "anchor": "x4",
         "domain": [
          0,
          0.375
         ]
        },
        "yaxis5": {
         "anchor": "x5",
         "domain": [
          0,
          0.375
         ]
        },
        "yaxis6": {
         "anchor": "x6",
         "domain": [
          0,
          0.375
         ]
        }
       }
      }
     },
     "metadata": {},
     "output_type": "display_data"
    }
   ],
   "source": [
    "fig = make_subplots(\n",
    "    rows=2, cols=3,\n",
    "    subplot_titles=[\n",
    "        \"Train Precision\", \"Train Recall\", f\"Train F{beta}\",\n",
    "        \"Valid Precision\", \"Valid Recall\", f\"Valid F{beta}\"\n",
    "    ]\n",
    ")\n",
    "\n",
    "model_names = [\n",
    "    (\"dummy\", \"Dummy\"),\n",
    "    (\"lr\", \"Base\"),\n",
    "    (\"lr_l1\", \"L1\"),\n",
    "    (\"lr_l2\", \"L2\"),\n",
    "    (\"lr_pca\", \"Base (PCA)\"),\n",
    "    (\"lr_l1_pca\", \"L1 (PCA)\"),\n",
    "    (\"lr_l2_pca\", \"L2 (PCA)\")\n",
    "]\n",
    "\n",
    "# Unique color per model\n",
    "model_colors = {\n",
    "    \"Dummy\": \"red\",\n",
    "    \"Base\": \"blue\",\n",
    "    \"L1\": \"orange\",\n",
    "    \"L2\": \"green\",\n",
    "    \"Base (PCA)\": \"blue\",\n",
    "    \"L1 (PCA)\": \"orange\",\n",
    "    \"L2 (PCA)\": \"green\"\n",
    "}\n",
    "\n",
    "metrics = [\"precision\", \"recall\", f\"F{beta}\"]\n",
    "scenarios = [\"train\", \"valid\"]\n",
    "\n",
    "for row, scenario in enumerate(scenarios, start=1):\n",
    "    for col, metric in enumerate(metrics, start=1):\n",
    "        for model_var, model_label in model_names:\n",
    "            model = globals()[model_var]\n",
    "            y_vals = model.cv_scores[scenario][metric]\n",
    "            is_pca = \"PCA\" in model_label\n",
    "            fig.add_trace(\n",
    "                go.Scatter(\n",
    "                    y=y_vals,\n",
    "                    mode=\"lines+markers\",\n",
    "                    name=model_label,\n",
    "                    legendgroup=model_label,\n",
    "                    line=dict(\n",
    "                        dash=\"dash\" if is_pca else \"solid\",\n",
    "                        color=model_colors[model_label]\n",
    "                    ),\n",
    "                    showlegend=(row == 1 and col == 1)\n",
    "                ),\n",
    "                row=row, col=col\n",
    "            )\n",
    "\n",
    "fig.update_layout(\n",
    "    height=700, width=1500,\n",
    "    title_text=\"Cross-Validation Metrics for All Models\",\n",
    "    legend_title_text=\"Model\"\n",
    ")\n",
    "fig.show()"
   ]
  },
  {
   "cell_type": "markdown",
   "id": "dd9a6b4d",
   "metadata": {},
   "source": [
    "1) Model generalize very well (metrics across train / valid folds are close) <br>\n",
    "2) All LR models outperform dummy classifier. <br>\n",
    "3) PCA seems to improving both precision and recall (especially during validation) : denoising the data helps the model focusing on relevant patterns !\n",
    "4) Best model seems to be L1 + PCA : improves the learning process in the sens of the given metric (focusing more on improving precision than recall compared to other models) + best score on validation set + stable metrics across folds."
   ]
  },
  {
   "cell_type": "code",
   "execution_count": 119,
   "id": "2c0272d5",
   "metadata": {},
   "outputs": [
    {
     "name": "stdout",
     "output_type": "stream",
     "text": [
      "| Model     |   Train Precision |   Train Recall |   Train F0.5 |   Valid Precision |   Valid Recall |   Valid F0.5 |\n",
      "|-----------|-------------------|----------------|--------------|-------------------|----------------|--------------|\n",
      "| dummy     |            0.6243 |         1.0000 |       0.6750 |            0.6243 |         1.0000 |       0.6750 |\n",
      "| lr        |            0.8035 |         0.6651 |       0.7714 |            0.7964 |         0.6578 |       0.7640 |\n",
      "| lr_pca    |            0.7970 |         0.6734 |       0.7688 |            0.7956 |         0.6718 |       0.7671 |\n",
      "| lr_l1     |            0.7986 |         0.6718 |       0.7695 |            0.8052 |         0.6733 |       0.7746 |\n",
      "| lr_l1_pca |            0.8045 |         0.6646 |       0.7719 |            0.8098 |         0.6671 |       0.7763 |\n",
      "| lr_l2     |            0.7999 |         0.6687 |       0.7697 |            0.8080 |         0.6718 |       0.7761 |\n",
      "| lr_l2_pca |            0.8016 |         0.6677 |       0.7707 |            0.8073 |         0.6687 |       0.7746 |\n"
     ]
    }
   ],
   "source": [
    "# Mettrics comparison\n",
    "results = []\n",
    "\n",
    "for model in [dummy, lr, lr_pca, lr_l1, lr_l1_pca, lr_l2, lr_l2_pca]:\n",
    "    row = [model.name]\n",
    "    for scenario in scenarios:\n",
    "        for metric in metrics:\n",
    "            avg = np.mean(model.cv_scores[scenario][metric])\n",
    "            row.append(avg)\n",
    "    results.append(row)\n",
    "\n",
    "headers = [\"Model\"] + [f\"{scenario.capitalize()} {metric.capitalize()}\" for scenario in scenarios for metric in metrics]\n",
    "print(tabulate(results, headers=headers, tablefmt=\"github\", floatfmt=\".4f\"))"
   ]
  },
  {
   "cell_type": "code",
   "execution_count": 120,
   "id": "1486b42c",
   "metadata": {},
   "outputs": [
    {
     "name": "stdout",
     "output_type": "stream",
     "text": [
      "Best configuration saved to: models/params/lr.json\n"
     ]
    }
   ],
   "source": [
    "# Saving best configs\n",
    "lr_config = params[\"l1_pca\"]\n",
    "lr_config.pop(\"model\")\n",
    "lr_config.pop(\"c_min\")\n",
    "lr_config.pop(\"c_max\")\n",
    "lr_config.pop(\"n_trials\")\n",
    "lr_config.pop(\"scaler\")\n",
    "lr_config.pop(\"pca\")\n",
    "\n",
    "save_config_path = os.path.join(\"models\",\"params\",\"lr.json\")\n",
    "os.makedirs(os.path.dirname(save_config_path), exist_ok=True)\n",
    "with open(save_config_path, 'w') as f:\n",
    "    json.dump(lr_config, f, indent=4)\n",
    "\n",
    "print(f\"Best configuration saved to: {save_config_path}\")"
   ]
  },
  {
   "cell_type": "code",
   "execution_count": 121,
   "id": "ab6f5422",
   "metadata": {},
   "outputs": [
    {
     "data": {
      "application/vnd.plotly.v1+json": {
       "config": {
        "plotlyServerURL": "https://plot.ly"
       },
       "data": [
        {
         "text": [
          "0.452",
          "-0.226",
          "0.126",
          "-0.403",
          "-0.024",
          "0.379",
          "0.319",
          "0.403",
          "0.044",
          "0.064",
          "-0.020",
          "-0.273"
         ],
         "textposition": "auto",
         "type": "bar",
         "x": [
          0,
          1,
          2,
          3,
          4,
          5,
          6,
          7,
          8,
          9,
          10,
          11
         ],
         "y": {
          "bdata": "BligSHvy3D8WmbtpsenMP+2dob3VIMA/0KDf3QzK2T+pJam53VGYPyzjK5zMP9g/r4OmmF5v1D8Z7xLIqsLZP3ax5+ZoyKY/3TBptbNIsD9Dc+hBzESUPzn0q7yKdtE/",
          "dtype": "f8"
         }
        }
       ],
       "layout": {
        "height": 500,
        "template": {
         "data": {
          "bar": [
           {
            "error_x": {
             "color": "#2a3f5f"
            },
            "error_y": {
             "color": "#2a3f5f"
            },
            "marker": {
             "line": {
              "color": "#E5ECF6",
              "width": 0.5
             },
             "pattern": {
              "fillmode": "overlay",
              "size": 10,
              "solidity": 0.2
             }
            },
            "type": "bar"
           }
          ],
          "barpolar": [
           {
            "marker": {
             "line": {
              "color": "#E5ECF6",
              "width": 0.5
             },
             "pattern": {
              "fillmode": "overlay",
              "size": 10,
              "solidity": 0.2
             }
            },
            "type": "barpolar"
           }
          ],
          "carpet": [
           {
            "aaxis": {
             "endlinecolor": "#2a3f5f",
             "gridcolor": "white",
             "linecolor": "white",
             "minorgridcolor": "white",
             "startlinecolor": "#2a3f5f"
            },
            "baxis": {
             "endlinecolor": "#2a3f5f",
             "gridcolor": "white",
             "linecolor": "white",
             "minorgridcolor": "white",
             "startlinecolor": "#2a3f5f"
            },
            "type": "carpet"
           }
          ],
          "choropleth": [
           {
            "colorbar": {
             "outlinewidth": 0,
             "ticks": ""
            },
            "type": "choropleth"
           }
          ],
          "contour": [
           {
            "colorbar": {
             "outlinewidth": 0,
             "ticks": ""
            },
            "colorscale": [
             [
              0,
              "#0d0887"
             ],
             [
              0.1111111111111111,
              "#46039f"
             ],
             [
              0.2222222222222222,
              "#7201a8"
             ],
             [
              0.3333333333333333,
              "#9c179e"
             ],
             [
              0.4444444444444444,
              "#bd3786"
             ],
             [
              0.5555555555555556,
              "#d8576b"
             ],
             [
              0.6666666666666666,
              "#ed7953"
             ],
             [
              0.7777777777777778,
              "#fb9f3a"
             ],
             [
              0.8888888888888888,
              "#fdca26"
             ],
             [
              1,
              "#f0f921"
             ]
            ],
            "type": "contour"
           }
          ],
          "contourcarpet": [
           {
            "colorbar": {
             "outlinewidth": 0,
             "ticks": ""
            },
            "type": "contourcarpet"
           }
          ],
          "heatmap": [
           {
            "colorbar": {
             "outlinewidth": 0,
             "ticks": ""
            },
            "colorscale": [
             [
              0,
              "#0d0887"
             ],
             [
              0.1111111111111111,
              "#46039f"
             ],
             [
              0.2222222222222222,
              "#7201a8"
             ],
             [
              0.3333333333333333,
              "#9c179e"
             ],
             [
              0.4444444444444444,
              "#bd3786"
             ],
             [
              0.5555555555555556,
              "#d8576b"
             ],
             [
              0.6666666666666666,
              "#ed7953"
             ],
             [
              0.7777777777777778,
              "#fb9f3a"
             ],
             [
              0.8888888888888888,
              "#fdca26"
             ],
             [
              1,
              "#f0f921"
             ]
            ],
            "type": "heatmap"
           }
          ],
          "histogram": [
           {
            "marker": {
             "pattern": {
              "fillmode": "overlay",
              "size": 10,
              "solidity": 0.2
             }
            },
            "type": "histogram"
           }
          ],
          "histogram2d": [
           {
            "colorbar": {
             "outlinewidth": 0,
             "ticks": ""
            },
            "colorscale": [
             [
              0,
              "#0d0887"
             ],
             [
              0.1111111111111111,
              "#46039f"
             ],
             [
              0.2222222222222222,
              "#7201a8"
             ],
             [
              0.3333333333333333,
              "#9c179e"
             ],
             [
              0.4444444444444444,
              "#bd3786"
             ],
             [
              0.5555555555555556,
              "#d8576b"
             ],
             [
              0.6666666666666666,
              "#ed7953"
             ],
             [
              0.7777777777777778,
              "#fb9f3a"
             ],
             [
              0.8888888888888888,
              "#fdca26"
             ],
             [
              1,
              "#f0f921"
             ]
            ],
            "type": "histogram2d"
           }
          ],
          "histogram2dcontour": [
           {
            "colorbar": {
             "outlinewidth": 0,
             "ticks": ""
            },
            "colorscale": [
             [
              0,
              "#0d0887"
             ],
             [
              0.1111111111111111,
              "#46039f"
             ],
             [
              0.2222222222222222,
              "#7201a8"
             ],
             [
              0.3333333333333333,
              "#9c179e"
             ],
             [
              0.4444444444444444,
              "#bd3786"
             ],
             [
              0.5555555555555556,
              "#d8576b"
             ],
             [
              0.6666666666666666,
              "#ed7953"
             ],
             [
              0.7777777777777778,
              "#fb9f3a"
             ],
             [
              0.8888888888888888,
              "#fdca26"
             ],
             [
              1,
              "#f0f921"
             ]
            ],
            "type": "histogram2dcontour"
           }
          ],
          "mesh3d": [
           {
            "colorbar": {
             "outlinewidth": 0,
             "ticks": ""
            },
            "type": "mesh3d"
           }
          ],
          "parcoords": [
           {
            "line": {
             "colorbar": {
              "outlinewidth": 0,
              "ticks": ""
             }
            },
            "type": "parcoords"
           }
          ],
          "pie": [
           {
            "automargin": true,
            "type": "pie"
           }
          ],
          "scatter": [
           {
            "fillpattern": {
             "fillmode": "overlay",
             "size": 10,
             "solidity": 0.2
            },
            "type": "scatter"
           }
          ],
          "scatter3d": [
           {
            "line": {
             "colorbar": {
              "outlinewidth": 0,
              "ticks": ""
             }
            },
            "marker": {
             "colorbar": {
              "outlinewidth": 0,
              "ticks": ""
             }
            },
            "type": "scatter3d"
           }
          ],
          "scattercarpet": [
           {
            "marker": {
             "colorbar": {
              "outlinewidth": 0,
              "ticks": ""
             }
            },
            "type": "scattercarpet"
           }
          ],
          "scattergeo": [
           {
            "marker": {
             "colorbar": {
              "outlinewidth": 0,
              "ticks": ""
             }
            },
            "type": "scattergeo"
           }
          ],
          "scattergl": [
           {
            "marker": {
             "colorbar": {
              "outlinewidth": 0,
              "ticks": ""
             }
            },
            "type": "scattergl"
           }
          ],
          "scattermap": [
           {
            "marker": {
             "colorbar": {
              "outlinewidth": 0,
              "ticks": ""
             }
            },
            "type": "scattermap"
           }
          ],
          "scattermapbox": [
           {
            "marker": {
             "colorbar": {
              "outlinewidth": 0,
              "ticks": ""
             }
            },
            "type": "scattermapbox"
           }
          ],
          "scatterpolar": [
           {
            "marker": {
             "colorbar": {
              "outlinewidth": 0,
              "ticks": ""
             }
            },
            "type": "scatterpolar"
           }
          ],
          "scatterpolargl": [
           {
            "marker": {
             "colorbar": {
              "outlinewidth": 0,
              "ticks": ""
             }
            },
            "type": "scatterpolargl"
           }
          ],
          "scatterternary": [
           {
            "marker": {
             "colorbar": {
              "outlinewidth": 0,
              "ticks": ""
             }
            },
            "type": "scatterternary"
           }
          ],
          "surface": [
           {
            "colorbar": {
             "outlinewidth": 0,
             "ticks": ""
            },
            "colorscale": [
             [
              0,
              "#0d0887"
             ],
             [
              0.1111111111111111,
              "#46039f"
             ],
             [
              0.2222222222222222,
              "#7201a8"
             ],
             [
              0.3333333333333333,
              "#9c179e"
             ],
             [
              0.4444444444444444,
              "#bd3786"
             ],
             [
              0.5555555555555556,
              "#d8576b"
             ],
             [
              0.6666666666666666,
              "#ed7953"
             ],
             [
              0.7777777777777778,
              "#fb9f3a"
             ],
             [
              0.8888888888888888,
              "#fdca26"
             ],
             [
              1,
              "#f0f921"
             ]
            ],
            "type": "surface"
           }
          ],
          "table": [
           {
            "cells": {
             "fill": {
              "color": "#EBF0F8"
             },
             "line": {
              "color": "white"
             }
            },
            "header": {
             "fill": {
              "color": "#C8D4E3"
             },
             "line": {
              "color": "white"
             }
            },
            "type": "table"
           }
          ]
         },
         "layout": {
          "annotationdefaults": {
           "arrowcolor": "#2a3f5f",
           "arrowhead": 0,
           "arrowwidth": 1
          },
          "autotypenumbers": "strict",
          "coloraxis": {
           "colorbar": {
            "outlinewidth": 0,
            "ticks": ""
           }
          },
          "colorscale": {
           "diverging": [
            [
             0,
             "#8e0152"
            ],
            [
             0.1,
             "#c51b7d"
            ],
            [
             0.2,
             "#de77ae"
            ],
            [
             0.3,
             "#f1b6da"
            ],
            [
             0.4,
             "#fde0ef"
            ],
            [
             0.5,
             "#f7f7f7"
            ],
            [
             0.6,
             "#e6f5d0"
            ],
            [
             0.7,
             "#b8e186"
            ],
            [
             0.8,
             "#7fbc41"
            ],
            [
             0.9,
             "#4d9221"
            ],
            [
             1,
             "#276419"
            ]
           ],
           "sequential": [
            [
             0,
             "#0d0887"
            ],
            [
             0.1111111111111111,
             "#46039f"
            ],
            [
             0.2222222222222222,
             "#7201a8"
            ],
            [
             0.3333333333333333,
             "#9c179e"
            ],
            [
             0.4444444444444444,
             "#bd3786"
            ],
            [
             0.5555555555555556,
             "#d8576b"
            ],
            [
             0.6666666666666666,
             "#ed7953"
            ],
            [
             0.7777777777777778,
             "#fb9f3a"
            ],
            [
             0.8888888888888888,
             "#fdca26"
            ],
            [
             1,
             "#f0f921"
            ]
           ],
           "sequentialminus": [
            [
             0,
             "#0d0887"
            ],
            [
             0.1111111111111111,
             "#46039f"
            ],
            [
             0.2222222222222222,
             "#7201a8"
            ],
            [
             0.3333333333333333,
             "#9c179e"
            ],
            [
             0.4444444444444444,
             "#bd3786"
            ],
            [
             0.5555555555555556,
             "#d8576b"
            ],
            [
             0.6666666666666666,
             "#ed7953"
            ],
            [
             0.7777777777777778,
             "#fb9f3a"
            ],
            [
             0.8888888888888888,
             "#fdca26"
            ],
            [
             1,
             "#f0f921"
            ]
           ]
          },
          "colorway": [
           "#636efa",
           "#EF553B",
           "#00cc96",
           "#ab63fa",
           "#FFA15A",
           "#19d3f3",
           "#FF6692",
           "#B6E880",
           "#FF97FF",
           "#FECB52"
          ],
          "font": {
           "color": "#2a3f5f"
          },
          "geo": {
           "bgcolor": "white",
           "lakecolor": "white",
           "landcolor": "#E5ECF6",
           "showlakes": true,
           "showland": true,
           "subunitcolor": "white"
          },
          "hoverlabel": {
           "align": "left"
          },
          "hovermode": "closest",
          "mapbox": {
           "style": "light"
          },
          "paper_bgcolor": "white",
          "plot_bgcolor": "#E5ECF6",
          "polar": {
           "angularaxis": {
            "gridcolor": "white",
            "linecolor": "white",
            "ticks": ""
           },
           "bgcolor": "#E5ECF6",
           "radialaxis": {
            "gridcolor": "white",
            "linecolor": "white",
            "ticks": ""
           }
          },
          "scene": {
           "xaxis": {
            "backgroundcolor": "#E5ECF6",
            "gridcolor": "white",
            "gridwidth": 2,
            "linecolor": "white",
            "showbackground": true,
            "ticks": "",
            "zerolinecolor": "white"
           },
           "yaxis": {
            "backgroundcolor": "#E5ECF6",
            "gridcolor": "white",
            "gridwidth": 2,
            "linecolor": "white",
            "showbackground": true,
            "ticks": "",
            "zerolinecolor": "white"
           },
           "zaxis": {
            "backgroundcolor": "#E5ECF6",
            "gridcolor": "white",
            "gridwidth": 2,
            "linecolor": "white",
            "showbackground": true,
            "ticks": "",
            "zerolinecolor": "white"
           }
          },
          "shapedefaults": {
           "line": {
            "color": "#2a3f5f"
           }
          },
          "ternary": {
           "aaxis": {
            "gridcolor": "white",
            "linecolor": "white",
            "ticks": ""
           },
           "baxis": {
            "gridcolor": "white",
            "linecolor": "white",
            "ticks": ""
           },
           "bgcolor": "#E5ECF6",
           "caxis": {
            "gridcolor": "white",
            "linecolor": "white",
            "ticks": ""
           }
          },
          "title": {
           "x": 0.05
          },
          "xaxis": {
           "automargin": true,
           "gridcolor": "white",
           "linecolor": "white",
           "ticks": "",
           "title": {
            "standoff": 15
           },
           "zerolinecolor": "white",
           "zerolinewidth": 2
          },
          "yaxis": {
           "automargin": true,
           "gridcolor": "white",
           "linecolor": "white",
           "ticks": "",
           "title": {
            "standoff": 15
           },
           "zerolinecolor": "white",
           "zerolinewidth": 2
          }
         }
        },
        "title": {
         "text": "L1 + PCA Model Coefficients"
        },
        "width": 800,
        "xaxis": {
         "title": {
          "text": "Principal Component Index"
         }
        },
        "yaxis": {
         "title": {
          "text": "Coefficient Value"
         }
        }
       }
      }
     },
     "metadata": {},
     "output_type": "display_data"
    }
   ],
   "source": [
    "# Get coefficients from the L1+PCA model\n",
    "coefs = lr_l1_pca.classifier.coef_[0]\n",
    "\n",
    "# Create a bar plot to visualize coefficients\n",
    "fig = go.Figure(data=go.Bar(\n",
    "    x=list(range(len(coefs))),\n",
    "    y=np.abs(coefs),\n",
    "    text=[f'{coef:.3f}' for coef in coefs],\n",
    "    textposition='auto'\n",
    "))\n",
    "\n",
    "fig.update_layout(\n",
    "    title=\"L1 + PCA Model Coefficients\",\n",
    "    xaxis_title=\"Principal Component Index\",\n",
    "    yaxis_title=\"Coefficient Value\",\n",
    "    height=500,\n",
    "    width=800\n",
    ")\n",
    "\n",
    "fig.show()"
   ]
  },
  {
   "cell_type": "markdown",
   "id": "9f70850d",
   "metadata": {},
   "source": [
    "L1 + PCA semble être un modèle très intéressant pour notre approche : il permet d'affiner encore plus les résultats de recherche en ne sélectionnant que les axes utiles. <br> En particulier toutes les variables d'origine (filtrées) ont une contribution significative à ce sous-set de composantes principales. <br>\n",
    "Un point intéressant pourrait être de ne pas sélectionner les axes dont le coefficiant associé est en dessous d'un certain threshold. Le modèle présenté ici est cependant satisfaisant pour décider de le mettre en production."
   ]
  },
  {
   "cell_type": "code",
   "execution_count": 122,
   "id": "75c6a659",
   "metadata": {},
   "outputs": [
    {
     "name": "stdout",
     "output_type": "stream",
     "text": [
      "\n",
      "Test Set Performance:\n",
      "| Model     |   Precision |   Recall |   F0.5-Score |\n",
      "|-----------|-------------|----------|--------------|\n",
      "| dummy     |      0.6240 |   1.0000 |       0.6748 |\n",
      "| lr        |      0.8345 |   0.7205 |       0.8089 |\n",
      "| lr_pca    |      0.8264 |   0.7391 |       0.8073 |\n",
      "| lr_l1     |      0.8264 |   0.7391 |       0.8073 |\n",
      "| lr_l1_pca |      0.8322 |   0.7391 |       0.8117 |\n",
      "| lr_l2     |      0.8169 |   0.7205 |       0.7956 |\n",
      "| lr_l2_pca |      0.8227 |   0.7205 |       0.8000 |\n"
     ]
    }
   ],
   "source": [
    "# Fit all models and evaluate on test set\n",
    "test_results = []\n",
    "\n",
    "for model in [dummy, lr, lr_pca, lr_l1, lr_l1_pca, lr_l2, lr_l2_pca]:\n",
    "    model.fit(X_train, y_train)\n",
    "    test_metrics = model.evaluate(X_test, y_test)\n",
    "    \n",
    "    row = [model.name, test_metrics[\"precision\"], test_metrics[\"recall\"], test_metrics[f\"F{beta}\"]]\n",
    "    test_results.append(row)\n",
    "\n",
    "# Display results\n",
    "test_headers = [\"Model\", \"Precision\", \"Recall\", f\"F{beta}-Score\"]\n",
    "print(\"\\nTest Set Performance:\")\n",
    "print(tabulate(test_results, headers=test_headers, tablefmt=\"github\", floatfmt=\".4f\"))"
   ]
  },
  {
   "cell_type": "markdown",
   "id": "6f5b6489",
   "metadata": {},
   "source": [
    "Good generalization property (very close from metrics obtained with cross validation validation set, plus higher) ! <br>\n",
    "L1 + PCA gives best scores (very little margin) on test set !"
   ]
  }
 ],
 "metadata": {
  "kernelspec": {
   "display_name": "ml",
   "language": "python",
   "name": "python3"
  },
  "language_info": {
   "codemirror_mode": {
    "name": "ipython",
    "version": 3
   },
   "file_extension": ".py",
   "mimetype": "text/x-python",
   "name": "python",
   "nbconvert_exporter": "python",
   "pygments_lexer": "ipython3",
   "version": "3.11.13"
  }
 },
 "nbformat": 4,
 "nbformat_minor": 5
}
