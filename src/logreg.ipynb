{
 "cells": [
  {
   "cell_type": "code",
   "execution_count": 60,
   "id": "fd4ed865",
   "metadata": {},
   "outputs": [],
   "source": [
    "# Dependencies\n",
    "\n",
    "# Data Manip\n",
    "import pandas as pd\n",
    "\n",
    "# Linear Algebra\n",
    "import numpy as np\n",
    "\n",
    "# Machine Learning\n",
    "from sklearn.preprocessing import RobustScaler\n",
    "from sklearn.model_selection import train_test_split\n",
    "from models.lr import LREstimator\n",
    "from models.dummy import DummyEstimator\n",
    "from sklearn.decomposition import PCA\n",
    "\n",
    "# Optimization\n",
    "import optuna\n",
    "from optuna.storages import RDBStorage\n",
    "from functools import partial\n",
    "\n",
    "# System & Files\n",
    "import os\n",
    "import json\n",
    "\n",
    "# Visualization\n",
    "import plotly.graph_objects as go\n",
    "from plotly.subplots import make_subplots\n",
    "from tabulate import tabulate\n",
    "\n",
    "seed = 42\n",
    "np.random.seed(seed)\n",
    "import random\n",
    "random.seed(seed)"
   ]
  },
  {
   "cell_type": "code",
   "execution_count": 61,
   "id": "e668273c",
   "metadata": {},
   "outputs": [],
   "source": [
    "# Data collection\n",
    "\n",
    "data_path = \"data/nba_filtered_capped.csv\"\n",
    "df = pd.read_csv(data_path)\n",
    "df = df.drop(columns=\"Name\")"
   ]
  },
  {
   "cell_type": "code",
   "execution_count": 62,
   "id": "bd18fa2b",
   "metadata": {},
   "outputs": [],
   "source": [
    "# Train / Test split\n",
    "target = \"TARGET_5Yrs\"\n",
    "\n",
    "X = df.drop(columns=[target]).values\n",
    "y = df[target].values\n",
    "\n",
    "test_size=0.2\n",
    "X_train, X_test, y_train, y_test = train_test_split(X,y,stratify=y,test_size=test_size,shuffle=True,random_state=seed)\n",
    "\n",
    "n_splits = 4 # to get same number of samples within validation fold as in test set"
   ]
  },
  {
   "cell_type": "code",
   "execution_count": 63,
   "id": "1d78efdb",
   "metadata": {},
   "outputs": [],
   "source": [
    "# Model\n",
    "max_iter = 10000\n",
    "n_components = 0.99\n",
    "cv_folds = 4\n",
    "beta = 0.5 # precision twice as important as recall\n",
    "n_trials = 200\n",
    "scaler_type = \"robust\"\n",
    "\n",
    "params = {\n",
    "    \"dummy\":{\n",
    "        \"model\": \"dummy\",\n",
    "        \"cv_folds\": cv_folds,\n",
    "        \"random_state\": seed,\n",
    "        \"strategy\": \"most_frequent\",\n",
    "        \"beta\": beta,\n",
    "    },\n",
    "    \"base\": {\n",
    "        \"model\": \"lr\",\n",
    "        \"penalty\": None,\n",
    "        \"random_state\": seed,\n",
    "        \"cv_folds\": cv_folds,\n",
    "        \"class_weight\": \"balanced\",\n",
    "        \"n_jobs\": -1,\n",
    "        \"max_iter\": max_iter,\n",
    "        \"scaler_type\": scaler_type,\n",
    "        \"pca_level\": None,\n",
    "        \"beta\": beta,\n",
    "    },\n",
    "    \"l1\": {\n",
    "        \"model\": \"lr_l1\",\n",
    "        \"penalty\": \"l1\", \n",
    "        \"random_state\": seed,\n",
    "        \"cv_folds\": cv_folds,\n",
    "        \"solver\": \"liblinear\",\n",
    "        \"class_weight\": \"balanced\",\n",
    "        \"max_iter\": max_iter,\n",
    "        \"scaler_type\": scaler_type,\n",
    "        \"pca_level\": None,\n",
    "        \"beta\": beta,\n",
    "        \"c_min\": 1e-1,\n",
    "        \"c_max\": 1,\n",
    "        \"n_trials\": n_trials,\n",
    "    },\n",
    "    \"l2\": {\n",
    "        \"model\": \"lr_l2\",\n",
    "        \"penalty\": \"l2\", \n",
    "        \"random_state\": seed,\n",
    "        \"cv_folds\": cv_folds,\n",
    "        \"solver\": \"liblinear\",\n",
    "        \"class_weight\": \"balanced\",\n",
    "        \"max_iter\": max_iter,\n",
    "        \"scaler_type\": scaler_type,\n",
    "        \"pca_level\": None,\n",
    "        \"beta\": beta,\n",
    "        \"c_min\": 1e-2,\n",
    "        \"c_max\": 1,\n",
    "        \"n_trials\": n_trials,\n",
    "    },\n",
    "    \"base_pca\": {\n",
    "        \"model\": \"lr_pca\",\n",
    "        \"penalty\": None,\n",
    "        \"random_state\": seed,\n",
    "        \"cv_folds\": cv_folds,\n",
    "        \"class_weight\": \"balanced\",\n",
    "        \"n_jobs\": -1,\n",
    "        \"max_iter\": max_iter,\n",
    "        \"scaler_type\": scaler_type,\n",
    "        \"pca_level\": n_components,\n",
    "        \"beta\": beta,\n",
    "    },\n",
    "    \"l1_pca\": {\n",
    "        \"model\": \"lr_l1_pca\",\n",
    "        \"penalty\": \"l1\", \n",
    "        \"random_state\": seed,\n",
    "        \"cv_folds\": cv_folds,\n",
    "        \"solver\": \"liblinear\",\n",
    "        \"class_weight\": \"balanced\",\n",
    "        \"max_iter\": max_iter,\n",
    "        \"scaler_type\": scaler_type,\n",
    "        \"pca_level\": n_components, \n",
    "        \"beta\": beta,\n",
    "        \"c_min\": 1e-2,\n",
    "        \"c_max\": 1,\n",
    "        \"n_trials\": n_trials,\n",
    "    },\n",
    "    \"l2_pca\": {\n",
    "        \"model\": \"lr_l2_pca\",\n",
    "        \"penalty\": \"l2\", \n",
    "        \"random_state\": seed,\n",
    "        \"cv_folds\": cv_folds,\n",
    "        \"solver\": \"liblinear\",\n",
    "        \"class_weight\": \"balanced\",\n",
    "        \"max_iter\": max_iter,\n",
    "        \"scaler_type\": scaler_type,\n",
    "        \"pca_level\": n_components,\n",
    "        \"beta\": beta,\n",
    "        \"c_min\": 1e-2,\n",
    "        \"c_max\": 1,\n",
    "        \"n_trials\": n_trials,\n",
    "    }\n",
    "\n",
    "}"
   ]
  },
  {
   "cell_type": "code",
   "execution_count": 64,
   "id": "a7920091",
   "metadata": {},
   "outputs": [
    {
     "name": "stderr",
     "output_type": "stream",
     "text": [
      "[I 2025-10-03 12:47:23,553] A new study created in RDB with name: lr_l1_TARGET_5Yrs\n"
     ]
    },
    {
     "name": "stdout",
     "output_type": "stream",
     "text": [
      "Deleted existing study: lr_l1_TARGET_5Yrs\n",
      "Optimizing lr_l1_TARGET_5Yrs...\n"
     ]
    },
    {
     "name": "stderr",
     "output_type": "stream",
     "text": [
      "[I 2025-10-03 12:47:24,083] Trial 5 finished with value: 0.7709378897648195 and parameters: {'C': 0.23230315797210782}. Best is trial 5 with value: 0.7709378897648195.\n",
      "[I 2025-10-03 12:47:24,111] Trial 3 finished with value: 0.7703038984035535 and parameters: {'C': 0.5839629328584863}. Best is trial 5 with value: 0.7709378897648195.\n",
      "[I 2025-10-03 12:47:24,156] Trial 4 finished with value: 0.7709300713548545 and parameters: {'C': 0.1983067955827161}. Best is trial 5 with value: 0.7709378897648195.\n",
      "[I 2025-10-03 12:47:24,194] Trial 9 finished with value: 0.7703038984035535 and parameters: {'C': 0.48252877861526766}. Best is trial 5 with value: 0.7709378897648195.\n",
      "[I 2025-10-03 12:47:24,444] Trial 2 finished with value: 0.7657963861153664 and parameters: {'C': 0.10244881998323918}. Best is trial 5 with value: 0.7709378897648195.\n",
      "[I 2025-10-03 12:47:24,488] Trial 1 finished with value: 0.7729934469467612 and parameters: {'C': 0.3107259996287767}. Best is trial 1 with value: 0.7729934469467612.\n",
      "[I 2025-10-03 12:47:24,493] Trial 19 finished with value: 0.7642016334768116 and parameters: {'C': 0.12423998848891617}. Best is trial 1 with value: 0.7729934469467612.\n",
      "[I 2025-10-03 12:47:24,504] Trial 10 finished with value: 0.765655743646446 and parameters: {'C': 0.7031097466876827}. Best is trial 1 with value: 0.7729934469467612.\n",
      "[I 2025-10-03 12:47:24,531] Trial 18 finished with value: 0.7709300713548545 and parameters: {'C': 0.1848496644795247}. Best is trial 1 with value: 0.7729934469467612.\n",
      "[I 2025-10-03 12:47:24,540] Trial 14 finished with value: 0.7716884118671515 and parameters: {'C': 0.3174163450258188}. Best is trial 1 with value: 0.7729934469467612.\n",
      "[I 2025-10-03 12:47:24,580] Trial 13 finished with value: 0.7645075314593952 and parameters: {'C': 0.9071699004587098}. Best is trial 1 with value: 0.7729934469467612.\n",
      "[I 2025-10-03 12:47:24,590] Trial 0 finished with value: 0.7705260499987874 and parameters: {'C': 0.6615456700095473}. Best is trial 1 with value: 0.7729934469467612.\n",
      "[I 2025-10-03 12:47:24,622] Trial 16 finished with value: 0.7656078725651381 and parameters: {'C': 0.8286909983757907}. Best is trial 1 with value: 0.7729934469467612.\n",
      "[I 2025-10-03 12:47:24,656] Trial 11 finished with value: 0.7685308487581635 and parameters: {'C': 0.6828216971743749}. Best is trial 1 with value: 0.7729934469467612.\n",
      "[I 2025-10-03 12:47:24,673] Trial 12 finished with value: 0.7677300971499239 and parameters: {'C': 0.1466959973478119}. Best is trial 1 with value: 0.7729934469467612.\n",
      "[I 2025-10-03 12:47:24,682] Trial 8 finished with value: 0.7648802530483916 and parameters: {'C': 0.9702465814382579}. Best is trial 1 with value: 0.7729934469467612.\n",
      "[I 2025-10-03 12:47:24,685] Trial 7 finished with value: 0.7709300713548545 and parameters: {'C': 0.19560494694821295}. Best is trial 1 with value: 0.7729934469467612.\n",
      "[I 2025-10-03 12:47:24,732] Trial 6 finished with value: 0.7739085016891283 and parameters: {'C': 0.40641499163254835}. Best is trial 6 with value: 0.7739085016891283.\n",
      "[I 2025-10-03 12:47:24,812] Trial 21 finished with value: 0.7656078725651381 and parameters: {'C': 0.7903774741291364}. Best is trial 6 with value: 0.7739085016891283.\n",
      "[I 2025-10-03 12:47:24,875] Trial 15 finished with value: 0.7656078725651381 and parameters: {'C': 0.8136381027590885}. Best is trial 6 with value: 0.7739085016891283.\n",
      "[I 2025-10-03 12:47:24,898] Trial 20 finished with value: 0.7727342801321764 and parameters: {'C': 0.3421584150926774}. Best is trial 6 with value: 0.7739085016891283.\n",
      "[I 2025-10-03 12:47:24,940] Trial 27 finished with value: 0.7745586985530044 and parameters: {'C': 0.38605064284135354}. Best is trial 27 with value: 0.7745586985530044.\n",
      "[I 2025-10-03 12:47:24,944] Trial 23 finished with value: 0.7745586985530044 and parameters: {'C': 0.3721172527016481}. Best is trial 23 with value: 0.7745586985530044.\n",
      "[I 2025-10-03 12:47:25,096] Trial 22 finished with value: 0.7645075314593952 and parameters: {'C': 0.8657500645543131}. Best is trial 23 with value: 0.7745586985530044.\n",
      "[I 2025-10-03 12:47:25,100] Trial 25 finished with value: 0.7745586985530044 and parameters: {'C': 0.36824348030691995}. Best is trial 23 with value: 0.7745586985530044.\n",
      "[I 2025-10-03 12:47:25,104] Trial 26 finished with value: 0.7739085016891283 and parameters: {'C': 0.3571889241172908}. Best is trial 23 with value: 0.7745586985530044.\n",
      "[I 2025-10-03 12:47:25,113] Trial 24 finished with value: 0.7727342801321764 and parameters: {'C': 0.34564773129970994}. Best is trial 23 with value: 0.7745586985530044.\n",
      "[I 2025-10-03 12:47:25,160] Trial 29 finished with value: 0.7716239359254723 and parameters: {'C': 0.42860414158007304}. Best is trial 23 with value: 0.7745586985530044.\n",
      "[I 2025-10-03 12:47:25,222] Trial 32 finished with value: 0.7745586985530044 and parameters: {'C': 0.385734850109584}. Best is trial 23 with value: 0.7745586985530044.\n",
      "[I 2025-10-03 12:47:25,266] Trial 33 finished with value: 0.7716239359254723 and parameters: {'C': 0.467842387119122}. Best is trial 23 with value: 0.7745586985530044.\n",
      "[I 2025-10-03 12:47:25,349] Trial 34 finished with value: 0.7716239359254723 and parameters: {'C': 0.4408783841514247}. Best is trial 23 with value: 0.7745586985530044.\n",
      "[I 2025-10-03 12:47:25,352] Trial 30 finished with value: 0.7722429248444291 and parameters: {'C': 0.26346729158871723}. Best is trial 23 with value: 0.7745586985530044.\n",
      "[I 2025-10-03 12:47:25,386] Trial 28 finished with value: 0.7722429248444291 and parameters: {'C': 0.2636437066559037}. Best is trial 23 with value: 0.7745586985530044.\n",
      "[I 2025-10-03 12:47:25,437] Trial 17 finished with value: 0.7727342801321764 and parameters: {'C': 0.41650575451676597}. Best is trial 23 with value: 0.7745586985530044.\n",
      "[I 2025-10-03 12:47:25,469] Trial 40 finished with value: 0.7703038984035535 and parameters: {'C': 0.5326318730059366}. Best is trial 23 with value: 0.7745586985530044.\n",
      "[I 2025-10-03 12:47:25,574] Trial 43 finished with value: 0.7722429248444291 and parameters: {'C': 0.2619319951406869}. Best is trial 23 with value: 0.7745586985530044.\n",
      "[I 2025-10-03 12:47:25,580] Trial 37 finished with value: 0.7722429248444291 and parameters: {'C': 0.2777634800685745}. Best is trial 23 with value: 0.7745586985530044.\n",
      "[I 2025-10-03 12:47:25,680] Trial 39 finished with value: 0.7722429248444291 and parameters: {'C': 0.27000004602914296}. Best is trial 23 with value: 0.7745586985530044.\n",
      "[I 2025-10-03 12:47:25,683] Trial 36 finished with value: 0.7722429248444291 and parameters: {'C': 0.26541380679548576}. Best is trial 23 with value: 0.7745586985530044.\n",
      "[I 2025-10-03 12:47:25,691] Trial 42 finished with value: 0.7722429248444291 and parameters: {'C': 0.26252094900093526}. Best is trial 23 with value: 0.7745586985530044.\n",
      "[I 2025-10-03 12:47:25,696] Trial 31 finished with value: 0.7703038984035535 and parameters: {'C': 0.5574574308904521}. Best is trial 23 with value: 0.7745586985530044.\n",
      "[I 2025-10-03 12:47:25,705] Trial 35 finished with value: 0.7703038984035535 and parameters: {'C': 0.5358809650067824}. Best is trial 23 with value: 0.7745586985530044.\n",
      "[I 2025-10-03 12:47:25,707] Trial 41 finished with value: 0.7703038984035535 and parameters: {'C': 0.526830410419368}. Best is trial 23 with value: 0.7745586985530044.\n",
      "[I 2025-10-03 12:47:25,787] Trial 46 finished with value: 0.7703038984035535 and parameters: {'C': 0.5221404011404736}. Best is trial 23 with value: 0.7745586985530044.\n",
      "[I 2025-10-03 12:47:25,807] Trial 45 finished with value: 0.7703038984035535 and parameters: {'C': 0.5616641546431478}. Best is trial 23 with value: 0.7745586985530044.\n",
      "[I 2025-10-03 12:47:25,855] Trial 50 finished with value: 0.7745586985530044 and parameters: {'C': 0.3852441976371571}. Best is trial 23 with value: 0.7745586985530044.\n",
      "[I 2025-10-03 12:47:25,909] Trial 52 finished with value: 0.7745586985530044 and parameters: {'C': 0.3788324306955832}. Best is trial 23 with value: 0.7745586985530044.\n",
      "[I 2025-10-03 12:47:25,944] Trial 53 finished with value: 0.7745586985530044 and parameters: {'C': 0.3979283909952019}. Best is trial 23 with value: 0.7745586985530044.\n",
      "[I 2025-10-03 12:47:25,958] Trial 38 finished with value: 0.7703038984035535 and parameters: {'C': 0.5841425637976663}. Best is trial 23 with value: 0.7745586985530044.\n",
      "[I 2025-10-03 12:47:26,058] Trial 48 finished with value: 0.7727342801321764 and parameters: {'C': 0.40750596357876984}. Best is trial 23 with value: 0.7745586985530044.\n",
      "[I 2025-10-03 12:47:26,263] Trial 54 finished with value: 0.7745586985530044 and parameters: {'C': 0.3847591134330613}. Best is trial 23 with value: 0.7745586985530044.\n",
      "[I 2025-10-03 12:47:26,270] Trial 51 finished with value: 0.7745586985530044 and parameters: {'C': 0.3742057359468229}. Best is trial 23 with value: 0.7745586985530044.\n",
      "[I 2025-10-03 12:47:26,342] Trial 63 finished with value: 0.7716884118671515 and parameters: {'C': 0.31805548798746486}. Best is trial 23 with value: 0.7745586985530044.\n",
      "[I 2025-10-03 12:47:26,357] Trial 59 finished with value: 0.7729934469467612 and parameters: {'C': 0.3052627632143901}. Best is trial 23 with value: 0.7745586985530044.\n",
      "[I 2025-10-03 12:47:26,391] Trial 60 finished with value: 0.7729934469467612 and parameters: {'C': 0.30461659518061146}. Best is trial 23 with value: 0.7745586985530044.\n",
      "[I 2025-10-03 12:47:26,396] Trial 49 finished with value: 0.7729934469467612 and parameters: {'C': 0.30941443086807086}. Best is trial 23 with value: 0.7745586985530044.\n",
      "[I 2025-10-03 12:47:26,469] Trial 56 finished with value: 0.7729934469467612 and parameters: {'C': 0.29758189231140714}. Best is trial 23 with value: 0.7745586985530044.\n",
      "[I 2025-10-03 12:47:26,470] Trial 47 finished with value: 0.7711837890196804 and parameters: {'C': 0.6195888316803182}. Best is trial 23 with value: 0.7745586985530044.\n",
      "[I 2025-10-03 12:47:26,518] Trial 57 finished with value: 0.7729934469467612 and parameters: {'C': 0.2970348717689248}. Best is trial 23 with value: 0.7745586985530044.\n",
      "[I 2025-10-03 12:47:26,550] Trial 62 finished with value: 0.7729934469467612 and parameters: {'C': 0.3092424445337617}. Best is trial 23 with value: 0.7745586985530044.\n",
      "[I 2025-10-03 12:47:26,579] Trial 58 finished with value: 0.7729934469467612 and parameters: {'C': 0.30678921901921}. Best is trial 23 with value: 0.7745586985530044.\n",
      "[I 2025-10-03 12:47:26,636] Trial 44 finished with value: 0.7729934469467612 and parameters: {'C': 0.30406322208667835}. Best is trial 23 with value: 0.7745586985530044.\n",
      "[I 2025-10-03 12:47:26,652] Trial 65 finished with value: 0.7709378897648195 and parameters: {'C': 0.2214504889111069}. Best is trial 23 with value: 0.7745586985530044.\n",
      "[I 2025-10-03 12:47:26,660] Trial 61 finished with value: 0.7729934469467612 and parameters: {'C': 0.2984664268579884}. Best is trial 23 with value: 0.7745586985530044.\n",
      "[I 2025-10-03 12:47:26,724] Trial 64 finished with value: 0.7729934469467612 and parameters: {'C': 0.31084233465184696}. Best is trial 23 with value: 0.7745586985530044.\n",
      "[I 2025-10-03 12:47:26,747] Trial 66 finished with value: 0.7709378897648195 and parameters: {'C': 0.2180671071248336}. Best is trial 23 with value: 0.7745586985530044.\n",
      "[I 2025-10-03 12:47:26,758] Trial 68 finished with value: 0.7716239359254723 and parameters: {'C': 0.45730523029958137}. Best is trial 23 with value: 0.7745586985530044.\n",
      "[I 2025-10-03 12:47:26,789] Trial 69 finished with value: 0.7716239359254723 and parameters: {'C': 0.47436434520315424}. Best is trial 23 with value: 0.7745586985530044.\n",
      "[I 2025-10-03 12:47:26,817] Trial 71 finished with value: 0.7745586985530044 and parameters: {'C': 0.36319269947911303}. Best is trial 23 with value: 0.7745586985530044.\n",
      "[I 2025-10-03 12:47:26,990] Trial 70 finished with value: 0.7745586985530044 and parameters: {'C': 0.3677390111050206}. Best is trial 23 with value: 0.7745586985530044.\n",
      "[I 2025-10-03 12:47:27,040] Trial 75 finished with value: 0.7745586985530044 and parameters: {'C': 0.36670869482669594}. Best is trial 23 with value: 0.7745586985530044.\n",
      "[I 2025-10-03 12:47:27,110] Trial 72 finished with value: 0.7739085016891283 and parameters: {'C': 0.3593768118017947}. Best is trial 23 with value: 0.7745586985530044.\n",
      "[I 2025-10-03 12:47:27,143] Trial 55 finished with value: 0.7745586985530044 and parameters: {'C': 0.38001184398695825}. Best is trial 23 with value: 0.7745586985530044.\n",
      "[I 2025-10-03 12:47:27,145] Trial 79 finished with value: 0.7745586985530044 and parameters: {'C': 0.3734566029489817}. Best is trial 23 with value: 0.7745586985530044.\n",
      "[I 2025-10-03 12:47:27,173] Trial 78 finished with value: 0.7745586985530044 and parameters: {'C': 0.37457462877200687}. Best is trial 23 with value: 0.7745586985530044.\n",
      "[I 2025-10-03 12:47:27,177] Trial 67 finished with value: 0.7745586985530044 and parameters: {'C': 0.36546792186775595}. Best is trial 23 with value: 0.7745586985530044.\n",
      "[I 2025-10-03 12:47:27,271] Trial 81 finished with value: 0.7745586985530044 and parameters: {'C': 0.38319762711362526}. Best is trial 23 with value: 0.7745586985530044.\n",
      "[I 2025-10-03 12:47:27,324] Trial 80 finished with value: 0.7745586985530044 and parameters: {'C': 0.36812993267037114}. Best is trial 23 with value: 0.7745586985530044.\n",
      "[I 2025-10-03 12:47:27,329] Trial 73 finished with value: 0.7745586985530044 and parameters: {'C': 0.3743195340906868}. Best is trial 23 with value: 0.7745586985530044.\n",
      "[I 2025-10-03 12:47:27,339] Trial 76 finished with value: 0.7727342801321764 and parameters: {'C': 0.3425355606532164}. Best is trial 23 with value: 0.7745586985530044.\n",
      "[I 2025-10-03 12:47:27,354] Trial 74 finished with value: 0.7739085016891283 and parameters: {'C': 0.4013381002130781}. Best is trial 23 with value: 0.7745586985530044.\n",
      "[I 2025-10-03 12:47:27,355] Trial 77 finished with value: 0.7745586985530044 and parameters: {'C': 0.3734730721293787}. Best is trial 23 with value: 0.7745586985530044.\n",
      "[I 2025-10-03 12:47:27,378] Trial 83 finished with value: 0.7727342801321764 and parameters: {'C': 0.33590089242537774}. Best is trial 23 with value: 0.7745586985530044.\n",
      "[I 2025-10-03 12:47:27,465] Trial 85 finished with value: 0.7727342801321764 and parameters: {'C': 0.3352770530730352}. Best is trial 23 with value: 0.7745586985530044.\n",
      "[I 2025-10-03 12:47:27,537] Trial 87 finished with value: 0.7739085016891283 and parameters: {'C': 0.4037174585610403}. Best is trial 23 with value: 0.7745586985530044.\n",
      "[I 2025-10-03 12:47:27,567] Trial 90 finished with value: 0.7727342801321764 and parameters: {'C': 0.33528186280115296}. Best is trial 23 with value: 0.7745586985530044.\n",
      "[I 2025-10-03 12:47:27,645] Trial 96 finished with value: 0.7716239359254723 and parameters: {'C': 0.43825384093816827}. Best is trial 23 with value: 0.7745586985530044.\n",
      "[I 2025-10-03 12:47:27,719] Trial 88 finished with value: 0.7727342801321764 and parameters: {'C': 0.33264154936953844}. Best is trial 23 with value: 0.7745586985530044.\n",
      "[I 2025-10-03 12:47:27,802] Trial 93 finished with value: 0.7716239359254723 and parameters: {'C': 0.433323198834471}. Best is trial 23 with value: 0.7745586985530044.\n",
      "[I 2025-10-03 12:47:27,869] Trial 82 finished with value: 0.7716239359254723 and parameters: {'C': 0.43045653560597014}. Best is trial 23 with value: 0.7745586985530044.\n",
      "[I 2025-10-03 12:47:27,883] Trial 91 finished with value: 0.7716239359254723 and parameters: {'C': 0.4309391898267269}. Best is trial 23 with value: 0.7745586985530044.\n",
      "[I 2025-10-03 12:47:27,916] Trial 97 finished with value: 0.7703038984035535 and parameters: {'C': 0.49195293683942126}. Best is trial 23 with value: 0.7745586985530044.\n",
      "[I 2025-10-03 12:47:27,918] Trial 99 finished with value: 0.7703038984035535 and parameters: {'C': 0.4965085564624526}. Best is trial 23 with value: 0.7745586985530044.\n",
      "[I 2025-10-03 12:47:27,928] Trial 92 finished with value: 0.7716239359254723 and parameters: {'C': 0.4325524327267692}. Best is trial 23 with value: 0.7745586985530044.\n",
      "[I 2025-10-03 12:47:27,929] Trial 94 finished with value: 0.7716239359254723 and parameters: {'C': 0.43486831124792547}. Best is trial 23 with value: 0.7745586985530044.\n",
      "[I 2025-10-03 12:47:27,970] Trial 98 finished with value: 0.7703038984035535 and parameters: {'C': 0.4865916441272771}. Best is trial 23 with value: 0.7745586985530044.\n",
      "[I 2025-10-03 12:47:27,981] Trial 89 finished with value: 0.7716239359254723 and parameters: {'C': 0.44127640514820016}. Best is trial 23 with value: 0.7745586985530044.\n",
      "[I 2025-10-03 12:47:27,984] Trial 100 finished with value: 0.7703038984035535 and parameters: {'C': 0.5046088128217625}. Best is trial 23 with value: 0.7745586985530044.\n",
      "[I 2025-10-03 12:47:28,019] Trial 95 finished with value: 0.7703038984035535 and parameters: {'C': 0.4883561220292865}. Best is trial 23 with value: 0.7745586985530044.\n",
      "[I 2025-10-03 12:47:28,031] Trial 104 finished with value: 0.7703038984035535 and parameters: {'C': 0.5001851902765564}. Best is trial 23 with value: 0.7745586985530044.\n",
      "[I 2025-10-03 12:47:28,159] Trial 106 finished with value: 0.7739085016891283 and parameters: {'C': 0.4009382129476486}. Best is trial 23 with value: 0.7745586985530044.\n",
      "[I 2025-10-03 12:47:28,183] Trial 101 finished with value: 0.7716239359254723 and parameters: {'C': 0.43248498813038466}. Best is trial 23 with value: 0.7745586985530044.\n",
      "[I 2025-10-03 12:47:28,213] Trial 103 finished with value: 0.7729934469467612 and parameters: {'C': 0.2827769195223775}. Best is trial 23 with value: 0.7745586985530044.\n",
      "[I 2025-10-03 12:47:28,255] Trial 102 finished with value: 0.7739085016891283 and parameters: {'C': 0.39692555629519094}. Best is trial 23 with value: 0.7745586985530044.\n",
      "[I 2025-10-03 12:47:28,313] Trial 86 finished with value: 0.7703038984035535 and parameters: {'C': 0.4983570468768939}. Best is trial 23 with value: 0.7745586985530044.\n",
      "[I 2025-10-03 12:47:28,331] Trial 84 finished with value: 0.7745586985530044 and parameters: {'C': 0.3949281792129429}. Best is trial 23 with value: 0.7745586985530044.\n",
      "[I 2025-10-03 12:47:28,349] Trial 107 finished with value: 0.7745586985530044 and parameters: {'C': 0.392072182192923}. Best is trial 23 with value: 0.7745586985530044.\n",
      "[I 2025-10-03 12:47:28,416] Trial 109 finished with value: 0.7745586985530044 and parameters: {'C': 0.3954106955949184}. Best is trial 23 with value: 0.7745586985530044.\n",
      "[I 2025-10-03 12:47:28,418] Trial 111 finished with value: 0.7745586985530044 and parameters: {'C': 0.393666017557761}. Best is trial 23 with value: 0.7745586985530044.\n",
      "[I 2025-10-03 12:47:28,428] Trial 112 finished with value: 0.7739085016891283 and parameters: {'C': 0.4010357060242417}. Best is trial 23 with value: 0.7745586985530044.\n",
      "[I 2025-10-03 12:47:28,633] Trial 116 finished with value: 0.7739085016891283 and parameters: {'C': 0.3996477299302366}. Best is trial 23 with value: 0.7745586985530044.\n",
      "[I 2025-10-03 12:47:28,633] Trial 115 finished with value: 0.7739085016891283 and parameters: {'C': 0.35369561544903344}. Best is trial 23 with value: 0.7745586985530044.\n",
      "[I 2025-10-03 12:47:28,635] Trial 117 finished with value: 0.7727342801321764 and parameters: {'C': 0.3255825370592484}. Best is trial 23 with value: 0.7745586985530044.\n",
      "[I 2025-10-03 12:47:28,657] Trial 113 finished with value: 0.7739085016891283 and parameters: {'C': 0.3522852597803286}. Best is trial 23 with value: 0.7745586985530044.\n",
      "[I 2025-10-03 12:47:28,697] Trial 105 finished with value: 0.7716239359254723 and parameters: {'C': 0.45727382848672277}. Best is trial 23 with value: 0.7745586985530044.\n",
      "[I 2025-10-03 12:47:28,813] Trial 120 finished with value: 0.7727342801321764 and parameters: {'C': 0.35168995531879915}. Best is trial 23 with value: 0.7745586985530044.\n",
      "[I 2025-10-03 12:47:28,816] Trial 119 finished with value: 0.7739085016891283 and parameters: {'C': 0.3528288439995533}. Best is trial 23 with value: 0.7745586985530044.\n",
      "[I 2025-10-03 12:47:28,816] Trial 114 finished with value: 0.7739085016891283 and parameters: {'C': 0.3529216304211656}. Best is trial 23 with value: 0.7745586985530044.\n",
      "[I 2025-10-03 12:47:28,860] Trial 122 finished with value: 0.7739085016891283 and parameters: {'C': 0.35233105610622}. Best is trial 23 with value: 0.7745586985530044.\n",
      "[I 2025-10-03 12:47:28,878] Trial 124 finished with value: 0.7727342801321764 and parameters: {'C': 0.41775873487413706}. Best is trial 23 with value: 0.7745586985530044.\n",
      "[I 2025-10-03 12:47:28,900] Trial 121 finished with value: 0.7727342801321764 and parameters: {'C': 0.3508995178881252}. Best is trial 23 with value: 0.7745586985530044.\n",
      "[I 2025-10-03 12:47:28,916] Trial 118 finished with value: 0.7727342801321764 and parameters: {'C': 0.34964909446075954}. Best is trial 23 with value: 0.7745586985530044.\n",
      "[I 2025-10-03 12:47:28,924] Trial 128 finished with value: 0.7739085016891283 and parameters: {'C': 0.353719611057305}. Best is trial 23 with value: 0.7745586985530044.\n",
      "[I 2025-10-03 12:47:28,991] Trial 125 finished with value: 0.7739085016891283 and parameters: {'C': 0.3542000052588938}. Best is trial 23 with value: 0.7745586985530044.\n",
      "[I 2025-10-03 12:47:29,100] Trial 123 finished with value: 0.7727342801321764 and parameters: {'C': 0.3507474758702662}. Best is trial 23 with value: 0.7745586985530044.\n",
      "[I 2025-10-03 12:47:29,164] Trial 110 finished with value: 0.7716239359254723 and parameters: {'C': 0.4571677138468156}. Best is trial 23 with value: 0.7745586985530044.\n",
      "[I 2025-10-03 12:47:29,175] Trial 130 finished with value: 0.7745586985530044 and parameters: {'C': 0.3751860387834229}. Best is trial 23 with value: 0.7745586985530044.\n",
      "[I 2025-10-03 12:47:29,195] Trial 132 finished with value: 0.7745586985530044 and parameters: {'C': 0.3785210350727457}. Best is trial 23 with value: 0.7745586985530044.\n",
      "[I 2025-10-03 12:47:29,199] Trial 131 finished with value: 0.7716239359254723 and parameters: {'C': 0.45919633053242276}. Best is trial 23 with value: 0.7745586985530044.\n",
      "[I 2025-10-03 12:47:29,257] Trial 134 finished with value: 0.7745586985530044 and parameters: {'C': 0.3777829806170693}. Best is trial 23 with value: 0.7745586985530044.\n",
      "[I 2025-10-03 12:47:29,263] Trial 129 finished with value: 0.7745586985530044 and parameters: {'C': 0.38100629642470374}. Best is trial 23 with value: 0.7745586985530044.\n",
      "[I 2025-10-03 12:47:29,268] Trial 108 finished with value: 0.7727342801321764 and parameters: {'C': 0.3219874116248264}. Best is trial 23 with value: 0.7745586985530044.\n",
      "[I 2025-10-03 12:47:29,295] Trial 135 finished with value: 0.7745586985530044 and parameters: {'C': 0.37801951092441766}. Best is trial 23 with value: 0.7745586985530044.\n",
      "[I 2025-10-03 12:47:29,317] Trial 127 finished with value: 0.7727342801321764 and parameters: {'C': 0.3232476301264651}. Best is trial 23 with value: 0.7745586985530044.\n",
      "[I 2025-10-03 12:47:29,351] Trial 136 finished with value: 0.7745586985530044 and parameters: {'C': 0.3777199440538405}. Best is trial 23 with value: 0.7745586985530044.\n",
      "[I 2025-10-03 12:47:29,405] Trial 138 finished with value: 0.7716884118671515 and parameters: {'C': 0.31998214589644686}. Best is trial 23 with value: 0.7745586985530044.\n",
      "[I 2025-10-03 12:47:29,524] Trial 133 finished with value: 0.7727342801321764 and parameters: {'C': 0.3232156943919567}. Best is trial 23 with value: 0.7745586985530044.\n",
      "[I 2025-10-03 12:47:29,551] Trial 137 finished with value: 0.7657963861153664 and parameters: {'C': 0.10135550738711292}. Best is trial 23 with value: 0.7745586985530044.\n",
      "[I 2025-10-03 12:47:29,567] Trial 126 finished with value: 0.7727342801321764 and parameters: {'C': 0.3214967620870618}. Best is trial 23 with value: 0.7745586985530044.\n",
      "[I 2025-10-03 12:47:29,616] Trial 144 finished with value: 0.7716239359254723 and parameters: {'C': 0.42411663889058476}. Best is trial 23 with value: 0.7745586985530044.\n",
      "[I 2025-10-03 12:47:29,617] Trial 140 finished with value: 0.7727342801321764 and parameters: {'C': 0.41572551418939435}. Best is trial 23 with value: 0.7745586985530044.\n",
      "[I 2025-10-03 12:47:29,647] Trial 139 finished with value: 0.7727342801321764 and parameters: {'C': 0.4164383804458618}. Best is trial 23 with value: 0.7745586985530044.\n",
      "[I 2025-10-03 12:47:29,715] Trial 146 finished with value: 0.7727342801321764 and parameters: {'C': 0.41801660982355565}. Best is trial 23 with value: 0.7745586985530044.\n",
      "[I 2025-10-03 12:47:29,720] Trial 145 finished with value: 0.7727342801321764 and parameters: {'C': 0.41688755499500474}. Best is trial 23 with value: 0.7745586985530044.\n",
      "[I 2025-10-03 12:47:29,932] Trial 143 finished with value: 0.7727342801321764 and parameters: {'C': 0.41459211616142494}. Best is trial 23 with value: 0.7745586985530044.\n",
      "[I 2025-10-03 12:47:29,941] Trial 141 finished with value: 0.7727342801321764 and parameters: {'C': 0.4111475841840144}. Best is trial 23 with value: 0.7745586985530044.\n",
      "[I 2025-10-03 12:47:29,972] Trial 142 finished with value: 0.7716239359254723 and parameters: {'C': 0.4184405548801492}. Best is trial 23 with value: 0.7745586985530044.\n",
      "[I 2025-10-03 12:47:30,023] Trial 149 finished with value: 0.7745586985530044 and parameters: {'C': 0.3668615373073556}. Best is trial 23 with value: 0.7745586985530044.\n",
      "[I 2025-10-03 12:47:30,070] Trial 148 finished with value: 0.7683978253594708 and parameters: {'C': 0.15723707156672112}. Best is trial 23 with value: 0.7745586985530044.\n",
      "[I 2025-10-03 12:47:30,092] Trial 156 finished with value: 0.7635313650659294 and parameters: {'C': 0.12259872106354647}. Best is trial 23 with value: 0.7745586985530044.\n",
      "[I 2025-10-03 12:47:30,094] Trial 158 finished with value: 0.7745586985530044 and parameters: {'C': 0.36519300569366736}. Best is trial 23 with value: 0.7745586985530044.\n",
      "[I 2025-10-03 12:47:30,116] Trial 154 finished with value: 0.7729934469467612 and parameters: {'C': 0.291367809248773}. Best is trial 23 with value: 0.7745586985530044.\n",
      "[I 2025-10-03 12:47:30,194] Trial 150 finished with value: 0.7677300971499239 and parameters: {'C': 0.15106015571938508}. Best is trial 23 with value: 0.7745586985530044.\n",
      "[I 2025-10-03 12:47:30,215] Trial 151 finished with value: 0.7729934469467612 and parameters: {'C': 0.288938700646876}. Best is trial 23 with value: 0.7745586985530044.\n",
      "[I 2025-10-03 12:47:30,233] Trial 152 finished with value: 0.7745586985530044 and parameters: {'C': 0.364594407873279}. Best is trial 23 with value: 0.7745586985530044.\n",
      "[I 2025-10-03 12:47:30,238] Trial 153 finished with value: 0.7729934469467612 and parameters: {'C': 0.2901402736790478}. Best is trial 23 with value: 0.7745586985530044.\n",
      "[I 2025-10-03 12:47:30,267] Trial 157 finished with value: 0.7745586985530044 and parameters: {'C': 0.3669386229155878}. Best is trial 23 with value: 0.7745586985530044.\n",
      "[I 2025-10-03 12:47:30,270] Trial 147 finished with value: 0.7745586985530044 and parameters: {'C': 0.3646291681442328}. Best is trial 23 with value: 0.7745586985530044.\n",
      "[I 2025-10-03 12:47:30,326] Trial 160 finished with value: 0.7745586985530044 and parameters: {'C': 0.38752031364608114}. Best is trial 23 with value: 0.7745586985530044.\n",
      "[I 2025-10-03 12:47:30,328] Trial 164 finished with value: 0.7729934469467612 and parameters: {'C': 0.285705400995456}. Best is trial 23 with value: 0.7745586985530044.\n",
      "[I 2025-10-03 12:47:30,399] Trial 155 finished with value: 0.7727342801321764 and parameters: {'C': 0.33979069753157803}. Best is trial 23 with value: 0.7745586985530044.\n",
      "[I 2025-10-03 12:47:30,417] Trial 161 finished with value: 0.7727342801321764 and parameters: {'C': 0.33859249583268475}. Best is trial 23 with value: 0.7745586985530044.\n",
      "[I 2025-10-03 12:47:30,543] Trial 167 finished with value: 0.7727342801321764 and parameters: {'C': 0.3330906775690238}. Best is trial 23 with value: 0.7745586985530044.\n",
      "[I 2025-10-03 12:47:30,567] Trial 163 finished with value: 0.7745586985530044 and parameters: {'C': 0.38785764388268673}. Best is trial 23 with value: 0.7745586985530044.\n",
      "[I 2025-10-03 12:47:30,576] Trial 159 finished with value: 0.7635313650659294 and parameters: {'C': 0.12185765072423635}. Best is trial 23 with value: 0.7745586985530044.\n",
      "[I 2025-10-03 12:47:30,611] Trial 162 finished with value: 0.7727342801321764 and parameters: {'C': 0.34075499660666786}. Best is trial 23 with value: 0.7745586985530044.\n",
      "[I 2025-10-03 12:47:30,613] Trial 170 finished with value: 0.7727342801321764 and parameters: {'C': 0.3350025349310385}. Best is trial 23 with value: 0.7745586985530044.\n",
      "[I 2025-10-03 12:47:30,628] Trial 169 finished with value: 0.7745586985530044 and parameters: {'C': 0.3862066668049816}. Best is trial 23 with value: 0.7745586985530044.\n",
      "[I 2025-10-03 12:47:30,707] Trial 165 finished with value: 0.7745586985530044 and parameters: {'C': 0.3909741372923474}. Best is trial 23 with value: 0.7745586985530044.\n",
      "[I 2025-10-03 12:47:30,791] Trial 172 finished with value: 0.7745586985530044 and parameters: {'C': 0.3861886522223637}. Best is trial 23 with value: 0.7745586985530044.\n",
      "[I 2025-10-03 12:47:30,823] Trial 171 finished with value: 0.7745586985530044 and parameters: {'C': 0.38556817396897103}. Best is trial 23 with value: 0.7745586985530044.\n",
      "[I 2025-10-03 12:47:30,841] Trial 166 finished with value: 0.7745586985530044 and parameters: {'C': 0.38723265097221027}. Best is trial 23 with value: 0.7745586985530044.\n",
      "[I 2025-10-03 12:47:30,865] Trial 178 finished with value: 0.7745586985530044 and parameters: {'C': 0.3742594964366393}. Best is trial 23 with value: 0.7745586985530044.\n",
      "[I 2025-10-03 12:47:30,908] Trial 175 finished with value: 0.7745586985530044 and parameters: {'C': 0.39042183592748464}. Best is trial 23 with value: 0.7745586985530044.\n",
      "[I 2025-10-03 12:47:30,911] Trial 174 finished with value: 0.7745586985530044 and parameters: {'C': 0.37112410611785296}. Best is trial 23 with value: 0.7745586985530044.\n",
      "[I 2025-10-03 12:47:30,954] Trial 176 finished with value: 0.7745586985530044 and parameters: {'C': 0.3716081246098898}. Best is trial 23 with value: 0.7745586985530044.\n",
      "[I 2025-10-03 12:47:30,956] Trial 181 finished with value: 0.7745586985530044 and parameters: {'C': 0.370781441523277}. Best is trial 23 with value: 0.7745586985530044.\n",
      "[I 2025-10-03 12:47:31,020] Trial 168 finished with value: 0.7745586985530044 and parameters: {'C': 0.3867534266820761}. Best is trial 23 with value: 0.7745586985530044.\n",
      "[I 2025-10-03 12:47:31,031] Trial 179 finished with value: 0.7716239359254723 and parameters: {'C': 0.4449559536301756}. Best is trial 23 with value: 0.7745586985530044.\n",
      "[I 2025-10-03 12:47:31,158] Trial 185 finished with value: 0.7716239359254723 and parameters: {'C': 0.4493624870572643}. Best is trial 23 with value: 0.7745586985530044.\n",
      "[I 2025-10-03 12:47:31,196] Trial 182 finished with value: 0.7716239359254723 and parameters: {'C': 0.4424972052928629}. Best is trial 23 with value: 0.7745586985530044.\n",
      "[I 2025-10-03 12:47:31,196] Trial 183 finished with value: 0.7716239359254723 and parameters: {'C': 0.4464043142561964}. Best is trial 23 with value: 0.7745586985530044.\n",
      "[I 2025-10-03 12:47:31,231] Trial 188 finished with value: 0.7745586985530044 and parameters: {'C': 0.36044371964310656}. Best is trial 23 with value: 0.7745586985530044.\n",
      "[I 2025-10-03 12:47:31,234] Trial 173 finished with value: 0.7739085016891283 and parameters: {'C': 0.4074802523506306}. Best is trial 23 with value: 0.7745586985530044.\n",
      "[I 2025-10-03 12:47:31,235] Trial 177 finished with value: 0.7739085016891283 and parameters: {'C': 0.40572341073072477}. Best is trial 23 with value: 0.7745586985530044.\n",
      "[I 2025-10-03 12:47:31,260] Trial 184 finished with value: 0.7716239359254723 and parameters: {'C': 0.44898839288924225}. Best is trial 23 with value: 0.7745586985530044.\n",
      "[I 2025-10-03 12:47:31,332] Trial 190 finished with value: 0.7739085016891283 and parameters: {'C': 0.399858678009918}. Best is trial 23 with value: 0.7745586985530044.\n",
      "[I 2025-10-03 12:47:31,553] Trial 197 finished with value: 0.7745586985530044 and parameters: {'C': 0.36237319809157986}. Best is trial 23 with value: 0.7745586985530044.\n",
      "[I 2025-10-03 12:47:31,555] Trial 189 finished with value: 0.7739085016891283 and parameters: {'C': 0.40597312621007636}. Best is trial 23 with value: 0.7745586985530044.\n",
      "[I 2025-10-03 12:47:31,555] Trial 186 finished with value: 0.7739085016891283 and parameters: {'C': 0.4037223657184379}. Best is trial 23 with value: 0.7745586985530044.\n",
      "[I 2025-10-03 12:47:31,557] Trial 192 finished with value: 0.7727342801321764 and parameters: {'C': 0.40815589223717147}. Best is trial 23 with value: 0.7745586985530044.\n",
      "[I 2025-10-03 12:47:31,570] Trial 187 finished with value: 0.7745586985530044 and parameters: {'C': 0.36582436822692666}. Best is trial 23 with value: 0.7745586985530044.\n",
      "[I 2025-10-03 12:47:31,580] Trial 198 finished with value: 0.7727342801321764 and parameters: {'C': 0.3417816482895453}. Best is trial 23 with value: 0.7745586985530044.\n",
      "[I 2025-10-03 12:47:31,581] Trial 195 finished with value: 0.7739085016891283 and parameters: {'C': 0.35768847395858183}. Best is trial 23 with value: 0.7745586985530044.\n",
      "[I 2025-10-03 12:47:31,596] Trial 180 finished with value: 0.7739085016891283 and parameters: {'C': 0.3588802111179407}. Best is trial 23 with value: 0.7745586985530044.\n",
      "[I 2025-10-03 12:47:31,613] Trial 193 finished with value: 0.7745586985530044 and parameters: {'C': 0.3686084723400593}. Best is trial 23 with value: 0.7745586985530044.\n",
      "[I 2025-10-03 12:47:31,634] Trial 191 finished with value: 0.7745586985530044 and parameters: {'C': 0.36150002037399803}. Best is trial 23 with value: 0.7745586985530044.\n",
      "[I 2025-10-03 12:47:31,654] Trial 199 finished with value: 0.7745586985530044 and parameters: {'C': 0.3658630858604159}. Best is trial 23 with value: 0.7745586985530044.\n",
      "[I 2025-10-03 12:47:31,675] Trial 194 finished with value: 0.7745586985530044 and parameters: {'C': 0.3610516752642582}. Best is trial 23 with value: 0.7745586985530044.\n",
      "[I 2025-10-03 12:47:31,679] Trial 196 finished with value: 0.7745586985530044 and parameters: {'C': 0.3622213007959994}. Best is trial 23 with value: 0.7745586985530044.\n"
     ]
    },
    {
     "name": "stdout",
     "output_type": "stream",
     "text": [
      "Best value for lr_l1_TARGET_5Yrs: 0.7745586985530044\n",
      "Verification score for lr_l1_TARGET_5Yrs: 0.7745586985530044 (should match best: 0.7745586985530044)\n"
     ]
    },
    {
     "name": "stderr",
     "output_type": "stream",
     "text": [
      "[I 2025-10-03 12:47:31,931] A new study created in RDB with name: lr_l2_TARGET_5Yrs\n"
     ]
    },
    {
     "name": "stdout",
     "output_type": "stream",
     "text": [
      "Deleted existing study: lr_l2_TARGET_5Yrs\n",
      "Optimizing lr_l2_TARGET_5Yrs...\n"
     ]
    },
    {
     "name": "stderr",
     "output_type": "stream",
     "text": [
      "[I 2025-10-03 12:47:32,343] Trial 1 finished with value: 0.7634908643002415 and parameters: {'C': 0.3598130340301906}. Best is trial 1 with value: 0.7634908643002415.\n",
      "[I 2025-10-03 12:47:32,400] Trial 4 finished with value: 0.7682618521565087 and parameters: {'C': 0.028616338966572674}. Best is trial 4 with value: 0.7682618521565087.\n",
      "[I 2025-10-03 12:47:32,437] Trial 7 finished with value: 0.76259191535705 and parameters: {'C': 0.017825527113339065}. Best is trial 4 with value: 0.7682618521565087.\n",
      "[I 2025-10-03 12:47:32,474] Trial 10 finished with value: 0.7734770018563072 and parameters: {'C': 0.08081080599855617}. Best is trial 10 with value: 0.7734770018563072.\n",
      "[I 2025-10-03 12:47:32,501] Trial 12 finished with value: 0.7680666711661545 and parameters: {'C': 0.20134552292014604}. Best is trial 10 with value: 0.7734770018563072.\n",
      "[I 2025-10-03 12:47:32,647] Trial 0 finished with value: 0.7630953739061864 and parameters: {'C': 0.43644431495830666}. Best is trial 10 with value: 0.7734770018563072.\n",
      "[I 2025-10-03 12:47:32,661] Trial 13 finished with value: 0.7630953739061864 and parameters: {'C': 0.44714804967455646}. Best is trial 10 with value: 0.7734770018563072.\n",
      "[I 2025-10-03 12:47:32,691] Trial 6 finished with value: 0.7648184967571104 and parameters: {'C': 0.23843853903615145}. Best is trial 10 with value: 0.7734770018563072.\n",
      "[I 2025-10-03 12:47:32,740] Trial 9 finished with value: 0.7641583838270215 and parameters: {'C': 0.25442310941282054}. Best is trial 10 with value: 0.7734770018563072.\n",
      "[I 2025-10-03 12:47:32,780] Trial 8 finished with value: 0.7651867792960119 and parameters: {'C': 0.020284496430030486}. Best is trial 10 with value: 0.7734770018563072.\n",
      "[I 2025-10-03 12:47:32,786] Trial 11 finished with value: 0.7616820504961728 and parameters: {'C': 0.7613806934834447}. Best is trial 10 with value: 0.7734770018563072.\n",
      "[I 2025-10-03 12:47:32,796] Trial 2 finished with value: 0.762387132132006 and parameters: {'C': 0.796045942113049}. Best is trial 10 with value: 0.7734770018563072.\n",
      "[I 2025-10-03 12:47:32,800] Trial 17 finished with value: 0.7676643689909135 and parameters: {'C': 0.21831051075369717}. Best is trial 10 with value: 0.7734770018563072.\n",
      "[I 2025-10-03 12:47:32,810] Trial 18 finished with value: 0.7616068565487915 and parameters: {'C': 0.5657186851784446}. Best is trial 10 with value: 0.7734770018563072.\n",
      "[I 2025-10-03 12:47:32,821] Trial 3 finished with value: 0.7648184967571104 and parameters: {'C': 0.23705970514455263}. Best is trial 10 with value: 0.7734770018563072.\n",
      "[I 2025-10-03 12:47:32,858] Trial 15 finished with value: 0.7701398412815706 and parameters: {'C': 0.13501665951762293}. Best is trial 10 with value: 0.7734770018563072.\n",
      "[I 2025-10-03 12:47:32,897] Trial 14 finished with value: 0.7645394774248451 and parameters: {'C': 0.018873893550570692}. Best is trial 5 with value: 0.77467740929557.\n",
      "[I 2025-10-03 12:47:32,898] Trial 5 finished with value: 0.77467740929557 and parameters: {'C': 0.0626799148306573}. Best is trial 5 with value: 0.77467740929557.\n",
      "[I 2025-10-03 12:47:32,986] Trial 19 finished with value: 0.7634751271944866 and parameters: {'C': 0.829117721400132}. Best is trial 5 with value: 0.77467740929557.\n",
      "[I 2025-10-03 12:47:32,997] Trial 21 finished with value: 0.7707995064716758 and parameters: {'C': 0.0366338018718037}. Best is trial 5 with value: 0.77467740929557.\n",
      "[I 2025-10-03 12:47:33,081] Trial 22 finished with value: 0.7734770018563072 and parameters: {'C': 0.07951682366166517}. Best is trial 5 with value: 0.77467740929557.\n",
      "[I 2025-10-03 12:47:33,081] Trial 16 finished with value: 0.77467740929557 and parameters: {'C': 0.062149183234361534}. Best is trial 5 with value: 0.77467740929557.\n",
      "[I 2025-10-03 12:47:33,119] Trial 20 finished with value: 0.7700451375066275 and parameters: {'C': 0.04519476967093496}. Best is trial 5 with value: 0.77467740929557.\n",
      "[I 2025-10-03 12:47:33,151] Trial 28 finished with value: 0.7700451375066275 and parameters: {'C': 0.04888113660676951}. Best is trial 5 with value: 0.77467740929557.\n",
      "[I 2025-10-03 12:47:33,263] Trial 24 finished with value: 0.7693923085812844 and parameters: {'C': 0.05109886014504765}. Best is trial 5 with value: 0.77467740929557.\n",
      "[I 2025-10-03 12:47:33,284] Trial 23 finished with value: 0.77467740929557 and parameters: {'C': 0.06301656053150509}. Best is trial 5 with value: 0.77467740929557.\n",
      "[I 2025-10-03 12:47:33,343] Trial 35 finished with value: 0.7734770018563072 and parameters: {'C': 0.07108555624018405}. Best is trial 5 with value: 0.77467740929557.\n",
      "[I 2025-10-03 12:47:33,390] Trial 25 finished with value: 0.77467740929557 and parameters: {'C': 0.06356180845643615}. Best is trial 5 with value: 0.77467740929557.\n",
      "[I 2025-10-03 12:47:33,408] Trial 36 finished with value: 0.7724102992586057 and parameters: {'C': 0.08185957988924243}. Best is trial 5 with value: 0.77467740929557.\n",
      "[I 2025-10-03 12:47:33,427] Trial 29 finished with value: 0.7734770018563072 and parameters: {'C': 0.0672520445016455}. Best is trial 5 with value: 0.77467740929557.\n",
      "[I 2025-10-03 12:47:33,428] Trial 30 finished with value: 0.77467740929557 and parameters: {'C': 0.06263399515998752}. Best is trial 5 with value: 0.77467740929557.\n",
      "[I 2025-10-03 12:47:33,542] Trial 39 finished with value: 0.7734770018563072 and parameters: {'C': 0.07214746190554923}. Best is trial 5 with value: 0.77467740929557.\n",
      "[I 2025-10-03 12:47:33,542] Trial 38 finished with value: 0.7734770018563072 and parameters: {'C': 0.07659301098871762}. Best is trial 5 with value: 0.77467740929557.\n",
      "[I 2025-10-03 12:47:33,756] Trial 45 finished with value: 0.7701398412815706 and parameters: {'C': 0.13005344335983257}. Best is trial 5 with value: 0.77467740929557.\n",
      "[I 2025-10-03 12:47:33,773] Trial 31 finished with value: 0.7701398412815706 and parameters: {'C': 0.1269009131411848}. Best is trial 5 with value: 0.77467740929557.\n",
      "[I 2025-10-03 12:47:33,786] Trial 34 finished with value: 0.7734960405726752 and parameters: {'C': 0.0822047994730861}. Best is trial 5 with value: 0.77467740929557.\n",
      "[I 2025-10-03 12:47:33,819] Trial 43 finished with value: 0.7631599710671618 and parameters: {'C': 0.010844981497528935}. Best is trial 5 with value: 0.77467740929557.\n",
      "[I 2025-10-03 12:47:33,819] Trial 32 finished with value: 0.7716457052931923 and parameters: {'C': 0.11989220817597221}. Best is trial 5 with value: 0.77467740929557.\n",
      "[I 2025-10-03 12:47:33,902] Trial 41 finished with value: 0.7716457052931923 and parameters: {'C': 0.12059894287165346}. Best is trial 5 with value: 0.77467740929557.\n",
      "[I 2025-10-03 12:47:33,909] Trial 42 finished with value: 0.7639627445574101 and parameters: {'C': 0.011586649015836533}. Best is trial 5 with value: 0.77467740929557.\n",
      "[I 2025-10-03 12:47:33,910] Trial 37 finished with value: 0.7705471149694889 and parameters: {'C': 0.11542277455720805}. Best is trial 5 with value: 0.77467740929557.\n",
      "[I 2025-10-03 12:47:33,918] Trial 33 finished with value: 0.7716457052931923 and parameters: {'C': 0.12172162493435004}. Best is trial 5 with value: 0.77467740929557.\n",
      "[I 2025-10-03 12:47:33,984] Trial 27 finished with value: 0.7701398412815706 and parameters: {'C': 0.13076926065844838}. Best is trial 5 with value: 0.77467740929557.\n",
      "[I 2025-10-03 12:47:33,989] Trial 40 finished with value: 0.7708972550255113 and parameters: {'C': 0.12521675918231318}. Best is trial 5 with value: 0.77467740929557.\n",
      "[I 2025-10-03 12:47:34,013] Trial 44 finished with value: 0.7716457052931923 and parameters: {'C': 0.12272970903303376}. Best is trial 5 with value: 0.77467740929557.\n",
      "[I 2025-10-03 12:47:34,053] Trial 48 finished with value: 0.7707995064716758 and parameters: {'C': 0.038664781150714894}. Best is trial 5 with value: 0.77467740929557.\n",
      "[I 2025-10-03 12:47:34,076] Trial 26 finished with value: 0.7661116569810483 and parameters: {'C': 0.012068869751971847}. Best is trial 5 with value: 0.77467740929557.\n",
      "[I 2025-10-03 12:47:34,118] Trial 47 finished with value: 0.7689145544942334 and parameters: {'C': 0.031576906763489294}. Best is trial 5 with value: 0.77467740929557.\n",
      "[I 2025-10-03 12:47:34,161] Trial 49 finished with value: 0.7682618521565087 and parameters: {'C': 0.03057738396996226}. Best is trial 5 with value: 0.77467740929557.\n",
      "[I 2025-10-03 12:47:34,171] Trial 54 finished with value: 0.7678043368751477 and parameters: {'C': 0.02638559763716036}. Best is trial 5 with value: 0.77467740929557.\n",
      "[I 2025-10-03 12:47:34,252] Trial 52 finished with value: 0.7682618521565087 and parameters: {'C': 0.030572702172668716}. Best is trial 5 with value: 0.77467740929557.\n",
      "[I 2025-10-03 12:47:34,294] Trial 53 finished with value: 0.7747103177332844 and parameters: {'C': 0.05820000896756805}. Best is trial 53 with value: 0.7747103177332844.\n",
      "[I 2025-10-03 12:47:34,385] Trial 57 finished with value: 0.7732469215051692 and parameters: {'C': 0.054624404924517075}. Best is trial 53 with value: 0.7747103177332844.\n",
      "[I 2025-10-03 12:47:34,388] Trial 46 finished with value: 0.770120942377799 and parameters: {'C': 0.03268586551198026}. Best is trial 53 with value: 0.7747103177332844.\n",
      "[I 2025-10-03 12:47:34,438] Trial 55 finished with value: 0.7678043368751477 and parameters: {'C': 0.02530301965424132}. Best is trial 53 with value: 0.7747103177332844.\n",
      "[I 2025-10-03 12:47:34,483] Trial 51 finished with value: 0.7682618521565087 and parameters: {'C': 0.029508467313939593}. Best is trial 53 with value: 0.7747103177332844.\n",
      "[I 2025-10-03 12:47:34,671] Trial 61 finished with value: 0.7739665736832367 and parameters: {'C': 0.0607638309645017}. Best is trial 53 with value: 0.7747103177332844.\n",
      "[I 2025-10-03 12:47:34,696] Trial 59 finished with value: 0.7747103177332844 and parameters: {'C': 0.058084949618978185}. Best is trial 53 with value: 0.7747103177332844.\n",
      "[I 2025-10-03 12:47:34,752] Trial 58 finished with value: 0.7739665736832367 and parameters: {'C': 0.057771171950858194}. Best is trial 50 with value: 0.7747103177332844.\n",
      "[I 2025-10-03 12:47:34,790] Trial 50 finished with value: 0.7747103177332844 and parameters: {'C': 0.05832509397190182}. Best is trial 50 with value: 0.7747103177332844.\n",
      "[I 2025-10-03 12:47:34,893] Trial 69 finished with value: 0.7726012566832592 and parameters: {'C': 0.054478457124429044}. Best is trial 50 with value: 0.7747103177332844.\n",
      "[I 2025-10-03 12:47:34,912] Trial 62 finished with value: 0.7740646529113744 and parameters: {'C': 0.05863825673197339}. Best is trial 50 with value: 0.7747103177332844.\n",
      "[I 2025-10-03 12:47:34,914] Trial 67 finished with value: 0.7705544096801263 and parameters: {'C': 0.0952447214991414}. Best is trial 50 with value: 0.7747103177332844.\n",
      "[I 2025-10-03 12:47:34,949] Trial 65 finished with value: 0.7666781990926366 and parameters: {'C': 0.17294162796767193}. Best is trial 50 with value: 0.7747103177332844.\n",
      "[I 2025-10-03 12:47:34,979] Trial 71 finished with value: 0.7680312933021982 and parameters: {'C': 0.1679881883820827}. Best is trial 50 with value: 0.7747103177332844.\n",
      "[I 2025-10-03 12:47:34,998] Trial 66 finished with value: 0.7747103177332844 and parameters: {'C': 0.058938651313356315}. Best is trial 50 with value: 0.7747103177332844.\n",
      "[I 2025-10-03 12:47:35,001] Trial 70 finished with value: 0.7732469215051692 and parameters: {'C': 0.05635746613377162}. Best is trial 50 with value: 0.7747103177332844.\n",
      "[I 2025-10-03 12:47:35,014] Trial 73 finished with value: 0.7705544096801263 and parameters: {'C': 0.09450162702611233}. Best is trial 50 with value: 0.7747103177332844.\n",
      "[I 2025-10-03 12:47:35,037] Trial 60 finished with value: 0.7700451375066275 and parameters: {'C': 0.04231954694348006}. Best is trial 50 with value: 0.7747103177332844.\n",
      "[I 2025-10-03 12:47:35,042] Trial 68 finished with value: 0.7698992845677853 and parameters: {'C': 0.09348758989374874}. Best is trial 50 with value: 0.7747103177332844.\n",
      "[I 2025-10-03 12:47:35,054] Trial 64 finished with value: 0.7747103177332844 and parameters: {'C': 0.05888138182089008}. Best is trial 50 with value: 0.7747103177332844.\n",
      "[I 2025-10-03 12:47:35,060] Trial 56 finished with value: 0.7680626215892474 and parameters: {'C': 0.1619720092883444}. Best is trial 50 with value: 0.7747103177332844.\n",
      "[I 2025-10-03 12:47:35,136] Trial 74 finished with value: 0.7705544096801263 and parameters: {'C': 0.09627578211610291}. Best is trial 50 with value: 0.7747103177332844.\n",
      "[I 2025-10-03 12:47:35,237] Trial 63 finished with value: 0.7732469215051692 and parameters: {'C': 0.0567463872143088}. Best is trial 50 with value: 0.7747103177332844.\n",
      "[I 2025-10-03 12:47:35,272] Trial 78 finished with value: 0.7700451375066275 and parameters: {'C': 0.04466634121892539}. Best is trial 50 with value: 0.7747103177332844.\n",
      "[I 2025-10-03 12:47:35,301] Trial 76 finished with value: 0.7700451375066275 and parameters: {'C': 0.04423123962713644}. Best is trial 50 with value: 0.7747103177332844.\n",
      "[I 2025-10-03 12:47:35,303] Trial 75 finished with value: 0.7700451375066275 and parameters: {'C': 0.04364945877167983}. Best is trial 50 with value: 0.7747103177332844.\n",
      "[I 2025-10-03 12:47:35,335] Trial 77 finished with value: 0.7700451375066275 and parameters: {'C': 0.045869982492302404}. Best is trial 50 with value: 0.7747103177332844.\n",
      "[I 2025-10-03 12:47:35,356] Trial 82 finished with value: 0.7700451375066275 and parameters: {'C': 0.04259659584917639}. Best is trial 50 with value: 0.7747103177332844.\n",
      "[I 2025-10-03 12:47:35,387] Trial 79 finished with value: 0.7700451375066275 and parameters: {'C': 0.046314274325677404}. Best is trial 50 with value: 0.7747103177332844.\n",
      "[I 2025-10-03 12:47:35,388] Trial 81 finished with value: 0.7700451375066275 and parameters: {'C': 0.04621196214327433}. Best is trial 50 with value: 0.7747103177332844.\n",
      "[I 2025-10-03 12:47:35,552] Trial 84 finished with value: 0.7707995064716758 and parameters: {'C': 0.037971862826686485}. Best is trial 50 with value: 0.7747103177332844.\n",
      "[I 2025-10-03 12:47:35,632] Trial 72 finished with value: 0.7666781990926366 and parameters: {'C': 0.175962851533252}. Best is trial 50 with value: 0.7747103177332844.\n",
      "[I 2025-10-03 12:47:35,729] Trial 88 finished with value: 0.7707995064716758 and parameters: {'C': 0.03693326186719401}. Best is trial 50 with value: 0.7747103177332844.\n",
      "[I 2025-10-03 12:47:35,734] Trial 92 finished with value: 0.7734770018563072 and parameters: {'C': 0.06832832163089371}. Best is trial 50 with value: 0.7747103177332844.\n",
      "[I 2025-10-03 12:47:35,752] Trial 80 finished with value: 0.7707995064716758 and parameters: {'C': 0.0369736084132519}. Best is trial 50 with value: 0.7747103177332844.\n",
      "[I 2025-10-03 12:47:35,784] Trial 85 finished with value: 0.7734770018563072 and parameters: {'C': 0.065767372726246}. Best is trial 50 with value: 0.7747103177332844.\n",
      "[I 2025-10-03 12:47:35,804] Trial 90 finished with value: 0.7734770018563072 and parameters: {'C': 0.06736348428806681}. Best is trial 50 with value: 0.7747103177332844.\n",
      "[I 2025-10-03 12:47:35,840] Trial 87 finished with value: 0.7734770018563072 and parameters: {'C': 0.06706667520830241}. Best is trial 50 with value: 0.7747103177332844.\n",
      "[I 2025-10-03 12:47:35,847] Trial 93 finished with value: 0.7734770018563072 and parameters: {'C': 0.06709293146796129}. Best is trial 50 with value: 0.7747103177332844.\n",
      "[I 2025-10-03 12:47:35,960] Trial 95 finished with value: 0.7734770018563072 and parameters: {'C': 0.06462235951320223}. Best is trial 50 with value: 0.7747103177332844.\n",
      "[I 2025-10-03 12:47:36,023] Trial 99 finished with value: 0.7734770018563072 and parameters: {'C': 0.06578030534563084}. Best is trial 50 with value: 0.7747103177332844.\n",
      "[I 2025-10-03 12:47:36,024] Trial 94 finished with value: 0.7734770018563072 and parameters: {'C': 0.06815021843605877}. Best is trial 50 with value: 0.7747103177332844.\n",
      "[I 2025-10-03 12:47:36,095] Trial 89 finished with value: 0.7734770018563072 and parameters: {'C': 0.07942002500923524}. Best is trial 50 with value: 0.7747103177332844.\n",
      "[I 2025-10-03 12:47:36,095] Trial 86 finished with value: 0.7734770018563072 and parameters: {'C': 0.06770782432219323}. Best is trial 50 with value: 0.7747103177332844.\n",
      "[I 2025-10-03 12:47:36,113] Trial 96 finished with value: 0.7734770018563072 and parameters: {'C': 0.06586888758931407}. Best is trial 50 with value: 0.7747103177332844.\n",
      "[I 2025-10-03 12:47:36,142] Trial 97 finished with value: 0.7734770018563072 and parameters: {'C': 0.06569455128762247}. Best is trial 50 with value: 0.7747103177332844.\n",
      "[I 2025-10-03 12:47:36,169] Trial 100 finished with value: 0.7705471149694889 and parameters: {'C': 0.10691384739092322}. Best is trial 50 with value: 0.7747103177332844.\n",
      "[I 2025-10-03 12:47:36,176] Trial 103 finished with value: 0.7716621864710157 and parameters: {'C': 0.08576586561456391}. Best is trial 50 with value: 0.7747103177332844.\n",
      "[I 2025-10-03 12:47:36,183] Trial 91 finished with value: 0.7734770018563072 and parameters: {'C': 0.0687973396089033}. Best is trial 50 with value: 0.7747103177332844.\n",
      "[I 2025-10-03 12:47:36,282] Trial 104 finished with value: 0.7700451375066275 and parameters: {'C': 0.050635027638073815}. Best is trial 50 with value: 0.7747103177332844.\n",
      "[I 2025-10-03 12:47:36,293] Trial 98 finished with value: 0.7716621864710157 and parameters: {'C': 0.0828466900819067}. Best is trial 50 with value: 0.7747103177332844.\n",
      "[I 2025-10-03 12:47:36,312] Trial 83 finished with value: 0.7734770018563072 and parameters: {'C': 0.0779661057839819}. Best is trial 50 with value: 0.7747103177332844.\n",
      "[I 2025-10-03 12:47:36,491] Trial 101 finished with value: 0.7693923085812844 and parameters: {'C': 0.05100801828781962}. Best is trial 50 with value: 0.7747103177332844.\n",
      "[I 2025-10-03 12:47:36,695] Trial 111 finished with value: 0.7693923085812844 and parameters: {'C': 0.051363458311701714}. Best is trial 50 with value: 0.7747103177332844.\n",
      "[I 2025-10-03 12:47:36,744] Trial 107 finished with value: 0.7747103177332844 and parameters: {'C': 0.05872247867366299}. Best is trial 50 with value: 0.7747103177332844.\n",
      "[I 2025-10-03 12:47:36,761] Trial 105 finished with value: 0.7700451375066275 and parameters: {'C': 0.04921637748839838}. Best is trial 50 with value: 0.7747103177332844.\n",
      "[I 2025-10-03 12:47:36,803] Trial 110 finished with value: 0.7693923085812844 and parameters: {'C': 0.05247105415635776}. Best is trial 50 with value: 0.7747103177332844.\n",
      "[I 2025-10-03 12:47:36,822] Trial 108 finished with value: 0.7693923085812844 and parameters: {'C': 0.052496992220149696}. Best is trial 50 with value: 0.7747103177332844.\n",
      "[I 2025-10-03 12:47:36,847] Trial 112 finished with value: 0.7700451375066275 and parameters: {'C': 0.05017257335465317}. Best is trial 50 with value: 0.7747103177332844.\n",
      "[I 2025-10-03 12:47:36,850] Trial 102 finished with value: 0.7734770018563072 and parameters: {'C': 0.08094439556564897}. Best is trial 50 with value: 0.7747103177332844.\n",
      "[I 2025-10-03 12:47:36,855] Trial 120 finished with value: 0.7747103177332844 and parameters: {'C': 0.059652576229869886}. Best is trial 50 with value: 0.7747103177332844.\n",
      "[I 2025-10-03 12:47:36,859] Trial 117 finished with value: 0.7740646529113744 and parameters: {'C': 0.05854717776498975}. Best is trial 50 with value: 0.7747103177332844.\n",
      "[I 2025-10-03 12:47:36,891] Trial 109 finished with value: 0.7740646529113744 and parameters: {'C': 0.05866722126048855}. Best is trial 50 with value: 0.7747103177332844.\n",
      "[I 2025-10-03 12:47:36,892] Trial 119 finished with value: 0.7693923085812844 and parameters: {'C': 0.05170243791348784}. Best is trial 50 with value: 0.7747103177332844.\n",
      "[I 2025-10-03 12:47:36,936] Trial 118 finished with value: 0.7747103177332844 and parameters: {'C': 0.06040681265015647}. Best is trial 50 with value: 0.7747103177332844.\n",
      "[I 2025-10-03 12:47:36,977] Trial 115 finished with value: 0.7747103177332844 and parameters: {'C': 0.059603194641990126}. Best is trial 50 with value: 0.7747103177332844.\n",
      "[I 2025-10-03 12:47:37,050] Trial 121 finished with value: 0.7739665736832367 and parameters: {'C': 0.0607678339499825}. Best is trial 50 with value: 0.7747103177332844.\n",
      "[I 2025-10-03 12:47:37,075] Trial 116 finished with value: 0.7705471149694889 and parameters: {'C': 0.10729985939897008}. Best is trial 50 with value: 0.7747103177332844.\n",
      "[I 2025-10-03 12:47:37,076] Trial 106 finished with value: 0.7747103177332844 and parameters: {'C': 0.058813704731229995}. Best is trial 50 with value: 0.7747103177332844.\n",
      "[I 2025-10-03 12:47:37,122] Trial 113 finished with value: 0.7747103177332844 and parameters: {'C': 0.059357627978291895}. Best is trial 50 with value: 0.7747103177332844.\n",
      "[I 2025-10-03 12:47:37,150] Trial 123 finished with value: 0.7734770018563072 and parameters: {'C': 0.07502814350293231}. Best is trial 50 with value: 0.7747103177332844.\n",
      "[I 2025-10-03 12:47:37,176] Trial 114 finished with value: 0.7747103177332844 and parameters: {'C': 0.05824661391184341}. Best is trial 50 with value: 0.7747103177332844.\n",
      "[I 2025-10-03 12:47:37,197] Trial 122 finished with value: 0.7739665736832367 and parameters: {'C': 0.06160019544510471}. Best is trial 50 with value: 0.7747103177332844.\n",
      "[I 2025-10-03 12:47:37,216] Trial 124 finished with value: 0.7634908643002415 and parameters: {'C': 0.2890743554334}. Best is trial 50 with value: 0.7747103177332844.\n",
      "[I 2025-10-03 12:47:37,238] Trial 128 finished with value: 0.7693923085812844 and parameters: {'C': 0.03392810261967557}. Best is trial 50 with value: 0.7747103177332844.\n",
      "[I 2025-10-03 12:47:37,339] Trial 126 finished with value: 0.7645608685085561 and parameters: {'C': 0.9379876134748487}. Best is trial 50 with value: 0.7747103177332844.\n",
      "[I 2025-10-03 12:47:37,374] Trial 129 finished with value: 0.7707995064716758 and parameters: {'C': 0.0399350277331465}. Best is trial 50 with value: 0.7747103177332844.\n",
      "[I 2025-10-03 12:47:37,443] Trial 125 finished with value: 0.7707995064716758 and parameters: {'C': 0.040590590008782276}. Best is trial 50 with value: 0.7747103177332844.\n",
      "[I 2025-10-03 12:47:37,590] Trial 135 finished with value: 0.7700451375066275 and parameters: {'C': 0.041430321262772324}. Best is trial 50 with value: 0.7747103177332844.\n",
      "[I 2025-10-03 12:47:37,598] Trial 136 finished with value: 0.7734770018563072 and parameters: {'C': 0.07390923262820859}. Best is trial 50 with value: 0.7747103177332844.\n",
      "[I 2025-10-03 12:47:37,616] Trial 130 finished with value: 0.7716621864710157 and parameters: {'C': 0.08726952956339329}. Best is trial 50 with value: 0.7747103177332844.\n",
      "[I 2025-10-03 12:47:37,701] Trial 132 finished with value: 0.7734770018563072 and parameters: {'C': 0.07341161220612466}. Best is trial 50 with value: 0.7747103177332844.\n",
      "[I 2025-10-03 12:47:37,772] Trial 134 finished with value: 0.7734770018563072 and parameters: {'C': 0.07427026566899976}. Best is trial 50 with value: 0.7747103177332844.\n",
      "[I 2025-10-03 12:47:37,842] Trial 140 finished with value: 0.7716621864710157 and parameters: {'C': 0.08922961727075289}. Best is trial 50 with value: 0.7747103177332844.\n",
      "[I 2025-10-03 12:47:37,848] Trial 127 finished with value: 0.7700451375066275 and parameters: {'C': 0.04114502942852467}. Best is trial 50 with value: 0.7747103177332844.\n",
      "[I 2025-10-03 12:47:37,882] Trial 133 finished with value: 0.7716621864710157 and parameters: {'C': 0.08585408947360433}. Best is trial 50 with value: 0.7747103177332844.\n",
      "[I 2025-10-03 12:47:37,892] Trial 147 finished with value: 0.7732469215051692 and parameters: {'C': 0.05644164541828856}. Best is trial 50 with value: 0.7747103177332844.\n",
      "[I 2025-10-03 12:47:37,892] Trial 146 finished with value: 0.7734770018563072 and parameters: {'C': 0.07461215310986921}. Best is trial 50 with value: 0.7747103177332844.\n",
      "[I 2025-10-03 12:47:37,937] Trial 143 finished with value: 0.7734770018563072 and parameters: {'C': 0.07531277863007577}. Best is trial 50 with value: 0.7747103177332844.\n",
      "[I 2025-10-03 12:47:37,951] Trial 144 finished with value: 0.7732469215051692 and parameters: {'C': 0.05633572088834485}. Best is trial 50 with value: 0.7747103177332844.\n",
      "[I 2025-10-03 12:47:37,984] Trial 141 finished with value: 0.7716621864710157 and parameters: {'C': 0.08798207841333042}. Best is trial 50 with value: 0.7747103177332844.\n",
      "[I 2025-10-03 12:47:37,985] Trial 145 finished with value: 0.7739665736832367 and parameters: {'C': 0.05745209727259475}. Best is trial 50 with value: 0.7747103177332844.\n",
      "[I 2025-10-03 12:47:38,085] Trial 137 finished with value: 0.7747103177332844 and parameters: {'C': 0.05952270899680705}. Best is trial 50 with value: 0.7747103177332844.\n",
      "[I 2025-10-03 12:47:38,085] Trial 138 finished with value: 0.7732469215051692 and parameters: {'C': 0.056629855055555234}. Best is trial 50 with value: 0.7747103177332844.\n",
      "[I 2025-10-03 12:47:38,095] Trial 149 finished with value: 0.7732469215051692 and parameters: {'C': 0.05711047070115614}. Best is trial 50 with value: 0.7747103177332844.\n",
      "[I 2025-10-03 12:47:38,124] Trial 148 finished with value: 0.7700451375066275 and parameters: {'C': 0.04780261445395489}. Best is trial 50 with value: 0.7747103177332844.\n",
      "[I 2025-10-03 12:47:38,128] Trial 142 finished with value: 0.7739665736832367 and parameters: {'C': 0.05729184752678548}. Best is trial 50 with value: 0.7747103177332844.\n",
      "[I 2025-10-03 12:47:38,142] Trial 150 finished with value: 0.7739665736832367 and parameters: {'C': 0.05761475615808315}. Best is trial 50 with value: 0.7747103177332844.\n",
      "[I 2025-10-03 12:47:38,161] Trial 131 finished with value: 0.7707995064716758 and parameters: {'C': 0.03926926281051337}. Best is trial 50 with value: 0.7747103177332844.\n",
      "[I 2025-10-03 12:47:38,187] Trial 153 finished with value: 0.7700451375066275 and parameters: {'C': 0.04853298141535815}. Best is trial 50 with value: 0.7747103177332844.\n",
      "[I 2025-10-03 12:47:38,434] Trial 139 finished with value: 0.7732469215051692 and parameters: {'C': 0.057064991139911383}. Best is trial 50 with value: 0.7747103177332844.\n",
      "[I 2025-10-03 12:47:38,446] Trial 159 finished with value: 0.7739665736832367 and parameters: {'C': 0.06089398590719548}. Best is trial 50 with value: 0.7747103177332844.\n",
      "[I 2025-10-03 12:47:38,479] Trial 151 finished with value: 0.7700451375066275 and parameters: {'C': 0.046458766815641234}. Best is trial 50 with value: 0.7747103177332844.\n",
      "[I 2025-10-03 12:47:38,481] Trial 154 finished with value: 0.7700451375066275 and parameters: {'C': 0.04706254638989355}. Best is trial 50 with value: 0.7747103177332844.\n",
      "[I 2025-10-03 12:47:38,543] Trial 157 finished with value: 0.77467740929557 and parameters: {'C': 0.06379359264681095}. Best is trial 50 with value: 0.7747103177332844.\n",
      "[I 2025-10-03 12:47:38,580] Trial 155 finished with value: 0.77467740929557 and parameters: {'C': 0.06243136705910462}. Best is trial 50 with value: 0.7747103177332844.\n",
      "[I 2025-10-03 12:47:38,589] Trial 158 finished with value: 0.77467740929557 and parameters: {'C': 0.06318624101401257}. Best is trial 50 with value: 0.7747103177332844.\n",
      "[I 2025-10-03 12:47:38,617] Trial 164 finished with value: 0.77467740929557 and parameters: {'C': 0.06353800944483118}. Best is trial 50 with value: 0.7747103177332844.\n",
      "[I 2025-10-03 12:47:38,647] Trial 156 finished with value: 0.77467740929557 and parameters: {'C': 0.06283109946848893}. Best is trial 50 with value: 0.7747103177332844.\n",
      "[I 2025-10-03 12:47:38,666] Trial 162 finished with value: 0.77467740929557 and parameters: {'C': 0.06383766481559432}. Best is trial 50 with value: 0.7747103177332844.\n",
      "[I 2025-10-03 12:47:38,731] Trial 163 finished with value: 0.7739665736832367 and parameters: {'C': 0.061341742499199846}. Best is trial 50 with value: 0.7747103177332844.\n",
      "[I 2025-10-03 12:47:38,753] Trial 166 finished with value: 0.77467740929557 and parameters: {'C': 0.062245870072696635}. Best is trial 50 with value: 0.7747103177332844.\n",
      "[I 2025-10-03 12:47:38,754] Trial 170 finished with value: 0.77467740929557 and parameters: {'C': 0.06309125282289606}. Best is trial 50 with value: 0.7747103177332844.\n",
      "[I 2025-10-03 12:47:38,808] Trial 165 finished with value: 0.7739665736832367 and parameters: {'C': 0.06103557970879068}. Best is trial 50 with value: 0.7747103177332844.\n",
      "[I 2025-10-03 12:47:38,823] Trial 160 finished with value: 0.77467740929557 and parameters: {'C': 0.0634313918820603}. Best is trial 50 with value: 0.7747103177332844.\n",
      "[I 2025-10-03 12:47:38,828] Trial 169 finished with value: 0.7700451375066275 and parameters: {'C': 0.05047008725295882}. Best is trial 50 with value: 0.7747103177332844.\n",
      "[I 2025-10-03 12:47:38,916] Trial 168 finished with value: 0.7701466775463326 and parameters: {'C': 0.05323919002323279}. Best is trial 50 with value: 0.7747103177332844.\n",
      "[I 2025-10-03 12:47:38,945] Trial 173 finished with value: 0.7693923085812844 and parameters: {'C': 0.052497513302304726}. Best is trial 50 with value: 0.7747103177332844.\n",
      "[I 2025-10-03 12:47:38,966] Trial 152 finished with value: 0.7693923085812844 and parameters: {'C': 0.05206372667053672}. Best is trial 50 with value: 0.7747103177332844.\n",
      "[I 2025-10-03 12:47:38,967] Trial 171 finished with value: 0.7693923085812844 and parameters: {'C': 0.052328206450186425}. Best is trial 50 with value: 0.7747103177332844.\n",
      "[I 2025-10-03 12:47:39,039] Trial 178 finished with value: 0.7693923085812844 and parameters: {'C': 0.05213351073759263}. Best is trial 50 with value: 0.7747103177332844.\n",
      "[I 2025-10-03 12:47:39,117] Trial 172 finished with value: 0.7693923085812844 and parameters: {'C': 0.05277488444155958}. Best is trial 50 with value: 0.7747103177332844.\n",
      "[I 2025-10-03 12:47:39,154] Trial 181 finished with value: 0.7701466775463326 and parameters: {'C': 0.05338062413609033}. Best is trial 50 with value: 0.7747103177332844.\n",
      "[I 2025-10-03 12:47:39,251] Trial 179 finished with value: 0.7734770018563072 and parameters: {'C': 0.07200057818367371}. Best is trial 50 with value: 0.7747103177332844.\n",
      "[I 2025-10-03 12:47:39,281] Trial 174 finished with value: 0.7734770018563072 and parameters: {'C': 0.07212625378308321}. Best is trial 50 with value: 0.7747103177332844.\n",
      "[I 2025-10-03 12:47:39,289] Trial 161 finished with value: 0.7734770018563072 and parameters: {'C': 0.07134686110581175}. Best is trial 50 with value: 0.7747103177332844.\n",
      "[I 2025-10-03 12:47:39,290] Trial 176 finished with value: 0.7734770018563072 and parameters: {'C': 0.07179072196695942}. Best is trial 50 with value: 0.7747103177332844.\n",
      "[I 2025-10-03 12:47:39,303] Trial 185 finished with value: 0.7734770018563072 and parameters: {'C': 0.07025034056532702}. Best is trial 50 with value: 0.7747103177332844.\n",
      "[I 2025-10-03 12:47:39,473] Trial 175 finished with value: 0.7734770018563072 and parameters: {'C': 0.07122881901461621}. Best is trial 50 with value: 0.7747103177332844.\n",
      "[I 2025-10-03 12:47:39,495] Trial 186 finished with value: 0.7734770018563072 and parameters: {'C': 0.07123136867186612}. Best is trial 50 with value: 0.7747103177332844.\n",
      "[I 2025-10-03 12:47:39,612] Trial 184 finished with value: 0.7734770018563072 and parameters: {'C': 0.07418567465391553}. Best is trial 50 with value: 0.7747103177332844.\n",
      "[I 2025-10-03 12:47:39,622] Trial 180 finished with value: 0.7700451375066275 and parameters: {'C': 0.04727365461940684}. Best is trial 50 with value: 0.7747103177332844.\n",
      "[I 2025-10-03 12:47:39,624] Trial 167 finished with value: 0.7734770018563072 and parameters: {'C': 0.07134402255314685}. Best is trial 50 with value: 0.7747103177332844.\n",
      "[I 2025-10-03 12:47:39,698] Trial 177 finished with value: 0.7700451375066275 and parameters: {'C': 0.04430802588683023}. Best is trial 50 with value: 0.7747103177332844.\n",
      "[I 2025-10-03 12:47:39,761] Trial 191 finished with value: 0.7700451375066275 and parameters: {'C': 0.04335091565504128}. Best is trial 50 with value: 0.7747103177332844.\n",
      "[I 2025-10-03 12:47:39,778] Trial 187 finished with value: 0.7700451375066275 and parameters: {'C': 0.046189678322441384}. Best is trial 50 with value: 0.7747103177332844.\n",
      "[I 2025-10-03 12:47:39,784] Trial 189 finished with value: 0.7700451375066275 and parameters: {'C': 0.04373255735831232}. Best is trial 50 with value: 0.7747103177332844.\n",
      "[I 2025-10-03 12:47:39,791] Trial 192 finished with value: 0.7734770018563072 and parameters: {'C': 0.07766890369121415}. Best is trial 50 with value: 0.7747103177332844.\n",
      "[I 2025-10-03 12:47:39,794] Trial 196 finished with value: 0.7734770018563072 and parameters: {'C': 0.08016997065684783}. Best is trial 50 with value: 0.7747103177332844.\n",
      "[I 2025-10-03 12:47:39,794] Trial 183 finished with value: 0.7630953739061864 and parameters: {'C': 0.45645661311059}. Best is trial 50 with value: 0.7747103177332844.\n",
      "[I 2025-10-03 12:47:39,852] Trial 194 finished with value: 0.7734770018563072 and parameters: {'C': 0.08028254549104347}. Best is trial 50 with value: 0.7747103177332844.\n",
      "[I 2025-10-03 12:47:39,865] Trial 182 finished with value: 0.7734770018563072 and parameters: {'C': 0.08019339823368037}. Best is trial 50 with value: 0.7747103177332844.\n",
      "[I 2025-10-03 12:47:39,866] Trial 188 finished with value: 0.7734770018563072 and parameters: {'C': 0.07949881666181295}. Best is trial 50 with value: 0.7747103177332844.\n",
      "[I 2025-10-03 12:47:39,874] Trial 197 finished with value: 0.7700451375066275 and parameters: {'C': 0.043115624117989866}. Best is trial 50 with value: 0.7747103177332844.\n",
      "[I 2025-10-03 12:47:39,900] Trial 195 finished with value: 0.7654515058291985 and parameters: {'C': 0.014824519322847592}. Best is trial 50 with value: 0.7747103177332844.\n",
      "[I 2025-10-03 12:47:39,903] Trial 190 finished with value: 0.7665771779065956 and parameters: {'C': 0.015141345735420418}. Best is trial 50 with value: 0.7747103177332844.\n",
      "[I 2025-10-03 12:47:39,926] Trial 199 finished with value: 0.7734770018563072 and parameters: {'C': 0.07884882400145546}. Best is trial 50 with value: 0.7747103177332844.\n",
      "[I 2025-10-03 12:47:39,940] Trial 193 finished with value: 0.7734770018563072 and parameters: {'C': 0.08039504707157424}. Best is trial 50 with value: 0.7747103177332844.\n",
      "[I 2025-10-03 12:47:39,947] Trial 198 finished with value: 0.7747103177332844 and parameters: {'C': 0.05961379092522151}. Best is trial 50 with value: 0.7747103177332844.\n",
      "[I 2025-10-03 12:47:40,093] A new study created in RDB with name: lr_l1_pca_TARGET_5Yrs\n"
     ]
    },
    {
     "name": "stdout",
     "output_type": "stream",
     "text": [
      "Best value for lr_l2_TARGET_5Yrs: 0.7747103177332844\n",
      "Verification score for lr_l2_TARGET_5Yrs: 0.7747103177332844 (should match best: 0.7747103177332844)\n",
      "Deleted existing study: lr_l1_pca_TARGET_5Yrs\n",
      "Optimizing lr_l1_pca_TARGET_5Yrs...\n"
     ]
    },
    {
     "name": "stderr",
     "output_type": "stream",
     "text": [
      "[I 2025-10-03 12:47:40,620] Trial 3 finished with value: 0.7711968227134284 and parameters: {'C': 0.22173222260897327}. Best is trial 3 with value: 0.7711968227134284.\n",
      "[I 2025-10-03 12:47:40,812] Trial 6 finished with value: 0.7480267533585544 and parameters: {'C': 0.04039258497527492}. Best is trial 3 with value: 0.7711968227134284.\n",
      "[I 2025-10-03 12:47:40,872] Trial 4 finished with value: 0.7725886072673686 and parameters: {'C': 0.3438633777304755}. Best is trial 4 with value: 0.7725886072673686.\n",
      "[I 2025-10-03 12:47:40,902] Trial 10 finished with value: 0.7750665396649448 and parameters: {'C': 0.464029957481303}. Best is trial 10 with value: 0.7750665396649448.\n",
      "[I 2025-10-03 12:47:40,962] Trial 11 finished with value: 0.7724834516258935 and parameters: {'C': 0.202721858060749}. Best is trial 10 with value: 0.7750665396649448.\n",
      "[I 2025-10-03 12:47:40,988] Trial 9 finished with value: 0.768423676333286 and parameters: {'C': 0.1236522469875996}. Best is trial 10 with value: 0.7750665396649448.\n",
      "[I 2025-10-03 12:47:41,022] Trial 16 finished with value: 0.7480267533585544 and parameters: {'C': 0.040807358152738865}. Best is trial 10 with value: 0.7750665396649448.\n",
      "[I 2025-10-03 12:47:41,031] Trial 5 finished with value: 0.7695747873373012 and parameters: {'C': 0.179626762573683}. Best is trial 10 with value: 0.7750665396649448.\n",
      "[I 2025-10-03 12:47:41,041] Trial 0 finished with value: 0.7511358740625163 and parameters: {'C': 0.031631081489830494}. Best is trial 10 with value: 0.7750665396649448.\n",
      "[I 2025-10-03 12:47:41,059] Trial 7 finished with value: 0.7511425399979146 and parameters: {'C': 0.0624273935403017}. Best is trial 10 with value: 0.7750665396649448.\n",
      "[I 2025-10-03 12:47:41,068] Trial 2 finished with value: 0.768423676333286 and parameters: {'C': 0.12441054546148976}. Best is trial 10 with value: 0.7750665396649448.\n",
      "[I 2025-10-03 12:47:41,124] Trial 8 finished with value: 0.7711968227134284 and parameters: {'C': 0.21701736587477713}. Best is trial 10 with value: 0.7750665396649448.\n",
      "[I 2025-10-03 12:47:41,138] Trial 12 finished with value: 0.7657228654617037 and parameters: {'C': 0.08579774278809744}. Best is trial 10 with value: 0.7750665396649448.\n",
      "[I 2025-10-03 12:47:41,240] Trial 19 finished with value: 0.7750665396649448 and parameters: {'C': 0.48840691757062454}. Best is trial 10 with value: 0.7750665396649448.\n",
      "[I 2025-10-03 12:47:41,244] Trial 21 finished with value: 0.7685075342505886 and parameters: {'C': 0.13054702012322988}. Best is trial 10 with value: 0.7750665396649448.\n",
      "[I 2025-10-03 12:47:41,253] Trial 20 finished with value: 0.7511425399979146 and parameters: {'C': 0.06242798824439011}. Best is trial 10 with value: 0.7750665396649448.\n",
      "[I 2025-10-03 12:47:41,257] Trial 13 finished with value: 0.772477782268495 and parameters: {'C': 0.713623089245125}. Best is trial 10 with value: 0.7750665396649448.\n",
      "[I 2025-10-03 12:47:41,265] Trial 15 finished with value: 0.7648622402693203 and parameters: {'C': 0.07988527916597818}. Best is trial 10 with value: 0.7750665396649448.\n",
      "[I 2025-10-03 12:47:41,279] Trial 1 finished with value: 0.7703203464823714 and parameters: {'C': 0.16433287043702996}. Best is trial 10 with value: 0.7750665396649448.\n",
      "[I 2025-10-03 12:47:41,291] Trial 17 finished with value: 0.7511045614342617 and parameters: {'C': 0.03451692030040431}. Best is trial 10 with value: 0.7750665396649448.\n",
      "[I 2025-10-03 12:47:41,326] Trial 18 finished with value: 0.7717503324908466 and parameters: {'C': 0.19943339021076464}. Best is trial 10 with value: 0.7750665396649448.\n",
      "[I 2025-10-03 12:47:41,327] Trial 14 finished with value: 0.7731279791323711 and parameters: {'C': 0.7682327340017608}. Best is trial 10 with value: 0.7750665396649448.\n",
      "[I 2025-10-03 12:47:41,334] Trial 23 finished with value: 0.7741831028687678 and parameters: {'C': 0.803431557701561}. Best is trial 10 with value: 0.7750665396649448.\n",
      "[I 2025-10-03 12:47:41,542] Trial 22 finished with value: 0.7741831028687678 and parameters: {'C': 0.8002229868903268}. Best is trial 10 with value: 0.7750665396649448.\n",
      "[I 2025-10-03 12:47:41,595] Trial 30 finished with value: 0.7332880781636264 and parameters: {'C': 0.014744747630116198}. Best is trial 10 with value: 0.7750665396649448.\n",
      "[I 2025-10-03 12:47:41,601] Trial 32 finished with value: 0.7352976484334934 and parameters: {'C': 0.011556512862742509}. Best is trial 10 with value: 0.7750665396649448.\n",
      "[I 2025-10-03 12:47:41,624] Trial 29 finished with value: 0.7750665396649448 and parameters: {'C': 0.4548269659721396}. Best is trial 10 with value: 0.7750665396649448.\n",
      "[I 2025-10-03 12:47:41,630] Trial 27 finished with value: 0.7356354676385217 and parameters: {'C': 0.013702731221721252}. Best is trial 10 with value: 0.7750665396649448.\n",
      "[I 2025-10-03 12:47:41,653] Trial 31 finished with value: 0.7750665396649448 and parameters: {'C': 0.4389738826058255}. Best is trial 10 with value: 0.7750665396649448.\n",
      "[I 2025-10-03 12:47:41,669] Trial 28 finished with value: 0.7750665396649448 and parameters: {'C': 0.45446567941752425}. Best is trial 10 with value: 0.7750665396649448.\n",
      "[I 2025-10-03 12:47:41,755] Trial 26 finished with value: 0.7761238852223156 and parameters: {'C': 0.43112150661997767}. Best is trial 26 with value: 0.7761238852223156.\n",
      "[I 2025-10-03 12:47:41,776] Trial 25 finished with value: 0.7750665396649448 and parameters: {'C': 0.4455122318788744}. Best is trial 26 with value: 0.7761238852223156.\n",
      "[I 2025-10-03 12:47:41,798] Trial 34 finished with value: 0.7750665396649448 and parameters: {'C': 0.45183966031569706}. Best is trial 26 with value: 0.7761238852223156.\n",
      "[I 2025-10-03 12:47:42,000] Trial 33 finished with value: 0.774308383903923 and parameters: {'C': 0.30188344333885436}. Best is trial 26 with value: 0.7761238852223156.\n",
      "[I 2025-10-03 12:47:42,027] Trial 41 finished with value: 0.7743541345613578 and parameters: {'C': 0.31900798080821435}. Best is trial 26 with value: 0.7761238852223156.\n",
      "[I 2025-10-03 12:47:42,031] Trial 38 finished with value: 0.7750665396649448 and parameters: {'C': 0.46830780322775917}. Best is trial 26 with value: 0.7761238852223156.\n",
      "[I 2025-10-03 12:47:42,060] Trial 35 finished with value: 0.774308383903923 and parameters: {'C': 0.3080631346148982}. Best is trial 26 with value: 0.7761238852223156.\n",
      "[I 2025-10-03 12:47:42,063] Trial 40 finished with value: 0.774308383903923 and parameters: {'C': 0.30174662931747387}. Best is trial 26 with value: 0.7761238852223156.\n",
      "[I 2025-10-03 12:47:42,105] Trial 37 finished with value: 0.7736621975272935 and parameters: {'C': 0.32865573999304193}. Best is trial 26 with value: 0.7761238852223156.\n",
      "[I 2025-10-03 12:47:42,133] Trial 36 finished with value: 0.774308383903923 and parameters: {'C': 0.30124244711043063}. Best is trial 26 with value: 0.7761238852223156.\n",
      "[I 2025-10-03 12:47:42,171] Trial 39 finished with value: 0.7750192195162563 and parameters: {'C': 0.310307604676241}. Best is trial 26 with value: 0.7761238852223156.\n",
      "[I 2025-10-03 12:47:42,216] Trial 43 finished with value: 0.7739061265640321 and parameters: {'C': 0.3586688848162455}. Best is trial 26 with value: 0.7761238852223156.\n",
      "[I 2025-10-03 12:47:42,278] Trial 50 finished with value: 0.772477782268495 and parameters: {'C': 0.6515265884151314}. Best is trial 26 with value: 0.7761238852223156.\n",
      "[I 2025-10-03 12:47:42,287] Trial 46 finished with value: 0.7753916461481716 and parameters: {'C': 0.2883851166384243}. Best is trial 26 with value: 0.7761238852223156.\n",
      "[I 2025-10-03 12:47:42,337] Trial 52 finished with value: 0.7735784444268494 and parameters: {'C': 0.626050523393373}. Best is trial 26 with value: 0.7761238852223156.\n",
      "[I 2025-10-03 12:47:42,353] Trial 44 finished with value: 0.7750192195162563 and parameters: {'C': 0.3106531062342943}. Best is trial 26 with value: 0.7761238852223156.\n",
      "[I 2025-10-03 12:47:42,427] Trial 24 finished with value: 0.7739061265640321 and parameters: {'C': 0.3531129818819038}. Best is trial 26 with value: 0.7761238852223156.\n",
      "[I 2025-10-03 12:47:42,462] Trial 53 finished with value: 0.7750665396649448 and parameters: {'C': 0.5491656274539284}. Best is trial 26 with value: 0.7761238852223156.\n",
      "[I 2025-10-03 12:47:42,484] Trial 47 finished with value: 0.7735784444268494 and parameters: {'C': 0.6022541293420542}. Best is trial 26 with value: 0.7761238852223156.\n",
      "[I 2025-10-03 12:47:42,547] Trial 51 finished with value: 0.7750665396649448 and parameters: {'C': 0.5511069650863152}. Best is trial 26 with value: 0.7761238852223156.\n",
      "[I 2025-10-03 12:47:42,748] Trial 54 finished with value: 0.7736047302462437 and parameters: {'C': 0.9881680468762248}. Best is trial 26 with value: 0.7761238852223156.\n",
      "[I 2025-10-03 12:47:42,793] Trial 62 finished with value: 0.7714363373921181 and parameters: {'C': 0.1572405404132378}. Best is trial 26 with value: 0.7761238852223156.\n",
      "[I 2025-10-03 12:47:42,804] Trial 55 finished with value: 0.7736047302462437 and parameters: {'C': 0.9888241416353742}. Best is trial 26 with value: 0.7761238852223156.\n",
      "[I 2025-10-03 12:47:42,830] Trial 60 finished with value: 0.7725399873946815 and parameters: {'C': 0.2422158415999649}. Best is trial 26 with value: 0.7761238852223156.\n",
      "[I 2025-10-03 12:47:42,841] Trial 63 finished with value: 0.7741038432978045 and parameters: {'C': 0.9362227298985628}. Best is trial 26 with value: 0.7761238852223156.\n",
      "[I 2025-10-03 12:47:42,863] Trial 45 finished with value: 0.7736047302462437 and parameters: {'C': 0.9835876365359343}. Best is trial 26 with value: 0.7761238852223156.\n",
      "[I 2025-10-03 12:47:42,885] Trial 49 finished with value: 0.7707450785063957 and parameters: {'C': 0.14875479708032555}. Best is trial 26 with value: 0.7761238852223156.\n",
      "[I 2025-10-03 12:47:42,888] Trial 42 finished with value: 0.7729296217408526 and parameters: {'C': 0.9512049512302203}. Best is trial 26 with value: 0.7761238852223156.\n",
      "[I 2025-10-03 12:47:42,889] Trial 56 finished with value: 0.7750665396649448 and parameters: {'C': 0.543957990273353}. Best is trial 26 with value: 0.7761238852223156.\n",
      "[I 2025-10-03 12:47:42,906] Trial 59 finished with value: 0.7736047302462437 and parameters: {'C': 0.9985174192186475}. Best is trial 26 with value: 0.7761238852223156.\n",
      "[I 2025-10-03 12:47:42,917] Trial 57 finished with value: 0.7736047302462437 and parameters: {'C': 0.9964132174054826}. Best is trial 26 with value: 0.7761238852223156.\n",
      "[I 2025-10-03 12:47:42,933] Trial 58 finished with value: 0.7748633001870691 and parameters: {'C': 0.9093747276906033}. Best is trial 26 with value: 0.7761238852223156.\n",
      "[I 2025-10-03 12:47:42,975] Trial 61 finished with value: 0.7725399873946815 and parameters: {'C': 0.24340523144392434}. Best is trial 26 with value: 0.7761238852223156.\n",
      "[I 2025-10-03 12:47:43,008] Trial 64 finished with value: 0.7703203464823714 and parameters: {'C': 0.163349231866904}. Best is trial 26 with value: 0.7761238852223156.\n",
      "[I 2025-10-03 12:47:43,043] Trial 66 finished with value: 0.7733784733738251 and parameters: {'C': 0.386709947577743}. Best is trial 26 with value: 0.7761238852223156.\n",
      "[I 2025-10-03 12:47:43,107] Trial 68 finished with value: 0.7740836684451736 and parameters: {'C': 0.4015522998987552}. Best is trial 26 with value: 0.7761238852223156.\n",
      "[I 2025-10-03 12:47:43,136] Trial 48 finished with value: 0.7743268946945305 and parameters: {'C': 0.5963011459783046}. Best is trial 26 with value: 0.7761238852223156.\n",
      "[I 2025-10-03 12:47:43,312] Trial 65 finished with value: 0.7761238852223156 and parameters: {'C': 0.42581178973729056}. Best is trial 26 with value: 0.7761238852223156.\n",
      "[I 2025-10-03 12:47:43,448] Trial 67 finished with value: 0.7733784733738251 and parameters: {'C': 0.3937973264829328}. Best is trial 26 with value: 0.7761238852223156.\n",
      "[I 2025-10-03 12:47:43,484] Trial 71 finished with value: 0.7750665396649448 and parameters: {'C': 0.44837717557473894}. Best is trial 26 with value: 0.7761238852223156.\n",
      "[I 2025-10-03 12:47:43,590] Trial 78 finished with value: 0.7750665396649448 and parameters: {'C': 0.5026595453631306}. Best is trial 26 with value: 0.7761238852223156.\n",
      "[I 2025-10-03 12:47:43,602] Trial 70 finished with value: 0.7750665396649448 and parameters: {'C': 0.48899617368907006}. Best is trial 26 with value: 0.7761238852223156.\n",
      "[I 2025-10-03 12:47:43,621] Trial 81 finished with value: 0.7750665396649448 and parameters: {'C': 0.48909172215578717}. Best is trial 26 with value: 0.7761238852223156.\n",
      "[I 2025-10-03 12:47:43,639] Trial 82 finished with value: 0.7725399873946815 and parameters: {'C': 0.25361839217993787}. Best is trial 26 with value: 0.7761238852223156.\n",
      "[I 2025-10-03 12:47:43,645] Trial 73 finished with value: 0.7754687601099746 and parameters: {'C': 0.4168069680218205}. Best is trial 26 with value: 0.7761238852223156.\n",
      "[I 2025-10-03 12:47:43,648] Trial 85 finished with value: 0.7750665396649448 and parameters: {'C': 0.4983790434608609}. Best is trial 26 with value: 0.7761238852223156.\n",
      "[I 2025-10-03 12:47:43,673] Trial 69 finished with value: 0.7750665396649448 and parameters: {'C': 0.4677083567305374}. Best is trial 26 with value: 0.7761238852223156.\n",
      "[I 2025-10-03 12:47:43,702] Trial 79 finished with value: 0.7732596395727491 and parameters: {'C': 0.2473583156711436}. Best is trial 26 with value: 0.7761238852223156.\n",
      "[I 2025-10-03 12:47:43,707] Trial 74 finished with value: 0.7750665396649448 and parameters: {'C': 0.5059739445696969}. Best is trial 26 with value: 0.7761238852223156.\n",
      "[I 2025-10-03 12:47:43,709] Trial 76 finished with value: 0.7725399873946815 and parameters: {'C': 0.25591738485874593}. Best is trial 26 with value: 0.7761238852223156.\n",
      "[I 2025-10-03 12:47:43,746] Trial 77 finished with value: 0.7750665396649448 and parameters: {'C': 0.48896102219835674}. Best is trial 26 with value: 0.7761238852223156.\n",
      "[I 2025-10-03 12:47:43,767] Trial 80 finished with value: 0.7750665396649448 and parameters: {'C': 0.49068364293596567}. Best is trial 26 with value: 0.7761238852223156.\n",
      "[I 2025-10-03 12:47:43,785] Trial 72 finished with value: 0.7718113535981669 and parameters: {'C': 0.2375921147588377}. Best is trial 26 with value: 0.7761238852223156.\n",
      "[I 2025-10-03 12:47:43,873] Trial 87 finished with value: 0.7761247652832185 and parameters: {'C': 0.2758105473321566}. Best is trial 87 with value: 0.7761247652832185.\n",
      "[I 2025-10-03 12:47:43,876] Trial 75 finished with value: 0.772477782268495 and parameters: {'C': 0.7021348917431112}. Best is trial 87 with value: 0.7761247652832185.\n",
      "[I 2025-10-03 12:47:43,979] Trial 86 finished with value: 0.772477782268495 and parameters: {'C': 0.7046183996550986}. Best is trial 87 with value: 0.7761247652832185.\n",
      "[I 2025-10-03 12:47:43,993] Trial 88 finished with value: 0.7731279791323711 and parameters: {'C': 0.7565815984524958}. Best is trial 87 with value: 0.7761247652832185.\n",
      "[I 2025-10-03 12:47:44,045] Trial 84 finished with value: 0.772477782268495 and parameters: {'C': 0.6950094290641736}. Best is trial 87 with value: 0.7761247652832185.\n",
      "[I 2025-10-03 12:47:44,159] Trial 93 finished with value: 0.7703253094396333 and parameters: {'C': 0.18382828927927422}. Best is trial 87 with value: 0.7761247652832185.\n",
      "[I 2025-10-03 12:47:44,174] Trial 83 finished with value: 0.772477782268495 and parameters: {'C': 0.6807819514255812}. Best is trial 87 with value: 0.7761247652832185.\n",
      "[I 2025-10-03 12:47:44,181] Trial 96 finished with value: 0.7733734473343161 and parameters: {'C': 0.36816043422403594}. Best is trial 87 with value: 0.7761247652832185.\n",
      "[I 2025-10-03 12:47:44,206] Trial 92 finished with value: 0.7731279791323711 and parameters: {'C': 0.7713758733248116}. Best is trial 87 with value: 0.7761247652832185.\n",
      "[I 2025-10-03 12:47:44,217] Trial 89 finished with value: 0.7731279791323711 and parameters: {'C': 0.7376448449571549}. Best is trial 87 with value: 0.7761247652832185.\n",
      "[I 2025-10-03 12:47:44,439] Trial 91 finished with value: 0.7703253094396333 and parameters: {'C': 0.18250868772748122}. Best is trial 87 with value: 0.7761247652832185.\n",
      "[I 2025-10-03 12:47:44,461] Trial 99 finished with value: 0.7703253094396333 and parameters: {'C': 0.1821879025418563}. Best is trial 87 with value: 0.7761247652832185.\n",
      "[I 2025-10-03 12:47:44,499] Trial 103 finished with value: 0.7747803799667916 and parameters: {'C': 0.4095030682960776}. Best is trial 87 with value: 0.7761247652832185.\n",
      "[I 2025-10-03 12:47:44,505] Trial 97 finished with value: 0.7739061265640321 and parameters: {'C': 0.3590189079196301}. Best is trial 87 with value: 0.7761247652832185.\n",
      "[I 2025-10-03 12:47:44,525] Trial 98 finished with value: 0.7754687601099746 and parameters: {'C': 0.4192103745149102}. Best is trial 87 with value: 0.7761247652832185.\n",
      "[I 2025-10-03 12:47:44,534] Trial 90 finished with value: 0.7725886072673686 and parameters: {'C': 0.3429002580029564}. Best is trial 87 with value: 0.7761247652832185.\n",
      "[I 2025-10-03 12:47:44,570] Trial 106 finished with value: 0.7761238852223156 and parameters: {'C': 0.4264411773155105}. Best is trial 87 with value: 0.7761247652832185.\n",
      "[I 2025-10-03 12:47:44,613] Trial 95 finished with value: 0.7710085884247991 and parameters: {'C': 0.19696352663061767}. Best is trial 87 with value: 0.7761247652832185.\n",
      "[I 2025-10-03 12:47:44,666] Trial 101 finished with value: 0.7747803799667916 and parameters: {'C': 0.4034734930849203}. Best is trial 87 with value: 0.7761247652832185.\n",
      "[I 2025-10-03 12:47:44,672] Trial 100 finished with value: 0.7739061265640321 and parameters: {'C': 0.3534991962172993}. Best is trial 87 with value: 0.7761247652832185.\n",
      "[I 2025-10-03 12:47:44,674] Trial 94 finished with value: 0.7754687601099746 and parameters: {'C': 0.42267297310018437}. Best is trial 87 with value: 0.7761247652832185.\n",
      "[I 2025-10-03 12:47:44,740] Trial 107 finished with value: 0.7761247652832185 and parameters: {'C': 0.2772898232539244}. Best is trial 87 with value: 0.7761247652832185.\n",
      "[I 2025-10-03 12:47:44,936] Trial 105 finished with value: 0.7761247652832185 and parameters: {'C': 0.2802237612661618}. Best is trial 87 with value: 0.7761247652832185.\n",
      "[I 2025-10-03 12:47:44,945] Trial 102 finished with value: 0.7753916461481716 and parameters: {'C': 0.28919164219353133}. Best is trial 87 with value: 0.7761247652832185.\n",
      "[I 2025-10-03 12:47:44,976] Trial 109 finished with value: 0.7753916461481716 and parameters: {'C': 0.2856467813655535}. Best is trial 87 with value: 0.7761247652832185.\n",
      "[I 2025-10-03 12:47:44,982] Trial 113 finished with value: 0.7761247652832185 and parameters: {'C': 0.28376001497943887}. Best is trial 87 with value: 0.7761247652832185.\n",
      "[I 2025-10-03 12:47:44,985] Trial 104 finished with value: 0.7671102438770813 and parameters: {'C': 0.10093960213922597}. Best is trial 87 with value: 0.7761247652832185.\n",
      "[I 2025-10-03 12:47:44,987] Trial 111 finished with value: 0.7761238852223156 and parameters: {'C': 0.4234427497771879}. Best is trial 87 with value: 0.7761247652832185.\n",
      "[I 2025-10-03 12:47:45,007] Trial 108 finished with value: 0.7750665396649448 and parameters: {'C': 0.5636194576109449}. Best is trial 87 with value: 0.7761247652832185.\n",
      "[I 2025-10-03 12:47:45,013] Trial 110 finished with value: 0.7736621975272935 and parameters: {'C': 0.3347581530315911}. Best is trial 87 with value: 0.7761247652832185.\n",
      "[I 2025-10-03 12:47:45,039] Trial 115 finished with value: 0.7761247652832185 and parameters: {'C': 0.282524013795982}. Best is trial 87 with value: 0.7761247652832185.\n",
      "[I 2025-10-03 12:47:45,065] Trial 112 finished with value: 0.7757167365288209 and parameters: {'C': 0.5806886852809837}. Best is trial 87 with value: 0.7761247652832185.\n",
      "[I 2025-10-03 12:47:45,129] Trial 116 finished with value: 0.7761247652832185 and parameters: {'C': 0.2786181156848464}. Best is trial 87 with value: 0.7761247652832185.\n",
      "[I 2025-10-03 12:47:45,180] Trial 119 finished with value: 0.7754670262623253 and parameters: {'C': 0.27343132917581947}. Best is trial 87 with value: 0.7761247652832185.\n",
      "[I 2025-10-03 12:47:45,221] Trial 121 finished with value: 0.7711968227134284 and parameters: {'C': 0.219227947781658}. Best is trial 87 with value: 0.7761247652832185.\n",
      "[I 2025-10-03 12:47:45,236] Trial 118 finished with value: 0.7733764232522925 and parameters: {'C': 0.21359736708428462}. Best is trial 87 with value: 0.7761247652832185.\n",
      "[I 2025-10-03 12:47:45,249] Trial 122 finished with value: 0.7724834516258935 and parameters: {'C': 0.20750024190031552}. Best is trial 87 with value: 0.7761247652832185.\n",
      "[I 2025-10-03 12:47:45,256] Trial 114 finished with value: 0.7761247652832185 and parameters: {'C': 0.2795742713770805}. Best is trial 87 with value: 0.7761247652832185.\n",
      "[I 2025-10-03 12:47:45,677] Trial 134 finished with value: 0.7736621975272935 and parameters: {'C': 0.33282663882448454}. Best is trial 87 with value: 0.7761247652832185.\n",
      "[I 2025-10-03 12:47:45,678] Trial 125 finished with value: 0.7743413541849282 and parameters: {'C': 0.269620936244315}. Best is trial 87 with value: 0.7761247652832185.\n",
      "[I 2025-10-03 12:47:45,719] Trial 129 finished with value: 0.7754670262623253 and parameters: {'C': 0.27034920616729335}. Best is trial 87 with value: 0.7761247652832185.\n",
      "[I 2025-10-03 12:47:45,721] Trial 124 finished with value: 0.7754670262623253 and parameters: {'C': 0.2702116362862891}. Best is trial 87 with value: 0.7761247652832185.\n",
      "[I 2025-10-03 12:47:45,732] Trial 123 finished with value: 0.7754670262623253 and parameters: {'C': 0.2730998097192105}. Best is trial 87 with value: 0.7761247652832185.\n",
      "[I 2025-10-03 12:47:45,753] Trial 126 finished with value: 0.7754670262623253 and parameters: {'C': 0.27052921404434815}. Best is trial 87 with value: 0.7761247652832185.\n",
      "[I 2025-10-03 12:47:45,754] Trial 132 finished with value: 0.7747905128593391 and parameters: {'C': 0.3247900458772926}. Best is trial 87 with value: 0.7761247652832185.\n",
      "[I 2025-10-03 12:47:45,757] Trial 130 finished with value: 0.7743541345613578 and parameters: {'C': 0.3183723638124033}. Best is trial 87 with value: 0.7761247652832185.\n",
      "[I 2025-10-03 12:47:45,761] Trial 128 finished with value: 0.7761247652832185 and parameters: {'C': 0.27551186756343227}. Best is trial 87 with value: 0.7761247652832185.\n",
      "[I 2025-10-03 12:47:45,853] Trial 131 finished with value: 0.7754670262623253 and parameters: {'C': 0.2717541063647929}. Best is trial 87 with value: 0.7761247652832185.\n",
      "[I 2025-10-03 12:47:45,858] Trial 138 finished with value: 0.748516019317008 and parameters: {'C': 0.02130587791046542}. Best is trial 87 with value: 0.7761247652832185.\n",
      "[I 2025-10-03 12:47:45,894] Trial 117 finished with value: 0.748050929826274 and parameters: {'C': 0.05405978372669137}. Best is trial 87 with value: 0.7761247652832185.\n",
      "[I 2025-10-03 12:47:45,918] Trial 120 finished with value: 0.7743413541849282 and parameters: {'C': 0.26920867966211154}. Best is trial 87 with value: 0.7761247652832185.\n",
      "[I 2025-10-03 12:47:45,919] Trial 136 finished with value: 0.7747905128593391 and parameters: {'C': 0.3249439815386668}. Best is trial 87 with value: 0.7761247652832185.\n",
      "[I 2025-10-03 12:47:45,928] Trial 127 finished with value: 0.7754670262623253 and parameters: {'C': 0.2718147376417384}. Best is trial 87 with value: 0.7761247652832185.\n",
      "[I 2025-10-03 12:47:45,991] Trial 135 finished with value: 0.7718722591851347 and parameters: {'C': 0.22765560380385216}. Best is trial 87 with value: 0.7761247652832185.\n",
      "[I 2025-10-03 12:47:46,080] Trial 141 finished with value: 0.7699806571847455 and parameters: {'C': 0.14121567219909684}. Best is trial 87 with value: 0.7761247652832185.\n",
      "[I 2025-10-03 12:47:46,174] Trial 139 finished with value: 0.77114362538862 and parameters: {'C': 0.23457321602048595}. Best is trial 87 with value: 0.7761247652832185.\n",
      "[I 2025-10-03 12:47:46,203] Trial 140 finished with value: 0.7718113535981669 and parameters: {'C': 0.23578018557572833}. Best is trial 87 with value: 0.7761247652832185.\n",
      "[I 2025-10-03 12:47:46,296] Trial 137 finished with value: 0.7725399873946815 and parameters: {'C': 0.26459122951631164}. Best is trial 87 with value: 0.7761247652832185.\n",
      "[I 2025-10-03 12:47:46,330] Trial 133 finished with value: 0.7735784444268494 and parameters: {'C': 0.6116650245256845}. Best is trial 87 with value: 0.7761247652832185.\n",
      "[I 2025-10-03 12:47:46,332] Trial 148 finished with value: 0.7727183222219751 and parameters: {'C': 0.37289700956323507}. Best is trial 87 with value: 0.7761247652832185.\n",
      "[I 2025-10-03 12:47:46,361] Trial 146 finished with value: 0.7718722591851347 and parameters: {'C': 0.23139758161273014}. Best is trial 87 with value: 0.7761247652832185.\n",
      "[I 2025-10-03 12:47:46,371] Trial 143 finished with value: 0.7733734473343161 and parameters: {'C': 0.36441604205702527}. Best is trial 87 with value: 0.7761247652832185.\n",
      "[I 2025-10-03 12:47:46,371] Trial 150 finished with value: 0.7727183222219751 and parameters: {'C': 0.3728482375306213}. Best is trial 87 with value: 0.7761247652832185.\n",
      "[I 2025-10-03 12:47:46,386] Trial 144 finished with value: 0.7718722591851347 and parameters: {'C': 0.2293477688677405}. Best is trial 87 with value: 0.7761247652832185.\n",
      "[I 2025-10-03 12:47:46,399] Trial 142 finished with value: 0.7727183222219751 and parameters: {'C': 0.3706931755074495}. Best is trial 87 with value: 0.7761247652832185.\n",
      "[I 2025-10-03 12:47:46,416] Trial 149 finished with value: 0.7733784733738251 and parameters: {'C': 0.38403033175407525}. Best is trial 87 with value: 0.7761247652832185.\n",
      "[I 2025-10-03 12:47:46,702] Trial 145 finished with value: 0.7727183222219751 and parameters: {'C': 0.379586484374461}. Best is trial 87 with value: 0.7761247652832185.\n",
      "[I 2025-10-03 12:47:46,709] Trial 147 finished with value: 0.7733784733738251 and parameters: {'C': 0.38882851237862465}. Best is trial 87 with value: 0.7761247652832185.\n",
      "[I 2025-10-03 12:47:46,751] Trial 157 finished with value: 0.7750665396649448 and parameters: {'C': 0.5521159809730894}. Best is trial 87 with value: 0.7761247652832185.\n",
      "[I 2025-10-03 12:47:46,767] Trial 161 finished with value: 0.7750665396649448 and parameters: {'C': 0.5308442763695619}. Best is trial 87 with value: 0.7761247652832185.\n",
      "[I 2025-10-03 12:47:46,773] Trial 153 finished with value: 0.7761238852223156 and parameters: {'C': 0.4327318163506462}. Best is trial 87 with value: 0.7761247652832185.\n",
      "[I 2025-10-03 12:47:46,789] Trial 151 finished with value: 0.7750665396649448 and parameters: {'C': 0.4370086448061}. Best is trial 87 with value: 0.7761247652832185.\n",
      "[I 2025-10-03 12:47:46,828] Trial 155 finished with value: 0.7750665396649448 and parameters: {'C': 0.5562504749814123}. Best is trial 87 with value: 0.7761247652832185.\n",
      "[I 2025-10-03 12:47:46,847] Trial 152 finished with value: 0.7761238852223156 and parameters: {'C': 0.4301441241425586}. Best is trial 87 with value: 0.7761247652832185.\n",
      "[I 2025-10-03 12:47:46,863] Trial 159 finished with value: 0.7747803799667916 and parameters: {'C': 0.4160793888731058}. Best is trial 87 with value: 0.7761247652832185.\n",
      "[I 2025-10-03 12:47:46,874] Trial 154 finished with value: 0.7750665396649448 and parameters: {'C': 0.4368273390767062}. Best is trial 87 with value: 0.7761247652832185.\n",
      "[I 2025-10-03 12:47:46,948] Trial 158 finished with value: 0.7761238852223156 and parameters: {'C': 0.43392924373030206}. Best is trial 87 with value: 0.7761247652832185.\n",
      "[I 2025-10-03 12:47:46,948] Trial 156 finished with value: 0.7761238852223156 and parameters: {'C': 0.43185444041452}. Best is trial 87 with value: 0.7761247652832185.\n",
      "[I 2025-10-03 12:47:47,053] Trial 165 finished with value: 0.7761238852223156 and parameters: {'C': 0.426414269376354}. Best is trial 87 with value: 0.7761247652832185.\n",
      "[I 2025-10-03 12:47:47,115] Trial 160 finished with value: 0.774308383903923 and parameters: {'C': 0.30427218239620724}. Best is trial 87 with value: 0.7761247652832185.\n",
      "[I 2025-10-03 12:47:47,152] Trial 162 finished with value: 0.7750665396649448 and parameters: {'C': 0.44025043826698634}. Best is trial 87 with value: 0.7761247652832185.\n",
      "[I 2025-10-03 12:47:47,163] Trial 168 finished with value: 0.7754687601099746 and parameters: {'C': 0.42066172710009936}. Best is trial 87 with value: 0.7761247652832185.\n",
      "[I 2025-10-03 12:47:47,171] Trial 170 finished with value: 0.774308383903923 and parameters: {'C': 0.2999642771787674}. Best is trial 87 with value: 0.7761247652832185.\n",
      "[I 2025-10-03 12:47:47,227] Trial 163 finished with value: 0.7750192195162563 and parameters: {'C': 0.31151850527064057}. Best is trial 87 with value: 0.7761247652832185.\n",
      "[I 2025-10-03 12:47:47,276] Trial 167 finished with value: 0.774308383903923 and parameters: {'C': 0.30692620530110054}. Best is trial 87 with value: 0.7761247652832185.\n",
      "[I 2025-10-03 12:47:47,319] Trial 164 finished with value: 0.774308383903923 and parameters: {'C': 0.3026886002500145}. Best is trial 87 with value: 0.7761247652832185.\n",
      "[I 2025-10-03 12:47:47,323] Trial 171 finished with value: 0.7743541345613578 and parameters: {'C': 0.3163610927277192}. Best is trial 87 with value: 0.7761247652832185.\n",
      "[I 2025-10-03 12:47:47,373] Trial 166 finished with value: 0.7725886072673686 and parameters: {'C': 0.3356979829529141}. Best is trial 87 with value: 0.7761247652832185.\n",
      "[I 2025-10-03 12:47:47,429] Trial 174 finished with value: 0.774308383903923 and parameters: {'C': 0.3064657005821254}. Best is trial 87 with value: 0.7761247652832185.\n",
      "[I 2025-10-03 12:47:47,430] Trial 169 finished with value: 0.774308383903923 and parameters: {'C': 0.298020891629533}. Best is trial 87 with value: 0.7761247652832185.\n",
      "[I 2025-10-03 12:47:47,438] Trial 175 finished with value: 0.7750665396649448 and parameters: {'C': 0.4572395960762367}. Best is trial 87 with value: 0.7761247652832185.\n",
      "[I 2025-10-03 12:47:47,568] Trial 176 finished with value: 0.774409207581712 and parameters: {'C': 0.474586458967149}. Best is trial 87 with value: 0.7761247652832185.\n",
      "[I 2025-10-03 12:47:47,593] Trial 179 finished with value: 0.7750665396649448 and parameters: {'C': 0.4950513790525905}. Best is trial 87 with value: 0.7761247652832185.\n",
      "[I 2025-10-03 12:47:47,669] Trial 172 finished with value: 0.774409207581712 and parameters: {'C': 0.4831495171957715}. Best is trial 87 with value: 0.7761247652832185.\n",
      "[I 2025-10-03 12:47:47,721] Trial 177 finished with value: 0.774409207581712 and parameters: {'C': 0.48068080903058213}. Best is trial 87 with value: 0.7761247652832185.\n",
      "[I 2025-10-03 12:47:47,775] Trial 182 finished with value: 0.7750665396649448 and parameters: {'C': 0.46104430920934286}. Best is trial 87 with value: 0.7761247652832185.\n",
      "[I 2025-10-03 12:47:47,776] Trial 178 finished with value: 0.774409207581712 and parameters: {'C': 0.4756495762905264}. Best is trial 87 with value: 0.7761247652832185.\n",
      "[I 2025-10-03 12:47:47,776] Trial 173 finished with value: 0.7750665396649448 and parameters: {'C': 0.471216349801792}. Best is trial 87 with value: 0.7761247652832185.\n",
      "[I 2025-10-03 12:47:47,898] Trial 187 finished with value: 0.774409207581712 and parameters: {'C': 0.47687558905291355}. Best is trial 87 with value: 0.7761247652832185.\n",
      "[I 2025-10-03 12:47:47,907] Trial 183 finished with value: 0.7735784444268494 and parameters: {'C': 0.6182484972528209}. Best is trial 87 with value: 0.7761247652832185.\n",
      "[I 2025-10-03 12:47:47,999] Trial 180 finished with value: 0.7735784444268494 and parameters: {'C': 0.6067844551579582}. Best is trial 87 with value: 0.7761247652832185.\n",
      "[I 2025-10-03 12:47:48,041] Trial 190 finished with value: 0.7674727784703788 and parameters: {'C': 0.10772234285993887}. Best is trial 87 with value: 0.7761247652832185.\n",
      "[I 2025-10-03 12:47:48,083] Trial 186 finished with value: 0.7732510014516911 and parameters: {'C': 0.35021972443540084}. Best is trial 87 with value: 0.7761247652832185.\n",
      "[I 2025-10-03 12:47:48,099] Trial 185 finished with value: 0.772477782268495 and parameters: {'C': 0.6412023027525665}. Best is trial 87 with value: 0.7761247652832185.\n",
      "[I 2025-10-03 12:47:48,119] Trial 194 finished with value: 0.7735784444268494 and parameters: {'C': 0.6348758353969021}. Best is trial 87 with value: 0.7761247652832185.\n",
      "[I 2025-10-03 12:47:48,125] Trial 181 finished with value: 0.7757167365288209 and parameters: {'C': 0.5836444507221806}. Best is trial 87 with value: 0.7761247652832185.\n",
      "[I 2025-10-03 12:47:48,128] Trial 188 finished with value: 0.7724834516258935 and parameters: {'C': 0.20218628036884712}. Best is trial 87 with value: 0.7761247652832185.\n",
      "[I 2025-10-03 12:47:48,181] Trial 195 finished with value: 0.772477782268495 and parameters: {'C': 0.6428805026468685}. Best is trial 87 with value: 0.7761247652832185.\n",
      "[I 2025-10-03 12:47:48,189] Trial 184 finished with value: 0.7739061265640321 and parameters: {'C': 0.35446298421146705}. Best is trial 87 with value: 0.7761247652832185.\n",
      "[I 2025-10-03 12:47:48,220] Trial 193 finished with value: 0.7732510014516911 and parameters: {'C': 0.3493366779191058}. Best is trial 87 with value: 0.7761247652832185.\n",
      "[I 2025-10-03 12:47:48,223] Trial 192 finished with value: 0.7735784444268494 and parameters: {'C': 0.6097460247802639}. Best is trial 87 with value: 0.7761247652832185.\n",
      "[I 2025-10-03 12:47:48,240] Trial 189 finished with value: 0.7739061265640321 and parameters: {'C': 0.3514904056473353}. Best is trial 87 with value: 0.7761247652832185.\n",
      "[I 2025-10-03 12:47:48,263] Trial 191 finished with value: 0.7725886072673686 and parameters: {'C': 0.34333976087828055}. Best is trial 87 with value: 0.7761247652832185.\n",
      "[I 2025-10-03 12:47:48,284] Trial 196 finished with value: 0.7740836684451736 and parameters: {'C': 0.401052449479444}. Best is trial 87 with value: 0.7761247652832185.\n",
      "[I 2025-10-03 12:47:48,307] Trial 198 finished with value: 0.7724834516258935 and parameters: {'C': 0.20260200502524442}. Best is trial 87 with value: 0.7761247652832185.\n",
      "[I 2025-10-03 12:47:48,324] Trial 199 finished with value: 0.7750665396649448 and parameters: {'C': 0.5539426866547572}. Best is trial 87 with value: 0.7761247652832185.\n",
      "[I 2025-10-03 12:47:48,325] Trial 197 finished with value: 0.7741831028687678 and parameters: {'C': 0.8254688177481537}. Best is trial 87 with value: 0.7761247652832185.\n"
     ]
    },
    {
     "name": "stdout",
     "output_type": "stream",
     "text": [
      "Best value for lr_l1_pca_TARGET_5Yrs: 0.7761247652832185\n",
      "Verification score for lr_l1_pca_TARGET_5Yrs: 0.7761247652832185 (should match best: 0.7761247652832185)\n"
     ]
    },
    {
     "name": "stderr",
     "output_type": "stream",
     "text": [
      "[I 2025-10-03 12:47:48,584] A new study created in RDB with name: lr_l2_pca_TARGET_5Yrs\n"
     ]
    },
    {
     "name": "stdout",
     "output_type": "stream",
     "text": [
      "Deleted existing study: lr_l2_pca_TARGET_5Yrs\n",
      "Optimizing lr_l2_pca_TARGET_5Yrs...\n"
     ]
    },
    {
     "name": "stderr",
     "output_type": "stream",
     "text": [
      "[I 2025-10-03 12:47:49,088] Trial 0 finished with value: 0.7738468954584985 and parameters: {'C': 0.061627880377664666}. Best is trial 0 with value: 0.7738468954584985.\n",
      "[I 2025-10-03 12:47:49,138] Trial 1 finished with value: 0.7650784140407272 and parameters: {'C': 0.014722975149352549}. Best is trial 0 with value: 0.7738468954584985.\n",
      "[I 2025-10-03 12:47:49,186] Trial 4 finished with value: 0.7738208610381411 and parameters: {'C': 0.08876476893173993}. Best is trial 0 with value: 0.7738468954584985.\n",
      "[I 2025-10-03 12:47:49,188] Trial 7 finished with value: 0.770327894442901 and parameters: {'C': 0.4150065822997125}. Best is trial 0 with value: 0.7738468954584985.\n",
      "[I 2025-10-03 12:47:49,217] Trial 8 finished with value: 0.770327894442901 and parameters: {'C': 0.3296528915806858}. Best is trial 0 with value: 0.7738468954584985.\n",
      "[I 2025-10-03 12:47:49,235] Trial 5 finished with value: 0.7684296272455027 and parameters: {'C': 0.03985975081133386}. Best is trial 0 with value: 0.7738468954584985.\n",
      "[I 2025-10-03 12:47:49,238] Trial 6 finished with value: 0.770327894442901 and parameters: {'C': 0.2869944461809423}. Best is trial 0 with value: 0.7738468954584985.\n",
      "[I 2025-10-03 12:47:49,271] Trial 2 finished with value: 0.7710049819641916 and parameters: {'C': 0.801467782797815}. Best is trial 0 with value: 0.7738468954584985.\n",
      "[I 2025-10-03 12:47:49,325] Trial 12 finished with value: 0.7724943860395396 and parameters: {'C': 0.23220063428763538}. Best is trial 0 with value: 0.7738468954584985.\n",
      "[I 2025-10-03 12:47:49,470] Trial 13 finished with value: 0.7755388885581458 and parameters: {'C': 0.13361593763280394}. Best is trial 13 with value: 0.7755388885581458.\n",
      "[I 2025-10-03 12:47:49,498] Trial 17 finished with value: 0.7697522070274263 and parameters: {'C': 0.04354268657026468}. Best is trial 13 with value: 0.7755388885581458.\n",
      "[I 2025-10-03 12:47:49,520] Trial 21 finished with value: 0.7651632573559403 and parameters: {'C': 0.031661588607725596}. Best is trial 13 with value: 0.7755388885581458.\n",
      "[I 2025-10-03 12:47:49,531] Trial 19 finished with value: 0.7684296272455027 and parameters: {'C': 0.04104346364411291}. Best is trial 13 with value: 0.7755388885581458.\n",
      "[I 2025-10-03 12:47:49,549] Trial 11 finished with value: 0.7750501108933299 and parameters: {'C': 0.14695375830215487}. Best is trial 13 with value: 0.7755388885581458.\n",
      "[I 2025-10-03 12:47:49,568] Trial 10 finished with value: 0.7730944014784503 and parameters: {'C': 0.05740370715069943}. Best is trial 13 with value: 0.7755388885581458.\n",
      "[I 2025-10-03 12:47:49,601] Trial 18 finished with value: 0.7724943860395396 and parameters: {'C': 0.24209751469128948}. Best is trial 13 with value: 0.7755388885581458.\n",
      "[I 2025-10-03 12:47:49,614] Trial 9 finished with value: 0.7738468954584985 and parameters: {'C': 0.06166497887239726}. Best is trial 13 with value: 0.7755388885581458.\n",
      "[I 2025-10-03 12:47:49,637] Trial 22 finished with value: 0.7750501108933299 and parameters: {'C': 0.15394829639794996}. Best is trial 13 with value: 0.7755388885581458.\n",
      "[I 2025-10-03 12:47:49,653] Trial 3 finished with value: 0.770327894442901 and parameters: {'C': 0.2939681902960005}. Best is trial 13 with value: 0.7755388885581458.\n",
      "[I 2025-10-03 12:47:49,726] Trial 15 finished with value: 0.770327894442901 and parameters: {'C': 0.3916748395989742}. Best is trial 13 with value: 0.7755388885581458.\n",
      "[I 2025-10-03 12:47:49,805] Trial 20 finished with value: 0.7751147092378403 and parameters: {'C': 0.19638082328205372}. Best is trial 13 with value: 0.7755388885581458.\n",
      "[I 2025-10-03 12:47:49,812] Trial 23 finished with value: 0.7745434947519239 and parameters: {'C': 0.09993733179098659}. Best is trial 13 with value: 0.7755388885581458.\n",
      "[I 2025-10-03 12:47:49,816] Trial 14 finished with value: 0.7750501108933299 and parameters: {'C': 0.1484779874988752}. Best is trial 13 with value: 0.7755388885581458.\n",
      "[I 2025-10-03 12:47:49,832] Trial 26 finished with value: 0.7748421770365278 and parameters: {'C': 0.1257228331448638}. Best is trial 13 with value: 0.7755388885581458.\n",
      "[I 2025-10-03 12:47:49,833] Trial 24 finished with value: 0.7668716806829413 and parameters: {'C': 0.022853390946270296}. Best is trial 13 with value: 0.7755388885581458.\n",
      "[I 2025-10-03 12:47:49,911] Trial 25 finished with value: 0.7755388885581458 and parameters: {'C': 0.13418895819978482}. Best is trial 13 with value: 0.7755388885581458.\n",
      "[I 2025-10-03 12:47:50,055] Trial 31 finished with value: 0.769701753695646 and parameters: {'C': 0.6081447776517902}. Best is trial 13 with value: 0.7755388885581458.\n",
      "[I 2025-10-03 12:47:50,058] Trial 16 finished with value: 0.7750805421249534 and parameters: {'C': 0.15905612858917545}. Best is trial 13 with value: 0.7755388885581458.\n",
      "[I 2025-10-03 12:47:50,058] Trial 28 finished with value: 0.7755388885581458 and parameters: {'C': 0.13508664626162598}. Best is trial 13 with value: 0.7755388885581458.\n",
      "[I 2025-10-03 12:47:50,310] Trial 29 finished with value: 0.769701753695646 and parameters: {'C': 0.5847881415186258}. Best is trial 13 with value: 0.7755388885581458.\n",
      "[I 2025-10-03 12:47:50,368] Trial 32 finished with value: 0.769701753695646 and parameters: {'C': 0.6021519774898623}. Best is trial 13 with value: 0.7755388885581458.\n",
      "[I 2025-10-03 12:47:50,387] Trial 34 finished with value: 0.7703570234491854 and parameters: {'C': 0.7630091508476481}. Best is trial 13 with value: 0.7755388885581458.\n",
      "[I 2025-10-03 12:47:50,401] Trial 36 finished with value: 0.769701753695646 and parameters: {'C': 0.6250632337985008}. Best is trial 13 with value: 0.7755388885581458.\n",
      "[I 2025-10-03 12:47:50,404] Trial 40 finished with value: 0.769701753695646 and parameters: {'C': 0.6251396013528624}. Best is trial 13 with value: 0.7755388885581458.\n",
      "[I 2025-10-03 12:47:50,420] Trial 37 finished with value: 0.769701753695646 and parameters: {'C': 0.617649893219807}. Best is trial 13 with value: 0.7755388885581458.\n",
      "[I 2025-10-03 12:47:50,432] Trial 35 finished with value: 0.769701753695646 and parameters: {'C': 0.5371625675415768}. Best is trial 13 with value: 0.7755388885581458.\n",
      "[I 2025-10-03 12:47:50,464] Trial 30 finished with value: 0.7744741088197281 and parameters: {'C': 0.06561523891821622}. Best is trial 13 with value: 0.7755388885581458.\n",
      "[I 2025-10-03 12:47:50,496] Trial 27 finished with value: 0.7755388885581458 and parameters: {'C': 0.13581584162086546}. Best is trial 13 with value: 0.7755388885581458.\n",
      "[I 2025-10-03 12:47:50,625] Trial 33 finished with value: 0.7750820960467466 and parameters: {'C': 0.08487547804415897}. Best is trial 44 with value: 0.7762884839303122.\n",
      "[I 2025-10-03 12:47:50,637] Trial 44 finished with value: 0.7762884839303122 and parameters: {'C': 0.07696632239717295}. Best is trial 44 with value: 0.7762884839303122.\n",
      "[I 2025-10-03 12:47:50,725] Trial 43 finished with value: 0.7750820960467466 and parameters: {'C': 0.08104445341901302}. Best is trial 44 with value: 0.7762884839303122.\n",
      "[I 2025-10-03 12:47:50,769] Trial 41 finished with value: 0.7752027426162428 and parameters: {'C': 0.07256347254774126}. Best is trial 44 with value: 0.7762884839303122.\n",
      "[I 2025-10-03 12:47:50,772] Trial 38 finished with value: 0.7750820960467466 and parameters: {'C': 0.07902186695422578}. Best is trial 44 with value: 0.7762884839303122.\n",
      "[I 2025-10-03 12:47:50,802] Trial 49 finished with value: 0.7750820960467466 and parameters: {'C': 0.08140375855663766}. Best is trial 44 with value: 0.7762884839303122.\n",
      "[I 2025-10-03 12:47:50,894] Trial 45 finished with value: 0.7750820960467466 and parameters: {'C': 0.07964264897908586}. Best is trial 44 with value: 0.7762884839303122.\n",
      "[I 2025-10-03 12:47:50,976] Trial 51 finished with value: 0.7762884839303122 and parameters: {'C': 0.0774907691388855}. Best is trial 44 with value: 0.7762884839303122.\n",
      "[I 2025-10-03 12:47:51,006] Trial 47 finished with value: 0.7762884839303122 and parameters: {'C': 0.07656077407950708}. Best is trial 44 with value: 0.7762884839303122.\n",
      "[I 2025-10-03 12:47:51,039] Trial 42 finished with value: 0.7750820960467466 and parameters: {'C': 0.07811760955404262}. Best is trial 44 with value: 0.7762884839303122.\n",
      "[I 2025-10-03 12:47:51,051] Trial 54 finished with value: 0.7741369819651793 and parameters: {'C': 0.11603416163907038}. Best is trial 44 with value: 0.7762884839303122.\n",
      "[I 2025-10-03 12:47:51,061] Trial 39 finished with value: 0.7740043650311362 and parameters: {'C': 0.20079457618818897}. Best is trial 44 with value: 0.7762884839303122.\n",
      "[I 2025-10-03 12:47:51,067] Trial 55 finished with value: 0.7741369819651793 and parameters: {'C': 0.11797146710583237}. Best is trial 44 with value: 0.7762884839303122.\n",
      "[I 2025-10-03 12:47:51,071] Trial 52 finished with value: 0.7741369819651793 and parameters: {'C': 0.11938611891125372}. Best is trial 44 with value: 0.7762884839303122.\n",
      "[I 2025-10-03 12:47:51,080] Trial 50 finished with value: 0.7750820960467466 and parameters: {'C': 0.081624218732188}. Best is trial 44 with value: 0.7762884839303122.\n",
      "[I 2025-10-03 12:47:51,082] Trial 46 finished with value: 0.7750820960467466 and parameters: {'C': 0.08068377364189577}. Best is trial 44 with value: 0.7762884839303122.\n",
      "[I 2025-10-03 12:47:51,124] Trial 56 finished with value: 0.7741369819651793 and parameters: {'C': 0.10706715225075801}. Best is trial 44 with value: 0.7762884839303122.\n",
      "[I 2025-10-03 12:47:51,145] Trial 48 finished with value: 0.7741369819651793 and parameters: {'C': 0.10806074472034144}. Best is trial 44 with value: 0.7762884839303122.\n",
      "[I 2025-10-03 12:47:51,339] Trial 61 finished with value: 0.7724443675856325 and parameters: {'C': 0.055022124004868916}. Best is trial 44 with value: 0.7762884839303122.\n",
      "[I 2025-10-03 12:47:51,379] Trial 58 finished with value: 0.7724443675856325 and parameters: {'C': 0.05470696785317279}. Best is trial 44 with value: 0.7762884839303122.\n",
      "[I 2025-10-03 12:47:51,387] Trial 67 finished with value: 0.7711694045457524 and parameters: {'C': 0.052824046592614395}. Best is trial 44 with value: 0.7762884839303122.\n",
      "[I 2025-10-03 12:47:51,436] Trial 68 finished with value: 0.7711694045457524 and parameters: {'C': 0.05382494117116853}. Best is trial 44 with value: 0.7762884839303122.\n",
      "[I 2025-10-03 12:47:51,441] Trial 53 finished with value: 0.7625045652568017 and parameters: {'C': 0.010857527155735767}. Best is trial 44 with value: 0.7762884839303122.\n",
      "[I 2025-10-03 12:47:51,444] Trial 64 finished with value: 0.7693311692516348 and parameters: {'C': 0.049920718397315524}. Best is trial 44 with value: 0.7762884839303122.\n",
      "[I 2025-10-03 12:47:51,635] Trial 66 finished with value: 0.7718103459382566 and parameters: {'C': 0.054230481641827345}. Best is trial 44 with value: 0.7762884839303122.\n",
      "[I 2025-10-03 12:47:51,658] Trial 59 finished with value: 0.7711694045457524 and parameters: {'C': 0.05286878555870714}. Best is trial 44 with value: 0.7762884839303122.\n",
      "[I 2025-10-03 12:47:51,717] Trial 63 finished with value: 0.7686831942087328 and parameters: {'C': 0.04810686950083342}. Best is trial 44 with value: 0.7762884839303122.\n",
      "[I 2025-10-03 12:47:51,879] Trial 57 finished with value: 0.7751147092378403 and parameters: {'C': 0.17975388989435293}. Best is trial 44 with value: 0.7762884839303122.\n",
      "[I 2025-10-03 12:47:51,882] Trial 69 finished with value: 0.7757556506303445 and parameters: {'C': 0.16668257094441072}. Best is trial 44 with value: 0.7762884839303122.\n",
      "[I 2025-10-03 12:47:51,891] Trial 62 finished with value: 0.7743588083126891 and parameters: {'C': 0.1399086514412349}. Best is trial 44 with value: 0.7762884839303122.\n",
      "[I 2025-10-03 12:47:51,909] Trial 65 finished with value: 0.7757556506303445 and parameters: {'C': 0.1705101309098183}. Best is trial 44 with value: 0.7762884839303122.\n",
      "[I 2025-10-03 12:47:51,931] Trial 72 finished with value: 0.7751147092378403 and parameters: {'C': 0.18149242194755133}. Best is trial 44 with value: 0.7762884839303122.\n",
      "[I 2025-10-03 12:47:51,932] Trial 70 finished with value: 0.7751147092378403 and parameters: {'C': 0.18893111307785976}. Best is trial 44 with value: 0.7762884839303122.\n",
      "[I 2025-10-03 12:47:51,937] Trial 73 finished with value: 0.7757556506303445 and parameters: {'C': 0.1684967970416377}. Best is trial 44 with value: 0.7762884839303122.\n",
      "[I 2025-10-03 12:47:51,981] Trial 60 finished with value: 0.7686831942087328 and parameters: {'C': 0.04936632120426369}. Best is trial 44 with value: 0.7762884839303122.\n",
      "[I 2025-10-03 12:47:51,995] Trial 75 finished with value: 0.7751147092378403 and parameters: {'C': 0.18588636013858367}. Best is trial 44 with value: 0.7762884839303122.\n",
      "[I 2025-10-03 12:47:52,029] Trial 76 finished with value: 0.7743588083126891 and parameters: {'C': 0.13946560416213577}. Best is trial 44 with value: 0.7762884839303122.\n",
      "[I 2025-10-03 12:47:52,036] Trial 71 finished with value: 0.7751147092378403 and parameters: {'C': 0.18501712513348847}. Best is trial 44 with value: 0.7762884839303122.\n",
      "[I 2025-10-03 12:47:52,062] Trial 74 finished with value: 0.7750805421249534 and parameters: {'C': 0.16263891365958402}. Best is trial 44 with value: 0.7762884839303122.\n",
      "[I 2025-10-03 12:47:52,090] Trial 80 finished with value: 0.7678453191865853 and parameters: {'C': 0.033633184950243734}. Best is trial 44 with value: 0.7762884839303122.\n",
      "[I 2025-10-03 12:47:52,128] Trial 77 finished with value: 0.7714047305027687 and parameters: {'C': 0.24625832442396858}. Best is trial 44 with value: 0.7762884839303122.\n",
      "[I 2025-10-03 12:47:52,242] Trial 79 finished with value: 0.7724943860395396 and parameters: {'C': 0.22680807789036098}. Best is trial 44 with value: 0.7762884839303122.\n",
      "[I 2025-10-03 12:47:52,248] Trial 78 finished with value: 0.7751147092378403 and parameters: {'C': 0.18250534187202377}. Best is trial 44 with value: 0.7762884839303122.\n",
      "[I 2025-10-03 12:47:52,263] Trial 86 finished with value: 0.7714047305027687 and parameters: {'C': 0.2541671158892438}. Best is trial 44 with value: 0.7762884839303122.\n",
      "[I 2025-10-03 12:47:52,429] Trial 81 finished with value: 0.7714047305027687 and parameters: {'C': 0.260011775278291}. Best is trial 44 with value: 0.7762884839303122.\n",
      "[I 2025-10-03 12:47:52,433] Trial 87 finished with value: 0.7738208610381411 and parameters: {'C': 0.09605362116000334}. Best is trial 44 with value: 0.7762884839303122.\n",
      "[I 2025-10-03 12:47:52,459] Trial 83 finished with value: 0.7738208610381411 and parameters: {'C': 0.09226559206209295}. Best is trial 44 with value: 0.7762884839303122.\n",
      "[I 2025-10-03 12:47:52,493] Trial 92 finished with value: 0.7738208610381411 and parameters: {'C': 0.09385752805037237}. Best is trial 44 with value: 0.7762884839303122.\n",
      "[I 2025-10-03 12:47:52,546] Trial 85 finished with value: 0.770327894442901 and parameters: {'C': 0.27280941604612996}. Best is trial 44 with value: 0.7762884839303122.\n",
      "[I 2025-10-03 12:47:52,717] Trial 89 finished with value: 0.7738208610381411 and parameters: {'C': 0.09532310429031571}. Best is trial 44 with value: 0.7762884839303122.\n",
      "[I 2025-10-03 12:47:52,739] Trial 82 finished with value: 0.7738208610381411 and parameters: {'C': 0.09536112220193463}. Best is trial 44 with value: 0.7762884839303122.\n",
      "[I 2025-10-03 12:47:52,761] Trial 93 finished with value: 0.7745434947519239 and parameters: {'C': 0.09772587547791596}. Best is trial 44 with value: 0.7762884839303122.\n",
      "[I 2025-10-03 12:47:52,801] Trial 84 finished with value: 0.7750805421249534 and parameters: {'C': 0.15751229064449182}. Best is trial 44 with value: 0.7762884839303122.\n",
      "[I 2025-10-03 12:47:52,824] Trial 91 finished with value: 0.770327894442901 and parameters: {'C': 0.3356003149722349}. Best is trial 44 with value: 0.7762884839303122.\n",
      "[I 2025-10-03 12:47:52,864] Trial 88 finished with value: 0.7744741088197281 and parameters: {'C': 0.06773055168012797}. Best is trial 44 with value: 0.7762884839303122.\n",
      "[I 2025-10-03 12:47:52,878] Trial 96 finished with value: 0.7738208610381411 and parameters: {'C': 0.0963475775545119}. Best is trial 44 with value: 0.7762884839303122.\n",
      "[I 2025-10-03 12:47:52,902] Trial 90 finished with value: 0.7738468954584985 and parameters: {'C': 0.06253620018310078}. Best is trial 44 with value: 0.7762884839303122.\n",
      "[I 2025-10-03 12:47:52,906] Trial 98 finished with value: 0.7738468954584985 and parameters: {'C': 0.061820377873901856}. Best is trial 44 with value: 0.7762884839303122.\n",
      "[I 2025-10-03 12:47:52,915] Trial 95 finished with value: 0.7744741088197281 and parameters: {'C': 0.06770319847869288}. Best is trial 44 with value: 0.7762884839303122.\n",
      "[I 2025-10-03 12:47:52,917] Trial 100 finished with value: 0.7744741088197281 and parameters: {'C': 0.06540256291483945}. Best is trial 44 with value: 0.7762884839303122.\n",
      "[I 2025-10-03 12:47:52,934] Trial 103 finished with value: 0.7738468954584985 and parameters: {'C': 0.06339160665087115}. Best is trial 44 with value: 0.7762884839303122.\n",
      "[I 2025-10-03 12:47:52,957] Trial 99 finished with value: 0.770327894442901 and parameters: {'C': 0.3186554445557725}. Best is trial 44 with value: 0.7762884839303122.\n",
      "[I 2025-10-03 12:47:52,985] Trial 102 finished with value: 0.7738468954584985 and parameters: {'C': 0.06433131487905726}. Best is trial 44 with value: 0.7762884839303122.\n",
      "[I 2025-10-03 12:47:53,023] Trial 104 finished with value: 0.770327894442901 and parameters: {'C': 0.3305857737549347}. Best is trial 44 with value: 0.7762884839303122.\n",
      "[I 2025-10-03 12:47:53,039] Trial 97 finished with value: 0.7744741088197281 and parameters: {'C': 0.06535401097422854}. Best is trial 44 with value: 0.7762884839303122.\n",
      "[I 2025-10-03 12:47:53,171] Trial 94 finished with value: 0.7750805421249534 and parameters: {'C': 0.15858312485570036}. Best is trial 44 with value: 0.7762884839303122.\n",
      "[I 2025-10-03 12:47:53,241] Trial 109 finished with value: 0.7755388885581458 and parameters: {'C': 0.13174871043150255}. Best is trial 44 with value: 0.7762884839303122.\n",
      "[I 2025-10-03 12:47:53,317] Trial 108 finished with value: 0.7748421770365278 and parameters: {'C': 0.12450737225715011}. Best is trial 44 with value: 0.7762884839303122.\n",
      "[I 2025-10-03 12:47:53,488] Trial 106 finished with value: 0.7755388885581458 and parameters: {'C': 0.13119721099144407}. Best is trial 44 with value: 0.7762884839303122.\n",
      "[I 2025-10-03 12:47:53,490] Trial 114 finished with value: 0.7732538429288042 and parameters: {'C': 0.2114129654300548}. Best is trial 44 with value: 0.7762884839303122.\n",
      "[I 2025-10-03 12:47:53,548] Trial 101 finished with value: 0.7748421770365278 and parameters: {'C': 0.12947525285558575}. Best is trial 44 with value: 0.7762884839303122.\n",
      "[I 2025-10-03 12:47:53,559] Trial 112 finished with value: 0.7755388885581458 and parameters: {'C': 0.13602832100662984}. Best is trial 44 with value: 0.7762884839303122.\n",
      "[I 2025-10-03 12:47:53,591] Trial 105 finished with value: 0.7755388885581458 and parameters: {'C': 0.13188756533104162}. Best is trial 44 with value: 0.7762884839303122.\n",
      "[I 2025-10-03 12:47:53,598] Trial 111 finished with value: 0.7748421770365278 and parameters: {'C': 0.1273018419188104}. Best is trial 44 with value: 0.7762884839303122.\n",
      "[I 2025-10-03 12:47:53,660] Trial 115 finished with value: 0.7755388885581458 and parameters: {'C': 0.13097919501138458}. Best is trial 44 with value: 0.7762884839303122.\n",
      "[I 2025-10-03 12:47:53,660] Trial 121 finished with value: 0.7748421770365278 and parameters: {'C': 0.12758658437087075}. Best is trial 44 with value: 0.7762884839303122.\n",
      "[I 2025-10-03 12:47:53,672] Trial 113 finished with value: 0.7724943860395396 and parameters: {'C': 0.21503467770517753}. Best is trial 44 with value: 0.7762884839303122.\n",
      "[I 2025-10-03 12:47:53,714] Trial 120 finished with value: 0.7732538429288042 and parameters: {'C': 0.2097795276738991}. Best is trial 44 with value: 0.7762884839303122.\n",
      "[I 2025-10-03 12:47:53,766] Trial 118 finished with value: 0.7755388885581458 and parameters: {'C': 0.1332451753614738}. Best is trial 44 with value: 0.7762884839303122.\n",
      "[I 2025-10-03 12:47:53,780] Trial 122 finished with value: 0.7741369819651793 and parameters: {'C': 0.10891581556470413}. Best is trial 44 with value: 0.7762884839303122.\n",
      "[I 2025-10-03 12:47:53,838] Trial 119 finished with value: 0.7741369819651793 and parameters: {'C': 0.1142712570732927}. Best is trial 44 with value: 0.7762884839303122.\n",
      "[I 2025-10-03 12:47:53,867] Trial 116 finished with value: 0.7748421770365278 and parameters: {'C': 0.12740660865883308}. Best is trial 44 with value: 0.7762884839303122.\n",
      "[I 2025-10-03 12:47:53,882] Trial 123 finished with value: 0.7741369819651793 and parameters: {'C': 0.10636635326538355}. Best is trial 44 with value: 0.7762884839303122.\n",
      "[I 2025-10-03 12:47:53,888] Trial 110 finished with value: 0.7743588083126891 and parameters: {'C': 0.13689324084524276}. Best is trial 44 with value: 0.7762884839303122.\n",
      "[I 2025-10-03 12:47:53,903] Trial 117 finished with value: 0.7755388885581458 and parameters: {'C': 0.13124307022686632}. Best is trial 44 with value: 0.7762884839303122.\n",
      "[I 2025-10-03 12:47:54,017] Trial 125 finished with value: 0.7741369819651793 and parameters: {'C': 0.1092047730488559}. Best is trial 44 with value: 0.7762884839303122.\n",
      "[I 2025-10-03 12:47:54,052] Trial 124 finished with value: 0.7741369819651793 and parameters: {'C': 0.112466249008602}. Best is trial 44 with value: 0.7762884839303122.\n",
      "[I 2025-10-03 12:47:54,077] Trial 107 finished with value: 0.7750501108933299 and parameters: {'C': 0.15015924423246801}. Best is trial 44 with value: 0.7762884839303122.\n",
      "[I 2025-10-03 12:47:54,137] Trial 126 finished with value: 0.7750501108933299 and parameters: {'C': 0.15415454754016886}. Best is trial 44 with value: 0.7762884839303122.\n",
      "[I 2025-10-03 12:47:54,145] Trial 127 finished with value: 0.7757556506303445 and parameters: {'C': 0.16789290412191618}. Best is trial 44 with value: 0.7762884839303122.\n",
      "[I 2025-10-03 12:47:54,149] Trial 132 finished with value: 0.7750501108933299 and parameters: {'C': 0.15226888303091546}. Best is trial 44 with value: 0.7762884839303122.\n",
      "[I 2025-10-03 12:47:54,381] Trial 130 finished with value: 0.7757556506303445 and parameters: {'C': 0.17168776212487113}. Best is trial 44 with value: 0.7762884839303122.\n",
      "[I 2025-10-03 12:47:54,389] Trial 135 finished with value: 0.7757556506303445 and parameters: {'C': 0.16737800413824325}. Best is trial 44 with value: 0.7762884839303122.\n",
      "[I 2025-10-03 12:47:54,391] Trial 128 finished with value: 0.7757556506303445 and parameters: {'C': 0.17093648285322874}. Best is trial 44 with value: 0.7762884839303122.\n",
      "[I 2025-10-03 12:47:54,429] Trial 129 finished with value: 0.7757556506303445 and parameters: {'C': 0.16914438736136375}. Best is trial 44 with value: 0.7762884839303122.\n",
      "[I 2025-10-03 12:47:54,431] Trial 139 finished with value: 0.7757556506303445 and parameters: {'C': 0.1705492447131669}. Best is trial 44 with value: 0.7762884839303122.\n",
      "[I 2025-10-03 12:47:54,436] Trial 136 finished with value: 0.7757556506303445 and parameters: {'C': 0.1693249228258636}. Best is trial 44 with value: 0.7762884839303122.\n",
      "[I 2025-10-03 12:47:54,454] Trial 140 finished with value: 0.7757556506303445 and parameters: {'C': 0.1711876836830216}. Best is trial 44 with value: 0.7762884839303122.\n",
      "[I 2025-10-03 12:47:54,473] Trial 138 finished with value: 0.7757556506303445 and parameters: {'C': 0.16849519336942675}. Best is trial 44 with value: 0.7762884839303122.\n",
      "[I 2025-10-03 12:47:54,548] Trial 133 finished with value: 0.7757556506303445 and parameters: {'C': 0.1689222103148977}. Best is trial 44 with value: 0.7762884839303122.\n",
      "[I 2025-10-03 12:47:54,584] Trial 134 finished with value: 0.7757556506303445 and parameters: {'C': 0.17310791667839714}. Best is trial 44 with value: 0.7762884839303122.\n",
      "[I 2025-10-03 12:47:54,721] Trial 131 finished with value: 0.7757556506303445 and parameters: {'C': 0.17307385089418445}. Best is trial 44 with value: 0.7762884839303122.\n",
      "[I 2025-10-03 12:47:54,739] Trial 148 finished with value: 0.7757556506303445 and parameters: {'C': 0.1663660921905917}. Best is trial 44 with value: 0.7762884839303122.\n",
      "[I 2025-10-03 12:47:54,813] Trial 146 finished with value: 0.7757556506303445 and parameters: {'C': 0.17114631675682973}. Best is trial 44 with value: 0.7762884839303122.\n",
      "[I 2025-10-03 12:47:54,832] Trial 147 finished with value: 0.7757556506303445 and parameters: {'C': 0.1740936901649113}. Best is trial 44 with value: 0.7762884839303122.\n",
      "[I 2025-10-03 12:47:54,851] Trial 142 finished with value: 0.7757556506303445 and parameters: {'C': 0.16841330516643158}. Best is trial 44 with value: 0.7762884839303122.\n",
      "[I 2025-10-03 12:47:54,854] Trial 143 finished with value: 0.7724943860395396 and parameters: {'C': 0.2339432348555452}. Best is trial 44 with value: 0.7762884839303122.\n",
      "[I 2025-10-03 12:47:54,870] Trial 144 finished with value: 0.7757556506303445 and parameters: {'C': 0.16692929529545747}. Best is trial 44 with value: 0.7762884839303122.\n",
      "[I 2025-10-03 12:47:55,043] Trial 153 finished with value: 0.7724943860395396 and parameters: {'C': 0.22475632165156775}. Best is trial 44 with value: 0.7762884839303122.\n",
      "[I 2025-10-03 12:47:55,046] Trial 145 finished with value: 0.7751147092378403 and parameters: {'C': 0.19446729637481813}. Best is trial 44 with value: 0.7762884839303122.\n",
      "[I 2025-10-03 12:47:55,078] Trial 137 finished with value: 0.7757556506303445 and parameters: {'C': 0.17393372368740243}. Best is trial 44 with value: 0.7762884839303122.\n",
      "[I 2025-10-03 12:47:55,107] Trial 150 finished with value: 0.7724943860395396 and parameters: {'C': 0.22917374912324098}. Best is trial 44 with value: 0.7762884839303122.\n",
      "[I 2025-10-03 12:47:55,152] Trial 155 finished with value: 0.7751147092378403 and parameters: {'C': 0.1983009554938972}. Best is trial 44 with value: 0.7762884839303122.\n",
      "[I 2025-10-03 12:47:55,183] Trial 152 finished with value: 0.7751147092378403 and parameters: {'C': 0.19508717030252104}. Best is trial 44 with value: 0.7762884839303122.\n",
      "[I 2025-10-03 12:47:55,183] Trial 151 finished with value: 0.7751147092378403 and parameters: {'C': 0.19824233945563935}. Best is trial 44 with value: 0.7762884839303122.\n",
      "[I 2025-10-03 12:47:55,228] Trial 141 finished with value: 0.7724943860395396 and parameters: {'C': 0.22834024715301096}. Best is trial 44 with value: 0.7762884839303122.\n",
      "[I 2025-10-03 12:47:55,232] Trial 158 finished with value: 0.7751147092378403 and parameters: {'C': 0.19678429233505026}. Best is trial 44 with value: 0.7762884839303122.\n",
      "[I 2025-10-03 12:47:55,302] Trial 160 finished with value: 0.7751147092378403 and parameters: {'C': 0.19972257011698386}. Best is trial 44 with value: 0.7762884839303122.\n",
      "[I 2025-10-03 12:47:55,323] Trial 157 finished with value: 0.7732538429288042 and parameters: {'C': 0.20643812399054573}. Best is trial 44 with value: 0.7762884839303122.\n",
      "[I 2025-10-03 12:47:55,390] Trial 156 finished with value: 0.7752027426162428 and parameters: {'C': 0.07531126088700626}. Best is trial 44 with value: 0.7762884839303122.\n",
      "[I 2025-10-03 12:47:55,495] Trial 149 finished with value: 0.7732538429288042 and parameters: {'C': 0.20973375839203143}. Best is trial 44 with value: 0.7762884839303122.\n",
      "[I 2025-10-03 12:47:55,507] Trial 166 finished with value: 0.7750501108933299 and parameters: {'C': 0.14711212931990317}. Best is trial 44 with value: 0.7762884839303122.\n",
      "[I 2025-10-03 12:47:55,513] Trial 159 finished with value: 0.7752027426162428 and parameters: {'C': 0.0737093274384869}. Best is trial 44 with value: 0.7762884839303122.\n",
      "[I 2025-10-03 12:47:55,645] Trial 154 finished with value: 0.7724943860395396 and parameters: {'C': 0.2188555522835038}. Best is trial 44 with value: 0.7762884839303122.\n",
      "[I 2025-10-03 12:47:55,709] Trial 164 finished with value: 0.7752027426162428 and parameters: {'C': 0.07282258748276894}. Best is trial 44 with value: 0.7762884839303122.\n",
      "[I 2025-10-03 12:47:55,713] Trial 163 finished with value: 0.7752027426162428 and parameters: {'C': 0.07313699895917972}. Best is trial 44 with value: 0.7762884839303122.\n",
      "[I 2025-10-03 12:47:55,718] Trial 168 finished with value: 0.7752027426162428 and parameters: {'C': 0.0737000955765009}. Best is trial 44 with value: 0.7762884839303122.\n",
      "[I 2025-10-03 12:47:55,848] Trial 167 finished with value: 0.7750805421249534 and parameters: {'C': 0.15807907874701735}. Best is trial 44 with value: 0.7762884839303122.\n",
      "[I 2025-10-03 12:47:55,854] Trial 174 finished with value: 0.7750501108933299 and parameters: {'C': 0.14874598118778595}. Best is trial 44 with value: 0.7762884839303122.\n",
      "[I 2025-10-03 12:47:55,921] Trial 165 finished with value: 0.7750501108933299 and parameters: {'C': 0.15041792626024464}. Best is trial 44 with value: 0.7762884839303122.\n",
      "[I 2025-10-03 12:47:55,929] Trial 162 finished with value: 0.7750501108933299 and parameters: {'C': 0.14913048437393142}. Best is trial 44 with value: 0.7762884839303122.\n",
      "[I 2025-10-03 12:47:55,947] Trial 175 finished with value: 0.7750501108933299 and parameters: {'C': 0.14930895200537272}. Best is trial 44 with value: 0.7762884839303122.\n",
      "[I 2025-10-03 12:47:55,957] Trial 172 finished with value: 0.7750501108933299 and parameters: {'C': 0.14903080004347813}. Best is trial 44 with value: 0.7762884839303122.\n",
      "[I 2025-10-03 12:47:55,981] Trial 170 finished with value: 0.7757332444626781 and parameters: {'C': 0.15485769840596017}. Best is trial 44 with value: 0.7762884839303122.\n",
      "[I 2025-10-03 12:47:55,992] Trial 169 finished with value: 0.7750501108933299 and parameters: {'C': 0.14892297015854314}. Best is trial 44 with value: 0.7762884839303122.\n",
      "[I 2025-10-03 12:47:56,020] Trial 177 finished with value: 0.7757332444626781 and parameters: {'C': 0.1548684534200067}. Best is trial 44 with value: 0.7762884839303122.\n",
      "[I 2025-10-03 12:47:56,129] Trial 161 finished with value: 0.7751147092378403 and parameters: {'C': 0.17976973753601827}. Best is trial 44 with value: 0.7762884839303122.\n",
      "[I 2025-10-03 12:47:56,174] Trial 171 finished with value: 0.7750501108933299 and parameters: {'C': 0.14655271632970823}. Best is trial 44 with value: 0.7762884839303122.\n",
      "[I 2025-10-03 12:47:56,186] Trial 183 finished with value: 0.7751147092378403 and parameters: {'C': 0.17858009406563446}. Best is trial 44 with value: 0.7762884839303122.\n",
      "[I 2025-10-03 12:47:56,276] Trial 180 finished with value: 0.7751147092378403 and parameters: {'C': 0.18204309084334294}. Best is trial 44 with value: 0.7762884839303122.\n",
      "[I 2025-10-03 12:47:56,306] Trial 178 finished with value: 0.7750501108933299 and parameters: {'C': 0.15233466830289719}. Best is trial 44 with value: 0.7762884839303122.\n",
      "[I 2025-10-03 12:47:56,365] Trial 185 finished with value: 0.7751147092378403 and parameters: {'C': 0.17792431971113817}. Best is trial 44 with value: 0.7762884839303122.\n",
      "[I 2025-10-03 12:47:56,376] Trial 186 finished with value: 0.7751147092378403 and parameters: {'C': 0.17883892622957473}. Best is trial 44 with value: 0.7762884839303122.\n",
      "[I 2025-10-03 12:47:56,399] Trial 173 finished with value: 0.7750805421249534 and parameters: {'C': 0.15926153246035002}. Best is trial 44 with value: 0.7762884839303122.\n",
      "[I 2025-10-03 12:47:56,400] Trial 188 finished with value: 0.7751147092378403 and parameters: {'C': 0.17800573718243579}. Best is trial 44 with value: 0.7762884839303122.\n",
      "[I 2025-10-03 12:47:56,434] Trial 184 finished with value: 0.7751147092378403 and parameters: {'C': 0.17915355811681588}. Best is trial 44 with value: 0.7762884839303122.\n",
      "[I 2025-10-03 12:47:56,556] Trial 176 finished with value: 0.7751147092378403 and parameters: {'C': 0.1876814673374365}. Best is trial 44 with value: 0.7762884839303122.\n",
      "[I 2025-10-03 12:47:56,558] Trial 182 finished with value: 0.7751147092378403 and parameters: {'C': 0.17875118330565215}. Best is trial 44 with value: 0.7762884839303122.\n",
      "[I 2025-10-03 12:47:56,574] Trial 189 finished with value: 0.7750820960467466 and parameters: {'C': 0.08520970194482076}. Best is trial 44 with value: 0.7762884839303122.\n",
      "[I 2025-10-03 12:47:56,626] Trial 190 finished with value: 0.7751147092378403 and parameters: {'C': 0.1797531603386256}. Best is trial 44 with value: 0.7762884839303122.\n",
      "[I 2025-10-03 12:47:56,698] Trial 192 finished with value: 0.7757556506303445 and parameters: {'C': 0.17433227693385317}. Best is trial 44 with value: 0.7762884839303122.\n",
      "[I 2025-10-03 12:47:56,718] Trial 194 finished with value: 0.7716578108895348 and parameters: {'C': 0.996795481420553}. Best is trial 44 with value: 0.7762884839303122.\n",
      "[I 2025-10-03 12:47:56,731] Trial 179 finished with value: 0.7750820960467466 and parameters: {'C': 0.08539830507338955}. Best is trial 44 with value: 0.7762884839303122.\n",
      "[I 2025-10-03 12:47:56,739] Trial 187 finished with value: 0.774454882685517 and parameters: {'C': 0.08582781411257827}. Best is trial 44 with value: 0.7762884839303122.\n",
      "[I 2025-10-03 12:47:56,748] Trial 181 finished with value: 0.7751147092378403 and parameters: {'C': 0.18091662704290093}. Best is trial 44 with value: 0.7762884839303122.\n",
      "[I 2025-10-03 12:47:56,765] Trial 191 finished with value: 0.770327894442901 and parameters: {'C': 0.2778511673556403}. Best is trial 44 with value: 0.7762884839303122.\n",
      "[I 2025-10-03 12:47:56,768] Trial 195 finished with value: 0.770327894442901 and parameters: {'C': 0.2896972664495754}. Best is trial 44 with value: 0.7762884839303122.\n",
      "[I 2025-10-03 12:47:56,770] Trial 193 finished with value: 0.7757556506303445 and parameters: {'C': 0.16863218840789515}. Best is trial 44 with value: 0.7762884839303122.\n",
      "[I 2025-10-03 12:47:56,771] Trial 196 finished with value: 0.7750820960467466 and parameters: {'C': 0.08552641071302561}. Best is trial 44 with value: 0.7762884839303122.\n",
      "[I 2025-10-03 12:47:56,798] Trial 199 finished with value: 0.7757556506303445 and parameters: {'C': 0.16459092900969688}. Best is trial 44 with value: 0.7762884839303122.\n",
      "[I 2025-10-03 12:47:56,809] Trial 198 finished with value: 0.7710049819641916 and parameters: {'C': 0.9199035752797273}. Best is trial 44 with value: 0.7762884839303122.\n",
      "[I 2025-10-03 12:47:56,818] Trial 197 finished with value: 0.7714047305027687 and parameters: {'C': 0.2605200501215692}. Best is trial 44 with value: 0.7762884839303122.\n"
     ]
    },
    {
     "name": "stdout",
     "output_type": "stream",
     "text": [
      "Best value for lr_l2_pca_TARGET_5Yrs: 0.7762884839303122\n",
      "Verification score for lr_l2_pca_TARGET_5Yrs: 0.7762884839303122 (should match best: 0.7762884839303122)\n"
     ]
    }
   ],
   "source": [
    "# HP fine-tuning\n",
    "def objective(trial, args: dict, X_train: np.array, y_train: np.array):\n",
    "    model_name = args[\"model\"]\n",
    "    if \"lr\" in model_name:\n",
    "        h_params = args.copy()\n",
    "        h_params[\"C\"] = trial.suggest_float(\"C\", args[\"c_min\"], args[\"c_max\"], log=True)\n",
    "        if args[\"scaler_type\"] == \"robust\":\n",
    "            h_params[\"scaler\"] = RobustScaler()\n",
    "        if args[\"pca_level\"] is not None:\n",
    "            h_params[\"pca\"] = PCA(n_components=args[\"pca_level\"], random_state=args[\"random_state\"])\n",
    "        else:\n",
    "            h_params[\"pca\"] = None\n",
    "    else:\n",
    "        raise NotImplementedError(f\"Objective function not developped for model {model_name}\")\n",
    "    \n",
    "    return cv_score(model_name, h_params, X_train, y_train)\n",
    "\n",
    "def cv_score(model_name: str, h_params: dict, X_train: np.array, y_train: np.array):\n",
    "    if \"lr\" in model_name:\n",
    "        model = LREstimator(h_params)\n",
    "        score = model.cross_validate(X_train, y_train)\n",
    "        return score\n",
    "    else:\n",
    "        raise NotImplementedError(f\"Scoring function not developped for model {model_name}\")\n",
    "\n",
    "\n",
    "storage_url = \"sqlite:///db.sqlite3\"\n",
    "storage = RDBStorage(url=storage_url)\n",
    "\n",
    "for config_name, config_args in params.items():\n",
    "    study_name = config_args[\"model\"] + \"_\" + target\n",
    "    if \"c_min\" in config_args.keys(): # only treat regularized models\n",
    "        studies = storage.get_all_studies()\n",
    "        if any(s.study_name == study_name for s in studies):\n",
    "            optuna.delete_study(study_name=study_name, storage=storage_url)\n",
    "            print(f\"Deleted existing study: {study_name}\")\n",
    "        \n",
    "        study = optuna.create_study(\n",
    "            storage=storage_url,\n",
    "            study_name=study_name,\n",
    "            direction=\"maximize\",\n",
    "            sampler=optuna.samplers.TPESampler(seed=seed)\n",
    "        )\n",
    "        \n",
    "        objective_partial = partial(\n",
    "            objective,\n",
    "            args=config_args,\n",
    "            X_train=X_train,\n",
    "            y_train=y_train,\n",
    "        )\n",
    "    \n",
    "        print(f\"Optimizing {study_name}...\")\n",
    "        study.optimize(objective_partial, n_trials=config_args[\"n_trials\"], n_jobs=-1)\n",
    "        print(f\"Best value for {study_name}: {study.best_value}\")\n",
    "        \n",
    "        # Verify the best score by re-running with best params\n",
    "        best_params_copy = config_args.copy()\n",
    "        best_params_copy[\"C\"] = study.best_params[\"C\"]\n",
    "        if best_params_copy[\"scaler_type\"] == \"robust\":\n",
    "            best_params_copy[\"scaler\"] = RobustScaler()\n",
    "        if best_params_copy[\"pca_level\"] is not None:\n",
    "            best_params_copy[\"pca\"] = PCA(n_components=best_params_copy[\"pca_level\"], random_state=seed)\n",
    "        else:\n",
    "            best_params_copy[\"pca\"] = None\n",
    "            \n",
    "        verification_score = cv_score(study_name.split(\"_\")[0], best_params_copy, X_train, y_train)\n",
    "        print(f\"Verification score for {study_name}: {verification_score} (should match best: {study.best_value})\")"
   ]
  },
  {
   "cell_type": "code",
   "execution_count": 65,
   "id": "d6c4fc03",
   "metadata": {},
   "outputs": [],
   "source": [
    "# Training Pipeline\n",
    "for key in [\"l1\", \"l2\", \"l1_pca\", \"l2_pca\"]:\n",
    "    study_name = params[key][\"model\"] + \"_\" + target\n",
    "    study = optuna.load_study(study_name=study_name, storage=storage_url)\n",
    "    best_C = study.best_params[\"C\"]\n",
    "    params[key][\"C\"] = best_C\n",
    "    if params[key][\"scaler_type\"] == \"robust\":\n",
    "        params[key][\"scaler\"] = RobustScaler()\n",
    "    if params[key][\"pca_level\"] is not None:\n",
    "        params[key][\"pca\"] = PCA(n_components=n_components, random_state=seed)\n",
    "    else:\n",
    "        params[key][\"pca\"] = None\n",
    "\n",
    "for key in [\"dummy\", \"base\", \"base_pca\"]:\n",
    "    if \"scaler_type\" in params[key] and params[key][\"scaler_type\"] == \"robust\":\n",
    "        params[key][\"scaler\"] = RobustScaler()\n",
    "    if \"pca_level\" in params[key] and params[key][\"pca_level\"] is not None:\n",
    "        params[key][\"pca\"] = PCA(n_components=n_components, random_state=seed)\n",
    "    else:\n",
    "        params[key][\"pca\"] = None\n",
    "\n",
    "dummy = DummyEstimator(params[\"dummy\"])\n",
    "lr = LREstimator(params[\"base\"])\n",
    "lr_pca = LREstimator(params[\"base_pca\"])\n",
    "lr_l1 = LREstimator(params[\"l1\"])\n",
    "lr_l1_pca = LREstimator(params[\"l1_pca\"])\n",
    "lr_l2 = LREstimator(params[\"l2\"])\n",
    "lr_l2_pca = LREstimator(params[\"l2_pca\"])"
   ]
  },
  {
   "cell_type": "code",
   "execution_count": 66,
   "id": "0abd6528",
   "metadata": {},
   "outputs": [],
   "source": [
    "# Fine tuning\n",
    "for model in [dummy, lr, lr_pca, lr_l1, lr_l1_pca, lr_l2, lr_l2_pca]:\n",
    "    model.cross_validate(X_train, y_train)"
   ]
  },
  {
   "cell_type": "code",
   "execution_count": 67,
   "id": "84419493",
   "metadata": {},
   "outputs": [
    {
     "data": {
      "application/vnd.plotly.v1+json": {
       "config": {
        "plotlyServerURL": "https://plot.ly"
       },
       "data": [
        {
         "legendgroup": "Dummy",
         "line": {
          "color": "red",
          "dash": "solid"
         },
         "mode": "lines+markers",
         "name": "Dummy",
         "showlegend": true,
         "type": "scatter",
         "xaxis": "x",
         "y": [
          0.6243523316062176,
          0.6243523316062176,
          0.6248382923673997,
          0.6235446313065977
         ],
         "yaxis": "y"
        },
        {
         "legendgroup": "Base",
         "line": {
          "color": "blue",
          "dash": "solid"
         },
         "mode": "lines+markers",
         "name": "Base",
         "showlegend": true,
         "type": "scatter",
         "xaxis": "x",
         "y": [
          0.7920792079207921,
          0.8046272493573264,
          0.8197969543147208,
          0.7931873479318735
         ],
         "yaxis": "y"
        },
        {
         "legendgroup": "L1",
         "line": {
          "color": "orange",
          "dash": "solid"
         },
         "mode": "lines+markers",
         "name": "L1",
         "showlegend": true,
         "type": "scatter",
         "xaxis": "x",
         "y": [
          0.7955665024630542,
          0.8,
          0.8109452736318408,
          0.7879518072289157
         ],
         "yaxis": "y"
        },
        {
         "legendgroup": "L2",
         "line": {
          "color": "green",
          "dash": "solid"
         },
         "mode": "lines+markers",
         "name": "L2",
         "showlegend": true,
         "type": "scatter",
         "xaxis": "x",
         "y": [
          0.8060453400503779,
          0.7960199004975125,
          0.8125,
          0.7839805825242718
         ],
         "yaxis": "y"
        },
        {
         "legendgroup": "Base (PCA)",
         "line": {
          "color": "blue",
          "dash": "dash"
         },
         "mode": "lines+markers",
         "name": "Base (PCA)",
         "showlegend": true,
         "type": "scatter",
         "xaxis": "x",
         "y": [
          0.7921760391198044,
          0.801980198019802,
          0.8058968058968059,
          0.7883211678832117
         ],
         "yaxis": "y"
        },
        {
         "legendgroup": "L1 (PCA)",
         "line": {
          "color": "orange",
          "dash": "dash"
         },
         "mode": "lines+markers",
         "name": "L1 (PCA)",
         "showlegend": true,
         "type": "scatter",
         "xaxis": "x",
         "y": [
          0.8112244897959183,
          0.8035264483627204,
          0.8197969543147208,
          0.7886977886977887
         ],
         "yaxis": "y"
        },
        {
         "legendgroup": "L2 (PCA)",
         "line": {
          "color": "green",
          "dash": "dash"
         },
         "mode": "lines+markers",
         "name": "L2 (PCA)",
         "showlegend": true,
         "type": "scatter",
         "xaxis": "x",
         "y": [
          0.8080808080808081,
          0.7985074626865671,
          0.8095238095238095,
          0.784503631961259
         ],
         "yaxis": "y"
        },
        {
         "legendgroup": "Dummy",
         "line": {
          "color": "red",
          "dash": "solid"
         },
         "mode": "lines+markers",
         "name": "Dummy",
         "showlegend": false,
         "type": "scatter",
         "xaxis": "x2",
         "y": [
          1,
          1,
          1,
          1
         ],
         "yaxis": "y2"
        },
        {
         "legendgroup": "Base",
         "line": {
          "color": "blue",
          "dash": "solid"
         },
         "mode": "lines+markers",
         "name": "Base",
         "showlegend": false,
         "type": "scatter",
         "xaxis": "x2",
         "y": [
          0.6639004149377593,
          0.6493775933609959,
          0.6687370600414079,
          0.6763485477178424
         ],
         "yaxis": "y2"
        },
        {
         "legendgroup": "L1",
         "line": {
          "color": "orange",
          "dash": "solid"
         },
         "mode": "lines+markers",
         "name": "L1",
         "showlegend": false,
         "type": "scatter",
         "xaxis": "x2",
         "y": [
          0.6701244813278008,
          0.6639004149377593,
          0.6749482401656315,
          0.6784232365145229
         ],
         "yaxis": "y2"
        },
        {
         "legendgroup": "L2",
         "line": {
          "color": "green",
          "dash": "solid"
         },
         "mode": "lines+markers",
         "name": "L2",
         "showlegend": false,
         "type": "scatter",
         "xaxis": "x2",
         "y": [
          0.6639004149377593,
          0.6639004149377593,
          0.6728778467908902,
          0.6701244813278008
         ],
         "yaxis": "y2"
        },
        {
         "legendgroup": "Base (PCA)",
         "line": {
          "color": "blue",
          "dash": "dash"
         },
         "mode": "lines+markers",
         "name": "Base (PCA)",
         "showlegend": false,
         "type": "scatter",
         "xaxis": "x2",
         "y": [
          0.6721991701244814,
          0.6721991701244814,
          0.6790890269151139,
          0.6721991701244814
         ],
         "yaxis": "y2"
        },
        {
         "legendgroup": "L1 (PCA)",
         "line": {
          "color": "orange",
          "dash": "dash"
         },
         "mode": "lines+markers",
         "name": "L1 (PCA)",
         "showlegend": false,
         "type": "scatter",
         "xaxis": "x2",
         "y": [
          0.6597510373443983,
          0.6618257261410788,
          0.6687370600414079,
          0.6659751037344398
         ],
         "yaxis": "y2"
        },
        {
         "legendgroup": "L2 (PCA)",
         "line": {
          "color": "green",
          "dash": "dash"
         },
         "mode": "lines+markers",
         "name": "L2 (PCA)",
         "showlegend": false,
         "type": "scatter",
         "xaxis": "x2",
         "y": [
          0.6639004149377593,
          0.6659751037344398,
          0.6687370600414079,
          0.6721991701244814
         ],
         "yaxis": "y2"
        },
        {
         "legendgroup": "Dummy",
         "line": {
          "color": "red",
          "dash": "solid"
         },
         "mode": "lines+markers",
         "name": "Dummy",
         "showlegend": false,
         "type": "scatter",
         "xaxis": "x3",
         "y": [
          0.6750700280112045,
          0.6750700280112045,
          0.6755244755244755,
          0.6743144935646335
         ],
         "yaxis": "y3"
        },
        {
         "legendgroup": "Base",
         "line": {
          "color": "blue",
          "dash": "solid"
         },
         "mode": "lines+markers",
         "name": "Base",
         "showlegend": false,
         "type": "scatter",
         "xaxis": "x3",
         "y": [
          0.7626310772163966,
          0.767909715407262,
          0.7843613404565323,
          0.7666980244590781
         ],
         "yaxis": "y3"
        },
        {
         "legendgroup": "L1",
         "line": {
          "color": "orange",
          "dash": "solid"
         },
         "mode": "lines+markers",
         "name": "L1",
         "showlegend": false,
         "type": "scatter",
         "xaxis": "x3",
         "y": [
          0.7668566001899335,
          0.7684918347742555,
          0.779531324725012,
          0.7633053221288515
         ],
         "yaxis": "y3"
        },
        {
         "legendgroup": "L2",
         "line": {
          "color": "green",
          "dash": "solid"
         },
         "mode": "lines+markers",
         "name": "L2",
         "showlegend": false,
         "type": "scatter",
         "xaxis": "x3",
         "y": [
          0.7729468599033816,
          0.7655502392344498,
          0.7801248199711954,
          0.7582159624413145
         ],
         "yaxis": "y3"
        },
        {
         "legendgroup": "Base (PCA)",
         "line": {
          "color": "blue",
          "dash": "dash"
         },
         "mode": "lines+markers",
         "name": "Base (PCA)",
         "showlegend": false,
         "type": "scatter",
         "xaxis": "x3",
         "y": [
          0.7648725212464589,
          0.7721639656816015,
          0.7768829938417812,
          0.761994355597366
         ],
         "yaxis": "y3"
        },
        {
         "legendgroup": "L1 (PCA)",
         "line": {
          "color": "orange",
          "dash": "dash"
         },
         "mode": "lines+markers",
         "name": "L1 (PCA)",
         "showlegend": false,
         "type": "scatter",
         "xaxis": "x3",
         "y": [
          0.775609756097561,
          0.7705314009661836,
          0.7843613404565323,
          0.7606635071090048
         ],
         "yaxis": "y3"
        },
        {
         "legendgroup": "L2 (PCA)",
         "line": {
          "color": "green",
          "dash": "dash"
         },
         "mode": "lines+markers",
         "name": "L2 (PCA)",
         "showlegend": false,
         "type": "scatter",
         "xaxis": "x3",
         "y": [
          0.7744433688286544,
          0.7679425837320574,
          0.7768157768157768,
          0.7591377694470478
         ],
         "yaxis": "y3"
        },
        {
         "legendgroup": "Dummy",
         "line": {
          "color": "red",
          "dash": "solid"
         },
         "mode": "lines+markers",
         "name": "Dummy",
         "showlegend": false,
         "type": "scatter",
         "xaxis": "x4",
         "y": [
          0.624031007751938,
          0.624031007751938,
          0.622568093385214,
          0.6264591439688716
         ],
         "yaxis": "y4"
        },
        {
         "legendgroup": "Base",
         "line": {
          "color": "blue",
          "dash": "solid"
         },
         "mode": "lines+markers",
         "name": "Base",
         "showlegend": false,
         "type": "scatter",
         "xaxis": "x4",
         "y": [
          0.7928571428571428,
          0.8102189781021898,
          0.7716535433070866,
          0.813953488372093
         ],
         "yaxis": "y4"
        },
        {
         "legendgroup": "L1",
         "line": {
          "color": "orange",
          "dash": "solid"
         },
         "mode": "lines+markers",
         "name": "L1",
         "showlegend": false,
         "type": "scatter",
         "xaxis": "x4",
         "y": [
          0.7916666666666666,
          0.8161764705882353,
          0.7769230769230769,
          0.8359375
         ],
         "yaxis": "y4"
        },
        {
         "legendgroup": "L2",
         "line": {
          "color": "green",
          "dash": "solid"
         },
         "mode": "lines+markers",
         "name": "L2",
         "showlegend": false,
         "type": "scatter",
         "xaxis": "x4",
         "y": [
          0.8028169014084507,
          0.8175182481751825,
          0.7727272727272727,
          0.8360655737704918
         ],
         "yaxis": "y4"
        },
        {
         "legendgroup": "Base (PCA)",
         "line": {
          "color": "blue",
          "dash": "dash"
         },
         "mode": "lines+markers",
         "name": "Base (PCA)",
         "showlegend": false,
         "type": "scatter",
         "xaxis": "x4",
         "y": [
          0.7943262411347518,
          0.8142857142857143,
          0.7651515151515151,
          0.8153846153846154
         ],
         "yaxis": "y4"
        },
        {
         "legendgroup": "L1 (PCA)",
         "line": {
          "color": "orange",
          "dash": "dash"
         },
         "mode": "lines+markers",
         "name": "L1 (PCA)",
         "showlegend": false,
         "type": "scatter",
         "xaxis": "x4",
         "y": [
          0.8057553956834532,
          0.8208955223880597,
          0.7803030303030303,
          0.8360655737704918
         ],
         "yaxis": "y4"
        },
        {
         "legendgroup": "L2 (PCA)",
         "line": {
          "color": "green",
          "dash": "dash"
         },
         "mode": "lines+markers",
         "name": "L2 (PCA)",
         "showlegend": false,
         "type": "scatter",
         "xaxis": "x4",
         "y": [
          0.8013698630136986,
          0.8235294117647058,
          0.7769230769230769,
          0.8347107438016529
         ],
         "yaxis": "y4"
        },
        {
         "legendgroup": "Dummy",
         "line": {
          "color": "red",
          "dash": "solid"
         },
         "mode": "lines+markers",
         "name": "Dummy",
         "showlegend": false,
         "type": "scatter",
         "xaxis": "x5",
         "y": [
          1,
          1,
          1,
          1
         ],
         "yaxis": "y5"
        },
        {
         "legendgroup": "Base",
         "line": {
          "color": "blue",
          "dash": "solid"
         },
         "mode": "lines+markers",
         "name": "Base",
         "showlegend": false,
         "type": "scatter",
         "xaxis": "x5",
         "y": [
          0.6894409937888198,
          0.6894409937888198,
          0.6125,
          0.6521739130434783
         ],
         "yaxis": "y5"
        },
        {
         "legendgroup": "L1",
         "line": {
          "color": "orange",
          "dash": "solid"
         },
         "mode": "lines+markers",
         "name": "L1",
         "showlegend": false,
         "type": "scatter",
         "xaxis": "x5",
         "y": [
          0.7080745341614907,
          0.6894409937888198,
          0.63125,
          0.6645962732919255
         ],
         "yaxis": "y5"
        },
        {
         "legendgroup": "L2",
         "line": {
          "color": "green",
          "dash": "solid"
         },
         "mode": "lines+markers",
         "name": "L2",
         "showlegend": false,
         "type": "scatter",
         "xaxis": "x5",
         "y": [
          0.7080745341614907,
          0.6956521739130435,
          0.6375,
          0.6335403726708074
         ],
         "yaxis": "y5"
        },
        {
         "legendgroup": "Base (PCA)",
         "line": {
          "color": "blue",
          "dash": "dash"
         },
         "mode": "lines+markers",
         "name": "Base (PCA)",
         "showlegend": false,
         "type": "scatter",
         "xaxis": "x5",
         "y": [
          0.6956521739130435,
          0.7080745341614907,
          0.63125,
          0.6583850931677019
         ],
         "yaxis": "y5"
        },
        {
         "legendgroup": "L1 (PCA)",
         "line": {
          "color": "orange",
          "dash": "dash"
         },
         "mode": "lines+markers",
         "name": "L1 (PCA)",
         "showlegend": false,
         "type": "scatter",
         "xaxis": "x5",
         "y": [
          0.6956521739130435,
          0.6832298136645962,
          0.64375,
          0.6335403726708074
         ],
         "yaxis": "y5"
        },
        {
         "legendgroup": "L2 (PCA)",
         "line": {
          "color": "green",
          "dash": "dash"
         },
         "mode": "lines+markers",
         "name": "L2 (PCA)",
         "showlegend": false,
         "type": "scatter",
         "xaxis": "x5",
         "y": [
          0.7267080745341615,
          0.6956521739130435,
          0.63125,
          0.6273291925465838
         ],
         "yaxis": "y5"
        },
        {
         "legendgroup": "Dummy",
         "line": {
          "color": "red",
          "dash": "solid"
         },
         "mode": "lines+markers",
         "name": "Dummy",
         "showlegend": false,
         "type": "scatter",
         "xaxis": "x6",
         "y": [
          0.6747694886839899,
          0.6747694886839899,
          0.6734006734006734,
          0.6770395290159799
         ],
         "yaxis": "y6"
        },
        {
         "legendgroup": "Base",
         "line": {
          "color": "blue",
          "dash": "solid"
         },
         "mode": "lines+markers",
         "name": "Base",
         "showlegend": false,
         "type": "scatter",
         "xaxis": "x6",
         "y": [
          0.7697642163661581,
          0.7827926657263752,
          0.7335329341317365,
          0.7754800590841949
         ],
         "yaxis": "y6"
        },
        {
         "legendgroup": "L1",
         "line": {
          "color": "orange",
          "dash": "solid"
         },
         "mode": "lines+markers",
         "name": "L1",
         "showlegend": false,
         "type": "scatter",
         "xaxis": "x6",
         "y": [
          0.7734056987788331,
          0.7872340425531915,
          0.7426470588235294,
          0.7949479940564635
         ],
         "yaxis": "y6"
        },
        {
         "legendgroup": "L2",
         "line": {
          "color": "green",
          "dash": "solid"
         },
         "mode": "lines+markers",
         "name": "L2",
         "showlegend": false,
         "type": "scatter",
         "xaxis": "x6",
         "y": [
          0.7818930041152263,
          0.7898448519040903,
          0.7412790697674418,
          0.785824345146379
         ],
         "yaxis": "y6"
        },
        {
         "legendgroup": "Base (PCA)",
         "line": {
          "color": "blue",
          "dash": "dash"
         },
         "mode": "lines+markers",
         "name": "Base (PCA)",
         "showlegend": false,
         "type": "scatter",
         "xaxis": "x6",
         "y": [
          0.7724137931034483,
          0.7905686546463245,
          0.7340116279069767,
          0.7782672540381792
         ],
         "yaxis": "y6"
        },
        {
         "legendgroup": "L1 (PCA)",
         "line": {
          "color": "orange",
          "dash": "dash"
         },
         "mode": "lines+markers",
         "name": "L1 (PCA)",
         "showlegend": false,
         "type": "scatter",
         "xaxis": "x6",
         "y": [
          0.7810320781032078,
          0.7890961262553802,
          0.748546511627907,
          0.785824345146379
         ],
         "yaxis": "y6"
        },
        {
         "legendgroup": "L2 (PCA)",
         "line": {
          "color": "green",
          "dash": "dash"
         },
         "mode": "lines+markers",
         "name": "L2 (PCA)",
         "showlegend": false,
         "type": "scatter",
         "xaxis": "x6",
         "y": [
          0.785234899328859,
          0.7943262411347518,
          0.7426470588235294,
          0.7829457364341085
         ],
         "yaxis": "y6"
        }
       ],
       "layout": {
        "annotations": [
         {
          "font": {
           "size": 16
          },
          "showarrow": false,
          "text": "Train Precision",
          "x": 0.14444444444444446,
          "xanchor": "center",
          "xref": "paper",
          "y": 1,
          "yanchor": "bottom",
          "yref": "paper"
         },
         {
          "font": {
           "size": 16
          },
          "showarrow": false,
          "text": "Train Recall",
          "x": 0.5,
          "xanchor": "center",
          "xref": "paper",
          "y": 1,
          "yanchor": "bottom",
          "yref": "paper"
         },
         {
          "font": {
           "size": 16
          },
          "showarrow": false,
          "text": "Train F0.5",
          "x": 0.8555555555555556,
          "xanchor": "center",
          "xref": "paper",
          "y": 1,
          "yanchor": "bottom",
          "yref": "paper"
         },
         {
          "font": {
           "size": 16
          },
          "showarrow": false,
          "text": "Valid Precision",
          "x": 0.14444444444444446,
          "xanchor": "center",
          "xref": "paper",
          "y": 0.375,
          "yanchor": "bottom",
          "yref": "paper"
         },
         {
          "font": {
           "size": 16
          },
          "showarrow": false,
          "text": "Valid Recall",
          "x": 0.5,
          "xanchor": "center",
          "xref": "paper",
          "y": 0.375,
          "yanchor": "bottom",
          "yref": "paper"
         },
         {
          "font": {
           "size": 16
          },
          "showarrow": false,
          "text": "Valid F0.5",
          "x": 0.8555555555555556,
          "xanchor": "center",
          "xref": "paper",
          "y": 0.375,
          "yanchor": "bottom",
          "yref": "paper"
         }
        ],
        "height": 700,
        "legend": {
         "title": {
          "text": "Model"
         }
        },
        "template": {
         "data": {
          "bar": [
           {
            "error_x": {
             "color": "#2a3f5f"
            },
            "error_y": {
             "color": "#2a3f5f"
            },
            "marker": {
             "line": {
              "color": "#E5ECF6",
              "width": 0.5
             },
             "pattern": {
              "fillmode": "overlay",
              "size": 10,
              "solidity": 0.2
             }
            },
            "type": "bar"
           }
          ],
          "barpolar": [
           {
            "marker": {
             "line": {
              "color": "#E5ECF6",
              "width": 0.5
             },
             "pattern": {
              "fillmode": "overlay",
              "size": 10,
              "solidity": 0.2
             }
            },
            "type": "barpolar"
           }
          ],
          "carpet": [
           {
            "aaxis": {
             "endlinecolor": "#2a3f5f",
             "gridcolor": "white",
             "linecolor": "white",
             "minorgridcolor": "white",
             "startlinecolor": "#2a3f5f"
            },
            "baxis": {
             "endlinecolor": "#2a3f5f",
             "gridcolor": "white",
             "linecolor": "white",
             "minorgridcolor": "white",
             "startlinecolor": "#2a3f5f"
            },
            "type": "carpet"
           }
          ],
          "choropleth": [
           {
            "colorbar": {
             "outlinewidth": 0,
             "ticks": ""
            },
            "type": "choropleth"
           }
          ],
          "contour": [
           {
            "colorbar": {
             "outlinewidth": 0,
             "ticks": ""
            },
            "colorscale": [
             [
              0,
              "#0d0887"
             ],
             [
              0.1111111111111111,
              "#46039f"
             ],
             [
              0.2222222222222222,
              "#7201a8"
             ],
             [
              0.3333333333333333,
              "#9c179e"
             ],
             [
              0.4444444444444444,
              "#bd3786"
             ],
             [
              0.5555555555555556,
              "#d8576b"
             ],
             [
              0.6666666666666666,
              "#ed7953"
             ],
             [
              0.7777777777777778,
              "#fb9f3a"
             ],
             [
              0.8888888888888888,
              "#fdca26"
             ],
             [
              1,
              "#f0f921"
             ]
            ],
            "type": "contour"
           }
          ],
          "contourcarpet": [
           {
            "colorbar": {
             "outlinewidth": 0,
             "ticks": ""
            },
            "type": "contourcarpet"
           }
          ],
          "heatmap": [
           {
            "colorbar": {
             "outlinewidth": 0,
             "ticks": ""
            },
            "colorscale": [
             [
              0,
              "#0d0887"
             ],
             [
              0.1111111111111111,
              "#46039f"
             ],
             [
              0.2222222222222222,
              "#7201a8"
             ],
             [
              0.3333333333333333,
              "#9c179e"
             ],
             [
              0.4444444444444444,
              "#bd3786"
             ],
             [
              0.5555555555555556,
              "#d8576b"
             ],
             [
              0.6666666666666666,
              "#ed7953"
             ],
             [
              0.7777777777777778,
              "#fb9f3a"
             ],
             [
              0.8888888888888888,
              "#fdca26"
             ],
             [
              1,
              "#f0f921"
             ]
            ],
            "type": "heatmap"
           }
          ],
          "histogram": [
           {
            "marker": {
             "pattern": {
              "fillmode": "overlay",
              "size": 10,
              "solidity": 0.2
             }
            },
            "type": "histogram"
           }
          ],
          "histogram2d": [
           {
            "colorbar": {
             "outlinewidth": 0,
             "ticks": ""
            },
            "colorscale": [
             [
              0,
              "#0d0887"
             ],
             [
              0.1111111111111111,
              "#46039f"
             ],
             [
              0.2222222222222222,
              "#7201a8"
             ],
             [
              0.3333333333333333,
              "#9c179e"
             ],
             [
              0.4444444444444444,
              "#bd3786"
             ],
             [
              0.5555555555555556,
              "#d8576b"
             ],
             [
              0.6666666666666666,
              "#ed7953"
             ],
             [
              0.7777777777777778,
              "#fb9f3a"
             ],
             [
              0.8888888888888888,
              "#fdca26"
             ],
             [
              1,
              "#f0f921"
             ]
            ],
            "type": "histogram2d"
           }
          ],
          "histogram2dcontour": [
           {
            "colorbar": {
             "outlinewidth": 0,
             "ticks": ""
            },
            "colorscale": [
             [
              0,
              "#0d0887"
             ],
             [
              0.1111111111111111,
              "#46039f"
             ],
             [
              0.2222222222222222,
              "#7201a8"
             ],
             [
              0.3333333333333333,
              "#9c179e"
             ],
             [
              0.4444444444444444,
              "#bd3786"
             ],
             [
              0.5555555555555556,
              "#d8576b"
             ],
             [
              0.6666666666666666,
              "#ed7953"
             ],
             [
              0.7777777777777778,
              "#fb9f3a"
             ],
             [
              0.8888888888888888,
              "#fdca26"
             ],
             [
              1,
              "#f0f921"
             ]
            ],
            "type": "histogram2dcontour"
           }
          ],
          "mesh3d": [
           {
            "colorbar": {
             "outlinewidth": 0,
             "ticks": ""
            },
            "type": "mesh3d"
           }
          ],
          "parcoords": [
           {
            "line": {
             "colorbar": {
              "outlinewidth": 0,
              "ticks": ""
             }
            },
            "type": "parcoords"
           }
          ],
          "pie": [
           {
            "automargin": true,
            "type": "pie"
           }
          ],
          "scatter": [
           {
            "fillpattern": {
             "fillmode": "overlay",
             "size": 10,
             "solidity": 0.2
            },
            "type": "scatter"
           }
          ],
          "scatter3d": [
           {
            "line": {
             "colorbar": {
              "outlinewidth": 0,
              "ticks": ""
             }
            },
            "marker": {
             "colorbar": {
              "outlinewidth": 0,
              "ticks": ""
             }
            },
            "type": "scatter3d"
           }
          ],
          "scattercarpet": [
           {
            "marker": {
             "colorbar": {
              "outlinewidth": 0,
              "ticks": ""
             }
            },
            "type": "scattercarpet"
           }
          ],
          "scattergeo": [
           {
            "marker": {
             "colorbar": {
              "outlinewidth": 0,
              "ticks": ""
             }
            },
            "type": "scattergeo"
           }
          ],
          "scattergl": [
           {
            "marker": {
             "colorbar": {
              "outlinewidth": 0,
              "ticks": ""
             }
            },
            "type": "scattergl"
           }
          ],
          "scattermap": [
           {
            "marker": {
             "colorbar": {
              "outlinewidth": 0,
              "ticks": ""
             }
            },
            "type": "scattermap"
           }
          ],
          "scattermapbox": [
           {
            "marker": {
             "colorbar": {
              "outlinewidth": 0,
              "ticks": ""
             }
            },
            "type": "scattermapbox"
           }
          ],
          "scatterpolar": [
           {
            "marker": {
             "colorbar": {
              "outlinewidth": 0,
              "ticks": ""
             }
            },
            "type": "scatterpolar"
           }
          ],
          "scatterpolargl": [
           {
            "marker": {
             "colorbar": {
              "outlinewidth": 0,
              "ticks": ""
             }
            },
            "type": "scatterpolargl"
           }
          ],
          "scatterternary": [
           {
            "marker": {
             "colorbar": {
              "outlinewidth": 0,
              "ticks": ""
             }
            },
            "type": "scatterternary"
           }
          ],
          "surface": [
           {
            "colorbar": {
             "outlinewidth": 0,
             "ticks": ""
            },
            "colorscale": [
             [
              0,
              "#0d0887"
             ],
             [
              0.1111111111111111,
              "#46039f"
             ],
             [
              0.2222222222222222,
              "#7201a8"
             ],
             [
              0.3333333333333333,
              "#9c179e"
             ],
             [
              0.4444444444444444,
              "#bd3786"
             ],
             [
              0.5555555555555556,
              "#d8576b"
             ],
             [
              0.6666666666666666,
              "#ed7953"
             ],
             [
              0.7777777777777778,
              "#fb9f3a"
             ],
             [
              0.8888888888888888,
              "#fdca26"
             ],
             [
              1,
              "#f0f921"
             ]
            ],
            "type": "surface"
           }
          ],
          "table": [
           {
            "cells": {
             "fill": {
              "color": "#EBF0F8"
             },
             "line": {
              "color": "white"
             }
            },
            "header": {
             "fill": {
              "color": "#C8D4E3"
             },
             "line": {
              "color": "white"
             }
            },
            "type": "table"
           }
          ]
         },
         "layout": {
          "annotationdefaults": {
           "arrowcolor": "#2a3f5f",
           "arrowhead": 0,
           "arrowwidth": 1
          },
          "autotypenumbers": "strict",
          "coloraxis": {
           "colorbar": {
            "outlinewidth": 0,
            "ticks": ""
           }
          },
          "colorscale": {
           "diverging": [
            [
             0,
             "#8e0152"
            ],
            [
             0.1,
             "#c51b7d"
            ],
            [
             0.2,
             "#de77ae"
            ],
            [
             0.3,
             "#f1b6da"
            ],
            [
             0.4,
             "#fde0ef"
            ],
            [
             0.5,
             "#f7f7f7"
            ],
            [
             0.6,
             "#e6f5d0"
            ],
            [
             0.7,
             "#b8e186"
            ],
            [
             0.8,
             "#7fbc41"
            ],
            [
             0.9,
             "#4d9221"
            ],
            [
             1,
             "#276419"
            ]
           ],
           "sequential": [
            [
             0,
             "#0d0887"
            ],
            [
             0.1111111111111111,
             "#46039f"
            ],
            [
             0.2222222222222222,
             "#7201a8"
            ],
            [
             0.3333333333333333,
             "#9c179e"
            ],
            [
             0.4444444444444444,
             "#bd3786"
            ],
            [
             0.5555555555555556,
             "#d8576b"
            ],
            [
             0.6666666666666666,
             "#ed7953"
            ],
            [
             0.7777777777777778,
             "#fb9f3a"
            ],
            [
             0.8888888888888888,
             "#fdca26"
            ],
            [
             1,
             "#f0f921"
            ]
           ],
           "sequentialminus": [
            [
             0,
             "#0d0887"
            ],
            [
             0.1111111111111111,
             "#46039f"
            ],
            [
             0.2222222222222222,
             "#7201a8"
            ],
            [
             0.3333333333333333,
             "#9c179e"
            ],
            [
             0.4444444444444444,
             "#bd3786"
            ],
            [
             0.5555555555555556,
             "#d8576b"
            ],
            [
             0.6666666666666666,
             "#ed7953"
            ],
            [
             0.7777777777777778,
             "#fb9f3a"
            ],
            [
             0.8888888888888888,
             "#fdca26"
            ],
            [
             1,
             "#f0f921"
            ]
           ]
          },
          "colorway": [
           "#636efa",
           "#EF553B",
           "#00cc96",
           "#ab63fa",
           "#FFA15A",
           "#19d3f3",
           "#FF6692",
           "#B6E880",
           "#FF97FF",
           "#FECB52"
          ],
          "font": {
           "color": "#2a3f5f"
          },
          "geo": {
           "bgcolor": "white",
           "lakecolor": "white",
           "landcolor": "#E5ECF6",
           "showlakes": true,
           "showland": true,
           "subunitcolor": "white"
          },
          "hoverlabel": {
           "align": "left"
          },
          "hovermode": "closest",
          "mapbox": {
           "style": "light"
          },
          "paper_bgcolor": "white",
          "plot_bgcolor": "#E5ECF6",
          "polar": {
           "angularaxis": {
            "gridcolor": "white",
            "linecolor": "white",
            "ticks": ""
           },
           "bgcolor": "#E5ECF6",
           "radialaxis": {
            "gridcolor": "white",
            "linecolor": "white",
            "ticks": ""
           }
          },
          "scene": {
           "xaxis": {
            "backgroundcolor": "#E5ECF6",
            "gridcolor": "white",
            "gridwidth": 2,
            "linecolor": "white",
            "showbackground": true,
            "ticks": "",
            "zerolinecolor": "white"
           },
           "yaxis": {
            "backgroundcolor": "#E5ECF6",
            "gridcolor": "white",
            "gridwidth": 2,
            "linecolor": "white",
            "showbackground": true,
            "ticks": "",
            "zerolinecolor": "white"
           },
           "zaxis": {
            "backgroundcolor": "#E5ECF6",
            "gridcolor": "white",
            "gridwidth": 2,
            "linecolor": "white",
            "showbackground": true,
            "ticks": "",
            "zerolinecolor": "white"
           }
          },
          "shapedefaults": {
           "line": {
            "color": "#2a3f5f"
           }
          },
          "ternary": {
           "aaxis": {
            "gridcolor": "white",
            "linecolor": "white",
            "ticks": ""
           },
           "baxis": {
            "gridcolor": "white",
            "linecolor": "white",
            "ticks": ""
           },
           "bgcolor": "#E5ECF6",
           "caxis": {
            "gridcolor": "white",
            "linecolor": "white",
            "ticks": ""
           }
          },
          "title": {
           "x": 0.05
          },
          "xaxis": {
           "automargin": true,
           "gridcolor": "white",
           "linecolor": "white",
           "ticks": "",
           "title": {
            "standoff": 15
           },
           "zerolinecolor": "white",
           "zerolinewidth": 2
          },
          "yaxis": {
           "automargin": true,
           "gridcolor": "white",
           "linecolor": "white",
           "ticks": "",
           "title": {
            "standoff": 15
           },
           "zerolinecolor": "white",
           "zerolinewidth": 2
          }
         }
        },
        "title": {
         "text": "Cross-Validation Metrics for All Models"
        },
        "width": 1500,
        "xaxis": {
         "anchor": "y",
         "domain": [
          0,
          0.2888888888888889
         ]
        },
        "xaxis2": {
         "anchor": "y2",
         "domain": [
          0.35555555555555557,
          0.6444444444444445
         ]
        },
        "xaxis3": {
         "anchor": "y3",
         "domain": [
          0.7111111111111111,
          1
         ]
        },
        "xaxis4": {
         "anchor": "y4",
         "domain": [
          0,
          0.2888888888888889
         ]
        },
        "xaxis5": {
         "anchor": "y5",
         "domain": [
          0.35555555555555557,
          0.6444444444444445
         ]
        },
        "xaxis6": {
         "anchor": "y6",
         "domain": [
          0.7111111111111111,
          1
         ]
        },
        "yaxis": {
         "anchor": "x",
         "domain": [
          0.625,
          1
         ]
        },
        "yaxis2": {
         "anchor": "x2",
         "domain": [
          0.625,
          1
         ]
        },
        "yaxis3": {
         "anchor": "x3",
         "domain": [
          0.625,
          1
         ]
        },
        "yaxis4": {
         "anchor": "x4",
         "domain": [
          0,
          0.375
         ]
        },
        "yaxis5": {
         "anchor": "x5",
         "domain": [
          0,
          0.375
         ]
        },
        "yaxis6": {
         "anchor": "x6",
         "domain": [
          0,
          0.375
         ]
        }
       }
      }
     },
     "metadata": {},
     "output_type": "display_data"
    }
   ],
   "source": [
    "fig = make_subplots(\n",
    "    rows=2, cols=3,\n",
    "    subplot_titles=[\n",
    "        \"Train Precision\", \"Train Recall\", f\"Train F{beta}\",\n",
    "        \"Valid Precision\", \"Valid Recall\", f\"Valid F{beta}\"\n",
    "    ]\n",
    ")\n",
    "\n",
    "model_names = [\n",
    "    (\"dummy\", \"Dummy\"),\n",
    "    (\"lr\", \"Base\"),\n",
    "    (\"lr_l1\", \"L1\"),\n",
    "    (\"lr_l2\", \"L2\"),\n",
    "    (\"lr_pca\", \"Base (PCA)\"),\n",
    "    (\"lr_l1_pca\", \"L1 (PCA)\"),\n",
    "    (\"lr_l2_pca\", \"L2 (PCA)\")\n",
    "]\n",
    "\n",
    "# Unique color per model\n",
    "model_colors = {\n",
    "    \"Dummy\": \"red\",\n",
    "    \"Base\": \"blue\",\n",
    "    \"L1\": \"orange\",\n",
    "    \"L2\": \"green\",\n",
    "    \"Base (PCA)\": \"blue\",\n",
    "    \"L1 (PCA)\": \"orange\",\n",
    "    \"L2 (PCA)\": \"green\"\n",
    "}\n",
    "\n",
    "metrics = [\"precision\", \"recall\", f\"F{beta}\"]\n",
    "scenarios = [\"train\", \"valid\"]\n",
    "\n",
    "for row, scenario in enumerate(scenarios, start=1):\n",
    "    for col, metric in enumerate(metrics, start=1):\n",
    "        for model_var, model_label in model_names:\n",
    "            model = globals()[model_var]\n",
    "            y_vals = model.cv_scores[scenario][metric]\n",
    "            is_pca = \"PCA\" in model_label\n",
    "            fig.add_trace(\n",
    "                go.Scatter(\n",
    "                    y=y_vals,\n",
    "                    mode=\"lines+markers\",\n",
    "                    name=model_label,\n",
    "                    legendgroup=model_label,\n",
    "                    line=dict(\n",
    "                        dash=\"dash\" if is_pca else \"solid\",\n",
    "                        color=model_colors[model_label]\n",
    "                    ),\n",
    "                    showlegend=(row == 1 and col == 1)\n",
    "                ),\n",
    "                row=row, col=col\n",
    "            )\n",
    "\n",
    "fig.update_layout(\n",
    "    height=700, width=1500,\n",
    "    title_text=\"Cross-Validation Metrics for All Models\",\n",
    "    legend_title_text=\"Model\"\n",
    ")\n",
    "fig.show()"
   ]
  },
  {
   "cell_type": "markdown",
   "id": "dd9a6b4d",
   "metadata": {},
   "source": [
    "1) Model generalize very well (metrics across train / valid folds are close) <br>\n",
    "2) All LR models outperform dummy classifier. <br>\n",
    "3) PCA seems to improving both precision and recall (especially during validation) : denoising the data helps the model focusing on relevant patterns !\n",
    "4) Best model seems to be L2 + PCA : best score on validation + improves the learning process in the sens of the given metric (focusing more on improving precision than recall)"
   ]
  },
  {
   "cell_type": "code",
   "execution_count": 68,
   "id": "2c0272d5",
   "metadata": {},
   "outputs": [
    {
     "name": "stdout",
     "output_type": "stream",
     "text": [
      "| Model     |   Train Precision |   Train Recall |   Train F0.5 |   Valid Precision |   Valid Recall |   Valid F0.5 |\n",
      "|-----------|-------------------|----------------|--------------|-------------------|----------------|--------------|\n",
      "| dummy     |            0.6243 |         1.0000 |       0.6750 |            0.6243 |         1.0000 |       0.6750 |\n",
      "| lr        |            0.8024 |         0.6646 |       0.7704 |            0.7972 |         0.6609 |       0.7654 |\n",
      "| lr_pca    |            0.7971 |         0.6739 |       0.7690 |            0.7973 |         0.6733 |       0.7688 |\n",
      "| lr_l1     |            0.7986 |         0.6718 |       0.7695 |            0.8052 |         0.6733 |       0.7746 |\n",
      "| lr_l1_pca |            0.8058 |         0.6641 |       0.7728 |            0.8108 |         0.6640 |       0.7761 |\n",
      "| lr_l2     |            0.7996 |         0.6677 |       0.7692 |            0.8073 |         0.6687 |       0.7747 |\n",
      "| lr_l2_pca |            0.8002 |         0.6677 |       0.7696 |            0.8091 |         0.6702 |       0.7763 |\n"
     ]
    }
   ],
   "source": [
    "# Mettrics comparison\n",
    "results = []\n",
    "\n",
    "for model in [dummy, lr, lr_pca, lr_l1, lr_l1_pca, lr_l2, lr_l2_pca]:\n",
    "    row = [model.name]\n",
    "    for scenario in scenarios:\n",
    "        for metric in metrics:\n",
    "            avg = np.mean(model.cv_scores[scenario][metric])\n",
    "            row.append(avg)\n",
    "    results.append(row)\n",
    "\n",
    "headers = [\"Model\"] + [f\"{scenario.capitalize()} {metric.capitalize()}\" for scenario in scenarios for metric in metrics]\n",
    "print(tabulate(results, headers=headers, tablefmt=\"github\", floatfmt=\".4f\"))"
   ]
  },
  {
   "cell_type": "markdown",
   "id": "fe18cafb",
   "metadata": {},
   "source": [
    "1) Regularization is stabilizing model generalization (smaller gaps between train and valid + across folds) <br>\n",
    "2) PCA is improving learning <br>\n",
    "3) Elastic Net not adapted to this scenario : over-fitting <br>\n",
    "4) Recall curve is a bit less consistent across folds than precision : might be due to our focus on precision with beta = 0.5. <br>\n",
    "5) Best model chosen according to validation Fbeta score and curves : PCA + L2"
   ]
  },
  {
   "cell_type": "code",
   "execution_count": 69,
   "id": "43040886",
   "metadata": {},
   "outputs": [
    {
     "name": "stdout",
     "output_type": "stream",
     "text": [
      "Best configuration saved to: models/params/lr.json\n"
     ]
    }
   ],
   "source": [
    "# Saving best configs\n",
    "\n",
    "best_config = params[\"l2_pca\"].copy() # choose manually\n",
    "best_config.pop(\"scaler\")\n",
    "best_config.pop(\"pca\")\n",
    "best_config.pop(\"c_min\")\n",
    "best_config.pop(\"c_max\")\n",
    "best_config.pop(\"n_trials\")\n",
    "best_config.pop(\"model\")\n",
    "\n",
    "save_config_path = os.path.join(\"models\",\"params\",\"lr.json\")\n",
    "os.makedirs(os.path.dirname(save_config_path), exist_ok=True)\n",
    "with open(save_config_path, 'w') as f:\n",
    "    json.dump(best_config, f, indent=4)\n",
    "\n",
    "print(f\"Best configuration saved to: {save_config_path}\")"
   ]
  },
  {
   "cell_type": "code",
   "execution_count": 70,
   "id": "75c6a659",
   "metadata": {},
   "outputs": [
    {
     "name": "stdout",
     "output_type": "stream",
     "text": [
      "Evaluating on test set\n",
      "Evaluating on test set\n",
      "Evaluating on test set\n",
      "Evaluating on test set\n",
      "Evaluating on test set\n",
      "Evaluating on test set\n",
      "Evaluating on test set\n",
      "\n",
      "Test Set Performance:\n",
      "| Model     |   Precision |   Recall |   F0.5-Score |\n",
      "|-----------|-------------|----------|--------------|\n",
      "| dummy     |      0.6240 |   1.0000 |       0.6748 |\n",
      "| lr        |      0.8345 |   0.7205 |       0.8089 |\n",
      "| lr_pca    |      0.8264 |   0.7391 |       0.8073 |\n",
      "| lr_l1     |      0.8264 |   0.7391 |       0.8073 |\n",
      "| lr_l1_pca |      0.8310 |   0.7329 |       0.8093 |\n",
      "| lr_l2     |      0.8169 |   0.7205 |       0.7956 |\n",
      "| lr_l2_pca |      0.8227 |   0.7205 |       0.8000 |\n"
     ]
    }
   ],
   "source": [
    "# Fit all models and evaluate on test set\n",
    "test_results = []\n",
    "\n",
    "for model in [dummy, lr, lr_pca, lr_l1, lr_l1_pca, lr_l2, lr_l2_pca]:\n",
    "    model.fit(X_train, y_train)\n",
    "    test_metrics = model.evaluate(X_test, y_test)\n",
    "    \n",
    "    row = [model.name, test_metrics[\"precision\"], test_metrics[\"recall\"], test_metrics[f\"F{beta}\"]]\n",
    "    test_results.append(row)\n",
    "\n",
    "# Display results\n",
    "test_headers = [\"Model\", \"Precision\", \"Recall\", f\"F{beta}-Score\"]\n",
    "print(\"\\nTest Set Performance:\")\n",
    "print(tabulate(test_results, headers=test_headers, tablefmt=\"github\", floatfmt=\".4f\"))"
   ]
  },
  {
   "cell_type": "markdown",
   "id": "6f5b6489",
   "metadata": {},
   "source": [
    "Good generalization property (higher and close to  metrics obtained with cross validation validation set) ! <br>\n",
    "L2 + PCA almost gives best scores on test set (close margin) !"
   ]
  }
 ],
 "metadata": {
  "kernelspec": {
   "display_name": "ml",
   "language": "python",
   "name": "python3"
  },
  "language_info": {
   "codemirror_mode": {
    "name": "ipython",
    "version": 3
   },
   "file_extension": ".py",
   "mimetype": "text/x-python",
   "name": "python",
   "nbconvert_exporter": "python",
   "pygments_lexer": "ipython3",
   "version": "3.11.13"
  }
 },
 "nbformat": 4,
 "nbformat_minor": 5
}
