{
 "cells": [
  {
   "cell_type": "markdown",
   "id": "e52739c2",
   "metadata": {},
   "source": [
    "# 1. Data processing\n",
    "- Collect data\n",
    "- Input Missing values\n",
    "- Remove duplicates\n",
    "- Check value coherency"
   ]
  },
  {
   "cell_type": "code",
   "execution_count": null,
   "id": "e796e294",
   "metadata": {},
   "outputs": [
    {
     "name": "stdout",
     "output_type": "stream",
     "text": [
      "Handling missing values ...\n"
     ]
    }
   ],
   "source": [
    "import pandas as pd\n",
    "import os\n",
    "import plotly.graph_objects as go\n",
    "from plotly.subplots import make_subplots\n",
    "import numpy as np\n",
    "\n",
    "# Utils\n",
    "from tools.preprocessing import handle_missing_vals, cap_outliers\n",
    "\n",
    "path_data = os.path.join(\"data\",\"nba_dataset.csv\")\n",
    "df = pd.read_csv(path_data)\n",
    "df = df.drop(columns=\"Name\") # Useless column for our study\n",
    "df = handle_missing_vals(df)\n"
   ]
  },
  {
   "cell_type": "code",
   "execution_count": 12,
   "id": "8a4ba8cb",
   "metadata": {},
   "outputs": [
    {
     "name": "stdout",
     "output_type": "stream",
     "text": [
      "Removing 12 duplicates\n",
      "Removing 40 quasi-duplicates\n"
     ]
    }
   ],
   "source": [
    "# Duplicates\n",
    "# True duplicates\n",
    "l1 = len(df)\n",
    "target = \"TARGET_5Yrs\"\n",
    "df = df.drop_duplicates()\n",
    "l2 = len(df)\n",
    "print(\"Removing {} duplicates\".format(l1 - l2))\n",
    "\n",
    "# Quasi duplicates\n",
    "mask_duplicated = df.duplicated(subset=df.columns.difference([target]), keep=False)\n",
    "df = df[~mask_duplicated]\n",
    "l1 = len(df)\n",
    "print(\"Removing {} quasi-duplicates\".format(l2 - l1))\n",
    "\n",
    "mask_duplicated = df.duplicated(subset=df.columns.difference([target]), keep=False)\n",
    "assert not mask_duplicated.any().any(), \"Duplicates remaining\""
   ]
  },
  {
   "cell_type": "markdown",
   "id": "affbfa86",
   "metadata": {},
   "source": [
    "We observe some duplicates and quasi-duplicates (rows with the exact same feature but a different target). Assuming we have no access to the original data, I decide to drop them. <br>\n",
    "We lose around 4% of the dataset doing so but data is now way cleaner !"
   ]
  },
  {
   "cell_type": "markdown",
   "id": "a3624b30",
   "metadata": {},
   "source": [
    "# 2. EDA\n",
    "- Feature correlation\n",
    "- Outliers\n",
    "- Histogram"
   ]
  },
  {
   "cell_type": "code",
   "execution_count": 13,
   "id": "576a8335",
   "metadata": {},
   "outputs": [
    {
     "data": {
      "application/vnd.plotly.v1+json": {
       "config": {
        "plotlyServerURL": "https://plot.ly"
       },
       "data": [
        {
         "colorbar": {
          "title": {
           "text": "Correlation"
          }
         },
         "colorscale": [
          [
           0,
           "rgb(103,0,31)"
          ],
          [
           0.1,
           "rgb(178,24,43)"
          ],
          [
           0.2,
           "rgb(214,96,77)"
          ],
          [
           0.3,
           "rgb(244,165,130)"
          ],
          [
           0.4,
           "rgb(253,219,199)"
          ],
          [
           0.5,
           "rgb(247,247,247)"
          ],
          [
           0.6,
           "rgb(209,229,240)"
          ],
          [
           0.7,
           "rgb(146,197,222)"
          ],
          [
           0.8,
           "rgb(67,147,195)"
          ],
          [
           0.9,
           "rgb(33,102,172)"
          ],
          [
           1,
           "rgb(5,48,97)"
          ]
         ],
         "text": {
          "bdata": "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",
          "dtype": "f8",
          "shape": "20, 20"
         },
         "texttemplate": "%{text}",
         "type": "heatmap",
         "x": [
          "GP",
          "MIN",
          "PTS",
          "FGM",
          "FGA",
          "FG%",
          "3P Made",
          "3PA",
          "3P%",
          "FTM",
          "FTA",
          "FT%",
          "OREB",
          "DREB",
          "REB",
          "AST",
          "STL",
          "BLK",
          "TOV",
          "TARGET_5Yrs"
         ],
         "y": [
          "GP",
          "MIN",
          "PTS",
          "FGM",
          "FGA",
          "FG%",
          "3P Made",
          "3PA",
          "3P%",
          "FTM",
          "FTA",
          "FT%",
          "OREB",
          "DREB",
          "REB",
          "AST",
          "STL",
          "BLK",
          "TOV",
          "TARGET_5Yrs"
         ],
         "z": {
          "bdata": "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",
          "dtype": "f8",
          "shape": "20, 20"
         },
         "zmax": 1,
         "zmin": -1
        }
       ],
       "layout": {
        "height": 1000,
        "template": {
         "data": {
          "bar": [
           {
            "error_x": {
             "color": "#2a3f5f"
            },
            "error_y": {
             "color": "#2a3f5f"
            },
            "marker": {
             "line": {
              "color": "#E5ECF6",
              "width": 0.5
             },
             "pattern": {
              "fillmode": "overlay",
              "size": 10,
              "solidity": 0.2
             }
            },
            "type": "bar"
           }
          ],
          "barpolar": [
           {
            "marker": {
             "line": {
              "color": "#E5ECF6",
              "width": 0.5
             },
             "pattern": {
              "fillmode": "overlay",
              "size": 10,
              "solidity": 0.2
             }
            },
            "type": "barpolar"
           }
          ],
          "carpet": [
           {
            "aaxis": {
             "endlinecolor": "#2a3f5f",
             "gridcolor": "white",
             "linecolor": "white",
             "minorgridcolor": "white",
             "startlinecolor": "#2a3f5f"
            },
            "baxis": {
             "endlinecolor": "#2a3f5f",
             "gridcolor": "white",
             "linecolor": "white",
             "minorgridcolor": "white",
             "startlinecolor": "#2a3f5f"
            },
            "type": "carpet"
           }
          ],
          "choropleth": [
           {
            "colorbar": {
             "outlinewidth": 0,
             "ticks": ""
            },
            "type": "choropleth"
           }
          ],
          "contour": [
           {
            "colorbar": {
             "outlinewidth": 0,
             "ticks": ""
            },
            "colorscale": [
             [
              0,
              "#0d0887"
             ],
             [
              0.1111111111111111,
              "#46039f"
             ],
             [
              0.2222222222222222,
              "#7201a8"
             ],
             [
              0.3333333333333333,
              "#9c179e"
             ],
             [
              0.4444444444444444,
              "#bd3786"
             ],
             [
              0.5555555555555556,
              "#d8576b"
             ],
             [
              0.6666666666666666,
              "#ed7953"
             ],
             [
              0.7777777777777778,
              "#fb9f3a"
             ],
             [
              0.8888888888888888,
              "#fdca26"
             ],
             [
              1,
              "#f0f921"
             ]
            ],
            "type": "contour"
           }
          ],
          "contourcarpet": [
           {
            "colorbar": {
             "outlinewidth": 0,
             "ticks": ""
            },
            "type": "contourcarpet"
           }
          ],
          "heatmap": [
           {
            "colorbar": {
             "outlinewidth": 0,
             "ticks": ""
            },
            "colorscale": [
             [
              0,
              "#0d0887"
             ],
             [
              0.1111111111111111,
              "#46039f"
             ],
             [
              0.2222222222222222,
              "#7201a8"
             ],
             [
              0.3333333333333333,
              "#9c179e"
             ],
             [
              0.4444444444444444,
              "#bd3786"
             ],
             [
              0.5555555555555556,
              "#d8576b"
             ],
             [
              0.6666666666666666,
              "#ed7953"
             ],
             [
              0.7777777777777778,
              "#fb9f3a"
             ],
             [
              0.8888888888888888,
              "#fdca26"
             ],
             [
              1,
              "#f0f921"
             ]
            ],
            "type": "heatmap"
           }
          ],
          "histogram": [
           {
            "marker": {
             "pattern": {
              "fillmode": "overlay",
              "size": 10,
              "solidity": 0.2
             }
            },
            "type": "histogram"
           }
          ],
          "histogram2d": [
           {
            "colorbar": {
             "outlinewidth": 0,
             "ticks": ""
            },
            "colorscale": [
             [
              0,
              "#0d0887"
             ],
             [
              0.1111111111111111,
              "#46039f"
             ],
             [
              0.2222222222222222,
              "#7201a8"
             ],
             [
              0.3333333333333333,
              "#9c179e"
             ],
             [
              0.4444444444444444,
              "#bd3786"
             ],
             [
              0.5555555555555556,
              "#d8576b"
             ],
             [
              0.6666666666666666,
              "#ed7953"
             ],
             [
              0.7777777777777778,
              "#fb9f3a"
             ],
             [
              0.8888888888888888,
              "#fdca26"
             ],
             [
              1,
              "#f0f921"
             ]
            ],
            "type": "histogram2d"
           }
          ],
          "histogram2dcontour": [
           {
            "colorbar": {
             "outlinewidth": 0,
             "ticks": ""
            },
            "colorscale": [
             [
              0,
              "#0d0887"
             ],
             [
              0.1111111111111111,
              "#46039f"
             ],
             [
              0.2222222222222222,
              "#7201a8"
             ],
             [
              0.3333333333333333,
              "#9c179e"
             ],
             [
              0.4444444444444444,
              "#bd3786"
             ],
             [
              0.5555555555555556,
              "#d8576b"
             ],
             [
              0.6666666666666666,
              "#ed7953"
             ],
             [
              0.7777777777777778,
              "#fb9f3a"
             ],
             [
              0.8888888888888888,
              "#fdca26"
             ],
             [
              1,
              "#f0f921"
             ]
            ],
            "type": "histogram2dcontour"
           }
          ],
          "mesh3d": [
           {
            "colorbar": {
             "outlinewidth": 0,
             "ticks": ""
            },
            "type": "mesh3d"
           }
          ],
          "parcoords": [
           {
            "line": {
             "colorbar": {
              "outlinewidth": 0,
              "ticks": ""
             }
            },
            "type": "parcoords"
           }
          ],
          "pie": [
           {
            "automargin": true,
            "type": "pie"
           }
          ],
          "scatter": [
           {
            "fillpattern": {
             "fillmode": "overlay",
             "size": 10,
             "solidity": 0.2
            },
            "type": "scatter"
           }
          ],
          "scatter3d": [
           {
            "line": {
             "colorbar": {
              "outlinewidth": 0,
              "ticks": ""
             }
            },
            "marker": {
             "colorbar": {
              "outlinewidth": 0,
              "ticks": ""
             }
            },
            "type": "scatter3d"
           }
          ],
          "scattercarpet": [
           {
            "marker": {
             "colorbar": {
              "outlinewidth": 0,
              "ticks": ""
             }
            },
            "type": "scattercarpet"
           }
          ],
          "scattergeo": [
           {
            "marker": {
             "colorbar": {
              "outlinewidth": 0,
              "ticks": ""
             }
            },
            "type": "scattergeo"
           }
          ],
          "scattergl": [
           {
            "marker": {
             "colorbar": {
              "outlinewidth": 0,
              "ticks": ""
             }
            },
            "type": "scattergl"
           }
          ],
          "scattermap": [
           {
            "marker": {
             "colorbar": {
              "outlinewidth": 0,
              "ticks": ""
             }
            },
            "type": "scattermap"
           }
          ],
          "scattermapbox": [
           {
            "marker": {
             "colorbar": {
              "outlinewidth": 0,
              "ticks": ""
             }
            },
            "type": "scattermapbox"
           }
          ],
          "scatterpolar": [
           {
            "marker": {
             "colorbar": {
              "outlinewidth": 0,
              "ticks": ""
             }
            },
            "type": "scatterpolar"
           }
          ],
          "scatterpolargl": [
           {
            "marker": {
             "colorbar": {
              "outlinewidth": 0,
              "ticks": ""
             }
            },
            "type": "scatterpolargl"
           }
          ],
          "scatterternary": [
           {
            "marker": {
             "colorbar": {
              "outlinewidth": 0,
              "ticks": ""
             }
            },
            "type": "scatterternary"
           }
          ],
          "surface": [
           {
            "colorbar": {
             "outlinewidth": 0,
             "ticks": ""
            },
            "colorscale": [
             [
              0,
              "#0d0887"
             ],
             [
              0.1111111111111111,
              "#46039f"
             ],
             [
              0.2222222222222222,
              "#7201a8"
             ],
             [
              0.3333333333333333,
              "#9c179e"
             ],
             [
              0.4444444444444444,
              "#bd3786"
             ],
             [
              0.5555555555555556,
              "#d8576b"
             ],
             [
              0.6666666666666666,
              "#ed7953"
             ],
             [
              0.7777777777777778,
              "#fb9f3a"
             ],
             [
              0.8888888888888888,
              "#fdca26"
             ],
             [
              1,
              "#f0f921"
             ]
            ],
            "type": "surface"
           }
          ],
          "table": [
           {
            "cells": {
             "fill": {
              "color": "#EBF0F8"
             },
             "line": {
              "color": "white"
             }
            },
            "header": {
             "fill": {
              "color": "#C8D4E3"
             },
             "line": {
              "color": "white"
             }
            },
            "type": "table"
           }
          ]
         },
         "layout": {
          "annotationdefaults": {
           "arrowcolor": "#2a3f5f",
           "arrowhead": 0,
           "arrowwidth": 1
          },
          "autotypenumbers": "strict",
          "coloraxis": {
           "colorbar": {
            "outlinewidth": 0,
            "ticks": ""
           }
          },
          "colorscale": {
           "diverging": [
            [
             0,
             "#8e0152"
            ],
            [
             0.1,
             "#c51b7d"
            ],
            [
             0.2,
             "#de77ae"
            ],
            [
             0.3,
             "#f1b6da"
            ],
            [
             0.4,
             "#fde0ef"
            ],
            [
             0.5,
             "#f7f7f7"
            ],
            [
             0.6,
             "#e6f5d0"
            ],
            [
             0.7,
             "#b8e186"
            ],
            [
             0.8,
             "#7fbc41"
            ],
            [
             0.9,
             "#4d9221"
            ],
            [
             1,
             "#276419"
            ]
           ],
           "sequential": [
            [
             0,
             "#0d0887"
            ],
            [
             0.1111111111111111,
             "#46039f"
            ],
            [
             0.2222222222222222,
             "#7201a8"
            ],
            [
             0.3333333333333333,
             "#9c179e"
            ],
            [
             0.4444444444444444,
             "#bd3786"
            ],
            [
             0.5555555555555556,
             "#d8576b"
            ],
            [
             0.6666666666666666,
             "#ed7953"
            ],
            [
             0.7777777777777778,
             "#fb9f3a"
            ],
            [
             0.8888888888888888,
             "#fdca26"
            ],
            [
             1,
             "#f0f921"
            ]
           ],
           "sequentialminus": [
            [
             0,
             "#0d0887"
            ],
            [
             0.1111111111111111,
             "#46039f"
            ],
            [
             0.2222222222222222,
             "#7201a8"
            ],
            [
             0.3333333333333333,
             "#9c179e"
            ],
            [
             0.4444444444444444,
             "#bd3786"
            ],
            [
             0.5555555555555556,
             "#d8576b"
            ],
            [
             0.6666666666666666,
             "#ed7953"
            ],
            [
             0.7777777777777778,
             "#fb9f3a"
            ],
            [
             0.8888888888888888,
             "#fdca26"
            ],
            [
             1,
             "#f0f921"
            ]
           ]
          },
          "colorway": [
           "#636efa",
           "#EF553B",
           "#00cc96",
           "#ab63fa",
           "#FFA15A",
           "#19d3f3",
           "#FF6692",
           "#B6E880",
           "#FF97FF",
           "#FECB52"
          ],
          "font": {
           "color": "#2a3f5f"
          },
          "geo": {
           "bgcolor": "white",
           "lakecolor": "white",
           "landcolor": "#E5ECF6",
           "showlakes": true,
           "showland": true,
           "subunitcolor": "white"
          },
          "hoverlabel": {
           "align": "left"
          },
          "hovermode": "closest",
          "mapbox": {
           "style": "light"
          },
          "paper_bgcolor": "white",
          "plot_bgcolor": "#E5ECF6",
          "polar": {
           "angularaxis": {
            "gridcolor": "white",
            "linecolor": "white",
            "ticks": ""
           },
           "bgcolor": "#E5ECF6",
           "radialaxis": {
            "gridcolor": "white",
            "linecolor": "white",
            "ticks": ""
           }
          },
          "scene": {
           "xaxis": {
            "backgroundcolor": "#E5ECF6",
            "gridcolor": "white",
            "gridwidth": 2,
            "linecolor": "white",
            "showbackground": true,
            "ticks": "",
            "zerolinecolor": "white"
           },
           "yaxis": {
            "backgroundcolor": "#E5ECF6",
            "gridcolor": "white",
            "gridwidth": 2,
            "linecolor": "white",
            "showbackground": true,
            "ticks": "",
            "zerolinecolor": "white"
           },
           "zaxis": {
            "backgroundcolor": "#E5ECF6",
            "gridcolor": "white",
            "gridwidth": 2,
            "linecolor": "white",
            "showbackground": true,
            "ticks": "",
            "zerolinecolor": "white"
           }
          },
          "shapedefaults": {
           "line": {
            "color": "#2a3f5f"
           }
          },
          "ternary": {
           "aaxis": {
            "gridcolor": "white",
            "linecolor": "white",
            "ticks": ""
           },
           "baxis": {
            "gridcolor": "white",
            "linecolor": "white",
            "ticks": ""
           },
           "bgcolor": "#E5ECF6",
           "caxis": {
            "gridcolor": "white",
            "linecolor": "white",
            "ticks": ""
           }
          },
          "title": {
           "x": 0.05
          },
          "xaxis": {
           "automargin": true,
           "gridcolor": "white",
           "linecolor": "white",
           "ticks": "",
           "title": {
            "standoff": 15
           },
           "zerolinecolor": "white",
           "zerolinewidth": 2
          },
          "yaxis": {
           "automargin": true,
           "gridcolor": "white",
           "linecolor": "white",
           "ticks": "",
           "title": {
            "standoff": 15
           },
           "zerolinecolor": "white",
           "zerolinewidth": 2
          }
         }
        },
        "title": {
         "text": "Feature Correlation Matrix (from scratch)"
        },
        "width": 1000
       }
      }
     },
     "metadata": {},
     "output_type": "display_data"
    }
   ],
   "source": [
    "# Feature correlation\n",
    "numeric_cols = df.select_dtypes(include=[int,float]).columns\n",
    "corr_matrix = df[numeric_cols].corr().round(4)\n",
    "\n",
    "fig = go.Figure(\n",
    "    data=go.Heatmap(\n",
    "        z=corr_matrix.values,\n",
    "        x=corr_matrix.columns,\n",
    "        y=corr_matrix.index,\n",
    "        colorscale='RdBu',\n",
    "        zmin=-1,\n",
    "        zmax=1,\n",
    "        colorbar=dict(title=\"Correlation\"),\n",
    "        text=np.round(corr_matrix.values, 2),\n",
    "        texttemplate=\"%{text}\"\n",
    "    )\n",
    ")\n",
    "\n",
    "fig.update_layout(\n",
    "    title=\"Feature Correlation Matrix (from scratch)\",\n",
    "    width=1000,\n",
    "    height=1000\n",
    ")\n",
    "fig.show()"
   ]
  },
  {
   "cell_type": "code",
   "execution_count": 14,
   "id": "536e94be",
   "metadata": {},
   "outputs": [
    {
     "data": {
      "application/vnd.plotly.v1+json": {
       "config": {
        "plotlyServerURL": "https://plot.ly"
       },
       "data": [
        {
         "name": "REB - (OREB + DREB)",
         "nbinsx": 30,
         "showlegend": false,
         "type": "histogram",
         "x": {
          "bdata": "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",
          "dtype": "f8"
         },
         "xaxis": "x",
         "yaxis": "y"
        },
        {
         "name": "3P Made - (3P% * 3PA / 100)",
         "nbinsx": 30,
         "showlegend": false,
         "type": "histogram",
         "x": {
          "bdata": "AAAAAAAAAAAAAAAAAAAAAAAAAAAAAAAAAAAAAAAAAAAAAAAAAAAAAJyZmZmZmbm/AAAAAAAAAAAAAAAAAAAAAAAAAAAAAAAAAAAAAAAAAAAAAAAAAAAAAAAAAAAAAAAAAAAAAAAAAAAAAAAAAAAAAAAAAAAAAAAAAAAAAAAAAAAAAAAAAAAAAAAAAAAAAAAAAAAAAAAAAAAAAAAAAAAAAAAAAAAAAAAAmJmZmZmZuT8AAAAAAAAAAAAAAAAAAAAAAAAAAAAAAAAAAAAAAAAAAAAAAAAAAAAAAAAAAAAAAAAAAAAAAAAAAAAAAAAAAAAAAAAAAAAAAAAAAAAAAAAAAAAAAAAAAAAAAAAAAAAAAAAAAAAAAAAAAAAAAAAAAAAAAAAAAAAAAAAAAAAAAAAAAJqZmZmZmbk/AAAAAAAAAAAAAAAAAAAAAAAAAAAAAAAAAAAAAAAAAAAAAAAAAAAAAAAAAAAAAAAAAAAAAAAAAAAAAAAAAAAAAAAAAAAAAAAAAAAAAAAAAAAAAAAAAAAAAAAAAAAAAAAAAAAAAAAAAAAAAAAAAAAAAAAAAAAAAAAAAAAAAAAAAAAAAAAAAAAAAAAAAAAAAAAAAAAAAAAAAAAAAAAAAAAAAAAAAAAAAAAAAAAAAAAAAAAAAAAAAAAAAAAAAAAAAAAAAAAAAAAAAAAAAAAAAAAAAAAAAAAAAAAAAAAAAAAAAAAAAAAAAAAAAAAAAAAAAAAAAAAAAAAAAAAAAAAAAAAAAAAAAAAAAAAAAAAAAAAAAAAAAAAAAAAAAAAAAAAAAAAAAAAAAAAAAAAAAAAAAAAAAAAAAAAAAAAAAAAAAAAAAAAAAAAAAAAAAAAAAAAAAAAAAAAAAAAAAAAAAAAAAAAAAAAAAAAAAAAAAAAAAAAAAAAAAAAAAAAAAAAAAAAAAAAAAAAAAAAAAAAAAAAAAAAAAAAAAAAAAAAAAAAAAAAAAAAAAAAAAAAAAAAAAAAAAAAAAAAAAAAAAAAAAAAAAAAAAAAAAAAAAAAAAAAAAAAAAAAAAAAAAAAAAAAAAAAAAAAAAAAAAAAAAAAAAAAAAAAAAAAAAAAAAAAAAAAAAAAAAAAAAAAAAAAAAAAAAAAAAAAAAAAAAAAAAAAAAAAAAAAAAAAAAAAAAAAAmpmZmZmZuT8AAAAAAAAAAAAAAAAAAAAAAAAAAAAAAAAAAAAAAAAAAAAAAAAAAAAAAAAAAAAAAAAAAAAAAAAAAAAAAAAAAAAAAAAAAAAAAAAAAAAAAAAAAAAAAAAAAAAAAAAAAAAAAAAAAAAAAAAAAAAAAAAAAAAAAAAAAAAAAAAAAAAAAAAAAAAAAAAAAAAAAAAAAAAAAAAAAAAAAAAAAAAAAAAAAAAAAAAAAAAAAAAAAAAAAAAAAAAAAAAAAAAAAAAAAAAAAAAAAAAAAAAAAAAAAAAAAAAAAAAAAAAAAAAAAAAAAAAAAAAAAAAAAAAAAAAAAAAAAAAAAAAAAAAAAAAAAAAAAAAAAAAAAAAAAAAAAAAAAAAAAAAAAAAAAAAAAAAAAAAAAAAAAAAAAAAAAAAAAAAAAAAAAAAAAAAAAAAAAAAAAAAAAAAAAAAAAAAAAAAAAAAAAAAAAAAAAAAAAAAAAAAAAAAAAAAAAAAAAAAAAAAAAAAAAAAAAAAAAAAAAAAAAAAAAAAAAAAAAAAAAAAAAAAAAAAAmpmZmZmZub8AAAAAAAAAAAAAAAAAAAAAAAAAAAAAAAAAAAAAAAAAAAAAAAAAAAAAAAAAAAAAAAAAAAAAAAAAAAAAAAAAAAAAAAAAAAAAAAAAAAAAAAAAAAAAAAAAAAAAAAAAAAAAAAAAAAAAAAAAAAAAAAAAAAAAAAAAAAAAAAAAAAAAAAAAAAAAAAAAAAAAAAAAAAAAAAAAAAAAAAAAAAAAAAAAAAAAAAAAAAAAAAAAAAAAAAAAAAAAAAAAAAAAAAAAAAAAAAAAAAAAAAAAAAAAAAAAAAAAAAAAAAAAAAAAAAAAAAAAAAAAAAAAAAAAAAAAAAAAAAAAAAAAAAAAAAAAAAAAAAAAAAAAAAAAAAAAAAAAAAAAAAAAAAAAAAAAAAAAAAAAAAAAAAAAAAAAAAAAAAAAAAAAAAAAAAAAAAAAAAAAAAAAAAAAAAAAAAAAAAAAAAAAAAAAAAAAAAAAAAAAAAAAAAAAAAAAAAAAAAAAAAAAAAAAAAAAAAAAAAAAAAAAAAAAAAAAAAAAAAAAAAAAAAAAAAAAAAAAAAAAAAAAAAAAAAAAAAAAAAAAAAAAAAAAAAAAAAAAAAAAAAAAAAAAAAAAAAAAAAAAAAAAAAAAAAAAAAAAAAAAAAAAAAAAAAAAAAAAAAAAAAAAAAAAAAAAAAAAAAAAAAAAAAAAAAAAAAAAAAAAAAAAAAAAAAAAAAAAAAAAAAAAAAAAAAAAAAAAAAAAAAAAAAAAAAAAAAAAAAAAAAAAAAAAAAAAAAAAAAAAAAAAAAAAAAAAAAAAAAAAAAAAAAAAAAAAAAAAAAAAAAAAAAAAAAAAAAAAAAAAAAAAAAAAAAAAAAAAAAAAAAAAAAAAAAAAAAAAAAAAAAAAAAAAAAAAAAAAAAAAAAAAAAAAAAAAAAAAAAAAAAAAAAAAAAAAAAAAAAAAAAAAAAAAAAAAAAAAAAAAAAAAAAAAAAAAAAAAAAAAAAAAAAAAAAAAAAAAAAAAAAAAAAAAAAAAAAAAAAAAAAAAAAAAAAAAAAAAAAAAAAAAAAAAAAAAAJqZmZmZmbk/AAAAAAAAAAAAAAAAAAAAAAAAAAAAAAAAAAAAAAAAAAAAAAAAAAAAAAAAAAAAAAAAAAAAAAAAAAAAAAAAAAAAAAAAAAAAAAAAAAAAAAAAAAAAAAAAAAAAAAAAAAAAAAAAAAAAAAAAAAAAAAAAAAAAAAAAAAAAAAAAAAAAAAAAAAAAAAAAAAAAAAAAAAAAAAAAAAAAAAAAAAAAAAAAAAAAAAAAAAAAAAAAAAAAAAAAAAAAAAAAAAAAAAAAAAAAAAAAAAAAAAAAAAAAAAAAAAAAAAAAAAAAAAAAAAAAAAAAAAAAAAAAAAAAAAAAAAAAAAAAAAAAAAAAAAAAAAAAAAAAAAAAAAAAAAAAAAAAAAAAAAAAAAAAAAAAAAAAAAAAAAAAAAAAAAAAAAAAAAAAAAAAAAAAAAAAAAAAAAAAAAAAAAAAAAAAAAAAAAAAAAAAAAAAAAAAAAAAAAAAAAAAAAAAAAAAAAAAAAAAAAAAAAAAAACYmZmZmZm5vwAAAAAAAAAAAAAAAAAAAAAAAAAAAAAAAAAAAAAAAAAAmpmZmZmZub8AAAAAAAAAAAAAAAAAAAAAAAAAAAAAAAAAAAAAAAAAAAAAAAAAAAAAAAAAAAAAAAAAAAAAAAAAAAAAAAAAAAAAAAAAAAAAAAAAAAAAAAAAAAAAAAAAAAAAAAAAAAAAAAAAAAAAAAAAAAAAAAAAAAAAAAAAAAAAAAAAAAAAAAAAAAAAAAAAAAAAAAAAAAAAAAAAAAAAAAAAAAAAAAAAAAAAAAAAAAAAAAAAAAAAAAAAAAAAAAAAAAAAmpmZmZmZuT8AAAAAAAAAAAAAAAAAAAAAAAAAAAAAAAAAAAAAAAAAAAAAAAAAAAAAAAAAAAAAAAAAAAAAAAAAAJqZmZmZmbk/AAAAAAAAAAAAAAAAAAAAAAAAAAAAAAAAAAAAAAAAAAAAAAAAAAAAAAAAAAAAAAAAAAAAAAAAAAAAAAAAAAAAAAAAAAAAAAAAAAAAAAAAAAAAAAAAAAAAAAAAAAAAAAAAAAAAAAAAAAAAAAAAAAAAAAAAAAAAAAAAAAAAAAAAAAAAAAAAAAAAAAAAAAAAAAAAAAAAAAAAAAAAAAAAAAAAAAAAAAAAAAAAAAAAAAAAAAAAAAAAAAAAAAAAAAAAAAAAAAAAAAAAAAAAAAAAAAAAAAAAAAAAAAAAmJmZmZmZuT8AAAAAAAAAAAAAAAAAAAAAAAAAAAAAAAAAAAAAAAAAAAAAAAAAAAAAAAAAAAAAAAAAAAAAAAAAAAAAAAAAAAAAAAAAAAAAAAAAAAAAAAAAAAAAAAAAAAAAAAAAAAAAAAAAAAAAAAAAAAAAAAAAAAAAmpmZmZmZub8AAAAAAAAAAAAAAAAAAAAAAAAAAAAAAAAAAAAAAAAAAAAAAAAAAAAAAAAAAAAAAAAAAAAAAAAAAAAAAAAAAAAAAAAAAAAAAAAAAAAAAAAAAAAAAAAAAAAAAAAAAAAAAAAAAAAAAAAAAAAAAAAAAAAAAAAAAAAAAACamZmZmZm5PwAAAAAAAAAAAAAAAAAAAAAAAAAAAAAAAAAAAAAAAAAAAAAAAAAAAAAAAAAAAAAAAAAAAAAAAAAAAAAAAAAAAAAAAAAAAAAAAAAAAAAAAAAAAAAAAAAAAAAAAAAAAAAAAAAAAAAAAAAAAAAAAAAAAAAAAAAAAAAAAAAAAAAAAAAAAAAAAAAAAAAAAAAAAAAAAAAAAAAAAAAAAAAAAAAAAAAAAAAAAAAAAAAAAAAAAAAAAAAAAAAAAAAAAAAAAAAAAAAAAAAAAAAAAAAAAAAAAAAAAAAAAAAAAAAAAAAAAAAAAAAAAAAAAAAAAAAAAAAAAAAAAAAAAAAAAAAAAAAAAAAAAAAAAAAAAAAAAAAAAAAAAAAAAAAAAAAAAAAAAAAAAAAAAAAAAAAAAAAAAAAAAAAAAAAAAAAAAAAAAAAAAAAAAAAAAAAAAACamZmZmZm5PwAAAAAAAAAAAAAAAAAAAAAAAAAAAAAAAJqZmZmZmbm/AAAAAAAAAAAAAAAAAAAAAAAAAAAAAAAAAAAAAAAAAAAAAAAAAAAAAAAAAAAAAAAAAAAAAAAAAAAAAAAAAAAAAAAAAAAAAAAAAAAAAAAAAAAAAAAAAAAAAAAAAAAAAAAAAAAAAAAAAAAAAAAAAAAAAAAAAAAAAAAAAAAAAAAAAAAAAAAAAAAAAAAAAAAAAAAAAAAAAAAAAAAAAAAAAAAAAAAAAAAAAAAAAAAAAAAAAAAAAAAAAAAAAAAAAAAAAAAAAAAAAAAAAAAAAAAAAAAAAAAAAAAAAAAAAAAAAAAAAAAAAAAAAAAAAAAAAAAAAAAAAAAAAAAAAAAAAAAAAAAAAAAAAAAAAAAAAAAAAAAAAAAAAAAAAAAAAAAAAAAAAAAAAAAAAAAAAAAAAAAAAAAAAAAAAAAAAAAAAAAAAAAAAAAAAAAAAAAAAAAAAAAAAAAAAAAAAAAAAACamZmZmZm5vwAAAAAAAAAAAAAAAAAAAAAAAAAAAAAAAAAAAAAAAAAAAAAAAAAAAAAAAAAAAAAAAAAAAAAAAAAAAAAAAAAAAAAAAAAAAAAAAAAAAAAAAAAAAAAAAAAAAAAAAAAAAAAAAAAAAAAAAAAAAAAAAAAAAAAAAAAAAAAAAAAAAAAAAAAAAAAAAAAAAAAAAAAAAAAAAAAAAAAAAAAAAAAAAAAAAAAAAAAAAAAAAAAAAAAAAAAAAAAAAAAAAAAAAAAAAAAAAAAAAAAAAAAAAAAAAAAAAAAAAAAAAAAAAAAAAAAAAAAAAAAAAAAAAAAAAAAAAAAAAAAAAAAAAAAAmJmZmZmZuT8AAAAAAAAAAAAAAAAAAAAAAAAAAAAAAAAAAAAAAAAAAAAAAAAAAAAAAAAAAAAAAAAAAAAAAAAAAAAAAAAAAAAAAAAAAAAAAAAAAAAAAAAAAAAAAAAAAAAAAAAAAAAAAAAAAAAAAAAAAAAAAAAAAAAAAAAAAAAAAAAAAAAAAAAAAAAAAAAAAAAAAAAAAAAAAAAAAAAAAAAAAAAAAAAAAAAAAAAAAAAAAAAAAAAAAAAAAICZmZmZmbk/AAAAAAAAAAAAAAAAAAAAAAAAAAAAAAAAAAAAAAAAAACYmZmZmZm5PwAAAAAAAAAAAAAAAAAAAAAAAAAAAAAAAAAAAAAAAAAAAAAAAAAAAAAAAAAAAAAAAAAAAAAAAAAAAAAAAAAAAAAAAAAAAAAAAAAAAAAAAAAAAAAAAAAAAAAAAAAAAAAAAAAAAAAAAAAAAAAAAAAAAAAAAAAAAAAAAAAAAAAAAAAAAAAAAAAAAAAAAAAAAAAAAAAAAAAAAAAAAAAAAAAAAAAAAAAAAAAAAJqZmZmZmbm/AAAAAAAAAAAAAAAAAAAAAAAAAAAAAAAAAAAAAAAAAAAAAAAAAAAAAAAAAAAAAAAAAAAAAAAAAAAAAAAAAAAAAAAAAAAAAAAAAAAAAAAAAAAAAAAAAAAAAJiZmZmZmbk/AAAAAAAAAAAAAAAAAAAAAAAAAAAAAAAAAAAAAAAAAACYmZmZmZm5PwAAAAAAAAAAAAAAAAAAAAAAAAAAAAAAAAAAAAAAAAAAAAAAAAAAAAAAAAAAAAAAAAAAAAAAAAAAAAAAAAAAAAAAAAAAAAAAAAAAAAAAAAAAAAAAAAAAAAAAAAAAAAAAAAAAAAAAAAAAnJmZmZmZuT8AAAAAAAAAAAAAAAAAAAAAAAAAAAAAAAAAAAAAAAAAAAAAAAAAAAAAAAAAAAAAAAAAAAAAAAAAAAAAAAAAAAAAAAAAAAAAAAAAAAAAAAAAAAAAAAAAAAAAAAAAAAAAAAAAAAAAAAAAAAAAAAAAAAAAAAAAAAAAAAAAAAAAAAAAAAAAAAAAAAAAAAAAAAAAAAAAAAAAAAAAAJiZmZmZmbm/mpmZmZmZub8AAAAAAAAAAAAAAAAAAAAAAAAAAAAAAACgmZmZmZm5vwAAAAAAAAAAAAAAAAAAAAAAAAAAAAAAAAAAAAAAAAAAAAAAAAAAAAAAAAAAAAAAAAAAAAAAAAAAAAAAAAAAAAAAAAAAAAAAAAAAAAAAAAAAAAAAAAAAAAAAAAAAAAAAAAAAAAAAAAAAAAAAAAAAAAAAAAAAAAAAAAAAAAAAAAAAAAAAAAAAAAAAAAAAAAAAAAAAAAAAAAAAAAAAAAAAAAAAAAAAAAAAAAAAAAAAAAAAAAAAAAAAAAAAAAAAAAAAAAAAAAAAAAAAAAAAAAAAAAAAAAAAAAAAAAAAAAAAAAAAAAAAAAAAAAAAAAAAAAAAAAAAAAAAAAAAAAAAAAAAAAAAAAAAAAAAAAAAAAAAAAAAAAAAAAAAAAAAAAAAAAAAAAAAAAAAAAAAmJmZmZmZub8AAAAAAAAAAAAAAAAAAAAAAAAAAAAAAACamZmZmZm5PwAAAAAAAAAAoJmZmZmZub8AAAAAAAAAAAAAAAAAAAAAAAAAAAAAAAAAAAAAAAAAAAAAAAAAAAAAAAAAAAAAAAAAAAAAAAAAAAAAAAAAAAAAAAAAAAAAAAAAAAAAAAAAAAAAAAAAAAAAAAAAAAAAAAAAAAAAAAAAAAAAAAAAAAAAAAAAAAAAAAAAAAAAAAAAAAAAAAAAAAAAAAAAAAAAAACcmZmZmZm5vwAAAAAAAAAAAAAAAAAAAAAAAAAAAAAAAAAAAAAAAAAAAAAAAAAAAAAAAAAAAAAAAAAAAAAAAAAAAAAAAAAAAAAAAAAAAAAAAAAAAAAAAAAAAAAAAAAAAAAAAAAAAAAAAAAAAAAAAAAAAAAAAAAAAAAAAAAAAAAAAAAAAAAAAAAAAAAAAAAAAAAAAAAAAAAAAAAAAAAAAAAAAAAAAAAAAAAAAAAAAAAAAAAAAAAAAAAAoJmZmZmZub8AAAAAAAAAAAAAAAAAAAAAAAAAAAAAAAAAAAAAAAAAAAAAAAAAAAAAAAAAAAAAAAAAAAAAAAAAAAAAAAAAAAAAAAAAAAAAAAAAAAAAAAAAAAAAAAAAAAAAAAAAAAAAAAAAAAAAAAAAAAAAAAAAAAAAAAAAAAAAAAAAAAAAAAAAAAAAAAAAAAAAAAAAAAAAAAAAAAAAAAAAAAAAAAAAAAAAAAAAAAAAAAAAAAAAAAAAAAAAAAAAAAAAAAAAAAAAAAAAAAAAAAAAAAAAAAAAAAAAAAAAAAAAAAAAAAAAAAAAAAAAAAAAAAAAAAAAAAAAAAAAAAAAAAAAAAAAAAAAAAAAAAAAAAAAAAAAAAAAAAAAAJqZmZmZmbk/AAAAAAAAAAAAAAAAAAAAAAAAAAAAAAAAAAAAAAAAAAAAAAAAAAAAAAAAAAAAAAAAAAAAAAAAAAAAAAAAAAAAAAAAAAAAAAAAAAAAAAAAAAAAAAAAAAAAAAAAAAAAAAAAAAAAAAAAAAAAAAAAAAAAAAAAAAAAAAAAAAAAAAAAAAAAAAAAAAAAAAAAAAAAAAAAAAAAAAAAAAAAAAAAAAAAAAAAAAAAAAAAAAAAAAAAAAAAAAAAAAAAAAAAAAAAAAAAAAAAAAAAAAAAAAAAAAAAAAAAAAAAAAAAAAAAAAAAAAAAAAAAAAAAAAAAAAAAAAAAAAAAAAAAAAAAAAAAAAAAAAAAAAAAAAAAAAAAAAAAAAAAAAAAAAAAAAAAAAAAAAAAAAAAAAAAAAAAAAAAAAAAAJiZmZmZmbk/AAAAAAAAAAAAAAAAAAAAAAAAAAAAAAAAAAAAAAAAAAAAAAAAAAAAAAAAAAAAAAAAAAAAAAAAAAAAAAAAAAAAAAAAAAAAAAAAAAAAAAAAAAAAAAAAAAAAAAAAAAAAAAAAAAAAAAAAAAAAAAAAAAAAAAAAAAAAAAAAAAAAAAAAAAAAAAAAAAAAAAAAAAAAAAAAAAAAAAAAAAAAAAAAAAAAAAAAAAAAAAAAAAAAAAAAAAAAAAAAAAAAAAAAAAAAAAAAAAAAAAAAAAAAAAAAAAAAAAAAAAAAAAAAAAAAAAAAAAAAAAAAAAAAAAAAAAAAAAAAAAAAAAAAAAAAAAAAAAAAAAAAAAAAAAAAAAAAAAAAAAAAAAAAAAAAAAAAAAAAAAAAmJmZmZmZub8AAAAAAAAAAAAAAAAAAAAAAAAAAAAAAAAAAAAAAAAAAAAAAAAAAAAAAAAAAAAAAAAAAAAAAAAAAAAAAAAAAAAAAAAAAAAAAAAAAAAAAAAAAAAAAAAAAAAAAAAAAAAAAAAAAAAAAAAAAAAAAAAAAAAAAAAAAAAAAAAAAAAAAAAAAAAAAAAAAAAAAAAAAAAAAAAAAAAAAAAAAAAAAAAAAAAAAAAAAAAAAAAAAAAAAAAAAAAAAAAAAAAAAAAAAAAAAAAAAAAAAAAAAAAAAAAAAAAAmJmZmZmZuT+YmZmZmZm5PwAAAAAAAAAAAAAAAAAAAAAAAAAAAAAAAAAAAAAAAAAAAAAAAAAAAAAAAAAAAAAAAAAAAAAAAAAAAAAAAAAAAAAAAAAAAAAAAAAAAAAAAAAAmJmZmZmZub8AAAAAAAAAAAAAAAAAAAAAAAAAAAAAAAAAAAAAAAAAAAAAAAAAAAAAAAAAAAAAAAAAAAAAAAAAAAAAAAAAAAAAAAAAAAAAAAAAAAAAAAAAAAAAAAAAAAAAAAAAAAAAAAAAAAAAAAAAAAAAAAAAAAAAAAAAAAAAAAAAAAAAAAAAAAAAAAAAAAAAAAAAAAAAAAAAAAAAAAAAAAAAAAAAAAAAAAAAAAAAAACamZmZmZm5PwAAAAAAAAAAAAAAAAAAAAAAAAAAAAAAAAAAAAAAAAAAAAAAAAAAAAAAAAAAAAAAAAAAAAAAAAAAAAAAAAAAAAAAAAAAAAAAAAAAAAAAAAAAAAAAAAAAAAAAAAAAAAAAAAAAAAAAAAAAAAAAAAAAAAAAAAAAAAAAAAAAAAAAAAAAAAAAAAAAAAAAAAAAAAAAAAAAAAAAAAAAAAAAAAAAAAAAAAAAAAAAAAAAAAAAAAAAAAAAAAAAAAAAAAAAAAAAAAAAAAAAAAAAAAAAAAAAAAAAAAAAAAAAAAAAAAAAAAAAAAAAAAAAAAAAAAAAAAAAAAAAAAAAAAAAAAAAAAAAAACcmZmZmZm5PwAAAAAAAAAAAAAAAAAAAAAAAAAAAAAAAAAAAAAAAAAAAAAAAAAAAAAAAAAAAAAAAAAAAAAAAAAAAAAAAAAAAAAAAAAAAAAAAAAAAAAAAAAAAAAAAAAAAAAAAAAAAAAAAAAAAAAAAAAAAAAAAAAAAAAAAAAAAAAAAAAAAAAAAAAAAAAAAAAAAAAAAAAAAAAAAAAAAAAAAAAAAAAAAAAAAAAAAAAAAAAAAAAAAAAAAAAAAAAAAAAAAAAAAAAAAAAAAAAAAAAAAAAAmJmZmZmZuT8AAAAAAAAAAAAAAAAAAAAAAAAAAAAAAAAAAAAAAAAAAAAAAAAAAAAAAAAAAAAAAAAAAAAAAAAAAAAAAAAAAAAAAAAAAAAAAAAAAAAAAAAAAAAAAAAAAAAAAAAAAAAAAAAAAAAAAAAAAAAAAAAAAAAAAAAAAAAAAAAAAAAAAAAAAAAAAAAAAAAAAAAAAAAAAAAAAAAAAAAAAAAAAAAAAAAAAAAAAAAAAAAAAAAAAAAAAAAAAAAAAAAAAAAAAAAAAAAAAAAAAAAAAAAAAAAAAAAAAAAAAAAAAAAAAAAAAAAAAAAAAAAAAAAAAAAAAAAAAAAAAAAAAAAAAAAAAAAAAAAAAAAAAAAAAAAAAAAAAAAAAAAAAAAAAAAAAAAAAAAAAAAAAAAAAAAAAAAAAAAAAAAAAAAAAAAAAAAAAAAAAAAAAAAAAAAAAAAAAAAAAAAAAAAAAAAAAAAAAAAAAAAAAAAAAAAAAAAAAAAAAAAAAAAAAAAAAAAAAAAAAAAAAAAAAAAAAAAAAAAAAAAAAAAAAAAAAAAAAAAAAAAAAAAAAAAAAAAAAAAAAAAAAAAAAAAAAAAAAAAAAAAAAAAAAAAAAAAAAAAAAAAAAAAAAAAAAAAAAAAAAAAAAAAAAAAAAAAAAAAAAAAAAAAAAAAAAAAAAAAAAAAAAAAAAAAAAAAAAAAAAAAAAAAAAAAAAAAAAAAAAAAAAAAAAAAAAAAAAAAAAAAAAAAAAAAAAAAAAAAAAAAAAAAAAAAAAAAAAAAAAAAAAACYmZmZmZm5PwAAAAAAAAAAAAAAAAAAAAAAAAAAAAAAAAAAAAAAAAAAAAAAAAAAAAAAAAAAAAAAAAAAAAAAAAAAAAAAAAAAAAAAAAAAAAAAAAAAAAAAAAAAAAAAAAAAAAAAAAAAAAAAAAAAAAAAAAAAAAAAAAAAAAAAAAAAAAAAAAAAAAAAAAAAAAAAAAAAAAAAAAAAAAAAAAAAAAAAAAAAAAAAAAAAAAAAAAAAAAAAAAAAAAAAAAAAAAAAAAAAAAAAAAAAAAAAAAAAAAAAAAAAAAAAAAAAAAAAAAAAAAAAAAAAAAAAAAAAAAAAAAAAAAAAAAAAAAAAAAAAAAAAAAAAAAAAAAAAAAAAAAAAAAAAAAAAAAAAAAAAAAAAAAAAAAAAAAAAAAAAAAAAAAAAAAAAAAAAAAAAAAAAAAAAAAAAAAAAAAAAAAAAAAAAAAAAAAAAAAAAAAAAAAAAAAAAAAAAAAAAAAAAAAAAAAAAAAAAAJqZmZmZmbm/AAAAAAAAAAAAAAAAAAAAAAAAAAAAAAAAAAAAAAAAAAAAAAAAAAAAAAAAAAAAAAAAmJmZmZmZub8AAAAAAAAAAAAAAAAAAAAAmpmZmZmZub8AAAAAAAAAAAAAAAAAAAAAAAAAAAAAAAAAAAAAAAAAAAAAAAAAAAAAoJmZmZmZub+YmZmZmZm5vwAAAAAAAAAAAAAAAAAAAAAAAAAAAAAAAAAAAAAAAAAAAAAAAAAAAAAAAAAAAAAAAAAAAAAAAAAAAAAAAAAAAAAAAAAAAAAAAAAAAAAAAAAAAAAAAAAAAAAAAAAAAAAAAAAAAAAAAAAAAAAAAAAAAAAAAAAAAAAAAAAAAAAAAAAAAAAAAAAAAAAAAAAAAAAAAAAAAAAAAAAAAAAAAAAAAAAAAAAAAAAAAAAAAAAAAAAAAAAAAAAAAAAAAAAAAAAAAAAAAAAAAAAAmJmZmZmZub8AAAAAAAAAAAAAAAAAAAAAAAAAAAAAAAAAAAAAAAAAAAAAAAAAAAAAAAAAAAAAAAAAAAAAAAAAAAAAAAAAAAAAAAAAAAAAAAAAAAAAAAAAAAAAAAAAAAAAAAAAAAAAAAAAAAAAAAAAAAAAAAAAAAAAAAAAAAAAAAAAAAAAAAAAAAAAAAAAAAAAAAAAAAAAAAAAAAAAAAAAAJiZmZmZmbk/AAAAAAAAAAAAAAAAAAAAAAAAAAAAAAAAAAAAAAAAAAAAAAAAAAAAAAAAAAAAAAAAAAAAAAAAAAAAAAAAAAAAAAAAAAAAAAAAAAAAAAAAAAAAAAAAAAAAAAAAAAAAAAAAAAAAAAAAAAAAAAAAAAAAAKCZmZmZmbm/AAAAAAAAAAAAAAAAAAAAAAAAAAAAAAAAAAAAAAAAAAAAAAAAAAAAAAAAAAAAAAAAAAAAAAAAAACgmZmZmZm5P5qZmZmZmbm/AAAAAAAAAAAAAAAAAAAAAAAAAAAAAAAAAAAAAAAAAACamZmZmZm5vwAAAAAAAAAAAAAAAAAAAAAAAAAAAAAAAAAAAAAAAAAAAAAAAAAAAAAAAAAAAAAAAAAAAAAAAAAAAAAAAAAAAAAAAAAAAAAAAAAAAAAAAAAAAAAAAAAAAACYmZmZmZm5PwAAAAAAAAAAAAAAAAAAAAAAAAAAAAAAAAAAAAAAAAAAAAAAAAAAAAAAAAAAAAAAAAAAAAAAAAAAAAAAAAAAAAAAAAAAAAAAAAAAAAAAAAAAAAAAAAAAAAAAAAAAAAAAAAAAAAAAAAAAAAAAAAAAAAAAAAAAAAAAAAAAAAAAAAAAAAAAAAAAAAAAAAAAAAAAAAAAAAAAAAAAAAAAAAAAAAAAAAAAAAAAAAAAAAAAAAAAAAAAAAAAAAAAAAAAAAAAAAAAAAAAAAAAAAAAAAAAAAAAAAAAAAAAAAAAAAAAAAAAAAAAAAAAAAAAAAAAAAAAAAAAAAAAAAAAAAAAAAAAAAAAAAAAAAAAAAAAAAAAAAAAAAAAAAAAAAAAAAAAAAAAAAAAAAAAAAAAAAAAAAAAAAAAAAAAAAAAAAAAAAAAAAAAAAAAAAAAAAAAAAAAAAAAAAAAAAAAAAAAAAAAAAAAAAAAAAAAAAAAAAAAAAAAAAAAAAAAAAAAAAAAAAAAAAAAAAAAAAAAAAAAAAAAAAAAAAAAAAAAAAAAAAAAAAAAAAAAAAAAAAAAAAAAAAAAAAAAAAAAAAAAAAAAAAAAAAAAAAAAAAAAAAAAAAAAAAAAAAAAAAAAAAAAAAAAAAAAAAAAAAAAAAAAAAAAAAAAAAAAAAAAAAAAAAAAAAAAAAAAAAAAmJmZmZmZub8AAAAAAAAAAAAAAAAAAAAAAAAAAAAAAAAAAAAAAAAAAAAAAAAAAAAAAAAAAAAAAAAAAAAAAAAAAAAAAAAAAAAAAAAAAAAAAAAAAAAAAAAAAAAAAAAAAAAAAAAAAAAAAAAAAAAAAAAAAAAAAAAAAAAAAAAAAAAAAAAAAAAAAAAAAAAAAAAAAAAAAAAAAAAAAAAAAAAAAAAAAAAAAAAAAAAAAAAAAAAAAAAAAAAAAAAAAAAAAAAAAAAAAAAAAAAAAACYmZmZmZm5vwAAAAAAAAAAAAAAAAAAAAAAAAAAAAAAAAAAAAAAAAAAAAAAAAAAAAAAAAAAAAAAAAAAAAAAAAAAAAAAAAAAAAAAAAAAAAAAAAAAAAAAAAAAAAAAAAAAAAAAAAAAAAAAAAAAAAAAAAAAAAAAAAAAAAAAAAAAAAAAAAAAAAAAAAAAAAAAAAAAAAAAAAAAAAAAAAAAAAAAAAAAAAAAAAAAAAAAAAAAAAAAAAAAAAAAAAAAAAAAAAAAAAAAAAAAAAAAAAAAAAAAAAAAAAAAAAAAAAAAAAAAAAAAAAAAAAAAAAAAAAAAAAAAAAA=",
          "dtype": "f8"
         },
         "xaxis": "x2",
         "yaxis": "y2"
        },
        {
         "name": "FGM - (FG% * FGA / 100)",
         "nbinsx": 30,
         "showlegend": false,
         "type": "histogram",
         "x": {
          "bdata": "AAAAAAAAAAAAAAAAAAAAAAAAAAAAAAAAAAAAAAAAAAAAAAAAAAAAAAAAAAAAAAAAAAAAAAAAAACAmZmZmZm5P5iZmZmZmbk/kJmZmZmZuT8AAAAAAAAAAAAAAAAAAAAAAAAAAAAAAAAAAAAAAAAAAAAAAAAAAAAAAAAAAAAAAAAAAAAAAAAAAAAAAAAAAAAAwJmZmZmZuT8AAAAAAAAAAAAAAAAAAAAAAAAAAAAAAAAAAAAAAAAAAAAAAAAAAAAAAAAAAAAAAAAAAAAAAAAAAAAAAAAAAAAAAAAAAAAAAAAAAAAAAAAAAAAAAAAAAAAAAAAAAAAAAAAAAAAAAAAAAAAAAAAAAAAAAAAAAAAAAAAAAAAAAAAAAAAAAAAAAAAAAAAAAAAAAAAAAAAAAAAAAAAAAAAAAAAAAAAAAAAAAAAAAAAAAAAAAAAAAAAAAAAAAAAAAAAAAAAAAAAAAAAAAAAAAAAAAAAAoJmZmZmZuT8AAAAAAAAAAAAAAAAAAAAAAAAAAAAAAAAAAAAAAAAAAKCZmZmZmbk/AAAAAAAAAAAAAAAAAAAAAAAAAAAAAAAAAAAAAAAAAAAAAAAAAAAAAAAAAAAAAAAAAAAAAAAAAAAAAAAAAAAAAAAAAAAAAAAAAAAAAAAAAACAmZmZmZm5vwAAAAAAAAAAgJmZmZmZub8AAAAAAAAAAAAAAAAAAAAAAAAAAAAAAAAAAAAAAAAAAAAAAAAAAAAAAAAAAAAAAACAmZmZmZm5PwAAAAAAAAAAAAAAAAAAAAAAAAAAAAAAAAAAAAAAAAAAAAAAAAAAAAAAAAAAAAAAAAAAAAAAAAAAoJmZmZmZuT8AAAAAAAAAAAAAAAAAAAAAAAAAAAAAAACgmZmZmZm5vwAAAAAAAAAAAAAAAAAAAAAAAAAAAAAAAAAAAAAAAAAAAAAAAAAAAAAAAAAAAAAAAAAAAAAAAAAAAAAAAAAAAACAmZmZmZm5vwAAAAAAAAAAAAAAAAAAAAAAAAAAAAAAAAAAAAAAAAAAAAAAAAAAAAAAAAAAAAAAAAAAAAAAAAAAAAAAAAAAAACgmZmZmZm5PwAAAAAAAAAAAAAAAAAAAAAAAAAAAAAAAAAAAAAAAAAAAAAAAAAAAAAAAAAAAAAAAAAAAAAAAAAAAAAAAAAAAAAAAAAAAAAAAAAAAAAAAAAAAAAAAAAAAAAAAAAAAAAAAAAAAAAAAAAAAAAAAAAAAAAAAAAAAAAAAAAAAAAAAAAAwJmZmZmZuT8AAAAAAAAAAAAAAAAAAAAAAAAAAAAAAAAAAAAAAAAAAAAAAAAAAAAAAAAAAAAAAAAAAAAAAAAAAAAAAAAAAAAAoJmZmZmZub8AAAAAAAAAAAAAAAAAAAAAAAAAAAAAAAAAAAAAAAAAAAAAAAAAAAAAAAAAAAAAAACgmZmZmZm5vwAAAAAAAAAAAAAAAAAAAAAAAAAAAAAAAAAAAAAAAAAAAAAAAAAAAAAAAAAAAAAAAAAAAAAAAAAAoJmZmZmZub8AAAAAAAAAAAAAAAAAAAAAAAAAAAAAAAAAAAAAAAAAAAAAAAAAAAAAAAAAAAAAAAAAAAAAAAAAAAAAAAAAAAAAAAAAAAAAAAAAAAAAAAAAAAAAAAAAAAAAAAAAAAAAAAAAAAAAAAAAAAAAAAAAAAAAAAAAAAAAAAAAAAAAAAAAAAAAAAAAAAAAAAAAAAAAAAAAAAAAAAAAAAAAAAAAAAAAgJmZmZmZub8AAAAAAAAAAAAAAAAAAAAAAAAAAAAAAAAAAAAAAAAAAAAAAAAAAAAAAAAAAAAAAAAAAAAAAAAAAAAAAAAAAAAAAAAAAAAAAAAAAAAAAAAAAAAAAAAAAAAAAAAAAAAAAAAAAAAAAAAAAAAAAAAAAAAAAAAAAAAAAAAAAAAAAAAAAAAAAAAAAAAAoJmZmZmZub8AAAAAAAAAAAAAAAAAAAAAAAAAAAAAAAAAAAAAAAAAAAAAAAAAAAAAAAAAAAAAAAAAAAAAAAAAAAAAAAAAAAAAAAAAAAAAAAAAAAAAAAAAAAAAAAAAAAAAAAAAAAAAAAAAAAAAAAAAAAAAAAAAAAAAAAAAAAAAAAAAAAAAAAAAAAAAAAAAAAAAAAAAAAAAAAAAAAAAAAAAAAAAAAAAAAAAAAAAAAAAAAAAAAAAAAAAAJiZmZmZmbk/AAAAAAAAAAAAAAAAAAAAAAAAAAAAAAAAAAAAAAAAAACYmZmZmZm5P8CZmZmZmbm/AAAAAAAAAAAAAAAAAAAAAAAAAAAAAAAAAAAAAAAAAACAmZmZmZm5vwAAAAAAAAAAAAAAAAAAAACgmZmZmZm5v6CZmZmZmbm/AAAAAAAAAAAAAAAAAAAAAAAAAAAAAAAAAAAAAAAAAAAAAAAAAAAAAAAAAAAAAAAAAAAAAAAAAAAAAAAAAAAAAAAAAAAAAAAAAAAAAAAAAAAAAAAAAAAAAAAAAAAAAAAAAAAAAAAAAAAAAAAAAAAAAAAAAAAAAAAAAAAAAAAAAAAAAAAAAAAAAKCZmZmZmbk/AAAAAAAAAAAAAAAAAAAAAAAAAAAAAAAAAAAAAAAAAAAAAAAAAAAAAAAAAAAAAAAAAAAAAAAAAAAAAAAAAAAAAICZmZmZmbm/AAAAAAAAAAAAAAAAAAAAAAAAAAAAAAAAAAAAAAAAAAAAAAAAAAAAAAAAAAAAAAAAAAAAAAAAAAAAAAAAAAAAAAAAAAAAAAAAAAAAAAAAAACgmZmZmZm5vwAAAAAAAAAAAAAAAAAAAAAAAAAAAAAAAAAAAAAAAAAAAAAAAAAAAAAAAAAAAAAAAAAAAAAAAAAAAAAAAAAAAAAAAAAAAAAAAAAAAAAAAAAAAAAAAAAAAAAAAAAAAAAAAKCZmZmZmbm/AAAAAAAAAAAAAAAAAAAAAAAAAAAAAAAAAAAAAAAAAACgmZmZmZm5PwAAAAAAAAAAAAAAAAAAAAAAAAAAAAAAAAAAAAAAAAAAAAAAAAAAAAAAAAAAAAAAAAAAAAAAAAAAAAAAAAAAAAAAAAAAAAAAAAAAAAAAAAAAmJmZmZmZuT8AAAAAAAAAAAAAAAAAAAAAAAAAAAAAAAAAAAAAAAAAAAAAAAAAAAAAAAAAAAAAAAAAAAAAAAAAAAAAAAAAAAAAAAAAAAAAAAAAAAAAAAAAAAAAAAAAAAAAAAAAAAAAAAAAAAAAAAAAAAAAAAAAAAAAAAAAAAAAAACgmZmZmZm5PwAAAAAAAAAAAAAAAAAAAAAAAAAAAAAAAAAAAAAAAAAAAAAAAAAAAAAAAAAAAAAAAAAAAAAAAAAAAAAAAAAAAACgmZmZmZm5PwAAAAAAAAAAAAAAAAAAAAAAAAAAAAAAAAAAAAAAAAAAAAAAAAAAAAAAAAAAAAAAAAAAAAAAAAAAAAAAAAAAAACQmZmZmZm5PwAAAAAAAAAAAAAAAAAAAAAAAAAAAAAAAAAAAAAAAAAAAAAAAAAAAAAAAAAAAAAAAAAAAAAAAAAAAAAAAAAAAAAAAAAAAAAAAAAAAAAAAAAAAAAAAAAAAAAAAAAAAAAAAAAAAAAAAAAAAAAAAAAAAACgmZmZmZm5vwAAAAAAAAAAAAAAAAAAAAAAAAAAAAAAAAAAAAAAAAAAAAAAAAAAAAAAAAAAAAAAAAAAAAAAAAAAAAAAAAAAAAAAAAAAAAAAAAAAAAAAAAAAAAAAAAAAAAAAAAAAAAAAAAAAAAAAAAAAAAAAAAAAAAAAAAAAAAAAAAAAAAAAAAAAAAAAAAAAAAAAAAAAAAAAAKCZmZmZmbm/AAAAAAAAAAAAAAAAAAAAAAAAAAAAAAAAAAAAAAAAAAAAAAAAAAAAAAAAAAAAAAAAAAAAAAAAAAAAAAAAAAAAAAAAAAAAAAAAAAAAAAAAAAAAAAAAAAAAAAAAAAAAAAAAAAAAAAAAAAAAAAAAAAAAAAAAAAAAAAAAAAAAAAAAAAAAAAAAAAAAAAAAAAAAAAAAAAAAAAAAAAAAAAAAAAAAAAAAAAAAAAAAAAAAAAAAAAAAAAAAAAAAAAAAAAAAAAAAAAAAAAAAAAAAAAAAAAAAAAAAAAAAAAAAAAAAAAAAAAAAAAAAAAAAAAAAAAAAAAAAAAAAAAAAAAAAAAAAAAAAAAAAAAAAAAAAAAAAAAAAAAAAAAAAAAAAAKCZmZmZmbm/AAAAAAAAAACgmZmZmZm5vwAAAAAAAAAAAAAAAAAAAAAAAAAAAAAAAAAAAAAAAAAAAAAAAAAAAAAAAAAAAAAAAAAAAAAAAAAAAAAAAAAAAAAAAAAAAAAAAAAAAAAAAAAAAAAAAAAAAAAAAAAAAAAAAAAAAAAAAAAAAAAAAAAAAAAAAAAAAAAAAAAAAAAAAAAAAAAAAAAAAAAAAAAAAAAAAAAAAAAAAAAAAAAAAAAAAAAAAAAAAAAAAAAAAAAAAAAAAAAAAAAAAAAAAAAAAAAAAAAAAAAAAAAAAAAAAAAAAAAAAAAAAAAAAAAAAAAAAAAAAAAAAAAAAAAAAAAAAAAAAAAAAAAAAAAAAAAAAAAAAAAAAAAAAAAAAKCZmZmZmbk/AAAAAAAAAAAAAAAAAAAAAAAAAAAAAAAAAAAAAAAAAAAAAAAAAAAAAAAAAAAAAAAAAAAAAAAAAAAAAAAAAAAAAKCZmZmZmbk/AAAAAAAAAAAAAAAAAAAAAAAAAAAAAAAAAAAAAAAAAAAAAAAAAAAAAJCZmZmZmbk/AAAAAAAAAAAAAAAAAAAAAAAAAAAAAAAAAAAAAAAAAAAAAAAAAAAAAAAAAAAAAAAAAAAAAAAAAAAAAAAAAAAAAJiZmZmZmbm/AAAAAAAAAAAAAAAAAAAAAAAAAAAAAAAAgJmZmZmZuT+AmZmZmZm5PwAAAAAAAAAAAAAAAAAAAAAAAAAAAAAAAAAAAAAAAAAAAAAAAAAAAAAAAAAAAAAAAAAAAAAAAAAAAAAAAAAAAAAAAAAAAAAAAMCZmZmZmbm/AAAAAAAAAAAAAAAAAAAAAAAAAAAAAAAAoJmZmZmZuT8AAAAAAAAAAJCZmZmZmbm/AAAAAAAAAAAAAAAAAAAAAAAAAAAAAAAAAAAAAAAAAAAAAAAAAAAAAAAAAAAAAAAAAAAAAAAAAAAAAAAAAAAAAKCZmZmZmbm/AAAAAAAAAAAAAAAAAAAAAAAAAAAAAAAAAAAAAAAAAACQmZmZmZm5PwAAAAAAAAAAoJmZmZmZuT8AAAAAAAAAAAAAAAAAAAAAoJmZmZmZuT+gmZmZmZm5PwAAAAAAAAAAAAAAAAAAAAAAAAAAAAAAAKCZmZmZmbm/AAAAAAAAAAAAAAAAAAAAAAAAAAAAAAAAAAAAAAAAAACAmZmZmZm5vwAAAAAAAAAAAAAAAAAAAAAAAAAAAAAAAAAAAAAAAAAAAAAAAAAAAAAAAAAAAAAAAICZmZmZmbk/AAAAAAAAAAAAAAAAAAAAAAAAAAAAAAAAAAAAAAAAAAAAAAAAAAAAAAAAAAAAAAAAAAAAAAAAAAAAAAAAAAAAAAAAAAAAAAAAAAAAAAAAAAAAAAAAAAAAAAAAAAAAAAAAAAAAAAAAAAAAAAAAAAAAAAAAAAAAAAAAAAAAAAAAAAAAAAAAAAAAAAAAAAAAAAAAAAAAAAAAAACgmZmZmZm5PwAAAAAAAAAAAAAAAAAAAAAAAAAAAAAAAAAAAAAAAAAAAAAAAAAAAAAAAAAAAAAAAAAAAAAAAAAAoJmZmZmZub8AAAAAAAAAAAAAAAAAAAAAAAAAAAAAAAAAAAAAAAAAAAAAAAAAAAAAAAAAAAAAAAAAAAAAAAAAAAAAAAAAAAAAAAAAAAAAAAAAAAAAAAAAAAAAAAAAAAAAAAAAAAAAAAAAAAAAAAAAAAAAAAAAAAAAAAAAAAAAAACgmZmZmZm5PwAAAAAAAAAAAAAAAAAAAAAAAAAAAAAAAAAAAAAAAAAAAAAAAAAAAAAAAAAAAAAAAAAAAAAAAAAAAAAAAAAAAAAAAAAAAAAAAAAAAAAAAAAAAAAAAAAAAACAmZmZmZm5v6CZmZmZmbm/AAAAAAAAAAAAAAAAAAAAAAAAAAAAAAAAAAAAAAAAAAAAAAAAAAAAAJiZmZmZmbm/AAAAAAAAAAAAAAAAAAAAAAAAAAAAAAAAAAAAAAAAAAAAAAAAAAAAAAAAAAAAAAAAAAAAAAAAAAAAAAAAAAAAAJCZmZmZmbk/AAAAAAAAAAAAAAAAAAAAAAAAAAAAAAAAAAAAAAAAAACYmZmZmZm5vwAAAAAAAAAAoJmZmZmZub/AmZmZmZm5vwAAAAAAAAAAAAAAAAAAAAAAAAAAAAAAAICZmZmZmbk/AAAAAAAAAAAAAAAAAAAAAAAAAAAAAAAAAAAAAAAAAAAAAAAAAAAAAKCZmZmZmbk/AAAAAAAAAAAAAAAAAAAAAAAAAAAAAAAAAAAAAAAAAAAAAAAAAAAAAAAAAAAAAAAAoJmZmZmZub8AAAAAAAAAAAAAAAAAAAAAAAAAAAAAAAAAAAAAAAAAAAAAAAAAAAAAAAAAAAAAAAAAAAAAAAAAAAAAAAAAAAAAAAAAAAAAAAAAAAAAAAAAAAAAAAAAAAAAAAAAAAAAAAAAAAAAAAAAAAAAAAAAAAAAAAAAAAAAAACQmZmZmZm5vwAAAAAAAAAAAAAAAAAAAAAAAAAAAAAAAAAAAAAAAAAAAAAAAAAAAAAAAAAAAAAAAAAAAAAAAAAAAAAAAAAAAAAAAAAAAAAAAAAAAAAAAAAAAAAAAAAAAAAAAAAAAAAAAAAAAAAAAAAAAAAAAAAAAAAAAAAAAAAAAAAAAAAAAAAAAAAAAAAAAAAAAAAAAAAAAICZmZmZmbk/AAAAAAAAAAAAAAAAAAAAAAAAAAAAAAAAAAAAAAAAAAAAAAAAAAAAAKCZmZmZmbk/AAAAAAAAAAAAAAAAAAAAAAAAAAAAAAAAAAAAAAAAAACgmZmZmZm5PwAAAAAAAAAAAAAAAAAAAACgmZmZmZm5PwAAAAAAAAAAAAAAAAAAAAAAAAAAAAAAAAAAAAAAAAAAAAAAAAAAAAAAAAAAAAAAAAAAAAAAAAAAAAAAAAAAAAAAAAAAAAAAAICZmZmZmbm/AAAAAAAAAAAAAAAAAAAAAAAAAAAAAAAAoJmZmZmZuT8AAAAAAAAAAAAAAAAAAAAAAAAAAAAAAAAAAAAAAAAAAAAAAAAAAAAAAAAAAAAAAAAAAAAAAAAAAKCZmZmZmbk/AAAAAAAAAAAAAAAAAAAAAAAAAAAAAAAAAAAAAAAAAAAAAAAAAAAAAAAAAAAAAAAAAAAAAAAAAAAAAAAAAAAAAAAAAAAAAAAAAAAAAAAAAAAAAAAAAAAAAAAAAAAAAAAAAAAAAAAAAAAAAAAAAAAAAAAAAAAAAAAAAAAAAAAAAACgmZmZmZm5vwAAAAAAAAAAAAAAAAAAAAAAAAAAAAAAAAAAAAAAAAAAAAAAAAAAAAAAAAAAAAAAAMCZmZmZmbk/AAAAAAAAAAAAAAAAAAAAAAAAAAAAAAAAAAAAAAAAAAAAAAAAAAAAAAAAAAAAAAAAAAAAAAAAAAAAAAAAAAAAAAAAAAAAAAAAAAAAAAAAAAAAAAAAAAAAAICZmZmZmbm/AAAAAAAAAACAmZmZmZm5vwAAAAAAAAAAAAAAAAAAAAAAAAAAAAAAAAAAAAAAAAAAAAAAAAAAAACgmZmZmZm5v6CZmZmZmbk/AAAAAAAAAAAAAAAAAAAAAAAAAAAAAAAAAAAAAAAAAAAAAAAAAAAAAAAAAAAAAAAAAAAAAAAAAAAAAAAAAAAAAAAAAAAAAAAAAAAAAAAAAAAAAAAAAAAAAAAAAAAAAAAAAAAAAAAAAAAAAAAAAAAAAAAAAAAAAAAAwJmZmZmZub8AAAAAAAAAAAAAAAAAAAAAAAAAAAAAAAAAAAAAAAAAAAAAAAAAAAAAAAAAAAAAAAAAAAAAAAAAAAAAAAAAAAAAAAAAAAAAAAAAAAAAAAAAAAAAAAAAAAAAAAAAAAAAAACAmZmZmZm5vwAAAAAAAAAAAAAAAAAAAAAAAAAAAAAAAAAAAAAAAAAAAAAAAAAAAACgmZmZmZm5PwAAAAAAAAAAAAAAAAAAAAAAAAAAAAAAAAAAAAAAAAAAkJmZmZmZub8AAAAAAAAAAAAAAAAAAAAAAAAAAAAAAAAAAAAAAAAAAAAAAAAAAAAAAAAAAAAAAAAAAAAAAAAAAAAAAAAAAAAAAAAAAAAAAAAAAAAAAAAAAAAAAAAAAAAAgJmZmZmZuT8AAAAAAAAAAAAAAAAAAAAAoJmZmZmZuT8AAAAAAAAAAAAAAAAAAAAAAAAAAAAAAAAAAAAAAAAAAAAAAAAAAAAAoJmZmZmZub8AAAAAAAAAAAAAAAAAAAAAkJmZmZmZub8AAAAAAAAAAAAAAAAAAAAAAAAAAAAAAAAAAAAAAAAAAAAAAAAAAAAAAAAAAAAAAAAAAAAAAAAAAKCZmZmZmbm/AAAAAAAAAAAAAAAAAAAAAAAAAAAAAAAAAAAAAAAAAAAAAAAAAAAAAAAAAAAAAAAAoJmZmZmZuT8AAAAAAAAAAAAAAAAAAAAAAAAAAAAAAAAAAAAAAAAAAAAAAAAAAAAAAAAAAAAAAAAAAAAAAAAAAAAAAAAAAAAAAAAAAAAAAAAAAAAAAAAAAAAAAAAAAAAAAAAAAAAAAAAAAAAAAAAAAICZmZmZmbm/AAAAAAAAAAAAAAAAAAAAAAAAAAAAAAAAAAAAAAAAAAAAAAAAAAAAAAAAAAAAAAAAoJmZmZmZub8AAAAAAAAAAAAAAAAAAAAAAAAAAAAAAAAAAAAAAAAAAAAAAAAAAAAAAAAAAAAAAAAAAAAAAAAAAAAAAAAAAAAAAAAAAAAAAAAAAAAAAAAAAAAAAAAAAAAAAAAAAAAAAAAAAAAAAAAAAAAAAAAAAAAAkJmZmZmZub+gmZmZmZm5v6CZmZmZmbm/AAAAAAAAAAAAAAAAAAAAAAAAAAAAAAAAAAAAAAAAAAAAAAAAAAAAAAAAAAAAAAAAAAAAAAAAAAAAAAAAAAAAAAAAAAAAAAAAAAAAAAAAAAAAAAAAAAAAAAAAAAAAAAAAAAAAAAAAAAAAAAAAAAAAAAAAAAAAAAAAAAAAAAAAAAAAAAAAAAAAAAAAAAAAAAAAAAAAAAAAAAAAAAAAAAAAAAAAAAAAAAAAAAAAAAAAAAAAAAAAAAAAAAAAAAAAAAAAAAAAAAAAAAAAAAAAAAAAAAAAAAAAAAAAAAAAAAAAAAAAAAAAAAAAAAAAAAAAAAAAAAAAAAAAAAAAAAAAAAAAAAAAAAAAAAAAAAAAAAAAAAAAAAAAAAAAAAAAAAAAAAAAAAAAAAAAAAAAAAAAAAAAAAAAAAAAAAAAAAAAAAAAAAAAAAAAAAAAAAAAAAAAAAAAAAAAAAAAAAAAAAAAAAAAAAAAAAAAAAAAgJmZmZmZub8AAAAAAAAAAAAAAAAAAAAAAAAAAAAAAACQmZmZmZm5PwAAAAAAAAAAAAAAAAAAAAAAAAAAAAAAAAAAAAAAAAAAAAAAAAAAAAAAAAAAAAAAAAAAAAAAAAAAAAAAAAAAAAAAAAAAAAAAAAAAAAAAAAAAAAAAAAAAAAAAAAAAAAAAAKCZmZmZmbk/AAAAAAAAAAAAAAAAAAAAAKCZmZmZmbk/AAAAAAAAAAAAAAAAAAAAAAAAAAAAAAAAAAAAAAAAAAAAAAAAAAAAAAAAAAAAAAAAAAAAAAAAAACAmZmZmZm5vwAAAAAAAAAAAAAAAAAAAAAAAAAAAAAAAAAAAAAAAAAAAAAAAAAAAAAAAAAAAAAAAAAAAAAAAAAAAAAAAAAAAACgmZmZmZm5vwAAAAAAAAAAAAAAAAAAAAAAAAAAAAAAAAAAAAAAAAAAoJmZmZmZub8AAAAAAAAAAAAAAAAAAAAAAAAAAAAAAAAAAAAAAAAAAAAAAAAAAAAAAAAAAAAAAAAAAAAAAAAAAAAAAAAAAAAAAAAAAAAAAACAmZmZmZm5vwAAAAAAAAAAAAAAAAAAAAAAAAAAAAAAAAAAAAAAAAAAAAAAAAAAAAAAAAAAAAAAAKCZmZmZmbk/AAAAAAAAAAAAAAAAAAAAAAAAAAAAAAAAAAAAAAAAAAAAAAAAAAAAAAAAAAAAAAAAAAAAAAAAAAAAAAAAAAAAAAAAAAAAAAAAAAAAAAAAAAAAAAAAAAAAAAAAAAAAAAAAAAAAAAAAAAAAAAAAAAAAAAAAAAAAAAAAAAAAAAAAAAAAAAAAAAAAAAAAAAAAAAAAAAAAAAAAAAAAAAAAAAAAAJCZmZmZmbm/AAAAAAAAAAAAAAAAAAAAAAAAAAAAAAAAkJmZmZmZub8AAAAAAAAAAAAAAAAAAAAAAAAAAAAAAAAAAAAAAAAAAAAAAAAAAAAAAAAAAAAAAACQmZmZmZm5PwAAAAAAAAAAAAAAAAAAAAAAAAAAAAAAAAAAAAAAAAAAAAAAAAAAAAAAAAAAAAAAAICZmZmZmbm/AAAAAAAAAAAAAAAAAAAAAAAAAAAAAAAAAAAAAAAAAAAAAAAAAAAAAKCZmZmZmbk/AAAAAAAAAAAAAAAAAAAAAAAAAAAAAAAAAAAAAAAAAAAAAAAAAAAAAKCZmZmZmbk/AAAAAAAAAAAAAAAAAAAAAAAAAAAAAAAAAAAAAAAAAACgmZmZmZm5v6CZmZmZmbk/AAAAAAAAAAAAAAAAAAAAAAAAAAAAAAAAAAAAAAAAAAAAAAAAAAAAAAAAAAAAAAAAkJmZmZmZuT8AAAAAAAAAAAAAAAAAAAAAAAAAAAAAAAAAAAAAAAAAAAAAAAAAAAAAAAAAAAAAAAAAAAAAAAAAAAAAAAAAAAAAAAAAAAAAAAAAAAAAAAAAAKCZmZmZmbm/wJmZmZmZuT8AAAAAAAAAAAAAAAAAAAAAAAAAAAAAAAAAAAAAAAAAAAAAAAAAAAAAAAAAAAAAAAAAAAAAAAAAAAAAAAAAAAAAAAAAAAAAAAAAAAAAAAAAAAAAAAAAAAAAAAAAAAAAAAAAAAAAAAAAAAAAAAAAAAAAAAAAAAAAAAAAAAAAAAAAAAAAAAAAAAAAAAAAAAAAAACYmZmZmZm5vwAAAAAAAAAAAAAAAAAAAAAAAAAAAAAAAAAAAAAAAAAAAAAAAAAAAAAAAAAAAAAAAAAAAAAAAAAAAAAAAAAAAAAAAAAAAAAAAAAAAAAAAAAAAAAAAAAAAAAAAAAAAAAAAAAAAAAAAAAAAAAAAAAAAAAAAAAAAAAAAMCZmZmZmbk/AAAAAAAAAAAAAAAAAAAAAKCZmZmZmbk/AAAAAAAAAAAAAAAAAAAAAAAAAAAAAAAAAAAAAAAAAAAAAAAAAAAAAAAAAAAAAAAAoJmZmZmZuT+gmZmZmZm5P6CZmZmZmbk/AAAAAAAAAAAAAAAAAAAAAAAAAAAAAAAAAAAAAAAAAAAAAAAAAAAAAAAAAAAAAAAAAAAAAAAAAAAAAAAAAAAAAAAAAAAAAAAAAAAAAAAAAAAAAAAAAAAAAAAAAAAAAAAAAAAAAAAAAAAAAAAAAAAAAICZmZmZmbk/AAAAAAAAAAAAAAAAAAAAAAAAAAAAAAAAAAAAAAAAAAAAAAAAAAAAAAAAAAAAAAAAAAAAAAAAAAAAAAAAAAAAAKCZmZmZmbk/AAAAAAAAAAAAAAAAAAAAAAAAAAAAAAAAAAAAAAAAAAAAAAAAAAAAAAAAAAAAAAAAAAAAAAAAAAAAAAAAAAAAAAAAAAAAAAAAoJmZmZmZub8AAAAAAAAAAAAAAAAAAAAAAAAAAAAAAAAAAAAAAAAAAKCZmZmZmbm/AAAAAAAAAAAAAAAAAAAAAAAAAAAAAAAAAAAAAAAAAAAAAAAAAAAAAAAAAAAAAAAAAAAAAAAAAAAAAAAAAAAAAAAAAAAAAAAAAAAAAAAAAACAmZmZmZm5PwAAAAAAAAAAAAAAAAAAAAAAAAAAAAAAAAAAAAAAAAAAAAAAAAAAAAAAAAAAAAAAAAAAAAAAAAAAAAAAAAAAAAAAAAAAAAAAAAAAAAAAAAAAAAAAAAAAAAAAAAAAAAAAAAAAAAAAAAAAAAAAAAAAAAAAAAAAAAAAAAAAAAAAAAAAAAAAAAAAAAAAAAAAAAAAAAAAAAAAAAAAAAAAAAAAAAAAAAAAAAAAAAAAAAAAAAAAAAAAAAAAAACYmZmZmZm5PwAAAAAAAAAAAAAAAAAAAAAAAAAAAAAAAAAAAAAAAAAAAAAAAAAAAAAAAAAAAAAAAAAAAAAAAAAAAAAAAAAAAAAAAAAAAAAAAAAAAAAAAAAAAAAAAAAAAAAAAAAAAAAAAICZmZmZmbk/AAAAAAAAAACAmZmZmZm5vwAAAAAAAAAAAAAAAAAAAAAAAAAAAAAAAAAAAAAAAAAAAAAAAAAAAAAAAAAAAAAAAAAAAAAAAAAAAAAAAAAAAAAAAAAAAAAAAAAAAAAAAAAAAAAAAAAAAAAAAAAAAAAAAAAAAAAAAAAAAAAAAAAAAAAAAAAAAAAAAAAAAAAAAAAAAAAAAAAAAAAAAAAAAAAAAAAAAAAAAAAAAAAAAAAAAAAAAAAAAAAAAKCZmZmZmbm/mJmZmZmZuT8AAAAAAAAAAAAAAAAAAAAAAAAAAAAAAAAAAAAAAAAAAAAAAAAAAAAAAAAAAAAAAAAAAAAAAAAAAAAAAAAAAAAAoJmZmZmZub8AAAAAAAAAAAAAAAAAAAAAAAAAAAAAAAAAAAAAAAAAAAAAAAAAAAAAAAAAAAAAAAAAAAAAAAAAAAAAAAAAAAAAAAAAAAAAAAAAAAAAAAAAAKCZmZmZmbk/AAAAAAAAAACgmZmZmZm5vwAAAAAAAAAAAAAAAAAAAAAAAAAAAAAAAAAAAAAAAAAAoJmZmZmZuT8AAAAAAAAAAAAAAAAAAAAAAAAAAAAAAACgmZmZmZm5PwAAAAAAAAAAAAAAAAAAAAAAAAAAAAAAAAAAAAAAAAAAAAAAAAAAAAAAAAAAAAAAAAAAAAAAAAAAAAAAAAAAAAAAAAAAAAAAAAAAAAAAAAAAAAAAAAAAAAAAAAAAAAAAAAAAAAAAAAAAAAAAAAAAAAAAAAAAAAAAAAAAAAAAAAAAAAAAAAAAAAAAAAAAAAAAAAAAAAAAAAAAAAAAAAAAAAAAAAAAAAAAAAAAAAAAAAAAoJmZmZmZuT8AAAAAAAAAAICZmZmZmbm/AAAAAAAAAAAAAAAAAAAAAAAAAAAAAAAAAAAAAAAAAAAAAAAAAAAAAAAAAAAAAAAAAAAAAAAAAAAAAAAAAAAAAAAAAAAAAAAAAAAAAAAAAACgmZmZmZm5vwAAAAAAAAAAAAAAAAAAAAAAAAAAAAAAAAAAAAAAAAAAoJmZmZmZub8AAAAAAAAAAAAAAAAAAAAAAAAAAAAAAAAAAAAAAAAAAAAAAAAAAAAAAAAAAAAAAAAAAAAAAAAAAAAAAAAAAAAAAAAAAAAAAAAAAAAAAAAAAAAAAAAAAAAAAAAAAAAAAAAAAAAAAAAAAAAAAAAAAAAAAAAAAAAAAAAAAAAAAAAAAAAAAAAAAAAAgJmZmZmZuT8AAAAAAAAAAAAAAAAAAAAAgJmZmZmZub8AAAAAAAAAAAAAAAAAAAAAoJmZmZmZuT8AAAAAAAAAAAAAAAAAAAAAAAAAAAAAAAAAAAAAAAAAAAAAAAAAAAAAoJmZmZmZub8AAAAAAAAAAAAAAAAAAAAAAAAAAAAAAAAAAAAAAAAAAAAAAAAAAAAAAAAAAAAAAACgmZmZmZm5PwAAAAAAAAAAAAAAAAAAAAA=",
          "dtype": "f8"
         },
         "xaxis": "x3",
         "yaxis": "y3"
        },
        {
         "name": "FTM - (FT% * FTA / 100)",
         "nbinsx": 30,
         "showlegend": false,
         "type": "histogram",
         "x": {
          "bdata": "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",
          "dtype": "f8"
         },
         "xaxis": "x4",
         "yaxis": "y4"
        }
       ],
       "layout": {
        "annotations": [
         {
          "font": {
           "size": 16
          },
          "showarrow": false,
          "text": "REB - (OREB + DREB)",
          "x": 0.225,
          "xanchor": "center",
          "xref": "paper",
          "y": 1,
          "yanchor": "bottom",
          "yref": "paper"
         },
         {
          "font": {
           "size": 16
          },
          "showarrow": false,
          "text": "3P Made - (3P% * 3PA / 100)",
          "x": 0.775,
          "xanchor": "center",
          "xref": "paper",
          "y": 1,
          "yanchor": "bottom",
          "yref": "paper"
         },
         {
          "font": {
           "size": 16
          },
          "showarrow": false,
          "text": "FGM - (FG% * FGA / 100)",
          "x": 0.225,
          "xanchor": "center",
          "xref": "paper",
          "y": 0.375,
          "yanchor": "bottom",
          "yref": "paper"
         },
         {
          "font": {
           "size": 16
          },
          "showarrow": false,
          "text": "FTM - (FT% * FTA / 100)",
          "x": 0.775,
          "xanchor": "center",
          "xref": "paper",
          "y": 0.375,
          "yanchor": "bottom",
          "yref": "paper"
         }
        ],
        "height": 600,
        "template": {
         "data": {
          "bar": [
           {
            "error_x": {
             "color": "#2a3f5f"
            },
            "error_y": {
             "color": "#2a3f5f"
            },
            "marker": {
             "line": {
              "color": "#E5ECF6",
              "width": 0.5
             },
             "pattern": {
              "fillmode": "overlay",
              "size": 10,
              "solidity": 0.2
             }
            },
            "type": "bar"
           }
          ],
          "barpolar": [
           {
            "marker": {
             "line": {
              "color": "#E5ECF6",
              "width": 0.5
             },
             "pattern": {
              "fillmode": "overlay",
              "size": 10,
              "solidity": 0.2
             }
            },
            "type": "barpolar"
           }
          ],
          "carpet": [
           {
            "aaxis": {
             "endlinecolor": "#2a3f5f",
             "gridcolor": "white",
             "linecolor": "white",
             "minorgridcolor": "white",
             "startlinecolor": "#2a3f5f"
            },
            "baxis": {
             "endlinecolor": "#2a3f5f",
             "gridcolor": "white",
             "linecolor": "white",
             "minorgridcolor": "white",
             "startlinecolor": "#2a3f5f"
            },
            "type": "carpet"
           }
          ],
          "choropleth": [
           {
            "colorbar": {
             "outlinewidth": 0,
             "ticks": ""
            },
            "type": "choropleth"
           }
          ],
          "contour": [
           {
            "colorbar": {
             "outlinewidth": 0,
             "ticks": ""
            },
            "colorscale": [
             [
              0,
              "#0d0887"
             ],
             [
              0.1111111111111111,
              "#46039f"
             ],
             [
              0.2222222222222222,
              "#7201a8"
             ],
             [
              0.3333333333333333,
              "#9c179e"
             ],
             [
              0.4444444444444444,
              "#bd3786"
             ],
             [
              0.5555555555555556,
              "#d8576b"
             ],
             [
              0.6666666666666666,
              "#ed7953"
             ],
             [
              0.7777777777777778,
              "#fb9f3a"
             ],
             [
              0.8888888888888888,
              "#fdca26"
             ],
             [
              1,
              "#f0f921"
             ]
            ],
            "type": "contour"
           }
          ],
          "contourcarpet": [
           {
            "colorbar": {
             "outlinewidth": 0,
             "ticks": ""
            },
            "type": "contourcarpet"
           }
          ],
          "heatmap": [
           {
            "colorbar": {
             "outlinewidth": 0,
             "ticks": ""
            },
            "colorscale": [
             [
              0,
              "#0d0887"
             ],
             [
              0.1111111111111111,
              "#46039f"
             ],
             [
              0.2222222222222222,
              "#7201a8"
             ],
             [
              0.3333333333333333,
              "#9c179e"
             ],
             [
              0.4444444444444444,
              "#bd3786"
             ],
             [
              0.5555555555555556,
              "#d8576b"
             ],
             [
              0.6666666666666666,
              "#ed7953"
             ],
             [
              0.7777777777777778,
              "#fb9f3a"
             ],
             [
              0.8888888888888888,
              "#fdca26"
             ],
             [
              1,
              "#f0f921"
             ]
            ],
            "type": "heatmap"
           }
          ],
          "histogram": [
           {
            "marker": {
             "pattern": {
              "fillmode": "overlay",
              "size": 10,
              "solidity": 0.2
             }
            },
            "type": "histogram"
           }
          ],
          "histogram2d": [
           {
            "colorbar": {
             "outlinewidth": 0,
             "ticks": ""
            },
            "colorscale": [
             [
              0,
              "#0d0887"
             ],
             [
              0.1111111111111111,
              "#46039f"
             ],
             [
              0.2222222222222222,
              "#7201a8"
             ],
             [
              0.3333333333333333,
              "#9c179e"
             ],
             [
              0.4444444444444444,
              "#bd3786"
             ],
             [
              0.5555555555555556,
              "#d8576b"
             ],
             [
              0.6666666666666666,
              "#ed7953"
             ],
             [
              0.7777777777777778,
              "#fb9f3a"
             ],
             [
              0.8888888888888888,
              "#fdca26"
             ],
             [
              1,
              "#f0f921"
             ]
            ],
            "type": "histogram2d"
           }
          ],
          "histogram2dcontour": [
           {
            "colorbar": {
             "outlinewidth": 0,
             "ticks": ""
            },
            "colorscale": [
             [
              0,
              "#0d0887"
             ],
             [
              0.1111111111111111,
              "#46039f"
             ],
             [
              0.2222222222222222,
              "#7201a8"
             ],
             [
              0.3333333333333333,
              "#9c179e"
             ],
             [
              0.4444444444444444,
              "#bd3786"
             ],
             [
              0.5555555555555556,
              "#d8576b"
             ],
             [
              0.6666666666666666,
              "#ed7953"
             ],
             [
              0.7777777777777778,
              "#fb9f3a"
             ],
             [
              0.8888888888888888,
              "#fdca26"
             ],
             [
              1,
              "#f0f921"
             ]
            ],
            "type": "histogram2dcontour"
           }
          ],
          "mesh3d": [
           {
            "colorbar": {
             "outlinewidth": 0,
             "ticks": ""
            },
            "type": "mesh3d"
           }
          ],
          "parcoords": [
           {
            "line": {
             "colorbar": {
              "outlinewidth": 0,
              "ticks": ""
             }
            },
            "type": "parcoords"
           }
          ],
          "pie": [
           {
            "automargin": true,
            "type": "pie"
           }
          ],
          "scatter": [
           {
            "fillpattern": {
             "fillmode": "overlay",
             "size": 10,
             "solidity": 0.2
            },
            "type": "scatter"
           }
          ],
          "scatter3d": [
           {
            "line": {
             "colorbar": {
              "outlinewidth": 0,
              "ticks": ""
             }
            },
            "marker": {
             "colorbar": {
              "outlinewidth": 0,
              "ticks": ""
             }
            },
            "type": "scatter3d"
           }
          ],
          "scattercarpet": [
           {
            "marker": {
             "colorbar": {
              "outlinewidth": 0,
              "ticks": ""
             }
            },
            "type": "scattercarpet"
           }
          ],
          "scattergeo": [
           {
            "marker": {
             "colorbar": {
              "outlinewidth": 0,
              "ticks": ""
             }
            },
            "type": "scattergeo"
           }
          ],
          "scattergl": [
           {
            "marker": {
             "colorbar": {
              "outlinewidth": 0,
              "ticks": ""
             }
            },
            "type": "scattergl"
           }
          ],
          "scattermap": [
           {
            "marker": {
             "colorbar": {
              "outlinewidth": 0,
              "ticks": ""
             }
            },
            "type": "scattermap"
           }
          ],
          "scattermapbox": [
           {
            "marker": {
             "colorbar": {
              "outlinewidth": 0,
              "ticks": ""
             }
            },
            "type": "scattermapbox"
           }
          ],
          "scatterpolar": [
           {
            "marker": {
             "colorbar": {
              "outlinewidth": 0,
              "ticks": ""
             }
            },
            "type": "scatterpolar"
           }
          ],
          "scatterpolargl": [
           {
            "marker": {
             "colorbar": {
              "outlinewidth": 0,
              "ticks": ""
             }
            },
            "type": "scatterpolargl"
           }
          ],
          "scatterternary": [
           {
            "marker": {
             "colorbar": {
              "outlinewidth": 0,
              "ticks": ""
             }
            },
            "type": "scatterternary"
           }
          ],
          "surface": [
           {
            "colorbar": {
             "outlinewidth": 0,
             "ticks": ""
            },
            "colorscale": [
             [
              0,
              "#0d0887"
             ],
             [
              0.1111111111111111,
              "#46039f"
             ],
             [
              0.2222222222222222,
              "#7201a8"
             ],
             [
              0.3333333333333333,
              "#9c179e"
             ],
             [
              0.4444444444444444,
              "#bd3786"
             ],
             [
              0.5555555555555556,
              "#d8576b"
             ],
             [
              0.6666666666666666,
              "#ed7953"
             ],
             [
              0.7777777777777778,
              "#fb9f3a"
             ],
             [
              0.8888888888888888,
              "#fdca26"
             ],
             [
              1,
              "#f0f921"
             ]
            ],
            "type": "surface"
           }
          ],
          "table": [
           {
            "cells": {
             "fill": {
              "color": "#EBF0F8"
             },
             "line": {
              "color": "white"
             }
            },
            "header": {
             "fill": {
              "color": "#C8D4E3"
             },
             "line": {
              "color": "white"
             }
            },
            "type": "table"
           }
          ]
         },
         "layout": {
          "annotationdefaults": {
           "arrowcolor": "#2a3f5f",
           "arrowhead": 0,
           "arrowwidth": 1
          },
          "autotypenumbers": "strict",
          "coloraxis": {
           "colorbar": {
            "outlinewidth": 0,
            "ticks": ""
           }
          },
          "colorscale": {
           "diverging": [
            [
             0,
             "#8e0152"
            ],
            [
             0.1,
             "#c51b7d"
            ],
            [
             0.2,
             "#de77ae"
            ],
            [
             0.3,
             "#f1b6da"
            ],
            [
             0.4,
             "#fde0ef"
            ],
            [
             0.5,
             "#f7f7f7"
            ],
            [
             0.6,
             "#e6f5d0"
            ],
            [
             0.7,
             "#b8e186"
            ],
            [
             0.8,
             "#7fbc41"
            ],
            [
             0.9,
             "#4d9221"
            ],
            [
             1,
             "#276419"
            ]
           ],
           "sequential": [
            [
             0,
             "#0d0887"
            ],
            [
             0.1111111111111111,
             "#46039f"
            ],
            [
             0.2222222222222222,
             "#7201a8"
            ],
            [
             0.3333333333333333,
             "#9c179e"
            ],
            [
             0.4444444444444444,
             "#bd3786"
            ],
            [
             0.5555555555555556,
             "#d8576b"
            ],
            [
             0.6666666666666666,
             "#ed7953"
            ],
            [
             0.7777777777777778,
             "#fb9f3a"
            ],
            [
             0.8888888888888888,
             "#fdca26"
            ],
            [
             1,
             "#f0f921"
            ]
           ],
           "sequentialminus": [
            [
             0,
             "#0d0887"
            ],
            [
             0.1111111111111111,
             "#46039f"
            ],
            [
             0.2222222222222222,
             "#7201a8"
            ],
            [
             0.3333333333333333,
             "#9c179e"
            ],
            [
             0.4444444444444444,
             "#bd3786"
            ],
            [
             0.5555555555555556,
             "#d8576b"
            ],
            [
             0.6666666666666666,
             "#ed7953"
            ],
            [
             0.7777777777777778,
             "#fb9f3a"
            ],
            [
             0.8888888888888888,
             "#fdca26"
            ],
            [
             1,
             "#f0f921"
            ]
           ]
          },
          "colorway": [
           "#636efa",
           "#EF553B",
           "#00cc96",
           "#ab63fa",
           "#FFA15A",
           "#19d3f3",
           "#FF6692",
           "#B6E880",
           "#FF97FF",
           "#FECB52"
          ],
          "font": {
           "color": "#2a3f5f"
          },
          "geo": {
           "bgcolor": "white",
           "lakecolor": "white",
           "landcolor": "#E5ECF6",
           "showlakes": true,
           "showland": true,
           "subunitcolor": "white"
          },
          "hoverlabel": {
           "align": "left"
          },
          "hovermode": "closest",
          "mapbox": {
           "style": "light"
          },
          "paper_bgcolor": "white",
          "plot_bgcolor": "#E5ECF6",
          "polar": {
           "angularaxis": {
            "gridcolor": "white",
            "linecolor": "white",
            "ticks": ""
           },
           "bgcolor": "#E5ECF6",
           "radialaxis": {
            "gridcolor": "white",
            "linecolor": "white",
            "ticks": ""
           }
          },
          "scene": {
           "xaxis": {
            "backgroundcolor": "#E5ECF6",
            "gridcolor": "white",
            "gridwidth": 2,
            "linecolor": "white",
            "showbackground": true,
            "ticks": "",
            "zerolinecolor": "white"
           },
           "yaxis": {
            "backgroundcolor": "#E5ECF6",
            "gridcolor": "white",
            "gridwidth": 2,
            "linecolor": "white",
            "showbackground": true,
            "ticks": "",
            "zerolinecolor": "white"
           },
           "zaxis": {
            "backgroundcolor": "#E5ECF6",
            "gridcolor": "white",
            "gridwidth": 2,
            "linecolor": "white",
            "showbackground": true,
            "ticks": "",
            "zerolinecolor": "white"
           }
          },
          "shapedefaults": {
           "line": {
            "color": "#2a3f5f"
           }
          },
          "ternary": {
           "aaxis": {
            "gridcolor": "white",
            "linecolor": "white",
            "ticks": ""
           },
           "baxis": {
            "gridcolor": "white",
            "linecolor": "white",
            "ticks": ""
           },
           "bgcolor": "#E5ECF6",
           "caxis": {
            "gridcolor": "white",
            "linecolor": "white",
            "ticks": ""
           }
          },
          "title": {
           "x": 0.05
          },
          "xaxis": {
           "automargin": true,
           "gridcolor": "white",
           "linecolor": "white",
           "ticks": "",
           "title": {
            "standoff": 15
           },
           "zerolinecolor": "white",
           "zerolinewidth": 2
          },
          "yaxis": {
           "automargin": true,
           "gridcolor": "white",
           "linecolor": "white",
           "ticks": "",
           "title": {
            "standoff": 15
           },
           "zerolinecolor": "white",
           "zerolinewidth": 2
          }
         }
        },
        "title": {
         "text": "Distribution of Feature Differences"
        },
        "width": 800,
        "xaxis": {
         "anchor": "y",
         "domain": [
          0,
          0.45
         ]
        },
        "xaxis2": {
         "anchor": "y2",
         "domain": [
          0.55,
          1
         ]
        },
        "xaxis3": {
         "anchor": "y3",
         "domain": [
          0,
          0.45
         ]
        },
        "xaxis4": {
         "anchor": "y4",
         "domain": [
          0.55,
          1
         ]
        },
        "yaxis": {
         "anchor": "x",
         "domain": [
          0.625,
          1
         ]
        },
        "yaxis2": {
         "anchor": "x2",
         "domain": [
          0.625,
          1
         ]
        },
        "yaxis3": {
         "anchor": "x3",
         "domain": [
          0,
          0.375
         ]
        },
        "yaxis4": {
         "anchor": "x4",
         "domain": [
          0,
          0.375
         ]
        }
       }
      }
     },
     "metadata": {},
     "output_type": "display_data"
    }
   ],
   "source": [
    "# Handling high correlation\n",
    "diffs = {\n",
    "    \"REB - (OREB + DREB)\": df[\"REB\"] - (df[\"OREB\"] + df[\"DREB\"]),\n",
    "    \"3P Made - (3P% * 3PA / 100)\": df[\"3P Made\"] - round(df[\"3P%\"] * df[\"3PA\"] / 100, 1),\n",
    "    \"FGM - (FG% * FGA / 100)\": df[\"FGM\"] - round(df[\"FG%\"] * df[\"FGA\"] / 100, 1),\n",
    "    \"FTM - (FT% * FTA / 100)\": df[\"FTM\"] - round(df[\"FT%\"] * df[\"FTA\"] / 100, 1)\n",
    "}\n",
    "\n",
    "fig_diff = make_subplots(rows=2, cols=2, subplot_titles=list(diffs.keys()))\n",
    "\n",
    "for idx, (title, diff_series) in enumerate(diffs.items()):\n",
    "    r = idx // 2 + 1\n",
    "    c = idx % 2 + 1\n",
    "    fig_diff.add_trace(\n",
    "        go.Histogram(x=diff_series, nbinsx=30, name=title, showlegend=False),\n",
    "        row=r, col=c\n",
    "    )\n",
    "\n",
    "fig_diff.update_layout(height=600, width=800, title_text=\"Distribution of Feature Differences\")\n",
    "fig_diff.show()"
   ]
  },
  {
   "cell_type": "markdown",
   "id": "f572627d",
   "metadata": {},
   "source": [
    "Some redundancy introduced in this dataset : <br> \n",
    "1) $OREB+DREB\\approx REB$ (due to rounding errors)\n",
    "2) $3P\\%\\approx\\frac{3P Made}{3PA}$\n",
    "3) $FP\\%\\approx\\frac{FPM}{FPA}$\n",
    "4) $FT\\%\\approx\\frac{FTM}{FTA}$\n",
    "\n",
    "Looking at distribs we decide to remove FGM, 3P Made, FTM and DREB"
   ]
  },
  {
   "cell_type": "code",
   "execution_count": 15,
   "id": "d58ab26c",
   "metadata": {},
   "outputs": [
    {
     "data": {
      "application/vnd.plotly.v1+json": {
       "config": {
        "plotlyServerURL": "https://plot.ly"
       },
       "data": [
        {
         "coloraxis": "coloraxis",
         "hovertemplate": "x: %{x}<br>y: %{y}<br>color: %{z}<extra></extra>",
         "name": "0",
         "texttemplate": "%{z}",
         "type": "heatmap",
         "x": [
          "GP",
          "MIN",
          "PTS",
          "FGA",
          "FG%",
          "3PA",
          "3P%",
          "FTA",
          "FT%",
          "OREB",
          "REB",
          "AST",
          "STL",
          "BLK",
          "TOV",
          "TARGET_5Yrs"
         ],
         "xaxis": "x",
         "y": [
          "GP",
          "MIN",
          "PTS",
          "FGA",
          "FG%",
          "3PA",
          "3P%",
          "FTA",
          "FT%",
          "OREB",
          "REB",
          "AST",
          "STL",
          "BLK",
          "TOV",
          "TARGET_5Yrs"
         ],
         "yaxis": "y",
         "z": {
          "bdata": "AAAAAAAA8D+Rfvs6cM7iPyJseHqlLOE/JQaBlUOL4D8CvAUSFD/SP44G8BZIULw/JXUCmggbnj9wXwfOGVHeP+CcEaW9wcc/gQTFjzF32T85RUdy+Q/dP3Qkl/+Qftc/Gw3gLZCg3D924JwRpb3RPzvfT42XbuA/N4lBYOXQ2j+Rfvs6cM7iPwAAAAAAAPA/4zYawFsg7T+GWtO84xTtP662Yn/ZPck/KxiV1Alo2j/F/rJ78rDIP2recYqO5Og/EoPAyqFFzj++nxov3STiP3/7OnDOiOY/8fRKWYY45D8YldQJaCLoP0+vlGWIY9k/s3vysFBr6j/5oGez6nPVPyJseHqlLOE/4zYawFsg7T8AAAAAAADwP5jdk4eFWu8/eJyiI7n8zz/dJAaBlUPXP3UCmggbnsY/sb/snjws7D/tDb4wmSrQP1D8GHPXEuI/mN2Th4Va5T9cIEHxY8zhPyv2l92Th+U/k6mCUUmd2D+RD3o2qz7rP4v9ZffkYdU/JQaBlUOL4D+GWtO84xTtP5jdk4eFWu8/AAAAAAAA8D9pAG+BBMW/PwwCK4cW2do/2T15WKg1zT+KjuTyH9LpP6JFtvP91NA/FR3J5T+k3z/l8h/Sb1/jP0YldQKaCOM/Ece6uI0G5j97FK5H4XrUPx+F61G4Hus/WDm0yHa+0z8CvAUSFD/SP662Yn/ZPck/eJyiI7n8zz9pAG+BBMW/PwAAAAAAAPA/eVioNc071r+ZKhiV1AnYv8IXJlMFo9I/si5uowG8xb8jSnuDL0zgP/mgZ7Pqc90/S1mGONbFvb9wXwfOGVGqP+M2GsBbINk/IR/0bFZ9vj9iEFg5tMjOP44G8BZIULw/KxiV1Alo2j/dJAaBlUPXPwwCK4cW2do/eVioNc071r8AAAAAAADwPw4tsp3vp+Q/RpT2Bl+YvD+BBMWPMXfVP+/Jw0Ktac6/utqK/WX3tL+TOgFNhA3bPyV1ApoIG9Y/nzws1Jrmxb/pJjEIrBzSPzvfT42XbpI/JXUCmggbnj/F/rJ78rDIP3UCmggbnsY/2T15WKg1zT+ZKhiV1AnYvw4tsp3vp+Q/AAAAAAAA8D9Wfa62Yn+Zv8E5I0p7g9c/CD2bVZ+r1b/o2az6XG3Nv4PAyqFFttM/vAUSFD/GzD+KH2PuWkLSv5tVn6ut2L8/CtejcD0Kl79wXwfOGVHeP2recYqO5Og/sb/snjws7D+KjuTyH9LpP8IXJlMFo9I/RpT2Bl+YvD9Wfa62Yn+ZvwAAAAAAAPA/cM6I0t7guz85tMh2vp/kP+XQItv5fuY/g8DKoUW22z/ysFBrmnfiP8zuycNCrd0/QKTfvg6c6T9/arx0kxjUP+CcEaW9wcc/EoPAyqFFzj/tDb4wmSrQP6JFtvP91NA/si5uowG8xb+BBMWPMXfVP8E5I0p7g9c/cM6I0t7guz8AAAAAAADwP+Y/pN++DsS/8IXJVMGotL/VCWgibHjSPz81XrpJDMo/ZMxdS8gHxb8LRiV1AprIP4GVQ4ts57s/gQTFjzF32T++nxov3STiP1D8GHPXEuI/FR3J5T+k3z8jSnuDL0zgP+/Jw0Ktac6/CD2bVZ+r1b85tMh2vp/kP+Y/pN++DsS/AAAAAAAA8D8PC7WmecftP1g5tMh2vo+/X5hMFYxK0j+Nl24Sg8DkP4ts5/up8do/rkfhehSu0z85RUdy+Q/dP3/7OnDOiOY/mN2Th4Va5T/l8h/Sb1/jP/mgZ7Pqc90/utqK/WX3tL/o2az6XG3Nv+XQItv5fuY/8IXJVMGotL8PC7WmecftPwAAAAAAAPA/IbByaJHtvD/Mf0i/fR3YP/aX3ZOHheY/p+hILv8h4T/ChqdXyjLUP3Qkl/+Qftc/8fRKWYY45D9cIEHxY8zhP0YldQKaCOM/S1mGONbFvb+TOgFNhA3bP4PAyqFFttM/g8DKoUW22z/VCWgibHjSP1g5tMh2vo+/IbByaJHtvD8AAAAAAADwP4V80LNZ9ec/BhIUP8bctb+ZKhiV1AnoP2WqYFRSJ8g/Gw3gLZCg3D8YldQJaCLoPyv2l92Th+U/Ece6uI0G5j9wXwfOGVGqPyV1ApoIG9Y/vAUSFD/GzD/ysFBrmnfiPz81XrpJDMo/X5hMFYxK0j/Mf0i/fR3YP4V80LNZ9ec/AAAAAAAA8D+Rfvs6cM7AP4nS3uALk+c/P1dbsb/szj924JwRpb3RP0+vlGWIY9k/k6mCUUmd2D97FK5H4XrUP+M2GsBbINk/nzws1Jrmxb+KH2PuWkLSv8zuycNCrd0/ZMxdS8gHxb+Nl24Sg8DkP/aX3ZOHheY/BhIUP8bctb+Rfvs6cM7APwAAAAAAAPA/Njy9UpYh0j+WsgxxrIvLPzvfT42XbuA/s3vysFBr6j+RD3o2qz7rPx+F61G4Hus/IR/0bFZ9vj/pJjEIrBzSP5tVn6ut2L8/QKTfvg6c6T8LRiV1AprIP4ts5/up8do/p+hILv8h4T+ZKhiV1AnoP4nS3uALk+c/Njy9UpYh0j8AAAAAAADwPyntDb4wmdI/N4lBYOXQ2j/5oGez6nPVP4v9ZffkYdU/WDm0yHa+0z9iEFg5tMjOPzvfT42XbpI/CtejcD0Kl79/arx0kxjUP4GVQ4ts57s/rkfhehSu0z/ChqdXyjLUP2WqYFRSJ8g/P1dbsb/szj+WsgxxrIvLPyntDb4wmdI/AAAAAAAA8D8=",
          "dtype": "f8",
          "shape": "16, 16"
         }
        }
       ],
       "layout": {
        "coloraxis": {
         "colorscale": [
          [
           0,
           "rgb(103,0,31)"
          ],
          [
           0.1,
           "rgb(178,24,43)"
          ],
          [
           0.2,
           "rgb(214,96,77)"
          ],
          [
           0.3,
           "rgb(244,165,130)"
          ],
          [
           0.4,
           "rgb(253,219,199)"
          ],
          [
           0.5,
           "rgb(247,247,247)"
          ],
          [
           0.6,
           "rgb(209,229,240)"
          ],
          [
           0.7,
           "rgb(146,197,222)"
          ],
          [
           0.8,
           "rgb(67,147,195)"
          ],
          [
           0.9,
           "rgb(33,102,172)"
          ],
          [
           1,
           "rgb(5,48,97)"
          ]
         ]
        },
        "height": 1000,
        "template": {
         "data": {
          "bar": [
           {
            "error_x": {
             "color": "#2a3f5f"
            },
            "error_y": {
             "color": "#2a3f5f"
            },
            "marker": {
             "line": {
              "color": "#E5ECF6",
              "width": 0.5
             },
             "pattern": {
              "fillmode": "overlay",
              "size": 10,
              "solidity": 0.2
             }
            },
            "type": "bar"
           }
          ],
          "barpolar": [
           {
            "marker": {
             "line": {
              "color": "#E5ECF6",
              "width": 0.5
             },
             "pattern": {
              "fillmode": "overlay",
              "size": 10,
              "solidity": 0.2
             }
            },
            "type": "barpolar"
           }
          ],
          "carpet": [
           {
            "aaxis": {
             "endlinecolor": "#2a3f5f",
             "gridcolor": "white",
             "linecolor": "white",
             "minorgridcolor": "white",
             "startlinecolor": "#2a3f5f"
            },
            "baxis": {
             "endlinecolor": "#2a3f5f",
             "gridcolor": "white",
             "linecolor": "white",
             "minorgridcolor": "white",
             "startlinecolor": "#2a3f5f"
            },
            "type": "carpet"
           }
          ],
          "choropleth": [
           {
            "colorbar": {
             "outlinewidth": 0,
             "ticks": ""
            },
            "type": "choropleth"
           }
          ],
          "contour": [
           {
            "colorbar": {
             "outlinewidth": 0,
             "ticks": ""
            },
            "colorscale": [
             [
              0,
              "#0d0887"
             ],
             [
              0.1111111111111111,
              "#46039f"
             ],
             [
              0.2222222222222222,
              "#7201a8"
             ],
             [
              0.3333333333333333,
              "#9c179e"
             ],
             [
              0.4444444444444444,
              "#bd3786"
             ],
             [
              0.5555555555555556,
              "#d8576b"
             ],
             [
              0.6666666666666666,
              "#ed7953"
             ],
             [
              0.7777777777777778,
              "#fb9f3a"
             ],
             [
              0.8888888888888888,
              "#fdca26"
             ],
             [
              1,
              "#f0f921"
             ]
            ],
            "type": "contour"
           }
          ],
          "contourcarpet": [
           {
            "colorbar": {
             "outlinewidth": 0,
             "ticks": ""
            },
            "type": "contourcarpet"
           }
          ],
          "heatmap": [
           {
            "colorbar": {
             "outlinewidth": 0,
             "ticks": ""
            },
            "colorscale": [
             [
              0,
              "#0d0887"
             ],
             [
              0.1111111111111111,
              "#46039f"
             ],
             [
              0.2222222222222222,
              "#7201a8"
             ],
             [
              0.3333333333333333,
              "#9c179e"
             ],
             [
              0.4444444444444444,
              "#bd3786"
             ],
             [
              0.5555555555555556,
              "#d8576b"
             ],
             [
              0.6666666666666666,
              "#ed7953"
             ],
             [
              0.7777777777777778,
              "#fb9f3a"
             ],
             [
              0.8888888888888888,
              "#fdca26"
             ],
             [
              1,
              "#f0f921"
             ]
            ],
            "type": "heatmap"
           }
          ],
          "histogram": [
           {
            "marker": {
             "pattern": {
              "fillmode": "overlay",
              "size": 10,
              "solidity": 0.2
             }
            },
            "type": "histogram"
           }
          ],
          "histogram2d": [
           {
            "colorbar": {
             "outlinewidth": 0,
             "ticks": ""
            },
            "colorscale": [
             [
              0,
              "#0d0887"
             ],
             [
              0.1111111111111111,
              "#46039f"
             ],
             [
              0.2222222222222222,
              "#7201a8"
             ],
             [
              0.3333333333333333,
              "#9c179e"
             ],
             [
              0.4444444444444444,
              "#bd3786"
             ],
             [
              0.5555555555555556,
              "#d8576b"
             ],
             [
              0.6666666666666666,
              "#ed7953"
             ],
             [
              0.7777777777777778,
              "#fb9f3a"
             ],
             [
              0.8888888888888888,
              "#fdca26"
             ],
             [
              1,
              "#f0f921"
             ]
            ],
            "type": "histogram2d"
           }
          ],
          "histogram2dcontour": [
           {
            "colorbar": {
             "outlinewidth": 0,
             "ticks": ""
            },
            "colorscale": [
             [
              0,
              "#0d0887"
             ],
             [
              0.1111111111111111,
              "#46039f"
             ],
             [
              0.2222222222222222,
              "#7201a8"
             ],
             [
              0.3333333333333333,
              "#9c179e"
             ],
             [
              0.4444444444444444,
              "#bd3786"
             ],
             [
              0.5555555555555556,
              "#d8576b"
             ],
             [
              0.6666666666666666,
              "#ed7953"
             ],
             [
              0.7777777777777778,
              "#fb9f3a"
             ],
             [
              0.8888888888888888,
              "#fdca26"
             ],
             [
              1,
              "#f0f921"
             ]
            ],
            "type": "histogram2dcontour"
           }
          ],
          "mesh3d": [
           {
            "colorbar": {
             "outlinewidth": 0,
             "ticks": ""
            },
            "type": "mesh3d"
           }
          ],
          "parcoords": [
           {
            "line": {
             "colorbar": {
              "outlinewidth": 0,
              "ticks": ""
             }
            },
            "type": "parcoords"
           }
          ],
          "pie": [
           {
            "automargin": true,
            "type": "pie"
           }
          ],
          "scatter": [
           {
            "fillpattern": {
             "fillmode": "overlay",
             "size": 10,
             "solidity": 0.2
            },
            "type": "scatter"
           }
          ],
          "scatter3d": [
           {
            "line": {
             "colorbar": {
              "outlinewidth": 0,
              "ticks": ""
             }
            },
            "marker": {
             "colorbar": {
              "outlinewidth": 0,
              "ticks": ""
             }
            },
            "type": "scatter3d"
           }
          ],
          "scattercarpet": [
           {
            "marker": {
             "colorbar": {
              "outlinewidth": 0,
              "ticks": ""
             }
            },
            "type": "scattercarpet"
           }
          ],
          "scattergeo": [
           {
            "marker": {
             "colorbar": {
              "outlinewidth": 0,
              "ticks": ""
             }
            },
            "type": "scattergeo"
           }
          ],
          "scattergl": [
           {
            "marker": {
             "colorbar": {
              "outlinewidth": 0,
              "ticks": ""
             }
            },
            "type": "scattergl"
           }
          ],
          "scattermap": [
           {
            "marker": {
             "colorbar": {
              "outlinewidth": 0,
              "ticks": ""
             }
            },
            "type": "scattermap"
           }
          ],
          "scattermapbox": [
           {
            "marker": {
             "colorbar": {
              "outlinewidth": 0,
              "ticks": ""
             }
            },
            "type": "scattermapbox"
           }
          ],
          "scatterpolar": [
           {
            "marker": {
             "colorbar": {
              "outlinewidth": 0,
              "ticks": ""
             }
            },
            "type": "scatterpolar"
           }
          ],
          "scatterpolargl": [
           {
            "marker": {
             "colorbar": {
              "outlinewidth": 0,
              "ticks": ""
             }
            },
            "type": "scatterpolargl"
           }
          ],
          "scatterternary": [
           {
            "marker": {
             "colorbar": {
              "outlinewidth": 0,
              "ticks": ""
             }
            },
            "type": "scatterternary"
           }
          ],
          "surface": [
           {
            "colorbar": {
             "outlinewidth": 0,
             "ticks": ""
            },
            "colorscale": [
             [
              0,
              "#0d0887"
             ],
             [
              0.1111111111111111,
              "#46039f"
             ],
             [
              0.2222222222222222,
              "#7201a8"
             ],
             [
              0.3333333333333333,
              "#9c179e"
             ],
             [
              0.4444444444444444,
              "#bd3786"
             ],
             [
              0.5555555555555556,
              "#d8576b"
             ],
             [
              0.6666666666666666,
              "#ed7953"
             ],
             [
              0.7777777777777778,
              "#fb9f3a"
             ],
             [
              0.8888888888888888,
              "#fdca26"
             ],
             [
              1,
              "#f0f921"
             ]
            ],
            "type": "surface"
           }
          ],
          "table": [
           {
            "cells": {
             "fill": {
              "color": "#EBF0F8"
             },
             "line": {
              "color": "white"
             }
            },
            "header": {
             "fill": {
              "color": "#C8D4E3"
             },
             "line": {
              "color": "white"
             }
            },
            "type": "table"
           }
          ]
         },
         "layout": {
          "annotationdefaults": {
           "arrowcolor": "#2a3f5f",
           "arrowhead": 0,
           "arrowwidth": 1
          },
          "autotypenumbers": "strict",
          "coloraxis": {
           "colorbar": {
            "outlinewidth": 0,
            "ticks": ""
           }
          },
          "colorscale": {
           "diverging": [
            [
             0,
             "#8e0152"
            ],
            [
             0.1,
             "#c51b7d"
            ],
            [
             0.2,
             "#de77ae"
            ],
            [
             0.3,
             "#f1b6da"
            ],
            [
             0.4,
             "#fde0ef"
            ],
            [
             0.5,
             "#f7f7f7"
            ],
            [
             0.6,
             "#e6f5d0"
            ],
            [
             0.7,
             "#b8e186"
            ],
            [
             0.8,
             "#7fbc41"
            ],
            [
             0.9,
             "#4d9221"
            ],
            [
             1,
             "#276419"
            ]
           ],
           "sequential": [
            [
             0,
             "#0d0887"
            ],
            [
             0.1111111111111111,
             "#46039f"
            ],
            [
             0.2222222222222222,
             "#7201a8"
            ],
            [
             0.3333333333333333,
             "#9c179e"
            ],
            [
             0.4444444444444444,
             "#bd3786"
            ],
            [
             0.5555555555555556,
             "#d8576b"
            ],
            [
             0.6666666666666666,
             "#ed7953"
            ],
            [
             0.7777777777777778,
             "#fb9f3a"
            ],
            [
             0.8888888888888888,
             "#fdca26"
            ],
            [
             1,
             "#f0f921"
            ]
           ],
           "sequentialminus": [
            [
             0,
             "#0d0887"
            ],
            [
             0.1111111111111111,
             "#46039f"
            ],
            [
             0.2222222222222222,
             "#7201a8"
            ],
            [
             0.3333333333333333,
             "#9c179e"
            ],
            [
             0.4444444444444444,
             "#bd3786"
            ],
            [
             0.5555555555555556,
             "#d8576b"
            ],
            [
             0.6666666666666666,
             "#ed7953"
            ],
            [
             0.7777777777777778,
             "#fb9f3a"
            ],
            [
             0.8888888888888888,
             "#fdca26"
            ],
            [
             1,
             "#f0f921"
            ]
           ]
          },
          "colorway": [
           "#636efa",
           "#EF553B",
           "#00cc96",
           "#ab63fa",
           "#FFA15A",
           "#19d3f3",
           "#FF6692",
           "#B6E880",
           "#FF97FF",
           "#FECB52"
          ],
          "font": {
           "color": "#2a3f5f"
          },
          "geo": {
           "bgcolor": "white",
           "lakecolor": "white",
           "landcolor": "#E5ECF6",
           "showlakes": true,
           "showland": true,
           "subunitcolor": "white"
          },
          "hoverlabel": {
           "align": "left"
          },
          "hovermode": "closest",
          "mapbox": {
           "style": "light"
          },
          "paper_bgcolor": "white",
          "plot_bgcolor": "#E5ECF6",
          "polar": {
           "angularaxis": {
            "gridcolor": "white",
            "linecolor": "white",
            "ticks": ""
           },
           "bgcolor": "#E5ECF6",
           "radialaxis": {
            "gridcolor": "white",
            "linecolor": "white",
            "ticks": ""
           }
          },
          "scene": {
           "xaxis": {
            "backgroundcolor": "#E5ECF6",
            "gridcolor": "white",
            "gridwidth": 2,
            "linecolor": "white",
            "showbackground": true,
            "ticks": "",
            "zerolinecolor": "white"
           },
           "yaxis": {
            "backgroundcolor": "#E5ECF6",
            "gridcolor": "white",
            "gridwidth": 2,
            "linecolor": "white",
            "showbackground": true,
            "ticks": "",
            "zerolinecolor": "white"
           },
           "zaxis": {
            "backgroundcolor": "#E5ECF6",
            "gridcolor": "white",
            "gridwidth": 2,
            "linecolor": "white",
            "showbackground": true,
            "ticks": "",
            "zerolinecolor": "white"
           }
          },
          "shapedefaults": {
           "line": {
            "color": "#2a3f5f"
           }
          },
          "ternary": {
           "aaxis": {
            "gridcolor": "white",
            "linecolor": "white",
            "ticks": ""
           },
           "baxis": {
            "gridcolor": "white",
            "linecolor": "white",
            "ticks": ""
           },
           "bgcolor": "#E5ECF6",
           "caxis": {
            "gridcolor": "white",
            "linecolor": "white",
            "ticks": ""
           }
          },
          "title": {
           "x": 0.05
          },
          "xaxis": {
           "automargin": true,
           "gridcolor": "white",
           "linecolor": "white",
           "ticks": "",
           "title": {
            "standoff": 15
           },
           "zerolinecolor": "white",
           "zerolinewidth": 2
          },
          "yaxis": {
           "automargin": true,
           "gridcolor": "white",
           "linecolor": "white",
           "ticks": "",
           "title": {
            "standoff": 15
           },
           "zerolinecolor": "white",
           "zerolinewidth": 2
          }
         }
        },
        "title": {
         "text": "Feature Correlation Matrix"
        },
        "width": 1000,
        "xaxis": {
         "anchor": "y",
         "constrain": "domain",
         "domain": [
          0,
          1
         ],
         "scaleanchor": "y"
        },
        "yaxis": {
         "anchor": "x",
         "autorange": "reversed",
         "constrain": "domain",
         "domain": [
          0,
          1
         ]
        }
       }
      }
     },
     "metadata": {},
     "output_type": "display_data"
    }
   ],
   "source": [
    "# Filtering redundancy\n",
    "col_to_drop = [\"FGM\",\"3P Made\",\"FTM\",\"DREB\"]\n",
    "df = df.drop(columns=col_to_drop)\n",
    "\n",
    "# Feature correlation (V2)\n",
    "\n",
    "corr_matrix = round(df.corr(numeric_only=True),4)\n",
    "corr_matrix\n",
    "\n",
    "import plotly.express as px\n",
    "\n",
    "fig_corr = px.imshow(\n",
    "    corr_matrix,\n",
    "    text_auto=True,\n",
    "    color_continuous_scale='RdBu',\n",
    "    title=\"Feature Correlation Matrix\"\n",
    ")\n",
    "fig_corr.update_layout(width=1000, height=1000)\n",
    "fig_corr.show()"
   ]
  },
  {
   "cell_type": "markdown",
   "id": "844beafe",
   "metadata": {},
   "source": [
    "Other correlated feature are less easier to interpret : For example the longer a player stays on the field, the more he would score points. <br>\n",
    "However it is possible to conceive a player staying a lot on the field without scoring (may help with assists, blocks ...)"
   ]
  },
  {
   "cell_type": "code",
   "execution_count": 16,
   "id": "79863a0e",
   "metadata": {},
   "outputs": [],
   "source": [
    "# Saving results\n",
    "df.to_csv(\"data/nba_filtered.csv\", index=False)"
   ]
  },
  {
   "cell_type": "code",
   "execution_count": 17,
   "id": "5081b7bb",
   "metadata": {},
   "outputs": [
    {
     "data": {
      "application/vnd.plotly.v1+json": {
       "config": {
        "plotlyServerURL": "https://plot.ly"
       },
       "data": [
        {
         "name": "GP",
         "showlegend": false,
         "type": "box",
         "xaxis": "x",
         "y": {
          "bdata": "JCNKOjBLPjBBKiMoGy0sKDEpUFJMPSBMNExOM0A3UjAiKlJAUE03MDMzSEU2GDI4QzItJio2IyUuMygTJE83SkBSUlFMUkxDRlEhOkZSPk5JSkw3LyU+PjMkSj8hNkkPQDhARC80QCIqMjRLJzM0J1IfUlJRUDJRUjJRUlFFUjdLSE8ZUT9RPSs3O0JGTSVDKjIsJC1GOTQzIzAVJBVPUVBPT1JLUkxHT1I2N0BHJEFQIFFQR1FSGEE4JDNLNj5SNS8kPiU8MyoYTUgxLisjMylSPTo3QyojUlBRUj1CO09ST04YJ0tPOjFGKDc7LDEsKSQtMlJSUFBHRD9OUFBNUTJQS0NSQERNRE1CQ0FBPkA7Rj4jKjstQzwpPis1NjJSUVFPN1FSUk1SOlBSR0BPTyJHTkxQREA1Qk0tLUA3OSQ5MEtSUExSUlBPUlJLT05IUj5OS1JKSjZKJE5DO001PDg/QjM8OzMvJisnJyZSUVBPNFJRUVFQSlJST1AfSVJIUk5DS04xTiY3KC8tMTAnOTkhNQ8tNyNGUUxSTDpNTklQUkpSTzNLUUssTStMTk1END5HNSwxNjQ+QSg3MBc/LDYnJB8jUlJIUVEzUlJPUE5MUEpSTztAP0dSP0BHS1BQTTEYSDYxLjY1JysnKyoqMTMkUlFST1AhJVFSOFFLREZRUk9SR1FSOFJKHDxAREE1NC02USgwJSw3NDsvPDcsMx9SOCFAPVJNTE5RPQw8LUUpTk5JOEY9ME80Pws/L0kzLzkuKR4oMCMbF0I4Oz9CQUJAFi5CQiE/QT0zIjg7KSorJTcqEyxALiomKBoaGiwmKiRSRVJRUE9BKk5RUD1OD1E6Nkg0QTwxQiorKjESJhYpSFBSFlFMUklSSUxOFE1BSjhSTFBROFIvRTw0Gzw/RydHOSwrMwwSNRlSUU5SUlJSSE5RTVFLQz04QkxNT0szNUZEUCw1OzwwKBNMPDMlUFBOTzVJO09KSiM5SUk8KjhLTEUyR0szIDk0Gj1GJiZADkI5Tk5OUj8wNFJRUkNPPEQdSC80Kkg7K1EuOEQ6Pzg9KSodKj0mI05QUVBQP09BTj1IPU9RUDE9TyRQRUISOyVEKyczFyAnOS4hSVJSUEpSTE5PPkQXUitQUk1MLkcZRD5DJyYkTCYLLU9STD1LRjdJS0NSJSYvSzgpUUU1GDlHIylKMSQpSCY2EE43Ui9GS1ExUkAhRjtIQ0JLUhtIKjQuIzM3OjNMJy4yKjBAJDU5E05QUE1ON0lNL09DRj5HTVJESCRAOT4jLyg1PDU2FSkjJ0QwUlFQM0hNQTs/TjJMQD1OUExONSoyNzYZJkYoUUxNSElIUlFIM0tPUVJHMC1STUNHLUo0Li9LKDs1MRYyMjIwUjIcKTEyLzIZMjExKhwYJ0MiGiYuHh8iFhsYOyMhGBo+UFBETU1CUEpCQU1QRzQ2OkAmJkoiIDojJzYnLSYoJUxSUlBDUj9STT5EKUFHR0A5SDI9K0tEUDktNkZBJCMjI0ZSSFJNUExQQU9ASjZPRUhLKk9FPj4zQCw5NSQ8OzkvKyk9MTUhRkE/T1FATkhQT05CUSBDNS0lQD4/UTcuKS4xNTw6OzcpLioxJlJPUUwvUk9ST0dPQSVRUU8xT0tCQxcvSk0zREY3QDpDJzwoMCY1LUQvUU1RUU5SUk9IO1IwRyctTUoUTThJKFJSMk9QRCs0Lw==",
          "dtype": "i1"
         },
         "yaxis": "y"
        },
        {
         "name": "MIN",
         "showlegend": false,
         "type": "box",
         "xaxis": "x2",
         "y": {
          "bdata": "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",
          "dtype": "f8"
         },
         "yaxis": "y2"
        },
        {
         "name": "PTS",
         "showlegend": false,
         "type": "box",
         "xaxis": "x3",
         "y": {
          "bdata": "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",
          "dtype": "f8"
         },
         "yaxis": "y3"
        },
        {
         "name": "FGA",
         "showlegend": false,
         "type": "box",
         "xaxis": "x4",
         "y": {
          "bdata": "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",
          "dtype": "f8"
         },
         "yaxis": "y4"
        },
        {
         "name": "FG%",
         "showlegend": false,
         "type": "box",
         "xaxis": "x5",
         "y": {
          "bdata": "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",
          "dtype": "f8"
         },
         "yaxis": "y5"
        },
        {
         "name": "3PA",
         "showlegend": false,
         "type": "box",
         "xaxis": "x6",
         "y": {
          "bdata": "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",
          "dtype": "f8"
         },
         "yaxis": "y6"
        },
        {
         "name": "3P%",
         "showlegend": false,
         "type": "box",
         "xaxis": "x7",
         "y": {
          "bdata": "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",
          "dtype": "f8"
         },
         "yaxis": "y7"
        },
        {
         "name": "FTA",
         "showlegend": false,
         "type": "box",
         "xaxis": "x8",
         "y": {
          "bdata": "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",
          "dtype": "f8"
         },
         "yaxis": "y8"
        },
        {
         "name": "FT%",
         "showlegend": false,
         "type": "box",
         "xaxis": "x9",
         "y": {
          "bdata": "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",
          "dtype": "f8"
         },
         "yaxis": "y9"
        },
        {
         "name": "OREB",
         "showlegend": false,
         "type": "box",
         "xaxis": "x10",
         "y": {
          "bdata": "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",
          "dtype": "f8"
         },
         "yaxis": "y10"
        },
        {
         "name": "REB",
         "showlegend": false,
         "type": "box",
         "xaxis": "x11",
         "y": {
          "bdata": "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",
          "dtype": "f8"
         },
         "yaxis": "y11"
        },
        {
         "name": "AST",
         "showlegend": false,
         "type": "box",
         "xaxis": "x12",
         "y": {
          "bdata": "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",
          "dtype": "f8"
         },
         "yaxis": "y12"
        },
        {
         "name": "STL",
         "showlegend": false,
         "type": "box",
         "xaxis": "x13",
         "y": {
          "bdata": "mpmZmZmZ2T+amZmZmZnxPwAAAAAAAOA/MzMzMzMz4z8zMzMzMzPTP5qZmZmZmdk/mpmZmZmZyT+amZmZmZnJPzMzMzMzM9M/mpmZmZmZyT+amZmZmZm5PzMzMzMzM9M/mpmZmZmZyT8AAAAAAADgP5qZmZmZmck/MzMzMzMz0z8zMzMzMzPTPzMzMzMzM9M/mpmZmZmZ8T8AAAAAAAD4PwAAAAAAAABAAAAAAAAA8D8AAAAAAADgP2ZmZmZmZuY/MzMzMzMz4z+amZmZmZnpPzMzMzMzM/M/AAAAAAAA4D+amZmZmZnZP5qZmZmZmdk/AAAAAAAA8D+amZmZmZnpPzMzMzMzM+M/mpmZmZmZ6T9mZmZmZmbmP5qZmZmZmfE/MzMzMzMz4z8zMzMzMzPTP2ZmZmZmZuY/zczMzMzM7D/NzMzMzMzsPzMzMzMzM9M/MzMzMzMz4z8AAAAAAADgPzMzMzMzM+M/ZmZmZmZm5j8zMzMzMzPjPzMzMzMzM+M/mpmZmZmZ2T9mZmZmZmbmP5qZmZmZmck/MzMzMzMz0z+amZmZmZm5P5qZmZmZmck/mpmZmZmZ2T+amZmZmZnJP5qZmZmZmck/mpmZmZmZuT+amZmZmZm5PzMzMzMzM9M/mpmZmZmZuT9mZmZmZmb2P2ZmZmZmZuY/AAAAAAAA8D/NzMzMzMz0P5qZmZmZmek/AAAAAAAAAEAzMzMzMzPjP83MzMzMzOw/zczMzMzM9D8zMzMzMzPjP5qZmZmZmek/mpmZmZmZ2T8AAAAAAADgPzMzMzMzM+M/MzMzMzMz4z8zMzMzMzPTP5qZmZmZmek/AAAAAAAA4D+amZmZmZnJPzMzMzMzM9M/AAAAAAAA4D8zMzMzMzPjPzMzMzMzM+M/ZmZmZmZm5j+amZmZmZnZP5qZmZmZmck/AAAAAAAA4D8zMzMzMzPjP5qZmZmZmdk/AAAAAAAA4D8zMzMzMzPTPwAAAAAAAOA/mpmZmZmZyT8AAAAAAADgPzMzMzMzM9M/mpmZmZmZ2T8AAAAAAADgPzMzMzMzM9M/AAAAAAAA4D8zMzMzMzPTP5qZmZmZmck/MzMzMzMz0z+amZmZmZm5P5qZmZmZmbk/mpmZmZmZyT+amZmZmZnJP5qZmZmZmbk/mpmZmZmZ2T+amZmZmZnJP5qZmZmZmbk/mpmZmZmZuT8zMzMzMzP7PzMzMzMzM9M/mpmZmZmZ8T+amZmZmZn5P83MzMzMzPw/mpmZmZmZ6T+amZmZmZn5PzMzMzMzM+M/zczMzMzM7D+amZmZmZnJP5qZmZmZmek/AAAAAAAA4D9mZmZmZmbmPzMzMzMzM+M/ZmZmZmZm5j+amZmZmZnZP5qZmZmZmdk/MzMzMzMz0z9mZmZmZmbmP5qZmZmZmck/MzMzMzMz4z+amZmZmZnZPzMzMzMzM+M/mpmZmZmZyT8zMzMzMzPTP5qZmZmZmdk/MzMzMzMz4z8AAAAAAADgP2ZmZmZmZv4/MzMzMzMz0z8AAAAAAADgPwAAAAAAAOA/mpmZmZmZyT8zMzMzMzPjP5qZmZmZmdk/AAAAAAAA4D+amZmZmZnJPzMzMzMzM+M/MzMzMzMz0z+amZmZmZnJP5qZmZmZmck/mpmZmZmZyT8zMzMzMzPTP5qZmZmZmbk/mpmZmZmZuT+amZmZmZm5PwAAAAAAAPA/ZmZmZmZm/j+amZmZmZn5PwAAAAAAAPg/zczMzMzM/D8AAAAAAAD4P83MzMzMzOw/zczMzMzM7D/NzMzMzMz0PwAAAAAAAABAmpmZmZmZ8T8zMzMzMzPjPzMzMzMzM/M/ZmZmZmZm5j8zMzMzMzPjP5qZmZmZmfE/MzMzMzMz8z8AAAAAAADwP5qZmZmZmek/mpmZmZmZ6T8zMzMzMzPjPwAAAAAAAOA/AAAAAAAA4D8zMzMzMzPzP5qZmZmZmek/ZmZmZmZm5j+amZmZmZnJP5qZmZmZmdk/mpmZmZmZuT+amZmZmZnZP5qZmZmZmbk/mpmZmZmZ2T8zMzMzMzPTPzMzMzMzM9M/AAAAAAAA4D8AAAAAAADgPzMzMzMzM+M/MzMzMzMz0z8AAAAAAADgPzMzMzMzM9M/AAAAAAAA4D8zMzMzMzPTPwAAAAAAAPA/ZmZmZmZm5j8zMzMzMzPTPzMzMzMzM9M/MzMzMzMz0z8AAAAAAADgPzMzMzMzM9M/mpmZmZmZyT+amZmZmZnJPwAAAAAAAARAAAAAAAAA+D8zMzMzMzPjP5qZmZmZmfE/MzMzMzMz+z/NzMzMzMzsP5qZmZmZmek/ZmZmZmZm5j/NzMzMzMz0PzMzMzMzM+M/ZmZmZmZm5j/NzMzMzMzsP2ZmZmZmZuY/AAAAAAAA4D+amZmZmZnxP5qZmZmZmek/mpmZmZmZ+T9mZmZmZmbmPwAAAAAAAPA/MzMzMzMz0z8AAAAAAADgP5qZmZmZmdk/MzMzMzMz0z+amZmZmZnZPzMzMzMzM9M/mpmZmZmZuT+amZmZmZnJPzMzMzMzM+M/mpmZmZmZ2T8zMzMzMzPTP5qZmZmZmck/mpmZmZmZuT+amZmZmZnJPwAAAAAAAOA/MzMzMzMz0z8AAAAAAAAEQJqZmZmZmfE/ZmZmZmZm5j8zMzMzMzPjP83MzMzMzPw/ZmZmZmZm5j8zMzMzMzPjP5qZmZmZmfk/zczMzMzM7D8zMzMzMzPjPzMzMzMzM/M/mpmZmZmZ6T+amZmZmZnZP83MzMzMzOw/mpmZmZmZ6T8zMzMzMzPjPwAAAAAAAOA/MzMzMzMz0z8AAAAAAADgPwAAAAAAAOA/MzMzMzMz0z8zMzMzMzPTPzMzMzMzM+M/MzMzMzMz4z8zMzMzMzPTP2ZmZmZmZuY/MzMzMzMz0z+amZmZmZnZPzMzMzMzM9M/ZmZmZmZm5j+amZmZmZnZP5qZmZmZmck/MzMzMzMz4z8zMzMzMzPTP5qZmZmZmck/mpmZmZmZ2T8zMzMzMzPTPzMzMzMzM9M/mpmZmZmZuT8zMzMzMzPTP5qZmZmZmbk/mpmZmZmZyT+amZmZmZnxPzMzMzMzM/M/zczMzMzM9D+amZmZmZnZP5qZmZmZmek/zczMzMzM9D+amZmZmZnpP5qZmZmZmek/AAAAAAAA4D/NzMzMzMzsPwAAAAAAAOA/AAAAAAAA4D/NzMzMzMzsPzMzMzMzM+M/mpmZmZmZ2T8AAAAAAADgPwAAAAAAAPA/AAAAAAAA8D8AAAAAAADgP83MzMzMzOw/AAAAAAAA8D/NzMzMzMzsPzMzMzMzM9M/mpmZmZmZ2T+amZmZmZnJP5qZmZmZmdk/MzMzMzMz0z+amZmZmZnZP5qZmZmZmdk/mpmZmZmZ6T+amZmZmZnZP5qZmZmZmek/mpmZmZmZ2T+amZmZmZm5PzMzMzMzM9M/mpmZmZmZuT/NzMzMzMzsPzMzMzMzMwNAMzMzMzMz8z9mZmZmZmbmPzMzMzMzM/M/mpmZmZmZ6T/NzMzMzMz0PwAAAAAAAOA/mpmZmZmZ2T+amZmZmZnZPzMzMzMzM+M/mpmZmZmZ+T+amZmZmZnJP5qZmZmZmdk/ZmZmZmZm5j8AAAAAAADgPwAAAAAAAPA/AAAAAAAA4D/NzMzMzMz0PzMzMzMzM+M/AAAAAAAA8D+amZmZmZnZP5qZmZmZmck/MzMzMzMz0z+amZmZmZnZPwAAAAAAAOA/MzMzMzMz0z8zMzMzMzPjP5qZmZmZmck/mpmZmZmZyT8AAAAAAADgPwAAAAAAAOA/mpmZmZmZyT+amZmZmZnJP5qZmZmZmdk/AAAAAAAA4D+amZmZmZnJPwAAAAAAAOA/mpmZmZmZyT+amZmZmZnJP5qZmZmZmck/mpmZmZmZuT+amZmZmZm5P5qZmZmZmek/zczMzMzM7D8AAAAAAAD4P2ZmZmZmZuY/mpmZmZmZ2T/NzMzMzMz0PwAAAAAAAOA/MzMzMzMz0z+amZmZmZn5P5qZmZmZmdk/mpmZmZmZ8T+amZmZmZnpPzMzMzMzM/M/ZmZmZmZm5j9mZmZmZmbmP5qZmZmZmck/mpmZmZmZ2T/NzMzMzMz0P5qZmZmZmek/mpmZmZmZ+T8zMzMzMzPzPzMzMzMzM+M/AAAAAAAA4D+amZmZmZnJP5qZmZmZmdk/MzMzMzMz0z+amZmZmZnZPzMzMzMzM9M/AAAAAAAA4D+amZmZmZnJPzMzMzMzM9M/mpmZmZmZyT8AAAAAAADgPwAAAAAAAOA/mpmZmZmZyT+amZmZmZnZPwAAAAAAAPA/MzMzMzMz0z+amZmZmZm5PzMzMzMzM9M/MzMzMzMz0z8AAAAAAAAAAM3MzMzMzPw/MzMzMzMz+z/NzMzMzMzsP5qZmZmZmek/mpmZmZmZ8T8zMzMzMzPTPzMzMzMzM/M/ZmZmZmZm5j9mZmZmZmbmP5qZmZmZmdk/mpmZmZmZ6T8zMzMzMzPzPzMzMzMzM+M/zczMzMzM9D8AAAAAAADgP5qZmZmZmfk/MzMzMzMz0z8zMzMzMzPjP83MzMzMzOw/MzMzMzMz4z8AAAAAAADgP5qZmZmZmek/ZmZmZmZm5j8zMzMzMzPTP5qZmZmZmek/mpmZmZmZ2T+amZmZmZnZPzMzMzMzM+M/mpmZmZmZ2T8zMzMzMzPTP5qZmZmZmdk/MzMzMzMz0z+amZmZmZm5P5qZmZmZmdk/MzMzMzMz0z8AAAAAAADgPzMzMzMzM9M/MzMzMzMz0z+amZmZmZm5PzMzMzMzM+M/AAAAAAAA4D+amZmZmZm5P5qZmZmZmck/mpmZmZmZuT+amZmZmZnJP5qZmZmZmbk/mpmZmZmZ8T8AAAAAAADwP83MzMzMzABAZmZmZmZm5j+amZmZmZnxP2ZmZmZmZuY/ZmZmZmZm5j8AAAAAAADgPwAAAAAAAPA/zczMzMzM7D8AAAAAAADgP5qZmZmZmek/ZmZmZmZm5j9mZmZmZmbmPzMzMzMzM+M/AAAAAAAA4D+amZmZmZnpP83MzMzMzOw/MzMzMzMz0z8zMzMzMzPjP5qZmZmZmfE/mpmZmZmZ6T+amZmZmZnpPwAAAAAAAOA/MzMzMzMz0z+amZmZmZnJPwAAAAAAAOA/mpmZmZmZ2T+amZmZmZnZP5qZmZmZmdk/MzMzMzMz0z8zMzMzMzPTPwAAAAAAAOA/mpmZmZmZ2T+amZmZmZnJP2ZmZmZmZuY/AAAAAAAA4D+amZmZmZnZPzMzMzMzM9M/mpmZmZmZyT+amZmZmZnJP5qZmZmZmdk/mpmZmZmZuT8zMzMzMzPTPzMzMzMzM9M/MzMzMzMz4z/NzMzMzMz0P5qZmZmZmek/mpmZmZmZ8T+amZmZmZnxP5qZmZmZmdk/mpmZmZmZyT9mZmZmZmbmPzMzMzMzM/M/AAAAAAAA8D8zMzMzMzP7P5qZmZmZmek/AAAAAAAA4D9mZmZmZmbmP83MzMzMzPQ/ZmZmZmZm5j8zMzMzMzPjPzMzMzMzM9M/zczMzMzM7D8zMzMzMzPjPwAAAAAAAPg/MzMzMzMz4z/NzMzMzMzsP5qZmZmZmek/mpmZmZmZyT8zMzMzMzPjP83MzMzMzOw/mpmZmZmZuT8zMzMzMzPTPwAAAAAAAOA/mpmZmZmZ2T+amZmZmZnJP5qZmZmZmdk/mpmZmZmZ2T8AAAAAAADgPwAAAAAAAOA/mpmZmZmZyT8zMzMzMzPTPzMzMzMzM9M/mpmZmZmZ2T8zMzMzMzPjPwAAAAAAAOA/mpmZmZmZ2T+amZmZmZnZP5qZmZmZmck/mpmZmZmZ2T+amZmZmZm5P83MzMzMzOw/zczMzMzM7D+amZmZmZnZPzMzMzMzM/M/AAAAAAAA8D9mZmZmZmbmPwAAAAAAAOA/MzMzMzMz8z9mZmZmZmbmPzMzMzMzM+M/mpmZmZmZ2T/NzMzMzMzsPwAAAAAAAPA/AAAAAAAA4D+amZmZmZnJP83MzMzMzOw/mpmZmZmZ6T8AAAAAAADgPzMzMzMzM+M/MzMzMzMz0z8zMzMzMzPjP5qZmZmZmck/AAAAAAAA4D8AAAAAAADgPzMzMzMzM9M/MzMzMzMz0z8AAAAAAADgPzMzMzMzM9M/MzMzMzMz0z8AAAAAAADgP5qZmZmZmck/mpmZmZmZ2T+amZmZmZnJPzMzMzMzM9M/mpmZmZmZ2T9mZmZmZmbmP5qZmZmZmbk/mpmZmZmZyT+amZmZmZnJP5qZmZmZmck/mpmZmZmZuT9mZmZmZmbmP83MzMzMzOw/MzMzMzMz+z8zMzMzMzPzP83MzMzMzOw/mpmZmZmZ6T9mZmZmZmbmP83MzMzMzPQ/MzMzMzMz4z9mZmZmZmbmP5qZmZmZmfE/AAAAAAAA4D+amZmZmZnZP2ZmZmZmZuY/ZmZmZmZm5j8AAAAAAADgP2ZmZmZmZuY/MzMzMzMz0z+amZmZmZnpPwAAAAAAAOA/MzMzMzMz0z+amZmZmZnJPwAAAAAAAOA/MzMzMzMz4z9mZmZmZmbmP5qZmZmZmdk/mpmZmZmZ2T+amZmZmZnZP5qZmZmZmdk/MzMzMzMz0z8zMzMzMzPTP5qZmZmZmbk/mpmZmZmZuT+amZmZmZm5P5qZmZmZmbk/mpmZmZmZ2T8zMzMzMzPTPzMzMzMzM9M/MzMzMzMz0z+amZmZmZm5P5qZmZmZmek/zczMzMzM/D8AAAAAAADwP5qZmZmZmfE/MzMzMzMz8z9mZmZmZmbmPzMzMzMzM+M/zczMzMzM7D8zMzMzMzPjP5qZmZmZmfE/MzMzMzMz0z8AAAAAAADwP5qZmZmZmdk/mpmZmZmZ2T9mZmZmZmbmP5qZmZmZmdk/MzMzMzMz4z+amZmZmZnZPzMzMzMzM9M/AAAAAAAA4D+amZmZmZnZPzMzMzMzM9M/MzMzMzMz0z8zMzMzMzPTP5qZmZmZmdk/MzMzMzMz0z8zMzMzMzPTPzMzMzMzM9M/mpmZmZmZuT+amZmZmZnJP5qZmZmZmbk/AAAAAAAA+D9mZmZmZmb+P83MzMzMzPQ/MzMzMzMz0z8AAAAAAADwPwAAAAAAAPA/MzMzMzMz4z+amZmZmZnpP5qZmZmZmek/mpmZmZmZ8T+amZmZmZnxPzMzMzMzM+M/MzMzMzMz0z8zMzMzMzPjP2ZmZmZmZuY/AAAAAAAA4D+amZmZmZnpPzMzMzMzM+M/MzMzMzMz0z+amZmZmZnZPwAAAAAAAOA/MzMzMzMz4z9mZmZmZmbmPzMzMzMzM9M/mpmZmZmZ2T+amZmZmZnJPzMzMzMzM9M/AAAAAAAA4D8zMzMzMzPTP5qZmZmZmdk/mpmZmZmZ2T+amZmZmZnJPwAAAAAAAOA/mpmZmZmZ2T+amZmZmZnJP5qZmZmZmck/mpmZmZmZuT8zMzMzMzPTP5qZmZmZmbk/mpmZmZmZ2T8zMzMzMzPTP5qZmZmZmfE/mpmZmZmZ6T8AAAAAAADwP83MzMzMzPQ/ZmZmZmZm/j8AAAAAAADgPzMzMzMzM+M/MzMzMzMz4z/NzMzMzMzsP5qZmZmZmdk/AAAAAAAA8D8AAAAAAADgPwAAAAAAAOA/AAAAAAAA4D+amZmZmZnZP5qZmZmZmek/ZmZmZmZm5j9mZmZmZmbmPzMzMzMzM+M/MzMzMzMz0z+amZmZmZnZP2ZmZmZmZuY/mpmZmZmZyT8zMzMzMzPTPzMzMzMzM9M/MzMzMzMz8z8zMzMzMzPTPzMzMzMzM9M/MzMzMzMz0z8AAAAAAADgPzMzMzMzM9M/MzMzMzMz0z8zMzMzMzPTPzMzMzMzM+M/mpmZmZmZyT+amZmZmZnJPzMzMzMzM9M/AAAAAAAA8D8zMzMzMzPjPwAAAAAAAPA/MzMzMzMz4z+amZmZmZnpP5qZmZmZmek/mpmZmZmZ2T8AAAAAAADwPwAAAAAAAPA/zczMzMzM7D+amZmZmZnZP83MzMzMzOw/mpmZmZmZ6T+amZmZmZnZP5qZmZmZmdk/mpmZmZmZ2T8AAAAAAADgPwAAAAAAAOA/MzMzMzMz0z8AAAAAAADgP5qZmZmZmdk/mpmZmZmZyT+amZmZmZnZPzMzMzMzM9M/AAAAAAAA4D8AAAAAAADgP5qZmZmZmck/MzMzMzMz0z8zMzMzMzPTPzMzMzMzM9M/mpmZmZmZyT+amZmZmZnJP5qZmZmZmck/AAAAAAAAAABmZmZmZmbmPzMzMzMzM/M/mpmZmZmZ2T/NzMzMzMzsP5qZmZmZmfk/ZmZmZmZm5j8zMzMzMzPTP5qZmZmZmfE/ZmZmZmZm5j8zMzMzMzPjPzMzMzMzM+M/mpmZmZmZ6T8zMzMzMzPjP5qZmZmZmdk/mpmZmZmZ2T+amZmZmZnpP83MzMzMzPQ/MzMzMzMz4z+amZmZmZnZPzMzMzMzM+M/MzMzMzMz0z8zMzMzMzPjP5qZmZmZmdk/mpmZmZmZyT8AAAAAAADgP5qZmZmZmbk/ZmZmZmZm5j+amZmZmZnZP5qZmZmZmck/mpmZmZmZyT+amZmZmZnJP5qZmZmZmck/mpmZmZmZ2T+amZmZmZnZPwAAAAAAAOA/mpmZmZmZ2T8zMzMzMzPTP5qZmZmZmck/mpmZmZmZuT+amZmZmZkBQM3MzMzMzPQ/ZmZmZmZm5j+amZmZmZnxP5qZmZmZmek/zczMzMzM7D8zMzMzMzPjPwAAAAAAAOA/ZmZmZmZm5j8zMzMzMzPjP5qZmZmZmek/mpmZmZmZ2T8AAAAAAADgPzMzMzMzM/M/AAAAAAAA4D9mZmZmZmbmPzMzMzMzM9M/MzMzMzMz4z8zMzMzMzPTPwAAAAAAAPA/mpmZmZmZyT8zMzMzMzPjP5qZmZmZmdk/MzMzMzMz0z+amZmZmZnJP5qZmZmZmck/MzMzMzMz0z+amZmZmZm5PzMzMzMzM+M/MzMzMzMz0z8AAAAAAADwP2ZmZmZmZuY/MzMzMzMz0z+amZmZmZm5P5qZmZmZmck/mpmZmZmZ6T8zMzMzMzP7P83MzMzMzOw/zczMzMzM7D+amZmZmZnpPwAAAAAAAPA/ZmZmZmZm5j9mZmZmZmbmPwAAAAAAAPA/mpmZmZmZ2T8AAAAAAADgPzMzMzMzM+M/AAAAAAAA4D+amZmZmZnZP83MzMzMzOw/mpmZmZmZ2T8AAAAAAADwPwAAAAAAAPA/AAAAAAAA4D8zMzMzMzPTPzMzMzMzM+M/mpmZmZmZ2T8zMzMzMzPjP5qZmZmZmdk/AAAAAAAA4D8AAAAAAADgP5qZmZmZmdk/ZmZmZmZm5j8zMzMzMzPjP5qZmZmZmdk/mpmZmZmZ2T+amZmZmZn5PzMzMzMzM/M/zczMzMzM9D9mZmZmZmb2P5qZmZmZmek/AAAAAAAA8D+amZmZmZnxPzMzMzMzM+M/mpmZmZmZ2T8AAAAAAADwPzMzMzMzM9M/mpmZmZmZ6T9mZmZmZmbmP2ZmZmZmZuY/mpmZmZmZ6T/NzMzMzMzsP83MzMzMzOw/mpmZmZmZ8T+amZmZmZnpPwAAAAAAAOA/MzMzMzMz8z8AAAAAAADgP5qZmZmZmdk/AAAAAAAA4D+amZmZmZnJPzMzMzMzM9M/MzMzMzMz4z+amZmZmZnZPzMzMzMzM9M/mpmZmZmZ2T8zMzMzMzPTPzMzMzMzM9M/mpmZmZmZuT/NzMzMzMz8P5qZmZmZmdk/mpmZmZmZ6T+amZmZmZnpP5qZmZmZmek/mpmZmZmZ8T9mZmZmZmbmPwAAAAAAAOA/AAAAAAAA8D8zMzMzMzPjPzMzMzMzM+M/mpmZmZmZ2T8AAAAAAADwPzMzMzMzM9M/MzMzMzMz4z9mZmZmZmbmPzMzMzMzM+M/ZmZmZmZm5j8zMzMzMzPTPwAAAAAAAOA/MzMzMzMz4z+amZmZmZnJPzMzMzMzM+M/mpmZmZmZyT+amZmZmZnZP5qZmZmZmck/AAAAAAAA4D+amZmZmZnZP5qZmZmZmbk/mpmZmZmZyT+amZmZmZm5PzMzMzMzM9M/mpmZmZmZyT+amZmZmZnJPzMzMzMzM9M/mpmZmZmZ2T8zMzMzMzPTPzMzMzMzM+M/mpmZmZmZuT+amZmZmZn5P83MzMzMzPQ/MzMzMzMz+z8zMzMzMzPzP2ZmZmZmZuY/MzMzMzMz0z+amZmZmZnJP5qZmZmZmek/AAAAAAAA+D+amZmZmZnpP2ZmZmZmZvY/mpmZmZmZ2T8zMzMzMzPTP5qZmZmZmdk/mpmZmZmZ2T+amZmZmZnZPzMzMzMzM9M/mpmZmZmZyT/NzMzMzMzsP83MzMzMzOw/MzMzMzMz0z8zMzMzMzPjPzMzMzMzM9M/mpmZmZmZ2T8AAAAAAADgP5qZmZmZmbk/MzMzMzMz0z+amZmZmZm5PzMzMzMzM9M/mpmZmZmZyT+amZmZmZnJP5qZmZmZmck/mpmZmZmZuT+amZmZmZnxP2ZmZmZmZuY/MzMzMzMz4z8zMzMzMzPjP5qZmZmZmek/zczMzMzM7D+amZmZmZnZP5qZmZmZmfE/ZmZmZmZm5j8zMzMzMzPTPzMzMzMzM9M/AAAAAAAA4D8AAAAAAADwPzMzMzMzM+M/MzMzMzMz4z9mZmZmZmbmPzMzMzMzM+M/mpmZmZmZ6T8AAAAAAADgPzMzMzMzM+M/mpmZmZmZ2T+amZmZmZnJPzMzMzMzM9M/AAAAAAAA4D8zMzMzMzPTP2ZmZmZmZuY/mpmZmZmZyT+amZmZmZm5PzMzMzMzM9M/mpmZmZmZ6T8zMzMzMzPzPwAAAAAAAPg/mpmZmZmZ+T+amZmZmZnpP5qZmZmZmfk/AAAAAAAA8D8zMzMzMzPzP5qZmZmZmek/mpmZmZmZ6T8zMzMzMzPzPzMzMzMzM/M/mpmZmZmZ8T8zMzMzMzPjP5qZmZmZmdk/mpmZmZmZ6T8zMzMzMzPzPzMzMzMzM/M/MzMzMzMz0z9mZmZmZmbmP5qZmZmZmdk/MzMzMzMz0z8zMzMzMzPTP5qZmZmZmek/MzMzMzMz0z8zMzMzMzPTP83MzMzMzPw/mpmZmZmZuT+amZmZmZnJP5qZmZmZmdk/mpmZmZmZyT+amZmZmZnJP2ZmZmZmZv4/mpmZmZmZ8T+amZmZmZn5PzMzMzMzM/s/MzMzMzMz+z8AAAAAAADgP83MzMzMzOw/mpmZmZmZ2T/NzMzMzMzsPwAAAAAAAPg/mpmZmZmZ6T8zMzMzMzPjPzMzMzMzM/M/zczMzMzM7D/NzMzMzMzsP5qZmZmZmdk/AAAAAAAA4D+amZmZmZnZPwAAAAAAAOA/mpmZmZmZyT8AAAAAAAD4PzMzMzMzM9M/mpmZmZmZ2T+amZmZmZnJP2ZmZmZmZuY/MzMzMzMz0z8zMzMzMzPTP5qZmZmZmbk/MzMzMzMz0z8zMzMzMzPTP5qZmZmZmck/zczMzMzM7D8AAAAAAADgP5qZmZmZmbk/mpmZmZmZyT+amZmZmZnJPwAAAAAAAPA/mpmZmZmZ+T8AAAAAAAAEQAAAAAAAAPg/ZmZmZmZm5j+amZmZmZnpP83MzMzMzPQ/zczMzMzM9D9mZmZmZmbmP5qZmZmZmek/mpmZmZmZ6T9mZmZmZmbmPzMzMzMzM+M/AAAAAAAA4D+amZmZmZnZP2ZmZmZmZuY/mpmZmZmZ8T+amZmZmZnpP2ZmZmZmZuY/AAAAAAAA4D+amZmZmZnZPzMzMzMzM+M/MzMzMzMz4z+amZmZmZnJP5qZmZmZmdk/mpmZmZmZ2T+amZmZmZnZPwAAAAAAAOA/mpmZmZmZyT8zMzMzMzPjPzMzMzMzM9M/MzMzMzMz0z/NzMzMzMwAQGZmZmZmZv4/zczMzMzM9D8AAAAAAADwPwAAAAAAAPA/zczMzMzM7D+amZmZmZnxPwAAAAAAAPA/MzMzMzMz4z9mZmZmZmbmPzMzMzMzM+M/ZmZmZmZm5j+amZmZmZnZP5qZmZmZmdk/ZmZmZmZm5j8zMzMzMzPjP5qZmZmZmck/MzMzMzMz0z8zMzMzMzPjPzMzMzMzM+M/MzMzMzMz0z+amZmZmZm5PzMzMzMzM9M/AAAAAAAA4D8zMzMzMzPTPwAAAAAAAAAAAAAAAAAA4D+amZmZmZnJPzMzMzMzM+M/MzMzMzMz0z+amZmZmZm5P5qZmZmZmck/AAAAAAAAAABmZmZmZmb2PwAAAAAAAPA/mpmZmZmZ8T8AAAAAAADwPzMzMzMzM+M/mpmZmZmZ8T9mZmZmZmbmP5qZmZmZmfE/ZmZmZmZm5j8zMzMzMzPzP83MzMzMzOw/MzMzMzMz4z+amZmZmZnZPzMzMzMzM+M/mpmZmZmZ2T8zMzMzMzPTP5qZmZmZmck/mpmZmZmZ2T9mZmZmZmbmP2ZmZmZmZuY/MzMzMzMz0z8AAAAAAADgP5qZmZmZmek/mpmZmZmZ2T9mZmZmZmbmP5qZmZmZmbk/mpmZmZmZyT+amZmZmZnZP5qZmZmZmck/MzMzMzMz0z+amZmZmZnJPzMzMzMzM/M/ZmZmZmZm5j8AAAAAAADgPzMzMzMzM9M/mpmZmZmZyT8zMzMzMzPTP5qZmZmZmbk/zczMzMzM/D+amZmZmZnpPzMzMzMzM9M/ZmZmZmZm/j/NzMzMzMzsPwAAAAAAAABAmpmZmZmZ2T8zMzMzMzPjPzMzMzMzM+M/AAAAAAAA4D8zMzMzMzPjPwAAAAAAAOA/mpmZmZmZ6T8AAAAAAADwP5qZmZmZmfE/mpmZmZmZ6T+amZmZmZnpP5qZmZmZmek/MzMzMzMz4z9mZmZmZmbmPwAAAAAAAOA/AAAAAAAA4D9mZmZmZmbmP5qZmZmZmck/AAAAAAAA4D+amZmZmZnZP5qZmZmZmdk/mpmZmZmZ2T8zMzMzMzPjP5qZmZmZmck/mpmZmZmZyT+amZmZmZnJPzMzMzMzM9M/mpmZmZmZ2T8zMzMzMzPTPzMzMzMzM9M/MzMzMzMz0z9mZmZmZmYCQJqZmZmZmfE/mpmZmZmZ8T8zMzMzMzPzPwAAAAAAAOA/ZmZmZmZm5j9mZmZmZmbmPwAAAAAAAPg/ZmZmZmZm5j9mZmZmZmb2P83MzMzMzOw/AAAAAAAA8D8AAAAAAADwP5qZmZmZmek/MzMzMzMz4z+amZmZmZnZPwAAAAAAAPg/mpmZmZmZ6T9mZmZmZmbmP83MzMzMzOw/AAAAAAAA8D8zMzMzMzPjP2ZmZmZmZuY/MzMzMzMz0z8zMzMzMzPjP2ZmZmZmZuY/MzMzMzMz0z/NzMzMzMzsPzMzMzMzM9M/mpmZmZmZ2T8AAAAAAADgPzMzMzMzM9M/MzMzMzMz4z8zMzMzMzPjPzMzMzMzM9M/MzMzMzMz0z+amZmZmZnZPzMzMzMzM9M/mpmZmZmZyT+amZmZmZnJP5qZmZmZmbk/ZmZmZmZm5j+amZmZmZn5P83MzMzMzPQ/mpmZmZmZ+T8zMzMzMzPTP83MzMzMzOw/AAAAAAAA8D8AAAAAAADwPwAAAAAAAOA/mpmZmZmZ8T9mZmZmZmbmP83MzMzMzPw/mpmZmZmZ8T8zMzMzMzPjP2ZmZmZmZuY/mpmZmZmZ6T8AAAAAAADwP5qZmZmZmek/AAAAAAAA4D9mZmZmZmbmPwAAAAAAAOA/AAAAAAAA4D9mZmZmZmbmP2ZmZmZmZuY/mpmZmZmZ2T8zMzMzMzPjPzMzMzMzM+M/mpmZmZmZ6T8zMzMzMzPTP5qZmZmZmdk/ZmZmZmZm5j8=",
          "dtype": "f8"
         },
         "yaxis": "y13"
        },
        {
         "name": "BLK",
         "showlegend": false,
         "type": "box",
         "xaxis": "x14",
         "y": {
          "bdata": "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",
          "dtype": "f8"
         },
         "yaxis": "y14"
        },
        {
         "name": "TOV",
         "showlegend": false,
         "type": "box",
         "xaxis": "x15",
         "y": {
          "bdata": "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",
          "dtype": "f8"
         },
         "yaxis": "y15"
        },
        {
         "name": "TARGET_5Yrs",
         "showlegend": false,
         "type": "box",
         "xaxis": "x16",
         "y": {
          "bdata": "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",
          "dtype": "f8"
         },
         "yaxis": "y16"
        }
       ],
       "layout": {
        "annotations": [
         {
          "font": {
           "size": 16
          },
          "showarrow": false,
          "text": "GP",
          "x": 0.225,
          "xanchor": "center",
          "xref": "paper",
          "y": 1,
          "yanchor": "bottom",
          "yref": "paper"
         },
         {
          "font": {
           "size": 16
          },
          "showarrow": false,
          "text": "MIN",
          "x": 0.775,
          "xanchor": "center",
          "xref": "paper",
          "y": 1,
          "yanchor": "bottom",
          "yref": "paper"
         },
         {
          "font": {
           "size": 16
          },
          "showarrow": false,
          "text": "PTS",
          "x": 0.225,
          "xanchor": "center",
          "xref": "paper",
          "y": 0.8671875,
          "yanchor": "bottom",
          "yref": "paper"
         },
         {
          "font": {
           "size": 16
          },
          "showarrow": false,
          "text": "FGA",
          "x": 0.775,
          "xanchor": "center",
          "xref": "paper",
          "y": 0.8671875,
          "yanchor": "bottom",
          "yref": "paper"
         },
         {
          "font": {
           "size": 16
          },
          "showarrow": false,
          "text": "FG%",
          "x": 0.225,
          "xanchor": "center",
          "xref": "paper",
          "y": 0.734375,
          "yanchor": "bottom",
          "yref": "paper"
         },
         {
          "font": {
           "size": 16
          },
          "showarrow": false,
          "text": "3PA",
          "x": 0.775,
          "xanchor": "center",
          "xref": "paper",
          "y": 0.734375,
          "yanchor": "bottom",
          "yref": "paper"
         },
         {
          "font": {
           "size": 16
          },
          "showarrow": false,
          "text": "3P%",
          "x": 0.225,
          "xanchor": "center",
          "xref": "paper",
          "y": 0.6015625,
          "yanchor": "bottom",
          "yref": "paper"
         },
         {
          "font": {
           "size": 16
          },
          "showarrow": false,
          "text": "FTA",
          "x": 0.775,
          "xanchor": "center",
          "xref": "paper",
          "y": 0.6015625,
          "yanchor": "bottom",
          "yref": "paper"
         },
         {
          "font": {
           "size": 16
          },
          "showarrow": false,
          "text": "FT%",
          "x": 0.225,
          "xanchor": "center",
          "xref": "paper",
          "y": 0.46875,
          "yanchor": "bottom",
          "yref": "paper"
         },
         {
          "font": {
           "size": 16
          },
          "showarrow": false,
          "text": "OREB",
          "x": 0.775,
          "xanchor": "center",
          "xref": "paper",
          "y": 0.46875,
          "yanchor": "bottom",
          "yref": "paper"
         },
         {
          "font": {
           "size": 16
          },
          "showarrow": false,
          "text": "REB",
          "x": 0.225,
          "xanchor": "center",
          "xref": "paper",
          "y": 0.3359375,
          "yanchor": "bottom",
          "yref": "paper"
         },
         {
          "font": {
           "size": 16
          },
          "showarrow": false,
          "text": "AST",
          "x": 0.775,
          "xanchor": "center",
          "xref": "paper",
          "y": 0.3359375,
          "yanchor": "bottom",
          "yref": "paper"
         },
         {
          "font": {
           "size": 16
          },
          "showarrow": false,
          "text": "STL",
          "x": 0.225,
          "xanchor": "center",
          "xref": "paper",
          "y": 0.203125,
          "yanchor": "bottom",
          "yref": "paper"
         },
         {
          "font": {
           "size": 16
          },
          "showarrow": false,
          "text": "BLK",
          "x": 0.775,
          "xanchor": "center",
          "xref": "paper",
          "y": 0.203125,
          "yanchor": "bottom",
          "yref": "paper"
         },
         {
          "font": {
           "size": 16
          },
          "showarrow": false,
          "text": "TOV",
          "x": 0.225,
          "xanchor": "center",
          "xref": "paper",
          "y": 0.0703125,
          "yanchor": "bottom",
          "yref": "paper"
         },
         {
          "font": {
           "size": 16
          },
          "showarrow": false,
          "text": "TARGET_5Yrs",
          "x": 0.775,
          "xanchor": "center",
          "xref": "paper",
          "y": 0.0703125,
          "yanchor": "bottom",
          "yref": "paper"
         }
        ],
        "height": 2400,
        "template": {
         "data": {
          "bar": [
           {
            "error_x": {
             "color": "#2a3f5f"
            },
            "error_y": {
             "color": "#2a3f5f"
            },
            "marker": {
             "line": {
              "color": "#E5ECF6",
              "width": 0.5
             },
             "pattern": {
              "fillmode": "overlay",
              "size": 10,
              "solidity": 0.2
             }
            },
            "type": "bar"
           }
          ],
          "barpolar": [
           {
            "marker": {
             "line": {
              "color": "#E5ECF6",
              "width": 0.5
             },
             "pattern": {
              "fillmode": "overlay",
              "size": 10,
              "solidity": 0.2
             }
            },
            "type": "barpolar"
           }
          ],
          "carpet": [
           {
            "aaxis": {
             "endlinecolor": "#2a3f5f",
             "gridcolor": "white",
             "linecolor": "white",
             "minorgridcolor": "white",
             "startlinecolor": "#2a3f5f"
            },
            "baxis": {
             "endlinecolor": "#2a3f5f",
             "gridcolor": "white",
             "linecolor": "white",
             "minorgridcolor": "white",
             "startlinecolor": "#2a3f5f"
            },
            "type": "carpet"
           }
          ],
          "choropleth": [
           {
            "colorbar": {
             "outlinewidth": 0,
             "ticks": ""
            },
            "type": "choropleth"
           }
          ],
          "contour": [
           {
            "colorbar": {
             "outlinewidth": 0,
             "ticks": ""
            },
            "colorscale": [
             [
              0,
              "#0d0887"
             ],
             [
              0.1111111111111111,
              "#46039f"
             ],
             [
              0.2222222222222222,
              "#7201a8"
             ],
             [
              0.3333333333333333,
              "#9c179e"
             ],
             [
              0.4444444444444444,
              "#bd3786"
             ],
             [
              0.5555555555555556,
              "#d8576b"
             ],
             [
              0.6666666666666666,
              "#ed7953"
             ],
             [
              0.7777777777777778,
              "#fb9f3a"
             ],
             [
              0.8888888888888888,
              "#fdca26"
             ],
             [
              1,
              "#f0f921"
             ]
            ],
            "type": "contour"
           }
          ],
          "contourcarpet": [
           {
            "colorbar": {
             "outlinewidth": 0,
             "ticks": ""
            },
            "type": "contourcarpet"
           }
          ],
          "heatmap": [
           {
            "colorbar": {
             "outlinewidth": 0,
             "ticks": ""
            },
            "colorscale": [
             [
              0,
              "#0d0887"
             ],
             [
              0.1111111111111111,
              "#46039f"
             ],
             [
              0.2222222222222222,
              "#7201a8"
             ],
             [
              0.3333333333333333,
              "#9c179e"
             ],
             [
              0.4444444444444444,
              "#bd3786"
             ],
             [
              0.5555555555555556,
              "#d8576b"
             ],
             [
              0.6666666666666666,
              "#ed7953"
             ],
             [
              0.7777777777777778,
              "#fb9f3a"
             ],
             [
              0.8888888888888888,
              "#fdca26"
             ],
             [
              1,
              "#f0f921"
             ]
            ],
            "type": "heatmap"
           }
          ],
          "histogram": [
           {
            "marker": {
             "pattern": {
              "fillmode": "overlay",
              "size": 10,
              "solidity": 0.2
             }
            },
            "type": "histogram"
           }
          ],
          "histogram2d": [
           {
            "colorbar": {
             "outlinewidth": 0,
             "ticks": ""
            },
            "colorscale": [
             [
              0,
              "#0d0887"
             ],
             [
              0.1111111111111111,
              "#46039f"
             ],
             [
              0.2222222222222222,
              "#7201a8"
             ],
             [
              0.3333333333333333,
              "#9c179e"
             ],
             [
              0.4444444444444444,
              "#bd3786"
             ],
             [
              0.5555555555555556,
              "#d8576b"
             ],
             [
              0.6666666666666666,
              "#ed7953"
             ],
             [
              0.7777777777777778,
              "#fb9f3a"
             ],
             [
              0.8888888888888888,
              "#fdca26"
             ],
             [
              1,
              "#f0f921"
             ]
            ],
            "type": "histogram2d"
           }
          ],
          "histogram2dcontour": [
           {
            "colorbar": {
             "outlinewidth": 0,
             "ticks": ""
            },
            "colorscale": [
             [
              0,
              "#0d0887"
             ],
             [
              0.1111111111111111,
              "#46039f"
             ],
             [
              0.2222222222222222,
              "#7201a8"
             ],
             [
              0.3333333333333333,
              "#9c179e"
             ],
             [
              0.4444444444444444,
              "#bd3786"
             ],
             [
              0.5555555555555556,
              "#d8576b"
             ],
             [
              0.6666666666666666,
              "#ed7953"
             ],
             [
              0.7777777777777778,
              "#fb9f3a"
             ],
             [
              0.8888888888888888,
              "#fdca26"
             ],
             [
              1,
              "#f0f921"
             ]
            ],
            "type": "histogram2dcontour"
           }
          ],
          "mesh3d": [
           {
            "colorbar": {
             "outlinewidth": 0,
             "ticks": ""
            },
            "type": "mesh3d"
           }
          ],
          "parcoords": [
           {
            "line": {
             "colorbar": {
              "outlinewidth": 0,
              "ticks": ""
             }
            },
            "type": "parcoords"
           }
          ],
          "pie": [
           {
            "automargin": true,
            "type": "pie"
           }
          ],
          "scatter": [
           {
            "fillpattern": {
             "fillmode": "overlay",
             "size": 10,
             "solidity": 0.2
            },
            "type": "scatter"
           }
          ],
          "scatter3d": [
           {
            "line": {
             "colorbar": {
              "outlinewidth": 0,
              "ticks": ""
             }
            },
            "marker": {
             "colorbar": {
              "outlinewidth": 0,
              "ticks": ""
             }
            },
            "type": "scatter3d"
           }
          ],
          "scattercarpet": [
           {
            "marker": {
             "colorbar": {
              "outlinewidth": 0,
              "ticks": ""
             }
            },
            "type": "scattercarpet"
           }
          ],
          "scattergeo": [
           {
            "marker": {
             "colorbar": {
              "outlinewidth": 0,
              "ticks": ""
             }
            },
            "type": "scattergeo"
           }
          ],
          "scattergl": [
           {
            "marker": {
             "colorbar": {
              "outlinewidth": 0,
              "ticks": ""
             }
            },
            "type": "scattergl"
           }
          ],
          "scattermap": [
           {
            "marker": {
             "colorbar": {
              "outlinewidth": 0,
              "ticks": ""
             }
            },
            "type": "scattermap"
           }
          ],
          "scattermapbox": [
           {
            "marker": {
             "colorbar": {
              "outlinewidth": 0,
              "ticks": ""
             }
            },
            "type": "scattermapbox"
           }
          ],
          "scatterpolar": [
           {
            "marker": {
             "colorbar": {
              "outlinewidth": 0,
              "ticks": ""
             }
            },
            "type": "scatterpolar"
           }
          ],
          "scatterpolargl": [
           {
            "marker": {
             "colorbar": {
              "outlinewidth": 0,
              "ticks": ""
             }
            },
            "type": "scatterpolargl"
           }
          ],
          "scatterternary": [
           {
            "marker": {
             "colorbar": {
              "outlinewidth": 0,
              "ticks": ""
             }
            },
            "type": "scatterternary"
           }
          ],
          "surface": [
           {
            "colorbar": {
             "outlinewidth": 0,
             "ticks": ""
            },
            "colorscale": [
             [
              0,
              "#0d0887"
             ],
             [
              0.1111111111111111,
              "#46039f"
             ],
             [
              0.2222222222222222,
              "#7201a8"
             ],
             [
              0.3333333333333333,
              "#9c179e"
             ],
             [
              0.4444444444444444,
              "#bd3786"
             ],
             [
              0.5555555555555556,
              "#d8576b"
             ],
             [
              0.6666666666666666,
              "#ed7953"
             ],
             [
              0.7777777777777778,
              "#fb9f3a"
             ],
             [
              0.8888888888888888,
              "#fdca26"
             ],
             [
              1,
              "#f0f921"
             ]
            ],
            "type": "surface"
           }
          ],
          "table": [
           {
            "cells": {
             "fill": {
              "color": "#EBF0F8"
             },
             "line": {
              "color": "white"
             }
            },
            "header": {
             "fill": {
              "color": "#C8D4E3"
             },
             "line": {
              "color": "white"
             }
            },
            "type": "table"
           }
          ]
         },
         "layout": {
          "annotationdefaults": {
           "arrowcolor": "#2a3f5f",
           "arrowhead": 0,
           "arrowwidth": 1
          },
          "autotypenumbers": "strict",
          "coloraxis": {
           "colorbar": {
            "outlinewidth": 0,
            "ticks": ""
           }
          },
          "colorscale": {
           "diverging": [
            [
             0,
             "#8e0152"
            ],
            [
             0.1,
             "#c51b7d"
            ],
            [
             0.2,
             "#de77ae"
            ],
            [
             0.3,
             "#f1b6da"
            ],
            [
             0.4,
             "#fde0ef"
            ],
            [
             0.5,
             "#f7f7f7"
            ],
            [
             0.6,
             "#e6f5d0"
            ],
            [
             0.7,
             "#b8e186"
            ],
            [
             0.8,
             "#7fbc41"
            ],
            [
             0.9,
             "#4d9221"
            ],
            [
             1,
             "#276419"
            ]
           ],
           "sequential": [
            [
             0,
             "#0d0887"
            ],
            [
             0.1111111111111111,
             "#46039f"
            ],
            [
             0.2222222222222222,
             "#7201a8"
            ],
            [
             0.3333333333333333,
             "#9c179e"
            ],
            [
             0.4444444444444444,
             "#bd3786"
            ],
            [
             0.5555555555555556,
             "#d8576b"
            ],
            [
             0.6666666666666666,
             "#ed7953"
            ],
            [
             0.7777777777777778,
             "#fb9f3a"
            ],
            [
             0.8888888888888888,
             "#fdca26"
            ],
            [
             1,
             "#f0f921"
            ]
           ],
           "sequentialminus": [
            [
             0,
             "#0d0887"
            ],
            [
             0.1111111111111111,
             "#46039f"
            ],
            [
             0.2222222222222222,
             "#7201a8"
            ],
            [
             0.3333333333333333,
             "#9c179e"
            ],
            [
             0.4444444444444444,
             "#bd3786"
            ],
            [
             0.5555555555555556,
             "#d8576b"
            ],
            [
             0.6666666666666666,
             "#ed7953"
            ],
            [
             0.7777777777777778,
             "#fb9f3a"
            ],
            [
             0.8888888888888888,
             "#fdca26"
            ],
            [
             1,
             "#f0f921"
            ]
           ]
          },
          "colorway": [
           "#636efa",
           "#EF553B",
           "#00cc96",
           "#ab63fa",
           "#FFA15A",
           "#19d3f3",
           "#FF6692",
           "#B6E880",
           "#FF97FF",
           "#FECB52"
          ],
          "font": {
           "color": "#2a3f5f"
          },
          "geo": {
           "bgcolor": "white",
           "lakecolor": "white",
           "landcolor": "#E5ECF6",
           "showlakes": true,
           "showland": true,
           "subunitcolor": "white"
          },
          "hoverlabel": {
           "align": "left"
          },
          "hovermode": "closest",
          "mapbox": {
           "style": "light"
          },
          "paper_bgcolor": "white",
          "plot_bgcolor": "#E5ECF6",
          "polar": {
           "angularaxis": {
            "gridcolor": "white",
            "linecolor": "white",
            "ticks": ""
           },
           "bgcolor": "#E5ECF6",
           "radialaxis": {
            "gridcolor": "white",
            "linecolor": "white",
            "ticks": ""
           }
          },
          "scene": {
           "xaxis": {
            "backgroundcolor": "#E5ECF6",
            "gridcolor": "white",
            "gridwidth": 2,
            "linecolor": "white",
            "showbackground": true,
            "ticks": "",
            "zerolinecolor": "white"
           },
           "yaxis": {
            "backgroundcolor": "#E5ECF6",
            "gridcolor": "white",
            "gridwidth": 2,
            "linecolor": "white",
            "showbackground": true,
            "ticks": "",
            "zerolinecolor": "white"
           },
           "zaxis": {
            "backgroundcolor": "#E5ECF6",
            "gridcolor": "white",
            "gridwidth": 2,
            "linecolor": "white",
            "showbackground": true,
            "ticks": "",
            "zerolinecolor": "white"
           }
          },
          "shapedefaults": {
           "line": {
            "color": "#2a3f5f"
           }
          },
          "ternary": {
           "aaxis": {
            "gridcolor": "white",
            "linecolor": "white",
            "ticks": ""
           },
           "baxis": {
            "gridcolor": "white",
            "linecolor": "white",
            "ticks": ""
           },
           "bgcolor": "#E5ECF6",
           "caxis": {
            "gridcolor": "white",
            "linecolor": "white",
            "ticks": ""
           }
          },
          "title": {
           "x": 0.05
          },
          "xaxis": {
           "automargin": true,
           "gridcolor": "white",
           "linecolor": "white",
           "ticks": "",
           "title": {
            "standoff": 15
           },
           "zerolinecolor": "white",
           "zerolinewidth": 2
          },
          "yaxis": {
           "automargin": true,
           "gridcolor": "white",
           "linecolor": "white",
           "ticks": "",
           "title": {
            "standoff": 15
           },
           "zerolinecolor": "white",
           "zerolinewidth": 2
          }
         }
        },
        "title": {
         "text": "Box Plots of Numeric Features"
        },
        "width": 800,
        "xaxis": {
         "anchor": "y",
         "domain": [
          0,
          0.45
         ]
        },
        "xaxis10": {
         "anchor": "y10",
         "domain": [
          0.55,
          1
         ]
        },
        "xaxis11": {
         "anchor": "y11",
         "domain": [
          0,
          0.45
         ]
        },
        "xaxis12": {
         "anchor": "y12",
         "domain": [
          0.55,
          1
         ]
        },
        "xaxis13": {
         "anchor": "y13",
         "domain": [
          0,
          0.45
         ]
        },
        "xaxis14": {
         "anchor": "y14",
         "domain": [
          0.55,
          1
         ]
        },
        "xaxis15": {
         "anchor": "y15",
         "domain": [
          0,
          0.45
         ]
        },
        "xaxis16": {
         "anchor": "y16",
         "domain": [
          0.55,
          1
         ]
        },
        "xaxis2": {
         "anchor": "y2",
         "domain": [
          0.55,
          1
         ]
        },
        "xaxis3": {
         "anchor": "y3",
         "domain": [
          0,
          0.45
         ]
        },
        "xaxis4": {
         "anchor": "y4",
         "domain": [
          0.55,
          1
         ]
        },
        "xaxis5": {
         "anchor": "y5",
         "domain": [
          0,
          0.45
         ]
        },
        "xaxis6": {
         "anchor": "y6",
         "domain": [
          0.55,
          1
         ]
        },
        "xaxis7": {
         "anchor": "y7",
         "domain": [
          0,
          0.45
         ]
        },
        "xaxis8": {
         "anchor": "y8",
         "domain": [
          0.55,
          1
         ]
        },
        "xaxis9": {
         "anchor": "y9",
         "domain": [
          0,
          0.45
         ]
        },
        "yaxis": {
         "anchor": "x",
         "domain": [
          0.9296875,
          1
         ]
        },
        "yaxis10": {
         "anchor": "x10",
         "domain": [
          0.3984375,
          0.46875
         ]
        },
        "yaxis11": {
         "anchor": "x11",
         "domain": [
          0.265625,
          0.3359375
         ]
        },
        "yaxis12": {
         "anchor": "x12",
         "domain": [
          0.265625,
          0.3359375
         ]
        },
        "yaxis13": {
         "anchor": "x13",
         "domain": [
          0.1328125,
          0.203125
         ]
        },
        "yaxis14": {
         "anchor": "x14",
         "domain": [
          0.1328125,
          0.203125
         ]
        },
        "yaxis15": {
         "anchor": "x15",
         "domain": [
          0,
          0.0703125
         ]
        },
        "yaxis16": {
         "anchor": "x16",
         "domain": [
          0,
          0.0703125
         ]
        },
        "yaxis2": {
         "anchor": "x2",
         "domain": [
          0.9296875,
          1
         ]
        },
        "yaxis3": {
         "anchor": "x3",
         "domain": [
          0.796875,
          0.8671875
         ]
        },
        "yaxis4": {
         "anchor": "x4",
         "domain": [
          0.796875,
          0.8671875
         ]
        },
        "yaxis5": {
         "anchor": "x5",
         "domain": [
          0.6640625,
          0.734375
         ]
        },
        "yaxis6": {
         "anchor": "x6",
         "domain": [
          0.6640625,
          0.734375
         ]
        },
        "yaxis7": {
         "anchor": "x7",
         "domain": [
          0.53125,
          0.6015625
         ]
        },
        "yaxis8": {
         "anchor": "x8",
         "domain": [
          0.53125,
          0.6015625
         ]
        },
        "yaxis9": {
         "anchor": "x9",
         "domain": [
          0.3984375,
          0.46875
         ]
        }
       }
      }
     },
     "metadata": {},
     "output_type": "display_data"
    }
   ],
   "source": [
    "# Box plot & Outliers\n",
    "from plotly.subplots import make_subplots\n",
    "\n",
    "num_cols = len(df.select_dtypes(include=[int, float]).columns) # select numerical columns only\n",
    "cols_per_row = 2\n",
    "rows = (num_cols + cols_per_row - 1) // cols_per_row\n",
    "\n",
    "fig = make_subplots(rows=rows, cols=cols_per_row, subplot_titles=df.select_dtypes(include=[int, float]).columns)\n",
    "\n",
    "for i, col in enumerate(df.select_dtypes(include=[int, float]).columns):\n",
    "    row = i // cols_per_row + 1\n",
    "    col_pos = i % cols_per_row + 1\n",
    "    fig.add_trace(go.Box(y=df[col], name=col, showlegend=False), row=row, col=col_pos)\n",
    "\n",
    "fig.update_layout(height=300*rows, width=400*cols_per_row, title_text=\"Box Plots of Numeric Features\")\n",
    "fig.show()"
   ]
  },
  {
   "cell_type": "markdown",
   "id": "380a2ffb",
   "metadata": {},
   "source": [
    "Some outliers but can reflect true observations (ex a player focusing on defending more than scoring) <br>\n",
    "1) keep them and develop robust models (scaler, loss ...) <br>\n",
    "2) Cap and keep with a label : skewed distribution => IQR"
   ]
  },
  {
   "cell_type": "code",
   "execution_count": 18,
   "id": "0f4eb15a",
   "metadata": {},
   "outputs": [
    {
     "data": {
      "application/vnd.plotly.v1+json": {
       "config": {
        "plotlyServerURL": "https://plot.ly"
       },
       "data": [
        {
         "name": "GP",
         "showlegend": false,
         "type": "box",
         "xaxis": "x",
         "y": {
          "bdata": "JCNKOjBLPjBBKiMoGy0sKDEpUFJMPSBMNExOM0A3UjAiKlJAUE03MDMzSEU2GDI4QzItJio2IyUuMygTJE83SkBSUlFMUkxDRlEhOkZSPk5JSkw3LyU+PjMkSj8hNkkPQDhARC80QCIqMjRLJzM0J1IfUlJRUDJRUjJRUlFFUjdLSE8ZUT9RPSs3O0JGTSVDKjIsJC1GOTQzIzAVJBVPUVBPT1JLUkxHT1I2N0BHJEFQIFFQR1FSGEE4JDNLNj5SNS8kPiU8MyoYTUgxLisjMylSPTo3QyojUlBRUj1CO09ST04YJ0tPOjFGKDc7LDEsKSQtMlJSUFBHRD9OUFBNUTJQS0NSQERNRE1CQ0FBPkA7Rj4jKjstQzwpPis1NjJSUVFPN1FSUk1SOlBSR0BPTyJHTkxQREA1Qk0tLUA3OSQ5MEtSUExSUlBPUlJLT05IUj5OS1JKSjZKJE5DO001PDg/QjM8OzMvJisnJyZSUVBPNFJRUVFQSlJST1AfSVJIUk5DS04xTiY3KC8tMTAnOTkhNQ8tNyNGUUxSTDpNTklQUkpSTzNLUUssTStMTk1END5HNSwxNjQ+QSg3MBc/LDYnJB8jUlJIUVEzUlJPUE5MUEpSTztAP0dSP0BHS1BQTTEYSDYxLjY1JysnKyoqMTMkUlFST1AhJVFSOFFLREZRUk9SR1FSOFJKHDxAREE1NC02USgwJSw3NDsvPDcsMx9SOCFAPVJNTE5RPQw8LUUpTk5JOEY9ME80Pws/L0kzLzkuKR4oMCMbF0I4Oz9CQUJAFi5CQiE/QT0zIjg7KSorJTcqEyxALiomKBoaGiwmKiRSRVJRUE9BKk5RUD1OD1E6Nkg0QTwxQiorKjESJhYpSFBSFlFMUklSSUxOFE1BSjhSTFBROFIvRTw0Gzw/RydHOSwrMwwSNRlSUU5SUlJSSE5RTVFLQz04QkxNT0szNUZEUCw1OzwwKBNMPDMlUFBOTzVJO09KSiM5SUk8KjhLTEUyR0szIDk0Gj1GJiZADkI5Tk5OUj8wNFJRUkNPPEQdSC80Kkg7K1EuOEQ6Pzg9KSodKj0mI05QUVBQP09BTj1IPU9RUDE9TyRQRUISOyVEKyczFyAnOS4hSVJSUEpSTE5PPkQXUitQUk1MLkcZRD5DJyYkTCYLLU9STD1LRjdJS0NSJSYvSzgpUUU1GDlHIylKMSQpSCY2EE43Ui9GS1ExUkAhRjtIQ0JLUhtIKjQuIzM3OjNMJy4yKjBAJDU5E05QUE1ON0lNL09DRj5HTVJESCRAOT4jLyg1PDU2FSkjJ0QwUlFQM0hNQTs/TjJMQD1OUExONSoyNzYZJkYoUUxNSElIUlFIM0tPUVJHMC1STUNHLUo0Li9LKDs1MRYyMjIwUjIcKTEyLzIZMjExKhwYJ0MiGiYuHh8iFhsYOyMhGBo+UFBETU1CUEpCQU1QRzQ2OkAmJkoiIDojJzYnLSYoJUxSUlBDUj9STT5EKUFHR0A5SDI9K0tEUDktNkZBJCMjI0ZSSFJNUExQQU9ASjZPRUhLKk9FPj4zQCw5NSQ8OzkvKyk9MTUhRkE/T1FATkhQT05CUSBDNS0lQD4/UTcuKS4xNTw6OzcpLioxJlJPUUwvUk9ST0dPQSVRUU8xT0tCQxcvSk0zREY3QDpDJzwoMCY1LUQvUU1RUU5SUk9IO1IwRyctTUoUTThJKFJSMk9QRCs0Lw==",
          "dtype": "i1"
         },
         "yaxis": "y"
        },
        {
         "name": "MIN",
         "showlegend": false,
         "type": "box",
         "xaxis": "x2",
         "y": {
          "bdata": "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",
          "dtype": "f8"
         },
         "yaxis": "y2"
        },
        {
         "name": "PTS",
         "showlegend": false,
         "type": "box",
         "xaxis": "x3",
         "y": {
          "bdata": "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",
          "dtype": "f8"
         },
         "yaxis": "y3"
        },
        {
         "name": "FGA",
         "showlegend": false,
         "type": "box",
         "xaxis": "x4",
         "y": {
          "bdata": "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",
          "dtype": "f8"
         },
         "yaxis": "y4"
        },
        {
         "name": "FG%",
         "showlegend": false,
         "type": "box",
         "xaxis": "x5",
         "y": {
          "bdata": "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",
          "dtype": "f8"
         },
         "yaxis": "y5"
        },
        {
         "name": "3PA",
         "showlegend": false,
         "type": "box",
         "xaxis": "x6",
         "y": {
          "bdata": "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",
          "dtype": "f8"
         },
         "yaxis": "y6"
        },
        {
         "name": "3P%",
         "showlegend": false,
         "type": "box",
         "xaxis": "x7",
         "y": {
          "bdata": "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",
          "dtype": "f8"
         },
         "yaxis": "y7"
        },
        {
         "name": "FTA",
         "showlegend": false,
         "type": "box",
         "xaxis": "x8",
         "y": {
          "bdata": "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",
          "dtype": "f8"
         },
         "yaxis": "y8"
        },
        {
         "name": "FT%",
         "showlegend": false,
         "type": "box",
         "xaxis": "x9",
         "y": {
          "bdata": "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",
          "dtype": "f8"
         },
         "yaxis": "y9"
        },
        {
         "name": "OREB",
         "showlegend": false,
         "type": "box",
         "xaxis": "x10",
         "y": {
          "bdata": "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",
          "dtype": "f8"
         },
         "yaxis": "y10"
        },
        {
         "name": "REB",
         "showlegend": false,
         "type": "box",
         "xaxis": "x11",
         "y": {
          "bdata": "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",
          "dtype": "f8"
         },
         "yaxis": "y11"
        },
        {
         "name": "AST",
         "showlegend": false,
         "type": "box",
         "xaxis": "x12",
         "y": {
          "bdata": "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",
          "dtype": "f8"
         },
         "yaxis": "y12"
        },
        {
         "name": "STL",
         "showlegend": false,
         "type": "box",
         "xaxis": "x13",
         "y": {
          "bdata": "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",
          "dtype": "f8"
         },
         "yaxis": "y13"
        },
        {
         "name": "BLK",
         "showlegend": false,
         "type": "box",
         "xaxis": "x14",
         "y": {
          "bdata": "mpmZmZmZ2T8AAAAAAADgPzMzMzMzM9M/mpmZmZmZuT+amZmZmZnZPwAAAAAAAAAAmpmZmZmZuT+amZmZmZm5PwAAAAAAAAAAAAAAAAAAAACamZmZmZm5P5qZmZmZmbk/MzMzMzMz4z8zMzMzMzPTP5qZmZmZmdk/AAAAAAAAAACamZmZmZnJPwAAAAAAAAAAmpmZmZmZ6T8zMzMzMzPTP5qZmZmZmck/MzMzMzMz0z8AAAAAAADgPzMzMzMzM+M/AAAAAAAAAAAAAAAAAADgPzMzMzMzM9M/AAAAAAAA4D+amZmZmZnxP5qZmZmZmfE/MzMzMzMz0z+amZmZmZnxP5qZmZmZmck/mpmZmZmZuT+amZmZmZm5P5qZmZmZmbk/mpmZmZmZ6T8zMzMzMzPjP5qZmZmZmck/AAAAAAAAAAAAAAAAAAAAAJqZmZmZmck/mpmZmZmZuT8zMzMzMzPTP2ZmZmZmZuY/mpmZmZmZuT+amZmZmZm5P5qZmZmZmck/mpmZmZmZuT+amZmZmZm5P5qZmZmZmck/mpmZmZmZuT+amZmZmZm5P5qZmZmZmbk/mpmZmZmZyT+amZmZmZm5PwAAAAAAAAAAAAAAAAAAAACamZmZmZm5P5qZmZmZmck/AAAAAAAAAACamZmZmZnxP5qZmZmZmbk/mpmZmZmZ8T+amZmZmZnJPzMzMzMzM9M/mpmZmZmZyT+amZmZmZnxPzMzMzMzM9M/AAAAAAAA4D+amZmZmZnxP5qZmZmZmbk/mpmZmZmZyT8zMzMzMzPTPzMzMzMzM9M/mpmZmZmZ8T+amZmZmZm5P5qZmZmZmbk/mpmZmZmZuT8zMzMzMzPTPzMzMzMzM9M/mpmZmZmZ2T8zMzMzMzPTPwAAAAAAAOA/mpmZmZmZyT+amZmZmZm5P5qZmZmZmck/mpmZmZmZuT+amZmZmZnJPwAAAAAAAAAAmpmZmZmZyT+amZmZmZm5P5qZmZmZmck/mpmZmZmZ2T+amZmZmZm5PzMzMzMzM9M/mpmZmZmZyT+amZmZmZm5P5qZmZmZmbk/AAAAAAAAAAAAAAAAAAAAAJqZmZmZmbk/mpmZmZmZyT+amZmZmZm5P2ZmZmZmZuY/AAAAAAAAAABmZmZmZmbmP5qZmZmZmdk/MzMzMzMz0z8zMzMzMzPTP5qZmZmZmbk/mpmZmZmZuT+amZmZmZnxP5qZmZmZmbk/ZmZmZmZm5j8zMzMzMzPTP5qZmZmZmbk/ZmZmZmZm5j8zMzMzMzPTP5qZmZmZmck/mpmZmZmZ2T+amZmZmZnZP5qZmZmZmdk/ZmZmZmZm5j8AAAAAAAAAAJqZmZmZmck/ZmZmZmZm5j+amZmZmZnJPzMzMzMzM9M/mpmZmZmZyT+amZmZmZnJP5qZmZmZmdk/mpmZmZmZuT+amZmZmZnZP83MzMzMzOw/mpmZmZmZyT+amZmZmZm5P5qZmZmZmbk/mpmZmZmZyT+amZmZmZm5PzMzMzMzM+M/AAAAAAAAAACamZmZmZm5PwAAAAAAAAAAMzMzMzMz0z8AAAAAAAAAAJqZmZmZmbk/mpmZmZmZyT+amZmZmZm5P5qZmZmZmbk/mpmZmZmZuT+amZmZmZm5PzMzMzMzM9M/mpmZmZmZyT8AAAAAAAAAADMzMzMzM9M/AAAAAAAAAACamZmZmZnZP5qZmZmZmck/mpmZmZmZ6T8AAAAAAADgPwAAAAAAAOA/MzMzMzMz0z8zMzMzMzPjPzMzMzMzM9M/MzMzMzMz0z+amZmZmZnpP5qZmZmZmbk/mpmZmZmZuT+amZmZmZnJPzMzMzMzM9M/AAAAAAAA4D8zMzMzMzPTP5qZmZmZmbk/mpmZmZmZuT8zMzMzMzPTP5qZmZmZmck/mpmZmZmZuT+amZmZmZm5P5qZmZmZmbk/mpmZmZmZ2T8AAAAAAAAAAAAAAAAAAAAAmpmZmZmZuT+amZmZmZnJP5qZmZmZmbk/mpmZmZmZuT8zMzMzMzPTPzMzMzMzM9M/mpmZmZmZuT8AAAAAAADgP5qZmZmZmbk/mpmZmZmZuT+amZmZmZnJP5qZmZmZmbk/mpmZmZmZ6T+amZmZmZnJPzMzMzMzM9M/mpmZmZmZuT+amZmZmZm5P5qZmZmZmdk/mpmZmZmZyT8AAAAAAAAAAJqZmZmZmbk/mpmZmZmZuT+amZmZmZm5P5qZmZmZmbk/AAAAAAAAAACamZmZmZm5P5qZmZmZmbk/mpmZmZmZuT8zMzMzMzPTPwAAAAAAAOA/mpmZmZmZuT+amZmZmZnZPzMzMzMzM+M/mpmZmZmZ8T8zMzMzMzPTP2ZmZmZmZuY/mpmZmZmZyT+amZmZmZnZPwAAAAAAAOA/mpmZmZmZ6T9mZmZmZmbmP5qZmZmZmek/AAAAAAAAAAAzMzMzMzPTP5qZmZmZmbk/mpmZmZmZuT/NzMzMzMzsPzMzMzMzM9M/mpmZmZmZuT8AAAAAAAAAADMzMzMzM+M/mpmZmZmZuT8zMzMzMzPTPwAAAAAAAAAAAAAAAAAAAAAzMzMzMzPTPzMzMzMzM9M/MzMzMzMz0z8AAAAAAAAAAJqZmZmZmck/mpmZmZmZuT8AAAAAAADwP5qZmZmZmck/mpmZmZmZ8T+amZmZmZnpPzMzMzMzM+M/ZmZmZmZm5j8zMzMzMzPjP5qZmZmZmdk/mpmZmZmZuT+amZmZmZnpPzMzMzMzM9M/AAAAAAAAAABmZmZmZmbmP5qZmZmZmbk/mpmZmZmZ8T+amZmZmZm5P5qZmZmZmfE/mpmZmZmZ2T8AAAAAAADgPzMzMzMzM+M/mpmZmZmZyT+amZmZmZnZP5qZmZmZmck/MzMzMzMz0z8zMzMzMzPTPzMzMzMzM9M/mpmZmZmZuT+amZmZmZm5PwAAAAAAAOA/mpmZmZmZ6T+amZmZmZm5P5qZmZmZmck/mpmZmZmZuT+amZmZmZm5P5qZmZmZmck/mpmZmZmZuT8zMzMzMzPTPwAAAAAAAAAAmpmZmZmZuT+amZmZmZm5PzMzMzMzM+M/AAAAAAAAAACamZmZmZnxPwAAAAAAAOA/AAAAAAAA4D8AAAAAAADgP5qZmZmZmfE/mpmZmZmZ2T+amZmZmZm5P5qZmZmZmbk/AAAAAAAA4D+amZmZmZnZP5qZmZmZmek/MzMzMzMz4z8AAAAAAADgPzMzMzMzM+M/mpmZmZmZuT+amZmZmZm5P5qZmZmZmbk/AAAAAAAAAAAAAAAAAADgP5qZmZmZmbk/mpmZmZmZ6T8AAAAAAAAAAJqZmZmZmdk/mpmZmZmZuT8zMzMzMzPTP5qZmZmZmdk/mpmZmZmZuT+amZmZmZnJP5qZmZmZmbk/mpmZmZmZuT+amZmZmZm5PzMzMzMzM9M/mpmZmZmZuT+amZmZmZnJP5qZmZmZmbk/mpmZmZmZyT+amZmZmZm5P5qZmZmZmek/mpmZmZmZuT+amZmZmZnxPwAAAAAAAPA/mpmZmZmZ6T+amZmZmZm5P5qZmZmZmfE/AAAAAAAA4D8zMzMzMzPjP5qZmZmZmdk/MzMzMzMz0z+amZmZmZnZP5qZmZmZmbk/mpmZmZmZuT+amZmZmZnxP5qZmZmZmbk/AAAAAAAA4D+amZmZmZm5P5qZmZmZmck/mpmZmZmZyT8zMzMzMzPTP5qZmZmZmck/mpmZmZmZyT+amZmZmZnJP5qZmZmZmek/mpmZmZmZyT+amZmZmZnZP5qZmZmZmek/AAAAAAAA4D+amZmZmZm5P5qZmZmZmbk/mpmZmZmZyT+amZmZmZnJP5qZmZmZmbk/mpmZmZmZyT8zMzMzMzPTP5qZmZmZmbk/AAAAAAAAAACamZmZmZm5PzMzMzMzM9M/mpmZmZmZuT8AAAAAAAAAAJqZmZmZmfE/mpmZmZmZ6T+amZmZmZnJP2ZmZmZmZuY/mpmZmZmZuT+amZmZmZm5P5qZmZmZmfE/mpmZmZmZyT+amZmZmZnZP5qZmZmZmfE/MzMzMzMz0z8AAAAAAADgPzMzMzMzM9M/AAAAAAAA4D+amZmZmZm5P2ZmZmZmZuY/AAAAAAAAAAAzMzMzMzPTP5qZmZmZmbk/mpmZmZmZyT+amZmZmZm5P5qZmZmZmbk/mpmZmZmZyT8AAAAAAAAAADMzMzMzM9M/mpmZmZmZ8T+amZmZmZm5P5qZmZmZmbk/AAAAAAAAAACamZmZmZnZPwAAAAAAAAAAAAAAAAAAAACamZmZmZnZPzMzMzMzM9M/ZmZmZmZm5j8AAAAAAAAAADMzMzMzM9M/AAAAAAAAAACamZmZmZm5P5qZmZmZmck/mpmZmZmZuT+amZmZmZm5P83MzMzMzOw/AAAAAAAA4D+amZmZmZm5P5qZmZmZmek/mpmZmZmZuT/NzMzMzMzsP5qZmZmZmek/mpmZmZmZuT8zMzMzMzPTPzMzMzMzM+M/mpmZmZmZuT+amZmZmZnJPwAAAAAAAAAAMzMzMzMz4z+amZmZmZnJP5qZmZmZmbk/mpmZmZmZ8T/NzMzMzMzsPzMzMzMzM9M/mpmZmZmZyT+amZmZmZnJP5qZmZmZmck/MzMzMzMz0z8zMzMzMzPTP5qZmZmZmbk/mpmZmZmZyT8zMzMzMzPjP83MzMzMzOw/mpmZmZmZyT+amZmZmZnJP5qZmZmZmbk/mpmZmZmZyT8zMzMzMzPjP5qZmZmZmbk/AAAAAAAAAAAzMzMzMzPTP5qZmZmZmbk/mpmZmZmZyT8zMzMzMzPTP5qZmZmZmbk/mpmZmZmZuT8zMzMzMzPTP5qZmZmZmbk/mpmZmZmZuT8AAAAAAAAAAJqZmZmZmbk/mpmZmZmZyT8AAAAAAADwP5qZmZmZmck/MzMzMzMz4z8zMzMzMzPTP5qZmZmZmdk/mpmZmZmZ8T9mZmZmZmbmP5qZmZmZmbk/AAAAAAAAAACamZmZmZnxPwAAAAAAAOA/mpmZmZmZyT+amZmZmZnJP83MzMzMzOw/MzMzMzMz0z+amZmZmZnxP5qZmZmZmfE/mpmZmZmZ8T8zMzMzMzPTPwAAAAAAAAAAmpmZmZmZyT+amZmZmZm5P5qZmZmZmdk/MzMzMzMz0z+amZmZmZnxP83MzMzMzOw/MzMzMzMz0z8AAAAAAAAAAAAAAAAAAAAAZmZmZmZm5j8AAAAAAAAAAAAAAAAAAAAAmpmZmZmZuT+amZmZmZnJP5qZmZmZmbk/mpmZmZmZuT+amZmZmZm5P5qZmZmZmbk/AAAAAAAAAACamZmZmZm5P5qZmZmZmbk/AAAAAAAAAACamZmZmZm5P5qZmZmZmbk/mpmZmZmZ8T8AAAAAAADgP5qZmZmZmek/MzMzMzMz0z+amZmZmZm5PwAAAAAAAAAAAAAAAAAAAAAAAAAAAADwP5qZmZmZmdk/mpmZmZmZ8T+amZmZmZnZP5qZmZmZmbk/MzMzMzMz0z+amZmZmZm5PzMzMzMzM9M/MzMzMzMz0z8zMzMzMzPjP5qZmZmZmfE/mpmZmZmZyT8zMzMzMzPTPzMzMzMzM9M/mpmZmZmZ6T+amZmZmZm5PzMzMzMzM9M/mpmZmZmZuT+amZmZmZnxP5qZmZmZmbk/mpmZmZmZ8T9mZmZmZmbmP5qZmZmZmbk/mpmZmZmZ6T8zMzMzMzPTPwAAAAAAAAAAmpmZmZmZuT+amZmZmZm5PzMzMzMzM9M/AAAAAAAAAACamZmZmZm5P5qZmZmZmbk/mpmZmZmZ2T+amZmZmZm5PwAAAAAAAAAAAAAAAAAAAACamZmZmZnZPwAAAAAAAAAAAAAAAAAAAACamZmZmZm5P5qZmZmZmck/AAAAAAAA4D+amZmZmZm5P5qZmZmZmfE/MzMzMzMz0z8AAAAAAADgP83MzMzMzOw/mpmZmZmZ6T/NzMzMzMzsP5qZmZmZmck/mpmZmZmZuT+amZmZmZnJP5qZmZmZmfE/AAAAAAAA4D8zMzMzMzPjPwAAAAAAAOA/mpmZmZmZyT8AAAAAAAAAAJqZmZmZmck/mpmZmZmZyT+amZmZmZnZP5qZmZmZmck/mpmZmZmZuT8zMzMzMzPTP5qZmZmZmck/ZmZmZmZm5j+amZmZmZm5PzMzMzMzM9M/AAAAAAAAAACamZmZmZm5P5qZmZmZmck/mpmZmZmZyT8AAAAAAADgP5qZmZmZmek/mpmZmZmZuT8zMzMzMzPTP5qZmZmZmbk/mpmZmZmZuT+amZmZmZm5PwAAAAAAAAAAmpmZmZmZuT+amZmZmZm5PzMzMzMzM9M/mpmZmZmZuT8AAAAAAADgPzMzMzMzM9M/mpmZmZmZuT8zMzMzMzPTP5qZmZmZmdk/MzMzMzMz0z8AAAAAAADwPwAAAAAAAOA/AAAAAAAA4D+amZmZmZm5P2ZmZmZmZuY/AAAAAAAAAACamZmZmZm5P5qZmZmZmbk/MzMzMzMz0z8zMzMzMzPTP5qZmZmZmbk/mpmZmZmZ2T+amZmZmZnJPzMzMzMzM9M/AAAAAAAA4D+amZmZmZnxPwAAAAAAAOA/mpmZmZmZyT+amZmZmZm5PwAAAAAAAAAAmpmZmZmZ2T+amZmZmZnJP5qZmZmZmck/AAAAAAAAAACamZmZmZm5P5qZmZmZmek/MzMzMzMz0z8AAAAAAAAAAJqZmZmZmbk/mpmZmZmZuT+amZmZmZnZPzMzMzMzM+M/AAAAAAAA4D+amZmZmZnJP5qZmZmZmek/MzMzMzMz4z9mZmZmZmbmPwAAAAAAAPA/mpmZmZmZuT+amZmZmZnJPzMzMzMzM9M/mpmZmZmZuT+amZmZmZnZP83MzMzMzOw/mpmZmZmZyT8zMzMzMzPTP5qZmZmZmfE/mpmZmZmZuT8zMzMzMzPTP2ZmZmZmZuY/ZmZmZmZm5j+amZmZmZnxPzMzMzMzM9M/mpmZmZmZuT+amZmZmZnJP5qZmZmZmbk/mpmZmZmZyT8zMzMzMzPTP5qZmZmZmdk/AAAAAAAAAACamZmZmZm5P5qZmZmZmck/mpmZmZmZ2T+amZmZmZnJP5qZmZmZmck/mpmZmZmZuT8AAAAAAAAAAJqZmZmZmbk/mpmZmZmZ8T+amZmZmZm5P5qZmZmZmck/MzMzMzMz0z8zMzMzMzPTP5qZmZmZmbk/MzMzMzMz0z+amZmZmZnJPwAAAAAAAAAAmpmZmZmZuT+amZmZmZm5PwAAAAAAAOA/mpmZmZmZuT8zMzMzMzPTP5qZmZmZmbk/mpmZmZmZuT+amZmZmZnxPwAAAAAAAOA/mpmZmZmZ2T8zMzMzMzPjP5qZmZmZmbk/mpmZmZmZyT+amZmZmZm5PzMzMzMzM9M/mpmZmZmZuT+amZmZmZnZP5qZmZmZmbk/mpmZmZmZyT+amZmZmZnJP5qZmZmZmck/MzMzMzMz0z+amZmZmZnJP5qZmZmZmbk/mpmZmZmZ8T+amZmZmZm5P5qZmZmZmck/mpmZmZmZyT8AAAAAAADgP5qZmZmZmck/mpmZmZmZuT+amZmZmZnxP2ZmZmZmZuY/AAAAAAAAAAAzMzMzMzPTPzMzMzMzM+M/mpmZmZmZyT8AAAAAAADgPwAAAAAAAOA/mpmZmZmZyT+amZmZmZnxPwAAAAAAAOA/MzMzMzMz0z9mZmZmZmbmPzMzMzMzM9M/ZmZmZmZm5j8AAAAAAADwPwAAAAAAAAAAmpmZmZmZ8T+amZmZmZnxPwAAAAAAAAAAmpmZmZmZyT+amZmZmZnJPwAAAAAAAAAAAAAAAAAA4D8AAAAAAAAAAGZmZmZmZuY/AAAAAAAA4D+amZmZmZm5PzMzMzMzM9M/ZmZmZmZm5j+amZmZmZm5PwAAAAAAAAAAzczMzMzM7D8zMzMzMzPjP5qZmZmZmfE/AAAAAAAA4D8AAAAAAAAAAJqZmZmZmck/mpmZmZmZuT8zMzMzMzPTP5qZmZmZmbk/zczMzMzM7D8AAAAAAADgP5qZmZmZmbk/mpmZmZmZuT+amZmZmZnxP5qZmZmZmfE/mpmZmZmZyT8AAAAAAAAAAJqZmZmZmbk/ZmZmZmZm5j8zMzMzMzPTPwAAAAAAAAAAMzMzMzMz4z+amZmZmZm5P5qZmZmZmbk/AAAAAAAAAACamZmZmZnJP5qZmZmZmck/mpmZmZmZ2T8zMzMzMzPTP5qZmZmZmdk/MzMzMzMz4z+amZmZmZnZP5qZmZmZmbk/mpmZmZmZyT8AAAAAAADwP5qZmZmZmck/mpmZmZmZuT/NzMzMzMzsP5qZmZmZmbk/MzMzMzMz0z+amZmZmZnxPwAAAAAAAAAAAAAAAAAA4D+amZmZmZnJPwAAAAAAAOA/zczMzMzM7D8zMzMzMzPTPwAAAAAAAAAAmpmZmZmZuT9mZmZmZmbmPzMzMzMzM+M/mpmZmZmZuT+amZmZmZm5P5qZmZmZmbk/AAAAAAAAAACamZmZmZnxPzMzMzMzM+M/AAAAAAAA4D8AAAAAAADgP5qZmZmZmck/mpmZmZmZuT+amZmZmZm5P2ZmZmZmZuY/MzMzMzMz0z8AAAAAAADgPzMzMzMzM9M/AAAAAAAAAAAAAAAAAAAAAJqZmZmZmck/mpmZmZmZuT+amZmZmZm5P5qZmZmZmbk/AAAAAAAAAACamZmZmZm5P5qZmZmZmbk/mpmZmZmZ6T+amZmZmZm5P5qZmZmZmck/mpmZmZmZ2T8zMzMzMzPTP2ZmZmZmZuY/mpmZmZmZ6T+amZmZmZm5PwAAAAAAAAAAmpmZmZmZuT8AAAAAAAAAAJqZmZmZmbk/mpmZmZmZyT+amZmZmZnJP5qZmZmZmck/MzMzMzMz0z+amZmZmZm5P5qZmZmZmbk/mpmZmZmZ2T+amZmZmZm5PzMzMzMzM9M/mpmZmZmZ2T+amZmZmZm5PzMzMzMzM9M/AAAAAAAAAACamZmZmZm5P5qZmZmZmbk/mpmZmZmZuT+amZmZmZm5P5qZmZmZmbk/mpmZmZmZyT8AAAAAAADgP5qZmZmZmbk/mpmZmZmZ8T8zMzMzMzPjP5qZmZmZmfE/mpmZmZmZ2T+amZmZmZnxPwAAAAAAAAAAmpmZmZmZuT8zMzMzMzPTPwAAAAAAAAAAMzMzMzMz0z+amZmZmZm5P5qZmZmZmbk/mpmZmZmZyT+amZmZmZnxP5qZmZmZmck/MzMzMzMz4z8zMzMzMzPTPzMzMzMzM9M/mpmZmZmZ2T+amZmZmZnpPwAAAAAAAAAAMzMzMzMz0z+amZmZmZm5PzMzMzMzM9M/mpmZmZmZyT8AAAAAAAAAAAAAAAAAAAAAmpmZmZmZuT+amZmZmZm5P5qZmZmZmdk/mpmZmZmZuT9mZmZmZmbmPwAAAAAAAOA/MzMzMzMz0z8zMzMzMzPjP5qZmZmZmfE/mpmZmZmZyT+amZmZmZm5P5qZmZmZmbk/MzMzMzMz0z+amZmZmZnpP83MzMzMzOw/mpmZmZmZuT+amZmZmZm5P5qZmZmZmdk/mpmZmZmZuT+amZmZmZnJP5qZmZmZmek/mpmZmZmZyT+amZmZmZm5P5qZmZmZmbk/AAAAAAAA4D8AAAAAAAAAAJqZmZmZmdk/AAAAAAAA4D+amZmZmZnJP5qZmZmZmbk/mpmZmZmZyT8AAAAAAAAAAJqZmZmZmbk/mpmZmZmZuT+amZmZmZm5P5qZmZmZmbk/AAAAAAAAAACamZmZmZnZP5qZmZmZmbk/mpmZmZmZ8T+amZmZmZm5PwAAAAAAAOA/mpmZmZmZyT8zMzMzMzPjP5qZmZmZmfE/mpmZmZmZyT+amZmZmZm5PzMzMzMzM9M/mpmZmZmZyT8zMzMzMzPjPzMzMzMzM+M/mpmZmZmZyT+amZmZmZnJP5qZmZmZmck/mpmZmZmZyT8zMzMzMzPTP5qZmZmZmbk/mpmZmZmZuT8zMzMzMzPjP5qZmZmZmbk/mpmZmZmZuT8zMzMzMzPTP5qZmZmZmdk/mpmZmZmZuT+amZmZmZnpP5qZmZmZmbk/AAAAAAAA4D8zMzMzMzPTPwAAAAAAAAAAMzMzMzMz0z+amZmZmZnZP5qZmZmZmbk/mpmZmZmZuT8AAAAAAAAAAJqZmZmZmbk/mpmZmZmZuT8AAAAAAADwP5qZmZmZmdk/AAAAAAAA4D+amZmZmZm5PzMzMzMzM+M/AAAAAAAA4D+amZmZmZnxPzMzMzMzM9M/mpmZmZmZyT8zMzMzMzPjP5qZmZmZmbk/MzMzMzMz0z+amZmZmZnxP5qZmZmZmfE/MzMzMzMz4z8zMzMzMzPTP5qZmZmZmdk/ZmZmZmZm5j8AAAAAAAAAAJqZmZmZmbk/AAAAAAAA4D+amZmZmZm5P5qZmZmZmbk/ZmZmZmZm5j+amZmZmZm5P5qZmZmZmek/MzMzMzMz4z+amZmZmZm5P5qZmZmZmbk/AAAAAAAAAACamZmZmZm5PwAAAAAAAAAAmpmZmZmZ6T+amZmZmZnxPzMzMzMzM+M/mpmZmZmZyT+amZmZmZnxPzMzMzMzM9M/mpmZmZmZuT8zMzMzMzPTP5qZmZmZmck/mpmZmZmZuT/NzMzMzMzsP5qZmZmZmbk/MzMzMzMz0z8AAAAAAAAAAJqZmZmZmbk/mpmZmZmZ8T+amZmZmZnJP5qZmZmZmdk/AAAAAAAA8D+amZmZmZm5PwAAAAAAAAAAAAAAAAAAAACamZmZmZm5PwAAAAAAAAAAmpmZmZmZuT+amZmZmZnZPwAAAAAAAOA/AAAAAAAAAACamZmZmZm5P5qZmZmZmbk/mpmZmZmZ8T+amZmZmZnxP5qZmZmZmdk/AAAAAAAA4D8zMzMzMzPTP5qZmZmZmck/mpmZmZmZyT+amZmZmZnZPzMzMzMzM9M/AAAAAAAA8D+amZmZmZnJP5qZmZmZmbk/mpmZmZmZuT8AAAAAAAAAAJqZmZmZmbk/mpmZmZmZ2T8zMzMzMzPTP5qZmZmZmck/MzMzMzMz0z+amZmZmZnZP5qZmZmZmdk/AAAAAAAAAACamZmZmZnJPzMzMzMzM9M/mpmZmZmZyT+amZmZmZnJP5qZmZmZmfE/zczMzMzM7D8AAAAAAAAAAAAAAAAAAAAAmpmZmZmZuT+amZmZmZm5PwAAAAAAAAAAmpmZmZmZ8T+amZmZmZm5PwAAAAAAAPA/mpmZmZmZyT+amZmZmZnJPzMzMzMzM+M/MzMzMzMz0z8AAAAAAADgP5qZmZmZmdk/MzMzMzMz0z+amZmZmZm5P5qZmZmZmck/MzMzMzMz0z/NzMzMzMzsPzMzMzMzM9M/mpmZmZmZyT+amZmZmZnxPwAAAAAAAAAAmpmZmZmZuT8zMzMzMzPTP5qZmZmZmbk/mpmZmZmZ6T8AAAAAAADgP5qZmZmZmbk/mpmZmZmZuT8zMzMzMzPTPwAAAAAAAAAAAAAAAAAAAACamZmZmZm5PwAAAAAAAAAAmpmZmZmZyT+amZmZmZnJPwAAAAAAAAAAmpmZmZmZuT+amZmZmZm5P5qZmZmZmdk/mpmZmZmZyT+amZmZmZnJP5qZmZmZmck/mpmZmZmZuT+amZmZmZm5P5qZmZmZmck/mpmZmZmZuT+amZmZmZm5P5qZmZmZmdk/mpmZmZmZ8T+amZmZmZnJP5qZmZmZmdk/MzMzMzMz4z8zMzMzMzPTP5qZmZmZmbk/mpmZmZmZyT/NzMzMzMzsP5qZmZmZmbk/mpmZmZmZyT+amZmZmZnxPwAAAAAAAOA/MzMzMzMz0z+amZmZmZnxPwAAAAAAAAAAmpmZmZmZuT+amZmZmZnJP5qZmZmZmbk/AAAAAAAAAACamZmZmZm5P5qZmZmZmck/mpmZmZmZuT8zMzMzMzPTP5qZmZmZmdk/ZmZmZmZm5j8AAAAAAADwPzMzMzMzM9M/mpmZmZmZuT+amZmZmZnxPwAAAAAAAAAAmpmZmZmZ6T+amZmZmZnxP5qZmZmZmfE/mpmZmZmZyT+amZmZmZm5P5qZmZmZmek/MzMzMzMz0z+amZmZmZnJP5qZmZmZmdk/AAAAAAAA8D+amZmZmZnJP5qZmZmZmbk/AAAAAAAA4D8zMzMzMzPTP5qZmZmZmdk/mpmZmZmZuT8zMzMzMzPTPzMzMzMzM+M/MzMzMzMz0z8AAAAAAADgP5qZmZmZmfE/mpmZmZmZyT+amZmZmZm5PzMzMzMzM9M/MzMzMzMz0z8zMzMzMzPTP5qZmZmZmdk/mpmZmZmZ8T+amZmZmZnxP2ZmZmZmZuY/AAAAAAAAAACamZmZmZnxP5qZmZmZmfE/mpmZmZmZ6T8zMzMzMzPTP5qZmZmZmck/AAAAAAAA4D+amZmZmZnJPwAAAAAAAOA/mpmZmZmZyT+amZmZmZnZP5qZmZmZmfE/AAAAAAAAAAAzMzMzMzPTPzMzMzMzM+M/mpmZmZmZyT+amZmZmZm5P5qZmZmZmbk/AAAAAAAA4D+amZmZmZnJP5qZmZmZmfE/mpmZmZmZyT+amZmZmZm5P5qZmZmZmbk/mpmZmZmZuT+amZmZmZm5PzMzMzMzM9M/AAAAAAAAAACamZmZmZm5P5qZmZmZmck/mpmZmZmZyT+amZmZmZm5P5qZmZmZmbk/zczMzMzM7D+amZmZmZnJP5qZmZmZmdk/MzMzMzMz0z9mZmZmZmbmPzMzMzMzM+M/mpmZmZmZ6T+amZmZmZnxP5qZmZmZmfE/mpmZmZmZ8T8zMzMzMzPTPzMzMzMzM+M/MzMzMzMz0z8zMzMzMzPTP5qZmZmZmbk/mpmZmZmZuT+amZmZmZnZPwAAAAAAAAAAMzMzMzMz4z+amZmZmZnJPzMzMzMzM9M/mpmZmZmZyT8AAAAAAAAAADMzMzMzM+M/mpmZmZmZuT+amZmZmZm5P5qZmZmZmbk/mpmZmZmZ2T+amZmZmZnJP5qZmZmZmbk/mpmZmZmZuT+amZmZmZnxP5qZmZmZmdk/mpmZmZmZuT+amZmZmZm5PwAAAAAAAAAAmpmZmZmZuT8zMzMzMzPjP5qZmZmZmck/mpmZmZmZuT+amZmZmZnxPwAAAAAAAOA/mpmZmZmZ8T8zMzMzMzPTP5qZmZmZmbk/MzMzMzMz4z+amZmZmZnZP5qZmZmZmfE/mpmZmZmZuT8AAAAAAADwP5qZmZmZmdk/AAAAAAAA8D+amZmZmZnJPwAAAAAAAAAAMzMzMzMz4z8zMzMzMzPTP5qZmZmZmbk/MzMzMzMz0z+amZmZmZm5PzMzMzMzM9M/ZmZmZmZm5j+amZmZmZm5PzMzMzMzM9M/MzMzMzMz0z+amZmZmZm5PwAAAAAAAOA/mpmZmZmZuT8zMzMzMzPTPwAAAAAAAOA/MzMzMzMz0z+amZmZmZm5PwAAAAAAAAAAmpmZmZmZuT8zMzMzMzPTP5qZmZmZmbk/AAAAAAAA4D+amZmZmZm5P5qZmZmZmck/mpmZmZmZ8T9mZmZmZmbmPwAAAAAAAPA/mpmZmZmZ2T+amZmZmZnxP5qZmZmZmfE/mpmZmZmZ6T+amZmZmZnxP5qZmZmZmfE/AAAAAAAA4D/NzMzMzMzsP5qZmZmZmek/ZmZmZmZm5j+amZmZmZm5P5qZmZmZmbk/mpmZmZmZyT+amZmZmZnJPzMzMzMzM9M/mpmZmZmZ2T+amZmZmZnxP5qZmZmZmbk/mpmZmZmZyT+amZmZmZnJP5qZmZmZmbk/mpmZmZmZuT8AAAAAAADgP5qZmZmZmck/AAAAAAAAAACamZmZmZnZP5qZmZmZmbk/mpmZmZmZuT8=",
          "dtype": "f8"
         },
         "yaxis": "y14"
        },
        {
         "name": "TOV",
         "showlegend": false,
         "type": "box",
         "xaxis": "x15",
         "y": {
          "bdata": "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",
          "dtype": "f8"
         },
         "yaxis": "y15"
        },
        {
         "name": "TARGET_5Yrs",
         "showlegend": false,
         "type": "box",
         "xaxis": "x16",
         "y": {
          "bdata": "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",
          "dtype": "f8"
         },
         "yaxis": "y16"
        },
        {
         "name": "3P%_capped",
         "showlegend": false,
         "type": "box",
         "xaxis": "x17",
         "y": {
          "bdata": "AQEBAQEBAQEBAQEBAQEBAQEBAQEBAQEBAQEBAQEBAQEBAQEBAQEBAQEBAQEBAQEBAQEBAQEBAQEBAQEBAQEBAQEBAQEBAQEBAQEBAQEBAQEBAQEBAQEBAQEBAQEBAQEBAQEBAQEBAQEBAQEBAQEBAQEBAQEBAQEBAQEBAQEBAQEBAQEBAQEBAQEBAQEBAQEBAQEBAQEBAQEBAQEBAQEBAQEBAQEBAQEBAQEBAQEBAQEBAQEBAQEBAQEBAQEBAQEBAQEBAQEBAQEBAQEBAQEBAQEBAQEBAQEBAQEBAQEBAQEBAQEBAQEBAQEBAQEBAQEBAQEBAQEBAQEBAQEBAQEBAQEBAQEBAQEBAQEBAQEBAQEBAQEBAQEBAQEBAQEBAQEBAQEBAQEBAQEBAQEBAQEBAQEBAQEBAQEBAQEBAQEBAQEBAQEBAQEBAQEBAQEBAQEBAQEBAQEBAQEBAQEBAQEBAQEBAQEBAQEBAQEBAQEBAQEBAQEBAQEBAQEBAQEBAQEBAQEBAQEBAQEBAQEBAQEBAQEBAQEBAQEBAQEBAQEBAQEBAQEBAQEBAQEBAQEBAQEBAQEBAQEBAQEBAQEBAQEBAQEBAQEBAQEBAQEBAQEBAQEBAQEBAQEBAQEBAQEBAQEBAQEBAQEBAQEBAQEBAQEBAQEBAQEBAQEBAQEBAQEBAQEBAQEBAQEBAQEBAQEBAQEBAQEBAQEBAQEBAQEBAQEBAQEBAQEBAQEBAQEBAQEBAQEBAQEBAQEBAQEBAQEBAQEBAQEBAQEBAQEBAQEBAQEBAQEBAQEBAQEBAQEBAQEBAQEBAQEBAQEBAQEBAQEBAQEBAQEBAQEBAQEBAQEBAQEBAQEBAQEBAQEBAQEBAQEBAQEBAQEBAQEBAQEBAQEBAQEBAQEBAQEBAQEBAQEBAQEBAQEBAQEBAQEBAQEBAQEBAQEBAQEBAQEBAQEBAQEBAQEBAQEBAQEBAQEBAQEBAQEBAQEBAQEBAQEBAQEBAQEBAQEBAQEBAQEBAQEBAQEBAQEBAQEBAQEBAQEBAQEBAQEBAQEBAQEBAQEBAQEBAQEBAQEBAQEBAQEBAQEBAQEBAQEBAQEBAQEBAQEBAQEBAQEBAQEBAQEBAQEBAQEBAQEBAQEBAQEBAQEBAQEBAQEBAQEBAQEBAQEBAQEBAQEBAQEBAQEBAQEBAQEBAQEBAQEBAQEBAQEBAQEBAQEBAQEBAQEBAQEBAQEBAQEBAQEBAQEBAQEBAQEBAQEBAQEBAQEBAQEBAQEBAQEBAQEBAQEBAQEBAQEBAQEBAQEBAQEBAQEBAQEBAQEBAQEBAQEBAQEBAQEBAQEBAQEBAQEBAQEBAQEBAQEBAQEBAQEBAQEBAQEBAQEBAQEBAQEBAQEBAQEBAQEBAQEBAQEBAQEBAQEBAQEBAQEBAQEBAQEBAQEBAQEBAQEBAQEBAQEBAQEBAQEBAQEBAQEBAQEBAQEBAQEBAQEBAQEBAQEBAQEBAQEBAQEBAQEBAQEBAQEBAQEBAQEBAQEBAQEBAQEBAQEBAQEBAQEBAQEBAQEBAQEBAQEBAQEBAQEBAQEBAQEBAQEBAQEBAQEBAQEBAQEBAQEBAQEBAQEBAQEBAQEBAQEBAQEBAQEBAQEBAQEBAQEBAQEBAQEBAQEBAQEBAQEBAQEBAQEBAQEBAQEBAQEBAQEBAQEBAQEBAQEBAQEBAQEBAQEBAQEBAQEBAQEBAQEBAQ==",
          "dtype": "i1"
         },
         "yaxis": "y17"
        },
        {
         "name": "3PA_capped",
         "showlegend": false,
         "type": "box",
         "xaxis": "x18",
         "y": {
          "bdata": "AQEBAQEBAQEBAQEBAQEBAQEBAQEBAQEBAQEBAQEBAQEBAQEBAQEBAQEBAQEBAQEBAQEBAQEBAQEBAQEBAQEBAQEBAQEBAQEBAQEBAQEBAQEBAQEBAQEBAQEBAQEBAQEBAQEBAQEBAQEBAQEBAQEBAQEBAQEBAQEBAQEBAQEBAQEBAQEBAQEBAQEBAQEBAQEBAQEBAQEBAQEBAQEBAQEBAQEBAQEBAQEBAQEBAQEBAQEBAQEBAQEBAQEBAQEBAQEBAQEBAQEBAQEBAQEBAQEBAQEBAQEBAQEBAQEBAQEBAQEBAQEBAQEBAQEBAQEBAQEBAQEBAQEBAQEBAQEBAQEBAQEBAQEBAQEBAQEBAQEBAQEBAQEBAQEBAQEBAQEBAQEBAQEBAQEBAQEBAQEBAQEBAQEBAQEBAQEBAQEBAQEBAQEBAQEBAQEBAQEBAQEBAQEBAQEBAQEBAQEBAQEBAQEBAQEBAQEBAQEBAQEBAQEBAQEBAQEBAQEBAQEBAQEBAQEBAQEBAQEBAQEBAQEBAQEBAQEBAQEBAQEBAQEBAQEBAQEBAQEBAQEBAQEBAQEBAQEBAQEBAQEBAQEBAQEBAQEBAQEBAQEBAQEBAQEBAQEBAQEBAQEBAQEBAQEBAQEBAQEBAQEBAQEBAQEBAQEBAQEBAQEBAQEBAQEBAQEBAQEBAQEBAQEBAQEBAQEBAQEBAQEBAQEBAQEBAQEBAQEBAQEBAQEBAQEBAQEBAQEBAQEBAQEBAQEBAQEBAQEBAQEBAQEBAQEBAQEBAQEBAQEBAQEBAQEBAQEBAQEBAQEBAQEBAQEBAQEBAQEBAQEBAQEBAQEBAQEBAQEBAQEBAQEBAQEBAQEBAQEBAQEBAQEBAQEBAQEBAQEBAQEBAQEBAQEBAQEBAQEBAQEBAQEBAQEBAQEBAQEBAQEBAQEBAQEBAQEBAQEBAQEBAQEBAQEBAQEBAQEBAQEBAQEBAQEBAQEBAQEBAQEBAQEBAQEBAQEBAQEBAQEBAQEBAQEBAQEBAQEBAQEBAQEBAQEBAQEBAQEBAQEBAQEBAQEBAQEBAQEBAQEBAQEBAQEBAQEBAQEBAQEBAQEBAQEBAQEBAQEBAQEBAQEBAQEBAQEBAQEBAQEBAQEBAQEBAQEBAQEBAQEBAQEBAQEBAQEBAQEBAQEBAQEBAQEBAQEBAQEBAQEBAQEBAQEBAQEBAQEBAQEBAQEBAQEBAQEBAQEBAQEBAQEBAQEBAQEBAQEBAQEBAQEBAQEBAQEBAQEBAQEBAQEBAQEBAQEBAQEBAQEBAQEBAQEBAQEBAQEBAQEBAQEBAQEBAQEBAQEBAQEBAQEBAQEBAQEBAQEBAQEBAQEBAQEBAQEBAQEBAQEBAQEBAQEBAQEBAQEBAQEBAQEBAQEBAQEBAQEBAQEBAQEBAQEBAQEBAQEBAQEBAQEBAQEBAQEBAQEBAQEBAQEBAQEBAQEBAQEBAQEBAQEBAQEBAQEBAQEBAQEBAQEBAQEBAQEBAQEBAQEBAQEBAQEBAQEBAQEBAQEBAQEBAQEBAQEBAQEBAQEBAQEBAQEBAQEBAQEBAQEBAQEBAQEBAQEBAQEBAQEBAQEBAQEBAQEBAQEBAQEBAQEBAQEBAQEBAQEBAQEBAQEBAQEBAQEBAQEBAQEBAQEBAQEBAQEBAQEBAQEBAQEBAQEBAQEBAQEBAQEBAQEBAQEBAQEBAQEBAQEBAQEBAQEBAQEBAQ==",
          "dtype": "i1"
         },
         "yaxis": "y18"
        },
        {
         "name": "AST_capped",
         "showlegend": false,
         "type": "box",
         "xaxis": "x19",
         "y": {
          "bdata": "AQEBAQEBAQEBAQEBAQEBAQEBAQEBAQEBAQEBAQEBAQEBAQEBAQEBAQEBAQEBAQEBAQEBAQEBAQEBAQEBAQEBAQEBAQEBAQEBAQEBAQEBAQEBAQEBAQEBAQEBAQEBAQEBAQEBAQEBAQEBAQEBAQEBAQEBAQEBAQEBAQEBAQEBAQEBAQEBAQEBAQEBAQEBAQEBAQEBAQEBAQEBAQEBAQEBAQEBAQEBAQEBAQEBAQEBAQEBAQEBAQEBAQEBAQEBAQEBAQEBAQEBAQEBAQEBAQEBAQEBAQEBAQEBAQEBAQEBAQEBAQEBAQEBAQEBAQEBAQEBAQEBAQEBAQEBAQEBAQEBAQEBAQEBAQEBAQEBAQEBAQEBAQEBAQEBAQEBAQEBAQEBAQEBAQEBAQEBAQEBAQEBAQEBAQEBAQEBAQEBAQEBAQEBAQEBAQEBAQEBAQEBAQEBAQEBAQEBAQEBAQEBAQEBAQEBAQEBAQEBAQEBAQEBAQEBAQEBAQEBAQEBAQEBAQEBAQEBAQEBAQEBAQEBAQEBAQEBAQEBAQEBAQEBAQEBAQEBAQEBAQEBAQEBAQEBAQEBAQEBAQEBAQEBAQEBAQEBAQEBAQEBAQEBAQEBAQEBAQEBAQEBAQEBAQEBAQEBAQEBAQEBAQEBAQEBAQEBAQEBAQEBAQEBAQEBAQEBAQEBAQEBAQEBAQEBAQEBAQEBAQEBAQEBAQEBAQEBAQEBAQEBAQEBAQEBAQEBAQEBAQEBAQEBAQEBAQEBAQEBAQEBAQEBAQEBAQEBAQEBAQEBAQEBAQEBAQEBAQEBAQEBAQEBAQEBAQEBAQEBAQEBAQEBAQEBAQEBAQEBAQEBAQEBAQEBAQEBAQEBAQEBAQEBAQEBAQEBAQEBAQEBAQEBAQEBAQEBAQEBAQEBAQEBAQEBAQEBAQEBAQEBAQEBAQEBAQEBAQEBAQEBAQEBAQEBAQEBAQEBAQEBAQEBAQEBAQEBAQEBAQEBAQEBAQEBAQEBAQEBAQEBAQEBAQEBAQEBAQEBAQEBAQEBAQEBAQEBAQEBAQEBAQEBAQEBAQEBAQEBAQEBAQEBAQEBAQEBAQEBAQEBAQEBAQEBAQEBAQEBAQEBAQEBAQEBAQEBAQEBAQEBAQEBAQEBAQEBAQEBAQEBAQEBAQEBAQEBAQEBAQEBAQEBAQEBAQEBAQEBAQEBAQEBAQEBAQEBAQEBAQEBAQEBAQEBAQEBAQEBAQEBAQEBAQEBAQEBAQEBAQEBAQEBAQEBAQEBAQEBAQEBAQEBAQEBAQEBAQEBAQEBAQEBAQEBAQEBAQEBAQEBAQEBAQEBAQEBAQEBAQEBAQEBAQEBAQEBAQEBAQEBAQEBAQEBAQEBAQEBAQEBAQEBAQEBAQEBAQEBAQEBAQEBAQEBAQEBAQEBAQEBAQEBAQEBAQEBAQEBAQEBAQEBAQEBAQEBAQEBAQEBAQEBAQEBAQEBAQEBAQEBAQEBAQEBAQEBAQEBAQEBAQEBAQEBAQEBAQEBAQEBAQEBAQEBAQEBAQEBAQEBAQEBAQEBAQEBAQEBAQEBAQEBAQEBAQEBAQEBAQEBAQEBAQEBAQEBAQEBAQEBAQEBAQEBAQEBAQEBAQEBAQEBAQEBAQEBAQEBAQEBAQEBAQEBAQEBAQEBAQEBAQEBAQEBAQEBAQEBAQEBAQEBAQEBAQEBAQEBAQEBAQEBAQEBAQEBAQEBAQEBAQEBAQEBAQEBAQ==",
          "dtype": "i1"
         },
         "yaxis": "y19"
        },
        {
         "name": "BLK_capped",
         "showlegend": false,
         "type": "box",
         "xaxis": "x20",
         "y": {
          "bdata": "AQEBAQEBAQEBAQEBAQEBAQEBAQEBAQEBAQEBAQEBAQEBAQEBAQEBAQEBAQEBAQEBAQEBAQEBAQEBAQEBAQEBAQEBAQEBAQEBAQEBAQEBAQEBAQEBAQEBAQEBAQEBAQEBAQEBAQEBAQEBAQEBAQEBAQEBAQEBAQEBAQEBAQEBAQEBAQEBAQEBAQEBAQEBAQEBAQEBAQEBAQEBAQEBAQEBAQEBAQEBAQEBAQEBAQEBAQEBAQEBAQEBAQEBAQEBAQEBAQEBAQEBAQEBAQEBAQEBAQEBAQEBAQEBAQEBAQEBAQEBAQEBAQEBAQEBAQEBAQEBAQEBAQEBAQEBAQEBAQEBAQEBAQEBAQEBAQEBAQEBAQEBAQEBAQEBAQEBAQEBAQEBAQEBAQEBAQEBAQEBAQEBAQEBAQEBAQEBAQEBAQEBAQEBAQEBAQEBAQEBAQEBAQEBAQEBAQEBAQEBAQEBAQEBAQEBAQEBAQEBAQEBAQEBAQEBAQEBAQEBAQEBAQEBAQEBAQEBAQEBAQEBAQEBAQEBAQEBAQEBAQEBAQEBAQEBAQEBAQEBAQEBAQEBAQEBAQEBAQEBAQEBAQEBAQEBAQEBAQEBAQEBAQEBAQEBAQEBAQEBAQEBAQEBAQEBAQEBAQEBAQEBAQEBAQEBAQEBAQEBAQEBAQEBAQEBAQEBAQEBAQEBAQEBAQEBAQEBAQEBAQEBAQEBAQEBAQEBAQEBAQEBAQEBAQEBAQEBAQEBAQEBAQEBAQEBAQEBAQEBAQEBAQEBAQEBAQEBAQEBAQEBAQEBAQEBAQEBAQEBAQEBAQEBAQEBAQEBAQEBAQEBAQEBAQEBAQEBAQEBAQEBAQEBAQEBAQEBAQEBAQEBAQEBAQEBAQEBAQEBAQEBAQEBAQEBAQEBAQEBAQEBAQEBAQEBAQEBAQEBAQEBAQEBAQEBAQEBAQEBAQEBAQEBAQEBAQEBAQEBAQEBAQEBAQEBAQEBAQEBAQEBAQEBAQEBAQEBAQEBAQEBAQEBAQEBAQEBAQEBAQEBAQEBAQEBAQEBAQEBAQEBAQEBAQEBAQEBAQEBAQEBAQEBAQEBAQEBAQEBAQEBAQEBAQEBAQEBAQEBAQEBAQEBAQEBAQEBAQEBAQEBAQEBAQEBAQEBAQEBAQEBAQEBAQEBAQEBAQEBAQEBAQEBAQEBAQEBAQEBAQEBAQEBAQEBAQEBAQEBAQEBAQEBAQEBAQEBAQEBAQEBAQEBAQEBAQEBAQEBAQEBAQEBAQEBAQEBAQEBAQEBAQEBAQEBAQEBAQEBAQEBAQEBAQEBAQEBAQEBAQEBAQEBAQEBAQEBAQEBAQEBAQEBAQEBAQEBAQEBAQEBAQEBAQEBAQEBAQEBAQEBAQEBAQEBAQEBAQEBAQEBAQEBAQEBAQEBAQEBAQEBAQEBAQEBAQEBAQEBAQEBAQEBAQEBAQEBAQEBAQEBAQEBAQEBAQEBAQEBAQEBAQEBAQEBAQEBAQEBAQEBAQEBAQEBAQEBAQEBAQEBAQEBAQEBAQEBAQEBAQEBAQEBAQEBAQEBAQEBAQEBAQEBAQEBAQEBAQEBAQEBAQEBAQEBAQEBAQEBAQEBAQEBAQEBAQEBAQEBAQEBAQEBAQEBAQEBAQEBAQEBAQEBAQEBAQEBAQEBAQEBAQEBAQEBAQEBAQEBAQEBAQEBAQEBAQEBAQEBAQEBAQEBAQEBAQEBAQEBAQEBAQEBAQEBAQEBAQ==",
          "dtype": "i1"
         },
         "yaxis": "y20"
        },
        {
         "name": "FG%_capped",
         "showlegend": false,
         "type": "box",
         "xaxis": "x21",
         "y": {
          "bdata": "AQEBAQEBAQEBAQEBAQEBAQEBAQEBAQEBAQEBAQEBAQEBAQEBAQEBAQEBAQEBAQEBAQEBAQEBAQEBAQEBAQEBAQEBAQEBAQEBAQEBAQEBAQEBAQEBAQEBAQEBAQEBAQEBAQEBAQEBAQEBAQEBAQEBAQEBAQEBAQEBAQEBAQEBAQEBAQEBAQEBAQEBAQEBAQEBAQEBAQEBAQEBAQEBAQEBAQEBAQEBAQEBAQEBAQEBAQEBAQEBAQEBAQEBAQEBAQEBAQEBAQEBAQEBAQEBAQEBAQEBAQEBAQEBAQEBAQEBAQEBAQEBAQEBAQEBAQEBAQEBAQEBAQEBAQEBAQEBAQEBAQEBAQEBAQEBAQEBAQEBAQEBAQEBAQEBAQEBAQEBAQEBAQEBAQEBAQEBAQEBAQEBAQEBAQEBAQEBAQEBAQEBAQEBAQEBAQEBAQEBAQEBAQEBAQEBAQEBAQEBAQEBAQEBAQEBAQEBAQEBAQEBAQEBAQEBAQEBAQEBAQEBAQEBAQEBAQEBAQEBAQEBAQEBAQEBAQEBAQEBAQEBAQEBAQEBAQEBAQEBAQEBAQEBAQEBAQEBAQEBAQEBAQEBAQEBAQEBAQEBAQEBAQEBAQEBAQEBAQEBAQEBAQEBAQEBAQEBAQEBAQEBAQEBAQEBAQEBAQEBAQEBAQEBAQEBAQEBAQEBAQEBAQEBAQEBAQEBAQEBAQEBAQEBAQEBAQEBAQEBAQEBAQEBAQEBAQEBAQEBAQEBAQEBAQEBAQEBAQEBAQEBAQEBAQEBAQEBAQEBAQEBAQEBAQEBAQEBAQEBAQEBAQEBAQEBAQEBAQEBAQEBAQEBAQEBAQEBAQEBAQEBAQEBAQEBAQEBAQEBAQEBAQEBAQEBAQEBAQEBAQEBAQEBAQEBAQEBAQEBAQEBAQEBAQEBAQEBAQEBAQEBAQEBAQEBAQEBAQEBAQEBAQEBAQEBAQEBAQEBAQEBAQEBAQEBAQEBAQEBAQEBAQEBAQEBAQEBAQEBAQEBAQEBAQEBAQEBAQEBAQEBAQEBAQEBAQEBAQEBAQEBAQEBAQEBAQEBAQEBAQEBAQEBAQEBAQEBAQEBAQEBAQEBAQEBAQEBAQEBAQEBAQEBAQEBAQEBAQEBAQEBAQEBAQEBAQEBAQEBAQEBAQEBAQEBAQEBAQEBAQEBAQEBAQEBAQEBAQEBAQEBAQEBAQEBAQEBAQEBAQEBAQEBAQEBAQEBAQEBAQEBAQEBAQEBAQEBAQEBAQEBAQEBAQEBAQEBAQEBAQEBAQEBAQEBAQEBAQEBAQEBAQEBAQEBAQEBAQEBAQEBAQEBAQEBAQEBAQEBAQEBAQEBAQEBAQEBAQEBAQEBAQEBAQEBAQEBAQEBAQEBAQEBAQEBAQEBAQEBAQEBAQEBAQEBAQEBAQEBAQEBAQEBAQEBAQEBAQEBAQEBAQEBAQEBAQEBAQEBAQEBAQEBAQEBAQEBAQEBAQEBAQEBAQEBAQEBAQEBAQEBAQEBAQEBAQEBAQEBAQEBAQEBAQEBAQEBAQEBAQEBAQEBAQEBAQEBAQEBAQEBAQEBAQEBAQEBAQEBAQEBAQEBAQEBAQEBAQEBAQEBAQEBAQEBAQEBAQEBAQEBAQEBAQEBAQEBAQEBAQEBAQEBAQEBAQEBAQEBAQEBAQEBAQEBAQEBAQEBAQEBAQEBAQEBAQEBAQEBAQEBAQEBAQEBAQEBAQEBAQEBAQEBAQEBAQEBAQ==",
          "dtype": "i1"
         },
         "yaxis": "y21"
        },
        {
         "name": "FGA_capped",
         "showlegend": false,
         "type": "box",
         "xaxis": "x22",
         "y": {
          "bdata": "AQEBAQEBAQEBAQEBAQEBAQEBAQEBAQEBAQEBAQEBAQEBAQEBAQEBAQEBAQEBAQEBAQEBAQEBAQEBAQEBAQEBAQEBAQEBAQEBAQEBAQEBAQEBAQEBAQEBAQEBAQEBAQEBAQEBAQEBAQEBAQEBAQEBAQEBAQEBAQEBAQEBAQEBAQEBAQEBAQEBAQEBAQEBAQEBAQEBAQEBAQEBAQEBAQEBAQEBAQEBAQEBAQEBAQEBAQEBAQEBAQEBAQEBAQEBAQEBAQEBAQEBAQEBAQEBAQEBAQEBAQEBAQEBAQEBAQEBAQEBAQEBAQEBAQEBAQEBAQEBAQEBAQEBAQEBAQEBAQEBAQEBAQEBAQEBAQEBAQEBAQEBAQEBAQEBAQEBAQEBAQEBAQEBAQEBAQEBAQEBAQEBAQEBAQEBAQEBAQEBAQEBAQEBAQEBAQEBAQEBAQEBAQEBAQEBAQEBAQEBAQEBAQEBAQEBAQEBAQEBAQEBAQEBAQEBAQEBAQEBAQEBAQEBAQEBAQEBAQEBAQEBAQEBAQEBAQEBAQEBAQEBAQEBAQEBAQEBAQEBAQEBAQEBAQEBAQEBAQEBAQEBAQEBAQEBAQEBAQEBAQEBAQEBAQEBAQEBAQEBAQEBAQEBAQEBAQEBAQEBAQEBAQEBAQEBAQEBAQEBAQEBAQEBAQEBAQEBAQEBAQEBAQEBAQEBAQEBAQEBAQEBAQEBAQEBAQEBAQEBAQEBAQEBAQEBAQEBAQEBAQEBAQEBAQEBAQEBAQEBAQEBAQEBAQEBAQEBAQEBAQEBAQEBAQEBAQEBAQEBAQEBAQEBAQEBAQEBAQEBAQEBAQEBAQEBAQEBAQEBAQEBAQEBAQEBAQEBAQEBAQEBAQEBAQEBAQEBAQEBAQEBAQEBAQEBAQEBAQEBAQEBAQEBAQEBAQEBAQEBAQEBAQEBAQEBAQEBAQEBAQEBAQEBAQEBAQEBAQEBAQEBAQEBAQEBAQEBAQEBAQEBAQEBAQEBAQEBAQEBAQEBAQEBAQEBAQEBAQEBAQEBAQEBAQEBAQEBAQEBAQEBAQEBAQEBAQEBAQEBAQEBAQEBAQEBAQEBAQEBAQEBAQEBAQEBAQEBAQEBAQEBAQEBAQEBAQEBAQEBAQEBAQEBAQEBAQEBAQEBAQEBAQEBAQEBAQEBAQEBAQEBAQEBAQEBAQEBAQEBAQEBAQEBAQEBAQEBAQEBAQEBAQEBAQEBAQEBAQEBAQEBAQEBAQEBAQEBAQEBAQEBAQEBAQEBAQEBAQEBAQEBAQEBAQEBAQEBAQEBAQEBAQEBAQEBAQEBAQEBAQEBAQEBAQEBAQEBAQEBAQEBAQEBAQEBAQEBAQEBAQEBAQEBAQEBAQEBAQEBAQEBAQEBAQEBAQEBAQEBAQEBAQEBAQEBAQEBAQEBAQEBAQEBAQEBAQEBAQEBAQEBAQEBAQEBAQEBAQEBAQEBAQEBAQEBAQEBAQEBAQEBAQEBAQEBAQEBAQEBAQEBAQEBAQEBAQEBAQEBAQEBAQEBAQEBAQEBAQEBAQEBAQEBAQEBAQEBAQEBAQEBAQEBAQEBAQEBAQEBAQEBAQEBAQEBAQEBAQEBAQEBAQEBAQEBAQEBAQEBAQEBAQEBAQEBAQEBAQEBAQEBAQEBAQEBAQEBAQEBAQEBAQEBAQEBAQEBAQEBAQEBAQEBAQEBAQEBAQEBAQEBAQEBAQEBAQEBAQEBAQEBAQEBAQEBAQEBAQ==",
          "dtype": "i1"
         },
         "yaxis": "y22"
        },
        {
         "name": "FT%_capped",
         "showlegend": false,
         "type": "box",
         "xaxis": "x23",
         "y": {
          "bdata": "AQEBAQEBAQEBAQEBAQEBAQEBAQEBAQEBAQEBAQEBAQEBAQEBAQEBAQEBAQEBAQEBAQEBAQEBAQEBAQEBAQEBAQEBAQEBAQEBAQEBAQEBAQEBAQEBAQEBAQEBAQEBAQEBAQEBAQEBAQEBAQEBAQEBAQEBAQEBAQEBAQEBAQEBAQEBAQEBAQEBAQEBAQEBAQEBAQEBAQEBAQEBAQEBAQEBAQEBAQEBAQEBAQEBAQEBAQEBAQEBAQEBAQEBAQEBAQEBAQEBAQEBAQEBAQEBAQEBAQEBAQEBAQEBAQEBAQEBAQEBAQEBAQEBAQEBAQEBAQEBAQEBAQEBAQEBAQEBAQEBAQEBAQEBAQEBAQEBAQEBAQEBAQEBAQEBAQEBAQEBAQEBAQEBAQEBAQEBAQEBAQEBAQEBAQEBAQEBAQEBAQEBAQEBAQEBAQEBAQEBAQEBAQEBAQEBAQEBAQEBAQEBAQEBAQEBAQEBAQEBAQEBAQEBAQEBAQEBAQEBAQEBAQEBAQEBAQEBAQEBAQEBAQEBAQEBAQEBAQEBAQEBAQEBAQEBAQEBAQEBAQEBAQEBAQEBAQEBAQEBAQEBAQEBAQEBAQEBAQEBAQEBAQEBAQEBAQEBAQEBAQEBAQEBAQEBAQEBAQEBAQEBAQEBAQEBAQEBAQEBAQEBAQEBAQEBAQEBAQEBAQEBAQEBAQEBAQEBAQEBAQEBAQEBAQEBAQEBAQEBAQEBAQEBAQEBAQEBAQEBAQEBAQEBAQEBAQEBAQEBAQEBAQEBAQEBAQEBAQEBAQEBAQEBAQEBAQEBAQEBAQEBAQEBAQEBAQEBAQEBAQEBAQEBAQEBAQEBAQEBAQEBAQEBAQEBAQEBAQEBAQEBAQEBAQEBAQEBAQEBAQEBAQEBAQEBAQEBAQEBAQEBAQEBAQEBAQEBAQEBAQEBAQEBAQEBAQEBAQEBAQEBAQEBAQEBAQEBAQEBAQEBAQEBAQEBAQEBAQEBAQEBAQEBAQEBAQEBAQEBAQEBAQEBAQEBAQEBAQEBAQEBAQEBAQEBAQEBAQEBAQEBAQEBAQEBAQEBAQEBAQEBAQEBAQEBAQEBAQEBAQEBAQEBAQEBAQEBAQEBAQEBAQEBAQEBAQEBAQEBAQEBAQEBAQEBAQEBAQEBAQEBAQEBAQEBAQEBAQEBAQEBAQEBAQEBAQEBAQEBAQEBAQEBAQEBAQEBAQEBAQEBAQEBAQEBAQEBAQEBAQEBAQEBAQEBAQEBAQEBAQEBAQEBAQEBAQEBAQEBAQEBAQEBAQEBAQEBAQEBAQEBAQEBAQEBAQEBAQEBAQEBAQEBAQEBAQEBAQEBAQEBAQEBAQEBAQEBAQEBAQEBAQEBAQEBAQEBAQEBAQEBAQEBAQEBAQEBAQEBAQEBAQEBAQEBAQEBAQEBAQEBAQEBAQEBAQEBAQEBAQEBAQEBAQEBAQEBAQEBAQEBAQEBAQEBAQEBAQEBAQEBAQEBAQEBAQEBAQEBAQEBAQEBAQEBAQEBAQEBAQEBAQEBAQEBAQEBAQEBAQEBAQEBAQEBAQEBAQEBAQEBAQEBAQEBAQEBAQEBAQEBAQEBAQEBAQEBAQEBAQEBAQEBAQEBAQEBAQEBAQEBAQEBAQEBAQEBAQEBAQEBAQEBAQEBAQEBAQEBAQEBAQEBAQEBAQEBAQEBAQEBAQEBAQEBAQEBAQEBAQEBAQEBAQEBAQEBAQEBAQEBAQEBAQEBAQEBAQ==",
          "dtype": "i1"
         },
         "yaxis": "y23"
        },
        {
         "name": "FTA_capped",
         "showlegend": false,
         "type": "box",
         "xaxis": "x24",
         "y": {
          "bdata": "AQEBAQEBAQEBAQEBAQEBAQEBAQEBAQEBAQEBAQEBAQEBAQEBAQEBAQEBAQEBAQEBAQEBAQEBAQEBAQEBAQEBAQEBAQEBAQEBAQEBAQEBAQEBAQEBAQEBAQEBAQEBAQEBAQEBAQEBAQEBAQEBAQEBAQEBAQEBAQEBAQEBAQEBAQEBAQEBAQEBAQEBAQEBAQEBAQEBAQEBAQEBAQEBAQEBAQEBAQEBAQEBAQEBAQEBAQEBAQEBAQEBAQEBAQEBAQEBAQEBAQEBAQEBAQEBAQEBAQEBAQEBAQEBAQEBAQEBAQEBAQEBAQEBAQEBAQEBAQEBAQEBAQEBAQEBAQEBAQEBAQEBAQEBAQEBAQEBAQEBAQEBAQEBAQEBAQEBAQEBAQEBAQEBAQEBAQEBAQEBAQEBAQEBAQEBAQEBAQEBAQEBAQEBAQEBAQEBAQEBAQEBAQEBAQEBAQEBAQEBAQEBAQEBAQEBAQEBAQEBAQEBAQEBAQEBAQEBAQEBAQEBAQEBAQEBAQEBAQEBAQEBAQEBAQEBAQEBAQEBAQEBAQEBAQEBAQEBAQEBAQEBAQEBAQEBAQEBAQEBAQEBAQEBAQEBAQEBAQEBAQEBAQEBAQEBAQEBAQEBAQEBAQEBAQEBAQEBAQEBAQEBAQEBAQEBAQEBAQEBAQEBAQEBAQEBAQEBAQEBAQEBAQEBAQEBAQEBAQEBAQEBAQEBAQEBAQEBAQEBAQEBAQEBAQEBAQEBAQEBAQEBAQEBAQEBAQEBAQEBAQEBAQEBAQEBAQEBAQEBAQEBAQEBAQEBAQEBAQEBAQEBAQEBAQEBAQEBAQEBAQEBAQEBAQEBAQEBAQEBAQEBAQEBAQEBAQEBAQEBAQEBAQEBAQEBAQEBAQEBAQEBAQEBAQEBAQEBAQEBAQEBAQEBAQEBAQEBAQEBAQEBAQEBAQEBAQEBAQEBAQEBAQEBAQEBAQEBAQEBAQEBAQEBAQEBAQEBAQEBAQEBAQEBAQEBAQEBAQEBAQEBAQEBAQEBAQEBAQEBAQEBAQEBAQEBAQEBAQEBAQEBAQEBAQEBAQEBAQEBAQEBAQEBAQEBAQEBAQEBAQEBAQEBAQEBAQEBAQEBAQEBAQEBAQEBAQEBAQEBAQEBAQEBAQEBAQEBAQEBAQEBAQEBAQEBAQEBAQEBAQEBAQEBAQEBAQEBAQEBAQEBAQEBAQEBAQEBAQEBAQEBAQEBAQEBAQEBAQEBAQEBAQEBAQEBAQEBAQEBAQEBAQEBAQEBAQEBAQEBAQEBAQEBAQEBAQEBAQEBAQEBAQEBAQEBAQEBAQEBAQEBAQEBAQEBAQEBAQEBAQEBAQEBAQEBAQEBAQEBAQEBAQEBAQEBAQEBAQEBAQEBAQEBAQEBAQEBAQEBAQEBAQEBAQEBAQEBAQEBAQEBAQEBAQEBAQEBAQEBAQEBAQEBAQEBAQEBAQEBAQEBAQEBAQEBAQEBAQEBAQEBAQEBAQEBAQEBAQEBAQEBAQEBAQEBAQEBAQEBAQEBAQEBAQEBAQEBAQEBAQEBAQEBAQEBAQEBAQEBAQEBAQEBAQEBAQEBAQEBAQEBAQEBAQEBAQEBAQEBAQEBAQEBAQEBAQEBAQEBAQEBAQEBAQEBAQEBAQEBAQEBAQEBAQEBAQEBAQEBAQEBAQEBAQEBAQEBAQEBAQEBAQEBAQEBAQEBAQEBAQEBAQEBAQEBAQEBAQEBAQEBAQEBAQEBAQEBAQ==",
          "dtype": "i1"
         },
         "yaxis": "y24"
        },
        {
         "name": "GP_capped",
         "showlegend": false,
         "type": "box",
         "xaxis": "x25",
         "y": {
          "bdata": "AQEBAQEBAQEBAQEBAQEBAQEBAQEBAQEBAQEBAQEBAQEBAQEBAQEBAQEBAQEBAQEBAQEBAQEBAQEBAQEBAQEBAQEBAQEBAQEBAQEBAQEBAQEBAQEBAQEBAQEBAQEBAQEBAQEBAQEBAQEBAQEBAQEBAQEBAQEBAQEBAQEBAQEBAQEBAQEBAQEBAQEBAQEBAQEBAQEBAQEBAQEBAQEBAQEBAQEBAQEBAQEBAQEBAQEBAQEBAQEBAQEBAQEBAQEBAQEBAQEBAQEBAQEBAQEBAQEBAQEBAQEBAQEBAQEBAQEBAQEBAQEBAQEBAQEBAQEBAQEBAQEBAQEBAQEBAQEBAQEBAQEBAQEBAQEBAQEBAQEBAQEBAQEBAQEBAQEBAQEBAQEBAQEBAQEBAQEBAQEBAQEBAQEBAQEBAQEBAQEBAQEBAQEBAQEBAQEBAQEBAQEBAQEBAQEBAQEBAQEBAQEBAQEBAQEBAQEBAQEBAQEBAQEBAQEBAQEBAQEBAQEBAQEBAQEBAQEBAQEBAQEBAQEBAQEBAQEBAQEBAQEBAQEBAQEBAQEBAQEBAQEBAQEBAQEBAQEBAQEBAQEBAQEBAQEBAQEBAQEBAQEBAQEBAQEBAQEBAQEBAQEBAQEBAQEBAQEBAQEBAQEBAQEBAQEBAQEBAQEBAQEBAQEBAQEBAQEBAQEBAQEBAQEBAQEBAQEBAQEBAQEBAQEBAQEBAQEBAQEBAQEBAQEBAQEBAQEBAQEBAQEBAQEBAQEBAQEBAQEBAQEBAQEBAQEBAQEBAQEBAQEBAQEBAQEBAQEBAQEBAQEBAQEBAQEBAQEBAQEBAQEBAQEBAQEBAQEBAQEBAQEBAQEBAQEBAQEBAQEBAQEBAQEBAQEBAQEBAQEBAQEBAQEBAQEBAQEBAQEBAQEBAQEBAQEBAQEBAQEBAQEBAQEBAQEBAQEBAQEBAQEBAQEBAQEBAQEBAQEBAQEBAQEBAQEBAQEBAQEBAQEBAQEBAQEBAQEBAQEBAQEBAQEBAQEBAQEBAQEBAQEBAQEBAQEBAQEBAQEBAQEBAQEBAQEBAQEBAQEBAQEBAQEBAQEBAQEBAQEBAQEBAQEBAQEBAQEBAQEBAQEBAQEBAQEBAQEBAQEBAQEBAQEBAQEBAQEBAQEBAQEBAQEBAQEBAQEBAQEBAQEBAQEBAQEBAQEBAQEBAQEBAQEBAQEBAQEBAQEBAQEBAQEBAQEBAQEBAQEBAQEBAQEBAQEBAQEBAQEBAQEBAQEBAQEBAQEBAQEBAQEBAQEBAQEBAQEBAQEBAQEBAQEBAQEBAQEBAQEBAQEBAQEBAQEBAQEBAQEBAQEBAQEBAQEBAQEBAQEBAQEBAQEBAQEBAQEBAQEBAQEBAQEBAQEBAQEBAQEBAQEBAQEBAQEBAQEBAQEBAQEBAQEBAQEBAQEBAQEBAQEBAQEBAQEBAQEBAQEBAQEBAQEBAQEBAQEBAQEBAQEBAQEBAQEBAQEBAQEBAQEBAQEBAQEBAQEBAQEBAQEBAQEBAQEBAQEBAQEBAQEBAQEBAQEBAQEBAQEBAQEBAQEBAQEBAQEBAQEBAQEBAQEBAQEBAQEBAQEBAQEBAQEBAQEBAQEBAQEBAQEBAQEBAQEBAQEBAQEBAQEBAQEBAQEBAQEBAQEBAQEBAQEBAQEBAQEBAQEBAQEBAQEBAQEBAQEBAQEBAQEBAQEBAQEBAQEBAQEBAQEBAQEBAQEBAQEBAQ==",
          "dtype": "i1"
         },
         "yaxis": "y25"
        },
        {
         "name": "MIN_capped",
         "showlegend": false,
         "type": "box",
         "xaxis": "x26",
         "y": {
          "bdata": "AQEBAQEBAQEBAQEBAQEBAQEBAQEBAQEBAQEBAQEBAQEBAQEBAQEBAQEBAQEBAQEBAQEBAQEBAQEBAQEBAQEBAQEBAQEBAQEBAQEBAQEBAQEBAQEBAQEBAQEBAQEBAQEBAQEBAQEBAQEBAQEBAQEBAQEBAQEBAQEBAQEBAQEBAQEBAQEBAQEBAQEBAQEBAQEBAQEBAQEBAQEBAQEBAQEBAQEBAQEBAQEBAQEBAQEBAQEBAQEBAQEBAQEBAQEBAQEBAQEBAQEBAQEBAQEBAQEBAQEBAQEBAQEBAQEBAQEBAQEBAQEBAQEBAQEBAQEBAQEBAQEBAQEBAQEBAQEBAQEBAQEBAQEBAQEBAQEBAQEBAQEBAQEBAQEBAQEBAQEBAQEBAQEBAQEBAQEBAQEBAQEBAQEBAQEBAQEBAQEBAQEBAQEBAQEBAQEBAQEBAQEBAQEBAQEBAQEBAQEBAQEBAQEBAQEBAQEBAQEBAQEBAQEBAQEBAQEBAQEBAQEBAQEBAQEBAQEBAQEBAQEBAQEBAQEBAQEBAQEBAQEBAQEBAQEBAQEBAQEBAQEBAQEBAQEBAQEBAQEBAQEBAQEBAQEBAQEBAQEBAQEBAQEBAQEBAQEBAQEBAQEBAQEBAQEBAQEBAQEBAQEBAQEBAQEBAQEBAQEBAQEBAQEBAQEBAQEBAQEBAQEBAQEBAQEBAQEBAQEBAQEBAQEBAQEBAQEBAQEBAQEBAQEBAQEBAQEBAQEBAQEBAQEBAQEBAQEBAQEBAQEBAQEBAQEBAQEBAQEBAQEBAQEBAQEBAQEBAQEBAQEBAQEBAQEBAQEBAQEBAQEBAQEBAQEBAQEBAQEBAQEBAQEBAQEBAQEBAQEBAQEBAQEBAQEBAQEBAQEBAQEBAQEBAQEBAQEBAQEBAQEBAQEBAQEBAQEBAQEBAQEBAQEBAQEBAQEBAQEBAQEBAQEBAQEBAQEBAQEBAQEBAQEBAQEBAQEBAQEBAQEBAQEBAQEBAQEBAQEBAQEBAQEBAQEBAQEBAQEBAQEBAQEBAQEBAQEBAQEBAQEBAQEBAQEBAQEBAQEBAQEBAQEBAQEBAQEBAQEBAQEBAQEBAQEBAQEBAQEBAQEBAQEBAQEBAQEBAQEBAQEBAQEBAQEBAQEBAQEBAQEBAQEBAQEBAQEBAQEBAQEBAQEBAQEBAQEBAQEBAQEBAQEBAQEBAQEBAQEBAQEBAQEBAQEBAQEBAQEBAQEBAQEBAQEBAQEBAQEBAQEBAQEBAQEBAQEBAQEBAQEBAQEBAQEBAQEBAQEBAQEBAQEBAQEBAQEBAQEBAQEBAQEBAQEBAQEBAQEBAQEBAQEBAQEBAQEBAQEBAQEBAQEBAQEBAQEBAQEBAQEBAQEBAQEBAQEBAQEBAQEBAQEBAQEBAQEBAQEBAQEBAQEBAQEBAQEBAQEBAQEBAQEBAQEBAQEBAQEBAQEBAQEBAQEBAQEBAQEBAQEBAQEBAQEBAQEBAQEBAQEBAQEBAQEBAQEBAQEBAQEBAQEBAQEBAQEBAQEBAQEBAQEBAQEBAQEBAQEBAQEBAQEBAQEBAQEBAQEBAQEBAQEBAQEBAQEBAQEBAQEBAQEBAQEBAQEBAQEBAQEBAQEBAQEBAQEBAQEBAQEBAQEBAQEBAQEBAQEBAQEBAQEBAQEBAQEBAQEBAQEBAQEBAQEBAQEBAQEBAQEBAQEBAQEBAQEBAQEBAQEBAQEBAQEBAQEBAQ==",
          "dtype": "i1"
         },
         "yaxis": "y26"
        },
        {
         "name": "OREB_capped",
         "showlegend": false,
         "type": "box",
         "xaxis": "x27",
         "y": {
          "bdata": "AQEBAQEBAQEBAQEBAQEBAQEBAQEBAQEBAQEBAQEBAQEBAQEBAQEBAQEBAQEBAQEBAQEBAQEBAQEBAQEBAQEBAQEBAQEBAQEBAQEBAQEBAQEBAQEBAQEBAQEBAQEBAQEBAQEBAQEBAQEBAQEBAQEBAQEBAQEBAQEBAQEBAQEBAQEBAQEBAQEBAQEBAQEBAQEBAQEBAQEBAQEBAQEBAQEBAQEBAQEBAQEBAQEBAQEBAQEBAQEBAQEBAQEBAQEBAQEBAQEBAQEBAQEBAQEBAQEBAQEBAQEBAQEBAQEBAQEBAQEBAQEBAQEBAQEBAQEBAQEBAQEBAQEBAQEBAQEBAQEBAQEBAQEBAQEBAQEBAQEBAQEBAQEBAQEBAQEBAQEBAQEBAQEBAQEBAQEBAQEBAQEBAQEBAQEBAQEBAQEBAQEBAQEBAQEBAQEBAQEBAQEBAQEBAQEBAQEBAQEBAQEBAQEBAQEBAQEBAQEBAQEBAQEBAQEBAQEBAQEBAQEBAQEBAQEBAQEBAQEBAQEBAQEBAQEBAQEBAQEBAQEBAQEBAQEBAQEBAQEBAQEBAQEBAQEBAQEBAQEBAQEBAQEBAQEBAQEBAQEBAQEBAQEBAQEBAQEBAQEBAQEBAQEBAQEBAQEBAQEBAQEBAQEBAQEBAQEBAQEBAQEBAQEBAQEBAQEBAQEBAQEBAQEBAQEBAQEBAQEBAQEBAQEBAQEBAQEBAQEBAQEBAQEBAQEBAQEBAQEBAQEBAQEBAQEBAQEBAQEBAQEBAQEBAQEBAQEBAQEBAQEBAQEBAQEBAQEBAQEBAQEBAQEBAQEBAQEBAQEBAQEBAQEBAQEBAQEBAQEBAQEBAQEBAQEBAQEBAQEBAQEBAQEBAQEBAQEBAQEBAQEBAQEBAQEBAQEBAQEBAQEBAQEBAQEBAQEBAQEBAQEBAQEBAQEBAQEBAQEBAQEBAQEBAQEBAQEBAQEBAQEBAQEBAQEBAQEBAQEBAQEBAQEBAQEBAQEBAQEBAQEBAQEBAQEBAQEBAQEBAQEBAQEBAQEBAQEBAQEBAQEBAQEBAQEBAQEBAQEBAQEBAQEBAQEBAQEBAQEBAQEBAQEBAQEBAQEBAQEBAQEBAQEBAQEBAQEBAQEBAQEBAQEBAQEBAQEBAQEBAQEBAQEBAQEBAQEBAQEBAQEBAQEBAQEBAQEBAQEBAQEBAQEBAQEBAQEBAQEBAQEBAQEBAQEBAQEBAQEBAQEBAQEBAQEBAQEBAQEBAQEBAQEBAQEBAQEBAQEBAQEBAQEBAQEBAQEBAQEBAQEBAQEBAQEBAQEBAQEBAQEBAQEBAQEBAQEBAQEBAQEBAQEBAQEBAQEBAQEBAQEBAQEBAQEBAQEBAQEBAQEBAQEBAQEBAQEBAQEBAQEBAQEBAQEBAQEBAQEBAQEBAQEBAQEBAQEBAQEBAQEBAQEBAQEBAQEBAQEBAQEBAQEBAQEBAQEBAQEBAQEBAQEBAQEBAQEBAQEBAQEBAQEBAQEBAQEBAQEBAQEBAQEBAQEBAQEBAQEBAQEBAQEBAQEBAQEBAQEBAQEBAQEBAQEBAQEBAQEBAQEBAQEBAQEBAQEBAQEBAQEBAQEBAQEBAQEBAQEBAQEBAQEBAQEBAQEBAQEBAQEBAQEBAQEBAQEBAQEBAQEBAQEBAQEBAQEBAQEBAQEBAQEBAQEBAQEBAQEBAQEBAQEBAQEBAQEBAQEBAQEBAQEBAQEBAQEBAQ==",
          "dtype": "i1"
         },
         "yaxis": "y27"
        },
        {
         "name": "PTS_capped",
         "showlegend": false,
         "type": "box",
         "xaxis": "x28",
         "y": {
          "bdata": "AQEBAQEBAQEBAQEBAQEBAQEBAQEBAQEBAQEBAQEBAQEBAQEBAQEBAQEBAQEBAQEBAQEBAQEBAQEBAQEBAQEBAQEBAQEBAQEBAQEBAQEBAQEBAQEBAQEBAQEBAQEBAQEBAQEBAQEBAQEBAQEBAQEBAQEBAQEBAQEBAQEBAQEBAQEBAQEBAQEBAQEBAQEBAQEBAQEBAQEBAQEBAQEBAQEBAQEBAQEBAQEBAQEBAQEBAQEBAQEBAQEBAQEBAQEBAQEBAQEBAQEBAQEBAQEBAQEBAQEBAQEBAQEBAQEBAQEBAQEBAQEBAQEBAQEBAQEBAQEBAQEBAQEBAQEBAQEBAQEBAQEBAQEBAQEBAQEBAQEBAQEBAQEBAQEBAQEBAQEBAQEBAQEBAQEBAQEBAQEBAQEBAQEBAQEBAQEBAQEBAQEBAQEBAQEBAQEBAQEBAQEBAQEBAQEBAQEBAQEBAQEBAQEBAQEBAQEBAQEBAQEBAQEBAQEBAQEBAQEBAQEBAQEBAQEBAQEBAQEBAQEBAQEBAQEBAQEBAQEBAQEBAQEBAQEBAQEBAQEBAQEBAQEBAQEBAQEBAQEBAQEBAQEBAQEBAQEBAQEBAQEBAQEBAQEBAQEBAQEBAQEBAQEBAQEBAQEBAQEBAQEBAQEBAQEBAQEBAQEBAQEBAQEBAQEBAQEBAQEBAQEBAQEBAQEBAQEBAQEBAQEBAQEBAQEBAQEBAQEBAQEBAQEBAQEBAQEBAQEBAQEBAQEBAQEBAQEBAQEBAQEBAQEBAQEBAQEBAQEBAQEBAQEBAQEBAQEBAQEBAQEBAQEBAQEBAQEBAQEBAQEBAQEBAQEBAQEBAQEBAQEBAQEBAQEBAQEBAQEBAQEBAQEBAQEBAQEBAQEBAQEBAQEBAQEBAQEBAQEBAQEBAQEBAQEBAQEBAQEBAQEBAQEBAQEBAQEBAQEBAQEBAQEBAQEBAQEBAQEBAQEBAQEBAQEBAQEBAQEBAQEBAQEBAQEBAQEBAQEBAQEBAQEBAQEBAQEBAQEBAQEBAQEBAQEBAQEBAQEBAQEBAQEBAQEBAQEBAQEBAQEBAQEBAQEBAQEBAQEBAQEBAQEBAQEBAQEBAQEBAQEBAQEBAQEBAQEBAQEBAQEBAQEBAQEBAQEBAQEBAQEBAQEBAQEBAQEBAQEBAQEBAQEBAQEBAQEBAQEBAQEBAQEBAQEBAQEBAQEBAQEBAQEBAQEBAQEBAQEBAQEBAQEBAQEBAQEBAQEBAQEBAQEBAQEBAQEBAQEBAQEBAQEBAQEBAQEBAQEBAQEBAQEBAQEBAQEBAQEBAQEBAQEBAQEBAQEBAQEBAQEBAQEBAQEBAQEBAQEBAQEBAQEBAQEBAQEBAQEBAQEBAQEBAQEBAQEBAQEBAQEBAQEBAQEBAQEBAQEBAQEBAQEBAQEBAQEBAQEBAQEBAQEBAQEBAQEBAQEBAQEBAQEBAQEBAQEBAQEBAQEBAQEBAQEBAQEBAQEBAQEBAQEBAQEBAQEBAQEBAQEBAQEBAQEBAQEBAQEBAQEBAQEBAQEBAQEBAQEBAQEBAQEBAQEBAQEBAQEBAQEBAQEBAQEBAQEBAQEBAQEBAQEBAQEBAQEBAQEBAQEBAQEBAQEBAQEBAQEBAQEBAQEBAQEBAQEBAQEBAQEBAQEBAQEBAQEBAQEBAQEBAQEBAQEBAQEBAQEBAQEBAQEBAQEBAQEBAQEBAQEBAQEBAQEBAQEBAQ==",
          "dtype": "i1"
         },
         "yaxis": "y28"
        },
        {
         "name": "REB_capped",
         "showlegend": false,
         "type": "box",
         "xaxis": "x29",
         "y": {
          "bdata": "AQEBAQEBAQEBAQEBAQEBAQEBAQEBAQEBAQEBAQEBAQEBAQEBAQEBAQEBAQEBAQEBAQEBAQEBAQEBAQEBAQEBAQEBAQEBAQEBAQEBAQEBAQEBAQEBAQEBAQEBAQEBAQEBAQEBAQEBAQEBAQEBAQEBAQEBAQEBAQEBAQEBAQEBAQEBAQEBAQEBAQEBAQEBAQEBAQEBAQEBAQEBAQEBAQEBAQEBAQEBAQEBAQEBAQEBAQEBAQEBAQEBAQEBAQEBAQEBAQEBAQEBAQEBAQEBAQEBAQEBAQEBAQEBAQEBAQEBAQEBAQEBAQEBAQEBAQEBAQEBAQEBAQEBAQEBAQEBAQEBAQEBAQEBAQEBAQEBAQEBAQEBAQEBAQEBAQEBAQEBAQEBAQEBAQEBAQEBAQEBAQEBAQEBAQEBAQEBAQEBAQEBAQEBAQEBAQEBAQEBAQEBAQEBAQEBAQEBAQEBAQEBAQEBAQEBAQEBAQEBAQEBAQEBAQEBAQEBAQEBAQEBAQEBAQEBAQEBAQEBAQEBAQEBAQEBAQEBAQEBAQEBAQEBAQEBAQEBAQEBAQEBAQEBAQEBAQEBAQEBAQEBAQEBAQEBAQEBAQEBAQEBAQEBAQEBAQEBAQEBAQEBAQEBAQEBAQEBAQEBAQEBAQEBAQEBAQEBAQEBAQEBAQEBAQEBAQEBAQEBAQEBAQEBAQEBAQEBAQEBAQEBAQEBAQEBAQEBAQEBAQEBAQEBAQEBAQEBAQEBAQEBAQEBAQEBAQEBAQEBAQEBAQEBAQEBAQEBAQEBAQEBAQEBAQEBAQEBAQEBAQEBAQEBAQEBAQEBAQEBAQEBAQEBAQEBAQEBAQEBAQEBAQEBAQEBAQEBAQEBAQEBAQEBAQEBAQEBAQEBAQEBAQEBAQEBAQEBAQEBAQEBAQEBAQEBAQEBAQEBAQEBAQEBAQEBAQEBAQEBAQEBAQEBAQEBAQEBAQEBAQEBAQEBAQEBAQEBAQEBAQEBAQEBAQEBAQEBAQEBAQEBAQEBAQEBAQEBAQEBAQEBAQEBAQEBAQEBAQEBAQEBAQEBAQEBAQEBAQEBAQEBAQEBAQEBAQEBAQEBAQEBAQEBAQEBAQEBAQEBAQEBAQEBAQEBAQEBAQEBAQEBAQEBAQEBAQEBAQEBAQEBAQEBAQEBAQEBAQEBAQEBAQEBAQEBAQEBAQEBAQEBAQEBAQEBAQEBAQEBAQEBAQEBAQEBAQEBAQEBAQEBAQEBAQEBAQEBAQEBAQEBAQEBAQEBAQEBAQEBAQEBAQEBAQEBAQEBAQEBAQEBAQEBAQEBAQEBAQEBAQEBAQEBAQEBAQEBAQEBAQEBAQEBAQEBAQEBAQEBAQEBAQEBAQEBAQEBAQEBAQEBAQEBAQEBAQEBAQEBAQEBAQEBAQEBAQEBAQEBAQEBAQEBAQEBAQEBAQEBAQEBAQEBAQEBAQEBAQEBAQEBAQEBAQEBAQEBAQEBAQEBAQEBAQEBAQEBAQEBAQEBAQEBAQEBAQEBAQEBAQEBAQEBAQEBAQEBAQEBAQEBAQEBAQEBAQEBAQEBAQEBAQEBAQEBAQEBAQEBAQEBAQEBAQEBAQEBAQEBAQEBAQEBAQEBAQEBAQEBAQEBAQEBAQEBAQEBAQEBAQEBAQEBAQEBAQEBAQEBAQEBAQEBAQEBAQEBAQEBAQEBAQEBAQEBAQEBAQEBAQEBAQEBAQEBAQEBAQEBAQEBAQEBAQEBAQEBAQ==",
          "dtype": "i1"
         },
         "yaxis": "y29"
        },
        {
         "name": "STL_capped",
         "showlegend": false,
         "type": "box",
         "xaxis": "x30",
         "y": {
          "bdata": "AQEBAQEBAQEBAQEBAQEBAQEBAQEBAQEBAQEBAQEBAQEBAQEBAQEBAQEBAQEBAQEBAQEBAQEBAQEBAQEBAQEBAQEBAQEBAQEBAQEBAQEBAQEBAQEBAQEBAQEBAQEBAQEBAQEBAQEBAQEBAQEBAQEBAQEBAQEBAQEBAQEBAQEBAQEBAQEBAQEBAQEBAQEBAQEBAQEBAQEBAQEBAQEBAQEBAQEBAQEBAQEBAQEBAQEBAQEBAQEBAQEBAQEBAQEBAQEBAQEBAQEBAQEBAQEBAQEBAQEBAQEBAQEBAQEBAQEBAQEBAQEBAQEBAQEBAQEBAQEBAQEBAQEBAQEBAQEBAQEBAQEBAQEBAQEBAQEBAQEBAQEBAQEBAQEBAQEBAQEBAQEBAQEBAQEBAQEBAQEBAQEBAQEBAQEBAQEBAQEBAQEBAQEBAQEBAQEBAQEBAQEBAQEBAQEBAQEBAQEBAQEBAQEBAQEBAQEBAQEBAQEBAQEBAQEBAQEBAQEBAQEBAQEBAQEBAQEBAQEBAQEBAQEBAQEBAQEBAQEBAQEBAQEBAQEBAQEBAQEBAQEBAQEBAQEBAQEBAQEBAQEBAQEBAQEBAQEBAQEBAQEBAQEBAQEBAQEBAQEBAQEBAQEBAQEBAQEBAQEBAQEBAQEBAQEBAQEBAQEBAQEBAQEBAQEBAQEBAQEBAQEBAQEBAQEBAQEBAQEBAQEBAQEBAQEBAQEBAQEBAQEBAQEBAQEBAQEBAQEBAQEBAQEBAQEBAQEBAQEBAQEBAQEBAQEBAQEBAQEBAQEBAQEBAQEBAQEBAQEBAQEBAQEBAQEBAQEBAQEBAQEBAQEBAQEBAQEBAQEBAQEBAQEBAQEBAQEBAQEBAQEBAQEBAQEBAQEBAQEBAQEBAQEBAQEBAQEBAQEBAQEBAQEBAQEBAQEBAQEBAQEBAQEBAQEBAQEBAQEBAQEBAQEBAQEBAQEBAQEBAQEBAQEBAQEBAQEBAQEBAQEBAQEBAQEBAQEBAQEBAQEBAQEBAQEBAQEBAQEBAQEBAQEBAQEBAQEBAQEBAQEBAQEBAQEBAQEBAQEBAQEBAQEBAQEBAQEBAQEBAQEBAQEBAQEBAQEBAQEBAQEBAQEBAQEBAQEBAQEBAQEBAQEBAQEBAQEBAQEBAQEBAQEBAQEBAQEBAQEBAQEBAQEBAQEBAQEBAQEBAQEBAQEBAQEBAQEBAQEBAQEBAQEBAQEBAQEBAQEBAQEBAQEBAQEBAQEBAQEBAQEBAQEBAQEBAQEBAQEBAQEBAQEBAQEBAQEBAQEBAQEBAQEBAQEBAQEBAQEBAQEBAQEBAQEBAQEBAQEBAQEBAQEBAQEBAQEBAQEBAQEBAQEBAQEBAQEBAQEBAQEBAQEBAQEBAQEBAQEBAQEBAQEBAQEBAQEBAQEBAQEBAQEBAQEBAQEBAQEBAQEBAQEBAQEBAQEBAQEBAQEBAQEBAQEBAQEBAQEBAQEBAQEBAQEBAQEBAQEBAQEBAQEBAQEBAQEBAQEBAQEBAQEBAQEBAQEBAQEBAQEBAQEBAQEBAQEBAQEBAQEBAQEBAQEBAQEBAQEBAQEBAQEBAQEBAQEBAQEBAQEBAQEBAQEBAQEBAQEBAQEBAQEBAQEBAQEBAQEBAQEBAQEBAQEBAQEBAQEBAQEBAQEBAQEBAQEBAQEBAQEBAQEBAQEBAQEBAQEBAQEBAQEBAQEBAQEBAQEBAQEBAQEBAQEBAQEBAQ==",
          "dtype": "i1"
         },
         "yaxis": "y30"
        },
        {
         "name": "TOV_capped",
         "showlegend": false,
         "type": "box",
         "xaxis": "x31",
         "y": {
          "bdata": "AQEBAQEBAQEBAQEBAQEBAQEBAQEBAQEBAQEBAQEBAQEBAQEBAQEBAQEBAQEBAQEBAQEBAQEBAQEBAQEBAQEBAQEBAQEBAQEBAQEBAQEBAQEBAQEBAQEBAQEBAQEBAQEBAQEBAQEBAQEBAQEBAQEBAQEBAQEBAQEBAQEBAQEBAQEBAQEBAQEBAQEBAQEBAQEBAQEBAQEBAQEBAQEBAQEBAQEBAQEBAQEBAQEBAQEBAQEBAQEBAQEBAQEBAQEBAQEBAQEBAQEBAQEBAQEBAQEBAQEBAQEBAQEBAQEBAQEBAQEBAQEBAQEBAQEBAQEBAQEBAQEBAQEBAQEBAQEBAQEBAQEBAQEBAQEBAQEBAQEBAQEBAQEBAQEBAQEBAQEBAQEBAQEBAQEBAQEBAQEBAQEBAQEBAQEBAQEBAQEBAQEBAQEBAQEBAQEBAQEBAQEBAQEBAQEBAQEBAQEBAQEBAQEBAQEBAQEBAQEBAQEBAQEBAQEBAQEBAQEBAQEBAQEBAQEBAQEBAQEBAQEBAQEBAQEBAQEBAQEBAQEBAQEBAQEBAQEBAQEBAQEBAQEBAQEBAQEBAQEBAQEBAQEBAQEBAQEBAQEBAQEBAQEBAQEBAQEBAQEBAQEBAQEBAQEBAQEBAQEBAQEBAQEBAQEBAQEBAQEBAQEBAQEBAQEBAQEBAQEBAQEBAQEBAQEBAQEBAQEBAQEBAQEBAQEBAQEBAQEBAQEBAQEBAQEBAQEBAQEBAQEBAQEBAQEBAQEBAQEBAQEBAQEBAQEBAQEBAQEBAQEBAQEBAQEBAQEBAQEBAQEBAQEBAQEBAQEBAQEBAQEBAQEBAQEBAQEBAQEBAQEBAQEBAQEBAQEBAQEBAQEBAQEBAQEBAQEBAQEBAQEBAQEBAQEBAQEBAQEBAQEBAQEBAQEBAQEBAQEBAQEBAQEBAQEBAQEBAQEBAQEBAQEBAQEBAQEBAQEBAQEBAQEBAQEBAQEBAQEBAQEBAQEBAQEBAQEBAQEBAQEBAQEBAQEBAQEBAQEBAQEBAQEBAQEBAQEBAQEBAQEBAQEBAQEBAQEBAQEBAQEBAQEBAQEBAQEBAQEBAQEBAQEBAQEBAQEBAQEBAQEBAQEBAQEBAQEBAQEBAQEBAQEBAQEBAQEBAQEBAQEBAQEBAQEBAQEBAQEBAQEBAQEBAQEBAQEBAQEBAQEBAQEBAQEBAQEBAQEBAQEBAQEBAQEBAQEBAQEBAQEBAQEBAQEBAQEBAQEBAQEBAQEBAQEBAQEBAQEBAQEBAQEBAQEBAQEBAQEBAQEBAQEBAQEBAQEBAQEBAQEBAQEBAQEBAQEBAQEBAQEBAQEBAQEBAQEBAQEBAQEBAQEBAQEBAQEBAQEBAQEBAQEBAQEBAQEBAQEBAQEBAQEBAQEBAQEBAQEBAQEBAQEBAQEBAQEBAQEBAQEBAQEBAQEBAQEBAQEBAQEBAQEBAQEBAQEBAQEBAQEBAQEBAQEBAQEBAQEBAQEBAQEBAQEBAQEBAQEBAQEBAQEBAQEBAQEBAQEBAQEBAQEBAQEBAQEBAQEBAQEBAQEBAQEBAQEBAQEBAQEBAQEBAQEBAQEBAQEBAQEBAQEBAQEBAQEBAQEBAQEBAQEBAQEBAQEBAQEBAQEBAQEBAQEBAQEBAQEBAQEBAQEBAQEBAQEBAQEBAQEBAQEBAQEBAQEBAQEBAQEBAQEBAQEBAQEBAQEBAQEBAQEBAQEBAQEBAQ==",
          "dtype": "i1"
         },
         "yaxis": "y31"
        }
       ],
       "layout": {
        "annotations": [
         {
          "font": {
           "size": 16
          },
          "showarrow": false,
          "text": "GP",
          "x": 0.225,
          "xanchor": "center",
          "xref": "paper",
          "y": 1,
          "yanchor": "bottom",
          "yref": "paper"
         },
         {
          "font": {
           "size": 16
          },
          "showarrow": false,
          "text": "MIN",
          "x": 0.775,
          "xanchor": "center",
          "xref": "paper",
          "y": 1,
          "yanchor": "bottom",
          "yref": "paper"
         },
         {
          "font": {
           "size": 16
          },
          "showarrow": false,
          "text": "PTS",
          "x": 0.225,
          "xanchor": "center",
          "xref": "paper",
          "y": 0.935546875,
          "yanchor": "bottom",
          "yref": "paper"
         },
         {
          "font": {
           "size": 16
          },
          "showarrow": false,
          "text": "FGA",
          "x": 0.775,
          "xanchor": "center",
          "xref": "paper",
          "y": 0.935546875,
          "yanchor": "bottom",
          "yref": "paper"
         },
         {
          "font": {
           "size": 16
          },
          "showarrow": false,
          "text": "FG%",
          "x": 0.225,
          "xanchor": "center",
          "xref": "paper",
          "y": 0.87109375,
          "yanchor": "bottom",
          "yref": "paper"
         },
         {
          "font": {
           "size": 16
          },
          "showarrow": false,
          "text": "3PA",
          "x": 0.775,
          "xanchor": "center",
          "xref": "paper",
          "y": 0.87109375,
          "yanchor": "bottom",
          "yref": "paper"
         },
         {
          "font": {
           "size": 16
          },
          "showarrow": false,
          "text": "3P%",
          "x": 0.225,
          "xanchor": "center",
          "xref": "paper",
          "y": 0.806640625,
          "yanchor": "bottom",
          "yref": "paper"
         },
         {
          "font": {
           "size": 16
          },
          "showarrow": false,
          "text": "FTA",
          "x": 0.775,
          "xanchor": "center",
          "xref": "paper",
          "y": 0.806640625,
          "yanchor": "bottom",
          "yref": "paper"
         },
         {
          "font": {
           "size": 16
          },
          "showarrow": false,
          "text": "FT%",
          "x": 0.225,
          "xanchor": "center",
          "xref": "paper",
          "y": 0.7421875,
          "yanchor": "bottom",
          "yref": "paper"
         },
         {
          "font": {
           "size": 16
          },
          "showarrow": false,
          "text": "OREB",
          "x": 0.775,
          "xanchor": "center",
          "xref": "paper",
          "y": 0.7421875,
          "yanchor": "bottom",
          "yref": "paper"
         },
         {
          "font": {
           "size": 16
          },
          "showarrow": false,
          "text": "REB",
          "x": 0.225,
          "xanchor": "center",
          "xref": "paper",
          "y": 0.677734375,
          "yanchor": "bottom",
          "yref": "paper"
         },
         {
          "font": {
           "size": 16
          },
          "showarrow": false,
          "text": "AST",
          "x": 0.775,
          "xanchor": "center",
          "xref": "paper",
          "y": 0.677734375,
          "yanchor": "bottom",
          "yref": "paper"
         },
         {
          "font": {
           "size": 16
          },
          "showarrow": false,
          "text": "STL",
          "x": 0.225,
          "xanchor": "center",
          "xref": "paper",
          "y": 0.61328125,
          "yanchor": "bottom",
          "yref": "paper"
         },
         {
          "font": {
           "size": 16
          },
          "showarrow": false,
          "text": "BLK",
          "x": 0.775,
          "xanchor": "center",
          "xref": "paper",
          "y": 0.61328125,
          "yanchor": "bottom",
          "yref": "paper"
         },
         {
          "font": {
           "size": 16
          },
          "showarrow": false,
          "text": "TOV",
          "x": 0.225,
          "xanchor": "center",
          "xref": "paper",
          "y": 0.548828125,
          "yanchor": "bottom",
          "yref": "paper"
         },
         {
          "font": {
           "size": 16
          },
          "showarrow": false,
          "text": "TARGET_5Yrs",
          "x": 0.775,
          "xanchor": "center",
          "xref": "paper",
          "y": 0.548828125,
          "yanchor": "bottom",
          "yref": "paper"
         },
         {
          "font": {
           "size": 16
          },
          "showarrow": false,
          "text": "3P%_capped",
          "x": 0.225,
          "xanchor": "center",
          "xref": "paper",
          "y": 0.484375,
          "yanchor": "bottom",
          "yref": "paper"
         },
         {
          "font": {
           "size": 16
          },
          "showarrow": false,
          "text": "3PA_capped",
          "x": 0.775,
          "xanchor": "center",
          "xref": "paper",
          "y": 0.484375,
          "yanchor": "bottom",
          "yref": "paper"
         },
         {
          "font": {
           "size": 16
          },
          "showarrow": false,
          "text": "AST_capped",
          "x": 0.225,
          "xanchor": "center",
          "xref": "paper",
          "y": 0.419921875,
          "yanchor": "bottom",
          "yref": "paper"
         },
         {
          "font": {
           "size": 16
          },
          "showarrow": false,
          "text": "BLK_capped",
          "x": 0.775,
          "xanchor": "center",
          "xref": "paper",
          "y": 0.419921875,
          "yanchor": "bottom",
          "yref": "paper"
         },
         {
          "font": {
           "size": 16
          },
          "showarrow": false,
          "text": "FG%_capped",
          "x": 0.225,
          "xanchor": "center",
          "xref": "paper",
          "y": 0.35546875,
          "yanchor": "bottom",
          "yref": "paper"
         },
         {
          "font": {
           "size": 16
          },
          "showarrow": false,
          "text": "FGA_capped",
          "x": 0.775,
          "xanchor": "center",
          "xref": "paper",
          "y": 0.35546875,
          "yanchor": "bottom",
          "yref": "paper"
         },
         {
          "font": {
           "size": 16
          },
          "showarrow": false,
          "text": "FT%_capped",
          "x": 0.225,
          "xanchor": "center",
          "xref": "paper",
          "y": 0.291015625,
          "yanchor": "bottom",
          "yref": "paper"
         },
         {
          "font": {
           "size": 16
          },
          "showarrow": false,
          "text": "FTA_capped",
          "x": 0.775,
          "xanchor": "center",
          "xref": "paper",
          "y": 0.291015625,
          "yanchor": "bottom",
          "yref": "paper"
         },
         {
          "font": {
           "size": 16
          },
          "showarrow": false,
          "text": "GP_capped",
          "x": 0.225,
          "xanchor": "center",
          "xref": "paper",
          "y": 0.2265625,
          "yanchor": "bottom",
          "yref": "paper"
         },
         {
          "font": {
           "size": 16
          },
          "showarrow": false,
          "text": "MIN_capped",
          "x": 0.775,
          "xanchor": "center",
          "xref": "paper",
          "y": 0.2265625,
          "yanchor": "bottom",
          "yref": "paper"
         },
         {
          "font": {
           "size": 16
          },
          "showarrow": false,
          "text": "OREB_capped",
          "x": 0.225,
          "xanchor": "center",
          "xref": "paper",
          "y": 0.162109375,
          "yanchor": "bottom",
          "yref": "paper"
         },
         {
          "font": {
           "size": 16
          },
          "showarrow": false,
          "text": "PTS_capped",
          "x": 0.775,
          "xanchor": "center",
          "xref": "paper",
          "y": 0.162109375,
          "yanchor": "bottom",
          "yref": "paper"
         },
         {
          "font": {
           "size": 16
          },
          "showarrow": false,
          "text": "REB_capped",
          "x": 0.225,
          "xanchor": "center",
          "xref": "paper",
          "y": 0.09765625,
          "yanchor": "bottom",
          "yref": "paper"
         },
         {
          "font": {
           "size": 16
          },
          "showarrow": false,
          "text": "STL_capped",
          "x": 0.775,
          "xanchor": "center",
          "xref": "paper",
          "y": 0.09765625,
          "yanchor": "bottom",
          "yref": "paper"
         },
         {
          "font": {
           "size": 16
          },
          "showarrow": false,
          "text": "TOV_capped",
          "x": 0.225,
          "xanchor": "center",
          "xref": "paper",
          "y": 0.033203125,
          "yanchor": "bottom",
          "yref": "paper"
         }
        ],
        "height": 4800,
        "template": {
         "data": {
          "bar": [
           {
            "error_x": {
             "color": "#2a3f5f"
            },
            "error_y": {
             "color": "#2a3f5f"
            },
            "marker": {
             "line": {
              "color": "#E5ECF6",
              "width": 0.5
             },
             "pattern": {
              "fillmode": "overlay",
              "size": 10,
              "solidity": 0.2
             }
            },
            "type": "bar"
           }
          ],
          "barpolar": [
           {
            "marker": {
             "line": {
              "color": "#E5ECF6",
              "width": 0.5
             },
             "pattern": {
              "fillmode": "overlay",
              "size": 10,
              "solidity": 0.2
             }
            },
            "type": "barpolar"
           }
          ],
          "carpet": [
           {
            "aaxis": {
             "endlinecolor": "#2a3f5f",
             "gridcolor": "white",
             "linecolor": "white",
             "minorgridcolor": "white",
             "startlinecolor": "#2a3f5f"
            },
            "baxis": {
             "endlinecolor": "#2a3f5f",
             "gridcolor": "white",
             "linecolor": "white",
             "minorgridcolor": "white",
             "startlinecolor": "#2a3f5f"
            },
            "type": "carpet"
           }
          ],
          "choropleth": [
           {
            "colorbar": {
             "outlinewidth": 0,
             "ticks": ""
            },
            "type": "choropleth"
           }
          ],
          "contour": [
           {
            "colorbar": {
             "outlinewidth": 0,
             "ticks": ""
            },
            "colorscale": [
             [
              0,
              "#0d0887"
             ],
             [
              0.1111111111111111,
              "#46039f"
             ],
             [
              0.2222222222222222,
              "#7201a8"
             ],
             [
              0.3333333333333333,
              "#9c179e"
             ],
             [
              0.4444444444444444,
              "#bd3786"
             ],
             [
              0.5555555555555556,
              "#d8576b"
             ],
             [
              0.6666666666666666,
              "#ed7953"
             ],
             [
              0.7777777777777778,
              "#fb9f3a"
             ],
             [
              0.8888888888888888,
              "#fdca26"
             ],
             [
              1,
              "#f0f921"
             ]
            ],
            "type": "contour"
           }
          ],
          "contourcarpet": [
           {
            "colorbar": {
             "outlinewidth": 0,
             "ticks": ""
            },
            "type": "contourcarpet"
           }
          ],
          "heatmap": [
           {
            "colorbar": {
             "outlinewidth": 0,
             "ticks": ""
            },
            "colorscale": [
             [
              0,
              "#0d0887"
             ],
             [
              0.1111111111111111,
              "#46039f"
             ],
             [
              0.2222222222222222,
              "#7201a8"
             ],
             [
              0.3333333333333333,
              "#9c179e"
             ],
             [
              0.4444444444444444,
              "#bd3786"
             ],
             [
              0.5555555555555556,
              "#d8576b"
             ],
             [
              0.6666666666666666,
              "#ed7953"
             ],
             [
              0.7777777777777778,
              "#fb9f3a"
             ],
             [
              0.8888888888888888,
              "#fdca26"
             ],
             [
              1,
              "#f0f921"
             ]
            ],
            "type": "heatmap"
           }
          ],
          "histogram": [
           {
            "marker": {
             "pattern": {
              "fillmode": "overlay",
              "size": 10,
              "solidity": 0.2
             }
            },
            "type": "histogram"
           }
          ],
          "histogram2d": [
           {
            "colorbar": {
             "outlinewidth": 0,
             "ticks": ""
            },
            "colorscale": [
             [
              0,
              "#0d0887"
             ],
             [
              0.1111111111111111,
              "#46039f"
             ],
             [
              0.2222222222222222,
              "#7201a8"
             ],
             [
              0.3333333333333333,
              "#9c179e"
             ],
             [
              0.4444444444444444,
              "#bd3786"
             ],
             [
              0.5555555555555556,
              "#d8576b"
             ],
             [
              0.6666666666666666,
              "#ed7953"
             ],
             [
              0.7777777777777778,
              "#fb9f3a"
             ],
             [
              0.8888888888888888,
              "#fdca26"
             ],
             [
              1,
              "#f0f921"
             ]
            ],
            "type": "histogram2d"
           }
          ],
          "histogram2dcontour": [
           {
            "colorbar": {
             "outlinewidth": 0,
             "ticks": ""
            },
            "colorscale": [
             [
              0,
              "#0d0887"
             ],
             [
              0.1111111111111111,
              "#46039f"
             ],
             [
              0.2222222222222222,
              "#7201a8"
             ],
             [
              0.3333333333333333,
              "#9c179e"
             ],
             [
              0.4444444444444444,
              "#bd3786"
             ],
             [
              0.5555555555555556,
              "#d8576b"
             ],
             [
              0.6666666666666666,
              "#ed7953"
             ],
             [
              0.7777777777777778,
              "#fb9f3a"
             ],
             [
              0.8888888888888888,
              "#fdca26"
             ],
             [
              1,
              "#f0f921"
             ]
            ],
            "type": "histogram2dcontour"
           }
          ],
          "mesh3d": [
           {
            "colorbar": {
             "outlinewidth": 0,
             "ticks": ""
            },
            "type": "mesh3d"
           }
          ],
          "parcoords": [
           {
            "line": {
             "colorbar": {
              "outlinewidth": 0,
              "ticks": ""
             }
            },
            "type": "parcoords"
           }
          ],
          "pie": [
           {
            "automargin": true,
            "type": "pie"
           }
          ],
          "scatter": [
           {
            "fillpattern": {
             "fillmode": "overlay",
             "size": 10,
             "solidity": 0.2
            },
            "type": "scatter"
           }
          ],
          "scatter3d": [
           {
            "line": {
             "colorbar": {
              "outlinewidth": 0,
              "ticks": ""
             }
            },
            "marker": {
             "colorbar": {
              "outlinewidth": 0,
              "ticks": ""
             }
            },
            "type": "scatter3d"
           }
          ],
          "scattercarpet": [
           {
            "marker": {
             "colorbar": {
              "outlinewidth": 0,
              "ticks": ""
             }
            },
            "type": "scattercarpet"
           }
          ],
          "scattergeo": [
           {
            "marker": {
             "colorbar": {
              "outlinewidth": 0,
              "ticks": ""
             }
            },
            "type": "scattergeo"
           }
          ],
          "scattergl": [
           {
            "marker": {
             "colorbar": {
              "outlinewidth": 0,
              "ticks": ""
             }
            },
            "type": "scattergl"
           }
          ],
          "scattermap": [
           {
            "marker": {
             "colorbar": {
              "outlinewidth": 0,
              "ticks": ""
             }
            },
            "type": "scattermap"
           }
          ],
          "scattermapbox": [
           {
            "marker": {
             "colorbar": {
              "outlinewidth": 0,
              "ticks": ""
             }
            },
            "type": "scattermapbox"
           }
          ],
          "scatterpolar": [
           {
            "marker": {
             "colorbar": {
              "outlinewidth": 0,
              "ticks": ""
             }
            },
            "type": "scatterpolar"
           }
          ],
          "scatterpolargl": [
           {
            "marker": {
             "colorbar": {
              "outlinewidth": 0,
              "ticks": ""
             }
            },
            "type": "scatterpolargl"
           }
          ],
          "scatterternary": [
           {
            "marker": {
             "colorbar": {
              "outlinewidth": 0,
              "ticks": ""
             }
            },
            "type": "scatterternary"
           }
          ],
          "surface": [
           {
            "colorbar": {
             "outlinewidth": 0,
             "ticks": ""
            },
            "colorscale": [
             [
              0,
              "#0d0887"
             ],
             [
              0.1111111111111111,
              "#46039f"
             ],
             [
              0.2222222222222222,
              "#7201a8"
             ],
             [
              0.3333333333333333,
              "#9c179e"
             ],
             [
              0.4444444444444444,
              "#bd3786"
             ],
             [
              0.5555555555555556,
              "#d8576b"
             ],
             [
              0.6666666666666666,
              "#ed7953"
             ],
             [
              0.7777777777777778,
              "#fb9f3a"
             ],
             [
              0.8888888888888888,
              "#fdca26"
             ],
             [
              1,
              "#f0f921"
             ]
            ],
            "type": "surface"
           }
          ],
          "table": [
           {
            "cells": {
             "fill": {
              "color": "#EBF0F8"
             },
             "line": {
              "color": "white"
             }
            },
            "header": {
             "fill": {
              "color": "#C8D4E3"
             },
             "line": {
              "color": "white"
             }
            },
            "type": "table"
           }
          ]
         },
         "layout": {
          "annotationdefaults": {
           "arrowcolor": "#2a3f5f",
           "arrowhead": 0,
           "arrowwidth": 1
          },
          "autotypenumbers": "strict",
          "coloraxis": {
           "colorbar": {
            "outlinewidth": 0,
            "ticks": ""
           }
          },
          "colorscale": {
           "diverging": [
            [
             0,
             "#8e0152"
            ],
            [
             0.1,
             "#c51b7d"
            ],
            [
             0.2,
             "#de77ae"
            ],
            [
             0.3,
             "#f1b6da"
            ],
            [
             0.4,
             "#fde0ef"
            ],
            [
             0.5,
             "#f7f7f7"
            ],
            [
             0.6,
             "#e6f5d0"
            ],
            [
             0.7,
             "#b8e186"
            ],
            [
             0.8,
             "#7fbc41"
            ],
            [
             0.9,
             "#4d9221"
            ],
            [
             1,
             "#276419"
            ]
           ],
           "sequential": [
            [
             0,
             "#0d0887"
            ],
            [
             0.1111111111111111,
             "#46039f"
            ],
            [
             0.2222222222222222,
             "#7201a8"
            ],
            [
             0.3333333333333333,
             "#9c179e"
            ],
            [
             0.4444444444444444,
             "#bd3786"
            ],
            [
             0.5555555555555556,
             "#d8576b"
            ],
            [
             0.6666666666666666,
             "#ed7953"
            ],
            [
             0.7777777777777778,
             "#fb9f3a"
            ],
            [
             0.8888888888888888,
             "#fdca26"
            ],
            [
             1,
             "#f0f921"
            ]
           ],
           "sequentialminus": [
            [
             0,
             "#0d0887"
            ],
            [
             0.1111111111111111,
             "#46039f"
            ],
            [
             0.2222222222222222,
             "#7201a8"
            ],
            [
             0.3333333333333333,
             "#9c179e"
            ],
            [
             0.4444444444444444,
             "#bd3786"
            ],
            [
             0.5555555555555556,
             "#d8576b"
            ],
            [
             0.6666666666666666,
             "#ed7953"
            ],
            [
             0.7777777777777778,
             "#fb9f3a"
            ],
            [
             0.8888888888888888,
             "#fdca26"
            ],
            [
             1,
             "#f0f921"
            ]
           ]
          },
          "colorway": [
           "#636efa",
           "#EF553B",
           "#00cc96",
           "#ab63fa",
           "#FFA15A",
           "#19d3f3",
           "#FF6692",
           "#B6E880",
           "#FF97FF",
           "#FECB52"
          ],
          "font": {
           "color": "#2a3f5f"
          },
          "geo": {
           "bgcolor": "white",
           "lakecolor": "white",
           "landcolor": "#E5ECF6",
           "showlakes": true,
           "showland": true,
           "subunitcolor": "white"
          },
          "hoverlabel": {
           "align": "left"
          },
          "hovermode": "closest",
          "mapbox": {
           "style": "light"
          },
          "paper_bgcolor": "white",
          "plot_bgcolor": "#E5ECF6",
          "polar": {
           "angularaxis": {
            "gridcolor": "white",
            "linecolor": "white",
            "ticks": ""
           },
           "bgcolor": "#E5ECF6",
           "radialaxis": {
            "gridcolor": "white",
            "linecolor": "white",
            "ticks": ""
           }
          },
          "scene": {
           "xaxis": {
            "backgroundcolor": "#E5ECF6",
            "gridcolor": "white",
            "gridwidth": 2,
            "linecolor": "white",
            "showbackground": true,
            "ticks": "",
            "zerolinecolor": "white"
           },
           "yaxis": {
            "backgroundcolor": "#E5ECF6",
            "gridcolor": "white",
            "gridwidth": 2,
            "linecolor": "white",
            "showbackground": true,
            "ticks": "",
            "zerolinecolor": "white"
           },
           "zaxis": {
            "backgroundcolor": "#E5ECF6",
            "gridcolor": "white",
            "gridwidth": 2,
            "linecolor": "white",
            "showbackground": true,
            "ticks": "",
            "zerolinecolor": "white"
           }
          },
          "shapedefaults": {
           "line": {
            "color": "#2a3f5f"
           }
          },
          "ternary": {
           "aaxis": {
            "gridcolor": "white",
            "linecolor": "white",
            "ticks": ""
           },
           "baxis": {
            "gridcolor": "white",
            "linecolor": "white",
            "ticks": ""
           },
           "bgcolor": "#E5ECF6",
           "caxis": {
            "gridcolor": "white",
            "linecolor": "white",
            "ticks": ""
           }
          },
          "title": {
           "x": 0.05
          },
          "xaxis": {
           "automargin": true,
           "gridcolor": "white",
           "linecolor": "white",
           "ticks": "",
           "title": {
            "standoff": 15
           },
           "zerolinecolor": "white",
           "zerolinewidth": 2
          },
          "yaxis": {
           "automargin": true,
           "gridcolor": "white",
           "linecolor": "white",
           "ticks": "",
           "title": {
            "standoff": 15
           },
           "zerolinecolor": "white",
           "zerolinewidth": 2
          }
         }
        },
        "title": {
         "text": "Box Plots of Numeric Features"
        },
        "width": 800,
        "xaxis": {
         "anchor": "y",
         "domain": [
          0,
          0.45
         ]
        },
        "xaxis10": {
         "anchor": "y10",
         "domain": [
          0.55,
          1
         ]
        },
        "xaxis11": {
         "anchor": "y11",
         "domain": [
          0,
          0.45
         ]
        },
        "xaxis12": {
         "anchor": "y12",
         "domain": [
          0.55,
          1
         ]
        },
        "xaxis13": {
         "anchor": "y13",
         "domain": [
          0,
          0.45
         ]
        },
        "xaxis14": {
         "anchor": "y14",
         "domain": [
          0.55,
          1
         ]
        },
        "xaxis15": {
         "anchor": "y15",
         "domain": [
          0,
          0.45
         ]
        },
        "xaxis16": {
         "anchor": "y16",
         "domain": [
          0.55,
          1
         ]
        },
        "xaxis17": {
         "anchor": "y17",
         "domain": [
          0,
          0.45
         ]
        },
        "xaxis18": {
         "anchor": "y18",
         "domain": [
          0.55,
          1
         ]
        },
        "xaxis19": {
         "anchor": "y19",
         "domain": [
          0,
          0.45
         ]
        },
        "xaxis2": {
         "anchor": "y2",
         "domain": [
          0.55,
          1
         ]
        },
        "xaxis20": {
         "anchor": "y20",
         "domain": [
          0.55,
          1
         ]
        },
        "xaxis21": {
         "anchor": "y21",
         "domain": [
          0,
          0.45
         ]
        },
        "xaxis22": {
         "anchor": "y22",
         "domain": [
          0.55,
          1
         ]
        },
        "xaxis23": {
         "anchor": "y23",
         "domain": [
          0,
          0.45
         ]
        },
        "xaxis24": {
         "anchor": "y24",
         "domain": [
          0.55,
          1
         ]
        },
        "xaxis25": {
         "anchor": "y25",
         "domain": [
          0,
          0.45
         ]
        },
        "xaxis26": {
         "anchor": "y26",
         "domain": [
          0.55,
          1
         ]
        },
        "xaxis27": {
         "anchor": "y27",
         "domain": [
          0,
          0.45
         ]
        },
        "xaxis28": {
         "anchor": "y28",
         "domain": [
          0.55,
          1
         ]
        },
        "xaxis29": {
         "anchor": "y29",
         "domain": [
          0,
          0.45
         ]
        },
        "xaxis3": {
         "anchor": "y3",
         "domain": [
          0,
          0.45
         ]
        },
        "xaxis30": {
         "anchor": "y30",
         "domain": [
          0.55,
          1
         ]
        },
        "xaxis31": {
         "anchor": "y31",
         "domain": [
          0,
          0.45
         ]
        },
        "xaxis32": {
         "anchor": "y32",
         "domain": [
          0.55,
          1
         ]
        },
        "xaxis4": {
         "anchor": "y4",
         "domain": [
          0.55,
          1
         ]
        },
        "xaxis5": {
         "anchor": "y5",
         "domain": [
          0,
          0.45
         ]
        },
        "xaxis6": {
         "anchor": "y6",
         "domain": [
          0.55,
          1
         ]
        },
        "xaxis7": {
         "anchor": "y7",
         "domain": [
          0,
          0.45
         ]
        },
        "xaxis8": {
         "anchor": "y8",
         "domain": [
          0.55,
          1
         ]
        },
        "xaxis9": {
         "anchor": "y9",
         "domain": [
          0,
          0.45
         ]
        },
        "yaxis": {
         "anchor": "x",
         "domain": [
          0.966796875,
          1
         ]
        },
        "yaxis10": {
         "anchor": "x10",
         "domain": [
          0.708984375,
          0.7421875
         ]
        },
        "yaxis11": {
         "anchor": "x11",
         "domain": [
          0.64453125,
          0.677734375
         ]
        },
        "yaxis12": {
         "anchor": "x12",
         "domain": [
          0.64453125,
          0.677734375
         ]
        },
        "yaxis13": {
         "anchor": "x13",
         "domain": [
          0.580078125,
          0.61328125
         ]
        },
        "yaxis14": {
         "anchor": "x14",
         "domain": [
          0.580078125,
          0.61328125
         ]
        },
        "yaxis15": {
         "anchor": "x15",
         "domain": [
          0.515625,
          0.548828125
         ]
        },
        "yaxis16": {
         "anchor": "x16",
         "domain": [
          0.515625,
          0.548828125
         ]
        },
        "yaxis17": {
         "anchor": "x17",
         "domain": [
          0.451171875,
          0.484375
         ]
        },
        "yaxis18": {
         "anchor": "x18",
         "domain": [
          0.451171875,
          0.484375
         ]
        },
        "yaxis19": {
         "anchor": "x19",
         "domain": [
          0.38671875,
          0.419921875
         ]
        },
        "yaxis2": {
         "anchor": "x2",
         "domain": [
          0.966796875,
          1
         ]
        },
        "yaxis20": {
         "anchor": "x20",
         "domain": [
          0.38671875,
          0.419921875
         ]
        },
        "yaxis21": {
         "anchor": "x21",
         "domain": [
          0.322265625,
          0.35546875
         ]
        },
        "yaxis22": {
         "anchor": "x22",
         "domain": [
          0.322265625,
          0.35546875
         ]
        },
        "yaxis23": {
         "anchor": "x23",
         "domain": [
          0.2578125,
          0.291015625
         ]
        },
        "yaxis24": {
         "anchor": "x24",
         "domain": [
          0.2578125,
          0.291015625
         ]
        },
        "yaxis25": {
         "anchor": "x25",
         "domain": [
          0.193359375,
          0.2265625
         ]
        },
        "yaxis26": {
         "anchor": "x26",
         "domain": [
          0.193359375,
          0.2265625
         ]
        },
        "yaxis27": {
         "anchor": "x27",
         "domain": [
          0.12890625,
          0.162109375
         ]
        },
        "yaxis28": {
         "anchor": "x28",
         "domain": [
          0.12890625,
          0.162109375
         ]
        },
        "yaxis29": {
         "anchor": "x29",
         "domain": [
          0.064453125,
          0.09765625
         ]
        },
        "yaxis3": {
         "anchor": "x3",
         "domain": [
          0.90234375,
          0.935546875
         ]
        },
        "yaxis30": {
         "anchor": "x30",
         "domain": [
          0.064453125,
          0.09765625
         ]
        },
        "yaxis31": {
         "anchor": "x31",
         "domain": [
          0,
          0.033203125
         ]
        },
        "yaxis32": {
         "anchor": "x32",
         "domain": [
          0,
          0.033203125
         ]
        },
        "yaxis4": {
         "anchor": "x4",
         "domain": [
          0.90234375,
          0.935546875
         ]
        },
        "yaxis5": {
         "anchor": "x5",
         "domain": [
          0.837890625,
          0.87109375
         ]
        },
        "yaxis6": {
         "anchor": "x6",
         "domain": [
          0.837890625,
          0.87109375
         ]
        },
        "yaxis7": {
         "anchor": "x7",
         "domain": [
          0.7734375,
          0.806640625
         ]
        },
        "yaxis8": {
         "anchor": "x8",
         "domain": [
          0.7734375,
          0.806640625
         ]
        },
        "yaxis9": {
         "anchor": "x9",
         "domain": [
          0.708984375,
          0.7421875
         ]
        }
       }
      }
     },
     "metadata": {},
     "output_type": "display_data"
    }
   ],
   "source": [
    "# IQR capping\n",
    "target = \"TARGET_5Yrs\"\n",
    "df = cap_outliers(df,target)\n",
    "\n",
    "# Box plot & Outliers\n",
    "from plotly.subplots import make_subplots\n",
    "\n",
    "num_cols = len(df.select_dtypes(include=[int, float]).columns) # select numerical columns only\n",
    "cols_per_row = 2\n",
    "rows = (num_cols + cols_per_row - 1) // cols_per_row\n",
    "\n",
    "fig = make_subplots(rows=rows, cols=cols_per_row, subplot_titles=df.select_dtypes(include=[int, float]).columns)\n",
    "\n",
    "for i, col in enumerate(df.select_dtypes(include=[int, float]).columns):\n",
    "    row = i // cols_per_row + 1\n",
    "    col_pos = i % cols_per_row + 1\n",
    "    fig.add_trace(go.Box(y=df[col], name=col, showlegend=False), row=row, col=col_pos)\n",
    "\n",
    "fig.update_layout(height=300*rows, width=400*cols_per_row, title_text=\"Box Plots of Numeric Features\")\n",
    "fig.show()"
   ]
  },
  {
   "cell_type": "code",
   "execution_count": 19,
   "id": "fff7a863",
   "metadata": {},
   "outputs": [],
   "source": [
    "df.to_csv(\"data/nba_filtered_capped.csv\",index=False)"
   ]
  },
  {
   "cell_type": "code",
   "execution_count": 20,
   "id": "7671626f",
   "metadata": {},
   "outputs": [
    {
     "data": {
      "application/vnd.plotly.v1+json": {
       "config": {
        "plotlyServerURL": "https://plot.ly"
       },
       "data": [
        {
         "name": "GP",
         "showlegend": false,
         "type": "histogram",
         "x": {
          "bdata": "JCNKOjBLPjBBKiMoGy0sKDEpUFJMPSBMNExOM0A3UjAiKlJAUE03MDMzSEU2GDI4QzItJio2IyUuMygTJE83SkBSUlFMUkxDRlEhOkZSPk5JSkw3LyU+PjMkSj8hNkkPQDhARC80QCIqMjRLJzM0J1IfUlJRUDJRUjJRUlFFUjdLSE8ZUT9RPSs3O0JGTSVDKjIsJC1GOTQzIzAVJBVPUVBPT1JLUkxHT1I2N0BHJEFQIFFQR1FSGEE4JDNLNj5SNS8kPiU8MyoYTUgxLisjMylSPTo3QyojUlBRUj1CO09ST04YJ0tPOjFGKDc7LDEsKSQtMlJSUFBHRD9OUFBNUTJQS0NSQERNRE1CQ0FBPkA7Rj4jKjstQzwpPis1NjJSUVFPN1FSUk1SOlBSR0BPTyJHTkxQREA1Qk0tLUA3OSQ5MEtSUExSUlBPUlJLT05IUj5OS1JKSjZKJE5DO001PDg/QjM8OzMvJisnJyZSUVBPNFJRUVFQSlJST1AfSVJIUk5DS04xTiY3KC8tMTAnOTkhNQ8tNyNGUUxSTDpNTklQUkpSTzNLUUssTStMTk1END5HNSwxNjQ+QSg3MBc/LDYnJB8jUlJIUVEzUlJPUE5MUEpSTztAP0dSP0BHS1BQTTEYSDYxLjY1JysnKyoqMTMkUlFST1AhJVFSOFFLREZRUk9SR1FSOFJKHDxAREE1NC02USgwJSw3NDsvPDcsMx9SOCFAPVJNTE5RPQw8LUUpTk5JOEY9ME80Pws/L0kzLzkuKR4oMCMbF0I4Oz9CQUJAFi5CQiE/QT0zIjg7KSorJTcqEyxALiomKBoaGiwmKiRSRVJRUE9BKk5RUD1OD1E6Nkg0QTwxQiorKjESJhYpSFBSFlFMUklSSUxOFE1BSjhSTFBROFIvRTw0Gzw/RydHOSwrMwwSNRlSUU5SUlJSSE5RTVFLQz04QkxNT0szNUZEUCw1OzwwKBNMPDMlUFBOTzVJO09KSiM5SUk8KjhLTEUyR0szIDk0Gj1GJiZADkI5Tk5OUj8wNFJRUkNPPEQdSC80Kkg7K1EuOEQ6Pzg9KSodKj0mI05QUVBQP09BTj1IPU9RUDE9TyRQRUISOyVEKyczFyAnOS4hSVJSUEpSTE5PPkQXUitQUk1MLkcZRD5DJyYkTCYLLU9STD1LRjdJS0NSJSYvSzgpUUU1GDlHIylKMSQpSCY2EE43Ui9GS1ExUkAhRjtIQ0JLUhtIKjQuIzM3OjNMJy4yKjBAJDU5E05QUE1ON0lNL09DRj5HTVJESCRAOT4jLyg1PDU2FSkjJ0QwUlFQM0hNQTs/TjJMQD1OUExONSoyNzYZJkYoUUxNSElIUlFIM0tPUVJHMC1STUNHLUo0Li9LKDs1MRYyMjIwUjIcKTEyLzIZMjExKhwYJ0MiGiYuHh8iFhsYOyMhGBo+UFBETU1CUEpCQU1QRzQ2OkAmJkoiIDojJzYnLSYoJUxSUlBDUj9STT5EKUFHR0A5SDI9K0tEUDktNkZBJCMjI0ZSSFJNUExQQU9ASjZPRUhLKk9FPj4zQCw5NSQ8OzkvKyk9MTUhRkE/T1FATkhQT05CUSBDNS0lQD4/UTcuKS4xNTw6OzcpLioxJlJPUUwvUk9ST0dPQSVRUU8xT0tCQxcvSk0zREY3QDpDJzwoMCY1LUQvUU1RUU5SUk9IO1IwRyctTUoUTThJKFJSMk9QRCs0Lw==",
          "dtype": "i1"
         },
         "xaxis": "x",
         "yaxis": "y"
        },
        {
         "name": "MIN",
         "showlegend": false,
         "type": "histogram",
         "x": {
          "bdata": "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",
          "dtype": "f8"
         },
         "xaxis": "x2",
         "yaxis": "y2"
        },
        {
         "name": "PTS",
         "showlegend": false,
         "type": "histogram",
         "x": {
          "bdata": "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",
          "dtype": "f8"
         },
         "xaxis": "x3",
         "yaxis": "y3"
        },
        {
         "name": "FGA",
         "showlegend": false,
         "type": "histogram",
         "x": {
          "bdata": "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",
          "dtype": "f8"
         },
         "xaxis": "x4",
         "yaxis": "y4"
        },
        {
         "name": "FG%",
         "showlegend": false,
         "type": "histogram",
         "x": {
          "bdata": "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",
          "dtype": "f8"
         },
         "xaxis": "x5",
         "yaxis": "y5"
        },
        {
         "name": "3PA",
         "showlegend": false,
         "type": "histogram",
         "x": {
          "bdata": "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",
          "dtype": "f8"
         },
         "xaxis": "x6",
         "yaxis": "y6"
        },
        {
         "name": "3P%",
         "showlegend": false,
         "type": "histogram",
         "x": {
          "bdata": "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",
          "dtype": "f8"
         },
         "xaxis": "x7",
         "yaxis": "y7"
        },
        {
         "name": "FTA",
         "showlegend": false,
         "type": "histogram",
         "x": {
          "bdata": "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",
          "dtype": "f8"
         },
         "xaxis": "x8",
         "yaxis": "y8"
        },
        {
         "name": "FT%",
         "showlegend": false,
         "type": "histogram",
         "x": {
          "bdata": "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",
          "dtype": "f8"
         },
         "xaxis": "x9",
         "yaxis": "y9"
        },
        {
         "name": "OREB",
         "showlegend": false,
         "type": "histogram",
         "x": {
          "bdata": "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",
          "dtype": "f8"
         },
         "xaxis": "x10",
         "yaxis": "y10"
        },
        {
         "name": "REB",
         "showlegend": false,
         "type": "histogram",
         "x": {
          "bdata": "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",
          "dtype": "f8"
         },
         "xaxis": "x11",
         "yaxis": "y11"
        },
        {
         "name": "AST",
         "showlegend": false,
         "type": "histogram",
         "x": {
          "bdata": "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",
          "dtype": "f8"
         },
         "xaxis": "x12",
         "yaxis": "y12"
        },
        {
         "name": "STL",
         "showlegend": false,
         "type": "histogram",
         "x": {
          "bdata": "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",
          "dtype": "f8"
         },
         "xaxis": "x13",
         "yaxis": "y13"
        },
        {
         "name": "BLK",
         "showlegend": false,
         "type": "histogram",
         "x": {
          "bdata": "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",
          "dtype": "f8"
         },
         "xaxis": "x14",
         "yaxis": "y14"
        },
        {
         "name": "TOV",
         "showlegend": false,
         "type": "histogram",
         "x": {
          "bdata": "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",
          "dtype": "f8"
         },
         "xaxis": "x15",
         "yaxis": "y15"
        },
        {
         "name": "TARGET_5Yrs",
         "showlegend": false,
         "type": "histogram",
         "x": {
          "bdata": "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",
          "dtype": "f8"
         },
         "xaxis": "x16",
         "yaxis": "y16"
        },
        {
         "name": "3P%_capped",
         "showlegend": false,
         "type": "histogram",
         "x": {
          "bdata": "AQEBAQEBAQEBAQEBAQEBAQEBAQEBAQEBAQEBAQEBAQEBAQEBAQEBAQEBAQEBAQEBAQEBAQEBAQEBAQEBAQEBAQEBAQEBAQEBAQEBAQEBAQEBAQEBAQEBAQEBAQEBAQEBAQEBAQEBAQEBAQEBAQEBAQEBAQEBAQEBAQEBAQEBAQEBAQEBAQEBAQEBAQEBAQEBAQEBAQEBAQEBAQEBAQEBAQEBAQEBAQEBAQEBAQEBAQEBAQEBAQEBAQEBAQEBAQEBAQEBAQEBAQEBAQEBAQEBAQEBAQEBAQEBAQEBAQEBAQEBAQEBAQEBAQEBAQEBAQEBAQEBAQEBAQEBAQEBAQEBAQEBAQEBAQEBAQEBAQEBAQEBAQEBAQEBAQEBAQEBAQEBAQEBAQEBAQEBAQEBAQEBAQEBAQEBAQEBAQEBAQEBAQEBAQEBAQEBAQEBAQEBAQEBAQEBAQEBAQEBAQEBAQEBAQEBAQEBAQEBAQEBAQEBAQEBAQEBAQEBAQEBAQEBAQEBAQEBAQEBAQEBAQEBAQEBAQEBAQEBAQEBAQEBAQEBAQEBAQEBAQEBAQEBAQEBAQEBAQEBAQEBAQEBAQEBAQEBAQEBAQEBAQEBAQEBAQEBAQEBAQEBAQEBAQEBAQEBAQEBAQEBAQEBAQEBAQEBAQEBAQEBAQEBAQEBAQEBAQEBAQEBAQEBAQEBAQEBAQEBAQEBAQEBAQEBAQEBAQEBAQEBAQEBAQEBAQEBAQEBAQEBAQEBAQEBAQEBAQEBAQEBAQEBAQEBAQEBAQEBAQEBAQEBAQEBAQEBAQEBAQEBAQEBAQEBAQEBAQEBAQEBAQEBAQEBAQEBAQEBAQEBAQEBAQEBAQEBAQEBAQEBAQEBAQEBAQEBAQEBAQEBAQEBAQEBAQEBAQEBAQEBAQEBAQEBAQEBAQEBAQEBAQEBAQEBAQEBAQEBAQEBAQEBAQEBAQEBAQEBAQEBAQEBAQEBAQEBAQEBAQEBAQEBAQEBAQEBAQEBAQEBAQEBAQEBAQEBAQEBAQEBAQEBAQEBAQEBAQEBAQEBAQEBAQEBAQEBAQEBAQEBAQEBAQEBAQEBAQEBAQEBAQEBAQEBAQEBAQEBAQEBAQEBAQEBAQEBAQEBAQEBAQEBAQEBAQEBAQEBAQEBAQEBAQEBAQEBAQEBAQEBAQEBAQEBAQEBAQEBAQEBAQEBAQEBAQEBAQEBAQEBAQEBAQEBAQEBAQEBAQEBAQEBAQEBAQEBAQEBAQEBAQEBAQEBAQEBAQEBAQEBAQEBAQEBAQEBAQEBAQEBAQEBAQEBAQEBAQEBAQEBAQEBAQEBAQEBAQEBAQEBAQEBAQEBAQEBAQEBAQEBAQEBAQEBAQEBAQEBAQEBAQEBAQEBAQEBAQEBAQEBAQEBAQEBAQEBAQEBAQEBAQEBAQEBAQEBAQEBAQEBAQEBAQEBAQEBAQEBAQEBAQEBAQEBAQEBAQEBAQEBAQEBAQEBAQEBAQEBAQEBAQEBAQEBAQEBAQEBAQEBAQEBAQEBAQEBAQEBAQEBAQEBAQEBAQEBAQEBAQEBAQEBAQEBAQEBAQEBAQEBAQEBAQEBAQEBAQEBAQEBAQEBAQEBAQEBAQEBAQEBAQEBAQEBAQEBAQEBAQEBAQEBAQEBAQEBAQEBAQEBAQEBAQEBAQEBAQEBAQEBAQEBAQEBAQEBAQEBAQEBAQEBAQEBAQEBAQEBAQEBAQEBAQEBAQEBAQ==",
          "dtype": "i1"
         },
         "xaxis": "x17",
         "yaxis": "y17"
        },
        {
         "name": "3PA_capped",
         "showlegend": false,
         "type": "histogram",
         "x": {
          "bdata": "AQEBAQEBAQEBAQEBAQEBAQEBAQEBAQEBAQEBAQEBAQEBAQEBAQEBAQEBAQEBAQEBAQEBAQEBAQEBAQEBAQEBAQEBAQEBAQEBAQEBAQEBAQEBAQEBAQEBAQEBAQEBAQEBAQEBAQEBAQEBAQEBAQEBAQEBAQEBAQEBAQEBAQEBAQEBAQEBAQEBAQEBAQEBAQEBAQEBAQEBAQEBAQEBAQEBAQEBAQEBAQEBAQEBAQEBAQEBAQEBAQEBAQEBAQEBAQEBAQEBAQEBAQEBAQEBAQEBAQEBAQEBAQEBAQEBAQEBAQEBAQEBAQEBAQEBAQEBAQEBAQEBAQEBAQEBAQEBAQEBAQEBAQEBAQEBAQEBAQEBAQEBAQEBAQEBAQEBAQEBAQEBAQEBAQEBAQEBAQEBAQEBAQEBAQEBAQEBAQEBAQEBAQEBAQEBAQEBAQEBAQEBAQEBAQEBAQEBAQEBAQEBAQEBAQEBAQEBAQEBAQEBAQEBAQEBAQEBAQEBAQEBAQEBAQEBAQEBAQEBAQEBAQEBAQEBAQEBAQEBAQEBAQEBAQEBAQEBAQEBAQEBAQEBAQEBAQEBAQEBAQEBAQEBAQEBAQEBAQEBAQEBAQEBAQEBAQEBAQEBAQEBAQEBAQEBAQEBAQEBAQEBAQEBAQEBAQEBAQEBAQEBAQEBAQEBAQEBAQEBAQEBAQEBAQEBAQEBAQEBAQEBAQEBAQEBAQEBAQEBAQEBAQEBAQEBAQEBAQEBAQEBAQEBAQEBAQEBAQEBAQEBAQEBAQEBAQEBAQEBAQEBAQEBAQEBAQEBAQEBAQEBAQEBAQEBAQEBAQEBAQEBAQEBAQEBAQEBAQEBAQEBAQEBAQEBAQEBAQEBAQEBAQEBAQEBAQEBAQEBAQEBAQEBAQEBAQEBAQEBAQEBAQEBAQEBAQEBAQEBAQEBAQEBAQEBAQEBAQEBAQEBAQEBAQEBAQEBAQEBAQEBAQEBAQEBAQEBAQEBAQEBAQEBAQEBAQEBAQEBAQEBAQEBAQEBAQEBAQEBAQEBAQEBAQEBAQEBAQEBAQEBAQEBAQEBAQEBAQEBAQEBAQEBAQEBAQEBAQEBAQEBAQEBAQEBAQEBAQEBAQEBAQEBAQEBAQEBAQEBAQEBAQEBAQEBAQEBAQEBAQEBAQEBAQEBAQEBAQEBAQEBAQEBAQEBAQEBAQEBAQEBAQEBAQEBAQEBAQEBAQEBAQEBAQEBAQEBAQEBAQEBAQEBAQEBAQEBAQEBAQEBAQEBAQEBAQEBAQEBAQEBAQEBAQEBAQEBAQEBAQEBAQEBAQEBAQEBAQEBAQEBAQEBAQEBAQEBAQEBAQEBAQEBAQEBAQEBAQEBAQEBAQEBAQEBAQEBAQEBAQEBAQEBAQEBAQEBAQEBAQEBAQEBAQEBAQEBAQEBAQEBAQEBAQEBAQEBAQEBAQEBAQEBAQEBAQEBAQEBAQEBAQEBAQEBAQEBAQEBAQEBAQEBAQEBAQEBAQEBAQEBAQEBAQEBAQEBAQEBAQEBAQEBAQEBAQEBAQEBAQEBAQEBAQEBAQEBAQEBAQEBAQEBAQEBAQEBAQEBAQEBAQEBAQEBAQEBAQEBAQEBAQEBAQEBAQEBAQEBAQEBAQEBAQEBAQEBAQEBAQEBAQEBAQEBAQEBAQEBAQEBAQEBAQEBAQEBAQEBAQEBAQEBAQEBAQEBAQEBAQEBAQEBAQEBAQEBAQEBAQEBAQEBAQEBAQEBAQ==",
          "dtype": "i1"
         },
         "xaxis": "x18",
         "yaxis": "y18"
        },
        {
         "name": "AST_capped",
         "showlegend": false,
         "type": "histogram",
         "x": {
          "bdata": "AQEBAQEBAQEBAQEBAQEBAQEBAQEBAQEBAQEBAQEBAQEBAQEBAQEBAQEBAQEBAQEBAQEBAQEBAQEBAQEBAQEBAQEBAQEBAQEBAQEBAQEBAQEBAQEBAQEBAQEBAQEBAQEBAQEBAQEBAQEBAQEBAQEBAQEBAQEBAQEBAQEBAQEBAQEBAQEBAQEBAQEBAQEBAQEBAQEBAQEBAQEBAQEBAQEBAQEBAQEBAQEBAQEBAQEBAQEBAQEBAQEBAQEBAQEBAQEBAQEBAQEBAQEBAQEBAQEBAQEBAQEBAQEBAQEBAQEBAQEBAQEBAQEBAQEBAQEBAQEBAQEBAQEBAQEBAQEBAQEBAQEBAQEBAQEBAQEBAQEBAQEBAQEBAQEBAQEBAQEBAQEBAQEBAQEBAQEBAQEBAQEBAQEBAQEBAQEBAQEBAQEBAQEBAQEBAQEBAQEBAQEBAQEBAQEBAQEBAQEBAQEBAQEBAQEBAQEBAQEBAQEBAQEBAQEBAQEBAQEBAQEBAQEBAQEBAQEBAQEBAQEBAQEBAQEBAQEBAQEBAQEBAQEBAQEBAQEBAQEBAQEBAQEBAQEBAQEBAQEBAQEBAQEBAQEBAQEBAQEBAQEBAQEBAQEBAQEBAQEBAQEBAQEBAQEBAQEBAQEBAQEBAQEBAQEBAQEBAQEBAQEBAQEBAQEBAQEBAQEBAQEBAQEBAQEBAQEBAQEBAQEBAQEBAQEBAQEBAQEBAQEBAQEBAQEBAQEBAQEBAQEBAQEBAQEBAQEBAQEBAQEBAQEBAQEBAQEBAQEBAQEBAQEBAQEBAQEBAQEBAQEBAQEBAQEBAQEBAQEBAQEBAQEBAQEBAQEBAQEBAQEBAQEBAQEBAQEBAQEBAQEBAQEBAQEBAQEBAQEBAQEBAQEBAQEBAQEBAQEBAQEBAQEBAQEBAQEBAQEBAQEBAQEBAQEBAQEBAQEBAQEBAQEBAQEBAQEBAQEBAQEBAQEBAQEBAQEBAQEBAQEBAQEBAQEBAQEBAQEBAQEBAQEBAQEBAQEBAQEBAQEBAQEBAQEBAQEBAQEBAQEBAQEBAQEBAQEBAQEBAQEBAQEBAQEBAQEBAQEBAQEBAQEBAQEBAQEBAQEBAQEBAQEBAQEBAQEBAQEBAQEBAQEBAQEBAQEBAQEBAQEBAQEBAQEBAQEBAQEBAQEBAQEBAQEBAQEBAQEBAQEBAQEBAQEBAQEBAQEBAQEBAQEBAQEBAQEBAQEBAQEBAQEBAQEBAQEBAQEBAQEBAQEBAQEBAQEBAQEBAQEBAQEBAQEBAQEBAQEBAQEBAQEBAQEBAQEBAQEBAQEBAQEBAQEBAQEBAQEBAQEBAQEBAQEBAQEBAQEBAQEBAQEBAQEBAQEBAQEBAQEBAQEBAQEBAQEBAQEBAQEBAQEBAQEBAQEBAQEBAQEBAQEBAQEBAQEBAQEBAQEBAQEBAQEBAQEBAQEBAQEBAQEBAQEBAQEBAQEBAQEBAQEBAQEBAQEBAQEBAQEBAQEBAQEBAQEBAQEBAQEBAQEBAQEBAQEBAQEBAQEBAQEBAQEBAQEBAQEBAQEBAQEBAQEBAQEBAQEBAQEBAQEBAQEBAQEBAQEBAQEBAQEBAQEBAQEBAQEBAQEBAQEBAQEBAQEBAQEBAQEBAQEBAQEBAQEBAQEBAQEBAQEBAQEBAQEBAQEBAQEBAQEBAQEBAQEBAQEBAQEBAQEBAQEBAQEBAQEBAQEBAQEBAQEBAQEBAQ==",
          "dtype": "i1"
         },
         "xaxis": "x19",
         "yaxis": "y19"
        },
        {
         "name": "BLK_capped",
         "showlegend": false,
         "type": "histogram",
         "x": {
          "bdata": "AQEBAQEBAQEBAQEBAQEBAQEBAQEBAQEBAQEBAQEBAQEBAQEBAQEBAQEBAQEBAQEBAQEBAQEBAQEBAQEBAQEBAQEBAQEBAQEBAQEBAQEBAQEBAQEBAQEBAQEBAQEBAQEBAQEBAQEBAQEBAQEBAQEBAQEBAQEBAQEBAQEBAQEBAQEBAQEBAQEBAQEBAQEBAQEBAQEBAQEBAQEBAQEBAQEBAQEBAQEBAQEBAQEBAQEBAQEBAQEBAQEBAQEBAQEBAQEBAQEBAQEBAQEBAQEBAQEBAQEBAQEBAQEBAQEBAQEBAQEBAQEBAQEBAQEBAQEBAQEBAQEBAQEBAQEBAQEBAQEBAQEBAQEBAQEBAQEBAQEBAQEBAQEBAQEBAQEBAQEBAQEBAQEBAQEBAQEBAQEBAQEBAQEBAQEBAQEBAQEBAQEBAQEBAQEBAQEBAQEBAQEBAQEBAQEBAQEBAQEBAQEBAQEBAQEBAQEBAQEBAQEBAQEBAQEBAQEBAQEBAQEBAQEBAQEBAQEBAQEBAQEBAQEBAQEBAQEBAQEBAQEBAQEBAQEBAQEBAQEBAQEBAQEBAQEBAQEBAQEBAQEBAQEBAQEBAQEBAQEBAQEBAQEBAQEBAQEBAQEBAQEBAQEBAQEBAQEBAQEBAQEBAQEBAQEBAQEBAQEBAQEBAQEBAQEBAQEBAQEBAQEBAQEBAQEBAQEBAQEBAQEBAQEBAQEBAQEBAQEBAQEBAQEBAQEBAQEBAQEBAQEBAQEBAQEBAQEBAQEBAQEBAQEBAQEBAQEBAQEBAQEBAQEBAQEBAQEBAQEBAQEBAQEBAQEBAQEBAQEBAQEBAQEBAQEBAQEBAQEBAQEBAQEBAQEBAQEBAQEBAQEBAQEBAQEBAQEBAQEBAQEBAQEBAQEBAQEBAQEBAQEBAQEBAQEBAQEBAQEBAQEBAQEBAQEBAQEBAQEBAQEBAQEBAQEBAQEBAQEBAQEBAQEBAQEBAQEBAQEBAQEBAQEBAQEBAQEBAQEBAQEBAQEBAQEBAQEBAQEBAQEBAQEBAQEBAQEBAQEBAQEBAQEBAQEBAQEBAQEBAQEBAQEBAQEBAQEBAQEBAQEBAQEBAQEBAQEBAQEBAQEBAQEBAQEBAQEBAQEBAQEBAQEBAQEBAQEBAQEBAQEBAQEBAQEBAQEBAQEBAQEBAQEBAQEBAQEBAQEBAQEBAQEBAQEBAQEBAQEBAQEBAQEBAQEBAQEBAQEBAQEBAQEBAQEBAQEBAQEBAQEBAQEBAQEBAQEBAQEBAQEBAQEBAQEBAQEBAQEBAQEBAQEBAQEBAQEBAQEBAQEBAQEBAQEBAQEBAQEBAQEBAQEBAQEBAQEBAQEBAQEBAQEBAQEBAQEBAQEBAQEBAQEBAQEBAQEBAQEBAQEBAQEBAQEBAQEBAQEBAQEBAQEBAQEBAQEBAQEBAQEBAQEBAQEBAQEBAQEBAQEBAQEBAQEBAQEBAQEBAQEBAQEBAQEBAQEBAQEBAQEBAQEBAQEBAQEBAQEBAQEBAQEBAQEBAQEBAQEBAQEBAQEBAQEBAQEBAQEBAQEBAQEBAQEBAQEBAQEBAQEBAQEBAQEBAQEBAQEBAQEBAQEBAQEBAQEBAQEBAQEBAQEBAQEBAQEBAQEBAQEBAQEBAQEBAQEBAQEBAQEBAQEBAQEBAQEBAQEBAQEBAQEBAQEBAQEBAQEBAQEBAQEBAQEBAQEBAQEBAQEBAQEBAQEBAQEBAQ==",
          "dtype": "i1"
         },
         "xaxis": "x20",
         "yaxis": "y20"
        },
        {
         "name": "FG%_capped",
         "showlegend": false,
         "type": "histogram",
         "x": {
          "bdata": "AQEBAQEBAQEBAQEBAQEBAQEBAQEBAQEBAQEBAQEBAQEBAQEBAQEBAQEBAQEBAQEBAQEBAQEBAQEBAQEBAQEBAQEBAQEBAQEBAQEBAQEBAQEBAQEBAQEBAQEBAQEBAQEBAQEBAQEBAQEBAQEBAQEBAQEBAQEBAQEBAQEBAQEBAQEBAQEBAQEBAQEBAQEBAQEBAQEBAQEBAQEBAQEBAQEBAQEBAQEBAQEBAQEBAQEBAQEBAQEBAQEBAQEBAQEBAQEBAQEBAQEBAQEBAQEBAQEBAQEBAQEBAQEBAQEBAQEBAQEBAQEBAQEBAQEBAQEBAQEBAQEBAQEBAQEBAQEBAQEBAQEBAQEBAQEBAQEBAQEBAQEBAQEBAQEBAQEBAQEBAQEBAQEBAQEBAQEBAQEBAQEBAQEBAQEBAQEBAQEBAQEBAQEBAQEBAQEBAQEBAQEBAQEBAQEBAQEBAQEBAQEBAQEBAQEBAQEBAQEBAQEBAQEBAQEBAQEBAQEBAQEBAQEBAQEBAQEBAQEBAQEBAQEBAQEBAQEBAQEBAQEBAQEBAQEBAQEBAQEBAQEBAQEBAQEBAQEBAQEBAQEBAQEBAQEBAQEBAQEBAQEBAQEBAQEBAQEBAQEBAQEBAQEBAQEBAQEBAQEBAQEBAQEBAQEBAQEBAQEBAQEBAQEBAQEBAQEBAQEBAQEBAQEBAQEBAQEBAQEBAQEBAQEBAQEBAQEBAQEBAQEBAQEBAQEBAQEBAQEBAQEBAQEBAQEBAQEBAQEBAQEBAQEBAQEBAQEBAQEBAQEBAQEBAQEBAQEBAQEBAQEBAQEBAQEBAQEBAQEBAQEBAQEBAQEBAQEBAQEBAQEBAQEBAQEBAQEBAQEBAQEBAQEBAQEBAQEBAQEBAQEBAQEBAQEBAQEBAQEBAQEBAQEBAQEBAQEBAQEBAQEBAQEBAQEBAQEBAQEBAQEBAQEBAQEBAQEBAQEBAQEBAQEBAQEBAQEBAQEBAQEBAQEBAQEBAQEBAQEBAQEBAQEBAQEBAQEBAQEBAQEBAQEBAQEBAQEBAQEBAQEBAQEBAQEBAQEBAQEBAQEBAQEBAQEBAQEBAQEBAQEBAQEBAQEBAQEBAQEBAQEBAQEBAQEBAQEBAQEBAQEBAQEBAQEBAQEBAQEBAQEBAQEBAQEBAQEBAQEBAQEBAQEBAQEBAQEBAQEBAQEBAQEBAQEBAQEBAQEBAQEBAQEBAQEBAQEBAQEBAQEBAQEBAQEBAQEBAQEBAQEBAQEBAQEBAQEBAQEBAQEBAQEBAQEBAQEBAQEBAQEBAQEBAQEBAQEBAQEBAQEBAQEBAQEBAQEBAQEBAQEBAQEBAQEBAQEBAQEBAQEBAQEBAQEBAQEBAQEBAQEBAQEBAQEBAQEBAQEBAQEBAQEBAQEBAQEBAQEBAQEBAQEBAQEBAQEBAQEBAQEBAQEBAQEBAQEBAQEBAQEBAQEBAQEBAQEBAQEBAQEBAQEBAQEBAQEBAQEBAQEBAQEBAQEBAQEBAQEBAQEBAQEBAQEBAQEBAQEBAQEBAQEBAQEBAQEBAQEBAQEBAQEBAQEBAQEBAQEBAQEBAQEBAQEBAQEBAQEBAQEBAQEBAQEBAQEBAQEBAQEBAQEBAQEBAQEBAQEBAQEBAQEBAQEBAQEBAQEBAQEBAQEBAQEBAQEBAQEBAQEBAQEBAQEBAQEBAQEBAQEBAQEBAQEBAQEBAQEBAQEBAQEBAQEBAQEBAQ==",
          "dtype": "i1"
         },
         "xaxis": "x21",
         "yaxis": "y21"
        },
        {
         "name": "FGA_capped",
         "showlegend": false,
         "type": "histogram",
         "x": {
          "bdata": "AQEBAQEBAQEBAQEBAQEBAQEBAQEBAQEBAQEBAQEBAQEBAQEBAQEBAQEBAQEBAQEBAQEBAQEBAQEBAQEBAQEBAQEBAQEBAQEBAQEBAQEBAQEBAQEBAQEBAQEBAQEBAQEBAQEBAQEBAQEBAQEBAQEBAQEBAQEBAQEBAQEBAQEBAQEBAQEBAQEBAQEBAQEBAQEBAQEBAQEBAQEBAQEBAQEBAQEBAQEBAQEBAQEBAQEBAQEBAQEBAQEBAQEBAQEBAQEBAQEBAQEBAQEBAQEBAQEBAQEBAQEBAQEBAQEBAQEBAQEBAQEBAQEBAQEBAQEBAQEBAQEBAQEBAQEBAQEBAQEBAQEBAQEBAQEBAQEBAQEBAQEBAQEBAQEBAQEBAQEBAQEBAQEBAQEBAQEBAQEBAQEBAQEBAQEBAQEBAQEBAQEBAQEBAQEBAQEBAQEBAQEBAQEBAQEBAQEBAQEBAQEBAQEBAQEBAQEBAQEBAQEBAQEBAQEBAQEBAQEBAQEBAQEBAQEBAQEBAQEBAQEBAQEBAQEBAQEBAQEBAQEBAQEBAQEBAQEBAQEBAQEBAQEBAQEBAQEBAQEBAQEBAQEBAQEBAQEBAQEBAQEBAQEBAQEBAQEBAQEBAQEBAQEBAQEBAQEBAQEBAQEBAQEBAQEBAQEBAQEBAQEBAQEBAQEBAQEBAQEBAQEBAQEBAQEBAQEBAQEBAQEBAQEBAQEBAQEBAQEBAQEBAQEBAQEBAQEBAQEBAQEBAQEBAQEBAQEBAQEBAQEBAQEBAQEBAQEBAQEBAQEBAQEBAQEBAQEBAQEBAQEBAQEBAQEBAQEBAQEBAQEBAQEBAQEBAQEBAQEBAQEBAQEBAQEBAQEBAQEBAQEBAQEBAQEBAQEBAQEBAQEBAQEBAQEBAQEBAQEBAQEBAQEBAQEBAQEBAQEBAQEBAQEBAQEBAQEBAQEBAQEBAQEBAQEBAQEBAQEBAQEBAQEBAQEBAQEBAQEBAQEBAQEBAQEBAQEBAQEBAQEBAQEBAQEBAQEBAQEBAQEBAQEBAQEBAQEBAQEBAQEBAQEBAQEBAQEBAQEBAQEBAQEBAQEBAQEBAQEBAQEBAQEBAQEBAQEBAQEBAQEBAQEBAQEBAQEBAQEBAQEBAQEBAQEBAQEBAQEBAQEBAQEBAQEBAQEBAQEBAQEBAQEBAQEBAQEBAQEBAQEBAQEBAQEBAQEBAQEBAQEBAQEBAQEBAQEBAQEBAQEBAQEBAQEBAQEBAQEBAQEBAQEBAQEBAQEBAQEBAQEBAQEBAQEBAQEBAQEBAQEBAQEBAQEBAQEBAQEBAQEBAQEBAQEBAQEBAQEBAQEBAQEBAQEBAQEBAQEBAQEBAQEBAQEBAQEBAQEBAQEBAQEBAQEBAQEBAQEBAQEBAQEBAQEBAQEBAQEBAQEBAQEBAQEBAQEBAQEBAQEBAQEBAQEBAQEBAQEBAQEBAQEBAQEBAQEBAQEBAQEBAQEBAQEBAQEBAQEBAQEBAQEBAQEBAQEBAQEBAQEBAQEBAQEBAQEBAQEBAQEBAQEBAQEBAQEBAQEBAQEBAQEBAQEBAQEBAQEBAQEBAQEBAQEBAQEBAQEBAQEBAQEBAQEBAQEBAQEBAQEBAQEBAQEBAQEBAQEBAQEBAQEBAQEBAQEBAQEBAQEBAQEBAQEBAQEBAQEBAQEBAQEBAQEBAQEBAQEBAQEBAQEBAQEBAQEBAQEBAQEBAQEBAQEBAQEBAQ==",
          "dtype": "i1"
         },
         "xaxis": "x22",
         "yaxis": "y22"
        },
        {
         "name": "FT%_capped",
         "showlegend": false,
         "type": "histogram",
         "x": {
          "bdata": "AQEBAQEBAQEBAQEBAQEBAQEBAQEBAQEBAQEBAQEBAQEBAQEBAQEBAQEBAQEBAQEBAQEBAQEBAQEBAQEBAQEBAQEBAQEBAQEBAQEBAQEBAQEBAQEBAQEBAQEBAQEBAQEBAQEBAQEBAQEBAQEBAQEBAQEBAQEBAQEBAQEBAQEBAQEBAQEBAQEBAQEBAQEBAQEBAQEBAQEBAQEBAQEBAQEBAQEBAQEBAQEBAQEBAQEBAQEBAQEBAQEBAQEBAQEBAQEBAQEBAQEBAQEBAQEBAQEBAQEBAQEBAQEBAQEBAQEBAQEBAQEBAQEBAQEBAQEBAQEBAQEBAQEBAQEBAQEBAQEBAQEBAQEBAQEBAQEBAQEBAQEBAQEBAQEBAQEBAQEBAQEBAQEBAQEBAQEBAQEBAQEBAQEBAQEBAQEBAQEBAQEBAQEBAQEBAQEBAQEBAQEBAQEBAQEBAQEBAQEBAQEBAQEBAQEBAQEBAQEBAQEBAQEBAQEBAQEBAQEBAQEBAQEBAQEBAQEBAQEBAQEBAQEBAQEBAQEBAQEBAQEBAQEBAQEBAQEBAQEBAQEBAQEBAQEBAQEBAQEBAQEBAQEBAQEBAQEBAQEBAQEBAQEBAQEBAQEBAQEBAQEBAQEBAQEBAQEBAQEBAQEBAQEBAQEBAQEBAQEBAQEBAQEBAQEBAQEBAQEBAQEBAQEBAQEBAQEBAQEBAQEBAQEBAQEBAQEBAQEBAQEBAQEBAQEBAQEBAQEBAQEBAQEBAQEBAQEBAQEBAQEBAQEBAQEBAQEBAQEBAQEBAQEBAQEBAQEBAQEBAQEBAQEBAQEBAQEBAQEBAQEBAQEBAQEBAQEBAQEBAQEBAQEBAQEBAQEBAQEBAQEBAQEBAQEBAQEBAQEBAQEBAQEBAQEBAQEBAQEBAQEBAQEBAQEBAQEBAQEBAQEBAQEBAQEBAQEBAQEBAQEBAQEBAQEBAQEBAQEBAQEBAQEBAQEBAQEBAQEBAQEBAQEBAQEBAQEBAQEBAQEBAQEBAQEBAQEBAQEBAQEBAQEBAQEBAQEBAQEBAQEBAQEBAQEBAQEBAQEBAQEBAQEBAQEBAQEBAQEBAQEBAQEBAQEBAQEBAQEBAQEBAQEBAQEBAQEBAQEBAQEBAQEBAQEBAQEBAQEBAQEBAQEBAQEBAQEBAQEBAQEBAQEBAQEBAQEBAQEBAQEBAQEBAQEBAQEBAQEBAQEBAQEBAQEBAQEBAQEBAQEBAQEBAQEBAQEBAQEBAQEBAQEBAQEBAQEBAQEBAQEBAQEBAQEBAQEBAQEBAQEBAQEBAQEBAQEBAQEBAQEBAQEBAQEBAQEBAQEBAQEBAQEBAQEBAQEBAQEBAQEBAQEBAQEBAQEBAQEBAQEBAQEBAQEBAQEBAQEBAQEBAQEBAQEBAQEBAQEBAQEBAQEBAQEBAQEBAQEBAQEBAQEBAQEBAQEBAQEBAQEBAQEBAQEBAQEBAQEBAQEBAQEBAQEBAQEBAQEBAQEBAQEBAQEBAQEBAQEBAQEBAQEBAQEBAQEBAQEBAQEBAQEBAQEBAQEBAQEBAQEBAQEBAQEBAQEBAQEBAQEBAQEBAQEBAQEBAQEBAQEBAQEBAQEBAQEBAQEBAQEBAQEBAQEBAQEBAQEBAQEBAQEBAQEBAQEBAQEBAQEBAQEBAQEBAQEBAQEBAQEBAQEBAQEBAQEBAQEBAQEBAQEBAQEBAQEBAQEBAQEBAQEBAQEBAQEBAQ==",
          "dtype": "i1"
         },
         "xaxis": "x23",
         "yaxis": "y23"
        },
        {
         "name": "FTA_capped",
         "showlegend": false,
         "type": "histogram",
         "x": {
          "bdata": "AQEBAQEBAQEBAQEBAQEBAQEBAQEBAQEBAQEBAQEBAQEBAQEBAQEBAQEBAQEBAQEBAQEBAQEBAQEBAQEBAQEBAQEBAQEBAQEBAQEBAQEBAQEBAQEBAQEBAQEBAQEBAQEBAQEBAQEBAQEBAQEBAQEBAQEBAQEBAQEBAQEBAQEBAQEBAQEBAQEBAQEBAQEBAQEBAQEBAQEBAQEBAQEBAQEBAQEBAQEBAQEBAQEBAQEBAQEBAQEBAQEBAQEBAQEBAQEBAQEBAQEBAQEBAQEBAQEBAQEBAQEBAQEBAQEBAQEBAQEBAQEBAQEBAQEBAQEBAQEBAQEBAQEBAQEBAQEBAQEBAQEBAQEBAQEBAQEBAQEBAQEBAQEBAQEBAQEBAQEBAQEBAQEBAQEBAQEBAQEBAQEBAQEBAQEBAQEBAQEBAQEBAQEBAQEBAQEBAQEBAQEBAQEBAQEBAQEBAQEBAQEBAQEBAQEBAQEBAQEBAQEBAQEBAQEBAQEBAQEBAQEBAQEBAQEBAQEBAQEBAQEBAQEBAQEBAQEBAQEBAQEBAQEBAQEBAQEBAQEBAQEBAQEBAQEBAQEBAQEBAQEBAQEBAQEBAQEBAQEBAQEBAQEBAQEBAQEBAQEBAQEBAQEBAQEBAQEBAQEBAQEBAQEBAQEBAQEBAQEBAQEBAQEBAQEBAQEBAQEBAQEBAQEBAQEBAQEBAQEBAQEBAQEBAQEBAQEBAQEBAQEBAQEBAQEBAQEBAQEBAQEBAQEBAQEBAQEBAQEBAQEBAQEBAQEBAQEBAQEBAQEBAQEBAQEBAQEBAQEBAQEBAQEBAQEBAQEBAQEBAQEBAQEBAQEBAQEBAQEBAQEBAQEBAQEBAQEBAQEBAQEBAQEBAQEBAQEBAQEBAQEBAQEBAQEBAQEBAQEBAQEBAQEBAQEBAQEBAQEBAQEBAQEBAQEBAQEBAQEBAQEBAQEBAQEBAQEBAQEBAQEBAQEBAQEBAQEBAQEBAQEBAQEBAQEBAQEBAQEBAQEBAQEBAQEBAQEBAQEBAQEBAQEBAQEBAQEBAQEBAQEBAQEBAQEBAQEBAQEBAQEBAQEBAQEBAQEBAQEBAQEBAQEBAQEBAQEBAQEBAQEBAQEBAQEBAQEBAQEBAQEBAQEBAQEBAQEBAQEBAQEBAQEBAQEBAQEBAQEBAQEBAQEBAQEBAQEBAQEBAQEBAQEBAQEBAQEBAQEBAQEBAQEBAQEBAQEBAQEBAQEBAQEBAQEBAQEBAQEBAQEBAQEBAQEBAQEBAQEBAQEBAQEBAQEBAQEBAQEBAQEBAQEBAQEBAQEBAQEBAQEBAQEBAQEBAQEBAQEBAQEBAQEBAQEBAQEBAQEBAQEBAQEBAQEBAQEBAQEBAQEBAQEBAQEBAQEBAQEBAQEBAQEBAQEBAQEBAQEBAQEBAQEBAQEBAQEBAQEBAQEBAQEBAQEBAQEBAQEBAQEBAQEBAQEBAQEBAQEBAQEBAQEBAQEBAQEBAQEBAQEBAQEBAQEBAQEBAQEBAQEBAQEBAQEBAQEBAQEBAQEBAQEBAQEBAQEBAQEBAQEBAQEBAQEBAQEBAQEBAQEBAQEBAQEBAQEBAQEBAQEBAQEBAQEBAQEBAQEBAQEBAQEBAQEBAQEBAQEBAQEBAQEBAQEBAQEBAQEBAQEBAQEBAQEBAQEBAQEBAQEBAQEBAQEBAQEBAQEBAQEBAQEBAQEBAQEBAQEBAQEBAQEBAQEBAQEBAQ==",
          "dtype": "i1"
         },
         "xaxis": "x24",
         "yaxis": "y24"
        },
        {
         "name": "GP_capped",
         "showlegend": false,
         "type": "histogram",
         "x": {
          "bdata": "AQEBAQEBAQEBAQEBAQEBAQEBAQEBAQEBAQEBAQEBAQEBAQEBAQEBAQEBAQEBAQEBAQEBAQEBAQEBAQEBAQEBAQEBAQEBAQEBAQEBAQEBAQEBAQEBAQEBAQEBAQEBAQEBAQEBAQEBAQEBAQEBAQEBAQEBAQEBAQEBAQEBAQEBAQEBAQEBAQEBAQEBAQEBAQEBAQEBAQEBAQEBAQEBAQEBAQEBAQEBAQEBAQEBAQEBAQEBAQEBAQEBAQEBAQEBAQEBAQEBAQEBAQEBAQEBAQEBAQEBAQEBAQEBAQEBAQEBAQEBAQEBAQEBAQEBAQEBAQEBAQEBAQEBAQEBAQEBAQEBAQEBAQEBAQEBAQEBAQEBAQEBAQEBAQEBAQEBAQEBAQEBAQEBAQEBAQEBAQEBAQEBAQEBAQEBAQEBAQEBAQEBAQEBAQEBAQEBAQEBAQEBAQEBAQEBAQEBAQEBAQEBAQEBAQEBAQEBAQEBAQEBAQEBAQEBAQEBAQEBAQEBAQEBAQEBAQEBAQEBAQEBAQEBAQEBAQEBAQEBAQEBAQEBAQEBAQEBAQEBAQEBAQEBAQEBAQEBAQEBAQEBAQEBAQEBAQEBAQEBAQEBAQEBAQEBAQEBAQEBAQEBAQEBAQEBAQEBAQEBAQEBAQEBAQEBAQEBAQEBAQEBAQEBAQEBAQEBAQEBAQEBAQEBAQEBAQEBAQEBAQEBAQEBAQEBAQEBAQEBAQEBAQEBAQEBAQEBAQEBAQEBAQEBAQEBAQEBAQEBAQEBAQEBAQEBAQEBAQEBAQEBAQEBAQEBAQEBAQEBAQEBAQEBAQEBAQEBAQEBAQEBAQEBAQEBAQEBAQEBAQEBAQEBAQEBAQEBAQEBAQEBAQEBAQEBAQEBAQEBAQEBAQEBAQEBAQEBAQEBAQEBAQEBAQEBAQEBAQEBAQEBAQEBAQEBAQEBAQEBAQEBAQEBAQEBAQEBAQEBAQEBAQEBAQEBAQEBAQEBAQEBAQEBAQEBAQEBAQEBAQEBAQEBAQEBAQEBAQEBAQEBAQEBAQEBAQEBAQEBAQEBAQEBAQEBAQEBAQEBAQEBAQEBAQEBAQEBAQEBAQEBAQEBAQEBAQEBAQEBAQEBAQEBAQEBAQEBAQEBAQEBAQEBAQEBAQEBAQEBAQEBAQEBAQEBAQEBAQEBAQEBAQEBAQEBAQEBAQEBAQEBAQEBAQEBAQEBAQEBAQEBAQEBAQEBAQEBAQEBAQEBAQEBAQEBAQEBAQEBAQEBAQEBAQEBAQEBAQEBAQEBAQEBAQEBAQEBAQEBAQEBAQEBAQEBAQEBAQEBAQEBAQEBAQEBAQEBAQEBAQEBAQEBAQEBAQEBAQEBAQEBAQEBAQEBAQEBAQEBAQEBAQEBAQEBAQEBAQEBAQEBAQEBAQEBAQEBAQEBAQEBAQEBAQEBAQEBAQEBAQEBAQEBAQEBAQEBAQEBAQEBAQEBAQEBAQEBAQEBAQEBAQEBAQEBAQEBAQEBAQEBAQEBAQEBAQEBAQEBAQEBAQEBAQEBAQEBAQEBAQEBAQEBAQEBAQEBAQEBAQEBAQEBAQEBAQEBAQEBAQEBAQEBAQEBAQEBAQEBAQEBAQEBAQEBAQEBAQEBAQEBAQEBAQEBAQEBAQEBAQEBAQEBAQEBAQEBAQEBAQEBAQEBAQEBAQEBAQEBAQEBAQEBAQEBAQEBAQEBAQEBAQEBAQEBAQEBAQEBAQEBAQEBAQEBAQEBAQ==",
          "dtype": "i1"
         },
         "xaxis": "x25",
         "yaxis": "y25"
        },
        {
         "name": "MIN_capped",
         "showlegend": false,
         "type": "histogram",
         "x": {
          "bdata": "AQEBAQEBAQEBAQEBAQEBAQEBAQEBAQEBAQEBAQEBAQEBAQEBAQEBAQEBAQEBAQEBAQEBAQEBAQEBAQEBAQEBAQEBAQEBAQEBAQEBAQEBAQEBAQEBAQEBAQEBAQEBAQEBAQEBAQEBAQEBAQEBAQEBAQEBAQEBAQEBAQEBAQEBAQEBAQEBAQEBAQEBAQEBAQEBAQEBAQEBAQEBAQEBAQEBAQEBAQEBAQEBAQEBAQEBAQEBAQEBAQEBAQEBAQEBAQEBAQEBAQEBAQEBAQEBAQEBAQEBAQEBAQEBAQEBAQEBAQEBAQEBAQEBAQEBAQEBAQEBAQEBAQEBAQEBAQEBAQEBAQEBAQEBAQEBAQEBAQEBAQEBAQEBAQEBAQEBAQEBAQEBAQEBAQEBAQEBAQEBAQEBAQEBAQEBAQEBAQEBAQEBAQEBAQEBAQEBAQEBAQEBAQEBAQEBAQEBAQEBAQEBAQEBAQEBAQEBAQEBAQEBAQEBAQEBAQEBAQEBAQEBAQEBAQEBAQEBAQEBAQEBAQEBAQEBAQEBAQEBAQEBAQEBAQEBAQEBAQEBAQEBAQEBAQEBAQEBAQEBAQEBAQEBAQEBAQEBAQEBAQEBAQEBAQEBAQEBAQEBAQEBAQEBAQEBAQEBAQEBAQEBAQEBAQEBAQEBAQEBAQEBAQEBAQEBAQEBAQEBAQEBAQEBAQEBAQEBAQEBAQEBAQEBAQEBAQEBAQEBAQEBAQEBAQEBAQEBAQEBAQEBAQEBAQEBAQEBAQEBAQEBAQEBAQEBAQEBAQEBAQEBAQEBAQEBAQEBAQEBAQEBAQEBAQEBAQEBAQEBAQEBAQEBAQEBAQEBAQEBAQEBAQEBAQEBAQEBAQEBAQEBAQEBAQEBAQEBAQEBAQEBAQEBAQEBAQEBAQEBAQEBAQEBAQEBAQEBAQEBAQEBAQEBAQEBAQEBAQEBAQEBAQEBAQEBAQEBAQEBAQEBAQEBAQEBAQEBAQEBAQEBAQEBAQEBAQEBAQEBAQEBAQEBAQEBAQEBAQEBAQEBAQEBAQEBAQEBAQEBAQEBAQEBAQEBAQEBAQEBAQEBAQEBAQEBAQEBAQEBAQEBAQEBAQEBAQEBAQEBAQEBAQEBAQEBAQEBAQEBAQEBAQEBAQEBAQEBAQEBAQEBAQEBAQEBAQEBAQEBAQEBAQEBAQEBAQEBAQEBAQEBAQEBAQEBAQEBAQEBAQEBAQEBAQEBAQEBAQEBAQEBAQEBAQEBAQEBAQEBAQEBAQEBAQEBAQEBAQEBAQEBAQEBAQEBAQEBAQEBAQEBAQEBAQEBAQEBAQEBAQEBAQEBAQEBAQEBAQEBAQEBAQEBAQEBAQEBAQEBAQEBAQEBAQEBAQEBAQEBAQEBAQEBAQEBAQEBAQEBAQEBAQEBAQEBAQEBAQEBAQEBAQEBAQEBAQEBAQEBAQEBAQEBAQEBAQEBAQEBAQEBAQEBAQEBAQEBAQEBAQEBAQEBAQEBAQEBAQEBAQEBAQEBAQEBAQEBAQEBAQEBAQEBAQEBAQEBAQEBAQEBAQEBAQEBAQEBAQEBAQEBAQEBAQEBAQEBAQEBAQEBAQEBAQEBAQEBAQEBAQEBAQEBAQEBAQEBAQEBAQEBAQEBAQEBAQEBAQEBAQEBAQEBAQEBAQEBAQEBAQEBAQEBAQEBAQEBAQEBAQEBAQEBAQEBAQEBAQEBAQEBAQEBAQEBAQEBAQEBAQEBAQEBAQEBAQEBAQ==",
          "dtype": "i1"
         },
         "xaxis": "x26",
         "yaxis": "y26"
        },
        {
         "name": "OREB_capped",
         "showlegend": false,
         "type": "histogram",
         "x": {
          "bdata": "AQEBAQEBAQEBAQEBAQEBAQEBAQEBAQEBAQEBAQEBAQEBAQEBAQEBAQEBAQEBAQEBAQEBAQEBAQEBAQEBAQEBAQEBAQEBAQEBAQEBAQEBAQEBAQEBAQEBAQEBAQEBAQEBAQEBAQEBAQEBAQEBAQEBAQEBAQEBAQEBAQEBAQEBAQEBAQEBAQEBAQEBAQEBAQEBAQEBAQEBAQEBAQEBAQEBAQEBAQEBAQEBAQEBAQEBAQEBAQEBAQEBAQEBAQEBAQEBAQEBAQEBAQEBAQEBAQEBAQEBAQEBAQEBAQEBAQEBAQEBAQEBAQEBAQEBAQEBAQEBAQEBAQEBAQEBAQEBAQEBAQEBAQEBAQEBAQEBAQEBAQEBAQEBAQEBAQEBAQEBAQEBAQEBAQEBAQEBAQEBAQEBAQEBAQEBAQEBAQEBAQEBAQEBAQEBAQEBAQEBAQEBAQEBAQEBAQEBAQEBAQEBAQEBAQEBAQEBAQEBAQEBAQEBAQEBAQEBAQEBAQEBAQEBAQEBAQEBAQEBAQEBAQEBAQEBAQEBAQEBAQEBAQEBAQEBAQEBAQEBAQEBAQEBAQEBAQEBAQEBAQEBAQEBAQEBAQEBAQEBAQEBAQEBAQEBAQEBAQEBAQEBAQEBAQEBAQEBAQEBAQEBAQEBAQEBAQEBAQEBAQEBAQEBAQEBAQEBAQEBAQEBAQEBAQEBAQEBAQEBAQEBAQEBAQEBAQEBAQEBAQEBAQEBAQEBAQEBAQEBAQEBAQEBAQEBAQEBAQEBAQEBAQEBAQEBAQEBAQEBAQEBAQEBAQEBAQEBAQEBAQEBAQEBAQEBAQEBAQEBAQEBAQEBAQEBAQEBAQEBAQEBAQEBAQEBAQEBAQEBAQEBAQEBAQEBAQEBAQEBAQEBAQEBAQEBAQEBAQEBAQEBAQEBAQEBAQEBAQEBAQEBAQEBAQEBAQEBAQEBAQEBAQEBAQEBAQEBAQEBAQEBAQEBAQEBAQEBAQEBAQEBAQEBAQEBAQEBAQEBAQEBAQEBAQEBAQEBAQEBAQEBAQEBAQEBAQEBAQEBAQEBAQEBAQEBAQEBAQEBAQEBAQEBAQEBAQEBAQEBAQEBAQEBAQEBAQEBAQEBAQEBAQEBAQEBAQEBAQEBAQEBAQEBAQEBAQEBAQEBAQEBAQEBAQEBAQEBAQEBAQEBAQEBAQEBAQEBAQEBAQEBAQEBAQEBAQEBAQEBAQEBAQEBAQEBAQEBAQEBAQEBAQEBAQEBAQEBAQEBAQEBAQEBAQEBAQEBAQEBAQEBAQEBAQEBAQEBAQEBAQEBAQEBAQEBAQEBAQEBAQEBAQEBAQEBAQEBAQEBAQEBAQEBAQEBAQEBAQEBAQEBAQEBAQEBAQEBAQEBAQEBAQEBAQEBAQEBAQEBAQEBAQEBAQEBAQEBAQEBAQEBAQEBAQEBAQEBAQEBAQEBAQEBAQEBAQEBAQEBAQEBAQEBAQEBAQEBAQEBAQEBAQEBAQEBAQEBAQEBAQEBAQEBAQEBAQEBAQEBAQEBAQEBAQEBAQEBAQEBAQEBAQEBAQEBAQEBAQEBAQEBAQEBAQEBAQEBAQEBAQEBAQEBAQEBAQEBAQEBAQEBAQEBAQEBAQEBAQEBAQEBAQEBAQEBAQEBAQEBAQEBAQEBAQEBAQEBAQEBAQEBAQEBAQEBAQEBAQEBAQEBAQEBAQEBAQEBAQEBAQEBAQEBAQEBAQEBAQEBAQEBAQEBAQEBAQEBAQ==",
          "dtype": "i1"
         },
         "xaxis": "x27",
         "yaxis": "y27"
        },
        {
         "name": "PTS_capped",
         "showlegend": false,
         "type": "histogram",
         "x": {
          "bdata": "AQEBAQEBAQEBAQEBAQEBAQEBAQEBAQEBAQEBAQEBAQEBAQEBAQEBAQEBAQEBAQEBAQEBAQEBAQEBAQEBAQEBAQEBAQEBAQEBAQEBAQEBAQEBAQEBAQEBAQEBAQEBAQEBAQEBAQEBAQEBAQEBAQEBAQEBAQEBAQEBAQEBAQEBAQEBAQEBAQEBAQEBAQEBAQEBAQEBAQEBAQEBAQEBAQEBAQEBAQEBAQEBAQEBAQEBAQEBAQEBAQEBAQEBAQEBAQEBAQEBAQEBAQEBAQEBAQEBAQEBAQEBAQEBAQEBAQEBAQEBAQEBAQEBAQEBAQEBAQEBAQEBAQEBAQEBAQEBAQEBAQEBAQEBAQEBAQEBAQEBAQEBAQEBAQEBAQEBAQEBAQEBAQEBAQEBAQEBAQEBAQEBAQEBAQEBAQEBAQEBAQEBAQEBAQEBAQEBAQEBAQEBAQEBAQEBAQEBAQEBAQEBAQEBAQEBAQEBAQEBAQEBAQEBAQEBAQEBAQEBAQEBAQEBAQEBAQEBAQEBAQEBAQEBAQEBAQEBAQEBAQEBAQEBAQEBAQEBAQEBAQEBAQEBAQEBAQEBAQEBAQEBAQEBAQEBAQEBAQEBAQEBAQEBAQEBAQEBAQEBAQEBAQEBAQEBAQEBAQEBAQEBAQEBAQEBAQEBAQEBAQEBAQEBAQEBAQEBAQEBAQEBAQEBAQEBAQEBAQEBAQEBAQEBAQEBAQEBAQEBAQEBAQEBAQEBAQEBAQEBAQEBAQEBAQEBAQEBAQEBAQEBAQEBAQEBAQEBAQEBAQEBAQEBAQEBAQEBAQEBAQEBAQEBAQEBAQEBAQEBAQEBAQEBAQEBAQEBAQEBAQEBAQEBAQEBAQEBAQEBAQEBAQEBAQEBAQEBAQEBAQEBAQEBAQEBAQEBAQEBAQEBAQEBAQEBAQEBAQEBAQEBAQEBAQEBAQEBAQEBAQEBAQEBAQEBAQEBAQEBAQEBAQEBAQEBAQEBAQEBAQEBAQEBAQEBAQEBAQEBAQEBAQEBAQEBAQEBAQEBAQEBAQEBAQEBAQEBAQEBAQEBAQEBAQEBAQEBAQEBAQEBAQEBAQEBAQEBAQEBAQEBAQEBAQEBAQEBAQEBAQEBAQEBAQEBAQEBAQEBAQEBAQEBAQEBAQEBAQEBAQEBAQEBAQEBAQEBAQEBAQEBAQEBAQEBAQEBAQEBAQEBAQEBAQEBAQEBAQEBAQEBAQEBAQEBAQEBAQEBAQEBAQEBAQEBAQEBAQEBAQEBAQEBAQEBAQEBAQEBAQEBAQEBAQEBAQEBAQEBAQEBAQEBAQEBAQEBAQEBAQEBAQEBAQEBAQEBAQEBAQEBAQEBAQEBAQEBAQEBAQEBAQEBAQEBAQEBAQEBAQEBAQEBAQEBAQEBAQEBAQEBAQEBAQEBAQEBAQEBAQEBAQEBAQEBAQEBAQEBAQEBAQEBAQEBAQEBAQEBAQEBAQEBAQEBAQEBAQEBAQEBAQEBAQEBAQEBAQEBAQEBAQEBAQEBAQEBAQEBAQEBAQEBAQEBAQEBAQEBAQEBAQEBAQEBAQEBAQEBAQEBAQEBAQEBAQEBAQEBAQEBAQEBAQEBAQEBAQEBAQEBAQEBAQEBAQEBAQEBAQEBAQEBAQEBAQEBAQEBAQEBAQEBAQEBAQEBAQEBAQEBAQEBAQEBAQEBAQEBAQEBAQEBAQEBAQEBAQEBAQEBAQEBAQEBAQEBAQEBAQEBAQEBAQEBAQEBAQ==",
          "dtype": "i1"
         },
         "xaxis": "x28",
         "yaxis": "y28"
        },
        {
         "name": "REB_capped",
         "showlegend": false,
         "type": "histogram",
         "x": {
          "bdata": "AQEBAQEBAQEBAQEBAQEBAQEBAQEBAQEBAQEBAQEBAQEBAQEBAQEBAQEBAQEBAQEBAQEBAQEBAQEBAQEBAQEBAQEBAQEBAQEBAQEBAQEBAQEBAQEBAQEBAQEBAQEBAQEBAQEBAQEBAQEBAQEBAQEBAQEBAQEBAQEBAQEBAQEBAQEBAQEBAQEBAQEBAQEBAQEBAQEBAQEBAQEBAQEBAQEBAQEBAQEBAQEBAQEBAQEBAQEBAQEBAQEBAQEBAQEBAQEBAQEBAQEBAQEBAQEBAQEBAQEBAQEBAQEBAQEBAQEBAQEBAQEBAQEBAQEBAQEBAQEBAQEBAQEBAQEBAQEBAQEBAQEBAQEBAQEBAQEBAQEBAQEBAQEBAQEBAQEBAQEBAQEBAQEBAQEBAQEBAQEBAQEBAQEBAQEBAQEBAQEBAQEBAQEBAQEBAQEBAQEBAQEBAQEBAQEBAQEBAQEBAQEBAQEBAQEBAQEBAQEBAQEBAQEBAQEBAQEBAQEBAQEBAQEBAQEBAQEBAQEBAQEBAQEBAQEBAQEBAQEBAQEBAQEBAQEBAQEBAQEBAQEBAQEBAQEBAQEBAQEBAQEBAQEBAQEBAQEBAQEBAQEBAQEBAQEBAQEBAQEBAQEBAQEBAQEBAQEBAQEBAQEBAQEBAQEBAQEBAQEBAQEBAQEBAQEBAQEBAQEBAQEBAQEBAQEBAQEBAQEBAQEBAQEBAQEBAQEBAQEBAQEBAQEBAQEBAQEBAQEBAQEBAQEBAQEBAQEBAQEBAQEBAQEBAQEBAQEBAQEBAQEBAQEBAQEBAQEBAQEBAQEBAQEBAQEBAQEBAQEBAQEBAQEBAQEBAQEBAQEBAQEBAQEBAQEBAQEBAQEBAQEBAQEBAQEBAQEBAQEBAQEBAQEBAQEBAQEBAQEBAQEBAQEBAQEBAQEBAQEBAQEBAQEBAQEBAQEBAQEBAQEBAQEBAQEBAQEBAQEBAQEBAQEBAQEBAQEBAQEBAQEBAQEBAQEBAQEBAQEBAQEBAQEBAQEBAQEBAQEBAQEBAQEBAQEBAQEBAQEBAQEBAQEBAQEBAQEBAQEBAQEBAQEBAQEBAQEBAQEBAQEBAQEBAQEBAQEBAQEBAQEBAQEBAQEBAQEBAQEBAQEBAQEBAQEBAQEBAQEBAQEBAQEBAQEBAQEBAQEBAQEBAQEBAQEBAQEBAQEBAQEBAQEBAQEBAQEBAQEBAQEBAQEBAQEBAQEBAQEBAQEBAQEBAQEBAQEBAQEBAQEBAQEBAQEBAQEBAQEBAQEBAQEBAQEBAQEBAQEBAQEBAQEBAQEBAQEBAQEBAQEBAQEBAQEBAQEBAQEBAQEBAQEBAQEBAQEBAQEBAQEBAQEBAQEBAQEBAQEBAQEBAQEBAQEBAQEBAQEBAQEBAQEBAQEBAQEBAQEBAQEBAQEBAQEBAQEBAQEBAQEBAQEBAQEBAQEBAQEBAQEBAQEBAQEBAQEBAQEBAQEBAQEBAQEBAQEBAQEBAQEBAQEBAQEBAQEBAQEBAQEBAQEBAQEBAQEBAQEBAQEBAQEBAQEBAQEBAQEBAQEBAQEBAQEBAQEBAQEBAQEBAQEBAQEBAQEBAQEBAQEBAQEBAQEBAQEBAQEBAQEBAQEBAQEBAQEBAQEBAQEBAQEBAQEBAQEBAQEBAQEBAQEBAQEBAQEBAQEBAQEBAQEBAQEBAQEBAQEBAQEBAQEBAQEBAQEBAQEBAQEBAQEBAQEBAQEBAQ==",
          "dtype": "i1"
         },
         "xaxis": "x29",
         "yaxis": "y29"
        },
        {
         "name": "STL_capped",
         "showlegend": false,
         "type": "histogram",
         "x": {
          "bdata": "AQEBAQEBAQEBAQEBAQEBAQEBAQEBAQEBAQEBAQEBAQEBAQEBAQEBAQEBAQEBAQEBAQEBAQEBAQEBAQEBAQEBAQEBAQEBAQEBAQEBAQEBAQEBAQEBAQEBAQEBAQEBAQEBAQEBAQEBAQEBAQEBAQEBAQEBAQEBAQEBAQEBAQEBAQEBAQEBAQEBAQEBAQEBAQEBAQEBAQEBAQEBAQEBAQEBAQEBAQEBAQEBAQEBAQEBAQEBAQEBAQEBAQEBAQEBAQEBAQEBAQEBAQEBAQEBAQEBAQEBAQEBAQEBAQEBAQEBAQEBAQEBAQEBAQEBAQEBAQEBAQEBAQEBAQEBAQEBAQEBAQEBAQEBAQEBAQEBAQEBAQEBAQEBAQEBAQEBAQEBAQEBAQEBAQEBAQEBAQEBAQEBAQEBAQEBAQEBAQEBAQEBAQEBAQEBAQEBAQEBAQEBAQEBAQEBAQEBAQEBAQEBAQEBAQEBAQEBAQEBAQEBAQEBAQEBAQEBAQEBAQEBAQEBAQEBAQEBAQEBAQEBAQEBAQEBAQEBAQEBAQEBAQEBAQEBAQEBAQEBAQEBAQEBAQEBAQEBAQEBAQEBAQEBAQEBAQEBAQEBAQEBAQEBAQEBAQEBAQEBAQEBAQEBAQEBAQEBAQEBAQEBAQEBAQEBAQEBAQEBAQEBAQEBAQEBAQEBAQEBAQEBAQEBAQEBAQEBAQEBAQEBAQEBAQEBAQEBAQEBAQEBAQEBAQEBAQEBAQEBAQEBAQEBAQEBAQEBAQEBAQEBAQEBAQEBAQEBAQEBAQEBAQEBAQEBAQEBAQEBAQEBAQEBAQEBAQEBAQEBAQEBAQEBAQEBAQEBAQEBAQEBAQEBAQEBAQEBAQEBAQEBAQEBAQEBAQEBAQEBAQEBAQEBAQEBAQEBAQEBAQEBAQEBAQEBAQEBAQEBAQEBAQEBAQEBAQEBAQEBAQEBAQEBAQEBAQEBAQEBAQEBAQEBAQEBAQEBAQEBAQEBAQEBAQEBAQEBAQEBAQEBAQEBAQEBAQEBAQEBAQEBAQEBAQEBAQEBAQEBAQEBAQEBAQEBAQEBAQEBAQEBAQEBAQEBAQEBAQEBAQEBAQEBAQEBAQEBAQEBAQEBAQEBAQEBAQEBAQEBAQEBAQEBAQEBAQEBAQEBAQEBAQEBAQEBAQEBAQEBAQEBAQEBAQEBAQEBAQEBAQEBAQEBAQEBAQEBAQEBAQEBAQEBAQEBAQEBAQEBAQEBAQEBAQEBAQEBAQEBAQEBAQEBAQEBAQEBAQEBAQEBAQEBAQEBAQEBAQEBAQEBAQEBAQEBAQEBAQEBAQEBAQEBAQEBAQEBAQEBAQEBAQEBAQEBAQEBAQEBAQEBAQEBAQEBAQEBAQEBAQEBAQEBAQEBAQEBAQEBAQEBAQEBAQEBAQEBAQEBAQEBAQEBAQEBAQEBAQEBAQEBAQEBAQEBAQEBAQEBAQEBAQEBAQEBAQEBAQEBAQEBAQEBAQEBAQEBAQEBAQEBAQEBAQEBAQEBAQEBAQEBAQEBAQEBAQEBAQEBAQEBAQEBAQEBAQEBAQEBAQEBAQEBAQEBAQEBAQEBAQEBAQEBAQEBAQEBAQEBAQEBAQEBAQEBAQEBAQEBAQEBAQEBAQEBAQEBAQEBAQEBAQEBAQEBAQEBAQEBAQEBAQEBAQEBAQEBAQEBAQEBAQEBAQEBAQEBAQEBAQEBAQEBAQEBAQEBAQEBAQEBAQEBAQEBAQEBAQ==",
          "dtype": "i1"
         },
         "xaxis": "x30",
         "yaxis": "y30"
        },
        {
         "name": "TOV_capped",
         "showlegend": false,
         "type": "histogram",
         "x": {
          "bdata": "AQEBAQEBAQEBAQEBAQEBAQEBAQEBAQEBAQEBAQEBAQEBAQEBAQEBAQEBAQEBAQEBAQEBAQEBAQEBAQEBAQEBAQEBAQEBAQEBAQEBAQEBAQEBAQEBAQEBAQEBAQEBAQEBAQEBAQEBAQEBAQEBAQEBAQEBAQEBAQEBAQEBAQEBAQEBAQEBAQEBAQEBAQEBAQEBAQEBAQEBAQEBAQEBAQEBAQEBAQEBAQEBAQEBAQEBAQEBAQEBAQEBAQEBAQEBAQEBAQEBAQEBAQEBAQEBAQEBAQEBAQEBAQEBAQEBAQEBAQEBAQEBAQEBAQEBAQEBAQEBAQEBAQEBAQEBAQEBAQEBAQEBAQEBAQEBAQEBAQEBAQEBAQEBAQEBAQEBAQEBAQEBAQEBAQEBAQEBAQEBAQEBAQEBAQEBAQEBAQEBAQEBAQEBAQEBAQEBAQEBAQEBAQEBAQEBAQEBAQEBAQEBAQEBAQEBAQEBAQEBAQEBAQEBAQEBAQEBAQEBAQEBAQEBAQEBAQEBAQEBAQEBAQEBAQEBAQEBAQEBAQEBAQEBAQEBAQEBAQEBAQEBAQEBAQEBAQEBAQEBAQEBAQEBAQEBAQEBAQEBAQEBAQEBAQEBAQEBAQEBAQEBAQEBAQEBAQEBAQEBAQEBAQEBAQEBAQEBAQEBAQEBAQEBAQEBAQEBAQEBAQEBAQEBAQEBAQEBAQEBAQEBAQEBAQEBAQEBAQEBAQEBAQEBAQEBAQEBAQEBAQEBAQEBAQEBAQEBAQEBAQEBAQEBAQEBAQEBAQEBAQEBAQEBAQEBAQEBAQEBAQEBAQEBAQEBAQEBAQEBAQEBAQEBAQEBAQEBAQEBAQEBAQEBAQEBAQEBAQEBAQEBAQEBAQEBAQEBAQEBAQEBAQEBAQEBAQEBAQEBAQEBAQEBAQEBAQEBAQEBAQEBAQEBAQEBAQEBAQEBAQEBAQEBAQEBAQEBAQEBAQEBAQEBAQEBAQEBAQEBAQEBAQEBAQEBAQEBAQEBAQEBAQEBAQEBAQEBAQEBAQEBAQEBAQEBAQEBAQEBAQEBAQEBAQEBAQEBAQEBAQEBAQEBAQEBAQEBAQEBAQEBAQEBAQEBAQEBAQEBAQEBAQEBAQEBAQEBAQEBAQEBAQEBAQEBAQEBAQEBAQEBAQEBAQEBAQEBAQEBAQEBAQEBAQEBAQEBAQEBAQEBAQEBAQEBAQEBAQEBAQEBAQEBAQEBAQEBAQEBAQEBAQEBAQEBAQEBAQEBAQEBAQEBAQEBAQEBAQEBAQEBAQEBAQEBAQEBAQEBAQEBAQEBAQEBAQEBAQEBAQEBAQEBAQEBAQEBAQEBAQEBAQEBAQEBAQEBAQEBAQEBAQEBAQEBAQEBAQEBAQEBAQEBAQEBAQEBAQEBAQEBAQEBAQEBAQEBAQEBAQEBAQEBAQEBAQEBAQEBAQEBAQEBAQEBAQEBAQEBAQEBAQEBAQEBAQEBAQEBAQEBAQEBAQEBAQEBAQEBAQEBAQEBAQEBAQEBAQEBAQEBAQEBAQEBAQEBAQEBAQEBAQEBAQEBAQEBAQEBAQEBAQEBAQEBAQEBAQEBAQEBAQEBAQEBAQEBAQEBAQEBAQEBAQEBAQEBAQEBAQEBAQEBAQEBAQEBAQEBAQEBAQEBAQEBAQEBAQEBAQEBAQEBAQEBAQEBAQEBAQEBAQEBAQEBAQEBAQEBAQEBAQEBAQEBAQEBAQEBAQEBAQEBAQEBAQEBAQ==",
          "dtype": "i1"
         },
         "xaxis": "x31",
         "yaxis": "y31"
        }
       ],
       "layout": {
        "annotations": [
         {
          "font": {
           "size": 16
          },
          "showarrow": false,
          "text": "GP",
          "x": 0.225,
          "xanchor": "center",
          "xref": "paper",
          "y": 1,
          "yanchor": "bottom",
          "yref": "paper"
         },
         {
          "font": {
           "size": 16
          },
          "showarrow": false,
          "text": "MIN",
          "x": 0.775,
          "xanchor": "center",
          "xref": "paper",
          "y": 1,
          "yanchor": "bottom",
          "yref": "paper"
         },
         {
          "font": {
           "size": 16
          },
          "showarrow": false,
          "text": "PTS",
          "x": 0.225,
          "xanchor": "center",
          "xref": "paper",
          "y": 0.935546875,
          "yanchor": "bottom",
          "yref": "paper"
         },
         {
          "font": {
           "size": 16
          },
          "showarrow": false,
          "text": "FGA",
          "x": 0.775,
          "xanchor": "center",
          "xref": "paper",
          "y": 0.935546875,
          "yanchor": "bottom",
          "yref": "paper"
         },
         {
          "font": {
           "size": 16
          },
          "showarrow": false,
          "text": "FG%",
          "x": 0.225,
          "xanchor": "center",
          "xref": "paper",
          "y": 0.87109375,
          "yanchor": "bottom",
          "yref": "paper"
         },
         {
          "font": {
           "size": 16
          },
          "showarrow": false,
          "text": "3PA",
          "x": 0.775,
          "xanchor": "center",
          "xref": "paper",
          "y": 0.87109375,
          "yanchor": "bottom",
          "yref": "paper"
         },
         {
          "font": {
           "size": 16
          },
          "showarrow": false,
          "text": "3P%",
          "x": 0.225,
          "xanchor": "center",
          "xref": "paper",
          "y": 0.806640625,
          "yanchor": "bottom",
          "yref": "paper"
         },
         {
          "font": {
           "size": 16
          },
          "showarrow": false,
          "text": "FTA",
          "x": 0.775,
          "xanchor": "center",
          "xref": "paper",
          "y": 0.806640625,
          "yanchor": "bottom",
          "yref": "paper"
         },
         {
          "font": {
           "size": 16
          },
          "showarrow": false,
          "text": "FT%",
          "x": 0.225,
          "xanchor": "center",
          "xref": "paper",
          "y": 0.7421875,
          "yanchor": "bottom",
          "yref": "paper"
         },
         {
          "font": {
           "size": 16
          },
          "showarrow": false,
          "text": "OREB",
          "x": 0.775,
          "xanchor": "center",
          "xref": "paper",
          "y": 0.7421875,
          "yanchor": "bottom",
          "yref": "paper"
         },
         {
          "font": {
           "size": 16
          },
          "showarrow": false,
          "text": "REB",
          "x": 0.225,
          "xanchor": "center",
          "xref": "paper",
          "y": 0.677734375,
          "yanchor": "bottom",
          "yref": "paper"
         },
         {
          "font": {
           "size": 16
          },
          "showarrow": false,
          "text": "AST",
          "x": 0.775,
          "xanchor": "center",
          "xref": "paper",
          "y": 0.677734375,
          "yanchor": "bottom",
          "yref": "paper"
         },
         {
          "font": {
           "size": 16
          },
          "showarrow": false,
          "text": "STL",
          "x": 0.225,
          "xanchor": "center",
          "xref": "paper",
          "y": 0.61328125,
          "yanchor": "bottom",
          "yref": "paper"
         },
         {
          "font": {
           "size": 16
          },
          "showarrow": false,
          "text": "BLK",
          "x": 0.775,
          "xanchor": "center",
          "xref": "paper",
          "y": 0.61328125,
          "yanchor": "bottom",
          "yref": "paper"
         },
         {
          "font": {
           "size": 16
          },
          "showarrow": false,
          "text": "TOV",
          "x": 0.225,
          "xanchor": "center",
          "xref": "paper",
          "y": 0.548828125,
          "yanchor": "bottom",
          "yref": "paper"
         },
         {
          "font": {
           "size": 16
          },
          "showarrow": false,
          "text": "TARGET_5Yrs",
          "x": 0.775,
          "xanchor": "center",
          "xref": "paper",
          "y": 0.548828125,
          "yanchor": "bottom",
          "yref": "paper"
         },
         {
          "font": {
           "size": 16
          },
          "showarrow": false,
          "text": "3P%_capped",
          "x": 0.225,
          "xanchor": "center",
          "xref": "paper",
          "y": 0.484375,
          "yanchor": "bottom",
          "yref": "paper"
         },
         {
          "font": {
           "size": 16
          },
          "showarrow": false,
          "text": "3PA_capped",
          "x": 0.775,
          "xanchor": "center",
          "xref": "paper",
          "y": 0.484375,
          "yanchor": "bottom",
          "yref": "paper"
         },
         {
          "font": {
           "size": 16
          },
          "showarrow": false,
          "text": "AST_capped",
          "x": 0.225,
          "xanchor": "center",
          "xref": "paper",
          "y": 0.419921875,
          "yanchor": "bottom",
          "yref": "paper"
         },
         {
          "font": {
           "size": 16
          },
          "showarrow": false,
          "text": "BLK_capped",
          "x": 0.775,
          "xanchor": "center",
          "xref": "paper",
          "y": 0.419921875,
          "yanchor": "bottom",
          "yref": "paper"
         },
         {
          "font": {
           "size": 16
          },
          "showarrow": false,
          "text": "FG%_capped",
          "x": 0.225,
          "xanchor": "center",
          "xref": "paper",
          "y": 0.35546875,
          "yanchor": "bottom",
          "yref": "paper"
         },
         {
          "font": {
           "size": 16
          },
          "showarrow": false,
          "text": "FGA_capped",
          "x": 0.775,
          "xanchor": "center",
          "xref": "paper",
          "y": 0.35546875,
          "yanchor": "bottom",
          "yref": "paper"
         },
         {
          "font": {
           "size": 16
          },
          "showarrow": false,
          "text": "FT%_capped",
          "x": 0.225,
          "xanchor": "center",
          "xref": "paper",
          "y": 0.291015625,
          "yanchor": "bottom",
          "yref": "paper"
         },
         {
          "font": {
           "size": 16
          },
          "showarrow": false,
          "text": "FTA_capped",
          "x": 0.775,
          "xanchor": "center",
          "xref": "paper",
          "y": 0.291015625,
          "yanchor": "bottom",
          "yref": "paper"
         },
         {
          "font": {
           "size": 16
          },
          "showarrow": false,
          "text": "GP_capped",
          "x": 0.225,
          "xanchor": "center",
          "xref": "paper",
          "y": 0.2265625,
          "yanchor": "bottom",
          "yref": "paper"
         },
         {
          "font": {
           "size": 16
          },
          "showarrow": false,
          "text": "MIN_capped",
          "x": 0.775,
          "xanchor": "center",
          "xref": "paper",
          "y": 0.2265625,
          "yanchor": "bottom",
          "yref": "paper"
         },
         {
          "font": {
           "size": 16
          },
          "showarrow": false,
          "text": "OREB_capped",
          "x": 0.225,
          "xanchor": "center",
          "xref": "paper",
          "y": 0.162109375,
          "yanchor": "bottom",
          "yref": "paper"
         },
         {
          "font": {
           "size": 16
          },
          "showarrow": false,
          "text": "PTS_capped",
          "x": 0.775,
          "xanchor": "center",
          "xref": "paper",
          "y": 0.162109375,
          "yanchor": "bottom",
          "yref": "paper"
         },
         {
          "font": {
           "size": 16
          },
          "showarrow": false,
          "text": "REB_capped",
          "x": 0.225,
          "xanchor": "center",
          "xref": "paper",
          "y": 0.09765625,
          "yanchor": "bottom",
          "yref": "paper"
         },
         {
          "font": {
           "size": 16
          },
          "showarrow": false,
          "text": "STL_capped",
          "x": 0.775,
          "xanchor": "center",
          "xref": "paper",
          "y": 0.09765625,
          "yanchor": "bottom",
          "yref": "paper"
         },
         {
          "font": {
           "size": 16
          },
          "showarrow": false,
          "text": "TOV_capped",
          "x": 0.225,
          "xanchor": "center",
          "xref": "paper",
          "y": 0.033203125,
          "yanchor": "bottom",
          "yref": "paper"
         }
        ],
        "height": 4800,
        "template": {
         "data": {
          "bar": [
           {
            "error_x": {
             "color": "#2a3f5f"
            },
            "error_y": {
             "color": "#2a3f5f"
            },
            "marker": {
             "line": {
              "color": "#E5ECF6",
              "width": 0.5
             },
             "pattern": {
              "fillmode": "overlay",
              "size": 10,
              "solidity": 0.2
             }
            },
            "type": "bar"
           }
          ],
          "barpolar": [
           {
            "marker": {
             "line": {
              "color": "#E5ECF6",
              "width": 0.5
             },
             "pattern": {
              "fillmode": "overlay",
              "size": 10,
              "solidity": 0.2
             }
            },
            "type": "barpolar"
           }
          ],
          "carpet": [
           {
            "aaxis": {
             "endlinecolor": "#2a3f5f",
             "gridcolor": "white",
             "linecolor": "white",
             "minorgridcolor": "white",
             "startlinecolor": "#2a3f5f"
            },
            "baxis": {
             "endlinecolor": "#2a3f5f",
             "gridcolor": "white",
             "linecolor": "white",
             "minorgridcolor": "white",
             "startlinecolor": "#2a3f5f"
            },
            "type": "carpet"
           }
          ],
          "choropleth": [
           {
            "colorbar": {
             "outlinewidth": 0,
             "ticks": ""
            },
            "type": "choropleth"
           }
          ],
          "contour": [
           {
            "colorbar": {
             "outlinewidth": 0,
             "ticks": ""
            },
            "colorscale": [
             [
              0,
              "#0d0887"
             ],
             [
              0.1111111111111111,
              "#46039f"
             ],
             [
              0.2222222222222222,
              "#7201a8"
             ],
             [
              0.3333333333333333,
              "#9c179e"
             ],
             [
              0.4444444444444444,
              "#bd3786"
             ],
             [
              0.5555555555555556,
              "#d8576b"
             ],
             [
              0.6666666666666666,
              "#ed7953"
             ],
             [
              0.7777777777777778,
              "#fb9f3a"
             ],
             [
              0.8888888888888888,
              "#fdca26"
             ],
             [
              1,
              "#f0f921"
             ]
            ],
            "type": "contour"
           }
          ],
          "contourcarpet": [
           {
            "colorbar": {
             "outlinewidth": 0,
             "ticks": ""
            },
            "type": "contourcarpet"
           }
          ],
          "heatmap": [
           {
            "colorbar": {
             "outlinewidth": 0,
             "ticks": ""
            },
            "colorscale": [
             [
              0,
              "#0d0887"
             ],
             [
              0.1111111111111111,
              "#46039f"
             ],
             [
              0.2222222222222222,
              "#7201a8"
             ],
             [
              0.3333333333333333,
              "#9c179e"
             ],
             [
              0.4444444444444444,
              "#bd3786"
             ],
             [
              0.5555555555555556,
              "#d8576b"
             ],
             [
              0.6666666666666666,
              "#ed7953"
             ],
             [
              0.7777777777777778,
              "#fb9f3a"
             ],
             [
              0.8888888888888888,
              "#fdca26"
             ],
             [
              1,
              "#f0f921"
             ]
            ],
            "type": "heatmap"
           }
          ],
          "histogram": [
           {
            "marker": {
             "pattern": {
              "fillmode": "overlay",
              "size": 10,
              "solidity": 0.2
             }
            },
            "type": "histogram"
           }
          ],
          "histogram2d": [
           {
            "colorbar": {
             "outlinewidth": 0,
             "ticks": ""
            },
            "colorscale": [
             [
              0,
              "#0d0887"
             ],
             [
              0.1111111111111111,
              "#46039f"
             ],
             [
              0.2222222222222222,
              "#7201a8"
             ],
             [
              0.3333333333333333,
              "#9c179e"
             ],
             [
              0.4444444444444444,
              "#bd3786"
             ],
             [
              0.5555555555555556,
              "#d8576b"
             ],
             [
              0.6666666666666666,
              "#ed7953"
             ],
             [
              0.7777777777777778,
              "#fb9f3a"
             ],
             [
              0.8888888888888888,
              "#fdca26"
             ],
             [
              1,
              "#f0f921"
             ]
            ],
            "type": "histogram2d"
           }
          ],
          "histogram2dcontour": [
           {
            "colorbar": {
             "outlinewidth": 0,
             "ticks": ""
            },
            "colorscale": [
             [
              0,
              "#0d0887"
             ],
             [
              0.1111111111111111,
              "#46039f"
             ],
             [
              0.2222222222222222,
              "#7201a8"
             ],
             [
              0.3333333333333333,
              "#9c179e"
             ],
             [
              0.4444444444444444,
              "#bd3786"
             ],
             [
              0.5555555555555556,
              "#d8576b"
             ],
             [
              0.6666666666666666,
              "#ed7953"
             ],
             [
              0.7777777777777778,
              "#fb9f3a"
             ],
             [
              0.8888888888888888,
              "#fdca26"
             ],
             [
              1,
              "#f0f921"
             ]
            ],
            "type": "histogram2dcontour"
           }
          ],
          "mesh3d": [
           {
            "colorbar": {
             "outlinewidth": 0,
             "ticks": ""
            },
            "type": "mesh3d"
           }
          ],
          "parcoords": [
           {
            "line": {
             "colorbar": {
              "outlinewidth": 0,
              "ticks": ""
             }
            },
            "type": "parcoords"
           }
          ],
          "pie": [
           {
            "automargin": true,
            "type": "pie"
           }
          ],
          "scatter": [
           {
            "fillpattern": {
             "fillmode": "overlay",
             "size": 10,
             "solidity": 0.2
            },
            "type": "scatter"
           }
          ],
          "scatter3d": [
           {
            "line": {
             "colorbar": {
              "outlinewidth": 0,
              "ticks": ""
             }
            },
            "marker": {
             "colorbar": {
              "outlinewidth": 0,
              "ticks": ""
             }
            },
            "type": "scatter3d"
           }
          ],
          "scattercarpet": [
           {
            "marker": {
             "colorbar": {
              "outlinewidth": 0,
              "ticks": ""
             }
            },
            "type": "scattercarpet"
           }
          ],
          "scattergeo": [
           {
            "marker": {
             "colorbar": {
              "outlinewidth": 0,
              "ticks": ""
             }
            },
            "type": "scattergeo"
           }
          ],
          "scattergl": [
           {
            "marker": {
             "colorbar": {
              "outlinewidth": 0,
              "ticks": ""
             }
            },
            "type": "scattergl"
           }
          ],
          "scattermap": [
           {
            "marker": {
             "colorbar": {
              "outlinewidth": 0,
              "ticks": ""
             }
            },
            "type": "scattermap"
           }
          ],
          "scattermapbox": [
           {
            "marker": {
             "colorbar": {
              "outlinewidth": 0,
              "ticks": ""
             }
            },
            "type": "scattermapbox"
           }
          ],
          "scatterpolar": [
           {
            "marker": {
             "colorbar": {
              "outlinewidth": 0,
              "ticks": ""
             }
            },
            "type": "scatterpolar"
           }
          ],
          "scatterpolargl": [
           {
            "marker": {
             "colorbar": {
              "outlinewidth": 0,
              "ticks": ""
             }
            },
            "type": "scatterpolargl"
           }
          ],
          "scatterternary": [
           {
            "marker": {
             "colorbar": {
              "outlinewidth": 0,
              "ticks": ""
             }
            },
            "type": "scatterternary"
           }
          ],
          "surface": [
           {
            "colorbar": {
             "outlinewidth": 0,
             "ticks": ""
            },
            "colorscale": [
             [
              0,
              "#0d0887"
             ],
             [
              0.1111111111111111,
              "#46039f"
             ],
             [
              0.2222222222222222,
              "#7201a8"
             ],
             [
              0.3333333333333333,
              "#9c179e"
             ],
             [
              0.4444444444444444,
              "#bd3786"
             ],
             [
              0.5555555555555556,
              "#d8576b"
             ],
             [
              0.6666666666666666,
              "#ed7953"
             ],
             [
              0.7777777777777778,
              "#fb9f3a"
             ],
             [
              0.8888888888888888,
              "#fdca26"
             ],
             [
              1,
              "#f0f921"
             ]
            ],
            "type": "surface"
           }
          ],
          "table": [
           {
            "cells": {
             "fill": {
              "color": "#EBF0F8"
             },
             "line": {
              "color": "white"
             }
            },
            "header": {
             "fill": {
              "color": "#C8D4E3"
             },
             "line": {
              "color": "white"
             }
            },
            "type": "table"
           }
          ]
         },
         "layout": {
          "annotationdefaults": {
           "arrowcolor": "#2a3f5f",
           "arrowhead": 0,
           "arrowwidth": 1
          },
          "autotypenumbers": "strict",
          "coloraxis": {
           "colorbar": {
            "outlinewidth": 0,
            "ticks": ""
           }
          },
          "colorscale": {
           "diverging": [
            [
             0,
             "#8e0152"
            ],
            [
             0.1,
             "#c51b7d"
            ],
            [
             0.2,
             "#de77ae"
            ],
            [
             0.3,
             "#f1b6da"
            ],
            [
             0.4,
             "#fde0ef"
            ],
            [
             0.5,
             "#f7f7f7"
            ],
            [
             0.6,
             "#e6f5d0"
            ],
            [
             0.7,
             "#b8e186"
            ],
            [
             0.8,
             "#7fbc41"
            ],
            [
             0.9,
             "#4d9221"
            ],
            [
             1,
             "#276419"
            ]
           ],
           "sequential": [
            [
             0,
             "#0d0887"
            ],
            [
             0.1111111111111111,
             "#46039f"
            ],
            [
             0.2222222222222222,
             "#7201a8"
            ],
            [
             0.3333333333333333,
             "#9c179e"
            ],
            [
             0.4444444444444444,
             "#bd3786"
            ],
            [
             0.5555555555555556,
             "#d8576b"
            ],
            [
             0.6666666666666666,
             "#ed7953"
            ],
            [
             0.7777777777777778,
             "#fb9f3a"
            ],
            [
             0.8888888888888888,
             "#fdca26"
            ],
            [
             1,
             "#f0f921"
            ]
           ],
           "sequentialminus": [
            [
             0,
             "#0d0887"
            ],
            [
             0.1111111111111111,
             "#46039f"
            ],
            [
             0.2222222222222222,
             "#7201a8"
            ],
            [
             0.3333333333333333,
             "#9c179e"
            ],
            [
             0.4444444444444444,
             "#bd3786"
            ],
            [
             0.5555555555555556,
             "#d8576b"
            ],
            [
             0.6666666666666666,
             "#ed7953"
            ],
            [
             0.7777777777777778,
             "#fb9f3a"
            ],
            [
             0.8888888888888888,
             "#fdca26"
            ],
            [
             1,
             "#f0f921"
            ]
           ]
          },
          "colorway": [
           "#636efa",
           "#EF553B",
           "#00cc96",
           "#ab63fa",
           "#FFA15A",
           "#19d3f3",
           "#FF6692",
           "#B6E880",
           "#FF97FF",
           "#FECB52"
          ],
          "font": {
           "color": "#2a3f5f"
          },
          "geo": {
           "bgcolor": "white",
           "lakecolor": "white",
           "landcolor": "#E5ECF6",
           "showlakes": true,
           "showland": true,
           "subunitcolor": "white"
          },
          "hoverlabel": {
           "align": "left"
          },
          "hovermode": "closest",
          "mapbox": {
           "style": "light"
          },
          "paper_bgcolor": "white",
          "plot_bgcolor": "#E5ECF6",
          "polar": {
           "angularaxis": {
            "gridcolor": "white",
            "linecolor": "white",
            "ticks": ""
           },
           "bgcolor": "#E5ECF6",
           "radialaxis": {
            "gridcolor": "white",
            "linecolor": "white",
            "ticks": ""
           }
          },
          "scene": {
           "xaxis": {
            "backgroundcolor": "#E5ECF6",
            "gridcolor": "white",
            "gridwidth": 2,
            "linecolor": "white",
            "showbackground": true,
            "ticks": "",
            "zerolinecolor": "white"
           },
           "yaxis": {
            "backgroundcolor": "#E5ECF6",
            "gridcolor": "white",
            "gridwidth": 2,
            "linecolor": "white",
            "showbackground": true,
            "ticks": "",
            "zerolinecolor": "white"
           },
           "zaxis": {
            "backgroundcolor": "#E5ECF6",
            "gridcolor": "white",
            "gridwidth": 2,
            "linecolor": "white",
            "showbackground": true,
            "ticks": "",
            "zerolinecolor": "white"
           }
          },
          "shapedefaults": {
           "line": {
            "color": "#2a3f5f"
           }
          },
          "ternary": {
           "aaxis": {
            "gridcolor": "white",
            "linecolor": "white",
            "ticks": ""
           },
           "baxis": {
            "gridcolor": "white",
            "linecolor": "white",
            "ticks": ""
           },
           "bgcolor": "#E5ECF6",
           "caxis": {
            "gridcolor": "white",
            "linecolor": "white",
            "ticks": ""
           }
          },
          "title": {
           "x": 0.05
          },
          "xaxis": {
           "automargin": true,
           "gridcolor": "white",
           "linecolor": "white",
           "ticks": "",
           "title": {
            "standoff": 15
           },
           "zerolinecolor": "white",
           "zerolinewidth": 2
          },
          "yaxis": {
           "automargin": true,
           "gridcolor": "white",
           "linecolor": "white",
           "ticks": "",
           "title": {
            "standoff": 15
           },
           "zerolinecolor": "white",
           "zerolinewidth": 2
          }
         }
        },
        "title": {
         "text": "Feature Distributions"
        },
        "width": 800,
        "xaxis": {
         "anchor": "y",
         "domain": [
          0,
          0.45
         ]
        },
        "xaxis10": {
         "anchor": "y10",
         "domain": [
          0.55,
          1
         ]
        },
        "xaxis11": {
         "anchor": "y11",
         "domain": [
          0,
          0.45
         ]
        },
        "xaxis12": {
         "anchor": "y12",
         "domain": [
          0.55,
          1
         ]
        },
        "xaxis13": {
         "anchor": "y13",
         "domain": [
          0,
          0.45
         ]
        },
        "xaxis14": {
         "anchor": "y14",
         "domain": [
          0.55,
          1
         ]
        },
        "xaxis15": {
         "anchor": "y15",
         "domain": [
          0,
          0.45
         ]
        },
        "xaxis16": {
         "anchor": "y16",
         "domain": [
          0.55,
          1
         ]
        },
        "xaxis17": {
         "anchor": "y17",
         "domain": [
          0,
          0.45
         ]
        },
        "xaxis18": {
         "anchor": "y18",
         "domain": [
          0.55,
          1
         ]
        },
        "xaxis19": {
         "anchor": "y19",
         "domain": [
          0,
          0.45
         ]
        },
        "xaxis2": {
         "anchor": "y2",
         "domain": [
          0.55,
          1
         ]
        },
        "xaxis20": {
         "anchor": "y20",
         "domain": [
          0.55,
          1
         ]
        },
        "xaxis21": {
         "anchor": "y21",
         "domain": [
          0,
          0.45
         ]
        },
        "xaxis22": {
         "anchor": "y22",
         "domain": [
          0.55,
          1
         ]
        },
        "xaxis23": {
         "anchor": "y23",
         "domain": [
          0,
          0.45
         ]
        },
        "xaxis24": {
         "anchor": "y24",
         "domain": [
          0.55,
          1
         ]
        },
        "xaxis25": {
         "anchor": "y25",
         "domain": [
          0,
          0.45
         ]
        },
        "xaxis26": {
         "anchor": "y26",
         "domain": [
          0.55,
          1
         ]
        },
        "xaxis27": {
         "anchor": "y27",
         "domain": [
          0,
          0.45
         ]
        },
        "xaxis28": {
         "anchor": "y28",
         "domain": [
          0.55,
          1
         ]
        },
        "xaxis29": {
         "anchor": "y29",
         "domain": [
          0,
          0.45
         ]
        },
        "xaxis3": {
         "anchor": "y3",
         "domain": [
          0,
          0.45
         ]
        },
        "xaxis30": {
         "anchor": "y30",
         "domain": [
          0.55,
          1
         ]
        },
        "xaxis31": {
         "anchor": "y31",
         "domain": [
          0,
          0.45
         ]
        },
        "xaxis32": {
         "anchor": "y32",
         "domain": [
          0.55,
          1
         ]
        },
        "xaxis4": {
         "anchor": "y4",
         "domain": [
          0.55,
          1
         ]
        },
        "xaxis5": {
         "anchor": "y5",
         "domain": [
          0,
          0.45
         ]
        },
        "xaxis6": {
         "anchor": "y6",
         "domain": [
          0.55,
          1
         ]
        },
        "xaxis7": {
         "anchor": "y7",
         "domain": [
          0,
          0.45
         ]
        },
        "xaxis8": {
         "anchor": "y8",
         "domain": [
          0.55,
          1
         ]
        },
        "xaxis9": {
         "anchor": "y9",
         "domain": [
          0,
          0.45
         ]
        },
        "yaxis": {
         "anchor": "x",
         "domain": [
          0.966796875,
          1
         ]
        },
        "yaxis10": {
         "anchor": "x10",
         "domain": [
          0.708984375,
          0.7421875
         ]
        },
        "yaxis11": {
         "anchor": "x11",
         "domain": [
          0.64453125,
          0.677734375
         ]
        },
        "yaxis12": {
         "anchor": "x12",
         "domain": [
          0.64453125,
          0.677734375
         ]
        },
        "yaxis13": {
         "anchor": "x13",
         "domain": [
          0.580078125,
          0.61328125
         ]
        },
        "yaxis14": {
         "anchor": "x14",
         "domain": [
          0.580078125,
          0.61328125
         ]
        },
        "yaxis15": {
         "anchor": "x15",
         "domain": [
          0.515625,
          0.548828125
         ]
        },
        "yaxis16": {
         "anchor": "x16",
         "domain": [
          0.515625,
          0.548828125
         ]
        },
        "yaxis17": {
         "anchor": "x17",
         "domain": [
          0.451171875,
          0.484375
         ]
        },
        "yaxis18": {
         "anchor": "x18",
         "domain": [
          0.451171875,
          0.484375
         ]
        },
        "yaxis19": {
         "anchor": "x19",
         "domain": [
          0.38671875,
          0.419921875
         ]
        },
        "yaxis2": {
         "anchor": "x2",
         "domain": [
          0.966796875,
          1
         ]
        },
        "yaxis20": {
         "anchor": "x20",
         "domain": [
          0.38671875,
          0.419921875
         ]
        },
        "yaxis21": {
         "anchor": "x21",
         "domain": [
          0.322265625,
          0.35546875
         ]
        },
        "yaxis22": {
         "anchor": "x22",
         "domain": [
          0.322265625,
          0.35546875
         ]
        },
        "yaxis23": {
         "anchor": "x23",
         "domain": [
          0.2578125,
          0.291015625
         ]
        },
        "yaxis24": {
         "anchor": "x24",
         "domain": [
          0.2578125,
          0.291015625
         ]
        },
        "yaxis25": {
         "anchor": "x25",
         "domain": [
          0.193359375,
          0.2265625
         ]
        },
        "yaxis26": {
         "anchor": "x26",
         "domain": [
          0.193359375,
          0.2265625
         ]
        },
        "yaxis27": {
         "anchor": "x27",
         "domain": [
          0.12890625,
          0.162109375
         ]
        },
        "yaxis28": {
         "anchor": "x28",
         "domain": [
          0.12890625,
          0.162109375
         ]
        },
        "yaxis29": {
         "anchor": "x29",
         "domain": [
          0.064453125,
          0.09765625
         ]
        },
        "yaxis3": {
         "anchor": "x3",
         "domain": [
          0.90234375,
          0.935546875
         ]
        },
        "yaxis30": {
         "anchor": "x30",
         "domain": [
          0.064453125,
          0.09765625
         ]
        },
        "yaxis31": {
         "anchor": "x31",
         "domain": [
          0,
          0.033203125
         ]
        },
        "yaxis32": {
         "anchor": "x32",
         "domain": [
          0,
          0.033203125
         ]
        },
        "yaxis4": {
         "anchor": "x4",
         "domain": [
          0.90234375,
          0.935546875
         ]
        },
        "yaxis5": {
         "anchor": "x5",
         "domain": [
          0.837890625,
          0.87109375
         ]
        },
        "yaxis6": {
         "anchor": "x6",
         "domain": [
          0.837890625,
          0.87109375
         ]
        },
        "yaxis7": {
         "anchor": "x7",
         "domain": [
          0.7734375,
          0.806640625
         ]
        },
        "yaxis8": {
         "anchor": "x8",
         "domain": [
          0.7734375,
          0.806640625
         ]
        },
        "yaxis9": {
         "anchor": "x9",
         "domain": [
          0.708984375,
          0.7421875
         ]
        }
       }
      }
     },
     "metadata": {},
     "output_type": "display_data"
    }
   ],
   "source": [
    "# Plot feature distributions using subplots\n",
    "\n",
    "numeric_cols = df.select_dtypes(include=['float64', 'int64']).columns\n",
    "cols_per_row = 2\n",
    "rows = (len(numeric_cols) + cols_per_row - 1) // cols_per_row\n",
    "\n",
    "fig_dist = make_subplots(rows=rows, cols=cols_per_row, subplot_titles=numeric_cols)\n",
    "\n",
    "for i, col in enumerate(numeric_cols):\n",
    "    row = i // cols_per_row + 1\n",
    "    col_pos = i % cols_per_row + 1\n",
    "    fig_dist.add_trace(\n",
    "        go.Histogram(x=df[col], name=col, showlegend=False),\n",
    "        row=row, col=col_pos\n",
    "    )\n",
    "\n",
    "fig_dist.update_layout(height=300*rows, width=400*cols_per_row, title_text=\"Feature Distributions\")\n",
    "fig_dist.show()"
   ]
  },
  {
   "cell_type": "markdown",
   "id": "1f239a94",
   "metadata": {},
   "source": [
    "Skewed distributions : Robust scaler <br>\n",
    "Imbalanced class : dummy classifier can be a good baseline to compare with + need to balance models's weights according to target class proportions."
   ]
  }
 ],
 "metadata": {
  "kernelspec": {
   "display_name": "ml",
   "language": "python",
   "name": "python3"
  },
  "language_info": {
   "codemirror_mode": {
    "name": "ipython",
    "version": 3
   },
   "file_extension": ".py",
   "mimetype": "text/x-python",
   "name": "python",
   "nbconvert_exporter": "python",
   "pygments_lexer": "ipython3",
   "version": "3.11.13"
  }
 },
 "nbformat": 4,
 "nbformat_minor": 5
}
