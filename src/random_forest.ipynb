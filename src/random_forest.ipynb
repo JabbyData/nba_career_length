{
 "cells": [
  {
   "cell_type": "code",
   "execution_count": 46,
   "id": "030b68b6",
   "metadata": {},
   "outputs": [],
   "source": [
    "# Dependencies\n",
    "\n",
    "# Data Manip\n",
    "import pandas as pd\n",
    "\n",
    "# Linear Algebra\n",
    "import numpy as np\n",
    "\n",
    "# Optimization\n",
    "import optuna\n",
    "from optuna.storages import RDBStorage\n",
    "from functools import partial\n",
    "\n",
    "# Machine Learning\n",
    "from sklearn.model_selection import StratifiedKFold, train_test_split\n",
    "from sklearn.metrics import confusion_matrix, precision_score, recall_score, fbeta_score, make_scorer\n",
    "from models.rf import RFEstimator\n",
    "from models.dummy import DummyEstimator\n",
    "\n",
    "\n",
    "# Visualization\n",
    "import plotly.graph_objects as go\n",
    "from plotly.subplots import make_subplots\n",
    "from tabulate import tabulate\n",
    "\n",
    "# System & Files\n",
    "import os\n",
    "import json\n",
    "\n",
    "seed = 42\n",
    "np.random.seed(seed)"
   ]
  },
  {
   "cell_type": "code",
   "execution_count": 47,
   "id": "c4569b57",
   "metadata": {},
   "outputs": [],
   "source": [
    "# Data collection\n",
    "data_path = \"data/nba_filtered.csv\" # random forest robust to outliers\n",
    "df = pd.read_csv(data_path)"
   ]
  },
  {
   "cell_type": "code",
   "execution_count": 48,
   "id": "8f3a8bc0",
   "metadata": {},
   "outputs": [],
   "source": [
    "# Train / Test split\n",
    "target = \"TARGET_5Yrs\"\n",
    "\n",
    "X = df.drop(columns=[target]).values\n",
    "y = df[target].values\n",
    "\n",
    "test_size=0.2\n",
    "X_train, X_test, y_train, y_test = train_test_split(X,y,stratify=y,test_size=test_size,shuffle=True,random_state=seed)\n",
    "\n",
    "# Cross Validation Splitter\n",
    "cv_folds = 4 # To get approximately same number of samples in validation sets and test set"
   ]
  },
  {
   "cell_type": "markdown",
   "id": "af5a21f4",
   "metadata": {},
   "source": [
    "Lots of hyperparameters to fine-tune, let's use a specialized library : OPTUNA <br>\n",
    "Bayesian Optimization / consecutively narrowing confidence intervals over various parameters of scoring function <br>\n",
    "Logs stored under \"db.sqlite3\" for more details "
   ]
  },
  {
   "cell_type": "code",
   "execution_count": 49,
   "id": "ff01af13",
   "metadata": {},
   "outputs": [
    {
     "name": "stderr",
     "output_type": "stream",
     "text": [
      "[I 2025-10-06 09:57:50,116] A new study created in RDB with name: random_forest_TARGET_5Yrs\n",
      "[I 2025-10-06 09:57:50,266] Trial 0 finished with value: 0.7560858802874928 and parameters: {'n_estimators': 22, 'min_samples_split': 29, 'min_impurity_decrease': 0.000291063591313307, 'min_samples_leaf': 12, 'max_depth': 12, 'ccp_alpha': 0.002403950683025824}. Best is trial 0 with value: 0.7560858802874928.\n"
     ]
    },
    {
     "name": "stdout",
     "output_type": "stream",
     "text": [
      "Deleted existing study: random_forest_TARGET_5Yrs\n"
     ]
    },
    {
     "name": "stderr",
     "output_type": "stream",
     "text": [
      "[I 2025-10-06 09:57:50,346] Trial 1 finished with value: 0.7389790395061033 and parameters: {'n_estimators': 7, 'min_samples_split': 27, 'min_impurity_decrease': 0.00015930522616241006, 'min_samples_leaf': 15, 'max_depth': 5, 'ccp_alpha': 0.00972918866945795}. Best is trial 0 with value: 0.7560858802874928.\n",
      "[I 2025-10-06 09:57:50,547] Trial 2 finished with value: 0.7638066152895209 and parameters: {'n_estimators': 43, 'min_samples_split': 8, 'min_impurity_decrease': 2.3102018878452926e-05, 'min_samples_leaf': 4, 'max_depth': 18, 'ccp_alpha': 0.005722807884690141}. Best is trial 2 with value: 0.7638066152895209.\n",
      "[I 2025-10-06 09:57:50,682] Trial 3 finished with value: 0.7485910764751367 and parameters: {'n_estimators': 24, 'min_samples_split': 10, 'min_impurity_decrease': 0.00016738085788752134, 'min_samples_leaf': 3, 'max_depth': 18, 'ccp_alpha': 0.004297256589643226}. Best is trial 2 with value: 0.7638066152895209.\n",
      "[I 2025-10-06 09:57:50,814] Trial 4 finished with value: 0.7523963657454051 and parameters: {'n_estimators': 25, 'min_samples_split': 24, 'min_impurity_decrease': 2.5081156860452307e-05, 'min_samples_leaf': 11, 'max_depth': 32, 'ccp_alpha': 0.0014180537144799796}. Best is trial 2 with value: 0.7638066152895209.\n",
      "[I 2025-10-06 09:57:50,955] Trial 5 finished with value: 0.7457696308323126 and parameters: {'n_estimators': 32, 'min_samples_split': 6, 'min_impurity_decrease': 1.3492834268013232e-05, 'min_samples_leaf': 19, 'max_depth': 49, 'ccp_alpha': 0.008275576133048152}. Best is trial 2 with value: 0.7638066152895209.\n",
      "[I 2025-10-06 09:57:51,064] Trial 6 finished with value: 0.7560527455129072 and parameters: {'n_estimators': 19, 'min_samples_split': 4, 'min_impurity_decrease': 0.000233596350262616, 'min_samples_leaf': 9, 'max_depth': 10, 'ccp_alpha': 0.005456592191001432}. Best is trial 2 with value: 0.7638066152895209.\n",
      "[I 2025-10-06 09:57:51,132] Trial 7 finished with value: 0.7506039445221129 and parameters: {'n_estimators': 6, 'min_samples_split': 28, 'min_impurity_decrease': 3.292759134423613e-05, 'min_samples_leaf': 14, 'max_depth': 19, 'ccp_alpha': 0.0056806121906002975}. Best is trial 2 with value: 0.7638066152895209.\n",
      "[I 2025-10-06 09:57:51,273] Trial 8 finished with value: 0.7479626566129776 and parameters: {'n_estimators': 30, 'min_samples_split': 7, 'min_impurity_decrease': 0.0008692991511139548, 'min_samples_leaf': 16, 'max_depth': 48, 'ccp_alpha': 0.00905344615384884}. Best is trial 2 with value: 0.7638066152895209.\n",
      "[I 2025-10-06 09:57:51,426] Trial 9 finished with value: 0.7610580318366689 and parameters: {'n_estimators': 32, 'min_samples_split': 28, 'min_impurity_decrease': 1.5030900645056805e-05, 'min_samples_leaf': 4, 'max_depth': 7, 'ccp_alpha': 0.003927972976869379}. Best is trial 2 with value: 0.7638066152895209.\n",
      "[I 2025-10-06 09:57:51,643] Trial 10 finished with value: 0.7536331589369282 and parameters: {'n_estimators': 49, 'min_samples_split': 15, 'min_impurity_decrease': 5.463331403485189e-05, 'min_samples_leaf': 7, 'max_depth': 32, 'ccp_alpha': 0.007212223662122307}. Best is trial 2 with value: 0.7638066152895209.\n",
      "[I 2025-10-06 09:57:51,854] Trial 11 finished with value: 0.7546788354689573 and parameters: {'n_estimators': 43, 'min_samples_split': 20, 'min_impurity_decrease': 1.1871256969187498e-05, 'min_samples_leaf': 1, 'max_depth': 23, 'ccp_alpha': 0.003664784918691396}. Best is trial 2 with value: 0.7638066152895209.\n",
      "[I 2025-10-06 09:57:52,020] Trial 12 finished with value: 0.7543514216134775 and parameters: {'n_estimators': 39, 'min_samples_split': 14, 'min_impurity_decrease': 6.237124135502946e-05, 'min_samples_leaf': 5, 'max_depth': 5, 'ccp_alpha': 0.006325152723370538}. Best is trial 2 with value: 0.7638066152895209.\n",
      "[I 2025-10-06 09:57:52,194] Trial 13 finished with value: 0.7555819875933808 and parameters: {'n_estimators': 37, 'min_samples_split': 20, 'min_impurity_decrease': 2.265274727522749e-05, 'min_samples_leaf': 5, 'max_depth': 13, 'ccp_alpha': 0.004044345722157421}. Best is trial 2 with value: 0.7638066152895209.\n",
      "[I 2025-10-06 09:57:52,448] Trial 14 finished with value: 0.740741445180221 and parameters: {'n_estimators': 50, 'min_samples_split': 2, 'min_impurity_decrease': 1.0192868549656633e-05, 'min_samples_leaf': 1, 'max_depth': 28, 'ccp_alpha': 0.002604739002099723}. Best is trial 2 with value: 0.7638066152895209.\n",
      "[I 2025-10-06 09:57:52,642] Trial 15 finished with value: 0.7578395576302052 and parameters: {'n_estimators': 42, 'min_samples_split': 10, 'min_impurity_decrease': 4.4479270246313465e-05, 'min_samples_leaf': 8, 'max_depth': 41, 'ccp_alpha': 0.004938213639450426}. Best is trial 2 with value: 0.7638066152895209.\n",
      "[I 2025-10-06 09:57:52,819] Trial 16 finished with value: 0.757241423655257 and parameters: {'n_estimators': 35, 'min_samples_split': 12, 'min_impurity_decrease': 1.8950718264000838e-05, 'min_samples_leaf': 5, 'max_depth': 18, 'ccp_alpha': 0.0069771024766973316}. Best is trial 2 with value: 0.7638066152895209.\n",
      "[I 2025-10-06 09:57:52,934] Trial 17 finished with value: 0.752569678036566 and parameters: {'n_estimators': 18, 'min_samples_split': 20, 'min_impurity_decrease': 8.803267998900399e-05, 'min_samples_leaf': 3, 'max_depth': 24, 'ccp_alpha': 0.0030347727956708953}. Best is trial 2 with value: 0.7638066152895209.\n",
      "[I 2025-10-06 09:57:53,129] Trial 18 finished with value: 0.7500254276915976 and parameters: {'n_estimators': 45, 'min_samples_split': 24, 'min_impurity_decrease': 3.418278977925781e-05, 'min_samples_leaf': 6, 'max_depth': 11, 'ccp_alpha': 0.007633749669245113}. Best is trial 2 with value: 0.7638066152895209.\n",
      "[I 2025-10-06 09:57:53,288] Trial 19 finished with value: 0.7481508300773771 and parameters: {'n_estimators': 30, 'min_samples_split': 17, 'min_impurity_decrease': 1.752342254797472e-05, 'min_samples_leaf': 3, 'max_depth': 16, 'ccp_alpha': 0.0013828129686050848}. Best is trial 2 with value: 0.7638066152895209.\n"
     ]
    }
   ],
   "source": [
    "# Hyperparameter Tuning\n",
    "beta = 0.5\n",
    "model_name = \"random_forest\"\n",
    "\n",
    "args = {\n",
    "    \"model\": \"random_forest\",\n",
    "    \"cv_folds\": cv_folds,\n",
    "    \"class_weight\": \"balanced_subsample\",\n",
    "    \"min_est\": 5,\n",
    "    \"max_est\": 50,\n",
    "    \"max_depth_min\": 5,\n",
    "    \"max_depth_max\": 50,\n",
    "    \"min_samples_split_min\": 2,\n",
    "    \"min_samples_split_max\": 30,\n",
    "    \"min_samples_leaf_min\": 1,\n",
    "    \"min_samples_leaf_max\": 20,\n",
    "    \"min_impurity_decrease_min\": 1e-5,\n",
    "    \"min_impurity_decrease_max\": 1e-3,\n",
    "    \"ccp_alpha_min\": 1e-3,\n",
    "    \"ccp_alpha_max\": 1e-2,\n",
    "    \"n_trials\": 20,\n",
    "    \"beta\": beta,\n",
    "    \"random_state\": seed,\n",
    "}\n",
    "\n",
    "def objective(trial, args: dict, X_train: np.array, y_train: np.array):\n",
    "    model_name = args[\"model\"]\n",
    "    if model_name == \"random_forest\":\n",
    "        h_params = {}\n",
    "        h_params[\"n_estimators\"] = trial.suggest_int(\"n_estimators\", args[\"min_est\"], args[\"max_est\"])\n",
    "        h_params[\"min_samples_split\"] = trial.suggest_int(\"min_samples_split\", args[\"min_samples_split_min\"], args[\"min_samples_split_max\"])\n",
    "        h_params[\"min_impurity_decrease\"] = trial.suggest_float(\"min_impurity_decrease\", args[\"min_impurity_decrease_min\"], args[\"min_impurity_decrease_max\"], log=True)\n",
    "        h_params[\"min_samples_leaf\"] = trial.suggest_int(\"min_samples_leaf\", args[\"min_samples_leaf_min\"], args[\"min_samples_leaf_max\"])\n",
    "        h_params[\"max_depth\"] = trial.suggest_int(\"max_depth\", args[\"max_depth_min\"], args[\"max_depth_max\"])\n",
    "        h_params[\"ccp_alpha\"] = trial.suggest_float(\"ccp_alpha\", args[\"ccp_alpha_min\"], args[\"ccp_alpha_max\"])\n",
    "        h_params[\"beta\"] = args[\"beta\"]\n",
    "        h_params[\"cv_folds\"] = args[\"cv_folds\"]\n",
    "        h_params[\"random_state\"] = args[\"random_state\"]\n",
    "        h_params[\"class_weight\"] = args[\"class_weight\"]\n",
    "    else:\n",
    "        raise NotImplementedError(f\"Objective function not developped for model {model_name}\")\n",
    "    \n",
    "    return cv_score(model_name, h_params, X_train, y_train)\n",
    "\n",
    "def cv_score(model_name: str, h_params: dict, X_train: np.array, y_train: np.array):\n",
    "    if model_name == \"random_forest\":\n",
    "        model = RFEstimator(h_params)\n",
    "        score = model.cross_validate(X_train, y_train)\n",
    "        return score\n",
    "    else:\n",
    "        raise NotImplementedError(f\"Scoring function not developped for model {model_name}\")\n",
    "\n",
    "storage_url = \"sqlite:///db.sqlite3\"\n",
    "study_name = model_name + \"_\" + target\n",
    "storage=RDBStorage(url=storage_url)\n",
    "studies = storage.get_all_studies()\n",
    "if any(s.study_name == study_name for s in studies):\n",
    "    optuna.delete_study(study_name=study_name, storage=storage_url)\n",
    "    print(f\"Deleted existing study: {study_name}\")\n",
    "study = optuna.create_study(\n",
    "        storage=storage_url,\n",
    "        study_name=study_name,\n",
    "        direction=\"maximize\",\n",
    "        sampler=optuna.samplers.TPESampler(seed=seed)\n",
    "    )\n",
    "\n",
    "objective_partial = partial(\n",
    "    objective,\n",
    "    args=args,\n",
    "    X_train=X_train,\n",
    "    y_train=y_train,\n",
    ")\n",
    "\n",
    "study.optimize(objective_partial, n_trials=args[\"n_trials\"], n_jobs=1)"
   ]
  },
  {
   "cell_type": "markdown",
   "id": "72b31f78",
   "metadata": {},
   "source": [
    "Hyperparameters are selected / adjusted (intervals) manually looking at optuna logs"
   ]
  },
  {
   "cell_type": "code",
   "execution_count": 50,
   "id": "ac24506d",
   "metadata": {},
   "outputs": [
    {
     "name": "stdout",
     "output_type": "stream",
     "text": [
      "Best score: 0.7638066152895209\n"
     ]
    }
   ],
   "source": [
    "# Best model details\n",
    "best_trial = sorted(study.trials, key=lambda x: x.value if x.value is not None else float(\"inf\"))[-1] # Maximization scenario\n",
    "best_params = best_trial.params\n",
    "best_score = best_trial.value\n",
    "print(\"Best score:\", best_score)"
   ]
  },
  {
   "cell_type": "markdown",
   "id": "236f203b",
   "metadata": {},
   "source": [
    "According to OPTUNA logs : <br>\n",
    "1) All hyper pramas seem relevant for the model\n",
    "2) Fine-tuning process is going well (global increasing trend score-wise)"
   ]
  },
  {
   "cell_type": "code",
   "execution_count": 51,
   "id": "490de95a",
   "metadata": {},
   "outputs": [
    {
     "data": {
      "application/vnd.plotly.v1+json": {
       "config": {
        "plotlyServerURL": "https://plot.ly"
       },
       "data": [
        {
         "marker": {
          "color": "royalblue"
         },
         "type": "bar",
         "x": [
          "GP",
          "MIN",
          "PTS",
          "FGA",
          "FG%",
          "3PA",
          "3P%",
          "FTA",
          "FT%",
          "OREB",
          "REB",
          "AST",
          "STL",
          "BLK",
          "TOV"
         ],
         "y": {
          "bdata": "BxnwUVfNyD+jNCFnUdy0PwKEZQ6X/cA/6Bl+NRNqsz+pDAInvVKvP2bZWlPG4pQ/wyYJJDcmpD/SqiWoGb+1P1OiGGcYVZw/5gm7HvzduT/2rp69pEGxP/UO4yJ5fJs/S7bxOZDJnT81S7EFiB2VP8Mt5OJbQ6M/",
          "dtype": "f8"
         }
        }
       ],
       "layout": {
        "height": 500,
        "template": {
         "data": {
          "bar": [
           {
            "error_x": {
             "color": "#2a3f5f"
            },
            "error_y": {
             "color": "#2a3f5f"
            },
            "marker": {
             "line": {
              "color": "#E5ECF6",
              "width": 0.5
             },
             "pattern": {
              "fillmode": "overlay",
              "size": 10,
              "solidity": 0.2
             }
            },
            "type": "bar"
           }
          ],
          "barpolar": [
           {
            "marker": {
             "line": {
              "color": "#E5ECF6",
              "width": 0.5
             },
             "pattern": {
              "fillmode": "overlay",
              "size": 10,
              "solidity": 0.2
             }
            },
            "type": "barpolar"
           }
          ],
          "carpet": [
           {
            "aaxis": {
             "endlinecolor": "#2a3f5f",
             "gridcolor": "white",
             "linecolor": "white",
             "minorgridcolor": "white",
             "startlinecolor": "#2a3f5f"
            },
            "baxis": {
             "endlinecolor": "#2a3f5f",
             "gridcolor": "white",
             "linecolor": "white",
             "minorgridcolor": "white",
             "startlinecolor": "#2a3f5f"
            },
            "type": "carpet"
           }
          ],
          "choropleth": [
           {
            "colorbar": {
             "outlinewidth": 0,
             "ticks": ""
            },
            "type": "choropleth"
           }
          ],
          "contour": [
           {
            "colorbar": {
             "outlinewidth": 0,
             "ticks": ""
            },
            "colorscale": [
             [
              0,
              "#0d0887"
             ],
             [
              0.1111111111111111,
              "#46039f"
             ],
             [
              0.2222222222222222,
              "#7201a8"
             ],
             [
              0.3333333333333333,
              "#9c179e"
             ],
             [
              0.4444444444444444,
              "#bd3786"
             ],
             [
              0.5555555555555556,
              "#d8576b"
             ],
             [
              0.6666666666666666,
              "#ed7953"
             ],
             [
              0.7777777777777778,
              "#fb9f3a"
             ],
             [
              0.8888888888888888,
              "#fdca26"
             ],
             [
              1,
              "#f0f921"
             ]
            ],
            "type": "contour"
           }
          ],
          "contourcarpet": [
           {
            "colorbar": {
             "outlinewidth": 0,
             "ticks": ""
            },
            "type": "contourcarpet"
           }
          ],
          "heatmap": [
           {
            "colorbar": {
             "outlinewidth": 0,
             "ticks": ""
            },
            "colorscale": [
             [
              0,
              "#0d0887"
             ],
             [
              0.1111111111111111,
              "#46039f"
             ],
             [
              0.2222222222222222,
              "#7201a8"
             ],
             [
              0.3333333333333333,
              "#9c179e"
             ],
             [
              0.4444444444444444,
              "#bd3786"
             ],
             [
              0.5555555555555556,
              "#d8576b"
             ],
             [
              0.6666666666666666,
              "#ed7953"
             ],
             [
              0.7777777777777778,
              "#fb9f3a"
             ],
             [
              0.8888888888888888,
              "#fdca26"
             ],
             [
              1,
              "#f0f921"
             ]
            ],
            "type": "heatmap"
           }
          ],
          "histogram": [
           {
            "marker": {
             "pattern": {
              "fillmode": "overlay",
              "size": 10,
              "solidity": 0.2
             }
            },
            "type": "histogram"
           }
          ],
          "histogram2d": [
           {
            "colorbar": {
             "outlinewidth": 0,
             "ticks": ""
            },
            "colorscale": [
             [
              0,
              "#0d0887"
             ],
             [
              0.1111111111111111,
              "#46039f"
             ],
             [
              0.2222222222222222,
              "#7201a8"
             ],
             [
              0.3333333333333333,
              "#9c179e"
             ],
             [
              0.4444444444444444,
              "#bd3786"
             ],
             [
              0.5555555555555556,
              "#d8576b"
             ],
             [
              0.6666666666666666,
              "#ed7953"
             ],
             [
              0.7777777777777778,
              "#fb9f3a"
             ],
             [
              0.8888888888888888,
              "#fdca26"
             ],
             [
              1,
              "#f0f921"
             ]
            ],
            "type": "histogram2d"
           }
          ],
          "histogram2dcontour": [
           {
            "colorbar": {
             "outlinewidth": 0,
             "ticks": ""
            },
            "colorscale": [
             [
              0,
              "#0d0887"
             ],
             [
              0.1111111111111111,
              "#46039f"
             ],
             [
              0.2222222222222222,
              "#7201a8"
             ],
             [
              0.3333333333333333,
              "#9c179e"
             ],
             [
              0.4444444444444444,
              "#bd3786"
             ],
             [
              0.5555555555555556,
              "#d8576b"
             ],
             [
              0.6666666666666666,
              "#ed7953"
             ],
             [
              0.7777777777777778,
              "#fb9f3a"
             ],
             [
              0.8888888888888888,
              "#fdca26"
             ],
             [
              1,
              "#f0f921"
             ]
            ],
            "type": "histogram2dcontour"
           }
          ],
          "mesh3d": [
           {
            "colorbar": {
             "outlinewidth": 0,
             "ticks": ""
            },
            "type": "mesh3d"
           }
          ],
          "parcoords": [
           {
            "line": {
             "colorbar": {
              "outlinewidth": 0,
              "ticks": ""
             }
            },
            "type": "parcoords"
           }
          ],
          "pie": [
           {
            "automargin": true,
            "type": "pie"
           }
          ],
          "scatter": [
           {
            "fillpattern": {
             "fillmode": "overlay",
             "size": 10,
             "solidity": 0.2
            },
            "type": "scatter"
           }
          ],
          "scatter3d": [
           {
            "line": {
             "colorbar": {
              "outlinewidth": 0,
              "ticks": ""
             }
            },
            "marker": {
             "colorbar": {
              "outlinewidth": 0,
              "ticks": ""
             }
            },
            "type": "scatter3d"
           }
          ],
          "scattercarpet": [
           {
            "marker": {
             "colorbar": {
              "outlinewidth": 0,
              "ticks": ""
             }
            },
            "type": "scattercarpet"
           }
          ],
          "scattergeo": [
           {
            "marker": {
             "colorbar": {
              "outlinewidth": 0,
              "ticks": ""
             }
            },
            "type": "scattergeo"
           }
          ],
          "scattergl": [
           {
            "marker": {
             "colorbar": {
              "outlinewidth": 0,
              "ticks": ""
             }
            },
            "type": "scattergl"
           }
          ],
          "scattermap": [
           {
            "marker": {
             "colorbar": {
              "outlinewidth": 0,
              "ticks": ""
             }
            },
            "type": "scattermap"
           }
          ],
          "scattermapbox": [
           {
            "marker": {
             "colorbar": {
              "outlinewidth": 0,
              "ticks": ""
             }
            },
            "type": "scattermapbox"
           }
          ],
          "scatterpolar": [
           {
            "marker": {
             "colorbar": {
              "outlinewidth": 0,
              "ticks": ""
             }
            },
            "type": "scatterpolar"
           }
          ],
          "scatterpolargl": [
           {
            "marker": {
             "colorbar": {
              "outlinewidth": 0,
              "ticks": ""
             }
            },
            "type": "scatterpolargl"
           }
          ],
          "scatterternary": [
           {
            "marker": {
             "colorbar": {
              "outlinewidth": 0,
              "ticks": ""
             }
            },
            "type": "scatterternary"
           }
          ],
          "surface": [
           {
            "colorbar": {
             "outlinewidth": 0,
             "ticks": ""
            },
            "colorscale": [
             [
              0,
              "#0d0887"
             ],
             [
              0.1111111111111111,
              "#46039f"
             ],
             [
              0.2222222222222222,
              "#7201a8"
             ],
             [
              0.3333333333333333,
              "#9c179e"
             ],
             [
              0.4444444444444444,
              "#bd3786"
             ],
             [
              0.5555555555555556,
              "#d8576b"
             ],
             [
              0.6666666666666666,
              "#ed7953"
             ],
             [
              0.7777777777777778,
              "#fb9f3a"
             ],
             [
              0.8888888888888888,
              "#fdca26"
             ],
             [
              1,
              "#f0f921"
             ]
            ],
            "type": "surface"
           }
          ],
          "table": [
           {
            "cells": {
             "fill": {
              "color": "#EBF0F8"
             },
             "line": {
              "color": "white"
             }
            },
            "header": {
             "fill": {
              "color": "#C8D4E3"
             },
             "line": {
              "color": "white"
             }
            },
            "type": "table"
           }
          ]
         },
         "layout": {
          "annotationdefaults": {
           "arrowcolor": "#2a3f5f",
           "arrowhead": 0,
           "arrowwidth": 1
          },
          "autotypenumbers": "strict",
          "coloraxis": {
           "colorbar": {
            "outlinewidth": 0,
            "ticks": ""
           }
          },
          "colorscale": {
           "diverging": [
            [
             0,
             "#8e0152"
            ],
            [
             0.1,
             "#c51b7d"
            ],
            [
             0.2,
             "#de77ae"
            ],
            [
             0.3,
             "#f1b6da"
            ],
            [
             0.4,
             "#fde0ef"
            ],
            [
             0.5,
             "#f7f7f7"
            ],
            [
             0.6,
             "#e6f5d0"
            ],
            [
             0.7,
             "#b8e186"
            ],
            [
             0.8,
             "#7fbc41"
            ],
            [
             0.9,
             "#4d9221"
            ],
            [
             1,
             "#276419"
            ]
           ],
           "sequential": [
            [
             0,
             "#0d0887"
            ],
            [
             0.1111111111111111,
             "#46039f"
            ],
            [
             0.2222222222222222,
             "#7201a8"
            ],
            [
             0.3333333333333333,
             "#9c179e"
            ],
            [
             0.4444444444444444,
             "#bd3786"
            ],
            [
             0.5555555555555556,
             "#d8576b"
            ],
            [
             0.6666666666666666,
             "#ed7953"
            ],
            [
             0.7777777777777778,
             "#fb9f3a"
            ],
            [
             0.8888888888888888,
             "#fdca26"
            ],
            [
             1,
             "#f0f921"
            ]
           ],
           "sequentialminus": [
            [
             0,
             "#0d0887"
            ],
            [
             0.1111111111111111,
             "#46039f"
            ],
            [
             0.2222222222222222,
             "#7201a8"
            ],
            [
             0.3333333333333333,
             "#9c179e"
            ],
            [
             0.4444444444444444,
             "#bd3786"
            ],
            [
             0.5555555555555556,
             "#d8576b"
            ],
            [
             0.6666666666666666,
             "#ed7953"
            ],
            [
             0.7777777777777778,
             "#fb9f3a"
            ],
            [
             0.8888888888888888,
             "#fdca26"
            ],
            [
             1,
             "#f0f921"
            ]
           ]
          },
          "colorway": [
           "#636efa",
           "#EF553B",
           "#00cc96",
           "#ab63fa",
           "#FFA15A",
           "#19d3f3",
           "#FF6692",
           "#B6E880",
           "#FF97FF",
           "#FECB52"
          ],
          "font": {
           "color": "#2a3f5f"
          },
          "geo": {
           "bgcolor": "white",
           "lakecolor": "white",
           "landcolor": "#E5ECF6",
           "showlakes": true,
           "showland": true,
           "subunitcolor": "white"
          },
          "hoverlabel": {
           "align": "left"
          },
          "hovermode": "closest",
          "mapbox": {
           "style": "light"
          },
          "paper_bgcolor": "white",
          "plot_bgcolor": "#E5ECF6",
          "polar": {
           "angularaxis": {
            "gridcolor": "white",
            "linecolor": "white",
            "ticks": ""
           },
           "bgcolor": "#E5ECF6",
           "radialaxis": {
            "gridcolor": "white",
            "linecolor": "white",
            "ticks": ""
           }
          },
          "scene": {
           "xaxis": {
            "backgroundcolor": "#E5ECF6",
            "gridcolor": "white",
            "gridwidth": 2,
            "linecolor": "white",
            "showbackground": true,
            "ticks": "",
            "zerolinecolor": "white"
           },
           "yaxis": {
            "backgroundcolor": "#E5ECF6",
            "gridcolor": "white",
            "gridwidth": 2,
            "linecolor": "white",
            "showbackground": true,
            "ticks": "",
            "zerolinecolor": "white"
           },
           "zaxis": {
            "backgroundcolor": "#E5ECF6",
            "gridcolor": "white",
            "gridwidth": 2,
            "linecolor": "white",
            "showbackground": true,
            "ticks": "",
            "zerolinecolor": "white"
           }
          },
          "shapedefaults": {
           "line": {
            "color": "#2a3f5f"
           }
          },
          "ternary": {
           "aaxis": {
            "gridcolor": "white",
            "linecolor": "white",
            "ticks": ""
           },
           "baxis": {
            "gridcolor": "white",
            "linecolor": "white",
            "ticks": ""
           },
           "bgcolor": "#E5ECF6",
           "caxis": {
            "gridcolor": "white",
            "linecolor": "white",
            "ticks": ""
           }
          },
          "title": {
           "x": 0.05
          },
          "xaxis": {
           "automargin": true,
           "gridcolor": "white",
           "linecolor": "white",
           "ticks": "",
           "title": {
            "standoff": 15
           },
           "zerolinecolor": "white",
           "zerolinewidth": 2
          },
          "yaxis": {
           "automargin": true,
           "gridcolor": "white",
           "linecolor": "white",
           "ticks": "",
           "title": {
            "standoff": 15
           },
           "zerolinecolor": "white",
           "zerolinewidth": 2
          }
         }
        },
        "title": {
         "text": "Feature Importances (Random Forest)"
        },
        "width": 900,
        "xaxis": {
         "title": {
          "text": "Features"
         }
        },
        "yaxis": {
         "title": {
          "text": "Importance"
         }
        }
       }
      }
     },
     "metadata": {},
     "output_type": "display_data"
    }
   ],
   "source": [
    "# Feature importance\n",
    "best_config = best_params\n",
    "best_config.update({\n",
    "    \"random_state\": args[\"random_state\"],\n",
    "    \"class_weight\": args[\"class_weight\"],\n",
    "    \"beta\": args[\"beta\"],\n",
    "    \"cv_folds\": args[\"cv_folds\"],\n",
    "})\n",
    "\n",
    "model = RFEstimator(best_config)\n",
    "\n",
    "model.fit(X_train,y_train)\n",
    "\n",
    "importances = model.classifier.feature_importances_\n",
    "feature_names = df.drop(columns=[target]).columns\n",
    "\n",
    "fig = go.Figure(\n",
    "    go.Bar(\n",
    "        x=feature_names,\n",
    "        y=importances,\n",
    "        marker=dict(color=\"royalblue\")\n",
    "    )\n",
    ")\n",
    "fig.update_layout(\n",
    "    title=\"Feature Importances (Random Forest)\",\n",
    "    xaxis_title=\"Features\",\n",
    "    yaxis_title=\"Importance\",\n",
    "    width=900,\n",
    "    height=500\n",
    ")\n",
    "fig.show()"
   ]
  },
  {
   "cell_type": "markdown",
   "id": "a906e261",
   "metadata": {},
   "source": [
    "Value importance ranges from around 2 to 20%. Trying to remove less important features results in a less precise / stable model (when looking at cross validation scores across folds).<br>\n",
    "I don't think we should remove one of them (all significantly important)."
   ]
  },
  {
   "cell_type": "code",
   "execution_count": 52,
   "id": "8372a9bc",
   "metadata": {},
   "outputs": [
    {
     "name": "stdout",
     "output_type": "stream",
     "text": [
      "Dummy CV Score: 0.6750\n",
      "Random Forest CV Score: 0.7638\n"
     ]
    },
    {
     "data": {
      "application/vnd.plotly.v1+json": {
       "config": {
        "plotlyServerURL": "https://plot.ly"
       },
       "data": [
        {
         "legendgroup": "Dummy",
         "line": {
          "color": "red"
         },
         "mode": "lines+markers",
         "name": "Dummy",
         "showlegend": true,
         "type": "scatter",
         "x": [
          1,
          2,
          3,
          4
         ],
         "xaxis": "x",
         "y": [
          0.6243523316062176,
          0.6243523316062176,
          0.6248382923673997,
          0.6235446313065977
         ],
         "yaxis": "y"
        },
        {
         "legendgroup": "Dummy",
         "line": {
          "color": "red"
         },
         "mode": "lines+markers",
         "name": "Dummy Train Recall",
         "showlegend": false,
         "type": "scatter",
         "x": [
          1,
          2,
          3,
          4
         ],
         "xaxis": "x2",
         "y": [
          1,
          1,
          1,
          1
         ],
         "yaxis": "y2"
        },
        {
         "legendgroup": "Dummy",
         "line": {
          "color": "red"
         },
         "mode": "lines+markers",
         "name": "Dummy Train F0.5",
         "showlegend": false,
         "type": "scatter",
         "x": [
          1,
          2,
          3,
          4
         ],
         "xaxis": "x3",
         "y": [
          0.6750700280112045,
          0.6750700280112045,
          0.6755244755244755,
          0.6743144935646335
         ],
         "yaxis": "y3"
        },
        {
         "legendgroup": "Dummy",
         "line": {
          "color": "red"
         },
         "mode": "lines+markers",
         "name": "Dummy Valid Precision",
         "showlegend": false,
         "type": "scatter",
         "x": [
          1,
          2,
          3,
          4
         ],
         "xaxis": "x4",
         "y": [
          0.624031007751938,
          0.624031007751938,
          0.622568093385214,
          0.6264591439688716
         ],
         "yaxis": "y4"
        },
        {
         "legendgroup": "Dummy",
         "line": {
          "color": "red"
         },
         "mode": "lines+markers",
         "name": "Dummy Valid Recall",
         "showlegend": false,
         "type": "scatter",
         "x": [
          1,
          2,
          3,
          4
         ],
         "xaxis": "x5",
         "y": [
          1,
          1,
          1,
          1
         ],
         "yaxis": "y5"
        },
        {
         "legendgroup": "Dummy",
         "line": {
          "color": "red"
         },
         "mode": "lines+markers",
         "name": "Dummy Valid F0.5",
         "showlegend": false,
         "type": "scatter",
         "x": [
          1,
          2,
          3,
          4
         ],
         "xaxis": "x6",
         "y": [
          0.6747694886839899,
          0.6747694886839899,
          0.6734006734006734,
          0.6770395290159799
         ],
         "yaxis": "y6"
        },
        {
         "legendgroup": "Random Forest",
         "line": {
          "color": "green"
         },
         "mode": "lines+markers",
         "name": "Random Forest",
         "showlegend": true,
         "type": "scatter",
         "x": [
          1,
          2,
          3,
          4
         ],
         "xaxis": "x",
         "y": [
          0.8731707317073171,
          0.8689320388349514,
          0.861244019138756,
          0.8344671201814059
         ],
         "yaxis": "y"
        },
        {
         "legendgroup": "Random Forest",
         "line": {
          "color": "green"
         },
         "mode": "lines+markers",
         "name": "Random Forest Train Recall",
         "showlegend": false,
         "type": "scatter",
         "x": [
          1,
          2,
          3,
          4
         ],
         "xaxis": "x2",
         "y": [
          0.7427385892116183,
          0.7427385892116183,
          0.7453416149068323,
          0.7634854771784232
         ],
         "yaxis": "y2"
        },
        {
         "legendgroup": "Random Forest",
         "line": {
          "color": "green"
         },
         "mode": "lines+markers",
         "name": "Random Forest Train F0.5",
         "showlegend": false,
         "type": "scatter",
         "x": [
          1,
          2,
          3,
          4
         ],
         "xaxis": "x3",
         "y": [
          0.8435438265786993,
          0.8403755868544601,
          0.8352668213457076,
          0.8192341941228851
         ],
         "yaxis": "y3"
        },
        {
         "legendgroup": "Random Forest",
         "line": {
          "color": "green"
         },
         "mode": "lines+markers",
         "name": "Random Forest Valid Precision",
         "showlegend": false,
         "type": "scatter",
         "x": [
          1,
          2,
          3,
          4
         ],
         "xaxis": "x4",
         "y": [
          0.7808219178082192,
          0.8055555555555556,
          0.7591240875912408,
          0.7956204379562044
         ],
         "yaxis": "y4"
        },
        {
         "legendgroup": "Random Forest",
         "line": {
          "color": "green"
         },
         "mode": "lines+markers",
         "name": "Random Forest Valid Recall",
         "showlegend": false,
         "type": "scatter",
         "x": [
          1,
          2,
          3,
          4
         ],
         "xaxis": "x5",
         "y": [
          0.7080745341614907,
          0.7204968944099379,
          0.65,
          0.6770186335403726
         ],
         "yaxis": "y5"
        },
        {
         "legendgroup": "Random Forest",
         "line": {
          "color": "green"
         },
         "mode": "lines+markers",
         "name": "Random Forest Valid F0.5",
         "showlegend": false,
         "type": "scatter",
         "x": [
          1,
          2,
          3,
          4
         ],
         "xaxis": "x6",
         "y": [
          0.7651006711409396,
          0.7869742198100407,
          0.7344632768361582,
          0.768688293370945
         ],
         "yaxis": "y6"
        }
       ],
       "layout": {
        "annotations": [
         {
          "font": {
           "size": 16
          },
          "showarrow": false,
          "text": "Precision",
          "x": 0.1411111111111111,
          "xanchor": "center",
          "xref": "paper",
          "y": 1,
          "yanchor": "bottom",
          "yref": "paper"
         },
         {
          "font": {
           "size": 16
          },
          "showarrow": false,
          "text": "Recall",
          "x": 0.49,
          "xanchor": "center",
          "xref": "paper",
          "y": 1,
          "yanchor": "bottom",
          "yref": "paper"
         },
         {
          "font": {
           "size": 16
          },
          "showarrow": false,
          "text": "F0.5 Score",
          "x": 0.8388888888888888,
          "xanchor": "center",
          "xref": "paper",
          "y": 1,
          "yanchor": "bottom",
          "yref": "paper"
         },
         {
          "font": {
           "size": 16
          },
          "showarrow": false,
          "text": "Train",
          "textangle": 90,
          "x": 0.98,
          "xanchor": "left",
          "xref": "paper",
          "y": 0.775,
          "yanchor": "middle",
          "yref": "paper"
         },
         {
          "font": {
           "size": 16
          },
          "showarrow": false,
          "text": "Validation",
          "textangle": 90,
          "x": 0.98,
          "xanchor": "left",
          "xref": "paper",
          "y": 0.225,
          "yanchor": "middle",
          "yref": "paper"
         }
        ],
        "height": 600,
        "template": {
         "data": {
          "bar": [
           {
            "error_x": {
             "color": "#2a3f5f"
            },
            "error_y": {
             "color": "#2a3f5f"
            },
            "marker": {
             "line": {
              "color": "#E5ECF6",
              "width": 0.5
             },
             "pattern": {
              "fillmode": "overlay",
              "size": 10,
              "solidity": 0.2
             }
            },
            "type": "bar"
           }
          ],
          "barpolar": [
           {
            "marker": {
             "line": {
              "color": "#E5ECF6",
              "width": 0.5
             },
             "pattern": {
              "fillmode": "overlay",
              "size": 10,
              "solidity": 0.2
             }
            },
            "type": "barpolar"
           }
          ],
          "carpet": [
           {
            "aaxis": {
             "endlinecolor": "#2a3f5f",
             "gridcolor": "white",
             "linecolor": "white",
             "minorgridcolor": "white",
             "startlinecolor": "#2a3f5f"
            },
            "baxis": {
             "endlinecolor": "#2a3f5f",
             "gridcolor": "white",
             "linecolor": "white",
             "minorgridcolor": "white",
             "startlinecolor": "#2a3f5f"
            },
            "type": "carpet"
           }
          ],
          "choropleth": [
           {
            "colorbar": {
             "outlinewidth": 0,
             "ticks": ""
            },
            "type": "choropleth"
           }
          ],
          "contour": [
           {
            "colorbar": {
             "outlinewidth": 0,
             "ticks": ""
            },
            "colorscale": [
             [
              0,
              "#0d0887"
             ],
             [
              0.1111111111111111,
              "#46039f"
             ],
             [
              0.2222222222222222,
              "#7201a8"
             ],
             [
              0.3333333333333333,
              "#9c179e"
             ],
             [
              0.4444444444444444,
              "#bd3786"
             ],
             [
              0.5555555555555556,
              "#d8576b"
             ],
             [
              0.6666666666666666,
              "#ed7953"
             ],
             [
              0.7777777777777778,
              "#fb9f3a"
             ],
             [
              0.8888888888888888,
              "#fdca26"
             ],
             [
              1,
              "#f0f921"
             ]
            ],
            "type": "contour"
           }
          ],
          "contourcarpet": [
           {
            "colorbar": {
             "outlinewidth": 0,
             "ticks": ""
            },
            "type": "contourcarpet"
           }
          ],
          "heatmap": [
           {
            "colorbar": {
             "outlinewidth": 0,
             "ticks": ""
            },
            "colorscale": [
             [
              0,
              "#0d0887"
             ],
             [
              0.1111111111111111,
              "#46039f"
             ],
             [
              0.2222222222222222,
              "#7201a8"
             ],
             [
              0.3333333333333333,
              "#9c179e"
             ],
             [
              0.4444444444444444,
              "#bd3786"
             ],
             [
              0.5555555555555556,
              "#d8576b"
             ],
             [
              0.6666666666666666,
              "#ed7953"
             ],
             [
              0.7777777777777778,
              "#fb9f3a"
             ],
             [
              0.8888888888888888,
              "#fdca26"
             ],
             [
              1,
              "#f0f921"
             ]
            ],
            "type": "heatmap"
           }
          ],
          "histogram": [
           {
            "marker": {
             "pattern": {
              "fillmode": "overlay",
              "size": 10,
              "solidity": 0.2
             }
            },
            "type": "histogram"
           }
          ],
          "histogram2d": [
           {
            "colorbar": {
             "outlinewidth": 0,
             "ticks": ""
            },
            "colorscale": [
             [
              0,
              "#0d0887"
             ],
             [
              0.1111111111111111,
              "#46039f"
             ],
             [
              0.2222222222222222,
              "#7201a8"
             ],
             [
              0.3333333333333333,
              "#9c179e"
             ],
             [
              0.4444444444444444,
              "#bd3786"
             ],
             [
              0.5555555555555556,
              "#d8576b"
             ],
             [
              0.6666666666666666,
              "#ed7953"
             ],
             [
              0.7777777777777778,
              "#fb9f3a"
             ],
             [
              0.8888888888888888,
              "#fdca26"
             ],
             [
              1,
              "#f0f921"
             ]
            ],
            "type": "histogram2d"
           }
          ],
          "histogram2dcontour": [
           {
            "colorbar": {
             "outlinewidth": 0,
             "ticks": ""
            },
            "colorscale": [
             [
              0,
              "#0d0887"
             ],
             [
              0.1111111111111111,
              "#46039f"
             ],
             [
              0.2222222222222222,
              "#7201a8"
             ],
             [
              0.3333333333333333,
              "#9c179e"
             ],
             [
              0.4444444444444444,
              "#bd3786"
             ],
             [
              0.5555555555555556,
              "#d8576b"
             ],
             [
              0.6666666666666666,
              "#ed7953"
             ],
             [
              0.7777777777777778,
              "#fb9f3a"
             ],
             [
              0.8888888888888888,
              "#fdca26"
             ],
             [
              1,
              "#f0f921"
             ]
            ],
            "type": "histogram2dcontour"
           }
          ],
          "mesh3d": [
           {
            "colorbar": {
             "outlinewidth": 0,
             "ticks": ""
            },
            "type": "mesh3d"
           }
          ],
          "parcoords": [
           {
            "line": {
             "colorbar": {
              "outlinewidth": 0,
              "ticks": ""
             }
            },
            "type": "parcoords"
           }
          ],
          "pie": [
           {
            "automargin": true,
            "type": "pie"
           }
          ],
          "scatter": [
           {
            "fillpattern": {
             "fillmode": "overlay",
             "size": 10,
             "solidity": 0.2
            },
            "type": "scatter"
           }
          ],
          "scatter3d": [
           {
            "line": {
             "colorbar": {
              "outlinewidth": 0,
              "ticks": ""
             }
            },
            "marker": {
             "colorbar": {
              "outlinewidth": 0,
              "ticks": ""
             }
            },
            "type": "scatter3d"
           }
          ],
          "scattercarpet": [
           {
            "marker": {
             "colorbar": {
              "outlinewidth": 0,
              "ticks": ""
             }
            },
            "type": "scattercarpet"
           }
          ],
          "scattergeo": [
           {
            "marker": {
             "colorbar": {
              "outlinewidth": 0,
              "ticks": ""
             }
            },
            "type": "scattergeo"
           }
          ],
          "scattergl": [
           {
            "marker": {
             "colorbar": {
              "outlinewidth": 0,
              "ticks": ""
             }
            },
            "type": "scattergl"
           }
          ],
          "scattermap": [
           {
            "marker": {
             "colorbar": {
              "outlinewidth": 0,
              "ticks": ""
             }
            },
            "type": "scattermap"
           }
          ],
          "scattermapbox": [
           {
            "marker": {
             "colorbar": {
              "outlinewidth": 0,
              "ticks": ""
             }
            },
            "type": "scattermapbox"
           }
          ],
          "scatterpolar": [
           {
            "marker": {
             "colorbar": {
              "outlinewidth": 0,
              "ticks": ""
             }
            },
            "type": "scatterpolar"
           }
          ],
          "scatterpolargl": [
           {
            "marker": {
             "colorbar": {
              "outlinewidth": 0,
              "ticks": ""
             }
            },
            "type": "scatterpolargl"
           }
          ],
          "scatterternary": [
           {
            "marker": {
             "colorbar": {
              "outlinewidth": 0,
              "ticks": ""
             }
            },
            "type": "scatterternary"
           }
          ],
          "surface": [
           {
            "colorbar": {
             "outlinewidth": 0,
             "ticks": ""
            },
            "colorscale": [
             [
              0,
              "#0d0887"
             ],
             [
              0.1111111111111111,
              "#46039f"
             ],
             [
              0.2222222222222222,
              "#7201a8"
             ],
             [
              0.3333333333333333,
              "#9c179e"
             ],
             [
              0.4444444444444444,
              "#bd3786"
             ],
             [
              0.5555555555555556,
              "#d8576b"
             ],
             [
              0.6666666666666666,
              "#ed7953"
             ],
             [
              0.7777777777777778,
              "#fb9f3a"
             ],
             [
              0.8888888888888888,
              "#fdca26"
             ],
             [
              1,
              "#f0f921"
             ]
            ],
            "type": "surface"
           }
          ],
          "table": [
           {
            "cells": {
             "fill": {
              "color": "#EBF0F8"
             },
             "line": {
              "color": "white"
             }
            },
            "header": {
             "fill": {
              "color": "#C8D4E3"
             },
             "line": {
              "color": "white"
             }
            },
            "type": "table"
           }
          ]
         },
         "layout": {
          "annotationdefaults": {
           "arrowcolor": "#2a3f5f",
           "arrowhead": 0,
           "arrowwidth": 1
          },
          "autotypenumbers": "strict",
          "coloraxis": {
           "colorbar": {
            "outlinewidth": 0,
            "ticks": ""
           }
          },
          "colorscale": {
           "diverging": [
            [
             0,
             "#8e0152"
            ],
            [
             0.1,
             "#c51b7d"
            ],
            [
             0.2,
             "#de77ae"
            ],
            [
             0.3,
             "#f1b6da"
            ],
            [
             0.4,
             "#fde0ef"
            ],
            [
             0.5,
             "#f7f7f7"
            ],
            [
             0.6,
             "#e6f5d0"
            ],
            [
             0.7,
             "#b8e186"
            ],
            [
             0.8,
             "#7fbc41"
            ],
            [
             0.9,
             "#4d9221"
            ],
            [
             1,
             "#276419"
            ]
           ],
           "sequential": [
            [
             0,
             "#0d0887"
            ],
            [
             0.1111111111111111,
             "#46039f"
            ],
            [
             0.2222222222222222,
             "#7201a8"
            ],
            [
             0.3333333333333333,
             "#9c179e"
            ],
            [
             0.4444444444444444,
             "#bd3786"
            ],
            [
             0.5555555555555556,
             "#d8576b"
            ],
            [
             0.6666666666666666,
             "#ed7953"
            ],
            [
             0.7777777777777778,
             "#fb9f3a"
            ],
            [
             0.8888888888888888,
             "#fdca26"
            ],
            [
             1,
             "#f0f921"
            ]
           ],
           "sequentialminus": [
            [
             0,
             "#0d0887"
            ],
            [
             0.1111111111111111,
             "#46039f"
            ],
            [
             0.2222222222222222,
             "#7201a8"
            ],
            [
             0.3333333333333333,
             "#9c179e"
            ],
            [
             0.4444444444444444,
             "#bd3786"
            ],
            [
             0.5555555555555556,
             "#d8576b"
            ],
            [
             0.6666666666666666,
             "#ed7953"
            ],
            [
             0.7777777777777778,
             "#fb9f3a"
            ],
            [
             0.8888888888888888,
             "#fdca26"
            ],
            [
             1,
             "#f0f921"
            ]
           ]
          },
          "colorway": [
           "#636efa",
           "#EF553B",
           "#00cc96",
           "#ab63fa",
           "#FFA15A",
           "#19d3f3",
           "#FF6692",
           "#B6E880",
           "#FF97FF",
           "#FECB52"
          ],
          "font": {
           "color": "#2a3f5f"
          },
          "geo": {
           "bgcolor": "white",
           "lakecolor": "white",
           "landcolor": "#E5ECF6",
           "showlakes": true,
           "showland": true,
           "subunitcolor": "white"
          },
          "hoverlabel": {
           "align": "left"
          },
          "hovermode": "closest",
          "mapbox": {
           "style": "light"
          },
          "paper_bgcolor": "white",
          "plot_bgcolor": "#E5ECF6",
          "polar": {
           "angularaxis": {
            "gridcolor": "white",
            "linecolor": "white",
            "ticks": ""
           },
           "bgcolor": "#E5ECF6",
           "radialaxis": {
            "gridcolor": "white",
            "linecolor": "white",
            "ticks": ""
           }
          },
          "scene": {
           "xaxis": {
            "backgroundcolor": "#E5ECF6",
            "gridcolor": "white",
            "gridwidth": 2,
            "linecolor": "white",
            "showbackground": true,
            "ticks": "",
            "zerolinecolor": "white"
           },
           "yaxis": {
            "backgroundcolor": "#E5ECF6",
            "gridcolor": "white",
            "gridwidth": 2,
            "linecolor": "white",
            "showbackground": true,
            "ticks": "",
            "zerolinecolor": "white"
           },
           "zaxis": {
            "backgroundcolor": "#E5ECF6",
            "gridcolor": "white",
            "gridwidth": 2,
            "linecolor": "white",
            "showbackground": true,
            "ticks": "",
            "zerolinecolor": "white"
           }
          },
          "shapedefaults": {
           "line": {
            "color": "#2a3f5f"
           }
          },
          "ternary": {
           "aaxis": {
            "gridcolor": "white",
            "linecolor": "white",
            "ticks": ""
           },
           "baxis": {
            "gridcolor": "white",
            "linecolor": "white",
            "ticks": ""
           },
           "bgcolor": "#E5ECF6",
           "caxis": {
            "gridcolor": "white",
            "linecolor": "white",
            "ticks": ""
           }
          },
          "title": {
           "x": 0.05
          },
          "xaxis": {
           "automargin": true,
           "gridcolor": "white",
           "linecolor": "white",
           "ticks": "",
           "title": {
            "standoff": 15
           },
           "zerolinecolor": "white",
           "zerolinewidth": 2
          },
          "yaxis": {
           "automargin": true,
           "gridcolor": "white",
           "linecolor": "white",
           "ticks": "",
           "title": {
            "standoff": 15
           },
           "zerolinecolor": "white",
           "zerolinewidth": 2
          }
         }
        },
        "title": {
         "text": "Cross-Validation Metrics Across Folds"
        },
        "width": 1500,
        "xaxis": {
         "anchor": "y",
         "domain": [
          0,
          0.2822222222222222
         ],
         "title": {
          "text": "Fold"
         }
        },
        "xaxis2": {
         "anchor": "y2",
         "domain": [
          0.34888888888888886,
          0.6311111111111111
         ],
         "title": {
          "text": "Fold"
         }
        },
        "xaxis3": {
         "anchor": "y3",
         "domain": [
          0.6977777777777777,
          0.98
         ],
         "title": {
          "text": "Fold"
         }
        },
        "xaxis4": {
         "anchor": "y4",
         "domain": [
          0,
          0.2822222222222222
         ],
         "title": {
          "text": "Fold"
         }
        },
        "xaxis5": {
         "anchor": "y5",
         "domain": [
          0.34888888888888886,
          0.6311111111111111
         ],
         "title": {
          "text": "Fold"
         }
        },
        "xaxis6": {
         "anchor": "y6",
         "domain": [
          0.6977777777777777,
          0.98
         ],
         "title": {
          "text": "Fold"
         }
        },
        "yaxis": {
         "anchor": "x",
         "domain": [
          0.55,
          1
         ],
         "title": {
          "text": "Score"
         }
        },
        "yaxis2": {
         "anchor": "x2",
         "domain": [
          0.55,
          1
         ],
         "title": {
          "text": "Score"
         }
        },
        "yaxis3": {
         "anchor": "x3",
         "domain": [
          0.55,
          1
         ],
         "title": {
          "text": "Score"
         }
        },
        "yaxis4": {
         "anchor": "x4",
         "domain": [
          0,
          0.45
         ],
         "title": {
          "text": "Score"
         }
        },
        "yaxis5": {
         "anchor": "x5",
         "domain": [
          0,
          0.45
         ],
         "title": {
          "text": "Score"
         }
        },
        "yaxis6": {
         "anchor": "x6",
         "domain": [
          0,
          0.45
         ],
         "title": {
          "text": "Score"
         }
        }
       }
      }
     },
     "metadata": {},
     "output_type": "display_data"
    }
   ],
   "source": [
    "# Score details on each fold\n",
    "dummy_params = {\n",
    "    \"beta\": args[\"beta\"],\n",
    "    \"cv_folds\": args[\"cv_folds\"],\n",
    "    \"strategy\": \"most_frequent\",\n",
    "    \"random_state\": args[\"random_state\"],\n",
    "}\n",
    "dummy = DummyEstimator(dummy_params)\n",
    "dummy_cv_score = dummy.cross_validate(X_train,y_train)\n",
    "\n",
    "model_cv_score = model.cross_validate(X_train,y_train)\n",
    "\n",
    "print(f\"Dummy CV Score: {dummy_cv_score:.4f}\")\n",
    "print(f\"Random Forest CV Score: {model_cv_score:.4f}\")\n",
    "\n",
    "dummy_scores = dummy.cv_scores  \n",
    "model_scores = model.cv_scores\n",
    "\n",
    "fig = make_subplots(\n",
    "    rows=2, cols=3,\n",
    "    subplot_titles=('Precision', 'Recall', f'F{beta} Score'),\n",
    "    row_titles=['Train', 'Validation'],\n",
    "    vertical_spacing=0.1\n",
    ")\n",
    "\n",
    "models = {'Dummy': dummy, 'Random Forest': model }\n",
    "colors = {'Dummy': 'red', 'Random Forest': 'green'}\n",
    "\n",
    "for model_name, model in models.items():\n",
    "    color = colors[model_name]\n",
    "    \n",
    "    # Train metrics\n",
    "    fig.add_trace(\n",
    "        go.Scatter(x=list(range(1, cv_folds+1)), \n",
    "                  y=model.cv_scores['train']['precision'],\n",
    "                  mode='lines+markers', \n",
    "                  name=f'{model_name}',\n",
    "                  line=dict(color=color),\n",
    "                  legendgroup=model_name,\n",
    "                  showlegend=True),\n",
    "        row=1, col=1\n",
    "    )\n",
    "    \n",
    "    fig.add_trace(\n",
    "        go.Scatter(x=list(range(1, cv_folds+1)), \n",
    "                  y=model.cv_scores['train']['recall'],\n",
    "                  mode='lines+markers', \n",
    "                  name=f'{model_name} Train Recall',\n",
    "                  line=dict(color=color),\n",
    "                  legendgroup=model_name,\n",
    "                  showlegend=False),\n",
    "        row=1, col=2\n",
    "    )\n",
    "    \n",
    "    fig.add_trace(\n",
    "        go.Scatter(x=list(range(1, cv_folds+1)), \n",
    "                  y=model.cv_scores['train'][f'F{beta}'],\n",
    "                  mode='lines+markers', \n",
    "                  name=f'{model_name} Train F{beta}',\n",
    "                  line=dict(color=color),\n",
    "                  legendgroup=model_name,\n",
    "                  showlegend=False),\n",
    "        row=1, col=3\n",
    "    )\n",
    "    \n",
    "    # Validation metrics\n",
    "    fig.add_trace(\n",
    "        go.Scatter(x=list(range(1, cv_folds+1)), \n",
    "                  y=model.cv_scores['valid']['precision'],\n",
    "                  mode='lines+markers', \n",
    "                  name=f'{model_name} Valid Precision',\n",
    "                  line=dict(color=color),\n",
    "                  legendgroup=model_name,\n",
    "                  showlegend=False),\n",
    "        row=2, col=1\n",
    "    )\n",
    "    \n",
    "    fig.add_trace(\n",
    "        go.Scatter(x=list(range(1, cv_folds+1)), \n",
    "                  y=model.cv_scores['valid']['recall'],\n",
    "                  mode='lines+markers', \n",
    "                  name=f'{model_name} Valid Recall',\n",
    "                  line=dict(color=color),\n",
    "                  legendgroup=model_name,\n",
    "                  showlegend=False),\n",
    "        row=2, col=2\n",
    "    )\n",
    "    \n",
    "    fig.add_trace(\n",
    "        go.Scatter(x=list(range(1, cv_folds+1)), \n",
    "                  y=model.cv_scores['valid'][f'F{beta}'],\n",
    "                  mode='lines+markers', \n",
    "                  name=f'{model_name} Valid F{beta}',\n",
    "                  line=dict(color=color),\n",
    "                  legendgroup=model_name,\n",
    "                  showlegend=False),\n",
    "        row=2, col=3\n",
    "    )\n",
    "\n",
    "fig.update_xaxes(title_text=\"Fold\")\n",
    "fig.update_yaxes(title_text=\"Score\")\n",
    "fig.update_layout(height=600, width=1500, title=\"Cross-Validation Metrics Across Folds\")\n",
    "fig.show()"
   ]
  },
  {
   "cell_type": "markdown",
   "id": "51f8654f",
   "metadata": {},
   "source": [
    "1) We observe some over-fitting (gap in metrics in fold 3) but scores remain consistent.\n",
    "2) The model shows a higher precision than recall as expected.\n",
    "3) Dummy Classifier is clearly outperformed !"
   ]
  },
  {
   "cell_type": "code",
   "execution_count": 53,
   "id": "6025a850",
   "metadata": {},
   "outputs": [
    {
     "name": "stdout",
     "output_type": "stream",
     "text": [
      "Best configuration saved to: models/params/rf.json\n"
     ]
    }
   ],
   "source": [
    "# Saving best configs\n",
    "save_config_path = os.path.join(\"models\",\"params\",\"rf.json\")\n",
    "os.makedirs(os.path.dirname(save_config_path), exist_ok=True)\n",
    "with open(save_config_path, 'w') as f:\n",
    "    json.dump(best_config, f, indent=4)\n",
    "\n",
    "print(f\"Best configuration saved to: {save_config_path}\")"
   ]
  },
  {
   "cell_type": "code",
   "execution_count": 54,
   "id": "e3b13e62",
   "metadata": {},
   "outputs": [
    {
     "name": "stdout",
     "output_type": "stream",
     "text": [
      "Test Set Performance Comparison:\n",
      "| Model         |   Precision |   Recall |   F0.5 Score |\n",
      "|---------------|-------------|----------|--------------|\n",
      "| Dummy         |      0.624  |   1      |       0.6748 |\n",
      "| Random Forest |      0.8067 |   0.7516 |       0.795  |\n"
     ]
    }
   ],
   "source": [
    "# Evaluation metrics\n",
    "\n",
    "model_test_scores = model.evaluate(X_test,y_test)\n",
    "dummy_test_scores = dummy.evaluate(X_test,y_test)\n",
    "\n",
    "# Create comparison table\n",
    "data = [\n",
    "    [\"Model\", \"Precision\", \"Recall\", f\"F{beta} Score\"],\n",
    "    [\"Dummy\", f\"{dummy_test_scores['precision']:.4f}\", f\"{dummy_test_scores['recall']:.4f}\", f\"{dummy_test_scores[f'F{beta}']:.4f}\"],\n",
    "    [\"Random Forest\", f\"{model_test_scores['precision']:.4f}\", f\"{model_test_scores['recall']:.4f}\", f\"{model_test_scores[f'F{beta}']:.4f}\"]\n",
    "]\n",
    "\n",
    "print(\"Test Set Performance Comparison:\")\n",
    "print(tabulate(data, headers=\"firstrow\", tablefmt=\"github\"))"
   ]
  },
  {
   "cell_type": "markdown",
   "id": "05089ec0",
   "metadata": {},
   "source": [
    "Random Forest generalizes well on unseen data (almost the same metrics as during cross validation), plus it still outperforms dummy classifier !"
   ]
  }
 ],
 "metadata": {
  "kernelspec": {
   "display_name": "ml",
   "language": "python",
   "name": "python3"
  },
  "language_info": {
   "codemirror_mode": {
    "name": "ipython",
    "version": 3
   },
   "file_extension": ".py",
   "mimetype": "text/x-python",
   "name": "python",
   "nbconvert_exporter": "python",
   "pygments_lexer": "ipython3",
   "version": "3.11.13"
  }
 },
 "nbformat": 4,
 "nbformat_minor": 5
}
