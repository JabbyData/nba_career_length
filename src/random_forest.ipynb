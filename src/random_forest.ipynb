{
 "cells": [
  {
   "cell_type": "code",
   "execution_count": 1,
   "id": "030b68b6",
   "metadata": {},
   "outputs": [
    {
     "name": "stderr",
     "output_type": "stream",
     "text": [
      "/home/jabby/miniconda3/envs/nba/lib/python3.11/site-packages/tqdm/auto.py:21: TqdmWarning: IProgress not found. Please update jupyter and ipywidgets. See https://ipywidgets.readthedocs.io/en/stable/user_install.html\n",
      "  from .autonotebook import tqdm as notebook_tqdm\n"
     ]
    }
   ],
   "source": [
    "# Dependencies\n",
    "\n",
    "# Data Manip\n",
    "import pandas as pd\n",
    "\n",
    "# Linear Algebra\n",
    "import numpy as np\n",
    "\n",
    "# Optimization\n",
    "import optuna\n",
    "from optuna.storages import RDBStorage\n",
    "from functools import partial\n",
    "\n",
    "# Machine Learning\n",
    "from sklearn.model_selection import StratifiedKFold, train_test_split\n",
    "from sklearn.metrics import confusion_matrix, precision_score, recall_score, fbeta_score, make_scorer\n",
    "from models.rf import RFEstimator\n",
    "from models.dummy import DummyEstimator\n",
    "\n",
    "\n",
    "# Visualization\n",
    "import plotly.graph_objects as go\n",
    "from plotly.subplots import make_subplots\n",
    "from tabulate import tabulate\n",
    "\n",
    "# System & Files\n",
    "import os\n",
    "import json\n",
    "\n",
    "seed = 42\n",
    "np.random.seed(seed)"
   ]
  },
  {
   "cell_type": "code",
   "execution_count": 2,
   "id": "c4569b57",
   "metadata": {},
   "outputs": [],
   "source": [
    "# Data collection\n",
    "data_path = \"data/nba_filtered.csv\" # random forest robust to outliers\n",
    "df = pd.read_csv(data_path)"
   ]
  },
  {
   "cell_type": "code",
   "execution_count": 3,
   "id": "8f3a8bc0",
   "metadata": {},
   "outputs": [],
   "source": [
    "# Train / Test split\n",
    "target = \"TARGET_5Yrs\"\n",
    "\n",
    "X = df.drop(columns=[target]).values\n",
    "y = df[target].values\n",
    "\n",
    "test_size=0.2\n",
    "X_train, X_test, y_train, y_test = train_test_split(X,y,stratify=y,test_size=test_size,shuffle=True,random_state=seed)\n",
    "\n",
    "# Cross Validation Splitter\n",
    "cv_folds = 4 # To get approximately same number of samples in validation sets and test set"
   ]
  },
  {
   "cell_type": "markdown",
   "id": "af5a21f4",
   "metadata": {},
   "source": [
    "Lots of hyperparameters to fine-tune, let's use a specialized library : OPTUNA <br>\n",
    "Bayesian Optimization / consecutively narrowing confidence intervals over various parameters of scoring function <br>\n",
    "Logs stored under \"db.sqlite3\" for more details "
   ]
  },
  {
   "cell_type": "code",
   "execution_count": 4,
   "id": "ff01af13",
   "metadata": {},
   "outputs": [
    {
     "name": "stderr",
     "output_type": "stream",
     "text": [
      "[I 2025-10-06 16:01:31,334] A new study created in RDB with name: random_forest_TARGET_5Yrs\n",
      "[I 2025-10-06 16:01:31,468] Trial 0 finished with value: 0.7560858802874928 and parameters: {'n_estimators': 22, 'min_samples_split': 29, 'min_impurity_decrease': 0.000291063591313307, 'min_samples_leaf': 12, 'max_depth': 12, 'ccp_alpha': 0.002403950683025824}. Best is trial 0 with value: 0.7560858802874928.\n"
     ]
    },
    {
     "name": "stdout",
     "output_type": "stream",
     "text": [
      "Deleted existing study: random_forest_TARGET_5Yrs\n"
     ]
    },
    {
     "name": "stderr",
     "output_type": "stream",
     "text": [
      "[I 2025-10-06 16:01:31,530] Trial 1 finished with value: 0.7389790395061033 and parameters: {'n_estimators': 7, 'min_samples_split': 27, 'min_impurity_decrease': 0.00015930522616241006, 'min_samples_leaf': 15, 'max_depth': 5, 'ccp_alpha': 0.00972918866945795}. Best is trial 0 with value: 0.7560858802874928.\n",
      "[I 2025-10-06 16:01:31,737] Trial 2 finished with value: 0.7638066152895209 and parameters: {'n_estimators': 43, 'min_samples_split': 8, 'min_impurity_decrease': 2.3102018878452926e-05, 'min_samples_leaf': 4, 'max_depth': 18, 'ccp_alpha': 0.005722807884690141}. Best is trial 2 with value: 0.7638066152895209.\n",
      "[I 2025-10-06 16:01:31,868] Trial 3 finished with value: 0.7485910764751367 and parameters: {'n_estimators': 24, 'min_samples_split': 10, 'min_impurity_decrease': 0.00016738085788752134, 'min_samples_leaf': 3, 'max_depth': 18, 'ccp_alpha': 0.004297256589643226}. Best is trial 2 with value: 0.7638066152895209.\n",
      "[I 2025-10-06 16:01:31,998] Trial 4 finished with value: 0.7523963657454051 and parameters: {'n_estimators': 25, 'min_samples_split': 24, 'min_impurity_decrease': 2.5081156860452307e-05, 'min_samples_leaf': 11, 'max_depth': 32, 'ccp_alpha': 0.0014180537144799796}. Best is trial 2 with value: 0.7638066152895209.\n",
      "[I 2025-10-06 16:01:32,209] Trial 5 finished with value: 0.7457696308323126 and parameters: {'n_estimators': 32, 'min_samples_split': 6, 'min_impurity_decrease': 1.3492834268013232e-05, 'min_samples_leaf': 19, 'max_depth': 49, 'ccp_alpha': 0.008275576133048152}. Best is trial 2 with value: 0.7638066152895209.\n",
      "[I 2025-10-06 16:01:32,316] Trial 6 finished with value: 0.7560527455129072 and parameters: {'n_estimators': 19, 'min_samples_split': 4, 'min_impurity_decrease': 0.000233596350262616, 'min_samples_leaf': 9, 'max_depth': 10, 'ccp_alpha': 0.005456592191001432}. Best is trial 2 with value: 0.7638066152895209.\n",
      "[I 2025-10-06 16:01:32,376] Trial 7 finished with value: 0.7506039445221129 and parameters: {'n_estimators': 6, 'min_samples_split': 28, 'min_impurity_decrease': 3.292759134423613e-05, 'min_samples_leaf': 14, 'max_depth': 19, 'ccp_alpha': 0.0056806121906002975}. Best is trial 2 with value: 0.7638066152895209.\n",
      "[I 2025-10-06 16:01:32,510] Trial 8 finished with value: 0.7479626566129776 and parameters: {'n_estimators': 30, 'min_samples_split': 7, 'min_impurity_decrease': 0.0008692991511139548, 'min_samples_leaf': 16, 'max_depth': 48, 'ccp_alpha': 0.00905344615384884}. Best is trial 2 with value: 0.7638066152895209.\n",
      "[I 2025-10-06 16:01:32,653] Trial 9 finished with value: 0.7610580318366689 and parameters: {'n_estimators': 32, 'min_samples_split': 28, 'min_impurity_decrease': 1.5030900645056805e-05, 'min_samples_leaf': 4, 'max_depth': 7, 'ccp_alpha': 0.003927972976869379}. Best is trial 2 with value: 0.7638066152895209.\n",
      "[I 2025-10-06 16:01:32,868] Trial 10 finished with value: 0.7536331589369282 and parameters: {'n_estimators': 49, 'min_samples_split': 15, 'min_impurity_decrease': 5.463331403485189e-05, 'min_samples_leaf': 7, 'max_depth': 32, 'ccp_alpha': 0.007212223662122307}. Best is trial 2 with value: 0.7638066152895209.\n",
      "[I 2025-10-06 16:01:33,074] Trial 11 finished with value: 0.7546788354689573 and parameters: {'n_estimators': 43, 'min_samples_split': 20, 'min_impurity_decrease': 1.1871256969187498e-05, 'min_samples_leaf': 1, 'max_depth': 23, 'ccp_alpha': 0.003664784918691396}. Best is trial 2 with value: 0.7638066152895209.\n",
      "[I 2025-10-06 16:01:33,235] Trial 12 finished with value: 0.7543514216134775 and parameters: {'n_estimators': 39, 'min_samples_split': 14, 'min_impurity_decrease': 6.237124135502946e-05, 'min_samples_leaf': 5, 'max_depth': 5, 'ccp_alpha': 0.006325152723370538}. Best is trial 2 with value: 0.7638066152895209.\n",
      "[I 2025-10-06 16:01:33,411] Trial 13 finished with value: 0.7555819875933808 and parameters: {'n_estimators': 37, 'min_samples_split': 20, 'min_impurity_decrease': 2.265274727522749e-05, 'min_samples_leaf': 5, 'max_depth': 13, 'ccp_alpha': 0.004044345722157421}. Best is trial 2 with value: 0.7638066152895209.\n",
      "[I 2025-10-06 16:01:33,667] Trial 14 finished with value: 0.740741445180221 and parameters: {'n_estimators': 50, 'min_samples_split': 2, 'min_impurity_decrease': 1.0192868549656633e-05, 'min_samples_leaf': 1, 'max_depth': 28, 'ccp_alpha': 0.002604739002099723}. Best is trial 2 with value: 0.7638066152895209.\n",
      "[I 2025-10-06 16:01:33,854] Trial 15 finished with value: 0.7578395576302052 and parameters: {'n_estimators': 42, 'min_samples_split': 10, 'min_impurity_decrease': 4.4479270246313465e-05, 'min_samples_leaf': 8, 'max_depth': 41, 'ccp_alpha': 0.004938213639450426}. Best is trial 2 with value: 0.7638066152895209.\n",
      "[I 2025-10-06 16:01:34,031] Trial 16 finished with value: 0.757241423655257 and parameters: {'n_estimators': 35, 'min_samples_split': 12, 'min_impurity_decrease': 1.8950718264000838e-05, 'min_samples_leaf': 5, 'max_depth': 18, 'ccp_alpha': 0.0069771024766973316}. Best is trial 2 with value: 0.7638066152895209.\n",
      "[I 2025-10-06 16:01:34,147] Trial 17 finished with value: 0.752569678036566 and parameters: {'n_estimators': 18, 'min_samples_split': 20, 'min_impurity_decrease': 8.803267998900399e-05, 'min_samples_leaf': 3, 'max_depth': 24, 'ccp_alpha': 0.0030347727956708953}. Best is trial 2 with value: 0.7638066152895209.\n",
      "[I 2025-10-06 16:01:34,342] Trial 18 finished with value: 0.7500254276915976 and parameters: {'n_estimators': 45, 'min_samples_split': 24, 'min_impurity_decrease': 3.418278977925781e-05, 'min_samples_leaf': 6, 'max_depth': 11, 'ccp_alpha': 0.007633749669245113}. Best is trial 2 with value: 0.7638066152895209.\n",
      "[I 2025-10-06 16:01:34,497] Trial 19 finished with value: 0.7481508300773771 and parameters: {'n_estimators': 30, 'min_samples_split': 17, 'min_impurity_decrease': 1.752342254797472e-05, 'min_samples_leaf': 3, 'max_depth': 16, 'ccp_alpha': 0.0013828129686050848}. Best is trial 2 with value: 0.7638066152895209.\n",
      "[I 2025-10-06 16:01:34,657] Trial 20 finished with value: 0.7544750153675868 and parameters: {'n_estimators': 35, 'min_samples_split': 25, 'min_impurity_decrease': 0.0006315818973085179, 'min_samples_leaf': 9, 'max_depth': 8, 'ccp_alpha': 0.0048740687461324966}. Best is trial 2 with value: 0.7638066152895209.\n",
      "[I 2025-10-06 16:01:34,846] Trial 21 finished with value: 0.7597232538085172 and parameters: {'n_estimators': 42, 'min_samples_split': 9, 'min_impurity_decrease': 4.518363588745506e-05, 'min_samples_leaf': 8, 'max_depth': 41, 'ccp_alpha': 0.005087962658240953}. Best is trial 2 with value: 0.7638066152895209.\n",
      "[I 2025-10-06 16:01:35,060] Trial 22 finished with value: 0.7674773741839889 and parameters: {'n_estimators': 46, 'min_samples_split': 9, 'min_impurity_decrease': 2.995673280368254e-05, 'min_samples_leaf': 3, 'max_depth': 39, 'ccp_alpha': 0.006311518037117149}. Best is trial 22 with value: 0.7674773741839889.\n",
      "[I 2025-10-06 16:01:35,294] Trial 23 finished with value: 0.7530032347596978 and parameters: {'n_estimators': 46, 'min_samples_split': 7, 'min_impurity_decrease': 2.862413825283485e-05, 'min_samples_leaf': 3, 'max_depth': 38, 'ccp_alpha': 0.00635579357923935}. Best is trial 22 with value: 0.7674773741839889.\n",
      "[I 2025-10-06 16:01:35,498] Trial 24 finished with value: 0.7520064426662678 and parameters: {'n_estimators': 39, 'min_samples_split': 12, 'min_impurity_decrease': 1.5913234390542896e-05, 'min_samples_leaf': 1, 'max_depth': 35, 'ccp_alpha': 0.006302014890630254}. Best is trial 22 with value: 0.7674773741839889.\n",
      "[I 2025-10-06 16:01:35,707] Trial 25 finished with value: 0.7523714815966698 and parameters: {'n_estimators': 47, 'min_samples_split': 17, 'min_impurity_decrease': 9.652416268096867e-05, 'min_samples_leaf': 4, 'max_depth': 23, 'ccp_alpha': 0.0037235896021371485}. Best is trial 22 with value: 0.7674773741839889.\n",
      "[I 2025-10-06 16:01:35,793] Trial 26 finished with value: 0.7583948239830468 and parameters: {'n_estimators': 11, 'min_samples_split': 2, 'min_impurity_decrease': 7.254182094314609e-05, 'min_samples_leaf': 6, 'max_depth': 28, 'ccp_alpha': 0.008136953195823743}. Best is trial 22 with value: 0.7674773741839889.\n",
      "[I 2025-10-06 16:01:35,991] Trial 27 finished with value: 0.7524570779458472 and parameters: {'n_estimators': 40, 'min_samples_split': 13, 'min_impurity_decrease': 4.033230915956488e-05, 'min_samples_leaf': 2, 'max_depth': 14, 'ccp_alpha': 0.005938023107838862}. Best is trial 22 with value: 0.7674773741839889.\n",
      "[I 2025-10-06 16:01:36,149] Trial 28 finished with value: 0.7586702226007833 and parameters: {'n_estimators': 33, 'min_samples_split': 5, 'min_impurity_decrease': 2.2571265465634234e-05, 'min_samples_leaf': 7, 'max_depth': 43, 'ccp_alpha': 0.004451310612458767}. Best is trial 22 with value: 0.7674773741839889.\n",
      "[I 2025-10-06 16:01:36,287] Trial 29 finished with value: 0.7548282276786771 and parameters: {'n_estimators': 28, 'min_samples_split': 30, 'min_impurity_decrease': 1.384478540948663e-05, 'min_samples_leaf': 12, 'max_depth': 45, 'ccp_alpha': 0.003154844311407764}. Best is trial 22 with value: 0.7674773741839889.\n",
      "[I 2025-10-06 16:01:36,486] Trial 30 finished with value: 0.7619444450703712 and parameters: {'n_estimators': 46, 'min_samples_split': 8, 'min_impurity_decrease': 1.8154930496627255e-05, 'min_samples_leaf': 4, 'max_depth': 8, 'ccp_alpha': 0.002009012952632874}. Best is trial 22 with value: 0.7674773741839889.\n",
      "[I 2025-10-06 16:01:36,690] Trial 31 finished with value: 0.7512516188209228 and parameters: {'n_estimators': 47, 'min_samples_split': 9, 'min_impurity_decrease': 1.949900340525032e-05, 'min_samples_leaf': 4, 'max_depth': 8, 'ccp_alpha': 0.0024249216274965495}. Best is trial 22 with value: 0.7674773741839889.\n",
      "[I 2025-10-06 16:01:36,867] Trial 32 finished with value: 0.7549330346821366 and parameters: {'n_estimators': 44, 'min_samples_split': 8, 'min_impurity_decrease': 1.0836382859740499e-05, 'min_samples_leaf': 2, 'max_depth': 5, 'ccp_alpha': 0.0021107883260779586}. Best is trial 22 with value: 0.7674773741839889.\n",
      "[I 2025-10-06 16:01:37,072] Trial 33 finished with value: 0.7497917257025302 and parameters: {'n_estimators': 49, 'min_samples_split': 10, 'min_impurity_decrease': 2.9132022003466433e-05, 'min_samples_leaf': 4, 'max_depth': 8, 'ccp_alpha': 0.0010516393377485661}. Best is trial 22 with value: 0.7674773741839889.\n",
      "[I 2025-10-06 16:01:37,257] Trial 34 finished with value: 0.7560321576346964 and parameters: {'n_estimators': 41, 'min_samples_split': 12, 'min_impurity_decrease': 1.4569660656019419e-05, 'min_samples_leaf': 6, 'max_depth': 15, 'ccp_alpha': 0.0018128418252473882}. Best is trial 22 with value: 0.7674773741839889.\n",
      "[I 2025-10-06 16:01:37,412] Trial 35 finished with value: 0.7549502865139154 and parameters: {'n_estimators': 38, 'min_samples_split': 4, 'min_impurity_decrease': 0.00013842018106753067, 'min_samples_leaf': 20, 'max_depth': 19, 'ccp_alpha': 0.0033359492830229327}. Best is trial 22 with value: 0.7674773741839889.\n",
      "[I 2025-10-06 16:01:37,536] Trial 36 finished with value: 0.7464084395038272 and parameters: {'n_estimators': 24, 'min_samples_split': 22, 'min_impurity_decrease': 2.4757800696082808e-05, 'min_samples_leaf': 3, 'max_depth': 10, 'ccp_alpha': 0.004409591789312586}. Best is trial 22 with value: 0.7674773741839889.\n",
      "[I 2025-10-06 16:01:37,661] Trial 37 finished with value: 0.760884299547235 and parameters: {'n_estimators': 21, 'min_samples_split': 5, 'min_impurity_decrease': 0.00037690957714728264, 'min_samples_leaf': 2, 'max_depth': 21, 'ccp_alpha': 0.007106516851073507}. Best is trial 22 with value: 0.7674773741839889.\n",
      "[I 2025-10-06 16:01:37,844] Trial 38 finished with value: 0.7519974447202931 and parameters: {'n_estimators': 45, 'min_samples_split': 11, 'min_impurity_decrease': 3.535220829992265e-05, 'min_samples_leaf': 11, 'max_depth': 12, 'ccp_alpha': 0.005530129837217502}. Best is trial 22 with value: 0.7674773741839889.\n",
      "[I 2025-10-06 16:01:37,929] Trial 39 finished with value: 0.7511157467524421 and parameters: {'n_estimators': 13, 'min_samples_split': 7, 'min_impurity_decrease': 1.9267407211286382e-05, 'min_samples_leaf': 9, 'max_depth': 31, 'ccp_alpha': 0.009750960359868542}. Best is trial 22 with value: 0.7674773741839889.\n",
      "[I 2025-10-06 16:01:38,083] Trial 40 finished with value: 0.7589935189798034 and parameters: {'n_estimators': 36, 'min_samples_split': 26, 'min_impurity_decrease': 1.3654157626679448e-05, 'min_samples_leaf': 7, 'max_depth': 7, 'ccp_alpha': 0.006701530312308562}. Best is trial 22 with value: 0.7674773741839889.\n",
      "[I 2025-10-06 16:01:38,208] Trial 41 finished with value: 0.7587353083140521 and parameters: {'n_estimators': 22, 'min_samples_split': 4, 'min_impurity_decrease': 0.0004903302596404201, 'min_samples_leaf': 2, 'max_depth': 25, 'ccp_alpha': 0.007702692115541795}. Best is trial 22 with value: 0.7674773741839889.\n",
      "[I 2025-10-06 16:01:38,325] Trial 42 finished with value: 0.7548933811967575 and parameters: {'n_estimators': 19, 'min_samples_split': 6, 'min_impurity_decrease': 0.0003443106849531134, 'min_samples_leaf': 4, 'max_depth': 20, 'ccp_alpha': 0.008671728313312997}. Best is trial 22 with value: 0.7674773741839889.\n",
      "[I 2025-10-06 16:01:38,469] Trial 43 finished with value: 0.7549864786176365 and parameters: {'n_estimators': 26, 'min_samples_split': 5, 'min_impurity_decrease': 0.00024563818863824344, 'min_samples_leaf': 2, 'max_depth': 16, 'ccp_alpha': 0.005920879095579514}. Best is trial 22 with value: 0.7674773741839889.\n",
      "[I 2025-10-06 16:01:38,567] Trial 44 finished with value: 0.7474427054934665 and parameters: {'n_estimators': 17, 'min_samples_split': 8, 'min_impurity_decrease': 0.00013280913567092012, 'min_samples_leaf': 16, 'max_depth': 31, 'ccp_alpha': 0.0070982316587625115}. Best is trial 22 with value: 0.7674773741839889.\n",
      "[I 2025-10-06 16:01:38,779] Trial 45 finished with value: 0.7562993255922797 and parameters: {'n_estimators': 48, 'min_samples_split': 16, 'min_impurity_decrease': 0.0008873365332453116, 'min_samples_leaf': 1, 'max_depth': 20, 'ccp_alpha': 0.007519729231131101}. Best is trial 22 with value: 0.7674773741839889.\n",
      "[I 2025-10-06 16:01:38,894] Trial 46 finished with value: 0.7542774150926268 and parameters: {'n_estimators': 21, 'min_samples_split': 28, 'min_impurity_decrease': 0.0002131566710131302, 'min_samples_leaf': 5, 'max_depth': 26, 'ccp_alpha': 0.005292571894133425}. Best is trial 22 with value: 0.7674773741839889.\n",
      "[I 2025-10-06 16:01:39,052] Trial 47 finished with value: 0.7503453456545891 and parameters: {'n_estimators': 32, 'min_samples_split': 2, 'min_impurity_decrease': 5.180920419279059e-05, 'min_samples_leaf': 4, 'max_depth': 22, 'ccp_alpha': 0.0064983945305990215}. Best is trial 22 with value: 0.7674773741839889.\n",
      "[I 2025-10-06 16:01:39,146] Trial 48 finished with value: 0.7515497392505801 and parameters: {'n_estimators': 15, 'min_samples_split': 14, 'min_impurity_decrease': 0.0003484762885373093, 'min_samples_leaf': 13, 'max_depth': 50, 'ccp_alpha': 0.00918716215928961}. Best is trial 22 with value: 0.7674773741839889.\n",
      "[I 2025-10-06 16:01:39,340] Trial 49 finished with value: 0.7665766048984529 and parameters: {'n_estimators': 44, 'min_samples_split': 6, 'min_impurity_decrease': 2.8231636368537297e-05, 'min_samples_leaf': 5, 'max_depth': 34, 'ccp_alpha': 0.005901452820013729}. Best is trial 22 with value: 0.7674773741839889.\n",
      "[I 2025-10-06 16:01:39,556] Trial 50 finished with value: 0.7549058218135979 and parameters: {'n_estimators': 50, 'min_samples_split': 8, 'min_impurity_decrease': 2.175429153022627e-05, 'min_samples_leaf': 5, 'max_depth': 36, 'ccp_alpha': 0.0027756995183824736}. Best is trial 22 with value: 0.7674773741839889.\n",
      "[I 2025-10-06 16:01:39,758] Trial 51 finished with value: 0.754375005006348 and parameters: {'n_estimators': 43, 'min_samples_split': 6, 'min_impurity_decrease': 2.858095773104441e-05, 'min_samples_leaf': 3, 'max_depth': 35, 'ccp_alpha': 0.006036570954867881}. Best is trial 22 with value: 0.7674773741839889.\n",
      "[I 2025-10-06 16:01:39,951] Trial 52 finished with value: 0.7554831107265725 and parameters: {'n_estimators': 44, 'min_samples_split': 3, 'min_impurity_decrease': 1.6382229809559108e-05, 'min_samples_leaf': 6, 'max_depth': 40, 'ccp_alpha': 0.006684103724375341}. Best is trial 22 with value: 0.7674773741839889.\n",
      "[I 2025-10-06 16:01:40,033] Trial 53 finished with value: 0.7551466312639371 and parameters: {'n_estimators': 9, 'min_samples_split': 5, 'min_impurity_decrease': 1.2217411117721814e-05, 'min_samples_leaf': 2, 'max_depth': 33, 'ccp_alpha': 0.005586270682432427}. Best is trial 22 with value: 0.7674773741839889.\n",
      "[I 2025-10-06 16:01:40,239] Trial 54 finished with value: 0.7587792791203486 and parameters: {'n_estimators': 46, 'min_samples_split': 9, 'min_impurity_decrease': 3.754582525499726e-05, 'min_samples_leaf': 4, 'max_depth': 29, 'ccp_alpha': 0.004770137406757636}. Best is trial 22 with value: 0.7674773741839889.\n",
      "[I 2025-10-06 16:01:40,450] Trial 55 finished with value: 0.7577941983558297 and parameters: {'n_estimators': 41, 'min_samples_split': 7, 'min_impurity_decrease': 6.729791354910338e-05, 'min_samples_leaf': 1, 'max_depth': 38, 'ccp_alpha': 0.006906878572521199}. Best is trial 22 with value: 0.7674773741839889.\n",
      "[I 2025-10-06 16:01:40,582] Trial 56 finished with value: 0.7547265616952011 and parameters: {'n_estimators': 29, 'min_samples_split': 11, 'min_impurity_decrease': 2.9343725551096166e-05, 'min_samples_leaf': 5, 'max_depth': 5, 'ccp_alpha': 0.004010001796425403}. Best is trial 22 with value: 0.7674773741839889.\n",
      "[I 2025-10-06 16:01:40,707] Trial 57 finished with value: 0.7508318833619834 and parameters: {'n_estimators': 24, 'min_samples_split': 19, 'min_impurity_decrease': 0.0006584645750148271, 'min_samples_leaf': 3, 'max_depth': 17, 'ccp_alpha': 0.00806014921759087}. Best is trial 22 with value: 0.7674773741839889.\n",
      "[I 2025-10-06 16:01:40,904] Trial 58 finished with value: 0.7565847847192098 and parameters: {'n_estimators': 48, 'min_samples_split': 3, 'min_impurity_decrease': 5.2618923422316304e-05, 'min_samples_leaf': 8, 'max_depth': 13, 'ccp_alpha': 0.0053007034959194795}. Best is trial 22 with value: 0.7674773741839889.\n",
      "[I 2025-10-06 16:01:41,067] Trial 59 finished with value: 0.7590648809490061 and parameters: {'n_estimators': 33, 'min_samples_split': 10, 'min_impurity_decrease': 2.3706246019952867e-05, 'min_samples_leaf': 3, 'max_depth': 11, 'ccp_alpha': 0.005942928126471658}. Best is trial 22 with value: 0.7674773741839889.\n",
      "[I 2025-10-06 16:01:41,241] Trial 60 finished with value: 0.7561872868547068 and parameters: {'n_estimators': 39, 'min_samples_split': 23, 'min_impurity_decrease': 1.7054565220565664e-05, 'min_samples_leaf': 7, 'max_depth': 45, 'ccp_alpha': 0.007248573086337864}. Best is trial 22 with value: 0.7674773741839889.\n",
      "[I 2025-10-06 16:01:41,427] Trial 61 finished with value: 0.7549605767289884 and parameters: {'n_estimators': 44, 'min_samples_split': 9, 'min_impurity_decrease': 4.23727347007769e-05, 'min_samples_leaf': 10, 'max_depth': 39, 'ccp_alpha': 0.00473479317488106}. Best is trial 22 with value: 0.7674773741839889.\n",
      "[I 2025-10-06 16:01:41,610] Trial 62 finished with value: 0.7581134682815812 and parameters: {'n_estimators': 41, 'min_samples_split': 6, 'min_impurity_decrease': 3.2681341505445146e-05, 'min_samples_leaf': 8, 'max_depth': 43, 'ccp_alpha': 0.005114620983355496}. Best is trial 22 with value: 0.7674773741839889.\n",
      "[I 2025-10-06 16:01:41,815] Trial 63 finished with value: 0.7577491935786694 and parameters: {'n_estimators': 46, 'min_samples_split': 8, 'min_impurity_decrease': 7.938720591524436e-05, 'min_samples_leaf': 5, 'max_depth': 36, 'ccp_alpha': 0.0036235142263686135}. Best is trial 22 with value: 0.7674773741839889.\n",
      "[I 2025-10-06 16:01:42,004] Trial 64 finished with value: 0.7541744995997687 and parameters: {'n_estimators': 42, 'min_samples_split': 11, 'min_impurity_decrease': 4.671493440059619e-05, 'min_samples_leaf': 6, 'max_depth': 47, 'ccp_alpha': 0.005662040335976325}. Best is trial 22 with value: 0.7674773741839889.\n",
      "[I 2025-10-06 16:01:42,208] Trial 65 finished with value: 0.762751419131939 and parameters: {'n_estimators': 43, 'min_samples_split': 6, 'min_impurity_decrease': 2.0677623222438326e-05, 'min_samples_leaf': 4, 'max_depth': 41, 'ccp_alpha': 0.006174067523191779}. Best is trial 22 with value: 0.7674773741839889.\n",
      "[I 2025-10-06 16:01:42,390] Trial 66 finished with value: 0.7666698854158476 and parameters: {'n_estimators': 37, 'min_samples_split': 6, 'min_impurity_decrease': 1.1599980808713008e-05, 'min_samples_leaf': 2, 'max_depth': 43, 'ccp_alpha': 0.0061645494795624055}. Best is trial 22 with value: 0.7674773741839889.\n",
      "[I 2025-10-06 16:01:42,568] Trial 67 finished with value: 0.7562001195332356 and parameters: {'n_estimators': 37, 'min_samples_split': 6, 'min_impurity_decrease': 1.056452994386415e-05, 'min_samples_leaf': 3, 'max_depth': 44, 'ccp_alpha': 0.006127733694922324}. Best is trial 22 with value: 0.7674773741839889.\n",
      "[I 2025-10-06 16:01:42,722] Trial 68 finished with value: 0.7536542577009273 and parameters: {'n_estimators': 31, 'min_samples_split': 3, 'min_impurity_decrease': 1.2189036101592173e-05, 'min_samples_leaf': 4, 'max_depth': 42, 'ccp_alpha': 0.006237761719498296}. Best is trial 22 with value: 0.7674773741839889.\n",
      "[I 2025-10-06 16:01:42,899] Trial 69 finished with value: 0.7531329610992332 and parameters: {'n_estimators': 35, 'min_samples_split': 7, 'min_impurity_decrease': 2.1283782468041982e-05, 'min_samples_leaf': 1, 'max_depth': 46, 'ccp_alpha': 0.005764882243256295}. Best is trial 22 with value: 0.7674773741839889.\n",
      "[I 2025-10-06 16:01:43,086] Trial 70 finished with value: 0.7552996494065907 and parameters: {'n_estimators': 38, 'min_samples_split': 4, 'min_impurity_decrease': 1.4641938145863114e-05, 'min_samples_leaf': 4, 'max_depth': 41, 'ccp_alpha': 0.006526169001484801}. Best is trial 22 with value: 0.7674773741839889.\n",
      "[I 2025-10-06 16:01:43,313] Trial 71 finished with value: 0.7613289901045364 and parameters: {'n_estimators': 48, 'min_samples_split': 5, 'min_impurity_decrease': 1.812290929791857e-05, 'min_samples_leaf': 2, 'max_depth': 38, 'ccp_alpha': 0.006621634393778666}. Best is trial 22 with value: 0.7674773741839889.\n",
      "[I 2025-10-06 16:01:43,541] Trial 72 finished with value: 0.7578409897589315 and parameters: {'n_estimators': 48, 'min_samples_split': 5, 'min_impurity_decrease': 1.830417479383281e-05, 'min_samples_leaf': 2, 'max_depth': 37, 'ccp_alpha': 0.006754942264011999}. Best is trial 22 with value: 0.7674773741839889.\n",
      "[I 2025-10-06 16:01:43,738] Trial 73 finished with value: 0.7535611945722057 and parameters: {'n_estimators': 43, 'min_samples_split': 9, 'min_impurity_decrease': 2.7133818177752456e-05, 'min_samples_leaf': 4, 'max_depth': 34, 'ccp_alpha': 0.007379386974453806}. Best is trial 22 with value: 0.7674773741839889.\n",
      "[I 2025-10-06 16:01:43,951] Trial 74 finished with value: 0.7566597769929386 and parameters: {'n_estimators': 45, 'min_samples_split': 8, 'min_impurity_decrease': 2.016342229807838e-05, 'min_samples_leaf': 2, 'max_depth': 40, 'ccp_alpha': 0.0052981236030701555}. Best is trial 22 with value: 0.7674773741839889.\n",
      "[I 2025-10-06 16:01:44,179] Trial 75 finished with value: 0.7450345210671955 and parameters: {'n_estimators': 50, 'min_samples_split': 4, 'min_impurity_decrease': 1.6121462613395193e-05, 'min_samples_leaf': 1, 'max_depth': 9, 'ccp_alpha': 0.001975776656684203}. Best is trial 22 with value: 0.7674773741839889.\n",
      "[I 2025-10-06 16:01:44,390] Trial 76 finished with value: 0.7601102265136973 and parameters: {'n_estimators': 47, 'min_samples_split': 6, 'min_impurity_decrease': 1.1655027377145892e-05, 'min_samples_leaf': 5, 'max_depth': 38, 'ccp_alpha': 0.006385485854927945}. Best is trial 22 with value: 0.7674773741839889.\n",
      "[I 2025-10-06 16:01:44,584] Trial 77 finished with value: 0.7557769744854429 and parameters: {'n_estimators': 40, 'min_samples_split': 7, 'min_impurity_decrease': 2.4282918182396785e-05, 'min_samples_leaf': 3, 'max_depth': 42, 'ccp_alpha': 0.004603446668496965}. Best is trial 22 with value: 0.7674773741839889.\n",
      "[I 2025-10-06 16:01:44,727] Trial 78 finished with value: 0.7504923821822147 and parameters: {'n_estimators': 34, 'min_samples_split': 30, 'min_impurity_decrease': 1.00809321089858e-05, 'min_samples_leaf': 17, 'max_depth': 39, 'ccp_alpha': 0.0016220417640853534}. Best is trial 22 with value: 0.7674773741839889.\n",
      "[I 2025-10-06 16:01:44,933] Trial 79 finished with value: 0.7566853450950849 and parameters: {'n_estimators': 45, 'min_samples_split': 10, 'min_impurity_decrease': 1.465564341420009e-05, 'min_samples_leaf': 3, 'max_depth': 33, 'ccp_alpha': 0.0057573636150042825}. Best is trial 22 with value: 0.7674773741839889.\n",
      "[I 2025-10-06 16:01:45,138] Trial 80 finished with value: 0.7550409533359868 and parameters: {'n_estimators': 43, 'min_samples_split': 6, 'min_impurity_decrease': 1.3082973238019642e-05, 'min_samples_leaf': 5, 'max_depth': 37, 'ccp_alpha': 0.0010285970036509405}. Best is trial 22 with value: 0.7674773741839889.\n",
      "[I 2025-10-06 16:01:45,341] Trial 81 finished with value: 0.7633242083784896 and parameters: {'n_estimators': 49, 'min_samples_split': 5, 'min_impurity_decrease': 3.227940435234012e-05, 'min_samples_leaf': 2, 'max_depth': 7, 'ccp_alpha': 0.006876267567954346}. Best is trial 22 with value: 0.7674773741839889.\n",
      "[I 2025-10-06 16:01:45,537] Trial 82 finished with value: 0.7579994318737276 and parameters: {'n_estimators': 49, 'min_samples_split': 5, 'min_impurity_decrease': 3.2090705006803316e-05, 'min_samples_leaf': 2, 'max_depth': 6, 'ccp_alpha': 0.006886050371049532}. Best is trial 22 with value: 0.7674773741839889.\n",
      "[I 2025-10-06 16:01:45,743] Trial 83 finished with value: 0.7674604385881676 and parameters: {'n_estimators': 47, 'min_samples_split': 3, 'min_impurity_decrease': 2.545580204220153e-05, 'min_samples_leaf': 3, 'max_depth': 7, 'ccp_alpha': 0.006181743987194655}. Best is trial 22 with value: 0.7674773741839889.\n",
      "[I 2025-10-06 16:01:45,951] Trial 84 finished with value: 0.7539461564079717 and parameters: {'n_estimators': 47, 'min_samples_split': 2, 'min_impurity_decrease': 3.742801643356783e-05, 'min_samples_leaf': 1, 'max_depth': 7, 'ccp_alpha': 0.006163543138862589}. Best is trial 22 with value: 0.7674773741839889.\n",
      "[I 2025-10-06 16:01:46,166] Trial 85 finished with value: 0.7599427287357263 and parameters: {'n_estimators': 49, 'min_samples_split': 3, 'min_impurity_decrease': 2.715996974314258e-05, 'min_samples_leaf': 3, 'max_depth': 9, 'ccp_alpha': 0.006562297311307938}. Best is trial 22 with value: 0.7674773741839889.\n",
      "[I 2025-10-06 16:01:46,377] Trial 86 finished with value: 0.7596652906130105 and parameters: {'n_estimators': 46, 'min_samples_split': 4, 'min_impurity_decrease': 2.5122012380621865e-05, 'min_samples_leaf': 2, 'max_depth': 10, 'ccp_alpha': 0.007756603454923702}. Best is trial 22 with value: 0.7674773741839889.\n",
      "[I 2025-10-06 16:01:46,574] Trial 87 finished with value: 0.7636551598392346 and parameters: {'n_estimators': 48, 'min_samples_split': 7, 'min_impurity_decrease': 1.8078037599361628e-05, 'min_samples_leaf': 4, 'max_depth': 6, 'ccp_alpha': 0.005858198358793061}. Best is trial 22 with value: 0.7674773741839889.\n",
      "[I 2025-10-06 16:01:46,753] Trial 88 finished with value: 0.7635345591116219 and parameters: {'n_estimators': 44, 'min_samples_split': 7, 'min_impurity_decrease': 2.0298411122631443e-05, 'min_samples_leaf': 4, 'max_depth': 6, 'ccp_alpha': 0.00507402102120462}. Best is trial 22 with value: 0.7674773741839889.\n",
      "[I 2025-10-06 16:01:46,926] Trial 89 finished with value: 0.7605643603678072 and parameters: {'n_estimators': 44, 'min_samples_split': 7, 'min_impurity_decrease': 3.160230956651747e-05, 'min_samples_leaf': 6, 'max_depth': 5, 'ccp_alpha': 0.005489951722756949}. Best is trial 22 with value: 0.7674773741839889.\n",
      "[I 2025-10-06 16:01:47,108] Trial 90 finished with value: 0.7634568685564457 and parameters: {'n_estimators': 42, 'min_samples_split': 8, 'min_impurity_decrease': 2.0473618068833596e-05, 'min_samples_leaf': 4, 'max_depth': 6, 'ccp_alpha': 0.005037209240304629}. Best is trial 22 with value: 0.7674773741839889.\n",
      "[I 2025-10-06 16:01:47,288] Trial 91 finished with value: 0.7634568685564457 and parameters: {'n_estimators': 42, 'min_samples_split': 8, 'min_impurity_decrease': 1.983355558480194e-05, 'min_samples_leaf': 4, 'max_depth': 6, 'ccp_alpha': 0.005037776089546222}. Best is trial 22 with value: 0.7674773741839889.\n",
      "[I 2025-10-06 16:01:47,463] Trial 92 finished with value: 0.758194026062701 and parameters: {'n_estimators': 42, 'min_samples_split': 8, 'min_impurity_decrease': 2.257810293413261e-05, 'min_samples_leaf': 5, 'max_depth': 6, 'ccp_alpha': 0.004984045086901575}. Best is trial 22 with value: 0.7674773741839889.\n",
      "[I 2025-10-06 16:01:47,631] Trial 93 finished with value: 0.7607476639914204 and parameters: {'n_estimators': 40, 'min_samples_split': 10, 'min_impurity_decrease': 2.6351951209762848e-05, 'min_samples_leaf': 3, 'max_depth': 6, 'ccp_alpha': 0.0051695760325521055}. Best is trial 22 with value: 0.7674773741839889.\n",
      "[I 2025-10-06 16:01:47,835] Trial 94 finished with value: 0.7557539792113548 and parameters: {'n_estimators': 50, 'min_samples_split': 7, 'min_impurity_decrease': 1.994370614319116e-05, 'min_samples_leaf': 4, 'max_depth': 7, 'ccp_alpha': 0.005867809810439932}. Best is trial 22 with value: 0.7674773741839889.\n",
      "[I 2025-10-06 16:01:48,033] Trial 95 finished with value: 0.7551463068982442 and parameters: {'n_estimators': 47, 'min_samples_split': 9, 'min_impurity_decrease': 1.631007475027261e-05, 'min_samples_leaf': 6, 'max_depth': 9, 'ccp_alpha': 0.005401489099313614}. Best is trial 22 with value: 0.7674773741839889.\n",
      "[I 2025-10-06 16:01:48,239] Trial 96 finished with value: 0.7625512340076592 and parameters: {'n_estimators': 45, 'min_samples_split': 8, 'min_impurity_decrease': 2.279013583865919e-05, 'min_samples_leaf': 3, 'max_depth': 11, 'ccp_alpha': 0.004481312514829556}. Best is trial 22 with value: 0.7674773741839889.\n",
      "[I 2025-10-06 16:01:48,425] Trial 97 finished with value: 0.7566665253694294 and parameters: {'n_estimators': 41, 'min_samples_split': 4, 'min_impurity_decrease': 3.0149669020172353e-05, 'min_samples_leaf': 4, 'max_depth': 8, 'ccp_alpha': 0.004850772608684797}. Best is trial 22 with value: 0.7674773741839889.\n",
      "[I 2025-10-06 16:01:48,594] Trial 98 finished with value: 0.7581518387680186 and parameters: {'n_estimators': 42, 'min_samples_split': 6, 'min_impurity_decrease': 3.6217444442562975e-05, 'min_samples_leaf': 5, 'max_depth': 5, 'ccp_alpha': 0.004146375168688735}. Best is trial 22 with value: 0.7674773741839889.\n",
      "[I 2025-10-06 16:01:48,812] Trial 99 finished with value: 0.7626370405591991 and parameters: {'n_estimators': 46, 'min_samples_split': 7, 'min_impurity_decrease': 2.491664418018663e-05, 'min_samples_leaf': 3, 'max_depth': 13, 'ccp_alpha': 0.00565316134172025}. Best is trial 22 with value: 0.7674773741839889.\n",
      "[I 2025-10-06 16:01:49,010] Trial 100 finished with value: 0.7539586229640901 and parameters: {'n_estimators': 44, 'min_samples_split': 9, 'min_impurity_decrease': 1.3471725504994287e-05, 'min_samples_leaf': 4, 'max_depth': 10, 'ccp_alpha': 0.006366104477773969}. Best is trial 22 with value: 0.7674773741839889.\n",
      "[I 2025-10-06 16:01:49,180] Trial 101 finished with value: 0.7634314069554023 and parameters: {'n_estimators': 39, 'min_samples_split': 5, 'min_impurity_decrease': 2.0319586348500498e-05, 'min_samples_leaf': 4, 'max_depth': 6, 'ccp_alpha': 0.006079378083034246}. Best is trial 22 with value: 0.7674773741839889.\n",
      "[I 2025-10-06 16:01:49,344] Trial 102 finished with value: 0.758615139386385 and parameters: {'n_estimators': 38, 'min_samples_split': 5, 'min_impurity_decrease': 1.8960655569671507e-05, 'min_samples_leaf': 5, 'max_depth': 6, 'ccp_alpha': 0.0059973844319982945}. Best is trial 22 with value: 0.7674773741839889.\n",
      "[I 2025-10-06 16:01:49,524] Trial 103 finished with value: 0.7589214938900298 and parameters: {'n_estimators': 40, 'min_samples_split': 7, 'min_impurity_decrease': 3.9474931333239054e-05, 'min_samples_leaf': 3, 'max_depth': 8, 'ccp_alpha': 0.005446975975406517}. Best is trial 22 with value: 0.7674773741839889.\n",
      "[I 2025-10-06 16:01:49,702] Trial 104 finished with value: 0.7571460914021055 and parameters: {'n_estimators': 45, 'min_samples_split': 3, 'min_impurity_decrease': 2.1395130864314987e-05, 'min_samples_leaf': 2, 'max_depth': 5, 'ccp_alpha': 0.005047542125079676}. Best is trial 22 with value: 0.7674773741839889.\n",
      "[I 2025-10-06 16:01:49,912] Trial 105 finished with value: 0.7603801633577667 and parameters: {'n_estimators': 48, 'min_samples_split': 11, 'min_impurity_decrease': 1.724625709491387e-05, 'min_samples_leaf': 4, 'max_depth': 12, 'ccp_alpha': 0.005791650043359432}. Best is trial 22 with value: 0.7674773741839889.\n",
      "[I 2025-10-06 16:01:50,085] Trial 106 finished with value: 0.7534250458625724 and parameters: {'n_estimators': 37, 'min_samples_split': 8, 'min_impurity_decrease': 3.349328469105187e-05, 'min_samples_leaf': 3, 'max_depth': 7, 'ccp_alpha': 0.006399253557101603}. Best is trial 22 with value: 0.7674773741839889.\n",
      "[I 2025-10-06 16:01:50,291] Trial 107 finished with value: 0.7626528839806649 and parameters: {'n_estimators': 49, 'min_samples_split': 6, 'min_impurity_decrease': 2.7965914998732087e-05, 'min_samples_leaf': 5, 'max_depth': 7, 'ccp_alpha': 0.004220539304823042}. Best is trial 22 with value: 0.7674773741839889.\n",
      "[I 2025-10-06 16:01:50,497] Trial 108 finished with value: 0.7566938340791304 and parameters: {'n_estimators': 42, 'min_samples_split': 2, 'min_impurity_decrease': 1.5498055699984457e-05, 'min_samples_leaf': 1, 'max_depth': 9, 'ccp_alpha': 0.005201609185859177}. Best is trial 22 with value: 0.7674773741839889.\n",
      "[I 2025-10-06 16:01:50,681] Trial 109 finished with value: 0.7606324745621279 and parameters: {'n_estimators': 39, 'min_samples_split': 4, 'min_impurity_decrease': 2.391094636894548e-05, 'min_samples_leaf': 4, 'max_depth': 30, 'ccp_alpha': 0.00602819273694097}. Best is trial 22 with value: 0.7674773741839889.\n",
      "[I 2025-10-06 16:01:50,893] Trial 110 finished with value: 0.7641609589966127 and parameters: {'n_estimators': 43, 'min_samples_split': 10, 'min_impurity_decrease': 1.1486668528005418e-05, 'min_samples_leaf': 2, 'max_depth': 14, 'ccp_alpha': 0.006885785414608315}. Best is trial 22 with value: 0.7674773741839889.\n",
      "[I 2025-10-06 16:01:51,077] Trial 111 finished with value: 0.7521792318331657 and parameters: {'n_estimators': 43, 'min_samples_split': 10, 'min_impurity_decrease': 1.1610669437819337e-05, 'min_samples_leaf': 2, 'max_depth': 6, 'ccp_alpha': 0.006991039270228443}. Best is trial 22 with value: 0.7674773741839889.\n",
      "[I 2025-10-06 16:01:51,267] Trial 112 finished with value: 0.756961656413808 and parameters: {'n_estimators': 41, 'min_samples_split': 12, 'min_impurity_decrease': 1.9270475761465763e-05, 'min_samples_leaf': 3, 'max_depth': 16, 'ccp_alpha': 0.006759724856731163}. Best is trial 22 with value: 0.7674773741839889.\n",
      "[I 2025-10-06 16:01:51,464] Trial 113 finished with value: 0.7554690110694722 and parameters: {'n_estimators': 44, 'min_samples_split': 9, 'min_impurity_decrease': 1.2905465015065544e-05, 'min_samples_leaf': 2, 'max_depth': 8, 'ccp_alpha': 0.007187661157527502}. Best is trial 22 with value: 0.7674773741839889.\n",
      "[I 2025-10-06 16:01:51,534] Trial 114 finished with value: 0.7548235925602066 and parameters: {'n_estimators': 5, 'min_samples_split': 8, 'min_impurity_decrease': 1.73959952199813e-05, 'min_samples_leaf': 1, 'max_depth': 10, 'ccp_alpha': 0.006276191845347598}. Best is trial 22 with value: 0.7674773741839889.\n",
      "[I 2025-10-06 16:01:51,752] Trial 115 finished with value: 0.7569292182279925 and parameters: {'n_estimators': 47, 'min_samples_split': 6, 'min_impurity_decrease': 0.00011176493503999261, 'min_samples_leaf': 4, 'max_depth': 15, 'ccp_alpha': 0.005524342896111689}. Best is trial 22 with value: 0.7674773741839889.\n",
      "[I 2025-10-06 16:01:51,953] Trial 116 finished with value: 0.7574422975410835 and parameters: {'n_estimators': 45, 'min_samples_split': 13, 'min_impurity_decrease': 1.4597202378562467e-05, 'min_samples_leaf': 3, 'max_depth': 18, 'ccp_alpha': 0.00583282857607907}. Best is trial 22 with value: 0.7674773741839889.\n",
      "[I 2025-10-06 16:01:52,169] Trial 117 finished with value: 0.7557946353838381 and parameters: {'n_estimators': 46, 'min_samples_split': 5, 'min_impurity_decrease': 5.999261478897918e-05, 'min_samples_leaf': 2, 'max_depth': 12, 'ccp_alpha': 0.007365112340262118}. Best is trial 22 with value: 0.7674773741839889.\n",
      "[I 2025-10-06 16:01:52,342] Trial 118 finished with value: 0.7541835415158209 and parameters: {'n_estimators': 42, 'min_samples_split': 7, 'min_impurity_decrease': 1.1075390157188724e-05, 'min_samples_leaf': 4, 'max_depth': 5, 'ccp_alpha': 0.006469027620790212}. Best is trial 22 with value: 0.7674773741839889.\n",
      "[I 2025-10-06 16:01:52,529] Trial 119 finished with value: 0.7556003209600405 and parameters: {'n_estimators': 43, 'min_samples_split': 8, 'min_impurity_decrease': 2.183304359078924e-05, 'min_samples_leaf': 3, 'max_depth': 7, 'ccp_alpha': 0.006121900139945297}. Best is trial 22 with value: 0.7674773741839889.\n",
      "[I 2025-10-06 16:01:52,705] Trial 120 finished with value: 0.753522424627072 and parameters: {'n_estimators': 40, 'min_samples_split': 6, 'min_impurity_decrease': 2.6312312848185608e-05, 'min_samples_leaf': 14, 'max_depth': 26, 'ccp_alpha': 0.006849209177673045}. Best is trial 22 with value: 0.7674773741839889.\n",
      "[I 2025-10-06 16:01:52,903] Trial 121 finished with value: 0.7638066152895209 and parameters: {'n_estimators': 43, 'min_samples_split': 5, 'min_impurity_decrease': 2.125494155071359e-05, 'min_samples_leaf': 4, 'max_depth': 43, 'ccp_alpha': 0.0056808748027378335}. Best is trial 22 with value: 0.7674773741839889.\n",
      "[I 2025-10-06 16:01:53,104] Trial 122 finished with value: 0.7611552368717343 and parameters: {'n_estimators': 44, 'min_samples_split': 4, 'min_impurity_decrease': 3.0157881817985768e-05, 'min_samples_leaf': 4, 'max_depth': 45, 'ccp_alpha': 0.005641404333955419}. Best is trial 22 with value: 0.7674773741839889.\n",
      "[I 2025-10-06 16:01:53,310] Trial 123 finished with value: 0.7625997250234322 and parameters: {'n_estimators': 47, 'min_samples_split': 5, 'min_impurity_decrease': 2.0945204421475465e-05, 'min_samples_leaf': 5, 'max_depth': 48, 'ccp_alpha': 0.005413066076859966}. Best is trial 22 with value: 0.7674773741839889.\n",
      "[I 2025-10-06 16:01:53,486] Trial 124 finished with value: 0.7525923274528934 and parameters: {'n_estimators': 39, 'min_samples_split': 7, 'min_impurity_decrease': 1.8840175784087318e-05, 'min_samples_leaf': 6, 'max_depth': 43, 'ccp_alpha': 0.004704563735293604}. Best is trial 22 with value: 0.7674773741839889.\n",
      "[I 2025-10-06 16:01:53,668] Trial 125 finished with value: 0.76518782418405 and parameters: {'n_estimators': 41, 'min_samples_split': 9, 'min_impurity_decrease': 1.5937195607641006e-05, 'min_samples_leaf': 4, 'max_depth': 8, 'ccp_alpha': 0.00496752831262797}. Best is trial 22 with value: 0.7674773741839889.\n",
      "[I 2025-10-06 16:01:53,853] Trial 126 finished with value: 0.762855073236831 and parameters: {'n_estimators': 41, 'min_samples_split': 9, 'min_impurity_decrease': 1.5768181913942218e-05, 'min_samples_leaf': 4, 'max_depth': 8, 'ccp_alpha': 0.004902905336849434}. Best is trial 22 with value: 0.7674773741839889.\n",
      "[I 2025-10-06 16:01:54,032] Trial 127 finished with value: 0.7588294756721801 and parameters: {'n_estimators': 43, 'min_samples_split': 11, 'min_impurity_decrease': 1.2651093798248741e-05, 'min_samples_leaf': 5, 'max_depth': 6, 'ccp_alpha': 0.005210710790726391}. Best is trial 22 with value: 0.7674773741839889.\n",
      "[I 2025-10-06 16:01:54,204] Trial 128 finished with value: 0.7571958090981847 and parameters: {'n_estimators': 37, 'min_samples_split': 9, 'min_impurity_decrease': 1.3708327458195833e-05, 'min_samples_leaf': 4, 'max_depth': 9, 'ccp_alpha': 0.0058942562012493345}. Best is trial 22 with value: 0.7674773741839889.\n",
      "[I 2025-10-06 16:01:54,403] Trial 129 finished with value: 0.7566237346167823 and parameters: {'n_estimators': 41, 'min_samples_split': 8, 'min_impurity_decrease': 1.72609186602077e-05, 'min_samples_leaf': 3, 'max_depth': 42, 'ccp_alpha': 0.004637217073533016}. Best is trial 22 with value: 0.7674773741839889.\n",
      "[I 2025-10-06 16:01:54,575] Trial 130 finished with value: 0.7647128987011168 and parameters: {'n_estimators': 38, 'min_samples_split': 7, 'min_impurity_decrease': 1.0096589241708254e-05, 'min_samples_leaf': 7, 'max_depth': 11, 'ccp_alpha': 0.004389033263275428}. Best is trial 22 with value: 0.7674773741839889.\n",
      "[I 2025-10-06 16:01:54,747] Trial 131 finished with value: 0.7600556867425778 and parameters: {'n_estimators': 38, 'min_samples_split': 7, 'min_impurity_decrease': 1.0923051764246778e-05, 'min_samples_leaf': 7, 'max_depth': 44, 'ccp_alpha': 0.004336209187549904}. Best is trial 22 with value: 0.7674773741839889.\n",
      "[I 2025-10-06 16:01:54,924] Trial 132 finished with value: 0.7513420123723253 and parameters: {'n_estimators': 39, 'min_samples_split': 10, 'min_impurity_decrease': 1.026350260365219e-05, 'min_samples_leaf': 6, 'max_depth': 11, 'ccp_alpha': 0.004934669007425025}. Best is trial 22 with value: 0.7674773741839889.\n",
      "[I 2025-10-06 16:01:55,118] Trial 133 finished with value: 0.7480773834272126 and parameters: {'n_estimators': 44, 'min_samples_split': 7, 'min_impurity_decrease': 1.529824430513898e-05, 'min_samples_leaf': 4, 'max_depth': 9, 'ccp_alpha': 0.0038446349753392373}. Best is trial 22 with value: 0.7674773741839889.\n",
      "[I 2025-10-06 16:01:55,292] Trial 134 finished with value: 0.7596659797036435 and parameters: {'n_estimators': 43, 'min_samples_split': 8, 'min_impurity_decrease': 1.177991541985407e-05, 'min_samples_leaf': 5, 'max_depth': 5, 'ccp_alpha': 0.0044629892363438044}. Best is trial 22 with value: 0.7674773741839889.\n",
      "[I 2025-10-06 16:01:55,472] Trial 135 finished with value: 0.7566462499381165 and parameters: {'n_estimators': 36, 'min_samples_split': 6, 'min_impurity_decrease': 2.27870889282703e-05, 'min_samples_leaf': 3, 'max_depth': 13, 'ccp_alpha': 0.005628410853010391}. Best is trial 22 with value: 0.7674773741839889.\n",
      "[I 2025-10-06 16:01:55,657] Trial 136 finished with value: 0.7527076393431056 and parameters: {'n_estimators': 40, 'min_samples_split': 9, 'min_impurity_decrease': 2.0148125865700018e-05, 'min_samples_leaf': 4, 'max_depth': 10, 'ccp_alpha': 0.005310096874526102}. Best is trial 22 with value: 0.7674773741839889.\n",
      "[I 2025-10-06 16:01:55,845] Trial 137 finished with value: 0.7622099417998282 and parameters: {'n_estimators': 42, 'min_samples_split': 7, 'min_impurity_decrease': 1.4163182347715967e-05, 'min_samples_leaf': 5, 'max_depth': 11, 'ccp_alpha': 0.006228266362851039}. Best is trial 22 with value: 0.7674773741839889.\n",
      "[I 2025-10-06 16:01:56,042] Trial 138 finished with value: 0.757743464831857 and parameters: {'n_estimators': 45, 'min_samples_split': 5, 'min_impurity_decrease': 2.519005560335021e-05, 'min_samples_leaf': 3, 'max_depth': 6, 'ccp_alpha': 0.005977905240734143}. Best is trial 22 with value: 0.7674773741839889.\n",
      "[I 2025-10-06 16:01:56,240] Trial 139 finished with value: 0.7637744677089473 and parameters: {'n_estimators': 46, 'min_samples_split': 9, 'min_impurity_decrease': 1.779886915197978e-05, 'min_samples_leaf': 4, 'max_depth': 7, 'ccp_alpha': 0.0050811439005447444}. Best is trial 22 with value: 0.7674773741839889.\n",
      "[I 2025-10-06 16:01:56,446] Trial 140 finished with value: 0.7635018804429788 and parameters: {'n_estimators': 46, 'min_samples_split': 9, 'min_impurity_decrease': 1.7917015380939288e-05, 'min_samples_leaf': 7, 'max_depth': 15, 'ccp_alpha': 0.004821532448947484}. Best is trial 22 with value: 0.7674773741839889.\n",
      "[I 2025-10-06 16:01:56,639] Trial 141 finished with value: 0.7575925924669591 and parameters: {'n_estimators': 46, 'min_samples_split': 10, 'min_impurity_decrease': 1.8198843920715215e-05, 'min_samples_leaf': 9, 'max_depth': 14, 'ccp_alpha': 0.005047213398427449}. Best is trial 22 with value: 0.7674773741839889.\n",
      "[I 2025-10-06 16:01:56,832] Trial 142 finished with value: 0.7610731376336489 and parameters: {'n_estimators': 45, 'min_samples_split': 9, 'min_impurity_decrease': 1.6135193219855528e-05, 'min_samples_leaf': 7, 'max_depth': 14, 'ccp_alpha': 0.0048099247862498275}. Best is trial 22 with value: 0.7674773741839889.\n",
      "[I 2025-10-06 16:01:57,027] Trial 143 finished with value: 0.7582934202564613 and parameters: {'n_estimators': 48, 'min_samples_split': 8, 'min_impurity_decrease': 2.322735000523296e-05, 'min_samples_leaf': 10, 'max_depth': 17, 'ccp_alpha': 0.004576056700490914}. Best is trial 22 with value: 0.7674773741839889.\n",
      "[I 2025-10-06 16:01:57,230] Trial 144 finished with value: 0.75810111165958 and parameters: {'n_estimators': 46, 'min_samples_split': 10, 'min_impurity_decrease': 1.2758932021455565e-05, 'min_samples_leaf': 6, 'max_depth': 15, 'ccp_alpha': 0.005079789687687373}. Best is trial 22 with value: 0.7674773741839889.\n",
      "[I 2025-10-06 16:01:57,410] Trial 145 finished with value: 0.7530681985545753 and parameters: {'n_estimators': 44, 'min_samples_split': 8, 'min_impurity_decrease': 1.7848966067025366e-05, 'min_samples_leaf': 11, 'max_depth': 40, 'ccp_alpha': 0.005195184527318699}. Best is trial 22 with value: 0.7674773741839889.\n",
      "[I 2025-10-06 16:01:57,593] Trial 146 finished with value: 0.7554993400425282 and parameters: {'n_estimators': 42, 'min_samples_split': 11, 'min_impurity_decrease': 1.6642123066664275e-05, 'min_samples_leaf': 5, 'max_depth': 8, 'ccp_alpha': 0.0054743406871798}. Best is trial 22 with value: 0.7674773741839889.\n",
      "[I 2025-10-06 16:01:57,785] Trial 147 finished with value: 0.7525372949665718 and parameters: {'n_estimators': 46, 'min_samples_split': 9, 'min_impurity_decrease': 1.439694813757394e-05, 'min_samples_leaf': 8, 'max_depth': 12, 'ccp_alpha': 0.005732797495242721}. Best is trial 22 with value: 0.7674773741839889.\n",
      "[I 2025-10-06 16:01:57,967] Trial 148 finished with value: 0.7584934555859384 and parameters: {'n_estimators': 43, 'min_samples_split': 18, 'min_impurity_decrease': 2.068437723699504e-05, 'min_samples_leaf': 4, 'max_depth': 7, 'ccp_alpha': 0.004839593575864295}. Best is trial 22 with value: 0.7674773741839889.\n",
      "[I 2025-10-06 16:01:58,170] Trial 149 finished with value: 0.7587195701478484 and parameters: {'n_estimators': 47, 'min_samples_split': 7, 'min_impurity_decrease': 0.000993758208069376, 'min_samples_leaf': 3, 'max_depth': 8, 'ccp_alpha': 0.004134139776719841}. Best is trial 22 with value: 0.7674773741839889.\n",
      "[I 2025-10-06 16:01:58,312] Trial 150 finished with value: 0.7626800694462266 and parameters: {'n_estimators': 27, 'min_samples_split': 10, 'min_impurity_decrease': 2.7497240888370707e-05, 'min_samples_leaf': 5, 'max_depth': 17, 'ccp_alpha': 0.004324269883048095}. Best is trial 22 with value: 0.7674773741839889.\n",
      "[I 2025-10-06 16:01:58,474] Trial 151 finished with value: 0.7579762569210747 and parameters: {'n_estimators': 36, 'min_samples_split': 8, 'min_impurity_decrease': 1.9769556607294154e-05, 'min_samples_leaf': 4, 'max_depth': 6, 'ccp_alpha': 0.006083580607519869}. Best is trial 22 with value: 0.7674773741839889.\n",
      "[I 2025-10-06 16:01:58,640] Trial 152 finished with value: 0.7565269013327658 and parameters: {'n_estimators': 40, 'min_samples_split': 7, 'min_impurity_decrease': 2.308223302835019e-05, 'min_samples_leaf': 4, 'max_depth': 5, 'ccp_alpha': 0.005370511004935217}. Best is trial 22 with value: 0.7674773741839889.\n",
      "[I 2025-10-06 16:01:58,827] Trial 153 finished with value: 0.7608678232510964 and parameters: {'n_estimators': 42, 'min_samples_split': 9, 'min_impurity_decrease': 1.877463181449961e-05, 'min_samples_leaf': 3, 'max_depth': 7, 'ccp_alpha': 0.005689947817152079}. Best is trial 22 with value: 0.7674773741839889.\n",
      "[I 2025-10-06 16:01:59,031] Trial 154 finished with value: 0.7609290647502461 and parameters: {'n_estimators': 45, 'min_samples_split': 6, 'min_impurity_decrease': 2.0977724806260298e-05, 'min_samples_leaf': 4, 'max_depth': 46, 'ccp_alpha': 0.006614345629546259}. Best is trial 22 with value: 0.7674773741839889.\n",
      "[I 2025-10-06 16:01:59,246] Trial 155 finished with value: 0.7556082821692344 and parameters: {'n_estimators': 48, 'min_samples_split': 3, 'min_impurity_decrease': 1.2266016363708847e-05, 'min_samples_leaf': 3, 'max_depth': 9, 'ccp_alpha': 0.005022244465810592}. Best is trial 22 with value: 0.7674773741839889.\n",
      "[I 2025-10-06 16:01:59,425] Trial 156 finished with value: 0.7556357246283315 and parameters: {'n_estimators': 44, 'min_samples_split': 6, 'min_impurity_decrease': 0.0001954782253588913, 'min_samples_leaf': 5, 'max_depth': 6, 'ccp_alpha': 0.004634477169133401}. Best is trial 22 with value: 0.7674773741839889.\n",
      "[I 2025-10-06 16:01:59,609] Trial 157 finished with value: 0.7598975191451944 and parameters: {'n_estimators': 41, 'min_samples_split': 8, 'min_impurity_decrease': 1.0153953714989836e-05, 'min_samples_leaf': 2, 'max_depth': 7, 'ccp_alpha': 0.0059237731991622945}. Best is trial 22 with value: 0.7674773741839889.\n",
      "[I 2025-10-06 16:01:59,796] Trial 158 finished with value: 0.7584168547147389 and parameters: {'n_estimators': 38, 'min_samples_split': 5, 'min_impurity_decrease': 2.5354728062511092e-05, 'min_samples_leaf': 4, 'max_depth': 19, 'ccp_alpha': 0.005569880050433095}. Best is trial 22 with value: 0.7674773741839889.\n",
      "[I 2025-10-06 16:01:59,980] Trial 159 finished with value: 0.7584842520098968 and parameters: {'n_estimators': 43, 'min_samples_split': 7, 'min_impurity_decrease': 1.662743023986749e-05, 'min_samples_leaf': 8, 'max_depth': 10, 'ccp_alpha': 0.006318421156987627}. Best is trial 22 with value: 0.7674773741839889.\n",
      "[I 2025-10-06 16:02:00,158] Trial 160 finished with value: 0.7569015530996921 and parameters: {'n_estimators': 45, 'min_samples_split': 9, 'min_impurity_decrease': 1.3714394971529324e-05, 'min_samples_leaf': 5, 'max_depth': 5, 'ccp_alpha': 0.0053538214892368445}. Best is trial 22 with value: 0.7674773741839889.\n",
      "[I 2025-10-06 16:02:00,377] Trial 161 finished with value: 0.7531387534498557 and parameters: {'n_estimators': 49, 'min_samples_split': 5, 'min_impurity_decrease': 3.0329436655970087e-05, 'min_samples_leaf': 2, 'max_depth': 8, 'ccp_alpha': 0.006536611418746226}. Best is trial 22 with value: 0.7674773741839889.\n",
      "[I 2025-10-06 16:02:00,590] Trial 162 finished with value: 0.7629544347137523 and parameters: {'n_estimators': 50, 'min_samples_split': 4, 'min_impurity_decrease': 3.395824533190374e-05, 'min_samples_leaf': 2, 'max_depth': 7, 'ccp_alpha': 0.006957216219744172}. Best is trial 22 with value: 0.7674773741839889.\n",
      "[I 2025-10-06 16:02:00,785] Trial 163 finished with value: 0.7575928517878006 and parameters: {'n_estimators': 47, 'min_samples_split': 6, 'min_impurity_decrease': 2.282508079716039e-05, 'min_samples_leaf': 1, 'max_depth': 6, 'ccp_alpha': 0.006219772446027958}. Best is trial 22 with value: 0.7674773741839889.\n",
      "[I 2025-10-06 16:02:00,994] Trial 164 finished with value: 0.765089957370151 and parameters: {'n_estimators': 48, 'min_samples_split': 6, 'min_impurity_decrease': 2.746710789689429e-05, 'min_samples_leaf': 3, 'max_depth': 7, 'ccp_alpha': 0.0060951814607580245}. Best is trial 22 with value: 0.7674773741839889.\n",
      "[I 2025-10-06 16:02:01,202] Trial 165 finished with value: 0.7617044342129244 and parameters: {'n_estimators': 47, 'min_samples_split': 15, 'min_impurity_decrease': 2.5494657039489134e-05, 'min_samples_leaf': 3, 'max_depth': 9, 'ccp_alpha': 0.005839324924322325}. Best is trial 22 with value: 0.7674773741839889.\n",
      "[I 2025-10-06 16:02:01,391] Trial 166 finished with value: 0.7613065202553306 and parameters: {'n_estimators': 39, 'min_samples_split': 6, 'min_impurity_decrease': 1.9045041259060338e-05, 'min_samples_leaf': 4, 'max_depth': 44, 'ccp_alpha': 0.006048408689643063}. Best is trial 22 with value: 0.7674773741839889.\n",
      "[I 2025-10-06 16:02:01,602] Trial 167 finished with value: 0.7575978452746903 and parameters: {'n_estimators': 46, 'min_samples_split': 8, 'min_impurity_decrease': 2.8477000752511194e-05, 'min_samples_leaf': 3, 'max_depth': 21, 'ccp_alpha': 0.005178188574420353}. Best is trial 22 with value: 0.7674773741839889.\n",
      "[I 2025-10-06 16:02:01,774] Trial 168 finished with value: 0.7508459302089489 and parameters: {'n_estimators': 42, 'min_samples_split': 7, 'min_impurity_decrease': 1.1372731261377995e-05, 'min_samples_leaf': 4, 'max_depth': 5, 'ccp_alpha': 0.005762253569322798}. Best is trial 22 with value: 0.7674773741839889.\n",
      "[I 2025-10-06 16:02:01,978] Trial 169 finished with value: 0.7549834749028443 and parameters: {'n_estimators': 48, 'min_samples_split': 8, 'min_impurity_decrease': 2.195903309982641e-05, 'min_samples_leaf': 3, 'max_depth': 7, 'ccp_alpha': 0.0063455098417396424}. Best is trial 22 with value: 0.7674773741839889.\n",
      "[I 2025-10-06 16:02:02,181] Trial 170 finished with value: 0.7584609770174786 and parameters: {'n_estimators': 44, 'min_samples_split': 6, 'min_impurity_decrease': 1.5087240266445909e-05, 'min_samples_leaf': 4, 'max_depth': 14, 'ccp_alpha': 0.004838712202987627}. Best is trial 22 with value: 0.7674773741839889.\n",
      "[I 2025-10-06 16:02:02,377] Trial 171 finished with value: 0.752641851410427 and parameters: {'n_estimators': 50, 'min_samples_split': 5, 'min_impurity_decrease': 2.48150940032787e-05, 'min_samples_leaf': 12, 'max_depth': 6, 'ccp_alpha': 0.005526471182702541}. Best is trial 22 with value: 0.7674773741839889.\n",
      "[I 2025-10-06 16:02:02,597] Trial 172 finished with value: 0.7578981191331041 and parameters: {'n_estimators': 49, 'min_samples_split': 4, 'min_impurity_decrease': 2.0604549090959852e-05, 'min_samples_leaf': 2, 'max_depth': 8, 'ccp_alpha': 0.00613868785934402}. Best is trial 22 with value: 0.7674773741839889.\n",
      "[I 2025-10-06 16:02:02,812] Trial 173 finished with value: 0.7675127183200857 and parameters: {'n_estimators': 48, 'min_samples_split': 5, 'min_impurity_decrease': 2.7596852875146434e-05, 'min_samples_leaf': 3, 'max_depth': 7, 'ccp_alpha': 0.006619407398284884}. Best is trial 173 with value: 0.7675127183200857.\n",
      "[I 2025-10-06 16:02:03,007] Trial 174 finished with value: 0.7638320237911076 and parameters: {'n_estimators': 48, 'min_samples_split': 21, 'min_impurity_decrease': 2.7116016236373634e-05, 'min_samples_leaf': 3, 'max_depth': 5, 'ccp_alpha': 0.006684781750440439}. Best is trial 173 with value: 0.7675127183200857.\n",
      "[I 2025-10-06 16:02:03,198] Trial 175 finished with value: 0.7538997462381669 and parameters: {'n_estimators': 48, 'min_samples_split': 19, 'min_impurity_decrease': 2.753613941567688e-05, 'min_samples_leaf': 3, 'max_depth': 5, 'ccp_alpha': 0.006695216162058375}. Best is trial 173 with value: 0.7675127183200857.\n",
      "[I 2025-10-06 16:02:03,406] Trial 176 finished with value: 0.7542683218607258 and parameters: {'n_estimators': 47, 'min_samples_split': 25, 'min_impurity_decrease': 3.0056252606614467e-05, 'min_samples_leaf': 3, 'max_depth': 32, 'ccp_alpha': 0.006442706889788715}. Best is trial 173 with value: 0.7675127183200857.\n",
      "[I 2025-10-06 16:02:03,624] Trial 177 finished with value: 0.7557617266352856 and parameters: {'n_estimators': 46, 'min_samples_split': 7, 'min_impurity_decrease': 2.411461853208638e-05, 'min_samples_leaf': 4, 'max_depth': 35, 'ccp_alpha': 0.007142825401313261}. Best is trial 173 with value: 0.7675127183200857.\n",
      "[I 2025-10-06 16:02:03,838] Trial 178 finished with value: 0.7597362806724745 and parameters: {'n_estimators': 48, 'min_samples_split': 28, 'min_impurity_decrease': 2.7146722509301774e-05, 'min_samples_leaf': 3, 'max_depth': 27, 'ccp_alpha': 0.006534505236570202}. Best is trial 173 with value: 0.7675127183200857.\n",
      "[I 2025-10-06 16:02:04,060] Trial 179 finished with value: 0.749461943642429 and parameters: {'n_estimators': 45, 'min_samples_split': 9, 'min_impurity_decrease': 4.103814109352536e-05, 'min_samples_leaf': 2, 'max_depth': 24, 'ccp_alpha': 0.004536744754889262}. Best is trial 173 with value: 0.7675127183200857.\n",
      "[I 2025-10-06 16:02:04,269] Trial 180 finished with value: 0.7587560144602807 and parameters: {'n_estimators': 49, 'min_samples_split': 22, 'min_impurity_decrease': 3.448210095299979e-05, 'min_samples_leaf': 3, 'max_depth': 7, 'ccp_alpha': 0.006743303019600924}. Best is trial 173 with value: 0.7675127183200857.\n",
      "[I 2025-10-06 16:02:04,452] Trial 181 finished with value: 0.7494247303732198 and parameters: {'n_estimators': 43, 'min_samples_split': 22, 'min_impurity_decrease': 1.8422390329566575e-05, 'min_samples_leaf': 4, 'max_depth': 6, 'ccp_alpha': 0.0062313939430689615}. Best is trial 173 with value: 0.7675127183200857.\n",
      "[I 2025-10-06 16:02:04,635] Trial 182 finished with value: 0.7527898454518613 and parameters: {'n_estimators': 45, 'min_samples_split': 6, 'min_impurity_decrease': 2.182646253082083e-05, 'min_samples_leaf': 18, 'max_depth': 8, 'ccp_alpha': 0.005930708928997218}. Best is trial 173 with value: 0.7675127183200857.\n",
      "[I 2025-10-06 16:02:04,811] Trial 183 finished with value: 0.7551909895659895 and parameters: {'n_estimators': 41, 'min_samples_split': 7, 'min_impurity_decrease': 1.9614139758279787e-05, 'min_samples_leaf': 4, 'max_depth': 5, 'ccp_alpha': 0.006076706897216896}. Best is trial 173 with value: 0.7675127183200857.\n",
      "[I 2025-10-06 16:02:05,042] Trial 184 finished with value: 0.7588639063168843 and parameters: {'n_estimators': 47, 'min_samples_split': 3, 'min_impurity_decrease': 2.49233273853865e-05, 'min_samples_leaf': 3, 'max_depth': 43, 'ccp_alpha': 0.00507088240909851}. Best is trial 173 with value: 0.7675127183200857.\n",
      "[I 2025-10-06 16:02:05,226] Trial 185 finished with value: 0.7598466789656875 and parameters: {'n_estimators': 42, 'min_samples_split': 8, 'min_impurity_decrease': 1.7650215142162757e-05, 'min_samples_leaf': 5, 'max_depth': 6, 'ccp_alpha': 0.0047440650150436595}. Best is trial 173 with value: 0.7675127183200857.\n",
      "[I 2025-10-06 16:02:05,434] Trial 186 finished with value: 0.7616276816930703 and parameters: {'n_estimators': 44, 'min_samples_split': 5, 'min_impurity_decrease': 2.2243084251847954e-05, 'min_samples_leaf': 4, 'max_depth': 10, 'ccp_alpha': 0.0053088796541867975}. Best is trial 173 with value: 0.7675127183200857.\n",
      "[I 2025-10-06 16:02:05,636] Trial 187 finished with value: 0.7577406932255772 and parameters: {'n_estimators': 46, 'min_samples_split': 10, 'min_impurity_decrease': 1.5772002658591013e-05, 'min_samples_leaf': 5, 'max_depth': 7, 'ccp_alpha': 0.006426555374470792}. Best is trial 173 with value: 0.7675127183200857.\n",
      "[I 2025-10-06 16:02:05,836] Trial 188 finished with value: 0.751983612419038 and parameters: {'n_estimators': 40, 'min_samples_split': 21, 'min_impurity_decrease': 2.0221463413719987e-05, 'min_samples_leaf': 3, 'max_depth': 9, 'ccp_alpha': 0.005658766561661984}. Best is trial 173 with value: 0.7675127183200857.\n",
      "[I 2025-10-06 16:02:06,031] Trial 189 finished with value: 0.753564422867828 and parameters: {'n_estimators': 48, 'min_samples_split': 27, 'min_impurity_decrease': 3.136691448120306e-05, 'min_samples_leaf': 9, 'max_depth': 5, 'ccp_alpha': 0.005868409854893707}. Best is trial 173 with value: 0.7675127183200857.\n",
      "[I 2025-10-06 16:02:06,239] Trial 190 finished with value: 0.7619927256530507 and parameters: {'n_estimators': 45, 'min_samples_split': 8, 'min_impurity_decrease': 1.6958230635331955e-05, 'min_samples_leaf': 4, 'max_depth': 8, 'ccp_alpha': 0.004928699328260624}. Best is trial 173 with value: 0.7675127183200857.\n",
      "[I 2025-10-06 16:02:06,457] Trial 191 finished with value: 0.7651916972093196 and parameters: {'n_estimators': 50, 'min_samples_split': 5, 'min_impurity_decrease': 2.9313340345709347e-05, 'min_samples_leaf': 2, 'max_depth': 7, 'ccp_alpha': 0.006981764420193216}. Best is trial 173 with value: 0.7675127183200857.\n",
      "[I 2025-10-06 16:02:06,682] Trial 192 finished with value: 0.753212399011245 and parameters: {'n_estimators': 50, 'min_samples_split': 5, 'min_impurity_decrease': 2.8446261914486435e-05, 'min_samples_leaf': 1, 'max_depth': 7, 'ccp_alpha': 0.007085609267680823}. Best is trial 173 with value: 0.7675127183200857.\n",
      "[I 2025-10-06 16:02:06,887] Trial 193 finished with value: 0.7580494015302768 and parameters: {'n_estimators': 49, 'min_samples_split': 6, 'min_impurity_decrease': 2.37194018876674e-05, 'min_samples_leaf': 3, 'max_depth': 6, 'ccp_alpha': 0.006828912548443665}. Best is trial 173 with value: 0.7675127183200857.\n",
      "[I 2025-10-06 16:02:07,106] Trial 194 finished with value: 0.7571372298653463 and parameters: {'n_estimators': 48, 'min_samples_split': 4, 'min_impurity_decrease': 2.7005071508809917e-05, 'min_samples_leaf': 2, 'max_depth': 8, 'ccp_alpha': 0.00743508442204089}. Best is trial 173 with value: 0.7675127183200857.\n",
      "[I 2025-10-06 16:02:07,296] Trial 195 finished with value: 0.7560976070023685 and parameters: {'n_estimators': 43, 'min_samples_split': 9, 'min_impurity_decrease': 1.1083789044776878e-05, 'min_samples_leaf': 2, 'max_depth': 6, 'ccp_alpha': 0.00665160314784607}. Best is trial 173 with value: 0.7675127183200857.\n",
      "[I 2025-10-06 16:02:07,504] Trial 196 finished with value: 0.7578319046840876 and parameters: {'n_estimators': 47, 'min_samples_split': 7, 'min_impurity_decrease': 3.628237734586143e-05, 'min_samples_leaf': 4, 'max_depth': 7, 'ccp_alpha': 0.0062892482832381}. Best is trial 173 with value: 0.7675127183200857.\n",
      "[I 2025-10-06 16:02:07,705] Trial 197 finished with value: 0.7545985795538862 and parameters: {'n_estimators': 41, 'min_samples_split': 16, 'min_impurity_decrease': 2.170081804336815e-05, 'min_samples_leaf': 2, 'max_depth': 16, 'ccp_alpha': 0.006984259438982206}. Best is trial 173 with value: 0.7675127183200857.\n",
      "[I 2025-10-06 16:02:07,904] Trial 198 finished with value: 0.765809394056481 and parameters: {'n_estimators': 43, 'min_samples_split': 5, 'min_impurity_decrease': 1.0065534794820336e-05, 'min_samples_leaf': 7, 'max_depth': 42, 'ccp_alpha': 0.006065483750832783}. Best is trial 173 with value: 0.7675127183200857.\n",
      "[I 2025-10-06 16:02:08,114] Trial 199 finished with value: 0.7585302024464678 and parameters: {'n_estimators': 44, 'min_samples_split': 6, 'min_impurity_decrease': 1.223398371306195e-05, 'min_samples_leaf': 6, 'max_depth': 41, 'ccp_alpha': 0.006513808594451748}. Best is trial 173 with value: 0.7675127183200857.\n"
     ]
    }
   ],
   "source": [
    "# Hyperparameter Tuning\n",
    "beta = 0.5\n",
    "model_name = \"random_forest\"\n",
    "\n",
    "args = {\n",
    "    \"model\": \"random_forest\",\n",
    "    \"cv_folds\": cv_folds,\n",
    "    \"class_weight\": \"balanced_subsample\",\n",
    "    \"min_est\": 5,\n",
    "    \"max_est\": 50,\n",
    "    \"max_depth_min\": 5,\n",
    "    \"max_depth_max\": 50,\n",
    "    \"min_samples_split_min\": 2,\n",
    "    \"min_samples_split_max\": 30,\n",
    "    \"min_samples_leaf_min\": 1,\n",
    "    \"min_samples_leaf_max\": 20,\n",
    "    \"min_impurity_decrease_min\": 1e-5,\n",
    "    \"min_impurity_decrease_max\": 1e-3,\n",
    "    \"ccp_alpha_min\": 1e-3,\n",
    "    \"ccp_alpha_max\": 1e-2,\n",
    "    \"n_trials\": 200,\n",
    "    \"beta\": beta,\n",
    "    \"random_state\": seed,\n",
    "}\n",
    "\n",
    "def objective(trial, args: dict, X_train: np.array, y_train: np.array):\n",
    "    model_name = args[\"model\"]\n",
    "    if model_name == \"random_forest\":\n",
    "        h_params = {}\n",
    "        h_params[\"n_estimators\"] = trial.suggest_int(\"n_estimators\", args[\"min_est\"], args[\"max_est\"])\n",
    "        h_params[\"min_samples_split\"] = trial.suggest_int(\"min_samples_split\", args[\"min_samples_split_min\"], args[\"min_samples_split_max\"])\n",
    "        h_params[\"min_impurity_decrease\"] = trial.suggest_float(\"min_impurity_decrease\", args[\"min_impurity_decrease_min\"], args[\"min_impurity_decrease_max\"], log=True)\n",
    "        h_params[\"min_samples_leaf\"] = trial.suggest_int(\"min_samples_leaf\", args[\"min_samples_leaf_min\"], args[\"min_samples_leaf_max\"])\n",
    "        h_params[\"max_depth\"] = trial.suggest_int(\"max_depth\", args[\"max_depth_min\"], args[\"max_depth_max\"])\n",
    "        h_params[\"ccp_alpha\"] = trial.suggest_float(\"ccp_alpha\", args[\"ccp_alpha_min\"], args[\"ccp_alpha_max\"])\n",
    "        h_params[\"beta\"] = args[\"beta\"]\n",
    "        h_params[\"cv_folds\"] = args[\"cv_folds\"]\n",
    "        h_params[\"random_state\"] = args[\"random_state\"]\n",
    "        h_params[\"class_weight\"] = args[\"class_weight\"]\n",
    "    else:\n",
    "        raise NotImplementedError(f\"Objective function not developped for model {model_name}\")\n",
    "    \n",
    "    return cv_score(model_name, h_params, X_train, y_train)\n",
    "\n",
    "def cv_score(model_name: str, h_params: dict, X_train: np.array, y_train: np.array):\n",
    "    if model_name == \"random_forest\":\n",
    "        model = RFEstimator(h_params)\n",
    "        score = model.cross_validate(X_train, y_train)\n",
    "        return score\n",
    "    else:\n",
    "        raise NotImplementedError(f\"Scoring function not developped for model {model_name}\")\n",
    "\n",
    "storage_url = \"sqlite:///db.sqlite3\"\n",
    "study_name = model_name + \"_\" + target\n",
    "storage=RDBStorage(url=storage_url)\n",
    "studies = storage.get_all_studies()\n",
    "if any(s.study_name == study_name for s in studies):\n",
    "    optuna.delete_study(study_name=study_name, storage=storage_url)\n",
    "    print(f\"Deleted existing study: {study_name}\")\n",
    "study = optuna.create_study(\n",
    "        storage=storage_url,\n",
    "        study_name=study_name,\n",
    "        direction=\"maximize\",\n",
    "        sampler=optuna.samplers.TPESampler(seed=seed)\n",
    "    )\n",
    "\n",
    "objective_partial = partial(\n",
    "    objective,\n",
    "    args=args,\n",
    "    X_train=X_train,\n",
    "    y_train=y_train,\n",
    ")\n",
    "\n",
    "study.optimize(objective_partial, n_trials=args[\"n_trials\"], n_jobs=1)"
   ]
  },
  {
   "cell_type": "markdown",
   "id": "72b31f78",
   "metadata": {},
   "source": [
    "Hyperparameters are selected / adjusted (intervals) manually looking at optuna logs"
   ]
  },
  {
   "cell_type": "code",
   "execution_count": 5,
   "id": "ac24506d",
   "metadata": {},
   "outputs": [
    {
     "name": "stdout",
     "output_type": "stream",
     "text": [
      "Best score: 0.7675127183200857\n"
     ]
    }
   ],
   "source": [
    "# Best model details\n",
    "best_trial = sorted(study.trials, key=lambda x: x.value if x.value is not None else float(\"inf\"))[-1] # Maximization scenario\n",
    "best_params = best_trial.params\n",
    "best_score = best_trial.value\n",
    "print(\"Best score:\", best_score)"
   ]
  },
  {
   "cell_type": "markdown",
   "id": "236f203b",
   "metadata": {},
   "source": [
    "According to OPTUNA logs : <br>\n",
    "1) All hyper parameters seem relevant for the model (coefficient between 0.05 and 0.18)\n",
    "2) Fine-tuning process is going well (global increasing trend score-wise)"
   ]
  },
  {
   "cell_type": "code",
   "execution_count": 6,
   "id": "490de95a",
   "metadata": {},
   "outputs": [
    {
     "data": {
      "application/vnd.plotly.v1+json": {
       "config": {
        "plotlyServerURL": "https://plot.ly"
       },
       "data": [
        {
         "marker": {
          "color": "royalblue"
         },
         "type": "bar",
         "x": [
          "GP",
          "MIN",
          "PTS",
          "FGA",
          "FG%",
          "3PA",
          "3P%",
          "FTA",
          "FT%",
          "OREB",
          "REB",
          "AST",
          "STL",
          "BLK",
          "TOV"
         ],
         "y": {
          "bdata": "8WPR7GLJyD/8XHjHKDOzPxfx5NZpzcM/3QEAaGGirz+BMWFxBQavP5ka6t83B5Q/BBMpvCIMlD+1Gorcx5m5P6BX89S6CZU/sF7vG6s9vz/wFLep5BOyP4FlAdcs0pk/3fm51U31lD93cAayqYORP1F3j1xIC6Q/",
          "dtype": "f8"
         }
        }
       ],
       "layout": {
        "height": 500,
        "template": {
         "data": {
          "bar": [
           {
            "error_x": {
             "color": "#2a3f5f"
            },
            "error_y": {
             "color": "#2a3f5f"
            },
            "marker": {
             "line": {
              "color": "#E5ECF6",
              "width": 0.5
             },
             "pattern": {
              "fillmode": "overlay",
              "size": 10,
              "solidity": 0.2
             }
            },
            "type": "bar"
           }
          ],
          "barpolar": [
           {
            "marker": {
             "line": {
              "color": "#E5ECF6",
              "width": 0.5
             },
             "pattern": {
              "fillmode": "overlay",
              "size": 10,
              "solidity": 0.2
             }
            },
            "type": "barpolar"
           }
          ],
          "carpet": [
           {
            "aaxis": {
             "endlinecolor": "#2a3f5f",
             "gridcolor": "white",
             "linecolor": "white",
             "minorgridcolor": "white",
             "startlinecolor": "#2a3f5f"
            },
            "baxis": {
             "endlinecolor": "#2a3f5f",
             "gridcolor": "white",
             "linecolor": "white",
             "minorgridcolor": "white",
             "startlinecolor": "#2a3f5f"
            },
            "type": "carpet"
           }
          ],
          "choropleth": [
           {
            "colorbar": {
             "outlinewidth": 0,
             "ticks": ""
            },
            "type": "choropleth"
           }
          ],
          "contour": [
           {
            "colorbar": {
             "outlinewidth": 0,
             "ticks": ""
            },
            "colorscale": [
             [
              0,
              "#0d0887"
             ],
             [
              0.1111111111111111,
              "#46039f"
             ],
             [
              0.2222222222222222,
              "#7201a8"
             ],
             [
              0.3333333333333333,
              "#9c179e"
             ],
             [
              0.4444444444444444,
              "#bd3786"
             ],
             [
              0.5555555555555556,
              "#d8576b"
             ],
             [
              0.6666666666666666,
              "#ed7953"
             ],
             [
              0.7777777777777778,
              "#fb9f3a"
             ],
             [
              0.8888888888888888,
              "#fdca26"
             ],
             [
              1,
              "#f0f921"
             ]
            ],
            "type": "contour"
           }
          ],
          "contourcarpet": [
           {
            "colorbar": {
             "outlinewidth": 0,
             "ticks": ""
            },
            "type": "contourcarpet"
           }
          ],
          "heatmap": [
           {
            "colorbar": {
             "outlinewidth": 0,
             "ticks": ""
            },
            "colorscale": [
             [
              0,
              "#0d0887"
             ],
             [
              0.1111111111111111,
              "#46039f"
             ],
             [
              0.2222222222222222,
              "#7201a8"
             ],
             [
              0.3333333333333333,
              "#9c179e"
             ],
             [
              0.4444444444444444,
              "#bd3786"
             ],
             [
              0.5555555555555556,
              "#d8576b"
             ],
             [
              0.6666666666666666,
              "#ed7953"
             ],
             [
              0.7777777777777778,
              "#fb9f3a"
             ],
             [
              0.8888888888888888,
              "#fdca26"
             ],
             [
              1,
              "#f0f921"
             ]
            ],
            "type": "heatmap"
           }
          ],
          "histogram": [
           {
            "marker": {
             "pattern": {
              "fillmode": "overlay",
              "size": 10,
              "solidity": 0.2
             }
            },
            "type": "histogram"
           }
          ],
          "histogram2d": [
           {
            "colorbar": {
             "outlinewidth": 0,
             "ticks": ""
            },
            "colorscale": [
             [
              0,
              "#0d0887"
             ],
             [
              0.1111111111111111,
              "#46039f"
             ],
             [
              0.2222222222222222,
              "#7201a8"
             ],
             [
              0.3333333333333333,
              "#9c179e"
             ],
             [
              0.4444444444444444,
              "#bd3786"
             ],
             [
              0.5555555555555556,
              "#d8576b"
             ],
             [
              0.6666666666666666,
              "#ed7953"
             ],
             [
              0.7777777777777778,
              "#fb9f3a"
             ],
             [
              0.8888888888888888,
              "#fdca26"
             ],
             [
              1,
              "#f0f921"
             ]
            ],
            "type": "histogram2d"
           }
          ],
          "histogram2dcontour": [
           {
            "colorbar": {
             "outlinewidth": 0,
             "ticks": ""
            },
            "colorscale": [
             [
              0,
              "#0d0887"
             ],
             [
              0.1111111111111111,
              "#46039f"
             ],
             [
              0.2222222222222222,
              "#7201a8"
             ],
             [
              0.3333333333333333,
              "#9c179e"
             ],
             [
              0.4444444444444444,
              "#bd3786"
             ],
             [
              0.5555555555555556,
              "#d8576b"
             ],
             [
              0.6666666666666666,
              "#ed7953"
             ],
             [
              0.7777777777777778,
              "#fb9f3a"
             ],
             [
              0.8888888888888888,
              "#fdca26"
             ],
             [
              1,
              "#f0f921"
             ]
            ],
            "type": "histogram2dcontour"
           }
          ],
          "mesh3d": [
           {
            "colorbar": {
             "outlinewidth": 0,
             "ticks": ""
            },
            "type": "mesh3d"
           }
          ],
          "parcoords": [
           {
            "line": {
             "colorbar": {
              "outlinewidth": 0,
              "ticks": ""
             }
            },
            "type": "parcoords"
           }
          ],
          "pie": [
           {
            "automargin": true,
            "type": "pie"
           }
          ],
          "scatter": [
           {
            "fillpattern": {
             "fillmode": "overlay",
             "size": 10,
             "solidity": 0.2
            },
            "type": "scatter"
           }
          ],
          "scatter3d": [
           {
            "line": {
             "colorbar": {
              "outlinewidth": 0,
              "ticks": ""
             }
            },
            "marker": {
             "colorbar": {
              "outlinewidth": 0,
              "ticks": ""
             }
            },
            "type": "scatter3d"
           }
          ],
          "scattercarpet": [
           {
            "marker": {
             "colorbar": {
              "outlinewidth": 0,
              "ticks": ""
             }
            },
            "type": "scattercarpet"
           }
          ],
          "scattergeo": [
           {
            "marker": {
             "colorbar": {
              "outlinewidth": 0,
              "ticks": ""
             }
            },
            "type": "scattergeo"
           }
          ],
          "scattergl": [
           {
            "marker": {
             "colorbar": {
              "outlinewidth": 0,
              "ticks": ""
             }
            },
            "type": "scattergl"
           }
          ],
          "scattermap": [
           {
            "marker": {
             "colorbar": {
              "outlinewidth": 0,
              "ticks": ""
             }
            },
            "type": "scattermap"
           }
          ],
          "scattermapbox": [
           {
            "marker": {
             "colorbar": {
              "outlinewidth": 0,
              "ticks": ""
             }
            },
            "type": "scattermapbox"
           }
          ],
          "scatterpolar": [
           {
            "marker": {
             "colorbar": {
              "outlinewidth": 0,
              "ticks": ""
             }
            },
            "type": "scatterpolar"
           }
          ],
          "scatterpolargl": [
           {
            "marker": {
             "colorbar": {
              "outlinewidth": 0,
              "ticks": ""
             }
            },
            "type": "scatterpolargl"
           }
          ],
          "scatterternary": [
           {
            "marker": {
             "colorbar": {
              "outlinewidth": 0,
              "ticks": ""
             }
            },
            "type": "scatterternary"
           }
          ],
          "surface": [
           {
            "colorbar": {
             "outlinewidth": 0,
             "ticks": ""
            },
            "colorscale": [
             [
              0,
              "#0d0887"
             ],
             [
              0.1111111111111111,
              "#46039f"
             ],
             [
              0.2222222222222222,
              "#7201a8"
             ],
             [
              0.3333333333333333,
              "#9c179e"
             ],
             [
              0.4444444444444444,
              "#bd3786"
             ],
             [
              0.5555555555555556,
              "#d8576b"
             ],
             [
              0.6666666666666666,
              "#ed7953"
             ],
             [
              0.7777777777777778,
              "#fb9f3a"
             ],
             [
              0.8888888888888888,
              "#fdca26"
             ],
             [
              1,
              "#f0f921"
             ]
            ],
            "type": "surface"
           }
          ],
          "table": [
           {
            "cells": {
             "fill": {
              "color": "#EBF0F8"
             },
             "line": {
              "color": "white"
             }
            },
            "header": {
             "fill": {
              "color": "#C8D4E3"
             },
             "line": {
              "color": "white"
             }
            },
            "type": "table"
           }
          ]
         },
         "layout": {
          "annotationdefaults": {
           "arrowcolor": "#2a3f5f",
           "arrowhead": 0,
           "arrowwidth": 1
          },
          "autotypenumbers": "strict",
          "coloraxis": {
           "colorbar": {
            "outlinewidth": 0,
            "ticks": ""
           }
          },
          "colorscale": {
           "diverging": [
            [
             0,
             "#8e0152"
            ],
            [
             0.1,
             "#c51b7d"
            ],
            [
             0.2,
             "#de77ae"
            ],
            [
             0.3,
             "#f1b6da"
            ],
            [
             0.4,
             "#fde0ef"
            ],
            [
             0.5,
             "#f7f7f7"
            ],
            [
             0.6,
             "#e6f5d0"
            ],
            [
             0.7,
             "#b8e186"
            ],
            [
             0.8,
             "#7fbc41"
            ],
            [
             0.9,
             "#4d9221"
            ],
            [
             1,
             "#276419"
            ]
           ],
           "sequential": [
            [
             0,
             "#0d0887"
            ],
            [
             0.1111111111111111,
             "#46039f"
            ],
            [
             0.2222222222222222,
             "#7201a8"
            ],
            [
             0.3333333333333333,
             "#9c179e"
            ],
            [
             0.4444444444444444,
             "#bd3786"
            ],
            [
             0.5555555555555556,
             "#d8576b"
            ],
            [
             0.6666666666666666,
             "#ed7953"
            ],
            [
             0.7777777777777778,
             "#fb9f3a"
            ],
            [
             0.8888888888888888,
             "#fdca26"
            ],
            [
             1,
             "#f0f921"
            ]
           ],
           "sequentialminus": [
            [
             0,
             "#0d0887"
            ],
            [
             0.1111111111111111,
             "#46039f"
            ],
            [
             0.2222222222222222,
             "#7201a8"
            ],
            [
             0.3333333333333333,
             "#9c179e"
            ],
            [
             0.4444444444444444,
             "#bd3786"
            ],
            [
             0.5555555555555556,
             "#d8576b"
            ],
            [
             0.6666666666666666,
             "#ed7953"
            ],
            [
             0.7777777777777778,
             "#fb9f3a"
            ],
            [
             0.8888888888888888,
             "#fdca26"
            ],
            [
             1,
             "#f0f921"
            ]
           ]
          },
          "colorway": [
           "#636efa",
           "#EF553B",
           "#00cc96",
           "#ab63fa",
           "#FFA15A",
           "#19d3f3",
           "#FF6692",
           "#B6E880",
           "#FF97FF",
           "#FECB52"
          ],
          "font": {
           "color": "#2a3f5f"
          },
          "geo": {
           "bgcolor": "white",
           "lakecolor": "white",
           "landcolor": "#E5ECF6",
           "showlakes": true,
           "showland": true,
           "subunitcolor": "white"
          },
          "hoverlabel": {
           "align": "left"
          },
          "hovermode": "closest",
          "mapbox": {
           "style": "light"
          },
          "paper_bgcolor": "white",
          "plot_bgcolor": "#E5ECF6",
          "polar": {
           "angularaxis": {
            "gridcolor": "white",
            "linecolor": "white",
            "ticks": ""
           },
           "bgcolor": "#E5ECF6",
           "radialaxis": {
            "gridcolor": "white",
            "linecolor": "white",
            "ticks": ""
           }
          },
          "scene": {
           "xaxis": {
            "backgroundcolor": "#E5ECF6",
            "gridcolor": "white",
            "gridwidth": 2,
            "linecolor": "white",
            "showbackground": true,
            "ticks": "",
            "zerolinecolor": "white"
           },
           "yaxis": {
            "backgroundcolor": "#E5ECF6",
            "gridcolor": "white",
            "gridwidth": 2,
            "linecolor": "white",
            "showbackground": true,
            "ticks": "",
            "zerolinecolor": "white"
           },
           "zaxis": {
            "backgroundcolor": "#E5ECF6",
            "gridcolor": "white",
            "gridwidth": 2,
            "linecolor": "white",
            "showbackground": true,
            "ticks": "",
            "zerolinecolor": "white"
           }
          },
          "shapedefaults": {
           "line": {
            "color": "#2a3f5f"
           }
          },
          "ternary": {
           "aaxis": {
            "gridcolor": "white",
            "linecolor": "white",
            "ticks": ""
           },
           "baxis": {
            "gridcolor": "white",
            "linecolor": "white",
            "ticks": ""
           },
           "bgcolor": "#E5ECF6",
           "caxis": {
            "gridcolor": "white",
            "linecolor": "white",
            "ticks": ""
           }
          },
          "title": {
           "x": 0.05
          },
          "xaxis": {
           "automargin": true,
           "gridcolor": "white",
           "linecolor": "white",
           "ticks": "",
           "title": {
            "standoff": 15
           },
           "zerolinecolor": "white",
           "zerolinewidth": 2
          },
          "yaxis": {
           "automargin": true,
           "gridcolor": "white",
           "linecolor": "white",
           "ticks": "",
           "title": {
            "standoff": 15
           },
           "zerolinecolor": "white",
           "zerolinewidth": 2
          }
         }
        },
        "title": {
         "text": "Feature Importances (Random Forest)"
        },
        "width": 900,
        "xaxis": {
         "title": {
          "text": "Features"
         }
        },
        "yaxis": {
         "title": {
          "text": "Importance"
         }
        }
       }
      }
     },
     "metadata": {},
     "output_type": "display_data"
    }
   ],
   "source": [
    "# Feature importance\n",
    "best_config = best_params\n",
    "best_config.update({\n",
    "    \"random_state\": args[\"random_state\"],\n",
    "    \"class_weight\": args[\"class_weight\"],\n",
    "    \"beta\": args[\"beta\"],\n",
    "    \"cv_folds\": args[\"cv_folds\"],\n",
    "})\n",
    "\n",
    "model = RFEstimator(best_config)\n",
    "\n",
    "model.fit(X_train,y_train)\n",
    "\n",
    "importances = model.classifier.feature_importances_\n",
    "feature_names = df.drop(columns=[target]).columns\n",
    "\n",
    "fig = go.Figure(\n",
    "    go.Bar(\n",
    "        x=feature_names,\n",
    "        y=importances,\n",
    "        marker=dict(color=\"royalblue\")\n",
    "    )\n",
    ")\n",
    "fig.update_layout(\n",
    "    title=\"Feature Importances (Random Forest)\",\n",
    "    xaxis_title=\"Features\",\n",
    "    yaxis_title=\"Importance\",\n",
    "    width=900,\n",
    "    height=500\n",
    ")\n",
    "fig.show()"
   ]
  },
  {
   "cell_type": "markdown",
   "id": "a906e261",
   "metadata": {},
   "source": [
    "Value importance ranges from around 2 to 20%. Trying to remove less important features results in a less precise / stable model (when looking at cross validation scores across folds).<br>\n",
    "I don't think we should remove one of them (all significantly important)."
   ]
  },
  {
   "cell_type": "code",
   "execution_count": 7,
   "id": "8372a9bc",
   "metadata": {},
   "outputs": [
    {
     "name": "stdout",
     "output_type": "stream",
     "text": [
      "Dummy CV Score: 0.6750\n",
      "Random Forest CV Score: 0.7675\n"
     ]
    },
    {
     "data": {
      "application/vnd.plotly.v1+json": {
       "config": {
        "plotlyServerURL": "https://plot.ly"
       },
       "data": [
        {
         "legendgroup": "Dummy",
         "line": {
          "color": "red"
         },
         "mode": "lines+markers",
         "name": "Dummy",
         "showlegend": true,
         "type": "scatter",
         "x": [
          1,
          2,
          3,
          4
         ],
         "xaxis": "x",
         "y": [
          0.6243523316062176,
          0.6243523316062176,
          0.6248382923673997,
          0.6235446313065977
         ],
         "yaxis": "y"
        },
        {
         "legendgroup": "Dummy",
         "line": {
          "color": "red"
         },
         "mode": "lines+markers",
         "name": "Dummy Train Recall",
         "showlegend": false,
         "type": "scatter",
         "x": [
          1,
          2,
          3,
          4
         ],
         "xaxis": "x2",
         "y": [
          1,
          1,
          1,
          1
         ],
         "yaxis": "y2"
        },
        {
         "legendgroup": "Dummy",
         "line": {
          "color": "red"
         },
         "mode": "lines+markers",
         "name": "Dummy Train F0.5",
         "showlegend": false,
         "type": "scatter",
         "x": [
          1,
          2,
          3,
          4
         ],
         "xaxis": "x3",
         "y": [
          0.6750700280112045,
          0.6750700280112045,
          0.6755244755244755,
          0.6743144935646335
         ],
         "yaxis": "y3"
        },
        {
         "legendgroup": "Dummy",
         "line": {
          "color": "red"
         },
         "mode": "lines+markers",
         "name": "Dummy Valid Precision",
         "showlegend": false,
         "type": "scatter",
         "x": [
          1,
          2,
          3,
          4
         ],
         "xaxis": "x4",
         "y": [
          0.624031007751938,
          0.624031007751938,
          0.622568093385214,
          0.6264591439688716
         ],
         "yaxis": "y4"
        },
        {
         "legendgroup": "Dummy",
         "line": {
          "color": "red"
         },
         "mode": "lines+markers",
         "name": "Dummy Valid Recall",
         "showlegend": false,
         "type": "scatter",
         "x": [
          1,
          2,
          3,
          4
         ],
         "xaxis": "x5",
         "y": [
          1,
          1,
          1,
          1
         ],
         "yaxis": "y5"
        },
        {
         "legendgroup": "Dummy",
         "line": {
          "color": "red"
         },
         "mode": "lines+markers",
         "name": "Dummy Valid F0.5",
         "showlegend": false,
         "type": "scatter",
         "x": [
          1,
          2,
          3,
          4
         ],
         "xaxis": "x6",
         "y": [
          0.6747694886839899,
          0.6747694886839899,
          0.6734006734006734,
          0.6770395290159799
         ],
         "yaxis": "y6"
        },
        {
         "legendgroup": "Random Forest",
         "line": {
          "color": "green"
         },
         "mode": "lines+markers",
         "name": "Random Forest",
         "showlegend": true,
         "type": "scatter",
         "x": [
          1,
          2,
          3,
          4
         ],
         "xaxis": "x",
         "y": [
          0.8557213930348259,
          0.8511166253101737,
          0.8463414634146341,
          0.8262910798122066
         ],
         "yaxis": "y"
        },
        {
         "legendgroup": "Random Forest",
         "line": {
          "color": "green"
         },
         "mode": "lines+markers",
         "name": "Random Forest Train Recall",
         "showlegend": false,
         "type": "scatter",
         "x": [
          1,
          2,
          3,
          4
         ],
         "xaxis": "x2",
         "y": [
          0.7136929460580913,
          0.7116182572614108,
          0.7184265010351967,
          0.7302904564315352
         ],
         "yaxis": "y2"
        },
        {
         "legendgroup": "Random Forest",
         "line": {
          "color": "green"
         },
         "mode": "lines+markers",
         "name": "Random Forest Train F0.5",
         "showlegend": false,
         "type": "scatter",
         "x": [
          1,
          2,
          3,
          4
         ],
         "xaxis": "x3",
         "y": [
          0.8229665071770335,
          0.8190066857688634,
          0.8172397550635893,
          0.8051235132662397
         ],
         "yaxis": "y3"
        },
        {
         "legendgroup": "Random Forest",
         "line": {
          "color": "green"
         },
         "mode": "lines+markers",
         "name": "Random Forest Valid Precision",
         "showlegend": false,
         "type": "scatter",
         "x": [
          1,
          2,
          3,
          4
         ],
         "xaxis": "x4",
         "y": [
          0.8142857142857143,
          0.8014184397163121,
          0.7557251908396947,
          0.8106060606060606
         ],
         "yaxis": "y4"
        },
        {
         "legendgroup": "Random Forest",
         "line": {
          "color": "green"
         },
         "mode": "lines+markers",
         "name": "Random Forest Valid Recall",
         "showlegend": false,
         "type": "scatter",
         "x": [
          1,
          2,
          3,
          4
         ],
         "xaxis": "x5",
         "y": [
          0.7080745341614907,
          0.7018633540372671,
          0.61875,
          0.6645962732919255
         ],
         "yaxis": "y5"
        },
        {
         "legendgroup": "Random Forest",
         "line": {
          "color": "green"
         },
         "mode": "lines+markers",
         "name": "Random Forest Valid F0.5",
         "showlegend": false,
         "type": "scatter",
         "x": [
          1,
          2,
          3,
          4
         ],
         "xaxis": "x6",
         "y": [
          0.7905686546463245,
          0.7793103448275862,
          0.7236842105263158,
          0.7764876632801161
         ],
         "yaxis": "y6"
        }
       ],
       "layout": {
        "annotations": [
         {
          "font": {
           "size": 16
          },
          "showarrow": false,
          "text": "Precision",
          "x": 0.1411111111111111,
          "xanchor": "center",
          "xref": "paper",
          "y": 1,
          "yanchor": "bottom",
          "yref": "paper"
         },
         {
          "font": {
           "size": 16
          },
          "showarrow": false,
          "text": "Recall",
          "x": 0.49,
          "xanchor": "center",
          "xref": "paper",
          "y": 1,
          "yanchor": "bottom",
          "yref": "paper"
         },
         {
          "font": {
           "size": 16
          },
          "showarrow": false,
          "text": "F0.5 Score",
          "x": 0.8388888888888888,
          "xanchor": "center",
          "xref": "paper",
          "y": 1,
          "yanchor": "bottom",
          "yref": "paper"
         },
         {
          "font": {
           "size": 16
          },
          "showarrow": false,
          "text": "Train",
          "textangle": 90,
          "x": 0.98,
          "xanchor": "left",
          "xref": "paper",
          "y": 0.775,
          "yanchor": "middle",
          "yref": "paper"
         },
         {
          "font": {
           "size": 16
          },
          "showarrow": false,
          "text": "Validation",
          "textangle": 90,
          "x": 0.98,
          "xanchor": "left",
          "xref": "paper",
          "y": 0.225,
          "yanchor": "middle",
          "yref": "paper"
         }
        ],
        "height": 600,
        "template": {
         "data": {
          "bar": [
           {
            "error_x": {
             "color": "#2a3f5f"
            },
            "error_y": {
             "color": "#2a3f5f"
            },
            "marker": {
             "line": {
              "color": "#E5ECF6",
              "width": 0.5
             },
             "pattern": {
              "fillmode": "overlay",
              "size": 10,
              "solidity": 0.2
             }
            },
            "type": "bar"
           }
          ],
          "barpolar": [
           {
            "marker": {
             "line": {
              "color": "#E5ECF6",
              "width": 0.5
             },
             "pattern": {
              "fillmode": "overlay",
              "size": 10,
              "solidity": 0.2
             }
            },
            "type": "barpolar"
           }
          ],
          "carpet": [
           {
            "aaxis": {
             "endlinecolor": "#2a3f5f",
             "gridcolor": "white",
             "linecolor": "white",
             "minorgridcolor": "white",
             "startlinecolor": "#2a3f5f"
            },
            "baxis": {
             "endlinecolor": "#2a3f5f",
             "gridcolor": "white",
             "linecolor": "white",
             "minorgridcolor": "white",
             "startlinecolor": "#2a3f5f"
            },
            "type": "carpet"
           }
          ],
          "choropleth": [
           {
            "colorbar": {
             "outlinewidth": 0,
             "ticks": ""
            },
            "type": "choropleth"
           }
          ],
          "contour": [
           {
            "colorbar": {
             "outlinewidth": 0,
             "ticks": ""
            },
            "colorscale": [
             [
              0,
              "#0d0887"
             ],
             [
              0.1111111111111111,
              "#46039f"
             ],
             [
              0.2222222222222222,
              "#7201a8"
             ],
             [
              0.3333333333333333,
              "#9c179e"
             ],
             [
              0.4444444444444444,
              "#bd3786"
             ],
             [
              0.5555555555555556,
              "#d8576b"
             ],
             [
              0.6666666666666666,
              "#ed7953"
             ],
             [
              0.7777777777777778,
              "#fb9f3a"
             ],
             [
              0.8888888888888888,
              "#fdca26"
             ],
             [
              1,
              "#f0f921"
             ]
            ],
            "type": "contour"
           }
          ],
          "contourcarpet": [
           {
            "colorbar": {
             "outlinewidth": 0,
             "ticks": ""
            },
            "type": "contourcarpet"
           }
          ],
          "heatmap": [
           {
            "colorbar": {
             "outlinewidth": 0,
             "ticks": ""
            },
            "colorscale": [
             [
              0,
              "#0d0887"
             ],
             [
              0.1111111111111111,
              "#46039f"
             ],
             [
              0.2222222222222222,
              "#7201a8"
             ],
             [
              0.3333333333333333,
              "#9c179e"
             ],
             [
              0.4444444444444444,
              "#bd3786"
             ],
             [
              0.5555555555555556,
              "#d8576b"
             ],
             [
              0.6666666666666666,
              "#ed7953"
             ],
             [
              0.7777777777777778,
              "#fb9f3a"
             ],
             [
              0.8888888888888888,
              "#fdca26"
             ],
             [
              1,
              "#f0f921"
             ]
            ],
            "type": "heatmap"
           }
          ],
          "histogram": [
           {
            "marker": {
             "pattern": {
              "fillmode": "overlay",
              "size": 10,
              "solidity": 0.2
             }
            },
            "type": "histogram"
           }
          ],
          "histogram2d": [
           {
            "colorbar": {
             "outlinewidth": 0,
             "ticks": ""
            },
            "colorscale": [
             [
              0,
              "#0d0887"
             ],
             [
              0.1111111111111111,
              "#46039f"
             ],
             [
              0.2222222222222222,
              "#7201a8"
             ],
             [
              0.3333333333333333,
              "#9c179e"
             ],
             [
              0.4444444444444444,
              "#bd3786"
             ],
             [
              0.5555555555555556,
              "#d8576b"
             ],
             [
              0.6666666666666666,
              "#ed7953"
             ],
             [
              0.7777777777777778,
              "#fb9f3a"
             ],
             [
              0.8888888888888888,
              "#fdca26"
             ],
             [
              1,
              "#f0f921"
             ]
            ],
            "type": "histogram2d"
           }
          ],
          "histogram2dcontour": [
           {
            "colorbar": {
             "outlinewidth": 0,
             "ticks": ""
            },
            "colorscale": [
             [
              0,
              "#0d0887"
             ],
             [
              0.1111111111111111,
              "#46039f"
             ],
             [
              0.2222222222222222,
              "#7201a8"
             ],
             [
              0.3333333333333333,
              "#9c179e"
             ],
             [
              0.4444444444444444,
              "#bd3786"
             ],
             [
              0.5555555555555556,
              "#d8576b"
             ],
             [
              0.6666666666666666,
              "#ed7953"
             ],
             [
              0.7777777777777778,
              "#fb9f3a"
             ],
             [
              0.8888888888888888,
              "#fdca26"
             ],
             [
              1,
              "#f0f921"
             ]
            ],
            "type": "histogram2dcontour"
           }
          ],
          "mesh3d": [
           {
            "colorbar": {
             "outlinewidth": 0,
             "ticks": ""
            },
            "type": "mesh3d"
           }
          ],
          "parcoords": [
           {
            "line": {
             "colorbar": {
              "outlinewidth": 0,
              "ticks": ""
             }
            },
            "type": "parcoords"
           }
          ],
          "pie": [
           {
            "automargin": true,
            "type": "pie"
           }
          ],
          "scatter": [
           {
            "fillpattern": {
             "fillmode": "overlay",
             "size": 10,
             "solidity": 0.2
            },
            "type": "scatter"
           }
          ],
          "scatter3d": [
           {
            "line": {
             "colorbar": {
              "outlinewidth": 0,
              "ticks": ""
             }
            },
            "marker": {
             "colorbar": {
              "outlinewidth": 0,
              "ticks": ""
             }
            },
            "type": "scatter3d"
           }
          ],
          "scattercarpet": [
           {
            "marker": {
             "colorbar": {
              "outlinewidth": 0,
              "ticks": ""
             }
            },
            "type": "scattercarpet"
           }
          ],
          "scattergeo": [
           {
            "marker": {
             "colorbar": {
              "outlinewidth": 0,
              "ticks": ""
             }
            },
            "type": "scattergeo"
           }
          ],
          "scattergl": [
           {
            "marker": {
             "colorbar": {
              "outlinewidth": 0,
              "ticks": ""
             }
            },
            "type": "scattergl"
           }
          ],
          "scattermap": [
           {
            "marker": {
             "colorbar": {
              "outlinewidth": 0,
              "ticks": ""
             }
            },
            "type": "scattermap"
           }
          ],
          "scattermapbox": [
           {
            "marker": {
             "colorbar": {
              "outlinewidth": 0,
              "ticks": ""
             }
            },
            "type": "scattermapbox"
           }
          ],
          "scatterpolar": [
           {
            "marker": {
             "colorbar": {
              "outlinewidth": 0,
              "ticks": ""
             }
            },
            "type": "scatterpolar"
           }
          ],
          "scatterpolargl": [
           {
            "marker": {
             "colorbar": {
              "outlinewidth": 0,
              "ticks": ""
             }
            },
            "type": "scatterpolargl"
           }
          ],
          "scatterternary": [
           {
            "marker": {
             "colorbar": {
              "outlinewidth": 0,
              "ticks": ""
             }
            },
            "type": "scatterternary"
           }
          ],
          "surface": [
           {
            "colorbar": {
             "outlinewidth": 0,
             "ticks": ""
            },
            "colorscale": [
             [
              0,
              "#0d0887"
             ],
             [
              0.1111111111111111,
              "#46039f"
             ],
             [
              0.2222222222222222,
              "#7201a8"
             ],
             [
              0.3333333333333333,
              "#9c179e"
             ],
             [
              0.4444444444444444,
              "#bd3786"
             ],
             [
              0.5555555555555556,
              "#d8576b"
             ],
             [
              0.6666666666666666,
              "#ed7953"
             ],
             [
              0.7777777777777778,
              "#fb9f3a"
             ],
             [
              0.8888888888888888,
              "#fdca26"
             ],
             [
              1,
              "#f0f921"
             ]
            ],
            "type": "surface"
           }
          ],
          "table": [
           {
            "cells": {
             "fill": {
              "color": "#EBF0F8"
             },
             "line": {
              "color": "white"
             }
            },
            "header": {
             "fill": {
              "color": "#C8D4E3"
             },
             "line": {
              "color": "white"
             }
            },
            "type": "table"
           }
          ]
         },
         "layout": {
          "annotationdefaults": {
           "arrowcolor": "#2a3f5f",
           "arrowhead": 0,
           "arrowwidth": 1
          },
          "autotypenumbers": "strict",
          "coloraxis": {
           "colorbar": {
            "outlinewidth": 0,
            "ticks": ""
           }
          },
          "colorscale": {
           "diverging": [
            [
             0,
             "#8e0152"
            ],
            [
             0.1,
             "#c51b7d"
            ],
            [
             0.2,
             "#de77ae"
            ],
            [
             0.3,
             "#f1b6da"
            ],
            [
             0.4,
             "#fde0ef"
            ],
            [
             0.5,
             "#f7f7f7"
            ],
            [
             0.6,
             "#e6f5d0"
            ],
            [
             0.7,
             "#b8e186"
            ],
            [
             0.8,
             "#7fbc41"
            ],
            [
             0.9,
             "#4d9221"
            ],
            [
             1,
             "#276419"
            ]
           ],
           "sequential": [
            [
             0,
             "#0d0887"
            ],
            [
             0.1111111111111111,
             "#46039f"
            ],
            [
             0.2222222222222222,
             "#7201a8"
            ],
            [
             0.3333333333333333,
             "#9c179e"
            ],
            [
             0.4444444444444444,
             "#bd3786"
            ],
            [
             0.5555555555555556,
             "#d8576b"
            ],
            [
             0.6666666666666666,
             "#ed7953"
            ],
            [
             0.7777777777777778,
             "#fb9f3a"
            ],
            [
             0.8888888888888888,
             "#fdca26"
            ],
            [
             1,
             "#f0f921"
            ]
           ],
           "sequentialminus": [
            [
             0,
             "#0d0887"
            ],
            [
             0.1111111111111111,
             "#46039f"
            ],
            [
             0.2222222222222222,
             "#7201a8"
            ],
            [
             0.3333333333333333,
             "#9c179e"
            ],
            [
             0.4444444444444444,
             "#bd3786"
            ],
            [
             0.5555555555555556,
             "#d8576b"
            ],
            [
             0.6666666666666666,
             "#ed7953"
            ],
            [
             0.7777777777777778,
             "#fb9f3a"
            ],
            [
             0.8888888888888888,
             "#fdca26"
            ],
            [
             1,
             "#f0f921"
            ]
           ]
          },
          "colorway": [
           "#636efa",
           "#EF553B",
           "#00cc96",
           "#ab63fa",
           "#FFA15A",
           "#19d3f3",
           "#FF6692",
           "#B6E880",
           "#FF97FF",
           "#FECB52"
          ],
          "font": {
           "color": "#2a3f5f"
          },
          "geo": {
           "bgcolor": "white",
           "lakecolor": "white",
           "landcolor": "#E5ECF6",
           "showlakes": true,
           "showland": true,
           "subunitcolor": "white"
          },
          "hoverlabel": {
           "align": "left"
          },
          "hovermode": "closest",
          "mapbox": {
           "style": "light"
          },
          "paper_bgcolor": "white",
          "plot_bgcolor": "#E5ECF6",
          "polar": {
           "angularaxis": {
            "gridcolor": "white",
            "linecolor": "white",
            "ticks": ""
           },
           "bgcolor": "#E5ECF6",
           "radialaxis": {
            "gridcolor": "white",
            "linecolor": "white",
            "ticks": ""
           }
          },
          "scene": {
           "xaxis": {
            "backgroundcolor": "#E5ECF6",
            "gridcolor": "white",
            "gridwidth": 2,
            "linecolor": "white",
            "showbackground": true,
            "ticks": "",
            "zerolinecolor": "white"
           },
           "yaxis": {
            "backgroundcolor": "#E5ECF6",
            "gridcolor": "white",
            "gridwidth": 2,
            "linecolor": "white",
            "showbackground": true,
            "ticks": "",
            "zerolinecolor": "white"
           },
           "zaxis": {
            "backgroundcolor": "#E5ECF6",
            "gridcolor": "white",
            "gridwidth": 2,
            "linecolor": "white",
            "showbackground": true,
            "ticks": "",
            "zerolinecolor": "white"
           }
          },
          "shapedefaults": {
           "line": {
            "color": "#2a3f5f"
           }
          },
          "ternary": {
           "aaxis": {
            "gridcolor": "white",
            "linecolor": "white",
            "ticks": ""
           },
           "baxis": {
            "gridcolor": "white",
            "linecolor": "white",
            "ticks": ""
           },
           "bgcolor": "#E5ECF6",
           "caxis": {
            "gridcolor": "white",
            "linecolor": "white",
            "ticks": ""
           }
          },
          "title": {
           "x": 0.05
          },
          "xaxis": {
           "automargin": true,
           "gridcolor": "white",
           "linecolor": "white",
           "ticks": "",
           "title": {
            "standoff": 15
           },
           "zerolinecolor": "white",
           "zerolinewidth": 2
          },
          "yaxis": {
           "automargin": true,
           "gridcolor": "white",
           "linecolor": "white",
           "ticks": "",
           "title": {
            "standoff": 15
           },
           "zerolinecolor": "white",
           "zerolinewidth": 2
          }
         }
        },
        "title": {
         "text": "Cross-Validation Metrics Across Folds"
        },
        "width": 1500,
        "xaxis": {
         "anchor": "y",
         "domain": [
          0,
          0.2822222222222222
         ],
         "title": {
          "text": "Fold"
         }
        },
        "xaxis2": {
         "anchor": "y2",
         "domain": [
          0.34888888888888886,
          0.6311111111111111
         ],
         "title": {
          "text": "Fold"
         }
        },
        "xaxis3": {
         "anchor": "y3",
         "domain": [
          0.6977777777777777,
          0.98
         ],
         "title": {
          "text": "Fold"
         }
        },
        "xaxis4": {
         "anchor": "y4",
         "domain": [
          0,
          0.2822222222222222
         ],
         "title": {
          "text": "Fold"
         }
        },
        "xaxis5": {
         "anchor": "y5",
         "domain": [
          0.34888888888888886,
          0.6311111111111111
         ],
         "title": {
          "text": "Fold"
         }
        },
        "xaxis6": {
         "anchor": "y6",
         "domain": [
          0.6977777777777777,
          0.98
         ],
         "title": {
          "text": "Fold"
         }
        },
        "yaxis": {
         "anchor": "x",
         "domain": [
          0.55,
          1
         ],
         "title": {
          "text": "Score"
         }
        },
        "yaxis2": {
         "anchor": "x2",
         "domain": [
          0.55,
          1
         ],
         "title": {
          "text": "Score"
         }
        },
        "yaxis3": {
         "anchor": "x3",
         "domain": [
          0.55,
          1
         ],
         "title": {
          "text": "Score"
         }
        },
        "yaxis4": {
         "anchor": "x4",
         "domain": [
          0,
          0.45
         ],
         "title": {
          "text": "Score"
         }
        },
        "yaxis5": {
         "anchor": "x5",
         "domain": [
          0,
          0.45
         ],
         "title": {
          "text": "Score"
         }
        },
        "yaxis6": {
         "anchor": "x6",
         "domain": [
          0,
          0.45
         ],
         "title": {
          "text": "Score"
         }
        }
       }
      }
     },
     "metadata": {},
     "output_type": "display_data"
    }
   ],
   "source": [
    "# Score details on each fold\n",
    "dummy_params = {\n",
    "    \"beta\": args[\"beta\"],\n",
    "    \"cv_folds\": args[\"cv_folds\"],\n",
    "    \"strategy\": \"most_frequent\",\n",
    "    \"random_state\": args[\"random_state\"],\n",
    "}\n",
    "dummy = DummyEstimator(dummy_params)\n",
    "dummy_cv_score = dummy.cross_validate(X_train,y_train)\n",
    "\n",
    "model_cv_score = model.cross_validate(X_train,y_train)\n",
    "\n",
    "print(f\"Dummy CV Score: {dummy_cv_score:.4f}\")\n",
    "print(f\"Random Forest CV Score: {model_cv_score:.4f}\")\n",
    "\n",
    "dummy_scores = dummy.cv_scores  \n",
    "model_scores = model.cv_scores\n",
    "\n",
    "fig = make_subplots(\n",
    "    rows=2, cols=3,\n",
    "    subplot_titles=('Precision', 'Recall', f'F{beta} Score'),\n",
    "    row_titles=['Train', 'Validation'],\n",
    "    vertical_spacing=0.1\n",
    ")\n",
    "\n",
    "models = {'Dummy': dummy, 'Random Forest': model }\n",
    "colors = {'Dummy': 'red', 'Random Forest': 'green'}\n",
    "\n",
    "for model_name, model in models.items():\n",
    "    color = colors[model_name]\n",
    "    \n",
    "    # Train metrics\n",
    "    fig.add_trace(\n",
    "        go.Scatter(x=list(range(1, cv_folds+1)), \n",
    "                  y=model.cv_scores['train']['precision'],\n",
    "                  mode='lines+markers', \n",
    "                  name=f'{model_name}',\n",
    "                  line=dict(color=color),\n",
    "                  legendgroup=model_name,\n",
    "                  showlegend=True),\n",
    "        row=1, col=1\n",
    "    )\n",
    "    \n",
    "    fig.add_trace(\n",
    "        go.Scatter(x=list(range(1, cv_folds+1)), \n",
    "                  y=model.cv_scores['train']['recall'],\n",
    "                  mode='lines+markers', \n",
    "                  name=f'{model_name} Train Recall',\n",
    "                  line=dict(color=color),\n",
    "                  legendgroup=model_name,\n",
    "                  showlegend=False),\n",
    "        row=1, col=2\n",
    "    )\n",
    "    \n",
    "    fig.add_trace(\n",
    "        go.Scatter(x=list(range(1, cv_folds+1)), \n",
    "                  y=model.cv_scores['train'][f'F{beta}'],\n",
    "                  mode='lines+markers', \n",
    "                  name=f'{model_name} Train F{beta}',\n",
    "                  line=dict(color=color),\n",
    "                  legendgroup=model_name,\n",
    "                  showlegend=False),\n",
    "        row=1, col=3\n",
    "    )\n",
    "    \n",
    "    # Validation metrics\n",
    "    fig.add_trace(\n",
    "        go.Scatter(x=list(range(1, cv_folds+1)), \n",
    "                  y=model.cv_scores['valid']['precision'],\n",
    "                  mode='lines+markers', \n",
    "                  name=f'{model_name} Valid Precision',\n",
    "                  line=dict(color=color),\n",
    "                  legendgroup=model_name,\n",
    "                  showlegend=False),\n",
    "        row=2, col=1\n",
    "    )\n",
    "    \n",
    "    fig.add_trace(\n",
    "        go.Scatter(x=list(range(1, cv_folds+1)), \n",
    "                  y=model.cv_scores['valid']['recall'],\n",
    "                  mode='lines+markers', \n",
    "                  name=f'{model_name} Valid Recall',\n",
    "                  line=dict(color=color),\n",
    "                  legendgroup=model_name,\n",
    "                  showlegend=False),\n",
    "        row=2, col=2\n",
    "    )\n",
    "    \n",
    "    fig.add_trace(\n",
    "        go.Scatter(x=list(range(1, cv_folds+1)), \n",
    "                  y=model.cv_scores['valid'][f'F{beta}'],\n",
    "                  mode='lines+markers', \n",
    "                  name=f'{model_name} Valid F{beta}',\n",
    "                  line=dict(color=color),\n",
    "                  legendgroup=model_name,\n",
    "                  showlegend=False),\n",
    "        row=2, col=3\n",
    "    )\n",
    "\n",
    "fig.update_xaxes(title_text=\"Fold\")\n",
    "fig.update_yaxes(title_text=\"Score\")\n",
    "fig.update_layout(height=600, width=1500, title=\"Cross-Validation Metrics Across Folds\")\n",
    "fig.show()"
   ]
  },
  {
   "cell_type": "markdown",
   "id": "51f8654f",
   "metadata": {},
   "source": [
    "1) We observe some over-fitting (gap in metrics in fold 3) but scores remain consistent.\n",
    "2) The model shows a higher precision than recall as expected.\n",
    "3) Dummy Classifier is clearly outperformed !"
   ]
  },
  {
   "cell_type": "code",
   "execution_count": 8,
   "id": "6025a850",
   "metadata": {},
   "outputs": [
    {
     "name": "stdout",
     "output_type": "stream",
     "text": [
      "Best configuration saved to: models/params/rf.json\n"
     ]
    }
   ],
   "source": [
    "# Saving best configs\n",
    "save_config_path = os.path.join(\"models\",\"params\",\"rf.json\")\n",
    "os.makedirs(os.path.dirname(save_config_path), exist_ok=True)\n",
    "with open(save_config_path, 'w') as f:\n",
    "    json.dump(best_config, f, indent=4)\n",
    "\n",
    "print(f\"Best configuration saved to: {save_config_path}\")"
   ]
  },
  {
   "cell_type": "code",
   "execution_count": 9,
   "id": "e3b13e62",
   "metadata": {},
   "outputs": [
    {
     "name": "stdout",
     "output_type": "stream",
     "text": [
      "Test Set Performance Comparison:\n",
      "| Model         |   Precision |   Recall |   F0.5 Score |\n",
      "|---------------|-------------|----------|--------------|\n",
      "| Dummy         |      0.624  |   1      |       0.6748 |\n",
      "| Random Forest |      0.8138 |   0.7329 |       0.7962 |\n"
     ]
    }
   ],
   "source": [
    "# Evaluation metrics\n",
    "\n",
    "model_test_scores = model.evaluate(X_test,y_test)\n",
    "dummy_test_scores = dummy.evaluate(X_test,y_test)\n",
    "\n",
    "# Create comparison table\n",
    "data = [\n",
    "    [\"Model\", \"Precision\", \"Recall\", f\"F{beta} Score\"],\n",
    "    [\"Dummy\", f\"{dummy_test_scores['precision']:.4f}\", f\"{dummy_test_scores['recall']:.4f}\", f\"{dummy_test_scores[f'F{beta}']:.4f}\"],\n",
    "    [\"Random Forest\", f\"{model_test_scores['precision']:.4f}\", f\"{model_test_scores['recall']:.4f}\", f\"{model_test_scores[f'F{beta}']:.4f}\"]\n",
    "]\n",
    "\n",
    "print(\"Test Set Performance Comparison:\")\n",
    "print(tabulate(data, headers=\"firstrow\", tablefmt=\"github\"))"
   ]
  },
  {
   "cell_type": "markdown",
   "id": "05089ec0",
   "metadata": {},
   "source": [
    "Random Forest generalizes well on unseen data (almost the same metrics as during cross validation), plus it still outperforms dummy classifier !"
   ]
  }
 ],
 "metadata": {
  "kernelspec": {
   "display_name": "nba",
   "language": "python",
   "name": "python3"
  },
  "language_info": {
   "codemirror_mode": {
    "name": "ipython",
    "version": 3
   },
   "file_extension": ".py",
   "mimetype": "text/x-python",
   "name": "python",
   "nbconvert_exporter": "python",
   "pygments_lexer": "ipython3",
   "version": "3.11.13"
  }
 },
 "nbformat": 4,
 "nbformat_minor": 5
}
