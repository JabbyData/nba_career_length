{
 "cells": [
  {
   "cell_type": "code",
   "execution_count": 16,
   "id": "030b68b6",
   "metadata": {},
   "outputs": [],
   "source": [
    "# Dependencies\n",
    "\n",
    "# Data Manip\n",
    "import pandas as pd\n",
    "\n",
    "# Linear Algebra\n",
    "import numpy as np\n",
    "\n",
    "# Optimization\n",
    "import optuna\n",
    "from optuna.storages import RDBStorage\n",
    "from functools import partial\n",
    "\n",
    "# Machine Learning\n",
    "from sklearn.model_selection import StratifiedKFold, train_test_split\n",
    "from sklearn.metrics import confusion_matrix, precision_score, recall_score, fbeta_score, make_scorer\n",
    "from models.rf import RFEstimator\n",
    "from models.dummy import DummyEstimator\n",
    "\n",
    "\n",
    "# Visualization\n",
    "import plotly.graph_objects as go\n",
    "from plotly.subplots import make_subplots\n",
    "from tabulate import tabulate\n",
    "\n",
    "# System & Files\n",
    "import os\n",
    "import json\n",
    "\n",
    "seed = 42\n",
    "np.random.seed(seed)"
   ]
  },
  {
   "cell_type": "code",
   "execution_count": 17,
   "id": "c4569b57",
   "metadata": {},
   "outputs": [],
   "source": [
    "# Data collection\n",
    "data_path = \"data/nba_filtered.csv\" # random forest robust to outliers\n",
    "df = pd.read_csv(data_path)"
   ]
  },
  {
   "cell_type": "code",
   "execution_count": 18,
   "id": "8f3a8bc0",
   "metadata": {},
   "outputs": [],
   "source": [
    "# Train / Test split\n",
    "target = \"TARGET_5Yrs\"\n",
    "\n",
    "X = df.drop(columns=[\"Name\",target]).values\n",
    "y = df[target].values\n",
    "\n",
    "test_size=0.2\n",
    "X_train, X_test, y_train, y_test = train_test_split(X,y,stratify=y,test_size=test_size,shuffle=True,random_state=seed)\n",
    "\n",
    "# Cross Validation Splitter\n",
    "cv_folds = 4 # To get approximately same number of samples in validation sets and test set"
   ]
  },
  {
   "cell_type": "markdown",
   "id": "af5a21f4",
   "metadata": {},
   "source": [
    "Lots of hyperparameters to fine-tune, let's use a specialized library : OPTUNA <br>\n",
    "Bayesian Optimization / consecutively narrowing confidence intervals over various parameters of scoring function <br>\n",
    "Logs stored under \"db.sqlite3\" for more details "
   ]
  },
  {
   "cell_type": "code",
   "execution_count": 19,
   "id": "ff01af13",
   "metadata": {},
   "outputs": [
    {
     "name": "stderr",
     "output_type": "stream",
     "text": [
      "[I 2025-10-03 11:40:50,709] A new study created in RDB with name: random_forest_TARGET_5Yrs\n"
     ]
    },
    {
     "name": "stdout",
     "output_type": "stream",
     "text": [
      "Deleted existing study: random_forest_TARGET_5Yrs\n"
     ]
    },
    {
     "name": "stderr",
     "output_type": "stream",
     "text": [
      "[I 2025-10-03 11:40:51,910] Trial 4 finished with value: 0.7508602797306347 and parameters: {'n_estimators': 12, 'min_samples_split': 2, 'min_impurity_decrease': 0.00020082360618540345, 'min_samples_leaf': 13, 'max_depth': 30, 'ccp_alpha': 0.004614970850758251}. Best is trial 4 with value: 0.7508602797306347.\n",
      "[I 2025-10-03 11:40:51,924] Trial 6 finished with value: 0.7481705923385014 and parameters: {'n_estimators': 32, 'min_samples_split': 8, 'min_impurity_decrease': 9.300416093418043e-05, 'min_samples_leaf': 14, 'max_depth': 30, 'ccp_alpha': 0.006508352497746275}. Best is trial 4 with value: 0.7508602797306347.\n",
      "[I 2025-10-03 11:40:52,043] Trial 9 finished with value: 0.7521229947746074 and parameters: {'n_estimators': 38, 'min_samples_split': 22, 'min_impurity_decrease': 2.3989056342044288e-05, 'min_samples_leaf': 19, 'max_depth': 50, 'ccp_alpha': 0.0051610116002784355}. Best is trial 0 with value: 0.7542507621265551.\n",
      "[I 2025-10-03 11:40:52,124] Trial 0 finished with value: 0.7542507621265551 and parameters: {'n_estimators': 14, 'min_samples_split': 17, 'min_impurity_decrease': 0.0001905947429979688, 'min_samples_leaf': 17, 'max_depth': 31, 'ccp_alpha': 0.00816883899228095}. Best is trial 3 with value: 0.754635504028228.\n",
      "[I 2025-10-03 11:40:52,191] Trial 3 finished with value: 0.754635504028228 and parameters: {'n_estimators': 16, 'min_samples_split': 11, 'min_impurity_decrease': 1.125791850983106e-05, 'min_samples_leaf': 3, 'max_depth': 50, 'ccp_alpha': 0.007814766485495941}. Best is trial 3 with value: 0.754635504028228.\n",
      "[I 2025-10-03 11:40:52,296] Trial 1 finished with value: 0.7578169594912394 and parameters: {'n_estimators': 29, 'min_samples_split': 26, 'min_impurity_decrease': 6.231961289314122e-05, 'min_samples_leaf': 2, 'max_depth': 16, 'ccp_alpha': 0.006734633187430133}. Best is trial 1 with value: 0.7578169594912394.\n",
      "[I 2025-10-03 11:40:52,320] Trial 11 finished with value: 0.7581788475416934 and parameters: {'n_estimators': 11, 'min_samples_split': 29, 'min_impurity_decrease': 7.085150322788424e-05, 'min_samples_leaf': 2, 'max_depth': 12, 'ccp_alpha': 0.002651198610148806}. Best is trial 11 with value: 0.7581788475416934.\n",
      "[I 2025-10-03 11:40:52,324] Trial 8 finished with value: 0.7510781066269153 and parameters: {'n_estimators': 36, 'min_samples_split': 3, 'min_impurity_decrease': 1.1449495289597228e-05, 'min_samples_leaf': 11, 'max_depth': 34, 'ccp_alpha': 0.0032771792958870916}. Best is trial 1 with value: 0.7578169594912394.\n",
      "[I 2025-10-03 11:40:52,709] Trial 14 finished with value: 0.7505178631904331 and parameters: {'n_estimators': 50, 'min_samples_split': 19, 'min_impurity_decrease': 0.0004433409432353265, 'min_samples_leaf': 16, 'max_depth': 41, 'ccp_alpha': 0.005872874479572293}. Best is trial 11 with value: 0.7581788475416934.\n",
      "[I 2025-10-03 11:40:52,712] Trial 2 finished with value: 0.7538050867667486 and parameters: {'n_estimators': 8, 'min_samples_split': 29, 'min_impurity_decrease': 5.947662611218365e-05, 'min_samples_leaf': 3, 'max_depth': 26, 'ccp_alpha': 0.0048473129973726405}. Best is trial 11 with value: 0.7581788475416934.\n",
      "[I 2025-10-03 11:40:52,753] Trial 10 finished with value: 0.7496118914206356 and parameters: {'n_estimators': 45, 'min_samples_split': 5, 'min_impurity_decrease': 1.4730056581085538e-05, 'min_samples_leaf': 14, 'max_depth': 7, 'ccp_alpha': 0.009442082461586659}. Best is trial 11 with value: 0.7581788475416934.\n",
      "[I 2025-10-03 11:40:52,879] Trial 20 finished with value: 0.7498474534908791 and parameters: {'n_estimators': 19, 'min_samples_split': 30, 'min_impurity_decrease': 0.0001080481959670822, 'min_samples_leaf': 17, 'max_depth': 45, 'ccp_alpha': 0.009207318052479124}. Best is trial 11 with value: 0.7581788475416934.\n",
      "[I 2025-10-03 11:40:53,175] Trial 17 finished with value: 0.7542134555226379 and parameters: {'n_estimators': 49, 'min_samples_split': 19, 'min_impurity_decrease': 0.000517206826580904, 'min_samples_leaf': 12, 'max_depth': 17, 'ccp_alpha': 0.00961623502475123}. Best is trial 11 with value: 0.7581788475416934.\n",
      "[I 2025-10-03 11:40:53,308] Trial 7 finished with value: 0.7486403160625251 and parameters: {'n_estimators': 26, 'min_samples_split': 15, 'min_impurity_decrease': 0.0001827428699781572, 'min_samples_leaf': 17, 'max_depth': 16, 'ccp_alpha': 0.009360314361755565}. Best is trial 11 with value: 0.7581788475416934.\n",
      "[I 2025-10-03 11:40:53,399] Trial 15 finished with value: 0.7479607607989136 and parameters: {'n_estimators': 8, 'min_samples_split': 10, 'min_impurity_decrease': 0.00012583706564848983, 'min_samples_leaf': 17, 'max_depth': 35, 'ccp_alpha': 0.006988399291919281}. Best is trial 11 with value: 0.7581788475416934.\n",
      "[I 2025-10-03 11:40:53,455] Trial 13 finished with value: 0.7598667940743021 and parameters: {'n_estimators': 50, 'min_samples_split': 22, 'min_impurity_decrease': 1.0333222209362589e-05, 'min_samples_leaf': 1, 'max_depth': 36, 'ccp_alpha': 0.006240205656514289}. Best is trial 13 with value: 0.7598667940743021.\n",
      "[I 2025-10-03 11:40:53,523] Trial 23 finished with value: 0.7609978999734268 and parameters: {'n_estimators': 22, 'min_samples_split': 30, 'min_impurity_decrease': 3.991835018927756e-05, 'min_samples_leaf': 7, 'max_depth': 14, 'ccp_alpha': 0.0018987953943259985}. Best is trial 23 with value: 0.7609978999734268.\n",
      "[I 2025-10-03 11:40:53,536] Trial 12 finished with value: 0.7504126396750272 and parameters: {'n_estimators': 27, 'min_samples_split': 4, 'min_impurity_decrease': 0.0006785392389346411, 'min_samples_leaf': 14, 'max_depth': 14, 'ccp_alpha': 0.008276885085926581}. Best is trial 23 with value: 0.7609978999734268.\n",
      "[I 2025-10-03 11:40:53,682] Trial 5 finished with value: 0.7562418027216335 and parameters: {'n_estimators': 49, 'min_samples_split': 3, 'min_impurity_decrease': 1.4817766940404714e-05, 'min_samples_leaf': 13, 'max_depth': 37, 'ccp_alpha': 0.0032377937457723134}. Best is trial 23 with value: 0.7609978999734268.\n",
      "[I 2025-10-03 11:40:53,739] Trial 18 finished with value: 0.7481175946301395 and parameters: {'n_estimators': 22, 'min_samples_split': 12, 'min_impurity_decrease': 2.760701165463901e-05, 'min_samples_leaf': 20, 'max_depth': 41, 'ccp_alpha': 0.004270829883477487}. Best is trial 23 with value: 0.7609978999734268.\n",
      "[I 2025-10-03 11:40:53,951] Trial 21 finished with value: 0.7581345778310671 and parameters: {'n_estimators': 23, 'min_samples_split': 30, 'min_impurity_decrease': 4.226067483019824e-05, 'min_samples_leaf': 7, 'max_depth': 13, 'ccp_alpha': 0.0018952670331239714}. Best is trial 23 with value: 0.7609978999734268.\n",
      "[I 2025-10-03 11:40:54,051] Trial 19 finished with value: 0.7577287807621115 and parameters: {'n_estimators': 24, 'min_samples_split': 25, 'min_impurity_decrease': 4.352531207280544e-05, 'min_samples_leaf': 7, 'max_depth': 12, 'ccp_alpha': 0.001679724200068909}. Best is trial 23 with value: 0.7609978999734268.\n",
      "[I 2025-10-03 11:40:54,096] Trial 24 finished with value: 0.7603611241779505 and parameters: {'n_estimators': 24, 'min_samples_split': 25, 'min_impurity_decrease': 4.952639476945152e-05, 'min_samples_leaf': 7, 'max_depth': 14, 'ccp_alpha': 0.0010417307572665017}. Best is trial 23 with value: 0.7609978999734268.\n",
      "[I 2025-10-03 11:40:54,431] Trial 26 finished with value: 0.7517351387182233 and parameters: {'n_estimators': 23, 'min_samples_split': 26, 'min_impurity_decrease': 3.1459589554333756e-05, 'min_samples_leaf': 6, 'max_depth': 6, 'ccp_alpha': 0.0011327038133063735}. Best is trial 23 with value: 0.7609978999734268.\n",
      "[I 2025-10-03 11:40:54,458] Trial 22 finished with value: 0.7538572626098885 and parameters: {'n_estimators': 26, 'min_samples_split': 25, 'min_impurity_decrease': 3.831265101037696e-05, 'min_samples_leaf': 7, 'max_depth': 12, 'ccp_alpha': 0.001446002386600523}. Best is trial 23 with value: 0.7609978999734268.\n",
      "[I 2025-10-03 11:40:54,484] Trial 25 finished with value: 0.7561937428404165 and parameters: {'n_estimators': 42, 'min_samples_split': 24, 'min_impurity_decrease': 2.811201661115505e-05, 'min_samples_leaf': 7, 'max_depth': 5, 'ccp_alpha': 0.0011039108693719202}. Best is trial 23 with value: 0.7609978999734268.\n",
      "[I 2025-10-03 11:40:54,549] Trial 31 finished with value: 0.7424385136288236 and parameters: {'n_estimators': 5, 'min_samples_split': 25, 'min_impurity_decrease': 2.9299638852834134e-05, 'min_samples_leaf': 6, 'max_depth': 22, 'ccp_alpha': 0.0011838465875557706}. Best is trial 23 with value: 0.7609978999734268.\n",
      "[I 2025-10-03 11:40:55,086] Trial 16 finished with value: 0.7577982012074518 and parameters: {'n_estimators': 25, 'min_samples_split': 25, 'min_impurity_decrease': 3.788515545899263e-05, 'min_samples_leaf': 7, 'max_depth': 11, 'ccp_alpha': 0.0020207962498966624}. Best is trial 23 with value: 0.7609978999734268.\n",
      "[I 2025-10-03 11:40:55,237] Trial 32 finished with value: 0.7558076428265051 and parameters: {'n_estimators': 22, 'min_samples_split': 24, 'min_impurity_decrease': 3.8074348235420306e-05, 'min_samples_leaf': 7, 'max_depth': 23, 'ccp_alpha': 0.00119041102737879}. Best is trial 23 with value: 0.7609978999734268.\n",
      "[I 2025-10-03 11:40:55,246] Trial 29 finished with value: 0.7532159430781107 and parameters: {'n_estimators': 41, 'min_samples_split': 25, 'min_impurity_decrease': 2.2771220014085448e-05, 'min_samples_leaf': 6, 'max_depth': 23, 'ccp_alpha': 0.0013864938471234449}. Best is trial 23 with value: 0.7609978999734268.\n",
      "[I 2025-10-03 11:40:55,247] Trial 27 finished with value: 0.7565156657936064 and parameters: {'n_estimators': 22, 'min_samples_split': 24, 'min_impurity_decrease': 3.201481263349805e-05, 'min_samples_leaf': 7, 'max_depth': 23, 'ccp_alpha': 0.001150054743519353}. Best is trial 23 with value: 0.7609978999734268.\n",
      "[I 2025-10-03 11:40:55,583] Trial 30 finished with value: 0.7519083235255258 and parameters: {'n_estimators': 38, 'min_samples_split': 25, 'min_impurity_decrease': 2.8888482026145915e-05, 'min_samples_leaf': 8, 'max_depth': 23, 'ccp_alpha': 0.0010173644745232807}. Best is trial 23 with value: 0.7609978999734268.\n",
      "[I 2025-10-03 11:40:55,633] Trial 33 finished with value: 0.7586078827753472 and parameters: {'n_estimators': 40, 'min_samples_split': 22, 'min_impurity_decrease': 1.9174535704352226e-05, 'min_samples_leaf': 9, 'max_depth': 24, 'ccp_alpha': 0.0025378351005996523}. Best is trial 23 with value: 0.7609978999734268.\n",
      "[I 2025-10-03 11:40:55,776] Trial 37 finished with value: 0.7571064114825423 and parameters: {'n_estimators': 31, 'min_samples_split': 22, 'min_impurity_decrease': 1.999044356786986e-05, 'min_samples_leaf': 9, 'max_depth': 21, 'ccp_alpha': 0.002556259803013928}. Best is trial 23 with value: 0.7609978999734268.\n",
      "[I 2025-10-03 11:40:55,866] Trial 28 finished with value: 0.7501237377552475 and parameters: {'n_estimators': 18, 'min_samples_split': 22, 'min_impurity_decrease': 2.0268089667515227e-05, 'min_samples_leaf': 9, 'max_depth': 21, 'ccp_alpha': 0.0025603395863640407}. Best is trial 23 with value: 0.7609978999734268.\n",
      "[I 2025-10-03 11:40:55,939] Trial 34 finished with value: 0.7509756156703293 and parameters: {'n_estimators': 32, 'min_samples_split': 21, 'min_impurity_decrease': 0.00030685205031464534, 'min_samples_leaf': 9, 'max_depth': 23, 'ccp_alpha': 0.0022220493211733247}. Best is trial 23 with value: 0.7609978999734268.\n",
      "[I 2025-10-03 11:40:56,052] Trial 39 finished with value: 0.7548396773979014 and parameters: {'n_estimators': 32, 'min_samples_split': 22, 'min_impurity_decrease': 1.9738932771288956e-05, 'min_samples_leaf': 9, 'max_depth': 22, 'ccp_alpha': 0.0023034162590511056}. Best is trial 23 with value: 0.7609978999734268.\n",
      "[I 2025-10-03 11:40:56,115] Trial 35 finished with value: 0.7545309788929315 and parameters: {'n_estimators': 31, 'min_samples_split': 22, 'min_impurity_decrease': 2.1774667124050706e-05, 'min_samples_leaf': 9, 'max_depth': 22, 'ccp_alpha': 0.002405726267320194}. Best is trial 23 with value: 0.7609978999734268.\n",
      "[I 2025-10-03 11:40:56,283] Trial 36 finished with value: 0.7546258663493899 and parameters: {'n_estimators': 31, 'min_samples_split': 21, 'min_impurity_decrease': 2.110213967157136e-05, 'min_samples_leaf': 9, 'max_depth': 22, 'ccp_alpha': 0.004005574481444701}. Best is trial 23 with value: 0.7609978999734268.\n",
      "[I 2025-10-03 11:40:56,296] Trial 43 finished with value: 0.7596149901224696 and parameters: {'n_estimators': 16, 'min_samples_split': 28, 'min_impurity_decrease': 7.60348106852687e-05, 'min_samples_leaf': 1, 'max_depth': 20, 'ccp_alpha': 0.002725763358342677}. Best is trial 23 with value: 0.7609978999734268.\n",
      "[I 2025-10-03 11:40:56,338] Trial 40 finished with value: 0.749540960313909 and parameters: {'n_estimators': 31, 'min_samples_split': 21, 'min_impurity_decrease': 1.858917578800354e-05, 'min_samples_leaf': 9, 'max_depth': 19, 'ccp_alpha': 0.0039012175313542573}. Best is trial 23 with value: 0.7609978999734268.\n",
      "[I 2025-10-03 11:40:56,421] Trial 41 finished with value: 0.7420450854154298 and parameters: {'n_estimators': 18, 'min_samples_split': 21, 'min_impurity_decrease': 0.00026900699814060773, 'min_samples_leaf': 9, 'max_depth': 21, 'ccp_alpha': 0.004012666422671751}. Best is trial 23 with value: 0.7609978999734268.\n",
      "[I 2025-10-03 11:40:56,599] Trial 38 finished with value: 0.7544039616381895 and parameters: {'n_estimators': 15, 'min_samples_split': 28, 'min_impurity_decrease': 6.059850296617068e-05, 'min_samples_leaf': 4, 'max_depth': 9, 'ccp_alpha': 0.002565299389975292}. Best is trial 23 with value: 0.7609978999734268.\n",
      "[I 2025-10-03 11:40:57,259] Trial 54 finished with value: 0.7560794290745168 and parameters: {'n_estimators': 14, 'min_samples_split': 28, 'min_impurity_decrease': 6.0395968565968254e-05, 'min_samples_leaf': 4, 'max_depth': 26, 'ccp_alpha': 0.0031263406144432532}. Best is trial 23 with value: 0.7609978999734268.\n",
      "[I 2025-10-03 11:40:57,348] Trial 42 finished with value: 0.7649515803099294 and parameters: {'n_estimators': 32, 'min_samples_split': 28, 'min_impurity_decrease': 6.0839805297506865e-05, 'min_samples_leaf': 4, 'max_depth': 19, 'ccp_alpha': 0.00380455545636528}. Best is trial 42 with value: 0.7649515803099294.\n",
      "[I 2025-10-03 11:40:57,376] Trial 48 finished with value: 0.7539566945642936 and parameters: {'n_estimators': 13, 'min_samples_split': 27, 'min_impurity_decrease': 6.111105673882167e-05, 'min_samples_leaf': 4, 'max_depth': 27, 'ccp_alpha': 0.0030640570580077117}. Best is trial 42 with value: 0.7649515803099294.\n",
      "[I 2025-10-03 11:40:57,423] Trial 47 finished with value: 0.7635469370938219 and parameters: {'n_estimators': 46, 'min_samples_split': 28, 'min_impurity_decrease': 5.989218030624631e-05, 'min_samples_leaf': 4, 'max_depth': 26, 'ccp_alpha': 0.0038302331120867415}. Best is trial 42 with value: 0.7649515803099294.\n",
      "[I 2025-10-03 11:40:57,437] Trial 50 finished with value: 0.7620789709331909 and parameters: {'n_estimators': 46, 'min_samples_split': 27, 'min_impurity_decrease': 1.0103685135661795e-05, 'min_samples_leaf': 4, 'max_depth': 27, 'ccp_alpha': 0.003691257424230734}. Best is trial 42 with value: 0.7649515803099294.\n",
      "[I 2025-10-03 11:40:57,530] Trial 46 finished with value: 0.7592620112831814 and parameters: {'n_estimators': 45, 'min_samples_split': 27, 'min_impurity_decrease': 1.005260602609876e-05, 'min_samples_leaf': 4, 'max_depth': 26, 'ccp_alpha': 0.003776195301903788}. Best is trial 42 with value: 0.7649515803099294.\n",
      "[I 2025-10-03 11:40:58,184] Trial 52 finished with value: 0.756373720866777 and parameters: {'n_estimators': 15, 'min_samples_split': 28, 'min_impurity_decrease': 5.7443619867111394e-05, 'min_samples_leaf': 4, 'max_depth': 27, 'ccp_alpha': 0.003141624995661046}. Best is trial 42 with value: 0.7649515803099294.\n",
      "[I 2025-10-03 11:40:58,539] Trial 53 finished with value: 0.7636127837330249 and parameters: {'n_estimators': 46, 'min_samples_split': 28, 'min_impurity_decrease': 5.648251009055508e-05, 'min_samples_leaf': 3, 'max_depth': 18, 'ccp_alpha': 0.0034444033673705805}. Best is trial 42 with value: 0.7649515803099294.\n",
      "[I 2025-10-03 11:40:58,681] Trial 51 finished with value: 0.7626834631993503 and parameters: {'n_estimators': 46, 'min_samples_split': 28, 'min_impurity_decrease': 1.2872338864543632e-05, 'min_samples_leaf': 1, 'max_depth': 28, 'ccp_alpha': 0.003277132687674978}. Best is trial 42 with value: 0.7649515803099294.\n",
      "[I 2025-10-03 11:40:58,749] Trial 59 finished with value: 0.7534612309909999 and parameters: {'n_estimators': 20, 'min_samples_split': 27, 'min_impurity_decrease': 7.738891161718319e-05, 'min_samples_leaf': 1, 'max_depth': 17, 'ccp_alpha': 0.005506197906975162}. Best is trial 42 with value: 0.7649515803099294.\n",
      "[I 2025-10-03 11:40:59,063] Trial 49 finished with value: 0.7634587358673982 and parameters: {'n_estimators': 45, 'min_samples_split': 28, 'min_impurity_decrease': 1.0249790522272244e-05, 'min_samples_leaf': 4, 'max_depth': 30, 'ccp_alpha': 0.0033785079521081876}. Best is trial 42 with value: 0.7649515803099294.\n",
      "[I 2025-10-03 11:40:59,115] Trial 58 finished with value: 0.7620061631666835 and parameters: {'n_estimators': 46, 'min_samples_split': 28, 'min_impurity_decrease': 1.0194465871187172e-05, 'min_samples_leaf': 1, 'max_depth': 27, 'ccp_alpha': 0.0033430588866119127}. Best is trial 42 with value: 0.7649515803099294.\n",
      "[I 2025-10-03 11:40:59,308] Trial 60 finished with value: 0.7572054268257238 and parameters: {'n_estimators': 46, 'min_samples_split': 27, 'min_impurity_decrease': 4.786359363631151e-05, 'min_samples_leaf': 5, 'max_depth': 30, 'ccp_alpha': 0.005031287941615279}. Best is trial 42 with value: 0.7649515803099294.\n",
      "[I 2025-10-03 11:40:59,383] Trial 57 finished with value: 0.7533331101652495 and parameters: {'n_estimators': 47, 'min_samples_split': 30, 'min_impurity_decrease': 0.00014158741562312894, 'min_samples_leaf': 3, 'max_depth': 30, 'ccp_alpha': 0.004949724337052799}. Best is trial 42 with value: 0.7649515803099294.\n",
      "[I 2025-10-03 11:40:59,392] Trial 62 finished with value: 0.7529991543791956 and parameters: {'n_estimators': 46, 'min_samples_split': 30, 'min_impurity_decrease': 4.981935150575698e-05, 'min_samples_leaf': 3, 'max_depth': 29, 'ccp_alpha': 0.00515626982923725}. Best is trial 42 with value: 0.7649515803099294.\n",
      "[I 2025-10-03 11:40:59,395] Trial 56 finished with value: 0.7636476226164364 and parameters: {'n_estimators': 47, 'min_samples_split': 28, 'min_impurity_decrease': 7.810040933423617e-05, 'min_samples_leaf': 1, 'max_depth': 30, 'ccp_alpha': 0.0031256543991517935}. Best is trial 42 with value: 0.7649515803099294.\n",
      "[I 2025-10-03 11:40:59,622] Trial 45 finished with value: 0.7526487291102892 and parameters: {'n_estimators': 47, 'min_samples_split': 15, 'min_impurity_decrease': 1.0839464378453172e-05, 'min_samples_leaf': 1, 'max_depth': 28, 'ccp_alpha': 0.0031840756603282888}. Best is trial 42 with value: 0.7649515803099294.\n",
      "[I 2025-10-03 11:40:59,674] Trial 61 finished with value: 0.7510829197243178 and parameters: {'n_estimators': 46, 'min_samples_split': 30, 'min_impurity_decrease': 0.00015106761900581943, 'min_samples_leaf': 3, 'max_depth': 30, 'ccp_alpha': 0.004868485270294851}. Best is trial 42 with value: 0.7649515803099294.\n",
      "[I 2025-10-03 11:41:00,363] Trial 44 finished with value: 0.7547780399076442 and parameters: {'n_estimators': 46, 'min_samples_split': 30, 'min_impurity_decrease': 0.00013982939717116228, 'min_samples_leaf': 3, 'max_depth': 31, 'ccp_alpha': 0.005280858747601357}. Best is trial 42 with value: 0.7649515803099294.\n",
      "[I 2025-10-03 11:41:00,642] Trial 66 finished with value: 0.7498952669161453 and parameters: {'n_estimators': 47, 'min_samples_split': 30, 'min_impurity_decrease': 0.00014409612441976653, 'min_samples_leaf': 2, 'max_depth': 31, 'ccp_alpha': 0.004798003293477281}. Best is trial 42 with value: 0.7649515803099294.\n",
      "[I 2025-10-03 11:41:00,799] Trial 55 finished with value: 0.7498952669161453 and parameters: {'n_estimators': 47, 'min_samples_split': 30, 'min_impurity_decrease': 1.3494966257893176e-05, 'min_samples_leaf': 2, 'max_depth': 32, 'ccp_alpha': 0.004788597358637646}. Best is trial 42 with value: 0.7649515803099294.\n",
      "[I 2025-10-03 11:41:01,226] Trial 69 finished with value: 0.7477710796936202 and parameters: {'n_estimators': 46, 'min_samples_split': 30, 'min_impurity_decrease': 1.5314863358287327e-05, 'min_samples_leaf': 2, 'max_depth': 32, 'ccp_alpha': 0.004839535020989135}. Best is trial 42 with value: 0.7649515803099294.\n",
      "[I 2025-10-03 11:41:01,229] Trial 64 finished with value: 0.7510829197243178 and parameters: {'n_estimators': 46, 'min_samples_split': 30, 'min_impurity_decrease': 0.0001535783202158242, 'min_samples_leaf': 3, 'max_depth': 32, 'ccp_alpha': 0.004863676280538962}. Best is trial 42 with value: 0.7649515803099294.\n",
      "[I 2025-10-03 11:41:01,634] Trial 71 finished with value: 0.7499543738669883 and parameters: {'n_estimators': 43, 'min_samples_split': 15, 'min_impurity_decrease': 1.30944894125427e-05, 'min_samples_leaf': 2, 'max_depth': 33, 'ccp_alpha': 0.004386993007311813}. Best is trial 42 with value: 0.7649515803099294.\n",
      "[I 2025-10-03 11:41:01,783] Trial 63 finished with value: 0.7580096597423762 and parameters: {'n_estimators': 49, 'min_samples_split': 29, 'min_impurity_decrease': 1.34101893981165e-05, 'min_samples_leaf': 2, 'max_depth': 38, 'ccp_alpha': 0.004562861088518244}. Best is trial 42 with value: 0.7649515803099294.\n",
      "[I 2025-10-03 11:41:01,824] Trial 74 finished with value: 0.7551664687123196 and parameters: {'n_estimators': 43, 'min_samples_split': 29, 'min_impurity_decrease': 1.3908003319982936e-05, 'min_samples_leaf': 2, 'max_depth': 33, 'ccp_alpha': 0.004492197200590821}. Best is trial 42 with value: 0.7649515803099294.\n",
      "[I 2025-10-03 11:41:01,887] Trial 65 finished with value: 0.7529734846202174 and parameters: {'n_estimators': 47, 'min_samples_split': 30, 'min_impurity_decrease': 8.659829511024975e-05, 'min_samples_leaf': 3, 'max_depth': 32, 'ccp_alpha': 0.004745442576053966}. Best is trial 42 with value: 0.7649515803099294.\n",
      "[I 2025-10-03 11:41:02,517] Trial 75 finished with value: 0.7520514338336493 and parameters: {'n_estimators': 44, 'min_samples_split': 29, 'min_impurity_decrease': 1.3594916053918195e-05, 'min_samples_leaf': 2, 'max_depth': 33, 'ccp_alpha': 0.004364540654100238}. Best is trial 42 with value: 0.7649515803099294.\n",
      "[I 2025-10-03 11:41:02,605] Trial 68 finished with value: 0.7551664687123196 and parameters: {'n_estimators': 43, 'min_samples_split': 29, 'min_impurity_decrease': 1.3103038023063725e-05, 'min_samples_leaf': 2, 'max_depth': 33, 'ccp_alpha': 0.004466122111371831}. Best is trial 42 with value: 0.7649515803099294.\n",
      "[I 2025-10-03 11:41:02,622] Trial 67 finished with value: 0.7485096462988995 and parameters: {'n_estimators': 46, 'min_samples_split': 30, 'min_impurity_decrease': 1.3817108046649468e-05, 'min_samples_leaf': 2, 'max_depth': 30, 'ccp_alpha': 0.004776599578957538}. Best is trial 42 with value: 0.7649515803099294.\n",
      "[I 2025-10-03 11:41:02,700] Trial 73 finished with value: 0.7556934893089486 and parameters: {'n_estimators': 43, 'min_samples_split': 29, 'min_impurity_decrease': 1.3877404341023572e-05, 'min_samples_leaf': 2, 'max_depth': 33, 'ccp_alpha': 0.004544929681397934}. Best is trial 42 with value: 0.7649515803099294.\n",
      "[I 2025-10-03 11:41:02,827] Trial 72 finished with value: 0.7526636633115763 and parameters: {'n_estimators': 43, 'min_samples_split': 29, 'min_impurity_decrease': 1.3663586999241189e-05, 'min_samples_leaf': 2, 'max_depth': 33, 'ccp_alpha': 0.0036229625985827914}. Best is trial 42 with value: 0.7649515803099294.\n",
      "[I 2025-10-03 11:41:02,877] Trial 70 finished with value: 0.7543073383045804 and parameters: {'n_estimators': 43, 'min_samples_split': 26, 'min_impurity_decrease': 1.3114922028573686e-05, 'min_samples_leaf': 2, 'max_depth': 32, 'ccp_alpha': 0.004531080604886965}. Best is trial 42 with value: 0.7649515803099294.\n",
      "[I 2025-10-03 11:41:03,027] Trial 81 finished with value: 0.7562588847938938 and parameters: {'n_estimators': 43, 'min_samples_split': 26, 'min_impurity_decrease': 1.5269374429159186e-05, 'min_samples_leaf': 5, 'max_depth': 34, 'ccp_alpha': 0.0036759333968729904}. Best is trial 42 with value: 0.7649515803099294.\n",
      "[I 2025-10-03 11:41:03,031] Trial 77 finished with value: 0.7560530951962073 and parameters: {'n_estimators': 43, 'min_samples_split': 26, 'min_impurity_decrease': 9.164029293982916e-05, 'min_samples_leaf': 5, 'max_depth': 39, 'ccp_alpha': 0.004343444552154601}. Best is trial 42 with value: 0.7649515803099294.\n",
      "[I 2025-10-03 11:41:03,052] Trial 78 finished with value: 0.7542872269988525 and parameters: {'n_estimators': 43, 'min_samples_split': 29, 'min_impurity_decrease': 9.61987657162379e-05, 'min_samples_leaf': 2, 'max_depth': 32, 'ccp_alpha': 0.00445464089609453}. Best is trial 42 with value: 0.7649515803099294.\n",
      "[I 2025-10-03 11:41:03,153] Trial 79 finished with value: 0.7515878076640188 and parameters: {'n_estimators': 43, 'min_samples_split': 29, 'min_impurity_decrease': 1.3356924350503985e-05, 'min_samples_leaf': 2, 'max_depth': 34, 'ccp_alpha': 0.003577397655261812}. Best is trial 42 with value: 0.7649515803099294.\n",
      "[I 2025-10-03 11:41:03,264] Trial 82 finished with value: 0.7589792426048837 and parameters: {'n_estimators': 49, 'min_samples_split': 26, 'min_impurity_decrease': 9.125370526680762e-05, 'min_samples_leaf': 5, 'max_depth': 36, 'ccp_alpha': 0.003638869306837224}. Best is trial 42 with value: 0.7649515803099294.\n",
      "[I 2025-10-03 11:41:03,415] Trial 83 finished with value: 0.7548166942066696 and parameters: {'n_estimators': 44, 'min_samples_split': 26, 'min_impurity_decrease': 0.0001056171994055888, 'min_samples_leaf': 5, 'max_depth': 25, 'ccp_alpha': 0.0035469426392818514}. Best is trial 42 with value: 0.7649515803099294.\n",
      "[I 2025-10-03 11:41:04,053] Trial 85 finished with value: 0.7564349931675736 and parameters: {'n_estimators': 44, 'min_samples_split': 26, 'min_impurity_decrease': 0.00010504525497948529, 'min_samples_leaf': 5, 'max_depth': 25, 'ccp_alpha': 0.0034530544935306253}. Best is trial 42 with value: 0.7649515803099294.\n",
      "[I 2025-10-03 11:41:04,161] Trial 87 finished with value: 0.7550958824636672 and parameters: {'n_estimators': 39, 'min_samples_split': 26, 'min_impurity_decrease': 0.00010734432039071275, 'min_samples_leaf': 5, 'max_depth': 25, 'ccp_alpha': 0.0034792469172730727}. Best is trial 42 with value: 0.7649515803099294.\n",
      "[I 2025-10-03 11:41:04,190] Trial 76 finished with value: 0.75378179904064 and parameters: {'n_estimators': 50, 'min_samples_split': 26, 'min_impurity_decrease': 0.00011274165021199863, 'min_samples_leaf': 5, 'max_depth': 25, 'ccp_alpha': 0.0035481618900792796}. Best is trial 42 with value: 0.7649515803099294.\n",
      "[I 2025-10-03 11:41:04,345] Trial 84 finished with value: 0.7552811039679107 and parameters: {'n_estimators': 40, 'min_samples_split': 27, 'min_impurity_decrease': 1.1663371688342315e-05, 'min_samples_leaf': 5, 'max_depth': 25, 'ccp_alpha': 0.0037065391445267972}. Best is trial 42 with value: 0.7649515803099294.\n",
      "[I 2025-10-03 11:41:04,801] Trial 80 finished with value: 0.75466848317095 and parameters: {'n_estimators': 36, 'min_samples_split': 26, 'min_impurity_decrease': 0.00010159580097105076, 'min_samples_leaf': 5, 'max_depth': 25, 'ccp_alpha': 0.003559693197495474}. Best is trial 42 with value: 0.7649515803099294.\n",
      "[I 2025-10-03 11:41:04,983] Trial 90 finished with value: 0.7593049045621474 and parameters: {'n_estimators': 35, 'min_samples_split': 28, 'min_impurity_decrease': 0.00011380452944927335, 'min_samples_leaf': 1, 'max_depth': 25, 'ccp_alpha': 0.0028659591400088807}. Best is trial 42 with value: 0.7649515803099294.\n",
      "[I 2025-10-03 11:41:04,984] Trial 92 finished with value: 0.7561095377937034 and parameters: {'n_estimators': 39, 'min_samples_split': 28, 'min_impurity_decrease': 1.6675862407388546e-05, 'min_samples_leaf': 1, 'max_depth': 15, 'ccp_alpha': 0.0028850621157542346}. Best is trial 42 with value: 0.7649515803099294.\n",
      "[I 2025-10-03 11:41:04,986] Trial 88 finished with value: 0.757555809867607 and parameters: {'n_estimators': 40, 'min_samples_split': 28, 'min_impurity_decrease': 1.1408642286475546e-05, 'min_samples_leaf': 1, 'max_depth': 15, 'ccp_alpha': 0.004077762705119083}. Best is trial 42 with value: 0.7649515803099294.\n",
      "[I 2025-10-03 11:41:05,085] Trial 86 finished with value: 0.7596644256437558 and parameters: {'n_estimators': 40, 'min_samples_split': 28, 'min_impurity_decrease': 1.1658006040375195e-05, 'min_samples_leaf': 1, 'max_depth': 18, 'ccp_alpha': 0.0028821736249615344}. Best is trial 42 with value: 0.7649515803099294.\n",
      "[I 2025-10-03 11:41:05,259] Trial 91 finished with value: 0.7569497748135847 and parameters: {'n_estimators': 39, 'min_samples_split': 28, 'min_impurity_decrease': 6.989312859758468e-05, 'min_samples_leaf': 1, 'max_depth': 16, 'ccp_alpha': 0.0027781933972304807}. Best is trial 42 with value: 0.7649515803099294.\n",
      "[I 2025-10-03 11:41:05,462] Trial 93 finished with value: 0.7585762277763183 and parameters: {'n_estimators': 40, 'min_samples_split': 28, 'min_impurity_decrease': 1.6989140287863794e-05, 'min_samples_leaf': 1, 'max_depth': 15, 'ccp_alpha': 0.0028782029609460717}. Best is trial 42 with value: 0.7649515803099294.\n",
      "[I 2025-10-03 11:41:05,481] Trial 94 finished with value: 0.756595935770694 and parameters: {'n_estimators': 39, 'min_samples_split': 28, 'min_impurity_decrease': 1.7016561922589366e-05, 'min_samples_leaf': 1, 'max_depth': 16, 'ccp_alpha': 0.0028702682929691043}. Best is trial 42 with value: 0.7649515803099294.\n",
      "[I 2025-10-03 11:41:05,627] Trial 99 finished with value: 0.7573453259735772 and parameters: {'n_estimators': 34, 'min_samples_split': 28, 'min_impurity_decrease': 1.6940845515993456e-05, 'min_samples_leaf': 1, 'max_depth': 15, 'ccp_alpha': 0.0029102541542531486}. Best is trial 42 with value: 0.7649515803099294.\n",
      "[I 2025-10-03 11:41:06,172] Trial 97 finished with value: 0.7609372719856177 and parameters: {'n_estimators': 35, 'min_samples_split': 28, 'min_impurity_decrease': 6.911075931939543e-05, 'min_samples_leaf': 1, 'max_depth': 17, 'ccp_alpha': 0.002853835436796007}. Best is trial 42 with value: 0.7649515803099294.\n",
      "[I 2025-10-03 11:41:06,238] Trial 89 finished with value: 0.7596975629403413 and parameters: {'n_estimators': 41, 'min_samples_split': 28, 'min_impurity_decrease': 7.011978821485832e-05, 'min_samples_leaf': 1, 'max_depth': 15, 'ccp_alpha': 0.0029410695240555213}. Best is trial 42 with value: 0.7649515803099294.\n",
      "[I 2025-10-03 11:41:06,742] Trial 102 finished with value: 0.7574223723875103 and parameters: {'n_estimators': 28, 'min_samples_split': 7, 'min_impurity_decrease': 4.856089021111725e-05, 'min_samples_leaf': 6, 'max_depth': 10, 'ccp_alpha': 0.0018541062609819382}. Best is trial 42 with value: 0.7649515803099294.\n",
      "[I 2025-10-03 11:41:06,796] Trial 95 finished with value: 0.7527183460396079 and parameters: {'n_estimators': 28, 'min_samples_split': 28, 'min_impurity_decrease': 1.7448858662037513e-05, 'min_samples_leaf': 1, 'max_depth': 15, 'ccp_alpha': 0.002875285560511513}. Best is trial 42 with value: 0.7649515803099294.\n",
      "[I 2025-10-03 11:41:06,797] Trial 107 finished with value: 0.7516532304783793 and parameters: {'n_estimators': 28, 'min_samples_split': 24, 'min_impurity_decrease': 5.2275930261034007e-05, 'min_samples_leaf': 6, 'max_depth': 28, 'ccp_alpha': 0.0018279581564211692}. Best is trial 42 with value: 0.7649515803099294.\n",
      "[I 2025-10-03 11:41:07,053] Trial 98 finished with value: 0.7630998811409995 and parameters: {'n_estimators': 48, 'min_samples_split': 28, 'min_impurity_decrease': 1.7325508358177525e-05, 'min_samples_leaf': 1, 'max_depth': 15, 'ccp_alpha': 0.0029458351046408133}. Best is trial 42 with value: 0.7649515803099294.\n",
      "[I 2025-10-03 11:41:07,087] Trial 101 finished with value: 0.7512236743231087 and parameters: {'n_estimators': 29, 'min_samples_split': 23, 'min_impurity_decrease': 5.0854745886699794e-05, 'min_samples_leaf': 11, 'max_depth': 28, 'ccp_alpha': 0.0022113437248747914}. Best is trial 42 with value: 0.7649515803099294.\n",
      "[I 2025-10-03 11:41:07,132] Trial 100 finished with value: 0.7500529857855225 and parameters: {'n_estimators': 48, 'min_samples_split': 24, 'min_impurity_decrease': 6.884047704204513e-05, 'min_samples_leaf': 6, 'max_depth': 9, 'ccp_alpha': 0.0017668686228130776}. Best is trial 42 with value: 0.7649515803099294.\n",
      "[I 2025-10-03 11:41:07,432] Trial 104 finished with value: 0.7517538980700464 and parameters: {'n_estimators': 28, 'min_samples_split': 7, 'min_impurity_decrease': 5.462393136687761e-05, 'min_samples_leaf': 6, 'max_depth': 28, 'ccp_alpha': 0.0020416424070739307}. Best is trial 42 with value: 0.7649515803099294.\n",
      "[I 2025-10-03 11:41:07,531] Trial 106 finished with value: 0.7516720301566339 and parameters: {'n_estimators': 29, 'min_samples_split': 23, 'min_impurity_decrease': 4.850612698302331e-05, 'min_samples_leaf': 11, 'max_depth': 10, 'ccp_alpha': 0.001571339268669294}. Best is trial 42 with value: 0.7649515803099294.\n",
      "[I 2025-10-03 11:41:07,676] Trial 96 finished with value: 0.7534697543079798 and parameters: {'n_estimators': 27, 'min_samples_split': 27, 'min_impurity_decrease': 5.408906283521036e-05, 'min_samples_leaf': 11, 'max_depth': 28, 'ccp_alpha': 0.003339490582192603}. Best is trial 42 with value: 0.7649515803099294.\n",
      "[I 2025-10-03 11:41:07,777] Trial 103 finished with value: 0.7509954155587061 and parameters: {'n_estimators': 48, 'min_samples_split': 24, 'min_impurity_decrease': 5.1639230700557865e-05, 'min_samples_leaf': 6, 'max_depth': 19, 'ccp_alpha': 0.002084771760878675}. Best is trial 42 with value: 0.7649515803099294.\n",
      "[I 2025-10-03 11:41:07,880] Trial 108 finished with value: 0.7521831362630256 and parameters: {'n_estimators': 28, 'min_samples_split': 24, 'min_impurity_decrease': 5.378189358708643e-05, 'min_samples_leaf': 10, 'max_depth': 13, 'ccp_alpha': 0.0019215562189169326}. Best is trial 42 with value: 0.7649515803099294.\n",
      "[I 2025-10-03 11:41:07,921] Trial 114 finished with value: 0.7517833350181401 and parameters: {'n_estimators': 48, 'min_samples_split': 12, 'min_impurity_decrease': 5.511968242153736e-05, 'min_samples_leaf': 11, 'max_depth': 28, 'ccp_alpha': 0.00202730232830244}. Best is trial 42 with value: 0.7649515803099294.\n",
      "[I 2025-10-03 11:41:08,070] Trial 112 finished with value: 0.7608850664253034 and parameters: {'n_estimators': 48, 'min_samples_split': 6, 'min_impurity_decrease': 4.633993975152783e-05, 'min_samples_leaf': 6, 'max_depth': 28, 'ccp_alpha': 0.0017990110103369692}. Best is trial 42 with value: 0.7649515803099294.\n",
      "[I 2025-10-03 11:41:08,091] Trial 110 finished with value: 0.7620279784722593 and parameters: {'n_estimators': 49, 'min_samples_split': 24, 'min_impurity_decrease': 3.45370427615766e-05, 'min_samples_leaf': 4, 'max_depth': 28, 'ccp_alpha': 0.002107768235612229}. Best is trial 42 with value: 0.7649515803099294.\n",
      "[I 2025-10-03 11:41:08,425] Trial 111 finished with value: 0.7643341916538632 and parameters: {'n_estimators': 27, 'min_samples_split': 24, 'min_impurity_decrease': 5.4850837194190504e-05, 'min_samples_leaf': 4, 'max_depth': 28, 'ccp_alpha': 0.0033071960814425646}. Best is trial 42 with value: 0.7649515803099294.\n",
      "[I 2025-10-03 11:41:08,465] Trial 109 finished with value: 0.7413428053577202 and parameters: {'n_estimators': 28, 'min_samples_split': 17, 'min_impurity_decrease': 5.542952795078695e-05, 'min_samples_leaf': 6, 'max_depth': 28, 'ccp_alpha': 0.0032687948828149524}. Best is trial 42 with value: 0.7649515803099294.\n",
      "[I 2025-10-03 11:41:08,701] Trial 117 finished with value: 0.7601396072918866 and parameters: {'n_estimators': 48, 'min_samples_split': 27, 'min_impurity_decrease': 1.023242623486399e-05, 'min_samples_leaf': 4, 'max_depth': 19, 'ccp_alpha': 0.003331688675033291}. Best is trial 42 with value: 0.7649515803099294.\n",
      "[I 2025-10-03 11:41:08,714] Trial 113 finished with value: 0.7641422775205621 and parameters: {'n_estimators': 48, 'min_samples_split': 24, 'min_impurity_decrease': 5.5077799451977974e-05, 'min_samples_leaf': 4, 'max_depth': 28, 'ccp_alpha': 0.0033177823630732304}. Best is trial 42 with value: 0.7649515803099294.\n",
      "[I 2025-10-03 11:41:09,027] Trial 105 finished with value: 0.7538063805293922 and parameters: {'n_estimators': 48, 'min_samples_split': 23, 'min_impurity_decrease': 2.5325585055792918e-05, 'min_samples_leaf': 4, 'max_depth': 19, 'ccp_alpha': 0.003274696258859243}. Best is trial 42 with value: 0.7649515803099294.\n",
      "[I 2025-10-03 11:41:09,348] Trial 115 finished with value: 0.747095430438995 and parameters: {'n_estimators': 48, 'min_samples_split': 18, 'min_impurity_decrease': 2.5384471357082675e-05, 'min_samples_leaf': 4, 'max_depth': 17, 'ccp_alpha': 0.0033188759551372425}. Best is trial 42 with value: 0.7649515803099294.\n",
      "[I 2025-10-03 11:41:09,403] Trial 123 finished with value: 0.7592894711351549 and parameters: {'n_estimators': 45, 'min_samples_split': 27, 'min_impurity_decrease': 4.023666495486059e-05, 'min_samples_leaf': 4, 'max_depth': 17, 'ccp_alpha': 0.004180491012892243}. Best is trial 42 with value: 0.7649515803099294.\n",
      "[I 2025-10-03 11:41:09,972] Trial 118 finished with value: 0.7589201147920296 and parameters: {'n_estimators': 50, 'min_samples_split': 27, 'min_impurity_decrease': 4.330400073208394e-05, 'min_samples_leaf': 4, 'max_depth': 20, 'ccp_alpha': 0.0033191739374502016}. Best is trial 42 with value: 0.7649515803099294.\n",
      "[I 2025-10-03 11:41:10,144] Trial 116 finished with value: 0.760564501819143 and parameters: {'n_estimators': 45, 'min_samples_split': 27, 'min_impurity_decrease': 4.2730697438136444e-05, 'min_samples_leaf': 4, 'max_depth': 13, 'ccp_alpha': 0.003264039079902025}. Best is trial 42 with value: 0.7649515803099294.\n",
      "[I 2025-10-03 11:41:10,472] Trial 120 finished with value: 0.7631421525754797 and parameters: {'n_estimators': 45, 'min_samples_split': 27, 'min_impurity_decrease': 2.502778673389754e-05, 'min_samples_leaf': 4, 'max_depth': 17, 'ccp_alpha': 0.0033198328816275743}. Best is trial 42 with value: 0.7649515803099294.\n",
      "[I 2025-10-03 11:41:11,125] Trial 121 finished with value: 0.7616728097144279 and parameters: {'n_estimators': 45, 'min_samples_split': 20, 'min_impurity_decrease': 3.51569284614011e-05, 'min_samples_leaf': 4, 'max_depth': 26, 'ccp_alpha': 0.0023999026216407534}. Best is trial 42 with value: 0.7649515803099294.\n",
      "[I 2025-10-03 11:41:11,197] Trial 126 finished with value: 0.7514201185821752 and parameters: {'n_estimators': 45, 'min_samples_split': 19, 'min_impurity_decrease': 8.125414867024562e-05, 'min_samples_leaf': 4, 'max_depth': 18, 'ccp_alpha': 0.0024242421522979816}. Best is trial 42 with value: 0.7649515803099294.\n",
      "[I 2025-10-03 11:41:11,212] Trial 119 finished with value: 0.7624754634519162 and parameters: {'n_estimators': 45, 'min_samples_split': 27, 'min_impurity_decrease': 4.1945947928976706e-05, 'min_samples_leaf': 4, 'max_depth': 18, 'ccp_alpha': 0.003284500707284332}. Best is trial 42 with value: 0.7649515803099294.\n",
      "[I 2025-10-03 11:41:11,355] Trial 131 finished with value: 0.7612020557049608 and parameters: {'n_estimators': 45, 'min_samples_split': 25, 'min_impurity_decrease': 3.43439194288969e-05, 'min_samples_leaf': 4, 'max_depth': 29, 'ccp_alpha': 0.004110456938775189}. Best is trial 42 with value: 0.7649515803099294.\n",
      "[I 2025-10-03 11:41:11,361] Trial 125 finished with value: 0.7610029984816207 and parameters: {'n_estimators': 50, 'min_samples_split': 20, 'min_impurity_decrease': 3.631691990785841e-05, 'min_samples_leaf': 4, 'max_depth': 29, 'ccp_alpha': 0.003914892257890926}. Best is trial 42 with value: 0.7649515803099294.\n",
      "[I 2025-10-03 11:41:11,442] Trial 122 finished with value: 0.7511305856435787 and parameters: {'n_estimators': 45, 'min_samples_split': 18, 'min_impurity_decrease': 3.293032279505123e-05, 'min_samples_leaf': 4, 'max_depth': 13, 'ccp_alpha': 0.003266441150253243}. Best is trial 42 with value: 0.7649515803099294.\n",
      "[I 2025-10-03 11:41:11,509] Trial 124 finished with value: 0.7552063458300382 and parameters: {'n_estimators': 45, 'min_samples_split': 25, 'min_impurity_decrease': 8.173906785788534e-05, 'min_samples_leaf': 3, 'max_depth': 29, 'ccp_alpha': 0.0039612998134537876}. Best is trial 42 with value: 0.7649515803099294.\n",
      "[I 2025-10-03 11:41:11,512] Trial 130 finished with value: 0.756724492953648 and parameters: {'n_estimators': 50, 'min_samples_split': 25, 'min_impurity_decrease': 8.059860104097367e-05, 'min_samples_leaf': 4, 'max_depth': 27, 'ccp_alpha': 0.00415604434518725}. Best is trial 42 with value: 0.7649515803099294.\n",
      "[I 2025-10-03 11:41:11,530] Trial 128 finished with value: 0.7603191887770907 and parameters: {'n_estimators': 50, 'min_samples_split': 20, 'min_impurity_decrease': 3.4102520812053125e-05, 'min_samples_leaf': 3, 'max_depth': 29, 'ccp_alpha': 0.0038542775176766534}. Best is trial 42 with value: 0.7649515803099294.\n",
      "[I 2025-10-03 11:41:11,613] Trial 129 finished with value: 0.7600500899306208 and parameters: {'n_estimators': 50, 'min_samples_split': 25, 'min_impurity_decrease': 3.4955321956360064e-05, 'min_samples_leaf': 4, 'max_depth': 29, 'ccp_alpha': 0.0039060838053490772}. Best is trial 42 with value: 0.7649515803099294.\n",
      "[I 2025-10-03 11:41:11,856] Trial 133 finished with value: 0.7597449141728572 and parameters: {'n_estimators': 50, 'min_samples_split': 20, 'min_impurity_decrease': 7.869580146081088e-05, 'min_samples_leaf': 4, 'max_depth': 27, 'ccp_alpha': 0.004135645252862897}. Best is trial 42 with value: 0.7649515803099294.\n",
      "[I 2025-10-03 11:41:11,980] Trial 136 finished with value: 0.7571102406779595 and parameters: {'n_estimators': 50, 'min_samples_split': 25, 'min_impurity_decrease': 3.6227304094391694e-05, 'min_samples_leaf': 3, 'max_depth': 27, 'ccp_alpha': 0.003905228935574282}. Best is trial 42 with value: 0.7649515803099294.\n",
      "[I 2025-10-03 11:41:12,018] Trial 132 finished with value: 0.7573630413223263 and parameters: {'n_estimators': 50, 'min_samples_split': 20, 'min_impurity_decrease': 3.624245133592129e-05, 'min_samples_leaf': 3, 'max_depth': 27, 'ccp_alpha': 0.003923701269184427}. Best is trial 42 with value: 0.7649515803099294.\n",
      "[I 2025-10-03 11:41:12,377] Trial 135 finished with value: 0.7550574925857917 and parameters: {'n_estimators': 49, 'min_samples_split': 25, 'min_impurity_decrease': 3.6315596640151754e-05, 'min_samples_leaf': 3, 'max_depth': 27, 'ccp_alpha': 0.007844308419485434}. Best is trial 42 with value: 0.7649515803099294.\n",
      "[I 2025-10-03 11:41:12,557] Trial 134 finished with value: 0.7566927150595469 and parameters: {'n_estimators': 49, 'min_samples_split': 20, 'min_impurity_decrease': 3.222902566805952e-05, 'min_samples_leaf': 3, 'max_depth': 29, 'ccp_alpha': 0.003805881460810035}. Best is trial 42 with value: 0.7649515803099294.\n",
      "[I 2025-10-03 11:41:12,731] Trial 141 finished with value: 0.7625887815487499 and parameters: {'n_estimators': 49, 'min_samples_split': 29, 'min_impurity_decrease': 3.148194466297929e-05, 'min_samples_leaf': 3, 'max_depth': 31, 'ccp_alpha': 0.0038902797332962353}. Best is trial 42 with value: 0.7649515803099294.\n",
      "[I 2025-10-03 11:41:13,635] Trial 127 finished with value: 0.7574192480441445 and parameters: {'n_estimators': 49, 'min_samples_split': 20, 'min_impurity_decrease': 3.3999492122742545e-05, 'min_samples_leaf': 3, 'max_depth': 29, 'ccp_alpha': 0.0039044165217868424}. Best is trial 42 with value: 0.7649515803099294.\n",
      "[I 2025-10-03 11:41:13,658] Trial 139 finished with value: 0.7469740142254238 and parameters: {'n_estimators': 25, 'min_samples_split': 29, 'min_impurity_decrease': 1.224709392861751e-05, 'min_samples_leaf': 15, 'max_depth': 24, 'ccp_alpha': 0.003048831340629051}. Best is trial 42 with value: 0.7649515803099294.\n",
      "[I 2025-10-03 11:41:13,660] Trial 142 finished with value: 0.7571182030295527 and parameters: {'n_estimators': 49, 'min_samples_split': 29, 'min_impurity_decrease': 2.9347932326936955e-05, 'min_samples_leaf': 3, 'max_depth': 24, 'ccp_alpha': 0.0030641893998030727}. Best is trial 42 with value: 0.7649515803099294.\n",
      "[I 2025-10-03 11:41:14,349] Trial 140 finished with value: 0.7624606346189183 and parameters: {'n_estimators': 47, 'min_samples_split': 29, 'min_impurity_decrease': 6.112787650238998e-05, 'min_samples_leaf': 3, 'max_depth': 26, 'ccp_alpha': 0.003760964787740297}. Best is trial 42 with value: 0.7649515803099294.\n",
      "[I 2025-10-03 11:41:14,696] Trial 137 finished with value: 0.7574192480441445 and parameters: {'n_estimators': 49, 'min_samples_split': 20, 'min_impurity_decrease': 6.29789269233034e-05, 'min_samples_leaf': 3, 'max_depth': 27, 'ccp_alpha': 0.003917883630870025}. Best is trial 42 with value: 0.7649515803099294.\n",
      "[I 2025-10-03 11:41:14,817] Trial 145 finished with value: 0.752894533123613 and parameters: {'n_estimators': 47, 'min_samples_split': 29, 'min_impurity_decrease': 6.409839473826517e-05, 'min_samples_leaf': 16, 'max_depth': 31, 'ccp_alpha': 0.007140016347596109}. Best is trial 42 with value: 0.7649515803099294.\n",
      "[I 2025-10-03 11:41:14,907] Trial 144 finished with value: 0.7555750057468034 and parameters: {'n_estimators': 47, 'min_samples_split': 29, 'min_impurity_decrease': 6.366181134462661e-05, 'min_samples_leaf': 16, 'max_depth': 31, 'ccp_alpha': 0.0026308027145746115}. Best is trial 42 with value: 0.7649515803099294.\n",
      "[I 2025-10-03 11:41:14,941] Trial 151 finished with value: 0.758795151457778 and parameters: {'n_estimators': 47, 'min_samples_split': 27, 'min_impurity_decrease': 6.38616359346054e-05, 'min_samples_leaf': 15, 'max_depth': 31, 'ccp_alpha': 0.00261528866684779}. Best is trial 42 with value: 0.7649515803099294.\n",
      "[I 2025-10-03 11:41:14,949] Trial 146 finished with value: 0.7586098494870211 and parameters: {'n_estimators': 47, 'min_samples_split': 29, 'min_impurity_decrease': 6.303864993242236e-05, 'min_samples_leaf': 3, 'max_depth': 31, 'ccp_alpha': 0.0026558472448103554}. Best is trial 42 with value: 0.7649515803099294.\n",
      "[I 2025-10-03 11:41:14,970] Trial 147 finished with value: 0.7552429198780533 and parameters: {'n_estimators': 47, 'min_samples_split': 29, 'min_impurity_decrease': 2.8842748344272895e-05, 'min_samples_leaf': 15, 'max_depth': 31, 'ccp_alpha': 0.0031332193417767}. Best is trial 42 with value: 0.7649515803099294.\n",
      "[I 2025-10-03 11:41:15,056] Trial 138 finished with value: 0.755360426719288 and parameters: {'n_estimators': 49, 'min_samples_split': 25, 'min_impurity_decrease': 6.0532052058501304e-05, 'min_samples_leaf': 3, 'max_depth': 30, 'ccp_alpha': 0.0039108319123948194}. Best is trial 42 with value: 0.7649515803099294.\n",
      "[I 2025-10-03 11:41:15,073] Trial 149 finished with value: 0.7580910466488904 and parameters: {'n_estimators': 26, 'min_samples_split': 29, 'min_impurity_decrease': 6.306666685079142e-05, 'min_samples_leaf': 3, 'max_depth': 31, 'ccp_alpha': 0.0030891196460057957}. Best is trial 42 with value: 0.7649515803099294.\n",
      "[I 2025-10-03 11:41:15,473] Trial 153 finished with value: 0.7485342083079369 and parameters: {'n_estimators': 47, 'min_samples_split': 29, 'min_impurity_decrease': 6.278506020615898e-05, 'min_samples_leaf': 5, 'max_depth': 31, 'ccp_alpha': 0.0030282015333720153}. Best is trial 42 with value: 0.7649515803099294.\n",
      "[I 2025-10-03 11:41:15,844] Trial 143 finished with value: 0.7582151543456416 and parameters: {'n_estimators': 47, 'min_samples_split': 29, 'min_impurity_decrease': 6.251890473423248e-05, 'min_samples_leaf': 3, 'max_depth': 31, 'ccp_alpha': 0.003072174541217277}. Best is trial 42 with value: 0.7649515803099294.\n",
      "[I 2025-10-03 11:41:16,338] Trial 157 finished with value: 0.7522651171534522 and parameters: {'n_estimators': 47, 'min_samples_split': 27, 'min_impurity_decrease': 2.252966635964441e-05, 'min_samples_leaf': 5, 'max_depth': 31, 'ccp_alpha': 0.0034762469375100463}. Best is trial 42 with value: 0.7649515803099294.\n",
      "[I 2025-10-03 11:41:16,371] Trial 155 finished with value: 0.7569551579484309 and parameters: {'n_estimators': 47, 'min_samples_split': 29, 'min_impurity_decrease': 6.256108987005645e-05, 'min_samples_leaf': 18, 'max_depth': 30, 'ccp_alpha': 0.003074939765262937}. Best is trial 42 with value: 0.7649515803099294.\n",
      "[I 2025-10-03 11:41:16,373] Trial 160 finished with value: 0.7522266400689366 and parameters: {'n_estimators': 47, 'min_samples_split': 27, 'min_impurity_decrease': 2.249804439190423e-05, 'min_samples_leaf': 5, 'max_depth': 31, 'ccp_alpha': 0.0035063904998364976}. Best is trial 42 with value: 0.7649515803099294.\n",
      "[I 2025-10-03 11:41:16,408] Trial 152 finished with value: 0.7509683347767079 and parameters: {'n_estimators': 47, 'min_samples_split': 27, 'min_impurity_decrease': 6.0354664826401354e-05, 'min_samples_leaf': 5, 'max_depth': 31, 'ccp_alpha': 0.0026796213935644337}. Best is trial 42 with value: 0.7649515803099294.\n",
      "[I 2025-10-03 11:41:16,485] Trial 159 finished with value: 0.7529214732792935 and parameters: {'n_estimators': 47, 'min_samples_split': 27, 'min_impurity_decrease': 2.333242671058628e-05, 'min_samples_leaf': 5, 'max_depth': 31, 'ccp_alpha': 0.003497632869826505}. Best is trial 42 with value: 0.7649515803099294.\n",
      "[I 2025-10-03 11:41:16,621] Trial 150 finished with value: 0.7625895831782215 and parameters: {'n_estimators': 25, 'min_samples_split': 29, 'min_impurity_decrease': 6.465199663369349e-05, 'min_samples_leaf': 13, 'max_depth': 31, 'ccp_alpha': 0.0031221244672931885}. Best is trial 42 with value: 0.7649515803099294.\n",
      "[I 2025-10-03 11:41:16,896] Trial 148 finished with value: 0.7549292411712681 and parameters: {'n_estimators': 47, 'min_samples_split': 29, 'min_impurity_decrease': 6.278461765497472e-05, 'min_samples_leaf': 18, 'max_depth': 31, 'ccp_alpha': 0.0026532884905083967}. Best is trial 42 with value: 0.7649515803099294.\n",
      "[I 2025-10-03 11:41:17,011] Trial 156 finished with value: 0.7522651171534522 and parameters: {'n_estimators': 47, 'min_samples_split': 27, 'min_impurity_decrease': 6.352150567306216e-05, 'min_samples_leaf': 5, 'max_depth': 31, 'ccp_alpha': 0.0034854075532346884}. Best is trial 42 with value: 0.7649515803099294.\n",
      "[I 2025-10-03 11:41:17,538] Trial 154 finished with value: 0.7509683347767079 and parameters: {'n_estimators': 47, 'min_samples_split': 27, 'min_impurity_decrease': 6.45536347900482e-05, 'min_samples_leaf': 5, 'max_depth': 31, 'ccp_alpha': 0.002680136834219655}. Best is trial 42 with value: 0.7649515803099294.\n",
      "[I 2025-10-03 11:41:17,746] Trial 163 finished with value: 0.7475552027679528 and parameters: {'n_estimators': 23, 'min_samples_split': 30, 'min_impurity_decrease': 4.301123125972968e-05, 'min_samples_leaf': 2, 'max_depth': 20, 'ccp_alpha': 0.0037046700176394604}. Best is trial 42 with value: 0.7649515803099294.\n",
      "[I 2025-10-03 11:41:17,889] Trial 158 finished with value: 0.7512827567085438 and parameters: {'n_estimators': 47, 'min_samples_split': 27, 'min_impurity_decrease': 0.0009424386183625326, 'min_samples_leaf': 5, 'max_depth': 31, 'ccp_alpha': 0.0034811325651377296}. Best is trial 42 with value: 0.7649515803099294.\n",
      "[I 2025-10-03 11:41:17,999] Trial 162 finished with value: 0.7530938632991974 and parameters: {'n_estimators': 46, 'min_samples_split': 27, 'min_impurity_decrease': 1.0198555249117692e-05, 'min_samples_leaf': 2, 'max_depth': 26, 'ccp_alpha': 0.003451308381481847}. Best is trial 42 with value: 0.7649515803099294.\n",
      "[I 2025-10-03 11:41:18,028] Trial 161 finished with value: 0.7560755362946407 and parameters: {'n_estimators': 42, 'min_samples_split': 2, 'min_impurity_decrease': 0.000835919403861592, 'min_samples_leaf': 5, 'max_depth': 21, 'ccp_alpha': 0.0034407588493217977}. Best is trial 42 with value: 0.7649515803099294.\n",
      "[I 2025-10-03 11:41:18,096] Trial 165 finished with value: 0.7579818018511567 and parameters: {'n_estimators': 44, 'min_samples_split': 28, 'min_impurity_decrease': 1.1515271593751336e-05, 'min_samples_leaf': 2, 'max_depth': 26, 'ccp_alpha': 0.003683222201528403}. Best is trial 42 with value: 0.7649515803099294.\n",
      "[I 2025-10-03 11:41:18,197] Trial 167 finished with value: 0.7584296196680855 and parameters: {'n_estimators': 44, 'min_samples_split': 28, 'min_impurity_decrease': 1.0009421163602696e-05, 'min_samples_leaf': 2, 'max_depth': 45, 'ccp_alpha': 0.003744108994037083}. Best is trial 42 with value: 0.7649515803099294.\n",
      "[I 2025-10-03 11:41:18,208] Trial 169 finished with value: 0.7531389405680059 and parameters: {'n_estimators': 44, 'min_samples_split': 28, 'min_impurity_decrease': 4.393185717959336e-05, 'min_samples_leaf': 12, 'max_depth': 20, 'ccp_alpha': 0.0036687318188966915}. Best is trial 42 with value: 0.7649515803099294.\n",
      "[I 2025-10-03 11:41:18,260] Trial 168 finished with value: 0.7466168544364205 and parameters: {'n_estimators': 24, 'min_samples_split': 30, 'min_impurity_decrease': 0.0009845910520446506, 'min_samples_leaf': 2, 'max_depth': 20, 'ccp_alpha': 0.003713247794106626}. Best is trial 42 with value: 0.7649515803099294.\n",
      "[I 2025-10-03 11:41:18,355] Trial 170 finished with value: 0.7468660738848929 and parameters: {'n_estimators': 23, 'min_samples_split': 30, 'min_impurity_decrease': 4.527887313039909e-05, 'min_samples_leaf': 2, 'max_depth': 20, 'ccp_alpha': 0.0037243493826137376}. Best is trial 42 with value: 0.7649515803099294.\n",
      "[I 2025-10-03 11:41:18,445] Trial 171 finished with value: 0.7579818018511567 and parameters: {'n_estimators': 44, 'min_samples_split': 28, 'min_impurity_decrease': 1.0261224225684605e-05, 'min_samples_leaf': 2, 'max_depth': 26, 'ccp_alpha': 0.003673444833667917}. Best is trial 42 with value: 0.7649515803099294.\n",
      "[I 2025-10-03 11:41:18,973] Trial 164 finished with value: 0.7549597972853692 and parameters: {'n_estimators': 24, 'min_samples_split': 30, 'min_impurity_decrease': 4.5766000239955295e-05, 'min_samples_leaf': 13, 'max_depth': 20, 'ccp_alpha': 0.0036990698805395403}. Best is trial 42 with value: 0.7649515803099294.\n",
      "[I 2025-10-03 11:41:19,095] Trial 166 finished with value: 0.7537753034429384 and parameters: {'n_estimators': 23, 'min_samples_split': 30, 'min_impurity_decrease': 4.488168143625441e-05, 'min_samples_leaf': 12, 'max_depth': 20, 'ccp_alpha': 0.003681277919293703}. Best is trial 42 with value: 0.7649515803099294.\n",
      "[I 2025-10-03 11:41:19,178] Trial 172 finished with value: 0.7587069490011245 and parameters: {'n_estimators': 24, 'min_samples_split': 30, 'min_impurity_decrease': 4.5799711214797355e-05, 'min_samples_leaf': 12, 'max_depth': 20, 'ccp_alpha': 0.003753075846337336}. Best is trial 42 with value: 0.7649515803099294.\n",
      "[I 2025-10-03 11:41:19,674] Trial 174 finished with value: 0.7512672613978432 and parameters: {'n_estimators': 24, 'min_samples_split': 30, 'min_impurity_decrease': 7.455693292103713e-05, 'min_samples_leaf': 2, 'max_depth': 20, 'ccp_alpha': 0.0037348128232034114}. Best is trial 42 with value: 0.7649515803099294.\n",
      "[I 2025-10-03 11:41:19,932] Trial 176 finished with value: 0.760344459783943 and parameters: {'n_estimators': 44, 'min_samples_split': 28, 'min_impurity_decrease': 1.0911494538259e-05, 'min_samples_leaf': 13, 'max_depth': 18, 'ccp_alpha': 0.003713449969893376}. Best is trial 42 with value: 0.7649515803099294.\n",
      "[I 2025-10-03 11:41:20,230] Trial 175 finished with value: 0.7569181430930797 and parameters: {'n_estimators': 26, 'min_samples_split': 26, 'min_impurity_decrease': 7.399000514336307e-05, 'min_samples_leaf': 8, 'max_depth': 18, 'ccp_alpha': 0.00319847085624083}. Best is trial 42 with value: 0.7649515803099294.\n",
      "[I 2025-10-03 11:41:20,373] Trial 173 finished with value: 0.760344459783943 and parameters: {'n_estimators': 44, 'min_samples_split': 28, 'min_impurity_decrease': 1.1834835545760926e-05, 'min_samples_leaf': 13, 'max_depth': 26, 'ccp_alpha': 0.0036865842342036818}. Best is trial 42 with value: 0.7649515803099294.\n",
      "[I 2025-10-03 11:41:21,682] Trial 178 finished with value: 0.7656984135748353 and parameters: {'n_estimators': 46, 'min_samples_split': 26, 'min_impurity_decrease': 7.317475848464403e-05, 'min_samples_leaf': 13, 'max_depth': 18, 'ccp_alpha': 0.003244001126881171}. Best is trial 178 with value: 0.7656984135748353.\n",
      "[I 2025-10-03 11:41:21,725] Trial 179 finished with value: 0.7515602139234596 and parameters: {'n_estimators': 46, 'min_samples_split': 26, 'min_impurity_decrease': 1.2349479731121135e-05, 'min_samples_leaf': 4, 'max_depth': 26, 'ccp_alpha': 0.0022075348744280457}. Best is trial 178 with value: 0.7656984135748353.\n",
      "[I 2025-10-03 11:41:21,926] Trial 182 finished with value: 0.7540485143644443 and parameters: {'n_estimators': 46, 'min_samples_split': 26, 'min_impurity_decrease': 2.6588541522731262e-05, 'min_samples_leaf': 4, 'max_depth': 18, 'ccp_alpha': 0.002472284669180983}. Best is trial 178 with value: 0.7656984135748353.\n",
      "[I 2025-10-03 11:41:22,001] Trial 177 finished with value: 0.7539343270667775 and parameters: {'n_estimators': 10, 'min_samples_split': 26, 'min_impurity_decrease': 7.1913147017434e-05, 'min_samples_leaf': 13, 'max_depth': 18, 'ccp_alpha': 0.0032178862834217285}. Best is trial 178 with value: 0.7656984135748353.\n",
      "[I 2025-10-03 11:41:22,012] Trial 185 finished with value: 0.7512677106882334 and parameters: {'n_estimators': 46, 'min_samples_split': 26, 'min_impurity_decrease': 1.2275736493070811e-05, 'min_samples_leaf': 4, 'max_depth': 18, 'ccp_alpha': 0.002432315085162101}. Best is trial 178 with value: 0.7656984135748353.\n",
      "[I 2025-10-03 11:41:22,013] Trial 180 finished with value: 0.7532170231746353 and parameters: {'n_estimators': 45, 'min_samples_split': 26, 'min_impurity_decrease': 1.1775978031447222e-05, 'min_samples_leaf': 4, 'max_depth': 18, 'ccp_alpha': 0.0023164225426370623}. Best is trial 178 with value: 0.7656984135748353.\n",
      "[I 2025-10-03 11:41:22,064] Trial 191 finished with value: 0.7507428789022392 and parameters: {'n_estimators': 45, 'min_samples_split': 26, 'min_impurity_decrease': 2.6564513461740907e-05, 'min_samples_leaf': 4, 'max_depth': 26, 'ccp_alpha': 0.002299816557581327}. Best is trial 178 with value: 0.7656984135748353.\n",
      "[I 2025-10-03 11:41:22,265] Trial 183 finished with value: 0.7636864090419924 and parameters: {'n_estimators': 45, 'min_samples_split': 28, 'min_impurity_decrease': 7.3419186753953e-05, 'min_samples_leaf': 4, 'max_depth': 26, 'ccp_alpha': 0.0022127832341197235}. Best is trial 178 with value: 0.7656984135748353.\n",
      "[I 2025-10-03 11:41:22,410] Trial 184 finished with value: 0.7649294515039653 and parameters: {'n_estimators': 46, 'min_samples_split': 28, 'min_impurity_decrease': 1.5139359473548017e-05, 'min_samples_leaf': 4, 'max_depth': 18, 'ccp_alpha': 0.0023197092317713353}. Best is trial 178 with value: 0.7656984135748353.\n",
      "[I 2025-10-03 11:41:22,539] Trial 188 finished with value: 0.7598015797932686 and parameters: {'n_estimators': 45, 'min_samples_split': 26, 'min_impurity_decrease': 4.003850863312188e-05, 'min_samples_leaf': 4, 'max_depth': 26, 'ccp_alpha': 0.00322328120587192}. Best is trial 178 with value: 0.7656984135748353.\n",
      "[I 2025-10-03 11:41:22,552] Trial 181 finished with value: 0.7582842029565297 and parameters: {'n_estimators': 45, 'min_samples_split': 26, 'min_impurity_decrease': 3.997655062052515e-05, 'min_samples_leaf': 4, 'max_depth': 18, 'ccp_alpha': 0.0031931895912273357}. Best is trial 178 with value: 0.7656984135748353.\n",
      "[I 2025-10-03 11:41:22,553] Trial 189 finished with value: 0.7522528935381704 and parameters: {'n_estimators': 46, 'min_samples_split': 26, 'min_impurity_decrease': 1.5130373491119065e-05, 'min_samples_leaf': 4, 'max_depth': 24, 'ccp_alpha': 0.0024027549353948315}. Best is trial 178 with value: 0.7656984135748353.\n",
      "[I 2025-10-03 11:41:22,564] Trial 187 finished with value: 0.7533263444706713 and parameters: {'n_estimators': 46, 'min_samples_split': 23, 'min_impurity_decrease': 2.6615610865835246e-05, 'min_samples_leaf': 4, 'max_depth': 24, 'ccp_alpha': 0.0022549786894736595}. Best is trial 178 with value: 0.7656984135748353.\n",
      "[I 2025-10-03 11:41:22,565] Trial 193 finished with value: 0.7540271379845578 and parameters: {'n_estimators': 46, 'min_samples_split': 23, 'min_impurity_decrease': 3.907893917091656e-05, 'min_samples_leaf': 4, 'max_depth': 24, 'ccp_alpha': 0.0024307495746419194}. Best is trial 178 with value: 0.7656984135748353.\n",
      "[I 2025-10-03 11:41:22,638] Trial 186 finished with value: 0.7522528935381704 and parameters: {'n_estimators': 46, 'min_samples_split': 26, 'min_impurity_decrease': 2.6430318315647203e-05, 'min_samples_leaf': 4, 'max_depth': 26, 'ccp_alpha': 0.002417022813176468}. Best is trial 178 with value: 0.7656984135748353.\n",
      "[I 2025-10-03 11:41:23,210] Trial 192 finished with value: 0.7541408032653321 and parameters: {'n_estimators': 46, 'min_samples_split': 23, 'min_impurity_decrease': 3.979297003198539e-05, 'min_samples_leaf': 4, 'max_depth': 24, 'ccp_alpha': 0.003272798757687051}. Best is trial 178 with value: 0.7656984135748353.\n",
      "[I 2025-10-03 11:41:23,511] Trial 190 finished with value: 0.7540271379845578 and parameters: {'n_estimators': 46, 'min_samples_split': 23, 'min_impurity_decrease': 2.71812790851035e-05, 'min_samples_leaf': 4, 'max_depth': 24, 'ccp_alpha': 0.0023591633821784174}. Best is trial 178 with value: 0.7656984135748353.\n",
      "[I 2025-10-03 11:41:23,630] Trial 198 finished with value: 0.7453282462962592 and parameters: {'n_estimators': 42, 'min_samples_split': 23, 'min_impurity_decrease': 3.0331657320497096e-05, 'min_samples_leaf': 1, 'max_depth': 16, 'ccp_alpha': 0.0033507432088363265}. Best is trial 178 with value: 0.7656984135748353.\n",
      "[I 2025-10-03 11:41:23,664] Trial 194 finished with value: 0.7548719791967324 and parameters: {'n_estimators': 46, 'min_samples_split': 26, 'min_impurity_decrease': 9.002812830972566e-05, 'min_samples_leaf': 4, 'max_depth': 16, 'ccp_alpha': 0.0033163196583252124}. Best is trial 178 with value: 0.7656984135748353.\n",
      "[I 2025-10-03 11:41:23,707] Trial 195 finished with value: 0.745084992323616 and parameters: {'n_estimators': 42, 'min_samples_split': 23, 'min_impurity_decrease': 3.982375088225007e-05, 'min_samples_leaf': 1, 'max_depth': 16, 'ccp_alpha': 0.0032851769233962027}. Best is trial 178 with value: 0.7656984135748353.\n",
      "[I 2025-10-03 11:41:23,857] Trial 196 finished with value: 0.7599586315238935 and parameters: {'n_estimators': 42, 'min_samples_split': 23, 'min_impurity_decrease': 4.0293293345679286e-05, 'min_samples_leaf': 14, 'max_depth': 28, 'ccp_alpha': 0.0033427270138397403}. Best is trial 178 with value: 0.7656984135748353.\n",
      "[I 2025-10-03 11:41:23,894] Trial 197 finished with value: 0.7588824822231863 and parameters: {'n_estimators': 48, 'min_samples_split': 28, 'min_impurity_decrease': 1.5271717495111335e-05, 'min_samples_leaf': 14, 'max_depth': 14, 'ccp_alpha': 0.0014363791258201095}. Best is trial 178 with value: 0.7656984135748353.\n",
      "[I 2025-10-03 11:41:23,924] Trial 199 finished with value: 0.7445280743292599 and parameters: {'n_estimators': 42, 'min_samples_split': 23, 'min_impurity_decrease': 8.63334231918113e-05, 'min_samples_leaf': 1, 'max_depth': 16, 'ccp_alpha': 0.0033283243261717074}. Best is trial 178 with value: 0.7656984135748353.\n"
     ]
    }
   ],
   "source": [
    "# Hyperparameter Tuning\n",
    "beta = 0.5\n",
    "model_name = \"random_forest\"\n",
    "\n",
    "args = {\n",
    "    \"model\": \"random_forest\",\n",
    "    \"cv_folds\": cv_folds,\n",
    "    \"class_weight\": \"balanced_subsample\",\n",
    "    \"min_est\": 5,\n",
    "    \"max_est\": 50,\n",
    "    \"max_depth_min\": 5,\n",
    "    \"max_depth_max\": 50,\n",
    "    \"min_samples_split_min\": 2,\n",
    "    \"min_samples_split_max\": 30,\n",
    "    \"min_samples_leaf_min\": 1,\n",
    "    \"min_samples_leaf_max\": 20,\n",
    "    \"min_impurity_decrease_min\": 1e-5,\n",
    "    \"min_impurity_decrease_max\": 1e-3,\n",
    "    \"ccp_alpha_min\": 1e-3,\n",
    "    \"ccp_alpha_max\": 1e-2,\n",
    "    \"n_trials\": 200,\n",
    "    \"beta\": beta,\n",
    "    \"random_state\": seed,\n",
    "}\n",
    "\n",
    "def objective(trial, args: dict, X_train: np.array, y_train: np.array):\n",
    "    model_name = args[\"model\"]\n",
    "    if model_name == \"random_forest\":\n",
    "        h_params = {}\n",
    "        h_params[\"n_estimators\"] = trial.suggest_int(\"n_estimators\", args[\"min_est\"], args[\"max_est\"])\n",
    "        h_params[\"min_samples_split\"] = trial.suggest_int(\"min_samples_split\", args[\"min_samples_split_min\"], args[\"min_samples_split_max\"])\n",
    "        h_params[\"min_impurity_decrease\"] = trial.suggest_float(\"min_impurity_decrease\", args[\"min_impurity_decrease_min\"], args[\"min_impurity_decrease_max\"], log=True)\n",
    "        h_params[\"min_samples_leaf\"] = trial.suggest_int(\"min_samples_leaf\", args[\"min_samples_leaf_min\"], args[\"min_samples_leaf_max\"])\n",
    "        h_params[\"max_depth\"] = trial.suggest_int(\"max_depth\", args[\"max_depth_min\"], args[\"max_depth_max\"])\n",
    "        h_params[\"ccp_alpha\"] = trial.suggest_float(\"ccp_alpha\", args[\"ccp_alpha_min\"], args[\"ccp_alpha_max\"])\n",
    "        h_params[\"beta\"] = args[\"beta\"]\n",
    "        h_params[\"cv_folds\"] = args[\"cv_folds\"]\n",
    "        h_params[\"random_state\"] = args[\"random_state\"]\n",
    "        h_params[\"class_weight\"] = args[\"class_weight\"]\n",
    "    else:\n",
    "        raise NotImplementedError(f\"Objective function not developped for model {model_name}\")\n",
    "    \n",
    "    return cv_score(model_name, h_params, X_train, y_train)\n",
    "\n",
    "def cv_score(model_name: str, h_params: dict, X_train: np.array, y_train: np.array):\n",
    "    if model_name == \"random_forest\":\n",
    "        model = RFEstimator(h_params)\n",
    "        score = model.cross_validate(X_train, y_train)\n",
    "        return score\n",
    "    else:\n",
    "        raise NotImplementedError(f\"Scoring function not developped for model {model_name}\")\n",
    "\n",
    "storage_url = \"sqlite:///db.sqlite3\"\n",
    "study_name = model_name + \"_\" + target\n",
    "storage=RDBStorage(url=storage_url)\n",
    "studies = storage.get_all_studies()\n",
    "if any(s.study_name == study_name for s in studies):\n",
    "    optuna.delete_study(study_name=study_name, storage=storage_url)\n",
    "    print(f\"Deleted existing study: {study_name}\")\n",
    "study = optuna.create_study(\n",
    "        storage=storage_url,\n",
    "        study_name=study_name,\n",
    "        direction=\"maximize\",\n",
    "        sampler=optuna.samplers.TPESampler(seed=seed)\n",
    "    )\n",
    "\n",
    "objective_partial = partial(\n",
    "    objective,\n",
    "    args=args,\n",
    "    X_train=X_train,\n",
    "    y_train=y_train,\n",
    ")\n",
    "\n",
    "study.optimize(objective_partial, n_trials=args[\"n_trials\"], n_jobs=-1)"
   ]
  },
  {
   "cell_type": "markdown",
   "id": "72b31f78",
   "metadata": {},
   "source": [
    "Hyperparameters are selected / adjusted (intervals) manually looking at optuna logs"
   ]
  },
  {
   "cell_type": "code",
   "execution_count": 20,
   "id": "ac24506d",
   "metadata": {},
   "outputs": [
    {
     "name": "stdout",
     "output_type": "stream",
     "text": [
      "Best score: 0.7656984135748353\n"
     ]
    }
   ],
   "source": [
    "# Best model details\n",
    "best_trial = sorted(study.trials, key=lambda x: x.value if x.value is not None else float(\"inf\"))[-1] # Maximization scenario\n",
    "best_params = best_trial.params\n",
    "best_score = best_trial.value\n",
    "print(\"Best score:\", best_score)"
   ]
  },
  {
   "cell_type": "markdown",
   "id": "236f203b",
   "metadata": {},
   "source": [
    "According to OPTUNA logs : <br>\n",
    "1) All hyper pramas seem relevant for the model\n",
    "2) Fine-tuning process is going well (global increasing trend score-wise)"
   ]
  },
  {
   "cell_type": "code",
   "execution_count": 21,
   "id": "490de95a",
   "metadata": {},
   "outputs": [
    {
     "data": {
      "application/vnd.plotly.v1+json": {
       "config": {
        "plotlyServerURL": "https://plot.ly"
       },
       "data": [
        {
         "marker": {
          "color": "royalblue"
         },
         "type": "bar",
         "x": [
          "GP",
          "MIN",
          "PTS",
          "FGA",
          "FG%",
          "3PA",
          "3P%",
          "FTA",
          "FT%",
          "OREB",
          "REB",
          "AST",
          "STL",
          "BLK",
          "TOV"
         ],
         "y": {
          "bdata": "k7DLpOXqxj+bSlB6yuezPy5DyD77srw/wevreeFjsD/dQwIQH7evP4xqCdSQK6E/2BHpu8VQlz+RyB/LekS3P6gGCB3s9aU/A4BKbG4bvD/nW2bKszCzP1hM4XrxjZ8/Tkm7nVVTnD8YJWhGvBWWP0tmnHRguak/",
          "dtype": "f8"
         }
        }
       ],
       "layout": {
        "height": 500,
        "template": {
         "data": {
          "bar": [
           {
            "error_x": {
             "color": "#2a3f5f"
            },
            "error_y": {
             "color": "#2a3f5f"
            },
            "marker": {
             "line": {
              "color": "#E5ECF6",
              "width": 0.5
             },
             "pattern": {
              "fillmode": "overlay",
              "size": 10,
              "solidity": 0.2
             }
            },
            "type": "bar"
           }
          ],
          "barpolar": [
           {
            "marker": {
             "line": {
              "color": "#E5ECF6",
              "width": 0.5
             },
             "pattern": {
              "fillmode": "overlay",
              "size": 10,
              "solidity": 0.2
             }
            },
            "type": "barpolar"
           }
          ],
          "carpet": [
           {
            "aaxis": {
             "endlinecolor": "#2a3f5f",
             "gridcolor": "white",
             "linecolor": "white",
             "minorgridcolor": "white",
             "startlinecolor": "#2a3f5f"
            },
            "baxis": {
             "endlinecolor": "#2a3f5f",
             "gridcolor": "white",
             "linecolor": "white",
             "minorgridcolor": "white",
             "startlinecolor": "#2a3f5f"
            },
            "type": "carpet"
           }
          ],
          "choropleth": [
           {
            "colorbar": {
             "outlinewidth": 0,
             "ticks": ""
            },
            "type": "choropleth"
           }
          ],
          "contour": [
           {
            "colorbar": {
             "outlinewidth": 0,
             "ticks": ""
            },
            "colorscale": [
             [
              0,
              "#0d0887"
             ],
             [
              0.1111111111111111,
              "#46039f"
             ],
             [
              0.2222222222222222,
              "#7201a8"
             ],
             [
              0.3333333333333333,
              "#9c179e"
             ],
             [
              0.4444444444444444,
              "#bd3786"
             ],
             [
              0.5555555555555556,
              "#d8576b"
             ],
             [
              0.6666666666666666,
              "#ed7953"
             ],
             [
              0.7777777777777778,
              "#fb9f3a"
             ],
             [
              0.8888888888888888,
              "#fdca26"
             ],
             [
              1,
              "#f0f921"
             ]
            ],
            "type": "contour"
           }
          ],
          "contourcarpet": [
           {
            "colorbar": {
             "outlinewidth": 0,
             "ticks": ""
            },
            "type": "contourcarpet"
           }
          ],
          "heatmap": [
           {
            "colorbar": {
             "outlinewidth": 0,
             "ticks": ""
            },
            "colorscale": [
             [
              0,
              "#0d0887"
             ],
             [
              0.1111111111111111,
              "#46039f"
             ],
             [
              0.2222222222222222,
              "#7201a8"
             ],
             [
              0.3333333333333333,
              "#9c179e"
             ],
             [
              0.4444444444444444,
              "#bd3786"
             ],
             [
              0.5555555555555556,
              "#d8576b"
             ],
             [
              0.6666666666666666,
              "#ed7953"
             ],
             [
              0.7777777777777778,
              "#fb9f3a"
             ],
             [
              0.8888888888888888,
              "#fdca26"
             ],
             [
              1,
              "#f0f921"
             ]
            ],
            "type": "heatmap"
           }
          ],
          "histogram": [
           {
            "marker": {
             "pattern": {
              "fillmode": "overlay",
              "size": 10,
              "solidity": 0.2
             }
            },
            "type": "histogram"
           }
          ],
          "histogram2d": [
           {
            "colorbar": {
             "outlinewidth": 0,
             "ticks": ""
            },
            "colorscale": [
             [
              0,
              "#0d0887"
             ],
             [
              0.1111111111111111,
              "#46039f"
             ],
             [
              0.2222222222222222,
              "#7201a8"
             ],
             [
              0.3333333333333333,
              "#9c179e"
             ],
             [
              0.4444444444444444,
              "#bd3786"
             ],
             [
              0.5555555555555556,
              "#d8576b"
             ],
             [
              0.6666666666666666,
              "#ed7953"
             ],
             [
              0.7777777777777778,
              "#fb9f3a"
             ],
             [
              0.8888888888888888,
              "#fdca26"
             ],
             [
              1,
              "#f0f921"
             ]
            ],
            "type": "histogram2d"
           }
          ],
          "histogram2dcontour": [
           {
            "colorbar": {
             "outlinewidth": 0,
             "ticks": ""
            },
            "colorscale": [
             [
              0,
              "#0d0887"
             ],
             [
              0.1111111111111111,
              "#46039f"
             ],
             [
              0.2222222222222222,
              "#7201a8"
             ],
             [
              0.3333333333333333,
              "#9c179e"
             ],
             [
              0.4444444444444444,
              "#bd3786"
             ],
             [
              0.5555555555555556,
              "#d8576b"
             ],
             [
              0.6666666666666666,
              "#ed7953"
             ],
             [
              0.7777777777777778,
              "#fb9f3a"
             ],
             [
              0.8888888888888888,
              "#fdca26"
             ],
             [
              1,
              "#f0f921"
             ]
            ],
            "type": "histogram2dcontour"
           }
          ],
          "mesh3d": [
           {
            "colorbar": {
             "outlinewidth": 0,
             "ticks": ""
            },
            "type": "mesh3d"
           }
          ],
          "parcoords": [
           {
            "line": {
             "colorbar": {
              "outlinewidth": 0,
              "ticks": ""
             }
            },
            "type": "parcoords"
           }
          ],
          "pie": [
           {
            "automargin": true,
            "type": "pie"
           }
          ],
          "scatter": [
           {
            "fillpattern": {
             "fillmode": "overlay",
             "size": 10,
             "solidity": 0.2
            },
            "type": "scatter"
           }
          ],
          "scatter3d": [
           {
            "line": {
             "colorbar": {
              "outlinewidth": 0,
              "ticks": ""
             }
            },
            "marker": {
             "colorbar": {
              "outlinewidth": 0,
              "ticks": ""
             }
            },
            "type": "scatter3d"
           }
          ],
          "scattercarpet": [
           {
            "marker": {
             "colorbar": {
              "outlinewidth": 0,
              "ticks": ""
             }
            },
            "type": "scattercarpet"
           }
          ],
          "scattergeo": [
           {
            "marker": {
             "colorbar": {
              "outlinewidth": 0,
              "ticks": ""
             }
            },
            "type": "scattergeo"
           }
          ],
          "scattergl": [
           {
            "marker": {
             "colorbar": {
              "outlinewidth": 0,
              "ticks": ""
             }
            },
            "type": "scattergl"
           }
          ],
          "scattermap": [
           {
            "marker": {
             "colorbar": {
              "outlinewidth": 0,
              "ticks": ""
             }
            },
            "type": "scattermap"
           }
          ],
          "scattermapbox": [
           {
            "marker": {
             "colorbar": {
              "outlinewidth": 0,
              "ticks": ""
             }
            },
            "type": "scattermapbox"
           }
          ],
          "scatterpolar": [
           {
            "marker": {
             "colorbar": {
              "outlinewidth": 0,
              "ticks": ""
             }
            },
            "type": "scatterpolar"
           }
          ],
          "scatterpolargl": [
           {
            "marker": {
             "colorbar": {
              "outlinewidth": 0,
              "ticks": ""
             }
            },
            "type": "scatterpolargl"
           }
          ],
          "scatterternary": [
           {
            "marker": {
             "colorbar": {
              "outlinewidth": 0,
              "ticks": ""
             }
            },
            "type": "scatterternary"
           }
          ],
          "surface": [
           {
            "colorbar": {
             "outlinewidth": 0,
             "ticks": ""
            },
            "colorscale": [
             [
              0,
              "#0d0887"
             ],
             [
              0.1111111111111111,
              "#46039f"
             ],
             [
              0.2222222222222222,
              "#7201a8"
             ],
             [
              0.3333333333333333,
              "#9c179e"
             ],
             [
              0.4444444444444444,
              "#bd3786"
             ],
             [
              0.5555555555555556,
              "#d8576b"
             ],
             [
              0.6666666666666666,
              "#ed7953"
             ],
             [
              0.7777777777777778,
              "#fb9f3a"
             ],
             [
              0.8888888888888888,
              "#fdca26"
             ],
             [
              1,
              "#f0f921"
             ]
            ],
            "type": "surface"
           }
          ],
          "table": [
           {
            "cells": {
             "fill": {
              "color": "#EBF0F8"
             },
             "line": {
              "color": "white"
             }
            },
            "header": {
             "fill": {
              "color": "#C8D4E3"
             },
             "line": {
              "color": "white"
             }
            },
            "type": "table"
           }
          ]
         },
         "layout": {
          "annotationdefaults": {
           "arrowcolor": "#2a3f5f",
           "arrowhead": 0,
           "arrowwidth": 1
          },
          "autotypenumbers": "strict",
          "coloraxis": {
           "colorbar": {
            "outlinewidth": 0,
            "ticks": ""
           }
          },
          "colorscale": {
           "diverging": [
            [
             0,
             "#8e0152"
            ],
            [
             0.1,
             "#c51b7d"
            ],
            [
             0.2,
             "#de77ae"
            ],
            [
             0.3,
             "#f1b6da"
            ],
            [
             0.4,
             "#fde0ef"
            ],
            [
             0.5,
             "#f7f7f7"
            ],
            [
             0.6,
             "#e6f5d0"
            ],
            [
             0.7,
             "#b8e186"
            ],
            [
             0.8,
             "#7fbc41"
            ],
            [
             0.9,
             "#4d9221"
            ],
            [
             1,
             "#276419"
            ]
           ],
           "sequential": [
            [
             0,
             "#0d0887"
            ],
            [
             0.1111111111111111,
             "#46039f"
            ],
            [
             0.2222222222222222,
             "#7201a8"
            ],
            [
             0.3333333333333333,
             "#9c179e"
            ],
            [
             0.4444444444444444,
             "#bd3786"
            ],
            [
             0.5555555555555556,
             "#d8576b"
            ],
            [
             0.6666666666666666,
             "#ed7953"
            ],
            [
             0.7777777777777778,
             "#fb9f3a"
            ],
            [
             0.8888888888888888,
             "#fdca26"
            ],
            [
             1,
             "#f0f921"
            ]
           ],
           "sequentialminus": [
            [
             0,
             "#0d0887"
            ],
            [
             0.1111111111111111,
             "#46039f"
            ],
            [
             0.2222222222222222,
             "#7201a8"
            ],
            [
             0.3333333333333333,
             "#9c179e"
            ],
            [
             0.4444444444444444,
             "#bd3786"
            ],
            [
             0.5555555555555556,
             "#d8576b"
            ],
            [
             0.6666666666666666,
             "#ed7953"
            ],
            [
             0.7777777777777778,
             "#fb9f3a"
            ],
            [
             0.8888888888888888,
             "#fdca26"
            ],
            [
             1,
             "#f0f921"
            ]
           ]
          },
          "colorway": [
           "#636efa",
           "#EF553B",
           "#00cc96",
           "#ab63fa",
           "#FFA15A",
           "#19d3f3",
           "#FF6692",
           "#B6E880",
           "#FF97FF",
           "#FECB52"
          ],
          "font": {
           "color": "#2a3f5f"
          },
          "geo": {
           "bgcolor": "white",
           "lakecolor": "white",
           "landcolor": "#E5ECF6",
           "showlakes": true,
           "showland": true,
           "subunitcolor": "white"
          },
          "hoverlabel": {
           "align": "left"
          },
          "hovermode": "closest",
          "mapbox": {
           "style": "light"
          },
          "paper_bgcolor": "white",
          "plot_bgcolor": "#E5ECF6",
          "polar": {
           "angularaxis": {
            "gridcolor": "white",
            "linecolor": "white",
            "ticks": ""
           },
           "bgcolor": "#E5ECF6",
           "radialaxis": {
            "gridcolor": "white",
            "linecolor": "white",
            "ticks": ""
           }
          },
          "scene": {
           "xaxis": {
            "backgroundcolor": "#E5ECF6",
            "gridcolor": "white",
            "gridwidth": 2,
            "linecolor": "white",
            "showbackground": true,
            "ticks": "",
            "zerolinecolor": "white"
           },
           "yaxis": {
            "backgroundcolor": "#E5ECF6",
            "gridcolor": "white",
            "gridwidth": 2,
            "linecolor": "white",
            "showbackground": true,
            "ticks": "",
            "zerolinecolor": "white"
           },
           "zaxis": {
            "backgroundcolor": "#E5ECF6",
            "gridcolor": "white",
            "gridwidth": 2,
            "linecolor": "white",
            "showbackground": true,
            "ticks": "",
            "zerolinecolor": "white"
           }
          },
          "shapedefaults": {
           "line": {
            "color": "#2a3f5f"
           }
          },
          "ternary": {
           "aaxis": {
            "gridcolor": "white",
            "linecolor": "white",
            "ticks": ""
           },
           "baxis": {
            "gridcolor": "white",
            "linecolor": "white",
            "ticks": ""
           },
           "bgcolor": "#E5ECF6",
           "caxis": {
            "gridcolor": "white",
            "linecolor": "white",
            "ticks": ""
           }
          },
          "title": {
           "x": 0.05
          },
          "xaxis": {
           "automargin": true,
           "gridcolor": "white",
           "linecolor": "white",
           "ticks": "",
           "title": {
            "standoff": 15
           },
           "zerolinecolor": "white",
           "zerolinewidth": 2
          },
          "yaxis": {
           "automargin": true,
           "gridcolor": "white",
           "linecolor": "white",
           "ticks": "",
           "title": {
            "standoff": 15
           },
           "zerolinecolor": "white",
           "zerolinewidth": 2
          }
         }
        },
        "title": {
         "text": "Feature Importances (Random Forest)"
        },
        "width": 900,
        "xaxis": {
         "title": {
          "text": "Features"
         }
        },
        "yaxis": {
         "title": {
          "text": "Importance"
         }
        }
       }
      }
     },
     "metadata": {},
     "output_type": "display_data"
    }
   ],
   "source": [
    "# Feature importance\n",
    "best_config = best_params\n",
    "best_config.update({\n",
    "    \"random_state\": args[\"random_state\"],\n",
    "    \"class_weight\": args[\"class_weight\"],\n",
    "    \"beta\": args[\"beta\"],\n",
    "    \"cv_folds\": args[\"cv_folds\"],\n",
    "})\n",
    "\n",
    "model = RFEstimator(best_config)\n",
    "\n",
    "model.fit(X_train,y_train)\n",
    "\n",
    "importances = model.classifier.feature_importances_\n",
    "feature_names = df.drop(columns=[\"Name\", target]).columns\n",
    "\n",
    "fig = go.Figure(\n",
    "    go.Bar(\n",
    "        x=feature_names,\n",
    "        y=importances,\n",
    "        marker=dict(color=\"royalblue\")\n",
    "    )\n",
    ")\n",
    "fig.update_layout(\n",
    "    title=\"Feature Importances (Random Forest)\",\n",
    "    xaxis_title=\"Features\",\n",
    "    yaxis_title=\"Importance\",\n",
    "    width=900,\n",
    "    height=500\n",
    ")\n",
    "fig.show()"
   ]
  },
  {
   "cell_type": "markdown",
   "id": "a906e261",
   "metadata": {},
   "source": [
    "Value importance ranges from around 2 to 20%. Trying to remove less important features results in a less precise / stable model (when looking at cross validation scores across folds).<br>\n",
    "I don't think we should remove one of them (all significantly important)."
   ]
  },
  {
   "cell_type": "code",
   "execution_count": 22,
   "id": "8372a9bc",
   "metadata": {},
   "outputs": [
    {
     "name": "stdout",
     "output_type": "stream",
     "text": [
      "Dummy CV Score: 0.6750\n",
      "Random Forest CV Score: 0.7657\n"
     ]
    },
    {
     "data": {
      "application/vnd.plotly.v1+json": {
       "config": {
        "plotlyServerURL": "https://plot.ly"
       },
       "data": [
        {
         "legendgroup": "Dummy",
         "line": {
          "color": "red"
         },
         "mode": "lines+markers",
         "name": "Dummy",
         "showlegend": true,
         "type": "scatter",
         "x": [
          1,
          2,
          3,
          4
         ],
         "xaxis": "x",
         "y": [
          0.6243523316062176,
          0.6243523316062176,
          0.6248382923673997,
          0.6235446313065977
         ],
         "yaxis": "y"
        },
        {
         "legendgroup": "Dummy",
         "line": {
          "color": "red"
         },
         "mode": "lines+markers",
         "name": "Dummy Train Recall",
         "showlegend": false,
         "type": "scatter",
         "x": [
          1,
          2,
          3,
          4
         ],
         "xaxis": "x2",
         "y": [
          1,
          1,
          1,
          1
         ],
         "yaxis": "y2"
        },
        {
         "legendgroup": "Dummy",
         "line": {
          "color": "red"
         },
         "mode": "lines+markers",
         "name": "Dummy Train F0.5",
         "showlegend": false,
         "type": "scatter",
         "x": [
          1,
          2,
          3,
          4
         ],
         "xaxis": "x3",
         "y": [
          0.6750700280112045,
          0.6750700280112045,
          0.6755244755244755,
          0.6743144935646335
         ],
         "yaxis": "y3"
        },
        {
         "legendgroup": "Dummy",
         "line": {
          "color": "red"
         },
         "mode": "lines+markers",
         "name": "Dummy Valid Precision",
         "showlegend": false,
         "type": "scatter",
         "x": [
          1,
          2,
          3,
          4
         ],
         "xaxis": "x4",
         "y": [
          0.624031007751938,
          0.624031007751938,
          0.622568093385214,
          0.6264591439688716
         ],
         "yaxis": "y4"
        },
        {
         "legendgroup": "Dummy",
         "line": {
          "color": "red"
         },
         "mode": "lines+markers",
         "name": "Dummy Valid Recall",
         "showlegend": false,
         "type": "scatter",
         "x": [
          1,
          2,
          3,
          4
         ],
         "xaxis": "x5",
         "y": [
          1,
          1,
          1,
          1
         ],
         "yaxis": "y5"
        },
        {
         "legendgroup": "Dummy",
         "line": {
          "color": "red"
         },
         "mode": "lines+markers",
         "name": "Dummy Valid F0.5",
         "showlegend": false,
         "type": "scatter",
         "x": [
          1,
          2,
          3,
          4
         ],
         "xaxis": "x6",
         "y": [
          0.6747694886839899,
          0.6747694886839899,
          0.6734006734006734,
          0.6770395290159799
         ],
         "yaxis": "y6"
        },
        {
         "legendgroup": "Random Forest",
         "line": {
          "color": "green"
         },
         "mode": "lines+markers",
         "name": "Random Forest",
         "showlegend": true,
         "type": "scatter",
         "x": [
          1,
          2,
          3,
          4
         ],
         "xaxis": "x",
         "y": [
          0.8584905660377359,
          0.848780487804878,
          0.8606356968215159,
          0.8333333333333334
         ],
         "yaxis": "y"
        },
        {
         "legendgroup": "Random Forest",
         "line": {
          "color": "green"
         },
         "mode": "lines+markers",
         "name": "Random Forest Train Recall",
         "showlegend": false,
         "type": "scatter",
         "x": [
          1,
          2,
          3,
          4
         ],
         "xaxis": "x2",
         "y": [
          0.7551867219917012,
          0.7219917012448133,
          0.7287784679089027,
          0.7468879668049793
         ],
         "yaxis": "y2"
        },
        {
         "legendgroup": "Random Forest",
         "line": {
          "color": "green"
         },
         "mode": "lines+markers",
         "name": "Random Forest Train F0.5",
         "showlegend": false,
         "type": "scatter",
         "x": [
          1,
          2,
          3,
          4
         ],
         "xaxis": "x3",
         "y": [
          0.8356290174471993,
          0.8199811498586239,
          0.830580462482303,
          0.8144796380090498
         ],
         "yaxis": "y3"
        },
        {
         "legendgroup": "Random Forest",
         "line": {
          "color": "green"
         },
         "mode": "lines+markers",
         "name": "Random Forest Valid Precision",
         "showlegend": false,
         "type": "scatter",
         "x": [
          1,
          2,
          3,
          4
         ],
         "xaxis": "x4",
         "y": [
          0.7919463087248322,
          0.8125,
          0.7596899224806202,
          0.7969924812030075
         ],
         "yaxis": "y4"
        },
        {
         "legendgroup": "Random Forest",
         "line": {
          "color": "green"
         },
         "mode": "lines+markers",
         "name": "Random Forest Valid Recall",
         "showlegend": false,
         "type": "scatter",
         "x": [
          1,
          2,
          3,
          4
         ],
         "xaxis": "x5",
         "y": [
          0.7329192546583851,
          0.7267080745341615,
          0.6125,
          0.6583850931677019
         ],
         "yaxis": "y5"
        },
        {
         "legendgroup": "Random Forest",
         "line": {
          "color": "green"
         },
         "mode": "lines+markers",
         "name": "Random Forest Valid F0.5",
         "showlegend": false,
         "type": "scatter",
         "x": [
          1,
          2,
          3,
          4
         ],
         "xaxis": "x6",
         "y": [
          0.7793923381770145,
          0.7937584803256446,
          0.7248520710059172,
          0.7647907647907648
         ],
         "yaxis": "y6"
        }
       ],
       "layout": {
        "annotations": [
         {
          "font": {
           "size": 16
          },
          "showarrow": false,
          "text": "Precision",
          "x": 0.1411111111111111,
          "xanchor": "center",
          "xref": "paper",
          "y": 1,
          "yanchor": "bottom",
          "yref": "paper"
         },
         {
          "font": {
           "size": 16
          },
          "showarrow": false,
          "text": "Recall",
          "x": 0.49,
          "xanchor": "center",
          "xref": "paper",
          "y": 1,
          "yanchor": "bottom",
          "yref": "paper"
         },
         {
          "font": {
           "size": 16
          },
          "showarrow": false,
          "text": "F0.5 Score",
          "x": 0.8388888888888888,
          "xanchor": "center",
          "xref": "paper",
          "y": 1,
          "yanchor": "bottom",
          "yref": "paper"
         },
         {
          "font": {
           "size": 16
          },
          "showarrow": false,
          "text": "Train",
          "textangle": 90,
          "x": 0.98,
          "xanchor": "left",
          "xref": "paper",
          "y": 0.775,
          "yanchor": "middle",
          "yref": "paper"
         },
         {
          "font": {
           "size": 16
          },
          "showarrow": false,
          "text": "Validation",
          "textangle": 90,
          "x": 0.98,
          "xanchor": "left",
          "xref": "paper",
          "y": 0.225,
          "yanchor": "middle",
          "yref": "paper"
         }
        ],
        "height": 600,
        "template": {
         "data": {
          "bar": [
           {
            "error_x": {
             "color": "#2a3f5f"
            },
            "error_y": {
             "color": "#2a3f5f"
            },
            "marker": {
             "line": {
              "color": "#E5ECF6",
              "width": 0.5
             },
             "pattern": {
              "fillmode": "overlay",
              "size": 10,
              "solidity": 0.2
             }
            },
            "type": "bar"
           }
          ],
          "barpolar": [
           {
            "marker": {
             "line": {
              "color": "#E5ECF6",
              "width": 0.5
             },
             "pattern": {
              "fillmode": "overlay",
              "size": 10,
              "solidity": 0.2
             }
            },
            "type": "barpolar"
           }
          ],
          "carpet": [
           {
            "aaxis": {
             "endlinecolor": "#2a3f5f",
             "gridcolor": "white",
             "linecolor": "white",
             "minorgridcolor": "white",
             "startlinecolor": "#2a3f5f"
            },
            "baxis": {
             "endlinecolor": "#2a3f5f",
             "gridcolor": "white",
             "linecolor": "white",
             "minorgridcolor": "white",
             "startlinecolor": "#2a3f5f"
            },
            "type": "carpet"
           }
          ],
          "choropleth": [
           {
            "colorbar": {
             "outlinewidth": 0,
             "ticks": ""
            },
            "type": "choropleth"
           }
          ],
          "contour": [
           {
            "colorbar": {
             "outlinewidth": 0,
             "ticks": ""
            },
            "colorscale": [
             [
              0,
              "#0d0887"
             ],
             [
              0.1111111111111111,
              "#46039f"
             ],
             [
              0.2222222222222222,
              "#7201a8"
             ],
             [
              0.3333333333333333,
              "#9c179e"
             ],
             [
              0.4444444444444444,
              "#bd3786"
             ],
             [
              0.5555555555555556,
              "#d8576b"
             ],
             [
              0.6666666666666666,
              "#ed7953"
             ],
             [
              0.7777777777777778,
              "#fb9f3a"
             ],
             [
              0.8888888888888888,
              "#fdca26"
             ],
             [
              1,
              "#f0f921"
             ]
            ],
            "type": "contour"
           }
          ],
          "contourcarpet": [
           {
            "colorbar": {
             "outlinewidth": 0,
             "ticks": ""
            },
            "type": "contourcarpet"
           }
          ],
          "heatmap": [
           {
            "colorbar": {
             "outlinewidth": 0,
             "ticks": ""
            },
            "colorscale": [
             [
              0,
              "#0d0887"
             ],
             [
              0.1111111111111111,
              "#46039f"
             ],
             [
              0.2222222222222222,
              "#7201a8"
             ],
             [
              0.3333333333333333,
              "#9c179e"
             ],
             [
              0.4444444444444444,
              "#bd3786"
             ],
             [
              0.5555555555555556,
              "#d8576b"
             ],
             [
              0.6666666666666666,
              "#ed7953"
             ],
             [
              0.7777777777777778,
              "#fb9f3a"
             ],
             [
              0.8888888888888888,
              "#fdca26"
             ],
             [
              1,
              "#f0f921"
             ]
            ],
            "type": "heatmap"
           }
          ],
          "histogram": [
           {
            "marker": {
             "pattern": {
              "fillmode": "overlay",
              "size": 10,
              "solidity": 0.2
             }
            },
            "type": "histogram"
           }
          ],
          "histogram2d": [
           {
            "colorbar": {
             "outlinewidth": 0,
             "ticks": ""
            },
            "colorscale": [
             [
              0,
              "#0d0887"
             ],
             [
              0.1111111111111111,
              "#46039f"
             ],
             [
              0.2222222222222222,
              "#7201a8"
             ],
             [
              0.3333333333333333,
              "#9c179e"
             ],
             [
              0.4444444444444444,
              "#bd3786"
             ],
             [
              0.5555555555555556,
              "#d8576b"
             ],
             [
              0.6666666666666666,
              "#ed7953"
             ],
             [
              0.7777777777777778,
              "#fb9f3a"
             ],
             [
              0.8888888888888888,
              "#fdca26"
             ],
             [
              1,
              "#f0f921"
             ]
            ],
            "type": "histogram2d"
           }
          ],
          "histogram2dcontour": [
           {
            "colorbar": {
             "outlinewidth": 0,
             "ticks": ""
            },
            "colorscale": [
             [
              0,
              "#0d0887"
             ],
             [
              0.1111111111111111,
              "#46039f"
             ],
             [
              0.2222222222222222,
              "#7201a8"
             ],
             [
              0.3333333333333333,
              "#9c179e"
             ],
             [
              0.4444444444444444,
              "#bd3786"
             ],
             [
              0.5555555555555556,
              "#d8576b"
             ],
             [
              0.6666666666666666,
              "#ed7953"
             ],
             [
              0.7777777777777778,
              "#fb9f3a"
             ],
             [
              0.8888888888888888,
              "#fdca26"
             ],
             [
              1,
              "#f0f921"
             ]
            ],
            "type": "histogram2dcontour"
           }
          ],
          "mesh3d": [
           {
            "colorbar": {
             "outlinewidth": 0,
             "ticks": ""
            },
            "type": "mesh3d"
           }
          ],
          "parcoords": [
           {
            "line": {
             "colorbar": {
              "outlinewidth": 0,
              "ticks": ""
             }
            },
            "type": "parcoords"
           }
          ],
          "pie": [
           {
            "automargin": true,
            "type": "pie"
           }
          ],
          "scatter": [
           {
            "fillpattern": {
             "fillmode": "overlay",
             "size": 10,
             "solidity": 0.2
            },
            "type": "scatter"
           }
          ],
          "scatter3d": [
           {
            "line": {
             "colorbar": {
              "outlinewidth": 0,
              "ticks": ""
             }
            },
            "marker": {
             "colorbar": {
              "outlinewidth": 0,
              "ticks": ""
             }
            },
            "type": "scatter3d"
           }
          ],
          "scattercarpet": [
           {
            "marker": {
             "colorbar": {
              "outlinewidth": 0,
              "ticks": ""
             }
            },
            "type": "scattercarpet"
           }
          ],
          "scattergeo": [
           {
            "marker": {
             "colorbar": {
              "outlinewidth": 0,
              "ticks": ""
             }
            },
            "type": "scattergeo"
           }
          ],
          "scattergl": [
           {
            "marker": {
             "colorbar": {
              "outlinewidth": 0,
              "ticks": ""
             }
            },
            "type": "scattergl"
           }
          ],
          "scattermap": [
           {
            "marker": {
             "colorbar": {
              "outlinewidth": 0,
              "ticks": ""
             }
            },
            "type": "scattermap"
           }
          ],
          "scattermapbox": [
           {
            "marker": {
             "colorbar": {
              "outlinewidth": 0,
              "ticks": ""
             }
            },
            "type": "scattermapbox"
           }
          ],
          "scatterpolar": [
           {
            "marker": {
             "colorbar": {
              "outlinewidth": 0,
              "ticks": ""
             }
            },
            "type": "scatterpolar"
           }
          ],
          "scatterpolargl": [
           {
            "marker": {
             "colorbar": {
              "outlinewidth": 0,
              "ticks": ""
             }
            },
            "type": "scatterpolargl"
           }
          ],
          "scatterternary": [
           {
            "marker": {
             "colorbar": {
              "outlinewidth": 0,
              "ticks": ""
             }
            },
            "type": "scatterternary"
           }
          ],
          "surface": [
           {
            "colorbar": {
             "outlinewidth": 0,
             "ticks": ""
            },
            "colorscale": [
             [
              0,
              "#0d0887"
             ],
             [
              0.1111111111111111,
              "#46039f"
             ],
             [
              0.2222222222222222,
              "#7201a8"
             ],
             [
              0.3333333333333333,
              "#9c179e"
             ],
             [
              0.4444444444444444,
              "#bd3786"
             ],
             [
              0.5555555555555556,
              "#d8576b"
             ],
             [
              0.6666666666666666,
              "#ed7953"
             ],
             [
              0.7777777777777778,
              "#fb9f3a"
             ],
             [
              0.8888888888888888,
              "#fdca26"
             ],
             [
              1,
              "#f0f921"
             ]
            ],
            "type": "surface"
           }
          ],
          "table": [
           {
            "cells": {
             "fill": {
              "color": "#EBF0F8"
             },
             "line": {
              "color": "white"
             }
            },
            "header": {
             "fill": {
              "color": "#C8D4E3"
             },
             "line": {
              "color": "white"
             }
            },
            "type": "table"
           }
          ]
         },
         "layout": {
          "annotationdefaults": {
           "arrowcolor": "#2a3f5f",
           "arrowhead": 0,
           "arrowwidth": 1
          },
          "autotypenumbers": "strict",
          "coloraxis": {
           "colorbar": {
            "outlinewidth": 0,
            "ticks": ""
           }
          },
          "colorscale": {
           "diverging": [
            [
             0,
             "#8e0152"
            ],
            [
             0.1,
             "#c51b7d"
            ],
            [
             0.2,
             "#de77ae"
            ],
            [
             0.3,
             "#f1b6da"
            ],
            [
             0.4,
             "#fde0ef"
            ],
            [
             0.5,
             "#f7f7f7"
            ],
            [
             0.6,
             "#e6f5d0"
            ],
            [
             0.7,
             "#b8e186"
            ],
            [
             0.8,
             "#7fbc41"
            ],
            [
             0.9,
             "#4d9221"
            ],
            [
             1,
             "#276419"
            ]
           ],
           "sequential": [
            [
             0,
             "#0d0887"
            ],
            [
             0.1111111111111111,
             "#46039f"
            ],
            [
             0.2222222222222222,
             "#7201a8"
            ],
            [
             0.3333333333333333,
             "#9c179e"
            ],
            [
             0.4444444444444444,
             "#bd3786"
            ],
            [
             0.5555555555555556,
             "#d8576b"
            ],
            [
             0.6666666666666666,
             "#ed7953"
            ],
            [
             0.7777777777777778,
             "#fb9f3a"
            ],
            [
             0.8888888888888888,
             "#fdca26"
            ],
            [
             1,
             "#f0f921"
            ]
           ],
           "sequentialminus": [
            [
             0,
             "#0d0887"
            ],
            [
             0.1111111111111111,
             "#46039f"
            ],
            [
             0.2222222222222222,
             "#7201a8"
            ],
            [
             0.3333333333333333,
             "#9c179e"
            ],
            [
             0.4444444444444444,
             "#bd3786"
            ],
            [
             0.5555555555555556,
             "#d8576b"
            ],
            [
             0.6666666666666666,
             "#ed7953"
            ],
            [
             0.7777777777777778,
             "#fb9f3a"
            ],
            [
             0.8888888888888888,
             "#fdca26"
            ],
            [
             1,
             "#f0f921"
            ]
           ]
          },
          "colorway": [
           "#636efa",
           "#EF553B",
           "#00cc96",
           "#ab63fa",
           "#FFA15A",
           "#19d3f3",
           "#FF6692",
           "#B6E880",
           "#FF97FF",
           "#FECB52"
          ],
          "font": {
           "color": "#2a3f5f"
          },
          "geo": {
           "bgcolor": "white",
           "lakecolor": "white",
           "landcolor": "#E5ECF6",
           "showlakes": true,
           "showland": true,
           "subunitcolor": "white"
          },
          "hoverlabel": {
           "align": "left"
          },
          "hovermode": "closest",
          "mapbox": {
           "style": "light"
          },
          "paper_bgcolor": "white",
          "plot_bgcolor": "#E5ECF6",
          "polar": {
           "angularaxis": {
            "gridcolor": "white",
            "linecolor": "white",
            "ticks": ""
           },
           "bgcolor": "#E5ECF6",
           "radialaxis": {
            "gridcolor": "white",
            "linecolor": "white",
            "ticks": ""
           }
          },
          "scene": {
           "xaxis": {
            "backgroundcolor": "#E5ECF6",
            "gridcolor": "white",
            "gridwidth": 2,
            "linecolor": "white",
            "showbackground": true,
            "ticks": "",
            "zerolinecolor": "white"
           },
           "yaxis": {
            "backgroundcolor": "#E5ECF6",
            "gridcolor": "white",
            "gridwidth": 2,
            "linecolor": "white",
            "showbackground": true,
            "ticks": "",
            "zerolinecolor": "white"
           },
           "zaxis": {
            "backgroundcolor": "#E5ECF6",
            "gridcolor": "white",
            "gridwidth": 2,
            "linecolor": "white",
            "showbackground": true,
            "ticks": "",
            "zerolinecolor": "white"
           }
          },
          "shapedefaults": {
           "line": {
            "color": "#2a3f5f"
           }
          },
          "ternary": {
           "aaxis": {
            "gridcolor": "white",
            "linecolor": "white",
            "ticks": ""
           },
           "baxis": {
            "gridcolor": "white",
            "linecolor": "white",
            "ticks": ""
           },
           "bgcolor": "#E5ECF6",
           "caxis": {
            "gridcolor": "white",
            "linecolor": "white",
            "ticks": ""
           }
          },
          "title": {
           "x": 0.05
          },
          "xaxis": {
           "automargin": true,
           "gridcolor": "white",
           "linecolor": "white",
           "ticks": "",
           "title": {
            "standoff": 15
           },
           "zerolinecolor": "white",
           "zerolinewidth": 2
          },
          "yaxis": {
           "automargin": true,
           "gridcolor": "white",
           "linecolor": "white",
           "ticks": "",
           "title": {
            "standoff": 15
           },
           "zerolinecolor": "white",
           "zerolinewidth": 2
          }
         }
        },
        "title": {
         "text": "Cross-Validation Metrics Across Folds"
        },
        "width": 1500,
        "xaxis": {
         "anchor": "y",
         "domain": [
          0,
          0.2822222222222222
         ],
         "title": {
          "text": "Fold"
         }
        },
        "xaxis2": {
         "anchor": "y2",
         "domain": [
          0.34888888888888886,
          0.6311111111111111
         ],
         "title": {
          "text": "Fold"
         }
        },
        "xaxis3": {
         "anchor": "y3",
         "domain": [
          0.6977777777777777,
          0.98
         ],
         "title": {
          "text": "Fold"
         }
        },
        "xaxis4": {
         "anchor": "y4",
         "domain": [
          0,
          0.2822222222222222
         ],
         "title": {
          "text": "Fold"
         }
        },
        "xaxis5": {
         "anchor": "y5",
         "domain": [
          0.34888888888888886,
          0.6311111111111111
         ],
         "title": {
          "text": "Fold"
         }
        },
        "xaxis6": {
         "anchor": "y6",
         "domain": [
          0.6977777777777777,
          0.98
         ],
         "title": {
          "text": "Fold"
         }
        },
        "yaxis": {
         "anchor": "x",
         "domain": [
          0.55,
          1
         ],
         "title": {
          "text": "Score"
         }
        },
        "yaxis2": {
         "anchor": "x2",
         "domain": [
          0.55,
          1
         ],
         "title": {
          "text": "Score"
         }
        },
        "yaxis3": {
         "anchor": "x3",
         "domain": [
          0.55,
          1
         ],
         "title": {
          "text": "Score"
         }
        },
        "yaxis4": {
         "anchor": "x4",
         "domain": [
          0,
          0.45
         ],
         "title": {
          "text": "Score"
         }
        },
        "yaxis5": {
         "anchor": "x5",
         "domain": [
          0,
          0.45
         ],
         "title": {
          "text": "Score"
         }
        },
        "yaxis6": {
         "anchor": "x6",
         "domain": [
          0,
          0.45
         ],
         "title": {
          "text": "Score"
         }
        }
       }
      }
     },
     "metadata": {},
     "output_type": "display_data"
    }
   ],
   "source": [
    "# Score details on each fold\n",
    "dummy_params = {\n",
    "    \"beta\": args[\"beta\"],\n",
    "    \"cv_folds\": args[\"cv_folds\"],\n",
    "    \"strategy\": \"most_frequent\",\n",
    "    \"random_state\": args[\"random_state\"],\n",
    "}\n",
    "dummy = DummyEstimator(dummy_params)\n",
    "dummy_cv_score = dummy.cross_validate(X_train,y_train)\n",
    "\n",
    "model_cv_score = model.cross_validate(X_train,y_train)\n",
    "\n",
    "print(f\"Dummy CV Score: {dummy_cv_score:.4f}\")\n",
    "print(f\"Random Forest CV Score: {model_cv_score:.4f}\")\n",
    "\n",
    "dummy_scores = dummy.cv_scores  \n",
    "model_scores = model.cv_scores\n",
    "\n",
    "fig = make_subplots(\n",
    "    rows=2, cols=3,\n",
    "    subplot_titles=('Precision', 'Recall', f'F{beta} Score'),\n",
    "    row_titles=['Train', 'Validation'],\n",
    "    vertical_spacing=0.1\n",
    ")\n",
    "\n",
    "models = {'Dummy': dummy, 'Random Forest': model }\n",
    "colors = {'Dummy': 'red', 'Random Forest': 'green'}\n",
    "\n",
    "for model_name, model in models.items():\n",
    "    color = colors[model_name]\n",
    "    \n",
    "    # Train metrics\n",
    "    fig.add_trace(\n",
    "        go.Scatter(x=list(range(1, cv_folds+1)), \n",
    "                  y=model.cv_scores['train']['precision'],\n",
    "                  mode='lines+markers', \n",
    "                  name=f'{model_name}',\n",
    "                  line=dict(color=color),\n",
    "                  legendgroup=model_name,\n",
    "                  showlegend=True),\n",
    "        row=1, col=1\n",
    "    )\n",
    "    \n",
    "    fig.add_trace(\n",
    "        go.Scatter(x=list(range(1, cv_folds+1)), \n",
    "                  y=model.cv_scores['train']['recall'],\n",
    "                  mode='lines+markers', \n",
    "                  name=f'{model_name} Train Recall',\n",
    "                  line=dict(color=color),\n",
    "                  legendgroup=model_name,\n",
    "                  showlegend=False),\n",
    "        row=1, col=2\n",
    "    )\n",
    "    \n",
    "    fig.add_trace(\n",
    "        go.Scatter(x=list(range(1, cv_folds+1)), \n",
    "                  y=model.cv_scores['train'][f'F{beta}'],\n",
    "                  mode='lines+markers', \n",
    "                  name=f'{model_name} Train F{beta}',\n",
    "                  line=dict(color=color),\n",
    "                  legendgroup=model_name,\n",
    "                  showlegend=False),\n",
    "        row=1, col=3\n",
    "    )\n",
    "    \n",
    "    # Validation metrics\n",
    "    fig.add_trace(\n",
    "        go.Scatter(x=list(range(1, cv_folds+1)), \n",
    "                  y=model.cv_scores['valid']['precision'],\n",
    "                  mode='lines+markers', \n",
    "                  name=f'{model_name} Valid Precision',\n",
    "                  line=dict(color=color),\n",
    "                  legendgroup=model_name,\n",
    "                  showlegend=False),\n",
    "        row=2, col=1\n",
    "    )\n",
    "    \n",
    "    fig.add_trace(\n",
    "        go.Scatter(x=list(range(1, cv_folds+1)), \n",
    "                  y=model.cv_scores['valid']['recall'],\n",
    "                  mode='lines+markers', \n",
    "                  name=f'{model_name} Valid Recall',\n",
    "                  line=dict(color=color),\n",
    "                  legendgroup=model_name,\n",
    "                  showlegend=False),\n",
    "        row=2, col=2\n",
    "    )\n",
    "    \n",
    "    fig.add_trace(\n",
    "        go.Scatter(x=list(range(1, cv_folds+1)), \n",
    "                  y=model.cv_scores['valid'][f'F{beta}'],\n",
    "                  mode='lines+markers', \n",
    "                  name=f'{model_name} Valid F{beta}',\n",
    "                  line=dict(color=color),\n",
    "                  legendgroup=model_name,\n",
    "                  showlegend=False),\n",
    "        row=2, col=3\n",
    "    )\n",
    "\n",
    "fig.update_xaxes(title_text=\"Fold\")\n",
    "fig.update_yaxes(title_text=\"Score\")\n",
    "fig.update_layout(height=600, width=1500, title=\"Cross-Validation Metrics Across Folds\")\n",
    "fig.show()"
   ]
  },
  {
   "cell_type": "markdown",
   "id": "51f8654f",
   "metadata": {},
   "source": [
    "1) We observe some over-fitting (gap in metrics in fold 3) but scores remain consistent.\n",
    "2) The model shows a higher precision than recall as expected.\n",
    "3) Dummy Classifier is clearly outperformed !"
   ]
  },
  {
   "cell_type": "code",
   "execution_count": 23,
   "id": "6025a850",
   "metadata": {},
   "outputs": [
    {
     "name": "stdout",
     "output_type": "stream",
     "text": [
      "Best configuration saved to: models/params/rf.json\n"
     ]
    }
   ],
   "source": [
    "# Saving best configs\n",
    "save_config_path = os.path.join(\"models\",\"params\",\"rf.json\")\n",
    "os.makedirs(os.path.dirname(save_config_path), exist_ok=True)\n",
    "with open(save_config_path, 'w') as f:\n",
    "    json.dump(best_config, f, indent=4)\n",
    "\n",
    "print(f\"Best configuration saved to: {save_config_path}\")"
   ]
  },
  {
   "cell_type": "code",
   "execution_count": 24,
   "id": "e3b13e62",
   "metadata": {},
   "outputs": [
    {
     "name": "stdout",
     "output_type": "stream",
     "text": [
      "Evaluating on test set\n",
      "Evaluating on test set\n",
      "Test Set Performance Comparison:\n",
      "| Model         |   Precision |   Recall |   F0.5 Score |\n",
      "|---------------|-------------|----------|--------------|\n",
      "| Dummy         |      0.624  |   1      |       0.6748 |\n",
      "| Random Forest |      0.8108 |   0.7453 |       0.7968 |\n"
     ]
    }
   ],
   "source": [
    "# Evaluation metrics\n",
    "\n",
    "model_test_scores = model.evaluate(X_test,y_test)\n",
    "dummy_test_scores = dummy.evaluate(X_test,y_test)\n",
    "\n",
    "# Create comparison table\n",
    "data = [\n",
    "    [\"Model\", \"Precision\", \"Recall\", f\"F{beta} Score\"],\n",
    "    [\"Dummy\", f\"{dummy_test_scores['precision']:.4f}\", f\"{dummy_test_scores['recall']:.4f}\", f\"{dummy_test_scores[f'F{beta}']:.4f}\"],\n",
    "    [\"Random Forest\", f\"{model_test_scores['precision']:.4f}\", f\"{model_test_scores['recall']:.4f}\", f\"{model_test_scores[f'F{beta}']:.4f}\"]\n",
    "]\n",
    "\n",
    "print(\"Test Set Performance Comparison:\")\n",
    "print(tabulate(data, headers=\"firstrow\", tablefmt=\"github\"))"
   ]
  },
  {
   "cell_type": "markdown",
   "id": "05089ec0",
   "metadata": {},
   "source": [
    "Random Forest generalizes well on unseen data (almost the same metrics as during cross validation), plus it still outperforms dummy classifier !"
   ]
  }
 ],
 "metadata": {
  "kernelspec": {
   "display_name": "ml",
   "language": "python",
   "name": "python3"
  },
  "language_info": {
   "codemirror_mode": {
    "name": "ipython",
    "version": 3
   },
   "file_extension": ".py",
   "mimetype": "text/x-python",
   "name": "python",
   "nbconvert_exporter": "python",
   "pygments_lexer": "ipython3",
   "version": "3.11.13"
  }
 },
 "nbformat": 4,
 "nbformat_minor": 5
}
