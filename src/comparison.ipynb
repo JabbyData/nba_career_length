{
 "cells": [
  {
   "cell_type": "code",
   "execution_count": 8,
   "id": "1406995e",
   "metadata": {},
   "outputs": [],
   "source": [
    "# Dependencies\n",
    "\n",
    "# Data Manip\n",
    "import pandas as pd\n",
    "\n",
    "# Linear Algebra\n",
    "import numpy as np\n",
    "\n",
    "# Machine Learning\n",
    "from sklearn.preprocessing import RobustScaler\n",
    "from sklearn.model_selection import train_test_split\n",
    "from models.lr import LREstimator\n",
    "from models.rf import RFEstimator\n",
    "from models.knn import KNEstimator\n",
    "from models.svc import SVEstimator\n",
    "from sklearn.decomposition import PCA\n",
    "\n",
    "# System & Files\n",
    "import os\n",
    "import json\n",
    "\n",
    "# Visualization\n",
    "import plotly.graph_objects as go\n",
    "from plotly.subplots import make_subplots\n",
    "from tabulate import tabulate\n",
    "\n",
    "seed = 42\n",
    "np.random.seed(seed)\n",
    "import random\n",
    "random.seed(seed)"
   ]
  },
  {
   "cell_type": "code",
   "execution_count": 9,
   "id": "d4e18b81",
   "metadata": {},
   "outputs": [],
   "source": [
    "# Loading best models\n",
    "best_config_folder_path = os.path.join(\"models\",\"params\")\n",
    "\n",
    "# KNN\n",
    "knn_config_path = os.path.join(best_config_folder_path,\"knn.json\")\n",
    "with open(knn_config_path, 'r') as f:\n",
    "    knn_config = json.load(f)\n",
    "\n",
    "if knn_config[\"scaler_type\"] == \"robust\":\n",
    "    knn_config[\"scaler\"] = RobustScaler()\n",
    "\n",
    "if knn_config[\"pca_level\"] is not None:\n",
    "    knn_config[\"pca\"] = PCA(n_components=knn_config[\"pca_level\"],random_state=knn_config[\"random_state\"])\n",
    "else:\n",
    "    knn_config[\"pca\"] = None\n",
    "\n",
    "knn = KNEstimator(knn_config)\n",
    "\n",
    "# LR\n",
    "lr_config_path = os.path.join(best_config_folder_path,\"lr.json\")\n",
    "with open(lr_config_path, 'r') as f:\n",
    "    lr_config = json.load(f)\n",
    "\n",
    "if lr_config[\"scaler_type\"] == \"robust\":\n",
    "    lr_config[\"scaler\"] = RobustScaler()\n",
    "\n",
    "if lr_config[\"pca_level\"] is not None:\n",
    "    lr_config[\"pca\"] = PCA(n_components=lr_config[\"pca_level\"],random_state=lr_config[\"random_state\"])\n",
    "else:\n",
    "    lr_config[\"pca\"] = None\n",
    "\n",
    "lr = LREstimator(lr_config)\n",
    "\n",
    "# RF\n",
    "rf_config_path = os.path.join(best_config_folder_path,\"rf.json\")\n",
    "with open(rf_config_path, 'r') as f:\n",
    "    rf_config = json.load(f)\n",
    "\n",
    "rf = RFEstimator(rf_config)\n",
    "\n",
    "# SVC\n",
    "svc_config_path = os.path.join(best_config_folder_path,\"svc.json\")\n",
    "with open(svc_config_path, 'r') as f:\n",
    "    svc_config = json.load(f)\n",
    "\n",
    "if svc_config[\"scaler_type\"] == \"robust\":\n",
    "    svc_config[\"scaler\"] = RobustScaler()\n",
    "\n",
    "if svc_config[\"pca_level\"] is not None:\n",
    "    svc_config[\"pca\"] = PCA(n_components=svc_config[\"pca_level\"],random_state=svc_config[\"random_state\"])\n",
    "else:\n",
    "    svc_config[\"pca\"] = None\n",
    "\n",
    "svc = SVEstimator(svc_config)"
   ]
  },
  {
   "cell_type": "code",
   "execution_count": 10,
   "id": "56b6da5d",
   "metadata": {},
   "outputs": [],
   "source": [
    "# Data Collection\n",
    "data_filtered_path = \"data/nba_filtered.csv\"\n",
    "df_filtered = pd.read_csv(data_filtered_path)\n",
    "\n",
    "data_filtered_capped_path = \"data/nba_filtered_capped.csv\"\n",
    "df_filtered_capped = pd.read_csv(data_filtered_capped_path)"
   ]
  },
  {
   "cell_type": "code",
   "execution_count": 11,
   "id": "3295f892",
   "metadata": {},
   "outputs": [],
   "source": [
    "# Data Split\n",
    "target = \"TARGET_5Yrs\"\n",
    "test_size = 0.2\n",
    "cv_folds = 4\n",
    "\n",
    "X_filtered = df_filtered.drop(columns=[target]).values\n",
    "y_filtered = df_filtered_capped[target].values\n",
    "\n",
    "X_train_filtered, X_test_filtered, y_train_filtered, y_test_filtered = train_test_split(X_filtered,y_filtered,stratify=y_filtered,test_size=test_size,shuffle=True,random_state=seed)\n",
    "\n",
    "X_filtered_capped = df_filtered_capped.drop(columns=[target]).values\n",
    "y_filtered_capped = df_filtered_capped[target].values\n",
    "\n",
    "X_train_filtered_capped, X_test_filtered_capped, y_train_filtered_capped, y_test_filtered_capped = train_test_split(X_filtered_capped,y_filtered_capped,stratify=y_filtered_capped,test_size=test_size,shuffle=True,random_state=seed)"
   ]
  },
  {
   "cell_type": "code",
   "execution_count": 12,
   "id": "601b2231",
   "metadata": {},
   "outputs": [],
   "source": [
    "# Cross validating\n",
    "knn_cv_score = knn.cross_validate(X_train=X_train_filtered_capped,y_train=y_train_filtered_capped) # could use the same y for all models but for readibility I prefer calling different instances\n",
    "lr_cv_score = lr.cross_validate(X_train=X_train_filtered_capped,y_train=y_train_filtered_capped)\n",
    "svc_cv_score = svc.cross_validate(X_train=X_train_filtered_capped,y_train=y_train_filtered_capped)\n",
    "rf_cv_score = rf.cross_validate(X_train=X_train_filtered,y_train=y_train_filtered)"
   ]
  },
  {
   "cell_type": "code",
   "execution_count": 13,
   "id": "cccc21e2",
   "metadata": {},
   "outputs": [
    {
     "data": {
      "application/vnd.plotly.v1+json": {
       "config": {
        "plotlyServerURL": "https://plot.ly"
       },
       "data": [
        {
         "legendgroup": "KNN",
         "marker": {
          "color": "blue"
         },
         "mode": "markers+lines",
         "name": "KNN",
         "showlegend": true,
         "type": "scatter",
         "x": [
          0,
          1,
          2,
          3
         ],
         "xaxis": "x",
         "y": [
          0.7580645161290323,
          0.7642276422764228,
          0.7830578512396694,
          0.751937984496124
         ],
         "yaxis": "y"
        },
        {
         "legendgroup": "KNN",
         "marker": {
          "color": "blue"
         },
         "mode": "markers+lines",
         "name": "KNN",
         "showlegend": false,
         "type": "scatter",
         "x": [
          0,
          1,
          2,
          3
         ],
         "xaxis": "x2",
         "y": [
          0.7800829875518672,
          0.7800829875518672,
          0.7846790890269151,
          0.8049792531120332
         ],
         "yaxis": "y2"
        },
        {
         "legendgroup": "KNN",
         "marker": {
          "color": "blue"
         },
         "mode": "markers+lines",
         "name": "KNN",
         "showlegend": false,
         "type": "scatter",
         "x": [
          0,
          1,
          2,
          3
         ],
         "xaxis": "x3",
         "y": [
          0.7623682076236821,
          0.7673469387755102,
          0.7833815626291856,
          0.7619795758051846
         ],
         "yaxis": "y3"
        },
        {
         "legendgroup": "KNN",
         "marker": {
          "color": "blue"
         },
         "mode": "markers+lines",
         "name": "KNN",
         "showlegend": false,
         "type": "scatter",
         "x": [
          0,
          1,
          2,
          3
         ],
         "xaxis": "x4",
         "y": [
          0.7455621301775148,
          0.7852760736196319,
          0.7391304347826086,
          0.7305389221556886
         ],
         "yaxis": "y4"
        },
        {
         "legendgroup": "KNN",
         "marker": {
          "color": "blue"
         },
         "mode": "markers+lines",
         "name": "KNN",
         "showlegend": false,
         "type": "scatter",
         "x": [
          0,
          1,
          2,
          3
         ],
         "xaxis": "x5",
         "y": [
          0.782608695652174,
          0.7950310559006211,
          0.74375,
          0.7577639751552795
         ],
         "yaxis": "y5"
        },
        {
         "legendgroup": "KNN",
         "marker": {
          "color": "blue"
         },
         "mode": "markers+lines",
         "name": "KNN",
         "showlegend": false,
         "type": "scatter",
         "x": [
          0,
          1,
          2,
          3
         ],
         "xaxis": "x6",
         "y": [
          0.7526881720430108,
          0.7872078720787208,
          0.7400497512437811,
          0.7358262967430639
         ],
         "yaxis": "y6"
        },
        {
         "legendgroup": "LR",
         "marker": {
          "color": "red"
         },
         "mode": "markers+lines",
         "name": "LR",
         "showlegend": true,
         "type": "scatter",
         "x": [
          0,
          1,
          2,
          3
         ],
         "xaxis": "x",
         "y": [
          0.8115577889447236,
          0.805,
          0.8147208121827412,
          0.784841075794621
         ],
         "yaxis": "y"
        },
        {
         "legendgroup": "LR",
         "marker": {
          "color": "red"
         },
         "mode": "markers+lines",
         "name": "LR",
         "showlegend": false,
         "type": "scatter",
         "x": [
          0,
          1,
          2,
          3
         ],
         "xaxis": "x2",
         "y": [
          0.6701244813278008,
          0.6680497925311203,
          0.6645962732919255,
          0.6659751037344398
         ],
         "yaxis": "y2"
        },
        {
         "legendgroup": "LR",
         "marker": {
          "color": "red"
         },
         "mode": "markers+lines",
         "name": "LR",
         "showlegend": false,
         "type": "scatter",
         "x": [
          0,
          1,
          2,
          3
         ],
         "xaxis": "x3",
         "y": [
          0.7786885245901639,
          0.7732949087415946,
          0.779504613890238,
          0.7577903682719547
         ],
         "yaxis": "y3"
        },
        {
         "legendgroup": "LR",
         "marker": {
          "color": "red"
         },
         "mode": "markers+lines",
         "name": "LR",
         "showlegend": false,
         "type": "scatter",
         "x": [
          0,
          1,
          2,
          3
         ],
         "xaxis": "x4",
         "y": [
          0.8014184397163121,
          0.8161764705882353,
          0.7786259541984732,
          0.8387096774193549
         ],
         "yaxis": "y4"
        },
        {
         "legendgroup": "LR",
         "marker": {
          "color": "red"
         },
         "mode": "markers+lines",
         "name": "LR",
         "showlegend": false,
         "type": "scatter",
         "x": [
          0,
          1,
          2,
          3
         ],
         "xaxis": "x5",
         "y": [
          0.7018633540372671,
          0.6894409937888198,
          0.6375,
          0.6459627329192547
         ],
         "yaxis": "y5"
        },
        {
         "legendgroup": "LR",
         "marker": {
          "color": "red"
         },
         "mode": "markers+lines",
         "name": "LR",
         "showlegend": false,
         "type": "scatter",
         "x": [
          0,
          1,
          2,
          3
         ],
         "xaxis": "x6",
         "y": [
          0.7793103448275862,
          0.7872340425531915,
          0.7456140350877193,
          0.791476407914764
         ],
         "yaxis": "y6"
        },
        {
         "legendgroup": "SVC",
         "marker": {
          "color": "green"
         },
         "mode": "markers+lines",
         "name": "SVC",
         "showlegend": true,
         "type": "scatter",
         "x": [
          0,
          1,
          2,
          3
         ],
         "xaxis": "x",
         "y": [
          0.8065326633165829,
          0.8191489361702128,
          0.8360655737704918,
          0.8084577114427861
         ],
         "yaxis": "y"
        },
        {
         "legendgroup": "SVC",
         "marker": {
          "color": "green"
         },
         "mode": "markers+lines",
         "name": "SVC",
         "showlegend": false,
         "type": "scatter",
         "x": [
          0,
          1,
          2,
          3
         ],
         "xaxis": "x2",
         "y": [
          0.6659751037344398,
          0.6390041493775933,
          0.6335403726708074,
          0.6742738589211619
         ],
         "yaxis": "y2"
        },
        {
         "legendgroup": "SVC",
         "marker": {
          "color": "green"
         },
         "mode": "markers+lines",
         "name": "SVC",
         "showlegend": false,
         "type": "scatter",
         "x": [
          0,
          1,
          2,
          3
         ],
         "xaxis": "x3",
         "y": [
          0.7738669238187078,
          0.7754279959718026,
          0.785824345146379,
          0.777511961722488
         ],
         "yaxis": "y3"
        },
        {
         "legendgroup": "SVC",
         "marker": {
          "color": "green"
         },
         "mode": "markers+lines",
         "name": "SVC",
         "showlegend": false,
         "type": "scatter",
         "x": [
          0,
          1,
          2,
          3
         ],
         "xaxis": "x4",
         "y": [
          0.7943262411347518,
          0.8153846153846154,
          0.8050847457627118,
          0.8174603174603174
         ],
         "yaxis": "y4"
        },
        {
         "legendgroup": "SVC",
         "marker": {
          "color": "green"
         },
         "mode": "markers+lines",
         "name": "SVC",
         "showlegend": false,
         "type": "scatter",
         "x": [
          0,
          1,
          2,
          3
         ],
         "xaxis": "x5",
         "y": [
          0.6956521739130435,
          0.6583850931677019,
          0.59375,
          0.639751552795031
         ],
         "yaxis": "y5"
        },
        {
         "legendgroup": "SVC",
         "marker": {
          "color": "green"
         },
         "mode": "markers+lines",
         "name": "SVC",
         "showlegend": false,
         "type": "scatter",
         "x": [
          0,
          1,
          2,
          3
         ],
         "xaxis": "x6",
         "y": [
          0.7724137931034483,
          0.7782672540381792,
          0.7515822784810127,
          0.7744360902255639
         ],
         "yaxis": "y6"
        },
        {
         "legendgroup": "RF",
         "marker": {
          "color": "orange"
         },
         "mode": "markers+lines",
         "name": "RF",
         "showlegend": true,
         "type": "scatter",
         "x": [
          0,
          1,
          2,
          3
         ],
         "xaxis": "x",
         "y": [
          0.8557213930348259,
          0.8511166253101737,
          0.8463414634146341,
          0.8262910798122066
         ],
         "yaxis": "y"
        },
        {
         "legendgroup": "RF",
         "marker": {
          "color": "orange"
         },
         "mode": "markers+lines",
         "name": "RF",
         "showlegend": false,
         "type": "scatter",
         "x": [
          0,
          1,
          2,
          3
         ],
         "xaxis": "x2",
         "y": [
          0.7136929460580913,
          0.7116182572614108,
          0.7184265010351967,
          0.7302904564315352
         ],
         "yaxis": "y2"
        },
        {
         "legendgroup": "RF",
         "marker": {
          "color": "orange"
         },
         "mode": "markers+lines",
         "name": "RF",
         "showlegend": false,
         "type": "scatter",
         "x": [
          0,
          1,
          2,
          3
         ],
         "xaxis": "x3",
         "y": [
          0.8229665071770335,
          0.8190066857688634,
          0.8172397550635893,
          0.8051235132662397
         ],
         "yaxis": "y3"
        },
        {
         "legendgroup": "RF",
         "marker": {
          "color": "orange"
         },
         "mode": "markers+lines",
         "name": "RF",
         "showlegend": false,
         "type": "scatter",
         "x": [
          0,
          1,
          2,
          3
         ],
         "xaxis": "x4",
         "y": [
          0.8142857142857143,
          0.8014184397163121,
          0.7557251908396947,
          0.8106060606060606
         ],
         "yaxis": "y4"
        },
        {
         "legendgroup": "RF",
         "marker": {
          "color": "orange"
         },
         "mode": "markers+lines",
         "name": "RF",
         "showlegend": false,
         "type": "scatter",
         "x": [
          0,
          1,
          2,
          3
         ],
         "xaxis": "x5",
         "y": [
          0.7080745341614907,
          0.7018633540372671,
          0.61875,
          0.6645962732919255
         ],
         "yaxis": "y5"
        },
        {
         "legendgroup": "RF",
         "marker": {
          "color": "orange"
         },
         "mode": "markers+lines",
         "name": "RF",
         "showlegend": false,
         "type": "scatter",
         "x": [
          0,
          1,
          2,
          3
         ],
         "xaxis": "x6",
         "y": [
          0.7905686546463245,
          0.7793103448275862,
          0.7236842105263158,
          0.7764876632801161
         ],
         "yaxis": "y6"
        }
       ],
       "layout": {
        "annotations": [
         {
          "font": {
           "size": 16
          },
          "showarrow": false,
          "text": "Precision",
          "x": 0.1411111111111111,
          "xanchor": "center",
          "xref": "paper",
          "y": 1,
          "yanchor": "bottom",
          "yref": "paper"
         },
         {
          "font": {
           "size": 16
          },
          "showarrow": false,
          "text": "Recall",
          "x": 0.49,
          "xanchor": "center",
          "xref": "paper",
          "y": 1,
          "yanchor": "bottom",
          "yref": "paper"
         },
         {
          "font": {
           "size": 16
          },
          "showarrow": false,
          "text": "F-Beta",
          "x": 0.8388888888888888,
          "xanchor": "center",
          "xref": "paper",
          "y": 1,
          "yanchor": "bottom",
          "yref": "paper"
         },
         {
          "font": {
           "size": 16
          },
          "showarrow": false,
          "text": "Precision",
          "x": 0.1411111111111111,
          "xanchor": "center",
          "xref": "paper",
          "y": 0.45,
          "yanchor": "bottom",
          "yref": "paper"
         },
         {
          "font": {
           "size": 16
          },
          "showarrow": false,
          "text": "Recall",
          "x": 0.49,
          "xanchor": "center",
          "xref": "paper",
          "y": 0.45,
          "yanchor": "bottom",
          "yref": "paper"
         },
         {
          "font": {
           "size": 16
          },
          "showarrow": false,
          "text": "F-Beta",
          "x": 0.8388888888888888,
          "xanchor": "center",
          "xref": "paper",
          "y": 0.45,
          "yanchor": "bottom",
          "yref": "paper"
         },
         {
          "font": {
           "size": 16
          },
          "showarrow": false,
          "text": "Training",
          "textangle": 90,
          "x": 0.98,
          "xanchor": "left",
          "xref": "paper",
          "y": 0.775,
          "yanchor": "middle",
          "yref": "paper"
         },
         {
          "font": {
           "size": 16
          },
          "showarrow": false,
          "text": "Validation",
          "textangle": 90,
          "x": 0.98,
          "xanchor": "left",
          "xref": "paper",
          "y": 0.225,
          "yanchor": "middle",
          "yref": "paper"
         }
        ],
        "height": 600,
        "template": {
         "data": {
          "bar": [
           {
            "error_x": {
             "color": "#2a3f5f"
            },
            "error_y": {
             "color": "#2a3f5f"
            },
            "marker": {
             "line": {
              "color": "#E5ECF6",
              "width": 0.5
             },
             "pattern": {
              "fillmode": "overlay",
              "size": 10,
              "solidity": 0.2
             }
            },
            "type": "bar"
           }
          ],
          "barpolar": [
           {
            "marker": {
             "line": {
              "color": "#E5ECF6",
              "width": 0.5
             },
             "pattern": {
              "fillmode": "overlay",
              "size": 10,
              "solidity": 0.2
             }
            },
            "type": "barpolar"
           }
          ],
          "carpet": [
           {
            "aaxis": {
             "endlinecolor": "#2a3f5f",
             "gridcolor": "white",
             "linecolor": "white",
             "minorgridcolor": "white",
             "startlinecolor": "#2a3f5f"
            },
            "baxis": {
             "endlinecolor": "#2a3f5f",
             "gridcolor": "white",
             "linecolor": "white",
             "minorgridcolor": "white",
             "startlinecolor": "#2a3f5f"
            },
            "type": "carpet"
           }
          ],
          "choropleth": [
           {
            "colorbar": {
             "outlinewidth": 0,
             "ticks": ""
            },
            "type": "choropleth"
           }
          ],
          "contour": [
           {
            "colorbar": {
             "outlinewidth": 0,
             "ticks": ""
            },
            "colorscale": [
             [
              0,
              "#0d0887"
             ],
             [
              0.1111111111111111,
              "#46039f"
             ],
             [
              0.2222222222222222,
              "#7201a8"
             ],
             [
              0.3333333333333333,
              "#9c179e"
             ],
             [
              0.4444444444444444,
              "#bd3786"
             ],
             [
              0.5555555555555556,
              "#d8576b"
             ],
             [
              0.6666666666666666,
              "#ed7953"
             ],
             [
              0.7777777777777778,
              "#fb9f3a"
             ],
             [
              0.8888888888888888,
              "#fdca26"
             ],
             [
              1,
              "#f0f921"
             ]
            ],
            "type": "contour"
           }
          ],
          "contourcarpet": [
           {
            "colorbar": {
             "outlinewidth": 0,
             "ticks": ""
            },
            "type": "contourcarpet"
           }
          ],
          "heatmap": [
           {
            "colorbar": {
             "outlinewidth": 0,
             "ticks": ""
            },
            "colorscale": [
             [
              0,
              "#0d0887"
             ],
             [
              0.1111111111111111,
              "#46039f"
             ],
             [
              0.2222222222222222,
              "#7201a8"
             ],
             [
              0.3333333333333333,
              "#9c179e"
             ],
             [
              0.4444444444444444,
              "#bd3786"
             ],
             [
              0.5555555555555556,
              "#d8576b"
             ],
             [
              0.6666666666666666,
              "#ed7953"
             ],
             [
              0.7777777777777778,
              "#fb9f3a"
             ],
             [
              0.8888888888888888,
              "#fdca26"
             ],
             [
              1,
              "#f0f921"
             ]
            ],
            "type": "heatmap"
           }
          ],
          "histogram": [
           {
            "marker": {
             "pattern": {
              "fillmode": "overlay",
              "size": 10,
              "solidity": 0.2
             }
            },
            "type": "histogram"
           }
          ],
          "histogram2d": [
           {
            "colorbar": {
             "outlinewidth": 0,
             "ticks": ""
            },
            "colorscale": [
             [
              0,
              "#0d0887"
             ],
             [
              0.1111111111111111,
              "#46039f"
             ],
             [
              0.2222222222222222,
              "#7201a8"
             ],
             [
              0.3333333333333333,
              "#9c179e"
             ],
             [
              0.4444444444444444,
              "#bd3786"
             ],
             [
              0.5555555555555556,
              "#d8576b"
             ],
             [
              0.6666666666666666,
              "#ed7953"
             ],
             [
              0.7777777777777778,
              "#fb9f3a"
             ],
             [
              0.8888888888888888,
              "#fdca26"
             ],
             [
              1,
              "#f0f921"
             ]
            ],
            "type": "histogram2d"
           }
          ],
          "histogram2dcontour": [
           {
            "colorbar": {
             "outlinewidth": 0,
             "ticks": ""
            },
            "colorscale": [
             [
              0,
              "#0d0887"
             ],
             [
              0.1111111111111111,
              "#46039f"
             ],
             [
              0.2222222222222222,
              "#7201a8"
             ],
             [
              0.3333333333333333,
              "#9c179e"
             ],
             [
              0.4444444444444444,
              "#bd3786"
             ],
             [
              0.5555555555555556,
              "#d8576b"
             ],
             [
              0.6666666666666666,
              "#ed7953"
             ],
             [
              0.7777777777777778,
              "#fb9f3a"
             ],
             [
              0.8888888888888888,
              "#fdca26"
             ],
             [
              1,
              "#f0f921"
             ]
            ],
            "type": "histogram2dcontour"
           }
          ],
          "mesh3d": [
           {
            "colorbar": {
             "outlinewidth": 0,
             "ticks": ""
            },
            "type": "mesh3d"
           }
          ],
          "parcoords": [
           {
            "line": {
             "colorbar": {
              "outlinewidth": 0,
              "ticks": ""
             }
            },
            "type": "parcoords"
           }
          ],
          "pie": [
           {
            "automargin": true,
            "type": "pie"
           }
          ],
          "scatter": [
           {
            "fillpattern": {
             "fillmode": "overlay",
             "size": 10,
             "solidity": 0.2
            },
            "type": "scatter"
           }
          ],
          "scatter3d": [
           {
            "line": {
             "colorbar": {
              "outlinewidth": 0,
              "ticks": ""
             }
            },
            "marker": {
             "colorbar": {
              "outlinewidth": 0,
              "ticks": ""
             }
            },
            "type": "scatter3d"
           }
          ],
          "scattercarpet": [
           {
            "marker": {
             "colorbar": {
              "outlinewidth": 0,
              "ticks": ""
             }
            },
            "type": "scattercarpet"
           }
          ],
          "scattergeo": [
           {
            "marker": {
             "colorbar": {
              "outlinewidth": 0,
              "ticks": ""
             }
            },
            "type": "scattergeo"
           }
          ],
          "scattergl": [
           {
            "marker": {
             "colorbar": {
              "outlinewidth": 0,
              "ticks": ""
             }
            },
            "type": "scattergl"
           }
          ],
          "scattermap": [
           {
            "marker": {
             "colorbar": {
              "outlinewidth": 0,
              "ticks": ""
             }
            },
            "type": "scattermap"
           }
          ],
          "scattermapbox": [
           {
            "marker": {
             "colorbar": {
              "outlinewidth": 0,
              "ticks": ""
             }
            },
            "type": "scattermapbox"
           }
          ],
          "scatterpolar": [
           {
            "marker": {
             "colorbar": {
              "outlinewidth": 0,
              "ticks": ""
             }
            },
            "type": "scatterpolar"
           }
          ],
          "scatterpolargl": [
           {
            "marker": {
             "colorbar": {
              "outlinewidth": 0,
              "ticks": ""
             }
            },
            "type": "scatterpolargl"
           }
          ],
          "scatterternary": [
           {
            "marker": {
             "colorbar": {
              "outlinewidth": 0,
              "ticks": ""
             }
            },
            "type": "scatterternary"
           }
          ],
          "surface": [
           {
            "colorbar": {
             "outlinewidth": 0,
             "ticks": ""
            },
            "colorscale": [
             [
              0,
              "#0d0887"
             ],
             [
              0.1111111111111111,
              "#46039f"
             ],
             [
              0.2222222222222222,
              "#7201a8"
             ],
             [
              0.3333333333333333,
              "#9c179e"
             ],
             [
              0.4444444444444444,
              "#bd3786"
             ],
             [
              0.5555555555555556,
              "#d8576b"
             ],
             [
              0.6666666666666666,
              "#ed7953"
             ],
             [
              0.7777777777777778,
              "#fb9f3a"
             ],
             [
              0.8888888888888888,
              "#fdca26"
             ],
             [
              1,
              "#f0f921"
             ]
            ],
            "type": "surface"
           }
          ],
          "table": [
           {
            "cells": {
             "fill": {
              "color": "#EBF0F8"
             },
             "line": {
              "color": "white"
             }
            },
            "header": {
             "fill": {
              "color": "#C8D4E3"
             },
             "line": {
              "color": "white"
             }
            },
            "type": "table"
           }
          ]
         },
         "layout": {
          "annotationdefaults": {
           "arrowcolor": "#2a3f5f",
           "arrowhead": 0,
           "arrowwidth": 1
          },
          "autotypenumbers": "strict",
          "coloraxis": {
           "colorbar": {
            "outlinewidth": 0,
            "ticks": ""
           }
          },
          "colorscale": {
           "diverging": [
            [
             0,
             "#8e0152"
            ],
            [
             0.1,
             "#c51b7d"
            ],
            [
             0.2,
             "#de77ae"
            ],
            [
             0.3,
             "#f1b6da"
            ],
            [
             0.4,
             "#fde0ef"
            ],
            [
             0.5,
             "#f7f7f7"
            ],
            [
             0.6,
             "#e6f5d0"
            ],
            [
             0.7,
             "#b8e186"
            ],
            [
             0.8,
             "#7fbc41"
            ],
            [
             0.9,
             "#4d9221"
            ],
            [
             1,
             "#276419"
            ]
           ],
           "sequential": [
            [
             0,
             "#0d0887"
            ],
            [
             0.1111111111111111,
             "#46039f"
            ],
            [
             0.2222222222222222,
             "#7201a8"
            ],
            [
             0.3333333333333333,
             "#9c179e"
            ],
            [
             0.4444444444444444,
             "#bd3786"
            ],
            [
             0.5555555555555556,
             "#d8576b"
            ],
            [
             0.6666666666666666,
             "#ed7953"
            ],
            [
             0.7777777777777778,
             "#fb9f3a"
            ],
            [
             0.8888888888888888,
             "#fdca26"
            ],
            [
             1,
             "#f0f921"
            ]
           ],
           "sequentialminus": [
            [
             0,
             "#0d0887"
            ],
            [
             0.1111111111111111,
             "#46039f"
            ],
            [
             0.2222222222222222,
             "#7201a8"
            ],
            [
             0.3333333333333333,
             "#9c179e"
            ],
            [
             0.4444444444444444,
             "#bd3786"
            ],
            [
             0.5555555555555556,
             "#d8576b"
            ],
            [
             0.6666666666666666,
             "#ed7953"
            ],
            [
             0.7777777777777778,
             "#fb9f3a"
            ],
            [
             0.8888888888888888,
             "#fdca26"
            ],
            [
             1,
             "#f0f921"
            ]
           ]
          },
          "colorway": [
           "#636efa",
           "#EF553B",
           "#00cc96",
           "#ab63fa",
           "#FFA15A",
           "#19d3f3",
           "#FF6692",
           "#B6E880",
           "#FF97FF",
           "#FECB52"
          ],
          "font": {
           "color": "#2a3f5f"
          },
          "geo": {
           "bgcolor": "white",
           "lakecolor": "white",
           "landcolor": "#E5ECF6",
           "showlakes": true,
           "showland": true,
           "subunitcolor": "white"
          },
          "hoverlabel": {
           "align": "left"
          },
          "hovermode": "closest",
          "mapbox": {
           "style": "light"
          },
          "paper_bgcolor": "white",
          "plot_bgcolor": "#E5ECF6",
          "polar": {
           "angularaxis": {
            "gridcolor": "white",
            "linecolor": "white",
            "ticks": ""
           },
           "bgcolor": "#E5ECF6",
           "radialaxis": {
            "gridcolor": "white",
            "linecolor": "white",
            "ticks": ""
           }
          },
          "scene": {
           "xaxis": {
            "backgroundcolor": "#E5ECF6",
            "gridcolor": "white",
            "gridwidth": 2,
            "linecolor": "white",
            "showbackground": true,
            "ticks": "",
            "zerolinecolor": "white"
           },
           "yaxis": {
            "backgroundcolor": "#E5ECF6",
            "gridcolor": "white",
            "gridwidth": 2,
            "linecolor": "white",
            "showbackground": true,
            "ticks": "",
            "zerolinecolor": "white"
           },
           "zaxis": {
            "backgroundcolor": "#E5ECF6",
            "gridcolor": "white",
            "gridwidth": 2,
            "linecolor": "white",
            "showbackground": true,
            "ticks": "",
            "zerolinecolor": "white"
           }
          },
          "shapedefaults": {
           "line": {
            "color": "#2a3f5f"
           }
          },
          "ternary": {
           "aaxis": {
            "gridcolor": "white",
            "linecolor": "white",
            "ticks": ""
           },
           "baxis": {
            "gridcolor": "white",
            "linecolor": "white",
            "ticks": ""
           },
           "bgcolor": "#E5ECF6",
           "caxis": {
            "gridcolor": "white",
            "linecolor": "white",
            "ticks": ""
           }
          },
          "title": {
           "x": 0.05
          },
          "xaxis": {
           "automargin": true,
           "gridcolor": "white",
           "linecolor": "white",
           "ticks": "",
           "title": {
            "standoff": 15
           },
           "zerolinecolor": "white",
           "zerolinewidth": 2
          },
          "yaxis": {
           "automargin": true,
           "gridcolor": "white",
           "linecolor": "white",
           "ticks": "",
           "title": {
            "standoff": 15
           },
           "zerolinecolor": "white",
           "zerolinewidth": 2
          }
         }
        },
        "title": {
         "text": "Model Performance Metrics - Training vs Validation"
        },
        "xaxis": {
         "anchor": "y",
         "domain": [
          0,
          0.2822222222222222
         ]
        },
        "xaxis2": {
         "anchor": "y2",
         "domain": [
          0.34888888888888886,
          0.6311111111111111
         ]
        },
        "xaxis3": {
         "anchor": "y3",
         "domain": [
          0.6977777777777777,
          0.98
         ]
        },
        "xaxis4": {
         "anchor": "y4",
         "domain": [
          0,
          0.2822222222222222
         ]
        },
        "xaxis5": {
         "anchor": "y5",
         "domain": [
          0.34888888888888886,
          0.6311111111111111
         ]
        },
        "xaxis6": {
         "anchor": "y6",
         "domain": [
          0.6977777777777777,
          0.98
         ]
        },
        "yaxis": {
         "anchor": "x",
         "domain": [
          0.55,
          1
         ]
        },
        "yaxis2": {
         "anchor": "x2",
         "domain": [
          0.55,
          1
         ]
        },
        "yaxis3": {
         "anchor": "x3",
         "domain": [
          0.55,
          1
         ]
        },
        "yaxis4": {
         "anchor": "x4",
         "domain": [
          0,
          0.45
         ]
        },
        "yaxis5": {
         "anchor": "x5",
         "domain": [
          0,
          0.45
         ]
        },
        "yaxis6": {
         "anchor": "x6",
         "domain": [
          0,
          0.45
         ]
        }
       }
      }
     },
     "metadata": {},
     "output_type": "display_data"
    },
    {
     "name": "stdout",
     "output_type": "stream",
     "text": [
      "| Model   |   CV Score |\n",
      "|---------|------------|\n",
      "| KNN     |     0.7539 |\n",
      "| LR      |     0.7759 |\n",
      "| SVC     |     0.7692 |\n",
      "| RF      |     0.7675 |\n"
     ]
    }
   ],
   "source": [
    "# Metric detail on folds\n",
    "fig = make_subplots(\n",
    "    rows=2, cols=3,\n",
    "    subplot_titles=('Precision', 'Recall', 'F-Beta', 'Precision', 'Recall', 'F-Beta'),\n",
    "    row_titles=['Training', 'Validation'],\n",
    "    vertical_spacing=0.1\n",
    ")\n",
    "\n",
    "model_colors = {'KNN': 'blue', 'LR': 'red', 'SVC': 'green', 'RF': 'orange'}\n",
    "\n",
    "fold_scores_dict = {\n",
    "    'KNN': knn.cv_scores,\n",
    "    'LR': lr.cv_scores,\n",
    "    'SVC': svc.cv_scores,\n",
    "    'RF': rf.cv_scores\n",
    "}\n",
    "\n",
    "for i, model in enumerate(['KNN', 'LR', 'SVC', 'RF']):\n",
    "    fold_scores = fold_scores_dict[model]\n",
    "    \n",
    "    for j, metric in enumerate(['precision', 'recall', 'F0.5']):\n",
    "        fig.add_trace(\n",
    "            go.Scatter(\n",
    "                x=list(range(len(fold_scores['train'][metric]))),\n",
    "                y=fold_scores['train'][metric],\n",
    "                mode='markers+lines',\n",
    "                name=model,\n",
    "                marker_color=model_colors[model],\n",
    "                legendgroup=model,\n",
    "                showlegend=(j == 0)\n",
    "            ),\n",
    "            row=1, col=j+1\n",
    "        )\n",
    "\n",
    "    for j, metric in enumerate(['precision', 'recall', 'F0.5']):\n",
    "        fig.add_trace(\n",
    "            go.Scatter(\n",
    "                x=list(range(len(fold_scores['valid'][metric]))),\n",
    "                y=fold_scores['valid'][metric],\n",
    "                mode='markers+lines',\n",
    "                name=model,\n",
    "                marker_color=model_colors[model],\n",
    "                legendgroup=model,\n",
    "                showlegend=False\n",
    "            ),\n",
    "            row=2, col=j+1\n",
    "        )\n",
    "\n",
    "fig.update_layout(\n",
    "    title=\"Model Performance Metrics - Training vs Validation\",\n",
    "    height=600\n",
    ")\n",
    "\n",
    "fig.show()\n",
    "\n",
    "# Average scores on validation set\n",
    "cv_scores_summary = {\n",
    "    'Model': ['KNN', 'LR', 'SVC', 'RF'],\n",
    "    'CV Score': [knn_cv_score, lr_cv_score, svc_cv_score, rf_cv_score]\n",
    "}\n",
    "\n",
    "cv_scores_df = pd.DataFrame(cv_scores_summary)\n",
    "print(tabulate(cv_scores_df, headers='keys', tablefmt='github', floatfmt='.4f', showindex=False))"
   ]
  },
  {
   "cell_type": "markdown",
   "id": "7e227131",
   "metadata": {},
   "source": [
    "During validation, all models are seeing their metrics dropping on the third and forth folds (especially for recall), which I think is due to a **shift in distribution** of some features. However the diversity observed in curves highlight models are learning (without significant over-fitting)! <br>\n",
    "In particular **KNN** seems really good at finding potential \"good\" athletes (**recall** > precision even with beta < 1) and **other models** at finding real \"good\" athletes (**precision** > recall). <br>\n",
    "**Logistic Regression** is showing very good learning in terms of **precision** and has the **best average cross validation score** : I choose this model as the classifier to be put in production."
   ]
  },
  {
   "cell_type": "code",
   "execution_count": 14,
   "id": "3fa54135",
   "metadata": {},
   "outputs": [
    {
     "name": "stdout",
     "output_type": "stream",
     "text": [
      "| Model   |   Precision |   Recall |   F0.5 Score |\n",
      "|---------|-------------|----------|--------------|\n",
      "| KNN     |      0.7706 |   0.8137 |       0.7788 |\n",
      "| LR      |      0.8333 |   0.7453 |       0.8141 |\n",
      "| SVC     |      0.8357 |   0.7267 |       0.8114 |\n",
      "| RF      |      0.8156 |   0.7143 |       0.7931 |\n"
     ]
    }
   ],
   "source": [
    "# Test set evaluation\n",
    "lr.fit(X_train_filtered_capped, y_train_filtered_capped)\n",
    "knn.fit(X_train_filtered_capped, y_train_filtered_capped)\n",
    "svc.fit(X_train_filtered_capped, y_train_filtered_capped)\n",
    "rf.fit(X_train_filtered, y_train_filtered)\n",
    "\n",
    "lr_test_scores = lr.evaluate(X_test_filtered_capped, y_test_filtered_capped)\n",
    "knn_test_scores = knn.evaluate(X_test_filtered_capped, y_test_filtered_capped)\n",
    "svc_test_scores = svc.evaluate(X_test_filtered_capped, y_test_filtered_capped)\n",
    "rf_test_scores = rf.evaluate(X_test_filtered, y_test_filtered)\n",
    "\n",
    "lr_test_scores\n",
    "\n",
    "# Create a summary table with test set metrics for all models\n",
    "test_scores_summary = {\n",
    "    'Model': ['KNN', 'LR', 'SVC', 'RF'],\n",
    "    'Precision': [knn_test_scores['precision'], lr_test_scores['precision'], \n",
    "                  svc_test_scores['precision'], rf_test_scores['precision']],\n",
    "    'Recall': [knn_test_scores['recall'], lr_test_scores['recall'], \n",
    "               svc_test_scores['recall'], rf_test_scores['recall']],\n",
    "    'F0.5 Score': [knn_test_scores['F0.5'], lr_test_scores['F0.5'], \n",
    "                   svc_test_scores['F0.5'], rf_test_scores['F0.5']]\n",
    "}\n",
    "\n",
    "test_scores_df = pd.DataFrame(test_scores_summary)\n",
    "print(tabulate(test_scores_df, headers='keys', tablefmt='github', floatfmt='.4f', showindex=False))"
   ]
  },
  {
   "cell_type": "markdown",
   "id": "09ae3495",
   "metadata": {},
   "source": [
    "Good generalisation of all models as expected (metrics close to what obtained during validation). Logistic Regression is showing the best score, conforting our approach !"
   ]
  }
 ],
 "metadata": {
  "kernelspec": {
   "display_name": "nba",
   "language": "python",
   "name": "python3"
  },
  "language_info": {
   "codemirror_mode": {
    "name": "ipython",
    "version": 3
   },
   "file_extension": ".py",
   "mimetype": "text/x-python",
   "name": "python",
   "nbconvert_exporter": "python",
   "pygments_lexer": "ipython3",
   "version": "3.11.13"
  }
 },
 "nbformat": 4,
 "nbformat_minor": 5
}
